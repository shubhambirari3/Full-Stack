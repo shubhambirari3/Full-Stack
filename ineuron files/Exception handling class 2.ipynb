{
 "cells": [
  {
   "cell_type": "code",
   "execution_count": 2,
   "metadata": {},
   "outputs": [
    {
     "data": {
      "text/plain": [
       "0.5"
      ]
     },
     "execution_count": 2,
     "metadata": {},
     "output_type": "execute_result"
    }
   ],
   "source": [
    "a = 5\n",
    "a/10"
   ]
  },
  {
   "cell_type": "code",
   "execution_count": 1,
   "metadata": {},
   "outputs": [
    {
     "name": "stdout",
     "output_type": "stream",
     "text": [
      " Volume in drive C is Windows\n",
      " Volume Serial Number is 7293-F0DC\n",
      "\n",
      " Directory of C:\\Users\\shubh\n",
      "\n",
      "22/01/2022  10:17 AM    <DIR>          .\n",
      "29/10/2021  02:41 PM    <DIR>          ..\n",
      "22/12/2021  08:55 PM    <DIR>          .conda\n",
      "04/12/2021  10:20 AM                25 .condarc\n",
      "04/12/2021  10:20 AM    <DIR>          .continuum\n",
      "17/01/2022  12:25 PM    <DIR>          .ipynb_checkpoints\n",
      "04/12/2021  10:54 AM    <DIR>          .ipython\n",
      "20/12/2021  07:48 PM    <DIR>          .jupyter\n",
      "07/11/2021  11:49 PM    <DIR>          .Ld2VirtualBox\n",
      "22/01/2022  10:17 AM    <DIR>          .matplotlib\n",
      "22/01/2022  10:17 AM    <DIR>          .spyder-py3\n",
      "31/10/2021  12:32 PM             6,893 -1.14-windows.xml\n",
      "03/12/2021  12:51 PM    <DIR>          103419079040931888859\n",
      "28/10/2021  02:53 PM    <DIR>          3D Objects\n",
      "23/12/2021  09:54 PM           102,264 abcd.ipynb\n",
      "22/12/2021  08:50 PM    <DIR>          anaconda3\n",
      "29/10/2021  02:55 PM    <DIR>          Contacts\n",
      "28/10/2021  02:57 PM    <DIR>          Documents\n",
      "22/01/2022  10:17 AM    <DIR>          Downloads\n",
      "16/01/2022  11:46 AM            13,282 Exception handling class 1.ipynb\n",
      "18/01/2022  01:45 PM            37,775 Exception handling class 2.ipynb\n",
      "29/10/2021  02:55 PM    <DIR>          Favorites\n",
      "07/01/2022  08:53 PM            28,121 for loops while loop (1).ipynb\n",
      "15/01/2022  08:10 PM            60,003 Function continued.ipynb\n",
      "15/01/2022  10:02 PM             3,040 google.txt\n",
      "07/01/2022  07:15 PM            52,292 if else , for loop.ipynb\n",
      "09/01/2022  01:04 PM            45,933 iterable,gernator,8,9-1.ipynb\n",
      "15/01/2022  10:05 PM        21,692,161 iterator generator.ipynb\n",
      "29/10/2021  02:55 PM    <DIR>          Links\n",
      "15/11/2021  04:49 PM    <DIR>          Music\n",
      "03/12/2021  12:53 PM    <DIR>          My Drive\n",
      "29/10/2021  02:52 PM    <DIR>          OneDrive\n",
      "08/01/2022  10:08 AM            50,871 practice problem python basic.ipynb\n",
      "07/01/2022  01:33 PM            75,627 Python basic (3).ipynb\n",
      "29/10/2021  02:55 PM    <DIR>          Saved Games\n",
      "29/10/2021  02:55 PM    <DIR>          Searches\n",
      "18/01/2022  01:42 PM               310 test.log\n",
      "16/01/2022  11:12 AM                 7 test.txt\n",
      "15/01/2022  09:35 PM               286 test1.txt\n",
      "15/01/2022  09:43 PM                39 test5.txt\n",
      "07/01/2022  02:33 PM            57,593 Tuples , set , dict .ipynb\n",
      "29/10/2021  02:55 PM    <DIR>          Videos\n",
      "              18 File(s)     22,226,522 bytes\n",
      "              24 Dir(s)  87,978,180,608 bytes free\n"
     ]
    }
   ],
   "source": [
    "ls"
   ]
  },
  {
   "cell_type": "code",
   "execution_count": 2,
   "metadata": {},
   "outputs": [
    {
     "name": "stdout",
     "output_type": "stream",
     "text": [
      " Volume in drive C is Windows\n",
      " Volume Serial Number is 7293-F0DC\n",
      "\n",
      " Directory of C:\\Users\\shubh\n",
      "\n",
      "22/01/2022  10:30 AM    <DIR>          .\n",
      "29/10/2021  02:41 PM    <DIR>          ..\n",
      "22/12/2021  08:55 PM    <DIR>          .conda\n",
      "04/12/2021  10:20 AM                25 .condarc\n",
      "04/12/2021  10:20 AM    <DIR>          .continuum\n",
      "17/01/2022  12:25 PM    <DIR>          .ipynb_checkpoints\n",
      "04/12/2021  10:54 AM    <DIR>          .ipython\n",
      "20/12/2021  07:48 PM    <DIR>          .jupyter\n",
      "07/11/2021  11:49 PM    <DIR>          .Ld2VirtualBox\n",
      "22/01/2022  10:17 AM    <DIR>          .matplotlib\n",
      "22/01/2022  10:17 AM    <DIR>          .spyder-py3\n",
      "31/10/2021  12:32 PM             6,893 -1.14-windows.xml\n",
      "03/12/2021  12:51 PM    <DIR>          103419079040931888859\n",
      "28/10/2021  02:53 PM    <DIR>          3D Objects\n",
      "23/12/2021  09:54 PM           102,264 abcd.ipynb\n",
      "22/12/2021  08:50 PM    <DIR>          anaconda3\n",
      "29/10/2021  02:55 PM    <DIR>          Contacts\n",
      "28/10/2021  02:57 PM    <DIR>          Documents\n",
      "22/01/2022  10:17 AM    <DIR>          Downloads\n",
      "16/01/2022  11:46 AM            13,282 Exception handling class 1.ipynb\n",
      "22/01/2022  10:30 AM            40,861 Exception handling class 2.ipynb\n",
      "29/10/2021  02:55 PM    <DIR>          Favorites\n",
      "07/01/2022  08:53 PM            28,121 for loops while loop (1).ipynb\n",
      "15/01/2022  08:10 PM            60,003 Function continued.ipynb\n",
      "15/01/2022  10:02 PM             3,040 google.txt\n",
      "07/01/2022  07:15 PM            52,292 if else , for loop.ipynb\n",
      "09/01/2022  01:04 PM            45,933 iterable,gernator,8,9-1.ipynb\n",
      "15/01/2022  10:05 PM        21,692,161 iterator generator.ipynb\n",
      "29/10/2021  02:55 PM    <DIR>          Links\n",
      "15/11/2021  04:49 PM    <DIR>          Music\n",
      "03/12/2021  12:53 PM    <DIR>          My Drive\n",
      "29/10/2021  02:52 PM    <DIR>          OneDrive\n",
      "08/01/2022  10:08 AM            50,871 practice problem python basic.ipynb\n",
      "07/01/2022  01:33 PM            75,627 Python basic (3).ipynb\n",
      "29/10/2021  02:55 PM    <DIR>          Saved Games\n",
      "29/10/2021  02:55 PM    <DIR>          Searches\n",
      "18/01/2022  01:42 PM               310 test.log\n",
      "16/01/2022  11:12 AM                 7 test.txt\n",
      "22/01/2022  10:29 AM                 0 test1.py\n",
      "15/01/2022  09:35 PM               286 test1.txt\n",
      "15/01/2022  09:43 PM                39 test5.txt\n",
      "07/01/2022  02:33 PM            57,593 Tuples , set , dict .ipynb\n",
      "29/10/2021  02:55 PM    <DIR>          Videos\n",
      "              19 File(s)     22,229,608 bytes\n",
      "              24 Dir(s)  87,977,762,816 bytes free\n"
     ]
    }
   ],
   "source": [
    "ls"
   ]
  },
  {
   "cell_type": "code",
   "execution_count": null,
   "metadata": {},
   "outputs": [],
   "source": []
  },
  {
   "cell_type": "code",
   "execution_count": 4,
   "metadata": {},
   "outputs": [
    {
     "ename": "ZeroDivisionError",
     "evalue": "division by zero",
     "output_type": "error",
     "traceback": [
      "\u001b[1;31m---------------------------------------------------------------------------\u001b[0m",
      "\u001b[1;31mZeroDivisionError\u001b[0m                         Traceback (most recent call last)",
      "\u001b[1;32m<ipython-input-4-e44be63d6c6b>\u001b[0m in \u001b[0;36m<module>\u001b[1;34m\u001b[0m\n\u001b[1;32m----> 1\u001b[1;33m \u001b[0ma\u001b[0m\u001b[1;33m/\u001b[0m\u001b[1;36m0\u001b[0m\u001b[1;33m\u001b[0m\u001b[1;33m\u001b[0m\u001b[0m\n\u001b[0m\u001b[0;32m      2\u001b[0m \u001b[0mprint\u001b[0m\u001b[1;33m(\u001b[0m\u001b[1;34m\"this is my prog\"\u001b[0m\u001b[1;33m)\u001b[0m\u001b[1;33m\u001b[0m\u001b[1;33m\u001b[0m\u001b[0m\n",
      "\u001b[1;31mZeroDivisionError\u001b[0m: division by zero"
     ]
    }
   ],
   "source": [
    "a/0\n",
    "print(\"this is my prog\")"
   ]
  },
  {
   "cell_type": "code",
   "execution_count": 14,
   "metadata": {},
   "outputs": [
    {
     "name": "stdout",
     "output_type": "stream",
     "text": [
      "kjhkhkh\n"
     ]
    },
    {
     "ename": "ValueError",
     "evalue": "invalid literal for int() with base 10: 'kjhkhkh'",
     "output_type": "error",
     "traceback": [
      "\u001b[1;31m---------------------------------------------------------------------------\u001b[0m",
      "\u001b[1;31mValueError\u001b[0m                                Traceback (most recent call last)",
      "\u001b[1;32m<ipython-input-14-a1585f436dde>\u001b[0m in \u001b[0;36m<module>\u001b[1;34m\u001b[0m\n\u001b[0;32m      1\u001b[0m \u001b[0ma\u001b[0m \u001b[1;33m=\u001b[0m \u001b[1;36m5\u001b[0m\u001b[1;33m\u001b[0m\u001b[1;33m\u001b[0m\u001b[0m\n\u001b[1;32m----> 2\u001b[1;33m \u001b[0mb\u001b[0m \u001b[1;33m=\u001b[0m \u001b[0mint\u001b[0m\u001b[1;33m(\u001b[0m\u001b[0minput\u001b[0m\u001b[1;33m(\u001b[0m\u001b[1;33m)\u001b[0m\u001b[1;33m)\u001b[0m\u001b[1;33m\u001b[0m\u001b[1;33m\u001b[0m\u001b[0m\n\u001b[0m\u001b[0;32m      3\u001b[0m \u001b[0ma\u001b[0m\u001b[1;33m/\u001b[0m\u001b[0mb\u001b[0m\u001b[1;33m\u001b[0m\u001b[1;33m\u001b[0m\u001b[0m\n",
      "\u001b[1;31mValueError\u001b[0m: invalid literal for int() with base 10: 'kjhkhkh'"
     ]
    }
   ],
   "source": [
    "a = 5\n",
    "b = int(input())\n",
    "a/b"
   ]
  },
  {
   "cell_type": "code",
   "execution_count": 18,
   "metadata": {},
   "outputs": [
    {
     "ename": "UnsupportedOperation",
     "evalue": "not writable",
     "output_type": "error",
     "traceback": [
      "\u001b[1;31m---------------------------------------------------------------------------\u001b[0m",
      "\u001b[1;31mUnsupportedOperation\u001b[0m                      Traceback (most recent call last)",
      "\u001b[1;32m<ipython-input-18-d2c18f229175>\u001b[0m in \u001b[0;36m<module>\u001b[1;34m\u001b[0m\n\u001b[0;32m      1\u001b[0m \u001b[0mf\u001b[0m \u001b[1;33m=\u001b[0m \u001b[0mopen\u001b[0m\u001b[1;33m(\u001b[0m\u001b[1;34m\"test.txt\"\u001b[0m \u001b[1;33m,\u001b[0m \u001b[1;34m\"r\"\u001b[0m\u001b[1;33m)\u001b[0m\u001b[1;33m\u001b[0m\u001b[1;33m\u001b[0m\u001b[0m\n\u001b[1;32m----> 2\u001b[1;33m \u001b[0mf\u001b[0m\u001b[1;33m.\u001b[0m\u001b[0mwrite\u001b[0m\u001b[1;33m(\u001b[0m\u001b[1;34m\"fsadffsdff fsaf dsaf\"\u001b[0m\u001b[1;33m)\u001b[0m\u001b[1;33m\u001b[0m\u001b[1;33m\u001b[0m\u001b[0m\n\u001b[0m\u001b[0;32m      3\u001b[0m \u001b[0mprint\u001b[0m\u001b[1;33m(\u001b[0m\u001b[1;34m\"this is my code \"\u001b[0m\u001b[1;33m)\u001b[0m\u001b[1;33m\u001b[0m\u001b[1;33m\u001b[0m\u001b[0m\n",
      "\u001b[1;31mUnsupportedOperation\u001b[0m: not writable"
     ]
    }
   ],
   "source": [
    "f = open(\"test.txt\" , \"r\")\n",
    "f.write(\"fsadffsdff fsaf dsaf\")\n",
    "print(\"this is my code \")"
   ]
  },
  {
   "cell_type": "code",
   "execution_count": 17,
   "metadata": {},
   "outputs": [
    {
     "name": "stdout",
     "output_type": "stream",
     "text": [
      "there was mistake \n",
      "this is my code \n"
     ]
    }
   ],
   "source": [
    "try:\n",
    "    f = open('test.txt' , \" r\")\n",
    "    f.write(\"fdsfds\")\n",
    "except:\n",
    "    print(\"there was mistake \")\n",
    "print(\"this is my code \")\n",
    "\n"
   ]
  },
  {
   "cell_type": "code",
   "execution_count": 19,
   "metadata": {},
   "outputs": [
    {
     "ename": "SyntaxError",
     "evalue": "unexpected EOF while parsing (<ipython-input-19-f75f89518141>, line 3)",
     "output_type": "error",
     "traceback": [
      "\u001b[1;36m  File \u001b[1;32m\"<ipython-input-19-f75f89518141>\"\u001b[1;36m, line \u001b[1;32m3\u001b[0m\n\u001b[1;33m    f.write(\"fdsfds\")\u001b[0m\n\u001b[1;37m                     ^\u001b[0m\n\u001b[1;31mSyntaxError\u001b[0m\u001b[1;31m:\u001b[0m unexpected EOF while parsing\n"
     ]
    }
   ],
   "source": [
    "try:\n",
    "    f = open('test.txt' , \" r\")\n",
    "    f.write(\"fdsfds\")"
   ]
  },
  {
   "cell_type": "code",
   "execution_count": 21,
   "metadata": {},
   "outputs": [
    {
     "ename": "SyntaxError",
     "evalue": "invalid syntax (<ipython-input-21-c60ceedc4940>, line 4)",
     "output_type": "error",
     "traceback": [
      "\u001b[1;36m  File \u001b[1;32m\"<ipython-input-21-c60ceedc4940>\"\u001b[1;36m, line \u001b[1;32m4\u001b[0m\n\u001b[1;33m    for i range(len(l)) :\u001b[0m\n\u001b[1;37m          ^\u001b[0m\n\u001b[1;31mSyntaxError\u001b[0m\u001b[1;31m:\u001b[0m invalid syntax\n"
     ]
    }
   ],
   "source": [
    "l = [4,5,6,7,8,8,9,0]\n",
    "try :\n",
    "    \n",
    "    for i in range(len(l)) : \n",
    "        print(l)\n",
    "except:\n",
    "    print(\"this is my code\")"
   ]
  },
  {
   "cell_type": "code",
   "execution_count": 34,
   "metadata": {},
   "outputs": [
    {
     "name": "stdout",
     "output_type": "stream",
     "text": [
      "4\n",
      "5\n",
      "6\n",
      "7\n",
      "8\n",
      "8\n",
      "9\n",
      "0\n",
      "list index out of range\n",
      "fdsfdsdf dsf sfsd \n"
     ]
    }
   ],
   "source": [
    "l = [4,5,6,7,8,8,9,0]\n",
    "try:\n",
    "    \n",
    "    for i in range(len(l)+1) : \n",
    "        print(l[i])\n",
    "except Exception as e :\n",
    "    print( e)\n",
    "print(\"fdsfdsdf dsf sfsd \")"
   ]
  },
  {
   "cell_type": "code",
   "execution_count": 30,
   "metadata": {},
   "outputs": [
    {
     "name": "stdout",
     "output_type": "stream",
     "text": [
      "4\n",
      "5\n",
      "6\n",
      "7\n",
      "8\n",
      "8\n",
      "9\n",
      "0\n"
     ]
    },
    {
     "ename": "IndexError",
     "evalue": "list index out of range",
     "output_type": "error",
     "traceback": [
      "\u001b[1;31m---------------------------------------------------------------------------\u001b[0m",
      "\u001b[1;31mIndexError\u001b[0m                                Traceback (most recent call last)",
      "\u001b[1;32m<ipython-input-30-2f23bc429005>\u001b[0m in \u001b[0;36m<module>\u001b[1;34m\u001b[0m\n\u001b[0;32m      2\u001b[0m \u001b[1;33m\u001b[0m\u001b[0m\n\u001b[0;32m      3\u001b[0m \u001b[1;32mfor\u001b[0m \u001b[0mi\u001b[0m \u001b[1;32min\u001b[0m \u001b[0mrange\u001b[0m\u001b[1;33m(\u001b[0m\u001b[0mlen\u001b[0m\u001b[1;33m(\u001b[0m\u001b[0ml\u001b[0m\u001b[1;33m)\u001b[0m\u001b[1;33m+\u001b[0m\u001b[1;36m1\u001b[0m\u001b[1;33m)\u001b[0m \u001b[1;33m:\u001b[0m\u001b[1;33m\u001b[0m\u001b[1;33m\u001b[0m\u001b[0m\n\u001b[1;32m----> 4\u001b[1;33m     \u001b[0mprint\u001b[0m\u001b[1;33m(\u001b[0m\u001b[0ml\u001b[0m\u001b[1;33m[\u001b[0m\u001b[0mi\u001b[0m\u001b[1;33m]\u001b[0m\u001b[1;33m)\u001b[0m\u001b[1;33m\u001b[0m\u001b[1;33m\u001b[0m\u001b[0m\n\u001b[0m",
      "\u001b[1;31mIndexError\u001b[0m: list index out of range"
     ]
    }
   ],
   "source": [
    "l = [4,5,6,7,8,8,9,0]\n",
    "\n",
    "for i in range(len(l)+1) : \n",
    "    print(l[i])"
   ]
  },
  {
   "cell_type": "code",
   "execution_count": 32,
   "metadata": {},
   "outputs": [
    {
     "ename": "ZeroDivisionError",
     "evalue": "division by zero",
     "output_type": "error",
     "traceback": [
      "\u001b[1;31m---------------------------------------------------------------------------\u001b[0m",
      "\u001b[1;31mZeroDivisionError\u001b[0m                         Traceback (most recent call last)",
      "\u001b[1;32m<ipython-input-32-0106664d39e8>\u001b[0m in \u001b[0;36m<module>\u001b[1;34m\u001b[0m\n\u001b[1;32m----> 1\u001b[1;33m \u001b[1;36m5\u001b[0m\u001b[1;33m/\u001b[0m\u001b[1;36m0\u001b[0m\u001b[1;33m\u001b[0m\u001b[1;33m\u001b[0m\u001b[0m\n\u001b[0m",
      "\u001b[1;31mZeroDivisionError\u001b[0m: division by zero"
     ]
    }
   ],
   "source": [
    "5/0"
   ]
  },
  {
   "cell_type": "code",
   "execution_count": 36,
   "metadata": {},
   "outputs": [
    {
     "name": "stdout",
     "output_type": "stream",
     "text": [
      "fdsf\n",
      "invalid literal for int() with base 10: 'fdsf'\n",
      "fsdfdsfsfsf\n"
     ]
    }
   ],
   "source": [
    "try :\n",
    "    a = int(input())\n",
    "    b = int(input())\n",
    "except Exception as e :\n",
    "    print(e)\n",
    "print(\"fsdfdsfsfsf\")"
   ]
  },
  {
   "cell_type": "code",
   "execution_count": 38,
   "metadata": {},
   "outputs": [
    {
     "name": "stdout",
     "output_type": "stream",
     "text": [
      "fsafsadf\n"
     ]
    }
   ],
   "source": [
    "print(\"fsafsadf\")"
   ]
  },
  {
   "cell_type": "code",
   "execution_count": 4,
   "metadata": {},
   "outputs": [
    {
     "name": "stdout",
     "output_type": "stream",
     "text": [
      "1244\n"
     ]
    }
   ],
   "source": [
    "a = str(input())"
   ]
  },
  {
   "cell_type": "code",
   "execution_count": 44,
   "metadata": {},
   "outputs": [
    {
     "name": "stdout",
     "output_type": "stream",
     "text": [
      "this is my handler\n",
      "1\n",
      "2\n",
      "3\n",
      "4\n",
      "5\n"
     ]
    }
   ],
   "source": [
    "try :\n",
    "    f = open(\"test1\" , 'r')\n",
    "    f.write(\"this is my code with expceptoi handling\")\n",
    "    print(\"this is my code after write ops\")\n",
    "except : \n",
    "    print(\"this is my handler\")\n",
    "try :\n",
    "    l = [1,2,3,4,5]\n",
    "    for i in l :\n",
    "        print(i)\n",
    "except:\n",
    "    print(\"this is a handler for for loop\")"
   ]
  },
  {
   "cell_type": "code",
   "execution_count": 9,
   "metadata": {},
   "outputs": [
    {
     "name": "stdout",
     "output_type": "stream",
     "text": [
      "tis is wrong\n",
      "this wwll work\n"
     ]
    }
   ],
   "source": [
    "try:\n",
    "    f= open(\"test1\",\"r\")\n",
    "    f.write('this is the sample ')\n",
    "    print(\"this is my code writetis\")\n",
    "except:\n",
    "        print(\"tis is wrong\")\n",
    "try:\n",
    "            l=[1,2,3,4]\n",
    "            for i in g:\n",
    "                print(i)   \n",
    "except:\n",
    "             print(\"this wwll work\")"
   ]
  },
  {
   "cell_type": "code",
   "execution_count": 42,
   "metadata": {},
   "outputs": [
    {
     "ename": "FileNotFoundError",
     "evalue": "[Errno 2] No such file or directory: 'test1'",
     "output_type": "error",
     "traceback": [
      "\u001b[1;31m---------------------------------------------------------------------------\u001b[0m",
      "\u001b[1;31mFileNotFoundError\u001b[0m                         Traceback (most recent call last)",
      "\u001b[1;32m<ipython-input-42-b44c6c99617d>\u001b[0m in \u001b[0;36m<module>\u001b[1;34m\u001b[0m\n\u001b[1;32m----> 1\u001b[1;33m \u001b[0mf\u001b[0m \u001b[1;33m=\u001b[0m \u001b[0mopen\u001b[0m\u001b[1;33m(\u001b[0m\u001b[1;34m\"test1\"\u001b[0m \u001b[1;33m,\u001b[0m \u001b[1;34m'r'\u001b[0m\u001b[1;33m)\u001b[0m\u001b[1;33m\u001b[0m\u001b[1;33m\u001b[0m\u001b[0m\n\u001b[0m\u001b[0;32m      2\u001b[0m \u001b[0mf\u001b[0m\u001b[1;33m.\u001b[0m\u001b[0mwrite\u001b[0m\u001b[1;33m(\u001b[0m\u001b[1;34m\"this is my code with expceptoi handling\"\u001b[0m\u001b[1;33m)\u001b[0m\u001b[1;33m\u001b[0m\u001b[1;33m\u001b[0m\u001b[0m\n\u001b[0;32m      3\u001b[0m \u001b[0mprint\u001b[0m\u001b[1;33m(\u001b[0m\u001b[1;34m\"this is my code after write ops\"\u001b[0m\u001b[1;33m)\u001b[0m\u001b[1;33m\u001b[0m\u001b[1;33m\u001b[0m\u001b[0m\n\u001b[0;32m      4\u001b[0m \u001b[0ml\u001b[0m \u001b[1;33m=\u001b[0m \u001b[1;33m[\u001b[0m\u001b[1;36m1\u001b[0m\u001b[1;33m,\u001b[0m\u001b[1;36m2\u001b[0m\u001b[1;33m,\u001b[0m\u001b[1;36m3\u001b[0m\u001b[1;33m,\u001b[0m\u001b[1;36m4\u001b[0m\u001b[1;33m,\u001b[0m\u001b[1;36m5\u001b[0m\u001b[1;33m]\u001b[0m\u001b[1;33m\u001b[0m\u001b[1;33m\u001b[0m\u001b[0m\n\u001b[0;32m      5\u001b[0m \u001b[1;32mfor\u001b[0m \u001b[0mi\u001b[0m \u001b[1;32min\u001b[0m \u001b[0ml\u001b[0m \u001b[1;33m:\u001b[0m\u001b[1;33m\u001b[0m\u001b[1;33m\u001b[0m\u001b[0m\n",
      "\u001b[1;31mFileNotFoundError\u001b[0m: [Errno 2] No such file or directory: 'test1'"
     ]
    }
   ],
   "source": [
    "f = open(\"test1\" , 'r')\n",
    "f.write(\"this is my code with expceptoi handling\")\n",
    "print(\"this is my code after write ops\")\n",
    "l = [1,2,3,4,5]\n",
    "for i in l :\n",
    "    print(i)"
   ]
  },
  {
   "cell_type": "code",
   "execution_count": 46,
   "metadata": {},
   "outputs": [
    {
     "name": "stdout",
     "output_type": "stream",
     "text": [
      "dsfafsa\n",
      "invalid literal for int() with base 10: 'dsfafsa'\n"
     ]
    }
   ],
   "source": [
    "try :\n",
    "    d= {\"key1\" : \"sudh\" , \"key2\" : [1,2,3,4,5] , \"key3\" : (4,5,6,7,78)}\n",
    "    d[\"key4\"] = int(input())\n",
    "except Exception as sudh :\n",
    "    print(sudh)"
   ]
  },
  {
   "cell_type": "code",
   "execution_count": 47,
   "metadata": {},
   "outputs": [
    {
     "name": "stdout",
     "output_type": "stream",
     "text": [
      "gsdfg\n"
     ]
    },
    {
     "ename": "ValueError",
     "evalue": "invalid literal for int() with base 10: 'gsdfg'",
     "output_type": "error",
     "traceback": [
      "\u001b[1;31m---------------------------------------------------------------------------\u001b[0m",
      "\u001b[1;31mValueError\u001b[0m                                Traceback (most recent call last)",
      "\u001b[1;32m<ipython-input-47-cb0017177423>\u001b[0m in \u001b[0;36m<module>\u001b[1;34m\u001b[0m\n\u001b[0;32m      1\u001b[0m \u001b[0md\u001b[0m\u001b[1;33m=\u001b[0m \u001b[1;33m{\u001b[0m\u001b[1;34m\"key1\"\u001b[0m \u001b[1;33m:\u001b[0m \u001b[1;34m\"sudh\"\u001b[0m \u001b[1;33m,\u001b[0m \u001b[1;34m\"key2\"\u001b[0m \u001b[1;33m:\u001b[0m \u001b[1;33m[\u001b[0m\u001b[1;36m1\u001b[0m\u001b[1;33m,\u001b[0m\u001b[1;36m2\u001b[0m\u001b[1;33m,\u001b[0m\u001b[1;36m3\u001b[0m\u001b[1;33m,\u001b[0m\u001b[1;36m4\u001b[0m\u001b[1;33m,\u001b[0m\u001b[1;36m5\u001b[0m\u001b[1;33m]\u001b[0m \u001b[1;33m,\u001b[0m \u001b[1;34m\"key3\"\u001b[0m \u001b[1;33m:\u001b[0m \u001b[1;33m(\u001b[0m\u001b[1;36m4\u001b[0m\u001b[1;33m,\u001b[0m\u001b[1;36m5\u001b[0m\u001b[1;33m,\u001b[0m\u001b[1;36m6\u001b[0m\u001b[1;33m,\u001b[0m\u001b[1;36m7\u001b[0m\u001b[1;33m,\u001b[0m\u001b[1;36m78\u001b[0m\u001b[1;33m)\u001b[0m\u001b[1;33m}\u001b[0m\u001b[1;33m\u001b[0m\u001b[1;33m\u001b[0m\u001b[0m\n\u001b[1;32m----> 2\u001b[1;33m \u001b[0md\u001b[0m\u001b[1;33m[\u001b[0m\u001b[1;34m\"key4\"\u001b[0m\u001b[1;33m]\u001b[0m \u001b[1;33m=\u001b[0m \u001b[0mint\u001b[0m\u001b[1;33m(\u001b[0m\u001b[0minput\u001b[0m\u001b[1;33m(\u001b[0m\u001b[1;33m)\u001b[0m\u001b[1;33m)\u001b[0m\u001b[1;33m\u001b[0m\u001b[1;33m\u001b[0m\u001b[0m\n\u001b[0m",
      "\u001b[1;31mValueError\u001b[0m: invalid literal for int() with base 10: 'gsdfg'"
     ]
    }
   ],
   "source": [
    "d= {\"key1\" : \"sudh\" , \"key2\" : [1,2,3,4,5] , \"key3\" : (4,5,6,7,78)}\n",
    "d[\"key4\"] = int(input())"
   ]
  },
  {
   "cell_type": "code",
   "execution_count": 48,
   "metadata": {},
   "outputs": [
    {
     "name": "stdout",
     "output_type": "stream",
     "text": [
      "fdsafsa\n",
      "invalid literal for int() with base 10: 'fdsafsa'\n"
     ]
    }
   ],
   "source": [
    "try :\n",
    "    d= {\"key1\" : \"sudh\" , \"key2\" : [1,2,3,4,5] , \"key3\" : (4,5,6,7,78)}\n",
    "    d[\"key4\"] = int(input())\n",
    "except ValueError as sudh :\n",
    "    print(sudh)"
   ]
  },
  {
   "cell_type": "code",
   "execution_count": 59,
   "metadata": {},
   "outputs": [
    {
     "name": "stdout",
     "output_type": "stream",
     "text": [
      "3455\n",
      "[Errno 2] No such file or directory: 'test2'\n"
     ]
    }
   ],
   "source": [
    "try :\n",
    "    d= {\"key1\" : \"sudh\" , \"key2\" : [1,2,3,4,5] , \"key3\" : (4,5,6,7,78)}\n",
    "    d[\"key4\"] = int(input())\n",
    "    f = open(\"test2\" , \"r\")\n",
    "\n",
    "except ValueError as sudh :\n",
    "    print(sudh)\n",
    "except FileNotFoundError as e :\n",
    "    print(e)\n",
    "except Exception as ee :\n",
    "    print(\"this is my exceptoin class \" , ee )"
   ]
  },
  {
   "cell_type": "code",
   "execution_count": 13,
   "metadata": {},
   "outputs": [
    {
     "name": "stdout",
     "output_type": "stream",
     "text": [
      "sdfdsf\n"
     ]
    },
    {
     "ename": "ValueError",
     "evalue": "invalid literal for int() with base 10: 'sdfdsf'",
     "output_type": "error",
     "traceback": [
      "\u001b[1;31m---------------------------------------------------------------------------\u001b[0m",
      "\u001b[1;31mValueError\u001b[0m                                Traceback (most recent call last)",
      "\u001b[1;32m~\\AppData\\Local\\Temp/ipykernel_6644/4013708683.py\u001b[0m in \u001b[0;36m<module>\u001b[1;34m\u001b[0m\n\u001b[0;32m      1\u001b[0m \u001b[1;32mtry\u001b[0m \u001b[1;33m:\u001b[0m\u001b[1;33m\u001b[0m\u001b[1;33m\u001b[0m\u001b[0m\n\u001b[0;32m      2\u001b[0m     \u001b[0md\u001b[0m\u001b[1;33m=\u001b[0m \u001b[1;33m{\u001b[0m\u001b[1;34m\"key1\"\u001b[0m \u001b[1;33m:\u001b[0m \u001b[1;34m\"sudh\"\u001b[0m \u001b[1;33m,\u001b[0m \u001b[1;34m\"key2\"\u001b[0m \u001b[1;33m:\u001b[0m \u001b[1;33m[\u001b[0m\u001b[1;36m1\u001b[0m\u001b[1;33m,\u001b[0m\u001b[1;36m2\u001b[0m\u001b[1;33m,\u001b[0m\u001b[1;36m3\u001b[0m\u001b[1;33m,\u001b[0m\u001b[1;36m4\u001b[0m\u001b[1;33m,\u001b[0m\u001b[1;36m5\u001b[0m\u001b[1;33m]\u001b[0m \u001b[1;33m,\u001b[0m \u001b[1;34m\"key3\"\u001b[0m \u001b[1;33m:\u001b[0m \u001b[1;33m(\u001b[0m\u001b[1;36m4\u001b[0m\u001b[1;33m,\u001b[0m\u001b[1;36m5\u001b[0m\u001b[1;33m,\u001b[0m\u001b[1;36m6\u001b[0m\u001b[1;33m,\u001b[0m\u001b[1;36m7\u001b[0m\u001b[1;33m,\u001b[0m\u001b[1;36m78\u001b[0m\u001b[1;33m)\u001b[0m\u001b[1;33m}\u001b[0m\u001b[1;33m\u001b[0m\u001b[1;33m\u001b[0m\u001b[0m\n\u001b[1;32m----> 3\u001b[1;33m     \u001b[0md\u001b[0m\u001b[1;33m[\u001b[0m\u001b[1;34m\"key4\"\u001b[0m\u001b[1;33m]\u001b[0m \u001b[1;33m=\u001b[0m \u001b[0mint\u001b[0m\u001b[1;33m(\u001b[0m\u001b[0minput\u001b[0m\u001b[1;33m(\u001b[0m\u001b[1;33m)\u001b[0m\u001b[1;33m)\u001b[0m\u001b[1;33m\u001b[0m\u001b[1;33m\u001b[0m\u001b[0m\n\u001b[0m\u001b[0;32m      4\u001b[0m     \u001b[0mf\u001b[0m \u001b[1;33m=\u001b[0m \u001b[0mopen\u001b[0m\u001b[1;33m(\u001b[0m\u001b[1;34m\"test2\"\u001b[0m \u001b[1;33m,\u001b[0m \u001b[1;34m\"r\"\u001b[0m\u001b[1;33m)\u001b[0m\u001b[1;33m\u001b[0m\u001b[1;33m\u001b[0m\u001b[0m\n\u001b[0;32m      5\u001b[0m \u001b[1;32mexcept\u001b[0m \u001b[0mFileNotFoundError\u001b[0m \u001b[1;32mas\u001b[0m \u001b[0msudh\u001b[0m \u001b[1;33m:\u001b[0m\u001b[1;33m\u001b[0m\u001b[1;33m\u001b[0m\u001b[0m\n",
      "\u001b[1;31mValueError\u001b[0m: invalid literal for int() with base 10: 'sdfdsf'"
     ]
    }
   ],
   "source": [
    "try :\n",
    "    d= {\"key1\" : \"sudh\" , \"key2\" : [1,2,3,4,5] , \"key3\" : (4,5,6,7,78)}\n",
    "    d[\"key4\"] = int(input())\n",
    "    f = open(\"test2\" , \"r\")\n",
    "except FileNotFoundError as sudh :\n",
    "    print(sudh)"
   ]
  },
  {
   "cell_type": "code",
   "execution_count": 14,
   "metadata": {},
   "outputs": [
    {
     "name": "stdout",
     "output_type": "stream",
     "text": [
      "this will handle an error  not writable\n"
     ]
    }
   ],
   "source": [
    "try :\n",
    "    f = open(\"test5.txt\" , \"r\")\n",
    "    f.write(\"this is my code in try \")\n",
    "except Exception as e :\n",
    "    print(\"this will handle an error \" ,e) \n",
    "else : \n",
    "    print(\"this will execute once my try block will be executed succesfully\")\n",
    "    f.close()"
   ]
  },
  {
   "cell_type": "code",
   "execution_count": 67,
   "metadata": {},
   "outputs": [
    {
     "name": "stdout",
     "output_type": "stream",
     "text": [
      "do this on succesfull eectuion of try block \n",
      "do this for sure\n",
      "handle this \n",
      "it will come to this block for sure \n"
     ]
    }
   ],
   "source": [
    "try :\n",
    "    f = open(\"test43.txt\" , 'w')\n",
    "except Exception as e : \n",
    "    print(\"sdfsdfsfsdfsfds\" , e)\n",
    "else:\n",
    "    print(\"do this on succesfull eectuion of try block \")\n",
    "finally : \n",
    "    print(\"do this for sure\")\n",
    "    try : \n",
    "        \n",
    "        f = open(\"dfsfssdf\" , 'r')\n",
    "    except : \n",
    "         print(\"handle this \")\n",
    "    finally:\n",
    "        print(\"it will come to this block for sure \")"
   ]
  },
  {
   "cell_type": "code",
   "execution_count": null,
   "metadata": {},
   "outputs": [],
   "source": []
  },
  {
   "cell_type": "code",
   "execution_count": 77,
   "metadata": {},
   "outputs": [],
   "source": [
    "def askint():\n",
    "    try :\n",
    "        a = int(input())\n",
    "        return a \n",
    "    except Exception as e :\n",
    "        print(\"this is my input error \" ,e )"
   ]
  },
  {
   "cell_type": "code",
   "execution_count": 78,
   "metadata": {},
   "outputs": [
    {
     "name": "stdout",
     "output_type": "stream",
     "text": [
      "8866\n"
     ]
    },
    {
     "data": {
      "text/plain": [
       "8866"
      ]
     },
     "execution_count": 78,
     "metadata": {},
     "output_type": "execute_result"
    }
   ],
   "source": [
    "askint()"
   ]
  },
  {
   "cell_type": "code",
   "execution_count": 79,
   "metadata": {},
   "outputs": [
    {
     "name": "stdout",
     "output_type": "stream",
     "text": [
      "khjjhhkjhjkkjhkjjk\n",
      "this is my input error  invalid literal for int() with base 10: 'khjjhhkjhjkkjhkjjk'\n"
     ]
    }
   ],
   "source": [
    "askint()"
   ]
  },
  {
   "cell_type": "code",
   "execution_count": null,
   "metadata": {},
   "outputs": [
    {
     "name": "stdout",
     "output_type": "stream",
     "text": [
      "enter the interger:fsdfsf\n",
      "Nah, you did not enter an integer, please enter an integer. ERROR: invalid literal for int() with base 10: 'fsdfsf'\n",
      "enter the interger:dfasd\n",
      "Nah, you did not enter an integer, please enter an integer. ERROR: invalid literal for int() with base 10: 'dfasd'\n"
     ]
    }
   ],
   "source": [
    "def fun1():\n",
    "    flag=True\n",
    "    while flag:\n",
    "        try:\n",
    "            a=int(input(\"enter the interger:\"))\n",
    "            if type(a)==int:\n",
    "                return \"yes, you have entered an integer\"\n",
    "                flag=False\n",
    "                \n",
    "    \n",
    "        except Exception as e:\n",
    "            print(\"Nah, you did not enter an integer, please enter an integer. ERROR:\",e)\n",
    "        \n",
    "fun1()\n"
   ]
  },
  {
   "cell_type": "code",
   "execution_count": null,
   "metadata": {},
   "outputs": [],
   "source": []
  },
  {
   "cell_type": "code",
   "execution_count": null,
   "metadata": {},
   "outputs": [],
   "source": []
  },
  {
   "cell_type": "code",
   "execution_count": null,
   "metadata": {},
   "outputs": [],
   "source": []
  },
  {
   "cell_type": "code",
   "execution_count": 82,
   "metadata": {},
   "outputs": [
    {
     "name": "stdout",
     "output_type": "stream",
     "text": [
      "dfgfdsg\n",
      "enter the input again invalid literal for int() with base 10: 'dfgfdsg'\n",
      "fsadf\n",
      "enter the input again invalid literal for int() with base 10: 'fsadf'\n",
      "fsdf\n",
      "enter the input again invalid literal for int() with base 10: 'fsdf'\n",
      "sdfsdfs\n",
      "enter the input again invalid literal for int() with base 10: 'sdfsdfs'\n",
      "dfsf\n",
      "enter the input again invalid literal for int() with base 10: 'dfsf'\n",
      "sdf\n",
      "enter the input again invalid literal for int() with base 10: 'sdf'\n",
      "dsf\n",
      "enter the input again invalid literal for int() with base 10: 'dsf'\n",
      "356546\n"
     ]
    }
   ],
   "source": [
    "def integer():\n",
    "        while True:\n",
    "            \"\"\"Function asks for an integer unless provided otherwise\"\"\"\n",
    "            try:\n",
    "                x = int(input())\n",
    "                break\n",
    "            except ValueError as e:\n",
    "                print(\"enter the input again\",e)\n",
    "        \n",
    "integer()\n"
   ]
  },
  {
   "cell_type": "code",
   "execution_count": 83,
   "metadata": {},
   "outputs": [],
   "source": [
    "def getint(p):\n",
    "    while True:\n",
    "        try:\n",
    "            value = int(input(p))\n",
    "        except ValueError:\n",
    "            print(\"Sorry, I didn't understand that.\")\n",
    "            continue\n",
    "\n",
    "        if value < 0:\n",
    "            print(\"Sorry, your response must not be negative.\")\n",
    "            continue\n",
    "        else:\n",
    "            break\n",
    "    return value\n"
   ]
  },
  {
   "cell_type": "code",
   "execution_count": 84,
   "metadata": {},
   "outputs": [
    {
     "name": "stdout",
     "output_type": "stream",
     "text": [
      "ffsfdfsdf\n",
      "Sorry, I didn't understand that.\n",
      "ffsfdfdsf\n",
      "Sorry, I didn't understand that.\n",
      "ffsfdfdfd\n",
      "Sorry, I didn't understand that.\n",
      "ffsfddsf\n",
      "Sorry, I didn't understand that.\n",
      "ffsfdsdf\n",
      "Sorry, I didn't understand that.\n",
      "ffsfd56\n"
     ]
    },
    {
     "data": {
      "text/plain": [
       "56"
      ]
     },
     "execution_count": 84,
     "metadata": {},
     "output_type": "execute_result"
    }
   ],
   "source": [
    "getint(\"ffsfd\")"
   ]
  },
  {
   "cell_type": "code",
   "execution_count": null,
   "metadata": {},
   "outputs": [],
   "source": []
  },
  {
   "cell_type": "code",
   "execution_count": null,
   "metadata": {},
   "outputs": [],
   "source": []
  },
  {
   "cell_type": "code",
   "execution_count": null,
   "metadata": {},
   "outputs": [],
   "source": []
  },
  {
   "cell_type": "code",
   "execution_count": null,
   "metadata": {},
   "outputs": [],
   "source": [
    "def askint():\n",
    "    while True:\n",
    "        try:\n",
    "            num = int(input(\"enter only number\"))\n",
    "            break\n",
    "        except ValueError:\n",
    "            print(\"Please input number only...\")  \n",
    "            continue\n"
   ]
  },
  {
   "cell_type": "code",
   "execution_count": null,
   "metadata": {},
   "outputs": [],
   "source": [
    "askint(sdfsdf)"
   ]
  },
  {
   "cell_type": "code",
   "execution_count": 85,
   "metadata": {},
   "outputs": [],
   "source": [
    "a = 6/10"
   ]
  },
  {
   "cell_type": "code",
   "execution_count": 86,
   "metadata": {},
   "outputs": [
    {
     "ename": "ZeroDivisionError",
     "evalue": "division by zero",
     "output_type": "error",
     "traceback": [
      "\u001b[1;31m---------------------------------------------------------------------------\u001b[0m",
      "\u001b[1;31mZeroDivisionError\u001b[0m                         Traceback (most recent call last)",
      "\u001b[1;32m<ipython-input-86-0106664d39e8>\u001b[0m in \u001b[0;36m<module>\u001b[1;34m\u001b[0m\n\u001b[1;32m----> 1\u001b[1;33m \u001b[1;36m5\u001b[0m\u001b[1;33m/\u001b[0m\u001b[1;36m0\u001b[0m\u001b[1;33m\u001b[0m\u001b[1;33m\u001b[0m\u001b[0m\n\u001b[0m",
      "\u001b[1;31mZeroDivisionError\u001b[0m: division by zero"
     ]
    }
   ],
   "source": [
    "5/0"
   ]
  },
  {
   "cell_type": "code",
   "execution_count": 8,
   "metadata": {},
   "outputs": [],
   "source": [
    "def test(a) :\n",
    "    if a == \"sudh\" :\n",
    "        raise ZeroDivisionError(\"you have entered a negative value dfsa adsfdsasaf afd\" , a)\n",
    "    return a "
   ]
  },
  {
   "cell_type": "code",
   "execution_count": 14,
   "metadata": {},
   "outputs": [],
   "source": [
    "def test1(a):\n",
    "    if a == \"shubham\":\n",
    "        raise consern(\"have to do it\",a)\n",
    "        return a"
   ]
  },
  {
   "cell_type": "code",
   "execution_count": 15,
   "metadata": {},
   "outputs": [
    {
     "ename": "NameError",
     "evalue": "name 'consern' is not defined",
     "output_type": "error",
     "traceback": [
      "\u001b[1;31m---------------------------------------------------------------------------\u001b[0m",
      "\u001b[1;31mNameError\u001b[0m                                 Traceback (most recent call last)",
      "\u001b[1;32m~\\AppData\\Local\\Temp/ipykernel_7376/1173418802.py\u001b[0m in \u001b[0;36m<module>\u001b[1;34m\u001b[0m\n\u001b[1;32m----> 1\u001b[1;33m \u001b[0mtest1\u001b[0m\u001b[1;33m(\u001b[0m\u001b[1;34m\"shubham\"\u001b[0m\u001b[1;33m)\u001b[0m\u001b[1;33m\u001b[0m\u001b[1;33m\u001b[0m\u001b[0m\n\u001b[0m",
      "\u001b[1;32m~\\AppData\\Local\\Temp/ipykernel_7376/3408684719.py\u001b[0m in \u001b[0;36mtest1\u001b[1;34m(a)\u001b[0m\n\u001b[0;32m      1\u001b[0m \u001b[1;32mdef\u001b[0m \u001b[0mtest1\u001b[0m\u001b[1;33m(\u001b[0m\u001b[0ma\u001b[0m\u001b[1;33m)\u001b[0m\u001b[1;33m:\u001b[0m\u001b[1;33m\u001b[0m\u001b[1;33m\u001b[0m\u001b[0m\n\u001b[0;32m      2\u001b[0m     \u001b[1;32mif\u001b[0m \u001b[0ma\u001b[0m \u001b[1;33m==\u001b[0m \u001b[1;34m\"shubham\"\u001b[0m\u001b[1;33m:\u001b[0m\u001b[1;33m\u001b[0m\u001b[1;33m\u001b[0m\u001b[0m\n\u001b[1;32m----> 3\u001b[1;33m         \u001b[1;32mraise\u001b[0m \u001b[0mconsern\u001b[0m\u001b[1;33m(\u001b[0m\u001b[1;34m\"have to do it\"\u001b[0m\u001b[1;33m,\u001b[0m\u001b[0ma\u001b[0m\u001b[1;33m)\u001b[0m\u001b[1;33m\u001b[0m\u001b[1;33m\u001b[0m\u001b[0m\n\u001b[0m\u001b[0;32m      4\u001b[0m         \u001b[1;32mreturn\u001b[0m \u001b[0ma\u001b[0m\u001b[1;33m\u001b[0m\u001b[1;33m\u001b[0m\u001b[0m\n",
      "\u001b[1;31mNameError\u001b[0m: name 'consern' is not defined"
     ]
    }
   ],
   "source": [
    "test1(\"shubham\")"
   ]
  },
  {
   "cell_type": "code",
   "execution_count": null,
   "metadata": {},
   "outputs": [],
   "source": []
  },
  {
   "cell_type": "code",
   "execution_count": 105,
   "metadata": {},
   "outputs": [
    {
     "ename": "ZeroDivisionError",
     "evalue": "('you have entered a negative value dfsa adsfdsasaf afd', 'sudh')",
     "output_type": "error",
     "traceback": [
      "\u001b[1;31m---------------------------------------------------------------------------\u001b[0m",
      "\u001b[1;31mZeroDivisionError\u001b[0m                         Traceback (most recent call last)",
      "\u001b[1;32m<ipython-input-105-d34bafc9512c>\u001b[0m in \u001b[0;36m<module>\u001b[1;34m\u001b[0m\n\u001b[1;32m----> 1\u001b[1;33m \u001b[0mtest\u001b[0m\u001b[1;33m(\u001b[0m\u001b[1;34m\"sudh\"\u001b[0m\u001b[1;33m)\u001b[0m\u001b[1;33m\u001b[0m\u001b[1;33m\u001b[0m\u001b[0m\n\u001b[0m",
      "\u001b[1;32m<ipython-input-104-ff6a7f24d8b7>\u001b[0m in \u001b[0;36mtest\u001b[1;34m(a)\u001b[0m\n\u001b[0;32m      1\u001b[0m \u001b[1;32mdef\u001b[0m \u001b[0mtest\u001b[0m\u001b[1;33m(\u001b[0m\u001b[0ma\u001b[0m\u001b[1;33m)\u001b[0m \u001b[1;33m:\u001b[0m\u001b[1;33m\u001b[0m\u001b[1;33m\u001b[0m\u001b[0m\n\u001b[0;32m      2\u001b[0m     \u001b[1;32mif\u001b[0m \u001b[0ma\u001b[0m \u001b[1;33m==\u001b[0m \u001b[1;34m\"sudh\"\u001b[0m \u001b[1;33m:\u001b[0m\u001b[1;33m\u001b[0m\u001b[1;33m\u001b[0m\u001b[0m\n\u001b[1;32m----> 3\u001b[1;33m         \u001b[1;32mraise\u001b[0m \u001b[0mZeroDivisionError\u001b[0m\u001b[1;33m(\u001b[0m\u001b[1;34m\"you have entered a negative value dfsa adsfdsasaf afd\"\u001b[0m \u001b[1;33m,\u001b[0m \u001b[0ma\u001b[0m\u001b[1;33m)\u001b[0m\u001b[1;33m\u001b[0m\u001b[1;33m\u001b[0m\u001b[0m\n\u001b[0m\u001b[0;32m      4\u001b[0m     \u001b[1;32mreturn\u001b[0m \u001b[0ma\u001b[0m\u001b[1;33m\u001b[0m\u001b[1;33m\u001b[0m\u001b[0m\n",
      "\u001b[1;31mZeroDivisionError\u001b[0m: ('you have entered a negative value dfsa adsfdsasaf afd', 'sudh')"
     ]
    }
   ],
   "source": [
    "test(\"sudh\")"
   ]
  },
  {
   "cell_type": "code",
   "execution_count": 90,
   "metadata": {},
   "outputs": [
    {
     "ename": "FileNotFoundError",
     "evalue": "[Errno 2] No such file or directory: 'fsdfdsfs'",
     "output_type": "error",
     "traceback": [
      "\u001b[1;31m---------------------------------------------------------------------------\u001b[0m",
      "\u001b[1;31mFileNotFoundError\u001b[0m                         Traceback (most recent call last)",
      "\u001b[1;32m<ipython-input-90-4a67e51151af>\u001b[0m in \u001b[0;36m<module>\u001b[1;34m\u001b[0m\n\u001b[1;32m----> 1\u001b[1;33m \u001b[0mg\u001b[0m \u001b[1;33m=\u001b[0m \u001b[0mopen\u001b[0m\u001b[1;33m(\u001b[0m\u001b[1;34m\"fsdfdsfs\"\u001b[0m\u001b[1;33m,\u001b[0m\u001b[1;34m\"r\"\u001b[0m\u001b[1;33m)\u001b[0m\u001b[1;33m\u001b[0m\u001b[1;33m\u001b[0m\u001b[0m\n\u001b[0m",
      "\u001b[1;31mFileNotFoundError\u001b[0m: [Errno 2] No such file or directory: 'fsdfdsfs'"
     ]
    }
   ],
   "source": [
    "g = open(\"fsdfdsfs\",\"r\")"
   ]
  },
  {
   "cell_type": "code",
   "execution_count": 109,
   "metadata": {},
   "outputs": [
    {
     "name": "stdout",
     "output_type": "stream",
     "text": [
      "sudh\n",
      "callinig my raised exceptoin ('you have entered a negative value dfsa adsfdsasaf afd', 'sudh')\n"
     ]
    }
   ],
   "source": [
    "try :\n",
    "    a = input()\n",
    "    test(a)\n",
    "except Exception as e : \n",
    "    print(\"callinig my raised exceptoin\",e)"
   ]
  },
  {
   "cell_type": "code",
   "execution_count": 17,
   "metadata": {},
   "outputs": [
    {
     "ename": "SyntaxError",
     "evalue": "invalid syntax (Temp/ipykernel_17648/3958944147.py, line 3)",
     "output_type": "error",
     "traceback": [
      "\u001b[1;36m  File \u001b[1;32m\"C:\\Users\\shubh\\AppData\\Local\\Temp/ipykernel_17648/3958944147.py\"\u001b[1;36m, line \u001b[1;32m3\u001b[0m\n\u001b[1;33m    except Exception as e :\u001b[0m\n\u001b[1;37m    ^\u001b[0m\n\u001b[1;31mSyntaxError\u001b[0m\u001b[1;31m:\u001b[0m invalid syntax\n"
     ]
    }
   ],
   "source": [
    "try : \n",
    "    if a== \"12.10\" :  \n",
    "         except Exception as e :\n",
    "                 print(\"hdjhafjhafj\",e)\n",
    "else:\n",
    "     print(\"yo yo honey singh\")"
   ]
  },
  {
   "cell_type": "code",
   "execution_count": 2,
   "metadata": {},
   "outputs": [],
   "source": [
    "import logging"
   ]
  },
  {
   "cell_type": "code",
   "execution_count": 3,
   "metadata": {},
   "outputs": [],
   "source": [
    "logging.basicConfig(filename = \"test.log\")"
   ]
  },
  {
   "cell_type": "code",
   "execution_count": 4,
   "metadata": {},
   "outputs": [],
   "source": [
    "logging.info(\"this is my info\")"
   ]
  },
  {
   "cell_type": "code",
   "execution_count": 5,
   "metadata": {},
   "outputs": [],
   "source": [
    "logging.error(\"this is log error\")"
   ]
  },
  {
   "cell_type": "code",
   "execution_count": 6,
   "metadata": {},
   "outputs": [],
   "source": [
    "logging.warning(\"is tis waarning for tis\")\n",
    "logging.info(\"repeating tis\")"
   ]
  },
  {
   "cell_type": "code",
   "execution_count": 8,
   "metadata": {},
   "outputs": [],
   "source": [
    "logging.basicConfig(filename = 'test5.log',level= logging.DEBUG, format = '%(acstime)s %(message)s')"
   ]
  },
  {
   "cell_type": "code",
   "execution_count": 4,
   "metadata": {},
   "outputs": [],
   "source": [
    "l=open(\"test0.py\",\"r\")"
   ]
  },
  {
   "cell_type": "code",
   "execution_count": 4,
   "metadata": {},
   "outputs": [
    {
     "name": "stdout",
     "output_type": "stream",
     "text": [
      " Volume in drive C is Windows\n",
      " Volume Serial Number is 7293-F0DC\n",
      "\n",
      " Directory of C:\\Users\\shubh\n",
      "\n",
      "22/01/2022  10:31 AM    <DIR>          .\n",
      "29/10/2021  02:41 PM    <DIR>          ..\n",
      "22/12/2021  08:55 PM    <DIR>          .conda\n",
      "04/12/2021  10:20 AM                25 .condarc\n",
      "04/12/2021  10:20 AM    <DIR>          .continuum\n",
      "17/01/2022  12:25 PM    <DIR>          .ipynb_checkpoints\n",
      "04/12/2021  10:54 AM    <DIR>          .ipython\n",
      "20/12/2021  07:48 PM    <DIR>          .jupyter\n",
      "07/11/2021  11:49 PM    <DIR>          .Ld2VirtualBox\n",
      "22/01/2022  10:17 AM    <DIR>          .matplotlib\n",
      "22/01/2022  10:17 AM    <DIR>          .spyder-py3\n",
      "31/10/2021  12:32 PM             6,893 -1.14-windows.xml\n",
      "03/12/2021  12:51 PM    <DIR>          103419079040931888859\n",
      "28/10/2021  02:53 PM    <DIR>          3D Objects\n",
      "23/12/2021  09:54 PM           102,264 abcd.ipynb\n",
      "22/12/2021  08:50 PM    <DIR>          anaconda3\n",
      "29/10/2021  02:55 PM    <DIR>          Contacts\n",
      "28/10/2021  02:57 PM    <DIR>          Documents\n",
      "22/01/2022  10:17 AM    <DIR>          Downloads\n",
      "16/01/2022  11:46 AM            13,282 Exception handling class 1.ipynb\n",
      "22/01/2022  10:30 AM            40,861 Exception handling class 2.ipynb\n",
      "29/10/2021  02:55 PM    <DIR>          Favorites\n",
      "07/01/2022  08:53 PM            28,121 for loops while loop (1).ipynb\n",
      "15/01/2022  08:10 PM            60,003 Function continued.ipynb\n",
      "15/01/2022  10:02 PM             3,040 google.txt\n",
      "07/01/2022  07:15 PM            52,292 if else , for loop.ipynb\n",
      "09/01/2022  01:04 PM            45,933 iterable,gernator,8,9-1.ipynb\n",
      "15/01/2022  10:05 PM        21,692,161 iterator generator.ipynb\n",
      "29/10/2021  02:55 PM    <DIR>          Links\n",
      "15/11/2021  04:49 PM    <DIR>          Music\n",
      "03/12/2021  12:53 PM    <DIR>          My Drive\n",
      "29/10/2021  02:52 PM    <DIR>          OneDrive\n",
      "08/01/2022  10:08 AM            50,871 practice problem python basic.ipynb\n",
      "07/01/2022  01:33 PM            75,627 Python basic (3).ipynb\n",
      "29/10/2021  02:55 PM    <DIR>          Saved Games\n",
      "29/10/2021  02:55 PM    <DIR>          Searches\n",
      "18/01/2022  01:42 PM               310 test.log\n",
      "16/01/2022  11:12 AM                 7 test.txt\n",
      "22/01/2022  10:31 AM                 0 test0.py\n",
      "22/01/2022  10:29 AM                 0 test1.py\n",
      "15/01/2022  09:35 PM               286 test1.txt\n",
      "15/01/2022  09:43 PM                39 test5.txt\n",
      "07/01/2022  02:33 PM            57,593 Tuples , set , dict .ipynb\n",
      "29/10/2021  02:55 PM    <DIR>          Videos\n",
      "              20 File(s)     22,229,608 bytes\n",
      "              24 Dir(s)  87,976,542,208 bytes free\n"
     ]
    }
   ],
   "source": [
    "ls"
   ]
  },
  {
   "cell_type": "code",
   "execution_count": 8,
   "metadata": {},
   "outputs": [],
   "source": [
    "import test0"
   ]
  },
  {
   "cell_type": "code",
   "execution_count": 6,
   "metadata": {},
   "outputs": [
    {
     "data": {
      "text/plain": [
       "<function test0.test(a, b)>"
      ]
     },
     "execution_count": 6,
     "metadata": {},
     "output_type": "execute_result"
    }
   ],
   "source": [
    "test0.test"
   ]
  },
  {
   "cell_type": "code",
   "execution_count": 7,
   "metadata": {},
   "outputs": [
    {
     "ename": "AttributeError",
     "evalue": "module 'test0' has no attribute 'py'",
     "output_type": "error",
     "traceback": [
      "\u001b[1;31m---------------------------------------------------------------------------\u001b[0m",
      "\u001b[1;31mAttributeError\u001b[0m                            Traceback (most recent call last)",
      "\u001b[1;32m~\\AppData\\Local\\Temp/ipykernel_9300/1132098496.py\u001b[0m in \u001b[0;36m<module>\u001b[1;34m\u001b[0m\n\u001b[1;32m----> 1\u001b[1;33m \u001b[0mtest0\u001b[0m\u001b[1;33m.\u001b[0m\u001b[0mpy\u001b[0m\u001b[1;33m\u001b[0m\u001b[1;33m\u001b[0m\u001b[0m\n\u001b[0m",
      "\u001b[1;31mAttributeError\u001b[0m: module 'test0' has no attribute 'py'"
     ]
    }
   ],
   "source": [
    "test0.py"
   ]
  },
  {
   "cell_type": "code",
   "execution_count": 9,
   "metadata": {},
   "outputs": [
    {
     "ename": "AttributeError",
     "evalue": "module 'test0' has no attribute 'test12'",
     "output_type": "error",
     "traceback": [
      "\u001b[1;31m---------------------------------------------------------------------------\u001b[0m",
      "\u001b[1;31mAttributeError\u001b[0m                            Traceback (most recent call last)",
      "\u001b[1;32m~\\AppData\\Local\\Temp/ipykernel_9300/3080817555.py\u001b[0m in \u001b[0;36m<module>\u001b[1;34m\u001b[0m\n\u001b[1;32m----> 1\u001b[1;33m \u001b[0mtest0\u001b[0m\u001b[1;33m.\u001b[0m\u001b[0mtest12\u001b[0m\u001b[1;33m(\u001b[0m\u001b[1;36m3\u001b[0m\u001b[1;33m,\u001b[0m\u001b[1;36m4\u001b[0m\u001b[1;33m)\u001b[0m\u001b[1;33m\u001b[0m\u001b[1;33m\u001b[0m\u001b[0m\n\u001b[0m",
      "\u001b[1;31mAttributeError\u001b[0m: module 'test0' has no attribute 'test12'"
     ]
    }
   ],
   "source": [
    "test0.test12(3,4)"
   ]
  },
  {
   "cell_type": "code",
   "execution_count": 11,
   "metadata": {},
   "outputs": [
    {
     "ename": "TypeError",
     "evalue": "'module' object is not callable",
     "output_type": "error",
     "traceback": [
      "\u001b[1;31m---------------------------------------------------------------------------\u001b[0m",
      "\u001b[1;31mTypeError\u001b[0m                                 Traceback (most recent call last)",
      "\u001b[1;32m~\\AppData\\Local\\Temp/ipykernel_9300/1933156813.py\u001b[0m in \u001b[0;36m<module>\u001b[1;34m\u001b[0m\n\u001b[1;32m----> 1\u001b[1;33m \u001b[0mtest0\u001b[0m\u001b[1;33m(\u001b[0m\u001b[1;33m)\u001b[0m\u001b[1;33m\u001b[0m\u001b[1;33m\u001b[0m\u001b[0m\n\u001b[0m",
      "\u001b[1;31mTypeError\u001b[0m: 'module' object is not callable"
     ]
    }
   ],
   "source": [
    "test0()"
   ]
  },
  {
   "cell_type": "code",
   "execution_count": 2,
   "metadata": {},
   "outputs": [
    {
     "ename": "ImportError",
     "evalue": "cannot import name 'test12' from 'test' (C:\\Users\\shubh\\anaconda3\\lib\\test\\__init__.py)",
     "output_type": "error",
     "traceback": [
      "\u001b[1;31m---------------------------------------------------------------------------\u001b[0m",
      "\u001b[1;31mImportError\u001b[0m                               Traceback (most recent call last)",
      "\u001b[1;32m~\\AppData\\Local\\Temp/ipykernel_4176/1422302270.py\u001b[0m in \u001b[0;36m<module>\u001b[1;34m\u001b[0m\n\u001b[1;32m----> 1\u001b[1;33m \u001b[1;32mfrom\u001b[0m \u001b[0mtest\u001b[0m \u001b[1;32mimport\u001b[0m \u001b[0mtest12\u001b[0m\u001b[1;33m\u001b[0m\u001b[1;33m\u001b[0m\u001b[0m\n\u001b[0m",
      "\u001b[1;31mImportError\u001b[0m: cannot import name 'test12' from 'test' (C:\\Users\\shubh\\anaconda3\\lib\\test\\__init__.py)"
     ]
    }
   ],
   "source": [
    "from test import test12"
   ]
  },
  {
   "cell_type": "code",
   "execution_count": 6,
   "metadata": {},
   "outputs": [
    {
     "data": {
      "text/plain": [
       "'def test(a,b):\\n                    return a+b\\n\\ndef test12(a,c):\\n                       return a*c\\n\\ndef  test13(a,b):\\n                         return a-b\\n                           '"
      ]
     },
     "execution_count": 6,
     "metadata": {},
     "output_type": "execute_result"
    }
   ],
   "source": [
    "l.read()"
   ]
  },
  {
   "cell_type": "code",
   "execution_count": 7,
   "metadata": {},
   "outputs": [
    {
     "name": "stdout",
     "output_type": "stream",
     "text": [
      " Volume in drive C is Windows\n",
      " Volume Serial Number is 7293-F0DC\n",
      "\n",
      " Directory of C:\\Users\\shubh\n",
      "\n",
      "22/01/2022  10:54 AM    <DIR>          .\n",
      "29/10/2021  02:41 PM    <DIR>          ..\n",
      "22/12/2021  08:55 PM    <DIR>          .conda\n",
      "04/12/2021  10:20 AM                25 .condarc\n",
      "04/12/2021  10:20 AM    <DIR>          .continuum\n",
      "17/01/2022  12:25 PM    <DIR>          .ipynb_checkpoints\n",
      "04/12/2021  10:54 AM    <DIR>          .ipython\n",
      "20/12/2021  07:48 PM    <DIR>          .jupyter\n",
      "07/11/2021  11:49 PM    <DIR>          .Ld2VirtualBox\n",
      "22/01/2022  10:17 AM    <DIR>          .matplotlib\n",
      "22/01/2022  10:17 AM    <DIR>          .spyder-py3\n",
      "22/01/2022  10:37 AM    <DIR>          __pycache__\n",
      "31/10/2021  12:32 PM             6,893 -1.14-windows.xml\n",
      "03/12/2021  12:51 PM    <DIR>          103419079040931888859\n",
      "28/10/2021  02:53 PM    <DIR>          3D Objects\n",
      "23/12/2021  09:54 PM           102,264 abcd.ipynb\n",
      "22/12/2021  08:50 PM    <DIR>          anaconda3\n",
      "29/10/2021  02:55 PM    <DIR>          Contacts\n",
      "28/10/2021  02:57 PM    <DIR>          Documents\n",
      "22/01/2022  10:17 AM    <DIR>          Downloads\n",
      "16/01/2022  11:46 AM            13,282 Exception handling class 1.ipynb\n",
      "22/01/2022  10:54 AM            51,953 Exception handling class 2.ipynb\n",
      "29/10/2021  02:55 PM    <DIR>          Favorites\n",
      "07/01/2022  08:53 PM            28,121 for loops while loop (1).ipynb\n",
      "15/01/2022  08:10 PM            60,003 Function continued.ipynb\n",
      "15/01/2022  10:02 PM             3,040 google.txt\n",
      "07/01/2022  07:15 PM            52,292 if else , for loop.ipynb\n",
      "09/01/2022  01:04 PM            45,933 iterable,gernator,8,9-1.ipynb\n",
      "15/01/2022  10:05 PM        21,692,161 iterator generator.ipynb\n",
      "29/10/2021  02:55 PM    <DIR>          Links\n",
      "15/11/2021  04:49 PM    <DIR>          Music\n",
      "03/12/2021  12:53 PM    <DIR>          My Drive\n",
      "29/10/2021  02:52 PM    <DIR>          OneDrive\n",
      "08/01/2022  10:08 AM            50,871 practice problem python basic.ipynb\n",
      "07/01/2022  01:33 PM            75,627 Python basic (3).ipynb\n",
      "29/10/2021  02:55 PM    <DIR>          Saved Games\n",
      "29/10/2021  02:55 PM    <DIR>          Searches\n",
      "18/01/2022  01:42 PM               310 test.log\n",
      "16/01/2022  11:12 AM                 7 test.txt\n",
      "22/01/2022  10:52 AM               188 test0.py\n",
      "22/01/2022  10:29 AM                 0 test1.py\n",
      "15/01/2022  09:35 PM               286 test1.txt\n",
      "15/01/2022  09:43 PM                39 test5.txt\n",
      "07/01/2022  02:33 PM            57,593 Tuples , set , dict .ipynb\n",
      "29/10/2021  02:55 PM    <DIR>          Videos\n",
      "              20 File(s)     22,240,888 bytes\n",
      "              25 Dir(s)  87,792,041,984 bytes free\n"
     ]
    }
   ],
   "source": [
    "ls"
   ]
  },
  {
   "cell_type": "code",
   "execution_count": 8,
   "metadata": {},
   "outputs": [
    {
     "data": {
      "text/plain": [
       "<_io.TextIOWrapper name='module.py' mode='w' encoding='cp1252'>"
      ]
     },
     "execution_count": 8,
     "metadata": {},
     "output_type": "execute_result"
    }
   ],
   "source": [
    "open(\"module.py\",\"w\")"
   ]
  },
  {
   "cell_type": "code",
   "execution_count": 9,
   "metadata": {},
   "outputs": [
    {
     "name": "stdout",
     "output_type": "stream",
     "text": [
      " Volume in drive C is Windows\n",
      " Volume Serial Number is 7293-F0DC\n",
      "\n",
      " Directory of C:\\Users\\shubh\n",
      "\n",
      "22/01/2022  11:02 AM    <DIR>          .\n",
      "29/10/2021  02:41 PM    <DIR>          ..\n",
      "22/12/2021  08:55 PM    <DIR>          .conda\n",
      "04/12/2021  10:20 AM                25 .condarc\n",
      "04/12/2021  10:20 AM    <DIR>          .continuum\n",
      "17/01/2022  12:25 PM    <DIR>          .ipynb_checkpoints\n",
      "04/12/2021  10:54 AM    <DIR>          .ipython\n",
      "20/12/2021  07:48 PM    <DIR>          .jupyter\n",
      "07/11/2021  11:49 PM    <DIR>          .Ld2VirtualBox\n",
      "22/01/2022  10:17 AM    <DIR>          .matplotlib\n",
      "22/01/2022  10:17 AM    <DIR>          .spyder-py3\n",
      "22/01/2022  10:37 AM    <DIR>          __pycache__\n",
      "31/10/2021  12:32 PM             6,893 -1.14-windows.xml\n",
      "03/12/2021  12:51 PM    <DIR>          103419079040931888859\n",
      "28/10/2021  02:53 PM    <DIR>          3D Objects\n",
      "23/12/2021  09:54 PM           102,264 abcd.ipynb\n",
      "22/12/2021  08:50 PM    <DIR>          anaconda3\n",
      "29/10/2021  02:55 PM    <DIR>          Contacts\n",
      "28/10/2021  02:57 PM    <DIR>          Documents\n",
      "22/01/2022  10:17 AM    <DIR>          Downloads\n",
      "16/01/2022  11:46 AM            13,282 Exception handling class 1.ipynb\n",
      "22/01/2022  11:02 AM            55,707 Exception handling class 2.ipynb\n",
      "29/10/2021  02:55 PM    <DIR>          Favorites\n",
      "07/01/2022  08:53 PM            28,121 for loops while loop (1).ipynb\n",
      "15/01/2022  08:10 PM            60,003 Function continued.ipynb\n",
      "15/01/2022  10:02 PM             3,040 google.txt\n",
      "07/01/2022  07:15 PM            52,292 if else , for loop.ipynb\n",
      "09/01/2022  01:04 PM            45,933 iterable,gernator,8,9-1.ipynb\n",
      "15/01/2022  10:05 PM        21,692,161 iterator generator.ipynb\n",
      "29/10/2021  02:55 PM    <DIR>          Links\n",
      "22/01/2022  11:05 AM               246 module.py\n",
      "15/11/2021  04:49 PM    <DIR>          Music\n",
      "03/12/2021  12:53 PM    <DIR>          My Drive\n",
      "29/10/2021  02:52 PM    <DIR>          OneDrive\n",
      "08/01/2022  10:08 AM            50,871 practice problem python basic.ipynb\n",
      "07/01/2022  01:33 PM            75,627 Python basic (3).ipynb\n",
      "29/10/2021  02:55 PM    <DIR>          Saved Games\n",
      "29/10/2021  02:55 PM    <DIR>          Searches\n",
      "18/01/2022  01:42 PM               310 test.log\n",
      "16/01/2022  11:12 AM                 7 test.txt\n",
      "22/01/2022  10:52 AM               188 test0.py\n",
      "22/01/2022  10:29 AM                 0 test1.py\n",
      "15/01/2022  09:35 PM               286 test1.txt\n",
      "15/01/2022  09:43 PM                39 test5.txt\n",
      "07/01/2022  02:33 PM            57,593 Tuples , set , dict .ipynb\n",
      "29/10/2021  02:55 PM    <DIR>          Videos\n",
      "              21 File(s)     22,244,888 bytes\n",
      "              25 Dir(s)  87,789,375,488 bytes free\n"
     ]
    }
   ],
   "source": [
    "ls"
   ]
  },
  {
   "cell_type": "code",
   "execution_count": 2,
   "metadata": {},
   "outputs": [
    {
     "ename": "SyntaxError",
     "evalue": "invalid syntax (module.py, line 9)",
     "output_type": "error",
     "traceback": [
      "Traceback \u001b[1;36m(most recent call last)\u001b[0m:\n",
      "  File \u001b[0;32m\"C:\\Users\\shubh\\anaconda3\\lib\\site-packages\\IPython\\core\\interactiveshell.py\"\u001b[0m, line \u001b[0;32m3444\u001b[0m, in \u001b[0;35mrun_code\u001b[0m\n    exec(code_obj, self.user_global_ns, self.user_ns)\n",
      "\u001b[1;36m  File \u001b[1;32m\"C:\\Users\\shubh\\AppData\\Local\\Temp/ipykernel_14196/457463311.py\"\u001b[1;36m, line \u001b[1;32m1\u001b[1;36m, in \u001b[1;35m<module>\u001b[1;36m\u001b[0m\n\u001b[1;33m    import module.py\u001b[0m\n",
      "\u001b[1;36m  File \u001b[1;32m\"C:\\Users\\shubh\\module.py\"\u001b[1;36m, line \u001b[1;32m9\u001b[0m\n\u001b[1;33m    def_greeting():\u001b[0m\n\u001b[1;37m                   ^\u001b[0m\n\u001b[1;31mSyntaxError\u001b[0m\u001b[1;31m:\u001b[0m invalid syntax\n"
     ]
    }
   ],
   "source": [
    "import module.py"
   ]
  },
  {
   "cell_type": "code",
   "execution_count": 3,
   "metadata": {
    "scrolled": true
   },
   "outputs": [
    {
     "ename": "SyntaxError",
     "evalue": "invalid syntax (module.py, line 9)",
     "output_type": "error",
     "traceback": [
      "Traceback \u001b[1;36m(most recent call last)\u001b[0m:\n",
      "  File \u001b[0;32m\"C:\\Users\\shubh\\anaconda3\\lib\\site-packages\\IPython\\core\\interactiveshell.py\"\u001b[0m, line \u001b[0;32m3444\u001b[0m, in \u001b[0;35mrun_code\u001b[0m\n    exec(code_obj, self.user_global_ns, self.user_ns)\n",
      "\u001b[1;36m  File \u001b[1;32m\"C:\\Users\\shubh\\AppData\\Local\\Temp/ipykernel_14196/1253857394.py\"\u001b[1;36m, line \u001b[1;32m1\u001b[1;36m, in \u001b[1;35m<module>\u001b[1;36m\u001b[0m\n\u001b[1;33m    import module\u001b[0m\n",
      "\u001b[1;36m  File \u001b[1;32m\"C:\\Users\\shubh\\module.py\"\u001b[1;36m, line \u001b[1;32m9\u001b[0m\n\u001b[1;33m    def_greeting():\u001b[0m\n\u001b[1;37m                   ^\u001b[0m\n\u001b[1;31mSyntaxError\u001b[0m\u001b[1;31m:\u001b[0m invalid syntax\n"
     ]
    }
   ],
   "source": [
    "import module"
   ]
  },
  {
   "cell_type": "code",
   "execution_count": 4,
   "metadata": {},
   "outputs": [
    {
     "ename": "SyntaxError",
     "evalue": "invalid syntax (Temp/ipykernel_14196/3731875410.py, line 1)",
     "output_type": "error",
     "traceback": [
      "\u001b[1;36m  File \u001b[1;32m\"C:\\Users\\shubh\\AppData\\Local\\Temp/ipykernel_14196/3731875410.py\"\u001b[1;36m, line \u001b[1;32m1\u001b[0m\n\u001b[1;33m    jupyter notebook --notebook-dir=C:\\Users\\shubh\\.jupyter\u001b[0m\n\u001b[1;37m            ^\u001b[0m\n\u001b[1;31mSyntaxError\u001b[0m\u001b[1;31m:\u001b[0m invalid syntax\n"
     ]
    }
   ],
   "source": [
    "jupyter notebook --notebook-dir=C:\\Users\\shubh\\.jupyter"
   ]
  },
  {
   "cell_type": "code",
   "execution_count": 1,
   "metadata": {},
   "outputs": [
    {
     "ename": "SyntaxError",
     "evalue": "invalid syntax (Temp/ipykernel_9004/3727328468.py, line 1)",
     "output_type": "error",
     "traceback": [
      "\u001b[1;36m  File \u001b[1;32m\"C:\\Users\\shubh\\AppData\\Local\\Temp/ipykernel_9004/3727328468.py\"\u001b[1;36m, line \u001b[1;32m1\u001b[0m\n\u001b[1;33m    jupyter notebook --notebook-dir=E:\\workspace-nlp\\Example\u001b[0m\n\u001b[1;37m            ^\u001b[0m\n\u001b[1;31mSyntaxError\u001b[0m\u001b[1;31m:\u001b[0m invalid syntax\n"
     ]
    }
   ],
   "source": [
    "jupyter notebook --notebook-dir=E:\\workspace-nlp\\Example"
   ]
  },
  {
   "cell_type": "code",
   "execution_count": null,
   "metadata": {},
   "outputs": [],
   "source": []
  }
 ],
 "metadata": {
  "kernelspec": {
   "display_name": "Python 3 (ipykernel)",
   "language": "python",
   "name": "python3"
  },
  "language_info": {
   "codemirror_mode": {
    "name": "ipython",
    "version": 3
   },
   "file_extension": ".py",
   "mimetype": "text/x-python",
   "name": "python",
   "nbconvert_exporter": "python",
   "pygments_lexer": "ipython3",
   "version": "3.9.7"
  }
 },
 "nbformat": 4,
 "nbformat_minor": 4
}

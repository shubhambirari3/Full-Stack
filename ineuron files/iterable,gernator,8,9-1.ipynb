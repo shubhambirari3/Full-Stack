{
 "cells": [
  {
   "cell_type": "code",
   "execution_count": 6,
   "id": "95426b4e",
   "metadata": {},
   "outputs": [
    {
     "ename": "SyntaxError",
     "evalue": "invalid syntax (Temp/ipykernel_14708/2131098961.py, line 1)",
     "output_type": "error",
     "traceback": [
      "\u001b[1;36m  File \u001b[1;32m\"C:\\Users\\shubh\\AppData\\Local\\Temp/ipykernel_14708/2131098961.py\"\u001b[1;36m, line \u001b[1;32m1\u001b[0m\n\u001b[1;33m    def test(a,d,d,d,f,f,e)\u001b[0m\n\u001b[1;37m                           ^\u001b[0m\n\u001b[1;31mSyntaxError\u001b[0m\u001b[1;31m:\u001b[0m invalid syntax\n"
     ]
    }
   ],
   "source": [
    "def test(a,d,d,d,f,f,e)\n",
    "    return a,d,d,d,f,f,e"
   ]
  },
  {
   "cell_type": "code",
   "execution_count": 11,
   "id": "c22ca256",
   "metadata": {},
   "outputs": [],
   "source": [
    "def test3(*shubham , a):\n",
    "    return shubham  ,a"
   ]
  },
  {
   "cell_type": "raw",
   "id": "80b50368",
   "metadata": {},
   "source": [
    "test3(324,3423,43, a= 6576)"
   ]
  },
  {
   "cell_type": "code",
   "execution_count": 12,
   "id": "b5657620",
   "metadata": {},
   "outputs": [
    {
     "ename": "SyntaxError",
     "evalue": "EOL while scanning string literal (Temp/ipykernel_14708/3094649895.py, line 1)",
     "output_type": "error",
     "traceback": [
      "\u001b[1;36m  File \u001b[1;32m\"C:\\Users\\shubh\\AppData\\Local\\Temp/ipykernel_14708/3094649895.py\"\u001b[1;36m, line \u001b[1;32m1\u001b[0m\n\u001b[1;33m    def test4(\"sudh, a,b,c,d):\u001b[0m\n\u001b[1;37m                              ^\u001b[0m\n\u001b[1;31mSyntaxError\u001b[0m\u001b[1;31m:\u001b[0m EOL while scanning string literal\n"
     ]
    }
   ],
   "source": [
    "def test4(\"sudh, a,b,c,d):\n",
    " return sudh, a,b,c,d"
   ]
  },
  {
   "cell_type": "code",
   "execution_count": 15,
   "id": "490d4bbb",
   "metadata": {},
   "outputs": [],
   "source": [
    "def test7(*kjdk):\n",
    "    return kjdk"
   ]
  },
  {
   "cell_type": "code",
   "execution_count": 16,
   "id": "1c490c16",
   "metadata": {},
   "outputs": [
    {
     "data": {
      "text/plain": [
       "(234, 234, 424, 45, 565)"
      ]
     },
     "execution_count": 16,
     "metadata": {},
     "output_type": "execute_result"
    }
   ],
   "source": [
    "test7(234,234,424,45,565)"
   ]
  },
  {
   "cell_type": "code",
   "execution_count": 18,
   "id": "f4623caa",
   "metadata": {},
   "outputs": [],
   "source": [
    "def test7(**kjdk):\n",
    "    return kjdk"
   ]
  },
  {
   "cell_type": "code",
   "execution_count": 19,
   "id": "5e1aede4",
   "metadata": {},
   "outputs": [
    {
     "ename": "TypeError",
     "evalue": "test7() takes 0 positional arguments but 5 were given",
     "output_type": "error",
     "traceback": [
      "\u001b[1;31m---------------------------------------------------------------------------\u001b[0m",
      "\u001b[1;31mTypeError\u001b[0m                                 Traceback (most recent call last)",
      "\u001b[1;32m~\\AppData\\Local\\Temp/ipykernel_14708/3699951471.py\u001b[0m in \u001b[0;36m<module>\u001b[1;34m\u001b[0m\n\u001b[1;32m----> 1\u001b[1;33m \u001b[0mtest7\u001b[0m\u001b[1;33m(\u001b[0m\u001b[1;36m234\u001b[0m\u001b[1;33m,\u001b[0m\u001b[1;36m234\u001b[0m\u001b[1;33m,\u001b[0m\u001b[1;36m424\u001b[0m\u001b[1;33m,\u001b[0m\u001b[1;36m45\u001b[0m\u001b[1;33m,\u001b[0m\u001b[1;36m565\u001b[0m\u001b[1;33m)\u001b[0m\u001b[1;33m\u001b[0m\u001b[1;33m\u001b[0m\u001b[0m\n\u001b[0m",
      "\u001b[1;31mTypeError\u001b[0m: test7() takes 0 positional arguments but 5 were given"
     ]
    }
   ],
   "source": [
    "test7(234,234,424,45,565)"
   ]
  },
  {
   "cell_type": "code",
   "execution_count": 20,
   "id": "3c43754a",
   "metadata": {},
   "outputs": [
    {
     "data": {
      "text/plain": [
       "{'a': 44, 'b': 34234, 'c': [3242]}"
      ]
     },
     "execution_count": 20,
     "metadata": {},
     "output_type": "execute_result"
    }
   ],
   "source": [
    "test7(a=44,b=34234,c=[3242])"
   ]
  },
  {
   "cell_type": "code",
   "execution_count": 22,
   "id": "55cf0425",
   "metadata": {},
   "outputs": [
    {
     "data": {
      "text/plain": [
       "{'a': 44, 'b': 34234, 'c': ['dsfsdf']}"
      ]
     },
     "execution_count": 22,
     "metadata": {},
     "output_type": "execute_result"
    }
   ],
   "source": [
    "test7(a=44,b=34234,c=[\"dsfsdf\"])"
   ]
  },
  {
   "cell_type": "code",
   "execution_count": 23,
   "id": "462b371e",
   "metadata": {},
   "outputs": [],
   "source": [
    "def test9(**shubh):\n",
    "    return shubh"
   ]
  },
  {
   "cell_type": "code",
   "execution_count": 25,
   "id": "96435e3a",
   "metadata": {},
   "outputs": [
    {
     "data": {
      "text/plain": [
       "{'name': 'dhubhsm', 'sge': 2342, 'fsddf': 'jsjjfh'}"
      ]
     },
     "execution_count": 25,
     "metadata": {},
     "output_type": "execute_result"
    }
   ],
   "source": [
    "test9(name= \"dhubhsm\", sge=2342, fsddf=\"jsjjfh\")"
   ]
  },
  {
   "cell_type": "code",
   "execution_count": 27,
   "id": "f46cb74e",
   "metadata": {},
   "outputs": [],
   "source": [
    "def test8(c,d):\n",
    "    return c*d"
   ]
  },
  {
   "cell_type": "code",
   "execution_count": 28,
   "id": "165ba5dc",
   "metadata": {},
   "outputs": [
    {
     "data": {
      "text/plain": [
       "6"
      ]
     },
     "execution_count": 28,
     "metadata": {},
     "output_type": "execute_result"
    }
   ],
   "source": [
    "test8(2,3)"
   ]
  },
  {
   "cell_type": "code",
   "execution_count": 29,
   "id": "103e661f",
   "metadata": {},
   "outputs": [
    {
     "data": {
      "text/plain": [
       "<function __main__.<lambda>(c, d)>"
      ]
     },
     "execution_count": 29,
     "metadata": {},
     "output_type": "execute_result"
    }
   ],
   "source": [
    "lambda c,d:c*d"
   ]
  },
  {
   "cell_type": "code",
   "execution_count": 34,
   "id": "ea7a571e",
   "metadata": {},
   "outputs": [],
   "source": [
    "a=lambda c,d:(c*d , c+d)"
   ]
  },
  {
   "cell_type": "code",
   "execution_count": 35,
   "id": "21b71cb4",
   "metadata": {},
   "outputs": [
    {
     "data": {
      "text/plain": [
       "(25, 10)"
      ]
     },
     "execution_count": 35,
     "metadata": {},
     "output_type": "execute_result"
    }
   ],
   "source": [
    "a(5,5)"
   ]
  },
  {
   "cell_type": "code",
   "execution_count": 32,
   "id": "946582aa",
   "metadata": {},
   "outputs": [
    {
     "ename": "SyntaxError",
     "evalue": "invalid syntax (Temp/ipykernel_14708/509845.py, line 1)",
     "output_type": "error",
     "traceback": [
      "\u001b[1;36m  File \u001b[1;32m\"C:\\Users\\shubh\\AppData\\Local\\Temp/ipykernel_14708/509845.py\"\u001b[1;36m, line \u001b[1;32m1\u001b[0m\n\u001b[1;33m    lambda(6,6)\u001b[0m\n\u001b[1;37m          ^\u001b[0m\n\u001b[1;31mSyntaxError\u001b[0m\u001b[1;31m:\u001b[0m invalid syntax\n"
     ]
    }
   ],
   "source": [
    "lambda(6,6)"
   ]
  },
  {
   "cell_type": "code",
   "execution_count": 36,
   "id": "90bba5a4",
   "metadata": {},
   "outputs": [],
   "source": [
    "a=lambda *a:a"
   ]
  },
  {
   "cell_type": "code",
   "execution_count": 37,
   "id": "4b412880",
   "metadata": {},
   "outputs": [
    {
     "data": {
      "text/plain": [
       "(24, 5465, 5255, 7657)"
      ]
     },
     "execution_count": 37,
     "metadata": {},
     "output_type": "execute_result"
    }
   ],
   "source": [
    "a(24,5465,5255,7657)"
   ]
  },
  {
   "cell_type": "code",
   "execution_count": 38,
   "id": "3c666a69",
   "metadata": {},
   "outputs": [],
   "source": [
    "def test7(*kjdk):\n",
    "    return kjdk"
   ]
  },
  {
   "cell_type": "code",
   "execution_count": 39,
   "id": "31bd4a02",
   "metadata": {},
   "outputs": [
    {
     "data": {
      "text/plain": [
       "(2342, 524, 424)"
      ]
     },
     "execution_count": 39,
     "metadata": {},
     "output_type": "execute_result"
    }
   ],
   "source": [
    "test7(2342,524,424)"
   ]
  },
  {
   "cell_type": "code",
   "execution_count": 40,
   "id": "a5999e77",
   "metadata": {},
   "outputs": [],
   "source": [
    "x = lambda x :[i for i in x]"
   ]
  },
  {
   "cell_type": "code",
   "execution_count": 42,
   "id": "c2b35861",
   "metadata": {},
   "outputs": [
    {
     "data": {
      "text/plain": [
       "[4324, 24423, 244]"
      ]
     },
     "execution_count": 42,
     "metadata": {},
     "output_type": "execute_result"
    }
   ],
   "source": [
    "x([4324,24423,244])"
   ]
  },
  {
   "cell_type": "code",
   "execution_count": 43,
   "id": "a0c55e2d",
   "metadata": {},
   "outputs": [
    {
     "ename": "TypeError",
     "evalue": "'function' object is not subscriptable",
     "output_type": "error",
     "traceback": [
      "\u001b[1;31m---------------------------------------------------------------------------\u001b[0m",
      "\u001b[1;31mTypeError\u001b[0m                                 Traceback (most recent call last)",
      "\u001b[1;32m~\\AppData\\Local\\Temp/ipykernel_14708/1453783575.py\u001b[0m in \u001b[0;36m<module>\u001b[1;34m\u001b[0m\n\u001b[1;32m----> 1\u001b[1;33m \u001b[0mx\u001b[0m\u001b[1;33m[\u001b[0m\u001b[1;36m2423\u001b[0m\u001b[1;33m,\u001b[0m\u001b[1;36m2344\u001b[0m\u001b[1;33m]\u001b[0m\u001b[1;33m\u001b[0m\u001b[1;33m\u001b[0m\u001b[0m\n\u001b[0m",
      "\u001b[1;31mTypeError\u001b[0m: 'function' object is not subscriptable"
     ]
    }
   ],
   "source": [
    "x[2423,2344]"
   ]
  },
  {
   "cell_type": "code",
   "execution_count": 44,
   "id": "3bfa0802",
   "metadata": {},
   "outputs": [],
   "source": [
    "a = lambda **shubh : shubh"
   ]
  },
  {
   "cell_type": "code",
   "execution_count": 46,
   "id": "c3aa47a8",
   "metadata": {},
   "outputs": [
    {
     "data": {
      "text/plain": [
       "{'a': 434, 'b': 434}"
      ]
     },
     "execution_count": 46,
     "metadata": {},
     "output_type": "execute_result"
    }
   ],
   "source": [
    "a(a= 434,b = 434)"
   ]
  },
  {
   "cell_type": "code",
   "execution_count": 51,
   "id": "5f13bb77",
   "metadata": {},
   "outputs": [],
   "source": [
    "a= 10\n",
    "b=5\n",
    "def test9(c,x) :\n",
    "    return c-x"
   ]
  },
  {
   "cell_type": "code",
   "execution_count": 52,
   "id": "8c0b3121",
   "metadata": {},
   "outputs": [
    {
     "data": {
      "text/plain": [
       "14"
      ]
     },
     "execution_count": 52,
     "metadata": {},
     "output_type": "execute_result"
    }
   ],
   "source": [
    "test9(34,20)"
   ]
  },
  {
   "cell_type": "code",
   "execution_count": 49,
   "id": "33dbaee5",
   "metadata": {},
   "outputs": [
    {
     "data": {
      "text/plain": [
       "6"
      ]
     },
     "execution_count": 49,
     "metadata": {},
     "output_type": "execute_result"
    }
   ],
   "source": [
    "test9(a,4)"
   ]
  },
  {
   "cell_type": "code",
   "execution_count": 53,
   "id": "b9503963",
   "metadata": {},
   "outputs": [
    {
     "ename": "NameError",
     "evalue": "name 'test' is not defined",
     "output_type": "error",
     "traceback": [
      "\u001b[1;31m---------------------------------------------------------------------------\u001b[0m",
      "\u001b[1;31mNameError\u001b[0m                                 Traceback (most recent call last)",
      "\u001b[1;32m~\\AppData\\Local\\Temp/ipykernel_14708/856083063.py\u001b[0m in \u001b[0;36m<module>\u001b[1;34m\u001b[0m\n\u001b[1;32m----> 1\u001b[1;33m \u001b[0mtest\u001b[0m\u001b[1;33m(\u001b[0m\u001b[0ma\u001b[0m\u001b[1;33m,\u001b[0m\u001b[0mb\u001b[0m\u001b[1;33m)\u001b[0m\u001b[1;33m\u001b[0m\u001b[1;33m\u001b[0m\u001b[0m\n\u001b[0m",
      "\u001b[1;31mNameError\u001b[0m: name 'test' is not defined"
     ]
    }
   ],
   "source": [
    "test(a,b)"
   ]
  },
  {
   "cell_type": "code",
   "execution_count": 54,
   "id": "ed7b028f",
   "metadata": {},
   "outputs": [],
   "source": [
    "d = {}"
   ]
  },
  {
   "cell_type": "code",
   "execution_count": 55,
   "id": "4e85dbd9",
   "metadata": {},
   "outputs": [
    {
     "data": {
      "text/plain": [
       "{0: 0, 1: 1, 2: 4, 3: 9, 4: 16, 5: 25, 6: 36, 7: 49, 8: 64, 9: 81}"
      ]
     },
     "execution_count": 55,
     "metadata": {},
     "output_type": "execute_result"
    }
   ],
   "source": [
    "{i:i**2 for i in range(10)}"
   ]
  },
  {
   "cell_type": "code",
   "execution_count": 61,
   "id": "32da47b3",
   "metadata": {},
   "outputs": [],
   "source": [
    "d1= {}\n",
    "for i in range(10):\n",
    "    d1[i] = i**2\n",
    "    "
   ]
  },
  {
   "cell_type": "code",
   "execution_count": 62,
   "id": "c19f6e2b",
   "metadata": {},
   "outputs": [
    {
     "data": {
      "text/plain": [
       "{0: 0, 1: 1, 2: 4, 3: 9, 4: 16, 5: 25, 6: 36, 7: 49, 8: 64, 9: 81}"
      ]
     },
     "execution_count": 62,
     "metadata": {},
     "output_type": "execute_result"
    }
   ],
   "source": [
    "d1"
   ]
  },
  {
   "cell_type": "code",
   "execution_count": 63,
   "id": "51a1b424",
   "metadata": {},
   "outputs": [
    {
     "ename": "TypeError",
     "evalue": "'int' object is not iterable",
     "output_type": "error",
     "traceback": [
      "\u001b[1;31m---------------------------------------------------------------------------\u001b[0m",
      "\u001b[1;31mTypeError\u001b[0m                                 Traceback (most recent call last)",
      "\u001b[1;32m~\\AppData\\Local\\Temp/ipykernel_14708/825247560.py\u001b[0m in \u001b[0;36m<module>\u001b[1;34m\u001b[0m\n\u001b[1;32m----> 1\u001b[1;33m \u001b[0miter\u001b[0m\u001b[1;33m(\u001b[0m\u001b[1;36m66\u001b[0m\u001b[1;33m)\u001b[0m\u001b[1;33m\u001b[0m\u001b[1;33m\u001b[0m\u001b[0m\n\u001b[0m",
      "\u001b[1;31mTypeError\u001b[0m: 'int' object is not iterable"
     ]
    }
   ],
   "source": [
    "iter(66)"
   ]
  },
  {
   "cell_type": "code",
   "execution_count": 76,
   "id": "daef2b16",
   "metadata": {},
   "outputs": [],
   "source": [
    "l=\"2,4,5,6,7,8\""
   ]
  },
  {
   "cell_type": "code",
   "execution_count": 77,
   "id": "4c8b8735",
   "metadata": {},
   "outputs": [
    {
     "data": {
      "text/plain": [
       "<str_iterator at 0x20dc3066940>"
      ]
     },
     "execution_count": 77,
     "metadata": {},
     "output_type": "execute_result"
    }
   ],
   "source": [
    "iter(l)"
   ]
  },
  {
   "cell_type": "code",
   "execution_count": 78,
   "id": "6c302c80",
   "metadata": {},
   "outputs": [
    {
     "ename": "TypeError",
     "evalue": "'str' object is not an iterator",
     "output_type": "error",
     "traceback": [
      "\u001b[1;31m---------------------------------------------------------------------------\u001b[0m",
      "\u001b[1;31mTypeError\u001b[0m                                 Traceback (most recent call last)",
      "\u001b[1;32m~\\AppData\\Local\\Temp/ipykernel_14708/2016234150.py\u001b[0m in \u001b[0;36m<module>\u001b[1;34m\u001b[0m\n\u001b[1;32m----> 1\u001b[1;33m \u001b[0mnext\u001b[0m\u001b[1;33m(\u001b[0m\u001b[0ml\u001b[0m\u001b[1;33m)\u001b[0m\u001b[1;33m\u001b[0m\u001b[1;33m\u001b[0m\u001b[0m\n\u001b[0m",
      "\u001b[1;31mTypeError\u001b[0m: 'str' object is not an iterator"
     ]
    }
   ],
   "source": [
    "next(l)"
   ]
  },
  {
   "cell_type": "code",
   "execution_count": 1,
   "id": "ac0c4c12",
   "metadata": {},
   "outputs": [],
   "source": [
    "s= \"shubham\""
   ]
  },
  {
   "cell_type": "code",
   "execution_count": 6,
   "id": "1104db20",
   "metadata": {},
   "outputs": [],
   "source": [
    "s=iter(s)"
   ]
  },
  {
   "cell_type": "code",
   "execution_count": 7,
   "id": "3eaec041",
   "metadata": {},
   "outputs": [
    {
     "data": {
      "text/plain": [
       "'s'"
      ]
     },
     "execution_count": 7,
     "metadata": {},
     "output_type": "execute_result"
    }
   ],
   "source": [
    "next(s)"
   ]
  },
  {
   "cell_type": "code",
   "execution_count": 8,
   "id": "00a757db",
   "metadata": {},
   "outputs": [
    {
     "ename": "NameError",
     "evalue": "name 'v' is not defined",
     "output_type": "error",
     "traceback": [
      "\u001b[1;31m---------------------------------------------------------------------------\u001b[0m",
      "\u001b[1;31mNameError\u001b[0m                                 Traceback (most recent call last)",
      "\u001b[1;32m~\\AppData\\Local\\Temp/ipykernel_17020/2571624735.py\u001b[0m in \u001b[0;36m<module>\u001b[1;34m\u001b[0m\n\u001b[1;32m----> 1\u001b[1;33m \u001b[0mv\u001b[0m\u001b[1;33m\u001b[0m\u001b[1;33m\u001b[0m\u001b[0m\n\u001b[0m",
      "\u001b[1;31mNameError\u001b[0m: name 'v' is not defined"
     ]
    }
   ],
   "source": [
    "v"
   ]
  },
  {
   "cell_type": "code",
   "execution_count": 9,
   "id": "a4587afc",
   "metadata": {},
   "outputs": [
    {
     "data": {
      "text/plain": [
       "'h'"
      ]
     },
     "execution_count": 9,
     "metadata": {},
     "output_type": "execute_result"
    }
   ],
   "source": [
    "next(s)"
   ]
  },
  {
   "cell_type": "code",
   "execution_count": 10,
   "id": "7c329b0a",
   "metadata": {},
   "outputs": [
    {
     "data": {
      "text/plain": [
       "'u'"
      ]
     },
     "execution_count": 10,
     "metadata": {},
     "output_type": "execute_result"
    }
   ],
   "source": [
    "next(s)"
   ]
  },
  {
   "cell_type": "code",
   "execution_count": 11,
   "id": "39f8406d",
   "metadata": {},
   "outputs": [
    {
     "data": {
      "text/plain": [
       "'b'"
      ]
     },
     "execution_count": 11,
     "metadata": {},
     "output_type": "execute_result"
    }
   ],
   "source": [
    "next(s)"
   ]
  },
  {
   "cell_type": "code",
   "execution_count": 12,
   "id": "4c56e70c",
   "metadata": {},
   "outputs": [
    {
     "data": {
      "text/plain": [
       "'h'"
      ]
     },
     "execution_count": 12,
     "metadata": {},
     "output_type": "execute_result"
    }
   ],
   "source": [
    "next(s)"
   ]
  },
  {
   "cell_type": "code",
   "execution_count": 13,
   "id": "9e1f4bab",
   "metadata": {},
   "outputs": [
    {
     "data": {
      "text/plain": [
       "'a'"
      ]
     },
     "execution_count": 13,
     "metadata": {},
     "output_type": "execute_result"
    }
   ],
   "source": [
    "next(s)"
   ]
  },
  {
   "cell_type": "code",
   "execution_count": 14,
   "id": "44d68c28",
   "metadata": {},
   "outputs": [
    {
     "data": {
      "text/plain": [
       "'m'"
      ]
     },
     "execution_count": 14,
     "metadata": {},
     "output_type": "execute_result"
    }
   ],
   "source": [
    "next(s)"
   ]
  },
  {
   "cell_type": "code",
   "execution_count": 15,
   "id": "106ffc58",
   "metadata": {},
   "outputs": [
    {
     "ename": "StopIteration",
     "evalue": "",
     "output_type": "error",
     "traceback": [
      "\u001b[1;31m---------------------------------------------------------------------------\u001b[0m",
      "\u001b[1;31mStopIteration\u001b[0m                             Traceback (most recent call last)",
      "\u001b[1;32m~\\AppData\\Local\\Temp/ipykernel_17020/1977886155.py\u001b[0m in \u001b[0;36m<module>\u001b[1;34m\u001b[0m\n\u001b[1;32m----> 1\u001b[1;33m \u001b[0mnext\u001b[0m\u001b[1;33m(\u001b[0m\u001b[0ms\u001b[0m\u001b[1;33m)\u001b[0m\u001b[1;33m\u001b[0m\u001b[1;33m\u001b[0m\u001b[0m\n\u001b[0m",
      "\u001b[1;31mStopIteration\u001b[0m: "
     ]
    }
   ],
   "source": [
    "next(s)"
   ]
  },
  {
   "cell_type": "code",
   "execution_count": 16,
   "id": "5313432c",
   "metadata": {},
   "outputs": [],
   "source": [
    "t=(2,3,33,4,3,3353,3,33,2)"
   ]
  },
  {
   "cell_type": "code",
   "execution_count": 17,
   "id": "cdcfbeac",
   "metadata": {},
   "outputs": [
    {
     "ename": "NameError",
     "evalue": "name 'next9t' is not defined",
     "output_type": "error",
     "traceback": [
      "\u001b[1;31m---------------------------------------------------------------------------\u001b[0m",
      "\u001b[1;31mNameError\u001b[0m                                 Traceback (most recent call last)",
      "\u001b[1;32m~\\AppData\\Local\\Temp/ipykernel_17020/279075231.py\u001b[0m in \u001b[0;36m<module>\u001b[1;34m\u001b[0m\n\u001b[1;32m----> 1\u001b[1;33m \u001b[0mnext9t\u001b[0m\u001b[1;33m\u001b[0m\u001b[1;33m\u001b[0m\u001b[0m\n\u001b[0m",
      "\u001b[1;31mNameError\u001b[0m: name 'next9t' is not defined"
     ]
    }
   ],
   "source": [
    "next9t"
   ]
  },
  {
   "cell_type": "code",
   "execution_count": 18,
   "id": "cd23f2c1",
   "metadata": {},
   "outputs": [
    {
     "ename": "TypeError",
     "evalue": "'tuple' object is not an iterator",
     "output_type": "error",
     "traceback": [
      "\u001b[1;31m---------------------------------------------------------------------------\u001b[0m",
      "\u001b[1;31mTypeError\u001b[0m                                 Traceback (most recent call last)",
      "\u001b[1;32m~\\AppData\\Local\\Temp/ipykernel_17020/2139502855.py\u001b[0m in \u001b[0;36m<module>\u001b[1;34m\u001b[0m\n\u001b[1;32m----> 1\u001b[1;33m \u001b[0mnext\u001b[0m\u001b[1;33m(\u001b[0m\u001b[0mt\u001b[0m\u001b[1;33m)\u001b[0m\u001b[1;33m\u001b[0m\u001b[1;33m\u001b[0m\u001b[0m\n\u001b[0m",
      "\u001b[1;31mTypeError\u001b[0m: 'tuple' object is not an iterator"
     ]
    }
   ],
   "source": [
    "next(t)"
   ]
  },
  {
   "cell_type": "code",
   "execution_count": 19,
   "id": "e1a670bb",
   "metadata": {},
   "outputs": [],
   "source": [
    "t=iter(t)"
   ]
  },
  {
   "cell_type": "code",
   "execution_count": 20,
   "id": "51944da0",
   "metadata": {},
   "outputs": [
    {
     "data": {
      "text/plain": [
       "2"
      ]
     },
     "execution_count": 20,
     "metadata": {},
     "output_type": "execute_result"
    }
   ],
   "source": [
    "next(t)"
   ]
  },
  {
   "cell_type": "code",
   "execution_count": 22,
   "id": "4d03c891",
   "metadata": {},
   "outputs": [],
   "source": [
    "a=range(5)"
   ]
  },
  {
   "cell_type": "code",
   "execution_count": 25,
   "id": "05e6d22c",
   "metadata": {},
   "outputs": [
    {
     "data": {
      "text/plain": [
       "0"
      ]
     },
     "execution_count": 25,
     "metadata": {},
     "output_type": "execute_result"
    }
   ],
   "source": [
    "next(a)"
   ]
  },
  {
   "cell_type": "code",
   "execution_count": 24,
   "id": "ad268099",
   "metadata": {},
   "outputs": [],
   "source": [
    "a=iter(a)"
   ]
  },
  {
   "cell_type": "code",
   "execution_count": 26,
   "id": "24e8bfc7",
   "metadata": {},
   "outputs": [
    {
     "ename": "NameError",
     "evalue": "name 'ne' is not defined",
     "output_type": "error",
     "traceback": [
      "\u001b[1;31m---------------------------------------------------------------------------\u001b[0m",
      "\u001b[1;31mNameError\u001b[0m                                 Traceback (most recent call last)",
      "\u001b[1;32m~\\AppData\\Local\\Temp/ipykernel_17020/1331307194.py\u001b[0m in \u001b[0;36m<module>\u001b[1;34m\u001b[0m\n\u001b[1;32m----> 1\u001b[1;33m \u001b[0mne\u001b[0m\u001b[1;33m\u001b[0m\u001b[1;33m\u001b[0m\u001b[0m\n\u001b[0m",
      "\u001b[1;31mNameError\u001b[0m: name 'ne' is not defined"
     ]
    }
   ],
   "source": [
    "ne"
   ]
  },
  {
   "cell_type": "code",
   "execution_count": 32,
   "id": "605a6a4e",
   "metadata": {},
   "outputs": [],
   "source": [
    "r=list(range(0,45,5))"
   ]
  },
  {
   "cell_type": "code",
   "execution_count": 35,
   "id": "b8cb85f9",
   "metadata": {},
   "outputs": [
    {
     "data": {
      "text/plain": [
       "0"
      ]
     },
     "execution_count": 35,
     "metadata": {},
     "output_type": "execute_result"
    }
   ],
   "source": [
    "next(r)"
   ]
  },
  {
   "cell_type": "code",
   "execution_count": 34,
   "id": "c76443aa",
   "metadata": {},
   "outputs": [],
   "source": [
    "r=iter(r)"
   ]
  },
  {
   "cell_type": "code",
   "execution_count": 39,
   "id": "faa3a66d",
   "metadata": {},
   "outputs": [],
   "source": [
    "def shubh(n):\n",
    "    l=[]\n",
    "    for i in range(n) :\n",
    "        l.append(i+2)\n",
    "    return l"
   ]
  },
  {
   "cell_type": "code",
   "execution_count": 43,
   "id": "afb213cb",
   "metadata": {},
   "outputs": [
    {
     "data": {
      "text/plain": [
       "[2, 3, 4, 5, 6, 7, 8, 9, 10, 11, 12, 13, 14, 15, 16, 17, 18, 19, 20, 21]"
      ]
     },
     "execution_count": 43,
     "metadata": {},
     "output_type": "execute_result"
    }
   ],
   "source": [
    "shubh(20)"
   ]
  },
  {
   "cell_type": "code",
   "execution_count": 45,
   "id": "dd167386",
   "metadata": {},
   "outputs": [
    {
     "name": "stdout",
     "output_type": "stream",
     "text": [
      "0\n",
      "1\n",
      "2\n",
      "3\n",
      "4\n",
      "5\n",
      "6\n",
      "7\n",
      "8\n",
      "9\n",
      "10\n",
      "11\n",
      "12\n",
      "13\n",
      "14\n",
      "15\n",
      "16\n",
      "17\n",
      "18\n",
      "19\n"
     ]
    }
   ],
   "source": [
    "for i in range(20):\n",
    "    print(i)"
   ]
  },
  {
   "cell_type": "code",
   "execution_count": 46,
   "id": "32933e14",
   "metadata": {},
   "outputs": [
    {
     "data": {
      "text/plain": [
       "int"
      ]
     },
     "execution_count": 46,
     "metadata": {},
     "output_type": "execute_result"
    }
   ],
   "source": [
    "type(i)"
   ]
  },
  {
   "cell_type": "code",
   "execution_count": 51,
   "id": "00f42c9d",
   "metadata": {},
   "outputs": [],
   "source": [
    "f = open(\"test.txt\",\"w\")"
   ]
  },
  {
   "cell_type": "code",
   "execution_count": 50,
   "id": "b46aac2e",
   "metadata": {},
   "outputs": [
    {
     "name": "stdout",
     "output_type": "stream",
     "text": [
      " Volume in drive C is Windows\n",
      " Volume Serial Number is 7293-F0DC\n",
      "\n",
      " Directory of C:\\Users\\shubh\n",
      "\n",
      "09/01/2022  11:54 AM    <DIR>          .\n",
      "29/10/2021  02:41 PM    <DIR>          ..\n",
      "22/12/2021  08:55 PM    <DIR>          .conda\n",
      "04/12/2021  10:20 AM                25 .condarc\n",
      "04/12/2021  10:20 AM    <DIR>          .continuum\n",
      "09/01/2022  10:22 AM    <DIR>          .ipynb_checkpoints\n",
      "04/12/2021  10:54 AM    <DIR>          .ipython\n",
      "20/12/2021  07:48 PM    <DIR>          .jupyter\n",
      "07/11/2021  11:49 PM    <DIR>          .Ld2VirtualBox\n",
      "31/10/2021  12:32 PM             6,893 -1.14-windows.xml\n",
      "03/12/2021  12:51 PM    <DIR>          103419079040931888859\n",
      "28/10/2021  02:53 PM    <DIR>          3D Objects\n",
      "23/12/2021  09:54 PM           102,264 abcd.ipynb\n",
      "22/12/2021  08:50 PM    <DIR>          anaconda3\n",
      "29/10/2021  02:55 PM    <DIR>          Contacts\n",
      "28/10/2021  02:57 PM    <DIR>          Documents\n",
      "08/01/2022  09:44 AM    <DIR>          Downloads\n",
      "29/10/2021  02:55 PM    <DIR>          Favorites\n",
      "07/01/2022  08:53 PM            28,121 for loops while loop (1).ipynb\n",
      "07/01/2022  07:15 PM            52,292 if else , for loop.ipynb\n",
      "09/01/2022  11:54 AM            26,003 iterable,gernator,8,9-1.ipynb\n",
      "29/10/2021  02:55 PM    <DIR>          Links\n",
      "15/11/2021  04:49 PM    <DIR>          Music\n",
      "03/12/2021  12:53 PM    <DIR>          My Drive\n",
      "29/10/2021  02:52 PM    <DIR>          OneDrive\n",
      "08/01/2022  10:08 AM            50,871 practice problem python basic.ipynb\n",
      "07/01/2022  01:33 PM            75,627 Python basic (3).ipynb\n",
      "29/10/2021  02:55 PM    <DIR>          Saved Games\n",
      "29/10/2021  02:55 PM    <DIR>          Searches\n",
      "09/01/2022  11:54 AM                 0 test.txt\n",
      "07/01/2022  02:33 PM            57,593 Tuples , set , dict .ipynb\n",
      "29/10/2021  02:55 PM    <DIR>          Videos\n",
      "              10 File(s)        399,689 bytes\n",
      "              22 Dir(s)  87,625,895,936 bytes free\n"
     ]
    }
   ],
   "source": [
    "%ls"
   ]
  },
  {
   "cell_type": "code",
   "execution_count": 57,
   "id": "9f1fe5be",
   "metadata": {},
   "outputs": [],
   "source": [
    "f= open(\"test1.txt\",\"w\")"
   ]
  },
  {
   "cell_type": "code",
   "execution_count": 54,
   "id": "5ce4661d",
   "metadata": {},
   "outputs": [
    {
     "data": {
      "text/plain": [
       "8"
      ]
     },
     "execution_count": 54,
     "metadata": {},
     "output_type": "execute_result"
    }
   ],
   "source": [
    "f.write(\"mnsbdkj \")"
   ]
  },
  {
   "cell_type": "code",
   "execution_count": 56,
   "id": "e23e87c6",
   "metadata": {},
   "outputs": [],
   "source": [
    "f.close()"
   ]
  },
  {
   "cell_type": "code",
   "execution_count": 58,
   "id": "e8ae1ce2",
   "metadata": {},
   "outputs": [
    {
     "ename": "UnsupportedOperation",
     "evalue": "not readable",
     "output_type": "error",
     "traceback": [
      "\u001b[1;31m---------------------------------------------------------------------------\u001b[0m",
      "\u001b[1;31mUnsupportedOperation\u001b[0m                      Traceback (most recent call last)",
      "\u001b[1;32m~\\AppData\\Local\\Temp/ipykernel_17020/3059900045.py\u001b[0m in \u001b[0;36m<module>\u001b[1;34m\u001b[0m\n\u001b[1;32m----> 1\u001b[1;33m \u001b[0mf\u001b[0m\u001b[1;33m.\u001b[0m\u001b[0mread\u001b[0m\u001b[1;33m(\u001b[0m\u001b[1;33m)\u001b[0m\u001b[1;33m\u001b[0m\u001b[1;33m\u001b[0m\u001b[0m\n\u001b[0m",
      "\u001b[1;31mUnsupportedOperation\u001b[0m: not readable"
     ]
    }
   ],
   "source": [
    "f.read()"
   ]
  },
  {
   "cell_type": "code",
   "execution_count": 75,
   "id": "5491fc3f",
   "metadata": {},
   "outputs": [
    {
     "ename": "SyntaxError",
     "evalue": "invalid syntax (Temp/ipykernel_17020/1756095373.py, line 1)",
     "output_type": "error",
     "traceback": [
      "\u001b[1;36m  File \u001b[1;32m\"C:\\Users\\shubh\\AppData\\Local\\Temp/ipykernel_17020/1756095373.py\"\u001b[1;36m, line \u001b[1;32m1\u001b[0m\n\u001b[1;33m    c= open(\"test2.txt,\"w\")\u001b[0m\n\u001b[1;37m                        ^\u001b[0m\n\u001b[1;31mSyntaxError\u001b[0m\u001b[1;31m:\u001b[0m invalid syntax\n"
     ]
    }
   ],
   "source": [
    "c= open(\"test2.txt,\"w\")"
   ]
  },
  {
   "cell_type": "code",
   "execution_count": 69,
   "id": "6873b81c",
   "metadata": {},
   "outputs": [
    {
     "data": {
      "text/plain": [
       "''"
      ]
     },
     "execution_count": 69,
     "metadata": {},
     "output_type": "execute_result"
    }
   ],
   "source": [
    "f.read()"
   ]
  },
  {
   "cell_type": "code",
   "execution_count": 70,
   "id": "2af6a775",
   "metadata": {},
   "outputs": [
    {
     "ename": "UnsupportedOperation",
     "evalue": "not writable",
     "output_type": "error",
     "traceback": [
      "\u001b[1;31m---------------------------------------------------------------------------\u001b[0m",
      "\u001b[1;31mUnsupportedOperation\u001b[0m                      Traceback (most recent call last)",
      "\u001b[1;32m~\\AppData\\Local\\Temp/ipykernel_17020/643723369.py\u001b[0m in \u001b[0;36m<module>\u001b[1;34m\u001b[0m\n\u001b[1;32m----> 1\u001b[1;33m \u001b[0mf\u001b[0m\u001b[1;33m.\u001b[0m\u001b[0mwrite\u001b[0m\u001b[1;33m(\u001b[0m\u001b[1;34m\"shubham dharmraj birari\"\u001b[0m\u001b[1;33m)\u001b[0m\u001b[1;33m\u001b[0m\u001b[1;33m\u001b[0m\u001b[0m\n\u001b[0m",
      "\u001b[1;31mUnsupportedOperation\u001b[0m: not writable"
     ]
    }
   ],
   "source": [
    "f.write(\"shubham dharmraj birari\")"
   ]
  },
  {
   "cell_type": "code",
   "execution_count": 72,
   "id": "46638c97",
   "metadata": {},
   "outputs": [
    {
     "data": {
      "text/plain": [
       "0"
      ]
     },
     "execution_count": 72,
     "metadata": {},
     "output_type": "execute_result"
    }
   ],
   "source": [
    "f.seek(0)"
   ]
  },
  {
   "cell_type": "code",
   "execution_count": 73,
   "id": "8488b8db",
   "metadata": {},
   "outputs": [
    {
     "data": {
      "text/plain": [
       "''"
      ]
     },
     "execution_count": 73,
     "metadata": {},
     "output_type": "execute_result"
    }
   ],
   "source": [
    "f.read()"
   ]
  },
  {
   "cell_type": "code",
   "execution_count": 76,
   "id": "c08707e2",
   "metadata": {},
   "outputs": [],
   "source": [
    "f.close()"
   ]
  },
  {
   "cell_type": "code",
   "execution_count": 79,
   "id": "1795af60",
   "metadata": {},
   "outputs": [],
   "source": [
    "f= open(\"test1.txt\", \"r+\")"
   ]
  },
  {
   "cell_type": "code",
   "execution_count": 92,
   "id": "f5b5cd8b",
   "metadata": {},
   "outputs": [
    {
     "data": {
      "text/plain": [
       "72"
      ]
     },
     "execution_count": 92,
     "metadata": {},
     "output_type": "execute_result"
    }
   ],
   "source": [
    "f.write(\"shubbham dharankj birarid aadhbfakfjabfkjkjjfakjf jhahakjfakjfa hfahfkaj\")"
   ]
  },
  {
   "cell_type": "code",
   "execution_count": 82,
   "id": "b5ebf0a0",
   "metadata": {},
   "outputs": [
    {
     "data": {
      "text/plain": [
       "''"
      ]
     },
     "execution_count": 82,
     "metadata": {},
     "output_type": "execute_result"
    }
   ],
   "source": [
    "f.read()"
   ]
  },
  {
   "cell_type": "code",
   "execution_count": 87,
   "id": "4f12676d",
   "metadata": {},
   "outputs": [
    {
     "data": {
      "text/plain": [
       "3"
      ]
     },
     "execution_count": 87,
     "metadata": {},
     "output_type": "execute_result"
    }
   ],
   "source": [
    "f.seek(3)"
   ]
  },
  {
   "cell_type": "code",
   "execution_count": 88,
   "id": "d5df2b99",
   "metadata": {},
   "outputs": [
    {
     "data": {
      "text/plain": [
       "'bbham dharankj birari'"
      ]
     },
     "execution_count": 88,
     "metadata": {},
     "output_type": "execute_result"
    }
   ],
   "source": [
    "f.read()"
   ]
  },
  {
   "cell_type": "code",
   "execution_count": 93,
   "id": "2220bc93",
   "metadata": {},
   "outputs": [
    {
     "data": {
      "text/plain": [
       "''"
      ]
     },
     "execution_count": 93,
     "metadata": {},
     "output_type": "execute_result"
    }
   ],
   "source": [
    "f.readline()"
   ]
  },
  {
   "cell_type": "code",
   "execution_count": 90,
   "id": "f1af784b",
   "metadata": {},
   "outputs": [
    {
     "data": {
      "text/plain": [
       "24"
      ]
     },
     "execution_count": 90,
     "metadata": {},
     "output_type": "execute_result"
    }
   ],
   "source": [
    "f.tell()"
   ]
  },
  {
   "cell_type": "code",
   "execution_count": 96,
   "id": "c1574312",
   "metadata": {},
   "outputs": [
    {
     "ename": "FileNotFoundError",
     "evalue": "[Errno 2] No such file or directory: 'google.txt'",
     "output_type": "error",
     "traceback": [
      "\u001b[1;31m---------------------------------------------------------------------------\u001b[0m",
      "\u001b[1;31mFileNotFoundError\u001b[0m                         Traceback (most recent call last)",
      "\u001b[1;32m~\\AppData\\Local\\Temp/ipykernel_17020/1541481640.py\u001b[0m in \u001b[0;36m<module>\u001b[1;34m\u001b[0m\n\u001b[1;32m----> 1\u001b[1;33m \u001b[0mf\u001b[0m \u001b[1;33m=\u001b[0m \u001b[0mopen\u001b[0m\u001b[1;33m(\u001b[0m\u001b[1;34m\"google.txt\"\u001b[0m\u001b[1;33m,\u001b[0m\u001b[1;34m\"r+\"\u001b[0m\u001b[1;33m)\u001b[0m\u001b[1;33m\u001b[0m\u001b[1;33m\u001b[0m\u001b[0m\n\u001b[0m",
      "\u001b[1;31mFileNotFoundError\u001b[0m: [Errno 2] No such file or directory: 'google.txt'"
     ]
    }
   ],
   "source": [
    "f = open(\"google.txt\",\"r+\")"
   ]
  },
  {
   "cell_type": "code",
   "execution_count": 95,
   "id": "5c8da3d7",
   "metadata": {},
   "outputs": [],
   "source": [
    "f.close()"
   ]
  },
  {
   "cell_type": "code",
   "execution_count": 99,
   "id": "baf43fdb",
   "metadata": {},
   "outputs": [
    {
     "ename": "FileNotFoundError",
     "evalue": "[Errno 2] No such file or directory: ' google,txt'",
     "output_type": "error",
     "traceback": [
      "\u001b[1;31m---------------------------------------------------------------------------\u001b[0m",
      "\u001b[1;31mFileNotFoundError\u001b[0m                         Traceback (most recent call last)",
      "\u001b[1;32m~\\AppData\\Local\\Temp/ipykernel_17020/3891591101.py\u001b[0m in \u001b[0;36m<module>\u001b[1;34m\u001b[0m\n\u001b[1;32m----> 1\u001b[1;33m \u001b[0mf\u001b[0m \u001b[1;33m=\u001b[0m \u001b[0mopen\u001b[0m\u001b[1;33m(\u001b[0m\u001b[1;34m\" google,txt\"\u001b[0m\u001b[1;33m,\u001b[0m \u001b[1;34m\"r+\"\u001b[0m\u001b[1;33m)\u001b[0m\u001b[1;33m\u001b[0m\u001b[1;33m\u001b[0m\u001b[0m\n\u001b[0m",
      "\u001b[1;31mFileNotFoundError\u001b[0m: [Errno 2] No such file or directory: ' google,txt'"
     ]
    }
   ],
   "source": [
    "f = open(\" google,txt\", \"r+\")"
   ]
  },
  {
   "cell_type": "code",
   "execution_count": 100,
   "id": "ecbd6fd9",
   "metadata": {},
   "outputs": [],
   "source": [
    "f= open(\"test1.txt\", \"r+\")"
   ]
  },
  {
   "cell_type": "code",
   "execution_count": 101,
   "id": "73c54ee3",
   "metadata": {},
   "outputs": [
    {
     "data": {
      "text/plain": [
       "'shubbham dharankj birarishubbham dharankj birarid aadhbfakfjabfkjkjjfakjf jhahakjfakjfa hfahfkaj'"
      ]
     },
     "execution_count": 101,
     "metadata": {},
     "output_type": "execute_result"
    }
   ],
   "source": [
    "f.readline()"
   ]
  },
  {
   "cell_type": "code",
   "execution_count": 104,
   "id": "3256b3bb",
   "metadata": {},
   "outputs": [
    {
     "data": {
      "text/plain": [
       "'shubbham dharankj birarishubbham dharankj birarid aadhbfakfjabfkjkjjfakjf jhahakjfakjfa hfahfkaj'"
      ]
     },
     "execution_count": 104,
     "metadata": {},
     "output_type": "execute_result"
    }
   ],
   "source": [
    "f.read()"
   ]
  },
  {
   "cell_type": "code",
   "execution_count": 112,
   "id": "4773124e",
   "metadata": {},
   "outputs": [
    {
     "data": {
      "text/plain": [
       "0"
      ]
     },
     "execution_count": 112,
     "metadata": {},
     "output_type": "execute_result"
    }
   ],
   "source": [
    "f.seek(0)"
   ]
  },
  {
   "cell_type": "code",
   "execution_count": 113,
   "id": "7961602c",
   "metadata": {},
   "outputs": [],
   "source": [
    "l=f.readlines()"
   ]
  },
  {
   "cell_type": "code",
   "execution_count": 115,
   "id": "7f0fa070",
   "metadata": {},
   "outputs": [
    {
     "data": {
      "text/plain": [
       "['shubbham',\n",
       " 'dharankj',\n",
       " 'birarishubbham',\n",
       " 'dharankj',\n",
       " 'birarid',\n",
       " 'aadhbfakfjabfkjkjjfakjf',\n",
       " 'jhahakjfakjfa',\n",
       " 'hfahfkaj']"
      ]
     },
     "execution_count": 115,
     "metadata": {},
     "output_type": "execute_result"
    }
   ],
   "source": [
    "l[0].split()"
   ]
  },
  {
   "cell_type": "code",
   "execution_count": 117,
   "id": "3b8806d2",
   "metadata": {},
   "outputs": [
    {
     "data": {
      "text/plain": [
       "28"
      ]
     },
     "execution_count": 117,
     "metadata": {},
     "output_type": "execute_result"
    }
   ],
   "source": [
    "f.write(\"what thenfucck lhsdkj jbdkja\")"
   ]
  },
  {
   "cell_type": "code",
   "execution_count": 118,
   "id": "e8738faa",
   "metadata": {},
   "outputs": [],
   "source": [
    "l=[\"what rare yot kfnlkf\",\"klfhfkhflkjhfo\",\"jfskjdf,mn lksfkl\"]"
   ]
  },
  {
   "cell_type": "code",
   "execution_count": 119,
   "id": "7753c543",
   "metadata": {},
   "outputs": [
    {
     "data": {
      "text/plain": [
       "23"
      ]
     },
     "execution_count": 119,
     "metadata": {},
     "output_type": "execute_result"
    }
   ],
   "source": [
    "f.write(\"shubbhms  msnsl msfnsmk\")"
   ]
  },
  {
   "cell_type": "code",
   "execution_count": 121,
   "id": "9af32560",
   "metadata": {},
   "outputs": [],
   "source": [
    "f.writelines(l)"
   ]
  },
  {
   "cell_type": "code",
   "execution_count": 128,
   "id": "2f2c0145",
   "metadata": {},
   "outputs": [
    {
     "name": "stdout",
     "output_type": "stream",
     "text": [
      " Volume in drive C is Windows\n",
      " Volume Serial Number is 7293-F0DC\n",
      "\n",
      " Directory of C:\\Users\\shubh\n",
      "\n",
      "09/01/2022  12:57 PM    <DIR>          .\n",
      "29/10/2021  02:41 PM    <DIR>          ..\n",
      "22/12/2021  08:55 PM    <DIR>          .conda\n",
      "04/12/2021  10:20 AM                25 .condarc\n",
      "04/12/2021  10:20 AM    <DIR>          .continuum\n",
      "09/01/2022  10:22 AM    <DIR>          .ipynb_checkpoints\n",
      "04/12/2021  10:54 AM    <DIR>          .ipython\n",
      "20/12/2021  07:48 PM    <DIR>          .jupyter\n",
      "07/11/2021  11:49 PM    <DIR>          .Ld2VirtualBox\n",
      "31/10/2021  12:32 PM             6,893 -1.14-windows.xml\n",
      "03/12/2021  12:51 PM    <DIR>          103419079040931888859\n",
      "28/10/2021  02:53 PM    <DIR>          3D Objects\n",
      "23/12/2021  09:54 PM           102,264 abcd.ipynb\n",
      "22/12/2021  08:50 PM    <DIR>          anaconda3\n",
      "29/10/2021  02:55 PM    <DIR>          Contacts\n",
      "28/10/2021  02:57 PM    <DIR>          Documents\n",
      "08/01/2022  09:44 AM    <DIR>          Downloads\n",
      "29/10/2021  02:55 PM    <DIR>          Favorites\n",
      "07/01/2022  08:53 PM            28,121 for loops while loop (1).ipynb\n",
      "07/01/2022  07:15 PM            52,292 if else , for loop.ipynb\n",
      "09/01/2022  12:56 PM            43,215 iterable,gernator,8,9-1.ipynb\n",
      "29/10/2021  02:55 PM    <DIR>          Links\n",
      "15/11/2021  04:49 PM    <DIR>          Music\n",
      "03/12/2021  12:53 PM    <DIR>          My Drive\n",
      "29/10/2021  02:52 PM    <DIR>          OneDrive\n",
      "08/01/2022  10:08 AM            50,871 practice problem python basic.ipynb\n",
      "07/01/2022  01:33 PM            75,627 Python basic (3).ipynb\n",
      "29/10/2021  02:55 PM    <DIR>          Saved Games\n",
      "29/10/2021  02:55 PM    <DIR>          Searches\n",
      "09/01/2022  11:56 AM                 0 test.txt\n",
      "07/01/2022  02:33 PM            57,593 Tuples , set , dict .ipynb\n",
      "29/10/2021  02:55 PM    <DIR>          Videos\n",
      "              10 File(s)        416,901 bytes\n",
      "              22 Dir(s)  87,634,825,216 bytes free\n"
     ]
    }
   ],
   "source": [
    "%ls"
   ]
  },
  {
   "cell_type": "code",
   "execution_count": 123,
   "id": "f0c8697a",
   "metadata": {},
   "outputs": [],
   "source": [
    "import os"
   ]
  },
  {
   "cell_type": "code",
   "execution_count": 127,
   "id": "4eee3fb4",
   "metadata": {},
   "outputs": [],
   "source": [
    "os.remove(\"test1.txt\")"
   ]
  },
  {
   "cell_type": "code",
   "execution_count": 126,
   "id": "2251af8a",
   "metadata": {},
   "outputs": [],
   "source": [
    "f.close()"
   ]
  },
  {
   "cell_type": "code",
   "execution_count": 129,
   "id": "aa1e4e00",
   "metadata": {},
   "outputs": [
    {
     "data": {
      "text/plain": [
       "['-1.14-windows.xml',\n",
       " '.conda',\n",
       " '.condarc',\n",
       " '.continuum',\n",
       " '.ipynb_checkpoints',\n",
       " '.ipython',\n",
       " '.jupyter',\n",
       " '.Ld2VirtualBox',\n",
       " '103419079040931888859',\n",
       " '3D Objects',\n",
       " 'abcd.ipynb',\n",
       " 'anaconda3',\n",
       " 'AppData',\n",
       " 'Application Data',\n",
       " 'Contacts',\n",
       " 'Cookies',\n",
       " 'Documents',\n",
       " 'Downloads',\n",
       " 'Favorites',\n",
       " 'for loops while loop (1).ipynb',\n",
       " 'if else , for loop.ipynb',\n",
       " 'IntelGraphicsProfiles',\n",
       " 'iterable,gernator,8,9-1.ipynb',\n",
       " 'Links',\n",
       " 'Local Settings',\n",
       " 'Music',\n",
       " 'My Documents',\n",
       " 'My Drive',\n",
       " 'NetHood',\n",
       " 'NTUSER.DAT',\n",
       " 'ntuser.dat.LOG1',\n",
       " 'ntuser.dat.LOG2',\n",
       " 'NTUSER.DAT{1c2b59c6-c5f5-11eb-bacb-000d3a96488e}.TM.blf',\n",
       " 'NTUSER.DAT{1c2b59c6-c5f5-11eb-bacb-000d3a96488e}.TMContainer00000000000000000001.regtrans-ms',\n",
       " 'NTUSER.DAT{1c2b59c6-c5f5-11eb-bacb-000d3a96488e}.TMContainer00000000000000000002.regtrans-ms',\n",
       " 'ntuser.ini',\n",
       " 'OneDrive',\n",
       " 'practice problem python basic.ipynb',\n",
       " 'PrintHood',\n",
       " 'Python basic (3).ipynb',\n",
       " 'Recent',\n",
       " 'Saved Games',\n",
       " 'Searches',\n",
       " 'SendTo',\n",
       " 'Start Menu',\n",
       " 'Templates',\n",
       " 'test.txt',\n",
       " 'Tuples , set , dict .ipynb',\n",
       " 'Videos']"
      ]
     },
     "execution_count": 129,
     "metadata": {},
     "output_type": "execute_result"
    }
   ],
   "source": [
    "os.listdir()"
   ]
  },
  {
   "cell_type": "code",
   "execution_count": 130,
   "id": "a8bad5a7",
   "metadata": {},
   "outputs": [
    {
     "data": {
      "text/plain": [
       "b'C:\\\\Users\\\\shubh'"
      ]
     },
     "execution_count": 130,
     "metadata": {},
     "output_type": "execute_result"
    }
   ],
   "source": [
    "os.getcwdb()"
   ]
  },
  {
   "cell_type": "markdown",
   "id": "daf72e1b",
   "metadata": {},
   "source": [
    "### practice\n"
   ]
  },
  {
   "cell_type": "raw",
   "id": "2b817947",
   "metadata": {},
   "source": [
    "\"\"\"here is a multiline comment\n",
    "\"\"\""
   ]
  },
  {
   "cell_type": "code",
   "execution_count": 33,
   "id": "eebc2307",
   "metadata": {},
   "outputs": [],
   "source": [
    "f = open(\"sanpletest.txt\", \"w\")"
   ]
  },
  {
   "cell_type": "code",
   "execution_count": 19,
   "id": "5a2aa625",
   "metadata": {},
   "outputs": [
    {
     "data": {
      "text/plain": [
       "'C:\\\\Users\\\\shubh\\\\ineuron files'"
      ]
     },
     "execution_count": 19,
     "metadata": {},
     "output_type": "execute_result"
    }
   ],
   "source": [
    "pwd()"
   ]
  },
  {
   "cell_type": "code",
   "execution_count": 20,
   "id": "490acc74",
   "metadata": {},
   "outputs": [
    {
     "name": "stdout",
     "output_type": "stream",
     "text": [
      " Volume in drive C is Windows\n",
      " Volume Serial Number is 7293-F0DC\n",
      "\n",
      " Directory of C:\\Users\\shubh\\ineuron files\n",
      "\n",
      "20-01-2024  06:05 PM    <DIR>          .\n",
      "16-01-2024  09:25 PM    <DIR>          ..\n",
      "20-01-2024  05:41 PM    <DIR>          .ipynb_checkpoints\n",
      "31-10-2021  12:32 PM             6,893 -1.14-windows.xml\n",
      "19-03-2023  02:51 PM    <DIR>          19.2.MySQL\n",
      "20-02-2022  06:16 PM         4,407,102 19.3 MongoDB.7z\n",
      "13-03-2022  06:46 PM             9,346 19.3.1 mongoDB introduction.ipynb\n",
      "13-03-2022  09:29 PM           557,521 19.3.2 pyMongo.ipynb\n",
      "09-04-2022  11:24 AM            13,918 9- 4 -22  flask review project.ipynb\n",
      "17-01-2024  07:45 PM           138,363 abcd of pyton.ipynb\n",
      "21-02-2023  12:50 PM             4,022 basic python assignment.ipynb\n",
      "04-02-2022  10:47 PM            28,711 class and object.ipynb\n",
      "18-03-2022  11:11 AM             5,658 cricket.csv\n",
      "18-03-2023  12:19 AM           126,758 Download Private Videos From Vimeo [MARCH 2023].html\n",
      "19-03-2023  02:51 PM    <DIR>          Download Private Videos From Vimeo [MARCH 2023]_files\n",
      "16-01-2022  11:46 AM            13,282 Exception handling class 1.ipynb\n",
      "23-01-2022  10:18 AM            62,825 Exception handling class 2.ipynb\n",
      "06-02-2023  08:51 PM         2,546,942 for loops while loop (1).ipynb\n",
      "19-01-2024  04:57 PM           144,022 Function continued.ipynb\n",
      "06-02-2022  10:37 AM            11,903 glass.data\n",
      "12-04-2022  06:39 PM           197,390 gold invest project.ipynb\n",
      "13-04-2022  11:55 AM           423,437 gold investment prediction project.ipynb\n",
      "15-03-2023  12:49 PM         3,075,097 Graph using pandas,Numpy, and matplotlib ,  Plotly library .ipynb\n",
      "03-03-2023  02:32 PM         1,086,762 graphs using seaborn library .ipynb\n",
      "18-01-2024  01:46 PM            93,483 if else , for loop.ipynb\n",
      "15-03-2022  02:43 PM            12,288 ineuron.db\n",
      "22-02-2022  11:56 PM             8,192 inron.db\n",
      "20-01-2024  06:05 PM            53,355 iterable,gernator,8,9-1.ipynb\n",
      "15-01-2022  10:05 PM        21,692,161 iterator generator.ipynb\n",
      "15-03-2022  06:53 AM            18,015 locations.csv\n",
      "04-02-2022  11:41 AM             4,052 logging (1).ipynb\n",
      "28-05-2022  02:08 PM               115 module2.py\n",
      "19-02-2022  09:26 AM            25,365 mongodb class 1.ipynb\n",
      "23-02-2023  10:53 PM            81,552 nba_stats.csv\n",
      "26-03-2022  10:50 PM            33,693 numpy day 2.ipynb\n",
      "05-02-2022  04:31 PM            48,025 oops 29th .ipynb\n",
      "05-02-2022  10:31 PM            42,189 oops 30th_2022.ipynb\n",
      "28-01-2022  07:00 PM            39,570 oops class 1.ipynb\n",
      "13-04-2022  11:16 AM           265,710 pandas 4 .ipynb\n",
      "21-03-2022  02:32 PM           103,601 pandas and numpy.ipynb\n",
      "25-02-2023  12:34 AM            88,778 pandas class 3.ipynb\n",
      "18-03-2022  11:20 AM           914,029 pandas day 2.ipynb\n",
      "23-02-2023  10:55 PM           454,123 Pandas.ipynb\n",
      "15-03-2022  03:14 PM            12,288 personn.db\n",
      "15-03-2022  03:19 PM             8,720 personn.db-journal\n",
      "08-01-2022  10:08 AM            50,871 practice problem python basic.ipynb\n",
      "06-05-2022  08:40 PM        11,661,759 practice.ipynb\n",
      "28-05-2022  02:13 PM            91,009 pthon practicals.ipynb\n",
      "03-02-2023  10:53 PM            93,867 Python basic (3).ipynb\n",
      "21-02-2023  12:45 PM             2,187 python basics assignment 1.py\n",
      "21-02-2023  12:49 PM           106,246 python-NUMPY-00.ipynb\n",
      "07-02-2023  12:20 PM           146,243 RegularExpression (1).ipynb\n",
      "08-02-2023  12:26 PM            32,948 RegularExpression-checkpoint.ipynb\n",
      "16-03-2022  11:36 AM               175 sample_test.csv\n",
      "19-03-2023  02:51 PM    <DIR>          sample-csv\n",
      "20-01-2024  06:05 PM                 0 sanpletest.txt\n",
      "12-04-2022  11:18 AM               439 secondary data.csv\n",
      "13-03-2022  03:29 PM            54,257 self mongodb.ipynb\n",
      "20-05-2022  11:29 AM           282,431 shubham birari (9809) .ipynb\n",
      "07-03-2023  12:39 AM           447,278 SQL basic ineuron video 1,2.ipynb\n",
      "07-02-2022  11:13 AM           358,512 sql day 2 .ipynb\n",
      "15-03-2022  07:42 PM            72,368 SQLLITE ,map ,reduce ,filter,zip.ipynb\n",
      "19-03-2023  02:51 PM    <DIR>          statistics\n",
      "04-02-2023  07:12 PM           137,049 Tuples , set , dict .ipynb\n",
      "30-01-2022  10:50 AM             7,231 Untitled.ipynb\n",
      "07-02-2022  11:40 AM             7,392 Untitled1.ipynb\n",
      "              59 File(s)     50,411,518 bytes\n",
      "               7 Dir(s)  47,670,255,616 bytes free\n"
     ]
    }
   ],
   "source": [
    "%ls"
   ]
  },
  {
   "cell_type": "code",
   "execution_count": 103,
   "id": "43da6f85",
   "metadata": {},
   "outputs": [
    {
     "ename": "ValueError",
     "evalue": "I/O operation on closed file.",
     "output_type": "error",
     "traceback": [
      "\u001b[1;31m---------------------------------------------------------------------------\u001b[0m",
      "\u001b[1;31mValueError\u001b[0m                                Traceback (most recent call last)",
      "\u001b[1;32m~\\AppData\\Local\\Temp/ipykernel_14280/431499153.py\u001b[0m in \u001b[0;36m<module>\u001b[1;34m\u001b[0m\n\u001b[1;32m----> 1\u001b[1;33m \u001b[0mf\u001b[0m\u001b[1;33m.\u001b[0m\u001b[0mwrite\u001b[0m\u001b[1;33m(\u001b[0m\u001b[1;34m\"asdjabdhahdjdbjahd sample file to write\"\u001b[0m\u001b[1;33m)\u001b[0m\u001b[1;33m\u001b[0m\u001b[1;33m\u001b[0m\u001b[0m\n\u001b[0m",
      "\u001b[1;31mValueError\u001b[0m: I/O operation on closed file."
     ]
    }
   ],
   "source": [
    "f.write(\"asdjabdhahdjdbjahd sample file to write\")"
   ]
  },
  {
   "cell_type": "code",
   "execution_count": 104,
   "id": "c2572a9e",
   "metadata": {},
   "outputs": [],
   "source": [
    "f.close()"
   ]
  },
  {
   "cell_type": "code",
   "execution_count": 41,
   "id": "79d5cb92",
   "metadata": {},
   "outputs": [
    {
     "data": {
      "text/plain": [
       "<_io.TextIOWrapper name='sanpletest.txt' mode='w' encoding='cp1252'>"
      ]
     },
     "execution_count": 41,
     "metadata": {},
     "output_type": "execute_result"
    }
   ],
   "source": [
    "f"
   ]
  },
  {
   "cell_type": "code",
   "execution_count": 25,
   "id": "311af969",
   "metadata": {},
   "outputs": [
    {
     "name": "stdout",
     "output_type": "stream",
     "text": [
      "Writing sampletest2.txt\n"
     ]
    }
   ],
   "source": [
    "%%writefile sampletest2.txt\n",
    "tis is the  sampe test 2 are you seeing it"
   ]
  },
  {
   "cell_type": "code",
   "execution_count": 26,
   "id": "bdad6723",
   "metadata": {
    "scrolled": false
   },
   "outputs": [
    {
     "name": "stdout",
     "output_type": "stream",
     "text": [
      " Volume in drive C is Windows\n",
      " Volume Serial Number is 7293-F0DC\n",
      "\n",
      " Directory of C:\\Users\\shubh\\ineuron files\n",
      "\n",
      "20-01-2024  07:00 PM    <DIR>          .\n",
      "16-01-2024  09:25 PM    <DIR>          ..\n",
      "20-01-2024  05:41 PM    <DIR>          .ipynb_checkpoints\n",
      "31-10-2021  12:32 PM             6,893 -1.14-windows.xml\n",
      "19-03-2023  02:51 PM    <DIR>          19.2.MySQL\n",
      "20-02-2022  06:16 PM         4,407,102 19.3 MongoDB.7z\n",
      "13-03-2022  06:46 PM             9,346 19.3.1 mongoDB introduction.ipynb\n",
      "13-03-2022  09:29 PM           557,521 19.3.2 pyMongo.ipynb\n",
      "09-04-2022  11:24 AM            13,918 9- 4 -22  flask review project.ipynb\n",
      "17-01-2024  07:45 PM           138,363 abcd of pyton.ipynb\n",
      "21-02-2023  12:50 PM             4,022 basic python assignment.ipynb\n",
      "04-02-2022  10:47 PM            28,711 class and object.ipynb\n",
      "18-03-2022  11:11 AM             5,658 cricket.csv\n",
      "18-03-2023  12:19 AM           126,758 Download Private Videos From Vimeo [MARCH 2023].html\n",
      "19-03-2023  02:51 PM    <DIR>          Download Private Videos From Vimeo [MARCH 2023]_files\n",
      "16-01-2022  11:46 AM            13,282 Exception handling class 1.ipynb\n",
      "23-01-2022  10:18 AM            62,825 Exception handling class 2.ipynb\n",
      "06-02-2023  08:51 PM         2,546,942 for loops while loop (1).ipynb\n",
      "19-01-2024  04:57 PM           144,022 Function continued.ipynb\n",
      "06-02-2022  10:37 AM            11,903 glass.data\n",
      "12-04-2022  06:39 PM           197,390 gold invest project.ipynb\n",
      "13-04-2022  11:55 AM           423,437 gold investment prediction project.ipynb\n",
      "15-03-2023  12:49 PM         3,075,097 Graph using pandas,Numpy, and matplotlib ,  Plotly library .ipynb\n",
      "03-03-2023  02:32 PM         1,086,762 graphs using seaborn library .ipynb\n",
      "18-01-2024  01:46 PM            93,483 if else , for loop.ipynb\n",
      "15-03-2022  02:43 PM            12,288 ineuron.db\n",
      "22-02-2022  11:56 PM             8,192 inron.db\n",
      "20-01-2024  06:07 PM            52,960 iterable,gernator,8,9-1.ipynb\n",
      "15-01-2022  10:05 PM        21,692,161 iterator generator.ipynb\n",
      "15-03-2022  06:53 AM            18,015 locations.csv\n",
      "04-02-2022  11:41 AM             4,052 logging (1).ipynb\n",
      "28-05-2022  02:08 PM               115 module2.py\n",
      "19-02-2022  09:26 AM            25,365 mongodb class 1.ipynb\n",
      "23-02-2023  10:53 PM            81,552 nba_stats.csv\n",
      "26-03-2022  10:50 PM            33,693 numpy day 2.ipynb\n",
      "05-02-2022  04:31 PM            48,025 oops 29th .ipynb\n",
      "05-02-2022  10:31 PM            42,189 oops 30th_2022.ipynb\n",
      "28-01-2022  07:00 PM            39,570 oops class 1.ipynb\n",
      "13-04-2022  11:16 AM           265,710 pandas 4 .ipynb\n",
      "21-03-2022  02:32 PM           103,601 pandas and numpy.ipynb\n",
      "25-02-2023  12:34 AM            88,778 pandas class 3.ipynb\n",
      "18-03-2022  11:20 AM           914,029 pandas day 2.ipynb\n",
      "23-02-2023  10:55 PM           454,123 Pandas.ipynb\n",
      "15-03-2022  03:14 PM            12,288 personn.db\n",
      "15-03-2022  03:19 PM             8,720 personn.db-journal\n",
      "08-01-2022  10:08 AM            50,871 practice problem python basic.ipynb\n",
      "06-05-2022  08:40 PM        11,661,759 practice.ipynb\n",
      "28-05-2022  02:13 PM            91,009 pthon practicals.ipynb\n",
      "03-02-2023  10:53 PM            93,867 Python basic (3).ipynb\n",
      "21-02-2023  12:45 PM             2,187 python basics assignment 1.py\n",
      "21-02-2023  12:49 PM           106,246 python-NUMPY-00.ipynb\n",
      "07-02-2023  12:20 PM           146,243 RegularExpression (1).ipynb\n",
      "08-02-2023  12:26 PM            32,948 RegularExpression-checkpoint.ipynb\n",
      "16-03-2022  11:36 AM               175 sample_test.csv\n",
      "19-03-2023  02:51 PM    <DIR>          sample-csv\n",
      "20-01-2024  07:00 PM                44 sampletest2.txt\n",
      "20-01-2024  06:06 PM                39 sanpletest.txt\n",
      "12-04-2022  11:18 AM               439 secondary data.csv\n",
      "13-03-2022  03:29 PM            54,257 self mongodb.ipynb\n",
      "20-05-2022  11:29 AM           282,431 shubham birari (9809) .ipynb\n",
      "07-03-2023  12:39 AM           447,278 SQL basic ineuron video 1,2.ipynb\n",
      "07-02-2022  11:13 AM           358,512 sql day 2 .ipynb\n",
      "15-03-2022  07:42 PM            72,368 SQLLITE ,map ,reduce ,filter,zip.ipynb\n",
      "19-03-2023  02:51 PM    <DIR>          statistics\n",
      "04-02-2023  07:12 PM           137,049 Tuples , set , dict .ipynb\n",
      "30-01-2022  10:50 AM             7,231 Untitled.ipynb\n",
      "07-02-2022  11:40 AM             7,392 Untitled1.ipynb\n",
      "              60 File(s)     50,411,206 bytes\n",
      "               7 Dir(s)  47,943,282,688 bytes free\n"
     ]
    }
   ],
   "source": [
    "%ls"
   ]
  },
  {
   "cell_type": "code",
   "execution_count": 94,
   "id": "76ba75d6",
   "metadata": {},
   "outputs": [
    {
     "ename": "ValueError",
     "evalue": "I/O operation on closed file.",
     "output_type": "error",
     "traceback": [
      "\u001b[1;31m---------------------------------------------------------------------------\u001b[0m",
      "\u001b[1;31mValueError\u001b[0m                                Traceback (most recent call last)",
      "\u001b[1;32m~\\AppData\\Local\\Temp/ipykernel_14280/3059900045.py\u001b[0m in \u001b[0;36m<module>\u001b[1;34m\u001b[0m\n\u001b[1;32m----> 1\u001b[1;33m \u001b[0mf\u001b[0m\u001b[1;33m.\u001b[0m\u001b[0mread\u001b[0m\u001b[1;33m(\u001b[0m\u001b[1;33m)\u001b[0m\u001b[1;33m\u001b[0m\u001b[1;33m\u001b[0m\u001b[0m\n\u001b[0m",
      "\u001b[1;31mValueError\u001b[0m: I/O operation on closed file."
     ]
    }
   ],
   "source": [
    "f.read()"
   ]
  },
  {
   "cell_type": "code",
   "execution_count": 95,
   "id": "4f72f579",
   "metadata": {},
   "outputs": [],
   "source": [
    "f.close()"
   ]
  },
  {
   "cell_type": "code",
   "execution_count": 39,
   "id": "67ae6ac5",
   "metadata": {},
   "outputs": [
    {
     "ename": "ValueError",
     "evalue": "I/O operation on closed file.",
     "output_type": "error",
     "traceback": [
      "\u001b[1;31m---------------------------------------------------------------------------\u001b[0m",
      "\u001b[1;31mValueError\u001b[0m                                Traceback (most recent call last)",
      "\u001b[1;32m~\\AppData\\Local\\Temp/ipykernel_14280/3059900045.py\u001b[0m in \u001b[0;36m<module>\u001b[1;34m\u001b[0m\n\u001b[1;32m----> 1\u001b[1;33m \u001b[0mf\u001b[0m\u001b[1;33m.\u001b[0m\u001b[0mread\u001b[0m\u001b[1;33m(\u001b[0m\u001b[1;33m)\u001b[0m\u001b[1;33m\u001b[0m\u001b[1;33m\u001b[0m\u001b[0m\n\u001b[0m",
      "\u001b[1;31mValueError\u001b[0m: I/O operation on closed file."
     ]
    }
   ],
   "source": [
    "f.read()"
   ]
  },
  {
   "cell_type": "code",
   "execution_count": 42,
   "id": "b58f215c",
   "metadata": {},
   "outputs": [],
   "source": [
    "f.close()"
   ]
  },
  {
   "cell_type": "code",
   "execution_count": 43,
   "id": "e8a46872",
   "metadata": {},
   "outputs": [
    {
     "ename": "TypeError",
     "evalue": "TextIOWrapper.write() takes exactly one argument (0 given)",
     "output_type": "error",
     "traceback": [
      "\u001b[1;31m---------------------------------------------------------------------------\u001b[0m",
      "\u001b[1;31mTypeError\u001b[0m                                 Traceback (most recent call last)",
      "\u001b[1;32m~\\AppData\\Local\\Temp/ipykernel_14280/3267976891.py\u001b[0m in \u001b[0;36m<module>\u001b[1;34m\u001b[0m\n\u001b[1;32m----> 1\u001b[1;33m \u001b[0mf\u001b[0m\u001b[1;33m.\u001b[0m\u001b[0mwrite\u001b[0m\u001b[1;33m(\u001b[0m\u001b[1;33m)\u001b[0m\u001b[1;33m\u001b[0m\u001b[1;33m\u001b[0m\u001b[0m\n\u001b[0m",
      "\u001b[1;31mTypeError\u001b[0m: TextIOWrapper.write() takes exactly one argument (0 given)"
     ]
    }
   ],
   "source": [
    "f.write()"
   ]
  },
  {
   "cell_type": "code",
   "execution_count": 44,
   "id": "e33eaa95",
   "metadata": {},
   "outputs": [
    {
     "data": {
      "text/plain": [
       "<_io.TextIOWrapper name='sanpletest.txt' mode='w' encoding='cp1252'>"
      ]
     },
     "execution_count": 44,
     "metadata": {},
     "output_type": "execute_result"
    }
   ],
   "source": [
    "f"
   ]
  },
  {
   "cell_type": "code",
   "execution_count": 45,
   "id": "02ad2fb5",
   "metadata": {},
   "outputs": [
    {
     "data": {
      "text/plain": [
       "True"
      ]
     },
     "execution_count": 45,
     "metadata": {},
     "output_type": "execute_result"
    }
   ],
   "source": [
    "f.closed"
   ]
  },
  {
   "cell_type": "code",
   "execution_count": 46,
   "id": "cb60c266",
   "metadata": {},
   "outputs": [
    {
     "data": {
      "text/plain": [
       "'sanpletest.txt'"
      ]
     },
     "execution_count": 46,
     "metadata": {},
     "output_type": "execute_result"
    }
   ],
   "source": [
    "f.name"
   ]
  },
  {
   "cell_type": "code",
   "execution_count": 48,
   "id": "76910dca",
   "metadata": {},
   "outputs": [
    {
     "data": {
      "text/plain": [
       "False"
      ]
     },
     "execution_count": 48,
     "metadata": {},
     "output_type": "execute_result"
    }
   ],
   "source": [
    "f.readable()"
   ]
  },
  {
   "cell_type": "code",
   "execution_count": 49,
   "id": "85dceb0b",
   "metadata": {},
   "outputs": [
    {
     "ename": "ValueError",
     "evalue": "I/O operation on closed file.",
     "output_type": "error",
     "traceback": [
      "\u001b[1;31m---------------------------------------------------------------------------\u001b[0m",
      "\u001b[1;31mValueError\u001b[0m                                Traceback (most recent call last)",
      "\u001b[1;32m~\\AppData\\Local\\Temp/ipykernel_14280/3059900045.py\u001b[0m in \u001b[0;36m<module>\u001b[1;34m\u001b[0m\n\u001b[1;32m----> 1\u001b[1;33m \u001b[0mf\u001b[0m\u001b[1;33m.\u001b[0m\u001b[0mread\u001b[0m\u001b[1;33m(\u001b[0m\u001b[1;33m)\u001b[0m\u001b[1;33m\u001b[0m\u001b[1;33m\u001b[0m\u001b[0m\n\u001b[0m",
      "\u001b[1;31mValueError\u001b[0m: I/O operation on closed file."
     ]
    }
   ],
   "source": [
    "f.read()"
   ]
  },
  {
   "cell_type": "code",
   "execution_count": 96,
   "id": "139d6d26",
   "metadata": {},
   "outputs": [],
   "source": [
    "f  = open(\"sanpletest.txt\" , \"r\")"
   ]
  },
  {
   "cell_type": "code",
   "execution_count": 97,
   "id": "7b6a5631",
   "metadata": {},
   "outputs": [
    {
     "data": {
      "text/plain": [
       "'asdjabdhahdjdbjahd sample file to write'"
      ]
     },
     "execution_count": 97,
     "metadata": {},
     "output_type": "execute_result"
    }
   ],
   "source": [
    "f.read()"
   ]
  },
  {
   "cell_type": "code",
   "execution_count": 101,
   "id": "d64c0715",
   "metadata": {},
   "outputs": [],
   "source": [
    "f.close()"
   ]
  },
  {
   "cell_type": "code",
   "execution_count": 58,
   "id": "406d4cc3",
   "metadata": {},
   "outputs": [
    {
     "data": {
      "text/plain": [
       "<function TextIOWrapper.readable()>"
      ]
     },
     "execution_count": 58,
     "metadata": {},
     "output_type": "execute_result"
    }
   ],
   "source": [
    "f.readable"
   ]
  },
  {
   "cell_type": "code",
   "execution_count": 59,
   "id": "1e60e3fe",
   "metadata": {},
   "outputs": [
    {
     "data": {
      "text/plain": [
       "True"
      ]
     },
     "execution_count": 59,
     "metadata": {},
     "output_type": "execute_result"
    }
   ],
   "source": [
    "f.closed"
   ]
  },
  {
   "cell_type": "code",
   "execution_count": 61,
   "id": "0bf6a5f9",
   "metadata": {},
   "outputs": [
    {
     "data": {
      "text/plain": [
       "False"
      ]
     },
     "execution_count": 61,
     "metadata": {},
     "output_type": "execute_result"
    }
   ],
   "source": [
    "f.writable()"
   ]
  },
  {
   "cell_type": "code",
   "execution_count": 62,
   "id": "3298e13b",
   "metadata": {},
   "outputs": [
    {
     "ename": "ValueError",
     "evalue": "I/O operation on closed file",
     "output_type": "error",
     "traceback": [
      "\u001b[1;31m---------------------------------------------------------------------------\u001b[0m",
      "\u001b[1;31mValueError\u001b[0m                                Traceback (most recent call last)",
      "\u001b[1;32m~\\AppData\\Local\\Temp/ipykernel_14280/3137888872.py\u001b[0m in \u001b[0;36m<module>\u001b[1;34m\u001b[0m\n\u001b[1;32m----> 1\u001b[1;33m \u001b[0mf\u001b[0m\u001b[1;33m.\u001b[0m\u001b[0mreadable\u001b[0m\u001b[1;33m(\u001b[0m\u001b[1;33m)\u001b[0m\u001b[1;33m\u001b[0m\u001b[1;33m\u001b[0m\u001b[0m\n\u001b[0m",
      "\u001b[1;31mValueError\u001b[0m: I/O operation on closed file"
     ]
    }
   ],
   "source": [
    "f.readable()"
   ]
  },
  {
   "cell_type": "code",
   "execution_count": 63,
   "id": "d2d2540e",
   "metadata": {},
   "outputs": [
    {
     "ename": "ValueError",
     "evalue": "I/O operation on closed file.",
     "output_type": "error",
     "traceback": [
      "\u001b[1;31m---------------------------------------------------------------------------\u001b[0m",
      "\u001b[1;31mValueError\u001b[0m                                Traceback (most recent call last)",
      "\u001b[1;32m~\\AppData\\Local\\Temp/ipykernel_14280/3109356950.py\u001b[0m in \u001b[0;36m<module>\u001b[1;34m\u001b[0m\n\u001b[1;32m----> 1\u001b[1;33m \u001b[0mf\u001b[0m\u001b[1;33m.\u001b[0m\u001b[0mtell\u001b[0m\u001b[1;33m(\u001b[0m\u001b[1;33m)\u001b[0m\u001b[1;33m\u001b[0m\u001b[1;33m\u001b[0m\u001b[0m\n\u001b[0m",
      "\u001b[1;31mValueError\u001b[0m: I/O operation on closed file."
     ]
    }
   ],
   "source": [
    "f.tell()"
   ]
  },
  {
   "cell_type": "code",
   "execution_count": 91,
   "id": "c24d88df",
   "metadata": {},
   "outputs": [],
   "source": [
    "f  = open(\"sanpletest.txt\" , \"r+\")"
   ]
  },
  {
   "cell_type": "code",
   "execution_count": 70,
   "id": "c3c8f745",
   "metadata": {},
   "outputs": [
    {
     "data": {
      "text/plain": [
       "0"
      ]
     },
     "execution_count": 70,
     "metadata": {},
     "output_type": "execute_result"
    }
   ],
   "source": [
    "f.tell()"
   ]
  },
  {
   "cell_type": "code",
   "execution_count": 92,
   "id": "8e86bff2",
   "metadata": {},
   "outputs": [],
   "source": [
    "f.close()"
   ]
  },
  {
   "cell_type": "code",
   "execution_count": 72,
   "id": "81721e33",
   "metadata": {},
   "outputs": [
    {
     "ename": "ValueError",
     "evalue": "I/O operation on closed file.",
     "output_type": "error",
     "traceback": [
      "\u001b[1;31m---------------------------------------------------------------------------\u001b[0m",
      "\u001b[1;31mValueError\u001b[0m                                Traceback (most recent call last)",
      "\u001b[1;32m~\\AppData\\Local\\Temp/ipykernel_14280/3109356950.py\u001b[0m in \u001b[0;36m<module>\u001b[1;34m\u001b[0m\n\u001b[1;32m----> 1\u001b[1;33m \u001b[0mf\u001b[0m\u001b[1;33m.\u001b[0m\u001b[0mtell\u001b[0m\u001b[1;33m(\u001b[0m\u001b[1;33m)\u001b[0m\u001b[1;33m\u001b[0m\u001b[1;33m\u001b[0m\u001b[0m\n\u001b[0m",
      "\u001b[1;31mValueError\u001b[0m: I/O operation on closed file."
     ]
    }
   ],
   "source": [
    "f.tell()"
   ]
  },
  {
   "cell_type": "code",
   "execution_count": 78,
   "id": "8f82403d",
   "metadata": {},
   "outputs": [
    {
     "ename": "ValueError",
     "evalue": "I/O operation on closed file.",
     "output_type": "error",
     "traceback": [
      "\u001b[1;31m---------------------------------------------------------------------------\u001b[0m",
      "\u001b[1;31mValueError\u001b[0m                                Traceback (most recent call last)",
      "\u001b[1;32m~\\AppData\\Local\\Temp/ipykernel_14280/3059900045.py\u001b[0m in \u001b[0;36m<module>\u001b[1;34m\u001b[0m\n\u001b[1;32m----> 1\u001b[1;33m \u001b[0mf\u001b[0m\u001b[1;33m.\u001b[0m\u001b[0mread\u001b[0m\u001b[1;33m(\u001b[0m\u001b[1;33m)\u001b[0m\u001b[1;33m\u001b[0m\u001b[1;33m\u001b[0m\u001b[0m\n\u001b[0m",
      "\u001b[1;31mValueError\u001b[0m: I/O operation on closed file."
     ]
    }
   ],
   "source": [
    "f.read()"
   ]
  },
  {
   "cell_type": "code",
   "execution_count": 75,
   "id": "9d355b24",
   "metadata": {},
   "outputs": [
    {
     "ename": "TypeError",
     "evalue": "seek expected at least 1 argument, got 0",
     "output_type": "error",
     "traceback": [
      "\u001b[1;31m---------------------------------------------------------------------------\u001b[0m",
      "\u001b[1;31mTypeError\u001b[0m                                 Traceback (most recent call last)",
      "\u001b[1;32m~\\AppData\\Local\\Temp/ipykernel_14280/439553891.py\u001b[0m in \u001b[0;36m<module>\u001b[1;34m\u001b[0m\n\u001b[1;32m----> 1\u001b[1;33m \u001b[0mf\u001b[0m\u001b[1;33m.\u001b[0m\u001b[0mseek\u001b[0m\u001b[1;33m(\u001b[0m\u001b[1;33m)\u001b[0m\u001b[1;33m\u001b[0m\u001b[1;33m\u001b[0m\u001b[0m\n\u001b[0m",
      "\u001b[1;31mTypeError\u001b[0m: seek expected at least 1 argument, got 0"
     ]
    }
   ],
   "source": [
    "f.seek()"
   ]
  },
  {
   "cell_type": "code",
   "execution_count": 77,
   "id": "67119d35",
   "metadata": {},
   "outputs": [],
   "source": [
    "f.close()"
   ]
  },
  {
   "cell_type": "code",
   "execution_count": 79,
   "id": "40d1cf2d",
   "metadata": {},
   "outputs": [
    {
     "data": {
      "text/plain": [
       "True"
      ]
     },
     "execution_count": 79,
     "metadata": {},
     "output_type": "execute_result"
    }
   ],
   "source": [
    "f.closed"
   ]
  },
  {
   "cell_type": "code",
   "execution_count": 81,
   "id": "b678431f",
   "metadata": {},
   "outputs": [
    {
     "ename": "ValueError",
     "evalue": "I/O operation on closed file",
     "output_type": "error",
     "traceback": [
      "\u001b[1;31m---------------------------------------------------------------------------\u001b[0m",
      "\u001b[1;31mValueError\u001b[0m                                Traceback (most recent call last)",
      "\u001b[1;32m~\\AppData\\Local\\Temp/ipykernel_14280/3137888872.py\u001b[0m in \u001b[0;36m<module>\u001b[1;34m\u001b[0m\n\u001b[1;32m----> 1\u001b[1;33m \u001b[0mf\u001b[0m\u001b[1;33m.\u001b[0m\u001b[0mreadable\u001b[0m\u001b[1;33m(\u001b[0m\u001b[1;33m)\u001b[0m\u001b[1;33m\u001b[0m\u001b[1;33m\u001b[0m\u001b[0m\n\u001b[0m",
      "\u001b[1;31mValueError\u001b[0m: I/O operation on closed file"
     ]
    }
   ],
   "source": [
    "f.readable()"
   ]
  },
  {
   "cell_type": "code",
   "execution_count": 83,
   "id": "198e2695",
   "metadata": {},
   "outputs": [
    {
     "ename": "ValueError",
     "evalue": "I/O operation on closed file",
     "output_type": "error",
     "traceback": [
      "\u001b[1;31m---------------------------------------------------------------------------\u001b[0m",
      "\u001b[1;31mValueError\u001b[0m                                Traceback (most recent call last)",
      "\u001b[1;32m~\\AppData\\Local\\Temp/ipykernel_14280/135968056.py\u001b[0m in \u001b[0;36m<module>\u001b[1;34m\u001b[0m\n\u001b[1;32m----> 1\u001b[1;33m \u001b[0mf\u001b[0m\u001b[1;33m.\u001b[0m\u001b[0mwritable\u001b[0m\u001b[1;33m(\u001b[0m\u001b[1;33m)\u001b[0m\u001b[1;33m\u001b[0m\u001b[1;33m\u001b[0m\u001b[0m\n\u001b[0m",
      "\u001b[1;31mValueError\u001b[0m: I/O operation on closed file"
     ]
    }
   ],
   "source": [
    "f.writable()"
   ]
  },
  {
   "cell_type": "code",
   "execution_count": 100,
   "id": "c4325f51",
   "metadata": {},
   "outputs": [],
   "source": [
    "f.close()"
   ]
  },
  {
   "cell_type": "code",
   "execution_count": 109,
   "id": "7dcf3169",
   "metadata": {},
   "outputs": [],
   "source": [
    "import os"
   ]
  },
  {
   "cell_type": "code",
   "execution_count": 110,
   "id": "72799501",
   "metadata": {},
   "outputs": [],
   "source": [
    "os.remove(\"sanpletest.txt\")"
   ]
  },
  {
   "cell_type": "code",
   "execution_count": 106,
   "id": "dcd6762e",
   "metadata": {},
   "outputs": [
    {
     "data": {
      "text/plain": [
       "'C:\\\\Users\\\\shubh\\\\ineuron files'"
      ]
     },
     "execution_count": 106,
     "metadata": {},
     "output_type": "execute_result"
    }
   ],
   "source": [
    "os.getcwd()"
   ]
  },
  {
   "cell_type": "code",
   "execution_count": 107,
   "id": "3216e3f9",
   "metadata": {},
   "outputs": [],
   "source": [
    "from zipfile import ZipFile"
   ]
  },
  {
   "cell_type": "code",
   "execution_count": 108,
   "id": "95109073",
   "metadata": {},
   "outputs": [
    {
     "name": "stdout",
     "output_type": "stream",
     "text": [
      "Number of .txt files: 1\n",
      "Files zipped successfully.\n"
     ]
    }
   ],
   "source": [
    "import os\n",
    "from zipfile import ZipFile\n",
    "\n",
    "# Directory containing the .txt files\n",
    "directory = 'C:\\\\Users\\\\shubh\\\\ineuron files'\n",
    "\n",
    "# Get a list of all files in the directory\n",
    "all_files = os.listdir(directory)\n",
    "\n",
    "# Filter only the .txt files\n",
    "txt_files = [file for file in all_files if file.endswith(\".txt\")]\n",
    "\n",
    "# Count the number of .txt files\n",
    "num_txt_files = len(txt_files)\n",
    "print(f\"Number of .txt files: {num_txt_files}\")\n",
    "\n",
    "# Zip the .txt files into one compressed file\n",
    "with ZipFile(\"compressed_files.zip\", \"w\") as zip_file:\n",
    "    for txt_file in txt_files:\n",
    "        file_path = os.path.join(directory, txt_file)\n",
    "        zip_file.write(file_path, arcname=os.path.basename(file_path))\n",
    "\n",
    "print(\"Files zipped successfully.\")\n"
   ]
  },
  {
   "cell_type": "code",
   "execution_count": null,
   "id": "e1445155",
   "metadata": {},
   "outputs": [],
   "source": []
  }
 ],
 "metadata": {
  "kernelspec": {
   "display_name": "Python 3 (ipykernel)",
   "language": "python",
   "name": "python3"
  },
  "language_info": {
   "codemirror_mode": {
    "name": "ipython",
    "version": 3
   },
   "file_extension": ".py",
   "mimetype": "text/x-python",
   "name": "python",
   "nbconvert_exporter": "python",
   "pygments_lexer": "ipython3",
   "version": "3.9.7"
  }
 },
 "nbformat": 4,
 "nbformat_minor": 5
}

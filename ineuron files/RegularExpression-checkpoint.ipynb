{
 "cells": [
  {
   "cell_type": "markdown",
   "metadata": {},
   "source": [
    "## Regular Expression"
   ]
  },
  {
   "cell_type": "code",
   "execution_count": 2,
   "metadata": {},
   "outputs": [],
   "source": [
    "import re"
   ]
  },
  {
   "cell_type": "code",
   "execution_count": 7,
   "metadata": {},
   "outputs": [],
   "source": [
    "Nameage = '''\n",
    "Janice is 22 and Theon is 30 \n",
    "Gabriel is 44 and Joey is 210\n",
    "\n",
    "'''"
   ]
  },
  {
   "cell_type": "code",
   "execution_count": 26,
   "metadata": {},
   "outputs": [
    {
     "data": {
      "text/plain": [
       "'\\nJanice is 22 and Theon is 30 \\nGabriel is 44 and Joey is 210\\n8765432109\\n'"
      ]
     },
     "execution_count": 26,
     "metadata": {},
     "output_type": "execute_result"
    }
   ],
   "source": [
    "Nameage"
   ]
  },
  {
   "cell_type": "code",
   "execution_count": 6,
   "metadata": {},
   "outputs": [
    {
     "data": {
      "text/plain": [
       "['876543210']"
      ]
     },
     "execution_count": 6,
     "metadata": {},
     "output_type": "execute_result"
    }
   ],
   "source": [
    " re.findall('\\d{1,3}', Nameage)"
   ]
  },
  {
   "cell_type": "code",
   "execution_count": 4,
   "metadata": {},
   "outputs": [
    {
     "data": {
      "text/plain": [
       "['Janice', 'Theon', 'Gabriel', 'Joey']"
      ]
     },
     "execution_count": 4,
     "metadata": {},
     "output_type": "execute_result"
    }
   ],
   "source": [
    "re.findall('[A-Z][a-z]*',Nameage)"
   ]
  },
  {
   "cell_type": "code",
   "execution_count": 8,
   "metadata": {},
   "outputs": [],
   "source": [
    "ages = re.findall(r'\\d{1,9}', Nameage)\n",
    "names = re.findall(r'[A-Z][a-z]*',Nameage)"
   ]
  },
  {
   "cell_type": "code",
   "execution_count": 9,
   "metadata": {},
   "outputs": [
    {
     "data": {
      "text/plain": [
       "['22', '30', '44', '210']"
      ]
     },
     "execution_count": 9,
     "metadata": {},
     "output_type": "execute_result"
    }
   ],
   "source": [
    "ages"
   ]
  },
  {
   "cell_type": "code",
   "execution_count": 10,
   "metadata": {},
   "outputs": [
    {
     "data": {
      "text/plain": [
       "['Janice', 'Theon', 'Gabriel', 'Joey']"
      ]
     },
     "execution_count": 10,
     "metadata": {},
     "output_type": "execute_result"
    }
   ],
   "source": [
    "names"
   ]
  },
  {
   "cell_type": "code",
   "execution_count": 11,
   "metadata": {},
   "outputs": [],
   "source": [
    "ageDict = {}"
   ]
  },
  {
   "cell_type": "code",
   "execution_count": 9,
   "metadata": {},
   "outputs": [
    {
     "data": {
      "text/plain": [
       "['22', '30', '44', '210']"
      ]
     },
     "execution_count": 9,
     "metadata": {},
     "output_type": "execute_result"
    }
   ],
   "source": [
    "ages"
   ]
  },
  {
   "cell_type": "code",
   "execution_count": 10,
   "metadata": {},
   "outputs": [
    {
     "data": {
      "text/plain": [
       "['Janice', 'Theon', 'Gabriel', 'Joey']"
      ]
     },
     "execution_count": 10,
     "metadata": {},
     "output_type": "execute_result"
    }
   ],
   "source": [
    "names"
   ]
  },
  {
   "cell_type": "code",
   "execution_count": 10,
   "metadata": {},
   "outputs": [
    {
     "data": {
      "text/plain": [
       "'\\nJanice is 22 and Theon is 30 \\nGabriel is 44 and Joey is 210\\n\\n'"
      ]
     },
     "execution_count": 10,
     "metadata": {},
     "output_type": "execute_result"
    }
   ],
   "source": [
    "Nameage"
   ]
  },
  {
   "cell_type": "code",
   "execution_count": 11,
   "metadata": {},
   "outputs": [
    {
     "name": "stdout",
     "output_type": "stream",
     "text": [
      "{'Janice': '22', 'Theon': '30', 'Gabriel': '44', 'Joey': '210'}\n"
     ]
    }
   ],
   "source": [
    "x = 0\n",
    "for eachname in names:\n",
    "    ageDict[eachname] = ages[x]\n",
    "    x+=1\n",
    "print(ageDict)"
   ]
  },
  {
   "cell_type": "code",
   "execution_count": 8,
   "metadata": {},
   "outputs": [
    {
     "name": "stdout",
     "output_type": "stream",
     "text": [
      "['inform', 'inform']\n",
      "inform\n",
      "inform\n"
     ]
    }
   ],
   "source": [
    "\n",
    " \n",
    "allinform = re.findall(\"inform\",\"We too need to 23  to inform him 123 with the latest information!\")\n",
    "print(allinform) \n",
    "for i in allinform:\n",
    "    print(i)"
   ]
  },
  {
   "cell_type": "code",
   "execution_count": 11,
   "metadata": {},
   "outputs": [
    {
     "name": "stdout",
     "output_type": "stream",
     "text": [
      "There is inform\n"
     ]
    }
   ],
   "source": [
    "if re.search(\"inform\",\"we need to inform him with the latest information\"):\n",
    "    print(\"There is inform\")\n",
    "else:\n",
    "    print(\"NO inform\")"
   ]
  },
  {
   "cell_type": "code",
   "execution_count": 13,
   "metadata": {},
   "outputs": [
    {
     "data": {
      "text/plain": [
       "<re.Match object; span=(3, 7), match='need'>"
      ]
     },
     "execution_count": 13,
     "metadata": {},
     "output_type": "execute_result"
    }
   ],
   "source": [
    "re.search(\"need\",\"we need to inform him with the latest need information\")"
   ]
  },
  {
   "cell_type": "code",
   "execution_count": 14,
   "metadata": {},
   "outputs": [
    {
     "name": "stdout",
     "output_type": "stream",
     "text": [
      "(11, 17)\n",
      "(38, 44)\n"
     ]
    }
   ],
   "source": [
    "Str = \"we need to inform him with the latest information\"\n",
    "\n",
    "for i in re.finditer(\"inform\", Str):\n",
    "    locTuple = i.span()\n",
    "    print(locTuple)"
   ]
  },
  {
   "cell_type": "code",
   "execution_count": 19,
   "metadata": {},
   "outputs": [
    {
     "name": "stdout",
     "output_type": "stream",
     "text": [
      "['at', 'at', 'apat', 'hat', 'at', 'mat', 'pat', 'fat', 'at']\n"
     ]
    }
   ],
   "source": [
    "Str = \"Sat,Aat,KAapat hat,12at, mat, pat, socket, fat, at\"\n",
    " \n",
    "allStr = re.findall(\"[A-Z,a-z]*at\", Str)\n",
    " \n",
    "#allStr = re.findall(\"_at\", Str)\n",
    "print(allStr) \n",
    "#for i in allStr:\n",
    " #   print(i)"
   ]
  },
  {
   "cell_type": "code",
   "execution_count": 16,
   "metadata": {},
   "outputs": [
    {
     "name": "stdout",
     "output_type": "stream",
     "text": [
      "['Sat']\n",
      "['hat', 'mat', 'pat']\n",
      "['Sat', 'hat', 'mat', 'pat']\n"
     ]
    }
   ],
   "source": [
    "Str = \"Sat, hat, mat, pat, at\"\n",
    " \n",
    "#someStr = re.findall(\"[a-z]at\", Str)\n",
    "someStr = re.findall(\"[A-Z]at\", Str)\n",
    "some2 = re.findall(\"[a-z]at\", Str)\n",
    "print(someStr)\n",
    "print(some2)\n",
    "final=someStr+some2\n",
    "print(final)\n"
   ]
  },
  {
   "cell_type": "code",
   "execution_count": 17,
   "metadata": {},
   "outputs": [
    {
     "name": "stdout",
     "output_type": "stream",
     "text": [
      "['sat', 'mat']\n"
     ]
    }
   ],
   "source": [
    "Str = \"sat, hat, mat, pat,new\"\n",
    " \n",
    "someStr = re.findall(\"[^h,p]at\", Str)\n",
    "print(someStr)\n",
    "#for i in someStr:\n",
    "#    print(i)"
   ]
  },
  {
   "cell_type": "code",
   "execution_count": 44,
   "metadata": {},
   "outputs": [
    {
     "name": "stdout",
     "output_type": "stream",
     "text": [
      "<re.Match object; span=(13, 17), match='prog'>\n"
     ]
    }
   ],
   "source": [
    "randstr = \"Enjoying the programming with python\"\n",
    " \n",
    "print(re.search(r\"prog\", randstr))"
   ]
  },
  {
   "cell_type": "code",
   "execution_count": 1,
   "metadata": {},
   "outputs": [],
   "source": [
    "###creating file of information\n"
   ]
  },
  {
   "cell_type": "code",
   "execution_count": 2,
   "metadata": {},
   "outputs": [
    {
     "name": "stdout",
     "output_type": "stream",
     "text": [
      "Enter name (only string): shubham\n",
      "Enter roll number (only integer): 1245\n",
      "Enter mobile number (10-digit integer): 1234567890\n",
      "Enter marks (less than 100): 70\n",
      "Data written to file successfully.\n"
     ]
    }
   ],
   "source": [
    "# function to check if input is a string\n",
    "def is_string(s):\n",
    "    return isinstance(s, str)\n",
    "\n",
    "# function to check if input is a 10-digit integer\n",
    "def is_10_digit_int(n):\n",
    "    return isinstance(n, int) and len(str(n)) == 10\n",
    "\n",
    "# function to check if input is a number less than 100\n",
    "def is_less_than_100(n):\n",
    "    return isinstance(n, int) and 0 <= n < 100\n",
    "\n",
    "# create a list to store the data\n",
    "data = []\n",
    "\n",
    "# get information from the user and store it in the list\n",
    "while True:\n",
    "    name = input(\"Enter name (only string): \")\n",
    "    if is_string(name):\n",
    "        break\n",
    "    print(\"Invalid input, please enter a string.\")\n",
    "\n",
    "while True:\n",
    "    roll_number = input(\"Enter roll number (only integer): \")\n",
    "    if roll_number.isdigit():\n",
    "        roll_number = int(roll_number)\n",
    "        break\n",
    "    print(\"Invalid input, please enter an integer.\")\n",
    "\n",
    "while True:\n",
    "    mobile_number = input(\"Enter mobile number (10-digit integer): \")\n",
    "    if mobile_number.isdigit() and is_10_digit_int(int(mobile_number)):\n",
    "        mobile_number = int(mobile_number)\n",
    "        break\n",
    "    print(\"Invalid input, please enter a 10-digit integer.\")\n",
    "\n",
    "while True:\n",
    "    marks = input(\"Enter marks (less than 100): \")\n",
    "    if marks.isdigit() and is_less_than_100(int(marks)):\n",
    "        marks = int(marks)\n",
    "        break\n",
    "    print(\"Invalid input, please enter a number less than 100.\")\n",
    "\n",
    "# add the data to the list\n",
    "data.append([name, roll_number, mobile_number, marks])\n",
    "\n",
    "# write the data to a text file\n",
    "with open(\"data.txt\", \"w\") as file:\n",
    "    for row in data:\n",
    "        file.write(\" \".join(str(x) for x in row) + \"\\n\")\n",
    "\n",
    "print(\"Data written to file successfully.\")\n",
    "\n"
   ]
  },
  {
   "cell_type": "code",
   "execution_count": 3,
   "metadata": {
    "scrolled": true
   },
   "outputs": [
    {
     "name": "stdout",
     "output_type": "stream",
     "text": [
      " Volume in drive C is Windows\n",
      " Volume Serial Number is 7293-F0DC\n",
      "\n",
      " Directory of C:\\Users\\shubh\\Downloads\n",
      "\n",
      "02-12-2021  11:14 PM            42,560 #signature-removebg-preview.png\n",
      "08-02-2023  09:29 AM    <DIR>          .\n",
      "02-02-2023  01:18 PM    <DIR>          ..\n",
      "08-02-2023  09:13 AM    <DIR>          .ipynb_checkpoints\n",
      "03-02-2023  11:49 PM     1,000,756,753 19 dec.mp4\n",
      "15-05-2021  05:58 PM    <DIR>          19.2.MySQL\n",
      "07-02-2023  08:04 PM         7,290,387 19.2.MySQL.7z\n",
      "29-08-2022  06:43 PM            27,074 20220829_183845-removebg-preview (1).png\n",
      "03-02-2023  11:51 PM       443,095,202 20th dec.mp4\n",
      "03-02-2023  11:54 PM       617,065,534 21 dec.mp4\n",
      "04-02-2023  12:01 AM       571,979,945 23cdec.mp4\n",
      "08-02-2023  12:47 AM       771,717,151 29 jan opps concept.mp4\n",
      "08-02-2023  12:22 AM       856,881,149 6 dec my sql 2nd.mp4\n",
      "18-04-2022  12:08 AM         3,829,888 AnyDesk.exe\n",
      "02-02-2023  07:33 PM         1,852,025 arnold-francisca-f77Bh3inUpE-unsplash.jpg\n",
      "19-08-2022  03:47 PM           728,544 Bitwarden-Installer-2022.8.1.exe\n",
      "11-11-2022  02:20 PM         4,854,400 C. Radhakrishna Rao - Linear Statistical Inference and Its Applications (Wiley Series in Probability and Statistics)  -Wiley-Interscience (2002).djvu\n",
      "08-02-2023  09:28 AM                28 data.txt\n",
      "03-02-2023  11:40 PM           107,070 DeskPins-1.32-setup.exe\n",
      "13-01-2023  07:04 PM         1,396,267 drive-download-20230113T133431Z-001.zip\n",
      "25-08-2022  02:02 PM             2,943 echarts.png\n",
      "02-02-2023  07:39 PM         1,953,542 emile-perron-xrVDYZRGdw4-unsplash.jpg\n",
      "23-09-2022  10:40 AM       309,655,840 GoogleDriveSetup.exe\n",
      "30-08-2022  12:26 PM         1,095,264 https___mcgka.digitaledu.in_DATA_CandidateDocuments_CndAdmChallanHoldsForm_7765_31_1661842569.pdf\n",
      "13-11-2022  02:27 AM       777,147,904 MATLAB 912R2022a CrackInstaller.exe\n",
      "11-11-2022  12:00 PM        24,683,893 Maurice G. Kendall, William R. Buckland - A dictionary of statistical terms-Hafner Publishing Company, Inc. (1971).pdf\n",
      "06-11-2022  04:32 PM    <DIR>          MEmu Download\n",
      "16-10-2022  06:58 PM        20,947,032 MEmu-setup-abroad-sdk.exe\n",
      "30-08-2022  12:30 PM           500,112 modern admission fee payment receipt.pdf\n",
      "04-11-2022  11:14 AM         6,008,872 MSPCManagerSetup.exe\n",
      "05-02-2022  11:19 PM       456,826,880 mysql-installer-community-8.0.28.0.msi\n",
      "05-02-2022  10:25 AM        44,810,240 mysql-workbench-community-8.0.28-winx64.msi\n",
      "07-02-2023  12:13 AM        47,964,160 mysql-workbench-community-8.0.32-winx64.msi\n",
      "20-09-2022  11:31 AM        96,227,840 Notion Setup 2.0.29.exe\n",
      "02-04-2022  10:28 AM       160,828,272 Postman-win64-9.15.2-Setup.exe\n",
      "08-02-2023  09:29 AM            10,854 RegularExpression.ipynb\n",
      "22-11-2022  12:19 AM       190,494,496 RStudio-2022.07.2-576.exe\n",
      "29-08-2022  07:10 PM           159,182 studentUndertaking-signed.pdf\n",
      "19-11-2022  06:37 PM         1,161,318 TrafficMonitor_V1.84.1_x64.zip\n",
      "21-12-2022  12:26 AM        16,310,272 transmission-3.00-x64.msi\n",
      "21-12-2022  01:17 AM         1,788,464 utweb_installer.exe\n",
      "03-02-2023  11:42 PM       990,644,054 Y2Mate.is - FSDS 10 am batch ,18th Dec 2021-XagmB-qT7Zo-1080p-1654810311046.mp4\n",
      "              37 File(s)  7,430,845,411 bytes\n",
      "               5 Dir(s)  67,006,427,136 bytes free\n"
     ]
    }
   ],
   "source": [
    "ls\n"
   ]
  },
  {
   "cell_type": "code",
   "execution_count": 71,
   "metadata": {},
   "outputs": [
    {
     "ename": "KeyboardInterrupt",
     "evalue": "Interrupted by user",
     "output_type": "error",
     "traceback": [
      "\u001b[1;31m---------------------------------------------------------------------------\u001b[0m",
      "\u001b[1;31mKeyboardInterrupt\u001b[0m                         Traceback (most recent call last)",
      "\u001b[1;32m~\\AppData\\Local\\Temp/ipykernel_16764/3291169866.py\u001b[0m in \u001b[0;36m<module>\u001b[1;34m\u001b[0m\n\u001b[0;32m     17\u001b[0m \u001b[1;31m# get information from the user and store it in the dictionary\u001b[0m\u001b[1;33m\u001b[0m\u001b[1;33m\u001b[0m\u001b[0m\n\u001b[0;32m     18\u001b[0m \u001b[1;32mwhile\u001b[0m \u001b[1;32mTrue\u001b[0m\u001b[1;33m:\u001b[0m\u001b[1;33m\u001b[0m\u001b[1;33m\u001b[0m\u001b[0m\n\u001b[1;32m---> 19\u001b[1;33m     \u001b[0mname\u001b[0m \u001b[1;33m=\u001b[0m \u001b[0minput\u001b[0m\u001b[1;33m(\u001b[0m\u001b[1;34m\"Enter name (only string): \"\u001b[0m\u001b[1;33m)\u001b[0m\u001b[1;33m\u001b[0m\u001b[1;33m\u001b[0m\u001b[0m\n\u001b[0m\u001b[0;32m     20\u001b[0m     \u001b[1;32mif\u001b[0m \u001b[0mis_string\u001b[0m\u001b[1;33m(\u001b[0m\u001b[0mname\u001b[0m\u001b[1;33m)\u001b[0m\u001b[1;33m:\u001b[0m\u001b[1;33m\u001b[0m\u001b[1;33m\u001b[0m\u001b[0m\n\u001b[0;32m     21\u001b[0m         \u001b[1;32mbreak\u001b[0m\u001b[1;33m\u001b[0m\u001b[1;33m\u001b[0m\u001b[0m\n",
      "\u001b[1;32m~\\anaconda3\\lib\\site-packages\\ipykernel\\kernelbase.py\u001b[0m in \u001b[0;36mraw_input\u001b[1;34m(self, prompt)\u001b[0m\n\u001b[0;32m   1004\u001b[0m                 \u001b[1;34m\"raw_input was called, but this frontend does not support input requests.\"\u001b[0m\u001b[1;33m\u001b[0m\u001b[1;33m\u001b[0m\u001b[0m\n\u001b[0;32m   1005\u001b[0m             )\n\u001b[1;32m-> 1006\u001b[1;33m         return self._input_request(\n\u001b[0m\u001b[0;32m   1007\u001b[0m             \u001b[0mstr\u001b[0m\u001b[1;33m(\u001b[0m\u001b[0mprompt\u001b[0m\u001b[1;33m)\u001b[0m\u001b[1;33m,\u001b[0m\u001b[1;33m\u001b[0m\u001b[1;33m\u001b[0m\u001b[0m\n\u001b[0;32m   1008\u001b[0m             \u001b[0mself\u001b[0m\u001b[1;33m.\u001b[0m\u001b[0m_parent_ident\u001b[0m\u001b[1;33m[\u001b[0m\u001b[1;34m\"shell\"\u001b[0m\u001b[1;33m]\u001b[0m\u001b[1;33m,\u001b[0m\u001b[1;33m\u001b[0m\u001b[1;33m\u001b[0m\u001b[0m\n",
      "\u001b[1;32m~\\anaconda3\\lib\\site-packages\\ipykernel\\kernelbase.py\u001b[0m in \u001b[0;36m_input_request\u001b[1;34m(self, prompt, ident, parent, password)\u001b[0m\n\u001b[0;32m   1049\u001b[0m             \u001b[1;32mexcept\u001b[0m \u001b[0mKeyboardInterrupt\u001b[0m\u001b[1;33m:\u001b[0m\u001b[1;33m\u001b[0m\u001b[1;33m\u001b[0m\u001b[0m\n\u001b[0;32m   1050\u001b[0m                 \u001b[1;31m# re-raise KeyboardInterrupt, to truncate traceback\u001b[0m\u001b[1;33m\u001b[0m\u001b[1;33m\u001b[0m\u001b[0m\n\u001b[1;32m-> 1051\u001b[1;33m                 \u001b[1;32mraise\u001b[0m \u001b[0mKeyboardInterrupt\u001b[0m\u001b[1;33m(\u001b[0m\u001b[1;34m\"Interrupted by user\"\u001b[0m\u001b[1;33m)\u001b[0m \u001b[1;32mfrom\u001b[0m \u001b[1;32mNone\u001b[0m\u001b[1;33m\u001b[0m\u001b[1;33m\u001b[0m\u001b[0m\n\u001b[0m\u001b[0;32m   1052\u001b[0m             \u001b[1;32mexcept\u001b[0m \u001b[0mException\u001b[0m\u001b[1;33m:\u001b[0m\u001b[1;33m\u001b[0m\u001b[1;33m\u001b[0m\u001b[0m\n\u001b[0;32m   1053\u001b[0m                 \u001b[0mself\u001b[0m\u001b[1;33m.\u001b[0m\u001b[0mlog\u001b[0m\u001b[1;33m.\u001b[0m\u001b[0mwarning\u001b[0m\u001b[1;33m(\u001b[0m\u001b[1;34m\"Invalid Message:\"\u001b[0m\u001b[1;33m,\u001b[0m \u001b[0mexc_info\u001b[0m\u001b[1;33m=\u001b[0m\u001b[1;32mTrue\u001b[0m\u001b[1;33m)\u001b[0m\u001b[1;33m\u001b[0m\u001b[1;33m\u001b[0m\u001b[0m\n",
      "\u001b[1;31mKeyboardInterrupt\u001b[0m: Interrupted by user"
     ]
    }
   ],
   "source": [
    "## this is the code of creating a file of information\n",
    "# function to check if input is a string\n",
    "def is_string(s):\n",
    "    return isinstance(s, str)\n",
    "\n",
    "# function to check if input is a 10-digit integer\n",
    "def is_10_digit_int(n):\n",
    "    return isinstance(n, int) and len(str(n)) == 10\n",
    "\n",
    "# function to check if input is a number less than 100\n",
    "def is_less_than_100(n):\n",
    "    return isinstance(n, int) and 0 <= n < 100\n",
    "\n",
    "# create a dictionary to store the data\n",
    "data = {}\n",
    "\n",
    "# get information from the user and store it in the dictionary\n",
    "while True:\n",
    "    name = input(\"Enter name (only string): \")\n",
    "    if is_string(name):\n",
    "        break\n",
    "    print(\"Invalid input, please enter a string.\")\n",
    "\n",
    "while True:\n",
    "    roll_number = input(\"Enter roll number (only integer): \")\n",
    "    if roll_number.isdigit():\n",
    "        roll_number = int(roll_number)\n",
    "        break\n",
    "    print(\"Invalid input, please enter an integer.\")\n",
    "\n",
    "while True:\n",
    "    mobile_number = input(\"Enter mobile number (10-digit integer): \")\n",
    "    if mobile_number.isdigit() and is_10_digit_int(int(mobile_number)):\n",
    "        mobile_number = int(mobile_number)\n",
    "        break\n",
    "    print(\"Invalid input, please enter a 10-digit integer.\")\n",
    "\n",
    "while True:\n",
    "    marks = input(\"Enter marks (less than 100): \")\n",
    "    if marks.isdigit() and is_less_than_100(int(marks)):\n",
    "        marks = int(marks)\n",
    "        break\n",
    "    print(\"Invalid input, please enter a number less than 100.\")\n",
    "\n",
    "# add the data to the dictionary\n",
    "data[\"Name\"] = name\n",
    "data[\"Roll Number\"] = roll_number\n",
    "data[\"Mobile Number\"] = mobile_number\n",
    "data[\"Marks\"] = marks\n",
    "\n",
    "# write the data and replace existing  to a text file\n",
    "#with open(\"data.txt\", \"w\") as file:\n",
    "    #file.write(str(data) + \"\\n\")\n",
    "\n",
    "## append the data to a text file\n",
    "with open(\"data.txt\", \"a\") as file:\n",
    "    file.write(str(data) + \"\\n\")\n",
    "\n",
    "print(\"Data written to file successfully.\")\n",
    "##this will replace data but not appends\n"
   ]
  },
  {
   "cell_type": "code",
   "execution_count": null,
   "metadata": {},
   "outputs": [],
   "source": [
    "def is_string(s):\n",
    "    return isinstance(s, str)\n",
    "while True:\n",
    "    name = input()\n",
    "    if is_string(name):\n",
    "        break\n",
    "    print(\"Invalid input, please enter a string.\")"
   ]
  },
  {
   "cell_type": "code",
   "execution_count": null,
   "metadata": {},
   "outputs": [],
   "source": [
    "#### alternate solution\n",
    "st = {}\n",
    "file = open(r\"C:\\Users\\shubh\\Downloads\\data.txt\",'w')\n",
    "\n",
    "roll = input(\"entr roll no.\")\n",
    "sub_no =int(input(\"no. of subject \"))\n",
    "details = \"\"\"\\n the roll no.  is {} and no. of sub is {}\"\"\".format(roll,sub_no)\n",
    "print(details)\n",
    "\n",
    "sub_details = {}\n",
    "\n",
    "cnt = 0\n",
    "while cnt < sub_no:\n",
    "    flag  = 0\n",
    "    cnt = cnt+1\n",
    "    \n",
    "    sub  = input(\"entr sub\")\n",
    "    out_of =input('out_of')\n",
    "    marks = input('marks')\n",
    "    \n",
    "details = details + \"\\n sub{}  = {}\".format(cnt,sub)\n",
    "\n",
    "if float(out_of) < float(marks):\n",
    "    details = details+\"\\n invaiid\"\n",
    "    flag  = 1\n",
    "else:\n",
    "    details = details+\"\\n marks correct\"\n",
    "    print('ok')\n",
    "    flag = 0\n",
    "    \n",
    "if flag==0:\n",
    "    ratio = marks+'/'+out_of\n",
    "    ratio\n",
    "    details = details+'\\n marks : {}'.format(ratio)\n",
    "    \n",
    "    sub_details.update({sub:ratio})\n",
    "st.update({roll:sub_datails})\n",
    "details = details+\"\\ roll num {} details{}\".format(roll,st)\n",
    "file.write(details)\n",
    "file.close()"
   ]
  },
  {
   "cell_type": "code",
   "execution_count": 41,
   "metadata": {},
   "outputs": [
    {
     "name": "stdout",
     "output_type": "stream",
     "text": [
      "Enter roll number: 223\n",
      "Enter number of subjects: 2\n",
      "\n",
      "The roll number is 223 and the number of subjects is 2\n",
      "Enter subject name: sf\n",
      "Enter maximum marks: 70\n",
      "Enter marks obtained: 34\n",
      "Ok\n",
      "Enter subject name: sf\n",
      "Enter maximum marks: 60\n",
      "Enter marks obtained: 34\n",
      "Ok\n"
     ]
    }
   ],
   "source": [
    "st = {}\n",
    "file = open(r\"C:\\Users\\shubh\\Downloads\\data.txt\",'w')\n",
    "\n",
    "roll = input(\"Enter roll number: \")\n",
    "sub_no = int(input(\"Enter number of subjects: \"))\n",
    "details = \"\\nThe roll number is {} and the number of subjects is {}\".format(roll, sub_no)\n",
    "print(details)\n",
    "\n",
    "sub_details = {}\n",
    "cnt = 0\n",
    "while cnt < sub_no:\n",
    "    flag = 0\n",
    "    cnt = cnt + 1\n",
    "\n",
    "    sub = input(\"Enter subject name: \")\n",
    "    out_of = input(\"Enter maximum marks: \")\n",
    "    marks = input(\"Enter marks obtained: \")\n",
    "    \n",
    "    details = details + \"\\nSubject{} = {}\".format(cnt, sub)\n",
    "\n",
    "    if float(out_of) < float(marks):\n",
    "        details = details + \"\\nInvalid input, marks cannot be greater than maximum marks.\"\n",
    "        flag = 1\n",
    "    else:\n",
    "        details = details + \"\\nMarks are correct.\"\n",
    "        print(\"Ok\")\n",
    "        flag = 0\n",
    "\n",
    "    if flag == 0:\n",
    "        ratio = \"{}/{}\".format(marks, out_of)\n",
    "        details = details + \"\\nMarks: {}\".format(ratio)\n",
    "        sub_details[sub] = ratio\n",
    "\n",
    "st[roll] = sub_details\n",
    "details = details + \"\\nRoll number {} details: {}\".format(roll, st)\n",
    "file.write(details)\n",
    "file.close()\n"
   ]
  },
  {
   "cell_type": "code",
   "execution_count": 60,
   "metadata": {},
   "outputs": [
    {
     "name": "stdout",
     "output_type": "stream",
     "text": [
      "position in loop 205\n",
      "['\\n', 'The roll number is 223 and the number of subjects is 2\\n', 'Subject1 = sf\\n', 'Marks are correct.\\n', 'Marks: 34/70\\n', 'Subject2 = sf\\n', 'Marks are correct.\\n', 'Marks: 34/60\\n', \"Roll number 223 details: {'223': {'sf': '34/60'}}\"]\n",
      "position in loop 205\n",
      "-----------------\n",
      "current position 0\n",
      "\n",
      "The roll number is 223 and the number of subjects is 2\n",
      "Subject1 = sf\n",
      "Marks are correct.\n",
      "Marks: 34/70\n",
      "Subject2 = sf\n",
      "Marks are correct.\n",
      "Marks: 34/60\n",
      "Roll number 223 details: {'223': {'sf': '34/60'}}\n"
     ]
    }
   ],
   "source": [
    "f = open(r\"C:\\Users\\shubh\\Downloads\\data.txt\",'r')\n",
    "while True:\n",
    "    str1 = f.readlines()\n",
    "    print('position in loop' , f.tell())\n",
    "    if str1:\n",
    "        print(str1)\n",
    "    else:\n",
    "        break\n",
    "print(\"-----------------\")\n",
    "f.seek(0)\n",
    "print('current position' , f.tell())\n",
    "print(f.read())\n",
    "f.close()"
   ]
  },
  {
   "cell_type": "code",
   "execution_count": 57,
   "metadata": {},
   "outputs": [
    {
     "name": "stdout",
     "output_type": "stream",
     "text": [
      "Position in loop: 2\n",
      "\n",
      "\n",
      "Position in loop: 58\n",
      "The roll number is 223 and the number of subjects is 2\n",
      "\n",
      "Position in loop: 73\n",
      "Subject1 = sf\n",
      "\n",
      "Position in loop: 93\n",
      "Marks are correct.\n",
      "\n",
      "Position in loop: 107\n",
      "Marks: 34/70\n",
      "\n",
      "Position in loop: 122\n",
      "Subject2 = sf\n",
      "\n",
      "Position in loop: 142\n",
      "Marks are correct.\n",
      "\n",
      "Position in loop: 156\n",
      "Marks: 34/60\n",
      "\n",
      "Position in loop: 205\n",
      "Roll number 223 details: {'223': {'sf': '34/60'}}\n",
      "Position in loop: 205\n",
      "-----------------\n",
      "Current position: 0\n",
      "\n",
      "The roll number is 223 and the number of subjects is 2\n",
      "Subject1 = sf\n",
      "Marks are correct.\n",
      "Marks: 34/70\n",
      "Subject2 = sf\n",
      "Marks are correct.\n",
      "Marks: 34/60\n",
      "Roll number 223 details: {'223': {'sf': '34/60'}}\n"
     ]
    }
   ],
   "source": [
    "f = open(r\"C:\\Users\\shubh\\Downloads\\data.txt\",'r')\n",
    "while True:\n",
    "    str1 = f.readline()\n",
    "    print(\"Position in loop:\", f.tell())\n",
    "    if str1:\n",
    "        print(str1)\n",
    "    else:\n",
    "        break\n",
    "\n",
    "print(\"-----------------\")\n",
    "f.seek(0)\n",
    "print(\"Current position:\", f.tell())\n",
    "print(f.read())\n",
    "f.close()\n"
   ]
  },
  {
   "cell_type": "code",
   "execution_count": 61,
   "metadata": {},
   "outputs": [],
   "source": [
    "from datetime import datetime"
   ]
  },
  {
   "cell_type": "code",
   "execution_count": 68,
   "metadata": {},
   "outputs": [
    {
     "name": "stdout",
     "output_type": "stream",
     "text": [
      "entr year2009\n",
      "enter month12\n",
      "enter date31\n"
     ]
    },
    {
     "ename": "TypeError",
     "evalue": "an integer is required (got type str)",
     "output_type": "error",
     "traceback": [
      "\u001b[1;31m---------------------------------------------------------------------------\u001b[0m",
      "\u001b[1;31mTypeError\u001b[0m                                 Traceback (most recent call last)",
      "\u001b[1;32m~\\AppData\\Local\\Temp/ipykernel_16764/4181732999.py\u001b[0m in \u001b[0;36m<module>\u001b[1;34m\u001b[0m\n\u001b[0;32m      3\u001b[0m \u001b[0mDOB_month\u001b[0m \u001b[1;33m=\u001b[0m \u001b[0minput\u001b[0m\u001b[1;33m(\u001b[0m\u001b[1;34m\"enter month\"\u001b[0m\u001b[1;33m)\u001b[0m\u001b[1;33m\u001b[0m\u001b[1;33m\u001b[0m\u001b[0m\n\u001b[0;32m      4\u001b[0m \u001b[0mDOB_date\u001b[0m \u001b[1;33m=\u001b[0m \u001b[0minput\u001b[0m\u001b[1;33m(\u001b[0m\u001b[1;34m\"enter date\"\u001b[0m\u001b[1;33m)\u001b[0m\u001b[1;33m\u001b[0m\u001b[1;33m\u001b[0m\u001b[0m\n\u001b[1;32m----> 5\u001b[1;33m \u001b[0mfinal_DOB\u001b[0m \u001b[1;33m=\u001b[0m \u001b[0mdatetime\u001b[0m\u001b[1;33m(\u001b[0m\u001b[0mDOB_year\u001b[0m \u001b[1;33m,\u001b[0m \u001b[0mDOB_month\u001b[0m \u001b[1;33m,\u001b[0m \u001b[0mDOB_date\u001b[0m\u001b[1;33m)\u001b[0m\u001b[1;33m\u001b[0m\u001b[1;33m\u001b[0m\u001b[0m\n\u001b[0m\u001b[0;32m      6\u001b[0m \u001b[0mfinal_DOB\u001b[0m\u001b[1;33m\u001b[0m\u001b[1;33m\u001b[0m\u001b[0m\n",
      "\u001b[1;31mTypeError\u001b[0m: an integer is required (got type str)"
     ]
    }
   ],
   "source": [
    "type(DOB_year)\n",
    "DOB_year = input(\"entr year\")\n",
    "DOB_month = input(\"enter month\")\n",
    "DOB_date = input(\"enter date\")\n",
    "final_DOB = datetime(DOB_year , DOB_month , DOB_date)\n",
    "final_DOB"
   ]
  },
  {
   "cell_type": "code",
   "execution_count": 69,
   "metadata": {},
   "outputs": [
    {
     "name": "stdout",
     "output_type": "stream",
     "text": [
      "Enter year: 2001\n",
      "Enter month: 5\n",
      "Enter date: 31\n",
      "2001-05-31 00:00:00\n"
     ]
    }
   ],
   "source": [
    " from datetime import datetime\n",
    "\n",
    "DOB_year = int(input(\"Enter year: \"))\n",
    "DOB_month = int(input(\"Enter month: \"))\n",
    "DOB_date = int(input(\"Enter date: \"))\n",
    "final_DOB = datetime(DOB_year, DOB_month, DOB_date)\n",
    "print(final_DOB)\n",
    "\n"
   ]
  },
  {
   "cell_type": "code",
   "execution_count": 70,
   "metadata": {},
   "outputs": [
    {
     "name": "stdout",
     "output_type": "stream",
     "text": [
      "Enter year of birth (YYYY): 2001\n",
      "Enter month of birth (MM): 5\n",
      "Enter date of birth (DD): 31\n",
      "Age: 21\n"
     ]
    }
   ],
   "source": [
    "\n",
    "##calculating age \n",
    "from datetime import datetime, date\n",
    "\n",
    "def calculate_age(born):\n",
    "    today = date.today()\n",
    "    return today.year - born.year - ((today.month, today.day) < (born.month, born.day))\n",
    "\n",
    "DOB_year = int(input(\"Enter year of birth (YYYY): \"))\n",
    "DOB_month = int(input(\"Enter month of birth (MM): \"))\n",
    "DOB_date = int(input(\"Enter date of birth (DD): \"))\n",
    "\n",
    "birth_date = date(DOB_year, DOB_month, DOB_date)\n",
    "age = calculate_age(birth_date)\n",
    "\n",
    "print(\"Age:\", age)\n"
   ]
  },
  {
   "cell_type": "code",
   "execution_count": 72,
   "metadata": {},
   "outputs": [
    {
     "name": "stdout",
     "output_type": "stream",
     "text": [
      "Enter year of birth (YYYY): 2001\n",
      "Enter month of birth (MM): 5\n",
      "Enter date of birth (DD): 31\n",
      "Age: 21 years, 9 months, -23 days\n"
     ]
    }
   ],
   "source": [
    "from datetime import datetime, date\n",
    "\n",
    "def calculate_exact_age(born):\n",
    "    today = datetime.now()\n",
    "    age_years = today.year - born.year\n",
    "    age_months = today.month - born.month\n",
    "    age_days = today.day - born.day\n",
    "    if (today.month, today.day) < (born.month, born.day):\n",
    "        age_years -= 1\n",
    "        age_months += 12\n",
    "    return (age_years, age_months, age_days)\n",
    "\n",
    "DOB_year = int(input(\"Enter year of birth (YYYY): \"))\n",
    "DOB_month = int(input(\"Enter month of birth (MM): \"))\n",
    "DOB_date = int(input(\"Enter date of birth (DD): \"))\n",
    "\n",
    "birth_date = date(DOB_year, DOB_month, DOB_date)\n",
    "age = calculate_exact_age(birth_date)\n",
    "\n",
    "print(\"Age:\", age[0], \"years,\", age[1], \"months,\", age[2], \"days\")\n"
   ]
  },
  {
   "cell_type": "code",
   "execution_count": null,
   "metadata": {},
   "outputs": [],
   "source": []
  }
 ],
 "metadata": {
  "kernelspec": {
   "display_name": "Python 3 (ipykernel)",
   "language": "python",
   "name": "python3"
  },
  "language_info": {
   "codemirror_mode": {
    "name": "ipython",
    "version": 3
   },
   "file_extension": ".py",
   "mimetype": "text/x-python",
   "name": "python",
   "nbconvert_exporter": "python",
   "pygments_lexer": "ipython3",
   "version": "3.9.7"
  }
 },
 "nbformat": 4,
 "nbformat_minor": 2
}

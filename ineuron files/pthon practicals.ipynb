{
 "cells": [
  {
   "cell_type": "code",
   "execution_count": 27,
   "id": "9cc274e5",
   "metadata": {},
   "outputs": [],
   "source": [
    "#pthon practicals"
   ]
  },
  {
   "cell_type": "code",
   "execution_count": 28,
   "id": "c6e898a5",
   "metadata": {},
   "outputs": [],
   "source": [
    "# pr1"
   ]
  },
  {
   "cell_type": "code",
   "execution_count": 29,
   "id": "4a1829ea",
   "metadata": {
    "scrolled": true
   },
   "outputs": [
    {
     "name": "stderr",
     "output_type": "stream",
     "text": [
      "'[image.png]' is not recognized as an internal or external command,\n",
      "operable program or batch file.\n"
     ]
    }
   ],
   "source": [
    "![image.png](attachment:image.png)"
   ]
  },
  {
   "cell_type": "markdown",
   "id": "3979f02c",
   "metadata": {},
   "source": [
    " "
   ]
  },
  {
   "cell_type": "code",
   "execution_count": 2,
   "id": "f142f7b1",
   "metadata": {},
   "outputs": [
    {
     "name": "stdout",
     "output_type": "stream",
     "text": [
      "enter tem in celsius1\n",
      "tempreturer in farenheight is  33.8\n"
     ]
    }
   ],
   "source": [
    "t=float(input('enter tem in celsius'))\n",
    "print('tempreturer in farenheight is ',t*1.8+32)"
   ]
  },
  {
   "cell_type": "code",
   "execution_count": 3,
   "id": "a9afd8c5",
   "metadata": {},
   "outputs": [
    {
     "name": "stdout",
     "output_type": "stream",
     "text": [
      "enter the value of celsius\n",
      "1\n",
      "33.8\n",
      "this is the tempre in farenheight\n"
     ]
    }
   ],
   "source": [
    "print('enter the value of celsius')\n",
    "c=float(input())\n",
    "f=c*1.8+32\n",
    "print(f)\n",
    "print('this is the tempre in farenheight')"
   ]
  },
  {
   "cell_type": "code",
   "execution_count": 7,
   "id": "6a666743",
   "metadata": {},
   "outputs": [
    {
     "name": "stdout",
     "output_type": "stream",
     "text": [
      "enter the m\n",
      "9\n",
      "enter the n\n",
      "3\n",
      "is divicible\n"
     ]
    }
   ],
   "source": [
    "print(\"enter the m\")\n",
    "m=int(input())\n",
    "print(\"enter the n\")\n",
    "n=int(input())\n",
    "if m%n==0:\n",
    "    print(\"is divicible\")\n",
    "else:\n",
    "     print(\"not divisible \")"
   ]
  },
  {
   "cell_type": "code",
   "execution_count": 12,
   "id": "c17803b1",
   "metadata": {
    "scrolled": true
   },
   "outputs": [
    {
     "name": "stdout",
     "output_type": "stream",
     "text": [
      "enter value\n",
      "11\n",
      "value is odd\n"
     ]
    }
   ],
   "source": [
    "print(\"enter value\")\n",
    "v=float(input())\n",
    "if v%2==0:\n",
    "        print('value is even')\n",
    "else:\n",
    "    print(\"value is odd\")"
   ]
  },
  {
   "cell_type": "code",
   "execution_count": 18,
   "id": "3051cd02",
   "metadata": {},
   "outputs": [
    {
     "name": "stdout",
     "output_type": "stream",
     "text": [
      "{1: 10, 2: 20, 3: 30, 4: 40, 5: 50, 6: 60}\n"
     ]
    }
   ],
   "source": [
    "d1={1:10, 2:20} \n",
    "d2={3:30, 4:40}\n",
    "d3={5:50, 6:60}\n",
    "d4={}\n",
    "for i in (d1,d2,d3):\n",
    "    d4.update(i)\n",
    "print(d4)\n"
   ]
  },
  {
   "cell_type": "code",
   "execution_count": 21,
   "id": "1002dc64",
   "metadata": {},
   "outputs": [
    {
     "ename": "SyntaxError",
     "evalue": "invalid character '‘' (U+2018) (Temp/ipykernel_16732/3540674636.py, line 1)",
     "output_type": "error",
     "traceback": [
      "\u001b[1;36m  File \u001b[1;32m\"C:\\Users\\shubh\\AppData\\Local\\Temp/ipykernel_16732/3540674636.py\"\u001b[1;36m, line \u001b[1;32m1\u001b[0m\n\u001b[1;33m    d1={‘a’:1, ‘b’:2}\u001b[0m\n\u001b[1;37m        ^\u001b[0m\n\u001b[1;31mSyntaxError\u001b[0m\u001b[1;31m:\u001b[0m invalid character '‘' (U+2018)\n"
     ]
    }
   ],
   "source": [
    "d1={‘a’:1, ‘b’:2}\n",
    "d2={‘c’:3, ‘d’:4} \n",
    "d3={‘e’:5, ‘f’:6}\n",
    "d4={}\n",
    "for  i in(d1,d2,d3):\n",
    "    d4.update(i)\n",
    "print(d4)"
   ]
  },
  {
   "cell_type": "code",
   "execution_count": 22,
   "id": "8a6c2c8f",
   "metadata": {},
   "outputs": [
    {
     "ename": "SyntaxError",
     "evalue": "invalid syntax (Temp/ipykernel_16732/2710638420.py, line 9)",
     "output_type": "error",
     "traceback": [
      "\u001b[1;36m  File \u001b[1;32m\"C:\\Users\\shubh\\AppData\\Local\\Temp/ipykernel_16732/2710638420.py\"\u001b[1;36m, line \u001b[1;32m9\u001b[0m\n\u001b[1;33m    eq1 = Eq((4x+3y), 11)\u001b[0m\n\u001b[1;37m               ^\u001b[0m\n\u001b[1;31mSyntaxError\u001b[0m\u001b[1;31m:\u001b[0m invalid syntax\n"
     ]
    }
   ],
   "source": [
    "# importing library sympy\n",
    "from sympy import symbols, Eq, solve\n",
    "\n",
    "# defining symbols used in equations\n",
    "# or unknown variables\n",
    "x, y = symbols('x,y')\n",
    "\n",
    "# defining equations\n",
    "eq1 = Eq((4x+3y), 11)\n",
    "print(\"Equation 1:\")\n",
    "print(eq1)\n",
    "eq2 = Eq((6x-5y), 7)\n",
    "print(\"Equation 2\")\n",
    "print(eq2)\n",
    "\n",
    "# solving the equation\n",
    "print(\"Values of 2 unknown variable are as follows:\")\n",
    "\n",
    "print(solve((eq1, eq2), (x, y)))\n"
   ]
  },
  {
   "cell_type": "code",
   "execution_count": 26,
   "id": "20f45e76",
   "metadata": {},
   "outputs": [
    {
     "name": "stdout",
     "output_type": "stream",
     "text": [
      "[ 17. -19.]\n"
     ]
    }
   ],
   "source": [
    "import numpy as np\n",
    "a=np.array([[4,3],[6,5]])\n",
    "b=np.array([11,7])\n",
    "c=np.linalg.solve(a,b)\n",
    "print(c)"
   ]
  },
  {
   "cell_type": "code",
   "execution_count": 30,
   "id": "e9660440",
   "metadata": {},
   "outputs": [],
   "source": [
    "### practical no. 2"
   ]
  },
  {
   "cell_type": "code",
   "execution_count": 35,
   "id": "9082656d",
   "metadata": {
    "scrolled": true
   },
   "outputs": [
    {
     "name": "stdout",
     "output_type": "stream",
     "text": [
      "entr no. if items required\n",
      "10\n",
      "0 1 1 2 3 5 8 13 21 34 "
     ]
    }
   ],
   "source": [
    "print(\"entr no. if items required\")\n",
    "n=int(input())\n",
    "f1,f2=0,1\n",
    "print(f1,f2,end=' ')\n",
    "for i in range(3,n+1):\n",
    "    f3=f1+f2\n",
    "    print(f3,end=' ')\n",
    "    f1=f2\n",
    "    f2=f3"
   ]
  },
  {
   "cell_type": "code",
   "execution_count": 36,
   "id": "d4710fdb",
   "metadata": {},
   "outputs": [
    {
     "name": "stdout",
     "output_type": "stream",
     "text": [
      "entr value \n",
      "10\n",
      "sum is  55\n",
      "sum2 is  385\n"
     ]
    }
   ],
   "source": [
    "print(\"entr value \")\n",
    "n=int(input())\n",
    "sum=0\n",
    "sum2=0\n",
    "for i in range (1,1+i):\n",
    "    sum=sum+i\n",
    "    sum2=sum2+i*i\n",
    "print(\"sum is \",sum)\n",
    "print(\"sum2 is \",sum2)\n",
    "   "
   ]
  },
  {
   "cell_type": "code",
   "execution_count": 37,
   "id": "6a7d3b1f",
   "metadata": {},
   "outputs": [
    {
     "data": {
      "text/plain": [
       "7"
      ]
     },
     "execution_count": 37,
     "metadata": {},
     "output_type": "execute_result"
    }
   ],
   "source": [
    "len('shubham')"
   ]
  },
  {
   "cell_type": "code",
   "execution_count": 39,
   "id": "b9c73b34",
   "metadata": {},
   "outputs": [
    {
     "name": "stdout",
     "output_type": "stream",
     "text": [
      "enter word\n",
      "shubham\n",
      "7\n"
     ]
    }
   ],
   "source": [
    "print(\"enter word\")\n",
    "word=str(input())\n",
    "length=len(word)\n",
    "print(length)"
   ]
  },
  {
   "cell_type": "code",
   "execution_count": 52,
   "id": "cb298180",
   "metadata": {},
   "outputs": [
    {
     "name": "stdout",
     "output_type": "stream",
     "text": [
      "enter word\n",
      "shubbham\n",
      "not palindrome\n"
     ]
    }
   ],
   "source": [
    "print('enter word')\n",
    "word=str(input())\n",
    "word1=word[::-1]\n",
    "if word==word1:\n",
    "    print('is palinndrom')\n",
    "else:\n",
    "    print('not palindrome')"
   ]
  },
  {
   "cell_type": "code",
   "execution_count": null,
   "id": "397f311f",
   "metadata": {},
   "outputs": [],
   "source": [
    "ch=input()\n",
    "ch.isalpha()"
   ]
  },
  {
   "cell_type": "code",
   "execution_count": 61,
   "id": "733c7a7f",
   "metadata": {},
   "outputs": [
    {
     "name": "stdout",
     "output_type": "stream",
     "text": [
      "shubham,ram,mdkd\n"
     ]
    }
   ],
   "source": [
    "dic=str(input())\n",
    "for i in dic:\n",
    "    len(i)"
   ]
  },
  {
   "cell_type": "code",
   "execution_count": 63,
   "id": "fe304dce",
   "metadata": {},
   "outputs": [
    {
     "name": "stdout",
     "output_type": "stream",
     "text": [
      "1\n",
      "2\n",
      "3\n",
      "4\n"
     ]
    }
   ],
   "source": [
    "for i in range(1,5):\n",
    "    print(i)"
   ]
  },
  {
   "cell_type": "code",
   "execution_count": 2,
   "id": "0ac7b4af",
   "metadata": {},
   "outputs": [],
   "source": [
    "### practicals 4\n"
   ]
  },
  {
   "cell_type": "code",
   "execution_count": 3,
   "id": "44759bf9",
   "metadata": {},
   "outputs": [],
   "source": [
    "import numpy as np\n",
    "import matplotlib.pyplot as plt"
   ]
  },
  {
   "cell_type": "code",
   "execution_count": 8,
   "id": "b7d405b9",
   "metadata": {},
   "outputs": [
    {
     "data": {
      "image/png": "[encoded data removed]",
      "text/plain": [
       "<Figure size 432x288 with 1 Axes>"
      ]
     },
     "metadata": {
      "needs_background": "light"
     },
     "output_type": "display_data"
    },
    {
     "data": {
      "image/png": "[encoded data removed]",
      "text/plain": [
       "<Figure size 432x288 with 1 Axes>"
      ]
     },
     "metadata": {
      "needs_background": "light"
     },
     "output_type": "display_data"
    }
   ],
   "source": [
    "year = [1,2,3,4,5,6]\n",
    "students = [700,1200,900,800,950,1000]\n",
    "plt.plot(year,students);plt.show()\n",
    "plt.bar(year,students);plt.show()"
   ]
  },
  {
   "cell_type": "code",
   "execution_count": 10,
   "id": "c621e08e",
   "metadata": {},
   "outputs": [
    {
     "data": {
      "text/plain": [
       "[]"
      ]
     },
     "execution_count": 10,
     "metadata": {},
     "output_type": "execute_result"
    },
    {
     "data": {
      "image/png": "[encoded data removed]",
      "text/plain": [
       "<Figure size 432x288 with 1 Axes>"
      ]
     },
     "metadata": {},
     "output_type": "display_data"
    }
   ],
   "source": [
    "students=[23.17,13.51,17.37,18.92,27.03]\n",
    "sub=['Chemistry','Electronics','Mathematics','Physics','Statistics']\n",
    "plt.pie(students,labels=sub)\n",
    "plt.plot()"
   ]
  },
  {
   "cell_type": "code",
   "execution_count": 14,
   "id": "f34f7729",
   "metadata": {},
   "outputs": [
    {
     "data": {
      "text/plain": [
       "array([0, 1, 2])"
      ]
     },
     "execution_count": 14,
     "metadata": {},
     "output_type": "execute_result"
    }
   ],
   "source": [
    "\n",
    "w=0.4\n",
    "yrs=['2017-18','2018-19','2019-20']\n",
    "y1 = [750,725,850]\n",
    "y2 = [1450,1625,1750]\n",
    "bar1=np.arange(len(y1));bar1\n",
    "\n"
   ]
  },
  {
   "cell_type": "code",
   "execution_count": 15,
   "id": "18cd46cc",
   "metadata": {},
   "outputs": [
    {
     "data": {
      "text/plain": [
       "[0.4, 1.4, 2.4]"
      ]
     },
     "execution_count": 15,
     "metadata": {},
     "output_type": "execute_result"
    }
   ],
   "source": [
    "bar2 = [i+w for i in bar1];bar2"
   ]
  },
  {
   "cell_type": "code",
   "execution_count": 16,
   "id": "1801c466",
   "metadata": {},
   "outputs": [
    {
     "data": {
      "text/plain": [
       "<BarContainer object of 3 artists>"
      ]
     },
     "execution_count": 16,
     "metadata": {},
     "output_type": "execute_result"
    },
    {
     "data": {
      "image/png": "[encoded data removed]",
      "text/plain": [
       "<Figure size 432x288 with 1 Axes>"
      ]
     },
     "metadata": {
      "needs_background": "light"
     },
     "output_type": "display_data"
    }
   ],
   "source": [
    "plt.bar(bar1,y1,label='Arts')\n",
    "plt.bar(bar2,y2,label='Commerce')"
   ]
  },
  {
   "cell_type": "code",
   "execution_count": 17,
   "id": "637394e9",
   "metadata": {},
   "outputs": [
    {
     "ename": "TypeError",
     "evalue": "bar() missing 1 required positional argument: 'height'",
     "output_type": "error",
     "traceback": [
      "\u001b[1;31m---------------------------------------------------------------------------\u001b[0m",
      "\u001b[1;31mTypeError\u001b[0m                                 Traceback (most recent call last)",
      "\u001b[1;32m~\\AppData\\Local\\Temp/ipykernel_20204/3755430074.py\u001b[0m in \u001b[0;36m<module>\u001b[1;34m\u001b[0m\n\u001b[1;32m----> 1\u001b[1;33m \u001b[0mplt\u001b[0m\u001b[1;33m.\u001b[0m\u001b[0mbar\u001b[0m\u001b[1;33m(\u001b[0m\u001b[0my1\u001b[0m\u001b[1;33m,\u001b[0m\u001b[0mwidth\u001b[0m\u001b[1;33m=\u001b[0m\u001b[0mw\u001b[0m\u001b[1;33m,\u001b[0m\u001b[0mlabel\u001b[0m\u001b[1;33m=\u001b[0m\u001b[1;34m'Arts'\u001b[0m\u001b[1;33m)\u001b[0m\u001b[1;33m\u001b[0m\u001b[1;33m\u001b[0m\u001b[0m\n\u001b[0m\u001b[0;32m      2\u001b[0m \u001b[0mplt\u001b[0m\u001b[1;33m.\u001b[0m\u001b[0mbar\u001b[0m\u001b[1;33m(\u001b[0m\u001b[0my2\u001b[0m\u001b[1;33m,\u001b[0m\u001b[0mwidth\u001b[0m\u001b[1;33m=\u001b[0m\u001b[0mw\u001b[0m\u001b[1;33m,\u001b[0m\u001b[0mlabel\u001b[0m\u001b[1;33m=\u001b[0m\u001b[1;34m'Commerce'\u001b[0m\u001b[1;33m)\u001b[0m\u001b[1;33m\u001b[0m\u001b[1;33m\u001b[0m\u001b[0m\n",
      "\u001b[1;31mTypeError\u001b[0m: bar() missing 1 required positional argument: 'height'"
     ]
    }
   ],
   "source": [
    "plt.bar(y1,width=w,label='Arts')\n",
    "plt.bar(y2,width=w,label='Commerce')"
   ]
  },
  {
   "cell_type": "code",
   "execution_count": 18,
   "id": "fc8b352b",
   "metadata": {},
   "outputs": [
    {
     "data": {
      "text/plain": [
       "<BarContainer object of 3 artists>"
      ]
     },
     "execution_count": 18,
     "metadata": {},
     "output_type": "execute_result"
    },
    {
     "data": {
      "image/png": "[encoded data removed]",
      "text/plain": [
       "<Figure size 432x288 with 1 Axes>"
      ]
     },
     "metadata": {
      "needs_background": "light"
     },
     "output_type": "display_data"
    }
   ],
   "source": [
    "plt.bar(yrs,y2,bottom=y1,label='Commerce')"
   ]
  },
  {
   "cell_type": "code",
   "execution_count": 19,
   "id": "8ab43890",
   "metadata": {},
   "outputs": [],
   "source": [
    "####prac 5"
   ]
  },
  {
   "cell_type": "code",
   "execution_count": 22,
   "id": "06b75d77",
   "metadata": {},
   "outputs": [
    {
     "data": {
      "image/png": "[encoded data removed]",
      "text/plain": [
       "<Figure size 432x288 with 1 Axes>"
      ]
     },
     "metadata": {
      "needs_background": "light"
     },
     "output_type": "display_data"
    }
   ],
   "source": [
    "frequencies = np.array([14,22,27,80,93])\n",
    "bins = np.array([100,120,130,140,150,160])\n",
    "widths = bins[1:] - bins[:-1]\n",
    "heights = frequencies/widths\n",
    "plt.bar(bins[:-1], heights, width=widths, align='edge')\n",
    "\n",
    "plt.show()"
   ]
  },
  {
   "cell_type": "code",
   "execution_count": 23,
   "id": "1590232d",
   "metadata": {},
   "outputs": [],
   "source": [
    "x = [1,2,3,4,5,6]\n",
    "y = [(0,14),(0,22),(0,27),(0,80),(0,93),(0,11)]"
   ]
  },
  {
   "cell_type": "code",
   "execution_count": 25,
   "id": "cba3cfb1",
   "metadata": {},
   "outputs": [
    {
     "data": {
      "text/plain": [
       "[<matplotlib.lines.Line2D at 0x1d9cbda0820>,\n",
       " <matplotlib.lines.Line2D at 0x1d9cbda0df0>,\n",
       " <matplotlib.lines.Line2D at 0x1d9cbda0a90>,\n",
       " <matplotlib.lines.Line2D at 0x1d9cbda0e80>,\n",
       " <matplotlib.lines.Line2D at 0x1d9cbda0400>,\n",
       " <matplotlib.lines.Line2D at 0x1d9cbda00d0>]"
      ]
     },
     "execution_count": 25,
     "metadata": {},
     "output_type": "execute_result"
    },
    {
     "data": {
      "image/png": "[encoded data removed]",
      "text/plain": [
       "<Figure size 432x288 with 1 Axes>"
      ]
     },
     "metadata": {
      "needs_background": "light"
     },
     "output_type": "display_data"
    }
   ],
   "source": [
    "plt.plot((x,x),([i for (i,j) in y],[j for (i,j) in y]),c='black')"
   ]
  },
  {
   "cell_type": "code",
   "execution_count": 32,
   "id": "f77b884a",
   "metadata": {},
   "outputs": [],
   "source": [
    "from scipy.stats import poisson\n",
    "import pandas as pd"
   ]
  },
  {
   "cell_type": "code",
   "execution_count": 34,
   "id": "06464642",
   "metadata": {},
   "outputs": [
    {
     "name": "stdout",
     "output_type": "stream",
     "text": [
      "2\n"
     ]
    },
    {
     "data": {
      "text/html": [
       "<div>\n",
       "<style scoped>\n",
       "    .dataframe tbody tr th:only-of-type {\n",
       "        vertical-align: middle;\n",
       "    }\n",
       "\n",
       "    .dataframe tbody tr th {\n",
       "        vertical-align: top;\n",
       "    }\n",
       "\n",
       "    .dataframe thead th {\n",
       "        text-align: right;\n",
       "    }\n",
       "</style>\n",
       "<table border=\"1\" class=\"dataframe\">\n",
       "  <thead>\n",
       "    <tr style=\"text-align: right;\">\n",
       "      <th></th>\n",
       "      <th>x</th>\n",
       "      <th>pmf</th>\n",
       "    </tr>\n",
       "  </thead>\n",
       "  <tbody>\n",
       "    <tr>\n",
       "      <th>0</th>\n",
       "      <td>0</td>\n",
       "      <td>0.135335</td>\n",
       "    </tr>\n",
       "    <tr>\n",
       "      <th>1</th>\n",
       "      <td>1</td>\n",
       "      <td>0.270671</td>\n",
       "    </tr>\n",
       "    <tr>\n",
       "      <th>2</th>\n",
       "      <td>2</td>\n",
       "      <td>0.270671</td>\n",
       "    </tr>\n",
       "    <tr>\n",
       "      <th>3</th>\n",
       "      <td>3</td>\n",
       "      <td>0.180447</td>\n",
       "    </tr>\n",
       "    <tr>\n",
       "      <th>4</th>\n",
       "      <td>4</td>\n",
       "      <td>0.090224</td>\n",
       "    </tr>\n",
       "    <tr>\n",
       "      <th>5</th>\n",
       "      <td>5</td>\n",
       "      <td>0.036089</td>\n",
       "    </tr>\n",
       "    <tr>\n",
       "      <th>6</th>\n",
       "      <td>6</td>\n",
       "      <td>0.012030</td>\n",
       "    </tr>\n",
       "  </tbody>\n",
       "</table>\n",
       "</div>"
      ],
      "text/plain": [
       "   x       pmf\n",
       "0  0  0.135335\n",
       "1  1  0.270671\n",
       "2  2  0.270671\n",
       "3  3  0.180447\n",
       "4  4  0.090224\n",
       "5  5  0.036089\n",
       "6  6  0.012030"
      ]
     },
     "execution_count": 34,
     "metadata": {},
     "output_type": "execute_result"
    }
   ],
   "source": [
    "x=[0,1,2,3,4,5,6]\n",
    "m=float(input())\n",
    "pmf = poisson.pmf(x,m)\n",
    "pd.DataFrame({\"x\":x,\"pmf\":pmf})\n"
   ]
  },
  {
   "cell_type": "code",
   "execution_count": 35,
   "id": "cfe3ba8e",
   "metadata": {},
   "outputs": [
    {
     "data": {
      "text/plain": [
       "<function matplotlib.pyplot.hist(x, bins=None, range=None, density=False, weights=None, cumulative=False, bottom=None, histtype='bar', align='mid', orientation='vertical', rwidth=None, log=False, color=None, label=None, stacked=False, *, data=None, **kwargs)>"
      ]
     },
     "execution_count": 35,
     "metadata": {},
     "output_type": "execute_result"
    }
   ],
   "source": [
    "plt.hist"
   ]
  },
  {
   "cell_type": "code",
   "execution_count": 49,
   "id": "27f055ae",
   "metadata": {},
   "outputs": [
    {
     "ename": "KeyboardInterrupt",
     "evalue": "Interrupted by user",
     "output_type": "error",
     "traceback": [
      "\u001b[1;31m---------------------------------------------------------------------------\u001b[0m",
      "\u001b[1;31mKeyboardInterrupt\u001b[0m                         Traceback (most recent call last)",
      "\u001b[1;32m~\\AppData\\Local\\Temp/ipykernel_20204/2023645931.py\u001b[0m in \u001b[0;36m<module>\u001b[1;34m\u001b[0m\n\u001b[1;32m----> 1\u001b[1;33m \u001b[0mx\u001b[0m\u001b[1;33m=\u001b[0m\u001b[0mint\u001b[0m\u001b[1;33m(\u001b[0m\u001b[0minput\u001b[0m\u001b[1;33m(\u001b[0m\u001b[1;33m)\u001b[0m\u001b[1;33m)\u001b[0m\u001b[1;33m\u001b[0m\u001b[1;33m\u001b[0m\u001b[0m\n\u001b[0m\u001b[0;32m      2\u001b[0m \u001b[0mn\u001b[0m\u001b[1;33m=\u001b[0m\u001b[0mint\u001b[0m\u001b[1;33m(\u001b[0m\u001b[0minput\u001b[0m\u001b[1;33m(\u001b[0m\u001b[1;33m)\u001b[0m\u001b[1;33m)\u001b[0m\u001b[1;33m\u001b[0m\u001b[1;33m\u001b[0m\u001b[0m\n\u001b[0;32m      3\u001b[0m \u001b[1;32mdef\u001b[0m \u001b[0mp\u001b[0m\u001b[1;33m(\u001b[0m\u001b[0mx\u001b[0m\u001b[1;33m,\u001b[0m\u001b[0mn\u001b[0m\u001b[1;33m)\u001b[0m\u001b[1;33m:\u001b[0m\u001b[1;33m\u001b[0m\u001b[1;33m\u001b[0m\u001b[0m\n\u001b[0;32m      4\u001b[0m     \u001b[1;32mif\u001b[0m \u001b[0mn\u001b[0m \u001b[1;33m==\u001b[0m \u001b[1;36m1\u001b[0m\u001b[1;33m:\u001b[0m\u001b[1;33m\u001b[0m\u001b[1;33m\u001b[0m\u001b[0m\n\u001b[0;32m      5\u001b[0m         \u001b[1;32mreturn\u001b[0m \u001b[0mx\u001b[0m\u001b[1;33m\u001b[0m\u001b[1;33m\u001b[0m\u001b[0m\n",
      "\u001b[1;32m~\\anaconda3\\lib\\site-packages\\ipykernel\\kernelbase.py\u001b[0m in \u001b[0;36mraw_input\u001b[1;34m(self, prompt)\u001b[0m\n\u001b[0;32m   1004\u001b[0m                 \u001b[1;34m\"raw_input was called, but this frontend does not support input requests.\"\u001b[0m\u001b[1;33m\u001b[0m\u001b[1;33m\u001b[0m\u001b[0m\n\u001b[0;32m   1005\u001b[0m             )\n\u001b[1;32m-> 1006\u001b[1;33m         return self._input_request(\n\u001b[0m\u001b[0;32m   1007\u001b[0m             \u001b[0mstr\u001b[0m\u001b[1;33m(\u001b[0m\u001b[0mprompt\u001b[0m\u001b[1;33m)\u001b[0m\u001b[1;33m,\u001b[0m\u001b[1;33m\u001b[0m\u001b[1;33m\u001b[0m\u001b[0m\n\u001b[0;32m   1008\u001b[0m             \u001b[0mself\u001b[0m\u001b[1;33m.\u001b[0m\u001b[0m_parent_ident\u001b[0m\u001b[1;33m[\u001b[0m\u001b[1;34m\"shell\"\u001b[0m\u001b[1;33m]\u001b[0m\u001b[1;33m,\u001b[0m\u001b[1;33m\u001b[0m\u001b[1;33m\u001b[0m\u001b[0m\n",
      "\u001b[1;32m~\\anaconda3\\lib\\site-packages\\ipykernel\\kernelbase.py\u001b[0m in \u001b[0;36m_input_request\u001b[1;34m(self, prompt, ident, parent, password)\u001b[0m\n\u001b[0;32m   1049\u001b[0m             \u001b[1;32mexcept\u001b[0m \u001b[0mKeyboardInterrupt\u001b[0m\u001b[1;33m:\u001b[0m\u001b[1;33m\u001b[0m\u001b[1;33m\u001b[0m\u001b[0m\n\u001b[0;32m   1050\u001b[0m                 \u001b[1;31m# re-raise KeyboardInterrupt, to truncate traceback\u001b[0m\u001b[1;33m\u001b[0m\u001b[1;33m\u001b[0m\u001b[0m\n\u001b[1;32m-> 1051\u001b[1;33m                 \u001b[1;32mraise\u001b[0m \u001b[0mKeyboardInterrupt\u001b[0m\u001b[1;33m(\u001b[0m\u001b[1;34m\"Interrupted by user\"\u001b[0m\u001b[1;33m)\u001b[0m \u001b[1;32mfrom\u001b[0m \u001b[1;32mNone\u001b[0m\u001b[1;33m\u001b[0m\u001b[1;33m\u001b[0m\u001b[0m\n\u001b[0m\u001b[0;32m   1052\u001b[0m             \u001b[1;32mexcept\u001b[0m \u001b[0mException\u001b[0m\u001b[1;33m:\u001b[0m\u001b[1;33m\u001b[0m\u001b[1;33m\u001b[0m\u001b[0m\n\u001b[0;32m   1053\u001b[0m                 \u001b[0mself\u001b[0m\u001b[1;33m.\u001b[0m\u001b[0mlog\u001b[0m\u001b[1;33m.\u001b[0m\u001b[0mwarning\u001b[0m\u001b[1;33m(\u001b[0m\u001b[1;34m\"Invalid Message:\"\u001b[0m\u001b[1;33m,\u001b[0m \u001b[0mexc_info\u001b[0m\u001b[1;33m=\u001b[0m\u001b[1;32mTrue\u001b[0m\u001b[1;33m)\u001b[0m\u001b[1;33m\u001b[0m\u001b[1;33m\u001b[0m\u001b[0m\n",
      "\u001b[1;31mKeyboardInterrupt\u001b[0m: Interrupted by user"
     ]
    }
   ],
   "source": [
    "x=int(input())\n",
    "n=int(input())\n",
    "def p(x,n):\n",
    "    if n == 1:\n",
    "        return x\n",
    "    else:\n",
    "        return x**n\n",
    "    "
   ]
  },
  {
   "cell_type": "code",
   "execution_count": null,
   "id": "f1dba602",
   "metadata": {},
   "outputs": [],
   "source": [
    "p(2,3)"
   ]
  },
  {
   "cell_type": "code",
   "execution_count": 50,
   "id": "db6c295e",
   "metadata": {},
   "outputs": [],
   "source": [
    "A = {'a', 'b', 'c', 'd'}\n",
    "B = {'b', 'c', 'e'}"
   ]
  },
  {
   "cell_type": "code",
   "execution_count": 55,
   "id": "488241be",
   "metadata": {},
   "outputs": [],
   "source": [
    "def set_diff(a, b):\n",
    "    c = set()\n",
    "    for i in a:\n",
    "        if i not in b:\n",
    "            c.update(i)\n",
    "            return c"
   ]
  },
  {
   "cell_type": "code",
   "execution_count": 56,
   "id": "d6e627d6",
   "metadata": {},
   "outputs": [
    {
     "name": "stdout",
     "output_type": "stream",
     "text": [
      "{'a'}\n",
      "{'e'}\n"
     ]
    }
   ],
   "source": [
    "print(set_diff(A, B))\n",
    "print(set_diff(B, A))"
   ]
  },
  {
   "cell_type": "code",
   "execution_count": 57,
   "id": "8453783e",
   "metadata": {},
   "outputs": [],
   "source": [
    "def intersection(a, b):\n",
    "    c = set()\n",
    "    for i in a:\n",
    "        if i in b:\n",
    "            c.update(i)\n",
    "            return c"
   ]
  },
  {
   "cell_type": "code",
   "execution_count": 58,
   "id": "7332e10c",
   "metadata": {},
   "outputs": [
    {
     "name": "stdout",
     "output_type": "stream",
     "text": [
      "{'c'}\n"
     ]
    }
   ],
   "source": [
    "print(intersection(A, B))"
   ]
  },
  {
   "cell_type": "code",
   "execution_count": 61,
   "id": "2fd5aec6",
   "metadata": {
    "scrolled": true
   },
   "outputs": [
    {
     "name": "stdout",
     "output_type": "stream",
     "text": [
      "a b c d e "
     ]
    }
   ],
   "source": [
    "# Python program to find union of\n",
    "# two sorted arrays\n",
    "# Function prints union of arr1[] and arr2[]\n",
    "# m is the number of elements in arr1[]\n",
    "# n is the number of elements in arr2[]\n",
    "def printUnion(arr1, arr2, m, n):\n",
    "\ti, j = 0, 0\n",
    "\twhile i < m and j < n:\n",
    "\t\tif arr1[i] < arr2[j]:\n",
    "\t\t\tprint(arr1[i],end=\" \")\n",
    "\t\t\ti += 1\n",
    "\t\telif arr2[j] < arr1[i]:\n",
    "\t\t\tprint(arr2[j],end=\" \")\n",
    "\t\t\tj+= 1\n",
    "\t\telse:\n",
    "\t\t\tprint(arr2[j],end=\" \")\n",
    "\t\t\tj += 1\n",
    "\t\t\ti += 1\n",
    "\n",
    "\t# Print remaining elements of the larger array\n",
    "\twhile i < m:\n",
    "\t\tprint(arr1[i],end=\" \")\n",
    "\t\ti += 1\n",
    "\n",
    "\twhile j < n:\n",
    "\t\tprint(arr2[j],end=\" \")\n",
    "\t\tj += 1\n",
    "\n",
    "# Driver program to test above function\n",
    "arr1 = ['a', 'b', 'c', 'd']\n",
    "arr2 = ['b', 'c', 'e']\n",
    "m = len(arr1)\n",
    "n = len(arr2)\n",
    "printUnion(arr1, arr2, m, n)\n",
    "\n",
    "# This code is contributed by Pratik Chhajer\n"
   ]
  },
  {
   "cell_type": "markdown",
   "id": "4f670cb7",
   "metadata": {},
   "source": [
    "### import numpy as np\n",
    "import module1 as m1\n"
   ]
  },
  {
   "cell_type": "code",
   "execution_count": 65,
   "id": "d1f5ba4b",
   "metadata": {},
   "outputs": [],
   "source": [
    "def circle(radius):\n",
    "    circum = 2*(3.14)*radius\n",
    "    return circum"
   ]
  },
  {
   "cell_type": "code",
   "execution_count": 66,
   "id": "5cdbd987",
   "metadata": {},
   "outputs": [
    {
     "data": {
      "text/plain": [
       "314.0"
      ]
     },
     "execution_count": 66,
     "metadata": {},
     "output_type": "execute_result"
    }
   ],
   "source": [
    "circle(50)"
   ]
  },
  {
   "cell_type": "code",
   "execution_count": 67,
   "id": "736e1f30",
   "metadata": {},
   "outputs": [],
   "source": [
    "def minimum(x):\n",
    "    return np.min(x)\n",
    "\n",
    "def maximum(x):\n",
    "    return np.max(x)\n"
   ]
  },
  {
   "cell_type": "code",
   "execution_count": 69,
   "id": "d13e4986",
   "metadata": {},
   "outputs": [
    {
     "data": {
      "text/plain": [
       "7"
      ]
     },
     "execution_count": 69,
     "metadata": {},
     "output_type": "execute_result"
    }
   ],
   "source": [
    "minimum([20,7,10])"
   ]
  },
  {
   "cell_type": "code",
   "execution_count": 70,
   "id": "13b3c2d6",
   "metadata": {},
   "outputs": [],
   "source": [
    "def area(h,b):\n",
    "    area=0.5*b*h\n",
    "    return area"
   ]
  },
  {
   "cell_type": "code",
   "execution_count": 71,
   "id": "3f68fdff",
   "metadata": {},
   "outputs": [
    {
     "data": {
      "text/plain": [
       "25.0"
      ]
     },
     "execution_count": 71,
     "metadata": {},
     "output_type": "execute_result"
    }
   ],
   "source": [
    "area(10,5)"
   ]
  },
  {
   "cell_type": "code",
   "execution_count": 72,
   "id": "4ec9f958",
   "metadata": {},
   "outputs": [],
   "source": [
    "a = np.array([[1,2,3],[1,6,7],[5,6,7]])\n",
    "b = np.array([[1,4,9],[4,9,6],[8,9,4]])"
   ]
  },
  {
   "cell_type": "code",
   "execution_count": 73,
   "id": "91cd92ea",
   "metadata": {},
   "outputs": [
    {
     "data": {
      "text/plain": [
       "array([[ 0, -2, -6],\n",
       "       [-3, -3,  1],\n",
       "       [-3, -3,  3]])"
      ]
     },
     "execution_count": 73,
     "metadata": {},
     "output_type": "execute_result"
    }
   ],
   "source": [
    "a-b"
   ]
  },
  {
   "cell_type": "code",
   "execution_count": 75,
   "id": "a9ee9f60",
   "metadata": {},
   "outputs": [
    {
     "data": {
      "text/plain": [
       "array([[ 33,  49,  33],\n",
       "       [ 81, 121,  73],\n",
       "       [ 85, 137, 109]])"
      ]
     },
     "execution_count": 75,
     "metadata": {},
     "output_type": "execute_result"
    }
   ],
   "source": [
    "np.dot(a,b)"
   ]
  },
  {
   "cell_type": "code",
   "execution_count": 76,
   "id": "92c2770b",
   "metadata": {},
   "outputs": [],
   "source": [
    "def matrix(a,b):\n",
    "    print('The sum of two matrices is:\\n', a+b)\n",
    "    print('The multiplication of two matrices is:\\n',np.dot(a,b))\n",
    "    print('The substraction of two matrices is:\\n', a-b)"
   ]
  },
  {
   "cell_type": "code",
   "execution_count": 77,
   "id": "302cadf0",
   "metadata": {},
   "outputs": [
    {
     "name": "stdout",
     "output_type": "stream",
     "text": [
      "The sum of two matrices is:\n",
      " [[ 2  6 12]\n",
      " [ 5 15 13]\n",
      " [13 15 11]]\n",
      "The multiplication of two matrices is:\n",
      " [[ 33  49  33]\n",
      " [ 81 121  73]\n",
      " [ 85 137 109]]\n",
      "The substraction of two matrices is:\n",
      " [[ 0 -2 -6]\n",
      " [-3 -3  1]\n",
      " [-3 -3  3]]\n"
     ]
    }
   ],
   "source": [
    "matrix(a,b)"
   ]
  },
  {
   "cell_type": "code",
   "execution_count": 90,
   "id": "d1a6c1f5",
   "metadata": {},
   "outputs": [],
   "source": [
    "def module(n,m):\n",
    "    print('sum of digits')\n",
    "    s=m+n\n",
    "    sm=print(s) \n",
    "    \n",
    "\n",
    "    \n",
    "    "
   ]
  },
  {
   "cell_type": "code",
   "execution_count": 91,
   "id": "16957658",
   "metadata": {},
   "outputs": [
    {
     "name": "stdout",
     "output_type": "stream",
     "text": [
      "sum of digits\n",
      "425\n"
     ]
    }
   ],
   "source": [
    "module(225,200)"
   ]
  },
  {
   "cell_type": "code",
   "execution_count": 85,
   "id": "fceee0fa",
   "metadata": {},
   "outputs": [
    {
     "ename": "TypeError",
     "evalue": "'int' object is not subscriptable",
     "output_type": "error",
     "traceback": [
      "\u001b[1;31m---------------------------------------------------------------------------\u001b[0m",
      "\u001b[1;31mTypeError\u001b[0m                                 Traceback (most recent call last)",
      "\u001b[1;32m~\\AppData\\Local\\Temp/ipykernel_20204/2154211530.py\u001b[0m in \u001b[0;36m<module>\u001b[1;34m\u001b[0m\n\u001b[0;32m      1\u001b[0m \u001b[0ms\u001b[0m\u001b[1;33m=\u001b[0m\u001b[1;36m123\u001b[0m\u001b[1;33m\u001b[0m\u001b[1;33m\u001b[0m\u001b[0m\n\u001b[1;32m----> 2\u001b[1;33m \u001b[0mr\u001b[0m\u001b[1;33m=\u001b[0m\u001b[0ms\u001b[0m\u001b[1;33m[\u001b[0m\u001b[1;33m:\u001b[0m\u001b[1;33m:\u001b[0m\u001b[1;33m-\u001b[0m\u001b[1;36m1\u001b[0m\u001b[1;33m]\u001b[0m\u001b[1;33m\u001b[0m\u001b[1;33m\u001b[0m\u001b[0m\n\u001b[0m",
      "\u001b[1;31mTypeError\u001b[0m: 'int' object is not subscriptable"
     ]
    }
   ],
   "source": [
    "s=123 \n",
    "r=s[::-1]"
   ]
  },
  {
   "cell_type": "code",
   "execution_count": 93,
   "id": "5973c83e",
   "metadata": {},
   "outputs": [],
   "source": [
    "def reverse(n,tot=0,rev=0):\n",
    "    while n>0:\n",
    "        dig=n%10\n",
    "        tot+=dig\n",
    "        rev = rev * 10 + dig\n",
    "        n=n//10\n",
    "    print(\"The total sum of digits is:\",tot)\n",
    "    print(\"The reversed form is:\",rev)  \n"
   ]
  },
  {
   "cell_type": "code",
   "execution_count": 94,
   "id": "3a448309",
   "metadata": {},
   "outputs": [
    {
     "name": "stdout",
     "output_type": "stream",
     "text": [
      "The total sum of digits is: 10\n",
      "The reversed form is: 4321\n"
     ]
    }
   ],
   "source": [
    "reverse(1234)"
   ]
  },
  {
   "cell_type": "code",
   "execution_count": 95,
   "id": "9a6096db",
   "metadata": {},
   "outputs": [],
   "source": [
    "import module2 as m2\n"
   ]
  },
  {
   "cell_type": "code",
   "execution_count": 96,
   "id": "0cb0cc46",
   "metadata": {},
   "outputs": [
    {
     "ename": "NameError",
     "evalue": "name 'area_circle' is not defined",
     "output_type": "error",
     "traceback": [
      "\u001b[1;31m---------------------------------------------------------------------------\u001b[0m",
      "\u001b[1;31mNameError\u001b[0m                                 Traceback (most recent call last)",
      "\u001b[1;32m~\\AppData\\Local\\Temp/ipykernel_20204/3819760302.py\u001b[0m in \u001b[0;36m<module>\u001b[1;34m\u001b[0m\n\u001b[1;32m----> 1\u001b[1;33m \u001b[0marea_circle\u001b[0m\u001b[1;33m(\u001b[0m\u001b[1;36m2\u001b[0m\u001b[1;33m)\u001b[0m\u001b[1;33m\u001b[0m\u001b[1;33m\u001b[0m\u001b[0m\n\u001b[0m",
      "\u001b[1;31mNameError\u001b[0m: name 'area_circle' is not defined"
     ]
    }
   ],
   "source": [
    "area_circle(2)"
   ]
  },
  {
   "cell_type": "code",
   "execution_count": 97,
   "id": "fbf2655e",
   "metadata": {},
   "outputs": [],
   "source": [
    "def area_circle(radius):\n",
    "    return (np.pi)*radius*radius"
   ]
  },
  {
   "cell_type": "code",
   "execution_count": 98,
   "id": "1595e18b",
   "metadata": {},
   "outputs": [
    {
     "data": {
      "text/plain": [
       "12.566370614359172"
      ]
     },
     "execution_count": 98,
     "metadata": {},
     "output_type": "execute_result"
    }
   ],
   "source": [
    "area_circle(2)"
   ]
  },
  {
   "cell_type": "code",
   "execution_count": null,
   "id": "137e87cf",
   "metadata": {},
   "outputs": [],
   "source": [
    "area"
   ]
  }
 ],
 "metadata": {
  "kernelspec": {
   "display_name": "Python 3 (ipykernel)",
   "language": "python",
   "name": "python3"
  },
  "language_info": {
   "codemirror_mode": {
    "name": "ipython",
    "version": 3
   },
   "file_extension": ".py",
   "mimetype": "text/x-python",
   "name": "python",
   "nbconvert_exporter": "python",
   "pygments_lexer": "ipython3",
   "version": "3.9.7"
  }
 },
 "nbformat": 4,
 "nbformat_minor": 5
}

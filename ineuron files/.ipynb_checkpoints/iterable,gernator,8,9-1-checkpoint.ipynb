{
 "cells": [
  {
   "cell_type": "code",
   "execution_count": 6,
   "id": "95426b4e",
   "metadata": {},
   "outputs": [
    {
     "ename": "SyntaxError",
     "evalue": "invalid syntax (Temp/ipykernel_14708/2131098961.py, line 1)",
     "output_type": "error",
     "traceback": [
      "\u001b[1;36m  File \u001b[1;32m\"C:\\Users\\shubh\\AppData\\Local\\Temp/ipykernel_14708/2131098961.py\"\u001b[1;36m, line \u001b[1;32m1\u001b[0m\n\u001b[1;33m    def test(a,d,d,d,f,f,e)\u001b[0m\n\u001b[1;37m                           ^\u001b[0m\n\u001b[1;31mSyntaxError\u001b[0m\u001b[1;31m:\u001b[0m invalid syntax\n"
     ]
    }
   ],
   "source": [
    "def test(a,d,d,d,f,f,e)\n",
    "    return a,d,d,d,f,f,e"
   ]
  },
  {
   "cell_type": "code",
   "execution_count": 11,
   "id": "c22ca256",
   "metadata": {},
   "outputs": [],
   "source": [
    "def test3(*shubham , a):\n",
    "    return shubham  ,a"
   ]
  },
  {
   "cell_type": "raw",
   "id": "80b50368",
   "metadata": {},
   "source": [
    "test3(324,3423,43, a= 6576)"
   ]
  },
  {
   "cell_type": "code",
   "execution_count": 12,
   "id": "b5657620",
   "metadata": {},
   "outputs": [
    {
     "ename": "SyntaxError",
     "evalue": "EOL while scanning string literal (Temp/ipykernel_14708/3094649895.py, line 1)",
     "output_type": "error",
     "traceback": [
      "\u001b[1;36m  File \u001b[1;32m\"C:\\Users\\shubh\\AppData\\Local\\Temp/ipykernel_14708/3094649895.py\"\u001b[1;36m, line \u001b[1;32m1\u001b[0m\n\u001b[1;33m    def test4(\"sudh, a,b,c,d):\u001b[0m\n\u001b[1;37m                              ^\u001b[0m\n\u001b[1;31mSyntaxError\u001b[0m\u001b[1;31m:\u001b[0m EOL while scanning string literal\n"
     ]
    }
   ],
   "source": [
    "def test4(\"sudh, a,b,c,d):\n",
    " return sudh, a,b,c,d"
   ]
  },
  {
   "cell_type": "code",
   "execution_count": 15,
   "id": "490d4bbb",
   "metadata": {},
   "outputs": [],
   "source": [
    "def test7(*kjdk):\n",
    "    return kjdk"
   ]
  },
  {
   "cell_type": "code",
   "execution_count": 16,
   "id": "1c490c16",
   "metadata": {},
   "outputs": [
    {
     "data": {
      "text/plain": [
       "(234, 234, 424, 45, 565)"
      ]
     },
     "execution_count": 16,
     "metadata": {},
     "output_type": "execute_result"
    }
   ],
   "source": [
    "test7(234,234,424,45,565)"
   ]
  },
  {
   "cell_type": "code",
   "execution_count": 18,
   "id": "f4623caa",
   "metadata": {},
   "outputs": [],
   "source": [
    "def test7(**kjdk):\n",
    "    return kjdk"
   ]
  },
  {
   "cell_type": "code",
   "execution_count": 19,
   "id": "5e1aede4",
   "metadata": {},
   "outputs": [
    {
     "ename": "TypeError",
     "evalue": "test7() takes 0 positional arguments but 5 were given",
     "output_type": "error",
     "traceback": [
      "\u001b[1;31m---------------------------------------------------------------------------\u001b[0m",
      "\u001b[1;31mTypeError\u001b[0m                                 Traceback (most recent call last)",
      "\u001b[1;32m~\\AppData\\Local\\Temp/ipykernel_14708/3699951471.py\u001b[0m in \u001b[0;36m<module>\u001b[1;34m\u001b[0m\n\u001b[1;32m----> 1\u001b[1;33m \u001b[0mtest7\u001b[0m\u001b[1;33m(\u001b[0m\u001b[1;36m234\u001b[0m\u001b[1;33m,\u001b[0m\u001b[1;36m234\u001b[0m\u001b[1;33m,\u001b[0m\u001b[1;36m424\u001b[0m\u001b[1;33m,\u001b[0m\u001b[1;36m45\u001b[0m\u001b[1;33m,\u001b[0m\u001b[1;36m565\u001b[0m\u001b[1;33m)\u001b[0m\u001b[1;33m\u001b[0m\u001b[1;33m\u001b[0m\u001b[0m\n\u001b[0m",
      "\u001b[1;31mTypeError\u001b[0m: test7() takes 0 positional arguments but 5 were given"
     ]
    }
   ],
   "source": [
    "test7(234,234,424,45,565)"
   ]
  },
  {
   "cell_type": "code",
   "execution_count": 20,
   "id": "3c43754a",
   "metadata": {},
   "outputs": [
    {
     "data": {
      "text/plain": [
       "{'a': 44, 'b': 34234, 'c': [3242]}"
      ]
     },
     "execution_count": 20,
     "metadata": {},
     "output_type": "execute_result"
    }
   ],
   "source": [
    "test7(a=44,b=34234,c=[3242])"
   ]
  },
  {
   "cell_type": "code",
   "execution_count": 22,
   "id": "55cf0425",
   "metadata": {},
   "outputs": [
    {
     "data": {
      "text/plain": [
       "{'a': 44, 'b': 34234, 'c': ['dsfsdf']}"
      ]
     },
     "execution_count": 22,
     "metadata": {},
     "output_type": "execute_result"
    }
   ],
   "source": [
    "test7(a=44,b=34234,c=[\"dsfsdf\"])"
   ]
  },
  {
   "cell_type": "code",
   "execution_count": 23,
   "id": "462b371e",
   "metadata": {},
   "outputs": [],
   "source": [
    "def test9(**shubh):\n",
    "    return shubh"
   ]
  },
  {
   "cell_type": "code",
   "execution_count": 25,
   "id": "96435e3a",
   "metadata": {},
   "outputs": [
    {
     "data": {
      "text/plain": [
       "{'name': 'dhubhsm', 'sge': 2342, 'fsddf': 'jsjjfh'}"
      ]
     },
     "execution_count": 25,
     "metadata": {},
     "output_type": "execute_result"
    }
   ],
   "source": [
    "test9(name= \"dhubhsm\", sge=2342, fsddf=\"jsjjfh\")"
   ]
  },
  {
   "cell_type": "code",
   "execution_count": 27,
   "id": "f46cb74e",
   "metadata": {},
   "outputs": [],
   "source": [
    "def test8(c,d):\n",
    "    return c*d"
   ]
  },
  {
   "cell_type": "code",
   "execution_count": 28,
   "id": "165ba5dc",
   "metadata": {},
   "outputs": [
    {
     "data": {
      "text/plain": [
       "6"
      ]
     },
     "execution_count": 28,
     "metadata": {},
     "output_type": "execute_result"
    }
   ],
   "source": [
    "test8(2,3)"
   ]
  },
  {
   "cell_type": "code",
   "execution_count": 29,
   "id": "103e661f",
   "metadata": {},
   "outputs": [
    {
     "data": {
      "text/plain": [
       "<function __main__.<lambda>(c, d)>"
      ]
     },
     "execution_count": 29,
     "metadata": {},
     "output_type": "execute_result"
    }
   ],
   "source": [
    "lambda c,d:c*d"
   ]
  },
  {
   "cell_type": "code",
   "execution_count": 34,
   "id": "ea7a571e",
   "metadata": {},
   "outputs": [],
   "source": [
    "a=lambda c,d:(c*d , c+d)"
   ]
  },
  {
   "cell_type": "code",
   "execution_count": 35,
   "id": "21b71cb4",
   "metadata": {},
   "outputs": [
    {
     "data": {
      "text/plain": [
       "(25, 10)"
      ]
     },
     "execution_count": 35,
     "metadata": {},
     "output_type": "execute_result"
    }
   ],
   "source": [
    "a(5,5)"
   ]
  },
  {
   "cell_type": "code",
   "execution_count": 32,
   "id": "946582aa",
   "metadata": {},
   "outputs": [
    {
     "ename": "SyntaxError",
     "evalue": "invalid syntax (Temp/ipykernel_14708/509845.py, line 1)",
     "output_type": "error",
     "traceback": [
      "\u001b[1;36m  File \u001b[1;32m\"C:\\Users\\shubh\\AppData\\Local\\Temp/ipykernel_14708/509845.py\"\u001b[1;36m, line \u001b[1;32m1\u001b[0m\n\u001b[1;33m    lambda(6,6)\u001b[0m\n\u001b[1;37m          ^\u001b[0m\n\u001b[1;31mSyntaxError\u001b[0m\u001b[1;31m:\u001b[0m invalid syntax\n"
     ]
    }
   ],
   "source": [
    "lambda(6,6)"
   ]
  },
  {
   "cell_type": "code",
   "execution_count": 36,
   "id": "90bba5a4",
   "metadata": {},
   "outputs": [],
   "source": [
    "a=lambda *a:a"
   ]
  },
  {
   "cell_type": "code",
   "execution_count": 37,
   "id": "4b412880",
   "metadata": {},
   "outputs": [
    {
     "data": {
      "text/plain": [
       "(24, 5465, 5255, 7657)"
      ]
     },
     "execution_count": 37,
     "metadata": {},
     "output_type": "execute_result"
    }
   ],
   "source": [
    "a(24,5465,5255,7657)"
   ]
  },
  {
   "cell_type": "code",
   "execution_count": 38,
   "id": "3c666a69",
   "metadata": {},
   "outputs": [],
   "source": [
    "def test7(*kjdk):\n",
    "    return kjdk"
   ]
  },
  {
   "cell_type": "code",
   "execution_count": 39,
   "id": "31bd4a02",
   "metadata": {},
   "outputs": [
    {
     "data": {
      "text/plain": [
       "(2342, 524, 424)"
      ]
     },
     "execution_count": 39,
     "metadata": {},
     "output_type": "execute_result"
    }
   ],
   "source": [
    "test7(2342,524,424)"
   ]
  },
  {
   "cell_type": "code",
   "execution_count": 40,
   "id": "a5999e77",
   "metadata": {},
   "outputs": [],
   "source": [
    "x = lambda x :[i for i in x]"
   ]
  },
  {
   "cell_type": "code",
   "execution_count": 42,
   "id": "c2b35861",
   "metadata": {},
   "outputs": [
    {
     "data": {
      "text/plain": [
       "[4324, 24423, 244]"
      ]
     },
     "execution_count": 42,
     "metadata": {},
     "output_type": "execute_result"
    }
   ],
   "source": [
    "x([4324,24423,244])"
   ]
  },
  {
   "cell_type": "code",
   "execution_count": 43,
   "id": "a0c55e2d",
   "metadata": {},
   "outputs": [
    {
     "ename": "TypeError",
     "evalue": "'function' object is not subscriptable",
     "output_type": "error",
     "traceback": [
      "\u001b[1;31m---------------------------------------------------------------------------\u001b[0m",
      "\u001b[1;31mTypeError\u001b[0m                                 Traceback (most recent call last)",
      "\u001b[1;32m~\\AppData\\Local\\Temp/ipykernel_14708/1453783575.py\u001b[0m in \u001b[0;36m<module>\u001b[1;34m\u001b[0m\n\u001b[1;32m----> 1\u001b[1;33m \u001b[0mx\u001b[0m\u001b[1;33m[\u001b[0m\u001b[1;36m2423\u001b[0m\u001b[1;33m,\u001b[0m\u001b[1;36m2344\u001b[0m\u001b[1;33m]\u001b[0m\u001b[1;33m\u001b[0m\u001b[1;33m\u001b[0m\u001b[0m\n\u001b[0m",
      "\u001b[1;31mTypeError\u001b[0m: 'function' object is not subscriptable"
     ]
    }
   ],
   "source": [
    "x[2423,2344]"
   ]
  },
  {
   "cell_type": "code",
   "execution_count": 44,
   "id": "3bfa0802",
   "metadata": {},
   "outputs": [],
   "source": [
    "a = lambda **shubh : shubh"
   ]
  },
  {
   "cell_type": "code",
   "execution_count": 46,
   "id": "c3aa47a8",
   "metadata": {},
   "outputs": [
    {
     "data": {
      "text/plain": [
       "{'a': 434, 'b': 434}"
      ]
     },
     "execution_count": 46,
     "metadata": {},
     "output_type": "execute_result"
    }
   ],
   "source": [
    "a(a= 434,b = 434)"
   ]
  },
  {
   "cell_type": "code",
   "execution_count": 51,
   "id": "5f13bb77",
   "metadata": {},
   "outputs": [],
   "source": [
    "a= 10\n",
    "b=5\n",
    "def test9(c,x) :\n",
    "    return c-x"
   ]
  },
  {
   "cell_type": "code",
   "execution_count": 52,
   "id": "8c0b3121",
   "metadata": {},
   "outputs": [
    {
     "data": {
      "text/plain": [
       "14"
      ]
     },
     "execution_count": 52,
     "metadata": {},
     "output_type": "execute_result"
    }
   ],
   "source": [
    "test9(34,20)"
   ]
  },
  {
   "cell_type": "code",
   "execution_count": 49,
   "id": "33dbaee5",
   "metadata": {},
   "outputs": [
    {
     "data": {
      "text/plain": [
       "6"
      ]
     },
     "execution_count": 49,
     "metadata": {},
     "output_type": "execute_result"
    }
   ],
   "source": [
    "test9(a,4)"
   ]
  },
  {
   "cell_type": "code",
   "execution_count": 53,
   "id": "b9503963",
   "metadata": {},
   "outputs": [
    {
     "ename": "NameError",
     "evalue": "name 'test' is not defined",
     "output_type": "error",
     "traceback": [
      "\u001b[1;31m---------------------------------------------------------------------------\u001b[0m",
      "\u001b[1;31mNameError\u001b[0m                                 Traceback (most recent call last)",
      "\u001b[1;32m~\\AppData\\Local\\Temp/ipykernel_14708/856083063.py\u001b[0m in \u001b[0;36m<module>\u001b[1;34m\u001b[0m\n\u001b[1;32m----> 1\u001b[1;33m \u001b[0mtest\u001b[0m\u001b[1;33m(\u001b[0m\u001b[0ma\u001b[0m\u001b[1;33m,\u001b[0m\u001b[0mb\u001b[0m\u001b[1;33m)\u001b[0m\u001b[1;33m\u001b[0m\u001b[1;33m\u001b[0m\u001b[0m\n\u001b[0m",
      "\u001b[1;31mNameError\u001b[0m: name 'test' is not defined"
     ]
    }
   ],
   "source": [
    "test(a,b)"
   ]
  },
  {
   "cell_type": "code",
   "execution_count": 54,
   "id": "ed7b028f",
   "metadata": {},
   "outputs": [],
   "source": [
    "d = {}"
   ]
  },
  {
   "cell_type": "code",
   "execution_count": 55,
   "id": "4e85dbd9",
   "metadata": {},
   "outputs": [
    {
     "data": {
      "text/plain": [
       "{0: 0, 1: 1, 2: 4, 3: 9, 4: 16, 5: 25, 6: 36, 7: 49, 8: 64, 9: 81}"
      ]
     },
     "execution_count": 55,
     "metadata": {},
     "output_type": "execute_result"
    }
   ],
   "source": [
    "{i:i**2 for i in range(10)}"
   ]
  },
  {
   "cell_type": "code",
   "execution_count": 61,
   "id": "32da47b3",
   "metadata": {},
   "outputs": [],
   "source": [
    "d1= {}\n",
    "for i in range(10):\n",
    "    d1[i] = i**2\n",
    "    "
   ]
  },
  {
   "cell_type": "code",
   "execution_count": 62,
   "id": "c19f6e2b",
   "metadata": {},
   "outputs": [
    {
     "data": {
      "text/plain": [
       "{0: 0, 1: 1, 2: 4, 3: 9, 4: 16, 5: 25, 6: 36, 7: 49, 8: 64, 9: 81}"
      ]
     },
     "execution_count": 62,
     "metadata": {},
     "output_type": "execute_result"
    }
   ],
   "source": [
    "d1"
   ]
  },
  {
   "cell_type": "code",
   "execution_count": 63,
   "id": "51a1b424",
   "metadata": {},
   "outputs": [
    {
     "ename": "TypeError",
     "evalue": "'int' object is not iterable",
     "output_type": "error",
     "traceback": [
      "\u001b[1;31m---------------------------------------------------------------------------\u001b[0m",
      "\u001b[1;31mTypeError\u001b[0m                                 Traceback (most recent call last)",
      "\u001b[1;32m~\\AppData\\Local\\Temp/ipykernel_14708/825247560.py\u001b[0m in \u001b[0;36m<module>\u001b[1;34m\u001b[0m\n\u001b[1;32m----> 1\u001b[1;33m \u001b[0miter\u001b[0m\u001b[1;33m(\u001b[0m\u001b[1;36m66\u001b[0m\u001b[1;33m)\u001b[0m\u001b[1;33m\u001b[0m\u001b[1;33m\u001b[0m\u001b[0m\n\u001b[0m",
      "\u001b[1;31mTypeError\u001b[0m: 'int' object is not iterable"
     ]
    }
   ],
   "source": [
    "iter(66)"
   ]
  },
  {
   "cell_type": "code",
   "execution_count": 76,
   "id": "daef2b16",
   "metadata": {},
   "outputs": [],
   "source": [
    "l=\"2,4,5,6,7,8\""
   ]
  },
  {
   "cell_type": "code",
   "execution_count": 77,
   "id": "4c8b8735",
   "metadata": {},
   "outputs": [
    {
     "data": {
      "text/plain": [
       "<str_iterator at 0x20dc3066940>"
      ]
     },
     "execution_count": 77,
     "metadata": {},
     "output_type": "execute_result"
    }
   ],
   "source": [
    "iter(l)"
   ]
  },
  {
   "cell_type": "code",
   "execution_count": 78,
   "id": "6c302c80",
   "metadata": {},
   "outputs": [
    {
     "ename": "TypeError",
     "evalue": "'str' object is not an iterator",
     "output_type": "error",
     "traceback": [
      "\u001b[1;31m---------------------------------------------------------------------------\u001b[0m",
      "\u001b[1;31mTypeError\u001b[0m                                 Traceback (most recent call last)",
      "\u001b[1;32m~\\AppData\\Local\\Temp/ipykernel_14708/2016234150.py\u001b[0m in \u001b[0;36m<module>\u001b[1;34m\u001b[0m\n\u001b[1;32m----> 1\u001b[1;33m \u001b[0mnext\u001b[0m\u001b[1;33m(\u001b[0m\u001b[0ml\u001b[0m\u001b[1;33m)\u001b[0m\u001b[1;33m\u001b[0m\u001b[1;33m\u001b[0m\u001b[0m\n\u001b[0m",
      "\u001b[1;31mTypeError\u001b[0m: 'str' object is not an iterator"
     ]
    }
   ],
   "source": [
    "next(l)"
   ]
  },
  {
   "cell_type": "code",
   "execution_count": 1,
   "id": "ac0c4c12",
   "metadata": {},
   "outputs": [],
   "source": [
    "s= \"shubham\""
   ]
  },
  {
   "cell_type": "code",
   "execution_count": 6,
   "id": "1104db20",
   "metadata": {},
   "outputs": [],
   "source": [
    "s=iter(s)"
   ]
  },
  {
   "cell_type": "code",
   "execution_count": 7,
   "id": "3eaec041",
   "metadata": {},
   "outputs": [
    {
     "data": {
      "text/plain": [
       "'s'"
      ]
     },
     "execution_count": 7,
     "metadata": {},
     "output_type": "execute_result"
    }
   ],
   "source": [
    "next(s)"
   ]
  },
  {
   "cell_type": "code",
   "execution_count": 8,
   "id": "00a757db",
   "metadata": {},
   "outputs": [
    {
     "ename": "NameError",
     "evalue": "name 'v' is not defined",
     "output_type": "error",
     "traceback": [
      "\u001b[1;31m---------------------------------------------------------------------------\u001b[0m",
      "\u001b[1;31mNameError\u001b[0m                                 Traceback (most recent call last)",
      "\u001b[1;32m~\\AppData\\Local\\Temp/ipykernel_17020/2571624735.py\u001b[0m in \u001b[0;36m<module>\u001b[1;34m\u001b[0m\n\u001b[1;32m----> 1\u001b[1;33m \u001b[0mv\u001b[0m\u001b[1;33m\u001b[0m\u001b[1;33m\u001b[0m\u001b[0m\n\u001b[0m",
      "\u001b[1;31mNameError\u001b[0m: name 'v' is not defined"
     ]
    }
   ],
   "source": [
    "v"
   ]
  },
  {
   "cell_type": "code",
   "execution_count": 9,
   "id": "a4587afc",
   "metadata": {},
   "outputs": [
    {
     "data": {
      "text/plain": [
       "'h'"
      ]
     },
     "execution_count": 9,
     "metadata": {},
     "output_type": "execute_result"
    }
   ],
   "source": [
    "next(s)"
   ]
  },
  {
   "cell_type": "code",
   "execution_count": 10,
   "id": "7c329b0a",
   "metadata": {},
   "outputs": [
    {
     "data": {
      "text/plain": [
       "'u'"
      ]
     },
     "execution_count": 10,
     "metadata": {},
     "output_type": "execute_result"
    }
   ],
   "source": [
    "next(s)"
   ]
  },
  {
   "cell_type": "code",
   "execution_count": 11,
   "id": "39f8406d",
   "metadata": {},
   "outputs": [
    {
     "data": {
      "text/plain": [
       "'b'"
      ]
     },
     "execution_count": 11,
     "metadata": {},
     "output_type": "execute_result"
    }
   ],
   "source": [
    "next(s)"
   ]
  },
  {
   "cell_type": "code",
   "execution_count": 12,
   "id": "4c56e70c",
   "metadata": {},
   "outputs": [
    {
     "data": {
      "text/plain": [
       "'h'"
      ]
     },
     "execution_count": 12,
     "metadata": {},
     "output_type": "execute_result"
    }
   ],
   "source": [
    "next(s)"
   ]
  },
  {
   "cell_type": "code",
   "execution_count": 13,
   "id": "9e1f4bab",
   "metadata": {},
   "outputs": [
    {
     "data": {
      "text/plain": [
       "'a'"
      ]
     },
     "execution_count": 13,
     "metadata": {},
     "output_type": "execute_result"
    }
   ],
   "source": [
    "next(s)"
   ]
  },
  {
   "cell_type": "code",
   "execution_count": 14,
   "id": "44d68c28",
   "metadata": {},
   "outputs": [
    {
     "data": {
      "text/plain": [
       "'m'"
      ]
     },
     "execution_count": 14,
     "metadata": {},
     "output_type": "execute_result"
    }
   ],
   "source": [
    "next(s)"
   ]
  },
  {
   "cell_type": "code",
   "execution_count": 15,
   "id": "106ffc58",
   "metadata": {},
   "outputs": [
    {
     "ename": "StopIteration",
     "evalue": "",
     "output_type": "error",
     "traceback": [
      "\u001b[1;31m---------------------------------------------------------------------------\u001b[0m",
      "\u001b[1;31mStopIteration\u001b[0m                             Traceback (most recent call last)",
      "\u001b[1;32m~\\AppData\\Local\\Temp/ipykernel_17020/1977886155.py\u001b[0m in \u001b[0;36m<module>\u001b[1;34m\u001b[0m\n\u001b[1;32m----> 1\u001b[1;33m \u001b[0mnext\u001b[0m\u001b[1;33m(\u001b[0m\u001b[0ms\u001b[0m\u001b[1;33m)\u001b[0m\u001b[1;33m\u001b[0m\u001b[1;33m\u001b[0m\u001b[0m\n\u001b[0m",
      "\u001b[1;31mStopIteration\u001b[0m: "
     ]
    }
   ],
   "source": [
    "next(s)"
   ]
  },
  {
   "cell_type": "code",
   "execution_count": 16,
   "id": "5313432c",
   "metadata": {},
   "outputs": [],
   "source": [
    "t=(2,3,33,4,3,3353,3,33,2)"
   ]
  },
  {
   "cell_type": "code",
   "execution_count": 17,
   "id": "cdcfbeac",
   "metadata": {},
   "outputs": [
    {
     "ename": "NameError",
     "evalue": "name 'next9t' is not defined",
     "output_type": "error",
     "traceback": [
      "\u001b[1;31m---------------------------------------------------------------------------\u001b[0m",
      "\u001b[1;31mNameError\u001b[0m                                 Traceback (most recent call last)",
      "\u001b[1;32m~\\AppData\\Local\\Temp/ipykernel_17020/279075231.py\u001b[0m in \u001b[0;36m<module>\u001b[1;34m\u001b[0m\n\u001b[1;32m----> 1\u001b[1;33m \u001b[0mnext9t\u001b[0m\u001b[1;33m\u001b[0m\u001b[1;33m\u001b[0m\u001b[0m\n\u001b[0m",
      "\u001b[1;31mNameError\u001b[0m: name 'next9t' is not defined"
     ]
    }
   ],
   "source": [
    "next9t"
   ]
  },
  {
   "cell_type": "code",
   "execution_count": 18,
   "id": "cd23f2c1",
   "metadata": {},
   "outputs": [
    {
     "ename": "TypeError",
     "evalue": "'tuple' object is not an iterator",
     "output_type": "error",
     "traceback": [
      "\u001b[1;31m---------------------------------------------------------------------------\u001b[0m",
      "\u001b[1;31mTypeError\u001b[0m                                 Traceback (most recent call last)",
      "\u001b[1;32m~\\AppData\\Local\\Temp/ipykernel_17020/2139502855.py\u001b[0m in \u001b[0;36m<module>\u001b[1;34m\u001b[0m\n\u001b[1;32m----> 1\u001b[1;33m \u001b[0mnext\u001b[0m\u001b[1;33m(\u001b[0m\u001b[0mt\u001b[0m\u001b[1;33m)\u001b[0m\u001b[1;33m\u001b[0m\u001b[1;33m\u001b[0m\u001b[0m\n\u001b[0m",
      "\u001b[1;31mTypeError\u001b[0m: 'tuple' object is not an iterator"
     ]
    }
   ],
   "source": [
    "next(t)"
   ]
  },
  {
   "cell_type": "code",
   "execution_count": 19,
   "id": "e1a670bb",
   "metadata": {},
   "outputs": [],
   "source": [
    "t=iter(t)"
   ]
  },
  {
   "cell_type": "code",
   "execution_count": 20,
   "id": "51944da0",
   "metadata": {},
   "outputs": [
    {
     "data": {
      "text/plain": [
       "2"
      ]
     },
     "execution_count": 20,
     "metadata": {},
     "output_type": "execute_result"
    }
   ],
   "source": [
    "next(t)"
   ]
  },
  {
   "cell_type": "code",
   "execution_count": 22,
   "id": "4d03c891",
   "metadata": {},
   "outputs": [],
   "source": [
    "a=range(5)"
   ]
  },
  {
   "cell_type": "code",
   "execution_count": 25,
   "id": "05e6d22c",
   "metadata": {},
   "outputs": [
    {
     "data": {
      "text/plain": [
       "0"
      ]
     },
     "execution_count": 25,
     "metadata": {},
     "output_type": "execute_result"
    }
   ],
   "source": [
    "next(a)"
   ]
  },
  {
   "cell_type": "code",
   "execution_count": 24,
   "id": "ad268099",
   "metadata": {},
   "outputs": [],
   "source": [
    "a=iter(a)"
   ]
  },
  {
   "cell_type": "code",
   "execution_count": 26,
   "id": "24e8bfc7",
   "metadata": {},
   "outputs": [
    {
     "ename": "NameError",
     "evalue": "name 'ne' is not defined",
     "output_type": "error",
     "traceback": [
      "\u001b[1;31m---------------------------------------------------------------------------\u001b[0m",
      "\u001b[1;31mNameError\u001b[0m                                 Traceback (most recent call last)",
      "\u001b[1;32m~\\AppData\\Local\\Temp/ipykernel_17020/1331307194.py\u001b[0m in \u001b[0;36m<module>\u001b[1;34m\u001b[0m\n\u001b[1;32m----> 1\u001b[1;33m \u001b[0mne\u001b[0m\u001b[1;33m\u001b[0m\u001b[1;33m\u001b[0m\u001b[0m\n\u001b[0m",
      "\u001b[1;31mNameError\u001b[0m: name 'ne' is not defined"
     ]
    }
   ],
   "source": [
    "ne"
   ]
  },
  {
   "cell_type": "code",
   "execution_count": 32,
   "id": "605a6a4e",
   "metadata": {},
   "outputs": [],
   "source": [
    "r=list(range(0,45,5))"
   ]
  },
  {
   "cell_type": "code",
   "execution_count": 35,
   "id": "b8cb85f9",
   "metadata": {},
   "outputs": [
    {
     "data": {
      "text/plain": [
       "0"
      ]
     },
     "execution_count": 35,
     "metadata": {},
     "output_type": "execute_result"
    }
   ],
   "source": [
    "next(r)"
   ]
  },
  {
   "cell_type": "code",
   "execution_count": 34,
   "id": "c76443aa",
   "metadata": {},
   "outputs": [],
   "source": [
    "r=iter(r)"
   ]
  },
  {
   "cell_type": "code",
   "execution_count": 39,
   "id": "faa3a66d",
   "metadata": {},
   "outputs": [],
   "source": [
    "def shubh(n):\n",
    "    l=[]\n",
    "    for i in range(n) :\n",
    "        l.append(i+2)\n",
    "    return l"
   ]
  },
  {
   "cell_type": "code",
   "execution_count": 43,
   "id": "afb213cb",
   "metadata": {},
   "outputs": [
    {
     "data": {
      "text/plain": [
       "[2, 3, 4, 5, 6, 7, 8, 9, 10, 11, 12, 13, 14, 15, 16, 17, 18, 19, 20, 21]"
      ]
     },
     "execution_count": 43,
     "metadata": {},
     "output_type": "execute_result"
    }
   ],
   "source": [
    "shubh(20)"
   ]
  },
  {
   "cell_type": "code",
   "execution_count": 45,
   "id": "dd167386",
   "metadata": {},
   "outputs": [
    {
     "name": "stdout",
     "output_type": "stream",
     "text": [
      "0\n",
      "1\n",
      "2\n",
      "3\n",
      "4\n",
      "5\n",
      "6\n",
      "7\n",
      "8\n",
      "9\n",
      "10\n",
      "11\n",
      "12\n",
      "13\n",
      "14\n",
      "15\n",
      "16\n",
      "17\n",
      "18\n",
      "19\n"
     ]
    }
   ],
   "source": [
    "for i in range(20):\n",
    "    print(i)"
   ]
  },
  {
   "cell_type": "code",
   "execution_count": 46,
   "id": "32933e14",
   "metadata": {},
   "outputs": [
    {
     "data": {
      "text/plain": [
       "int"
      ]
     },
     "execution_count": 46,
     "metadata": {},
     "output_type": "execute_result"
    }
   ],
   "source": [
    "type(i)"
   ]
  },
  {
   "cell_type": "code",
   "execution_count": 51,
   "id": "00f42c9d",
   "metadata": {},
   "outputs": [],
   "source": [
    "f = open(\"test.txt\",\"w\")"
   ]
  },
  {
   "cell_type": "code",
   "execution_count": 50,
   "id": "b46aac2e",
   "metadata": {},
   "outputs": [
    {
     "name": "stdout",
     "output_type": "stream",
     "text": [
      " Volume in drive C is Windows\n",
      " Volume Serial Number is 7293-F0DC\n",
      "\n",
      " Directory of C:\\Users\\shubh\n",
      "\n",
      "09/01/2022  11:54 AM    <DIR>          .\n",
      "29/10/2021  02:41 PM    <DIR>          ..\n",
      "22/12/2021  08:55 PM    <DIR>          .conda\n",
      "04/12/2021  10:20 AM                25 .condarc\n",
      "04/12/2021  10:20 AM    <DIR>          .continuum\n",
      "09/01/2022  10:22 AM    <DIR>          .ipynb_checkpoints\n",
      "04/12/2021  10:54 AM    <DIR>          .ipython\n",
      "20/12/2021  07:48 PM    <DIR>          .jupyter\n",
      "07/11/2021  11:49 PM    <DIR>          .Ld2VirtualBox\n",
      "31/10/2021  12:32 PM             6,893 -1.14-windows.xml\n",
      "03/12/2021  12:51 PM    <DIR>          103419079040931888859\n",
      "28/10/2021  02:53 PM    <DIR>          3D Objects\n",
      "23/12/2021  09:54 PM           102,264 abcd.ipynb\n",
      "22/12/2021  08:50 PM    <DIR>          anaconda3\n",
      "29/10/2021  02:55 PM    <DIR>          Contacts\n",
      "28/10/2021  02:57 PM    <DIR>          Documents\n",
      "08/01/2022  09:44 AM    <DIR>          Downloads\n",
      "29/10/2021  02:55 PM    <DIR>          Favorites\n",
      "07/01/2022  08:53 PM            28,121 for loops while loop (1).ipynb\n",
      "07/01/2022  07:15 PM            52,292 if else , for loop.ipynb\n",
      "09/01/2022  11:54 AM            26,003 iterable,gernator,8,9-1.ipynb\n",
      "29/10/2021  02:55 PM    <DIR>          Links\n",
      "15/11/2021  04:49 PM    <DIR>          Music\n",
      "03/12/2021  12:53 PM    <DIR>          My Drive\n",
      "29/10/2021  02:52 PM    <DIR>          OneDrive\n",
      "08/01/2022  10:08 AM            50,871 practice problem python basic.ipynb\n",
      "07/01/2022  01:33 PM            75,627 Python basic (3).ipynb\n",
      "29/10/2021  02:55 PM    <DIR>          Saved Games\n",
      "29/10/2021  02:55 PM    <DIR>          Searches\n",
      "09/01/2022  11:54 AM                 0 test.txt\n",
      "07/01/2022  02:33 PM            57,593 Tuples , set , dict .ipynb\n",
      "29/10/2021  02:55 PM    <DIR>          Videos\n",
      "              10 File(s)        399,689 bytes\n",
      "              22 Dir(s)  87,625,895,936 bytes free\n"
     ]
    }
   ],
   "source": [
    "%ls"
   ]
  },
  {
   "cell_type": "code",
   "execution_count": 57,
   "id": "9f1fe5be",
   "metadata": {},
   "outputs": [],
   "source": [
    "f= open(\"test1.txt\",\"w\")"
   ]
  },
  {
   "cell_type": "code",
   "execution_count": 54,
   "id": "5ce4661d",
   "metadata": {},
   "outputs": [
    {
     "data": {
      "text/plain": [
       "8"
      ]
     },
     "execution_count": 54,
     "metadata": {},
     "output_type": "execute_result"
    }
   ],
   "source": [
    "f.write(\"mnsbdkj \")"
   ]
  },
  {
   "cell_type": "code",
   "execution_count": 56,
   "id": "e23e87c6",
   "metadata": {},
   "outputs": [],
   "source": [
    "f.close()"
   ]
  },
  {
   "cell_type": "code",
   "execution_count": 58,
   "id": "e8ae1ce2",
   "metadata": {},
   "outputs": [
    {
     "ename": "UnsupportedOperation",
     "evalue": "not readable",
     "output_type": "error",
     "traceback": [
      "\u001b[1;31m---------------------------------------------------------------------------\u001b[0m",
      "\u001b[1;31mUnsupportedOperation\u001b[0m                      Traceback (most recent call last)",
      "\u001b[1;32m~\\AppData\\Local\\Temp/ipykernel_17020/3059900045.py\u001b[0m in \u001b[0;36m<module>\u001b[1;34m\u001b[0m\n\u001b[1;32m----> 1\u001b[1;33m \u001b[0mf\u001b[0m\u001b[1;33m.\u001b[0m\u001b[0mread\u001b[0m\u001b[1;33m(\u001b[0m\u001b[1;33m)\u001b[0m\u001b[1;33m\u001b[0m\u001b[1;33m\u001b[0m\u001b[0m\n\u001b[0m",
      "\u001b[1;31mUnsupportedOperation\u001b[0m: not readable"
     ]
    }
   ],
   "source": [
    "f.read()"
   ]
  },
  {
   "cell_type": "code",
   "execution_count": 75,
   "id": "5491fc3f",
   "metadata": {},
   "outputs": [
    {
     "ename": "SyntaxError",
     "evalue": "invalid syntax (Temp/ipykernel_17020/1756095373.py, line 1)",
     "output_type": "error",
     "traceback": [
      "\u001b[1;36m  File \u001b[1;32m\"C:\\Users\\shubh\\AppData\\Local\\Temp/ipykernel_17020/1756095373.py\"\u001b[1;36m, line \u001b[1;32m1\u001b[0m\n\u001b[1;33m    c= open(\"test2.txt,\"w\")\u001b[0m\n\u001b[1;37m                        ^\u001b[0m\n\u001b[1;31mSyntaxError\u001b[0m\u001b[1;31m:\u001b[0m invalid syntax\n"
     ]
    }
   ],
   "source": [
    "c= open(\"test2.txt,\"w\")"
   ]
  },
  {
   "cell_type": "code",
   "execution_count": 69,
   "id": "6873b81c",
   "metadata": {},
   "outputs": [
    {
     "data": {
      "text/plain": [
       "''"
      ]
     },
     "execution_count": 69,
     "metadata": {},
     "output_type": "execute_result"
    }
   ],
   "source": [
    "f.read()"
   ]
  },
  {
   "cell_type": "code",
   "execution_count": 70,
   "id": "2af6a775",
   "metadata": {},
   "outputs": [
    {
     "ename": "UnsupportedOperation",
     "evalue": "not writable",
     "output_type": "error",
     "traceback": [
      "\u001b[1;31m---------------------------------------------------------------------------\u001b[0m",
      "\u001b[1;31mUnsupportedOperation\u001b[0m                      Traceback (most recent call last)",
      "\u001b[1;32m~\\AppData\\Local\\Temp/ipykernel_17020/643723369.py\u001b[0m in \u001b[0;36m<module>\u001b[1;34m\u001b[0m\n\u001b[1;32m----> 1\u001b[1;33m \u001b[0mf\u001b[0m\u001b[1;33m.\u001b[0m\u001b[0mwrite\u001b[0m\u001b[1;33m(\u001b[0m\u001b[1;34m\"shubham dharmraj birari\"\u001b[0m\u001b[1;33m)\u001b[0m\u001b[1;33m\u001b[0m\u001b[1;33m\u001b[0m\u001b[0m\n\u001b[0m",
      "\u001b[1;31mUnsupportedOperation\u001b[0m: not writable"
     ]
    }
   ],
   "source": [
    "f.write(\"shubham dharmraj birari\")"
   ]
  },
  {
   "cell_type": "code",
   "execution_count": 72,
   "id": "46638c97",
   "metadata": {},
   "outputs": [
    {
     "data": {
      "text/plain": [
       "0"
      ]
     },
     "execution_count": 72,
     "metadata": {},
     "output_type": "execute_result"
    }
   ],
   "source": [
    "f.seek(0)"
   ]
  },
  {
   "cell_type": "code",
   "execution_count": 73,
   "id": "8488b8db",
   "metadata": {},
   "outputs": [
    {
     "data": {
      "text/plain": [
       "''"
      ]
     },
     "execution_count": 73,
     "metadata": {},
     "output_type": "execute_result"
    }
   ],
   "source": [
    "f.read()"
   ]
  },
  {
   "cell_type": "code",
   "execution_count": 76,
   "id": "c08707e2",
   "metadata": {},
   "outputs": [],
   "source": [
    "f.close()"
   ]
  },
  {
   "cell_type": "code",
   "execution_count": 79,
   "id": "1795af60",
   "metadata": {},
   "outputs": [],
   "source": [
    "f= open(\"test1.txt\", \"r+\")"
   ]
  },
  {
   "cell_type": "code",
   "execution_count": 92,
   "id": "f5b5cd8b",
   "metadata": {},
   "outputs": [
    {
     "data": {
      "text/plain": [
       "72"
      ]
     },
     "execution_count": 92,
     "metadata": {},
     "output_type": "execute_result"
    }
   ],
   "source": [
    "f.write(\"shubbham dharankj birarid aadhbfakfjabfkjkjjfakjf jhahakjfakjfa hfahfkaj\")"
   ]
  },
  {
   "cell_type": "code",
   "execution_count": 82,
   "id": "b5ebf0a0",
   "metadata": {},
   "outputs": [
    {
     "data": {
      "text/plain": [
       "''"
      ]
     },
     "execution_count": 82,
     "metadata": {},
     "output_type": "execute_result"
    }
   ],
   "source": [
    "f.read()"
   ]
  },
  {
   "cell_type": "code",
   "execution_count": 87,
   "id": "4f12676d",
   "metadata": {},
   "outputs": [
    {
     "data": {
      "text/plain": [
       "3"
      ]
     },
     "execution_count": 87,
     "metadata": {},
     "output_type": "execute_result"
    }
   ],
   "source": [
    "f.seek(3)"
   ]
  },
  {
   "cell_type": "code",
   "execution_count": 88,
   "id": "d5df2b99",
   "metadata": {},
   "outputs": [
    {
     "data": {
      "text/plain": [
       "'bbham dharankj birari'"
      ]
     },
     "execution_count": 88,
     "metadata": {},
     "output_type": "execute_result"
    }
   ],
   "source": [
    "f.read()"
   ]
  },
  {
   "cell_type": "code",
   "execution_count": 93,
   "id": "2220bc93",
   "metadata": {},
   "outputs": [
    {
     "data": {
      "text/plain": [
       "''"
      ]
     },
     "execution_count": 93,
     "metadata": {},
     "output_type": "execute_result"
    }
   ],
   "source": [
    "f.readline()"
   ]
  },
  {
   "cell_type": "code",
   "execution_count": 90,
   "id": "f1af784b",
   "metadata": {},
   "outputs": [
    {
     "data": {
      "text/plain": [
       "24"
      ]
     },
     "execution_count": 90,
     "metadata": {},
     "output_type": "execute_result"
    }
   ],
   "source": [
    "f.tell()"
   ]
  },
  {
   "cell_type": "code",
   "execution_count": 96,
   "id": "c1574312",
   "metadata": {},
   "outputs": [
    {
     "ename": "FileNotFoundError",
     "evalue": "[Errno 2] No such file or directory: 'google.txt'",
     "output_type": "error",
     "traceback": [
      "\u001b[1;31m---------------------------------------------------------------------------\u001b[0m",
      "\u001b[1;31mFileNotFoundError\u001b[0m                         Traceback (most recent call last)",
      "\u001b[1;32m~\\AppData\\Local\\Temp/ipykernel_17020/1541481640.py\u001b[0m in \u001b[0;36m<module>\u001b[1;34m\u001b[0m\n\u001b[1;32m----> 1\u001b[1;33m \u001b[0mf\u001b[0m \u001b[1;33m=\u001b[0m \u001b[0mopen\u001b[0m\u001b[1;33m(\u001b[0m\u001b[1;34m\"google.txt\"\u001b[0m\u001b[1;33m,\u001b[0m\u001b[1;34m\"r+\"\u001b[0m\u001b[1;33m)\u001b[0m\u001b[1;33m\u001b[0m\u001b[1;33m\u001b[0m\u001b[0m\n\u001b[0m",
      "\u001b[1;31mFileNotFoundError\u001b[0m: [Errno 2] No such file or directory: 'google.txt'"
     ]
    }
   ],
   "source": [
    "f = open(\"google.txt\",\"r+\")"
   ]
  },
  {
   "cell_type": "code",
   "execution_count": 95,
   "id": "5c8da3d7",
   "metadata": {},
   "outputs": [],
   "source": [
    "f.close()"
   ]
  },
  {
   "cell_type": "code",
   "execution_count": 99,
   "id": "baf43fdb",
   "metadata": {},
   "outputs": [
    {
     "ename": "FileNotFoundError",
     "evalue": "[Errno 2] No such file or directory: ' google,txt'",
     "output_type": "error",
     "traceback": [
      "\u001b[1;31m---------------------------------------------------------------------------\u001b[0m",
      "\u001b[1;31mFileNotFoundError\u001b[0m                         Traceback (most recent call last)",
      "\u001b[1;32m~\\AppData\\Local\\Temp/ipykernel_17020/3891591101.py\u001b[0m in \u001b[0;36m<module>\u001b[1;34m\u001b[0m\n\u001b[1;32m----> 1\u001b[1;33m \u001b[0mf\u001b[0m \u001b[1;33m=\u001b[0m \u001b[0mopen\u001b[0m\u001b[1;33m(\u001b[0m\u001b[1;34m\" google,txt\"\u001b[0m\u001b[1;33m,\u001b[0m \u001b[1;34m\"r+\"\u001b[0m\u001b[1;33m)\u001b[0m\u001b[1;33m\u001b[0m\u001b[1;33m\u001b[0m\u001b[0m\n\u001b[0m",
      "\u001b[1;31mFileNotFoundError\u001b[0m: [Errno 2] No such file or directory: ' google,txt'"
     ]
    }
   ],
   "source": [
    "f = open(\" google,txt\", \"r+\")"
   ]
  },
  {
   "cell_type": "code",
   "execution_count": 100,
   "id": "ecbd6fd9",
   "metadata": {},
   "outputs": [],
   "source": [
    "f= open(\"test1.txt\", \"r+\")"
   ]
  },
  {
   "cell_type": "code",
   "execution_count": 101,
   "id": "73c54ee3",
   "metadata": {},
   "outputs": [
    {
     "data": {
      "text/plain": [
       "'shubbham dharankj birarishubbham dharankj birarid aadhbfakfjabfkjkjjfakjf jhahakjfakjfa hfahfkaj'"
      ]
     },
     "execution_count": 101,
     "metadata": {},
     "output_type": "execute_result"
    }
   ],
   "source": [
    "f.readline()"
   ]
  },
  {
   "cell_type": "code",
   "execution_count": 104,
   "id": "3256b3bb",
   "metadata": {},
   "outputs": [
    {
     "data": {
      "text/plain": [
       "'shubbham dharankj birarishubbham dharankj birarid aadhbfakfjabfkjkjjfakjf jhahakjfakjfa hfahfkaj'"
      ]
     },
     "execution_count": 104,
     "metadata": {},
     "output_type": "execute_result"
    }
   ],
   "source": [
    "f.read()"
   ]
  },
  {
   "cell_type": "code",
   "execution_count": 112,
   "id": "4773124e",
   "metadata": {},
   "outputs": [
    {
     "data": {
      "text/plain": [
       "0"
      ]
     },
     "execution_count": 112,
     "metadata": {},
     "output_type": "execute_result"
    }
   ],
   "source": [
    "f.seek(0)"
   ]
  },
  {
   "cell_type": "code",
   "execution_count": 113,
   "id": "7961602c",
   "metadata": {},
   "outputs": [],
   "source": [
    "l=f.readlines()"
   ]
  },
  {
   "cell_type": "code",
   "execution_count": 115,
   "id": "7f0fa070",
   "metadata": {},
   "outputs": [
    {
     "data": {
      "text/plain": [
       "['shubbham',\n",
       " 'dharankj',\n",
       " 'birarishubbham',\n",
       " 'dharankj',\n",
       " 'birarid',\n",
       " 'aadhbfakfjabfkjkjjfakjf',\n",
       " 'jhahakjfakjfa',\n",
       " 'hfahfkaj']"
      ]
     },
     "execution_count": 115,
     "metadata": {},
     "output_type": "execute_result"
    }
   ],
   "source": [
    "l[0].split()"
   ]
  },
  {
   "cell_type": "code",
   "execution_count": 117,
   "id": "3b8806d2",
   "metadata": {},
   "outputs": [
    {
     "data": {
      "text/plain": [
       "28"
      ]
     },
     "execution_count": 117,
     "metadata": {},
     "output_type": "execute_result"
    }
   ],
   "source": [
    "f.write(\"what thenfucck lhsdkj jbdkja\")"
   ]
  },
  {
   "cell_type": "code",
   "execution_count": 118,
   "id": "e8738faa",
   "metadata": {},
   "outputs": [],
   "source": [
    "l=[\"what rare yot kfnlkf\",\"klfhfkhflkjhfo\",\"jfskjdf,mn lksfkl\"]"
   ]
  },
  {
   "cell_type": "code",
   "execution_count": 119,
   "id": "7753c543",
   "metadata": {},
   "outputs": [
    {
     "data": {
      "text/plain": [
       "23"
      ]
     },
     "execution_count": 119,
     "metadata": {},
     "output_type": "execute_result"
    }
   ],
   "source": [
    "f.write(\"shubbhms  msnsl msfnsmk\")"
   ]
  },
  {
   "cell_type": "code",
   "execution_count": 121,
   "id": "9af32560",
   "metadata": {},
   "outputs": [],
   "source": [
    "f.writelines(l)"
   ]
  },
  {
   "cell_type": "code",
   "execution_count": 128,
   "id": "2f2c0145",
   "metadata": {},
   "outputs": [
    {
     "name": "stdout",
     "output_type": "stream",
     "text": [
      " Volume in drive C is Windows\n",
      " Volume Serial Number is 7293-F0DC\n",
      "\n",
      " Directory of C:\\Users\\shubh\n",
      "\n",
      "09/01/2022  12:57 PM    <DIR>          .\n",
      "29/10/2021  02:41 PM    <DIR>          ..\n",
      "22/12/2021  08:55 PM    <DIR>          .conda\n",
      "04/12/2021  10:20 AM                25 .condarc\n",
      "04/12/2021  10:20 AM    <DIR>          .continuum\n",
      "09/01/2022  10:22 AM    <DIR>          .ipynb_checkpoints\n",
      "04/12/2021  10:54 AM    <DIR>          .ipython\n",
      "20/12/2021  07:48 PM    <DIR>          .jupyter\n",
      "07/11/2021  11:49 PM    <DIR>          .Ld2VirtualBox\n",
      "31/10/2021  12:32 PM             6,893 -1.14-windows.xml\n",
      "03/12/2021  12:51 PM    <DIR>          103419079040931888859\n",
      "28/10/2021  02:53 PM    <DIR>          3D Objects\n",
      "23/12/2021  09:54 PM           102,264 abcd.ipynb\n",
      "22/12/2021  08:50 PM    <DIR>          anaconda3\n",
      "29/10/2021  02:55 PM    <DIR>          Contacts\n",
      "28/10/2021  02:57 PM    <DIR>          Documents\n",
      "08/01/2022  09:44 AM    <DIR>          Downloads\n",
      "29/10/2021  02:55 PM    <DIR>          Favorites\n",
      "07/01/2022  08:53 PM            28,121 for loops while loop (1).ipynb\n",
      "07/01/2022  07:15 PM            52,292 if else , for loop.ipynb\n",
      "09/01/2022  12:56 PM            43,215 iterable,gernator,8,9-1.ipynb\n",
      "29/10/2021  02:55 PM    <DIR>          Links\n",
      "15/11/2021  04:49 PM    <DIR>          Music\n",
      "03/12/2021  12:53 PM    <DIR>          My Drive\n",
      "29/10/2021  02:52 PM    <DIR>          OneDrive\n",
      "08/01/2022  10:08 AM            50,871 practice problem python basic.ipynb\n",
      "07/01/2022  01:33 PM            75,627 Python basic (3).ipynb\n",
      "29/10/2021  02:55 PM    <DIR>          Saved Games\n",
      "29/10/2021  02:55 PM    <DIR>          Searches\n",
      "09/01/2022  11:56 AM                 0 test.txt\n",
      "07/01/2022  02:33 PM            57,593 Tuples , set , dict .ipynb\n",
      "29/10/2021  02:55 PM    <DIR>          Videos\n",
      "              10 File(s)        416,901 bytes\n",
      "              22 Dir(s)  87,634,825,216 bytes free\n"
     ]
    }
   ],
   "source": [
    "%ls"
   ]
  },
  {
   "cell_type": "code",
   "execution_count": 123,
   "id": "f0c8697a",
   "metadata": {},
   "outputs": [],
   "source": [
    "import os"
   ]
  },
  {
   "cell_type": "code",
   "execution_count": 127,
   "id": "4eee3fb4",
   "metadata": {},
   "outputs": [],
   "source": [
    "os.remove(\"test1.txt\")"
   ]
  },
  {
   "cell_type": "code",
   "execution_count": 126,
   "id": "2251af8a",
   "metadata": {},
   "outputs": [],
   "source": [
    "f.close()"
   ]
  },
  {
   "cell_type": "code",
   "execution_count": 129,
   "id": "aa1e4e00",
   "metadata": {},
   "outputs": [
    {
     "data": {
      "text/plain": [
       "['-1.14-windows.xml',\n",
       " '.conda',\n",
       " '.condarc',\n",
       " '.continuum',\n",
       " '.ipynb_checkpoints',\n",
       " '.ipython',\n",
       " '.jupyter',\n",
       " '.Ld2VirtualBox',\n",
       " '103419079040931888859',\n",
       " '3D Objects',\n",
       " 'abcd.ipynb',\n",
       " 'anaconda3',\n",
       " 'AppData',\n",
       " 'Application Data',\n",
       " 'Contacts',\n",
       " 'Cookies',\n",
       " 'Documents',\n",
       " 'Downloads',\n",
       " 'Favorites',\n",
       " 'for loops while loop (1).ipynb',\n",
       " 'if else , for loop.ipynb',\n",
       " 'IntelGraphicsProfiles',\n",
       " 'iterable,gernator,8,9-1.ipynb',\n",
       " 'Links',\n",
       " 'Local Settings',\n",
       " 'Music',\n",
       " 'My Documents',\n",
       " 'My Drive',\n",
       " 'NetHood',\n",
       " 'NTUSER.DAT',\n",
       " 'ntuser.dat.LOG1',\n",
       " 'ntuser.dat.LOG2',\n",
       " 'NTUSER.DAT{1c2b59c6-c5f5-11eb-bacb-000d3a96488e}.TM.blf',\n",
       " 'NTUSER.DAT{1c2b59c6-c5f5-11eb-bacb-000d3a96488e}.TMContainer00000000000000000001.regtrans-ms',\n",
       " 'NTUSER.DAT{1c2b59c6-c5f5-11eb-bacb-000d3a96488e}.TMContainer00000000000000000002.regtrans-ms',\n",
       " 'ntuser.ini',\n",
       " 'OneDrive',\n",
       " 'practice problem python basic.ipynb',\n",
       " 'PrintHood',\n",
       " 'Python basic (3).ipynb',\n",
       " 'Recent',\n",
       " 'Saved Games',\n",
       " 'Searches',\n",
       " 'SendTo',\n",
       " 'Start Menu',\n",
       " 'Templates',\n",
       " 'test.txt',\n",
       " 'Tuples , set , dict .ipynb',\n",
       " 'Videos']"
      ]
     },
     "execution_count": 129,
     "metadata": {},
     "output_type": "execute_result"
    }
   ],
   "source": [
    "os.listdir()"
   ]
  },
  {
   "cell_type": "code",
   "execution_count": 130,
   "id": "a8bad5a7",
   "metadata": {},
   "outputs": [
    {
     "data": {
      "text/plain": [
       "b'C:\\\\Users\\\\shubh'"
      ]
     },
     "execution_count": 130,
     "metadata": {},
     "output_type": "execute_result"
    }
   ],
   "source": [
    "os.getcwdb()"
   ]
  },
  {
   "cell_type": "markdown",
   "id": "72ba06d3",
   "metadata": {},
   "source": [
    "### practice\n"
   ]
  },
  {
   "cell_type": "code",
   "execution_count": 1,
   "id": "568a586e",
   "metadata": {},
   "outputs": [
    {
     "data": {
      "text/plain": [
       "'here is a multiline comment\\n'"
      ]
     },
     "execution_count": 1,
     "metadata": {},
     "output_type": "execute_result"
    }
   ],
   "source": [
    "\"\"\"here is a multiline comment\n",
    "\"\"\""
   ]
  },
  {
   "cell_type": "code",
   "execution_count": null,
   "id": "26e5318a",
   "metadata": {},
   "outputs": [],
   "source": []
  }
 ],
 "metadata": {
  "kernelspec": {
   "display_name": "Python 3 (ipykernel)",
   "language": "python",
   "name": "python3"
  },
  "language_info": {
   "codemirror_mode": {
    "name": "ipython",
    "version": 3
   },
   "file_extension": ".py",
   "mimetype": "text/x-python",
   "name": "python",
   "nbconvert_exporter": "python",
   "pygments_lexer": "ipython3",
   "version": "3.9.7"
  }
 },
 "nbformat": 4,
 "nbformat_minor": 5
}

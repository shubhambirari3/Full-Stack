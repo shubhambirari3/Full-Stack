{
 "cells": [
  {
   "cell_type": "markdown",
   "metadata": {},
   "source": [
    "## Regular Expression"
   ]
  },
  {
   "cell_type": "code",
   "execution_count": 13,
   "metadata": {},
   "outputs": [],
   "source": [
    "import re"
   ]
  },
  {
   "cell_type": "code",
   "execution_count": 14,
   "metadata": {},
   "outputs": [],
   "source": [
    "Nameage = '''\n",
    "Janice is 22 and Theon is 30 \n",
    "Gabriel is 44 and Joey is 210\n",
    "\n",
    "'''"
   ]
  },
  {
   "cell_type": "code",
   "execution_count": 4,
   "metadata": {},
   "outputs": [
    {
     "data": {
      "text/plain": [
       "['Janice',\n",
       " 'is',\n",
       " '22',\n",
       " 'and',\n",
       " 'Theon',\n",
       " 'is',\n",
       " '30',\n",
       " 'Gabriel',\n",
       " 'is',\n",
       " '44',\n",
       " 'and',\n",
       " 'Joey',\n",
       " 'is',\n",
       " '210']"
      ]
     },
     "execution_count": 4,
     "metadata": {},
     "output_type": "execute_result"
    }
   ],
   "source": [
    "Nameage.split()"
   ]
  },
  {
   "cell_type": "code",
   "execution_count": 7,
   "metadata": {},
   "outputs": [
    {
     "data": {
      "text/plain": [
       "['Janice', 'Theon', 'Gabriel', 'Joey']"
      ]
     },
     "execution_count": 7,
     "metadata": {},
     "output_type": "execute_result"
    }
   ],
   "source": [
    "re.findall('[A-Z][a-z]*',Nameage)"
   ]
  },
  {
   "cell_type": "code",
   "execution_count": 16,
   "metadata": {},
   "outputs": [
    {
     "data": {
      "text/plain": [
       "[<re.Match object; span=(14, 17), match='and'>,\n",
       " <re.Match object; span=(45, 48), match='and'>]"
      ]
     },
     "execution_count": 16,
     "metadata": {},
     "output_type": "execute_result"
    }
   ],
   "source": [
    "list(re.finditer(\"and\",Nameage))\n",
    "#print('found 'and' at index {}'.format(match.start()))"
   ]
  },
  {
   "cell_type": "code",
   "execution_count": 26,
   "metadata": {},
   "outputs": [
    {
     "data": {
      "text/plain": [
       "'\\nJanice is 22 and Theon is 30 \\nGabriel is 44 and Joey is 210\\n8765432109\\n'"
      ]
     },
     "execution_count": 26,
     "metadata": {},
     "output_type": "execute_result"
    }
   ],
   "source": [
    "Nameage"
   ]
  },
  {
   "cell_type": "code",
   "execution_count": 6,
   "metadata": {},
   "outputs": [
    {
     "data": {
      "text/plain": [
       "['876543210']"
      ]
     },
     "execution_count": 6,
     "metadata": {},
     "output_type": "execute_result"
    }
   ],
   "source": [
    " re.findall('\\d{1,3}', Nameage)"
   ]
  },
  {
   "cell_type": "code",
   "execution_count": 4,
   "metadata": {},
   "outputs": [
    {
     "data": {
      "text/plain": [
       "['Janice', 'Theon', 'Gabriel', 'Joey']"
      ]
     },
     "execution_count": 4,
     "metadata": {},
     "output_type": "execute_result"
    }
   ],
   "source": [
    "re.findall('[A-Z][a-z]*',Nameage)"
   ]
  },
  {
   "cell_type": "code",
   "execution_count": 8,
   "metadata": {},
   "outputs": [],
   "source": [
    "ages = re.findall(r'\\d{1,9}', Nameage)\n",
    "names = re.findall(r'[A-Z][a-z]*',Nameage)"
   ]
  },
  {
   "cell_type": "code",
   "execution_count": 9,
   "metadata": {},
   "outputs": [
    {
     "data": {
      "text/plain": [
       "['22', '30', '44', '210']"
      ]
     },
     "execution_count": 9,
     "metadata": {},
     "output_type": "execute_result"
    }
   ],
   "source": [
    "ages"
   ]
  },
  {
   "cell_type": "code",
   "execution_count": 10,
   "metadata": {},
   "outputs": [
    {
     "data": {
      "text/plain": [
       "['Janice', 'Theon', 'Gabriel', 'Joey']"
      ]
     },
     "execution_count": 10,
     "metadata": {},
     "output_type": "execute_result"
    }
   ],
   "source": [
    "names"
   ]
  },
  {
   "cell_type": "code",
   "execution_count": 11,
   "metadata": {},
   "outputs": [],
   "source": [
    "ageDict = {}"
   ]
  },
  {
   "cell_type": "code",
   "execution_count": 9,
   "metadata": {},
   "outputs": [
    {
     "data": {
      "text/plain": [
       "['22', '30', '44', '210']"
      ]
     },
     "execution_count": 9,
     "metadata": {},
     "output_type": "execute_result"
    }
   ],
   "source": [
    "ages"
   ]
  },
  {
   "cell_type": "code",
   "execution_count": 10,
   "metadata": {},
   "outputs": [
    {
     "data": {
      "text/plain": [
       "['Janice', 'Theon', 'Gabriel', 'Joey']"
      ]
     },
     "execution_count": 10,
     "metadata": {},
     "output_type": "execute_result"
    }
   ],
   "source": [
    "names"
   ]
  },
  {
   "cell_type": "code",
   "execution_count": 10,
   "metadata": {},
   "outputs": [
    {
     "data": {
      "text/plain": [
       "'\\nJanice is 22 and Theon is 30 \\nGabriel is 44 and Joey is 210\\n\\n'"
      ]
     },
     "execution_count": 10,
     "metadata": {},
     "output_type": "execute_result"
    }
   ],
   "source": [
    "Nameage"
   ]
  },
  {
   "cell_type": "code",
   "execution_count": 11,
   "metadata": {},
   "outputs": [
    {
     "name": "stdout",
     "output_type": "stream",
     "text": [
      "{'Janice': '22', 'Theon': '30', 'Gabriel': '44', 'Joey': '210'}\n"
     ]
    }
   ],
   "source": [
    "x = 0\n",
    "for eachname in names:\n",
    "    ageDict[eachname] = ages[x]\n",
    "    x+=1\n",
    "print(ageDict)"
   ]
  },
  {
   "cell_type": "code",
   "execution_count": 8,
   "metadata": {},
   "outputs": [
    {
     "name": "stdout",
     "output_type": "stream",
     "text": [
      "['inform', 'inform']\n",
      "inform\n",
      "inform\n"
     ]
    }
   ],
   "source": [
    "\n",
    " \n",
    "allinform = re.findall(\"inform\",\"We too need to 23  to inform him 123 with the latest information!\")\n",
    "print(allinform) \n",
    "for i in allinform:\n",
    "    print(i)"
   ]
  },
  {
   "cell_type": "code",
   "execution_count": 11,
   "metadata": {},
   "outputs": [
    {
     "name": "stdout",
     "output_type": "stream",
     "text": [
      "There is inform\n"
     ]
    }
   ],
   "source": [
    "if re.search(\"inform\",\"we need to inform him with the latest information\"):\n",
    "    print(\"There is inform\")\n",
    "else:\n",
    "    print(\"NO inform\")"
   ]
  },
  {
   "cell_type": "code",
   "execution_count": 13,
   "metadata": {},
   "outputs": [
    {
     "data": {
      "text/plain": [
       "<re.Match object; span=(3, 7), match='need'>"
      ]
     },
     "execution_count": 13,
     "metadata": {},
     "output_type": "execute_result"
    }
   ],
   "source": [
    "re.search(\"need\",\"we need to inform him with the latest need information\")"
   ]
  },
  {
   "cell_type": "code",
   "execution_count": 14,
   "metadata": {},
   "outputs": [
    {
     "name": "stdout",
     "output_type": "stream",
     "text": [
      "(11, 17)\n",
      "(38, 44)\n"
     ]
    }
   ],
   "source": [
    "Str = \"we need to inform him with the latest information\"\n",
    "\n",
    "for i in re.finditer(\"inform\", Str):\n",
    "    locTuple = i.span()\n",
    "    print(locTuple)"
   ]
  },
  {
   "cell_type": "code",
   "execution_count": 19,
   "metadata": {},
   "outputs": [
    {
     "name": "stdout",
     "output_type": "stream",
     "text": [
      "['at', 'at', 'apat', 'hat', 'at', 'mat', 'pat', 'fat', 'at']\n"
     ]
    }
   ],
   "source": [
    "Str = \"Sat,Aat,KAapat hat,12at, mat, pat, socket, fat, at\"\n",
    " \n",
    "allStr = re.findall(\"[A-Z,a-z]*at\", Str)\n",
    " \n",
    "#allStr = re.findall(\"_at\", Str)\n",
    "print(allStr) \n",
    "#for i in allStr:\n",
    " #   print(i)"
   ]
  },
  {
   "cell_type": "code",
   "execution_count": 16,
   "metadata": {},
   "outputs": [
    {
     "name": "stdout",
     "output_type": "stream",
     "text": [
      "['Sat']\n",
      "['hat', 'mat', 'pat']\n",
      "['Sat', 'hat', 'mat', 'pat']\n"
     ]
    }
   ],
   "source": [
    "Str = \"Sat, hat, mat, pat, at\"\n",
    " \n",
    "#someStr = re.findall(\"[a-z]at\", Str)\n",
    "someStr = re.findall(\"[A-Z]at\", Str)\n",
    "some2 = re.findall(\"[a-z]at\", Str)\n",
    "print(someStr)\n",
    "print(some2)\n",
    "final=someStr+some2\n",
    "print(final)\n"
   ]
  },
  {
   "cell_type": "code",
   "execution_count": 17,
   "metadata": {},
   "outputs": [
    {
     "name": "stdout",
     "output_type": "stream",
     "text": [
      "['sat', 'mat']\n"
     ]
    }
   ],
   "source": [
    "Str = \"sat, hat, mat, pat,new\"\n",
    " \n",
    "someStr = re.findall(\"[^h,p]at\", Str)\n",
    "print(someStr)\n",
    "#for i in someStr:\n",
    "#    print(i)"
   ]
  },
  {
   "cell_type": "code",
   "execution_count": 44,
   "metadata": {},
   "outputs": [
    {
     "name": "stdout",
     "output_type": "stream",
     "text": [
      "<re.Match object; span=(13, 17), match='prog'>\n"
     ]
    }
   ],
   "source": [
    "randstr = \"Enjoying the programming with python\"\n",
    " \n",
    "print(re.search(r\"prog\", randstr))"
   ]
  },
  {
   "cell_type": "code",
   "execution_count": 40,
   "metadata": {},
   "outputs": [],
   "source": [
    "str = 'my name is  shubham  dharmraj birari'\n",
    "with open(\"C:\\\\Users\\\\shubh\\\\ineuron files\\\\sample.txt\",\"a\") as  f:\n",
    "    f.write(str)\n",
    "\n"
   ]
  },
  {
   "cell_type": "code",
   "execution_count": 41,
   "metadata": {},
   "outputs": [],
   "source": [
    "f.close()"
   ]
  },
  {
   "cell_type": "code",
   "execution_count": 79,
   "metadata": {},
   "outputs": [],
   "source": [
    "str = open(\"C:\\\\Users\\\\shubh\\\\ineuron files\\\\google.txt\",'w')"
   ]
  },
  {
   "cell_type": "code",
   "execution_count": 81,
   "metadata": {},
   "outputs": [],
   "source": [
    "str.write(\"this is sample...\")\n",
    "str.close()"
   ]
  },
  {
   "cell_type": "code",
   "execution_count": 82,
   "metadata": {},
   "outputs": [],
   "source": [
    "import matplotlib.image as mpimg\n",
    "import matplotlib.pyplot as plt"
   ]
  },
  {
   "cell_type": "code",
   "execution_count": 86,
   "metadata": {},
   "outputs": [
    {
     "data": {
      "text/plain": [
       "'C:\\\\Users\\\\shubh\\\\Downloads\\\\emile-perron-xrVDYZRGdw4-unsplash.jpg'"
      ]
     },
     "execution_count": 86,
     "metadata": {},
     "output_type": "execute_result"
    }
   ],
   "source": [
    "data = r\"C:\\Users\\shubh\\Downloads\\emile-perron-xrVDYZRGdw4-unsplash.jpg\"\n",
    "data"
   ]
  },
  {
   "cell_type": "code",
   "execution_count": 87,
   "metadata": {},
   "outputs": [
    {
     "name": "stdout",
     "output_type": "stream",
     "text": [
      "<class 'numpy.ndarray'>\n"
     ]
    },
    {
     "data": {
      "text/plain": [
       "<matplotlib.image.AxesImage at 0x1a91abd3640>"
      ]
     },
     "execution_count": 87,
     "metadata": {},
     "output_type": "execute_result"
    },
    {
     "data": {
      "image/png": "[encoded data removed]",
      "text/plain": [
       "<Figure size 432x288 with 1 Axes>"
      ]
     },
     "metadata": {
      "needs_background": "light"
     },
     "output_type": "display_data"
    }
   ],
   "source": [
    "img = mpimg.imread(data)\n",
    "print(type(img))\n",
    "plt.imshow(img)"
   ]
  },
  {
   "cell_type": "code",
   "execution_count": 88,
   "metadata": {},
   "outputs": [],
   "source": [
    "import os"
   ]
  },
  {
   "cell_type": "code",
   "execution_count": 90,
   "metadata": {},
   "outputs": [
    {
     "ename": "SyntaxError",
     "evalue": "(unicode error) 'unicodeescape' codec can't decode bytes in position 2-3: truncated \\UXXXXXXXX escape (Temp/ipykernel_16744/581651689.py, line 3)",
     "output_type": "error",
     "traceback": [
      "\u001b[1;36m  File \u001b[1;32m\"C:\\Users\\shubh\\AppData\\Local\\Temp/ipykernel_16744/581651689.py\"\u001b[1;36m, line \u001b[1;32m3\u001b[0m\n\u001b[1;33m    filename = \"C:\\Users\\shubh\\ineuron files\"+iencode('utf-8')\u001b[0m\n\u001b[1;37m                                             ^\u001b[0m\n\u001b[1;31mSyntaxError\u001b[0m\u001b[1;31m:\u001b[0m (unicode error) 'unicodeescape' codec can't decode bytes in position 2-3: truncated \\UXXXXXXXX escape\n"
     ]
    }
   ],
   "source": [
    "for i in os.listdir(r\"C:\\Users\\shubh\\ineuron files\"):\n",
    "    print(i)\n",
    "    filename = \"C:\\Users\\shubh\\ineuron files\"+iencode('utf-8')\n",
    "    size = (os.stat(filename).st_size)/1024\n",
    "    print(filename,size)"
   ]
  },
  {
   "cell_type": "code",
   "execution_count": 92,
   "metadata": {},
   "outputs": [
    {
     "name": "stdout",
     "output_type": "stream",
     "text": [
      "-1.14-windows.xml\n"
     ]
    },
    {
     "ename": "FileNotFoundError",
     "evalue": "[WinError 2] The system cannot find the file specified: 'C:\\\\Users\\\\shubh\\\\ineuron files-1.14-windows.xml'",
     "output_type": "error",
     "traceback": [
      "\u001b[1;31m---------------------------------------------------------------------------\u001b[0m",
      "\u001b[1;31mFileNotFoundError\u001b[0m                         Traceback (most recent call last)",
      "\u001b[1;32m~\\AppData\\Local\\Temp/ipykernel_16744/3298496784.py\u001b[0m in \u001b[0;36m<module>\u001b[1;34m\u001b[0m\n\u001b[0;32m      2\u001b[0m     \u001b[0mprint\u001b[0m\u001b[1;33m(\u001b[0m\u001b[0mi\u001b[0m\u001b[1;33m)\u001b[0m\u001b[1;33m\u001b[0m\u001b[1;33m\u001b[0m\u001b[0m\n\u001b[0;32m      3\u001b[0m     \u001b[0mfilename\u001b[0m \u001b[1;33m=\u001b[0m \u001b[1;34m\"C:\\\\Users\\\\shubh\\\\ineuron files\"\u001b[0m\u001b[1;33m+\u001b[0m\u001b[0mi\u001b[0m\u001b[1;33m\u001b[0m\u001b[1;33m\u001b[0m\u001b[0m\n\u001b[1;32m----> 4\u001b[1;33m     \u001b[0msize\u001b[0m \u001b[1;33m=\u001b[0m \u001b[1;33m(\u001b[0m\u001b[0mos\u001b[0m\u001b[1;33m.\u001b[0m\u001b[0mstat\u001b[0m\u001b[1;33m(\u001b[0m\u001b[0mfilename\u001b[0m\u001b[1;33m)\u001b[0m\u001b[1;33m.\u001b[0m\u001b[0mst_size\u001b[0m\u001b[1;33m)\u001b[0m\u001b[1;33m/\u001b[0m\u001b[1;36m1024\u001b[0m\u001b[1;33m\u001b[0m\u001b[1;33m\u001b[0m\u001b[0m\n\u001b[0m\u001b[0;32m      5\u001b[0m     \u001b[0mprint\u001b[0m\u001b[1;33m(\u001b[0m\u001b[0mfilename\u001b[0m\u001b[1;33m,\u001b[0m\u001b[0msize\u001b[0m\u001b[1;33m)\u001b[0m\u001b[1;33m\u001b[0m\u001b[1;33m\u001b[0m\u001b[0m\n",
      "\u001b[1;31mFileNotFoundError\u001b[0m: [WinError 2] The system cannot find the file specified: 'C:\\\\Users\\\\shubh\\\\ineuron files-1.14-windows.xml'"
     ]
    }
   ],
   "source": [
    "for i in os.listdir(r\"C:\\Users\\shubh\\ineuron files\"):\n",
    "    print(i)\n",
    "    filename = \"C:\\\\Users\\\\shubh\\\\ineuron files\"+i\n",
    "    size = (os.stat(filename).st_size)/1024\n",
    "    print(filename,size)\n"
   ]
  },
  {
   "cell_type": "code",
   "execution_count": 93,
   "metadata": {},
   "outputs": [
    {
     "name": "stdout",
     "output_type": "stream",
     "text": [
      "-1.14-windows.xml\n"
     ]
    },
    {
     "ename": "FileNotFoundError",
     "evalue": "[WinError 2] The system cannot find the file specified: 'C:\\\\Users\\\\shubh\\\\ineuron files-1.14-windows.xml'",
     "output_type": "error",
     "traceback": [
      "\u001b[1;31m---------------------------------------------------------------------------\u001b[0m",
      "\u001b[1;31mFileNotFoundError\u001b[0m                         Traceback (most recent call last)",
      "\u001b[1;32m~\\AppData\\Local\\Temp/ipykernel_16744/229855452.py\u001b[0m in \u001b[0;36m<module>\u001b[1;34m\u001b[0m\n\u001b[0;32m      2\u001b[0m     \u001b[0mprint\u001b[0m\u001b[1;33m(\u001b[0m\u001b[0mi\u001b[0m\u001b[1;33m)\u001b[0m\u001b[1;33m\u001b[0m\u001b[1;33m\u001b[0m\u001b[0m\n\u001b[0;32m      3\u001b[0m     \u001b[0mfilename\u001b[0m \u001b[1;33m=\u001b[0m \u001b[1;34mr\"C:\\Users\\shubh\\ineuron files\"\u001b[0m \u001b[1;33m+\u001b[0m \u001b[0mi\u001b[0m\u001b[1;33m\u001b[0m\u001b[1;33m\u001b[0m\u001b[0m\n\u001b[1;32m----> 4\u001b[1;33m     \u001b[0msize\u001b[0m \u001b[1;33m=\u001b[0m \u001b[1;33m(\u001b[0m\u001b[0mos\u001b[0m\u001b[1;33m.\u001b[0m\u001b[0mstat\u001b[0m\u001b[1;33m(\u001b[0m\u001b[0mfilename\u001b[0m\u001b[1;33m)\u001b[0m\u001b[1;33m.\u001b[0m\u001b[0mst_size\u001b[0m\u001b[1;33m)\u001b[0m\u001b[1;33m/\u001b[0m\u001b[1;36m1024\u001b[0m\u001b[1;33m\u001b[0m\u001b[1;33m\u001b[0m\u001b[0m\n\u001b[0m\u001b[0;32m      5\u001b[0m     \u001b[0mprint\u001b[0m\u001b[1;33m(\u001b[0m\u001b[0mfilename\u001b[0m\u001b[1;33m,\u001b[0m \u001b[0msize\u001b[0m\u001b[1;33m)\u001b[0m\u001b[1;33m\u001b[0m\u001b[1;33m\u001b[0m\u001b[0m\n\u001b[0;32m      6\u001b[0m \u001b[1;33m\u001b[0m\u001b[0m\n",
      "\u001b[1;31mFileNotFoundError\u001b[0m: [WinError 2] The system cannot find the file specified: 'C:\\\\Users\\\\shubh\\\\ineuron files-1.14-windows.xml'"
     ]
    }
   ],
   "source": [
    "for i in os.listdir(r\"C:\\Users\\shubh\\ineuron files\"):\n",
    "    print(i)\n",
    "    filename = r\"C:\\Users\\shubh\\ineuron files\" + i\n",
    "    size = (os.stat(filename).st_size)/1024\n",
    "    print(filename, size)\n",
    "\n",
    "    "
   ]
  },
  {
   "cell_type": "code",
   "execution_count": 94,
   "metadata": {},
   "outputs": [
    {
     "name": "stdout",
     "output_type": "stream",
     "text": [
      "C:\\Users\\shubh\\ineuron files-1.14-windows.xml does not exist.\n",
      "C:\\Users\\shubh\\ineuron files.condarc does not exist.\n",
      "C:\\Users\\shubh\\ineuron files.ipynb_checkpoints does not exist.\n",
      "C:\\Users\\shubh\\ineuron files19.3 MongoDB.7z does not exist.\n",
      "C:\\Users\\shubh\\ineuron files19.3.1 mongoDB introduction.ipynb does not exist.\n",
      "C:\\Users\\shubh\\ineuron files19.3.2 pyMongo.ipynb does not exist.\n",
      "C:\\Users\\shubh\\ineuron files9- 4 -22  flask review project.ipynb does not exist.\n",
      "C:\\Users\\shubh\\ineuron filesabcd.ipynb does not exist.\n",
      "C:\\Users\\shubh\\ineuron filesclass and object.ipynb does not exist.\n",
      "C:\\Users\\shubh\\ineuron filescricket.csv does not exist.\n",
      "C:\\Users\\shubh\\ineuron filesException handling class 1.ipynb does not exist.\n",
      "C:\\Users\\shubh\\ineuron filesException handling class 2.ipynb does not exist.\n",
      "C:\\Users\\shubh\\ineuron filesfor loops while loop (1).ipynb does not exist.\n",
      "C:\\Users\\shubh\\ineuron filesFunction continued.ipynb does not exist.\n",
      "C:\\Users\\shubh\\ineuron filesglass.data does not exist.\n",
      "C:\\Users\\shubh\\ineuron filesgold invest project.ipynb does not exist.\n",
      "C:\\Users\\shubh\\ineuron filesgold investment prediction project.ipynb does not exist.\n",
      "C:\\Users\\shubh\\ineuron filesgoogle.txt does not exist.\n",
      "C:\\Users\\shubh\\ineuron filesGraph.ipynb does not exist.\n",
      "C:\\Users\\shubh\\ineuron filesgraphs day 2.ipynb does not exist.\n",
      "C:\\Users\\shubh\\ineuron filesif else , for loop.ipynb does not exist.\n",
      "C:\\Users\\shubh\\ineuron filesineuron.db does not exist.\n",
      "C:\\Users\\shubh\\ineuron filesinron.db does not exist.\n",
      "C:\\Users\\shubh\\ineuron filesiterable,gernator,8,9-1.ipynb does not exist.\n",
      "C:\\Users\\shubh\\ineuron filesiterator generator.ipynb does not exist.\n",
      "C:\\Users\\shubh\\ineuron fileslocations.csv does not exist.\n",
      "C:\\Users\\shubh\\ineuron fileslogging (1).ipynb does not exist.\n",
      "C:\\Users\\shubh\\ineuron filesmodule.py does not exist.\n",
      "C:\\Users\\shubh\\ineuron filesmodule2.py does not exist.\n",
      "C:\\Users\\shubh\\ineuron filesmongodb class 1.ipynb does not exist.\n",
      "C:\\Users\\shubh\\ineuron filesnumpy day 2.ipynb does not exist.\n",
      "C:\\Users\\shubh\\ineuron filesoops 29th .ipynb does not exist.\n",
      "C:\\Users\\shubh\\ineuron filesoops 30th_2022.ipynb does not exist.\n",
      "C:\\Users\\shubh\\ineuron filesoops class 1.ipynb does not exist.\n",
      "C:\\Users\\shubh\\ineuron filespandas 4 .ipynb does not exist.\n",
      "C:\\Users\\shubh\\ineuron filespandas and numpy.ipynb does not exist.\n",
      "C:\\Users\\shubh\\ineuron filespandas class 3.ipynb does not exist.\n",
      "C:\\Users\\shubh\\ineuron filespandas day 2.ipynb does not exist.\n",
      "C:\\Users\\shubh\\ineuron filesPandas.ipynb does not exist.\n",
      "C:\\Users\\shubh\\ineuron filespersonn.db does not exist.\n",
      "C:\\Users\\shubh\\ineuron filespersonn.db-journal does not exist.\n",
      "C:\\Users\\shubh\\ineuron filespractice problem python basic.ipynb does not exist.\n",
      "C:\\Users\\shubh\\ineuron filespractice.ipynb does not exist.\n",
      "C:\\Users\\shubh\\ineuron filespthon practicals.ipynb does not exist.\n",
      "C:\\Users\\shubh\\ineuron filesPython basic (3).ipynb does not exist.\n",
      "C:\\Users\\shubh\\ineuron filesRegularExpression (1).ipynb does not exist.\n",
      "C:\\Users\\shubh\\ineuron filessample.txt does not exist.\n",
      "C:\\Users\\shubh\\ineuron filessample_test.csv does not exist.\n",
      "C:\\Users\\shubh\\ineuron filessecondary data.csv does not exist.\n",
      "C:\\Users\\shubh\\ineuron filesself mongodb.ipynb does not exist.\n",
      "C:\\Users\\shubh\\ineuron filesshubham birari (9809) .ipynb does not exist.\n",
      "C:\\Users\\shubh\\ineuron filesSQL basic .ipynb does not exist.\n",
      "C:\\Users\\shubh\\ineuron filessql day 2 .ipynb does not exist.\n",
      "C:\\Users\\shubh\\ineuron filesSQLLITE ,map ,reduce ,filter,zip.ipynb does not exist.\n",
      "C:\\Users\\shubh\\ineuron filestest.log does not exist.\n",
      "C:\\Users\\shubh\\ineuron filestest.txt does not exist.\n",
      "C:\\Users\\shubh\\ineuron filestest0.py does not exist.\n",
      "C:\\Users\\shubh\\ineuron filestest1.py does not exist.\n",
      "C:\\Users\\shubh\\ineuron filestest1.txt does not exist.\n",
      "C:\\Users\\shubh\\ineuron filestest5.txt does not exist.\n",
      "C:\\Users\\shubh\\ineuron filesTuples , set , dict .ipynb does not exist.\n",
      "C:\\Users\\shubh\\ineuron filesUntitled.ipynb does not exist.\n",
      "C:\\Users\\shubh\\ineuron filesUntitled1.ipynb does not exist.\n"
     ]
    }
   ],
   "source": [
    "for i in os.listdir(r\"C:\\Users\\shubh\\ineuron files\"):\n",
    "    filename = r\"C:\\Users\\shubh\\ineuron files\" + i\n",
    "    if os.path.exists(filename):\n",
    "        size = (os.stat(filename).st_size)/1024\n",
    "        print(filename, size)\n",
    "    else:\n",
    "        print(f\"{filename} does not exist.\")\n"
   ]
  },
  {
   "cell_type": "code",
   "execution_count": 97,
   "metadata": {},
   "outputs": [
    {
     "name": "stdout",
     "output_type": "stream",
     "text": [
      "-1.14-windows.xml\n",
      "C:\\Users\\shubh\\ineuron files\\\\-1.14-windows.xml 6.893\n",
      ".condarc\n",
      "C:\\Users\\shubh\\ineuron files\\\\.condarc 0.025\n",
      ".ipynb_checkpoints\n",
      "C:\\Users\\shubh\\ineuron files\\\\.ipynb_checkpoints 4.096\n",
      "19.3 MongoDB.7z\n",
      "C:\\Users\\shubh\\ineuron files\\\\19.3 MongoDB.7z 4407.102\n",
      "19.3.1 mongoDB introduction.ipynb\n",
      "C:\\Users\\shubh\\ineuron files\\\\19.3.1 mongoDB introduction.ipynb 9.346\n",
      "19.3.2 pyMongo.ipynb\n",
      "C:\\Users\\shubh\\ineuron files\\\\19.3.2 pyMongo.ipynb 557.521\n",
      "9- 4 -22  flask review project.ipynb\n",
      "C:\\Users\\shubh\\ineuron files\\\\9- 4 -22  flask review project.ipynb 13.918\n",
      "abcd.ipynb\n",
      "C:\\Users\\shubh\\ineuron files\\\\abcd.ipynb 102.264\n",
      "class and object.ipynb\n",
      "C:\\Users\\shubh\\ineuron files\\\\class and object.ipynb 28.711\n",
      "cricket.csv\n",
      "C:\\Users\\shubh\\ineuron files\\\\cricket.csv 5.658\n",
      "Exception handling class 1.ipynb\n",
      "C:\\Users\\shubh\\ineuron files\\\\Exception handling class 1.ipynb 13.282\n",
      "Exception handling class 2.ipynb\n",
      "C:\\Users\\shubh\\ineuron files\\\\Exception handling class 2.ipynb 62.825\n",
      "for loops while loop (1).ipynb\n",
      "C:\\Users\\shubh\\ineuron files\\\\for loops while loop (1).ipynb 2546.942\n",
      "Function continued.ipynb\n",
      "C:\\Users\\shubh\\ineuron files\\\\Function continued.ipynb 129.875\n",
      "glass.data\n",
      "C:\\Users\\shubh\\ineuron files\\\\glass.data 11.903\n",
      "gold invest project.ipynb\n",
      "C:\\Users\\shubh\\ineuron files\\\\gold invest project.ipynb 197.39\n",
      "gold investment prediction project.ipynb\n",
      "C:\\Users\\shubh\\ineuron files\\\\gold investment prediction project.ipynb 423.437\n",
      "google.txt\n",
      "C:\\Users\\shubh\\ineuron files\\\\google.txt 0.034\n",
      "Graph.ipynb\n",
      "C:\\Users\\shubh\\ineuron files\\\\Graph.ipynb 2390.862\n",
      "graphs day 2.ipynb\n",
      "C:\\Users\\shubh\\ineuron files\\\\graphs day 2.ipynb 975.486\n",
      "if else , for loop.ipynb\n",
      "C:\\Users\\shubh\\ineuron files\\\\if else , for loop.ipynb 83.679\n",
      "ineuron.db\n",
      "C:\\Users\\shubh\\ineuron files\\\\ineuron.db 12.288\n",
      "inron.db\n",
      "C:\\Users\\shubh\\ineuron files\\\\inron.db 8.192\n",
      "iterable,gernator,8,9-1.ipynb\n",
      "C:\\Users\\shubh\\ineuron files\\\\iterable,gernator,8,9-1.ipynb 45.933\n",
      "iterator generator.ipynb\n",
      "C:\\Users\\shubh\\ineuron files\\\\iterator generator.ipynb 21692.161\n",
      "locations.csv\n",
      "C:\\Users\\shubh\\ineuron files\\\\locations.csv 18.015\n",
      "logging (1).ipynb\n",
      "C:\\Users\\shubh\\ineuron files\\\\logging (1).ipynb 4.052\n",
      "module.py\n",
      "C:\\Users\\shubh\\ineuron files\\\\module.py 0.246\n",
      "module2.py\n",
      "C:\\Users\\shubh\\ineuron files\\\\module2.py 0.115\n",
      "mongodb class 1.ipynb\n",
      "C:\\Users\\shubh\\ineuron files\\\\mongodb class 1.ipynb 25.365\n",
      "numpy day 2.ipynb\n",
      "C:\\Users\\shubh\\ineuron files\\\\numpy day 2.ipynb 33.693\n",
      "oops 29th .ipynb\n",
      "C:\\Users\\shubh\\ineuron files\\\\oops 29th .ipynb 48.025\n",
      "oops 30th_2022.ipynb\n",
      "C:\\Users\\shubh\\ineuron files\\\\oops 30th_2022.ipynb 42.189\n",
      "oops class 1.ipynb\n",
      "C:\\Users\\shubh\\ineuron files\\\\oops class 1.ipynb 39.57\n",
      "pandas 4 .ipynb\n",
      "C:\\Users\\shubh\\ineuron files\\\\pandas 4 .ipynb 265.71\n",
      "pandas and numpy.ipynb\n",
      "C:\\Users\\shubh\\ineuron files\\\\pandas and numpy.ipynb 103.601\n",
      "pandas class 3.ipynb\n",
      "C:\\Users\\shubh\\ineuron files\\\\pandas class 3.ipynb 14.655\n",
      "pandas day 2.ipynb\n",
      "C:\\Users\\shubh\\ineuron files\\\\pandas day 2.ipynb 914.029\n",
      "Pandas.ipynb\n",
      "C:\\Users\\shubh\\ineuron files\\\\Pandas.ipynb 358.566\n",
      "personn.db\n",
      "C:\\Users\\shubh\\ineuron files\\\\personn.db 12.288\n",
      "personn.db-journal\n",
      "C:\\Users\\shubh\\ineuron files\\\\personn.db-journal 8.72\n",
      "practice problem python basic.ipynb\n",
      "C:\\Users\\shubh\\ineuron files\\\\practice problem python basic.ipynb 50.871\n",
      "practice.ipynb\n",
      "C:\\Users\\shubh\\ineuron files\\\\practice.ipynb 11661.759\n",
      "pthon practicals.ipynb\n",
      "C:\\Users\\shubh\\ineuron files\\\\pthon practicals.ipynb 91.009\n",
      "Python basic (3).ipynb\n",
      "C:\\Users\\shubh\\ineuron files\\\\Python basic (3).ipynb 93.867\n",
      "RegularExpression (1).ipynb\n",
      "C:\\Users\\shubh\\ineuron files\\\\RegularExpression (1).ipynb 146.023\n",
      "sample.txt\n",
      "C:\\Users\\shubh\\ineuron files\\\\sample.txt 0.017\n",
      "sample_test.csv\n",
      "C:\\Users\\shubh\\ineuron files\\\\sample_test.csv 0.175\n",
      "secondary data.csv\n",
      "C:\\Users\\shubh\\ineuron files\\\\secondary data.csv 0.439\n",
      "self mongodb.ipynb\n",
      "C:\\Users\\shubh\\ineuron files\\\\self mongodb.ipynb 54.257\n",
      "shubham birari (9809) .ipynb\n",
      "C:\\Users\\shubh\\ineuron files\\\\shubham birari (9809) .ipynb 282.431\n",
      "SQL basic .ipynb\n",
      "C:\\Users\\shubh\\ineuron files\\\\SQL basic .ipynb 135.352\n",
      "sql day 2 .ipynb\n",
      "C:\\Users\\shubh\\ineuron files\\\\sql day 2 .ipynb 358.512\n",
      "SQLLITE ,map ,reduce ,filter,zip.ipynb\n",
      "C:\\Users\\shubh\\ineuron files\\\\SQLLITE ,map ,reduce ,filter,zip.ipynb 72.368\n",
      "test.log\n",
      "C:\\Users\\shubh\\ineuron files\\\\test.log 0.31\n",
      "test.txt\n",
      "C:\\Users\\shubh\\ineuron files\\\\test.txt 0.017\n",
      "test0.py\n",
      "C:\\Users\\shubh\\ineuron files\\\\test0.py 0.188\n",
      "test1.py\n",
      "C:\\Users\\shubh\\ineuron files\\\\test1.py 0.0\n",
      "test1.txt\n",
      "C:\\Users\\shubh\\ineuron files\\\\test1.txt 0.286\n",
      "test5.txt\n",
      "C:\\Users\\shubh\\ineuron files\\\\test5.txt 0.039\n",
      "Tuples , set , dict .ipynb\n",
      "C:\\Users\\shubh\\ineuron files\\\\Tuples , set , dict .ipynb 137.049\n",
      "Untitled.ipynb\n",
      "C:\\Users\\shubh\\ineuron files\\\\Untitled.ipynb 7.231\n",
      "Untitled1.ipynb\n",
      "C:\\Users\\shubh\\ineuron files\\\\Untitled1.ipynb 7.392\n"
     ]
    }
   ],
   "source": [
    "for i in os.listdir(r\"C:\\Users\\shubh\\ineuron files\"):\n",
    "    print(i)\n",
    "    filename = r\"C:\\Users\\shubh\\ineuron files\\\\\" + i\n",
    "    size = (os.stat(filename).st_size)/1000\n",
    "    print(filename, size)\n",
    "\n",
    "    "
   ]
  },
  {
   "cell_type": "code",
   "execution_count": 98,
   "metadata": {},
   "outputs": [],
   "source": [
    "import shutil"
   ]
  },
  {
   "cell_type": "code",
   "execution_count": 104,
   "metadata": {},
   "outputs": [
    {
     "data": {
      "text/plain": [
       "'C:\\\\Users\\\\shubh\\\\Documents\\\\.condarc'"
      ]
     },
     "execution_count": 104,
     "metadata": {},
     "output_type": "execute_result"
    }
   ],
   "source": [
    "shutil.move(\"C:\\\\Users\\\\shubh\\\\ineuron files\\\\.condarc\",\"C:\\\\Users\\\\shubh\\\\Documents\")"
   ]
  },
  {
   "cell_type": "code",
   "execution_count": null,
   "metadata": {},
   "outputs": [],
   "source": []
  }
 ],
 "metadata": {
  "kernelspec": {
   "display_name": "Python 3 (ipykernel)",
   "language": "python",
   "name": "python3"
  },
  "language_info": {
   "codemirror_mode": {
    "name": "ipython",
    "version": 3
   },
   "file_extension": ".py",
   "mimetype": "text/x-python",
   "name": "python",
   "nbconvert_exporter": "python",
   "pygments_lexer": "ipython3",
   "version": "3.9.7"
  }
 },
 "nbformat": 4,
 "nbformat_minor": 2
}

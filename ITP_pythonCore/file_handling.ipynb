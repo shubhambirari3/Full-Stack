{
 "cells": [
  {
   "cell_type": "code",
   "execution_count": null,
   "metadata": {},
   "outputs": [],
   "source": [
    "# print(f\"An error occurred: {type(e).__name__} - {e}\")"
   ]
  },
  {
   "cell_type": "code",
   "execution_count": 1,
   "metadata": {},
   "outputs": [
    {
     "data": {
      "text/plain": [
       "'c:\\\\Users\\\\shubh\\\\ineuron ml16\\\\ITP_pythonCore'"
      ]
     },
     "execution_count": 1,
     "metadata": {},
     "output_type": "execute_result"
    }
   ],
   "source": [
    "pwd"
   ]
  },
  {
   "cell_type": "code",
   "execution_count": 2,
   "metadata": {},
   "outputs": [
    {
     "name": "stdout",
     "output_type": "stream",
     "text": [
      " Volume in drive C is Windows\n",
      " Volume Serial Number is 7293-F0DC\n",
      "\n",
      " Directory of c:\\Users\\shubh\\ineuron ml16\\ITP_pythonCore\n",
      "\n",
      "09-12-2024  04:54 PM    <DIR>          .\n",
      "05-12-2024  07:22 PM    <DIR>          ..\n",
      "26-10-2024  11:30 AM             5,010 assignments.ipynb\n",
      "09-12-2024  04:54 PM               901 file_handling.ipynb\n",
      "04-10-2024  05:28 PM            53,897 ITPM FINAL TEST QUESTION BANK.pdf\n",
      "07-12-2024  11:48 AM           368,823 oops.ipynb\n",
      "12-11-2024  03:52 PM             6,245 pattern_programing.ipynb\n",
      "09-12-2024  04:53 PM           121,620 practice-code.ipynb\n",
      "07-12-2024  10:37 AM            84,805 pyth interview ques.ipynb\n",
      "23-11-2024  10:58 AM             5,271 python ITPM test2.txt\n",
      "06-11-2024  03:53 PM           130,294 python the interview questions.pdf\n",
      "11-10-2024  12:41 PM            12,979 python_basic.ipynb\n",
      "18-10-2024  10:06 AM           103,162 Python-ppt (3).pptx\n",
      "09-12-2024  04:13 PM                24 sample.txt\n",
      "07-12-2024  12:17 PM             5,265 Shubham_Birari_Python_W_3 written.py\n",
      "07-12-2024  12:00 PM             5,454 Shubham_Birari_Python_W_3.txt\n",
      "07-12-2024  12:15 PM               125 tempCodeRunnerFile.py\n",
      "07-11-2024  02:10 PM            12,856 test3.ipynb\n",
      "              16 File(s)        916,731 bytes\n",
      "               2 Dir(s)  47,836,422,144 bytes free\n"
     ]
    }
   ],
   "source": [
    "%ls"
   ]
  },
  {
   "cell_type": "code",
   "execution_count": 3,
   "metadata": {},
   "outputs": [],
   "source": [
    "# one way is \n",
    "file  = open(\"sample.txt\" , \"w\")\n",
    "file.write(\"This is the  first line \")\n",
    "file.close()"
   ]
  },
  {
   "cell_type": "code",
   "execution_count": 7,
   "metadata": {},
   "outputs": [
    {
     "name": "stdout",
     "output_type": "stream",
     "text": [
      "\n"
     ]
    }
   ],
   "source": [
    "# Reading from a file\n",
    "with open(\"example.txt\", \"w+\") as file:\n",
    "    content = file.read()\n",
    "    print(content)\n",
    "# No need to explicitly call file.close() as it's handled by the with block\n"
   ]
  },
  {
   "cell_type": "code",
   "execution_count": 6,
   "metadata": {},
   "outputs": [],
   "source": [
    "import os"
   ]
  },
  {
   "cell_type": "code",
   "execution_count": 11,
   "metadata": {},
   "outputs": [],
   "source": [
    "os.remove(\"example.txt\")"
   ]
  },
  {
   "cell_type": "code",
   "execution_count": 21,
   "metadata": {},
   "outputs": [
    {
     "name": "stdout",
     "output_type": "stream",
     "text": [
      "you have succesful read file \n"
     ]
    }
   ],
   "source": [
    "try:\n",
    "    file = open(r\"C:\\Users\\shubh\\ineuron ml16\\ITP_pythonCore\\Shubham_Birari_Python_W_3.txt\" , \"r\")\n",
    "except Exception as e:\n",
    "    print(f\"write file first becaus :{e}\")\n",
    "else:\n",
    "    print(\"you have succesful read file \")\n",
    "finally:\n",
    "        try:\n",
    "            file.close()\n",
    "        except Exception as e:\n",
    "             print(f\"first creat file-Error:{e}\")\n",
    "\n",
    "##file is closed\n",
    "#cant do  this file.read() "
   ]
  },
  {
   "cell_type": "code",
   "execution_count": 35,
   "metadata": {},
   "outputs": [
    {
     "data": {
      "text/plain": [
       "'this is nothing...'"
      ]
     },
     "execution_count": 35,
     "metadata": {},
     "output_type": "execute_result"
    }
   ],
   "source": [
    "#if you are writing the file in write mode and \n",
    "file = open(\"sample.txt\", \"r+\") \n",
    "#file.write(\"this is nothing...\")\n",
    "\n",
    "# and now open in the read mode \n",
    "\n",
    "file.read()"
   ]
  },
  {
   "cell_type": "code",
   "execution_count": 36,
   "metadata": {},
   "outputs": [
    {
     "data": {
      "text/plain": [
       "''"
      ]
     },
     "execution_count": 36,
     "metadata": {},
     "output_type": "execute_result"
    }
   ],
   "source": [
    "file.read()"
   ]
  },
  {
   "cell_type": "code",
   "execution_count": 38,
   "metadata": {},
   "outputs": [
    {
     "data": {
      "text/plain": [
       "0"
      ]
     },
     "execution_count": 38,
     "metadata": {},
     "output_type": "execute_result"
    }
   ],
   "source": [
    "\n",
    "#it will not  give an error but show the blank  the  cursor is on the last while read so you want to \n",
    "# shift the position on begining to read data from the file\n",
    "\n",
    "file.seek(0)  # index 0 is the begining of the file\n",
    "\n",
    "\n"
   ]
  },
  {
   "cell_type": "code",
   "execution_count": null,
   "metadata": {},
   "outputs": [
    {
     "data": {
      "text/plain": [
       "'this is nothing...'"
      ]
     },
     "execution_count": 39,
     "metadata": {},
     "output_type": "execute_result"
    }
   ],
   "source": [
    "file.read()\n",
    "#now you  can read"
   ]
  },
  {
   "cell_type": "code",
   "execution_count": 3,
   "metadata": {},
   "outputs": [],
   "source": [
    "file.close()"
   ]
  },
  {
   "cell_type": "code",
   "execution_count": 40,
   "metadata": {},
   "outputs": [
    {
     "name": "stdout",
     "output_type": "stream",
     "text": [
      "this is nothing...\n"
     ]
    }
   ],
   "source": [
    "with open(\"sample.txt\", \"w+\") as file:\n",
    "    file.write(\"this is nothing...\")\n",
    "    file.seek(0)  # Move the cursor to the beginning of the file\n",
    "    data = file.read()\n",
    "    print(data)"
   ]
  },
  {
   "cell_type": "code",
   "execution_count": 1,
   "metadata": {},
   "outputs": [],
   "source": [
    "import os"
   ]
  },
  {
   "cell_type": "code",
   "execution_count": 3,
   "metadata": {},
   "outputs": [
    {
     "data": {
      "text/plain": [
       "'c:\\\\Users\\\\shubh\\\\ineuron ml16\\\\ITP_pythonCore'"
      ]
     },
     "execution_count": 3,
     "metadata": {},
     "output_type": "execute_result"
    }
   ],
   "source": [
    "os.getcwd()"
   ]
  },
  {
   "cell_type": "code",
   "execution_count": null,
   "metadata": {},
   "outputs": [],
   "source": [
    "import os\n",
    "\n",
    "class DataStorage:\n",
    "    def __init__(self, filename):\n",
    "        self.filename = filename\n",
    "        # Create the file if it doesn't exist\n",
    "        if not os.path.exists(filename):\n",
    "            open(filename, 'w').close()\n",
    "\n",
    "    def create(self, data):\n",
    "        with open(self.filename, 'a') as file:\n",
    "            file.write(data + '\\n')\n",
    "        print(\"Data added!\")\n",
    "\n",
    "    def read(self):\n",
    "        with open(self.filename, 'r') as file:\n",
    "            content = file.readlines()\n",
    "        if content:\n",
    "            for line in content:\n",
    "                print(line.strip())\n",
    "        else:\n",
    "            print(\"File is empty.\")\n",
    "\n",
    "    def update(self, old_data, new_data):\n",
    "        with open(self.filename, 'r') as file:\n",
    "            lines = file.readlines()\n",
    "\n",
    "        updated = False\n",
    "        with open(self.filename, 'w') as file:\n",
    "            for line in lines:\n",
    "                if line.strip() == old_data:\n",
    "                    file.write(new_data + '\\n')\n",
    "                    updated = True\n",
    "                else:\n",
    "                    file.write(line)\n",
    "\n",
    "        if updated:\n",
    "            print(\"Data updated!\")\n",
    "        else:\n",
    "            print(\"Data not found.\")\n",
    "\n",
    "    def delete(self, data_to_delete):\n",
    "        with open(self.filename, 'r') as file:\n",
    "            lines = file.readlines()\n",
    "\n",
    "        with open(self.filename, 'w') as file:\n",
    "            for line in lines:\n",
    "                if line.strip() != data_to_delete:\n",
    "                    file.write(line)\n",
    "\n",
    "        print(\"Data deleted if it existed!\")\n",
    "\n",
    "# Example Usage\n",
    "# storage = DataStorage(filename)\n",
    "# storage.create(\"John Doe, 30\")\n",
    "# storage.read()\n",
    "# storage.update(\"John Doe, 30\", \"John Doe, 31\")\n",
    "# storage.read()\n",
    "# storage.delete(\"John Doe, 31\")\n",
    "# storage.read()\n",
    "\n",
    "\n"
   ]
  },
  {
   "cell_type": "code",
   "execution_count": 10,
   "metadata": {},
   "outputs": [],
   "source": [
    "storage = DataStorage(filename='sample.txt')"
   ]
  },
  {
   "cell_type": "code",
   "execution_count": 13,
   "metadata": {},
   "outputs": [
    {
     "name": "stdout",
     "output_type": "stream",
     "text": [
      "Data added!\n"
     ]
    }
   ],
   "source": [
    "storage.create(\"john cena 55\")"
   ]
  },
  {
   "cell_type": "code",
   "execution_count": 15,
   "metadata": {},
   "outputs": [
    {
     "name": "stdout",
     "output_type": "stream",
     "text": [
      "shubham biarai 23\n",
      "ram kapoor 34\n",
      "sham sundar 43\n",
      "john cena 55\n"
     ]
    }
   ],
   "source": [
    "storage.read()"
   ]
  },
  {
   "cell_type": "code",
   "execution_count": 16,
   "metadata": {},
   "outputs": [
    {
     "name": "stdout",
     "output_type": "stream",
     "text": [
      "Data updated!\n"
     ]
    }
   ],
   "source": [
    "storage.update(\"john cena 55\", \"john cena 56\")"
   ]
  },
  {
   "cell_type": "code",
   "execution_count": 17,
   "metadata": {},
   "outputs": [
    {
     "name": "stdout",
     "output_type": "stream",
     "text": [
      "shubham biarai 23\n",
      "ram kapoor 34\n",
      "sham sundar 43\n",
      "john cena 56\n"
     ]
    }
   ],
   "source": [
    "storage.read()"
   ]
  },
  {
   "cell_type": "code",
   "execution_count": 18,
   "metadata": {},
   "outputs": [
    {
     "name": "stdout",
     "output_type": "stream",
     "text": [
      "Data deleted if it existed!\n"
     ]
    }
   ],
   "source": [
    "storage.delete(\"john cena 56\")"
   ]
  },
  {
   "cell_type": "code",
   "execution_count": 19,
   "metadata": {},
   "outputs": [
    {
     "name": "stdout",
     "output_type": "stream",
     "text": [
      "shubham biarai 23\n",
      "ram kapoor 34\n",
      "sham sundar 43\n"
     ]
    }
   ],
   "source": [
    "storage.read()"
   ]
  },
  {
   "cell_type": "code",
   "execution_count": null,
   "metadata": {},
   "outputs": [],
   "source": []
  }
 ],
 "metadata": {
  "kernelspec": {
   "display_name": "Python 3",
   "language": "python",
   "name": "python3"
  },
  "language_info": {
   "codemirror_mode": {
    "name": "ipython",
    "version": 3
   },
   "file_extension": ".py",
   "mimetype": "text/x-python",
   "name": "python",
   "nbconvert_exporter": "python",
   "pygments_lexer": "ipython3",
   "version": "3.12.5"
  }
 },
 "nbformat": 4,
 "nbformat_minor": 2
}

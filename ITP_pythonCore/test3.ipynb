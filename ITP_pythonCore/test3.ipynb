{
 "cells": [
  {
   "cell_type": "markdown",
   "metadata": {},
   "source": [
    "# Python Test 2"
   ]
  },
  {
   "cell_type": "code",
   "execution_count": 1,
   "metadata": {},
   "outputs": [],
   "source": [
    "# 1. WAP to  find the Frequency of Characters in a String**k"
   ]
  },
  {
   "cell_type": "code",
   "execution_count": 2,
   "metadata": {},
   "outputs": [],
   "source": [
    "str = \"this is the string\""
   ]
  },
  {
   "cell_type": "code",
   "execution_count": 3,
   "metadata": {},
   "outputs": [
    {
     "data": {
      "text/plain": [
       "3"
      ]
     },
     "execution_count": 3,
     "metadata": {},
     "output_type": "execute_result"
    }
   ],
   "source": [
    "str.count(\"i\")"
   ]
  },
  {
   "cell_type": "code",
   "execution_count": 5,
   "metadata": {},
   "outputs": [],
   "source": [
    "#2.  WAP to Check if Two Strings are Anagrams**"
   ]
  },
  {
   "cell_type": "code",
   "execution_count": 6,
   "metadata": {},
   "outputs": [
    {
     "name": "stdout",
     "output_type": "stream",
     "text": [
      "this is the string \n",
      " this is 2nd  string\n",
      "The strings are not anagrams.\n"
     ]
    }
   ],
   "source": [
    "\n",
    "str2 = \"this is 2nd  string\"\n",
    "print(str ,\"\\n\", str2)\n",
    "\n",
    "if sorted(str) == sorted(str2):\n",
    "    print(\"The strings are anagrams.\")\n",
    "else:\n",
    "    print(\"The strings are not anagrams.\")\n",
    "\n"
   ]
  },
  {
   "cell_type": "code",
   "execution_count": 7,
   "metadata": {},
   "outputs": [],
   "source": [
    "#3. WAP to Find the Second Largest Element in a List"
   ]
  },
  {
   "cell_type": "code",
   "execution_count": 8,
   "metadata": {},
   "outputs": [],
   "source": [
    "list = [21,32,333,231,31]"
   ]
  },
  {
   "cell_type": "code",
   "execution_count": null,
   "metadata": {},
   "outputs": [],
   "source": [
    "# for i in list:\n",
    "#     if i < "
   ]
  },
  {
   "cell_type": "code",
   "execution_count": 11,
   "metadata": {},
   "outputs": [],
   "source": [
    "# List into Even and Odd Numbers**"
   ]
  },
  {
   "cell_type": "code",
   "execution_count": 12,
   "metadata": {},
   "outputs": [],
   "source": [
    "list2 = [123,32,33,343,65,13,68,80,46,43]"
   ]
  },
  {
   "cell_type": "code",
   "execution_count": 14,
   "metadata": {},
   "outputs": [
    {
     "name": "stdout",
     "output_type": "stream",
     "text": [
      "[32, 68, 80, 46]\n",
      "[123, 33, 343, 65, 13, 43]\n"
     ]
    }
   ],
   "source": [
    "even_numbers = []\n",
    "odd_numbers = []\n",
    "\n",
    "for i in list2:\n",
    "    if  i % 2 == 0:\n",
    "        even_numbers.append(i)\n",
    "    else:\n",
    "        odd_numbers.append(i)\n",
    "\n",
    "print(even_numbers)\n",
    "print(odd_numbers)\n",
    "\n"
   ]
  },
  {
   "cell_type": "code",
   "execution_count": 15,
   "metadata": {},
   "outputs": [],
   "source": [
    "#5. WAP to Sort a List Without Using the `sort()` Method"
   ]
  },
  {
   "cell_type": "code",
   "execution_count": 30,
   "metadata": {},
   "outputs": [],
   "source": [
    "list2 = [123,32,33,343,65,13,68,80,46,43]"
   ]
  },
  {
   "cell_type": "code",
   "execution_count": 34,
   "metadata": {},
   "outputs": [],
   "source": [
    "list3 = list2.copy()"
   ]
  },
  {
   "cell_type": "code",
   "execution_count": 35,
   "metadata": {},
   "outputs": [
    {
     "data": {
      "text/plain": [
       "[123, 32, 33, 343, 65, 13, 68, 80, 46, 43]"
      ]
     },
     "execution_count": 35,
     "metadata": {},
     "output_type": "execute_result"
    }
   ],
   "source": [
    "list3"
   ]
  },
  {
   "cell_type": "code",
   "execution_count": null,
   "metadata": {},
   "outputs": [],
   "source": []
  },
  {
   "cell_type": "code",
   "execution_count": 36,
   "metadata": {},
   "outputs": [],
   "source": [
    "accen_order =[]\n",
    "while list3:\n",
    "    min_value = min(list3)\n",
    "    accen_order.append(min_value)\n",
    "    list3.remove(min_value)\n",
    "\n"
   ]
  },
  {
   "cell_type": "code",
   "execution_count": 37,
   "metadata": {},
   "outputs": [
    {
     "name": "stdout",
     "output_type": "stream",
     "text": [
      "[13, 32, 33, 43, 46, 65, 68, 80, 123, 343]\n"
     ]
    }
   ],
   "source": [
    "print(accen_order)"
   ]
  },
  {
   "cell_type": "code",
   "execution_count": 18,
   "metadata": {},
   "outputs": [],
   "source": [
    "#6. WAP to Count the Number of Unique Elements in a List**"
   ]
  },
  {
   "cell_type": "code",
   "execution_count": 45,
   "metadata": {},
   "outputs": [],
   "source": [
    "list4 = [12,12,43,54,45,45,67,77,77,86,67,767]"
   ]
  },
  {
   "cell_type": "code",
   "execution_count": 46,
   "metadata": {},
   "outputs": [
    {
     "data": {
      "text/plain": [
       "{12, 43, 45, 54, 67, 77, 86, 767}"
      ]
     },
     "execution_count": 46,
     "metadata": {},
     "output_type": "execute_result"
    }
   ],
   "source": [
    "set(list4)"
   ]
  },
  {
   "cell_type": "code",
   "execution_count": 48,
   "metadata": {},
   "outputs": [
    {
     "data": {
      "text/plain": [
       "8"
      ]
     },
     "execution_count": 48,
     "metadata": {},
     "output_type": "execute_result"
    }
   ],
   "source": [
    "len(set(list4))"
   ]
  },
  {
   "cell_type": "code",
   "execution_count": 49,
   "metadata": {},
   "outputs": [],
   "source": [
    "#WAP to Iterate Over a Set and Print Each Element**"
   ]
  },
  {
   "cell_type": "code",
   "execution_count": 51,
   "metadata": {},
   "outputs": [],
   "source": [
    "set = {12,23,1323,\"shubham\"  , 123,123}"
   ]
  },
  {
   "cell_type": "code",
   "execution_count": 52,
   "metadata": {},
   "outputs": [
    {
     "name": "stdout",
     "output_type": "stream",
     "text": [
      "shubham\n",
      "23\n",
      "123\n",
      "1323\n",
      "12\n"
     ]
    }
   ],
   "source": [
    "for i in set:\n",
    "    print(i)\n",
    "    "
   ]
  },
  {
   "cell_type": "code",
   "execution_count": 53,
   "metadata": {},
   "outputs": [],
   "source": [
    "#8. WAP to Concatenate Two Tuples**"
   ]
  },
  {
   "cell_type": "code",
   "execution_count": 54,
   "metadata": {},
   "outputs": [],
   "source": [
    "tuple = (123,2323,\"shubh\" , 123, 34)\n",
    "tuple2 = (3123,411,454,\"ram\")"
   ]
  },
  {
   "cell_type": "code",
   "execution_count": 55,
   "metadata": {},
   "outputs": [
    {
     "data": {
      "text/plain": [
       "(123, 2323, 'shubh', 123, 34, 3123, 411, 454, 'ram')"
      ]
     },
     "execution_count": 55,
     "metadata": {},
     "output_type": "execute_result"
    }
   ],
   "source": [
    "tuple+tuple2"
   ]
  },
  {
   "cell_type": "code",
   "execution_count": 56,
   "metadata": {},
   "outputs": [],
   "source": [
    "# WAP to Check if Two Tuples are Identical"
   ]
  },
  {
   "cell_type": "code",
   "execution_count": 57,
   "metadata": {},
   "outputs": [
    {
     "name": "stdout",
     "output_type": "stream",
     "text": [
      "not  identical\n"
     ]
    }
   ],
   "source": [
    "if tuple == tuple2:\n",
    "    print(\"Identical\")\n",
    "else:\n",
    "    print(\"not  identical\")"
   ]
  },
  {
   "cell_type": "code",
   "execution_count": 58,
   "metadata": {},
   "outputs": [],
   "source": [
    "#WAP to Count the Frequency of Each Character in a String Using a Dictionary"
   ]
  },
  {
   "cell_type": "code",
   "execution_count": 60,
   "metadata": {},
   "outputs": [
    {
     "data": {
      "text/plain": [
       "'this is the string'"
      ]
     },
     "execution_count": 60,
     "metadata": {},
     "output_type": "execute_result"
    }
   ],
   "source": [
    "str"
   ]
  },
  {
   "cell_type": "code",
   "execution_count": 70,
   "metadata": {},
   "outputs": [
    {
     "name": "stdout",
     "output_type": "stream",
     "text": [
      "t : 3\n",
      "h : 2\n",
      "i : 3\n",
      "s : 3\n",
      "  : 3\n",
      "i : 3\n",
      "s : 3\n",
      "  : 3\n",
      "t : 3\n",
      "h : 2\n",
      "e : 1\n",
      "  : 3\n",
      "s : 3\n",
      "t : 3\n",
      "r : 1\n",
      "i : 3\n",
      "n : 1\n",
      "g : 1\n"
     ]
    }
   ],
   "source": [
    "for i in str:\n",
    "   print(i,\":\" , str.count(i) )"
   ]
  },
  {
   "cell_type": "code",
   "execution_count": 71,
   "metadata": {},
   "outputs": [],
   "source": [
    "#11. Explain in detail operators in python."
   ]
  },
  {
   "cell_type": "markdown",
   "metadata": {},
   "source": [
    "### \n",
    "\n",
    "Arithmetic Operators:\n",
    "+, -, *, /, % \n",
    "\n",
    "Comparison Operators: Compare two values, returning True or False.\n",
    "==, !=, >, <, >=, <= \n",
    "\n",
    "Logical Operators: Combine conditional statements.\n",
    "and, or, not\n",
    "Assignment Operators: Assign values to variables.\n",
    "=, +=, -=, *=, /= \n",
    "\n",
    "Bitwise Operators: Perform bit-level operations.\n",
    "&, |, ^, ~, <<, >> \n",
    "\n",
    "Identity Operators: Check if two variables point to the same object.\n",
    "is, is not "
   ]
  },
  {
   "cell_type": "code",
   "execution_count": 74,
   "metadata": {},
   "outputs": [
    {
     "name": "stdout",
     "output_type": "stream",
     "text": [
      "13 7 30 3.3333333333333335 1 False True True False 5 20 True True True 12.0 2 11 9 -11 20 5 True True True True\n"
     ]
    }
   ],
   "source": [
    "# Arithmetic Operators\n",
    "a = 10\n",
    "b = 3\n",
    "c = a + b\n",
    "d = a - b\n",
    "e = a * b\n",
    "f = a / b\n",
    "g = a % b\n",
    "\n",
    "# Comparison Operators\n",
    "x = (a == b)\n",
    "y = (a != b)\n",
    "z = (a > b)\n",
    "w = (a < b)\n",
    "v = (a >= b)\n",
    "u = (a <= b)\n",
    "\n",
    "# Logical Operators\n",
    "m = (a > b and b < 5)\n",
    "n = (a < b or b < 5)\n",
    "o = not (a == b)\n",
    "\n",
    "# Assignment Operators\n",
    "p = 5\n",
    "p += 3\n",
    "p -= 2\n",
    "p *= 4\n",
    "p /= 2\n",
    "\n",
    "# Bitwise Operators\n",
    "q = a & b\n",
    "r = a | b\n",
    "s = a ^ b\n",
    "t = ~a\n",
    "u = a << 1\n",
    "v = a >> 1\n",
    "\n",
    "# Membership Operators\n",
    "list_example = [1, 2, 3, 4, 5]\n",
    "check_in = 3 in list_example\n",
    "check_not_in = 10 not in list_example\n",
    "\n",
    "# Identity Operators\n",
    "a_list = [1, 2, 3]\n",
    "b_list = a_list\n",
    "c_list = [1, 2, 3]\n",
    "is_same = a_list is b_list\n",
    "is_not_same = a_list is not c_list\n",
    "\n",
    "print(c, d, e, f, g, x, y, z, w, v, u, m, n, o, p, q, r, s, t, u, v, check_in, check_not_in, is_same, is_not_same)\n"
   ]
  },
  {
   "cell_type": "code",
   "execution_count": 73,
   "metadata": {},
   "outputs": [],
   "source": [
    "#12.Explain in detail features,advantages and disadvantages of python"
   ]
  },
  {
   "cell_type": "markdown",
   "metadata": {},
   "source": [
    "### \n",
    "Features:\n",
    "\n",
    "1. Easy to use and Read - Python's syntax is clear and easy to read, making it an ideal language for both beginners and experienced programmers. \n",
    "2. Dynamically Typed - The data types of variables are determined during run-time. We do not need to specify the data type of a variable during writing codes.\n",
    "3. High-level - High-level language means human readable code.\n",
    "Interpreted language: Python is an interpreted language, which means that the code is run line by line.\n",
    "4. Object-Oriented Programming Language - It supports  abstraction, encapsulation, inheritance, and polymorphism which is considered important by the Python coder.\n",
    "\n",
    "Adventages:\n",
    "\n",
    "1. Presence of third-party modules \n",
    "2. Extensive support libraries(NumPy for numerical calculations, Pandas for data analytics etc) \n",
    "3. Open source and community development \n",
    "4. Versatile, Easy to read, learn and write\n",
    "5. User-friendly data structures \n",
    "6. High-level language \n",
    "\n",
    "Disadventages:\n",
    "\n",
    "1. Lack of Standardized Design Patterns\n",
    "2. No Built-In Database Management System\n",
    "3. Not Well Suited For Large Applications\n",
    "4. Poor Security Features\n",
    "5 . Weak in Mobile Computing\n"
   ]
  },
  {
   "cell_type": "markdown",
   "metadata": {},
   "source": []
  }
 ],
 "metadata": {
  "kernelspec": {
   "display_name": "Python 3",
   "language": "python",
   "name": "python3"
  },
  "language_info": {
   "codemirror_mode": {
    "name": "ipython",
    "version": 3
   },
   "file_extension": ".py",
   "mimetype": "text/x-python",
   "name": "python",
   "nbconvert_exporter": "python",
   "pygments_lexer": "ipython3",
   "version": "3.12.5"
  }
 },
 "nbformat": 4,
 "nbformat_minor": 2
}

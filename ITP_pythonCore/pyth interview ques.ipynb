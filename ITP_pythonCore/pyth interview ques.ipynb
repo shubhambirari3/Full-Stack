{
 "cells": [
  {
   "cell_type": "code",
   "execution_count": 14,
   "metadata": {},
   "outputs": [],
   "source": [
    "# practice code !!! "
   ]
  },
  {
   "cell_type": "markdown",
   "metadata": {},
   "source": [
    "###\n",
    "\n",
    "\n",
    "1\n",
    "Here are the interview questions: \n",
    "1.String : \n",
    "1. **Reverse a String** \n",
    "2. **Check if a String is a Palindrome** \n",
    "3. **Count the Number of Vowels in a String** \n",
    "4. **Find the Frequency of Characters in a String** \n",
    "5. **Check if Two Strings are Anagrams** \n",
    "6. **Remove Duplicate Characters from a String** \n",
    "7. **Check if a String Contains Only Digits** \n",
    "8. **Convert the First Letter of Each Word to Uppercase** \n",
    "2.List: \n",
    "1. **Reverse a List Without Using Built-in Functions** \n",
    "2. **Find the Largest and Smallest Elements in a List** \n",
    "3. **Remove Duplicates from a List** \n",
    "4. **Check if a List is Empty** \n",
    "5. **Find the Second Largest Element in a List** \n",
    "6. **Count the Frequency of Each Element in a List** \n",
    "7. **Flatten a Nested List** \n",
    "8. **Merge Two Lists and Remove Duplicates** \n",
    "9. **Find the Intersection of Two Lists** \n",
    "10. **Rotate a List by `n` Positions** \n",
    "11. **Check if Two Lists are Identical** \n",
    "12. **Split a List into Even and Odd Numbers** \n",
    "13. **Find the Cumulative Sum of a List** \n",
    "14. **Sort a List Without Using the `sort()` Method** \n",
    "15. **Find All Pairs in a List That Sum Up to a Given Number** \n",
    " \n",
    "3.Set: \n",
    "1. **Remove Duplicates from a List Using a Set** \n",
    "2. **Find the Union of Two Sets** \n",
    "3. **Find the Intersection of Two Sets** \n",
    "4. **Find the Difference Between Two Sets** \n",
    "5. **Check if a Set is a Subset of Another Set** \n",
    "6. **Check if Two Sets are Disjoint** \n",
    "7. **Remove an Element from a Set** \n",
    "8. **Add an Element to a Set** \n",
    "9. **Find the Symmetric Difference Between Two Sets** \n",
    "10. **Check if a Set is Empty** \n",
    "11. **Convert a List to a Set and Vice Versa** \n",
    "12. **Check if Two Sets are Equal** \n",
    "13. **Get All Unique Characters from a String Using a Set** \n",
    "14. **Count the Number of Unique Elements in a List** \n",
    "15. **Iterate Over a Set and Print Each Element** \n",
    " \n",
    "4. **Tuple Questions:** \n",
    "1. **Access Elements in a Tuple** \n",
    "2. **Check if an Element Exists in a Tuple** \n",
    "3. **Count the Occurrences of an Element in a Tuple** \n",
    "4. **Find the Index of an Element in a Tuple** \n",
    "5. **Convert a List to a Tuple and Vice Versa** \n",
    "6. **Unpack a Tuple into Variables** \n",
    "7. **Concatenate Two Tuples** \n",
    "8. **Check if Two Tuples are Identical** \n",
    "9. **Sort a Tuple** \n",
    "10. **Find the Length of a Tuple** \n",
    "11. **Create a Tuple with Single Element (and Explain the Syntax)** \n",
    "12. **Reverse a Tuple** \n",
    "13. **Convert a Tuple of Tuples to a Single Tuple** \n",
    "14. **Iterate Over a Tuple and Print Each Element** \n",
    "15. **Create a Tuple Without Using Parentheses (Tuple Packing)** \n",
    " \n",
    "5. **Dictionary Questions:** \n",
    "1. **Access the Value Associated with a Key** \n",
    "2. **Check if a Key Exists in a Dictionary** \n",
    "3. **Iterate Over a Dictionary and Print All Key-Value Pairs** \n",
    "4. **Merge Two Dictionaries** \n",
    "5. **Remove a Key from a Dictionary** \n",
    "6. **Find the Maximum and Minimum Values in a Dictionary** \n",
    "7. **Sort a Dictionary by Keys or Values** \n",
    "8. **Convert Two Lists (Keys and Values) into a Dictionary** \n",
    "9. **Get a List of All Keys and Values Separately** \n",
    "10. **Count the Frequency of Each Character in a String Using a Dictionary** \n",
    "11. **Update the Value of an Existing Key in a Dictionary** \n",
    "12. **Get the Default Value for a Non-Existent Key Without Raising an Error** \n",
    "13. **Reverse the Keys and Values in a Dictionary** \n",
    "14. **Create a Dictionary Using Dictionary Comprehension** \n",
    "15. **Remove All Entries from a Dictionary (Clear the Dictionary)** \n",
    " \n",
    " \n",
    " \n",
    " \n",
    "`if-else` statements question: \n",
    " \n",
    "1. **Check if a Number is Positive, Negative, or Zero** \n",
    "2. **Determine if a Person is Eligible to Vote Based on Age** \n",
    "3. **Check if a Year is a Leap Year** \n",
    "4. **Find the Largest of Three Numbers** \n",
    "5. **Check if a Character is a Vowel or Consonant** \n",
    "6. **Determine if a Given Number is Even or Odd** \n",
    "7. **Check if a String is Empty or Not** \n",
    "8. **Determine the Grade Based on a Score (e.g., A, B, C, D, F)** \n",
    "9. **Check if Two Numbers are Equal, Greater, or Lesser** \n",
    "10. **Check if a Number is Divisible by Both 3 and 5** \n",
    "11. **Implement a Simple Calculator Using `if-elif-else` Statements** \n",
    "12. **Check if a Number is Within a Certain Range (e.g., between 1 and 100)** \n",
    "13. **Determine if a String Starts with a Vowel** \n",
    "14. **Check if a Given Year is a Century Year** \n",
    "15. **Determine if a Person is a Child, Teen, or Adult Based on Age** \n",
    " \n",
    " For Loop Questions:\n",
    "\n",
    "1. **Print All Elements in a List Using a For Loop** \n",
    "2. **Calculate the Sum of All Numbers in a List** \n",
    "3. **Find the Factorial of a Given Number** \n",
    "4. **Print the Multiplication Table of a Given Number** \n",
    "5. **Print the Fibonacci Sequence Up to `n` Terms** \n",
    "6. **Count the Number of Even and Odd Numbers in a List** \n",
    "7. **Reverse a String Using a For Loop** \n",
    "8. **Find the Maximum and Minimum Values in a List** \n",
    "9. **Print All Prime Numbers Within a Given Range** \n",
    "10. **Iterate Over a Dictionary and Print Each Key-Value Pair** \n",
    "11. **Find the Length of Each Word in a List of Strings** \n",
    "12. **Create a List of Squares for Numbers From 1 to 10** \n",
    "13. **Filter Out Only Positive Numbers From a List** \n",
    "14. **Print Each Character of a String Separately** \n",
    "15. **Check if an Element Exists in a List Without Using the `in` Keyword** \n",
    " \n",
    "While Loop Questions:\n",
    "\n",
    "1. **Print Numbers From 1 to 10 Using a While Loop** \n",
    "2. **Calculate the Sum of Digits of a Given Number** \n",
    "3. **Reverse a Number Using a While Loop** \n",
    "4. **Print a Countdown From 10 to 1** \n",
    "5. **Find the Greatest Common Divisor (GCD) of Two Numbers** \n",
    "6. **Keep Taking Input From the User Until They Enter 'exit'** \n",
    "7. **Check if a Number is a Palindrome** \n",
    "8. **Generate the Fibonacci Sequence Until a Specified Number** \n",
    "9. **Calculate the Power of a Number Without Using the `**` Operator** \n",
    "10. **Print All Even Numbers Between 1 and 100** \n",
    "11. **Sum of Natural Numbers Until a Given Number** \n",
    "12. **Implement a Simple Menu-Driven Program Using While Loop** \n",
    "13. **Simulate a Basic Password Check That Limits to 3 Attempts** \n",
    "14. **Keep Multiplying a Number by 2 Until It Becomes Greater Than 1000** \n",
    "15. **Print the Digits of a Number in Reverse Order** \n",
    " \n",
    " \n",
    " \n",
    " \n",
    " "
   ]
  },
  {
   "cell_type": "markdown",
   "metadata": {},
   "source": [
    "1.String : \n",
    "1. **Reverse a String** \n",
    "2. **Check if a String is a Palindrome** \n",
    "3. **Count the Number of Vowels in a String** \n",
    "4. **Find the Frequency of Characters in a String** \n",
    "5. **Check if Two Strings are Anagrams** \n",
    "6. **Remove Duplicate Characters from a String** \n",
    "7. **Check if a String Contains Only Digits** \n",
    "8. **Convert the First Letter of Each Word to Uppercase**"
   ]
  },
  {
   "cell_type": "code",
   "execution_count": 8,
   "metadata": {},
   "outputs": [
    {
     "data": {
      "text/plain": [
       "9"
      ]
     },
     "execution_count": 8,
     "metadata": {},
     "output_type": "execute_result"
    }
   ],
   "source": [
    "#Calculate the Power of a Number Without Using the `` Operator**\n",
    "#===========================================================\n",
    "pow(3,2)"
   ]
  },
  {
   "cell_type": "code",
   "execution_count": 2,
   "metadata": {},
   "outputs": [],
   "source": [
    "str = \"My name is shubham\""
   ]
  },
  {
   "cell_type": "code",
   "execution_count": 5,
   "metadata": {},
   "outputs": [
    {
     "data": {
      "text/plain": [
       "'mahbuhs si eman yM'"
      ]
     },
     "execution_count": 5,
     "metadata": {},
     "output_type": "execute_result"
    }
   ],
   "source": [
    "str[::-1]"
   ]
  },
  {
   "cell_type": "code",
   "execution_count": 4,
   "metadata": {},
   "outputs": [
    {
     "data": {
      "text/plain": [
       "'tenet'"
      ]
     },
     "execution_count": 4,
     "metadata": {},
     "output_type": "execute_result"
    }
   ],
   "source": [
    "\"\".join(reversed(str2))"
   ]
  },
  {
   "cell_type": "code",
   "execution_count": 3,
   "metadata": {},
   "outputs": [
    {
     "data": {
      "text/plain": [
       "True"
      ]
     },
     "execution_count": 3,
     "metadata": {},
     "output_type": "execute_result"
    }
   ],
   "source": [
    "str2 == str2[::-1]"
   ]
  },
  {
   "cell_type": "code",
   "execution_count": 2,
   "metadata": {},
   "outputs": [
    {
     "name": "stdout",
     "output_type": "stream",
     "text": [
      "it is palindrom\n"
     ]
    }
   ],
   "source": [
    "str2 = \"tenet\"\n",
    "if str2 == \"\".join(reversed(str2)):\n",
    "    print(\"it is palindrom\")\n",
    "else:\n",
    "    print(\"it is not palindrom\")"
   ]
  },
  {
   "cell_type": "code",
   "execution_count": 28,
   "metadata": {},
   "outputs": [
    {
     "data": {
      "text/plain": [
       "5"
      ]
     },
     "execution_count": 28,
     "metadata": {},
     "output_type": "execute_result"
    }
   ],
   "source": [
    "#3. **Count the Number of Vowels in a String** \n",
    "\n",
    "str = \"my name is shubham\"\n",
    "vowels = \"aeiouAEIOU\"\n",
    "count = []\n",
    "for i in str:\n",
    "    if i in vowels:\n",
    "        count.append(i)\n",
    "\n",
    "len(count)\n"
   ]
  },
  {
   "cell_type": "code",
   "execution_count": 29,
   "metadata": {},
   "outputs": [
    {
     "data": {
      "text/plain": [
       "2"
      ]
     },
     "execution_count": 29,
     "metadata": {},
     "output_type": "execute_result"
    }
   ],
   "source": [
    "#4. **Find the Frequency of Characters in a String** \n",
    "str.count(\"a\")"
   ]
  },
  {
   "cell_type": "code",
   "execution_count": 1,
   "metadata": {},
   "outputs": [
    {
     "name": "stdout",
     "output_type": "stream",
     "text": [
      "The strings are anagrams.\n"
     ]
    }
   ],
   "source": [
    "5.# **Check if Two Strings are Anagrams** \n",
    "str1 = \"listen\"\n",
    "str2 = \"silent\"\n",
    "\n",
    "# Convert both strings to lowercase and sort the characters\n",
    "is_anagram = sorted(str1.lower()) == sorted(str2.lower())\n",
    "\n",
    "# Output the result\n",
    "print(\"The strings are anagrams.\" if is_anagram else \"The strings are not anagrams.\")\n"
   ]
  },
  {
   "cell_type": "code",
   "execution_count": 2,
   "metadata": {},
   "outputs": [
    {
     "data": {
      "text/plain": [
       "'listen'"
      ]
     },
     "execution_count": 2,
     "metadata": {},
     "output_type": "execute_result"
    }
   ],
   "source": [
    "str1"
   ]
  },
  {
   "cell_type": "code",
   "execution_count": 3,
   "metadata": {},
   "outputs": [
    {
     "data": {
      "text/plain": [
       "'listen'"
      ]
     },
     "execution_count": 3,
     "metadata": {},
     "output_type": "execute_result"
    }
   ],
   "source": [
    "str1.lower()"
   ]
  },
  {
   "cell_type": "code",
   "execution_count": 5,
   "metadata": {},
   "outputs": [
    {
     "data": {
      "text/plain": [
       "True"
      ]
     },
     "execution_count": 5,
     "metadata": {},
     "output_type": "execute_result"
    }
   ],
   "source": [
    "sorted(str1.lower())==sorted(str2.lower())"
   ]
  },
  {
   "cell_type": "code",
   "execution_count": null,
   "metadata": {},
   "outputs": [],
   "source": []
  },
  {
   "cell_type": "code",
   "execution_count": null,
   "metadata": {},
   "outputs": [],
   "source": []
  },
  {
   "cell_type": "code",
   "execution_count": 9,
   "metadata": {},
   "outputs": [],
   "source": [
    "#6. **Remove Duplicate Characters from a String** \n",
    "strg = \"shubham_birari\""
   ]
  },
  {
   "cell_type": "code",
   "execution_count": 10,
   "metadata": {},
   "outputs": [
    {
     "data": {
      "text/plain": [
       "'shubam_ir'"
      ]
     },
     "execution_count": 10,
     "metadata": {},
     "output_type": "execute_result"
    }
   ],
   "source": [
    "new_str = \"\"\n",
    "\n",
    "for i in strg:\n",
    "    if i not in new_str:\n",
    "        new_str += i\n",
    "\n",
    "new_str"
   ]
  },
  {
   "cell_type": "code",
   "execution_count": 11,
   "metadata": {},
   "outputs": [
    {
     "data": {
      "text/plain": [
       "{'_', 'a', 'b', 'h', 'i', 'm', 'r', 's', 'u'}"
      ]
     },
     "execution_count": 11,
     "metadata": {},
     "output_type": "execute_result"
    }
   ],
   "source": [
    "set(strg)"
   ]
  },
  {
   "cell_type": "code",
   "execution_count": 38,
   "metadata": {},
   "outputs": [
    {
     "data": {
      "text/plain": [
       "False"
      ]
     },
     "execution_count": 38,
     "metadata": {},
     "output_type": "execute_result"
    }
   ],
   "source": [
    "#7. **Check if a String Contains Only Digits** \n",
    "str3 = \"james bond 007\"\n",
    "str.isnumeric()"
   ]
  },
  {
   "cell_type": "code",
   "execution_count": 39,
   "metadata": {},
   "outputs": [
    {
     "data": {
      "text/plain": [
       "'my name is shubham'"
      ]
     },
     "execution_count": 39,
     "metadata": {},
     "output_type": "execute_result"
    }
   ],
   "source": [
    "#8. **Convert the First Letter of Each Word to Uppercase**\n",
    "\n",
    "str"
   ]
  },
  {
   "cell_type": "code",
   "execution_count": 42,
   "metadata": {},
   "outputs": [
    {
     "data": {
      "text/plain": [
       "'My Name Is Shubham'"
      ]
     },
     "execution_count": 42,
     "metadata": {},
     "output_type": "execute_result"
    }
   ],
   "source": [
    "str.title()"
   ]
  },
  {
   "cell_type": "markdown",
   "metadata": {},
   "source": [
    "### \n",
    "2.List: \n",
    "1. **Reverse a List Without Using Built-in Functions** \n",
    "2. **Find the Largest and Smallest Elements in a List** \n",
    "3. **Remove Duplicates from a List** \n",
    "4. **Check if a List is Empty** \n",
    "5. **Find the Second Largest Element in a List** \n",
    "6. **Count the Frequency of Each Element in a List** \n",
    "7. **Flatten a Nested List** \n",
    "8. **Merge Two Lists and Remove Duplicates** \n",
    "9. **Find the Intersection of Two Lists** \n",
    "10. **Rotate a List by `n` Positions** \n",
    "11. **Check if Two Lists are Identical** \n",
    "12. **Split a List into Even and Odd Numbers** \n",
    "13. **Find the Cumulative Sum of a List** \n",
    "14. **Sort a List Without Using the `sort()` Method** \n",
    "15. **Find All Pairs in a List That Sum Up to a Given Number** \n",
    " \n"
   ]
  },
  {
   "cell_type": "code",
   "execution_count": 18,
   "metadata": {},
   "outputs": [],
   "source": [
    "#rotate a list by n \n",
    "lis2 = [12,32,44,55,56]\n",
    "#be sure n is less than the length of the list\n",
    "n = 2\n",
    "# rotate the list to the right by n places\n",
    "lis2_right = lis2[-n:] + lis2[:-n]\n",
    "# by left rotation\n",
    "lis2_left = lis2[n:] + lis2[:n]\n"
   ]
  },
  {
   "cell_type": "code",
   "execution_count": 19,
   "metadata": {},
   "outputs": [
    {
     "data": {
      "text/plain": [
       "[44, 55, 56]"
      ]
     },
     "execution_count": 19,
     "metadata": {},
     "output_type": "execute_result"
    }
   ],
   "source": [
    "lis2[2:]"
   ]
  },
  {
   "cell_type": "code",
   "execution_count": 20,
   "metadata": {},
   "outputs": [
    {
     "data": {
      "text/plain": [
       "[12, 32]"
      ]
     },
     "execution_count": 20,
     "metadata": {},
     "output_type": "execute_result"
    }
   ],
   "source": [
    "lis2[:2]"
   ]
  },
  {
   "cell_type": "code",
   "execution_count": 17,
   "metadata": {},
   "outputs": [
    {
     "name": "stdout",
     "output_type": "stream",
     "text": [
      "[44, 55, 56, 12, 32]\n",
      "[55, 56, 12, 32, 44]\n"
     ]
    }
   ],
   "source": [
    "print(lis2_left)\n",
    "print(lis2_right)"
   ]
  },
  {
   "cell_type": "code",
   "execution_count": 1,
   "metadata": {},
   "outputs": [],
   "source": [
    "list = [123,3,1233,525,56,234]"
   ]
  },
  {
   "cell_type": "code",
   "execution_count": 5,
   "metadata": {},
   "outputs": [
    {
     "name": "stdout",
     "output_type": "stream",
     "text": [
      "[234, 56, 525, 1233, 3, 123]\n"
     ]
    }
   ],
   "source": [
    "list.reverse()\n",
    "print(list)"
   ]
  },
  {
   "cell_type": "code",
   "execution_count": 9,
   "metadata": {},
   "outputs": [
    {
     "name": "stdout",
     "output_type": "stream",
     "text": [
      "3\n",
      "1233\n"
     ]
    }
   ],
   "source": [
    "print(min(list))\n",
    "print(max(list))"
   ]
  },
  {
   "cell_type": "code",
   "execution_count": 12,
   "metadata": {},
   "outputs": [
    {
     "data": {
      "text/plain": [
       "{2, 23, 33, 34, 45, 56, 67}"
      ]
     },
     "execution_count": 12,
     "metadata": {},
     "output_type": "execute_result"
    }
   ],
   "source": [
    "#. **Remove Duplicates from a List**\n",
    "list2 = [2,23,23,33,33,34,45,56,67]\n",
    "new_list = set(list2)\n",
    "new_list"
   ]
  },
  {
   "cell_type": "code",
   "execution_count": 13,
   "metadata": {},
   "outputs": [
    {
     "data": {
      "text/plain": [
       "set"
      ]
     },
     "execution_count": 13,
     "metadata": {},
     "output_type": "execute_result"
    }
   ],
   "source": [
    "type(new_list)"
   ]
  },
  {
   "cell_type": "code",
   "execution_count": 14,
   "metadata": {},
   "outputs": [
    {
     "data": {
      "text/plain": [
       "[33, 2, 34, 67, 45, 23, 56]"
      ]
     },
     "execution_count": 14,
     "metadata": {},
     "output_type": "execute_result"
    }
   ],
   "source": [
    "list(new_list)"
   ]
  },
  {
   "cell_type": "code",
   "execution_count": null,
   "metadata": {},
   "outputs": [],
   "source": []
  },
  {
   "cell_type": "code",
   "execution_count": 24,
   "metadata": {},
   "outputs": [
    {
     "name": "stdout",
     "output_type": "stream",
     "text": [
      "[2, 23, 33, 34, 45, 56, 67]\n"
     ]
    }
   ],
   "source": [
    "new_list2 = []\n",
    "list2 = [2,23,23,33,33,34,45,56,67]\n",
    "for i in list2:\n",
    "    if i not in new_list2:\n",
    "        new_list2.append(i)\n",
    "    \n",
    "\n",
    "print(new_list2)\n",
    "    "
   ]
  },
  {
   "cell_type": "code",
   "execution_count": 28,
   "metadata": {},
   "outputs": [
    {
     "name": "stdout",
     "output_type": "stream",
     "text": [
      "The list is not empty\n"
     ]
    }
   ],
   "source": [
    "#Check if a List is Empty** \n",
    "if len(list) == 0:\n",
    "    print(\"The list is empty\")\n",
    "else:\n",
    "    print(\"The list is not empty\")"
   ]
  },
  {
   "cell_type": "code",
   "execution_count": 32,
   "metadata": {},
   "outputs": [
    {
     "name": "stdout",
     "output_type": "stream",
     "text": [
      "[2, 23, 23, 33, 33, 34, 45, 56, 67]\n",
      "The second largest element is: 56\n"
     ]
    }
   ],
   "source": [
    "#*Find the Second Largest Element in a List** \n",
    "print(list2)\n",
    "unique_sorted_list = sorted(set(list2))\n",
    "if len(unique_sorted_list) < 2:\n",
    "    print(\"The list does not have a second largest element.\")\n",
    "else:\n",
    "    print(\"The second largest element is:\", unique_sorted_list[-2])"
   ]
  },
  {
   "cell_type": "code",
   "execution_count": 6,
   "metadata": {},
   "outputs": [
    {
     "name": "stdout",
     "output_type": "stream",
     "text": [
      "[2, 23, 23, 33, 33, 34, 45, 56, 67]\n",
      "Frequency of  2 is :  1\n",
      "Frequency of  23 is :  2\n",
      "Frequency of  23 is :  2\n",
      "Frequency of  33 is :  2\n",
      "Frequency of  33 is :  2\n",
      "Frequency of  34 is :  1\n",
      "Frequency of  45 is :  1\n",
      "Frequency of  56 is :  1\n",
      "Frequency of  67 is :  1\n"
     ]
    }
   ],
   "source": [
    "#Count the Frequency of Each Element in a List**\n",
    "print(list2)\n",
    "for i in list2:\n",
    "    print(\"Frequency of \",i,\"is : \",list2.count(i))\n"
   ]
  },
  {
   "cell_type": "code",
   "execution_count": 10,
   "metadata": {},
   "outputs": [
    {
     "name": "stdout",
     "output_type": "stream",
     "text": [
      "[1, 2, 3, 4, 5, 6]\n"
     ]
    }
   ],
   "source": [
    "#Flatten a Nested Lis\n",
    "nested_list = [[1, 2], [3, 4], [5, 6]]\n",
    "flat_list = [item for sublist in nested_list for item in sublist]\n",
    "print(flat_list)\n"
   ]
  },
  {
   "cell_type": "code",
   "execution_count": 19,
   "metadata": {},
   "outputs": [
    {
     "name": "stdout",
     "output_type": "stream",
     "text": [
      "[1, 2, 23, 32, 3, 4, 5, 6]\n"
     ]
    }
   ],
   "source": [
    "def flatten(nested_list):\n",
    "    flat_list = []\n",
    "    for item in nested_list:\n",
    "        if isinstance(item, list):\n",
    "            flat_list.extend(flatten(item))  # Recursive call to flatten nested lists\n",
    "        else:\n",
    "            flat_list.append(item)\n",
    "    return flat_list\n",
    "\n",
    "# Now you can use flatten() to flatten a nested list\n",
    "nested_list = [[1, 2], 23, 32, [3, 4], [5, 6]]\n",
    "flat_list = flatten(nested_list)\n",
    "print(flat_list)\n"
   ]
  },
  {
   "cell_type": "code",
   "execution_count": 18,
   "metadata": {},
   "outputs": [
    {
     "name": "stdout",
     "output_type": "stream",
     "text": [
      "[1, 2, 23, 32, 3, 4, 5, 6]\n"
     ]
    }
   ],
   "source": [
    "nested_list = [[1, 2], 23, 32, [3, 4], [5, 6]]\n",
    "flat_list = []\n",
    "stack = nested_list[:]  # Copy the original list to avoid modifying it\n",
    "\n",
    "while stack:\n",
    "    item = stack.pop(0)  # Remove the first item in stack\n",
    "    if isinstance(item, list):\n",
    "        stack = item + stack  # Add the contents of item to the beginning of stack\n",
    "    else:\n",
    "        flat_list.append(item)  # Append non-list items to flat_list\n",
    "\n",
    "print(flat_list)\n"
   ]
  },
  {
   "cell_type": "code",
   "execution_count": 26,
   "metadata": {},
   "outputs": [
    {
     "name": "stdout",
     "output_type": "stream",
     "text": [
      "[2, 23, 23, 33, 33, 34, 45, 56, 67]\n",
      "[12, 32, 123, 4]\n"
     ]
    },
    {
     "data": {
      "text/plain": [
       "{2, 4, 12, 23, 32, 33, 34, 45, 56, 67, 123}"
      ]
     },
     "execution_count": 26,
     "metadata": {},
     "output_type": "execute_result"
    }
   ],
   "source": [
    "#*Merge Two Lists and Remove Duplicates**\n",
    "list = [12,32,123,4]\n",
    "print(list2) \n",
    "print(list)\n",
    "\n",
    "merge_list = list + list2\n",
    "set(merge_list)"
   ]
  },
  {
   "cell_type": "code",
   "execution_count": 40,
   "metadata": {},
   "outputs": [
    {
     "data": {
      "text/plain": [
       "{34, 66}"
      ]
     },
     "execution_count": 40,
     "metadata": {},
     "output_type": "execute_result"
    }
   ],
   "source": [
    "#*Find the Intersection of Two Lists*\n",
    "list1 = [133,34,45,66]\n",
    "list2 = [231,423,34,66]\n",
    "list_copy = set(list1)\n",
    "list2_copy = set(list2)\n",
    "interset = list_copy.intersection(list2_copy)\n",
    "interset\n",
    "\n",
    "\n"
   ]
  },
  {
   "cell_type": "code",
   "execution_count": 48,
   "metadata": {},
   "outputs": [
    {
     "name": "stdout",
     "output_type": "stream",
     "text": [
      "[133, 34, 45, 66]\n",
      "[231, 423, 34, 66]\n",
      "The lists are not identical.\n"
     ]
    }
   ],
   "source": [
    " #**Check if Two Lists are Identical**\n",
    "\n",
    " print(list1)\n",
    " print(list2)\n",
    "\n",
    " if sorted(list1) == sorted(list2):\n",
    "   print(\"The lists are identical in content, regardless of order.\")\n",
    " else:\n",
    "  print(\"The lists are not identical.\")"
   ]
  },
  {
   "cell_type": "code",
   "execution_count": 50,
   "metadata": {},
   "outputs": [
    {
     "name": "stdout",
     "output_type": "stream",
     "text": [
      "[34, 66]\n",
      "[133, 45]\n"
     ]
    }
   ],
   "source": [
    "#Split a List into Even and Odd Numbers*\n",
    "\n",
    "even = []\n",
    "odd = []\n",
    "for i in list:\n",
    "    if i % 2==0:\n",
    "        even.append(i)\n",
    "    else:\n",
    "        odd.append(i)\n",
    "\n",
    "print(even)\n",
    "print(odd)"
   ]
  },
  {
   "cell_type": "code",
   "execution_count": 3,
   "metadata": {},
   "outputs": [],
   "source": [
    "#**Sort a List Without Using the `sort()` Method**\n",
    "list1 = [22,2,43,54,234]\n",
    "accen_order =[]\n",
    "while list1:\n",
    "    min_value = min(list1)\n",
    "    accen_order.append(min_value)\n",
    "    list1.remove(min_value)"
   ]
  },
  {
   "cell_type": "code",
   "execution_count": 4,
   "metadata": {},
   "outputs": [
    {
     "data": {
      "text/plain": [
       "[2, 22, 43, 54, 234]"
      ]
     },
     "execution_count": 4,
     "metadata": {},
     "output_type": "execute_result"
    }
   ],
   "source": [
    "accen_order\n"
   ]
  },
  {
   "cell_type": "code",
   "execution_count": null,
   "metadata": {},
   "outputs": [],
   "source": []
  },
  {
   "cell_type": "code",
   "execution_count": 64,
   "metadata": {},
   "outputs": [
    {
     "data": {
      "text/plain": [
       "[34, 45, 66, 133]"
      ]
     },
     "execution_count": 64,
     "metadata": {},
     "output_type": "execute_result"
    }
   ],
   "source": [
    "accen_order"
   ]
  },
  {
   "cell_type": "code",
   "execution_count": 65,
   "metadata": {},
   "outputs": [],
   "source": [
    "#**Find All Pairs in a List That Sum Up to a Given Number**"
   ]
  },
  {
   "cell_type": "code",
   "execution_count": null,
   "metadata": {},
   "outputs": [],
   "source": [
    "list3 = [1,3,4,2,5,6,7]\n"
   ]
  },
  {
   "cell_type": "code",
   "execution_count": 6,
   "metadata": {},
   "outputs": [
    {
     "name": "stdout",
     "output_type": "stream",
     "text": [
      "Pairs: [(3, 4), (2, 5), (1, 6)]\n"
     ]
    }
   ],
   "source": [
    "def find_pairs(lst, target_sum):\n",
    "    pairs = []\n",
    "    seen = set()\n",
    "    for num in lst:\n",
    "        complement = target_sum - num\n",
    "        if complement in seen:\n",
    "            pairs.append((complement, num))\n",
    "        seen.add(num)\n",
    "    return pairs\n",
    "\n",
    "lst = [1, 2, 3, 4, 5, 6]\n",
    "target_sum = 7\n",
    "print(\"Pairs:\", find_pairs(lst, target_sum))\n"
   ]
  },
  {
   "cell_type": "code",
   "execution_count": 3,
   "metadata": {},
   "outputs": [],
   "source": [
    "seen = set()\n",
    "seen.add(3)"
   ]
  },
  {
   "cell_type": "code",
   "execution_count": 4,
   "metadata": {},
   "outputs": [
    {
     "data": {
      "text/plain": [
       "{3}"
      ]
     },
     "execution_count": 4,
     "metadata": {},
     "output_type": "execute_result"
    }
   ],
   "source": [
    "seen"
   ]
  },
  {
   "cell_type": "code",
   "execution_count": null,
   "metadata": {},
   "outputs": [],
   "source": []
  },
  {
   "cell_type": "code",
   "execution_count": null,
   "metadata": {},
   "outputs": [],
   "source": []
  },
  {
   "cell_type": "markdown",
   "metadata": {},
   "source": [
    "### \n",
    "3.Set: \n",
    "1. **Remove Duplicates from a List Using a Set** \n",
    "2. **Find the Union of Two Sets** \n",
    "3. **Find the Intersection of Two Sets** \n",
    "4. **Find the Difference Between Two Sets** \n",
    "5. **Check if a Set is a Subset of Another Set** \n",
    "6. **Check if Two Sets are Disjoint** \n",
    "7. **Remove an Element from a Set** \n",
    "8. **Add an Element to a Set** \n",
    "9. **Find the Symmetric Difference Between Two Sets** \n",
    "10. **Check if a Set is Empty** \n",
    "11. **Convert a List to a Set and Vice Versa** \n",
    "12. **Check if Two Sets are Equal** \n",
    "13. **Get All Unique Characters from a String Using a Set** \n",
    "14. **Count the Number of Unique Elements in a List** \n",
    "15. **Iterate Over a Set and Print Each Element**"
   ]
  },
  {
   "cell_type": "code",
   "execution_count": 1,
   "metadata": {},
   "outputs": [],
   "source": [
    "list = [123,32,3,21,33,45,45,33]"
   ]
  },
  {
   "cell_type": "code",
   "execution_count": 2,
   "metadata": {},
   "outputs": [
    {
     "data": {
      "text/plain": [
       "{3, 21, 32, 33, 45, 123}"
      ]
     },
     "execution_count": 2,
     "metadata": {},
     "output_type": "execute_result"
    }
   ],
   "source": [
    "set(list)"
   ]
  },
  {
   "cell_type": "code",
   "execution_count": 3,
   "metadata": {},
   "outputs": [],
   "source": [
    "#2. **Find the Union of Two Sets**"
   ]
  },
  {
   "cell_type": "code",
   "execution_count": 5,
   "metadata": {},
   "outputs": [
    {
     "data": {
      "text/plain": [
       "{12, 23, 32, 112, 123}"
      ]
     },
     "execution_count": 5,
     "metadata": {},
     "output_type": "execute_result"
    }
   ],
   "source": [
    "set = {123,32,12}\n",
    "set2 = {23,32,112}\n",
    "set.union(set2)"
   ]
  },
  {
   "cell_type": "code",
   "execution_count": 6,
   "metadata": {},
   "outputs": [],
   "source": [
    "#**Find the Intersection of Two Sets**"
   ]
  },
  {
   "cell_type": "code",
   "execution_count": 7,
   "metadata": {},
   "outputs": [
    {
     "data": {
      "text/plain": [
       "{32}"
      ]
     },
     "execution_count": 7,
     "metadata": {},
     "output_type": "execute_result"
    }
   ],
   "source": [
    "set.intersection(set2)"
   ]
  },
  {
   "cell_type": "code",
   "execution_count": 8,
   "metadata": {},
   "outputs": [
    {
     "data": {
      "text/plain": [
       "{12, 123}"
      ]
     },
     "execution_count": 8,
     "metadata": {},
     "output_type": "execute_result"
    }
   ],
   "source": [
    "set.difference(set2)"
   ]
  },
  {
   "cell_type": "code",
   "execution_count": 10,
   "metadata": {},
   "outputs": [],
   "source": [
    "#Check if a Set is a Subset of Another Set*"
   ]
  },
  {
   "cell_type": "code",
   "execution_count": 9,
   "metadata": {},
   "outputs": [
    {
     "data": {
      "text/plain": [
       "False"
      ]
     },
     "execution_count": 9,
     "metadata": {},
     "output_type": "execute_result"
    }
   ],
   "source": [
    "set.issubset(set2)"
   ]
  },
  {
   "cell_type": "code",
   "execution_count": 11,
   "metadata": {},
   "outputs": [],
   "source": [
    "#Check if Two Sets are Disjoint**"
   ]
  },
  {
   "cell_type": "code",
   "execution_count": 13,
   "metadata": {},
   "outputs": [
    {
     "data": {
      "text/plain": [
       "False"
      ]
     },
     "execution_count": 13,
     "metadata": {},
     "output_type": "execute_result"
    }
   ],
   "source": [
    "set.isdisjoint(set2)\n",
    "\n",
    "# 32 is comman"
   ]
  },
  {
   "cell_type": "code",
   "execution_count": 14,
   "metadata": {},
   "outputs": [],
   "source": [
    "#Remove an Element from a Set**"
   ]
  },
  {
   "cell_type": "code",
   "execution_count": 16,
   "metadata": {},
   "outputs": [
    {
     "data": {
      "text/plain": [
       "{12, 32, 123}"
      ]
     },
     "execution_count": 16,
     "metadata": {},
     "output_type": "execute_result"
    }
   ],
   "source": [
    "set"
   ]
  },
  {
   "cell_type": "code",
   "execution_count": 17,
   "metadata": {},
   "outputs": [],
   "source": [
    "set.remove(32)"
   ]
  },
  {
   "cell_type": "code",
   "execution_count": 18,
   "metadata": {},
   "outputs": [
    {
     "data": {
      "text/plain": [
       "{12, 123}"
      ]
     },
     "execution_count": 18,
     "metadata": {},
     "output_type": "execute_result"
    }
   ],
   "source": [
    "set"
   ]
  },
  {
   "cell_type": "code",
   "execution_count": 19,
   "metadata": {},
   "outputs": [],
   "source": [
    "#Add an Element to a Set"
   ]
  },
  {
   "cell_type": "code",
   "execution_count": 20,
   "metadata": {},
   "outputs": [
    {
     "name": "stdout",
     "output_type": "stream",
     "text": [
      "{32, 123, 12}\n"
     ]
    }
   ],
   "source": [
    "set.add(32)\n",
    "print(set)"
   ]
  },
  {
   "cell_type": "code",
   "execution_count": 21,
   "metadata": {},
   "outputs": [],
   "source": [
    "# Find the Symmetric Difference Between Two Sets*"
   ]
  },
  {
   "cell_type": "code",
   "execution_count": 22,
   "metadata": {},
   "outputs": [
    {
     "data": {
      "text/plain": [
       "{12, 23, 112, 123}"
      ]
     },
     "execution_count": 22,
     "metadata": {},
     "output_type": "execute_result"
    }
   ],
   "source": [
    "set.symmetric_difference(set2)"
   ]
  },
  {
   "cell_type": "code",
   "execution_count": 23,
   "metadata": {},
   "outputs": [],
   "source": [
    "#Check if a Set is Empty**"
   ]
  },
  {
   "cell_type": "code",
   "execution_count": 24,
   "metadata": {},
   "outputs": [
    {
     "data": {
      "text/plain": [
       "3"
      ]
     },
     "execution_count": 24,
     "metadata": {},
     "output_type": "execute_result"
    }
   ],
   "source": [
    "len(set)"
   ]
  },
  {
   "cell_type": "code",
   "execution_count": 25,
   "metadata": {},
   "outputs": [],
   "source": [
    "#Convert a List to a Set and Vice Versa**"
   ]
  },
  {
   "cell_type": "code",
   "execution_count": 33,
   "metadata": {},
   "outputs": [],
   "source": [
    "list3 = list "
   ]
  },
  {
   "cell_type": "code",
   "execution_count": 34,
   "metadata": {},
   "outputs": [],
   "source": [
    "set1 = set"
   ]
  },
  {
   "cell_type": "code",
   "execution_count": 36,
   "metadata": {},
   "outputs": [],
   "source": [
    "#Check if Two Sets are Equal*"
   ]
  },
  {
   "cell_type": "code",
   "execution_count": 37,
   "metadata": {},
   "outputs": [
    {
     "name": "stdout",
     "output_type": "stream",
     "text": [
      "not\n"
     ]
    }
   ],
   "source": [
    "if set1 == set2:\n",
    "    print(\"equal\")\n",
    "else:\n",
    "    print(\"not\")"
   ]
  },
  {
   "cell_type": "code",
   "execution_count": 38,
   "metadata": {},
   "outputs": [],
   "source": [
    "#et All Unique Characters from a String Using a S"
   ]
  },
  {
   "cell_type": "code",
   "execution_count": 2,
   "metadata": {},
   "outputs": [
    {
     "data": {
      "text/plain": [
       "{12, 32, 33, 123}"
      ]
     },
     "execution_count": 2,
     "metadata": {},
     "output_type": "execute_result"
    }
   ],
   "source": [
    "list3 = [12,32,123,32,33]\n",
    "set(list3)"
   ]
  },
  {
   "cell_type": "code",
   "execution_count": 3,
   "metadata": {},
   "outputs": [],
   "source": [
    "#Iterate Over a Set and Print Each Element**"
   ]
  },
  {
   "cell_type": "code",
   "execution_count": 4,
   "metadata": {},
   "outputs": [],
   "source": [
    "set4 = {123,31,123,343,54,65,34}"
   ]
  },
  {
   "cell_type": "code",
   "execution_count": 5,
   "metadata": {},
   "outputs": [
    {
     "name": "stdout",
     "output_type": "stream",
     "text": [
      "65\n",
      "34\n",
      "54\n",
      "343\n",
      "123\n",
      "31\n"
     ]
    }
   ],
   "source": [
    "for i in set4:\n",
    "    print(i)"
   ]
  },
  {
   "cell_type": "markdown",
   "metadata": {},
   "source": [
    "## 4. **Tuple Questions:**"
   ]
  },
  {
   "cell_type": "code",
   "execution_count": 6,
   "metadata": {},
   "outputs": [],
   "source": [
    "#Access Elements in a Tuple**"
   ]
  },
  {
   "cell_type": "code",
   "execution_count": 7,
   "metadata": {},
   "outputs": [],
   "source": [
    "tup = (23,31,32,433,122)"
   ]
  },
  {
   "cell_type": "code",
   "execution_count": 9,
   "metadata": {},
   "outputs": [
    {
     "name": "stdout",
     "output_type": "stream",
     "text": [
      "23\n",
      "31\n",
      "32\n",
      "433\n",
      "122\n"
     ]
    }
   ],
   "source": [
    "for i in tup:\n",
    "    print(i)"
   ]
  },
  {
   "cell_type": "code",
   "execution_count": 10,
   "metadata": {},
   "outputs": [
    {
     "data": {
      "text/plain": [
       "True"
      ]
     },
     "execution_count": 10,
     "metadata": {},
     "output_type": "execute_result"
    }
   ],
   "source": [
    "#*Check if an Element Exists in a Tuple*\n",
    "\n",
    "23 in tup"
   ]
  },
  {
   "cell_type": "code",
   "execution_count": 13,
   "metadata": {},
   "outputs": [
    {
     "data": {
      "text/plain": [
       "1"
      ]
     },
     "execution_count": 13,
     "metadata": {},
     "output_type": "execute_result"
    }
   ],
   "source": [
    "#Count the Occurrences of an Element in a Tuple\n",
    "\n",
    "tup.count(32)"
   ]
  },
  {
   "cell_type": "code",
   "execution_count": 14,
   "metadata": {},
   "outputs": [],
   "source": [
    "#Find the Index of an Element in a Tuple"
   ]
  },
  {
   "cell_type": "code",
   "execution_count": 15,
   "metadata": {},
   "outputs": [
    {
     "data": {
      "text/plain": [
       "2"
      ]
     },
     "execution_count": 15,
     "metadata": {},
     "output_type": "execute_result"
    }
   ],
   "source": [
    "tup.index(32)"
   ]
  },
  {
   "cell_type": "code",
   "execution_count": 16,
   "metadata": {},
   "outputs": [
    {
     "data": {
      "text/plain": [
       "[23, 31, 32, 433, 122]"
      ]
     },
     "execution_count": 16,
     "metadata": {},
     "output_type": "execute_result"
    }
   ],
   "source": [
    "#Convert a List to a Tuple and Vice Versa*\n",
    "\n",
    "list(tup)"
   ]
  },
  {
   "cell_type": "code",
   "execution_count": 18,
   "metadata": {},
   "outputs": [
    {
     "data": {
      "text/plain": [
       "(123, 23, 11)"
      ]
     },
     "execution_count": 18,
     "metadata": {},
     "output_type": "execute_result"
    }
   ],
   "source": [
    "tuple([123,23,11])"
   ]
  },
  {
   "cell_type": "code",
   "execution_count": 19,
   "metadata": {},
   "outputs": [],
   "source": [
    " #**Unpack a Tuple into Variables"
   ]
  },
  {
   "cell_type": "code",
   "execution_count": 20,
   "metadata": {},
   "outputs": [
    {
     "name": "stdout",
     "output_type": "stream",
     "text": [
      "1\n",
      "2\n",
      "3\n"
     ]
    }
   ],
   "source": [
    "my_tuple = (1, 2, 3)\n",
    "\n",
    "# Unpack the tuple into variables\n",
    "a, b, c = my_tuple\n",
    "\n",
    "print(a)  # Output: 1\n",
    "print(b)  # Output: 2\n",
    "print(c)  # Output: 3\n"
   ]
  },
  {
   "cell_type": "code",
   "execution_count": 21,
   "metadata": {},
   "outputs": [],
   "source": [
    "#Concatenate Two Tuples"
   ]
  },
  {
   "cell_type": "code",
   "execution_count": 22,
   "metadata": {},
   "outputs": [
    {
     "data": {
      "text/plain": [
       "(23, 31, 32, 433, 122)"
      ]
     },
     "execution_count": 22,
     "metadata": {},
     "output_type": "execute_result"
    }
   ],
   "source": [
    "tup"
   ]
  },
  {
   "cell_type": "code",
   "execution_count": 23,
   "metadata": {},
   "outputs": [],
   "source": [
    "tup2 = (43,234,345234,424,2)"
   ]
  },
  {
   "cell_type": "code",
   "execution_count": 24,
   "metadata": {},
   "outputs": [
    {
     "data": {
      "text/plain": [
       "(23, 31, 32, 433, 122, 43, 234, 345234, 424, 2)"
      ]
     },
     "execution_count": 24,
     "metadata": {},
     "output_type": "execute_result"
    }
   ],
   "source": [
    "tup+tup2"
   ]
  },
  {
   "cell_type": "code",
   "execution_count": 25,
   "metadata": {},
   "outputs": [],
   "source": [
    "#*Check if Two Tuples are Identical*"
   ]
  },
  {
   "cell_type": "code",
   "execution_count": 27,
   "metadata": {},
   "outputs": [
    {
     "data": {
      "text/plain": [
       "False"
      ]
     },
     "execution_count": 27,
     "metadata": {},
     "output_type": "execute_result"
    }
   ],
   "source": [
    "tup.__eq__(tup2)"
   ]
  },
  {
   "cell_type": "code",
   "execution_count": 28,
   "metadata": {},
   "outputs": [
    {
     "data": {
      "text/plain": [
       "[23, 31, 32, 122, 433]"
      ]
     },
     "execution_count": 28,
     "metadata": {},
     "output_type": "execute_result"
    }
   ],
   "source": [
    "#Sort a Tuple**\n",
    "\n",
    "sorted(tup)"
   ]
  },
  {
   "cell_type": "code",
   "execution_count": 29,
   "metadata": {},
   "outputs": [
    {
     "data": {
      "text/plain": [
       "5"
      ]
     },
     "execution_count": 29,
     "metadata": {},
     "output_type": "execute_result"
    }
   ],
   "source": [
    "#Find the Length of a Tuple*\n",
    "len(tup)"
   ]
  },
  {
   "cell_type": "code",
   "execution_count": 30,
   "metadata": {},
   "outputs": [],
   "source": [
    "#Create a Tuple with Single Element (and Explain the Syntax\n",
    "\n",
    "tup3 = ( )"
   ]
  },
  {
   "cell_type": "code",
   "execution_count": 31,
   "metadata": {},
   "outputs": [
    {
     "data": {
      "text/plain": [
       "tuple"
      ]
     },
     "execution_count": 31,
     "metadata": {},
     "output_type": "execute_result"
    }
   ],
   "source": [
    "type(tup3)"
   ]
  },
  {
   "cell_type": "code",
   "execution_count": 32,
   "metadata": {},
   "outputs": [
    {
     "name": "stdout",
     "output_type": "stream",
     "text": [
      "(23, 31, 32, 433, 122)\n"
     ]
    },
    {
     "data": {
      "text/plain": [
       "(122, 433, 32, 31, 23)"
      ]
     },
     "execution_count": 32,
     "metadata": {},
     "output_type": "execute_result"
    }
   ],
   "source": [
    "#Reverse a Tuple**\n",
    "\n",
    "print(tup)\n",
    "tup[::-1]"
   ]
  },
  {
   "cell_type": "code",
   "execution_count": 36,
   "metadata": {},
   "outputs": [
    {
     "name": "stdout",
     "output_type": "stream",
     "text": [
      "(12, 231, 31, 123, 23, 12, 33, 11, 44, 113, 123)\n"
     ]
    }
   ],
   "source": [
    "# Convert a Tuple of Tuples to a Single Tuple*\n",
    "\n",
    "tup4 = ((12,231,31,123) , (23,12,33,11) , (44,113,123))\n",
    "tup5 = ()\n",
    "for i in tup4:\n",
    "    tup5+=i\n",
    "    \n",
    "print(tup5)"
   ]
  },
  {
   "cell_type": "code",
   "execution_count": 37,
   "metadata": {},
   "outputs": [],
   "source": [
    "#Iterate Over a Tuple and Print Each Element**"
   ]
  },
  {
   "cell_type": "code",
   "execution_count": 38,
   "metadata": {},
   "outputs": [
    {
     "name": "stdout",
     "output_type": "stream",
     "text": [
      "23\n",
      "31\n",
      "32\n",
      "433\n",
      "122\n"
     ]
    }
   ],
   "source": [
    "for i in tup:\n",
    "    print(i)"
   ]
  },
  {
   "cell_type": "code",
   "execution_count": 39,
   "metadata": {},
   "outputs": [],
   "source": [
    "#Create a Tuple Without Using Parentheses (Tuple Packing)**"
   ]
  },
  {
   "cell_type": "code",
   "execution_count": 40,
   "metadata": {},
   "outputs": [],
   "source": [
    "tuple6 = 12,32,12,33,44,12"
   ]
  },
  {
   "cell_type": "code",
   "execution_count": 41,
   "metadata": {},
   "outputs": [
    {
     "data": {
      "text/plain": [
       "tuple"
      ]
     },
     "execution_count": 41,
     "metadata": {},
     "output_type": "execute_result"
    }
   ],
   "source": [
    "type(tuple6)"
   ]
  },
  {
   "cell_type": "markdown",
   "metadata": {},
   "source": [
    "## 5. **Dictionary Questions:*"
   ]
  },
  {
   "cell_type": "code",
   "execution_count": 42,
   "metadata": {},
   "outputs": [],
   "source": [
    "#*Access the Value Associated with a Key*"
   ]
  },
  {
   "cell_type": "code",
   "execution_count": 104,
   "metadata": {},
   "outputs": [],
   "source": [
    "dic = {\"key1\":\"shubham\" , \"key2\": [13,231,321] , \"key3\" : (2,123,1,3,1,3,) , \"key4\": 555}"
   ]
  },
  {
   "cell_type": "code",
   "execution_count": null,
   "metadata": {},
   "outputs": [],
   "source": []
  },
  {
   "cell_type": "code",
   "execution_count": 45,
   "metadata": {},
   "outputs": [
    {
     "data": {
      "text/plain": [
       "[13, 231, 321]"
      ]
     },
     "execution_count": 45,
     "metadata": {},
     "output_type": "execute_result"
    }
   ],
   "source": [
    "dic[\"key2\"]"
   ]
  },
  {
   "cell_type": "code",
   "execution_count": 46,
   "metadata": {},
   "outputs": [],
   "source": [
    "#heck if a Key Exists in a Dictionary*"
   ]
  },
  {
   "cell_type": "code",
   "execution_count": 47,
   "metadata": {},
   "outputs": [
    {
     "data": {
      "text/plain": [
       "dict_keys(['key1', 'key2', 'key3', 'key4'])"
      ]
     },
     "execution_count": 47,
     "metadata": {},
     "output_type": "execute_result"
    }
   ],
   "source": [
    "dic.keys()"
   ]
  },
  {
   "cell_type": "code",
   "execution_count": 50,
   "metadata": {},
   "outputs": [
    {
     "data": {
      "text/plain": [
       "'shubham'"
      ]
     },
     "execution_count": 50,
     "metadata": {},
     "output_type": "execute_result"
    }
   ],
   "source": [
    "dic[\"key1\"]"
   ]
  },
  {
   "cell_type": "code",
   "execution_count": 52,
   "metadata": {},
   "outputs": [
    {
     "data": {
      "text/plain": [
       "dict_items([('key1', 'shubham'), ('key2', [13, 231, 321]), ('key3', (2, 123, 1, 3, 1, 3)), ('key4', 555)])"
      ]
     },
     "execution_count": 52,
     "metadata": {},
     "output_type": "execute_result"
    }
   ],
   "source": [
    "dic.items()"
   ]
  },
  {
   "cell_type": "code",
   "execution_count": 57,
   "metadata": {},
   "outputs": [
    {
     "name": "stdout",
     "output_type": "stream",
     "text": [
      "key1 shubham\n",
      "key2 [13, 231, 321]\n",
      "key3 (2, 123, 1, 3, 1, 3)\n",
      "key4 555\n"
     ]
    }
   ],
   "source": [
    "    #terate Over a Dictionary and Print All Key-Value Pairs*\n",
    "for key, value in dic.items():\n",
    "  print(key , value)"
   ]
  },
  {
   "cell_type": "code",
   "execution_count": 59,
   "metadata": {},
   "outputs": [],
   "source": [
    "#Merge Two Dictionarie\n",
    "\n",
    "dic2 = {\"key5\": 434 , \"key6\":\"birari\"}"
   ]
  },
  {
   "cell_type": "code",
   "execution_count": 60,
   "metadata": {},
   "outputs": [],
   "source": [
    "dic.update(dic2)"
   ]
  },
  {
   "cell_type": "code",
   "execution_count": 61,
   "metadata": {},
   "outputs": [
    {
     "data": {
      "text/plain": [
       "{'key1': 'shubham',\n",
       " 'key2': [13, 231, 321],\n",
       " 'key3': (2, 123, 1, 3, 1, 3),\n",
       " 'key4': 555,\n",
       " 'key5': 434,\n",
       " 'key6': 'birari'}"
      ]
     },
     "execution_count": 61,
     "metadata": {},
     "output_type": "execute_result"
    }
   ],
   "source": [
    "dic"
   ]
  },
  {
   "cell_type": "code",
   "execution_count": 63,
   "metadata": {},
   "outputs": [],
   "source": [
    "#*Remove a Key from a Dictionary\n",
    "dic.__delitem__(\"key6\")"
   ]
  },
  {
   "cell_type": "code",
   "execution_count": 64,
   "metadata": {},
   "outputs": [
    {
     "data": {
      "text/plain": [
       "{'key1': 'shubham',\n",
       " 'key2': [13, 231, 321],\n",
       " 'key3': (2, 123, 1, 3, 1, 3),\n",
       " 'key4': 555,\n",
       " 'key5': 434}"
      ]
     },
     "execution_count": 64,
     "metadata": {},
     "output_type": "execute_result"
    }
   ],
   "source": [
    "dic"
   ]
  },
  {
   "cell_type": "code",
   "execution_count": 65,
   "metadata": {},
   "outputs": [],
   "source": [
    "#ind the Maximum and Minimum Values in a Dictionary*"
   ]
  },
  {
   "cell_type": "code",
   "execution_count": 66,
   "metadata": {},
   "outputs": [
    {
     "data": {
      "text/plain": [
       "dict_values(['shubham', [13, 231, 321], (2, 123, 1, 3, 1, 3), 555, 434])"
      ]
     },
     "execution_count": 66,
     "metadata": {},
     "output_type": "execute_result"
    }
   ],
   "source": [
    "dic.values()"
   ]
  },
  {
   "cell_type": "code",
   "execution_count": 68,
   "metadata": {},
   "outputs": [
    {
     "data": {
      "text/plain": [
       "'key5'"
      ]
     },
     "execution_count": 68,
     "metadata": {},
     "output_type": "execute_result"
    }
   ],
   "source": [
    "max(dic.keys())"
   ]
  },
  {
   "cell_type": "code",
   "execution_count": 69,
   "metadata": {},
   "outputs": [],
   "source": [
    "#Sort a Dictionary by Keys or Values"
   ]
  },
  {
   "cell_type": "code",
   "execution_count": 72,
   "metadata": {},
   "outputs": [
    {
     "data": {
      "text/plain": [
       "['key1', 'key2', 'key3', 'key4', 'key5']"
      ]
     },
     "execution_count": 72,
     "metadata": {},
     "output_type": "execute_result"
    }
   ],
   "source": [
    "sorted(dic.keys())"
   ]
  },
  {
   "cell_type": "code",
   "execution_count": 73,
   "metadata": {},
   "outputs": [
    {
     "data": {
      "text/plain": [
       "{'key1': 'shubham',\n",
       " 'key2': [13, 231, 321],\n",
       " 'key3': (2, 123, 1, 3, 1, 3),\n",
       " 'key4': 555,\n",
       " 'key5': 434}"
      ]
     },
     "execution_count": 73,
     "metadata": {},
     "output_type": "execute_result"
    }
   ],
   "source": [
    "dic"
   ]
  },
  {
   "cell_type": "code",
   "execution_count": 77,
   "metadata": {},
   "outputs": [
    {
     "data": {
      "text/plain": [
       "{1: 123, 2: 31, 3: 3123, 4: 123}"
      ]
     },
     "execution_count": 77,
     "metadata": {},
     "output_type": "execute_result"
    }
   ],
   "source": [
    "#onvert Two Lists (Keys and Values) into a Dictionary\n",
    "keys =[1,2,3,4]\n",
    "values = [123,31,3123,123]\n",
    "dict(zip(keys , values))"
   ]
  },
  {
   "cell_type": "code",
   "execution_count": 78,
   "metadata": {},
   "outputs": [],
   "source": [
    "#Get a List of All Keys and Values Separately"
   ]
  },
  {
   "cell_type": "code",
   "execution_count": 84,
   "metadata": {},
   "outputs": [
    {
     "data": {
      "text/plain": [
       "['key1', 'key2', 'key3', 'key4', 'key5']"
      ]
     },
     "execution_count": 84,
     "metadata": {},
     "output_type": "execute_result"
    }
   ],
   "source": [
    "list(dic.keys())"
   ]
  },
  {
   "cell_type": "code",
   "execution_count": 85,
   "metadata": {},
   "outputs": [
    {
     "data": {
      "text/plain": [
       "['shubham', [13, 231, 321], (2, 123, 1, 3, 1, 3), 555, 434]"
      ]
     },
     "execution_count": 85,
     "metadata": {},
     "output_type": "execute_result"
    }
   ],
   "source": [
    "list(dic.values())"
   ]
  },
  {
   "cell_type": "code",
   "execution_count": 87,
   "metadata": {},
   "outputs": [],
   "source": [
    "#Count the Frequency of Each Character in a String Using a Dictionar"
   ]
  },
  {
   "cell_type": "code",
   "execution_count": 86,
   "metadata": {},
   "outputs": [
    {
     "name": "stdout",
     "output_type": "stream",
     "text": [
      "{'o': 2, 'r': 1, ' ': 1, 'l': 3, 'e': 1, 'h': 1, 'd': 1, 'w': 1}\n"
     ]
    }
   ],
   "source": [
    "input_string = \"hello world\"\n",
    "\n",
    "# Use dictionary comprehension\n",
    "char_count = {char: input_string.count(char) for char in set(input_string)}\n",
    "\n",
    "print(char_count)\n",
    "# Output: {'h': 1, 'e': 1, 'l': 3, 'o': 2, ' ': 1, 'w': 1, 'r': 1, 'd': 1}\n"
   ]
  },
  {
   "cell_type": "code",
   "execution_count": 89,
   "metadata": {},
   "outputs": [],
   "source": [
    "#Update the Value of an Existing Key in a Dictionary*"
   ]
  },
  {
   "cell_type": "code",
   "execution_count": 92,
   "metadata": {},
   "outputs": [
    {
     "data": {
      "text/plain": [
       "{'key1': 'shubham',\n",
       " 'key2': [13, 231, 321],\n",
       " 'key3': (2, 123, 1, 3, 1, 3),\n",
       " 'key4': 555,\n",
       " 'key5': 434}"
      ]
     },
     "execution_count": 92,
     "metadata": {},
     "output_type": "execute_result"
    }
   ],
   "source": [
    "dic"
   ]
  },
  {
   "cell_type": "code",
   "execution_count": 93,
   "metadata": {},
   "outputs": [],
   "source": [
    "dic[\"key5\"] = 122222"
   ]
  },
  {
   "cell_type": "code",
   "execution_count": 94,
   "metadata": {},
   "outputs": [
    {
     "data": {
      "text/plain": [
       "{'key1': 'shubham',\n",
       " 'key2': [13, 231, 321],\n",
       " 'key3': (2, 123, 1, 3, 1, 3),\n",
       " 'key4': 555,\n",
       " 'key5': 122222}"
      ]
     },
     "execution_count": 94,
     "metadata": {},
     "output_type": "execute_result"
    }
   ],
   "source": [
    "dic"
   ]
  },
  {
   "cell_type": "code",
   "execution_count": 95,
   "metadata": {},
   "outputs": [],
   "source": [
    "#     #Reverse the Keys and Values in a Dictionary** \n",
    "# 14. **Create a Dictionary Using Dictionary Comprehension** \n",
    "# 15. **Remove All Entries from a Dictionary (Clear the Dictionary)*"
   ]
  },
  {
   "cell_type": "code",
   "execution_count": 105,
   "metadata": {},
   "outputs": [
    {
     "name": "stdout",
     "output_type": "stream",
     "text": [
      "{1: 'a', 2: 'b', 3: 'c'}\n"
     ]
    }
   ],
   "source": [
    "# Original dictionary\n",
    "original_dict = {'a': 1, 'b': 2, 'c': 3}\n",
    "\n",
    "# Reversing keys and values\n",
    "reversed_dict = {value: key for key, value in original_dict.items()}\n",
    "\n",
    "print(reversed_dict)\n",
    "# Output: {1: 'a', 2: 'b', 3: 'c'}\n"
   ]
  },
  {
   "cell_type": "code",
   "execution_count": 106,
   "metadata": {},
   "outputs": [
    {
     "name": "stdout",
     "output_type": "stream",
     "text": [
      "{1: 1, 2: 4, 3: 9, 4: 16, 5: 25}\n"
     ]
    }
   ],
   "source": [
    "# Create dictionary using comprehension\n",
    "squares_dict = {x: x**2 for x in range(1, 6)}\n",
    "\n",
    "print(squares_dict)\n",
    "# Output: {1: 1, 2: 4, 3: 9, 4: 16, 5: 25}\n"
   ]
  },
  {
   "cell_type": "code",
   "execution_count": 107,
   "metadata": {},
   "outputs": [
    {
     "data": {
      "text/plain": [
       "{'key1': 'shubham',\n",
       " 'key2': [13, 231, 321],\n",
       " 'key3': (2, 123, 1, 3, 1, 3),\n",
       " 'key4': 555}"
      ]
     },
     "execution_count": 107,
     "metadata": {},
     "output_type": "execute_result"
    }
   ],
   "source": [
    "dic"
   ]
  },
  {
   "cell_type": "code",
   "execution_count": 108,
   "metadata": {},
   "outputs": [],
   "source": [
    "dic.clear()"
   ]
  },
  {
   "cell_type": "code",
   "execution_count": 109,
   "metadata": {},
   "outputs": [
    {
     "data": {
      "text/plain": [
       "{}"
      ]
     },
     "execution_count": 109,
     "metadata": {},
     "output_type": "execute_result"
    }
   ],
   "source": [
    "dic"
   ]
  },
  {
   "cell_type": "markdown",
   "metadata": {},
   "source": [
    "## if-else` statements question:"
   ]
  },
  {
   "cell_type": "markdown",
   "metadata": {},
   "source": []
  },
  {
   "cell_type": "code",
   "execution_count": 1,
   "metadata": {},
   "outputs": [],
   "source": [
    "#*Check if a Number is Positive, Negative, or Zero**"
   ]
  },
  {
   "cell_type": "code",
   "execution_count": 3,
   "metadata": {},
   "outputs": [
    {
     "name": "stdout",
     "output_type": "stream",
     "text": [
      "You entered:  4343\n",
      "the number is positive\n"
     ]
    }
   ],
   "source": [
    "number  = int(input())\n",
    "print(\"You entered: \", number)\n",
    "if number==0:\n",
    "    print(\"the nummber is zero\")\n",
    "elif number>0:\n",
    "    print(\"the number is positive\")\n",
    "else:\n",
    "    print(\"the numberis negative\")"
   ]
  },
  {
   "cell_type": "code",
   "execution_count": 4,
   "metadata": {},
   "outputs": [],
   "source": [
    "#Determine if a Person is Eligible to Vote Based on Age\n",
    "\n",
    "def is_eligible_to_vote(age):\n",
    "    \"\"\"\n",
    "    This function determines if a person is eligible to vote based on their age.\"\"\"\n",
    "    # Check if the age is a non-negative integer\n",
    "    if not isinstance(age, int) or age < 0:\n",
    "        raise ValueError(\"Age must be a non-negative integer\")\n",
    "    # Check if the age is 18 or above\n",
    "    if age >= 18:\n",
    "        return True\n",
    "    else:\n",
    "        return False\n",
    "    "
   ]
  },
  {
   "cell_type": "code",
   "execution_count": 7,
   "metadata": {},
   "outputs": [
    {
     "data": {
      "text/plain": [
       "True"
      ]
     },
     "execution_count": 7,
     "metadata": {},
     "output_type": "execute_result"
    }
   ],
   "source": [
    "is_eligible_to_vote(32)"
   ]
  },
  {
   "cell_type": "code",
   "execution_count": 3,
   "metadata": {},
   "outputs": [],
   "source": [
    "#heck if a Year is a Leap Year\n",
    "def is_leap_year(year):\n",
    "    if year % 4 == 0 and (year % 100 != 0 or year % 400 == 0):\n",
    "        print(year, \"is a leap year\")\n",
    "    else:\n",
    "        print(year, \"is not a leap year\")\n"
   ]
  },
  {
   "cell_type": "code",
   "execution_count": 4,
   "metadata": {},
   "outputs": [
    {
     "name": "stdout",
     "output_type": "stream",
     "text": [
      "2024 is a leap year\n"
     ]
    }
   ],
   "source": [
    "is_leap_year(2024)"
   ]
  },
  {
   "cell_type": "code",
   "execution_count": 8,
   "metadata": {},
   "outputs": [
    {
     "name": "stdout",
     "output_type": "stream",
     "text": [
      "23 3 1223\n",
      "The largest number is 1223\n"
     ]
    }
   ],
   "source": [
    "#ind the Largest of Three Number\n",
    "\n",
    "num1 = int(input(\"Enter the first number: \"))\n",
    "num2 = int(input(\"Enter the second number: \"))\n",
    "num3 = int(input(\"enter the third number: \"))\n",
    "\n",
    "#find the largest number\n",
    "if (num1 >= num2) and (num1 >= num3):\n",
    "    largest = num1\n",
    "elif (num2 >= num1) and (num2 >= num3):\n",
    "    largest = num2\n",
    "else:\n",
    "    largest = num3\n",
    "\n",
    "print(num1 , num2 , num3)\n",
    "print(\"The largest number is\", largest)\n",
    "\n"
   ]
  },
  {
   "cell_type": "code",
   "execution_count": 9,
   "metadata": {},
   "outputs": [],
   "source": [
    "#Check if a Character is a Vowel or Consonan\n",
    "def check_vowel_or_consonant(char):\n",
    "    if char.lower() in 'aeiou':\n",
    "        return 'Vowel'\n",
    "    else:\n",
    "        return 'Consonant'\n",
    "    \n"
   ]
  },
  {
   "cell_type": "code",
   "execution_count": 11,
   "metadata": {},
   "outputs": [
    {
     "data": {
      "text/plain": [
       "'Vowel'"
      ]
     },
     "execution_count": 11,
     "metadata": {},
     "output_type": "execute_result"
    }
   ],
   "source": [
    "check_vowel_or_consonant(\"a\")"
   ]
  },
  {
   "cell_type": "code",
   "execution_count": 12,
   "metadata": {},
   "outputs": [],
   "source": [
    "#Check if a String is Empty or Not*\n",
    "def check_empty_string(input_string):\n",
    "    if input_string == \"\":\n",
    "        return True\n",
    "    else:\n",
    "        return False"
   ]
  },
  {
   "cell_type": "code",
   "execution_count": 13,
   "metadata": {},
   "outputs": [
    {
     "data": {
      "text/plain": [
       "False"
      ]
     },
     "execution_count": 13,
     "metadata": {},
     "output_type": "execute_result"
    }
   ],
   "source": [
    "check_empty_string(\"shuham\")"
   ]
  },
  {
   "cell_type": "code",
   "execution_count": 14,
   "metadata": {},
   "outputs": [],
   "source": [
    "#Check if Two Numbers are Equal, Greater, or Lesser\n",
    "def check_numbers(num1, num2):\n",
    "    if num1 == num2:\n",
    "        return \"Equal\"\n",
    "    \n",
    "    elif num1 > num2:\n",
    "        return \"Greater\"\n",
    "    else:\n",
    "        return \"Lesser\""
   ]
  },
  {
   "cell_type": "code",
   "execution_count": 15,
   "metadata": {},
   "outputs": [
    {
     "data": {
      "text/plain": [
       "'Greater'"
      ]
     },
     "execution_count": 15,
     "metadata": {},
     "output_type": "execute_result"
    }
   ],
   "source": [
    "check_numbers(231,31)"
   ]
  },
  {
   "cell_type": "code",
   "execution_count": 16,
   "metadata": {},
   "outputs": [],
   "source": [
    "#mplement a Simple Calculator Using `if-elif-else` Statements\n",
    "#===========================================================\n",
    "def calculator():\n",
    "    print(\"Simple Calculator\")\n",
    "    num1 = float(input(\"Enter first number: \"))\n",
    "    operator = input(\"Enter operator (+, -, *, /): \")\n",
    "    num2 = float(input(\"Enter second number: \"))\n",
    "    if operator == \"+\":\n",
    "        print(num1, \"+\", num2, \"=\", num1 + num2)\n",
    "    elif operator == \"-\":\n",
    "        print(num1, \"-\", num2, \"=\", num1 - num2)\n",
    "    elif operator == \"*\":\n",
    "        print(num1, \"*\", num2, \"=\", num1 * num2)\n",
    "    elif operator == \"/\":\n",
    "        if num2 != 0:\n",
    "            print(num1, \"/\", num2, \"=\", num1 / num2)\n",
    "        else:\n",
    "            print(\"Error! Division by zero is not allowed.\")    \n",
    "    else:\n",
    "        print(\"Invalid operator. Please enter one of the following: +, -, *, /\")\n",
    "        #===========================================================\n",
    "    "
   ]
  },
  {
   "cell_type": "code",
   "execution_count": 17,
   "metadata": {},
   "outputs": [
    {
     "name": "stdout",
     "output_type": "stream",
     "text": [
      "Simple Calculator\n",
      "32.0 / 4.0 = 8.0\n"
     ]
    }
   ],
   "source": [
    "calculator()"
   ]
  },
  {
   "cell_type": "code",
   "execution_count": 19,
   "metadata": {},
   "outputs": [
    {
     "name": "stdout",
     "output_type": "stream",
     "text": [
      "True\n",
      "True\n"
     ]
    }
   ],
   "source": [
    "#Determine if a String Starts with a Vowe\n",
    "def starts_with_vowel(s):\n",
    "    vowels = 'aeiouAEIOU'\n",
    "    return s[0] in vowels\n",
    "\n",
    "print(starts_with_vowel('apple')) # False\n",
    "print(starts_with_vowel('Aardvark')) # True\n"
   ]
  },
  {
   "cell_type": "markdown",
   "metadata": {},
   "source": [
    "## For Loop Questions"
   ]
  },
  {
   "cell_type": "code",
   "execution_count": 20,
   "metadata": {},
   "outputs": [
    {
     "name": "stdout",
     "output_type": "stream",
     "text": [
      "312\n",
      "3123\n",
      "shubham\n",
      "True\n"
     ]
    }
   ],
   "source": [
    "#print All Elements in a List Using a For Loop\n",
    "for i in [312,3123,\"shubham\" , True]:\n",
    "    print(i)\n"
   ]
  },
  {
   "cell_type": "code",
   "execution_count": 21,
   "metadata": {},
   "outputs": [],
   "source": [
    "#calculate the Sum of All Numbers in a List\n",
    "def sum_of_numbers(lst):\n",
    "    return sum(lst)\n"
   ]
  },
  {
   "cell_type": "code",
   "execution_count": 22,
   "metadata": {},
   "outputs": [
    {
     "data": {
      "text/plain": [
       "56"
      ]
     },
     "execution_count": 22,
     "metadata": {},
     "output_type": "execute_result"
    }
   ],
   "source": [
    "sum_of_numbers([12,32,12])"
   ]
  },
  {
   "cell_type": "code",
   "execution_count": 23,
   "metadata": {},
   "outputs": [
    {
     "data": {
      "text/plain": [
       "120"
      ]
     },
     "execution_count": 23,
     "metadata": {},
     "output_type": "execute_result"
    }
   ],
   "source": [
    "#Find the Factorial of a Given Number\n",
    "#=====================================\n",
    "def factorial(n):\n",
    "    if n == 0:\n",
    "        return 1\n",
    "    else:\n",
    "        return n * factorial(n-1)\n",
    "    \n",
    "factorial(5)"
   ]
  },
  {
   "cell_type": "code",
   "execution_count": 24,
   "metadata": {},
   "outputs": [
    {
     "name": "stdout",
     "output_type": "stream",
     "text": [
      "8 x 1 = 8\n",
      "8 x 2 = 16\n",
      "8 x 3 = 24\n",
      "8 x 4 = 32\n",
      "8 x 5 = 40\n",
      "8 x 6 = 48\n",
      "8 x 7 = 56\n",
      "8 x 8 = 64\n",
      "8 x 9 = 72\n",
      "8 x 10 = 80\n"
     ]
    }
   ],
   "source": [
    "#Print the Multiplication Table of a Given Number\n",
    "def print_multiplication_table(n):\n",
    "    for i in range(1, 11):\n",
    "        print(f\"{n} x {i} = {n * i}\")\n",
    "\n",
    "print_multiplication_table(8)        "
   ]
  },
  {
   "cell_type": "code",
   "execution_count": 27,
   "metadata": {},
   "outputs": [
    {
     "data": {
      "text/plain": [
       "[0, 1, 1, 2, 3, 5, 8, 13]"
      ]
     },
     "execution_count": 27,
     "metadata": {},
     "output_type": "execute_result"
    }
   ],
   "source": [
    "#Print the Fibonacci Sequence Up to `n` Term\n",
    "def fibonacci_sequence(n):\n",
    "    sequence = []\n",
    "    a, b = 0, 1\n",
    "    for _ in range(n):\n",
    "        sequence.append(a)\n",
    "        a, b = b, a + b\n",
    "    return sequence\n",
    "    \n",
    "fibonacci_sequence(8)"
   ]
  },
  {
   "cell_type": "code",
   "execution_count": 29,
   "metadata": {},
   "outputs": [
    {
     "name": "stdout",
     "output_type": "stream",
     "text": [
      "even counnt: 3\n",
      "odd count: 3\n"
     ]
    }
   ],
   "source": [
    "#ount the Number of Even and Odd Numbers in a Lis\n",
    "\n",
    "def count_even_odd(lst):\n",
    "    even_count = 0\n",
    "    odd_count = 0\n",
    "    for num in lst:\n",
    "        if num % 2 == 0:\n",
    "            even_count += 1\n",
    "        else:\n",
    "            odd_count += 1\n",
    "    print(\"even counnt:\" , even_count)\n",
    "    print(\"odd count:\" , odd_count)\n",
    "    \n",
    "\n",
    "count_even_odd([12,2131,43,23,56,44])"
   ]
  },
  {
   "cell_type": "code",
   "execution_count": 1,
   "metadata": {},
   "outputs": [
    {
     "name": "stdout",
     "output_type": "stream",
     "text": [
      "2,3,5,7,11,13,17,19,23,29,31,37,41,43,47,53,59,61,67,71,73,79,83,89,97,"
     ]
    }
   ],
   "source": [
    "# Print All Prime Numbers Within a Given Range\n",
    "def print_primes(start, end):\n",
    "    for num in range(start, end + 1):\n",
    "        if num > 1:  \n",
    "            is_prime = True\n",
    "            for i in range(2, int(num ** 0.5) + 1):  \n",
    "                if (num % i) == 0: \n",
    "                    is_prime = False\n",
    "                    break\n",
    "            if is_prime:  \n",
    "                print(num , end=\",\")\n",
    "\n",
    "\n",
    "print_primes(0, 100)\n"
   ]
  },
  {
   "cell_type": "code",
   "execution_count": 33,
   "metadata": {},
   "outputs": [
    {
     "name": "stdout",
     "output_type": "stream",
     "text": [
      "6\n",
      "3\n",
      "6\n"
     ]
    }
   ],
   "source": [
    "#*Find the Length of Each Word in a List of String\n",
    "words = [\"shubha\" , \"ram\" , \"mickel\"]\n",
    "for i in range(len(words)):\n",
    "    print(len(words[i]))\n"
   ]
  },
  {
   "cell_type": "code",
   "execution_count": 35,
   "metadata": {},
   "outputs": [
    {
     "name": "stdout",
     "output_type": "stream",
     "text": [
      "exist\n",
      "not exist\n",
      "exist\n",
      "not exist\n",
      "not exist\n",
      "not exist\n"
     ]
    }
   ],
   "source": [
    "#Check if an Element Exists in a List Without Using the `in` Keyword*\n",
    "#===========================================================\n",
    "list = [123,\"shubham\" , 123,12,32,\"ram\"]\n",
    "element = 123\n",
    "for i in list:\n",
    "    if i==element:\n",
    "        print(\"exist\")\n",
    "    else:\n",
    "        print(\"not exist\")"
   ]
  },
  {
   "cell_type": "markdown",
   "metadata": {},
   "source": [
    "## While Loop Questions"
   ]
  },
  {
   "cell_type": "code",
   "execution_count": 5,
   "metadata": {},
   "outputs": [
    {
     "name": "stdout",
     "output_type": "stream",
     "text": [
      "1\n",
      "2\n",
      "3\n",
      "4\n",
      "5\n",
      "6\n",
      "7\n",
      "8\n",
      "9\n",
      "10\n"
     ]
    }
   ],
   "source": [
    "#Print Numbers From 1 to 10 Using a While Loop\n",
    "#==============================================\n",
    "i = 1\n",
    "while i <= 10:\n",
    "    print(i)\n",
    "    i+=1\n",
    "\n"
   ]
  },
  {
   "cell_type": "code",
   "execution_count": 6,
   "metadata": {},
   "outputs": [
    {
     "data": {
      "text/plain": [
       "12"
      ]
     },
     "execution_count": 6,
     "metadata": {},
     "output_type": "execute_result"
    }
   ],
   "source": [
    "#Calculate the Sum of Digits of a Given Number\n",
    "def sum_of_digits(n):\n",
    "    return sum(int(digit) for digit in str(n))\n",
    "\n",
    "sum_of_digits(13134)"
   ]
  },
  {
   "cell_type": "code",
   "execution_count": 7,
   "metadata": {},
   "outputs": [
    {
     "data": {
      "text/plain": [
       "12"
      ]
     },
     "execution_count": 7,
     "metadata": {},
     "output_type": "execute_result"
    }
   ],
   "source": [
    "#find the Greatest Common Divisor (GCD) of Two Number\n",
    "def gcd(a, b):\n",
    "    while b != 0:\n",
    "        a, b = b, a % b\n",
    "        return a\n",
    "    \n",
    "gcd(24,12)"
   ]
  },
  {
   "cell_type": "code",
   "execution_count": 2,
   "metadata": {},
   "outputs": [
    {
     "name": "stdout",
     "output_type": "stream",
     "text": [
      "['23']\n",
      "['23', '123']\n",
      "['23', '123', '4124']\n",
      "exit\n"
     ]
    }
   ],
   "source": [
    "#eep Taking Input From the User Until They Enter 'exi\n",
    "data = []\n",
    "while True :\n",
    "    user_input = input(\"Enter a number: \")\n",
    "    \n",
    "    \n",
    "    if user_input.lower() == 'exit':\n",
    "        print(user_input)\n",
    "        break\n",
    "    \n",
    "    data.append(user_input)\n",
    "\n",
    "    print(data)\n",
    "\n",
    "\n",
    "\n",
    "\n"
   ]
  },
  {
   "cell_type": "code",
   "execution_count": 6,
   "metadata": {},
   "outputs": [
    {
     "name": "stdout",
     "output_type": "stream",
     "text": [
      "False \n",
      " True\n"
     ]
    }
   ],
   "source": [
    "#heck if a Number is a Palindrome\n",
    "def is_palindrome(n):\n",
    "    return str(n) == str(n)[::-1]\n",
    "\n",
    "print(is_palindrome(\"shubham\") ,\"\\n\",\n",
    "is_palindrome(\"tenet\"))"
   ]
  },
  {
   "cell_type": "code",
   "execution_count": 7,
   "metadata": {},
   "outputs": [
    {
     "data": {
      "text/plain": [
       "36"
      ]
     },
     "execution_count": 7,
     "metadata": {},
     "output_type": "execute_result"
    }
   ],
   "source": [
    "#Sum of Natural Numbers Until a Given Numbe\n",
    "def sum_of_natural_numbers(n):\n",
    "    return n * (n + 1) // 2\n",
    "\n",
    "sum_of_natural_numbers(8)"
   ]
  },
  {
   "cell_type": "code",
   "execution_count": 1,
   "metadata": {},
   "outputs": [],
   "source": [
    "#mplement a Simple Menu-Driven Program Using While Loop\n",
    "#===========================================================\n",
    "def menu_driven_program():\n",
    "    while True :\n",
    "        print(\"\\nMenu\")\n",
    "        print(\"1. Option 1\")\n",
    "        print(\"2. Option 2\")\n",
    "        print(\"3. Exit\")\n",
    "        choice = input(\"Enter your choice: \")\n",
    "\n",
    "        if choice == \"1\":\n",
    "            print(\"You have chosen Option 1\")\n",
    "        elif choice == \"2\":\n",
    "            print(\"You have chosen Option 2\")\n",
    "        elif choice == \"3\":\n",
    "            print(\"Exiting the program\")\n",
    "            break\n",
    "        else :\n",
    "            print(\"Invalid choice. Please choose a valid option.\")\n",
    "            \n",
    "\n",
    "    "
   ]
  },
  {
   "cell_type": "code",
   "execution_count": 2,
   "metadata": {},
   "outputs": [
    {
     "name": "stdout",
     "output_type": "stream",
     "text": [
      "\n",
      "Menu\n",
      "1. Option 1\n",
      "2. Option 2\n",
      "3. Exit\n",
      "Invalid choice. Please choose a valid option.\n",
      "\n",
      "Menu\n",
      "1. Option 1\n",
      "2. Option 2\n",
      "3. Exit\n",
      "You have chosen Option 2\n",
      "\n",
      "Menu\n",
      "1. Option 1\n",
      "2. Option 2\n",
      "3. Exit\n",
      "You have chosen Option 1\n",
      "\n",
      "Menu\n",
      "1. Option 1\n",
      "2. Option 2\n",
      "3. Exit\n",
      "Exiting the program\n"
     ]
    }
   ],
   "source": [
    "menu_driven_program()"
   ]
  },
  {
   "cell_type": "code",
   "execution_count": 2,
   "metadata": {},
   "outputs": [
    {
     "name": "stdout",
     "output_type": "stream",
     "text": [
      "Incorrect password. You have 2 attempts left.\n",
      "Incorrect password. You have 1 attempts left.\n",
      "Access denied. You have used all attempts.\n"
     ]
    }
   ],
   "source": [
    "#imulate a Basic Password Check That Limits to 3 Attempts\n",
    "def password_check():\n",
    "    correct_password = \"secure123\"  \n",
    "    max_attempts = 3  \n",
    "\n",
    "    for attempt in range(1, max_attempts + 1):\n",
    "        entered_password = input(f\"Attempt {attempt}/{max_attempts}: Enter your password: \")\n",
    "\n",
    "        if entered_password == correct_password:\n",
    "            print(\"Access granted!\")\n",
    "            return  \n",
    "        else:\n",
    "            remaining_attempts = max_attempts - attempt\n",
    "            if remaining_attempts > 0:\n",
    "                print(f\"Incorrect password. You have {remaining_attempts} attempts left.\")\n",
    "            else:\n",
    "                print(\"Access denied. You have used all attempts.\")\n",
    "\n",
    "\n",
    "password_check()\n"
   ]
  },
  {
   "cell_type": "code",
   "execution_count": null,
   "metadata": {},
   "outputs": [],
   "source": [
    "def password_check():\n",
    "    correct_password = \"secure123\"  \n",
    "    max_attempts = 3  \n",
    "\n",
    "    for attempt in range(1, max_attempts + 1):\n",
    "        try:\n",
    "            entered_password = int(input(f\"Attempt {attempt}/{max_attempts}: Enter your password: \")) #here we handling the runtime eror  by try except block by giving the input as string \n",
    "\n",
    "            if entered_password == correct_password:\n",
    "                print(\"Access granted!\")\n",
    "                return  # Exit the function if the password is correct\n",
    "            else:\n",
    "                remaining_attempts = max_attempts - attempt\n",
    "                if remaining_attempts > 0:\n",
    "                    print(f\"Incorrect password. You have {remaining_attempts} attempts left.\")\n",
    "                else:\n",
    "                    print(\"Access denied. You have used all attempts.\")\n",
    "        except Exception as e:\n",
    "            print(f\"An error occurred: {e}\")\n",
    "            print(\"Please try again.\")\n",
    "\n",
    "password_check()\n",
    "\n"
   ]
  },
  {
   "cell_type": "code",
   "execution_count": 7,
   "metadata": {},
   "outputs": [
    {
     "name": "stdout",
     "output_type": "stream",
     "text": [
      "1\n",
      "2\n"
     ]
    }
   ],
   "source": [
    "for i  in range(1,3):\n",
    "    print(i)"
   ]
  },
  {
   "cell_type": "code",
   "execution_count": null,
   "metadata": {},
   "outputs": [],
   "source": []
  },
  {
   "cell_type": "code",
   "execution_count": null,
   "metadata": {},
   "outputs": [],
   "source": []
  },
  {
   "cell_type": "code",
   "execution_count": 7,
   "metadata": {},
   "outputs": [
    {
     "name": "stdout",
     "output_type": "stream",
     "text": [
      "112 number  goes to greater than 100\n"
     ]
    }
   ],
   "source": [
    "#Keep Multiplying a Number by 2 Until It Becomes Greater Than 100\n",
    "#=====================================\n",
    "def double_until_greater_than_100(n):\n",
    "    while n <= 100:\n",
    "        n = n * 2\n",
    "\n",
    "    print(n , \"number  goes to greater than 100\")\n",
    "\n",
    "double_until_greater_than_100(7)"
   ]
  },
  {
   "cell_type": "code",
   "execution_count": 9,
   "metadata": {},
   "outputs": [
    {
     "name": "stdout",
     "output_type": "stream",
     "text": [
      "['2421321']\n"
     ]
    }
   ],
   "source": [
    "#rint the Digits of a Number in Reverse Order\n",
    "number = str(input())\n",
    "reverse_number = []\n",
    "reverse_number.append(str(number[::-1]))\n",
    "\n",
    "print(reverse_number)"
   ]
  },
  {
   "cell_type": "code",
   "execution_count": 10,
   "metadata": {},
   "outputs": [
    {
     "data": {
      "text/plain": [
       "list"
      ]
     },
     "execution_count": 10,
     "metadata": {},
     "output_type": "execute_result"
    }
   ],
   "source": [
    "type(reverse_number)"
   ]
  },
  {
   "cell_type": "code",
   "execution_count": 11,
   "metadata": {},
   "outputs": [
    {
     "name": "stdout",
     "output_type": "stream",
     "text": [
      "2421321 "
     ]
    }
   ],
   "source": [
    "for i in reverse_number:\n",
    "    print(i, end=' ')"
   ]
  },
  {
   "cell_type": "markdown",
   "metadata": {},
   "source": [
    "list compehension\n"
   ]
  },
  {
   "cell_type": "markdown",
   "metadata": {},
   "source": [
    "#1. Squares of Numbers\n",
    "Generate a list of squares for numbers from 1 to 10."
   ]
  },
  {
   "cell_type": "code",
   "execution_count": 5,
   "metadata": {},
   "outputs": [
    {
     "name": "stdout",
     "output_type": "stream",
     "text": [
      "[0, 1, 4, 9, 16, 25, 36, 49, 64, 81, 100]\n"
     ]
    }
   ],
   "source": [
    "square = [x*x for x in range(11)]\n",
    "print(square)"
   ]
  },
  {
   "cell_type": "code",
   "execution_count": 6,
   "metadata": {},
   "outputs": [
    {
     "data": {
      "text/plain": [
       "[2, 4, 6, 8, 10, 12, 14, 16, 18, 20]"
      ]
     },
     "execution_count": 6,
     "metadata": {},
     "output_type": "execute_result"
    }
   ],
   "source": [
    "#2. Even Numbers\n",
    "#Create a list of even numbers between 1 and 20.\n",
    "even_numbers = [x for x in range(1, 21) if x % 2 == 0]\n",
    "even_numbers"
   ]
  },
  {
   "cell_type": "code",
   "execution_count": 14,
   "metadata": {},
   "outputs": [
    {
     "name": "stdout",
     "output_type": "stream",
     "text": [
      "['SHUBHAM', 'DHARMRAJ', 'BIRARI']\n"
     ]
    }
   ],
   "source": [
    "#upper case strings\n",
    "name = ['shubham' , \"dharmraj\" , \"birari\"]\n",
    "newlist = [words.upper() for words in name]\n",
    "print(newlist)"
   ]
  },
  {
   "cell_type": "code",
   "execution_count": 16,
   "metadata": {},
   "outputs": [
    {
     "name": "stdout",
     "output_type": "stream",
     "text": [
      "[2, 5, 92]\n"
     ]
    }
   ],
   "source": [
    "# positive number\n",
    "num = [2,-3,5,-6,-3,92,-34]\n",
    "pos_num = [x for  x in num if x>=0]\n",
    "print(pos_num)"
   ]
  },
  {
   "cell_type": "code",
   "execution_count": 17,
   "metadata": {},
   "outputs": [
    {
     "data": {
      "text/plain": [
       "[(1, 4), (1, 5), (1, 6), (2, 4), (2, 5), (2, 6), (3, 4), (3, 5), (3, 6)]"
      ]
     },
     "execution_count": 17,
     "metadata": {},
     "output_type": "execute_result"
    }
   ],
   "source": [
    "#5. Pairs of Numbers\n",
    "#Generate all pairs (i, j) where i is from 1 to 3 and j is from 4 to 6\n",
    "pairs = [(i, j) for i in range(1, 4) for j in range(4, 7)]\n",
    "pairs"
   ]
  },
  {
   "cell_type": "code",
   "execution_count": 19,
   "metadata": {},
   "outputs": [
    {
     "data": {
      "text/plain": [
       "[2, 3, 23, 2, 2, 6]"
      ]
     },
     "execution_count": 19,
     "metadata": {},
     "output_type": "execute_result"
    }
   ],
   "source": [
    "#flattern matrix\n",
    "matrix = [[2,3],[23,2],[2,6]]\n",
    "flatter_mat = [num for sublist in matrix for num in sublist]\n",
    "flatter_mat"
   ]
  },
  {
   "cell_type": "code",
   "execution_count": 21,
   "metadata": {},
   "outputs": [
    {
     "data": {
      "text/plain": [
       "[7, 8, 6]"
      ]
     },
     "execution_count": 21,
     "metadata": {},
     "output_type": "execute_result"
    }
   ],
   "source": [
    "#len of string\n",
    "len_str = [len(strings) for strings in  ['shubham' , \"dharmraj\" , \"birari\"]]\n",
    "len_str"
   ]
  },
  {
   "cell_type": "code",
   "execution_count": 30,
   "metadata": {},
   "outputs": [
    {
     "name": "stdout",
     "output_type": "stream",
     "text": [
      "[3, 5, 6, 9, 10, 12, 15, 18, 20, 21, 24, 25, 27, 30, 33, 35, 36, 39, 40, 42, 45, 48, 50]\n"
     ]
    }
   ],
   "source": [
    "#Multiples of 3 or 5\n",
    "mul35 = [x for x in range(1, 51) if x % 3 == 0 or x % 5 == 0 ]\n",
    "print(mul35)"
   ]
  },
  {
   "cell_type": "code",
   "execution_count": 34,
   "metadata": {},
   "outputs": [
    {
     "name": "stdout",
     "output_type": "stream",
     "text": [
      "['shubham', 'dharmraj', 'birari']\n",
      "['mahbuhs', 'jarmrahd', 'irarib']\n"
     ]
    }
   ],
   "source": [
    "#reverse string\n",
    "print(names) \n",
    "rever_str = [items[::-1] for items in names]\n",
    "print(rever_str)"
   ]
  },
  {
   "cell_type": "code",
   "execution_count": 35,
   "metadata": {},
   "outputs": [
    {
     "data": {
      "text/plain": [
       "'mahuhs'"
      ]
     },
     "execution_count": 35,
     "metadata": {},
     "output_type": "execute_result"
    }
   ],
   "source": [
    "\"\".join(reversed(\"shuham\"))"
   ]
  },
  {
   "cell_type": "code",
   "execution_count": 44,
   "metadata": {},
   "outputs": [],
   "source": [
    "#6. Fibonacci Numbers\n",
    "# Create a list of the first 10 Fibonacci numbers using list comprehension.\n",
    "\n",
    "\n",
    "def fibonacci(n):\n",
    "\ta, b = 0, 1\n",
    "\tsequence = []\n",
    "\tfor _ in range(n):\n",
    "\t\tsequence.append(a)\n",
    "\t\ta, b = b, a + b\n",
    "\treturn sequence\n",
    "\n",
    "\n"
   ]
  },
  {
   "cell_type": "code",
   "execution_count": 42,
   "metadata": {},
   "outputs": [
    {
     "name": "stdout",
     "output_type": "stream",
     "text": [
      "[[0], [0, 1], [0, 1, 1], [0, 1, 1, 2], [0, 1, 1, 2, 3], [0, 1, 1, 2, 3, 5], [0, 1, 1, 2, 3, 5, 8], [0, 1, 1, 2, 3, 5, 8, 13], [0, 1, 1, 2, 3, 5, 8, 13, 21], [0, 1, 1, 2, 3, 5, 8, 13, 21, 34]]\n"
     ]
    }
   ],
   "source": [
    "fibonacci_numbers = [fibonacci(i) for i in range(1, 11)]\n",
    "print(fibonacci_numbers)"
   ]
  },
  {
   "cell_type": "code",
   "execution_count": 39,
   "metadata": {},
   "outputs": [
    {
     "data": {
      "text/plain": [
       "[0, 1, 1, 2]"
      ]
     },
     "execution_count": 39,
     "metadata": {},
     "output_type": "execute_result"
    }
   ],
   "source": [
    "fibonacci(4)"
   ]
  },
  {
   "cell_type": "code",
   "execution_count": 40,
   "metadata": {},
   "outputs": [
    {
     "data": {
      "text/plain": [
       "2"
      ]
     },
     "execution_count": 40,
     "metadata": {},
     "output_type": "execute_result"
    }
   ],
   "source": [
    "fibonacci(4)[-1]"
   ]
  },
  {
   "cell_type": "code",
   "execution_count": 43,
   "metadata": {},
   "outputs": [
    {
     "name": "stdout",
     "output_type": "stream",
     "text": [
      "[0, 1, 1, 2, 3, 5, 8, 13, 21, 34]\n"
     ]
    }
   ],
   "source": [
    "fibonacci_numbers = [fibonacci(i)[-1] for i in range(1, 11)]\n",
    "print(fibonacci_numbers)"
   ]
  },
  {
   "cell_type": "code",
   "execution_count": 10,
   "metadata": {},
   "outputs": [
    {
     "name": "stdout",
     "output_type": "stream",
     "text": [
      "[0, 1, 1, 2, 3, 5, 8, 13, 21, 34, 55, 89, 144]\n"
     ]
    }
   ],
   "source": [
    "listt = [0, 1]  \n",
    "\n",
    "[listt.append(listt[-1] + listt[-2]) for _ in range(11)]  \n",
    "\n",
    "print(listt)  \n"
   ]
  },
  {
   "cell_type": "code",
   "execution_count": 7,
   "metadata": {},
   "outputs": [
    {
     "name": "stdout",
     "output_type": "stream",
     "text": [
      "[1, 2, 3, 5, 8, 13, 21, 34, 55, 89, 144]\n"
     ]
    }
   ],
   "source": [
    "listt = []        \n",
    "a = [0, 1]        \n",
    "\n",
    "for i in range(11): \n",
    "    listt.append(a[-1] + a[-2])  \n",
    "    a.append(a[-1] + a[-2])     \n",
    "\n",
    "print(listt)  \n"
   ]
  },
  {
   "cell_type": "code",
   "execution_count": 10,
   "metadata": {},
   "outputs": [
    {
     "data": {
      "text/plain": [
       "[1]"
      ]
     },
     "execution_count": 10,
     "metadata": {},
     "output_type": "execute_result"
    }
   ],
   "source": [
    "a = [0,1]\n",
    "listt=[]\n",
    "listt.append(a[-1] + a[-2])\n",
    "listt"
   ]
  },
  {
   "cell_type": "code",
   "execution_count": 11,
   "metadata": {},
   "outputs": [],
   "source": [
    "a.append(a[-1] + a[-2]) "
   ]
  },
  {
   "cell_type": "code",
   "execution_count": 12,
   "metadata": {},
   "outputs": [
    {
     "data": {
      "text/plain": [
       "[0, 1, 1]"
      ]
     },
     "execution_count": 12,
     "metadata": {},
     "output_type": "execute_result"
    }
   ],
   "source": [
    "a"
   ]
  },
  {
   "cell_type": "code",
   "execution_count": 13,
   "metadata": {},
   "outputs": [
    {
     "data": {
      "text/plain": [
       "[1, 2]"
      ]
     },
     "execution_count": 13,
     "metadata": {},
     "output_type": "execute_result"
    }
   ],
   "source": [
    "listt.append(a[-1] + a[-2])\n",
    "listt"
   ]
  },
  {
   "cell_type": "code",
   "execution_count": 15,
   "metadata": {},
   "outputs": [
    {
     "data": {
      "text/plain": [
       "[0, 1, 1, 2, 3]"
      ]
     },
     "execution_count": 15,
     "metadata": {},
     "output_type": "execute_result"
    }
   ],
   "source": [
    "a.append(a[-1] + a[-2]) \n",
    "a"
   ]
  },
  {
   "cell_type": "code",
   "execution_count": null,
   "metadata": {},
   "outputs": [],
   "source": []
  },
  {
   "cell_type": "code",
   "execution_count": null,
   "metadata": {},
   "outputs": [],
   "source": []
  },
  {
   "cell_type": "code",
   "execution_count": null,
   "metadata": {},
   "outputs": [],
   "source": []
  },
  {
   "cell_type": "code",
   "execution_count": null,
   "metadata": {},
   "outputs": [],
   "source": []
  },
  {
   "cell_type": "code",
   "execution_count": null,
   "metadata": {},
   "outputs": [],
   "source": []
  },
  {
   "cell_type": "code",
   "execution_count": null,
   "metadata": {},
   "outputs": [],
   "source": []
  },
  {
   "cell_type": "code",
   "execution_count": null,
   "metadata": {},
   "outputs": [],
   "source": []
  },
  {
   "cell_type": "code",
   "execution_count": null,
   "metadata": {},
   "outputs": [],
   "source": []
  },
  {
   "cell_type": "code",
   "execution_count": null,
   "metadata": {},
   "outputs": [],
   "source": []
  },
  {
   "cell_type": "code",
   "execution_count": null,
   "metadata": {},
   "outputs": [],
   "source": []
  },
  {
   "cell_type": "code",
   "execution_count": null,
   "metadata": {},
   "outputs": [],
   "source": []
  },
  {
   "cell_type": "code",
   "execution_count": null,
   "metadata": {},
   "outputs": [],
   "source": []
  },
  {
   "cell_type": "code",
   "execution_count": null,
   "metadata": {},
   "outputs": [],
   "source": []
  },
  {
   "cell_type": "code",
   "execution_count": null,
   "metadata": {},
   "outputs": [],
   "source": []
  },
  {
   "cell_type": "code",
   "execution_count": null,
   "metadata": {},
   "outputs": [],
   "source": []
  },
  {
   "cell_type": "code",
   "execution_count": null,
   "metadata": {},
   "outputs": [],
   "source": []
  },
  {
   "cell_type": "code",
   "execution_count": null,
   "metadata": {},
   "outputs": [],
   "source": []
  },
  {
   "cell_type": "code",
   "execution_count": null,
   "metadata": {},
   "outputs": [],
   "source": []
  },
  {
   "cell_type": "code",
   "execution_count": null,
   "metadata": {},
   "outputs": [],
   "source": []
  },
  {
   "cell_type": "code",
   "execution_count": null,
   "metadata": {},
   "outputs": [],
   "source": []
  },
  {
   "cell_type": "code",
   "execution_count": null,
   "metadata": {},
   "outputs": [],
   "source": []
  },
  {
   "cell_type": "code",
   "execution_count": null,
   "metadata": {},
   "outputs": [],
   "source": []
  },
  {
   "cell_type": "code",
   "execution_count": null,
   "metadata": {},
   "outputs": [],
   "source": []
  },
  {
   "cell_type": "code",
   "execution_count": null,
   "metadata": {},
   "outputs": [],
   "source": []
  },
  {
   "cell_type": "code",
   "execution_count": null,
   "metadata": {},
   "outputs": [],
   "source": []
  },
  {
   "cell_type": "code",
   "execution_count": null,
   "metadata": {},
   "outputs": [],
   "source": []
  },
  {
   "cell_type": "code",
   "execution_count": null,
   "metadata": {},
   "outputs": [],
   "source": []
  },
  {
   "cell_type": "code",
   "execution_count": null,
   "metadata": {},
   "outputs": [],
   "source": []
  },
  {
   "cell_type": "code",
   "execution_count": null,
   "metadata": {},
   "outputs": [],
   "source": []
  },
  {
   "cell_type": "code",
   "execution_count": null,
   "metadata": {},
   "outputs": [],
   "source": []
  },
  {
   "cell_type": "code",
   "execution_count": null,
   "metadata": {},
   "outputs": [],
   "source": []
  },
  {
   "cell_type": "code",
   "execution_count": null,
   "metadata": {},
   "outputs": [],
   "source": []
  }
 ],
 "metadata": {
  "kernelspec": {
   "display_name": "Python 3",
   "language": "python",
   "name": "python3"
  },
  "language_info": {
   "codemirror_mode": {
    "name": "ipython",
    "version": 3
   },
   "file_extension": ".py",
   "mimetype": "text/x-python",
   "name": "python",
   "nbconvert_exporter": "python",
   "pygments_lexer": "ipython3",
   "version": "3.12.5"
  }
 },
 "nbformat": 4,
 "nbformat_minor": 2
}

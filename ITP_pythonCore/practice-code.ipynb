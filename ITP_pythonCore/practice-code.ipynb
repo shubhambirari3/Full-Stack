{
 "cells": [
  {
   "cell_type": "code",
   "execution_count": 66,
   "metadata": {
    "execution": {
     "iopub.execute_input": "2024-10-11T05:06:52.134797Z",
     "iopub.status.busy": "2024-10-11T05:06:52.134271Z",
     "iopub.status.idle": "2024-10-11T05:06:52.141571Z",
     "shell.execute_reply": "2024-10-11T05:06:52.139982Z",
     "shell.execute_reply.started": "2024-10-11T05:06:52.134755Z"
    },
    "trusted": true
   },
   "outputs": [
    {
     "name": "stdout",
     "output_type": "stream",
     "text": [
      "helloooo!!!!\n"
     ]
    }
   ],
   "source": [
    "print(\"helloooo!!!!\")"
   ]
  },
  {
   "cell_type": "code",
   "execution_count": 67,
   "metadata": {
    "execution": {
     "iopub.execute_input": "2024-10-11T05:06:52.144537Z",
     "iopub.status.busy": "2024-10-11T05:06:52.143999Z",
     "iopub.status.idle": "2024-10-11T05:06:52.156389Z",
     "shell.execute_reply": "2024-10-11T05:06:52.154913Z",
     "shell.execute_reply.started": "2024-10-11T05:06:52.144481Z"
    },
    "trusted": true
   },
   "outputs": [],
   "source": [
    "# shhubham\n",
    "## subhham\n",
    "### shubham"
   ]
  },
  {
   "cell_type": "code",
   "execution_count": null,
   "metadata": {},
   "outputs": [],
   "source": []
  },
  {
   "cell_type": "markdown",
   "metadata": {},
   "source": [
    "# shubbham\n",
    "## hello\n",
    "### hello "
   ]
  },
  {
   "cell_type": "code",
   "execution_count": 68,
   "metadata": {
    "execution": {
     "iopub.execute_input": "2024-10-11T05:06:52.159767Z",
     "iopub.status.busy": "2024-10-11T05:06:52.159305Z",
     "iopub.status.idle": "2024-10-11T05:06:52.169557Z",
     "shell.execute_reply": "2024-10-11T05:06:52.168295Z",
     "shell.execute_reply.started": "2024-10-11T05:06:52.159724Z"
    },
    "trusted": true
   },
   "outputs": [],
   "source": [
    "import  pandas as pd"
   ]
  },
  {
   "cell_type": "code",
   "execution_count": 69,
   "metadata": {
    "execution": {
     "iopub.execute_input": "2024-10-11T05:06:52.172091Z",
     "iopub.status.busy": "2024-10-11T05:06:52.171649Z",
     "iopub.status.idle": "2024-10-11T05:06:52.185636Z",
     "shell.execute_reply": "2024-10-11T05:06:52.184169Z",
     "shell.execute_reply.started": "2024-10-11T05:06:52.172051Z"
    },
    "trusted": true
   },
   "outputs": [],
   "source": [
    "#ds = pd.read_csv(\"/kaggle/input/dataset/gapminder-FiveYearData.csv\")"
   ]
  },
  {
   "cell_type": "code",
   "execution_count": 70,
   "metadata": {
    "execution": {
     "iopub.execute_input": "2024-10-11T05:06:52.188134Z",
     "iopub.status.busy": "2024-10-11T05:06:52.187531Z",
     "iopub.status.idle": "2024-10-11T05:06:52.201212Z",
     "shell.execute_reply": "2024-10-11T05:06:52.199558Z",
     "shell.execute_reply.started": "2024-10-11T05:06:52.188080Z"
    },
    "trusted": true
   },
   "outputs": [],
   "source": [
    "#ds.columns"
   ]
  },
  {
   "cell_type": "code",
   "execution_count": 71,
   "metadata": {
    "execution": {
     "iopub.execute_input": "2024-10-11T05:06:52.203458Z",
     "iopub.status.busy": "2024-10-11T05:06:52.202974Z",
     "iopub.status.idle": "2024-10-11T05:06:52.220028Z",
     "shell.execute_reply": "2024-10-11T05:06:52.218357Z",
     "shell.execute_reply.started": "2024-10-11T05:06:52.203403Z"
    },
    "trusted": true
   },
   "outputs": [
    {
     "data": {
      "text/plain": [
       "11"
      ]
     },
     "execution_count": 71,
     "metadata": {},
     "output_type": "execute_result"
    }
   ],
   "source": [
    "a= 5 \n",
    "b = 6\n",
    "a+b"
   ]
  },
  {
   "cell_type": "code",
   "execution_count": 72,
   "metadata": {
    "execution": {
     "iopub.execute_input": "2024-10-11T05:06:52.222154Z",
     "iopub.status.busy": "2024-10-11T05:06:52.221589Z",
     "iopub.status.idle": "2024-10-11T05:06:52.234032Z",
     "shell.execute_reply": "2024-10-11T05:06:52.232630Z",
     "shell.execute_reply.started": "2024-10-11T05:06:52.221968Z"
    },
    "trusted": true
   },
   "outputs": [
    {
     "data": {
      "text/plain": [
       "'shubham birari'"
      ]
     },
     "execution_count": 72,
     "metadata": {},
     "output_type": "execute_result"
    }
   ],
   "source": [
    "a = \"shubham\"\n",
    "c = \" \"\n",
    "b = \"birari\"\n",
    "add = a+c+b\n",
    "add"
   ]
  },
  {
   "cell_type": "code",
   "execution_count": 73,
   "metadata": {
    "execution": {
     "iopub.execute_input": "2024-10-11T05:06:52.236170Z",
     "iopub.status.busy": "2024-10-11T05:06:52.235683Z",
     "iopub.status.idle": "2024-10-11T05:06:52.246717Z",
     "shell.execute_reply": "2024-10-11T05:06:52.245409Z",
     "shell.execute_reply.started": "2024-10-11T05:06:52.236119Z"
    },
    "trusted": true
   },
   "outputs": [
    {
     "data": {
      "text/plain": [
       "str"
      ]
     },
     "execution_count": 73,
     "metadata": {},
     "output_type": "execute_result"
    }
   ],
   "source": [
    "type(add)"
   ]
  },
  {
   "cell_type": "code",
   "execution_count": 74,
   "metadata": {
    "execution": {
     "iopub.execute_input": "2024-10-11T05:06:52.253154Z",
     "iopub.status.busy": "2024-10-11T05:06:52.251978Z",
     "iopub.status.idle": "2024-10-11T05:06:52.259139Z",
     "shell.execute_reply": "2024-10-11T05:06:52.257995Z",
     "shell.execute_reply.started": "2024-10-11T05:06:52.253100Z"
    },
    "trusted": true
   },
   "outputs": [
    {
     "name": "stdout",
     "output_type": "stream",
     "text": [
      "This is my first program\n"
     ]
    }
   ],
   "source": [
    "print(\"This is my first program\")"
   ]
  },
  {
   "cell_type": "code",
   "execution_count": 75,
   "metadata": {
    "execution": {
     "iopub.execute_input": "2024-10-11T05:06:52.261120Z",
     "iopub.status.busy": "2024-10-11T05:06:52.260619Z",
     "iopub.status.idle": "2024-10-11T05:06:52.275869Z",
     "shell.execute_reply": "2024-10-11T05:06:52.274681Z",
     "shell.execute_reply.started": "2024-10-11T05:06:52.261068Z"
    },
    "trusted": true
   },
   "outputs": [
    {
     "data": {
      "text/plain": [
       "str"
      ]
     },
     "execution_count": 75,
     "metadata": {},
     "output_type": "execute_result"
    }
   ],
   "source": [
    "a = 'true'\n",
    "type(a)"
   ]
  },
  {
   "cell_type": "code",
   "execution_count": 76,
   "metadata": {
    "execution": {
     "iopub.execute_input": "2024-10-11T05:06:52.277782Z",
     "iopub.status.busy": "2024-10-11T05:06:52.277406Z",
     "iopub.status.idle": "2024-10-11T05:06:52.294803Z",
     "shell.execute_reply": "2024-10-11T05:06:52.293156Z",
     "shell.execute_reply.started": "2024-10-11T05:06:52.277744Z"
    },
    "trusted": true
   },
   "outputs": [
    {
     "data": {
      "text/plain": [
       "'shubham birari'"
      ]
     },
     "execution_count": 76,
     "metadata": {},
     "output_type": "execute_result"
    }
   ],
   "source": [
    "add"
   ]
  },
  {
   "cell_type": "code",
   "execution_count": 77,
   "metadata": {
    "execution": {
     "iopub.execute_input": "2024-10-11T05:06:52.297130Z",
     "iopub.status.busy": "2024-10-11T05:06:52.296691Z",
     "iopub.status.idle": "2024-10-11T05:06:52.307641Z",
     "shell.execute_reply": "2024-10-11T05:06:52.306334Z",
     "shell.execute_reply.started": "2024-10-11T05:06:52.297089Z"
    },
    "trusted": true
   },
   "outputs": [
    {
     "data": {
      "text/plain": [
       "'b'"
      ]
     },
     "execution_count": 77,
     "metadata": {},
     "output_type": "execute_result"
    }
   ],
   "source": [
    "add[3]"
   ]
  },
  {
   "cell_type": "code",
   "execution_count": 78,
   "metadata": {
    "execution": {
     "iopub.execute_input": "2024-10-11T05:06:52.309398Z",
     "iopub.status.busy": "2024-10-11T05:06:52.308967Z",
     "iopub.status.idle": "2024-10-11T05:06:52.319842Z",
     "shell.execute_reply": "2024-10-11T05:06:52.318639Z",
     "shell.execute_reply.started": "2024-10-11T05:06:52.309344Z"
    },
    "trusted": true
   },
   "outputs": [
    {
     "data": {
      "text/plain": [
       "'shubham '"
      ]
     },
     "execution_count": 78,
     "metadata": {},
     "output_type": "execute_result"
    }
   ],
   "source": [
    "add[0:8]"
   ]
  },
  {
   "cell_type": "code",
   "execution_count": 79,
   "metadata": {
    "execution": {
     "iopub.execute_input": "2024-10-11T05:06:52.321811Z",
     "iopub.status.busy": "2024-10-11T05:06:52.321360Z",
     "iopub.status.idle": "2024-10-11T05:06:52.338792Z",
     "shell.execute_reply": "2024-10-11T05:06:52.336835Z",
     "shell.execute_reply.started": "2024-10-11T05:06:52.321758Z"
    },
    "trusted": true
   },
   "outputs": [
    {
     "data": {
      "text/plain": [
       "12"
      ]
     },
     "execution_count": 79,
     "metadata": {},
     "output_type": "execute_result"
    }
   ],
   "source": [
    "a = 3\n",
    "b = 4\n",
    "a*b"
   ]
  },
  {
   "cell_type": "code",
   "execution_count": 80,
   "metadata": {
    "execution": {
     "iopub.execute_input": "2024-10-11T05:06:52.341018Z",
     "iopub.status.busy": "2024-10-11T05:06:52.340549Z",
     "iopub.status.idle": "2024-10-11T05:06:52.353434Z",
     "shell.execute_reply": "2024-10-11T05:06:52.351914Z",
     "shell.execute_reply.started": "2024-10-11T05:06:52.340975Z"
    },
    "trusted": true
   },
   "outputs": [
    {
     "name": "stdout",
     "output_type": "stream",
     "text": [
      "4\n",
      "5\n",
      "6\n"
     ]
    }
   ],
   "source": [
    "x = 4\n",
    "y = 5\n",
    "z = 6\n",
    "print(x , y, z , sep=\"\\n\")"
   ]
  },
  {
   "cell_type": "code",
   "execution_count": 81,
   "metadata": {
    "execution": {
     "iopub.execute_input": "2024-10-11T05:06:52.355636Z",
     "iopub.status.busy": "2024-10-11T05:06:52.355141Z",
     "iopub.status.idle": "2024-10-11T05:06:52.368570Z",
     "shell.execute_reply": "2024-10-11T05:06:52.367274Z",
     "shell.execute_reply.started": "2024-10-11T05:06:52.355582Z"
    },
    "trusted": true
   },
   "outputs": [
    {
     "data": {
      "text/plain": [
       "'hba'"
      ]
     },
     "execution_count": 81,
     "metadata": {},
     "output_type": "execute_result"
    }
   ],
   "source": [
    "add[1:6:2]"
   ]
  },
  {
   "cell_type": "code",
   "execution_count": 82,
   "metadata": {
    "execution": {
     "iopub.execute_input": "2024-10-11T05:06:52.372099Z",
     "iopub.status.busy": "2024-10-11T05:06:52.370657Z",
     "iopub.status.idle": "2024-10-11T05:06:52.384624Z",
     "shell.execute_reply": "2024-10-11T05:06:52.383356Z",
     "shell.execute_reply.started": "2024-10-11T05:06:52.372039Z"
    },
    "trusted": true
   },
   "outputs": [
    {
     "data": {
      "text/plain": [
       "'irarib mahbuhs'"
      ]
     },
     "execution_count": 82,
     "metadata": {},
     "output_type": "execute_result"
    }
   ],
   "source": [
    "add[::-1]\n",
    "#reversee order"
   ]
  },
  {
   "cell_type": "code",
   "execution_count": 83,
   "metadata": {
    "execution": {
     "iopub.execute_input": "2024-10-11T05:06:52.387070Z",
     "iopub.status.busy": "2024-10-11T05:06:52.386593Z",
     "iopub.status.idle": "2024-10-11T05:06:52.397515Z",
     "shell.execute_reply": "2024-10-11T05:06:52.396177Z",
     "shell.execute_reply.started": "2024-10-11T05:06:52.387018Z"
    },
    "trusted": true
   },
   "outputs": [
    {
     "data": {
      "text/plain": [
       "'shubham birari'"
      ]
     },
     "execution_count": 83,
     "metadata": {},
     "output_type": "execute_result"
    }
   ],
   "source": [
    "add\n"
   ]
  },
  {
   "cell_type": "code",
   "execution_count": 84,
   "metadata": {
    "execution": {
     "iopub.execute_input": "2024-10-11T05:06:52.400235Z",
     "iopub.status.busy": "2024-10-11T05:06:52.399720Z",
     "iopub.status.idle": "2024-10-11T05:06:52.412645Z",
     "shell.execute_reply": "2024-10-11T05:06:52.411402Z",
     "shell.execute_reply.started": "2024-10-11T05:06:52.400174Z"
    },
    "trusted": true
   },
   "outputs": [
    {
     "data": {
      "text/plain": [
       "14"
      ]
     },
     "execution_count": 84,
     "metadata": {},
     "output_type": "execute_result"
    }
   ],
   "source": [
    "len(add)"
   ]
  },
  {
   "cell_type": "code",
   "execution_count": 85,
   "metadata": {
    "execution": {
     "iopub.execute_input": "2024-10-11T06:25:04.155778Z",
     "iopub.status.busy": "2024-10-11T06:25:04.155326Z",
     "iopub.status.idle": "2024-10-11T06:25:04.161349Z",
     "shell.execute_reply": "2024-10-11T06:25:04.160055Z",
     "shell.execute_reply.started": "2024-10-11T06:25:04.155725Z"
    },
    "trusted": true
   },
   "outputs": [],
   "source": [
    "abc = ['shuham' , 3.14 , 'hello' , True]\n",
    "abc[0] = \"shubham birari\"\n",
    "abc\n",
    "abc[1] = 31313\n"
   ]
  },
  {
   "cell_type": "code",
   "execution_count": 86,
   "metadata": {
    "execution": {
     "iopub.execute_input": "2024-10-11T06:25:05.173655Z",
     "iopub.status.busy": "2024-10-11T06:25:05.173230Z",
     "iopub.status.idle": "2024-10-11T06:25:05.180957Z",
     "shell.execute_reply": "2024-10-11T06:25:05.179782Z",
     "shell.execute_reply.started": "2024-10-11T06:25:05.173614Z"
    },
    "trusted": true
   },
   "outputs": [
    {
     "data": {
      "text/plain": [
       "['shubham birari', 31313, 'hello', True]"
      ]
     },
     "execution_count": 86,
     "metadata": {},
     "output_type": "execute_result"
    }
   ],
   "source": [
    "abc"
   ]
  },
  {
   "cell_type": "code",
   "execution_count": 87,
   "metadata": {
    "execution": {
     "iopub.execute_input": "2024-10-11T05:06:52.444748Z",
     "iopub.status.busy": "2024-10-11T05:06:52.444388Z",
     "iopub.status.idle": "2024-10-11T05:06:52.458704Z",
     "shell.execute_reply": "2024-10-11T05:06:52.457353Z",
     "shell.execute_reply.started": "2024-10-11T05:06:52.444714Z"
    },
    "trusted": true
   },
   "outputs": [
    {
     "data": {
      "text/plain": [
       "'u'"
      ]
     },
     "execution_count": 87,
     "metadata": {},
     "output_type": "execute_result"
    }
   ],
   "source": [
    "abc[0][2]\n",
    "#taking 2nd letter form 1st elements "
   ]
  },
  {
   "cell_type": "code",
   "execution_count": 88,
   "metadata": {
    "execution": {
     "iopub.execute_input": "2024-10-11T05:06:52.460886Z",
     "iopub.status.busy": "2024-10-11T05:06:52.460472Z",
     "iopub.status.idle": "2024-10-11T05:06:52.470832Z",
     "shell.execute_reply": "2024-10-11T05:06:52.469432Z",
     "shell.execute_reply.started": "2024-10-11T05:06:52.460823Z"
    },
    "trusted": true
   },
   "outputs": [],
   "source": [
    "#abc[0][2]= \"v\" this cant do this because string is unmutable "
   ]
  },
  {
   "cell_type": "code",
   "execution_count": 89,
   "metadata": {
    "execution": {
     "iopub.execute_input": "2024-10-11T05:06:52.473252Z",
     "iopub.status.busy": "2024-10-11T05:06:52.472777Z",
     "iopub.status.idle": "2024-10-11T05:06:52.490108Z",
     "shell.execute_reply": "2024-10-11T05:06:52.488402Z",
     "shell.execute_reply.started": "2024-10-11T05:06:52.473201Z"
    },
    "trusted": true
   },
   "outputs": [
    {
     "data": {
      "text/plain": [
       "'shubham birari'"
      ]
     },
     "execution_count": 89,
     "metadata": {},
     "output_type": "execute_result"
    }
   ],
   "source": [
    "add"
   ]
  },
  {
   "cell_type": "code",
   "execution_count": 90,
   "metadata": {
    "execution": {
     "iopub.execute_input": "2024-10-11T05:06:52.491831Z",
     "iopub.status.busy": "2024-10-11T05:06:52.491483Z",
     "iopub.status.idle": "2024-10-11T05:06:52.503538Z",
     "shell.execute_reply": "2024-10-11T05:06:52.502184Z",
     "shell.execute_reply.started": "2024-10-11T05:06:52.491795Z"
    },
    "trusted": true
   },
   "outputs": [
    {
     "data": {
      "text/plain": [
       "''"
      ]
     },
     "execution_count": 90,
     "metadata": {},
     "output_type": "execute_result"
    }
   ],
   "source": [
    "add[-1:-4]\n",
    "#But, the slicing rule is that the start index must be before the stop index when slicing forward. In your case, -1 (start) is after -4 (stop), so Python returns an empty string because it can't slice backwards with positive step defaults."
   ]
  },
  {
   "cell_type": "code",
   "execution_count": 91,
   "metadata": {
    "execution": {
     "iopub.execute_input": "2024-10-11T05:06:52.505802Z",
     "iopub.status.busy": "2024-10-11T05:06:52.505390Z",
     "iopub.status.idle": "2024-10-11T05:06:52.519191Z",
     "shell.execute_reply": "2024-10-11T05:06:52.517818Z",
     "shell.execute_reply.started": "2024-10-11T05:06:52.505762Z"
    },
    "trusted": true
   },
   "outputs": [
    {
     "data": {
      "text/plain": [
       "'rar'"
      ]
     },
     "execution_count": 91,
     "metadata": {},
     "output_type": "execute_result"
    }
   ],
   "source": [
    "add[-4:-1]\n",
    "#In Python slicing, the stop index is exclusive, meaning that the character at the stop index is not included in the slice. This is why when you use add[-4:-1], the character at the -1 index (which is \"i\") is not included."
   ]
  },
  {
   "cell_type": "code",
   "execution_count": 92,
   "metadata": {
    "execution": {
     "iopub.execute_input": "2024-10-11T05:06:52.527460Z",
     "iopub.status.busy": "2024-10-11T05:06:52.526558Z",
     "iopub.status.idle": "2024-10-11T05:06:52.538695Z",
     "shell.execute_reply": "2024-10-11T05:06:52.537280Z",
     "shell.execute_reply.started": "2024-10-11T05:06:52.527408Z"
    },
    "trusted": true
   },
   "outputs": [
    {
     "data": {
      "text/plain": [
       "'ira'"
      ]
     },
     "execution_count": 92,
     "metadata": {},
     "output_type": "execute_result"
    }
   ],
   "source": [
    "    add[-1:-4:-1]\n",
    "    #slicing from -1 to -4 with jump of 1 caracter "
   ]
  },
  {
   "cell_type": "code",
   "execution_count": 93,
   "metadata": {
    "execution": {
     "iopub.execute_input": "2024-10-11T05:06:52.541098Z",
     "iopub.status.busy": "2024-10-11T05:06:52.540534Z",
     "iopub.status.idle": "2024-10-11T05:06:52.553581Z",
     "shell.execute_reply": "2024-10-11T05:06:52.552329Z",
     "shell.execute_reply.started": "2024-10-11T05:06:52.541043Z"
    },
    "trusted": true
   },
   "outputs": [
    {
     "data": {
      "text/plain": [
       "14"
      ]
     },
     "execution_count": 93,
     "metadata": {},
     "output_type": "execute_result"
    }
   ],
   "source": [
    "len(add)"
   ]
  },
  {
   "cell_type": "code",
   "execution_count": 94,
   "metadata": {
    "execution": {
     "iopub.execute_input": "2024-10-11T05:06:52.555636Z",
     "iopub.status.busy": "2024-10-11T05:06:52.555158Z",
     "iopub.status.idle": "2024-10-11T05:06:52.570462Z",
     "shell.execute_reply": "2024-10-11T05:06:52.569131Z",
     "shell.execute_reply.started": "2024-10-11T05:06:52.555584Z"
    },
    "trusted": true
   },
   "outputs": [
    {
     "data": {
      "text/plain": [
       "'shubham birari'"
      ]
     },
     "execution_count": 94,
     "metadata": {},
     "output_type": "execute_result"
    }
   ],
   "source": [
    "add"
   ]
  },
  {
   "cell_type": "code",
   "execution_count": 95,
   "metadata": {
    "execution": {
     "iopub.execute_input": "2024-10-11T05:06:52.573240Z",
     "iopub.status.busy": "2024-10-11T05:06:52.572163Z",
     "iopub.status.idle": "2024-10-11T05:06:52.585493Z",
     "shell.execute_reply": "2024-10-11T05:06:52.583955Z",
     "shell.execute_reply.started": "2024-10-11T05:06:52.573188Z"
    },
    "trusted": true
   },
   "outputs": [
    {
     "data": {
      "text/plain": [
       "'iai ab'"
      ]
     },
     "execution_count": 95,
     "metadata": {},
     "output_type": "execute_result"
    }
   ],
   "source": [
    "add[-1:-13:-2]\n",
    "#reverse slice avvoiding 1 index"
   ]
  },
  {
   "cell_type": "code",
   "execution_count": 96,
   "metadata": {
    "execution": {
     "iopub.execute_input": "2024-10-11T05:06:52.587535Z",
     "iopub.status.busy": "2024-10-11T05:06:52.587045Z",
     "iopub.status.idle": "2024-10-11T05:06:52.602770Z",
     "shell.execute_reply": "2024-10-11T05:06:52.601326Z",
     "shell.execute_reply.started": "2024-10-11T05:06:52.587480Z"
    },
    "trusted": true
   },
   "outputs": [
    {
     "data": {
      "text/plain": [
       "'uaba'"
      ]
     },
     "execution_count": 96,
     "metadata": {},
     "output_type": "execute_result"
    }
   ],
   "source": [
    "add[2:14:3]"
   ]
  },
  {
   "cell_type": "code",
   "execution_count": 97,
   "metadata": {
    "execution": {
     "iopub.execute_input": "2024-10-11T05:06:52.605709Z",
     "iopub.status.busy": "2024-10-11T05:06:52.605186Z",
     "iopub.status.idle": "2024-10-11T05:06:52.617722Z",
     "shell.execute_reply": "2024-10-11T05:06:52.616063Z",
     "shell.execute_reply.started": "2024-10-11T05:06:52.605656Z"
    },
    "trusted": true
   },
   "outputs": [
    {
     "data": {
      "text/plain": [
       "['shubham birari', 31313, 'hello', True]"
      ]
     },
     "execution_count": 97,
     "metadata": {},
     "output_type": "execute_result"
    }
   ],
   "source": [
    "abc"
   ]
  },
  {
   "cell_type": "code",
   "execution_count": 98,
   "metadata": {
    "execution": {
     "iopub.execute_input": "2024-10-11T05:06:52.622808Z",
     "iopub.status.busy": "2024-10-11T05:06:52.621908Z",
     "iopub.status.idle": "2024-10-11T05:06:52.632753Z",
     "shell.execute_reply": "2024-10-11T05:06:52.631268Z",
     "shell.execute_reply.started": "2024-10-11T05:06:52.622759Z"
    },
    "trusted": true
   },
   "outputs": [
    {
     "data": {
      "text/plain": [
       "'shubham birari'"
      ]
     },
     "execution_count": 98,
     "metadata": {},
     "output_type": "execute_result"
    }
   ],
   "source": [
    "abc[0]"
   ]
  },
  {
   "cell_type": "code",
   "execution_count": 99,
   "metadata": {
    "execution": {
     "iopub.execute_input": "2024-10-11T05:06:52.635783Z",
     "iopub.status.busy": "2024-10-11T05:06:52.634620Z",
     "iopub.status.idle": "2024-10-11T05:06:52.649761Z",
     "shell.execute_reply": "2024-10-11T05:06:52.647930Z",
     "shell.execute_reply.started": "2024-10-11T05:06:52.635696Z"
    },
    "trusted": true
   },
   "outputs": [
    {
     "data": {
      "text/plain": [
       "['shubham birari', 31313, 'hello']"
      ]
     },
     "execution_count": 99,
     "metadata": {},
     "output_type": "execute_result"
    }
   ],
   "source": [
    "abc[0:3]"
   ]
  },
  {
   "cell_type": "code",
   "execution_count": 100,
   "metadata": {
    "execution": {
     "iopub.execute_input": "2024-10-11T05:06:52.652720Z",
     "iopub.status.busy": "2024-10-11T05:06:52.652199Z",
     "iopub.status.idle": "2024-10-11T05:06:52.662428Z",
     "shell.execute_reply": "2024-10-11T05:06:52.661013Z",
     "shell.execute_reply.started": "2024-10-11T05:06:52.652670Z"
    },
    "trusted": true
   },
   "outputs": [],
   "source": [
    "#append operaton\n",
    "abc.append(\"adding\")"
   ]
  },
  {
   "cell_type": "code",
   "execution_count": 101,
   "metadata": {
    "execution": {
     "iopub.execute_input": "2024-10-11T05:06:52.664573Z",
     "iopub.status.busy": "2024-10-11T05:06:52.663915Z",
     "iopub.status.idle": "2024-10-11T05:06:52.681356Z",
     "shell.execute_reply": "2024-10-11T05:06:52.679618Z",
     "shell.execute_reply.started": "2024-10-11T05:06:52.664439Z"
    },
    "trusted": true
   },
   "outputs": [
    {
     "data": {
      "text/plain": [
       "['shubham birari', 31313, 'hello', True, 'adding']"
      ]
     },
     "execution_count": 101,
     "metadata": {},
     "output_type": "execute_result"
    }
   ],
   "source": [
    "abc"
   ]
  },
  {
   "cell_type": "code",
   "execution_count": 102,
   "metadata": {
    "execution": {
     "iopub.execute_input": "2024-10-11T05:06:52.684084Z",
     "iopub.status.busy": "2024-10-11T05:06:52.683075Z",
     "iopub.status.idle": "2024-10-11T05:06:52.696650Z",
     "shell.execute_reply": "2024-10-11T05:06:52.694796Z",
     "shell.execute_reply.started": "2024-10-11T05:06:52.683962Z"
    },
    "trusted": true
   },
   "outputs": [],
   "source": [
    "#insert adding on 2nd position \n",
    "abc.insert(2 , \"add\")"
   ]
  },
  {
   "cell_type": "code",
   "execution_count": 103,
   "metadata": {
    "execution": {
     "iopub.execute_input": "2024-10-11T05:06:52.699441Z",
     "iopub.status.busy": "2024-10-11T05:06:52.698649Z",
     "iopub.status.idle": "2024-10-11T05:06:52.714340Z",
     "shell.execute_reply": "2024-10-11T05:06:52.712410Z",
     "shell.execute_reply.started": "2024-10-11T05:06:52.699394Z"
    },
    "trusted": true
   },
   "outputs": [
    {
     "data": {
      "text/plain": [
       "['shubham birari', 31313, 'add', 'hello', True, 'adding']"
      ]
     },
     "execution_count": 103,
     "metadata": {},
     "output_type": "execute_result"
    }
   ],
   "source": [
    "abc"
   ]
  },
  {
   "cell_type": "code",
   "execution_count": 104,
   "metadata": {
    "execution": {
     "iopub.execute_input": "2024-10-11T05:06:52.717048Z",
     "iopub.status.busy": "2024-10-11T05:06:52.716530Z",
     "iopub.status.idle": "2024-10-11T05:06:52.726684Z",
     "shell.execute_reply": "2024-10-11T05:06:52.724947Z",
     "shell.execute_reply.started": "2024-10-11T05:06:52.716991Z"
    },
    "trusted": true
   },
   "outputs": [],
   "source": [
    "# abc.extend(133)\n",
    "# int not innterable"
   ]
  },
  {
   "cell_type": "code",
   "execution_count": 105,
   "metadata": {
    "execution": {
     "iopub.execute_input": "2024-10-11T05:06:52.728572Z",
     "iopub.status.busy": "2024-10-11T05:06:52.728119Z",
     "iopub.status.idle": "2024-10-11T05:06:52.740835Z",
     "shell.execute_reply": "2024-10-11T05:06:52.739383Z",
     "shell.execute_reply.started": "2024-10-11T05:06:52.728495Z"
    },
    "trusted": true
   },
   "outputs": [],
   "source": [
    "#insted do tis \n",
    "abc.extend([1,3,3])"
   ]
  },
  {
   "cell_type": "code",
   "execution_count": 106,
   "metadata": {
    "execution": {
     "iopub.execute_input": "2024-10-11T06:24:43.233424Z",
     "iopub.status.busy": "2024-10-11T06:24:43.232963Z",
     "iopub.status.idle": "2024-10-11T06:24:43.261606Z",
     "shell.execute_reply": "2024-10-11T06:24:43.260101Z",
     "shell.execute_reply.started": "2024-10-11T06:24:43.233382Z"
    },
    "trusted": true
   },
   "outputs": [
    {
     "data": {
      "text/plain": [
       "['shubham birari', 31313, 'add', 'hello', True, 'adding', 1, 3, 3]"
      ]
     },
     "execution_count": 106,
     "metadata": {},
     "output_type": "execute_result"
    }
   ],
   "source": [
    "abc"
   ]
  },
  {
   "cell_type": "code",
   "execution_count": 107,
   "metadata": {
    "execution": {
     "iopub.execute_input": "2024-10-11T05:06:52.759344Z",
     "iopub.status.busy": "2024-10-11T05:06:52.758733Z",
     "iopub.status.idle": "2024-10-11T05:06:52.769794Z",
     "shell.execute_reply": "2024-10-11T05:06:52.768191Z",
     "shell.execute_reply.started": "2024-10-11T05:06:52.759292Z"
    },
    "trusted": true
   },
   "outputs": [
    {
     "data": {
      "text/plain": [
       "['shubham birari',\n",
       " 31313,\n",
       " 'add',\n",
       " 'hello',\n",
       " True,\n",
       " 'adding',\n",
       " 1,\n",
       " 3,\n",
       " 3,\n",
       " 'e',\n",
       " 'x',\n",
       " 't',\n",
       " 'e',\n",
       " 'n',\n",
       " 'd']"
      ]
     },
     "execution_count": 107,
     "metadata": {},
     "output_type": "execute_result"
    }
   ],
   "source": [
    "abc.extend(\"extend\")\n",
    "abc"
   ]
  },
  {
   "cell_type": "code",
   "execution_count": 108,
   "metadata": {
    "execution": {
     "iopub.execute_input": "2024-10-11T05:06:52.771945Z",
     "iopub.status.busy": "2024-10-11T05:06:52.771450Z",
     "iopub.status.idle": "2024-10-11T05:06:52.784294Z",
     "shell.execute_reply": "2024-10-11T05:06:52.782639Z",
     "shell.execute_reply.started": "2024-10-11T05:06:52.771890Z"
    },
    "trusted": true
   },
   "outputs": [
    {
     "data": {
      "text/plain": [
       "2"
      ]
     },
     "execution_count": 108,
     "metadata": {},
     "output_type": "execute_result"
    }
   ],
   "source": [
    "abc.count(3)"
   ]
  },
  {
   "cell_type": "code",
   "execution_count": 109,
   "metadata": {
    "execution": {
     "iopub.execute_input": "2024-10-11T05:06:52.786768Z",
     "iopub.status.busy": "2024-10-11T05:06:52.786147Z",
     "iopub.status.idle": "2024-10-11T05:06:52.804476Z",
     "shell.execute_reply": "2024-10-11T05:06:52.802765Z",
     "shell.execute_reply.started": "2024-10-11T05:06:52.786715Z"
    },
    "trusted": true
   },
   "outputs": [
    {
     "data": {
      "text/plain": [
       "'add'"
      ]
     },
     "execution_count": 109,
     "metadata": {},
     "output_type": "execute_result"
    }
   ],
   "source": [
    "abc.pop(2)"
   ]
  },
  {
   "cell_type": "code",
   "execution_count": 110,
   "metadata": {
    "execution": {
     "iopub.execute_input": "2024-10-11T05:07:15.487583Z",
     "iopub.status.busy": "2024-10-11T05:07:15.486517Z",
     "iopub.status.idle": "2024-10-11T05:07:15.498665Z",
     "shell.execute_reply": "2024-10-11T05:07:15.497417Z",
     "shell.execute_reply.started": "2024-10-11T05:07:15.487523Z"
    },
    "trusted": true
   },
   "outputs": [
    {
     "data": {
      "text/plain": [
       "['shubham birari',\n",
       " 31313,\n",
       " 'hello',\n",
       " True,\n",
       " 'adding',\n",
       " 1,\n",
       " 3,\n",
       " 3,\n",
       " 'e',\n",
       " 'x',\n",
       " 't',\n",
       " 'e',\n",
       " 'n',\n",
       " 'd']"
      ]
     },
     "execution_count": 110,
     "metadata": {},
     "output_type": "execute_result"
    }
   ],
   "source": [
    "abc"
   ]
  },
  {
   "cell_type": "code",
   "execution_count": 111,
   "metadata": {
    "execution": {
     "iopub.execute_input": "2024-10-11T05:07:40.013942Z",
     "iopub.status.busy": "2024-10-11T05:07:40.012865Z",
     "iopub.status.idle": "2024-10-11T05:07:40.020800Z",
     "shell.execute_reply": "2024-10-11T05:07:40.019452Z",
     "shell.execute_reply.started": "2024-10-11T05:07:40.013889Z"
    },
    "trusted": true
   },
   "outputs": [
    {
     "data": {
      "text/plain": [
       "244"
      ]
     },
     "execution_count": 111,
     "metadata": {},
     "output_type": "execute_result"
    }
   ],
   "source": [
    "cAvR = 244\n",
    "cAvR"
   ]
  },
  {
   "cell_type": "code",
   "execution_count": 112,
   "metadata": {
    "execution": {
     "iopub.execute_input": "2024-10-11T05:08:09.630987Z",
     "iopub.status.busy": "2024-10-11T05:08:09.629738Z",
     "iopub.status.idle": "2024-10-11T05:08:09.637514Z",
     "shell.execute_reply": "2024-10-11T05:08:09.636371Z",
     "shell.execute_reply.started": "2024-10-11T05:08:09.630935Z"
    },
    "trusted": true
   },
   "outputs": [
    {
     "data": {
      "text/plain": [
       "'shuhdm'"
      ]
     },
     "execution_count": 112,
     "metadata": {},
     "output_type": "execute_result"
    }
   ],
   "source": [
    "_viky_ = \"shuhdm\"\n",
    "_viky_"
   ]
  },
  {
   "cell_type": "code",
   "execution_count": 113,
   "metadata": {
    "execution": {
     "iopub.execute_input": "2024-10-11T05:28:16.978278Z",
     "iopub.status.busy": "2024-10-11T05:28:16.977802Z",
     "iopub.status.idle": "2024-10-11T05:28:16.984843Z",
     "shell.execute_reply": "2024-10-11T05:28:16.983531Z",
     "shell.execute_reply.started": "2024-10-11T05:28:16.978237Z"
    },
    "trusted": true
   },
   "outputs": [
    {
     "name": "stdout",
     "output_type": "stream",
     "text": [
      "not\n"
     ]
    }
   ],
   "source": [
    "shubh = 123\n",
    "SHUBH  = 132\n",
    "if shubh == SHUBH:\n",
    "    print(\"same\")\n",
    "else:\n",
    "    print(\"not\")"
   ]
  },
  {
   "cell_type": "code",
   "execution_count": 114,
   "metadata": {
    "execution": {
     "iopub.execute_input": "2024-10-11T05:20:20.489537Z",
     "iopub.status.busy": "2024-10-11T05:20:20.488608Z",
     "iopub.status.idle": "2024-10-11T05:20:20.495700Z",
     "shell.execute_reply": "2024-10-11T05:20:20.494258Z",
     "shell.execute_reply.started": "2024-10-11T05:20:20.489487Z"
    },
    "trusted": true
   },
   "outputs": [
    {
     "name": "stdout",
     "output_type": "stream",
     "text": [
      "shubh3\n"
     ]
    }
   ],
   "source": [
    "sdsd3231 = 12313\n",
    "print(\"shubh3\")"
   ]
  },
  {
   "cell_type": "code",
   "execution_count": 115,
   "metadata": {
    "execution": {
     "iopub.execute_input": "2024-10-11T05:20:41.322392Z",
     "iopub.status.busy": "2024-10-11T05:20:41.321805Z",
     "iopub.status.idle": "2024-10-11T05:20:41.329920Z",
     "shell.execute_reply": "2024-10-11T05:20:41.328060Z",
     "shell.execute_reply.started": "2024-10-11T05:20:41.322346Z"
    },
    "trusted": true
   },
   "outputs": [],
   "source": [
    "# 1332 = 313\n",
    "# print(\"1332\")"
   ]
  },
  {
   "cell_type": "code",
   "execution_count": 116,
   "metadata": {
    "execution": {
     "iopub.execute_input": "2024-10-11T05:25:53.497049Z",
     "iopub.status.busy": "2024-10-11T05:25:53.496559Z",
     "iopub.status.idle": "2024-10-11T05:25:53.504724Z",
     "shell.execute_reply": "2024-10-11T05:25:53.502950Z",
     "shell.execute_reply.started": "2024-10-11T05:25:53.497005Z"
    },
    "trusted": true
   },
   "outputs": [],
   "source": [
    "# $shubham = 123213\n",
    "# print(\"$shubham\")"
   ]
  },
  {
   "cell_type": "code",
   "execution_count": 117,
   "metadata": {
    "execution": {
     "iopub.execute_input": "2024-10-11T05:27:38.623986Z",
     "iopub.status.busy": "2024-10-11T05:27:38.622993Z",
     "iopub.status.idle": "2024-10-11T05:27:38.630728Z",
     "shell.execute_reply": "2024-10-11T05:27:38.629156Z",
     "shell.execute_reply.started": "2024-10-11T05:27:38.623860Z"
    },
    "trusted": true
   },
   "outputs": [],
   "source": [
    "#space not allowed\n",
    "# a b = 13\n",
    "# a b"
   ]
  },
  {
   "cell_type": "code",
   "execution_count": 119,
   "metadata": {
    "execution": {
     "iopub.execute_input": "2024-10-11T06:25:46.811633Z",
     "iopub.status.busy": "2024-10-11T06:25:46.811176Z",
     "iopub.status.idle": "2024-10-11T06:25:51.900549Z",
     "shell.execute_reply": "2024-10-11T06:25:51.899305Z",
     "shell.execute_reply.started": "2024-10-11T06:25:46.811594Z"
    },
    "trusted": true
   },
   "outputs": [],
   "source": [
    "#a = str(input())"
   ]
  },
  {
   "cell_type": "code",
   "execution_count": 71,
   "metadata": {
    "execution": {
     "iopub.execute_input": "2024-10-11T06:25:38.399402Z",
     "iopub.status.busy": "2024-10-11T06:25:38.398836Z",
     "iopub.status.idle": "2024-10-11T06:25:38.431373Z",
     "shell.execute_reply": "2024-10-11T06:25:38.429769Z",
     "shell.execute_reply.started": "2024-10-11T06:25:38.399358Z"
    },
    "trusted": true
   },
   "outputs": [],
   "source": [
    "#abc.splits() #string cant be split it is mutable \n"
   ]
  },
  {
   "cell_type": "code",
   "execution_count": 11,
   "metadata": {
    "execution": {
     "iopub.execute_input": "2024-10-11T06:26:08.623639Z",
     "iopub.status.busy": "2024-10-11T06:26:08.623182Z",
     "iopub.status.idle": "2024-10-11T06:26:08.631129Z",
     "shell.execute_reply": "2024-10-11T06:26:08.629829Z",
     "shell.execute_reply.started": "2024-10-11T06:26:08.623595Z"
    },
    "trusted": true
   },
   "outputs": [
    {
     "data": {
      "text/plain": [
       "['shubham']"
      ]
     },
     "execution_count": 11,
     "metadata": {},
     "output_type": "execute_result"
    }
   ],
   "source": [
    "a.split()"
   ]
  },
  {
   "cell_type": "code",
   "execution_count": 55,
   "metadata": {},
   "outputs": [
    {
     "data": {
      "text/plain": [
       "['shubham birari',\n",
       " 31313,\n",
       " 'hello',\n",
       " True,\n",
       " 'adding',\n",
       " 1,\n",
       " 3,\n",
       " 3,\n",
       " 'e',\n",
       " 'x',\n",
       " 't',\n",
       " 'e',\n",
       " 'n',\n",
       " 'd']"
      ]
     },
     "execution_count": 55,
     "metadata": {},
     "output_type": "execute_result"
    }
   ],
   "source": [
    "abc"
   ]
  },
  {
   "cell_type": "code",
   "execution_count": null,
   "metadata": {},
   "outputs": [],
   "source": []
  },
  {
   "cell_type": "code",
   "execution_count": 69,
   "metadata": {},
   "outputs": [],
   "source": [
    "n1 = \"shuham\"\n",
    "def name():\n",
    "    name = \"biari\"   \n",
    "    return name\n",
    "\n",
    "    "
   ]
  },
  {
   "cell_type": "code",
   "execution_count": 65,
   "metadata": {},
   "outputs": [
    {
     "name": "stdout",
     "output_type": "stream",
     "text": [
      "shuham\n"
     ]
    }
   ],
   "source": [
    "print(n1)"
   ]
  },
  {
   "cell_type": "code",
   "execution_count": 70,
   "metadata": {},
   "outputs": [
    {
     "data": {
      "text/plain": [
       "'biari'"
      ]
     },
     "execution_count": 70,
     "metadata": {},
     "output_type": "execute_result"
    }
   ],
   "source": [
    "#print(n2) error: its local var\n",
    "name()"
   ]
  },
  {
   "cell_type": "code",
   "execution_count": 4,
   "metadata": {},
   "outputs": [
    {
     "data": {
      "text/plain": [
       "['shubham birari', 31313, 'hello', True]"
      ]
     },
     "execution_count": 4,
     "metadata": {},
     "output_type": "execute_result"
    }
   ],
   "source": [
    "abc"
   ]
  },
  {
   "cell_type": "markdown",
   "metadata": {},
   "source": [
    "# List Operations"
   ]
  },
  {
   "cell_type": "code",
   "execution_count": null,
   "metadata": {},
   "outputs": [],
   "source": [
    "#list\n",
    "list1 = [13123,123.23,\"askjdja\" , 4+5j  ]\n",
    "list2 = [(12,23,32,\"shubh\") , True , 3.5]\n",
    "list3 = [3.2 , \"kjad\" , [12,12] , False]\n",
    "list5 = [{\"apple\" , \"banana\"} , (13,\"kndn\" ,12+3j)]\n",
    "list6 = [{\"set1\":\"asdbasb\" , \"set2\":123123 , \"set3\":True}]\n",
    "\n",
    "#string\n",
    "str1 = \"shubham_birari\"\n",
    "word = \"123asbdbj\"\n",
    "str3 = \"2131233123\"\n",
    "str4 = \"4+7j\"\n",
    "str5 = \"[(12,23,32) , True , 3.5]\"\n",
    "\n",
    "#tuples\n",
    "\n",
    "tup1 = (133,123.23,'kjadjldn' , True , 4+6j)\n",
    "tup2 = (\"jhadjha\" , 23,[(12,23,32,\"shubh\") , True , 3.5])\n",
    "tup3 = (133123,\"1233kdas\" , False )"
   ]
  },
  {
   "cell_type": "code",
   "execution_count": 3,
   "metadata": {},
   "outputs": [],
   "source": [
    "list1.append(\"ajdadkja\")"
   ]
  },
  {
   "cell_type": "code",
   "execution_count": 5,
   "metadata": {},
   "outputs": [],
   "source": [
    "list1.extend([\"jabdjadj\" , 1313, [13123,133]])"
   ]
  },
  {
   "cell_type": "code",
   "execution_count": 9,
   "metadata": {},
   "outputs": [],
   "source": [
    "list1.insert(1 ,\"insert\")"
   ]
  },
  {
   "cell_type": "code",
   "execution_count": 11,
   "metadata": {},
   "outputs": [
    {
     "name": "stdout",
     "output_type": "stream",
     "text": [
      "[13123, 'insert', 123.23, 'askjdja', (4+5j), 'ajdadkja', 'jabdjadj', 1313, [13123, 133], 'jabdjadj', 1313, [13123, 133]]\n"
     ]
    }
   ],
   "source": [
    "print(list1)"
   ]
  },
  {
   "cell_type": "code",
   "execution_count": 20,
   "metadata": {},
   "outputs": [
    {
     "data": {
      "text/plain": [
       "168"
      ]
     },
     "execution_count": 20,
     "metadata": {},
     "output_type": "execute_result"
    }
   ],
   "source": [
    "list1.__sizeof__()"
   ]
  },
  {
   "cell_type": "code",
   "execution_count": 24,
   "metadata": {},
   "outputs": [
    {
     "name": "stdout",
     "output_type": "stream",
     "text": [
      "184\n"
     ]
    }
   ],
   "source": [
    "import sys\n",
    "print(sys.getsizeof(list1))\n"
   ]
  },
  {
   "cell_type": "code",
   "execution_count": 26,
   "metadata": {},
   "outputs": [
    {
     "data": {
      "text/plain": [
       "1313"
      ]
     },
     "execution_count": 26,
     "metadata": {},
     "output_type": "execute_result"
    }
   ],
   "source": [
    "list1.pop()\n"
   ]
  },
  {
   "cell_type": "code",
   "execution_count": 27,
   "metadata": {},
   "outputs": [
    {
     "data": {
      "text/plain": [
       "[13123,\n",
       " 'insert',\n",
       " 123.23,\n",
       " 'askjdja',\n",
       " (4+5j),\n",
       " 'ajdadkja',\n",
       " 'jabdjadj',\n",
       " 1313,\n",
       " [13123, 133],\n",
       " 'jabdjadj']"
      ]
     },
     "execution_count": 27,
     "metadata": {},
     "output_type": "execute_result"
    }
   ],
   "source": [
    "list1"
   ]
  },
  {
   "cell_type": "code",
   "execution_count": 28,
   "metadata": {},
   "outputs": [],
   "source": [
    "list1.remove(\"insert\")"
   ]
  },
  {
   "cell_type": "code",
   "execution_count": 29,
   "metadata": {},
   "outputs": [
    {
     "data": {
      "text/plain": [
       "[13123,\n",
       " 123.23,\n",
       " 'askjdja',\n",
       " (4+5j),\n",
       " 'ajdadkja',\n",
       " 'jabdjadj',\n",
       " 1313,\n",
       " [13123, 133],\n",
       " 'jabdjadj']"
      ]
     },
     "execution_count": 29,
     "metadata": {},
     "output_type": "execute_result"
    }
   ],
   "source": [
    "list1"
   ]
  },
  {
   "cell_type": "code",
   "execution_count": 30,
   "metadata": {},
   "outputs": [
    {
     "data": {
      "text/plain": [
       "0"
      ]
     },
     "execution_count": 30,
     "metadata": {},
     "output_type": "execute_result"
    }
   ],
   "source": [
    "list1.index(13123)"
   ]
  },
  {
   "cell_type": "code",
   "execution_count": 31,
   "metadata": {},
   "outputs": [
    {
     "data": {
      "text/plain": [
       "['jabdjadj',\n",
       " [13123, 133],\n",
       " 1313,\n",
       " 'jabdjadj',\n",
       " 'ajdadkja',\n",
       " (4+5j),\n",
       " 'askjdja',\n",
       " 123.23,\n",
       " 13123]"
      ]
     },
     "execution_count": 31,
     "metadata": {},
     "output_type": "execute_result"
    }
   ],
   "source": [
    "list1[::-1]"
   ]
  },
  {
   "cell_type": "code",
   "execution_count": 32,
   "metadata": {},
   "outputs": [],
   "source": [
    "list1.reverse()"
   ]
  },
  {
   "cell_type": "code",
   "execution_count": 35,
   "metadata": {},
   "outputs": [
    {
     "data": {
      "text/plain": [
       "1"
      ]
     },
     "execution_count": 35,
     "metadata": {},
     "output_type": "execute_result"
    }
   ],
   "source": [
    "list1.count(13123)"
   ]
  },
  {
   "cell_type": "code",
   "execution_count": 36,
   "metadata": {},
   "outputs": [
    {
     "data": {
      "text/plain": [
       "9"
      ]
     },
     "execution_count": 36,
     "metadata": {},
     "output_type": "execute_result"
    }
   ],
   "source": [
    "len(list1)"
   ]
  },
  {
   "cell_type": "code",
   "execution_count": 40,
   "metadata": {},
   "outputs": [
    {
     "data": {
      "text/plain": [
       "['jabdjadj',\n",
       " [13123, 133],\n",
       " 1313,\n",
       " 'jabdjadj',\n",
       " 'ajdadkja',\n",
       " (4+5j),\n",
       " 'askjdja',\n",
       " 123.23,\n",
       " 13123,\n",
       " 12]"
      ]
     },
     "execution_count": 40,
     "metadata": {},
     "output_type": "execute_result"
    }
   ],
   "source": [
    "list1.__add__([12])"
   ]
  },
  {
   "cell_type": "code",
   "execution_count": 56,
   "metadata": {},
   "outputs": [
    {
     "name": "stdout",
     "output_type": "stream",
     "text": [
      "['jabdjadj', [13123, 133], 1313, 'jabdjadj', 'ajdadkja', (4+5j), 'askjdja', 123.23, 13123]------\n",
      "[(12, 23, 32, 'shubh'), True, 3.5]\n"
     ]
    }
   ],
   "source": [
    "print(list1,end= \"------\\n\")\n",
    "print(list2)"
   ]
  },
  {
   "cell_type": "code",
   "execution_count": 58,
   "metadata": {},
   "outputs": [
    {
     "name": "stdout",
     "output_type": "stream",
     "text": [
      "['jabdjadj', [13123, 133], 1313, 'jabdjadj', 'ajdadkja', (4+5j), 'askjdja', 123.23, 13123, (12, 23, 32, 'shubh'), True, 3.5]\n"
     ]
    }
   ],
   "source": [
    "print(list1+list2)"
   ]
  },
  {
   "cell_type": "code",
   "execution_count": 60,
   "metadata": {},
   "outputs": [],
   "source": [
    "# str = \"shuham\"\n",
    "# list2 + str\n",
    "#this is  invalid  because we cannot add string to list in python\n"
   ]
  },
  {
   "cell_type": "code",
   "execution_count": 62,
   "metadata": {},
   "outputs": [
    {
     "data": {
      "text/plain": [
       "[3.2, 'kjad', [12, 12], False]"
      ]
     },
     "execution_count": 62,
     "metadata": {},
     "output_type": "execute_result"
    }
   ],
   "source": [
    "list3"
   ]
  },
  {
   "cell_type": "code",
   "execution_count": 63,
   "metadata": {},
   "outputs": [],
   "source": [
    "list3.clear()"
   ]
  },
  {
   "cell_type": "code",
   "execution_count": 64,
   "metadata": {},
   "outputs": [
    {
     "data": {
      "text/plain": [
       "[]"
      ]
     },
     "execution_count": 64,
     "metadata": {},
     "output_type": "execute_result"
    }
   ],
   "source": [
    "list3"
   ]
  },
  {
   "cell_type": "code",
   "execution_count": 69,
   "metadata": {},
   "outputs": [],
   "source": [
    "list5[0] = ['apple', 'banana']"
   ]
  },
  {
   "cell_type": "code",
   "execution_count": 70,
   "metadata": {},
   "outputs": [
    {
     "data": {
      "text/plain": [
       "[['apple', 'banana'], (13, 'kndn', (12+3j))]"
      ]
     },
     "execution_count": 70,
     "metadata": {},
     "output_type": "execute_result"
    }
   ],
   "source": [
    "list5"
   ]
  },
  {
   "cell_type": "code",
   "execution_count": 74,
   "metadata": {},
   "outputs": [
    {
     "data": {
      "text/plain": [
       "1"
      ]
     },
     "execution_count": 74,
     "metadata": {},
     "output_type": "execute_result"
    }
   ],
   "source": [
    "list5[0].index(\"banana\")"
   ]
  },
  {
   "cell_type": "code",
   "execution_count": null,
   "metadata": {},
   "outputs": [],
   "source": [
    "#!!!!!!!!!!!! NICE BROTHER"
   ]
  },
  {
   "cell_type": "code",
   "execution_count": 76,
   "metadata": {},
   "outputs": [
    {
     "name": "stdout",
     "output_type": "stream",
     "text": [
      "[['apple', 'banana'], (13, 'kndn', (12+3j)), ['apple', 'banana'], (13, 'kndn', (12+3j))]\n"
     ]
    }
   ],
   "source": [
    "print(list5*2)"
   ]
  },
  {
   "cell_type": "code",
   "execution_count": 80,
   "metadata": {},
   "outputs": [],
   "source": [
    "list4 = [12,123123,312,3312,31233,131,232,321,343,4343]"
   ]
  },
  {
   "cell_type": "code",
   "execution_count": 81,
   "metadata": {},
   "outputs": [],
   "source": [
    "list4.sort(reverse=True)"
   ]
  },
  {
   "cell_type": "code",
   "execution_count": 82,
   "metadata": {},
   "outputs": [
    {
     "data": {
      "text/plain": [
       "[123123, 31233, 4343, 3312, 343, 321, 312, 232, 131, 12]"
      ]
     },
     "execution_count": 82,
     "metadata": {},
     "output_type": "execute_result"
    }
   ],
   "source": [
    "list4"
   ]
  },
  {
   "cell_type": "code",
   "execution_count": null,
   "metadata": {},
   "outputs": [],
   "source": []
  },
  {
   "cell_type": "code",
   "execution_count": 79,
   "metadata": {},
   "outputs": [
    {
     "data": {
      "text/plain": [
       "[12, 131, 232, 312, 321, 343, 3312, 4343, 31233, 123123]"
      ]
     },
     "execution_count": 79,
     "metadata": {},
     "output_type": "execute_result"
    }
   ],
   "source": [
    "list4.sort()\n",
    "list4"
   ]
  },
  {
   "cell_type": "code",
   "execution_count": 83,
   "metadata": {},
   "outputs": [
    {
     "data": {
      "text/plain": [
       "321"
      ]
     },
     "execution_count": 83,
     "metadata": {},
     "output_type": "execute_result"
    }
   ],
   "source": [
    "list4.__getitem__(5)"
   ]
  },
  {
   "cell_type": "code",
   "execution_count": 84,
   "metadata": {},
   "outputs": [
    {
     "data": {
      "text/plain": [
       "[123123, 31233, 4343, 3312, 343, 321, 312, 232, 131, 12]"
      ]
     },
     "execution_count": 84,
     "metadata": {},
     "output_type": "execute_result"
    }
   ],
   "source": [
    "list4"
   ]
  },
  {
   "cell_type": "code",
   "execution_count": 87,
   "metadata": {},
   "outputs": [
    {
     "data": {
      "text/plain": [
       "[3312, 343]"
      ]
     },
     "execution_count": 87,
     "metadata": {},
     "output_type": "execute_result"
    }
   ],
   "source": [
    "list4[3:5]"
   ]
  },
  {
   "cell_type": "code",
   "execution_count": 88,
   "metadata": {},
   "outputs": [
    {
     "data": {
      "text/plain": [
       "'jabdjadj'"
      ]
     },
     "execution_count": 88,
     "metadata": {},
     "output_type": "execute_result"
    }
   ],
   "source": [
    "list1.__getitem__(0)"
   ]
  },
  {
   "cell_type": "code",
   "execution_count": 89,
   "metadata": {},
   "outputs": [
    {
     "data": {
      "text/plain": [
       "['jabdjadj',\n",
       " [13123, 133],\n",
       " 1313,\n",
       " 'jabdjadj',\n",
       " 'ajdadkja',\n",
       " (4+5j),\n",
       " 'askjdja',\n",
       " 123.23,\n",
       " 13123]"
      ]
     },
     "execution_count": 89,
     "metadata": {},
     "output_type": "execute_result"
    }
   ],
   "source": [
    "list1"
   ]
  },
  {
   "cell_type": "code",
   "execution_count": null,
   "metadata": {},
   "outputs": [],
   "source": [
    "list"
   ]
  },
  {
   "cell_type": "code",
   "execution_count": 17,
   "metadata": {},
   "outputs": [
    {
     "data": {
      "text/plain": [
       "12"
      ]
     },
     "execution_count": 17,
     "metadata": {},
     "output_type": "execute_result"
    }
   ],
   "source": [
    "len(list1)"
   ]
  },
  {
   "cell_type": "code",
   "execution_count": 19,
   "metadata": {},
   "outputs": [
    {
     "data": {
      "text/plain": [
       "2"
      ]
     },
     "execution_count": 19,
     "metadata": {},
     "output_type": "execute_result"
    }
   ],
   "source": [
    "list1.count(1313)"
   ]
  },
  {
   "cell_type": "code",
   "execution_count": 14,
   "metadata": {},
   "outputs": [],
   "source": [
    "tuple = (31,434)"
   ]
  },
  {
   "cell_type": "code",
   "execution_count": 16,
   "metadata": {},
   "outputs": [
    {
     "data": {
      "text/plain": [
       "list"
      ]
     },
     "execution_count": 16,
     "metadata": {},
     "output_type": "execute_result"
    }
   ],
   "source": [
    "type(list1)"
   ]
  },
  {
   "cell_type": "code",
   "execution_count": 18,
   "metadata": {},
   "outputs": [
    {
     "name": "stdout",
     "output_type": "stream",
     "text": [
      "13123\n",
      "123.23\n",
      "askjdja\n",
      "(4+5j)\n"
     ]
    }
   ],
   "source": [
    "for i in list1:\n",
    "    print(i)"
   ]
  },
  {
   "cell_type": "code",
   "execution_count": 20,
   "metadata": {},
   "outputs": [
    {
     "data": {
      "text/plain": [
       "'askjdja'"
      ]
     },
     "execution_count": 20,
     "metadata": {},
     "output_type": "execute_result"
    }
   ],
   "source": [
    "list1[2]"
   ]
  },
  {
   "cell_type": "code",
   "execution_count": 92,
   "metadata": {},
   "outputs": [
    {
     "data": {
      "text/plain": [
       "[[13123, 133], 1313, 'jabdjadj', 'ajdadkja', (4+5j), 'askjdja', 123.23, 13123]"
      ]
     },
     "execution_count": 92,
     "metadata": {},
     "output_type": "execute_result"
    }
   ],
   "source": [
    "list1[1:100]"
   ]
  },
  {
   "cell_type": "code",
   "execution_count": 4,
   "metadata": {},
   "outputs": [],
   "source": [
    "list1_to_tuple = tuple(list1)"
   ]
  },
  {
   "cell_type": "code",
   "execution_count": 5,
   "metadata": {},
   "outputs": [
    {
     "data": {
      "text/plain": [
       "(13123, 123.23, 'askjdja', (4+5j))"
      ]
     },
     "execution_count": 5,
     "metadata": {},
     "output_type": "execute_result"
    }
   ],
   "source": [
    "list1_to_tuple"
   ]
  },
  {
   "cell_type": "code",
   "execution_count": 7,
   "metadata": {},
   "outputs": [
    {
     "data": {
      "text/plain": [
       "tuple"
      ]
     },
     "execution_count": 7,
     "metadata": {},
     "output_type": "execute_result"
    }
   ],
   "source": [
    "type(list1_to_tuple)"
   ]
  },
  {
   "cell_type": "code",
   "execution_count": 9,
   "metadata": {},
   "outputs": [
    {
     "data": {
      "text/plain": [
       "[]"
      ]
     },
     "execution_count": 9,
     "metadata": {},
     "output_type": "execute_result"
    }
   ],
   "source": [
    "list1[-1:-2]"
   ]
  },
  {
   "cell_type": "code",
   "execution_count": 11,
   "metadata": {},
   "outputs": [
    {
     "name": "stdout",
     "output_type": "stream",
     "text": [
      "print(py_tuple) => Error: name 'py_tuple' is not defined\n"
     ]
    }
   ],
   "source": [
    "py_tuple = ('p', 'y', 't', 'h', 'o', 'n')\n",
    "# but you can delete a whole tuple\n",
    "del py_tuple\n",
    "try:\n",
    "    print(py_tuple)\n",
    "except Exception as ex:\n",
    "    print(\"print(py_tuple) => Error:\", ex)"
   ]
  },
  {
   "cell_type": "markdown",
   "metadata": {},
   "source": [
    "# string operationns\n"
   ]
  },
  {
   "cell_type": "code",
   "execution_count": 1,
   "metadata": {},
   "outputs": [],
   "source": [
    "str = \"shubham_birari\"\n"
   ]
  },
  {
   "cell_type": "code",
   "execution_count": 2,
   "metadata": {},
   "outputs": [
    {
     "data": {
      "text/plain": [
       "'Shubham_birari'"
      ]
     },
     "execution_count": 2,
     "metadata": {},
     "output_type": "execute_result"
    }
   ],
   "source": [
    "str.capitalize()"
   ]
  },
  {
   "cell_type": "code",
   "execution_count": 3,
   "metadata": {},
   "outputs": [
    {
     "data": {
      "text/plain": [
       "'shubham_birari'"
      ]
     },
     "execution_count": 3,
     "metadata": {},
     "output_type": "execute_result"
    }
   ],
   "source": [
    "str.casefold()"
   ]
  },
  {
   "cell_type": "code",
   "execution_count": 9,
   "metadata": {},
   "outputs": [
    {
     "data": {
      "text/plain": [
       "1"
      ]
     },
     "execution_count": 9,
     "metadata": {},
     "output_type": "execute_result"
    }
   ],
   "source": [
    "str.count(\"s\")"
   ]
  },
  {
   "cell_type": "code",
   "execution_count": 7,
   "metadata": {},
   "outputs": [
    {
     "data": {
      "text/plain": [
       "'shubham_birari'"
      ]
     },
     "execution_count": 7,
     "metadata": {},
     "output_type": "execute_result"
    }
   ],
   "source": [
    "str[:]"
   ]
  },
  {
   "cell_type": "code",
   "execution_count": 10,
   "metadata": {},
   "outputs": [
    {
     "data": {
      "text/plain": [
       "b'shubham_birari'"
      ]
     },
     "execution_count": 10,
     "metadata": {},
     "output_type": "execute_result"
    }
   ],
   "source": [
    "str.encode()"
   ]
  },
  {
   "cell_type": "code",
   "execution_count": 11,
   "metadata": {},
   "outputs": [
    {
     "data": {
      "text/plain": [
       "False"
      ]
     },
     "execution_count": 11,
     "metadata": {},
     "output_type": "execute_result"
    }
   ],
   "source": [
    "str.endswith(\"!!!!\")"
   ]
  },
  {
   "cell_type": "code",
   "execution_count": 12,
   "metadata": {},
   "outputs": [
    {
     "data": {
      "text/plain": [
       "True"
      ]
     },
     "execution_count": 12,
     "metadata": {},
     "output_type": "execute_result"
    }
   ],
   "source": [
    "str.endswith(\"i\")"
   ]
  },
  {
   "cell_type": "code",
   "execution_count": 14,
   "metadata": {},
   "outputs": [
    {
     "data": {
      "text/plain": [
       "7"
      ]
     },
     "execution_count": 14,
     "metadata": {},
     "output_type": "execute_result"
    }
   ],
   "source": [
    "str.find(\"_\")"
   ]
  },
  {
   "cell_type": "code",
   "execution_count": 15,
   "metadata": {},
   "outputs": [
    {
     "data": {
      "text/plain": [
       "'shubham_birari'"
      ]
     },
     "execution_count": 15,
     "metadata": {},
     "output_type": "execute_result"
    }
   ],
   "source": [
    "str.expandtabs()"
   ]
  },
  {
   "cell_type": "code",
   "execution_count": 18,
   "metadata": {},
   "outputs": [
    {
     "data": {
      "text/plain": [
       "7"
      ]
     },
     "execution_count": 18,
     "metadata": {},
     "output_type": "execute_result"
    }
   ],
   "source": [
    "str.index(\"_\")"
   ]
  },
  {
   "cell_type": "code",
   "execution_count": 19,
   "metadata": {},
   "outputs": [
    {
     "data": {
      "text/plain": [
       "False"
      ]
     },
     "execution_count": 19,
     "metadata": {},
     "output_type": "execute_result"
    }
   ],
   "source": [
    "str.isalnum()"
   ]
  },
  {
   "cell_type": "code",
   "execution_count": 20,
   "metadata": {},
   "outputs": [
    {
     "data": {
      "text/plain": [
       "False"
      ]
     },
     "execution_count": 20,
     "metadata": {},
     "output_type": "execute_result"
    }
   ],
   "source": [
    "str.isalpha()"
   ]
  },
  {
   "cell_type": "code",
   "execution_count": null,
   "metadata": {},
   "outputs": [],
   "source": [
    "str.isidentifier"
   ]
  },
  {
   "cell_type": "code",
   "execution_count": 21,
   "metadata": {},
   "outputs": [
    {
     "data": {
      "text/plain": [
       "'shubham_birari'"
      ]
     },
     "execution_count": 21,
     "metadata": {},
     "output_type": "execute_result"
    }
   ],
   "source": [
    "str"
   ]
  },
  {
   "cell_type": "code",
   "execution_count": 28,
   "metadata": {},
   "outputs": [
    {
     "name": "stdout",
     "output_type": "stream",
     "text": [
      "s a\n"
     ]
    }
   ],
   "source": [
    "new = print(str[0] , str[5])\n",
    "new"
   ]
  },
  {
   "cell_type": "code",
   "execution_count": 29,
   "metadata": {},
   "outputs": [
    {
     "data": {
      "text/plain": [
       "False"
      ]
     },
     "execution_count": 29,
     "metadata": {},
     "output_type": "execute_result"
    }
   ],
   "source": [
    "str.istitle()"
   ]
  },
  {
   "cell_type": "code",
   "execution_count": 30,
   "metadata": {},
   "outputs": [
    {
     "data": {
      "text/plain": [
       "False"
      ]
     },
     "execution_count": 30,
     "metadata": {},
     "output_type": "execute_result"
    }
   ],
   "source": [
    "str.isupper()"
   ]
  },
  {
   "cell_type": "code",
   "execution_count": 32,
   "metadata": {},
   "outputs": [
    {
     "data": {
      "text/plain": [
       "7"
      ]
     },
     "execution_count": 32,
     "metadata": {},
     "output_type": "execute_result"
    }
   ],
   "source": [
    "str.find(\"_\")"
   ]
  },
  {
   "cell_type": "code",
   "execution_count": 34,
   "metadata": {},
   "outputs": [
    {
     "data": {
      "text/plain": [
       "'sshubham_birariishubham_birarir'"
      ]
     },
     "execution_count": 34,
     "metadata": {},
     "output_type": "execute_result"
    }
   ],
   "source": [
    "str.join(\"sir\")"
   ]
  },
  {
   "cell_type": "code",
   "execution_count": 56,
   "metadata": {},
   "outputs": [],
   "source": [
    "new = str.replace(\"shubham_birari\" , \"vicky\" )"
   ]
  },
  {
   "cell_type": "code",
   "execution_count": 57,
   "metadata": {},
   "outputs": [
    {
     "data": {
      "text/plain": [
       "'shubham_birari'"
      ]
     },
     "execution_count": 57,
     "metadata": {},
     "output_type": "execute_result"
    }
   ],
   "source": [
    "str"
   ]
  },
  {
   "cell_type": "code",
   "execution_count": 60,
   "metadata": {},
   "outputs": [
    {
     "name": "stdout",
     "output_type": "stream",
     "text": [
      "vicky\n"
     ]
    }
   ],
   "source": [
    "print(new)"
   ]
  },
  {
   "cell_type": "code",
   "execution_count": 62,
   "metadata": {},
   "outputs": [
    {
     "data": {
      "text/plain": [
       "'shubham_birari'"
      ]
     },
     "execution_count": 62,
     "metadata": {},
     "output_type": "execute_result"
    }
   ],
   "source": [
    "str.lstrip()"
   ]
  },
  {
   "cell_type": "code",
   "execution_count": 64,
   "metadata": {},
   "outputs": [
    {
     "data": {
      "text/plain": [
       "['shubham_birari']"
      ]
     },
     "execution_count": 64,
     "metadata": {},
     "output_type": "execute_result"
    }
   ],
   "source": [
    "str.split()"
   ]
  },
  {
   "cell_type": "code",
   "execution_count": 67,
   "metadata": {},
   "outputs": [
    {
     "data": {
      "text/plain": [
       "('shubham', '_', 'birari')"
      ]
     },
     "execution_count": 67,
     "metadata": {},
     "output_type": "execute_result"
    }
   ],
   "source": [
    "str.partition(\"_\")"
   ]
  },
  {
   "cell_type": "code",
   "execution_count": 69,
   "metadata": {},
   "outputs": [
    {
     "data": {
      "text/plain": [
       "'sshubham_birarihshubham_birariushubham_biraribshubham_birarihshubham_birariashubham_birarimshubham_birarisshubham_birarihshubham_birariushubham_biraribshubham_birarihshubham_birariashubham_birarimshubham_birari_shubham_biraribshubham_birariishubham_birarirshubham_birariashubham_birarirshubham_birariishubham_birari_shubham_birarisshubham_birarihshubham_birariushubham_biraribshubham_birarihshubham_birariashubham_birarimshubham_birari_shubham_biraribshubham_birariishubham_birarirshubham_birariashubham_birarirshubham_birariishubham_biraribshubham_birariishubham_birarirshubham_birariashubham_birarirshubham_birarii'"
      ]
     },
     "execution_count": 69,
     "metadata": {},
     "output_type": "execute_result"
    }
   ],
   "source": [
    "str.join(_)"
   ]
  },
  {
   "cell_type": "code",
   "execution_count": 71,
   "metadata": {},
   "outputs": [
    {
     "data": {
      "text/plain": [
       "'shubham_birari'"
      ]
     },
     "execution_count": 71,
     "metadata": {},
     "output_type": "execute_result"
    }
   ],
   "source": [
    "str"
   ]
  },
  {
   "cell_type": "code",
   "execution_count": 74,
   "metadata": {},
   "outputs": [
    {
     "data": {
      "text/plain": [
       "'s h u b h a m _ b i r a r i'"
      ]
     },
     "execution_count": 74,
     "metadata": {},
     "output_type": "execute_result"
    }
   ],
   "source": [
    "\" \".join(str)"
   ]
  },
  {
   "cell_type": "code",
   "execution_count": 79,
   "metadata": {},
   "outputs": [
    {
     "data": {
      "text/plain": [
       "7"
      ]
     },
     "execution_count": 79,
     "metadata": {},
     "output_type": "execute_result"
    }
   ],
   "source": [
    "str.rfind(\"_\")"
   ]
  },
  {
   "cell_type": "code",
   "execution_count": 87,
   "metadata": {},
   "outputs": [
    {
     "name": "stdout",
     "output_type": "stream",
     "text": [
      "shubham_birari\n"
     ]
    }
   ],
   "source": [
    "print(str.zfill(9))"
   ]
  },
  {
   "cell_type": "code",
   "execution_count": 90,
   "metadata": {},
   "outputs": [
    {
     "data": {
      "text/plain": [
       "'SHUBHAM_BIRARI'"
      ]
     },
     "execution_count": 90,
     "metadata": {},
     "output_type": "execute_result"
    }
   ],
   "source": [
    "str.swapcase()"
   ]
  },
  {
   "cell_type": "code",
   "execution_count": 91,
   "metadata": {},
   "outputs": [
    {
     "data": {
      "text/plain": [
       "'shubham_birari'"
      ]
     },
     "execution_count": 91,
     "metadata": {},
     "output_type": "execute_result"
    }
   ],
   "source": [
    "str"
   ]
  },
  {
   "cell_type": "code",
   "execution_count": 93,
   "metadata": {},
   "outputs": [
    {
     "data": {
      "text/plain": [
       "True"
      ]
     },
     "execution_count": 93,
     "metadata": {},
     "output_type": "execute_result"
    }
   ],
   "source": [
    "str.isprintable()"
   ]
  },
  {
   "cell_type": "code",
   "execution_count": 94,
   "metadata": {},
   "outputs": [
    {
     "data": {
      "text/plain": [
       "'shubham_birari'"
      ]
     },
     "execution_count": 94,
     "metadata": {},
     "output_type": "execute_result"
    }
   ],
   "source": [
    "str"
   ]
  },
  {
   "cell_type": "code",
   "execution_count": 100,
   "metadata": {},
   "outputs": [
    {
     "name": "stdout",
     "output_type": "stream",
     "text": [
      "error :  can only concatenate str (not \"int\") to str\n"
     ]
    }
   ],
   "source": [
    "strs = \"my name is\"\n",
    "int = 100\n",
    "try:\n",
    "    new  = strs + int\n",
    "except Exception as ex:\n",
    "    print(\"error : \",ex)\n"
   ]
  },
  {
   "cell_type": "code",
   "execution_count": 1,
   "metadata": {},
   "outputs": [
    {
     "data": {
      "text/plain": [
       "list"
      ]
     },
     "execution_count": 1,
     "metadata": {},
     "output_type": "execute_result"
    }
   ],
   "source": [
    "list"
   ]
  },
  {
   "cell_type": "code",
   "execution_count": 5,
   "metadata": {},
   "outputs": [],
   "source": [
    "list1.append([1,2,3,4,\"shubham\"])"
   ]
  },
  {
   "cell_type": "code",
   "execution_count": 6,
   "metadata": {},
   "outputs": [
    {
     "data": {
      "text/plain": [
       "[13123, 123.23, 'askjdja', (4+5j), [1, 2, 3, 4, 'shubham']]"
      ]
     },
     "execution_count": 6,
     "metadata": {},
     "output_type": "execute_result"
    }
   ],
   "source": [
    "list1"
   ]
  },
  {
   "cell_type": "code",
   "execution_count": 11,
   "metadata": {},
   "outputs": [],
   "source": [
    "list1[4].append(\"birari\")"
   ]
  },
  {
   "cell_type": "code",
   "execution_count": 12,
   "metadata": {},
   "outputs": [
    {
     "data": {
      "text/plain": [
       "[13123,\n",
       " 123.23,\n",
       " 'askjdja',\n",
       " (4+5j),\n",
       " [1, 2, 3, 4, 'shubham', ['birari'], 'birari']]"
      ]
     },
     "execution_count": 12,
     "metadata": {},
     "output_type": "execute_result"
    }
   ],
   "source": [
    "list1"
   ]
  },
  {
   "cell_type": "code",
   "execution_count": 13,
   "metadata": {},
   "outputs": [],
   "source": [
    "set = {1,23,4,4,4,5,6,(2,3,3,\"shubh\")}"
   ]
  },
  {
   "cell_type": "code",
   "execution_count": 14,
   "metadata": {},
   "outputs": [
    {
     "data": {
      "text/plain": [
       "{(2, 3, 3, 'shubh'), 1, 23, 4, 5, 6}"
      ]
     },
     "execution_count": 14,
     "metadata": {},
     "output_type": "execute_result"
    }
   ],
   "source": [
    "set"
   ]
  },
  {
   "cell_type": "code",
   "execution_count": 15,
   "metadata": {},
   "outputs": [
    {
     "data": {
      "text/plain": [
       "{(2, 3, 3, 'shubh'), 1, 23, 4, 5, 6, 'ram'}"
      ]
     },
     "execution_count": 15,
     "metadata": {},
     "output_type": "execute_result"
    }
   ],
   "source": [
    "set.add(\"ram\")\n",
    "set"
   ]
  },
  {
   "cell_type": "code",
   "execution_count": 16,
   "metadata": {},
   "outputs": [
    {
     "name": "stdout",
     "output_type": "stream",
     "text": [
      "{1, 4, 5, 6, 'ram', (2, 3, 3, 'shubh'), 23}\n"
     ]
    }
   ],
   "source": [
    "set2 = {1,23,4,5,6,\"ram\"}\n",
    "union =  set|set2\n",
    "print(union)"
   ]
  },
  {
   "cell_type": "code",
   "execution_count": 17,
   "metadata": {},
   "outputs": [
    {
     "name": "stdout",
     "output_type": "stream",
     "text": [
      "{1, 4, 5, 6, 'ram', 23}\n"
     ]
    }
   ],
   "source": [
    "comman = set&set2\n",
    "print(comman)"
   ]
  },
  {
   "cell_type": "code",
   "execution_count": 18,
   "metadata": {},
   "outputs": [
    {
     "name": "stdout",
     "output_type": "stream",
     "text": [
      "{1, 4, 5, 6, 23}\n"
     ]
    }
   ],
   "source": [
    "set2.remove(\"ram\")\n",
    "print(set2)  "
   ]
  },
  {
   "cell_type": "code",
   "execution_count": 20,
   "metadata": {},
   "outputs": [
    {
     "data": {
      "text/plain": [
       "7"
      ]
     },
     "execution_count": 20,
     "metadata": {},
     "output_type": "execute_result"
    }
   ],
   "source": [
    "set.__len__()"
   ]
  },
  {
   "cell_type": "code",
   "execution_count": 36,
   "metadata": {},
   "outputs": [
    {
     "name": "stdout",
     "output_type": "stream",
     "text": [
      "unordered\n"
     ]
    }
   ],
   "source": [
    "if set == set2 is True :\n",
    "    print(\"orderd\")\n",
    "else:\n",
    "    print(\"unordered\")"
   ]
  },
  {
   "cell_type": "code",
   "execution_count": 25,
   "metadata": {},
   "outputs": [
    {
     "data": {
      "text/plain": [
       "{1, 4, 5, 6, 23}"
      ]
     },
     "execution_count": 25,
     "metadata": {},
     "output_type": "execute_result"
    }
   ],
   "source": [
    "set2"
   ]
  },
  {
   "cell_type": "code",
   "execution_count": 26,
   "metadata": {},
   "outputs": [
    {
     "data": {
      "text/plain": [
       "{1, 4, 5, 6}"
      ]
     },
     "execution_count": 26,
     "metadata": {},
     "output_type": "execute_result"
    }
   ],
   "source": [
    "set2.remove(23)\n",
    "set2"
   ]
  },
  {
   "cell_type": "code",
   "execution_count": 30,
   "metadata": {},
   "outputs": [],
   "source": [
    "set_copy = set.copy()"
   ]
  },
  {
   "cell_type": "code",
   "execution_count": 31,
   "metadata": {},
   "outputs": [
    {
     "data": {
      "text/plain": [
       "{(2, 3, 3, 'shubh'), 1, 23, 4, 5, 6, 'ram'}"
      ]
     },
     "execution_count": 31,
     "metadata": {},
     "output_type": "execute_result"
    }
   ],
   "source": [
    "set_copy"
   ]
  },
  {
   "cell_type": "code",
   "execution_count": 32,
   "metadata": {},
   "outputs": [],
   "source": [
    "set_copy.clear()"
   ]
  },
  {
   "cell_type": "code",
   "execution_count": 33,
   "metadata": {},
   "outputs": [
    {
     "data": {
      "text/plain": [
       "set()"
      ]
     },
     "execution_count": 33,
     "metadata": {},
     "output_type": "execute_result"
    }
   ],
   "source": [
    "set_copy"
   ]
  },
  {
   "cell_type": "code",
   "execution_count": 35,
   "metadata": {},
   "outputs": [
    {
     "data": {
      "text/plain": [
       "0"
      ]
     },
     "execution_count": 35,
     "metadata": {},
     "output_type": "execute_result"
    }
   ],
   "source": [
    "set_copy.__len__()"
   ]
  },
  {
   "cell_type": "code",
   "execution_count": 47,
   "metadata": {},
   "outputs": [
    {
     "name": "stdout",
     "output_type": "stream",
     "text": [
      "{1, 4, 5, 6, 23, 'ram', (2, 3, 3, 'shubh')}\n",
      "{1, 4, 5, 6}\n"
     ]
    }
   ],
   "source": [
    "print(set)\n",
    "print(set2)\n",
    "intersection = set.intersection(set2)"
   ]
  },
  {
   "cell_type": "code",
   "execution_count": 48,
   "metadata": {},
   "outputs": [
    {
     "data": {
      "text/plain": [
       "{1, 4, 5, 6}"
      ]
     },
     "execution_count": 48,
     "metadata": {},
     "output_type": "execute_result"
    }
   ],
   "source": [
    "intersection"
   ]
  },
  {
   "cell_type": "code",
   "execution_count": 50,
   "metadata": {},
   "outputs": [
    {
     "data": {
      "text/plain": [
       "{(2, 3, 3, 'shubh'), 1, 23, 4, 5, 6, 'ram'}"
      ]
     },
     "execution_count": 50,
     "metadata": {},
     "output_type": "execute_result"
    }
   ],
   "source": [
    "set.union(set2)"
   ]
  },
  {
   "cell_type": "code",
   "execution_count": 56,
   "metadata": {},
   "outputs": [
    {
     "name": "stdout",
     "output_type": "stream",
     "text": [
      "None\n"
     ]
    }
   ],
   "source": [
    "print(set.discard(43))"
   ]
  },
  {
   "cell_type": "code",
   "execution_count": 58,
   "metadata": {},
   "outputs": [
    {
     "name": "stdout",
     "output_type": "stream",
     "text": [
      "43\n"
     ]
    }
   ],
   "source": [
    "try:\n",
    "    set.remove(43)\n",
    "except Exception as ex:\n",
    "    print(ex)"
   ]
  },
  {
   "cell_type": "code",
   "execution_count": 61,
   "metadata": {},
   "outputs": [
    {
     "data": {
      "text/plain": [
       "5"
      ]
     },
     "execution_count": 61,
     "metadata": {},
     "output_type": "execute_result"
    }
   ],
   "source": [
    "set.pop()"
   ]
  },
  {
   "cell_type": "code",
   "execution_count": 3,
   "metadata": {},
   "outputs": [
    {
     "name": "stdout",
     "output_type": "stream",
     "text": [
      "Original set1: {1, 2, 3, 4, 5}\n",
      "Modified set1 after difference_update: {1, 2, 5}\n"
     ]
    }
   ],
   "source": [
    "# Creating two sets\n",
    "set1 = {1, 2, 3, 4, 5}\n",
    "set2 = {3, 4, 6}\n",
    "\n",
    "# Displaying the original set\n",
    "print(\"Original set1:\", set1)  # Output: {1, 2, 3, 4, 5}\n",
    "\n",
    "# Using difference_update to remove elements from set1 that are in set2\n",
    "set1.difference_update(set2)\n",
    "\n",
    "# Displaying the modified set\n",
    "print(\"Modified set1 after difference_update:\", set1)  # Output: {1, 2, 5}\n"
   ]
  },
  {
   "cell_type": "code",
   "execution_count": 6,
   "metadata": {},
   "outputs": [
    {
     "data": {
      "text/plain": [
       "True"
      ]
     },
     "execution_count": 6,
     "metadata": {},
     "output_type": "execute_result"
    }
   ],
   "source": [
    "set1.isdisjoint(set2) #return true if comman  elements \\"
   ]
  },
  {
   "cell_type": "code",
   "execution_count": 9,
   "metadata": {},
   "outputs": [],
   "source": [
    "tpl = 23,32,1,323,13,3,13,2"
   ]
  },
  {
   "cell_type": "code",
   "execution_count": 10,
   "metadata": {},
   "outputs": [],
   "source": [
    "# so we can define without bracket"
   ]
  },
  {
   "cell_type": "code",
   "execution_count": 11,
   "metadata": {},
   "outputs": [
    {
     "data": {
      "text/plain": [
       "tuple"
      ]
     },
     "execution_count": 11,
     "metadata": {},
     "output_type": "execute_result"
    }
   ],
   "source": [
    "type(tpl)"
   ]
  },
  {
   "cell_type": "code",
   "execution_count": 14,
   "metadata": {},
   "outputs": [],
   "source": [
    "tuple = (13,312,(2,3,3),(\"kjad\" , 31,31,32))"
   ]
  },
  {
   "cell_type": "code",
   "execution_count": 15,
   "metadata": {},
   "outputs": [
    {
     "data": {
      "text/plain": [
       "tuple"
      ]
     },
     "execution_count": 15,
     "metadata": {},
     "output_type": "execute_result"
    }
   ],
   "source": [
    "type(tuple)"
   ]
  },
  {
   "cell_type": "code",
   "execution_count": 17,
   "metadata": {},
   "outputs": [
    {
     "data": {
      "text/plain": [
       "312"
      ]
     },
     "execution_count": 17,
     "metadata": {},
     "output_type": "execute_result"
    }
   ],
   "source": [
    "tuple[1]"
   ]
  },
  {
   "cell_type": "code",
   "execution_count": 1,
   "metadata": {},
   "outputs": [
    {
     "data": {
      "text/plain": [
       "dict"
      ]
     },
     "execution_count": 1,
     "metadata": {},
     "output_type": "execute_result"
    }
   ],
   "source": [
    "list = [(\"shubham\" , 1313123) , (13123 , \"lksfaskfnkfnk\")]\n",
    "list = dict(list)\n",
    "type(list)"
   ]
  },
  {
   "cell_type": "code",
   "execution_count": 2,
   "metadata": {},
   "outputs": [
    {
     "name": "stdout",
     "output_type": "stream",
     "text": [
      "enter your age\n",
      "you are eliible  to vote\n"
     ]
    }
   ],
   "source": [
    "print(\"enter your age\")\n",
    "age = int(input())\n",
    "if age<18:\n",
    "    print(\"you are a minor you cant vote\")\n",
    "elif age>18:\n",
    "    print(\"you are eliible  to vote\")\n",
    "else:\n",
    "    print(\"enter the valid  age\")\n",
    "\n"
   ]
  },
  {
   "cell_type": "code",
   "execution_count": 5,
   "metadata": {},
   "outputs": [
    {
     "name": "stdout",
     "output_type": "stream",
     "text": [
      "c grade\n"
     ]
    }
   ],
   "source": [
    "marks = int(input())\n",
    "if marks>=70 and  marks<=80:\n",
    "    print(\"c grade\")\n",
    "elif marks >=80 and  marks <=90:\n",
    "    print(\"B grade\")\n",
    "elif marks>=90 and   marks <=100:\n",
    "    print(\"A grade\")\n",
    "else :\n",
    "    print(\"pass\")"
   ]
  },
  {
   "cell_type": "code",
   "execution_count": 2,
   "metadata": {},
   "outputs": [
    {
     "name": "stdout",
     "output_type": "stream",
     "text": [
      "1\n",
      "3\n",
      "5\n",
      "7\n",
      "9\n",
      "11\n"
     ]
    }
   ],
   "source": [
    "i = 1\n",
    "while i<=11:\n",
    "    print(i)\n",
    "    i = i+2"
   ]
  },
  {
   "cell_type": "code",
   "execution_count": 3,
   "metadata": {},
   "outputs": [
    {
     "name": "stdout",
     "output_type": "stream",
     "text": [
      "1\n",
      "2\n",
      "3\n",
      "4\n",
      "5\n",
      "6\n",
      "7\n",
      "8\n",
      "9\n",
      "10\n",
      "11\n",
      "12\n",
      "13\n",
      "14\n"
     ]
    }
   ],
   "source": [
    "i=1\n",
    "while i<15:\n",
    "    print(i)\n",
    "    i = i +1"
   ]
  },
  {
   "cell_type": "code",
   "execution_count": 5,
   "metadata": {},
   "outputs": [
    {
     "name": "stdout",
     "output_type": "stream",
     "text": [
      "3\n",
      "6\n",
      "9\n",
      "12\n",
      "15\n",
      "18\n",
      "21\n",
      "24\n",
      "27\n",
      "30\n"
     ]
    }
   ],
   "source": [
    "i = 3\n",
    "while i<=30:\n",
    "    print(i)\n",
    "    i = i+3"
   ]
  },
  {
   "cell_type": "code",
   "execution_count": 13,
   "metadata": {},
   "outputs": [
    {
     "name": "stdout",
     "output_type": "stream",
     "text": [
      "0\n",
      "3\n",
      "6\n",
      "9\n",
      "12\n",
      "15\n",
      "18\n",
      "21\n",
      "24\n",
      "27\n",
      "30\n"
     ]
    }
   ],
   "source": [
    "for i in range(11):\n",
    "    print(i*3)"
   ]
  },
  {
   "cell_type": "code",
   "execution_count": 20,
   "metadata": {},
   "outputs": [
    {
     "name": "stdout",
     "output_type": "stream",
     "text": [
      "3 6 9 12 15 18 21 24 27 30 \n",
      "  complete\n"
     ]
    }
   ],
   "source": [
    "i = 1\n",
    "while  i <= 10:\n",
    "    print(i*3 , end=\" \")\n",
    "    i+=1\n",
    "else:\n",
    "    print(\"\\n  complete\")\n"
   ]
  },
  {
   "cell_type": "code",
   "execution_count": 24,
   "metadata": {},
   "outputs": [
    {
     "name": "stdout",
     "output_type": "stream",
     "text": [
      "3 6 9 12 15 18 21 24 27 30 "
     ]
    }
   ],
   "source": [
    "for i in range(3 , 31 , 3):\n",
    "    print(i , end=\" \")"
   ]
  },
  {
   "cell_type": "code",
   "execution_count": 32,
   "metadata": {},
   "outputs": [
    {
     "name": "stdout",
     "output_type": "stream",
     "text": [
      "\n",
      "\n",
      "* \n",
      "* * \n",
      "* * * \n",
      "* * * * \n",
      "* * * * * \n",
      "* * * * * * \n"
     ]
    }
   ],
   "source": [
    "n = 8\n",
    "for i in range(0,n):\n",
    "    for j in range(0,i-1):\n",
    "        print(\"*\" , end=\" \")\n",
    "    print(\"\\r\")"
   ]
  },
  {
   "cell_type": "code",
   "execution_count": 33,
   "metadata": {},
   "outputs": [
    {
     "name": "stdout",
     "output_type": "stream",
     "text": [
      "* \n",
      "* * \n",
      "* * * \n",
      "* * * * \n",
      "* * * * * \n",
      "* * * * * * \n"
     ]
    }
   ],
   "source": [
    "n = 6\n",
    "for row in range(0,n):\n",
    "    for col in range(0,row+1):\n",
    "        print(\"*\" , end=\" \")\n",
    "    print(\"\\r\")\n"
   ]
  },
  {
   "cell_type": "code",
   "execution_count": 37,
   "metadata": {},
   "outputs": [
    {
     "name": "stdout",
     "output_type": "stream",
     "text": [
      "88888888\n",
      "\n",
      "88888888\n",
      "\n",
      "88888888\n",
      "\n",
      "88888888\n",
      "\n",
      "88888888\n",
      "\n",
      "88888888\n",
      "\n",
      "88888888\n",
      "\n",
      "88888888\n",
      "\n"
     ]
    }
   ],
   "source": [
    "n = 8\n",
    "for  i in range(0 , n):\n",
    "    for j in range(0 , n):\n",
    "        print(\"8\" , end=\"\")\n",
    "    print(\"\\n\")"
   ]
  },
  {
   "cell_type": "code",
   "execution_count": 14,
   "metadata": {},
   "outputs": [
    {
     "name": "stdout",
     "output_type": "stream",
     "text": [
      "***************\n",
      " *************\n",
      "  ***********\n",
      "   *********\n",
      "    *******\n",
      "     *****\n",
      "      ***\n",
      "       *\n"
     ]
    }
   ],
   "source": [
    "n = int(input(\"Enter the no.  of rows :\"))\n",
    "\n",
    "for i in range(n , 0 , -1):\n",
    "    for j in range(n-i):\n",
    "        print(\" \" , end=\"\")\n",
    "\n",
    "    for j in range(2*i-1):\n",
    "        print(\"*\" , end = \"\")\n",
    "    print(\"\\r\")"
   ]
  },
  {
   "cell_type": "code",
   "execution_count": 36,
   "metadata": {},
   "outputs": [
    {
     "name": "stdout",
     "output_type": "stream",
     "text": [
      "9\n",
      "         \n",
      "        *\n",
      "       ***\n",
      "      *****\n",
      "     *******\n",
      "    *********\n",
      "   ***********\n",
      "  *************\n",
      " ***************\n"
     ]
    }
   ],
   "source": [
    "#n = int(input(\"Enter the no.  of rows :\"))\n",
    "n = 9\n",
    "print(n)\n",
    "\n",
    "for i in range(0  , n):\n",
    "    for j in range(0 , n-i):\n",
    "        print(\" \" , end = \"\")\n",
    "\n",
    "    for j in range(2*i-1):\n",
    "        print(\"*\" , end= \"\")\n",
    "    print(\"\\r\")   "
   ]
  },
  {
   "cell_type": "code",
   "execution_count": 30,
   "metadata": {},
   "outputs": [
    {
     "name": "stdout",
     "output_type": "stream",
     "text": [
      "*             * \n",
      "  *         *   \n",
      "    *     *     \n",
      "      * *       \n",
      "      * *       \n",
      "    *     *     \n",
      "  *         *   \n",
      "*             * \n"
     ]
    }
   ],
   "source": [
    "n = int(input(\"Enter the no.  of rows :\"))\n",
    "\n",
    "for i in range(0  , n):\n",
    "    for j in range(0 , n):\n",
    "        if i == j or i+j == n-1:\n",
    "            print(\"*\" , end=\" \")\n",
    "        else:\n",
    "            print(\" \", end=\" \")\n",
    "    print()\n",
    "\n"
   ]
  },
  {
   "cell_type": "code",
   "execution_count": 5,
   "metadata": {},
   "outputs": [
    {
     "name": "stdout",
     "output_type": "stream",
     "text": [
      "1\n",
      "2\n",
      "3\n",
      "4\n",
      "5\n"
     ]
    }
   ],
   "source": [
    "i = 0\n",
    "while i<5:\n",
    "    i+=1\n",
    "    print(i)"
   ]
  },
  {
   "cell_type": "code",
   "execution_count": null,
   "metadata": {},
   "outputs": [
    {
     "name": "stdout",
     "output_type": "stream",
     "text": [
      "Factorial of 5 is 120\n"
     ]
    }
   ],
   "source": [
    "#factorial \n",
    "n = 5\n",
    "factorial = 1\n",
    "\n",
    "for i in range(1, n + 1):\n",
    "    factorial *= i\n",
    "\n",
    "print(\"Factorial of\", n, \"is\", factorial)\n"
   ]
  },
  {
   "cell_type": "code",
   "execution_count": 9,
   "metadata": {},
   "outputs": [
    {
     "name": "stdout",
     "output_type": "stream",
     "text": [
      "5\n",
      "4\n",
      "3\n",
      "2\n",
      "1\n"
     ]
    }
   ],
   "source": [
    "i = 6\n",
    "while i>+1:\n",
    "    i-=1\n",
    "    print(i)"
   ]
  },
  {
   "cell_type": "code",
   "execution_count": 23,
   "metadata": {},
   "outputs": [
    {
     "name": "stdout",
     "output_type": "stream",
     "text": [
      "[0]\n",
      "[1]\n",
      "[2]\n",
      "[3]\n",
      "[4]\n",
      "[5]\n"
     ]
    }
   ],
   "source": [
    "for  i in range(6):\n",
    "    str = [i]\n",
    "    print(str[::-1])\n",
    "    "
   ]
  },
  {
   "cell_type": "code",
   "execution_count": 26,
   "metadata": {},
   "outputs": [
    {
     "name": "stdout",
     "output_type": "stream",
     "text": [
      "6\n",
      "5\n",
      "4\n",
      "3\n",
      "2\n"
     ]
    }
   ],
   "source": [
    "for i in range(6 , 1 , -1):\n",
    "    print(i)"
   ]
  },
  {
   "cell_type": "code",
   "execution_count": 27,
   "metadata": {},
   "outputs": [
    {
     "name": "stdout",
     "output_type": "stream",
     "text": [
      "313\n",
      "12312\n",
      "31231\n",
      "313\n",
      "123\n",
      "123123\n",
      "3\n",
      "13\n"
     ]
    }
   ],
   "source": [
    "list = [313,12312,31231,313,123,123123,3,13]\n",
    "for i in list:\n",
    "    print(i)"
   ]
  },
  {
   "cell_type": "code",
   "execution_count": 34,
   "metadata": {},
   "outputs": [
    {
     "name": "stdout",
     "output_type": "stream",
     "text": [
      "36\n"
     ]
    }
   ],
   "source": [
    "list2 = [1,23,3,4,5]\n",
    "sum = 0\n",
    "for i in list2:\n",
    "    sum += i\n",
    "\n",
    "\n",
    "print(sum)"
   ]
  },
  {
   "cell_type": "code",
   "execution_count": 35,
   "metadata": {},
   "outputs": [
    {
     "name": "stdout",
     "output_type": "stream",
     "text": [
      "Factorial of 5 is 120\n"
     ]
    }
   ],
   "source": [
    "#factorial \n",
    "n = 5\n",
    "factorial = 1\n",
    "\n",
    "for i in range(1, n + 1):\n",
    "    factorial *= i\n",
    "\n",
    "print(\"Factorial of\", n, \"is\", factorial)\n"
   ]
  },
  {
   "cell_type": "code",
   "execution_count": 41,
   "metadata": {},
   "outputs": [
    {
     "name": "stdout",
     "output_type": "stream",
     "text": [
      "5\n",
      "10\n",
      "15\n",
      "20\n",
      "25\n",
      "30\n",
      "35\n",
      "40\n",
      "45\n",
      "50\n"
     ]
    }
   ],
   "source": [
    " n = 5\n",
    "for i in range(1,11):\n",
    "   print(n * i)"
   ]
  },
  {
   "cell_type": "code",
   "execution_count": 42,
   "metadata": {},
   "outputs": [
    {
     "data": {
      "text/plain": [
       "[313, 12312, 31231, 313, 123, 123123, 3, 13]"
      ]
     },
     "execution_count": 42,
     "metadata": {},
     "output_type": "execute_result"
    }
   ],
   "source": [
    "list"
   ]
  },
  {
   "cell_type": "code",
   "execution_count": 45,
   "metadata": {},
   "outputs": [
    {
     "name": "stdout",
     "output_type": "stream",
     "text": [
      "[12312]\n",
      "[313, 31231, 313, 123, 123123, 3, 13]\n"
     ]
    }
   ],
   "source": [
    "even = []\n",
    "odd = []\n",
    "for i in list:\n",
    "    if i % 2==0:\n",
    "        even.append(i)\n",
    "    else:\n",
    "        odd.append(i)\n",
    "\n",
    "print(even)\n",
    "print(odd)"
   ]
  },
  {
   "cell_type": "code",
   "execution_count": null,
   "metadata": {},
   "outputs": [],
   "source": []
  },
  {
   "cell_type": "code",
   "execution_count": 1,
   "metadata": {},
   "outputs": [],
   "source": [
    "list = [\"apple\" , \"banana\" ,\"grapes\" ]\n"
   ]
  },
  {
   "cell_type": "code",
   "execution_count": 2,
   "metadata": {},
   "outputs": [
    {
     "data": {
      "text/plain": [
       "True"
      ]
     },
     "execution_count": 2,
     "metadata": {},
     "output_type": "execute_result"
    }
   ],
   "source": [
    "\"apple\" in list"
   ]
  },
  {
   "cell_type": "code",
   "execution_count": 3,
   "metadata": {},
   "outputs": [
    {
     "data": {
      "text/plain": [
       "['apple', 'banana', 'grapes']"
      ]
     },
     "execution_count": 3,
     "metadata": {},
     "output_type": "execute_result"
    }
   ],
   "source": [
    "list"
   ]
  },
  {
   "cell_type": "code",
   "execution_count": 4,
   "metadata": {},
   "outputs": [
    {
     "name": "stdout",
     "output_type": "stream",
     "text": [
      "['mango', 'banana', 'grapes']\n"
     ]
    }
   ],
   "source": [
    "list[0] = 'mango'\n",
    "print(list)"
   ]
  },
  {
   "cell_type": "code",
   "execution_count": 7,
   "metadata": {},
   "outputs": [],
   "source": [
    "list[0] = list[1]"
   ]
  },
  {
   "cell_type": "code",
   "execution_count": 8,
   "metadata": {},
   "outputs": [
    {
     "data": {
      "text/plain": [
       "['banana', 'banana', 'grapes']"
      ]
     },
     "execution_count": 8,
     "metadata": {},
     "output_type": "execute_result"
    }
   ],
   "source": [
    "list"
   ]
  },
  {
   "cell_type": "code",
   "execution_count": null,
   "metadata": {},
   "outputs": [],
   "source": [
    "list"
   ]
  },
  {
   "cell_type": "code",
   "execution_count": 3,
   "metadata": {},
   "outputs": [],
   "source": [
    "def addition():\n",
    "    a = 10\n",
    "    b = 20\n",
    "    return a+b"
   ]
  },
  {
   "cell_type": "code",
   "execution_count": 4,
   "metadata": {},
   "outputs": [
    {
     "data": {
      "text/plain": [
       "30"
      ]
     },
     "execution_count": 4,
     "metadata": {},
     "output_type": "execute_result"
    }
   ],
   "source": [
    "addition()"
   ]
  },
  {
   "cell_type": "code",
   "execution_count": 6,
   "metadata": {},
   "outputs": [],
   "source": [
    "def add(a , b):\n",
    "    c = a + b\n",
    "    print(c)"
   ]
  },
  {
   "cell_type": "code",
   "execution_count": 7,
   "metadata": {},
   "outputs": [
    {
     "name": "stdout",
     "output_type": "stream",
     "text": [
      "5\n"
     ]
    }
   ],
   "source": [
    "add(2,3)"
   ]
  },
  {
   "cell_type": "code",
   "execution_count": 8,
   "metadata": {},
   "outputs": [],
   "source": [
    "def sub(a,b):\n",
    "    c = a-b\n",
    "    return c"
   ]
  },
  {
   "cell_type": "code",
   "execution_count": 9,
   "metadata": {},
   "outputs": [
    {
     "data": {
      "text/plain": [
       "2"
      ]
     },
     "execution_count": 9,
     "metadata": {},
     "output_type": "execute_result"
    }
   ],
   "source": [
    "sub(5,3)"
   ]
  },
  {
   "cell_type": "code",
   "execution_count": 10,
   "metadata": {},
   "outputs": [],
   "source": [
    "def div(a,b):\n",
    "    return a/b"
   ]
  },
  {
   "cell_type": "code",
   "execution_count": 11,
   "metadata": {},
   "outputs": [
    {
     "data": {
      "text/plain": [
       "2.0"
      ]
     },
     "execution_count": 11,
     "metadata": {},
     "output_type": "execute_result"
    }
   ],
   "source": [
    "div(6,3)"
   ]
  },
  {
   "cell_type": "code",
   "execution_count": 1,
   "metadata": {},
   "outputs": [],
   "source": [
    "def is_even_odd(num):\n",
    "    if num%2==0:\n",
    "        print(\"even \")\n",
    "    else:\n",
    "        print(\"odd \")"
   ]
  },
  {
   "cell_type": "code",
   "execution_count": 2,
   "metadata": {},
   "outputs": [
    {
     "name": "stdout",
     "output_type": "stream",
     "text": [
      "odd \n"
     ]
    }
   ],
   "source": [
    "is_even_odd(43)"
   ]
  },
  {
   "cell_type": "code",
   "execution_count": 3,
   "metadata": {},
   "outputs": [
    {
     "name": "stdout",
     "output_type": "stream",
     "text": [
      "even \n"
     ]
    }
   ],
   "source": [
    "is_even_odd(10)"
   ]
  },
  {
   "cell_type": "code",
   "execution_count": 4,
   "metadata": {},
   "outputs": [],
   "source": [
    "import calendar"
   ]
  },
  {
   "cell_type": "code",
   "execution_count": 6,
   "metadata": {},
   "outputs": [
    {
     "data": {
      "text/plain": [
       "False"
      ]
     },
     "execution_count": 6,
     "metadata": {},
     "output_type": "execute_result"
    }
   ],
   "source": [
    "calendar.isleap(1997)"
   ]
  },
  {
   "cell_type": "code",
   "execution_count": 11,
   "metadata": {},
   "outputs": [
    {
     "name": "stdout",
     "output_type": "stream",
     "text": [
      "[123, 32, 12, 33, 12]\n",
      "The maximum number is: 123\n"
     ]
    }
   ],
   "source": [
    "def max_of_numbers():\n",
    "    numbers = []\n",
    "    for i in range(5):\n",
    "        num = int(input(\"Enter a number: \"))\n",
    "        numbers.append(num)\n",
    "    print(numbers)\n",
    "    print(\"The maximum number is:\", max(numbers))\n",
    "\n",
    "max_of_numbers()\n"
   ]
  },
  {
   "cell_type": "code",
   "execution_count": 22,
   "metadata": {},
   "outputs": [
    {
     "name": "stdout",
     "output_type": "stream",
     "text": [
      "[23, 32, 44]\n",
      "99\n"
     ]
    }
   ],
   "source": [
    "def sumOfNumbers():\n",
    "    \"\"\"This functions gives the sum of the numbers  \"\"\"\n",
    "    numbers = []\n",
    "    for i in range(3):\n",
    "        num = int(input(\"Enter a number: \"))\n",
    "        numbers.append(num)\n",
    "    \n",
    "    print(numbers)\n",
    "\n",
    "    sum = 0\n",
    "    for i in numbers:\n",
    "        sum += i\n",
    "    print(sum)\n",
    "\n",
    "sumOfNumbers()"
   ]
  },
  {
   "cell_type": "code",
   "execution_count": 19,
   "metadata": {},
   "outputs": [
    {
     "name": "stdout",
     "output_type": "stream",
     "text": [
      "[1, 2, 3, 4, 5]\n",
      "15\n"
     ]
    }
   ],
   "source": [
    "sumOfNumbers()"
   ]
  },
  {
   "cell_type": "code",
   "execution_count": 24,
   "metadata": {},
   "outputs": [
    {
     "name": "stdout",
     "output_type": "stream",
     "text": [
      "Help on function sumOfNumbers in module __main__:\n",
      "\n",
      "sumOfNumbers()\n",
      "    This functions gives the sum of the numbers\n",
      "\n"
     ]
    }
   ],
   "source": [
    "help(sumOfNumbers)"
   ]
  },
  {
   "cell_type": "code",
   "execution_count": 25,
   "metadata": {},
   "outputs": [
    {
     "data": {
      "text/plain": [
       "67"
      ]
     },
     "execution_count": 25,
     "metadata": {},
     "output_type": "execute_result"
    }
   ],
   "source": [
    "sum([23,32,12])"
   ]
  },
  {
   "cell_type": "code",
   "execution_count": 28,
   "metadata": {},
   "outputs": [
    {
     "data": {
      "text/plain": [
       "7"
      ]
     },
     "execution_count": 28,
     "metadata": {},
     "output_type": "execute_result"
    }
   ],
   "source": [
    "#lambda functions\n",
    "summm  = lambda a , b : a+b\n",
    "summm(3,4)"
   ]
  },
  {
   "cell_type": "code",
   "execution_count": 42,
   "metadata": {},
   "outputs": [],
   "source": [
    "def is_palindrom():\n",
    "    word = str(input(\"enter the word:\"))\n",
    "    if word == \"\".join(reversed(word)):\n",
    "        print(\"it is palindrom\")\n",
    "    else:\n",
    "        print(\"it is not palindrom\")"
   ]
  },
  {
   "cell_type": "code",
   "execution_count": 45,
   "metadata": {},
   "outputs": [
    {
     "name": "stdout",
     "output_type": "stream",
     "text": [
      "it is not palindrom\n"
     ]
    }
   ],
   "source": [
    "is_palindrom()"
   ]
  },
  {
   "cell_type": "code",
   "execution_count": 79,
   "metadata": {},
   "outputs": [
    {
     "name": "stdout",
     "output_type": "stream",
     "text": [
      "Factorial of 5 is 120\n"
     ]
    }
   ],
   "source": [
    "def factorial():\n",
    "   n = int(input(\"Enter the number: \"))\n",
    "   facto = 1\n",
    "   for i in range(1, n + 1):\n",
    "       facto *= i\n",
    "   print(\"Factorial of\", n, \"is\", facto)\n",
    "\n",
    "factorial()\n"
   ]
  },
  {
   "cell_type": "code",
   "execution_count": 80,
   "metadata": {},
   "outputs": [
    {
     "name": "stdout",
     "output_type": "stream",
     "text": [
      "Factorial of 3 is 6\n"
     ]
    }
   ],
   "source": [
    "factorial()"
   ]
  },
  {
   "cell_type": "code",
   "execution_count": 82,
   "metadata": {},
   "outputs": [
    {
     "name": "stdout",
     "output_type": "stream",
     "text": [
      "1\n",
      "2\n",
      "3\n",
      "4\n"
     ]
    }
   ],
   "source": [
    "for i in range(1 , 5):\n",
    "    print(i)"
   ]
  },
  {
   "cell_type": "code",
   "execution_count": null,
   "metadata": {},
   "outputs": [],
   "source": [
    "def max_of_numbers(*numbers):\n",
    "    numbers = []\n",
    "    for i in range(5):\n",
    "        num = int(input(\"Enter a number: \"))\n",
    "        numbers.append(num)\n",
    "    print(numbers)\n",
    "    print(\"The maximum number is:\", max(numbers))\n",
    "\n",
    "max_of_numbers()"
   ]
  },
  {
   "cell_type": "code",
   "execution_count": 8,
   "metadata": {},
   "outputs": [],
   "source": [
    "def max_of_numbers(*args):\n",
    "    numbers = list(args)  # Convert args to a list\n",
    "    print(numbers)\n",
    "    print(\"The maximum number is:\", max(numbers))\n",
    "\n",
    "# Call the function with any number of arguments\n",
    "#max_of_numbers(3, 5, 2, 8, 6)\n"
   ]
  },
  {
   "cell_type": "code",
   "execution_count": 24,
   "metadata": {},
   "outputs": [
    {
     "data": {
      "text/plain": [
       "44"
      ]
     },
     "execution_count": 24,
     "metadata": {},
     "output_type": "execute_result"
    }
   ],
   "source": [
    "add = lambda a,b : a+b\n",
    "\n",
    "add(12,32)"
   ]
  },
  {
   "cell_type": "code",
   "execution_count": 26,
   "metadata": {},
   "outputs": [
    {
     "data": {
      "text/plain": [
       "[2, 4, 6, 8, 10, 12, 14, 16, 18, 20]"
      ]
     },
     "execution_count": 26,
     "metadata": {},
     "output_type": "execute_result"
    }
   ],
   "source": [
    "[i*2 for i in range(1,11)]"
   ]
  },
  {
   "cell_type": "code",
   "execution_count": 27,
   "metadata": {},
   "outputs": [],
   "source": [
    "s = \"shubham\"\n"
   ]
  },
  {
   "cell_type": "code",
   "execution_count": 31,
   "metadata": {},
   "outputs": [],
   "source": [
    "s = iter(s)"
   ]
  },
  {
   "cell_type": "code",
   "execution_count": 33,
   "metadata": {},
   "outputs": [
    {
     "data": {
      "text/plain": [
       "'h'"
      ]
     },
     "execution_count": 33,
     "metadata": {},
     "output_type": "execute_result"
    }
   ],
   "source": [
    "next(s)\n"
   ]
  },
  {
   "cell_type": "code",
   "execution_count": 32,
   "metadata": {},
   "outputs": [
    {
     "data": {
      "text/plain": [
       "'s'"
      ]
     },
     "execution_count": 32,
     "metadata": {},
     "output_type": "execute_result"
    }
   ],
   "source": [
    "next(s)"
   ]
  },
  {
   "cell_type": "code",
   "execution_count": 38,
   "metadata": {},
   "outputs": [
    {
     "name": "stderr",
     "output_type": "stream",
     "text": [
      "'ls' is not recognized as an internal or external command,\n",
      "operable program or batch file.\n"
     ]
    }
   ],
   "source": [
    "!ls"
   ]
  },
  {
   "cell_type": "code",
   "execution_count": 39,
   "metadata": {},
   "outputs": [
    {
     "name": "stderr",
     "output_type": "stream",
     "text": [
      "'ls' is not recognized as an internal or external command,\n",
      "operable program or batch file.\n"
     ]
    }
   ],
   "source": [
    "!ls"
   ]
  },
  {
   "cell_type": "code",
   "execution_count": 37,
   "metadata": {},
   "outputs": [
    {
     "data": {
      "text/plain": [
       "'c:\\\\Users\\\\shubh\\\\ineuron ml16\\\\ITP_pythonCore'"
      ]
     },
     "execution_count": 37,
     "metadata": {},
     "output_type": "execute_result"
    }
   ],
   "source": [
    "pwd"
   ]
  },
  {
   "cell_type": "code",
   "execution_count": 2,
   "metadata": {},
   "outputs": [],
   "source": [
    "class students:\n",
    "    def __init__(self , name , roll_no , age , classs ):\n",
    "        self.name = name\n",
    "        self.roll_no = roll_no\n",
    "        self.age = age\n",
    "        self.classs = classs\n",
    "\n",
    "def show_details(self):\n",
    "    print(\"Name:\", self.name , \"roll number:\" , self.roll_no , \"age:\" , self.age , \"class:\" , self.classs)\n"
   ]
  },
  {
   "cell_type": "code",
   "execution_count": 3,
   "metadata": {},
   "outputs": [],
   "source": [
    "student1 = students(\"shubham\" , 21 , 14 , \"A\")\n",
    "student2  =  students(\"ram\" , 32 , 14 , \"B\")\n",
    "student3 = students(\"sam\" , 420 , 13 , \"A\")"
   ]
  },
  {
   "cell_type": "code",
   "execution_count": 5,
   "metadata": {},
   "outputs": [
    {
     "data": {
      "text/plain": [
       "14"
      ]
     },
     "execution_count": 5,
     "metadata": {},
     "output_type": "execute_result"
    }
   ],
   "source": [
    "student1.age"
   ]
  },
  {
   "cell_type": "code",
   "execution_count": 6,
   "metadata": {},
   "outputs": [
    {
     "data": {
      "text/plain": [
       "'sam'"
      ]
     },
     "execution_count": 6,
     "metadata": {},
     "output_type": "execute_result"
    }
   ],
   "source": [
    "student3.name"
   ]
  },
  {
   "cell_type": "code",
   "execution_count": 9,
   "metadata": {},
   "outputs": [
    {
     "name": "stdout",
     "output_type": "stream",
     "text": [
      "Name: shubham roll number: 21 age: 14 class: A\n"
     ]
    }
   ],
   "source": [
    "show_details(student1)"
   ]
  },
  {
   "cell_type": "code",
   "execution_count": 10,
   "metadata": {},
   "outputs": [
    {
     "name": "stdout",
     "output_type": "stream",
     "text": [
      "Name: sam roll number: 420 age: 13 class: A\n"
     ]
    }
   ],
   "source": [
    "show_details(student3)"
   ]
  },
  {
   "cell_type": "code",
   "execution_count": 1,
   "metadata": {},
   "outputs": [],
   "source": [
    "li = [12,23,44,55,56]\n"
   ]
  },
  {
   "cell_type": "code",
   "execution_count": 2,
   "metadata": {},
   "outputs": [
    {
     "data": {
      "text/plain": [
       "[44, 55, 56, 12, 23]"
      ]
     },
     "execution_count": 2,
     "metadata": {},
     "output_type": "execute_result"
    }
   ],
   "source": [
    "li[2:]+li[:2]"
   ]
  },
  {
   "cell_type": "code",
   "execution_count": 3,
   "metadata": {},
   "outputs": [
    {
     "data": {
      "text/plain": [
       "[12, 23, 44, 55, 56]"
      ]
     },
     "execution_count": 3,
     "metadata": {},
     "output_type": "execute_result"
    }
   ],
   "source": [
    "sorted(li)"
   ]
  },
  {
   "cell_type": "code",
   "execution_count": 8,
   "metadata": {},
   "outputs": [],
   "source": [
    "li.sort()"
   ]
  },
  {
   "cell_type": "code",
   "execution_count": 15,
   "metadata": {},
   "outputs": [
    {
     "name": "stdout",
     "output_type": "stream",
     "text": [
      "[12, 23, 31]\n"
     ]
    }
   ],
   "source": [
    "#**Sort a List Without Using the `sort()` Method**\n",
    "li = [12,23,343,45,31]\n",
    "accen_order =[]\n",
    "for i in li:\n",
    "    min_value = min(li)\n",
    "    accen_order.append(min_value)\n",
    "    li.remove(min_value)\n",
    "\n",
    "print(accen_order)"
   ]
  },
  {
   "cell_type": "code",
   "execution_count": 17,
   "metadata": {},
   "outputs": [],
   "source": [
    "li = [12,23,343,45,31]\n"
   ]
  },
  {
   "cell_type": "code",
   "execution_count": 18,
   "metadata": {},
   "outputs": [
    {
     "data": {
      "text/plain": [
       "{12, 23, 31, 45, 343}"
      ]
     },
     "execution_count": 18,
     "metadata": {},
     "output_type": "execute_result"
    }
   ],
   "source": [
    "set(li)"
   ]
  },
  {
   "cell_type": "code",
   "execution_count": null,
   "metadata": {},
   "outputs": [],
   "source": [
    "data"
   ]
  },
  {
   "cell_type": "code",
   "execution_count": 1,
   "metadata": {},
   "outputs": [
    {
     "name": "stdout",
     "output_type": "stream",
     "text": [
      "Unknown\n",
      "Alice\n"
     ]
    }
   ],
   "source": [
    "my_dict = {\"name\": \"Alice\", \"age\": 30}\n",
    "print(my_dict.get(\"city\", \"Unknown\"))   \n",
    "print(my_dict.get(\"name\"))"
   ]
  },
  {
   "cell_type": "code",
   "execution_count": 2,
   "metadata": {},
   "outputs": [],
   "source": [
    "my_dict = {\"a\": 1, \"b\": 2}"
   ]
  },
  {
   "cell_type": "code",
   "execution_count": 4,
   "metadata": {},
   "outputs": [
    {
     "name": "stdout",
     "output_type": "stream",
     "text": [
      "None\n"
     ]
    }
   ],
   "source": [
    "print(my_dict.get(\"C\"))"
   ]
  },
  {
   "cell_type": "markdown",
   "metadata": {},
   "source": [
    "types  of inheritence"
   ]
  },
  {
   "cell_type": "code",
   "execution_count": 1,
   "metadata": {},
   "outputs": [],
   "source": [
    "#single inher\n",
    "class Car:\n",
    "    def __init__(self, brand, model):\n",
    "        self.brand = brand\n",
    "        self.model = model\n",
    "    \n",
    "class ElectricCar(Car):\n",
    "    def __init__(self,brand ,model , year, battery_type ):\n",
    "        super().__init__(brand,model)\n",
    "        self.year = year\n",
    "        self.battery_type = battery_type\n",
    "\n",
    "\n"
   ]
  },
  {
   "cell_type": "code",
   "execution_count": 2,
   "metadata": {},
   "outputs": [],
   "source": [
    "Ev1 = ElectricCar(\"tata\" , \"nexon\",2024 , \"30kw\" )"
   ]
  },
  {
   "cell_type": "code",
   "execution_count": 3,
   "metadata": {},
   "outputs": [
    {
     "data": {
      "text/plain": [
       "'tata'"
      ]
     },
     "execution_count": 3,
     "metadata": {},
     "output_type": "execute_result"
    }
   ],
   "source": [
    "Ev1.brand"
   ]
  },
  {
   "cell_type": "code",
   "execution_count": 4,
   "metadata": {},
   "outputs": [],
   "source": [
    "#multiple inher\n",
    "# multiple inheritance\n",
    "class Animal:\n",
    "    def __init__(self, name, age):\n",
    "        self.name = name\n",
    "        self.age = age\n",
    "\n",
    "class Breed:\n",
    "    def breed_type(self):\n",
    "        return \"Gavthi\"\n",
    "\n",
    "class Dog(Animal, Breed):\n",
    "    def Dog_info(self):\n",
    "        print(f\"This is a {self.name} of {self.age} years old and is a {self.breed_type()} dog.\")\n",
    "\n",
    "\n"
   ]
  },
  {
   "cell_type": "code",
   "execution_count": 5,
   "metadata": {},
   "outputs": [],
   "source": [
    "sheru = Dog(\"sheru\" , 3  )"
   ]
  },
  {
   "cell_type": "code",
   "execution_count": 7,
   "metadata": {},
   "outputs": [
    {
     "name": "stdout",
     "output_type": "stream",
     "text": [
      "This is a sheru of 3 years old and is a Gavthi dog.\n"
     ]
    }
   ],
   "source": [
    "sheru.Dog_info()"
   ]
  },
  {
   "cell_type": "code",
   "execution_count": 8,
   "metadata": {},
   "outputs": [
    {
     "data": {
      "text/plain": [
       "3"
      ]
     },
     "execution_count": 8,
     "metadata": {},
     "output_type": "execute_result"
    }
   ],
   "source": [
    "sheru.age"
   ]
  },
  {
   "cell_type": "code",
   "execution_count": 10,
   "metadata": {},
   "outputs": [],
   "source": [
    "#multilevel inher\n",
    "class Car:\n",
    "    def __init__(self , name):\n",
    "        self.name = name\n",
    "\n",
    "    def show_CarName(self):\n",
    "        print(f\"The  car name is {self.name}\")\n",
    "\n",
    "class brand(Car):\n",
    "    def __init__(self ,name, country):\n",
    "        super().__init__(name)\n",
    "        self.country = country\n",
    "     \n",
    "    def show_country(self):\n",
    "        print(f\"The car brand is from {self.country}\")\n",
    "\n",
    "class model(brand):\n",
    "    def __init__(self, name , country ,brand_name):\n",
    "        super().__init__(name, country)\n",
    "        self.brand_name = brand_name\n",
    "\n",
    "    def show_brand(self):\n",
    "        print(f\"The car model is {self.brand_name}\")\n",
    "\n",
    "\n",
    "    \n",
    "    "
   ]
  },
  {
   "cell_type": "code",
   "execution_count": 11,
   "metadata": {},
   "outputs": [],
   "source": [
    "car1 = model(\"Nexon\" , \"india\" ,\"tata\" )"
   ]
  },
  {
   "cell_type": "code",
   "execution_count": 13,
   "metadata": {},
   "outputs": [
    {
     "name": "stdout",
     "output_type": "stream",
     "text": [
      "The  car name is Nexon\n"
     ]
    }
   ],
   "source": [
    "car1.show_CarName()"
   ]
  },
  {
   "cell_type": "code",
   "execution_count": 14,
   "metadata": {},
   "outputs": [
    {
     "name": "stdout",
     "output_type": "stream",
     "text": [
      "The car model is tata\n"
     ]
    }
   ],
   "source": [
    "car1.show_brand()"
   ]
  },
  {
   "cell_type": "code",
   "execution_count": null,
   "metadata": {},
   "outputs": [],
   "source": [
    "#hierarchical\n",
    "# Parent Class\n",
    "class Animal:\n",
    "    def __init__(self, name):\n",
    "        self.name = name\n",
    "\n",
    "    def speak(self):\n",
    "        print(f\"{self.name} makes a sound.\")\n",
    "\n",
    "class Dog(Animal):\n",
    "    def speak(self):\n",
    "        print(f\"{self.name} barks.\")\n",
    "\n",
    "\n",
    "class Cat(Animal):\n",
    "    def speak(self):\n",
    "        print(f\"{self.name} meows.\")\n",
    "\n",
    "class Cow(Animal):\n",
    "    def speak(self):\n",
    "        print(f\"{self.name} moos.\")\n",
    "\n"
   ]
  },
  {
   "cell_type": "code",
   "execution_count": 17,
   "metadata": {},
   "outputs": [],
   "source": [
    "dog = Dog(\"sheru\")\n",
    "cow = Cow(\"gayya\")\n"
   ]
  },
  {
   "cell_type": "code",
   "execution_count": 20,
   "metadata": {},
   "outputs": [
    {
     "name": "stdout",
     "output_type": "stream",
     "text": [
      "sheru barks.\n",
      "gayya moos.\n"
     ]
    }
   ],
   "source": [
    "dog.speak()\n",
    "cow.speak()"
   ]
  },
  {
   "cell_type": "code",
   "execution_count": 3,
   "metadata": {},
   "outputs": [
    {
     "ename": "SyntaxError",
     "evalue": "expected 'except' or 'finally' block (4130931286.py, line 3)",
     "output_type": "error",
     "traceback": [
      "\u001b[1;36m  Cell \u001b[1;32mIn[3], line 3\u001b[1;36m\u001b[0m\n\u001b[1;33m    raise Exception ('Error in function')\u001b[0m\n\u001b[1;37m    ^\u001b[0m\n\u001b[1;31mSyntaxError\u001b[0m\u001b[1;31m:\u001b[0m expected 'except' or 'finally' block\n"
     ]
    }
   ],
   "source": [
    "try:\n",
    "    print(abd)\n",
    "raise Exception ('Error in function')"
   ]
  },
  {
   "cell_type": "code",
   "execution_count": null,
   "metadata": {},
   "outputs": [],
   "source": []
  },
  {
   "cell_type": "code",
   "execution_count": null,
   "metadata": {},
   "outputs": [
    {
     "name": "stdout",
     "output_type": "stream",
     "text": [
      "An error occurred: invalid literal for int() with base 10: 'asdas'\n",
      "Please try again.\n"
     ]
    }
   ],
   "source": [
    "def password_check():\n",
    "    correct_password = \"secure123\"  \n",
    "    max_attempts = 3  \n",
    "\n",
    "    for attempt in range(1, max_attempts + 1):\n",
    "        try:\n",
    "            entered_password = int(input(f\"Attempt {attempt}/{max_attempts}: Enter your password: \")) #here we handling the runtime eror by giving the input as string \n",
    "\n",
    "            if entered_password == correct_password:\n",
    "                print(\"Access granted!\")\n",
    "                return  # Exit the function if the password is correct\n",
    "            else:\n",
    "                remaining_attempts = max_attempts - attempt\n",
    "                if remaining_attempts > 0:\n",
    "                    print(f\"Incorrect password. You have {remaining_attempts} attempts left.\")\n",
    "                else:\n",
    "                    print(\"Access denied. You have used all attempts.\")\n",
    "        except Exception as e:\n",
    "            print(f\"An error occurred: {e}\")\n",
    "            print(\"Please try again.\")\n",
    "\n",
    "password_check()\n",
    "\n"
   ]
  },
  {
   "cell_type": "code",
   "execution_count": 2,
   "metadata": {},
   "outputs": [
    {
     "name": "stdout",
     "output_type": "stream",
     "text": [
      "Incorrect password. You have 2 attempts left.\n",
      "Incorrect password. You have 1 attempts left.\n",
      "Access denied. You have used all attempts.\n"
     ]
    }
   ],
   "source": [
    "def password_check():\n",
    "    correct_password = \"secure123\"  \n",
    "    max_attempts = 3  \n",
    "\n",
    "    attempt = 0\n",
    "    while attempt < max_attempts:\n",
    "        try:\n",
    "            entered_password = input(f\"Attempt {attempt + 1}/{max_attempts}: Enter your password: \")\n",
    "            \n",
    "            if entered_password == correct_password:\n",
    "                print(\"Access granted!\")\n",
    "                return  # Exit the function when the password is correct\n",
    "            \n",
    "            attempt += 1  # Increment attempt counter after incorrect input\n",
    "            \n",
    "            remaining_attempts = max_attempts - attempt\n",
    "            if remaining_attempts > 0:\n",
    "                print(f\"Incorrect password. You have {remaining_attempts} attempts left.\")\n",
    "            else:\n",
    "                print(\"Access denied. You have used all attempts.\")\n",
    "        except KeyboardInterrupt:\n",
    "            print(\"\\nOperation interrupted by the user. Exiting...\")\n",
    "            return\n",
    "        except EOFError:\n",
    "            print(\"\\nUnexpected end of input. Exiting...\")\n",
    "            return\n",
    "        except Exception as e:\n",
    "            print(f\"An unexpected error occurred: {e}\")\n",
    "            return\n",
    "\n",
    "password_check()\n"
   ]
  },
  {
   "cell_type": "code",
   "execution_count": 2,
   "metadata": {},
   "outputs": [
    {
     "name": "stdout",
     "output_type": "stream",
     "text": [
      "Error: Division by zero is not allowed!\n"
     ]
    }
   ],
   "source": [
    "# define ur own  error statement by raise  exception in ur Function\n",
    "def divide_numbers(a, b):\n",
    "    if b == 0:\n",
    "        raise Exception(\"Division by zero is not allowed!\")\n",
    "    return a / b\n",
    "\n",
    "try:\n",
    "    result = divide_numbers(10, 0) # for this function it ur owwn statement \n",
    "except Exception as e:\n",
    "    print(f\"Error: {e}\")\n"
   ]
  },
  {
   "cell_type": "code",
   "execution_count": 13,
   "metadata": {},
   "outputs": [
    {
     "name": "stdout",
     "output_type": "stream",
     "text": [
      "write file first becaus :[Errno 2] No such file or directory: 'read.txt'\n",
      "first creat file-Error:name 'file' is not defined\n"
     ]
    }
   ],
   "source": [
    "try:\n",
    "    file = open(\"read.txt\" , \"r\")\n",
    "except Exception as e:\n",
    "    print(f\"write file first becaus :{e}\")\n",
    "else:\n",
    "    print(\"you have succes read file \")\n",
    "finally:\n",
    "        try:\n",
    "            file.close()\n",
    "        except Exception as e:\n",
    "             print(f\"first creat file-Error:{e}\")\n",
    "\n"
   ]
  },
  {
   "cell_type": "code",
   "execution_count": 16,
   "metadata": {},
   "outputs": [
    {
     "name": "stdout",
     "output_type": "stream",
     "text": [
      "you have succesful read file \n"
     ]
    }
   ],
   "source": [
    "try:\n",
    "    file = open(r\"C:\\Users\\shubh\\ineuron ml16\\ITP_pythonCore\\Shubham_Birari_Python_W_3.txt\" , \"r\")\n",
    "except Exception as e:\n",
    "    print(f\"write file first becaus :{e}\")\n",
    "else:\n",
    "    print(\"you have succesful read file \")\n",
    "finally:\n",
    "        try:\n",
    "            file.close()\n",
    "        except Exception as e:\n",
    "             print(f\"first creat file-Error:{e}\")\n",
    "\n"
   ]
  },
  {
   "cell_type": "code",
   "execution_count": 17,
   "metadata": {},
   "outputs": [
    {
     "ename": "ValueError",
     "evalue": "I/O operation on closed file.",
     "output_type": "error",
     "traceback": [
      "\u001b[1;31m---------------------------------------------------------------------------\u001b[0m",
      "\u001b[1;31mValueError\u001b[0m                                Traceback (most recent call last)",
      "Cell \u001b[1;32mIn[17], line 1\u001b[0m\n\u001b[1;32m----> 1\u001b[0m \u001b[43mfile\u001b[49m\u001b[38;5;241;43m.\u001b[39;49m\u001b[43mread\u001b[49m\u001b[43m(\u001b[49m\u001b[43m)\u001b[49m\n",
      "\u001b[1;31mValueError\u001b[0m: I/O operation on closed file."
     ]
    }
   ],
   "source": [
    "file.read()"
   ]
  },
  {
   "cell_type": "code",
   "execution_count": 4,
   "metadata": {},
   "outputs": [
    {
     "data": {
      "text/plain": [
       "'c:\\\\Users\\\\shubh\\\\ineuron ml16\\\\ITP_pythonCore'"
      ]
     },
     "execution_count": 4,
     "metadata": {},
     "output_type": "execute_result"
    }
   ],
   "source": [
    "pwd()"
   ]
  },
  {
   "cell_type": "code",
   "execution_count": null,
   "metadata": {},
   "outputs": [
    {
     "name": "stdout",
     "output_type": "stream",
     "text": [
      " Volume in drive C is Windows\n",
      " Volume Serial Number is 7293-F0DC\n",
      "\n",
      " Directory of c:\\Users\\shubh\\ineuron ml16\\ITP_pythonCore\n",
      "\n",
      "09-12-2024  03:07 PM    <DIR>          .\n",
      "05-12-2024  07:22 PM    <DIR>          ..\n",
      "26-10-2024  11:30 AM             5,010 assignments.ipynb\n",
      "04-10-2024  05:28 PM            53,897 ITPM FINAL TEST QUESTION BANK.pdf\n",
      "07-12-2024  11:48 AM           368,823 oops.ipynb\n",
      "12-11-2024  03:52 PM             6,245 pattern_programing.ipynb\n",
      "09-12-2024  03:08 PM           118,371 practice-code.ipynb\n",
      "07-12-2024  10:37 AM            84,805 pyth interview ques.ipynb\n",
      "23-11-2024  10:58 AM             5,271 python ITPM test2.txt\n",
      "06-11-2024  03:53 PM           130,294 python the interview questions.pdf\n",
      "11-10-2024  12:41 PM            12,979 python_basic.ipynb\n",
      "18-10-2024  10:06 AM           103,162 Python-ppt (3).pptx\n",
      "07-12-2024  12:17 PM             5,265 Shubham_Birari_Python_W_3 written.py\n",
      "07-12-2024  12:00 PM             5,454 Shubham_Birari_Python_W_3.txt\n",
      "07-12-2024  12:15 PM               125 tempCodeRunnerFile.py\n",
      "07-11-2024  02:10 PM            12,856 test3.ipynb\n",
      "              14 File(s)        912,557 bytes\n",
      "               2 Dir(s)  47,861,112,832 bytes free\n"
     ]
    }
   ],
   "source": [
    "%ls"
   ]
  },
  {
   "cell_type": "code",
   "execution_count": 25,
   "metadata": {},
   "outputs": [
    {
     "name": "stdout",
     "output_type": "stream",
     "text": [
      "Error: Invalid email format!\n",
      "please try again\n"
     ]
    }
   ],
   "source": [
    "import re\n",
    "\n",
    "def validate_email(email):\n",
    "    # Regular expression for a valid email\n",
    "    email_regex = r'^[a-zA-Z0-9._%+-]+@[a-zA-Z0-9.-]+.[a-zA-Z]'\n",
    "\n",
    "    if not re.match(email_regex, email):\n",
    "        raise ValueError(\"Invalid email format!\")\n",
    "    return True\n",
    "\n",
    "try:\n",
    "    email_id = input(\"Enter your email ID: \")\n",
    "    if validate_email(email_id):\n",
    "        print(\"Email ID is valid!\")\n",
    "        \n",
    "except ValueError as ve:\n",
    "    print(f\"Error: {ve}\")\n",
    "    print(\"please try again\")\n",
    "except Exception as e:\n",
    "    print(f\"A error is {e}\")\n",
    "\n",
    "else:\n",
    "    print(\"entr the pass\")"
   ]
  },
  {
   "cell_type": "code",
   "execution_count": 28,
   "metadata": {},
   "outputs": [
    {
     "data": {
      "text/plain": [
       "<function dir>"
      ]
     },
     "execution_count": 28,
     "metadata": {},
     "output_type": "execute_result"
    }
   ],
   "source": [
    "dir"
   ]
  },
  {
   "cell_type": "code",
   "execution_count": 29,
   "metadata": {},
   "outputs": [],
   "source": [
    "## write the file in many ways : file haandling"
   ]
  },
  {
   "cell_type": "code",
   "execution_count": 30,
   "metadata": {},
   "outputs": [],
   "source": [
    "# one way is \n",
    "file  = open(\"sample.txt\" , \"w\")\n",
    "file.write(\"This is the  first line \")\n",
    "file.close()"
   ]
  },
  {
   "cell_type": "code",
   "execution_count": 32,
   "metadata": {},
   "outputs": [],
   "source": [
    "#other way on jupytr notebook \n",
    "# %%writefile sample.txt\n",
    "# This is second line.."
   ]
  },
  {
   "cell_type": "code",
   "execution_count": null,
   "metadata": {},
   "outputs": [],
   "source": [
    "# Reading from a file\n",
    "with open(\"example.txt\", \"r\") as file:\n",
    "    content = file.read()\n",
    "    print(content)\n",
    "# No need to explicitly call file.close() as it's handled by the with block\n"
   ]
  },
  {
   "cell_type": "code",
   "execution_count": 1,
   "metadata": {},
   "outputs": [
    {
     "data": {
      "text/plain": [
       "list"
      ]
     },
     "execution_count": 1,
     "metadata": {},
     "output_type": "execute_result"
    }
   ],
   "source": [
    "list"
   ]
  },
  {
   "cell_type": "code",
   "execution_count": 3,
   "metadata": {},
   "outputs": [],
   "source": [
    "lis = [21,23,12]"
   ]
  },
  {
   "cell_type": "code",
   "execution_count": 5,
   "metadata": {},
   "outputs": [],
   "source": [
    "lis.sort()"
   ]
  },
  {
   "cell_type": "code",
   "execution_count": 6,
   "metadata": {},
   "outputs": [
    {
     "data": {
      "text/plain": [
       "[12, 21, 23]"
      ]
     },
     "execution_count": 6,
     "metadata": {},
     "output_type": "execute_result"
    }
   ],
   "source": [
    "lis"
   ]
  },
  {
   "cell_type": "code",
   "execution_count": 7,
   "metadata": {},
   "outputs": [
    {
     "data": {
      "text/plain": [
       "23"
      ]
     },
     "execution_count": 7,
     "metadata": {},
     "output_type": "execute_result"
    }
   ],
   "source": [
    "lis[-1]"
   ]
  },
  {
   "cell_type": "code",
   "execution_count": 10,
   "metadata": {},
   "outputs": [],
   "source": [
    "numbers  = []\n",
    "for i in range(3):\n",
    "    numbers.append(int(input(\"enter num\")))"
   ]
  },
  {
   "cell_type": "code",
   "execution_count": 11,
   "metadata": {},
   "outputs": [
    {
     "data": {
      "text/plain": [
       "[12, 323, 23]"
      ]
     },
     "execution_count": 11,
     "metadata": {},
     "output_type": "execute_result"
    }
   ],
   "source": [
    "numbers"
   ]
  },
  {
   "cell_type": "code",
   "execution_count": 12,
   "metadata": {},
   "outputs": [
    {
     "name": "stdout",
     "output_type": "stream",
     "text": [
      "it is\n"
     ]
    }
   ],
   "source": [
    "#4.Check if a string is a palindrome.\n",
    "string=\"mom\"\n",
    "if string == string[::-1]:\n",
    "    print(\"it is\")\n",
    "else:\n",
    "    print(\"its not\")"
   ]
  },
  {
   "cell_type": "code",
   "execution_count": 15,
   "metadata": {},
   "outputs": [
    {
     "name": "stdout",
     "output_type": "stream",
     "text": [
      "2\n"
     ]
    }
   ],
   "source": [
    "#5.Count the number of vowels in a string\n",
    "string = \"hello\"\n",
    "vowel_count = sum(1 for char in string if char.lower() in 'aeiou')\n",
    "\n",
    "print(vowel_count)"
   ]
  },
  {
   "cell_type": "code",
   "execution_count": 16,
   "metadata": {},
   "outputs": [
    {
     "name": "stdout",
     "output_type": "stream",
     "text": [
      "1\n",
      "2\n",
      "Fizz\n",
      "4\n",
      "Buzz\n",
      "Fizz\n",
      "7\n",
      "8\n",
      "Fizz\n",
      "Buzz\n",
      "11\n",
      "Fizz\n",
      "13\n",
      "14\n",
      "FizzBuzz\n",
      "16\n",
      "17\n",
      "Fizz\n",
      "19\n",
      "Buzz\n",
      "Fizz\n",
      "22\n",
      "23\n",
      "Fizz\n",
      "Buzz\n",
      "26\n",
      "Fizz\n",
      "28\n",
      "29\n",
      "FizzBuzz\n",
      "31\n",
      "32\n",
      "Fizz\n",
      "34\n",
      "Buzz\n",
      "Fizz\n",
      "37\n",
      "38\n",
      "Fizz\n",
      "Buzz\n",
      "41\n",
      "Fizz\n",
      "43\n",
      "44\n",
      "FizzBuzz\n",
      "46\n",
      "47\n",
      "Fizz\n",
      "49\n",
      "Buzz\n",
      "Fizz\n",
      "52\n",
      "53\n",
      "Fizz\n",
      "Buzz\n",
      "56\n",
      "Fizz\n",
      "58\n",
      "59\n",
      "FizzBuzz\n",
      "61\n",
      "62\n",
      "Fizz\n",
      "64\n",
      "Buzz\n",
      "Fizz\n",
      "67\n",
      "68\n",
      "Fizz\n",
      "Buzz\n",
      "71\n",
      "Fizz\n",
      "73\n",
      "74\n",
      "FizzBuzz\n",
      "76\n",
      "77\n",
      "Fizz\n",
      "79\n",
      "Buzz\n",
      "Fizz\n",
      "82\n",
      "83\n",
      "Fizz\n",
      "Buzz\n",
      "86\n",
      "Fizz\n",
      "88\n",
      "89\n",
      "FizzBuzz\n",
      "91\n",
      "92\n",
      "Fizz\n",
      "94\n",
      "Buzz\n",
      "Fizz\n",
      "97\n",
      "98\n",
      "Fizz\n",
      "Buzz\n"
     ]
    }
   ],
   "source": [
    "for i in range(1, 101):\n",
    "    if i % 3 == 0 and i % 5 == 0:\n",
    "        print(\"FizzBuzz\")\n",
    "    elif i % 3 == 0:\n",
    "        print(\"Fizz\")\n",
    "    elif i % 5 == 0:\n",
    "        print(\"Buzz\")\n",
    "    else:\n",
    "        print(i)\n"
   ]
  },
  {
   "cell_type": "code",
   "execution_count": 1,
   "metadata": {},
   "outputs": [],
   "source": [
    "# list comprehension is Python is a concise way to create lists.\n",
    "#  It allows you to generate a new list by performing operations on each element of an existing iterable \n",
    "# (like a list, tuple, or range) in a single line of code."
   ]
  },
  {
   "cell_type": "code",
   "execution_count": 2,
   "metadata": {},
   "outputs": [
    {
     "name": "stdout",
     "output_type": "stream",
     "text": [
      "[2, 4, 6, 8, 10]\n"
     ]
    }
   ],
   "source": [
    "even_numbers = [x for x in range(1, 11) if x % 2 == 0]\n",
    "print(even_numbers)\n"
   ]
  },
  {
   "cell_type": "code",
   "execution_count": null,
   "metadata": {},
   "outputs": [],
   "source": [
    "#A lambda function in Python is a small, anonymous function defined using the lambda keyword. \n",
    "# Unlike regular functions defined with def, lambda functions are single-expression functions without a name (unless assigned to a variable). \n",
    "# They are often used for short, simple operations where defining a full function would be overkill."
   ]
  },
  {
   "cell_type": "code",
   "execution_count": 3,
   "metadata": {},
   "outputs": [
    {
     "name": "stdout",
     "output_type": "stream",
     "text": [
      "[2, 4, 6]\n"
     ]
    }
   ],
   "source": [
    "numbers = [1, 2, 3, 4, 5, 6]\n",
    "even_numbers = list(filter(lambda x: x % 2 == 0, numbers))\n",
    "print(even_numbers)\n"
   ]
  },
  {
   "cell_type": "code",
   "execution_count": 4,
   "metadata": {},
   "outputs": [
    {
     "name": "stdout",
     "output_type": "stream",
     "text": [
      "Welcome the addtion of two number is:\n",
      "30\n",
      "Thanks visit again:)\n"
     ]
    }
   ],
   "source": [
    "def decorator(add):\n",
    "    def sum():\n",
    "        print(\"Welcome the addtion of two number is:\")\n",
    "        add()\n",
    "        print(\"Thanks visit again:)\")\n",
    "    return sum\n",
    "\n",
    "@decorator \n",
    "def add():\n",
    "    a=10\n",
    "    b=20\n",
    "    print(a+b)\n",
    "\n",
    "add()"
   ]
  },
  {
   "cell_type": "code",
   "execution_count": 6,
   "metadata": {},
   "outputs": [
    {
     "name": "stdout",
     "output_type": "stream",
     "text": [
      "Arguments were: (5, 10), {}\n",
      "Result: 15\n"
     ]
    }
   ],
   "source": [
    "def log_arguments(func):\n",
    "    def wrapper(*args, **kwargs):\n",
    "        print(f\"Arguments were: {args}, {kwargs}\")\n",
    "        return func(*args, **kwargs)\n",
    "    return wrapper\n",
    "\n",
    "@log_arguments\n",
    "def add(a, b):\n",
    "    return a + b\n",
    "\n",
    "result = add(5, 10)\n",
    "print(f\"Result: {result}\")\n"
   ]
  },
  {
   "cell_type": "code",
   "execution_count": 3,
   "metadata": {},
   "outputs": [
    {
     "data": {
      "text/plain": [
       "[12, 32, 123, 12, 32, 123]"
      ]
     },
     "execution_count": 3,
     "metadata": {},
     "output_type": "execute_result"
    }
   ],
   "source": [
    "x = [12,32,123]\n",
    "x*=2\n",
    "x"
   ]
  },
  {
   "cell_type": "code",
   "execution_count": null,
   "metadata": {},
   "outputs": [],
   "source": []
  },
  {
   "cell_type": "code",
   "execution_count": 1,
   "metadata": {},
   "outputs": [],
   "source": [
    "strr = \"shubham_birari\""
   ]
  },
  {
   "cell_type": "code",
   "execution_count": 2,
   "metadata": {},
   "outputs": [
    {
     "name": "stdout",
     "output_type": "stream",
     "text": [
      "irarib_mahbuhs\n"
     ]
    }
   ],
   "source": [
    "reverse = strr[::-1]\n",
    "print(reverse)"
   ]
  },
  {
   "cell_type": "code",
   "execution_count": 6,
   "metadata": {},
   "outputs": [
    {
     "data": {
      "text/plain": [
       "'irarib_mahbuhs'"
      ]
     },
     "execution_count": 6,
     "metadata": {},
     "output_type": "execute_result"
    }
   ],
   "source": [
    "\"\".join(reversed(strr))"
   ]
  },
  {
   "cell_type": "code",
   "execution_count": 10,
   "metadata": {},
   "outputs": [],
   "source": [
    "str_set = set(strr)"
   ]
  },
  {
   "cell_type": "code",
   "execution_count": 11,
   "metadata": {},
   "outputs": [
    {
     "data": {
      "text/plain": [
       "{'_', 'a', 'b', 'h', 'i', 'm', 'r', 's', 'u'}"
      ]
     },
     "execution_count": 11,
     "metadata": {},
     "output_type": "execute_result"
    }
   ],
   "source": [
    "str_set"
   ]
  },
  {
   "cell_type": "code",
   "execution_count": null,
   "metadata": {},
   "outputs": [],
   "source": []
  },
  {
   "cell_type": "code",
   "execution_count": 15,
   "metadata": {},
   "outputs": [
    {
     "data": {
      "text/plain": [
       "'a'"
      ]
     },
     "execution_count": 15,
     "metadata": {},
     "output_type": "execute_result"
    }
   ],
   "source": [
    "str_set.pop()"
   ]
  },
  {
   "cell_type": "code",
   "execution_count": 84,
   "metadata": {},
   "outputs": [],
   "source": [
    "list_str = list(strr)"
   ]
  },
  {
   "cell_type": "code",
   "execution_count": 85,
   "metadata": {},
   "outputs": [
    {
     "data": {
      "text/plain": [
       "['s', 'h', 'u', 'b', 'h', 'a', 'm', '_', 'b', 'i', 'r', 'a', 'r', 'i']"
      ]
     },
     "execution_count": 85,
     "metadata": {},
     "output_type": "execute_result"
    }
   ],
   "source": [
    "list_str"
   ]
  },
  {
   "cell_type": "code",
   "execution_count": 79,
   "metadata": {},
   "outputs": [
    {
     "data": {
      "text/plain": [
       "'i'"
      ]
     },
     "execution_count": 79,
     "metadata": {},
     "output_type": "execute_result"
    }
   ],
   "source": [
    "list_str.pop()"
   ]
  },
  {
   "cell_type": "code",
   "execution_count": 89,
   "metadata": {},
   "outputs": [],
   "source": [
    "reverse2 = []\n",
    "while list_str:\n",
    "    reverse2.append(list_str.pop())"
   ]
  },
  {
   "cell_type": "code",
   "execution_count": 81,
   "metadata": {},
   "outputs": [
    {
     "data": {
      "text/plain": [
       "['r', 'a', 'r', 'i', 'b', '_', 'm', 'a', 'h', 'b', 'u', 'h', 's']"
      ]
     },
     "execution_count": 81,
     "metadata": {},
     "output_type": "execute_result"
    }
   ],
   "source": [
    "reverse2"
   ]
  },
  {
   "cell_type": "code",
   "execution_count": 83,
   "metadata": {},
   "outputs": [
    {
     "data": {
      "text/plain": [
       "\"['r', 'a', 'r', 'i', 'b', '_', 'm', 'a', 'h', 'b', 'u', 'h', 's']\""
      ]
     },
     "execution_count": 83,
     "metadata": {},
     "output_type": "execute_result"
    }
   ],
   "source": [
    "str(reverse2)"
   ]
  },
  {
   "cell_type": "code",
   "execution_count": 90,
   "metadata": {},
   "outputs": [
    {
     "data": {
      "text/plain": [
       "'irarib_mahbuhs'"
      ]
     },
     "execution_count": 90,
     "metadata": {},
     "output_type": "execute_result"
    }
   ],
   "source": [
    "\"\".join(reverse2)"
   ]
  },
  {
   "cell_type": "code",
   "execution_count": 6,
   "metadata": {},
   "outputs": [
    {
     "name": "stdout",
     "output_type": "stream",
     "text": [
      "You can't divide by zero!\n"
     ]
    }
   ],
   "source": [
    "try:\n",
    "    print(10/0)\n",
    "except ZeroDivisionError as e:\n",
    "    print(f\"You can't divide by zero!\")"
   ]
  },
  {
   "cell_type": "code",
   "execution_count": 7,
   "metadata": {},
   "outputs": [
    {
     "name": "stdout",
     "output_type": "stream",
     "text": [
      "error is division by zero : You can't divide by zero!\n"
     ]
    }
   ],
   "source": [
    "def excep_handle():\n",
    "    try:\n",
    "        print(10/0)\n",
    "    except Exception as e:\n",
    "        print(f\"error is {e} : You can't divide by zero!\")\n",
    "\n",
    "excep_handle()"
   ]
  },
  {
   "cell_type": "code",
   "execution_count": 11,
   "metadata": {},
   "outputs": [
    {
     "name": "stdout",
     "output_type": "stream",
     "text": [
      "An error occurred: ZeroDivisionError - division by zero\n"
     ]
    }
   ],
   "source": [
    "try:\n",
    "    print(10/0)\n",
    "except Exception as e:\n",
    "     print(f\"An error occurred: {type(e).__name__} - {e}\")\n"
   ]
  },
  {
   "cell_type": "code",
   "execution_count": 9,
   "metadata": {},
   "outputs": [
    {
     "ename": "ZeroDivisionError",
     "evalue": "division by zero",
     "output_type": "error",
     "traceback": [
      "\u001b[1;31m---------------------------------------------------------------------------\u001b[0m",
      "\u001b[1;31mZeroDivisionError\u001b[0m                         Traceback (most recent call last)",
      "Cell \u001b[1;32mIn[9], line 1\u001b[0m\n\u001b[1;32m----> 1\u001b[0m \u001b[38;5;28mprint\u001b[39m(\u001b[38;5;241;43m10\u001b[39;49m\u001b[38;5;241;43m/\u001b[39;49m\u001b[38;5;241;43m0\u001b[39;49m)\n",
      "\u001b[1;31mZeroDivisionError\u001b[0m: division by zero"
     ]
    }
   ],
   "source": [
    "print(10/0)"
   ]
  },
  {
   "cell_type": "code",
   "execution_count": null,
   "metadata": {},
   "outputs": [],
   "source": [
    "# lsit "
   ]
  },
  {
   "cell_type": "code",
   "execution_count": 1,
   "metadata": {},
   "outputs": [],
   "source": [
    "#multithreading\n"
   ]
  },
  {
   "cell_type": "code",
   "execution_count": 2,
   "metadata": {},
   "outputs": [
    {
     "name": "stdout",
     "output_type": "stream",
     "text": [
      "Task starting...\n",
      "Task completed in 3.00 seconds.\n"
     ]
    }
   ],
   "source": [
    "import time\n",
    "\n",
    "print(\"Task starting...\")\n",
    "\n",
    "# Record the start time\n",
    "start = time.perf_counter()\n",
    "\n",
    "# Simulate a task by pausing execution for 3 seconds\n",
    "time.sleep(3)\n",
    "\n",
    "# Record the end time\n",
    "end = time.perf_counter()\n",
    "\n",
    "# Calculate the elapsed time\n",
    "elapsed_time = end - start\n",
    "\n",
    "print(f\"Task completed in {elapsed_time:.2f} seconds.\")\n"
   ]
  },
  {
   "cell_type": "code",
   "execution_count": 3,
   "metadata": {},
   "outputs": [
    {
     "name": "stdout",
     "output_type": "stream",
     "text": [
      "Thread A starting...\n",
      "Thread B starting...\n",
      "Thread A finished after 3 seconds.\n",
      "Thread B finished after 5 seconds.\n",
      "All threads completed.\n"
     ]
    }
   ],
   "source": [
    "import threading\n",
    "import time\n",
    "\n",
    "# Function to simulate a task\n",
    "def task(name, duration):\n",
    "    print(f\"Thread {name} starting...\")\n",
    "    time.sleep(duration)  # Simulate task duration\n",
    "    print(f\"Thread {name} finished after {duration} seconds.\")\n",
    "\n",
    "# Creating threads\n",
    "thread1 = threading.Thread(target=task, args=(\"A\", 3))\n",
    "thread2 = threading.Thread(target=task, args=(\"B\", 5))\n",
    "\n",
    "# Starting threads\n",
    "thread1.start()\n",
    "thread2.start()\n",
    "\n",
    "# Waiting for threads to finish\n",
    "thread1.join()\n",
    "thread2.join()\n",
    "\n",
    "print(\"All threads completed.\")\n"
   ]
  },
  {
   "cell_type": "code",
   "execution_count": 2,
   "metadata": {},
   "outputs": [
    {
     "ename": "AttributeError",
     "evalue": "'DataStorage' object has no attribute 'filename'",
     "output_type": "error",
     "traceback": [
      "\u001b[1;31m---------------------------------------------------------------------------\u001b[0m",
      "\u001b[1;31mAttributeError\u001b[0m                            Traceback (most recent call last)",
      "Cell \u001b[1;32mIn[2], line 55\u001b[0m\n\u001b[0;32m     53\u001b[0m \u001b[38;5;66;03m# Example Usage\u001b[39;00m\n\u001b[0;32m     54\u001b[0m storage \u001b[38;5;241m=\u001b[39m DataStorage()\n\u001b[1;32m---> 55\u001b[0m \u001b[43mstorage\u001b[49m\u001b[38;5;241;43m.\u001b[39;49m\u001b[43mcreate\u001b[49m\u001b[43m(\u001b[49m\u001b[38;5;124;43m\"\u001b[39;49m\u001b[38;5;124;43mJohn Doe, 30\u001b[39;49m\u001b[38;5;124;43m\"\u001b[39;49m\u001b[43m)\u001b[49m\n\u001b[0;32m     56\u001b[0m storage\u001b[38;5;241m.\u001b[39mread()\n\u001b[0;32m     57\u001b[0m storage\u001b[38;5;241m.\u001b[39mupdate(\u001b[38;5;124m\"\u001b[39m\u001b[38;5;124mJohn Doe, 30\u001b[39m\u001b[38;5;124m\"\u001b[39m, \u001b[38;5;124m\"\u001b[39m\u001b[38;5;124mJohn Doe, 31\u001b[39m\u001b[38;5;124m\"\u001b[39m)\n",
      "Cell \u001b[1;32mIn[2], line 11\u001b[0m, in \u001b[0;36mDataStorage.create\u001b[1;34m(self, data)\u001b[0m\n\u001b[0;32m     10\u001b[0m \u001b[38;5;28;01mdef\u001b[39;00m \u001b[38;5;21mcreate\u001b[39m(\u001b[38;5;28mself\u001b[39m, data):\n\u001b[1;32m---> 11\u001b[0m     \u001b[38;5;28;01mwith\u001b[39;00m \u001b[38;5;28mopen\u001b[39m(\u001b[38;5;28;43mself\u001b[39;49m\u001b[38;5;241;43m.\u001b[39;49m\u001b[43mfilename\u001b[49m, \u001b[38;5;124m'\u001b[39m\u001b[38;5;124ma\u001b[39m\u001b[38;5;124m'\u001b[39m) \u001b[38;5;28;01mas\u001b[39;00m file:\n\u001b[0;32m     12\u001b[0m         file\u001b[38;5;241m.\u001b[39mwrite(data \u001b[38;5;241m+\u001b[39m \u001b[38;5;124m'\u001b[39m\u001b[38;5;130;01m\\n\u001b[39;00m\u001b[38;5;124m'\u001b[39m)\n\u001b[0;32m     13\u001b[0m     \u001b[38;5;28mprint\u001b[39m(\u001b[38;5;124m\"\u001b[39m\u001b[38;5;124mData added!\u001b[39m\u001b[38;5;124m\"\u001b[39m)\n",
      "\u001b[1;31mAttributeError\u001b[0m: 'DataStorage' object has no attribute 'filename'"
     ]
    }
   ],
   "source": [
    "import os\n",
    "\n",
    "class DataStorage:\n",
    "    def init(self, filename):\n",
    "        self.filename = filename\n",
    "        # Create the file if it doesn't exist\n",
    "        if not os.path.exists(filename):\n",
    "            open(filename, 'w').close()\n",
    "\n",
    "    def create(self, data):\n",
    "        with open(self.filename, 'a') as file:\n",
    "            file.write(data + '\\n')\n",
    "        print(\"Data added!\")\n",
    "\n",
    "    def read(self):\n",
    "        with open(self.filename, 'r') as file:\n",
    "            content = file.readlines()\n",
    "        if content:\n",
    "            for line in content:\n",
    "                print(line.strip())\n",
    "        else:\n",
    "            print(\"File is empty.\")\n",
    "\n",
    "    def update(self, old_data, new_data):\n",
    "        with open(self.filename, 'r') as file:\n",
    "            lines = file.readlines()\n",
    "\n",
    "        updated = False\n",
    "        with open(self.filename, 'w') as file:\n",
    "            for line in lines:\n",
    "                if line.strip() == old_data:\n",
    "                    file.write(new_data + '\\n')\n",
    "                    updated = True\n",
    "                else:\n",
    "                    file.write(line)\n",
    "\n",
    "        if updated:\n",
    "            print(\"Data updated!\")\n",
    "        else:\n",
    "            print(\"Data not found.\")\n",
    "\n",
    "    def delete(self, data_to_delete):\n",
    "        with open(self.filename, 'r') as file:\n",
    "            lines = file.readlines()\n",
    "\n",
    "        with open(self.filename, 'w') as file:\n",
    "            for line in lines:\n",
    "                if line.strip() != data_to_delete:\n",
    "                    file.write(line)\n",
    "\n",
    "        print(\"Data deleted if it existed!\")\n",
    "\n",
    "# Example Usage\n",
    "storage = DataStorage()\n",
    "storage.create(\"John Doe, 30\")\n",
    "storage.read()\n",
    "storage.update(\"John Doe, 30\", \"John Doe, 31\")\n",
    "storage.read()\n",
    "storage.delete(\"John Doe, 31\")\n",
    "storage.read()\n",
    "\n",
    "\n"
   ]
  },
  {
   "cell_type": "code",
   "execution_count": 3,
   "metadata": {},
   "outputs": [
    {
     "data": {
      "text/plain": [
       "<module 'os' (frozen)>"
      ]
     },
     "execution_count": 3,
     "metadata": {},
     "output_type": "execute_result"
    }
   ],
   "source": [
    "os"
   ]
  },
  {
   "cell_type": "code",
   "execution_count": 6,
   "metadata": {},
   "outputs": [],
   "source": [
    "import os\n"
   ]
  },
  {
   "cell_type": "code",
   "execution_count": 10,
   "metadata": {},
   "outputs": [
    {
     "name": "stderr",
     "output_type": "stream",
     "text": [
      "'ls' is not recognized as an internal or external command,\n",
      "operable program or batch file.\n"
     ]
    }
   ],
   "source": [
    "!ls"
   ]
  },
  {
   "cell_type": "code",
   "execution_count": 13,
   "metadata": {},
   "outputs": [
    {
     "data": {
      "text/plain": [
       "'c:\\\\Users\\\\shubh\\\\ineuron ml16\\\\ITP_pythonCore'"
      ]
     },
     "execution_count": 13,
     "metadata": {},
     "output_type": "execute_result"
    }
   ],
   "source": [
    "os.getcwd()"
   ]
  }
 ],
 "metadata": {
  "kaggle": {
   "accelerator": "none",
   "dataSources": [
    {
     "datasetId": 5849549,
     "sourceId": 9590909,
     "sourceType": "datasetVersion"
    }
   ],
   "dockerImageVersionId": 30786,
   "isGpuEnabled": false,
   "isInternetEnabled": false,
   "language": "python",
   "sourceType": "notebook"
  },
  "kernelspec": {
   "display_name": "Python 3",
   "language": "python",
   "name": "python3"
  },
  "language_info": {
   "codemirror_mode": {
    "name": "ipython",
    "version": 3
   },
   "file_extension": ".py",
   "mimetype": "text/x-python",
   "name": "python",
   "nbconvert_exporter": "python",
   "pygments_lexer": "ipython3",
   "version": "3.12.5"
  }
 },
 "nbformat": 4,
 "nbformat_minor": 4
}

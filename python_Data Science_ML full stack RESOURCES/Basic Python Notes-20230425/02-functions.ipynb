{
 "cells": [
  {
   "cell_type": "code",
   "execution_count": 1,
   "metadata": {
    "id": "EpDvX2nROTD8"
   },
   "outputs": [],
   "source": [
    "import sys\n",
    "import platform\n",
    "import operator\n",
    "from math import *\n",
    "import string\n",
    " \n",
    "import scipy\n",
    "import numpy\n",
    "import matplotlib\n",
    "import pandas\n",
    "import pandas as pd\n",
    "import numpy as np\n",
    "import matplotlib\n",
    "import matplotlib.pyplot as plt\n",
    "%matplotlib inline \n",
    " \n",
    "import seaborn as sns\n",
    "sns.set(style=\"white\", color_codes=True)"
   ]
  },
  {
   "cell_type": "code",
   "execution_count": 3,
   "metadata": {},
   "outputs": [],
   "source": [
    "q=80\n",
    "r=49"
   ]
  },
  {
   "cell_type": "code",
   "execution_count": 4,
   "metadata": {},
   "outputs": [
    {
     "name": "stdout",
     "output_type": "stream",
     "text": [
      "enter the equationq+r\n"
     ]
    },
    {
     "data": {
      "text/plain": [
       "129"
      ]
     },
     "execution_count": 4,
     "metadata": {},
     "output_type": "execute_result"
    }
   ],
   "source": [
    "a=input(\"enter the equation\")\n",
    "eval(a)"
   ]
  },
  {
   "cell_type": "code",
   "execution_count": 1,
   "metadata": {
    "id": "DoNvZn_GOTEG",
    "outputId": "d7fa412e-0b5f-4006-bef5-7e0ff923013e"
   },
   "outputs": [
    {
     "name": "stdout",
     "output_type": "stream",
     "text": [
      "<class 'str'>\n"
     ]
    },
    {
     "data": {
      "text/plain": [
       "45.0"
      ]
     },
     "execution_count": 1,
     "metadata": {},
     "output_type": "execute_result"
    }
   ],
   "source": [
    "a= '(10+5) * 6/2'\n",
    "print(type(a))\n",
    "eval(a)"
   ]
  },
  {
   "cell_type": "code",
   "execution_count": null,
   "metadata": {
    "collapsed": true,
    "id": "K_xejltFOTEJ"
   },
   "outputs": [],
   "source": [
    "# How To Define A Function: User-Defined Functions (UDFs)\n",
    "# The 4 steps to defining a function in Python are the following:\n",
    " \n",
    "# 1. Use the keyword def to declare the function and follow this up with the function name.\n",
    "# 2. Add parameters to the function: they should be within the parentheses of the function. \n",
    "#    End your line with a colon.\n",
    "# 3. Add statements that the functions should execute.\n",
    "# 4. End your function with a return statement if the function should output something. \n",
    "#    Without the return statement, your function will return an object None."
   ]
  },
  {
   "cell_type": "code",
   "execution_count": 26,
   "metadata": {
    "id": "f3qVAKlqOTEK",
    "outputId": "335920fd-1bc5-4892-c3e0-eabbd32e81a2"
   },
   "outputs": [
    {
     "name": "stdout",
     "output_type": "stream",
     "text": [
      "abcd\n"
     ]
    }
   ],
   "source": [
    "def hello():\n",
    "    a = 30\n",
    "    if a <40:\n",
    "        print(\"less\")\n",
    "        return a\n",
    "    else:\n",
    "        print(\"more\")\n",
    "        return a+10\n",
    "    print(\"Hello World, I am learning Data Science\") \n",
    "    return 10000\n",
    "    #return {\"Course\":\"DATA ANALYSIS \",20:40}\n",
    "    print(\"NEW LINE\")\n",
    "print(\"abcd\")"
   ]
  },
  {
   "cell_type": "code",
   "execution_count": 27,
   "metadata": {
    "id": "aHuCAHebOTEL",
    "outputId": "8a110ee0-f2ff-4a6f-fd3f-c69eef79e2c5"
   },
   "outputs": [
    {
     "name": "stdout",
     "output_type": "stream",
     "text": [
      "less\n"
     ]
    }
   ],
   "source": [
    "var  = hello()"
   ]
  },
  {
   "cell_type": "code",
   "execution_count": 28,
   "metadata": {},
   "outputs": [
    {
     "data": {
      "text/plain": [
       "int"
      ]
     },
     "execution_count": 28,
     "metadata": {},
     "output_type": "execute_result"
    }
   ],
   "source": [
    "type(var)"
   ]
  },
  {
   "cell_type": "code",
   "execution_count": 29,
   "metadata": {},
   "outputs": [
    {
     "data": {
      "text/plain": [
       "30"
      ]
     },
     "execution_count": 29,
     "metadata": {},
     "output_type": "execute_result"
    }
   ],
   "source": [
    "var"
   ]
  },
  {
   "cell_type": "code",
   "execution_count": 6,
   "metadata": {},
   "outputs": [
    {
     "data": {
      "text/plain": [
       "'data analysis '"
      ]
     },
     "execution_count": 6,
     "metadata": {},
     "output_type": "execute_result"
    }
   ],
   "source": [
    "var.lower()"
   ]
  },
  {
   "cell_type": "code",
   "execution_count": 20,
   "metadata": {
    "id": "GzzeSujwOTEL",
    "outputId": "98db1e8f-677d-436f-8a9d-a6fc1f67aaae"
   },
   "outputs": [
    {
     "name": "stdout",
     "output_type": "stream",
     "text": [
      "more\n",
      "Hello World, I am learning Data Science\n",
      "return the val   50000\n"
     ]
    }
   ],
   "source": [
    "b=hello()*5\n",
    "#a=10\n",
    "print(\"return the val  \",b)"
   ]
  },
  {
   "cell_type": "code",
   "execution_count": null,
   "metadata": {
    "id": "oABIkusROTEM",
    "outputId": "586b83bf-162e-4c6c-acbe-b7262cc7a7fa"
   },
   "outputs": [
    {
     "name": "stdout",
     "output_type": "stream",
     "text": [
      "hellohellohellohellohellohellohellohellohellohello\n"
     ]
    }
   ],
   "source": [
    "print(a)"
   ]
  },
  {
   "cell_type": "code",
   "execution_count": 1,
   "metadata": {
    "id": "loCsAgJjOTEM"
   },
   "outputs": [],
   "source": [
    "\n",
    "def hello():\n",
    "    name = input(\"Enter your name: \")\n",
    "    print(name)\n",
    "    print(type(name))\n",
    "    if name:\n",
    "        print (\"Hello \" + name)\n",
    "    else:\n",
    "        print(\"Name not entered, Greetings nonetheless !!\")\n",
    "\n"
   ]
  },
  {
   "cell_type": "code",
   "execution_count": 3,
   "metadata": {
    "id": "LoRoi_DhOTEN",
    "outputId": "60632fbb-801b-4955-a0b3-1b728b822345"
   },
   "outputs": [
    {
     "name": "stdout",
     "output_type": "stream",
     "text": [
      "Enter your name: symbi\n",
      "symbi\n",
      "<class 'str'>\n",
      "Hello symbi\n"
     ]
    }
   ],
   "source": [
    "hello()"
   ]
  },
  {
   "cell_type": "code",
   "execution_count": null,
   "metadata": {
    "id": "FJwou8NuOTEO",
    "outputId": "942b17d0-3672-4046-fa10-9ea7c935f24a"
   },
   "outputs": [
    {
     "data": {
      "text/plain": [
       "False"
      ]
     },
     "execution_count": 33,
     "metadata": {
      "tags": []
     },
     "output_type": "execute_result"
    }
   ],
   "source": [
    "a=\"99.23\""
   ]
  },
  {
   "cell_type": "code",
   "execution_count": null,
   "metadata": {
    "id": "PTCYhCbEOTEO",
    "outputId": "55a325de-a824-44ee-e602-1e13ba280ac3"
   },
   "outputs": [
    {
     "name": "stdout",
     "output_type": "stream",
     "text": [
      "Enter your name: n1223\n",
      "n1223\n",
      "Hello n1223\n"
     ]
    }
   ],
   "source": [
    "hello()"
   ]
  },
  {
   "cell_type": "code",
   "execution_count": null,
   "metadata": {
    "id": "YQQHHaLnOTEP",
    "outputId": "1858d5b1-f336-4310-f2b2-713db16b9bbe"
   },
   "outputs": [
    {
     "name": "stdout",
     "output_type": "stream",
     "text": [
      "Enter your name: aa\n",
      "Hello aa\n",
      "hi....  None\n"
     ]
    }
   ],
   "source": [
    "print(\"hi.... \", hello())"
   ]
  },
  {
   "cell_type": "code",
   "execution_count": null,
   "metadata": {
    "id": "XjRU2A6LOTEQ"
   },
   "outputs": [],
   "source": [
    "# The return Statement\n"
   ]
  },
  {
   "cell_type": "code",
   "execution_count": 7,
   "metadata": {
    "id": "-ckqnr26OTEQ"
   },
   "outputs": [],
   "source": [
    "# Note that as you’re printing something in your UDF hello(), you don’t really need to return it. \n",
    "# There won’t be any difference between the function above and this one\n",
    "\n",
    "def hello_noreturn():\n",
    "    print(\"Hello World\") \n",
    "        "
   ]
  },
  {
   "cell_type": "code",
   "execution_count": 8,
   "metadata": {
    "id": "BQ10BtKcOTEQ",
    "outputId": "b812dc38-6f15-4f9d-eb41-ddb028522198"
   },
   "outputs": [
    {
     "name": "stdout",
     "output_type": "stream",
     "text": [
      "Hello World\n"
     ]
    },
    {
     "data": {
      "text/plain": [
       "NoneType"
      ]
     },
     "execution_count": 8,
     "metadata": {},
     "output_type": "execute_result"
    }
   ],
   "source": [
    "type(hello_noreturn())"
   ]
  },
  {
   "cell_type": "code",
   "execution_count": null,
   "metadata": {
    "id": "OR7EjrP2OTER"
   },
   "outputs": [],
   "source": [
    "def hello():\n",
    "  print(\"Hello World\")\n",
    "  print(10)\n",
    "  #return(\" hello \")\n",
    "  #return \"hdhdh \"\n",
    "  #return (10)\n",
    "  return 15\n",
    "\n",
    "def hello_noreturn():\n",
    "  print(\"Hello World\")\n"
   ]
  },
  {
   "cell_type": "code",
   "execution_count": null,
   "metadata": {
    "id": "4GUel4dDOTER",
    "outputId": "e682774c-0c95-4a96-8e65-f57951e6d54d"
   },
   "outputs": [
    {
     "name": "stdout",
     "output_type": "stream",
     "text": [
      "Hello World\n",
      "10\n"
     ]
    }
   ],
   "source": [
    "# Multiply the output of `hello()` with 2 \n",
    "a = hello()*2"
   ]
  },
  {
   "cell_type": "code",
   "execution_count": null,
   "metadata": {
    "id": "bLi0l7kpOTES",
    "outputId": "51aee354-5596-49e8-95e2-f51573ffdfab"
   },
   "outputs": [
    {
     "data": {
      "text/plain": [
       "30"
      ]
     },
     "execution_count": 6,
     "metadata": {
      "tags": []
     },
     "output_type": "execute_result"
    }
   ],
   "source": [
    "a"
   ]
  },
  {
   "cell_type": "code",
   "execution_count": null,
   "metadata": {
    "id": "AXc609N9OTES",
    "outputId": "31b7cd86-039a-46f7-e462-396682ec00af"
   },
   "outputs": [
    {
     "name": "stdout",
     "output_type": "stream",
     "text": [
      "Hello World\n"
     ]
    },
    {
     "ename": "TypeError",
     "evalue": "unsupported operand type(s) for *: 'NoneType' and 'int'",
     "output_type": "error",
     "traceback": [
      "\u001b[1;31m---------------------------------------------------------------------------\u001b[0m",
      "\u001b[1;31mTypeError\u001b[0m                                 Traceback (most recent call last)",
      "\u001b[1;32m<ipython-input-20-675cb1f784ff>\u001b[0m in \u001b[0;36m<module>\u001b[1;34m\u001b[0m\n\u001b[0;32m      1\u001b[0m \u001b[1;31m# (Try to) multiply the output of `hello_noreturn()` with 2\u001b[0m\u001b[1;33m\u001b[0m\u001b[1;33m\u001b[0m\u001b[1;33m\u001b[0m\u001b[0m\n\u001b[1;32m----> 2\u001b[1;33m \u001b[0mhello_noreturn\u001b[0m\u001b[1;33m(\u001b[0m\u001b[1;33m)\u001b[0m\u001b[1;33m*\u001b[0m\u001b[1;36m2\u001b[0m\u001b[1;33m\u001b[0m\u001b[1;33m\u001b[0m\u001b[0m\n\u001b[0m",
      "\u001b[1;31mTypeError\u001b[0m: unsupported operand type(s) for *: 'NoneType' and 'int'"
     ]
    }
   ],
   "source": [
    "# (Try to) multiply the output of `hello_noreturn()` with 2 \n",
    "hello_noreturn()*2"
   ]
  },
  {
   "cell_type": "code",
   "execution_count": null,
   "metadata": {
    "collapsed": true,
    "id": "kv5V5n4yOTES"
   },
   "outputs": [],
   "source": [
    "# return multiple values\n",
    "# To do this, you make use of tuples."
   ]
  },
  {
   "cell_type": "code",
   "execution_count": null,
   "metadata": {
    "collapsed": true,
    "id": "Z3eHRU9nOTET"
   },
   "outputs": [],
   "source": [
    "# Remember that this data structure is very similar to that of a list: it can contain \n",
    "# multiple values. However, tuples are immutable, which means that you can’t modify any \n",
    "# values that are stored in it! You construct it with the help of double parentheses ()"
   ]
  },
  {
   "cell_type": "code",
   "execution_count": 16,
   "metadata": {
    "id": "SmOfk9xMOTET"
   },
   "outputs": [],
   "source": [
    "# Define `plus()`\n",
    "\n",
    "def oper(a, b):\n",
    "    \"\"\"\n",
    "    this is addition and multiplication function\n",
    "    \"\"\"\n",
    "    global sum1\n",
    "    ### Addition\n",
    "    sum1  = a + b\n",
    "    mult1 = a * b\n",
    "    return  sum1, mult1\n",
    "\n",
    "#global oper"
   ]
  },
  {
   "cell_type": "code",
   "execution_count": 18,
   "metadata": {
    "id": "MkRzBydGOTET"
   },
   "outputs": [],
   "source": [
    " y = oper(500,4)"
   ]
  },
  {
   "cell_type": "code",
   "execution_count": 6,
   "metadata": {
    "id": "GJ9KWsdVOTEU",
    "outputId": "669ba355-543a-4f3c-b088-4261cb067c6a"
   },
   "outputs": [
    {
     "data": {
      "text/plain": [
       "(504, 2000)"
      ]
     },
     "execution_count": 6,
     "metadata": {},
     "output_type": "execute_result"
    }
   ],
   "source": [
    "y"
   ]
  },
  {
   "cell_type": "code",
   "execution_count": 19,
   "metadata": {
    "id": "BI5BpAILOTEU",
    "outputId": "74ce8d8b-4b15-47e7-c413-ee7f63a48f9f"
   },
   "outputs": [
    {
     "data": {
      "text/plain": [
       "504"
      ]
     },
     "execution_count": 19,
     "metadata": {},
     "output_type": "execute_result"
    }
   ],
   "source": [
    " sum1"
   ]
  },
  {
   "cell_type": "code",
   "execution_count": 14,
   "metadata": {
    "id": "qwnt4FHqOTEU",
    "outputId": "2e8a9b41-d509-46d4-d51c-64646967c9bc"
   },
   "outputs": [],
   "source": [
    "del mult1"
   ]
  },
  {
   "cell_type": "code",
   "execution_count": null,
   "metadata": {
    "id": "PMKBAioWOTEV",
    "outputId": "452b7f8d-a01c-40a2-8908-85605e34de4a"
   },
   "outputs": [
    {
     "name": "stdout",
     "output_type": "stream",
     "text": [
      "Help on function oper in module __main__:\n",
      "\n",
      "oper(a, b)\n",
      "    this is addition and multiplication function\n",
      "\n"
     ]
    }
   ],
   "source": [
    "help(oper)"
   ]
  },
  {
   "cell_type": "code",
   "execution_count": null,
   "metadata": {
    "id": "lDKm5jrmOTEV",
    "outputId": "1abc15e7-f1c2-4d43-8751-fda256817a6e"
   },
   "outputs": [
    {
     "ename": "NameError",
     "evalue": "name 'a' is not defined",
     "output_type": "error",
     "traceback": [
      "\u001b[1;31m---------------------------------------------------------------------------\u001b[0m",
      "\u001b[1;31mNameError\u001b[0m                                 Traceback (most recent call last)",
      "\u001b[1;32m<ipython-input-25-b152ec05ccbc>\u001b[0m in \u001b[0;36m<module>\u001b[1;34m\u001b[0m\n\u001b[1;32m----> 1\u001b[1;33m \u001b[0mtype\u001b[0m\u001b[1;33m(\u001b[0m\u001b[0ma\u001b[0m\u001b[1;33m)\u001b[0m\u001b[1;33m\u001b[0m\u001b[1;33m\u001b[0m\u001b[0m\n\u001b[0m",
      "\u001b[1;31mNameError\u001b[0m: name 'a' is not defined"
     ]
    }
   ],
   "source": [
    "type(a)"
   ]
  },
  {
   "cell_type": "code",
   "execution_count": null,
   "metadata": {
    "id": "Rkit_P6uOTEV",
    "outputId": "c3b81058-a951-4787-83a8-dc70ff4dfe44"
   },
   "outputs": [
    {
     "name": "stdout",
     "output_type": "stream",
     "text": [
      "15 36\n",
      "type of individual variable is  <class 'int'>    <class 'int'>\n",
      "(7, 12)\n",
      "function return values having type as  <class 'tuple'>\n"
     ]
    }
   ],
   "source": [
    "# Call \n",
    "sum1, mult1 = oper(12, 3)\n",
    "print(sum1,mult1)\n",
    "print(\"type of individual variable is \", type(sum1), \"  \", type(mult1))\n",
    "###########################################\n",
    "ret = oper(3, 4)\n",
    "print(ret)\n",
    "print(\"function return values having type as \", type(ret))\n"
   ]
  },
  {
   "cell_type": "code",
   "execution_count": null,
   "metadata": {
    "id": "EnuKwrpXOTEW",
    "outputId": "c10869e6-6459-4ec7-f387-1e46969a586b"
   },
   "outputs": [
    {
     "name": "stdout",
     "output_type": "stream",
     "text": [
      "15\n",
      "36\n",
      "(7, 12)\n"
     ]
    }
   ],
   "source": [
    "# Print sum, mult\n",
    "print(sum1)\n",
    "print(mult1)\n",
    "print(ret_tuple)"
   ]
  },
  {
   "cell_type": "code",
   "execution_count": null,
   "metadata": {
    "id": "54pNd1uXOTEW",
    "outputId": "7f647758-8e7b-48aa-d234-a168259e01df"
   },
   "outputs": [
    {
     "name": "stdout",
     "output_type": "stream",
     "text": [
      "15++36     NEW LINE\n"
     ]
    }
   ],
   "source": [
    "print(sum1,mult1,  sep=\"++\", end=\"     \")\n",
    "print(\"NEW LINE\")"
   ]
  },
  {
   "cell_type": "code",
   "execution_count": 4,
   "metadata": {
    "id": "k8iBw_9OOTEX",
    "outputId": "50ba754c-57e3-40a0-bba2-12eb67797c4f"
   },
   "outputs": [
    {
     "name": "stdout",
     "output_type": "stream",
     "text": [
      "Help on built-in function print in module builtins:\n",
      "\n",
      "print(...)\n",
      "    print(value, ..., sep=' ', end='\\n', file=sys.stdout, flush=False)\n",
      "    \n",
      "    Prints the values to a stream, or to sys.stdout by default.\n",
      "    Optional keyword arguments:\n",
      "    file:  a file-like object (stream); defaults to the current sys.stdout.\n",
      "    sep:   string inserted between values, default a space.\n",
      "    end:   string appended after the last value, default a newline.\n",
      "    flush: whether to forcibly flush the stream.\n",
      "\n",
      "None\n"
     ]
    }
   ],
   "source": [
    "# How To Add Docstrings To A Python Function\n",
    "print(help(print))"
   ]
  },
  {
   "cell_type": "code",
   "execution_count": null,
   "metadata": {
    "collapsed": true,
    "id": "bzbdNeUgOTEX"
   },
   "outputs": [],
   "source": [
    "# Docstrings describe what your function does, such as the computations it performs or \n",
    "# its return values. These descriptions serve as documentation for your function so that \n",
    "# anyone who reads your function’s docstring understands what your function does, without \n",
    "# having to trace through all the code in the function definition."
   ]
  },
  {
   "cell_type": "code",
   "execution_count": 1,
   "metadata": {
    "id": "MDNz1Lv2OTEX"
   },
   "outputs": [],
   "source": [
    "def hello():\n",
    "    \"\"\"\n",
    "    Prints \"Hello World\".\n",
    "    v1  date  purpose  author\n",
    "    \n",
    "\n",
    "    Returns:\n",
    "        None\n",
    "    \"\"\"\n",
    "    \n",
    "    ### ABC\n",
    "    print(\"Hello World\") \n",
    "    return "
   ]
  },
  {
   "cell_type": "code",
   "execution_count": 31,
   "metadata": {
    "id": "TXYUywbcOTEY",
    "outputId": "ee237933-5a51-4455-bb66-69ce8e069889"
   },
   "outputs": [
    {
     "name": "stdout",
     "output_type": "stream",
     "text": [
      "Hello World\n"
     ]
    }
   ],
   "source": [
    "hello()"
   ]
  },
  {
   "cell_type": "code",
   "execution_count": null,
   "metadata": {
    "collapsed": true,
    "id": "bXGzCrmPOTEY"
   },
   "outputs": [],
   "source": [
    "# Function Arguments in Python\n"
   ]
  },
  {
   "cell_type": "code",
   "execution_count": null,
   "metadata": {
    "collapsed": true,
    "id": "aLCoAy-UOTEY"
   },
   "outputs": [],
   "source": [
    "# There are 4 types of arguments that Python UDFs can take:\n",
    "\n",
    "# Default arguments\n",
    "# Required arguments\n",
    "# Keyword arguments\n",
    "# Variable number of arguments"
   ]
  },
  {
   "cell_type": "code",
   "execution_count": null,
   "metadata": {
    "collapsed": true,
    "id": "Z5-4DqwTOTEZ"
   },
   "outputs": [],
   "source": [
    "# Default Arguments\n",
    "\n",
    "# take a default value if no argument value is passed \n",
    "# during the function call. You can assign this default value by with the \n",
    "# assignment operator ="
   ]
  },
  {
   "cell_type": "code",
   "execution_count": 32,
   "metadata": {
    "id": "gRO3BQreOTEZ"
   },
   "outputs": [],
   "source": [
    "# Define `plus()` function\n",
    "def plus(a,b):\n",
    "    print(\"a= \",a,\"b= \", b)\n",
    "    return a + b"
   ]
  },
  {
   "cell_type": "code",
   "execution_count": 38,
   "metadata": {
    "id": "8zP0uOzSOTEZ",
    "outputId": "42d79ee5-8323-4163-a890-7f91e785364c"
   },
   "outputs": [
    {
     "name": "stdout",
     "output_type": "stream",
     "text": [
      "a=  6 b=  7\n"
     ]
    },
    {
     "data": {
      "text/plain": [
       "13"
      ]
     },
     "execution_count": 38,
     "metadata": {},
     "output_type": "execute_result"
    }
   ],
   "source": [
    "plus(6,7)"
   ]
  },
  {
   "cell_type": "code",
   "execution_count": null,
   "metadata": {
    "id": "ulmcxuqGOTEa",
    "outputId": "39155516-6708-4d10-b6c9-ae7087dc655a"
   },
   "outputs": [
    {
     "name": "stdout",
     "output_type": "stream",
     "text": [
      "a=  20 b=  0.07\n"
     ]
    },
    {
     "data": {
      "text/plain": [
       "50.07"
      ]
     },
     "execution_count": 34,
     "metadata": {
      "tags": []
     },
     "output_type": "execute_result"
    }
   ],
   "source": [
    "plus(20,30)"
   ]
  },
  {
   "cell_type": "code",
   "execution_count": null,
   "metadata": {
    "id": "SgL3flxlOTEa",
    "outputId": "4c3646b5-7d48-46fd-9709-7cae3e72c5d0"
   },
   "outputs": [
    {
     "name": "stdout",
     "output_type": "stream",
     "text": [
      "a=  10 b=  12\n"
     ]
    },
    {
     "data": {
      "text/plain": [
       "22"
      ]
     },
     "execution_count": 51,
     "metadata": {
      "tags": []
     },
     "output_type": "execute_result"
    }
   ],
   "source": [
    "plus()"
   ]
  },
  {
   "cell_type": "code",
   "execution_count": 48,
   "metadata": {
    "id": "hMg6QprBOTEa"
   },
   "outputs": [],
   "source": [
    "a=10\n",
    "c=12\n",
    "\n",
    "def new_add (a,c,b=4):\n",
    "    return a+b+c"
   ]
  },
  {
   "cell_type": "code",
   "execution_count": 49,
   "metadata": {
    "id": "AM2s3o_4OTEb",
    "outputId": "2468d461-3d5a-44c2-dcd1-8414c5dde4ca"
   },
   "outputs": [
    {
     "data": {
      "text/plain": [
       "76"
      ]
     },
     "execution_count": 49,
     "metadata": {},
     "output_type": "execute_result"
    }
   ],
   "source": [
    "new_add(10,10,56)"
   ]
  },
  {
   "cell_type": "code",
   "execution_count": 50,
   "metadata": {},
   "outputs": [
    {
     "ename": "TypeError",
     "evalue": "new_add() missing 2 required positional arguments: 'a' and 'c'",
     "output_type": "error",
     "traceback": [
      "\u001b[1;31m---------------------------------------------------------------------------\u001b[0m",
      "\u001b[1;31mTypeError\u001b[0m                                 Traceback (most recent call last)",
      "\u001b[1;32m<ipython-input-50-2881afd8cc9c>\u001b[0m in \u001b[0;36m<module>\u001b[1;34m\u001b[0m\n\u001b[1;32m----> 1\u001b[1;33m \u001b[0mnew_add\u001b[0m\u001b[1;33m(\u001b[0m\u001b[1;33m)\u001b[0m\u001b[1;33m\u001b[0m\u001b[1;33m\u001b[0m\u001b[0m\n\u001b[0m",
      "\u001b[1;31mTypeError\u001b[0m: new_add() missing 2 required positional arguments: 'a' and 'c'"
     ]
    }
   ],
   "source": [
    "new_add()"
   ]
  },
  {
   "cell_type": "code",
   "execution_count": null,
   "metadata": {
    "id": "Fk4vODcJOTEb",
    "outputId": "5b232fc4-5978-489e-d5ad-a7594e10c363"
   },
   "outputs": [
    {
     "data": {
      "text/plain": [
       "10"
      ]
     },
     "execution_count": 22,
     "metadata": {
      "tags": []
     },
     "output_type": "execute_result"
    }
   ],
   "source": [
    "b"
   ]
  },
  {
   "cell_type": "code",
   "execution_count": null,
   "metadata": {
    "id": "sN22DgIUOTEb"
   },
   "outputs": [],
   "source": []
  },
  {
   "cell_type": "code",
   "execution_count": 53,
   "metadata": {
    "id": "ogkOpecsOTEb",
    "outputId": "6b643574-5e0b-485e-cf7b-12ebf74d74d6"
   },
   "outputs": [
    {
     "data": {
      "text/plain": [
       "18"
      ]
     },
     "execution_count": 53,
     "metadata": {},
     "output_type": "execute_result"
    }
   ],
   "source": [
    "# Call `plus()` with only `a` parameter\n",
    "new_add(2,6,10)"
   ]
  },
  {
   "cell_type": "code",
   "execution_count": 55,
   "metadata": {
    "id": "UJ_F5e3aOTEc",
    "outputId": "3a1722d8-ee5a-403a-d84c-e15b90a6c11d"
   },
   "outputs": [
    {
     "data": {
      "text/plain": [
       "22"
      ]
     },
     "execution_count": 55,
     "metadata": {},
     "output_type": "execute_result"
    }
   ],
   "source": [
    "# Call `plus()` with `a` and `b` parameters\n",
    "new_add(c=6, a=12)"
   ]
  },
  {
   "cell_type": "code",
   "execution_count": null,
   "metadata": {
    "id": "4mwk2tm9OTEc",
    "outputId": "2e9acc04-2b88-4bb1-addb-96e8bfcefd04"
   },
   "outputs": [
    {
     "data": {
      "text/plain": [
       "50"
      ]
     },
     "execution_count": 33,
     "metadata": {
      "tags": []
     },
     "output_type": "execute_result"
    }
   ],
   "source": [
    "# Call `plus()` with `a` and `b` parameters\n",
    "plus(10, 40)"
   ]
  },
  {
   "cell_type": "code",
   "execution_count": null,
   "metadata": {
    "id": "9wuP9MXnOTEd",
    "outputId": "5a7a1816-248a-457b-c634-85f1489218ce"
   },
   "outputs": [
    {
     "data": {
      "text/plain": [
       "34"
      ]
     },
     "execution_count": 9,
     "metadata": {
      "tags": []
     },
     "output_type": "execute_result"
    }
   ],
   "source": [
    "plus(30)"
   ]
  },
  {
   "cell_type": "code",
   "execution_count": null,
   "metadata": {
    "collapsed": true,
    "id": "Treyj5rIOTEd"
   },
   "outputs": [],
   "source": [
    "# Required Arguments\n",
    "\n",
    "# The required arguments of a UDF are those that have to be in there. "
   ]
  },
  {
   "cell_type": "code",
   "execution_count": null,
   "metadata": {
    "id": "Bn-4C0F9OTEd"
   },
   "outputs": [],
   "source": [
    "# Define `plus()` with required arguments\n",
    "def plus(a, b):\n",
    "    return a - b"
   ]
  },
  {
   "cell_type": "code",
   "execution_count": null,
   "metadata": {
    "id": "otFuAy49OTEe",
    "outputId": "a9d53d92-ccac-4674-d058-2417da256523"
   },
   "outputs": [
    {
     "data": {
      "text/plain": [
       "-10"
      ]
     },
     "execution_count": 48,
     "metadata": {
      "tags": []
     },
     "output_type": "execute_result"
    }
   ],
   "source": [
    "plus(10, 20)"
   ]
  },
  {
   "cell_type": "code",
   "execution_count": null,
   "metadata": {
    "id": "LdxKL8wdOTEe",
    "outputId": "55973d6b-63fe-48f6-e24e-20cb57642090"
   },
   "outputs": [
    {
     "data": {
      "text/plain": [
       "20"
      ]
     },
     "execution_count": 49,
     "metadata": {
      "tags": []
     },
     "output_type": "execute_result"
    }
   ],
   "source": [
    "plus(b=10,a=30)"
   ]
  },
  {
   "cell_type": "code",
   "execution_count": null,
   "metadata": {
    "collapsed": true,
    "id": "4Pp8KlDQOTEe"
   },
   "outputs": [],
   "source": [
    "# Keyword Arguments\n",
    "\n",
    "# If you want to make sure that you call all the parameters in the \n",
    "# right order, you can use the keyword arguments in your function call. \n"
   ]
  },
  {
   "cell_type": "code",
   "execution_count": null,
   "metadata": {
    "id": "SeDwbnpkOTEe",
    "outputId": "55c58e98-dd4f-40b0-de2e-d657797ccf15"
   },
   "outputs": [
    {
     "data": {
      "text/plain": [
       "-1"
      ]
     },
     "execution_count": 50,
     "metadata": {
      "tags": []
     },
     "output_type": "execute_result"
    }
   ],
   "source": [
    "# Define `plus()` function\n",
    "def plus(a, b):\n",
    "  return a - b\n",
    "  \n",
    "# Call `plus()` function with parameters \n",
    "plus(2,3)"
   ]
  },
  {
   "cell_type": "code",
   "execution_count": null,
   "metadata": {
    "id": "T0ubnPl1OTEf",
    "outputId": "0b67c61c-24fd-4db9-9960-f2c0aa9984ce"
   },
   "outputs": [
    {
     "data": {
      "text/plain": [
       "7"
      ]
     },
     "execution_count": 54,
     "metadata": {
      "tags": []
     },
     "output_type": "execute_result"
    }
   ],
   "source": [
    "# Call `plus()` function with keyword arguments\n",
    "plus(10, b=3)"
   ]
  },
  {
   "cell_type": "code",
   "execution_count": null,
   "metadata": {
    "collapsed": true,
    "id": "KovOOpzsOTEf"
   },
   "outputs": [],
   "source": [
    "# Variable Number of Arguments\n",
    "\n",
    "# In cases where you don’t know the exact number of arguments that you \n",
    "# want to pass to a function, you can use the following syntax with *args"
   ]
  },
  {
   "cell_type": "code",
   "execution_count": 56,
   "metadata": {
    "id": "zDdJcIz8OTEf"
   },
   "outputs": [],
   "source": [
    "# Define `plus()` function to accept a variable number of arguments\n",
    "def plus(*s):\n",
    "    print(s)\n",
    "    print(type(s))\n",
    "    total = 0\n",
    "    print(s[0], s[1])\n",
    "    for i in s:\n",
    "        total = total + i\n",
    "        #print(total)\n",
    "    return total\n"
   ]
  },
  {
   "cell_type": "code",
   "execution_count": 60,
   "metadata": {},
   "outputs": [
    {
     "name": "stdout",
     "output_type": "stream",
     "text": [
      "(23, 56, 8, 90, 10, 10)\n",
      "<class 'tuple'>\n",
      "23 56\n"
     ]
    },
    {
     "data": {
      "text/plain": [
       "197"
      ]
     },
     "execution_count": 60,
     "metadata": {},
     "output_type": "execute_result"
    }
   ],
   "source": [
    "plus(23,56,8,90,10,10)"
   ]
  },
  {
   "cell_type": "code",
   "execution_count": 25,
   "metadata": {
    "id": "qugl0qY-OTEg",
    "outputId": "39c407c6-0e03-4884-f438-399b98319d77"
   },
   "outputs": [
    {
     "name": "stdout",
     "output_type": "stream",
     "text": [
      "([6, 2, 3, 5], 'a')\n",
      "<class 'tuple'>\n"
     ]
    },
    {
     "ename": "TypeError",
     "evalue": "unsupported operand type(s) for +: 'int' and 'list'",
     "output_type": "error",
     "traceback": [
      "\u001b[1;31m---------------------------------------------------------------------------\u001b[0m",
      "\u001b[1;31mTypeError\u001b[0m                                 Traceback (most recent call last)",
      "\u001b[1;32m<ipython-input-25-991692ac4c24>\u001b[0m in \u001b[0;36m<module>\u001b[1;34m\u001b[0m\n\u001b[1;32m----> 1\u001b[1;33m \u001b[0mplus\u001b[0m\u001b[1;33m(\u001b[0m\u001b[1;33m[\u001b[0m\u001b[1;36m6\u001b[0m\u001b[1;33m,\u001b[0m\u001b[1;36m2\u001b[0m\u001b[1;33m,\u001b[0m\u001b[1;36m3\u001b[0m\u001b[1;33m,\u001b[0m\u001b[1;36m5\u001b[0m\u001b[1;33m]\u001b[0m\u001b[1;33m,\u001b[0m\u001b[1;34m'a'\u001b[0m\u001b[1;33m)\u001b[0m\u001b[1;33m\u001b[0m\u001b[1;33m\u001b[0m\u001b[0m\n\u001b[0m",
      "\u001b[1;32m<ipython-input-20-851d360e5c03>\u001b[0m in \u001b[0;36mplus\u001b[1;34m(*s)\u001b[0m\n\u001b[0;32m      5\u001b[0m     \u001b[0mtotal\u001b[0m \u001b[1;33m=\u001b[0m \u001b[1;36m0\u001b[0m\u001b[1;33m\u001b[0m\u001b[1;33m\u001b[0m\u001b[0m\n\u001b[0;32m      6\u001b[0m     \u001b[1;32mfor\u001b[0m \u001b[0mi\u001b[0m \u001b[1;32min\u001b[0m \u001b[0ms\u001b[0m\u001b[1;33m:\u001b[0m\u001b[1;33m\u001b[0m\u001b[1;33m\u001b[0m\u001b[0m\n\u001b[1;32m----> 7\u001b[1;33m         \u001b[0mtotal\u001b[0m \u001b[1;33m=\u001b[0m \u001b[0mtotal\u001b[0m \u001b[1;33m+\u001b[0m \u001b[0mi\u001b[0m\u001b[1;33m\u001b[0m\u001b[1;33m\u001b[0m\u001b[0m\n\u001b[0m\u001b[0;32m      8\u001b[0m         \u001b[1;31m#print(total)\u001b[0m\u001b[1;33m\u001b[0m\u001b[1;33m\u001b[0m\u001b[1;33m\u001b[0m\u001b[0m\n\u001b[0;32m      9\u001b[0m     \u001b[1;32mreturn\u001b[0m \u001b[0mtotal\u001b[0m\u001b[1;33m\u001b[0m\u001b[1;33m\u001b[0m\u001b[0m\n",
      "\u001b[1;31mTypeError\u001b[0m: unsupported operand type(s) for +: 'int' and 'list'"
     ]
    }
   ],
   "source": [
    "plus([6,2,3,5],'a')"
   ]
  },
  {
   "cell_type": "code",
   "execution_count": 23,
   "metadata": {
    "id": "70xLPsD1OTEg",
    "outputId": "c07f0fc3-c45f-4d20-af42-5f5953d67612"
   },
   "outputs": [
    {
     "name": "stdout",
     "output_type": "stream",
     "text": [
      "(1, 19, 50)\n",
      "<class 'tuple'>\n"
     ]
    },
    {
     "data": {
      "text/plain": [
       "70"
      ]
     },
     "execution_count": 23,
     "metadata": {},
     "output_type": "execute_result"
    }
   ],
   "source": [
    "plus(1,19,50)"
   ]
  },
  {
   "cell_type": "code",
   "execution_count": null,
   "metadata": {
    "id": "HGo-aqgpOTEh",
    "outputId": "12c569e1-f401-47eb-c3b9-52641dc30d50"
   },
   "outputs": [
    {
     "name": "stdout",
     "output_type": "stream",
     "text": [
      "(12, 30)\n",
      "<class 'tuple'>\n"
     ]
    },
    {
     "data": {
      "text/plain": [
       "42"
      ]
     },
     "execution_count": 73,
     "metadata": {
      "tags": []
     },
     "output_type": "execute_result"
    }
   ],
   "source": [
    "plus(12, 30)"
   ]
  },
  {
   "cell_type": "code",
   "execution_count": null,
   "metadata": {
    "id": "zo0HB3zXOTEh",
    "outputId": "8790c4fc-7911-4e71-d332-54e6eecd2c0c"
   },
   "outputs": [
    {
     "name": "stdout",
     "output_type": "stream",
     "text": [
      "(12, 12, 14, 16)\n",
      "<class 'tuple'>\n"
     ]
    },
    {
     "data": {
      "text/plain": [
       "54"
      ]
     },
     "execution_count": 74,
     "metadata": {
      "tags": []
     },
     "output_type": "execute_result"
    }
   ],
   "source": [
    "plus(12,12,14,16)"
   ]
  },
  {
   "cell_type": "code",
   "execution_count": 7,
   "metadata": {},
   "outputs": [
    {
     "name": "stdout",
     "output_type": "stream",
     "text": [
      "0 0\n",
      "1 1\n",
      "3 2\n",
      "6 3\n",
      "10 4\n"
     ]
    }
   ],
   "source": [
    "tot= 0\n",
    "for i in range(5):\n",
    "    \n",
    "    tot=tot+i\n",
    "    print(tot, i)"
   ]
  },
  {
   "cell_type": "code",
   "execution_count": 67,
   "metadata": {
    "id": "uSO-kiHkOTEi"
   },
   "outputs": [],
   "source": [
    "# Define `plus()` function to accept a variable number of arguments\n",
    "#s= input(\"enter all marks, P,C,M,B\")\n",
    "#s=tuple(s)\n",
    "def PCMB(p,c,*s):\n",
    "    print(s, type(s))\n",
    "    total = p+c\n",
    "    for i in s:\n",
    "        total = total + int(i)\n",
    "        #print(total)\n",
    "    return total"
   ]
  },
  {
   "cell_type": "code",
   "execution_count": 70,
   "metadata": {},
   "outputs": [
    {
     "name": "stdout",
     "output_type": "stream",
     "text": [
      "() <class 'tuple'>\n"
     ]
    },
    {
     "data": {
      "text/plain": [
       "20"
      ]
     },
     "execution_count": 70,
     "metadata": {},
     "output_type": "execute_result"
    }
   ],
   "source": [
    "PCMB(10,10)"
   ]
  },
  {
   "cell_type": "code",
   "execution_count": null,
   "metadata": {
    "id": "TCGHldJgOTEi",
    "outputId": "9c4267ac-e0c4-4d21-bb70-4d73cf835e24"
   },
   "outputs": [
    {
     "name": "stdout",
     "output_type": "stream",
     "text": [
      "enter number12,12,13\n",
      "<class 'tuple'>\n"
     ]
    },
    {
     "ename": "ValueError",
     "evalue": "invalid literal for int() with base 10: '12,12,13'",
     "output_type": "error",
     "traceback": [
      "\u001b[1;31m---------------------------------------------------------------------------\u001b[0m",
      "\u001b[1;31mValueError\u001b[0m                                Traceback (most recent call last)",
      "\u001b[1;32m<ipython-input-66-22105722d7d7>\u001b[0m in \u001b[0;36m<module>\u001b[1;34m\u001b[0m\n\u001b[0;32m      1\u001b[0m \u001b[0ma\u001b[0m\u001b[1;33m=\u001b[0m\u001b[0minput\u001b[0m\u001b[1;33m(\u001b[0m\u001b[1;34m\"enter number\"\u001b[0m\u001b[1;33m)\u001b[0m\u001b[1;33m\u001b[0m\u001b[1;33m\u001b[0m\u001b[0m\n\u001b[1;32m----> 2\u001b[1;33m \u001b[0mPCMB\u001b[0m\u001b[1;33m(\u001b[0m\u001b[0ma\u001b[0m\u001b[1;33m)\u001b[0m\u001b[1;33m\u001b[0m\u001b[1;33m\u001b[0m\u001b[0m\n\u001b[0m",
      "\u001b[1;32m<ipython-input-62-2dbef14a0a94>\u001b[0m in \u001b[0;36mPCMB\u001b[1;34m(*s)\u001b[0m\n\u001b[0;32m      8\u001b[0m     \u001b[0mtotal\u001b[0m \u001b[1;33m=\u001b[0m \u001b[1;36m0\u001b[0m\u001b[1;33m\u001b[0m\u001b[1;33m\u001b[0m\u001b[0m\n\u001b[0;32m      9\u001b[0m     \u001b[1;32mfor\u001b[0m \u001b[0mi\u001b[0m \u001b[1;32min\u001b[0m \u001b[0ms\u001b[0m\u001b[1;33m:\u001b[0m\u001b[1;33m\u001b[0m\u001b[1;33m\u001b[0m\u001b[0m\n\u001b[1;32m---> 10\u001b[1;33m         \u001b[0mtotal\u001b[0m \u001b[1;33m=\u001b[0m \u001b[0mtotal\u001b[0m \u001b[1;33m+\u001b[0m \u001b[0mint\u001b[0m\u001b[1;33m(\u001b[0m\u001b[0mi\u001b[0m\u001b[1;33m)\u001b[0m\u001b[1;33m\u001b[0m\u001b[1;33m\u001b[0m\u001b[0m\n\u001b[0m\u001b[0;32m     11\u001b[0m         \u001b[1;31m#print(total)\u001b[0m\u001b[1;33m\u001b[0m\u001b[1;33m\u001b[0m\u001b[1;33m\u001b[0m\u001b[0m\n\u001b[0;32m     12\u001b[0m     \u001b[1;32mreturn\u001b[0m \u001b[0mtotal\u001b[0m\u001b[1;33m\u001b[0m\u001b[1;33m\u001b[0m\u001b[0m\n",
      "\u001b[1;31mValueError\u001b[0m: invalid literal for int() with base 10: '12,12,13'"
     ]
    }
   ],
   "source": [
    "a=input(\"enter number\")\n",
    "PCMB(a)"
   ]
  },
  {
   "cell_type": "code",
   "execution_count": null,
   "metadata": {
    "id": "j_7MsG2fOTEj",
    "outputId": "5cac11cd-6556-4ea2-d60d-a8575c0f24b5"
   },
   "outputs": [
    {
     "name": "stdout",
     "output_type": "stream",
     "text": [
      "<class 'tuple'>\n"
     ]
    }
   ],
   "source": [
    "add= plus(10,20,12)"
   ]
  },
  {
   "cell_type": "code",
   "execution_count": null,
   "metadata": {
    "id": "ixSTXr1iOTEj",
    "outputId": "6c35d4f3-26ae-4be1-ec6c-3f33ebfd14fd"
   },
   "outputs": [
    {
     "data": {
      "text/plain": [
       "42"
      ]
     },
     "execution_count": 8,
     "metadata": {
      "tags": []
     },
     "output_type": "execute_result"
    }
   ],
   "source": [
    "add"
   ]
  },
  {
   "cell_type": "code",
   "execution_count": 6,
   "metadata": {
    "id": "73E7dpBhOTEj"
   },
   "outputs": [],
   "source": [
    "# Define `plus()` function to accept a variable number of arguments\n",
    "def plus(**s):\n",
    "    print(s)"
   ]
  },
  {
   "cell_type": "code",
   "execution_count": 9,
   "metadata": {
    "id": "A6C6WUEEOTEk",
    "outputId": "82869ed0-e8e1-4fef-8440-5fa2f4976fbe"
   },
   "outputs": [
    {
     "name": "stdout",
     "output_type": "stream",
     "text": [
      "{'a3': 10, 'b': 20, 'c': 30}\n"
     ]
    }
   ],
   "source": [
    "plus(a3=10,b=20,c=30)"
   ]
  },
  {
   "cell_type": "code",
   "execution_count": 20,
   "metadata": {
    "id": "n_-ASlUuOTEk"
   },
   "outputs": [],
   "source": [
    "def dictVarArgs( arg1, arg2='defaultB', *x,   **theRest ):  #theRest ={c='grail',id='1000'}\n",
    "    \"\"\"arguments in dictionary In this **theRest is dictionary\"\"\"\n",
    "    print ('formal arg 1:', arg1)\n",
    "    print ('formal arg 2:', arg2)\n",
    "    print (\"Tuple content = \",x)\n",
    "    print (\"therest dict = \", theRest)\n",
    "    k =theRest.keys()      # k is  a list ['id','c']\n",
    "    k = list(k)\n",
    "    print ('keys = ',k)\n",
    "   # print ('Var arg in dictionary = ',k[0], \"Value = \", theRest[k[0]])\n",
    "   # print ('Var arg in dictionary = ',k[1], \"Value = \", theRest[k[1]])\n",
    "    print (\"----------------------------------------------------\")\n",
    "    for eachXtrArg in theRest.keys():   #dictionary traversal     ['c','id']\n",
    "        print ('Xtra arg %s: %s' % (eachXtrArg, theRest[eachXtrArg]))   \n",
    "\n",
    "            #works"
   ]
  },
  {
   "cell_type": "code",
   "execution_count": 71,
   "metadata": {
    "id": "n_-ASlUuOTEk"
   },
   "outputs": [],
   "source": [
    "def dictVarArgs( arg1, arg2='defaultB', *x,   **theRest ):  #theRest ={c='grail',id='1000'}\n",
    "    \"\"\"arguments in dictionary In this **theRest is dictionary\"\"\"\n",
    "    print ('formal arg 1:', arg1)\n",
    "    print ('formal arg 2:', arg2)\n",
    "    print (\"Tuple content = \",x)\n",
    "    print (\"therest dict = \", theRest)\n",
    "    k =theRest.keys()      # k is  a list ['id','c']\n",
    "    k = list(k)\n",
    "    print ('keys = ',k)\n",
    "   # print ('Var arg in dictionary = ',k[0], \"Value = \", theRest[k[0]])\n",
    "   # print ('Var arg in dictionary = ',k[1], \"Value = \", theRest[k[1]])\n",
    "    print (\"----------------------------------------------------\")\n",
    "    for eachXtrArg in theRest.keys():   #dictionary traversal     ['c','id']\n",
    "        print('Xtra arg %s: %s' %(eachXtrArg, theRest[eachXtrArg]))\n",
    "        print('Xtra arg {}:{}'.format(eachXtrArg, theRest[eachXtrArg]))\n",
    "        print('Xtra arg ', eachXtrArg, theRest[eachXtrArg])\n",
    "\n",
    "            #works"
   ]
  },
  {
   "cell_type": "code",
   "execution_count": 85,
   "metadata": {},
   "outputs": [],
   "source": [
    "theRest1 ={'c':'grail',40:'1000'}"
   ]
  },
  {
   "cell_type": "code",
   "execution_count": 89,
   "metadata": {},
   "outputs": [
    {
     "name": "stdout",
     "output_type": "stream",
     "text": [
      "formal arg 1: 23\n",
      "formal arg 2: 10\n",
      "Tuple content =  (12, 13, 14, {'c': 'grail', 40: '1000'})\n",
      "therest dict =  {'a': {'c': 'grail', 40: '1000'}}\n",
      "keys =  ['a']\n",
      "----------------------------------------------------\n",
      "Xtra arg a: {'c': 'grail', 40: '1000'}\n"
     ]
    }
   ],
   "source": [
    "dictVarArgs(23,10, 12,13,14,theRest1, a=theRest1)"
   ]
  },
  {
   "cell_type": "code",
   "execution_count": 87,
   "metadata": {},
   "outputs": [
    {
     "name": "stdout",
     "output_type": "stream",
     "text": [
      "formal arg 1: 23\n",
      "formal arg 2: 10\n",
      "Tuple content =  (12, 13, 14)\n",
      "therest dict =  {'x': 100, 'abc': 300, 'vb': 90}\n",
      "keys =  ['x', 'abc', 'vb']\n",
      "----------------------------------------------------\n",
      "Xtra arg x: 100\n",
      "Xtra arg abc: 300\n",
      "Xtra arg vb: 90\n"
     ]
    }
   ],
   "source": [
    "dictVarArgs(23,10, 12,13,14, x =100, abc = 300,vb=90)"
   ]
  },
  {
   "cell_type": "code",
   "execution_count": 72,
   "metadata": {},
   "outputs": [
    {
     "name": "stdout",
     "output_type": "stream",
     "text": [
      "formal arg 1: 69\n",
      "formal arg 2: defaultB\n",
      "Tuple content =  ()\n",
      "therest dict =  {}\n",
      "keys =  []\n",
      "----------------------------------------------------\n"
     ]
    }
   ],
   "source": [
    "dictVarArgs(69)"
   ]
  },
  {
   "cell_type": "code",
   "execution_count": 23,
   "metadata": {
    "id": "s-7QPZB5OTEl",
    "outputId": "604cf9ad-2547-4b12-90cc-2d4cddb9c103"
   },
   "outputs": [
    {
     "name": "stdout",
     "output_type": "stream",
     "text": [
      "formal arg 1: 12\n",
      "formal arg 2: 12\n",
      "Tuple content =  (12, 13, 15)\n",
      "therest dict =  {'cd': 'grail', 'id1': '1000', 'x1': 10, 'b': 10}\n",
      "keys =  ['cd', 'id1', 'x1', 'b']\n",
      "----------------------------------------------------\n",
      "Xtra arg cd: grail\n",
      "Xtra arg id1: 1000\n",
      "Xtra arg x1: 10\n",
      "Xtra arg b: 10\n"
     ]
    }
   ],
   "source": [
    "dictVarArgs(12,12,12,13,15,cd='grail',id1='1000',x1=10,b=10)  "
   ]
  },
  {
   "cell_type": "code",
   "execution_count": 13,
   "metadata": {},
   "outputs": [
    {
     "name": "stdout",
     "output_type": "stream",
     "text": [
      "formal arg 1: 1220\n",
      "formal arg 2: defaultB\n",
      "Tuple content =  ('Spark',)\n",
      "therest dict =  {'c': 'grail', 'id': '1000'}\n",
      "keys =  ['c', 'id']\n",
      "Var arg in dictionary =  c Value =  grail\n",
      "----------------------------------------------------\n",
      "Xtra arg c: grail\n",
      "Xtra arg id: 1000\n"
     ]
    }
   ],
   "source": [
    "dictVarArgs(1220, , c='grail',id='1000')  "
   ]
  },
  {
   "cell_type": "code",
   "execution_count": 25,
   "metadata": {
    "id": "xpHqHKdwOTEm",
    "outputId": "d1ffb21b-9877-4f79-8123-676f6bf5d0c5"
   },
   "outputs": [
    {
     "name": "stdout",
     "output_type": "stream",
     "text": [
      "formal arg 1: 1220\n",
      "formal arg 2: defaultB\n",
      "Tuple content =  ()\n",
      "therest dict =  {'x': 740.0, 'c': 'grail', 'id': '1000'}\n",
      "keys =  ['x', 'c', 'id']\n",
      "----------------------------------------------------\n",
      "Xtra arg x: 740.0\n",
      "Xtra arg c: grail\n",
      "Xtra arg id: 1000\n"
     ]
    }
   ],
   "source": [
    "dictVarArgs(1220, x=740.0,c='grail',id='1000')  "
   ]
  },
  {
   "cell_type": "code",
   "execution_count": null,
   "metadata": {
    "id": "bm02hGsgOTEn"
   },
   "outputs": [],
   "source": [
    "def writing_var(a, pi=3.143):\n",
    "    return \n",
    "    "
   ]
  },
  {
   "cell_type": "code",
   "execution_count": null,
   "metadata": {
    "id": "NTFa_R0NOTEo",
    "outputId": "32fae812-a5d5-405c-8d5f-a766c945fe9b"
   },
   "outputs": [
    {
     "name": "stdout",
     "output_type": "stream",
     "text": [
      "operation2+4-3\n"
     ]
    },
    {
     "data": {
      "text/plain": [
       "'2+4-3'"
      ]
     },
     "execution_count": 5,
     "metadata": {
      "tags": []
     },
     "output_type": "execute_result"
    }
   ],
   "source": [
    "input(\"operation\")"
   ]
  },
  {
   "cell_type": "code",
   "execution_count": null,
   "metadata": {
    "id": "h_K6A2x6OTEo"
   },
   "outputs": [],
   "source": []
  },
  {
   "cell_type": "code",
   "execution_count": null,
   "metadata": {
    "id": "gXFXOvHWOTEp"
   },
   "outputs": [],
   "source": [
    "import operator"
   ]
  },
  {
   "cell_type": "code",
   "execution_count": null,
   "metadata": {
    "id": "tCVMBJFpOTEp",
    "outputId": "89f1eda8-06b4-4e7f-99d4-3cc78c41a8b0"
   },
   "outputs": [
    {
     "name": "stdout",
     "output_type": "stream",
     "text": [
      "(120, 20)\n",
      "120\n",
      "140\n"
     ]
    },
    {
     "data": {
      "text/plain": [
       "140"
      ]
     },
     "execution_count": 26,
     "metadata": {
      "tags": []
     },
     "output_type": "execute_result"
    }
   ],
   "source": [
    "# Calculate the sum  \n",
    "plus(120,20)"
   ]
  },
  {
   "cell_type": "code",
   "execution_count": null,
   "metadata": {
    "id": "Ba9F0rstOTEs"
   },
   "outputs": [],
   "source": [
    "a=20"
   ]
  },
  {
   "cell_type": "code",
   "execution_count": null,
   "metadata": {
    "collapsed": true,
    "id": "qLGj0pI0OTEt"
   },
   "outputs": [],
   "source": [
    "# Global vs Local Variables\n",
    "\n",
    "# In general, variables that are defined inside a function body have a \n",
    "# local scope, and those defined outside have a global scope. \n",
    "\n",
    "# That means that local variables are defined within a function block \n",
    "# and can only be accessed inside that function, while global variables \n",
    "# can be accessed by all functions that might be in your script"
   ]
  },
  {
   "cell_type": "code",
   "execution_count": null,
   "metadata": {},
   "outputs": [],
   "source": []
  },
  {
   "cell_type": "code",
   "execution_count": 4,
   "metadata": {
    "id": "z0hyebeoOTEt"
   },
   "outputs": [],
   "source": [
    "# Global variable `init`\n",
    "#init = 1\n",
    "\n",
    "# Define `plus()` function to accept a variable number of arguments\n",
    "def plus(*args):\n",
    "  # Local variable `sum()`\n",
    "    total = 0\n",
    "    global init\n",
    "    #print(init)\n",
    "    init=20\n",
    "    \n",
    "    for i in args:\n",
    "        print(init)\n",
    "        init=init+1\n",
    "        \n",
    "        total += i\n",
    "    print(init)\n",
    "    return total\n"
   ]
  },
  {
   "cell_type": "code",
   "execution_count": 7,
   "metadata": {
    "id": "hS2SFGulOTEt",
    "outputId": "66167aaf-37cf-42f8-8982-4eb48ca8f4e4"
   },
   "outputs": [
    {
     "name": "stdout",
     "output_type": "stream",
     "text": [
      "20\n",
      "21\n",
      "22\n",
      "12\n"
     ]
    }
   ],
   "source": [
    "a= plus(10,2)\n",
    "print(a)"
   ]
  },
  {
   "cell_type": "code",
   "execution_count": 6,
   "metadata": {},
   "outputs": [
    {
     "data": {
      "text/plain": [
       "21"
      ]
     },
     "execution_count": 6,
     "metadata": {},
     "output_type": "execute_result"
    }
   ],
   "source": [
    "init"
   ]
  },
  {
   "cell_type": "code",
   "execution_count": 37,
   "metadata": {
    "id": "nT3Ez_WCOTEu",
    "outputId": "bea44d14-c195-4f8d-90ae-cdaf6c4182d2"
   },
   "outputs": [
    {
     "name": "stdout",
     "output_type": "stream",
     "text": [
      "this is the initialized value 4\n"
     ]
    }
   ],
   "source": [
    "# Access the global variable\n",
    "print(\"this is the initialized value \" + str(init))"
   ]
  },
  {
   "cell_type": "code",
   "execution_count": null,
   "metadata": {
    "id": "C1VszHVfOTEu",
    "outputId": "bd173a24-6d84-46d6-a58c-568992f4bf34",
    "scrolled": true
   },
   "outputs": [
    {
     "ename": "NameError",
     "evalue": "name 'total' is not defined",
     "output_type": "error",
     "traceback": [
      "\u001b[1;31m---------------------------------------------------------------------------\u001b[0m",
      "\u001b[1;31mNameError\u001b[0m                                 Traceback (most recent call last)",
      "\u001b[1;32m<ipython-input-18-0dfd88be29a7>\u001b[0m in \u001b[0;36m<module>\u001b[1;34m\u001b[0m\n\u001b[0;32m      1\u001b[0m \u001b[1;31m# (Try to) access the local variable\u001b[0m\u001b[1;33m\u001b[0m\u001b[1;33m\u001b[0m\u001b[1;33m\u001b[0m\u001b[0m\n\u001b[1;32m----> 2\u001b[1;33m \u001b[0mprint\u001b[0m\u001b[1;33m(\u001b[0m\u001b[1;34m\"this is the sum \"\u001b[0m \u001b[1;33m+\u001b[0m \u001b[0mstr\u001b[0m\u001b[1;33m(\u001b[0m\u001b[0mtotal\u001b[0m\u001b[1;33m)\u001b[0m\u001b[1;33m)\u001b[0m\u001b[1;33m\u001b[0m\u001b[1;33m\u001b[0m\u001b[0m\n\u001b[0m",
      "\u001b[1;31mNameError\u001b[0m: name 'total' is not defined"
     ]
    }
   ],
   "source": [
    "# (Try to) access the local variable\n",
    "print(\"this is the sum \" + str(total))"
   ]
  },
  {
   "cell_type": "code",
   "execution_count": null,
   "metadata": {
    "id": "XhfphEnROTEu",
    "outputId": "9a27a6e7-c963-4365-e0b6-f633aeecd944"
   },
   "outputs": [
    {
     "data": {
      "text/plain": [
       "187"
      ]
     },
     "execution_count": 106,
     "metadata": {
      "tags": []
     },
     "output_type": "execute_result"
    }
   ],
   "source": [
    " plus(12,13,43,10)"
   ]
  },
  {
   "cell_type": "code",
   "execution_count": null,
   "metadata": {
    "id": "uxX-lt-iOTEv"
   },
   "outputs": [],
   "source": []
  },
  {
   "cell_type": "code",
   "execution_count": 18,
   "metadata": {
    "id": "FxYHqK4oOTEv"
   },
   "outputs": [],
   "source": [
    "# Printing /accepting dictionary\n",
    "def accept_dict(**args):\n",
    "  # Local variable `sum()`\n",
    "  print(args)"
   ]
  },
  {
   "cell_type": "code",
   "execution_count": 19,
   "metadata": {
    "id": "w_YPJ-FJOTEv"
   },
   "outputs": [],
   "source": [
    "dict1={1:\"abc\",2:\"cdv\"}"
   ]
  },
  {
   "cell_type": "code",
   "execution_count": 28,
   "metadata": {
    "id": "LWbT4g9iOTEv",
    "outputId": "0d190871-0287-459b-9eb7-b61426ee47f2"
   },
   "outputs": [
    {
     "name": "stdout",
     "output_type": "stream",
     "text": [
      "{'a1': 'xyz', 'cvb': 2}\n"
     ]
    }
   ],
   "source": [
    "accept_dict(a1=\"xyz\", cvb=2)"
   ]
  },
  {
   "cell_type": "code",
   "execution_count": null,
   "metadata": {
    "collapsed": true,
    "id": "aVqzwmfAOTEw"
   },
   "outputs": [],
   "source": [
    "# Anonymous functions are also called lambda functions in Python because \n",
    "# instead of declaring them with the standard def keyword, you use the \n",
    "# lambda keyword."
   ]
  },
  {
   "cell_type": "code",
   "execution_count": 8,
   "metadata": {},
   "outputs": [],
   "source": [
    "def namef(a=None):\n",
    "    out= \"Hello \"+str(a)\n",
    "    return out"
   ]
  },
  {
   "cell_type": "code",
   "execution_count": 11,
   "metadata": {},
   "outputs": [
    {
     "data": {
      "text/plain": [
       "'Hello suma'"
      ]
     },
     "execution_count": 11,
     "metadata": {},
     "output_type": "execute_result"
    }
   ],
   "source": [
    "namef(\"suma\")"
   ]
  },
  {
   "cell_type": "code",
   "execution_count": 26,
   "metadata": {},
   "outputs": [],
   "source": [
    "v = lambda g,t : 100*g+t"
   ]
  },
  {
   "cell_type": "code",
   "execution_count": 21,
   "metadata": {},
   "outputs": [
    {
     "data": {
      "text/plain": [
       "function"
      ]
     },
     "execution_count": 21,
     "metadata": {},
     "output_type": "execute_result"
    }
   ],
   "source": [
    "type(v)"
   ]
  },
  {
   "cell_type": "code",
   "execution_count": 27,
   "metadata": {},
   "outputs": [
    {
     "data": {
      "text/plain": [
       "680"
      ]
     },
     "execution_count": 27,
     "metadata": {},
     "output_type": "execute_result"
    }
   ],
   "source": [
    "v(6,80)"
   ]
  },
  {
   "cell_type": "code",
   "execution_count": 24,
   "metadata": {},
   "outputs": [],
   "source": [
    "greeting = lambda name : \"Hello {}\".format(name)"
   ]
  },
  {
   "cell_type": "code",
   "execution_count": 25,
   "metadata": {},
   "outputs": [
    {
     "data": {
      "text/plain": [
       "'Hello Gr'"
      ]
     },
     "execution_count": 25,
     "metadata": {},
     "output_type": "execute_result"
    }
   ],
   "source": [
    "greeting(\"Gr\")"
   ]
  },
  {
   "cell_type": "code",
   "execution_count": 56,
   "metadata": {},
   "outputs": [],
   "source": [
    "b=lambda a:(\"hello \"+a+\"! How are you \"+ \"How are you\")"
   ]
  },
  {
   "cell_type": "code",
   "execution_count": 57,
   "metadata": {},
   "outputs": [
    {
     "data": {
      "text/plain": [
       "'hello vgtu! How are you How are you'"
      ]
     },
     "execution_count": 57,
     "metadata": {},
     "output_type": "execute_result"
    }
   ],
   "source": [
    "b(\"vgtu\")"
   ]
  },
  {
   "cell_type": "code",
   "execution_count": 40,
   "metadata": {
    "id": "x9vglUMwOTEw",
    "outputId": "c4436a2b-320a-4463-de51-fccc6d0f1fca"
   },
   "outputs": [],
   "source": [
    "a=lambda s:\"Welcome \"+str(s)"
   ]
  },
  {
   "cell_type": "code",
   "execution_count": 41,
   "metadata": {},
   "outputs": [
    {
     "data": {
      "text/plain": [
       "function"
      ]
     },
     "execution_count": 41,
     "metadata": {},
     "output_type": "execute_result"
    }
   ],
   "source": [
    "type(a)"
   ]
  },
  {
   "cell_type": "code",
   "execution_count": 42,
   "metadata": {},
   "outputs": [
    {
     "data": {
      "text/plain": [
       "'Welcome symb'"
      ]
     },
     "execution_count": 42,
     "metadata": {},
     "output_type": "execute_result"
    }
   ],
   "source": [
    "a(\"symb\")"
   ]
  },
  {
   "cell_type": "code",
   "execution_count": 43,
   "metadata": {},
   "outputs": [],
   "source": [
    "sum11 = lambda x, y, z: x+y+z;"
   ]
  },
  {
   "cell_type": "code",
   "execution_count": 44,
   "metadata": {
    "id": "_ZI5iUKGOTEx"
   },
   "outputs": [
    {
     "data": {
      "text/plain": [
       "32"
      ]
     },
     "execution_count": 44,
     "metadata": {},
     "output_type": "execute_result"
    }
   ],
   "source": [
    "# Call the `sum()` anonymous function\n",
    "sum11(14,15, 3)"
   ]
  },
  {
   "cell_type": "code",
   "execution_count": 46,
   "metadata": {
    "id": "nyF7Ng14OTEw"
   },
   "outputs": [],
   "source": [
    "# \"Translate\" to a UDF\n",
    "# def sum(x, y):\n",
    "#   return x+y\n",
    "\n",
    "# `sum()` lambda function\n",
    "sum11 = lambda x, y, z: (x+10 , y+20,  z+30)"
   ]
  },
  {
   "cell_type": "code",
   "execution_count": 47,
   "metadata": {
    "id": "E5moCTf0OTEx",
    "outputId": "14c1a074-7041-4e4a-f6b8-f98e67313cc3"
   },
   "outputs": [
    {
     "data": {
      "text/plain": [
       "<function __main__.<lambda>(x, y, z)>"
      ]
     },
     "execution_count": 47,
     "metadata": {},
     "output_type": "execute_result"
    }
   ],
   "source": [
    "sum11"
   ]
  },
  {
   "cell_type": "code",
   "execution_count": 48,
   "metadata": {
    "id": "b6NxeBGWOTEy",
    "outputId": "d0313b77-5f3b-4398-e4d7-2a7d4cbe03e5"
   },
   "outputs": [
    {
     "data": {
      "text/plain": [
       "(24, 35, 100)"
      ]
     },
     "execution_count": 48,
     "metadata": {},
     "output_type": "execute_result"
    }
   ],
   "source": [
    "sum11(14,15,70)\n"
   ]
  },
  {
   "cell_type": "code",
   "execution_count": null,
   "metadata": {
    "id": "4r026RipOTEy"
   },
   "outputs": [],
   "source": [
    "a=lambda:100"
   ]
  },
  {
   "cell_type": "code",
   "execution_count": null,
   "metadata": {
    "id": "TuZR2dxmOTEz",
    "outputId": "28632171-e81d-4421-ef30-42fffcb001e4"
   },
   "outputs": [
    {
     "name": "stdout",
     "output_type": "stream",
     "text": [
      "<function <lambda> at 0x000001F17450AC80>\n"
     ]
    }
   ],
   "source": [
    "a"
   ]
  },
  {
   "cell_type": "code",
   "execution_count": 4,
   "metadata": {
    "id": "3hyTuIjLOTEz"
   },
   "outputs": [],
   "source": [
    "a=lambda x,y:((x+y, x-y) , x*y)"
   ]
  },
  {
   "cell_type": "code",
   "execution_count": 5,
   "metadata": {
    "id": "AzO1txMiOTE0",
    "outputId": "41aa6eb9-70c1-44ee-cfd4-e0db7e896c47"
   },
   "outputs": [
    {
     "data": {
      "text/plain": [
       "((42, -18), 360)"
      ]
     },
     "execution_count": 5,
     "metadata": {},
     "output_type": "execute_result"
    }
   ],
   "source": [
    "a(12,30)"
   ]
  },
  {
   "cell_type": "code",
   "execution_count": 17,
   "metadata": {
    "id": "qgp6nQY-OTE0",
    "outputId": "e2b0586e-9598-4dd8-8e4d-c896d9849c74"
   },
   "outputs": [],
   "source": [
    "\n",
    "length=lambda x:len(x)\n"
   ]
  },
  {
   "cell_type": "code",
   "execution_count": 24,
   "metadata": {},
   "outputs": [],
   "source": [
    "length1=lambda x:type(x)== str ##len(x)"
   ]
  },
  {
   "cell_type": "code",
   "execution_count": 18,
   "metadata": {
    "id": "8QyzlamKOTE0",
    "outputId": "44140ba7-5551-46a9-a0ae-2566b2de192a"
   },
   "outputs": [
    {
     "name": "stdout",
     "output_type": "stream",
     "text": [
      "9\n"
     ]
    }
   ],
   "source": [
    "print(length(\"asdtretyf\"))"
   ]
  },
  {
   "cell_type": "code",
   "execution_count": 29,
   "metadata": {},
   "outputs": [
    {
     "data": {
      "text/plain": [
       "5"
      ]
     },
     "execution_count": 29,
     "metadata": {},
     "output_type": "execute_result"
    }
   ],
   "source": [
    "l1= [\"Neerja\",\"Niketan\",\"Gini\",\"Entropy\",\"Mean absolute error\"]\n",
    "len(l1)"
   ]
  },
  {
   "cell_type": "code",
   "execution_count": 60,
   "metadata": {},
   "outputs": [
    {
     "data": {
      "text/plain": [
       "True"
      ]
     },
     "execution_count": 60,
     "metadata": {},
     "output_type": "execute_result"
    }
   ],
   "source": [
    "len(\"symbiosys\") > 6"
   ]
  },
  {
   "cell_type": "code",
   "execution_count": 33,
   "metadata": {},
   "outputs": [
    {
     "data": {
      "text/plain": [
       "[7, 7, 19]"
      ]
     },
     "execution_count": 33,
     "metadata": {},
     "output_type": "execute_result"
    }
   ],
   "source": [
    "[len(i) for i in l1 if len(i)>6]"
   ]
  },
  {
   "cell_type": "code",
   "execution_count": 31,
   "metadata": {},
   "outputs": [
    {
     "data": {
      "text/plain": [
       "[6, 7, 4, 7, 19]"
      ]
     },
     "execution_count": 31,
     "metadata": {},
     "output_type": "execute_result"
    }
   ],
   "source": [
    "list(map(len,l1))"
   ]
  },
  {
   "cell_type": "code",
   "execution_count": null,
   "metadata": {},
   "outputs": [],
   "source": [
    "lambda x :len(x)>6"
   ]
  },
  {
   "cell_type": "code",
   "execution_count": 36,
   "metadata": {},
   "outputs": [
    {
     "data": {
      "text/plain": [
       "[False, True, False, True, True]"
      ]
     },
     "execution_count": 36,
     "metadata": {},
     "output_type": "execute_result"
    }
   ],
   "source": [
    "list(map(lambda x: len(x)>6 ,l1))"
   ]
  },
  {
   "cell_type": "code",
   "execution_count": 57,
   "metadata": {},
   "outputs": [
    {
     "data": {
      "text/plain": [
       "['Niketan', 'Entropy', 'Mean absolute error']"
      ]
     },
     "execution_count": 57,
     "metadata": {},
     "output_type": "execute_result"
    }
   ],
   "source": [
    "list(filter(lambda x : len(x)>6, l1))"
   ]
  },
  {
   "cell_type": "code",
   "execution_count": 54,
   "metadata": {},
   "outputs": [],
   "source": [
    "l2=[1,\"Two\",3,\"four\"]"
   ]
  },
  {
   "cell_type": "code",
   "execution_count": 33,
   "metadata": {},
   "outputs": [
    {
     "data": {
      "text/plain": [
       "[False, True, False, True]"
      ]
     },
     "execution_count": 33,
     "metadata": {},
     "output_type": "execute_result"
    }
   ],
   "source": [
    "list(map(lambda x: type(x)==str, l2))"
   ]
  },
  {
   "cell_type": "code",
   "execution_count": 57,
   "metadata": {},
   "outputs": [
    {
     "data": {
      "text/plain": [
       "['Two', 'four']"
      ]
     },
     "execution_count": 57,
     "metadata": {},
     "output_type": "execute_result"
    }
   ],
   "source": [
    "list(filter(lambda x: type(x)==str,l2))"
   ]
  },
  {
   "cell_type": "code",
   "execution_count": 58,
   "metadata": {},
   "outputs": [
    {
     "data": {
      "text/plain": [
       "[0, 2, 4, 6, 8]"
      ]
     },
     "execution_count": 58,
     "metadata": {},
     "output_type": "execute_result"
    }
   ],
   "source": [
    "### display even numbers\n",
    "list(filter((lambda x : x%2==0),range(10)))"
   ]
  },
  {
   "cell_type": "code",
   "execution_count": 61,
   "metadata": {},
   "outputs": [
    {
     "data": {
      "text/plain": [
       "[0, 1, 4, 9, 16, 25, 36, 49, 64]"
      ]
     },
     "execution_count": 61,
     "metadata": {},
     "output_type": "execute_result"
    }
   ],
   "source": [
    "list(map(lambda x:x**2, range(9)))"
   ]
  },
  {
   "cell_type": "code",
   "execution_count": 5,
   "metadata": {},
   "outputs": [],
   "source": [
    "l1 = ['4141','2114','nina','nancy','nilay','niraj','r4','we3']\n"
   ]
  },
  {
   "cell_type": "code",
   "execution_count": 70,
   "metadata": {},
   "outputs": [
    {
     "data": {
      "text/plain": [
       "['4141', '2114', 'r4', 'we3']"
      ]
     },
     "execution_count": 70,
     "metadata": {},
     "output_type": "execute_result"
    }
   ],
   "source": [
    "list(filter(lambda x: x.isalpha()==False,l1))"
   ]
  },
  {
   "cell_type": "code",
   "execution_count": 77,
   "metadata": {},
   "outputs": [
    {
     "data": {
      "text/plain": [
       "True"
      ]
     },
     "execution_count": 77,
     "metadata": {},
     "output_type": "execute_result"
    }
   ],
   "source": [
    "\"r4\".isalpha() ==False"
   ]
  },
  {
   "cell_type": "code",
   "execution_count": 78,
   "metadata": {},
   "outputs": [
    {
     "data": {
      "text/plain": [
       "True"
      ]
     },
     "execution_count": 78,
     "metadata": {},
     "output_type": "execute_result"
    }
   ],
   "source": [
    "'r4'.isdigit() == False"
   ]
  },
  {
   "cell_type": "code",
   "execution_count": null,
   "metadata": {},
   "outputs": [],
   "source": [
    "\"asd\"."
   ]
  },
  {
   "cell_type": "code",
   "execution_count": 79,
   "metadata": {},
   "outputs": [
    {
     "data": {
      "text/plain": [
       "True"
      ]
     },
     "execution_count": 79,
     "metadata": {},
     "output_type": "execute_result"
    }
   ],
   "source": [
    "\"r4\".isalpha() ==False and 'r4'.isdigit() == False"
   ]
  },
  {
   "cell_type": "code",
   "execution_count": 74,
   "metadata": {},
   "outputs": [
    {
     "data": {
      "text/plain": [
       "['r4', 'we3']"
      ]
     },
     "execution_count": 74,
     "metadata": {},
     "output_type": "execute_result"
    }
   ],
   "source": [
    "list(filter(lambda x: x.isalpha()== False and x.isdigit()==False, l1))"
   ]
  },
  {
   "cell_type": "code",
   "execution_count": 6,
   "metadata": {},
   "outputs": [
    {
     "data": {
      "text/plain": [
       "[4, 4, 4, 5, 5, 5, 2, 3]"
      ]
     },
     "execution_count": 6,
     "metadata": {},
     "output_type": "execute_result"
    }
   ],
   "source": [
    "l2=[]\n",
    "for i in l1:\n",
    "    len(i)\n",
    "    l2.append(len(i))\n",
    "    \n",
    "l2"
   ]
  },
  {
   "cell_type": "code",
   "execution_count": null,
   "metadata": {},
   "outputs": [],
   "source": []
  },
  {
   "cell_type": "code",
   "execution_count": 8,
   "metadata": {},
   "outputs": [
    {
     "data": {
      "text/plain": [
       "[('4141', 4),\n",
       " ('2114', 4),\n",
       " ('nina', 4),\n",
       " ('nancy', 5),\n",
       " ('nilay', 5),\n",
       " ('niraj', 5),\n",
       " ('r4', 2),\n",
       " ('we3', 3)]"
      ]
     },
     "execution_count": 8,
     "metadata": {},
     "output_type": "execute_result"
    }
   ],
   "source": [
    "list(zip(l1,l2))"
   ]
  },
  {
   "cell_type": "code",
   "execution_count": null,
   "metadata": {
    "collapsed": true,
    "id": "mXNvk-T_OTE1"
   },
   "outputs": [],
   "source": [
    "# Specific contexts in which this would be relevant is when you’re working \n",
    "# with filter(), map() and reduce()"
   ]
  },
  {
   "cell_type": "code",
   "execution_count": null,
   "metadata": {
    "id": "5gn_3QQ4OTE1",
    "outputId": "55b8d377-5255-44c6-81af-8eb572f5bc7d"
   },
   "outputs": [
    {
     "data": {
      "text/plain": [
       "[1, 4, 9, 16, 25]"
      ]
     },
     "execution_count": 90,
     "metadata": {
      "tags": []
     },
     "output_type": "execute_result"
    }
   ],
   "source": [
    "# Map\n",
    "# map(function_to_apply, list_of_inputs)\n",
    "\n",
    "# applies a function to all the items in an input_list. \n",
    "\n",
    "items = [1, 2, 3, 4, 5]\n",
    "squared = []\n",
    "for i in items:\n",
    "    squared.append(i**2)\n",
    "    \n",
    "squared"
   ]
  },
  {
   "cell_type": "code",
   "execution_count": 60,
   "metadata": {
    "id": "vxwKwY4IOTE2",
    "outputId": "18fb535d-9b6c-4e15-c649-e9c69ed029d0"
   },
   "outputs": [
    {
     "name": "stdout",
     "output_type": "stream",
     "text": [
      "[1, 2, 3, 4, 5]\n"
     ]
    },
    {
     "data": {
      "text/plain": [
       "[1, 4, 9, 16, 25]"
      ]
     },
     "execution_count": 60,
     "metadata": {},
     "output_type": "execute_result"
    }
   ],
   "source": [
    "items = [1, 2, 3, 4, 5]\n",
    "print(items)\n",
    "##squared \n",
    "\n",
    "list(map(lambda x : x**2  ,items))"
   ]
  },
  {
   "cell_type": "code",
   "execution_count": 1,
   "metadata": {},
   "outputs": [],
   "source": [
    "len(\"Ritu\")\n",
    "list1 = [1,2,5,3,4,6]"
   ]
  },
  {
   "cell_type": "code",
   "execution_count": 11,
   "metadata": {},
   "outputs": [
    {
     "data": {
      "text/plain": [
       "[4, 6, 6, 5, 10]"
      ]
     },
     "execution_count": 11,
     "metadata": {},
     "output_type": "execute_result"
    }
   ],
   "source": [
    "### Create the list of length of every string in the list\n",
    "name= [\"Ruby\",\"Poonam\",\"Rajani\",\"Pooja\",\"Dhanashree\"]\n",
    "list(map(len,name))"
   ]
  },
  {
   "cell_type": "code",
   "execution_count": null,
   "metadata": {
    "id": "FIHMN0vQOTE3",
    "outputId": "0a4ac410-4f7e-48b6-d839-b3f9bc055b6e"
   },
   "outputs": [
    {
     "data": {
      "text/plain": [
       "[1, 4, 9, 16, 25]"
      ]
     },
     "execution_count": 93,
     "metadata": {
      "tags": []
     },
     "output_type": "execute_result"
    }
   ],
   "source": [
    "list(map(lambda x: x**2,items))"
   ]
  },
  {
   "cell_type": "code",
   "execution_count": null,
   "metadata": {
    "id": "ssitvs1MOTE3",
    "outputId": "bf5e75a3-e096-46c8-f16d-fe96e55b1d52"
   },
   "outputs": [
    {
     "data": {
      "text/plain": [
       "[1, 1, 1, 1, 1, 1, 1, 1, 1, 1, 1, 1]"
      ]
     },
     "execution_count": 37,
     "metadata": {
      "tags": []
     },
     "output_type": "execute_result"
    }
   ],
   "source": [
    "string= \"A NEW STRING\"\n",
    "list(map(len,string))"
   ]
  },
  {
   "cell_type": "code",
   "execution_count": null,
   "metadata": {
    "id": "QkgqSh_hOTE4",
    "outputId": "3b4e3185-4edb-48f8-c311-8bdcd532a5e9"
   },
   "outputs": [
    {
     "data": {
      "text/plain": [
       "{1, 2, 4, 10}"
      ]
     },
     "execution_count": 31,
     "metadata": {
      "tags": []
     },
     "output_type": "execute_result"
    }
   ],
   "source": [
    "var={\"A\",\"AA\",\"BBBB\",\"SSSSSSSSSS\"}\n",
    "set(map(len,var))"
   ]
  },
  {
   "cell_type": "code",
   "execution_count": null,
   "metadata": {
    "id": "LWEC3rKZOTE4"
   },
   "outputs": [],
   "source": [
    "map()"
   ]
  },
  {
   "cell_type": "code",
   "execution_count": null,
   "metadata": {
    "id": "RNdTaTK5OTE5",
    "outputId": "3e3a6685-144f-4c19-a223-44f253f3afb5"
   },
   "outputs": [
    {
     "name": "stdout",
     "output_type": "stream",
     "text": [
      "[1, 4, 9, 16, 25]\n",
      "(1, 4, 9, 16, 25)\n",
      "{1, 4, 9, 16, 25}\n"
     ]
    }
   ],
   "source": [
    "#a= lambda x: x**2\n",
    "#a(5)\n",
    "print(list(map(lambda x: x**2,items)))\n",
    "print(tuple(map(lambda x: x**2,items)))\n",
    "print(set(map(lambda x: x**2,items)))\n",
    "#list (map(a,items))\n",
    "#y"
   ]
  },
  {
   "cell_type": "code",
   "execution_count": null,
   "metadata": {
    "id": "tB6A-92-OTE6",
    "outputId": "0c206a01-86cf-4b4f-ebcc-63c8433934c0"
   },
   "outputs": [
    {
     "ename": "NameError",
     "evalue": "name 'y' is not defined",
     "output_type": "error",
     "traceback": [
      "\u001b[1;31m---------------------------------------------------------------------------\u001b[0m",
      "\u001b[1;31mNameError\u001b[0m                                 Traceback (most recent call last)",
      "\u001b[1;32m<ipython-input-72-a28891c6c7a5>\u001b[0m in \u001b[0;36m<module>\u001b[1;34m()\u001b[0m\n\u001b[0;32m      1\u001b[0m \u001b[0ma\u001b[0m\u001b[1;33m=\u001b[0m \u001b[1;33m[\u001b[0m\u001b[1;36m1\u001b[0m\u001b[1;33m,\u001b[0m\u001b[1;36m2\u001b[0m\u001b[1;33m,\u001b[0m\u001b[1;36m3\u001b[0m\u001b[1;33m,\u001b[0m\u001b[1;36m4\u001b[0m\u001b[1;33m,\u001b[0m\u001b[1;36m5\u001b[0m\u001b[1;33m]\u001b[0m\u001b[1;33m\u001b[0m\u001b[0m\n\u001b[0;32m      2\u001b[0m \u001b[0mb\u001b[0m\u001b[1;33m=\u001b[0m\u001b[1;33m[\u001b[0m\u001b[1;36m10\u001b[0m\u001b[1;33m,\u001b[0m\u001b[1;36m20\u001b[0m\u001b[1;33m,\u001b[0m\u001b[1;36m30\u001b[0m\u001b[1;33m,\u001b[0m\u001b[1;36m40\u001b[0m\u001b[1;33m,\u001b[0m\u001b[1;36m50\u001b[0m\u001b[1;33m]\u001b[0m\u001b[1;33m\u001b[0m\u001b[0m\n\u001b[1;32m----> 3\u001b[1;33m \u001b[0mlist\u001b[0m\u001b[1;33m(\u001b[0m\u001b[0mmap\u001b[0m\u001b[1;33m(\u001b[0m\u001b[1;32mlambda\u001b[0m \u001b[0mx\u001b[0m\u001b[1;33m:\u001b[0m \u001b[0mx\u001b[0m\u001b[1;33m+\u001b[0m\u001b[0my\u001b[0m\u001b[1;33m,\u001b[0m \u001b[0ma\u001b[0m\u001b[1;33m)\u001b[0m\u001b[1;33m)\u001b[0m\u001b[1;33m\u001b[0m\u001b[0m\n\u001b[0m",
      "\u001b[1;32m<ipython-input-72-a28891c6c7a5>\u001b[0m in \u001b[0;36m<lambda>\u001b[1;34m(x)\u001b[0m\n\u001b[0;32m      1\u001b[0m \u001b[0ma\u001b[0m\u001b[1;33m=\u001b[0m \u001b[1;33m[\u001b[0m\u001b[1;36m1\u001b[0m\u001b[1;33m,\u001b[0m\u001b[1;36m2\u001b[0m\u001b[1;33m,\u001b[0m\u001b[1;36m3\u001b[0m\u001b[1;33m,\u001b[0m\u001b[1;36m4\u001b[0m\u001b[1;33m,\u001b[0m\u001b[1;36m5\u001b[0m\u001b[1;33m]\u001b[0m\u001b[1;33m\u001b[0m\u001b[0m\n\u001b[0;32m      2\u001b[0m \u001b[0mb\u001b[0m\u001b[1;33m=\u001b[0m\u001b[1;33m[\u001b[0m\u001b[1;36m10\u001b[0m\u001b[1;33m,\u001b[0m\u001b[1;36m20\u001b[0m\u001b[1;33m,\u001b[0m\u001b[1;36m30\u001b[0m\u001b[1;33m,\u001b[0m\u001b[1;36m40\u001b[0m\u001b[1;33m,\u001b[0m\u001b[1;36m50\u001b[0m\u001b[1;33m]\u001b[0m\u001b[1;33m\u001b[0m\u001b[0m\n\u001b[1;32m----> 3\u001b[1;33m \u001b[0mlist\u001b[0m\u001b[1;33m(\u001b[0m\u001b[0mmap\u001b[0m\u001b[1;33m(\u001b[0m\u001b[1;32mlambda\u001b[0m \u001b[0mx\u001b[0m\u001b[1;33m:\u001b[0m \u001b[0mx\u001b[0m\u001b[1;33m+\u001b[0m\u001b[0my\u001b[0m\u001b[1;33m,\u001b[0m \u001b[0ma\u001b[0m\u001b[1;33m)\u001b[0m\u001b[1;33m)\u001b[0m\u001b[1;33m\u001b[0m\u001b[0m\n\u001b[0m",
      "\u001b[1;31mNameError\u001b[0m: name 'y' is not defined"
     ]
    }
   ],
   "source": [
    "a= [1,2,3,4,5]\n",
    "b=[10,20,30,40,50]\n",
    "list(map(lambda x: x+y, a))"
   ]
  },
  {
   "cell_type": "code",
   "execution_count": null,
   "metadata": {
    "id": "i4MrDnQyOTE6",
    "outputId": "11f479ef-49f5-4b93-a61e-575f563728da"
   },
   "outputs": [
    {
     "data": {
      "text/plain": [
       "(121, 144, 169, 196, 225)"
      ]
     },
     "execution_count": 103,
     "metadata": {
      "tags": []
     },
     "output_type": "execute_result"
    }
   ],
   "source": [
    "items = [11, 12, 13, 14, 15]\n",
    "squared = tuple(map(lambda x: x**2, items))\n",
    "squared"
   ]
  },
  {
   "cell_type": "code",
   "execution_count": null,
   "metadata": {
    "id": "h8JKnlPIOTE7",
    "outputId": "8eb57a79-9fb4-44a7-a453-2ed2093f7c6f"
   },
   "outputs": [
    {
     "data": {
      "text/plain": [
       "<function __main__.<lambda>(x)>"
      ]
     },
     "execution_count": 104,
     "metadata": {
      "tags": []
     },
     "output_type": "execute_result"
    }
   ],
   "source": [
    "lambda x:x*2"
   ]
  },
  {
   "cell_type": "code",
   "execution_count": null,
   "metadata": {
    "id": "vW7W3jaEOTE7",
    "outputId": "3ca3e735-5805-4f09-d8e2-493faa570ef2"
   },
   "outputs": [
    {
     "data": {
      "text/plain": [
       "list"
      ]
     },
     "execution_count": 105,
     "metadata": {
      "tags": []
     },
     "output_type": "execute_result"
    }
   ],
   "source": [
    "\n",
    "type([a**2 for a in items])"
   ]
  },
  {
   "cell_type": "code",
   "execution_count": 9,
   "metadata": {
    "id": "a-FWbh7YOTE8"
   },
   "outputs": [],
   "source": [
    "abc = [\"New\",\"highway\",\"compost\",\"composition\"]"
   ]
  },
  {
   "cell_type": "code",
   "execution_count": 19,
   "metadata": {},
   "outputs": [
    {
     "data": {
      "text/plain": [
       "[10, 11, 12, 13, 14, 15, 16, 17, 18, 19]"
      ]
     },
     "execution_count": 19,
     "metadata": {},
     "output_type": "execute_result"
    }
   ],
   "source": [
    "list(map(lambda x : x ,range(10,20)))"
   ]
  },
  {
   "cell_type": "code",
   "execution_count": 21,
   "metadata": {},
   "outputs": [
    {
     "data": {
      "text/plain": [
       "[1, 2, 2]"
      ]
     },
     "execution_count": 21,
     "metadata": {},
     "output_type": "execute_result"
    }
   ],
   "source": [
    "list(filter(lambda x : x ,[1,0,2,2,0,0,]))"
   ]
  },
  {
   "cell_type": "code",
   "execution_count": 11,
   "metadata": {
    "id": "YXi3Y0cZOTE8",
    "outputId": "2f4ebf63-c550-4ade-dc0d-2b38b6957b9e"
   },
   "outputs": [
    {
     "data": {
      "text/plain": [
       "[3]"
      ]
     },
     "execution_count": 11,
     "metadata": {},
     "output_type": "execute_result"
    }
   ],
   "source": [
    "[len(a) for a in abc if len(a) <6 ]"
   ]
  },
  {
   "cell_type": "code",
   "execution_count": 7,
   "metadata": {
    "id": "Z-Ev9y7YOTE8",
    "outputId": "2f6e420a-f585-4fa4-c137-8d96195020bb"
   },
   "outputs": [
    {
     "data": {
      "text/plain": [
       "[3, 7, 7, 11]"
      ]
     },
     "execution_count": 7,
     "metadata": {},
     "output_type": "execute_result"
    }
   ],
   "source": [
    "list(map(len,abc))"
   ]
  },
  {
   "cell_type": "code",
   "execution_count": null,
   "metadata": {
    "id": "DD6Jfk3pOTE9"
   },
   "outputs": [],
   "source": [
    "# Filter\n",
    "# filter creates a list of elements for which a function returns true"
   ]
  },
  {
   "cell_type": "code",
   "execution_count": 2,
   "metadata": {
    "id": "8ddtSpi3OTE9"
   },
   "outputs": [],
   "source": [
    "number_list = range(-5, 5)"
   ]
  },
  {
   "cell_type": "code",
   "execution_count": 3,
   "metadata": {
    "id": "ICfhhEoaOTE-",
    "outputId": "ec62d42b-71f2-4e82-8229-15db3e0d5f81"
   },
   "outputs": [
    {
     "data": {
      "text/plain": [
       "[-5, -4, -3, -2, -1, 0, 1, 2, 3, 4]"
      ]
     },
     "execution_count": 3,
     "metadata": {},
     "output_type": "execute_result"
    }
   ],
   "source": [
    "list(number_list)"
   ]
  },
  {
   "cell_type": "code",
   "execution_count": 13,
   "metadata": {
    "id": "02LEVOuCOTE-",
    "outputId": "3e766d6c-5811-4da9-cc73-8542ee540969"
   },
   "outputs": [
    {
     "name": "stdout",
     "output_type": "stream",
     "text": [
      "[True, True, True, True, True, False, False, False, False, False]\n"
     ]
    }
   ],
   "source": [
    "print(list(map(lambda x: x< 0, number_list)))"
   ]
  },
  {
   "cell_type": "code",
   "execution_count": null,
   "metadata": {
    "id": "AkmA9Lo_OTE-",
    "outputId": "1bca9089-3151-48a5-feba-88e233f47504"
   },
   "outputs": [
    {
     "name": "stdout",
     "output_type": "stream",
     "text": [
      "[-5, -4, -3, -2, -1]\n"
     ]
    }
   ],
   "source": [
    "less_than_zero = list(filter(lambda x: x < 0, number_list))\n",
    "print(less_than_zero)"
   ]
  },
  {
   "cell_type": "code",
   "execution_count": null,
   "metadata": {},
   "outputs": [],
   "source": []
  },
  {
   "cell_type": "code",
   "execution_count": null,
   "metadata": {
    "id": "oiJ9i_TsOTE_"
   },
   "outputs": [],
   "source": [
    "# Reduce\n",
    "\n",
    "# Reduce is a really useful function for performing some computation on \n",
    "# a list and returning the result. It applies a rolling computation to \n",
    "# sequential pairs of values in a list."
   ]
  },
  {
   "cell_type": "code",
   "execution_count": null,
   "metadata": {
    "id": "dPpLZt5gOTE_",
    "outputId": "c68550b1-b868-4f59-935a-93e27483fae7"
   },
   "outputs": [
    {
     "name": "stdout",
     "output_type": "stream",
     "text": [
      "1\n",
      "2\n",
      "3\n",
      "4\n",
      "24\n"
     ]
    }
   ],
   "source": [
    "product = 1\n",
    "list1 = [1, 2, 3, 4]\n",
    "for num in list1:\n",
    "    print(num)\n",
    "    product = product * num\n",
    "print(product)"
   ]
  },
  {
   "cell_type": "code",
   "execution_count": 61,
   "metadata": {
    "id": "uTaZJyFcOTE_"
   },
   "outputs": [],
   "source": [
    "import functools \n",
    "#from functools import "
   ]
  },
  {
   "cell_type": "code",
   "execution_count": 12,
   "metadata": {
    "id": "UInnzna0OTE_",
    "outputId": "2efc4e2c-725f-477a-e78f-e8f95aa5f052"
   },
   "outputs": [
    {
     "data": {
      "text/plain": [
       "<function __main__.<lambda>(x, y)>"
      ]
     },
     "execution_count": 12,
     "metadata": {},
     "output_type": "execute_result"
    }
   ],
   "source": [
    "(lambda x, y: x+y)"
   ]
  },
  {
   "cell_type": "code",
   "execution_count": 38,
   "metadata": {
    "id": "-6-Ga4puOTE_",
    "outputId": "e821548f-b92f-4167-e375-99c58b78f4e2"
   },
   "outputs": [
    {
     "data": {
      "text/plain": [
       "15"
      ]
     },
     "execution_count": 38,
     "metadata": {},
     "output_type": "execute_result"
    }
   ],
   "source": [
    "from functools import reduce\n",
    "summation = reduce((lambda x, y: x+y), [1, 2, 3, 4,5])\n",
    "summation"
   ]
  },
  {
   "cell_type": "code",
   "execution_count": 39,
   "metadata": {},
   "outputs": [
    {
     "data": {
      "text/plain": [
       "120"
      ]
     },
     "execution_count": 39,
     "metadata": {},
     "output_type": "execute_result"
    }
   ],
   "source": [
    "mul = reduce((lambda x, y: x*y), [1, 2, 3, 4,5])\n",
    "mul"
   ]
  },
  {
   "cell_type": "code",
   "execution_count": 70,
   "metadata": {},
   "outputs": [],
   "source": [
    "def sub(list1):\n",
    "    tot = 0\n",
    "    for i in list1:\n",
    "        tot=tot-i\n",
    "        print(tot)\n",
    "    return tot"
   ]
  },
  {
   "cell_type": "code",
   "execution_count": 71,
   "metadata": {
    "scrolled": true
   },
   "outputs": [
    {
     "name": "stdout",
     "output_type": "stream",
     "text": [
      "-1\n",
      "-3\n",
      "-6\n",
      "-10\n",
      "-15\n"
     ]
    },
    {
     "data": {
      "text/plain": [
       "-15"
      ]
     },
     "execution_count": 71,
     "metadata": {},
     "output_type": "execute_result"
    }
   ],
   "source": [
    "sub([1,2,3,4,5])"
   ]
  },
  {
   "cell_type": "code",
   "execution_count": null,
   "metadata": {
    "id": "Y64frcbcOTE_",
    "outputId": "bcbfebdb-6211-47c4-974d-041fd52a60a3"
   },
   "outputs": [
    {
     "ename": "TypeError",
     "evalue": "'int' object is not iterable",
     "output_type": "error",
     "traceback": [
      "\u001b[1;31m---------------------------------------------------------------------------\u001b[0m",
      "\u001b[1;31mTypeError\u001b[0m                                 Traceback (most recent call last)",
      "\u001b[1;32m<ipython-input-10-f58c70c36402>\u001b[0m in \u001b[0;36m<module>\u001b[1;34m\u001b[0m\n\u001b[1;32m----> 1\u001b[1;33m \u001b[0mlist\u001b[0m\u001b[1;33m(\u001b[0m\u001b[0msummation\u001b[0m\u001b[1;33m)\u001b[0m\u001b[1;33m\u001b[0m\u001b[1;33m\u001b[0m\u001b[0m\n\u001b[0m",
      "\u001b[1;31mTypeError\u001b[0m: 'int' object is not iterable"
     ]
    }
   ],
   "source": [
    "list(summation)"
   ]
  },
  {
   "cell_type": "code",
   "execution_count": 2,
   "metadata": {
    "id": "VINThFneOTFA"
   },
   "outputs": [],
   "source": [
    "from functools import reduce\n",
    "\n",
    "my_list = [1,2,3,4,5,6,7,8,9,10]"
   ]
  },
  {
   "cell_type": "code",
   "execution_count": 4,
   "metadata": {
    "id": "Wg1jXEubOTFA",
    "outputId": "23985827-9b16-472d-cb25-42742f692352"
   },
   "outputs": [
    {
     "data": {
      "text/plain": [
       "[False, False, False, False, False, True, True, True, True, True]"
      ]
     },
     "execution_count": 4,
     "metadata": {},
     "output_type": "execute_result"
    }
   ],
   "source": [
    "list(map(lambda x: x*2>10, my_list))"
   ]
  },
  {
   "cell_type": "code",
   "execution_count": 6,
   "metadata": {},
   "outputs": [
    {
     "data": {
      "text/plain": [
       "[6, 7, 8, 9, 10]"
      ]
     },
     "execution_count": 6,
     "metadata": {},
     "output_type": "execute_result"
    }
   ],
   "source": [
    "list(filter(lambda x: (x*2 > 10), my_list))"
   ]
  },
  {
   "cell_type": "code",
   "execution_count": 9,
   "metadata": {},
   "outputs": [
    {
     "data": {
      "text/plain": [
       "3345679000"
      ]
     },
     "execution_count": 9,
     "metadata": {},
     "output_type": "execute_result"
    }
   ],
   "source": [
    "reduce(lambda x, y : (x+y)*10, my_list)"
   ]
  },
  {
   "cell_type": "code",
   "execution_count": null,
   "metadata": {},
   "outputs": [],
   "source": []
  },
  {
   "cell_type": "code",
   "execution_count": null,
   "metadata": {
    "id": "jG9fU2o9OTFA",
    "outputId": "425d603f-eeac-43ba-9c72-07f3e55e7a1d"
   },
   "outputs": [
    {
     "name": "stdout",
     "output_type": "stream",
     "text": [
      "[6, 7, 8, 9, 10]\n",
      "[2, 4, 6, 8, 10, 12, 14, 16, 18, 20]\n",
      "55\n"
     ]
    }
   ],
   "source": [
    "# Use lambda function with `filter()`\n",
    "filtered_list = list(filter(lambda x: (x*2 > 10), my_list))\n",
    "\n",
    "# Use lambda function with `map()`\n",
    "mapped_list = list(map(lambda x: x*2 , my_list))\n",
    "\n",
    "# Use lambda function with `reduce()`\n",
    "reduced_list = reduce(lambda x, y: x+y, my_list)\n",
    "\n",
    "print(filtered_list)\n",
    "print(mapped_list)\n",
    "print(reduced_list)"
   ]
  },
  {
   "cell_type": "code",
   "execution_count": null,
   "metadata": {
    "collapsed": true,
    "id": "tsHd1I1fOTFB"
   },
   "outputs": [],
   "source": [
    "# Using main() as a Function"
   ]
  },
  {
   "cell_type": "code",
   "execution_count": null,
   "metadata": {
    "collapsed": true,
    "id": "UaONH05VOTFB"
   },
   "outputs": [],
   "source": [
    "# In Java, a main function is required in order to execute functions. \n",
    "# this is not necessarily needed for Python. \n",
    "# However, including a main() function in your Python \n",
    "# program can be handy to structure your code in a logical way - all of \n",
    "# the most important components are contained within this main() function.\n"
   ]
  },
  {
   "cell_type": "code",
   "execution_count": null,
   "metadata": {
    "id": "v7E3cEdoOTFB",
    "outputId": "40a4c236-2b84-4893-ab54-8fbd7e8e62dd"
   },
   "outputs": [
    {
     "name": "stdout",
     "output_type": "stream",
     "text": [
      "This is a main function\n"
     ]
    }
   ],
   "source": [
    "# Define `main()` function\n",
    "def main():\n",
    "    print(\"This is a main function\")\n",
    "\n",
    "main()"
   ]
  },
  {
   "cell_type": "code",
   "execution_count": null,
   "metadata": {
    "id": "99QuGhfoOTFB",
    "outputId": "7f2349a9-9662-4bb8-fbef-53ebe5933dfb"
   },
   "outputs": [
    {
     "name": "stdout",
     "output_type": "stream",
     "text": [
      "<class 'int'>\n"
     ]
    }
   ],
   "source": [
    "a=10\n",
    "print(type(a))"
   ]
  },
  {
   "cell_type": "code",
   "execution_count": 85,
   "metadata": {},
   "outputs": [],
   "source": [
    "v1, marks=\"Suresh\", 78"
   ]
  },
  {
   "cell_type": "code",
   "execution_count": 88,
   "metadata": {
    "id": "BruSfbGKOTFC"
   },
   "outputs": [
    {
     "data": {
      "text/plain": [
       "'How are you {v1}? you scored {marks}'"
      ]
     },
     "execution_count": 88,
     "metadata": {},
     "output_type": "execute_result"
    }
   ],
   "source": [
    "f\"How are you {v1}? you scored {marks}\""
   ]
  },
  {
   "cell_type": "code",
   "execution_count": 10,
   "metadata": {},
   "outputs": [
    {
     "data": {
      "text/plain": [
       "'How are you Suresh'"
      ]
     },
     "execution_count": 10,
     "metadata": {},
     "output_type": "execute_result"
    }
   ],
   "source": [
    "'How are you '+v1"
   ]
  },
  {
   "cell_type": "code",
   "execution_count": 43,
   "metadata": {},
   "outputs": [],
   "source": [
    "def abcd(a,b,c,d=80):\n",
    "    if a> d:\n",
    "        raise Exception(\"marks should not be greater than out of marks\")\n",
    "    return ((a+b+c)/(d*3))*100"
   ]
  },
  {
   "cell_type": "code",
   "execution_count": 44,
   "metadata": {},
   "outputs": [
    {
     "data": {
      "text/plain": [
       "78.33333333333333"
      ]
     },
     "execution_count": 44,
     "metadata": {},
     "output_type": "execute_result"
    }
   ],
   "source": [
    "abcd(60,58,70)"
   ]
  },
  {
   "cell_type": "code",
   "execution_count": 47,
   "metadata": {},
   "outputs": [],
   "source": [
    "def input_marks():\n",
    "    sci = float(input(\"enter SCI marks\"))\n",
    "    math = float(input(\"Enter maths marks\"))\n",
    "    his = float(input(\"Enter histoty marks\"))\n",
    "    \n",
    "    per = abcd(sci,math,his)\n",
    "    return per"
   ]
  },
  {
   "cell_type": "code",
   "execution_count": 48,
   "metadata": {},
   "outputs": [
    {
     "name": "stdout",
     "output_type": "stream",
     "text": [
      "enter SCI marks67\n",
      "Enter maths marks89\n",
      "Enter histoty marks78\n"
     ]
    },
    {
     "data": {
      "text/plain": [
       "97.5"
      ]
     },
     "execution_count": 48,
     "metadata": {},
     "output_type": "execute_result"
    }
   ],
   "source": [
    "input_marks()"
   ]
  },
  {
   "cell_type": "code",
   "execution_count": 7,
   "metadata": {},
   "outputs": [],
   "source": [
    "a1=20"
   ]
  },
  {
   "cell_type": "code",
   "execution_count": 8,
   "metadata": {},
   "outputs": [
    {
     "data": {
      "text/plain": [
       "' hello  abc 20'"
      ]
     },
     "execution_count": 8,
     "metadata": {},
     "output_type": "execute_result"
    }
   ],
   "source": [
    "f\" hello  abc {a1}\""
   ]
  },
  {
   "cell_type": "code",
   "execution_count": 9,
   "metadata": {},
   "outputs": [
    {
     "data": {
      "text/plain": [
       "' hello  abc 20'"
      ]
     },
     "execution_count": 9,
     "metadata": {},
     "output_type": "execute_result"
    }
   ],
   "source": [
    "\" hello  abc {}\".format(a1)"
   ]
  },
  {
   "cell_type": "code",
   "execution_count": 2,
   "metadata": {
    "id": "G0cU_b2-OTFC"
   },
   "outputs": [],
   "source": [
    "def abc(a1):\n",
    "    print(\"inside ABC\", a1)\n",
    "    return f\" hello  abc {a1}\"\n",
    "\n",
    "def pqr(a2):\n",
    "    print(\"inside PQR\", a2)\n",
    "    return f\"pqr with new syntax {a2}\"\n",
    "\n",
    "def calling(a4):\n",
    "    print(\"calling the inside function\")\n",
    "    var1=40\n",
    "    return a4(var1)\n"
   ]
  },
  {
   "cell_type": "code",
   "execution_count": 3,
   "metadata": {
    "id": "eexrAwttOTFC",
    "outputId": "d416c952-60b1-4a9e-8d4b-ba434dd364e5"
   },
   "outputs": [
    {
     "name": "stdout",
     "output_type": "stream",
     "text": [
      "inside ABC 70\n"
     ]
    },
    {
     "data": {
      "text/plain": [
       "' hello  abc 70'"
      ]
     },
     "execution_count": 3,
     "metadata": {},
     "output_type": "execute_result"
    }
   ],
   "source": [
    "abc(70)"
   ]
  },
  {
   "cell_type": "code",
   "execution_count": 4,
   "metadata": {},
   "outputs": [
    {
     "name": "stdout",
     "output_type": "stream",
     "text": [
      "inside PQR 50\n"
     ]
    },
    {
     "data": {
      "text/plain": [
       "'pqr with new syntax 50'"
      ]
     },
     "execution_count": 4,
     "metadata": {},
     "output_type": "execute_result"
    }
   ],
   "source": [
    "pqr(50)"
   ]
  },
  {
   "cell_type": "code",
   "execution_count": 5,
   "metadata": {},
   "outputs": [
    {
     "name": "stdout",
     "output_type": "stream",
     "text": [
      "calling the inside function\n",
      "inside ABC 40\n"
     ]
    }
   ],
   "source": [
    "val = calling(abc)"
   ]
  },
  {
   "cell_type": "code",
   "execution_count": 10,
   "metadata": {},
   "outputs": [
    {
     "data": {
      "text/plain": [
       "str"
      ]
     },
     "execution_count": 10,
     "metadata": {},
     "output_type": "execute_result"
    }
   ],
   "source": [
    "type(val)"
   ]
  },
  {
   "cell_type": "code",
   "execution_count": 90,
   "metadata": {
    "id": "4FQzMhlzOTFD",
    "outputId": "b99b6cbb-6ff2-4fba-c2eb-ec8c5760f954"
   },
   "outputs": [
    {
     "name": "stdout",
     "output_type": "stream",
     "text": [
      "calling the inside function\n",
      "inside ABC 40\n",
      " hello  abc 40\n"
     ]
    }
   ],
   "source": [
    "print(calling(abc))"
   ]
  },
  {
   "cell_type": "code",
   "execution_count": 8,
   "metadata": {},
   "outputs": [
    {
     "data": {
      "text/plain": [
       "' hello  abc 40'"
      ]
     },
     "execution_count": 8,
     "metadata": {},
     "output_type": "execute_result"
    }
   ],
   "source": [
    "val"
   ]
  },
  {
   "cell_type": "code",
   "execution_count": null,
   "metadata": {
    "id": "mP0ux5p_OTFD",
    "outputId": "641b07c1-c1b9-43e0-fd05-a4450c3a5b30"
   },
   "outputs": [
    {
     "name": "stdout",
     "output_type": "stream",
     "text": [
      "calling the inside function\n",
      "inside ABC 10\n"
     ]
    }
   ],
   "source": [
    "abc_run=calling(abc)\n"
   ]
  },
  {
   "cell_type": "code",
   "execution_count": null,
   "metadata": {
    "id": "RlNfgWdhOTFD",
    "outputId": "ca8760c2-14b6-4ca8-8f63-a882a7b3b739"
   },
   "outputs": [
    {
     "data": {
      "text/plain": [
       "' hello  abc 10'"
      ]
     },
     "execution_count": 22,
     "metadata": {
      "tags": []
     },
     "output_type": "execute_result"
    }
   ],
   "source": [
    "abc_run"
   ]
  },
  {
   "cell_type": "code",
   "execution_count": null,
   "metadata": {
    "id": "8j5tROVhOTFE",
    "outputId": "784c8786-2b27-42fa-8aea-7ac9ff2e4473"
   },
   "outputs": [
    {
     "name": "stdout",
     "output_type": "stream",
     "text": [
      "inside ABC ONLY ABC\n"
     ]
    },
    {
     "data": {
      "text/plain": [
       "' hello  abc ONLY ABC'"
      ]
     },
     "execution_count": 30,
     "metadata": {
      "tags": []
     },
     "output_type": "execute_result"
    }
   ],
   "source": [
    "abc(\"ONLY ABC\")"
   ]
  },
  {
   "cell_type": "code",
   "execution_count": null,
   "metadata": {
    "id": "yj6HF2KVOTFE",
    "outputId": "167d2bd8-926d-4889-cf23-52519096e05d"
   },
   "outputs": [
    {
     "name": "stdout",
     "output_type": "stream",
     "text": [
      "<class 'function'>\n"
     ]
    }
   ],
   "source": [
    "print(type(abc))"
   ]
  },
  {
   "cell_type": "code",
   "execution_count": 20,
   "metadata": {
    "id": "Yg3Z4LvqOTFE",
    "outputId": "310e27ab-7c7c-4dbf-dd82-6259bd6c492f"
   },
   "outputs": [
    {
     "name": "stdout",
     "output_type": "stream",
     "text": [
      "calling the inside function\n",
      "inside PQR 10\n",
      "pqr with new syntax 10\n"
     ]
    }
   ],
   "source": [
    "print(calling(pqr))"
   ]
  },
  {
   "cell_type": "code",
   "execution_count": null,
   "metadata": {
    "id": "pEAqeLWlOTFF",
    "outputId": "ac88134f-b48e-4159-ecd5-50b0660ea496"
   },
   "outputs": [
    {
     "data": {
      "text/plain": [
       "' hello  abc 10'"
      ]
     },
     "execution_count": 13,
     "metadata": {
      "tags": []
     },
     "output_type": "execute_result"
    }
   ],
   "source": [
    "abc(\"10\")"
   ]
  },
  {
   "cell_type": "code",
   "execution_count": null,
   "metadata": {
    "id": "ixEyzOq2OTFF"
   },
   "outputs": [],
   "source": [
    "def calling1(a):\n",
    "    #print(\"calling the inside function\")\n",
    "    return a()\n"
   ]
  },
  {
   "cell_type": "code",
   "execution_count": 11,
   "metadata": {
    "id": "4WmobPvKOTFG"
   },
   "outputs": [],
   "source": [
    "def super_fun(n):\n",
    "    def sub_fun1():\n",
    "        return \"inside 1\"\n",
    "    def sub_fun2():\n",
    "        return \"inside 2\"\n",
    "    \n",
    "    if n==1:\n",
    "        return sub_fun1\n",
    "    else: return sub_fun2"
   ]
  },
  {
   "cell_type": "code",
   "execution_count": 13,
   "metadata": {
    "id": "BoQLfW-zOTFG",
    "outputId": "6ebdc4aa-9414-4c2a-d45b-cb964b47ba2d"
   },
   "outputs": [
    {
     "data": {
      "text/plain": [
       "<function __main__.super_fun.<locals>.sub_fun1()>"
      ]
     },
     "execution_count": 13,
     "metadata": {},
     "output_type": "execute_result"
    }
   ],
   "source": [
    "super_fun(1)"
   ]
  },
  {
   "cell_type": "code",
   "execution_count": 4,
   "metadata": {
    "id": "zDakrqZCOTFG",
    "outputId": "d1fbcb31-8ca2-46fe-e797-e7f6668b3450"
   },
   "outputs": [
    {
     "name": "stdout",
     "output_type": "stream",
     "text": [
      "<class 'function'>\n",
      "inside 1 <function super_fun.<locals>.sub_fun1 at 0x000001CE328EFB80>\n",
      "  #####  \n",
      "inside 2 <function super_fun.<locals>.sub_fun2 at 0x000001CE328EFCA0>\n"
     ]
    }
   ],
   "source": [
    "x=super_fun(1)\n",
    "y=super_fun(4)\n",
    "print(type(x))\n",
    "print(x(), x)\n",
    "print (\"  #####  \")\n",
    "print(y(), y)\n"
   ]
  },
  {
   "cell_type": "code",
   "execution_count": null,
   "metadata": {
    "id": "wuxr3WbvOTFH",
    "outputId": "8460c0bb-56a1-4539-fa26-f7c68b3ee5e9"
   },
   "outputs": [
    {
     "name": "stdout",
     "output_type": "stream",
     "text": [
      "<function super_fun.<locals>.sub_fun1 at 0x000001996718E840>\n",
      "<function super_fun.<locals>.sub_fun2 at 0x000001996718E7B8>\n"
     ]
    }
   ],
   "source": [
    "print(x)\n",
    "print(y)"
   ]
  },
  {
   "cell_type": "code",
   "execution_count": 20,
   "metadata": {},
   "outputs": [],
   "source": [
    "def display(y ,x = 0, **name):\n",
    "    #print (name[\"fname\"]+\" \"+name[\"mname\"]+\" \"+name[\"lname\"])\n",
    "    print (\"x =\", x)\n",
    "    print (\"y =\", y)\n",
    "    print(name)"
   ]
  },
  {
   "cell_type": "code",
   "execution_count": 21,
   "metadata": {},
   "outputs": [
    {
     "name": "stdout",
     "output_type": "stream",
     "text": [
      "x = 0\n",
      "y = 2\n",
      "{'one': 10, 'two': 200}\n"
     ]
    }
   ],
   "source": [
    "display(2, one =10, two=200)"
   ]
  },
  {
   "cell_type": "code",
   "execution_count": 13,
   "metadata": {},
   "outputs": [
    {
     "name": "stdout",
     "output_type": "stream",
     "text": [
      "x = 2\n",
      "y = 0\n",
      "{'fname': 'John', 'mname': 'F.', 'lname': 'Kennedy', 'class_1': 'XI'}\n"
     ]
    }
   ],
   "source": [
    "display(2, fname =\"John\", mname =\"F.\", lname =\"Kennedy\", class_1 = \"XI\")\n",
    "#display(2, (\"Rina\", \"B.\",\"Gennifer\"))\n",
    "#display(2, {fname:\"Rina\", mname:\"B.\",lname:\"Gennifer\"})\n",
    "#display(2, [\"Rina\", \"B.\",\"Gennifer\"])\n",
    "    "
   ]
  },
  {
   "cell_type": "code",
   "execution_count": 14,
   "metadata": {},
   "outputs": [],
   "source": [
    "def details(x, **info):\n",
    "    print(x)\n",
    "    print(info)"
   ]
  },
  {
   "cell_type": "code",
   "execution_count": 16,
   "metadata": {},
   "outputs": [
    {
     "name": "stdout",
     "output_type": "stream",
     "text": [
      "100\n",
      "{'p_class': 10, 'stream': 'science', 'p_org': 'ABG'}\n"
     ]
    }
   ],
   "source": [
    "details(100, p_class = 10, stream = \"science\", p_org = \"ABG\")"
   ]
  },
  {
   "cell_type": "code",
   "execution_count": 18,
   "metadata": {},
   "outputs": [
    {
     "name": "stdout",
     "output_type": "stream",
     "text": [
      "100\n",
      "{'a': 10}\n"
     ]
    }
   ],
   "source": [
    "details(100, a=10)"
   ]
  },
  {
   "cell_type": "code",
   "execution_count": 22,
   "metadata": {},
   "outputs": [
    {
     "name": "stdout",
     "output_type": "stream",
     "text": [
      "John F. Kennedy\n",
      "x = 2\n",
      "y = 0\n"
     ]
    },
    {
     "ename": "NameError",
     "evalue": "name 'fname' is not defined",
     "output_type": "error",
     "traceback": [
      "\u001b[1;31m---------------------------------------------------------------------------\u001b[0m",
      "\u001b[1;31mNameError\u001b[0m                                 Traceback (most recent call last)",
      "\u001b[1;32m<ipython-input-22-263240bbee7e>\u001b[0m in \u001b[0;36m<module>\u001b[1;34m\u001b[0m\n\u001b[1;32m----> 1\u001b[1;33m \u001b[0mmain\u001b[0m\u001b[1;33m(\u001b[0m\u001b[1;33m)\u001b[0m\u001b[1;33m\u001b[0m\u001b[1;33m\u001b[0m\u001b[0m\n\u001b[0m",
      "\u001b[1;32m<ipython-input-21-3fc5deea3fca>\u001b[0m in \u001b[0;36mmain\u001b[1;34m()\u001b[0m\n\u001b[0;32m      3\u001b[0m     \u001b[1;31m# pair with other arguments\u001b[0m\u001b[1;33m\u001b[0m\u001b[1;33m\u001b[0m\u001b[1;33m\u001b[0m\u001b[0m\n\u001b[0;32m      4\u001b[0m     \u001b[0mdisplay\u001b[0m\u001b[1;33m(\u001b[0m\u001b[1;36m2\u001b[0m\u001b[1;33m,\u001b[0m \u001b[0mfname\u001b[0m \u001b[1;33m=\u001b[0m\u001b[1;34m\"John\"\u001b[0m\u001b[1;33m,\u001b[0m \u001b[0mmname\u001b[0m \u001b[1;33m=\u001b[0m\u001b[1;34m\"F.\"\u001b[0m\u001b[1;33m,\u001b[0m \u001b[0mlname\u001b[0m \u001b[1;33m=\u001b[0m\u001b[1;34m\"Kennedy\"\u001b[0m\u001b[1;33m)\u001b[0m\u001b[1;33m\u001b[0m\u001b[1;33m\u001b[0m\u001b[0m\n\u001b[1;32m----> 5\u001b[1;33m     \u001b[0mdisplay\u001b[0m\u001b[1;33m(\u001b[0m\u001b[1;36m2\u001b[0m\u001b[1;33m,\u001b[0m \u001b[1;33m{\u001b[0m\u001b[0mfname\u001b[0m\u001b[1;33m:\u001b[0m\u001b[1;34m\"Rina\"\u001b[0m\u001b[1;33m,\u001b[0m \u001b[0mmname\u001b[0m\u001b[1;33m:\u001b[0m\u001b[1;34m\"B.\"\u001b[0m\u001b[1;33m,\u001b[0m\u001b[0mlname\u001b[0m\u001b[1;33m:\u001b[0m\u001b[1;34m\"Gennifer\"\u001b[0m\u001b[1;33m}\u001b[0m\u001b[1;33m)\u001b[0m\u001b[1;33m\u001b[0m\u001b[1;33m\u001b[0m\u001b[0m\n\u001b[0m\u001b[0;32m      6\u001b[0m     \u001b[0mdisplay\u001b[0m\u001b[1;33m(\u001b[0m\u001b[1;36m2\u001b[0m\u001b[1;33m,\u001b[0m \u001b[1;33m[\u001b[0m\u001b[1;34m\"Rina\"\u001b[0m\u001b[1;33m,\u001b[0m \u001b[1;34m\"B.\"\u001b[0m\u001b[1;33m,\u001b[0m\u001b[1;34m\"Gennifer\"\u001b[0m\u001b[1;33m]\u001b[0m\u001b[1;33m)\u001b[0m\u001b[1;33m\u001b[0m\u001b[1;33m\u001b[0m\u001b[0m\n\u001b[0;32m      7\u001b[0m \u001b[1;33m\u001b[0m\u001b[0m\n",
      "\u001b[1;31mNameError\u001b[0m: name 'fname' is not defined"
     ]
    }
   ],
   "source": [
    "main()"
   ]
  },
  {
   "cell_type": "code",
   "execution_count": 24,
   "metadata": {},
   "outputs": [],
   "source": [
    "def accpt_dict(**a):\n",
    "    print(a)"
   ]
  },
  {
   "cell_type": "code",
   "execution_count": 25,
   "metadata": {},
   "outputs": [
    {
     "name": "stdout",
     "output_type": "stream",
     "text": [
      "{'a': 100, 'b': 200, 'c': 400}\n"
     ]
    }
   ],
   "source": [
    "accpt_dict(a=100,b=200,c=400)"
   ]
  },
  {
   "cell_type": "code",
   "execution_count": 6,
   "metadata": {},
   "outputs": [
    {
     "ename": "SyntaxError",
     "evalue": "invalid syntax (<ipython-input-6-7494012b9c06>, line 1)",
     "output_type": "error",
     "traceback": [
      "\u001b[1;36m  File \u001b[1;32m\"<ipython-input-6-7494012b9c06>\"\u001b[1;36m, line \u001b[1;32m1\u001b[0m\n\u001b[1;33m    w= lambda x: (for i in x : (print i))\u001b[0m\n\u001b[1;37m                  ^\u001b[0m\n\u001b[1;31mSyntaxError\u001b[0m\u001b[1;31m:\u001b[0m invalid syntax\n"
     ]
    }
   ],
   "source": [
    "w= lambda x: (for i in x : (print i))"
   ]
  },
  {
   "cell_type": "code",
   "execution_count": 7,
   "metadata": {},
   "outputs": [],
   "source": [
    "listOfLambdas = [lambda i=i: i*i for i in range(1, 6)]"
   ]
  },
  {
   "cell_type": "code",
   "execution_count": 11,
   "metadata": {},
   "outputs": [
    {
     "name": "stdout",
     "output_type": "stream",
     "text": [
      "1\n",
      "4\n",
      "9\n",
      "16\n",
      "25\n"
     ]
    }
   ],
   "source": [
    "listOfLambdas\n",
    "for f in listOfLambdas:\n",
    "    print(f())"
   ]
  },
  {
   "cell_type": "code",
   "execution_count": 9,
   "metadata": {},
   "outputs": [
    {
     "ename": "SyntaxError",
     "evalue": "invalid syntax (<ipython-input-9-4343ded61e61>, line 2)",
     "output_type": "error",
     "traceback": [
      "\u001b[1;36m  File \u001b[1;32m\"<ipython-input-9-4343ded61e61>\"\u001b[1;36m, line \u001b[1;32m2\u001b[0m\n\u001b[1;33m    print f()\u001b[0m\n\u001b[1;37m          ^\u001b[0m\n\u001b[1;31mSyntaxError\u001b[0m\u001b[1;31m:\u001b[0m invalid syntax\n"
     ]
    }
   ],
   "source": []
  }
 ],
 "metadata": {
  "colab": {
   "name": "02-functions.ipynb",
   "provenance": []
  },
  "kernelspec": {
   "display_name": "Python 3",
   "language": "python",
   "name": "python3"
  },
  "language_info": {
   "codemirror_mode": {
    "name": "ipython",
    "version": 3
   },
   "file_extension": ".py",
   "mimetype": "text/x-python",
   "name": "python",
   "nbconvert_exporter": "python",
   "pygments_lexer": "ipython3",
   "version": "3.8.5"
  }
 },
 "nbformat": 4,
 "nbformat_minor": 1
}

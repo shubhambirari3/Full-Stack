{
 "cells": [
  {
   "cell_type": "code",
   "execution_count": 1,
   "metadata": {},
   "outputs": [
    {
     "ename": "ValueError",
     "evalue": "invalid literal for int() with base 10: '12-1200'",
     "output_type": "error",
     "traceback": [
      "\u001b[1;31m---------------------------------------------------------------------------\u001b[0m",
      "\u001b[1;31mValueError\u001b[0m                                Traceback (most recent call last)",
      "\u001b[1;32m<ipython-input-1-9e4d8d03991a>\u001b[0m in \u001b[0;36m<module>\u001b[1;34m\u001b[0m\n\u001b[0;32m      1\u001b[0m \u001b[0mdt\u001b[0m \u001b[1;33m=\u001b[0m \u001b[1;34m\"12-1200\"\u001b[0m\u001b[1;33m\u001b[0m\u001b[1;33m\u001b[0m\u001b[0m\n\u001b[1;32m----> 2\u001b[1;33m \u001b[0mint\u001b[0m\u001b[1;33m(\u001b[0m\u001b[0mdt\u001b[0m\u001b[1;33m)\u001b[0m\u001b[1;33m\u001b[0m\u001b[1;33m\u001b[0m\u001b[0m\n\u001b[0m",
      "\u001b[1;31mValueError\u001b[0m: invalid literal for int() with base 10: '12-1200'"
     ]
    }
   ],
   "source": [
    "dt = \"12-1200\"\n",
    "int(dt)"
   ]
  },
  {
   "cell_type": "code",
   "execution_count": 2,
   "metadata": {
    "executionInfo": {
     "elapsed": 887,
     "status": "ok",
     "timestamp": 1614662530606,
     "user": {
      "displayName": "amrita helwade",
      "photoUrl": "",
      "userId": "10957998030476280589"
     },
     "user_tz": -330
    },
    "id": "qDHEk3GXYl85"
   },
   "outputs": [],
   "source": [
    "import sys\n",
    "import platform\n",
    "import operator\n",
    "from math import *\n",
    "import string"
   ]
  },
  {
   "cell_type": "code",
   "execution_count": null,
   "metadata": {
    "id": "jQOGjJFJYl9E"
   },
   "outputs": [],
   "source": [
    "# An exception is an error that happens during execution of a program. \n",
    "# When that error occurs, Python generate an exception that can be handled, \n",
    "# which avoids your program to crash."
   ]
  },
  {
   "cell_type": "code",
   "execution_count": null,
   "metadata": {
    "id": "mI7PZz1UYl9E"
   },
   "outputs": [],
   "source": [
    "# Exception Errors\n",
    "\n",
    "# IOError\n",
    "# If the file cannot be opened.\n",
    "\n",
    "# ImportError\n",
    "# If python cannot find the module\n",
    "\n",
    "# ValueError\n",
    "# Raised when a built-in operation or function receives an argument that \n",
    "# has the right type but an inappropriate value\n",
    "\n",
    "# KeyboardInterrupt\n",
    "# Raised when the user hits the interrupt key (normally Control-C or Delete)\n",
    "\n",
    "# EOFError\n",
    "# Raised when one of the built-in functions (input() or raw_input()) hits \n",
    "# an end-of-file condition (EOF) without reading any data"
   ]
  },
  {
   "cell_type": "code",
   "execution_count": 2,
   "metadata": {
    "id": "2tnzOiJ-Yl9F",
    "outputId": "f2481ed8-58fe-43d0-f897-2c0112fb27ae"
   },
   "outputs": [
    {
     "data": {
      "text/plain": [
       "10"
      ]
     },
     "execution_count": 2,
     "metadata": {},
     "output_type": "execute_result"
    }
   ],
   "source": [
    "x=10\n",
    "x"
   ]
  },
  {
   "cell_type": "code",
   "execution_count": 1,
   "metadata": {},
   "outputs": [
    {
     "ename": "NameError",
     "evalue": "name 'y' is not defined",
     "output_type": "error",
     "traceback": [
      "\u001b[1;31m---------------------------------------------------------------------------\u001b[0m",
      "\u001b[1;31mNameError\u001b[0m                                 Traceback (most recent call last)",
      "\u001b[1;32m<ipython-input-1-9063a9f0e032>\u001b[0m in \u001b[0;36m<module>\u001b[1;34m\u001b[0m\n\u001b[1;32m----> 1\u001b[1;33m \u001b[0my\u001b[0m\u001b[1;33m\u001b[0m\u001b[1;33m\u001b[0m\u001b[0m\n\u001b[0m",
      "\u001b[1;31mNameError\u001b[0m: name 'y' is not defined"
     ]
    }
   ],
   "source": [
    "y"
   ]
  },
  {
   "cell_type": "code",
   "execution_count": 4,
   "metadata": {},
   "outputs": [
    {
     "name": "stdout",
     "output_type": "stream",
     "text": [
      "Error\n"
     ]
    }
   ],
   "source": [
    "try:\n",
    "    print(y)\n",
    "except:\n",
    "    print('Error')"
   ]
  },
  {
   "cell_type": "code",
   "execution_count": 6,
   "metadata": {},
   "outputs": [
    {
     "name": "stdout",
     "output_type": "stream",
     "text": [
      "Error\n"
     ]
    }
   ],
   "source": [
    "try:\n",
    "    a=100\n",
    "    for i in a:\n",
    "        print(i)\n",
    "except:\n",
    "    print(\"Error\")"
   ]
  },
  {
   "cell_type": "code",
   "execution_count": 11,
   "metadata": {},
   "outputs": [
    {
     "ename": "ZeroDivisionError",
     "evalue": "division by zero",
     "output_type": "error",
     "traceback": [
      "\u001b[1;31m---------------------------------------------------------------------------\u001b[0m",
      "\u001b[1;31mZeroDivisionError\u001b[0m                         Traceback (most recent call last)",
      "\u001b[1;32m<ipython-input-11-e574edb36883>\u001b[0m in \u001b[0;36m<module>\u001b[1;34m\u001b[0m\n\u001b[1;32m----> 1\u001b[1;33m \u001b[1;36m10\u001b[0m\u001b[1;33m/\u001b[0m\u001b[1;36m0\u001b[0m\u001b[1;33m\u001b[0m\u001b[1;33m\u001b[0m\u001b[0m\n\u001b[0m",
      "\u001b[1;31mZeroDivisionError\u001b[0m: division by zero"
     ]
    }
   ],
   "source": [
    "10/0"
   ]
  },
  {
   "cell_type": "code",
   "execution_count": 9,
   "metadata": {
    "id": "KZ-5SGYiYl9F"
   },
   "outputs": [
    {
     "name": "stdout",
     "output_type": "stream",
     "text": [
      "a and b are equal\n",
      "Error\n"
     ]
    }
   ],
   "source": [
    "try:\n",
    "    if (a!=b):\n",
    "        print(\"a and b are equal\")\n",
    "        for i in range(a):\n",
    "              print(i/0)\n",
    "    else:\n",
    "        print(\"not equal\")\n",
    "except:\n",
    "    print('Error')"
   ]
  },
  {
   "cell_type": "code",
   "execution_count": 18,
   "metadata": {},
   "outputs": [
    {
     "ename": "NameError",
     "evalue": "name 'y' is not defined",
     "output_type": "error",
     "traceback": [
      "\u001b[1;31m---------------------------------------------------------------------------\u001b[0m",
      "\u001b[1;31mNameError\u001b[0m                                 Traceback (most recent call last)",
      "\u001b[1;32m<ipython-input-18-259706549f3d>\u001b[0m in \u001b[0;36m<module>\u001b[1;34m\u001b[0m\n\u001b[1;32m----> 1\u001b[1;33m \u001b[0mx\u001b[0m\u001b[1;33m+\u001b[0m\u001b[0my\u001b[0m\u001b[1;33m\u001b[0m\u001b[1;33m\u001b[0m\u001b[0m\n\u001b[0m",
      "\u001b[1;31mNameError\u001b[0m: name 'y' is not defined"
     ]
    }
   ],
   "source": [
    "x+y"
   ]
  },
  {
   "cell_type": "code",
   "execution_count": 37,
   "metadata": {},
   "outputs": [
    {
     "ename": "TypeError",
     "evalue": "unsupported operand type(s) for +: 'int' and 'str'",
     "output_type": "error",
     "traceback": [
      "\u001b[1;31m---------------------------------------------------------------------------\u001b[0m",
      "\u001b[1;31mTypeError\u001b[0m                                 Traceback (most recent call last)",
      "\u001b[1;32m<ipython-input-37-259706549f3d>\u001b[0m in \u001b[0;36m<module>\u001b[1;34m\u001b[0m\n\u001b[1;32m----> 1\u001b[1;33m \u001b[0mx\u001b[0m\u001b[1;33m+\u001b[0m\u001b[0my\u001b[0m\u001b[1;33m\u001b[0m\u001b[1;33m\u001b[0m\u001b[0m\n\u001b[0m",
      "\u001b[1;31mTypeError\u001b[0m: unsupported operand type(s) for +: 'int' and 'str'"
     ]
    }
   ],
   "source": [
    "x+y"
   ]
  },
  {
   "cell_type": "code",
   "execution_count": 4,
   "metadata": {},
   "outputs": [
    {
     "ename": "ValueError",
     "evalue": "invalid literal for int() with base 10: 'a'",
     "output_type": "error",
     "traceback": [
      "\u001b[1;31m---------------------------------------------------------------------------\u001b[0m",
      "\u001b[1;31mValueError\u001b[0m                                Traceback (most recent call last)",
      "\u001b[1;32m<ipython-input-4-d9136db7b558>\u001b[0m in \u001b[0;36m<module>\u001b[1;34m\u001b[0m\n\u001b[1;32m----> 1\u001b[1;33m \u001b[0mint\u001b[0m\u001b[1;33m(\u001b[0m\u001b[1;34m\"a\"\u001b[0m\u001b[1;33m)\u001b[0m\u001b[1;33m\u001b[0m\u001b[1;33m\u001b[0m\u001b[0m\n\u001b[0m",
      "\u001b[1;31mValueError\u001b[0m: invalid literal for int() with base 10: 'a'"
     ]
    }
   ],
   "source": [
    "int(\"a\")"
   ]
  },
  {
   "cell_type": "code",
   "execution_count": 3,
   "metadata": {},
   "outputs": [
    {
     "ename": "NameError",
     "evalue": "name 'x' is not defined",
     "output_type": "error",
     "traceback": [
      "\u001b[1;31m---------------------------------------------------------------------------\u001b[0m",
      "\u001b[1;31mNameError\u001b[0m                                 Traceback (most recent call last)",
      "\u001b[1;32m<ipython-input-3-e465e921b6cd>\u001b[0m in \u001b[0;36m<module>\u001b[1;34m\u001b[0m\n\u001b[1;32m----> 1\u001b[1;33m \u001b[0mz\u001b[0m\u001b[1;33m=\u001b[0m \u001b[0mx\u001b[0m\u001b[1;33m+\u001b[0m\u001b[0my\u001b[0m\u001b[1;33m\u001b[0m\u001b[1;33m\u001b[0m\u001b[0m\n\u001b[0m",
      "\u001b[1;31mNameError\u001b[0m: name 'x' is not defined"
     ]
    }
   ],
   "source": [
    "z= x+y"
   ]
  },
  {
   "cell_type": "code",
   "execution_count": 4,
   "metadata": {},
   "outputs": [
    {
     "name": "stdout",
     "output_type": "stream",
     "text": [
      "enter the x12\n",
      "enter the ya\n",
      "inside finally block\n"
     ]
    },
    {
     "ename": "ValueError",
     "evalue": "invalid literal for int() with base 10: 'a'",
     "output_type": "error",
     "traceback": [
      "\u001b[1;31m---------------------------------------------------------------------------\u001b[0m",
      "\u001b[1;31mNameError\u001b[0m                                 Traceback (most recent call last)",
      "\u001b[1;32m<ipython-input-4-af74b13ae686>\u001b[0m in \u001b[0;36m<module>\u001b[1;34m\u001b[0m\n\u001b[0;32m      1\u001b[0m \u001b[1;32mtry\u001b[0m\u001b[1;33m:\u001b[0m\u001b[1;33m\u001b[0m\u001b[1;33m\u001b[0m\u001b[0m\n\u001b[1;32m----> 2\u001b[1;33m     \u001b[0mz\u001b[0m\u001b[1;33m=\u001b[0m \u001b[0mx\u001b[0m\u001b[1;33m+\u001b[0m\u001b[0my\u001b[0m\u001b[1;33m\u001b[0m\u001b[1;33m\u001b[0m\u001b[0m\n\u001b[0m\u001b[0;32m      3\u001b[0m     \u001b[0mprint\u001b[0m\u001b[1;33m(\u001b[0m\u001b[0mz\u001b[0m\u001b[1;33m)\u001b[0m\u001b[1;33m\u001b[0m\u001b[1;33m\u001b[0m\u001b[0m\n",
      "\u001b[1;31mNameError\u001b[0m: name 'x' is not defined",
      "\nDuring handling of the above exception, another exception occurred:\n",
      "\u001b[1;31mValueError\u001b[0m                                Traceback (most recent call last)",
      "\u001b[1;32m<ipython-input-4-af74b13ae686>\u001b[0m in \u001b[0;36m<module>\u001b[1;34m\u001b[0m\n\u001b[0;32m      4\u001b[0m \u001b[1;32mexcept\u001b[0m \u001b[0mNameError\u001b[0m\u001b[1;33m:\u001b[0m\u001b[1;33m\u001b[0m\u001b[1;33m\u001b[0m\u001b[0m\n\u001b[0;32m      5\u001b[0m         \u001b[0mx\u001b[0m\u001b[1;33m=\u001b[0m\u001b[0mint\u001b[0m\u001b[1;33m(\u001b[0m\u001b[0minput\u001b[0m\u001b[1;33m(\u001b[0m\u001b[1;34m\"enter the x\"\u001b[0m\u001b[1;33m)\u001b[0m\u001b[1;33m)\u001b[0m\u001b[1;33m\u001b[0m\u001b[1;33m\u001b[0m\u001b[0m\n\u001b[1;32m----> 6\u001b[1;33m         \u001b[0my\u001b[0m\u001b[1;33m=\u001b[0m\u001b[0mint\u001b[0m\u001b[1;33m(\u001b[0m\u001b[0minput\u001b[0m\u001b[1;33m(\u001b[0m\u001b[1;34m\"enter the y\"\u001b[0m\u001b[1;33m)\u001b[0m\u001b[1;33m)\u001b[0m\u001b[1;33m\u001b[0m\u001b[1;33m\u001b[0m\u001b[0m\n\u001b[0m\u001b[0;32m      7\u001b[0m \u001b[1;32mexcept\u001b[0m \u001b[0mTypeError\u001b[0m\u001b[1;33m:\u001b[0m\u001b[1;33m\u001b[0m\u001b[1;33m\u001b[0m\u001b[0m\n\u001b[0;32m      8\u001b[0m         \u001b[0mprint\u001b[0m\u001b[1;33m(\u001b[0m\u001b[1;34m\"both should have same data type\"\u001b[0m\u001b[1;33m)\u001b[0m\u001b[1;33m\u001b[0m\u001b[1;33m\u001b[0m\u001b[0m\n",
      "\u001b[1;31mValueError\u001b[0m: invalid literal for int() with base 10: 'a'"
     ]
    }
   ],
   "source": [
    "try:\n",
    "    z= x+y\n",
    "    print(z)\n",
    "except NameError:\n",
    "        x=int(input(\"enter the x\"))\n",
    "        y=int(input(\"enter the y\"))\n",
    "except TypeError:\n",
    "        print(\"both should have same data type\")\n",
    "except:\n",
    "    print(\"unknown error\")\n",
    "finally:\n",
    "    print(\"inside finally block\")\n",
    "    ##lat_val = (x+y)/2\n",
    "    #print(lat_val)\n",
    "        "
   ]
  },
  {
   "cell_type": "code",
   "execution_count": 54,
   "metadata": {},
   "outputs": [],
   "source": [
    "y=100"
   ]
  },
  {
   "cell_type": "code",
   "execution_count": 56,
   "metadata": {},
   "outputs": [
    {
     "ename": "TypeError",
     "evalue": "can only concatenate str (not \"int\") to str",
     "output_type": "error",
     "traceback": [
      "\u001b[1;31m---------------------------------------------------------------------------\u001b[0m",
      "\u001b[1;31mTypeError\u001b[0m                                 Traceback (most recent call last)",
      "\u001b[1;32m<ipython-input-56-259706549f3d>\u001b[0m in \u001b[0;36m<module>\u001b[1;34m\u001b[0m\n\u001b[1;32m----> 1\u001b[1;33m \u001b[0mx\u001b[0m\u001b[1;33m+\u001b[0m\u001b[0my\u001b[0m\u001b[1;33m\u001b[0m\u001b[1;33m\u001b[0m\u001b[0m\n\u001b[0m",
      "\u001b[1;31mTypeError\u001b[0m: can only concatenate str (not \"int\") to str"
     ]
    }
   ],
   "source": [
    "x+y"
   ]
  },
  {
   "cell_type": "code",
   "execution_count": 57,
   "metadata": {},
   "outputs": [
    {
     "ename": "SyntaxError",
     "evalue": "invalid syntax (<ipython-input-57-1696bba10fea>, line 2)",
     "output_type": "error",
     "traceback": [
      "\u001b[1;36m  File \u001b[1;32m\"<ipython-input-57-1696bba10fea>\"\u001b[1;36m, line \u001b[1;32m2\u001b[0m\n\u001b[1;33m    if x==y\u001b[0m\n\u001b[1;37m           ^\u001b[0m\n\u001b[1;31mSyntaxError\u001b[0m\u001b[1;31m:\u001b[0m invalid syntax\n"
     ]
    }
   ],
   "source": [
    "try:\n",
    "    z= x+y\n",
    "    print(z)\n",
    "except NameError:\n",
    "    try:\n",
    "        x=int(input(\"enter the x\"))\n",
    "        y=int(input(\"enter the y\"))\n",
    "    except:\n",
    "        print(\"nested except block Error\")\n",
    "except TypeError:\n",
    "        print(\"both should have same data type\")\n",
    "except:\n",
    "    print(\"unknown error\")\n",
    "finally:\n",
    "    print(\"inside finally block\")\n",
    "    ##lat_val = (x+y)/2\n",
    "    #print(lat_val)\n",
    "        "
   ]
  },
  {
   "cell_type": "code",
   "execution_count": null,
   "metadata": {},
   "outputs": [],
   "source": [
    "try:\n",
    "    x+y\n",
    "except:\n",
    "    print(\"Error occured\")\n",
    "    x=input(\"x: \")\n",
    "    y=input(\"y: \")\n",
    "    print(\"Inside the except\")\n",
    "finally:\n",
    "    result = int(x)+int(y)/200"
   ]
  },
  {
   "cell_type": "code",
   "execution_count": null,
   "metadata": {},
   "outputs": [],
   "source": [
    "result"
   ]
  },
  {
   "cell_type": "code",
   "execution_count": null,
   "metadata": {
    "colab": {
     "base_uri": "https://localhost:8080/",
     "height": 163
    },
    "executionInfo": {
     "elapsed": 1207,
     "status": "error",
     "timestamp": 1614665635621,
     "user": {
      "displayName": "amrita helwade",
      "photoUrl": "",
      "userId": "10957998030476280589"
     },
     "user_tz": -330
    },
    "id": "m_jRBTxLYl9G",
    "outputId": "db9cde82-7aa0-45f8-fda3-79deca89078a"
   },
   "outputs": [],
   "source": [
    "try:\n",
    "    print(\"Inside the try block 1\")\n",
    "    print(x+y)\n",
    "    print(\"Inside the try block 2\")\n",
    "except:\n",
    "    print(\"Except block\")"
   ]
  },
  {
   "cell_type": "code",
   "execution_count": null,
   "metadata": {
    "colab": {
     "base_uri": "https://localhost:8080/"
    },
    "executionInfo": {
     "elapsed": 1795,
     "status": "ok",
     "timestamp": 1614665780049,
     "user": {
      "displayName": "amrita helwade",
      "photoUrl": "",
      "userId": "10957998030476280589"
     },
     "user_tz": -330
    },
    "id": "Ubh-NgJ2Yl9H",
    "outputId": "8cff040d-856f-442b-cbdf-bca090af7306"
   },
   "outputs": [],
   "source": [
    "# The try and except Block: Handling Exceptions\n",
    "\n",
    "try:\n",
    "    print(x+y-c)\n",
    "    #pass\n",
    "except:\n",
    "    print(\"exception handling\")"
   ]
  },
  {
   "cell_type": "code",
   "execution_count": null,
   "metadata": {
    "id": "bLQh9A5nYl9I",
    "outputId": "2ab5e5a5-733e-403a-ff7d-0428241b4f83"
   },
   "outputs": [],
   "source": [
    "a=10\n",
    "\n",
    "c=s+1\n",
    "c"
   ]
  },
  {
   "cell_type": "code",
   "execution_count": null,
   "metadata": {
    "colab": {
     "base_uri": "https://localhost:8080/"
    },
    "executionInfo": {
     "elapsed": 1194,
     "status": "ok",
     "timestamp": 1614666184575,
     "user": {
      "displayName": "amrita helwade",
      "photoUrl": "",
      "userId": "10957998030476280589"
     },
     "user_tz": -330
    },
    "id": "kv-UpgvGYl9I",
    "outputId": "4daef5ff-efc3-4cd5-d4d7-b59442b91242"
   },
   "outputs": [],
   "source": [
    "try :\n",
    "    c=s+1\n",
    "    print(c)\n",
    "except:\n",
    "    s=10\n",
    "    c=s+1\n",
    "    print(\"with Error\", c)\n"
   ]
  },
  {
   "cell_type": "code",
   "execution_count": null,
   "metadata": {
    "id": "_DO8O1P1Yl9J"
   },
   "outputs": [],
   "source": [
    "# How does it work?\n",
    "\n",
    "# The error handling is done through the use of exceptions that are caught \n",
    "# in try blocks and handled in except blocks. If an error is encountered, \n",
    "# a try block code execution is stopped and transferred down to the except \n",
    "# block. \n",
    "\n",
    "# In addition to using an except block after the try block, you can also \n",
    "# use the finally block. \n",
    "\n",
    "# The code in the finally block will be executed regardless of whether an \n",
    "# exception occurs."
   ]
  },
  {
   "cell_type": "code",
   "execution_count": null,
   "metadata": {
    "id": "9ZMfUYpEYl9J"
   },
   "outputs": [],
   "source": [
    "# Ex 1\n",
    "\n",
    "try:\n",
    "    logic\n",
    "    \n",
    "except IOExcp:\n",
    "        logic\n",
    "except   EOFExce:\n",
    "        logic\n",
    "except: \n",
    "    \n",
    "finally:\n",
    "    it will excecute in any case"
   ]
  },
  {
   "cell_type": "code",
   "execution_count": null,
   "metadata": {
    "id": "ykBQnRb_Yl9K",
    "outputId": "f5f8f229-ddca-41e2-d518-9ebd394a462f"
   },
   "outputs": [],
   "source": [
    "# This program works perfectly fine as long as the user enters a number, \n",
    "# but what happens if the user puts in something else (like a string)?\n",
    "\n",
    "# program throws us an error when we enter a string.\n",
    "\n",
    "number = input(\"Enter a number between 1 to 10 \")\n",
    "\n",
    "print (\"you entered number\", number, type(number))"
   ]
  },
  {
   "cell_type": "code",
   "execution_count": null,
   "metadata": {
    "id": "IkjXfHG9Yl9K",
    "outputId": "fdd7743b-832c-4ec3-86de-42f21bfd4f56"
   },
   "outputs": [],
   "source": [
    "number = input(\"Enter a number : \")"
   ]
  },
  {
   "cell_type": "code",
   "execution_count": null,
   "metadata": {},
   "outputs": [],
   "source": [
    "float(number)"
   ]
  },
  {
   "cell_type": "code",
   "execution_count": null,
   "metadata": {
    "id": "AKGp4OzsYl9L"
   },
   "outputs": [],
   "source": [
    "int(number)"
   ]
  },
  {
   "cell_type": "code",
   "execution_count": null,
   "metadata": {
    "id": "XEG133QDYl9L"
   },
   "outputs": [],
   "source": [
    "number.isalnum()"
   ]
  },
  {
   "cell_type": "code",
   "execution_count": null,
   "metadata": {
    "id": "OMBJBGo1Yl9M",
    "outputId": "57b1673e-5d08-4d9d-b2ef-bbd00844a29b"
   },
   "outputs": [],
   "source": [
    "new_val= int(input(\" enter number\"))"
   ]
  },
  {
   "cell_type": "code",
   "execution_count": null,
   "metadata": {
    "id": "AtdB5XZIYl9M"
   },
   "outputs": [],
   "source": [
    "float(input(\"enter digit\"))"
   ]
  },
  {
   "cell_type": "code",
   "execution_count": 6,
   "metadata": {
    "id": "H8zj0CDCYl9N",
    "outputId": "057d90e2-f184-4864-e9d0-2438556b89b1"
   },
   "outputs": [
    {
     "name": "stdout",
     "output_type": "stream",
     "text": [
      "Hello ...\n",
      "Enter a number : a\n",
      "Err.. numbers only\n",
      "Value is= 0\n"
     ]
    }
   ],
   "source": [
    "#import sys\n",
    "\n",
    "print (\"Hello ...\")\n",
    "\n",
    "try:\n",
    "    number = input(\"Enter a number : \")\n",
    "    number = float(number)\n",
    "    print(\"you entered number\", number)\n",
    "except ValueError:\n",
    "    number = 0\n",
    "    print (\"Err.. numbers only\")\n",
    "    #for i in number:\n",
    "        #if ascii(i) in [85,] :\n",
    "            #b= b.append(i)\n",
    "#    raise SystemExit\n",
    "#    sys.exit(0)\n",
    "finally:\n",
    "    print(\"Value is=\",number)\n",
    "\n"
   ]
  },
  {
   "cell_type": "code",
   "execution_count": 59,
   "metadata": {},
   "outputs": [],
   "source": [
    "del a"
   ]
  },
  {
   "cell_type": "code",
   "execution_count": 62,
   "metadata": {
    "id": "u6QGSRpkYl9Q",
    "outputId": "59764f60-94a7-48db-fe4c-e246c8842237"
   },
   "outputs": [
    {
     "name": "stdout",
     "output_type": "stream",
     "text": [
      "enter val: int\n",
      "Value error : enter only numbers\n",
      "Inside the finally bock\n"
     ]
    }
   ],
   "source": [
    "# Ex 2\n",
    "\n",
    "try:\n",
    "    a= int(input(\"enter val: \"))\n",
    "    b=10/a\n",
    "    print(b)\n",
    "except ValueError:\n",
    "    print(\"Value error : enter only numbers\")    \n",
    "except ZeroDivisionError:\n",
    "    print(\"Zero_error: zero can not be used here\")\n",
    "except:\n",
    "    print(\" Unknown error\")\n",
    "finally:\n",
    "    print(\"Inside the finally bock\")\n",
    "    "
   ]
  },
  {
   "cell_type": "code",
   "execution_count": null,
   "metadata": {
    "id": "DTgY0PA4Yl9T"
   },
   "outputs": [],
   "source": [
    "# Ex 3\n",
    "\n",
    "# Raising an Exception"
   ]
  },
  {
   "cell_type": "code",
   "execution_count": 1,
   "metadata": {
    "colab": {
     "base_uri": "https://localhost:8080/"
    },
    "executionInfo": {
     "elapsed": 1156,
     "status": "ok",
     "timestamp": 1614666914060,
     "user": {
      "displayName": "amrita helwade",
      "photoUrl": "",
      "userId": "10957998030476280589"
     },
     "user_tz": -330
    },
    "id": "_ZfCrCyhYl9U",
    "outputId": "adb0c55b-02fe-4e5c-f81b-08938705fd7e"
   },
   "outputs": [
    {
     "name": "stdout",
     "output_type": "stream",
     "text": [
      "Enter values between 0-106\n",
      "not greater than 5\n"
     ]
    }
   ],
   "source": [
    "x=int(input(\"Enter values between 0-10\"))\n",
    "\n",
    "if x >10 :\n",
    "    print(\"Please enter number below 10\")\n",
    "else:\n",
    "    print(\"not greater than 5\")\n"
   ]
  },
  {
   "cell_type": "code",
   "execution_count": 64,
   "metadata": {
    "id": "Q-GMgYKhYl9U"
   },
   "outputs": [
    {
     "data": {
      "text/plain": [
       "(45, 4500.0, 14500.0)"
      ]
     },
     "execution_count": 64,
     "metadata": {},
     "output_type": "execute_result"
    }
   ],
   "source": [
    "\n",
    "depo_amt=10000*(x/100)\n",
    "mat_amt=10000+depo_amt\n",
    "x, depo_amt, mat_amt"
   ]
  },
  {
   "cell_type": "code",
   "execution_count": 5,
   "metadata": {
    "colab": {
     "base_uri": "https://localhost:8080/",
     "height": 248
    },
    "executionInfo": {
     "elapsed": 6465,
     "status": "error",
     "timestamp": 1614667001085,
     "user": {
      "displayName": "amrita helwade",
      "photoUrl": "",
      "userId": "10957998030476280589"
     },
     "user_tz": -330
    },
    "id": "HeUz_huUYl9V",
    "outputId": "03b74e97-291b-4e58-ac91-44442aa5bf09"
   },
   "outputs": [
    {
     "name": "stdout",
     "output_type": "stream",
     "text": [
      "Enter nubmer less than 10  123\n",
      "123\n"
     ]
    },
    {
     "ename": "Exception",
     "evalue": "x should not exceed 10. The value of x was: 123",
     "output_type": "error",
     "traceback": [
      "\u001b[1;31m---------------------------------------------------------------------------\u001b[0m",
      "\u001b[1;31mException\u001b[0m                                 Traceback (most recent call last)",
      "\u001b[1;32m<ipython-input-5-353840474b4c>\u001b[0m in \u001b[0;36m<module>\u001b[1;34m\u001b[0m\n\u001b[0;32m      4\u001b[0m \u001b[1;32mif\u001b[0m \u001b[0mint\u001b[0m\u001b[1;33m(\u001b[0m\u001b[0mx\u001b[0m\u001b[1;33m)\u001b[0m \u001b[1;33m>\u001b[0m \u001b[1;36m10\u001b[0m\u001b[1;33m:\u001b[0m\u001b[1;33m\u001b[0m\u001b[1;33m\u001b[0m\u001b[0m\n\u001b[0;32m      5\u001b[0m     \u001b[0mprint\u001b[0m\u001b[1;33m(\u001b[0m\u001b[0mx\u001b[0m\u001b[1;33m)\u001b[0m\u001b[1;33m\u001b[0m\u001b[1;33m\u001b[0m\u001b[0m\n\u001b[1;32m----> 6\u001b[1;33m     \u001b[1;32mraise\u001b[0m \u001b[0mException\u001b[0m\u001b[1;33m(\u001b[0m\u001b[1;34m'x should not exceed 10. The value of x was: {}'\u001b[0m\u001b[1;33m.\u001b[0m\u001b[0mformat\u001b[0m\u001b[1;33m(\u001b[0m\u001b[0mx\u001b[0m\u001b[1;33m)\u001b[0m\u001b[1;33m)\u001b[0m\u001b[1;33m\u001b[0m\u001b[1;33m\u001b[0m\u001b[0m\n\u001b[0m\u001b[0;32m      7\u001b[0m \u001b[1;31m#except :\u001b[0m\u001b[1;33m\u001b[0m\u001b[1;33m\u001b[0m\u001b[1;33m\u001b[0m\u001b[0m\n\u001b[0;32m      8\u001b[0m  \u001b[1;31m#   print(\"inside except\")\u001b[0m\u001b[1;33m\u001b[0m\u001b[1;33m\u001b[0m\u001b[1;33m\u001b[0m\u001b[0m\n",
      "\u001b[1;31mException\u001b[0m: x should not exceed 10. The value of x was: 123"
     ]
    }
   ],
   "source": [
    "x = input(\"Enter nubmer less than 10  \")\n",
    "\n",
    "#try:\n",
    "if int(x) > 10:\n",
    "    print(x)\n",
    "    raise Exception('x should not exceed 10. The value of x was: {}'.format(x))\n",
    "#except :\n",
    " #   print(\"inside except\")\n"
   ]
  },
  {
   "cell_type": "code",
   "execution_count": 11,
   "metadata": {
    "colab": {
     "base_uri": "https://localhost:8080/"
    },
    "executionInfo": {
     "elapsed": 962,
     "status": "ok",
     "timestamp": 1614667263224,
     "user": {
      "displayName": "amrita helwade",
      "photoUrl": "",
      "userId": "10957998030476280589"
     },
     "user_tz": -330
    },
    "id": "D3pLcBQ5Yl9W",
    "outputId": "391e100a-7256-4a65-9db1-202e1b7aed08"
   },
   "outputs": [
    {
     "name": "stdout",
     "output_type": "stream",
     "text": [
      "x should not exceed 5. The value of x was: 12\n"
     ]
    }
   ],
   "source": [
    "x = 12\n",
    "\n",
    "try:\n",
    "    if x > 5:\n",
    "        raise Exception()\n",
    "except Exception:\n",
    "    print(\"x should not exceed 5. The value of x was: {}\".format(x))"
   ]
  },
  {
   "cell_type": "code",
   "execution_count": null,
   "metadata": {},
   "outputs": [],
   "source": [
    "x.isalnum"
   ]
  },
  {
   "cell_type": "code",
   "execution_count": 20,
   "metadata": {
    "colab": {
     "base_uri": "https://localhost:8080/"
    },
    "executionInfo": {
     "elapsed": 962,
     "status": "ok",
     "timestamp": 1614667263224,
     "user": {
      "displayName": "amrita helwade",
      "photoUrl": "",
      "userId": "10957998030476280589"
     },
     "user_tz": -330
    },
    "id": "D3pLcBQ5Yl9W",
    "outputId": "391e100a-7256-4a65-9db1-202e1b7aed08"
   },
   "outputs": [
    {
     "name": "stdout",
     "output_type": "stream",
     "text": [
      "Enter marks between 1-1012\n",
      "<class 'str'>\n",
      "x should be between 0-10. The value of x was: 12.0\n"
     ]
    }
   ],
   "source": [
    "x = input(\"Enter marks between 1-10\")\n",
    "print(type(x))\n",
    "try:\n",
    "    x=float(x)\n",
    "    if x >10 or x <0:\n",
    "        raise Exception()\n",
    "except ValueError:\n",
    "    if x.isalnum():\n",
    "        print(\"Enter only numbers\")\n",
    "except Exception:\n",
    "    print('x should be between 0-10. The value of x was: {}'.format(x))"
   ]
  },
  {
   "cell_type": "code",
   "execution_count": null,
   "metadata": {},
   "outputs": [],
   "source": []
  },
  {
   "cell_type": "code",
   "execution_count": 26,
   "metadata": {
    "id": "EXnHp7UDYl9W"
   },
   "outputs": [
    {
     "ename": "NameError",
     "evalue": "name 'MyError' is not defined",
     "output_type": "error",
     "traceback": [
      "\u001b[1;31m---------------------------------------------------------------------------\u001b[0m",
      "\u001b[1;31mNameError\u001b[0m                                 Traceback (most recent call last)",
      "\u001b[1;32m<ipython-input-26-5ad0b0d16fee>\u001b[0m in \u001b[0;36m<module>\u001b[1;34m\u001b[0m\n\u001b[0;32m      2\u001b[0m \u001b[1;33m\u001b[0m\u001b[0m\n\u001b[1;32m----> 3\u001b[1;33m     \u001b[1;32mraise\u001b[0m \u001b[0mMyError\u001b[0m\u001b[1;33m(\u001b[0m\u001b[1;34m\"Some information about what went wrong\"\u001b[0m\u001b[1;33m)\u001b[0m\u001b[1;33m\u001b[0m\u001b[1;33m\u001b[0m\u001b[0m\n\u001b[0m\u001b[0;32m      4\u001b[0m \u001b[1;33m\u001b[0m\u001b[0m\n",
      "\u001b[1;31mNameError\u001b[0m: name 'MyError' is not defined",
      "\nDuring handling of the above exception, another exception occurred:\n",
      "\u001b[1;31mNameError\u001b[0m                                 Traceback (most recent call last)",
      "\u001b[1;32m<ipython-input-26-5ad0b0d16fee>\u001b[0m in \u001b[0;36m<module>\u001b[1;34m\u001b[0m\n\u001b[0;32m      3\u001b[0m     \u001b[1;32mraise\u001b[0m \u001b[0mMyError\u001b[0m\u001b[1;33m(\u001b[0m\u001b[1;34m\"Some information about what went wrong\"\u001b[0m\u001b[1;33m)\u001b[0m\u001b[1;33m\u001b[0m\u001b[1;33m\u001b[0m\u001b[0m\n\u001b[0;32m      4\u001b[0m \u001b[1;33m\u001b[0m\u001b[0m\n\u001b[1;32m----> 5\u001b[1;33m \u001b[1;32mexcept\u001b[0m \u001b[0mMyError\u001b[0m \u001b[1;32mas\u001b[0m \u001b[0merror\u001b[0m\u001b[1;33m:\u001b[0m\u001b[1;33m\u001b[0m\u001b[1;33m\u001b[0m\u001b[0m\n\u001b[0m\u001b[0;32m      6\u001b[0m     \u001b[0mprint\u001b[0m\u001b[1;33m(\u001b[0m\u001b[1;34m\"Situation:\"\u001b[0m\u001b[1;33m,\u001b[0m \u001b[0merror\u001b[0m\u001b[1;33m)\u001b[0m\u001b[1;33m\u001b[0m\u001b[1;33m\u001b[0m\u001b[0m\n\u001b[0;32m      7\u001b[0m     \u001b[0mprint\u001b[0m\u001b[1;33m(\u001b[0m\u001b[1;34m\"type(error)\"\u001b[0m\u001b[1;33m,\u001b[0m \u001b[0mtype\u001b[0m\u001b[1;33m(\u001b[0m\u001b[0merror\u001b[0m\u001b[1;33m)\u001b[0m\u001b[1;33m)\u001b[0m  \u001b[1;31m#<class '__main__.MyError'>\u001b[0m\u001b[1;33m\u001b[0m\u001b[1;33m\u001b[0m\u001b[0m\n",
      "\u001b[1;31mNameError\u001b[0m: name 'MyError' is not defined"
     ]
    }
   ],
   "source": [
    "try:\n",
    "    \n",
    "    raise MyError(\"Some information about what went wrong\")\n",
    "\n",
    "except MyError as error:\n",
    "    print(\"Situation:\", error)\n",
    "    print(\"type(error)\", type(error))  #<class '__main__.MyError'>\n"
   ]
  },
  {
   "cell_type": "code",
   "execution_count": null,
   "metadata": {
    "colab": {
     "base_uri": "https://localhost:8080/"
    },
    "executionInfo": {
     "elapsed": 1048,
     "status": "ok",
     "timestamp": 1614667141032,
     "user": {
      "displayName": "amrita helwade",
      "photoUrl": "",
      "userId": "10957998030476280589"
     },
     "user_tz": -330
    },
    "id": "MSu4ZEABYl9X",
    "outputId": "e6180e71-3cb4-4c17-a452-661a2470344b"
   },
   "outputs": [],
   "source": [
    "# Program to depict Raising Exception \n",
    "  \n",
    "try:  \n",
    "    raise NameError(\"Hi there\")  # Raise Error \n",
    "except NameError: \n",
    "    print (\"An exception occured ... \")\n",
    "    #raise  # To determine whether the exception was raised or not "
   ]
  },
  {
   "cell_type": "code",
   "execution_count": null,
   "metadata": {},
   "outputs": [],
   "source": [
    "tuple(range(0,9,1))"
   ]
  },
  {
   "cell_type": "code",
   "execution_count": null,
   "metadata": {},
   "outputs": [],
   "source": [
    "n=float(input(\"interest rate\"))\n",
    "if n not in tuple(range(0,9,0.001)):\n",
    "        print(\"error\")  \n",
    "else:\n",
    "    print(\"correct range\")"
   ]
  },
  {
   "cell_type": "code",
   "execution_count": null,
   "metadata": {},
   "outputs": [],
   "source": [
    "n=float(input(\"interest rate\"))\n",
    "if n >9 and n<1:\n",
    "        print(\"error\")  \n",
    "else:\n",
    "    print(\"correct range\")"
   ]
  },
  {
   "cell_type": "code",
   "execution_count": 21,
   "metadata": {
    "colab": {
     "base_uri": "https://localhost:8080/"
    },
    "executionInfo": {
     "elapsed": 26892,
     "status": "ok",
     "timestamp": 1614669009524,
     "user": {
      "displayName": "amrita helwade",
      "photoUrl": "",
      "userId": "10957998030476280589"
     },
     "user_tz": -330
    },
    "id": "y5PrPtLUYl9Y",
    "outputId": "d67871fb-e5b5-437e-ec06-352fa7db0cf4"
   },
   "outputs": [
    {
     "name": "stdout",
     "output_type": "stream",
     "text": [
      "Please enter an integer bet 1 to 9: 23\n",
      "23\n",
      "23.0\n",
      "enter number between 1 to 9\n",
      "Please enter an integer bet 1 to 9: a12\n",
      "a12\n",
      "Alphabets are not allowed here\n",
      "Please enter an integer bet 1 to 9: hjkk\n",
      "hjkk\n",
      "Alphabets are not allowed here\n",
      "Please enter an integer bet 1 to 9: 6\n",
      "6\n",
      "6.0\n",
      "Great, you successfully entered an integer!\n"
     ]
    }
   ],
   "source": [
    "# Ex\n",
    "while True:\n",
    "    try:\n",
    "        n = input(\"Please enter an integer bet 1 to 9: \")\n",
    "        print(n)\n",
    "        n = float(n)\n",
    "        print(n)\n",
    "        \n",
    "        if  n >9 or n<1:\n",
    "            raise Exception()  \n",
    "        else:\n",
    "            break\n",
    "    except ValueError:\n",
    "        print(\"Alphabets are not allowed here\")\n",
    "    except Exception:\n",
    "        print(\"enter number between 1 to 9\")\n",
    "    except :\n",
    "        print(\"No valid integer! Please try again ...\")\n",
    "        \n",
    "print(\"Great, you successfully entered an integer!\")"
   ]
  },
  {
   "cell_type": "code",
   "execution_count": null,
   "metadata": {
    "id": "tWPcLnLsYl9Y",
    "outputId": "e591d5a6-5bc3-4f68-ca37-0dc0c055dc95"
   },
   "outputs": [],
   "source": [
    "int(1.6)"
   ]
  },
  {
   "cell_type": "code",
   "execution_count": null,
   "metadata": {
    "id": "UObroe_CYl9Z",
    "outputId": "d132a997-e09f-4525-91f8-7a6f248f91c9"
   },
   "outputs": [],
   "source": [
    "int(\"abc\")  "
   ]
  },
  {
   "cell_type": "code",
   "execution_count": null,
   "metadata": {
    "id": "XZ1oV9-WYl9Z",
    "outputId": "9aec3d3b-df36-4fd0-9c9e-c4bbb39de3da"
   },
   "outputs": [],
   "source": [
    "print(b)"
   ]
  },
  {
   "cell_type": "code",
   "execution_count": 3,
   "metadata": {
    "colab": {
     "base_uri": "https://localhost:8080/"
    },
    "executionInfo": {
     "elapsed": 1080,
     "status": "ok",
     "timestamp": 1614669320937,
     "user": {
      "displayName": "amrita helwade",
      "photoUrl": "",
      "userId": "10957998030476280589"
     },
     "user_tz": -330
    },
    "id": "QGzGnMQZYl9a",
    "outputId": "28a99430-242a-4db5-83f6-74927607128c"
   },
   "outputs": [
    {
     "name": "stdout",
     "output_type": "stream",
     "text": [
      "Second element = 1\n",
      "<class 'int'>\n",
      "Succssfully completed -> 0.043478260869565216\n",
      "inside the type error\n"
     ]
    }
   ],
   "source": [
    "# Python program to handle simple runtime error \n",
    "  \n",
    "a = [1, 'a', 0] \n",
    "b=23\n",
    "\n",
    "#print(a[])\n",
    "try: \n",
    "    ##import bom\n",
    "    for i in range(5):\n",
    "        print( \"Second element = %d\" %(a[i]) )\n",
    "        print(type(a[i]))\n",
    "        c=a[i]/b\n",
    "        print(\"Succssfully completed ->\",c)\n",
    "\n",
    "except IndexError: \n",
    "    print (\"An error occurred due to index\")\n",
    "except ValueError:\n",
    "    print(\"Enter proper value\")\n",
    "except TypeError:\n",
    "    print(\"inside the type error\")\n",
    "except:\n",
    "    print(\"undefined Error\")"
   ]
  },
  {
   "cell_type": "code",
   "execution_count": 7,
   "metadata": {
    "colab": {
     "base_uri": "https://localhost:8080/"
    },
    "executionInfo": {
     "elapsed": 1080,
     "status": "ok",
     "timestamp": 1614669320937,
     "user": {
      "displayName": "amrita helwade",
      "photoUrl": "",
      "userId": "10957998030476280589"
     },
     "user_tz": -330
    },
    "id": "QGzGnMQZYl9a",
    "outputId": "28a99430-242a-4db5-83f6-74927607128c"
   },
   "outputs": [
    {
     "name": "stdout",
     "output_type": "stream",
     "text": [
      "Second element =  1\n",
      "<class 'int'>\n",
      "Succssfully completed -> 0.043478260869565216\n",
      "Second element =  a\n",
      "<class 'str'>\n",
      "inside the type error\n",
      "Second element =  0\n",
      "<class 'int'>\n",
      "Succssfully completed -> 0.0\n",
      "An error occurred due to index\n",
      "An error occurred due to index\n"
     ]
    }
   ],
   "source": [
    "# Python program to handle simple runtime error \n",
    "  \n",
    "a = [1, 'a', 0] \n",
    "b=23\n",
    "#print(a[])\n",
    "##import bom\n",
    "for i in range(5):\n",
    "    try:\n",
    "        print( \"Second element = \", a[i] )\n",
    "        print(type(a[i]))\n",
    "        c=a[i]/b\n",
    "        print(\"Succssfully completed ->\",c)\n",
    "\n",
    "    except IndexError: \n",
    "        print (\"An error occurred due to index\")\n",
    "    except ValueError:\n",
    "        print(\"Enter proper value\")\n",
    "    except TypeError:\n",
    "        print(\"inside the type error\")\n",
    "    except:\n",
    "        print(\"undefined Error\")"
   ]
  },
  {
   "cell_type": "code",
   "execution_count": null,
   "metadata": {
    "colab": {
     "base_uri": "https://localhost:8080/"
    },
    "executionInfo": {
     "elapsed": 1080,
     "status": "ok",
     "timestamp": 1614669320937,
     "user": {
      "displayName": "amrita helwade",
      "photoUrl": "",
      "userId": "10957998030476280589"
     },
     "user_tz": -330
    },
    "id": "QGzGnMQZYl9a",
    "outputId": "28a99430-242a-4db5-83f6-74927607128c"
   },
   "outputs": [],
   "source": [
    "# Python program to handle simple runtime error \n",
    "  \n",
    "a = [1, 'a', 0] \n",
    "b=23\n",
    "cnt=0\n",
    "#print(a[])\n",
    "\n",
    "try: \n",
    "    print( \"Second element = %d\" %(a[i]) )\n",
    "    print(type(a[i]))\n",
    "    c=a[i]/b\n",
    "    cnt=cnt+1\n",
    "    print(\"Succssfully completed ->\",cnt,i,c)\n",
    "except IndexError: \n",
    "    print (\"An error occurred due to index\")\n",
    "except ValueError:\n",
    "    print(\"Enter proper value\")\n",
    "except TypeError:\n",
    "    print(\"inside the type error\")\n",
    "except:\n",
    "    print(\"undefined Error\")"
   ]
  },
  {
   "cell_type": "code",
   "execution_count": null,
   "metadata": {},
   "outputs": [],
   "source": [
    "1/int(\"a\")"
   ]
  },
  {
   "cell_type": "code",
   "execution_count": 68,
   "metadata": {},
   "outputs": [
    {
     "ename": "NameError",
     "evalue": "name 'd' is not defined",
     "output_type": "error",
     "traceback": [
      "\u001b[1;31m---------------------------------------------------------------------------\u001b[0m",
      "\u001b[1;31mNameError\u001b[0m                                 Traceback (most recent call last)",
      "\u001b[1;32m<ipython-input-68-e983f374794d>\u001b[0m in \u001b[0;36m<module>\u001b[1;34m\u001b[0m\n\u001b[1;32m----> 1\u001b[1;33m \u001b[0md\u001b[0m\u001b[1;33m\u001b[0m\u001b[1;33m\u001b[0m\u001b[0m\n\u001b[0m",
      "\u001b[1;31mNameError\u001b[0m: name 'd' is not defined"
     ]
    }
   ],
   "source": [
    "d"
   ]
  },
  {
   "cell_type": "code",
   "execution_count": 2,
   "metadata": {
    "colab": {
     "base_uri": "https://localhost:8080/"
    },
    "executionInfo": {
     "elapsed": 719,
     "status": "ok",
     "timestamp": 1614669557674,
     "user": {
      "displayName": "amrita helwade",
      "photoUrl": "",
      "userId": "10957998030476280589"
     },
     "user_tz": -330
    },
    "id": "ColYTbbVYl9b",
    "outputId": "0ea8d6d8-570b-4313-b4a6-9dafefe69557"
   },
   "outputs": [
    {
     "name": "stdout",
     "output_type": "stream",
     "text": [
      "invalid literal for int() with base 10: 'a'\n",
      "division by zero\n",
      "10.0\n",
      "4.0\n"
     ]
    }
   ],
   "source": [
    "import sys\n",
    "\n",
    "randomList = ['a', 0, 2,5.4]\n",
    "b=20\n",
    "\n",
    "for entry in randomList:\n",
    "    try:\n",
    "        r = b/int(entry)\n",
    "        print(r)\n",
    "        #break\n",
    "    except:\n",
    "        #print(len(sys.exc_info()))\n",
    "        print(sys.exc_info()[1])\n",
    "        "
   ]
  },
  {
   "cell_type": "code",
   "execution_count": 9,
   "metadata": {},
   "outputs": [
    {
     "data": {
      "text/plain": [
       "False"
      ]
     },
     "execution_count": 9,
     "metadata": {},
     "output_type": "execute_result"
    }
   ],
   "source": [
    "6  not in range(1,9)"
   ]
  },
  {
   "cell_type": "code",
   "execution_count": null,
   "metadata": {
    "id": "weYkabWWYl9c"
   },
   "outputs": [],
   "source": [
    "# Multiple Except Clauses\n",
    "\n",
    "# A try statement may have more than one except clause for different \n",
    "# exceptions. But at most one except clause will be executed.\n",
    "\n",
    "# Our next example shows a try clause, in which we open a file for reading, \n",
    "# read a line from this file and convert this line into an integer. \n",
    "# There are at least two possible exceptions:\n",
    "\n",
    "# an IOError\n",
    "# ValueError\n",
    "\n",
    "# Just in case we have an additional unnamed except clause for an \n",
    "# unexpected error"
   ]
  },
  {
   "cell_type": "code",
   "execution_count": null,
   "metadata": {
    "id": "744m-tdbYl9d"
   },
   "outputs": [],
   "source": [
    "f=open(r\"C:\\Users\\home\\Desktop\\Basics of Python with Numpy Panda\\numbers.txt\")\n",
    "#a=f.readlines()\n",
    "#print(a)\n",
    "for l in  f.readlines():\n",
    "    print(type(l))\n",
    "    a=int(l)+10\n",
    "    print(a)\n"
   ]
  },
  {
   "cell_type": "code",
   "execution_count": 13,
   "metadata": {},
   "outputs": [
    {
     "ename": "NameError",
     "evalue": "name 's' is not defined",
     "output_type": "error",
     "traceback": [
      "\u001b[1;31m---------------------------------------------------------------------------\u001b[0m",
      "\u001b[1;31mNameError\u001b[0m                                 Traceback (most recent call last)",
      "\u001b[1;32m<ipython-input-13-ded5ba42480f>\u001b[0m in \u001b[0;36m<module>\u001b[1;34m\u001b[0m\n\u001b[1;32m----> 1\u001b[1;33m \u001b[0ms\u001b[0m\u001b[1;33m\u001b[0m\u001b[1;33m\u001b[0m\u001b[0m\n\u001b[0m",
      "\u001b[1;31mNameError\u001b[0m: name 's' is not defined"
     ]
    }
   ],
   "source": [
    "s"
   ]
  },
  {
   "cell_type": "code",
   "execution_count": 7,
   "metadata": {
    "id": "98HueekYYl9e",
    "outputId": "9c4ac973-54c9-4adb-b50d-99ed89204e10"
   },
   "outputs": [
    {
     "name": "stdout",
     "output_type": "stream",
     "text": [
      "1\n",
      " --- 10.0\n",
      "Unexpected error: (<class 'ZeroDivisionError'>, ZeroDivisionError('division by zero'), <traceback object at 0x0000015C02206580>)\n"
     ]
    }
   ],
   "source": [
    "import sys\n",
    "\n",
    "try:\n",
    "    f = open(\"E:\\\\Python\\\\numbers.txt\")\n",
    "    for l in  f.readlines():\n",
    "        #print(l)\n",
    "        c=10/int(l)\n",
    "        print(l,'---' ,c)\n",
    "        #i = int(s.strip())\n",
    "        #print(i)\n",
    "except IOError as e:\n",
    "    print(e.args)\n",
    "    errno, strerror = e.args    \n",
    "    print (\"I/O error {0} : {1}\".format(errno, strerror))\n",
    "except ValueError:\n",
    "    #c=10+10\n",
    "    #print(c)\n",
    "    print (\"No valid integer in line.\")\n",
    "except:\n",
    "    print (\"Unexpected error:\", sys.exc_info())\n",
    "    #raise\n",
    "\n"
   ]
  },
  {
   "cell_type": "code",
   "execution_count": 8,
   "metadata": {},
   "outputs": [
    {
     "ename": "ZeroDivisionError",
     "evalue": "division by zero",
     "output_type": "error",
     "traceback": [
      "\u001b[1;31m---------------------------------------------------------------------------\u001b[0m",
      "\u001b[1;31mZeroDivisionError\u001b[0m                         Traceback (most recent call last)",
      "\u001b[1;32m<ipython-input-8-e574edb36883>\u001b[0m in \u001b[0;36m<module>\u001b[1;34m\u001b[0m\n\u001b[1;32m----> 1\u001b[1;33m \u001b[1;36m10\u001b[0m\u001b[1;33m/\u001b[0m\u001b[1;36m0\u001b[0m\u001b[1;33m\u001b[0m\u001b[1;33m\u001b[0m\u001b[0m\n\u001b[0m",
      "\u001b[1;31mZeroDivisionError\u001b[0m: division by zero"
     ]
    }
   ],
   "source": [
    "10/0"
   ]
  },
  {
   "cell_type": "code",
   "execution_count": null,
   "metadata": {
    "id": "KqJyEw2sYl9f",
    "outputId": "eb2488e6-95fb-4202-f9e3-748986ade5ca"
   },
   "outputs": [],
   "source": [
    "try:\n",
    "    #testfile = open('datattytyry.txt')  #raise IOError class object\n",
    "    testfile = open('data.txt')\n",
    "    try:\n",
    "        txns = testfile.readlines()\n",
    "        print (\"File data = \",txns)\n",
    "        \n",
    "    except:\n",
    "        print(\"Not able to readlines\")\n",
    "    finally:\n",
    "        print (\"In Inner finally\")\n",
    "        \n",
    "except IOError:\n",
    "    print ('unable to access test file\\n')\n",
    "finally:\n",
    "        print (\"In Outer finally\")\n",
    "        \n",
    "        #testfile.close()\n",
    "\n",
    "\n",
    "print (\"In END!!!!\")\n"
   ]
  },
  {
   "cell_type": "code",
   "execution_count": null,
   "metadata": {
    "id": "uMy0_V6VYl9g"
   },
   "outputs": [],
   "source": [
    "try: \n",
    "    \n",
    "    if int_rate in (7,8,9):\n",
    "        maturity_amt = deposit_amt + depo_amt*(int_rate/100)\n",
    "    else: \n",
    "        raise Exception(\"int rate should be 7,8,9\")\n",
    "\n",
    "except:\n",
    "        print(\"Enter only 7,8,9\")\n",
    "finally :\n",
    "        int_rate = 7"
   ]
  },
  {
   "cell_type": "code",
   "execution_count": null,
   "metadata": {
    "colab": {
     "base_uri": "https://localhost:8080/",
     "height": 197
    },
    "executionInfo": {
     "elapsed": 1033,
     "status": "error",
     "timestamp": 1614662696801,
     "user": {
      "displayName": "amrita helwade",
      "photoUrl": "",
      "userId": "10957998030476280589"
     },
     "user_tz": -330
    },
    "id": "NWbrcF2_Yl9g",
    "outputId": "357ff111-d34f-4739-b089-805fbde2c97c"
   },
   "outputs": [],
   "source": [
    "a=10\n",
    "b=\"As\"\n",
    "a+b"
   ]
  },
  {
   "cell_type": "code",
   "execution_count": null,
   "metadata": {
    "id": "_B3EglqWYl9h"
   },
   "outputs": [],
   "source": [
    "# AssertionError\tRaised when assert statement fails.\n",
    "# AttributeError\tRaised when attribute assignment or reference fails.\n",
    "# EOFError\tRaised when the input() functions hits end-of-file condition.\n",
    "# FloatingPointError\tRaised when a floating point operation fails.\n",
    "# GeneratorExit\tRaise when a generator's close() method is called.\n",
    "# ImportError\tRaised when the imported module is not found.\n",
    "# IndexError\tRaised when index of a sequence is out of range.\n",
    "# KeyError\tRaised when a key is not found in a dictionary.\n",
    "# KeyboardInterrupt\tRaised when the user hits interrupt key (Ctrl+c or delete).\n",
    "# MemoryError\tRaised when an operation runs out of memory.\n",
    "# NameError\tRaised when a variable is not found in local or global scope.\n",
    "# NotImplementedError\tRaised by abstract methods.\n",
    "# OSError\tRaised when system operation causes system related error.\n",
    "# OverflowError\tRaised when result of an arithmetic operation is too large to be represented.\n",
    "# ReferenceError\tRaised when a weak reference proxy is used to access a garbage collected referent.\n",
    "# RuntimeError\tRaised when an error does not fall under any other category.\n",
    "# StopIteration\tRaised by next() function to indicate that there is no further item to be returned by iterator.\n",
    "# SyntaxError\tRaised by parser when syntax error is encountered.\n",
    "# IndentationError\tRaised when there is incorrect indentation.\n",
    "# TabError\tRaised when indentation consists of inconsistent tabs and spaces.\n",
    "# SystemError\tRaised when interpreter detects internal error.\n",
    "# SystemExit\tRaised by sys.exit() function.\n",
    "# TypeError\tRaised when a function or operation is applied to an object of incorrect type.\n",
    "# UnboundLocalError\tRaised when a reference is made to a local variable in a function or method, but no value has been bound to that variable.\n",
    "# UnicodeError\tRaised when a Unicode-related encoding or decoding error occurs.\n",
    "# UnicodeEncodeError\tRaised when a Unicode-related error occurs during encoding.\n",
    "# UnicodeDecodeError\tRaised when a Unicode-related error occurs during decoding.\n",
    "# UnicodeTranslateError\tRaised when a Unicode-related error occurs during translating.\n",
    "# ValueError\tRaised when a function gets argument of correct type but improper value.\n",
    "# ZeroDivisionError\tRaised when second operand of division or modulo operation is zero.                                                                                                                                                                                                      "
   ]
  },
  {
   "cell_type": "code",
   "execution_count": null,
   "metadata": {
    "id": "vHycpmsBYl9i",
    "outputId": "2ca5ac39-f75f-4016-9682-e766c7237fc0"
   },
   "outputs": [],
   "source": [
    "a=10\n",
    "id(a)"
   ]
  },
  {
   "cell_type": "code",
   "execution_count": null,
   "metadata": {
    "id": "QLTQoxfxYl9j",
    "outputId": "0a7a89e7-f783-4b28-b57d-011fa3ffcf60"
   },
   "outputs": [],
   "source": [
    "b=0\n",
    "a/b"
   ]
  },
  {
   "cell_type": "code",
   "execution_count": null,
   "metadata": {
    "id": "TgHALakdYl9j"
   },
   "outputs": [],
   "source": [
    "a=12\n",
    "id(a)"
   ]
  },
  {
   "cell_type": "code",
   "execution_count": null,
   "metadata": {
    "id": "D21Eh6_RYl9j"
   },
   "outputs": [],
   "source": [
    "a"
   ]
  },
  {
   "cell_type": "code",
   "execution_count": 19,
   "metadata": {},
   "outputs": [
    {
     "name": "stdout",
     "output_type": "stream",
     "text": [
      "Enter your nameuioo\n",
      "Enter your marks890\n"
     ]
    }
   ],
   "source": [
    "name = input(\"Enter your name\")\n",
    "marks = input(\"Enter your marks\")\n",
    "\n",
    "\n",
    "def validation(name, marks):\n",
    "    try:\n",
    "        if name.isalpha():\n",
    "            print(\"Welcome \", name)\n",
    "        else:\n",
    "            raise Exception(\"Only letters are allowed here for name\")\n",
    "\n",
    "\n",
    "        marks = float(marks)\n",
    "        print(\"your marks are\", marks)\n",
    "        \n",
    "        if marks > 100:\n",
    "            raise Exception(\" Marks can not be greater than 100 \")\n",
    "    except ValueError:\n",
    "        print(\"Enter only numbers for marks\")\n",
    "\n",
    "    except Exception:\n",
    "        print(\"ERROR DUE TO \",sys.exc_info())\n"
   ]
  },
  {
   "cell_type": "code",
   "execution_count": 21,
   "metadata": {},
   "outputs": [
    {
     "name": "stdout",
     "output_type": "stream",
     "text": [
      "Welcome  uioo\n",
      "your marks are 890.0\n",
      "ERROR DUE TO  (<class 'Exception'>, Exception(), <traceback object at 0x000001FCE694FE40>)\n"
     ]
    }
   ],
   "source": [
    "validation(name,marks)"
   ]
  },
  {
   "cell_type": "code",
   "execution_count": null,
   "metadata": {},
   "outputs": [],
   "source": [
    "validation(\"12qwe\",90)"
   ]
  },
  {
   "cell_type": "code",
   "execution_count": null,
   "metadata": {},
   "outputs": [],
   "source": [
    "validation(\"andmf\",\"9012as\")"
   ]
  },
  {
   "cell_type": "code",
   "execution_count": 35,
   "metadata": {},
   "outputs": [],
   "source": [
    "def val_name(name):\n",
    "    try:\n",
    "        if name.isalpha():\n",
    "            print(\"Welcome \", name)\n",
    "            return True\n",
    "        else:\n",
    "            raise Exception(\"Only letters are allowed here for name\")\n",
    "\n",
    "    except Exception:\n",
    "        print(\"ERROR DUE TO \",sys.exc_info())\n",
    "        return False\n",
    "\n",
    "def val_marks(marks):\n",
    "    try:\n",
    "        marks = float(marks)\n",
    "        print(\"your marks are\", marks)\n",
    "        \n",
    "        if marks > 100:\n",
    "            raise Exception(\" Marks can not be greater than 100 \")\n",
    "        else:\n",
    "            return True\n",
    "    except ValueError:\n",
    "        print(\"Enter only numbers for marks\")\n",
    "        return False\n",
    "    except Exception:\n",
    "        print(\"Enter only numbers for marks\")\n",
    "        return False"
   ]
  },
  {
   "cell_type": "code",
   "execution_count": 33,
   "metadata": {},
   "outputs": [
    {
     "name": "stdout",
     "output_type": "stream",
     "text": [
      "enter namesuyash\n",
      "Welcome  suyash\n"
     ]
    },
    {
     "data": {
      "text/plain": [
       "True"
      ]
     },
     "execution_count": 33,
     "metadata": {},
     "output_type": "execute_result"
    }
   ],
   "source": [
    "name = input(\"enter name\")\n",
    "val_name(name)"
   ]
  },
  {
   "cell_type": "code",
   "execution_count": 26,
   "metadata": {},
   "outputs": [
    {
     "name": "stdout",
     "output_type": "stream",
     "text": [
      "enter name345df\n",
      "ERROR DUE TO  (<class 'Exception'>, Exception('Only letters are allowed here for name'), <traceback object at 0x000001FCE6974E40>)\n"
     ]
    }
   ],
   "source": [
    "name_flag = val_name(input(\"enter name\"))"
   ]
  },
  {
   "cell_type": "code",
   "execution_count": 30,
   "metadata": {},
   "outputs": [
    {
     "data": {
      "text/plain": [
       "False"
      ]
     },
     "execution_count": 30,
     "metadata": {},
     "output_type": "execute_result"
    }
   ],
   "source": [
    "name_flag"
   ]
  },
  {
   "cell_type": "code",
   "execution_count": 36,
   "metadata": {},
   "outputs": [
    {
     "name": "stdout",
     "output_type": "stream",
     "text": [
      "enter marks500\n",
      "your marks are 500.0\n",
      "Enter only numbers for marks\n"
     ]
    }
   ],
   "source": [
    "marks=input(\"enter marks\")\n",
    "marks_flag = val_marks(marks)"
   ]
  },
  {
   "cell_type": "code",
   "execution_count": 37,
   "metadata": {},
   "outputs": [
    {
     "data": {
      "text/plain": [
       "False"
      ]
     },
     "execution_count": 37,
     "metadata": {},
     "output_type": "execute_result"
    }
   ],
   "source": [
    "marks_flag"
   ]
  },
  {
   "cell_type": "code",
   "execution_count": 34,
   "metadata": {},
   "outputs": [
    {
     "name": "stdout",
     "output_type": "stream",
     "text": [
      "not valid\n"
     ]
    }
   ],
   "source": [
    "if name_flag and marks_flag:\n",
    "    print(\"Valid info\")\n",
    "else:\n",
    "    print(\"not valid\")"
   ]
  },
  {
   "cell_type": "code",
   "execution_count": 39,
   "metadata": {},
   "outputs": [],
   "source": [
    "a= \"PRIYA\""
   ]
  },
  {
   "cell_type": "code",
   "execution_count": 40,
   "metadata": {},
   "outputs": [
    {
     "data": {
      "text/plain": [
       "'AYIRP'"
      ]
     },
     "execution_count": 40,
     "metadata": {},
     "output_type": "execute_result"
    }
   ],
   "source": [
    "a[::-1]"
   ]
  },
  {
   "cell_type": "code",
   "execution_count": null,
   "metadata": {},
   "outputs": [],
   "source": [
    "\"I am moving to the town\""
   ]
  },
  {
   "cell_type": "code",
   "execution_count": null,
   "metadata": {},
   "outputs": [],
   "source": [
    "['I','am', '']"
   ]
  },
  {
   "cell_type": "code",
   "execution_count": 41,
   "metadata": {},
   "outputs": [],
   "source": [
    "marks = 89.366666"
   ]
  },
  {
   "cell_type": "code",
   "execution_count": 43,
   "metadata": {},
   "outputs": [
    {
     "data": {
      "text/plain": [
       "'Here marks are 89.37'"
      ]
     },
     "execution_count": 43,
     "metadata": {},
     "output_type": "execute_result"
    }
   ],
   "source": [
    "\"Here marks are {:.2f}\".format(marks)"
   ]
  },
  {
   "cell_type": "code",
   "execution_count": null,
   "metadata": {},
   "outputs": [],
   "source": [
    "'AAAAA1234B'"
   ]
  },
  {
   "cell_type": "code",
   "execution_count": null,
   "metadata": {},
   "outputs": [],
   "source": [
    "'12VVasBBa1'"
   ]
  },
  {
   "cell_type": "code",
   "execution_count": 53,
   "metadata": {},
   "outputs": [
    {
     "name": "stdout",
     "output_type": "stream",
     "text": [
      "A\n",
      "A OK\n",
      "A\n",
      "A OK\n",
      "A\n",
      "A OK\n",
      "A\n",
      "A OK\n",
      "A\n",
      "A OK\n",
      "1\n",
      "1 OK digits\n",
      "2\n",
      "2 OK digits\n",
      "3\n",
      "3 OK digits\n",
      "4\n",
      "4 OK digits\n",
      "B\n",
      "B ok last letter\n"
     ]
    }
   ],
   "source": [
    "first_four_letters =0\n",
    "cnt = 0\n",
    "val=False\n",
    "for i in \"AAAAA1234B\":\n",
    "    print(i)\n",
    "    if i.isalpha() == True and cnt<5:\n",
    "        print(i, \"OK\")\n",
    "        val=True\n",
    "    \n",
    "    if i.isdigit() == True and cnt in(5,6,7,8):\n",
    "        print(i, \"OK digits\")\n",
    "        val=True\n",
    "    \n",
    "    if i.isalpha()==True and cnt ==9:\n",
    "        print(i,\"ok last letter\")\n",
    "        val=True\n",
    "        \n",
    "    cnt = cnt +1"
   ]
  }
 ],
 "metadata": {
  "colab": {
   "name": "05-exception-handling.ipynb",
   "provenance": []
  },
  "kernelspec": {
   "display_name": "Python 3",
   "language": "python",
   "name": "python3"
  },
  "language_info": {
   "codemirror_mode": {
    "name": "ipython",
    "version": 3
   },
   "file_extension": ".py",
   "mimetype": "text/x-python",
   "name": "python",
   "nbconvert_exporter": "python",
   "pygments_lexer": "ipython3",
   "version": "3.8.5"
  }
 },
 "nbformat": 4,
 "nbformat_minor": 1
}

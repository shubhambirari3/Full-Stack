{
 "cells": [
  {
   "cell_type": "markdown",
   "metadata": {},
   "source": [
    "cd C:\\Program Files\\Python37\\Scripts\n",
    "\n",
    "\n",
    "###python -m pip install mysql-connector\n",
    "\n",
    "!pip install mysql-connector\n",
    "\n",
    "Pycharm :  cmd             : pip install MySQL-connector-python\n",
    "\n",
    "Jupyter :  Anaconda Prompt : conda install MySQL-connector-python"
   ]
  },
  {
   "cell_type": "code",
   "execution_count": null,
   "metadata": {},
   "outputs": [],
   "source": [
    "!pip install mysql-connector"
   ]
  },
  {
   "cell_type": "markdown",
   "metadata": {},
   "source": [
    "## Oracle connectivity with python:\n",
    "pip install cx_Oracle\n",
    " \n",
    " #### Find out connection information from\n",
    " tnsnames.ora\n",
    " \n",
    " #### Python coding\n",
    " \n",
    " import cx_Oracle\n",
    "\n",
    "dsn_tns = cx_Oracle.makedsn('Host Name', 'Port Number', service_name='Service Name') \n",
    "\n",
    "conn = cx_Oracle.connect(user=r'User Name', password='Personal Password', dsn=dsn_tns) \n",
    "\n",
    "c = conn.cursor()"
   ]
  },
  {
   "cell_type": "code",
   "execution_count": 3,
   "metadata": {},
   "outputs": [
    {
     "name": "stdout",
     "output_type": "stream",
     "text": [
      "Collecting MySQL-connector-python\n",
      "  Downloading mysql_connector_python-8.0.25-cp38-cp38-win_amd64.whl (794 kB)\n",
      "Collecting protobuf>=3.0.0\n",
      "  Downloading protobuf-3.17.3-py2.py3-none-any.whl (173 kB)\n",
      "Requirement already satisfied: six>=1.9 in c:\\users\\amrita\\anaconda3\\lib\\site-packages (from protobuf>=3.0.0->MySQL-connector-python) (1.15.0)\n",
      "Installing collected packages: protobuf, MySQL-connector-python\n",
      "Successfully installed MySQL-connector-python-8.0.25 protobuf-3.17.3\n"
     ]
    }
   ],
   "source": [
    "!pip install MySQL-connector-python"
   ]
  },
  {
   "cell_type": "code",
   "execution_count": 2,
   "metadata": {},
   "outputs": [],
   "source": [
    "import mysql.connector "
   ]
  },
  {
   "cell_type": "code",
   "execution_count": 3,
   "metadata": {},
   "outputs": [],
   "source": [
    "mydb = mysql.connector.connect(host=\"localhost\",database=\"sakila\", user=\"root\",passwd=\"MySQL@2021\")\n",
    "\n",
    "#mydb = mysqlcon.connect(host=\"localhost\", database=\"sakila\" ,user=\"root\", passwd=\"Sql@2020\")\n"
   ]
  },
  {
   "cell_type": "code",
   "execution_count": 4,
   "metadata": {},
   "outputs": [],
   "source": [
    "c=mydb.cursor()"
   ]
  },
  {
   "cell_type": "code",
   "execution_count": 6,
   "metadata": {},
   "outputs": [],
   "source": [
    "c.execute(\"select * from sakila.actor\")"
   ]
  },
  {
   "cell_type": "code",
   "execution_count": 7,
   "metadata": {},
   "outputs": [],
   "source": [
    "records = c.fetchall()"
   ]
  },
  {
   "cell_type": "code",
   "execution_count": 14,
   "metadata": {},
   "outputs": [
    {
     "data": {
      "text/plain": [
       "datetime.datetime(2022, 10, 17, 12, 17, 50)"
      ]
     },
     "execution_count": 14,
     "metadata": {},
     "output_type": "execute_result"
    }
   ],
   "source": [
    "records[1][3]"
   ]
  },
  {
   "cell_type": "code",
   "execution_count": 6,
   "metadata": {},
   "outputs": [
    {
     "data": {
      "text/plain": [
       "list"
      ]
     },
     "execution_count": 6,
     "metadata": {},
     "output_type": "execute_result"
    }
   ],
   "source": [
    "type(records)"
   ]
  },
  {
   "cell_type": "code",
   "execution_count": 10,
   "metadata": {},
   "outputs": [
    {
     "data": {
      "text/plain": [
       "tuple"
      ]
     },
     "execution_count": 10,
     "metadata": {},
     "output_type": "execute_result"
    }
   ],
   "source": [
    "type(records[1])"
   ]
  },
  {
   "cell_type": "code",
   "execution_count": 8,
   "metadata": {},
   "outputs": [
    {
     "data": {
      "text/plain": [
       "[(1, 'PENELOPE', 'GUINESS', datetime.datetime(2006, 2, 15, 4, 34, 33)),\n",
       " (2, 'NICK', 'WAHLBERG', datetime.datetime(2006, 2, 15, 4, 34, 33)),\n",
       " (3, 'ED', 'CHASE', datetime.datetime(2006, 2, 15, 4, 34, 33)),\n",
       " (4, 'JENNIFER', 'DAVIS', datetime.datetime(2006, 2, 15, 4, 34, 33)),\n",
       " (5, 'JOHNNY', 'LOLLOBRIGIDA', datetime.datetime(2006, 2, 15, 4, 34, 33)),\n",
       " (6, 'BETTE', 'NICHOLSON', datetime.datetime(2006, 2, 15, 4, 34, 33)),\n",
       " (7, 'GRACE', 'MOSTEL', datetime.datetime(2006, 2, 15, 4, 34, 33)),\n",
       " (8, 'MATTHEW', 'JOHANSSON', datetime.datetime(2006, 2, 15, 4, 34, 33)),\n",
       " (9, 'JOE', 'SWANK', datetime.datetime(2006, 2, 15, 4, 34, 33)),\n",
       " (10, 'CHRISTIAN', 'GABLE', datetime.datetime(2006, 2, 15, 4, 34, 33)),\n",
       " (11, 'ZERO', 'CAGE', datetime.datetime(2006, 2, 15, 4, 34, 33)),\n",
       " (12, 'KARL', 'BERRY', datetime.datetime(2006, 2, 15, 4, 34, 33)),\n",
       " (13, 'UMA', 'WOOD', datetime.datetime(2006, 2, 15, 4, 34, 33)),\n",
       " (14, 'VIVIEN', 'BERGEN', datetime.datetime(2006, 2, 15, 4, 34, 33)),\n",
       " (15, 'CUBA', 'OLIVIER', datetime.datetime(2006, 2, 15, 4, 34, 33)),\n",
       " (16, 'FRED', 'COSTNER', datetime.datetime(2006, 2, 15, 4, 34, 33)),\n",
       " (17, 'HELEN', 'VOIGHT', datetime.datetime(2006, 2, 15, 4, 34, 33)),\n",
       " (18, 'DAN', 'TORN', datetime.datetime(2006, 2, 15, 4, 34, 33)),\n",
       " (19, 'BOB', 'FAWCETT', datetime.datetime(2006, 2, 15, 4, 34, 33)),\n",
       " (20, 'LUCILLE', 'TRACY', datetime.datetime(2006, 2, 15, 4, 34, 33)),\n",
       " (21, 'KIRSTEN', 'PALTROW', datetime.datetime(2006, 2, 15, 4, 34, 33)),\n",
       " (22, 'ELVIS', 'MARX', datetime.datetime(2006, 2, 15, 4, 34, 33)),\n",
       " (23, 'SANDRA', 'KILMER', datetime.datetime(2006, 2, 15, 4, 34, 33)),\n",
       " (24, 'CAMERON', 'STREEP', datetime.datetime(2006, 2, 15, 4, 34, 33)),\n",
       " (25, 'KEVIN', 'BLOOM', datetime.datetime(2006, 2, 15, 4, 34, 33)),\n",
       " (26, 'RIP', 'CRAWFORD', datetime.datetime(2006, 2, 15, 4, 34, 33)),\n",
       " (27, 'JULIA', 'MCQUEEN', datetime.datetime(2006, 2, 15, 4, 34, 33)),\n",
       " (28, 'WOODY', 'HOFFMAN', datetime.datetime(2006, 2, 15, 4, 34, 33)),\n",
       " (29, 'ALEC', 'WAYNE', datetime.datetime(2006, 2, 15, 4, 34, 33)),\n",
       " (30, 'SANDRA', 'PECK', datetime.datetime(2006, 2, 15, 4, 34, 33)),\n",
       " (31, 'SISSY', 'SOBIESKI', datetime.datetime(2006, 2, 15, 4, 34, 33)),\n",
       " (32, 'TIM', 'HACKMAN', datetime.datetime(2006, 2, 15, 4, 34, 33)),\n",
       " (33, 'MILLA', 'PECK', datetime.datetime(2006, 2, 15, 4, 34, 33)),\n",
       " (34, 'AUDREY', 'OLIVIER', datetime.datetime(2006, 2, 15, 4, 34, 33)),\n",
       " (35, 'JUDY', 'DEAN', datetime.datetime(2006, 2, 15, 4, 34, 33)),\n",
       " (36, 'BURT', 'DUKAKIS', datetime.datetime(2006, 2, 15, 4, 34, 33)),\n",
       " (37, 'VAL', 'BOLGER', datetime.datetime(2006, 2, 15, 4, 34, 33)),\n",
       " (38, 'TOM', 'MCKELLEN', datetime.datetime(2006, 2, 15, 4, 34, 33)),\n",
       " (39, 'GOLDIE', 'BRODY', datetime.datetime(2006, 2, 15, 4, 34, 33)),\n",
       " (40, 'JOHNNY', 'CAGE', datetime.datetime(2006, 2, 15, 4, 34, 33)),\n",
       " (41, 'JODIE', 'DEGENERES', datetime.datetime(2006, 2, 15, 4, 34, 33)),\n",
       " (42, 'TOM', 'MIRANDA', datetime.datetime(2006, 2, 15, 4, 34, 33)),\n",
       " (43, 'KIRK', 'JOVOVICH', datetime.datetime(2006, 2, 15, 4, 34, 33)),\n",
       " (44, 'NICK', 'STALLONE', datetime.datetime(2006, 2, 15, 4, 34, 33)),\n",
       " (45, 'REESE', 'KILMER', datetime.datetime(2006, 2, 15, 4, 34, 33)),\n",
       " (46, 'PARKER', 'GOLDBERG', datetime.datetime(2006, 2, 15, 4, 34, 33)),\n",
       " (47, 'JULIA', 'BARRYMORE', datetime.datetime(2006, 2, 15, 4, 34, 33)),\n",
       " (48, 'FRANCES', 'DAY-LEWIS', datetime.datetime(2006, 2, 15, 4, 34, 33)),\n",
       " (49, 'ANNE', 'CRONYN', datetime.datetime(2006, 2, 15, 4, 34, 33)),\n",
       " (50, 'NATALIE', 'HOPKINS', datetime.datetime(2006, 2, 15, 4, 34, 33)),\n",
       " (51, 'GARY', 'PHOENIX', datetime.datetime(2006, 2, 15, 4, 34, 33)),\n",
       " (52, 'CARMEN', 'HUNT', datetime.datetime(2006, 2, 15, 4, 34, 33)),\n",
       " (53, 'MENA', 'TEMPLE', datetime.datetime(2006, 2, 15, 4, 34, 33)),\n",
       " (54, 'PENELOPE', 'PINKETT', datetime.datetime(2006, 2, 15, 4, 34, 33)),\n",
       " (55, 'FAY', 'KILMER', datetime.datetime(2006, 2, 15, 4, 34, 33)),\n",
       " (56, 'DAN', 'HARRIS', datetime.datetime(2006, 2, 15, 4, 34, 33)),\n",
       " (57, 'JUDE', 'CRUISE', datetime.datetime(2006, 2, 15, 4, 34, 33)),\n",
       " (58, 'CHRISTIAN', 'AKROYD', datetime.datetime(2006, 2, 15, 4, 34, 33)),\n",
       " (59, 'DUSTIN', 'TAUTOU', datetime.datetime(2006, 2, 15, 4, 34, 33)),\n",
       " (60, 'HENRY', 'BERRY', datetime.datetime(2006, 2, 15, 4, 34, 33)),\n",
       " (61, 'CHRISTIAN', 'NEESON', datetime.datetime(2006, 2, 15, 4, 34, 33)),\n",
       " (62, 'JAYNE', 'NEESON', datetime.datetime(2006, 2, 15, 4, 34, 33)),\n",
       " (63, 'CAMERON', 'WRAY', datetime.datetime(2006, 2, 15, 4, 34, 33)),\n",
       " (64, 'RAY', 'JOHANSSON', datetime.datetime(2006, 2, 15, 4, 34, 33)),\n",
       " (65, 'ANGELA', 'HUDSON', datetime.datetime(2006, 2, 15, 4, 34, 33)),\n",
       " (66, 'MARY', 'TANDY', datetime.datetime(2006, 2, 15, 4, 34, 33)),\n",
       " (67, 'JESSICA', 'BAILEY', datetime.datetime(2006, 2, 15, 4, 34, 33)),\n",
       " (68, 'RIP', 'WINSLET', datetime.datetime(2006, 2, 15, 4, 34, 33)),\n",
       " (69, 'KENNETH', 'PALTROW', datetime.datetime(2006, 2, 15, 4, 34, 33)),\n",
       " (70, 'MICHELLE', 'MCCONAUGHEY', datetime.datetime(2006, 2, 15, 4, 34, 33)),\n",
       " (71, 'ADAM', 'GRANT', datetime.datetime(2006, 2, 15, 4, 34, 33)),\n",
       " (72, 'SEAN', 'WILLIAMS', datetime.datetime(2006, 2, 15, 4, 34, 33)),\n",
       " (73, 'GARY', 'PENN', datetime.datetime(2006, 2, 15, 4, 34, 33)),\n",
       " (74, 'MILLA', 'KEITEL', datetime.datetime(2006, 2, 15, 4, 34, 33)),\n",
       " (75, 'BURT', 'POSEY', datetime.datetime(2006, 2, 15, 4, 34, 33)),\n",
       " (76, 'ANGELINA', 'ASTAIRE', datetime.datetime(2006, 2, 15, 4, 34, 33)),\n",
       " (77, 'CARY', 'MCCONAUGHEY', datetime.datetime(2006, 2, 15, 4, 34, 33)),\n",
       " (78, 'GROUCHO', 'SINATRA', datetime.datetime(2006, 2, 15, 4, 34, 33)),\n",
       " (79, 'MAE', 'HOFFMAN', datetime.datetime(2006, 2, 15, 4, 34, 33)),\n",
       " (80, 'RALPH', 'CRUZ', datetime.datetime(2006, 2, 15, 4, 34, 33)),\n",
       " (81, 'SCARLETT', 'DAMON', datetime.datetime(2006, 2, 15, 4, 34, 33)),\n",
       " (82, 'WOODY', 'JOLIE', datetime.datetime(2006, 2, 15, 4, 34, 33)),\n",
       " (83, 'BEN', 'WILLIS', datetime.datetime(2006, 2, 15, 4, 34, 33)),\n",
       " (84, 'JAMES', 'PITT', datetime.datetime(2006, 2, 15, 4, 34, 33)),\n",
       " (85, 'MINNIE', 'ZELLWEGER', datetime.datetime(2006, 2, 15, 4, 34, 33)),\n",
       " (86, 'GREG', 'CHAPLIN', datetime.datetime(2006, 2, 15, 4, 34, 33)),\n",
       " (87, 'SPENCER', 'PECK', datetime.datetime(2006, 2, 15, 4, 34, 33)),\n",
       " (88, 'KENNETH', 'PESCI', datetime.datetime(2006, 2, 15, 4, 34, 33)),\n",
       " (89, 'CHARLIZE', 'DENCH', datetime.datetime(2006, 2, 15, 4, 34, 33)),\n",
       " (90, 'SEAN', 'GUINESS', datetime.datetime(2006, 2, 15, 4, 34, 33)),\n",
       " (91, 'CHRISTOPHER', 'BERRY', datetime.datetime(2006, 2, 15, 4, 34, 33)),\n",
       " (92, 'KIRSTEN', 'AKROYD', datetime.datetime(2006, 2, 15, 4, 34, 33)),\n",
       " (93, 'ELLEN', 'PRESLEY', datetime.datetime(2006, 2, 15, 4, 34, 33)),\n",
       " (94, 'KENNETH', 'TORN', datetime.datetime(2006, 2, 15, 4, 34, 33)),\n",
       " (95, 'DARYL', 'WAHLBERG', datetime.datetime(2006, 2, 15, 4, 34, 33)),\n",
       " (96, 'GENE', 'WILLIS', datetime.datetime(2006, 2, 15, 4, 34, 33)),\n",
       " (97, 'MEG', 'HAWKE', datetime.datetime(2006, 2, 15, 4, 34, 33)),\n",
       " (98, 'CHRIS', 'BRIDGES', datetime.datetime(2006, 2, 15, 4, 34, 33)),\n",
       " (99, 'JIM', 'MOSTEL', datetime.datetime(2006, 2, 15, 4, 34, 33)),\n",
       " (100, 'SPENCER', 'DEPP', datetime.datetime(2006, 2, 15, 4, 34, 33)),\n",
       " (101, 'SUSAN', 'DAVIS', datetime.datetime(2006, 2, 15, 4, 34, 33)),\n",
       " (102, 'WALTER', 'TORN', datetime.datetime(2006, 2, 15, 4, 34, 33)),\n",
       " (103, 'MATTHEW', 'LEIGH', datetime.datetime(2006, 2, 15, 4, 34, 33)),\n",
       " (104, 'PENELOPE', 'CRONYN', datetime.datetime(2006, 2, 15, 4, 34, 33)),\n",
       " (105, 'SIDNEY', 'CROWE', datetime.datetime(2006, 2, 15, 4, 34, 33)),\n",
       " (106, 'GROUCHO', 'DUNST', datetime.datetime(2006, 2, 15, 4, 34, 33)),\n",
       " (107, 'GINA', 'DEGENERES', datetime.datetime(2006, 2, 15, 4, 34, 33)),\n",
       " (108, 'WARREN', 'NOLTE', datetime.datetime(2006, 2, 15, 4, 34, 33)),\n",
       " (109, 'SYLVESTER', 'DERN', datetime.datetime(2006, 2, 15, 4, 34, 33)),\n",
       " (110, 'SUSAN', 'DAVIS', datetime.datetime(2006, 2, 15, 4, 34, 33)),\n",
       " (111, 'CAMERON', 'ZELLWEGER', datetime.datetime(2006, 2, 15, 4, 34, 33)),\n",
       " (112, 'RUSSELL', 'BACALL', datetime.datetime(2006, 2, 15, 4, 34, 33)),\n",
       " (113, 'MORGAN', 'HOPKINS', datetime.datetime(2006, 2, 15, 4, 34, 33)),\n",
       " (114, 'MORGAN', 'MCDORMAND', datetime.datetime(2006, 2, 15, 4, 34, 33)),\n",
       " (115, 'HARRISON', 'BALE', datetime.datetime(2006, 2, 15, 4, 34, 33)),\n",
       " (116, 'DAN', 'STREEP', datetime.datetime(2006, 2, 15, 4, 34, 33)),\n",
       " (117, 'RENEE', 'TRACY', datetime.datetime(2006, 2, 15, 4, 34, 33)),\n",
       " (118, 'CUBA', 'ALLEN', datetime.datetime(2006, 2, 15, 4, 34, 33)),\n",
       " (119, 'WARREN', 'JACKMAN', datetime.datetime(2006, 2, 15, 4, 34, 33)),\n",
       " (120, 'PENELOPE', 'MONROE', datetime.datetime(2006, 2, 15, 4, 34, 33)),\n",
       " (121, 'LIZA', 'BERGMAN', datetime.datetime(2006, 2, 15, 4, 34, 33)),\n",
       " (122, 'SALMA', 'NOLTE', datetime.datetime(2006, 2, 15, 4, 34, 33)),\n",
       " (123, 'JULIANNE', 'DENCH', datetime.datetime(2006, 2, 15, 4, 34, 33)),\n",
       " (124, 'SCARLETT', 'BENING', datetime.datetime(2006, 2, 15, 4, 34, 33)),\n",
       " (125, 'ALBERT', 'NOLTE', datetime.datetime(2006, 2, 15, 4, 34, 33)),\n",
       " (126, 'FRANCES', 'TOMEI', datetime.datetime(2006, 2, 15, 4, 34, 33)),\n",
       " (127, 'KEVIN', 'GARLAND', datetime.datetime(2006, 2, 15, 4, 34, 33)),\n",
       " (128, 'CATE', 'MCQUEEN', datetime.datetime(2006, 2, 15, 4, 34, 33)),\n",
       " (129, 'DARYL', 'CRAWFORD', datetime.datetime(2006, 2, 15, 4, 34, 33)),\n",
       " (130, 'GRETA', 'KEITEL', datetime.datetime(2006, 2, 15, 4, 34, 33)),\n",
       " (131, 'JANE', 'JACKMAN', datetime.datetime(2006, 2, 15, 4, 34, 33)),\n",
       " (132, 'ADAM', 'HOPPER', datetime.datetime(2006, 2, 15, 4, 34, 33)),\n",
       " (133, 'RICHARD', 'PENN', datetime.datetime(2006, 2, 15, 4, 34, 33)),\n",
       " (134, 'GENE', 'HOPKINS', datetime.datetime(2006, 2, 15, 4, 34, 33)),\n",
       " (135, 'RITA', 'REYNOLDS', datetime.datetime(2006, 2, 15, 4, 34, 33)),\n",
       " (136, 'ED', 'MANSFIELD', datetime.datetime(2006, 2, 15, 4, 34, 33)),\n",
       " (137, 'MORGAN', 'WILLIAMS', datetime.datetime(2006, 2, 15, 4, 34, 33)),\n",
       " (138, 'LUCILLE', 'DEE', datetime.datetime(2006, 2, 15, 4, 34, 33)),\n",
       " (139, 'EWAN', 'GOODING', datetime.datetime(2006, 2, 15, 4, 34, 33)),\n",
       " (140, 'WHOOPI', 'HURT', datetime.datetime(2006, 2, 15, 4, 34, 33)),\n",
       " (141, 'CATE', 'HARRIS', datetime.datetime(2006, 2, 15, 4, 34, 33)),\n",
       " (142, 'JADA', 'RYDER', datetime.datetime(2006, 2, 15, 4, 34, 33)),\n",
       " (143, 'RIVER', 'DEAN', datetime.datetime(2006, 2, 15, 4, 34, 33)),\n",
       " (144, 'ANGELA', 'WITHERSPOON', datetime.datetime(2006, 2, 15, 4, 34, 33)),\n",
       " (145, 'KIM', 'ALLEN', datetime.datetime(2006, 2, 15, 4, 34, 33)),\n",
       " (146, 'ALBERT', 'JOHANSSON', datetime.datetime(2006, 2, 15, 4, 34, 33)),\n",
       " (147, 'FAY', 'WINSLET', datetime.datetime(2006, 2, 15, 4, 34, 33)),\n",
       " (148, 'EMILY', 'DEE', datetime.datetime(2006, 2, 15, 4, 34, 33)),\n",
       " (149, 'RUSSELL', 'TEMPLE', datetime.datetime(2006, 2, 15, 4, 34, 33)),\n",
       " (150, 'JAYNE', 'NOLTE', datetime.datetime(2006, 2, 15, 4, 34, 33)),\n",
       " (151, 'GEOFFREY', 'HESTON', datetime.datetime(2006, 2, 15, 4, 34, 33)),\n",
       " (152, 'BEN', 'HARRIS', datetime.datetime(2006, 2, 15, 4, 34, 33)),\n",
       " (153, 'MINNIE', 'KILMER', datetime.datetime(2006, 2, 15, 4, 34, 33)),\n",
       " (154, 'MERYL', 'GIBSON', datetime.datetime(2006, 2, 15, 4, 34, 33)),\n",
       " (155, 'IAN', 'TANDY', datetime.datetime(2006, 2, 15, 4, 34, 33)),\n",
       " (156, 'FAY', 'WOOD', datetime.datetime(2006, 2, 15, 4, 34, 33)),\n",
       " (157, 'GRETA', 'MALDEN', datetime.datetime(2006, 2, 15, 4, 34, 33)),\n",
       " (158, 'VIVIEN', 'BASINGER', datetime.datetime(2006, 2, 15, 4, 34, 33)),\n",
       " (159, 'LAURA', 'BRODY', datetime.datetime(2006, 2, 15, 4, 34, 33)),\n",
       " (160, 'CHRIS', 'DEPP', datetime.datetime(2006, 2, 15, 4, 34, 33)),\n",
       " (161, 'HARVEY', 'HOPE', datetime.datetime(2006, 2, 15, 4, 34, 33)),\n",
       " (162, 'OPRAH', 'KILMER', datetime.datetime(2006, 2, 15, 4, 34, 33)),\n",
       " (163, 'CHRISTOPHER', 'WEST', datetime.datetime(2006, 2, 15, 4, 34, 33)),\n",
       " (164, 'HUMPHREY', 'WILLIS', datetime.datetime(2006, 2, 15, 4, 34, 33)),\n",
       " (165, 'AL', 'GARLAND', datetime.datetime(2006, 2, 15, 4, 34, 33)),\n",
       " (166, 'NICK', 'DEGENERES', datetime.datetime(2006, 2, 15, 4, 34, 33)),\n",
       " (167, 'LAURENCE', 'BULLOCK', datetime.datetime(2006, 2, 15, 4, 34, 33)),\n",
       " (168, 'WILL', 'WILSON', datetime.datetime(2006, 2, 15, 4, 34, 33)),\n",
       " (169, 'KENNETH', 'HOFFMAN', datetime.datetime(2006, 2, 15, 4, 34, 33)),\n",
       " (170, 'MENA', 'HOPPER', datetime.datetime(2006, 2, 15, 4, 34, 33)),\n",
       " (171, 'OLYMPIA', 'PFEIFFER', datetime.datetime(2006, 2, 15, 4, 34, 33)),\n",
       " (172, 'GROUCHO', 'WILLIAMS', datetime.datetime(2006, 2, 15, 4, 34, 33)),\n",
       " (173, 'ALAN', 'DREYFUSS', datetime.datetime(2006, 2, 15, 4, 34, 33)),\n",
       " (174, 'MICHAEL', 'BENING', datetime.datetime(2006, 2, 15, 4, 34, 33)),\n",
       " (175, 'WILLIAM', 'HACKMAN', datetime.datetime(2006, 2, 15, 4, 34, 33)),\n",
       " (176, 'JON', 'CHASE', datetime.datetime(2006, 2, 15, 4, 34, 33)),\n",
       " (177, 'GENE', 'MCKELLEN', datetime.datetime(2006, 2, 15, 4, 34, 33)),\n",
       " (178, 'LISA', 'MONROE', datetime.datetime(2006, 2, 15, 4, 34, 33)),\n",
       " (179, 'ED', 'GUINESS', datetime.datetime(2006, 2, 15, 4, 34, 33)),\n",
       " (180, 'JEFF', 'SILVERSTONE', datetime.datetime(2006, 2, 15, 4, 34, 33)),\n",
       " (181, 'MATTHEW', 'CARREY', datetime.datetime(2006, 2, 15, 4, 34, 33)),\n",
       " (182, 'DEBBIE', 'AKROYD', datetime.datetime(2006, 2, 15, 4, 34, 33)),\n",
       " (183, 'RUSSELL', 'CLOSE', datetime.datetime(2006, 2, 15, 4, 34, 33)),\n",
       " (184, 'HUMPHREY', 'GARLAND', datetime.datetime(2006, 2, 15, 4, 34, 33)),\n",
       " (185, 'MICHAEL', 'BOLGER', datetime.datetime(2006, 2, 15, 4, 34, 33)),\n",
       " (186, 'JULIA', 'ZELLWEGER', datetime.datetime(2006, 2, 15, 4, 34, 33)),\n",
       " (187, 'RENEE', 'BALL', datetime.datetime(2006, 2, 15, 4, 34, 33)),\n",
       " (188, 'ROCK', 'DUKAKIS', datetime.datetime(2006, 2, 15, 4, 34, 33)),\n",
       " (189, 'CUBA', 'BIRCH', datetime.datetime(2006, 2, 15, 4, 34, 33)),\n",
       " (190, 'AUDREY', 'BAILEY', datetime.datetime(2006, 2, 15, 4, 34, 33)),\n",
       " (191, 'GREGORY', 'GOODING', datetime.datetime(2006, 2, 15, 4, 34, 33)),\n",
       " (192, 'JOHN', 'SUVARI', datetime.datetime(2006, 2, 15, 4, 34, 33)),\n",
       " (193, 'BURT', 'TEMPLE', datetime.datetime(2006, 2, 15, 4, 34, 33)),\n",
       " (194, 'MERYL', 'ALLEN', datetime.datetime(2006, 2, 15, 4, 34, 33)),\n",
       " (195, 'JAYNE', 'SILVERSTONE', datetime.datetime(2006, 2, 15, 4, 34, 33)),\n",
       " (196, 'BELA', 'WALKEN', datetime.datetime(2006, 2, 15, 4, 34, 33)),\n",
       " (197, 'REESE', 'WEST', datetime.datetime(2006, 2, 15, 4, 34, 33)),\n",
       " (198, 'MARY', 'KEITEL', datetime.datetime(2006, 2, 15, 4, 34, 33)),\n",
       " (199, 'JULIA', 'FAWCETT', datetime.datetime(2006, 2, 15, 4, 34, 33)),\n",
       " (200, 'THORA', 'TEMPLE', datetime.datetime(2006, 2, 15, 4, 34, 33)),\n",
       " (201, 'Sonam', 'Kapoor', datetime.datetime(2009, 2, 14, 0, 0)),\n",
       " (202, 'Sonam', 'Kapoor', datetime.datetime(2009, 2, 14, 0, 0))]"
      ]
     },
     "execution_count": 8,
     "metadata": {},
     "output_type": "execute_result"
    }
   ],
   "source": [
    "records"
   ]
  },
  {
   "cell_type": "code",
   "execution_count": 8,
   "metadata": {},
   "outputs": [
    {
     "ename": "ProgrammingError",
     "evalue": "1049 (42000): Unknown database 'college'",
     "output_type": "error",
     "traceback": [
      "\u001b[1;31m---------------------------------------------------------------------------\u001b[0m",
      "\u001b[1;31mProgrammingError\u001b[0m                          Traceback (most recent call last)",
      "\u001b[1;32m<ipython-input-8-8793d00752ff>\u001b[0m in \u001b[0;36m<module>\u001b[1;34m\u001b[0m\n\u001b[1;32m----> 1\u001b[1;33m \u001b[0mdb\u001b[0m \u001b[1;33m=\u001b[0m \u001b[0mmysql\u001b[0m\u001b[1;33m.\u001b[0m\u001b[0mconnector\u001b[0m\u001b[1;33m.\u001b[0m\u001b[0mconnect\u001b[0m\u001b[1;33m(\u001b[0m\u001b[0mhost\u001b[0m\u001b[1;33m=\u001b[0m\u001b[1;34m\"localhost\"\u001b[0m\u001b[1;33m,\u001b[0m\u001b[0mdatabase\u001b[0m\u001b[1;33m=\u001b[0m\u001b[1;34m\"college\"\u001b[0m\u001b[1;33m,\u001b[0m \u001b[0muser\u001b[0m\u001b[1;33m=\u001b[0m\u001b[1;34m\"root\"\u001b[0m\u001b[1;33m,\u001b[0m\u001b[0mpasswd\u001b[0m\u001b[1;33m=\u001b[0m\u001b[1;34m\"MySQL@2021\"\u001b[0m\u001b[1;33m)\u001b[0m\u001b[1;33m\u001b[0m\u001b[1;33m\u001b[0m\u001b[0m\n\u001b[0m\u001b[0;32m      2\u001b[0m \u001b[0mc\u001b[0m\u001b[1;33m=\u001b[0m\u001b[0mdb\u001b[0m\u001b[1;33m.\u001b[0m\u001b[0mcursor\u001b[0m\u001b[1;33m(\u001b[0m\u001b[1;33m)\u001b[0m\u001b[1;33m\u001b[0m\u001b[1;33m\u001b[0m\u001b[0m\n\u001b[0;32m      3\u001b[0m \u001b[0mc\u001b[0m\u001b[1;33m.\u001b[0m\u001b[0mexecute\u001b[0m\u001b[1;33m(\u001b[0m\u001b[1;34m\"select * from college.students\"\u001b[0m\u001b[1;33m)\u001b[0m\u001b[1;33m\u001b[0m\u001b[1;33m\u001b[0m\u001b[0m\n\u001b[0;32m      4\u001b[0m \u001b[0mrec\u001b[0m \u001b[1;33m=\u001b[0m \u001b[0mc\u001b[0m\u001b[1;33m.\u001b[0m\u001b[0mfetchall\u001b[0m\u001b[1;33m(\u001b[0m\u001b[1;33m)\u001b[0m\u001b[1;33m[\u001b[0m\u001b[1;36m1\u001b[0m\u001b[1;33m]\u001b[0m\u001b[1;33m[\u001b[0m\u001b[1;36m0\u001b[0m\u001b[1;33m]\u001b[0m\u001b[1;33m\u001b[0m\u001b[1;33m\u001b[0m\u001b[0m\n\u001b[0;32m      5\u001b[0m \u001b[0mprint\u001b[0m\u001b[1;33m(\u001b[0m\u001b[0mrec\u001b[0m\u001b[1;33m)\u001b[0m\u001b[1;33m\u001b[0m\u001b[1;33m\u001b[0m\u001b[0m\n",
      "\u001b[1;32m~\\anaconda3\\lib\\site-packages\\mysql\\connector\\__init__.py\u001b[0m in \u001b[0;36mconnect\u001b[1;34m(*args, **kwargs)\u001b[0m\n\u001b[0;32m    271\u001b[0m     \u001b[1;32mif\u001b[0m \u001b[0mHAVE_CEXT\u001b[0m \u001b[1;32mand\u001b[0m \u001b[1;32mnot\u001b[0m \u001b[0muse_pure\u001b[0m\u001b[1;33m:\u001b[0m\u001b[1;33m\u001b[0m\u001b[1;33m\u001b[0m\u001b[0m\n\u001b[0;32m    272\u001b[0m         \u001b[1;32mreturn\u001b[0m \u001b[0mCMySQLConnection\u001b[0m\u001b[1;33m(\u001b[0m\u001b[1;33m*\u001b[0m\u001b[0margs\u001b[0m\u001b[1;33m,\u001b[0m \u001b[1;33m**\u001b[0m\u001b[0mkwargs\u001b[0m\u001b[1;33m)\u001b[0m\u001b[1;33m\u001b[0m\u001b[1;33m\u001b[0m\u001b[0m\n\u001b[1;32m--> 273\u001b[1;33m     \u001b[1;32mreturn\u001b[0m \u001b[0mMySQLConnection\u001b[0m\u001b[1;33m(\u001b[0m\u001b[1;33m*\u001b[0m\u001b[0margs\u001b[0m\u001b[1;33m,\u001b[0m \u001b[1;33m**\u001b[0m\u001b[0mkwargs\u001b[0m\u001b[1;33m)\u001b[0m\u001b[1;33m\u001b[0m\u001b[1;33m\u001b[0m\u001b[0m\n\u001b[0m\u001b[0;32m    274\u001b[0m \u001b[0mConnect\u001b[0m \u001b[1;33m=\u001b[0m \u001b[0mconnect\u001b[0m  \u001b[1;31m# pylint: disable=C0103\u001b[0m\u001b[1;33m\u001b[0m\u001b[1;33m\u001b[0m\u001b[0m\n\u001b[0;32m    275\u001b[0m \u001b[1;33m\u001b[0m\u001b[0m\n",
      "\u001b[1;32m~\\anaconda3\\lib\\site-packages\\mysql\\connector\\connection.py\u001b[0m in \u001b[0;36m__init__\u001b[1;34m(self, *args, **kwargs)\u001b[0m\n\u001b[0;32m    105\u001b[0m         \u001b[1;32mif\u001b[0m \u001b[0mkwargs\u001b[0m\u001b[1;33m:\u001b[0m\u001b[1;33m\u001b[0m\u001b[1;33m\u001b[0m\u001b[0m\n\u001b[0;32m    106\u001b[0m             \u001b[1;32mtry\u001b[0m\u001b[1;33m:\u001b[0m\u001b[1;33m\u001b[0m\u001b[1;33m\u001b[0m\u001b[0m\n\u001b[1;32m--> 107\u001b[1;33m                 \u001b[0mself\u001b[0m\u001b[1;33m.\u001b[0m\u001b[0mconnect\u001b[0m\u001b[1;33m(\u001b[0m\u001b[1;33m**\u001b[0m\u001b[0mkwargs\u001b[0m\u001b[1;33m)\u001b[0m\u001b[1;33m\u001b[0m\u001b[1;33m\u001b[0m\u001b[0m\n\u001b[0m\u001b[0;32m    108\u001b[0m             \u001b[1;32mexcept\u001b[0m\u001b[1;33m:\u001b[0m\u001b[1;33m\u001b[0m\u001b[1;33m\u001b[0m\u001b[0m\n\u001b[0;32m    109\u001b[0m                 \u001b[1;31m# Tidy-up underlying socket on failure\u001b[0m\u001b[1;33m\u001b[0m\u001b[1;33m\u001b[0m\u001b[1;33m\u001b[0m\u001b[0m\n",
      "\u001b[1;32m~\\anaconda3\\lib\\site-packages\\mysql\\connector\\abstracts.py\u001b[0m in \u001b[0;36mconnect\u001b[1;34m(self, **kwargs)\u001b[0m\n\u001b[0;32m   1001\u001b[0m \u001b[1;33m\u001b[0m\u001b[0m\n\u001b[0;32m   1002\u001b[0m         \u001b[0mself\u001b[0m\u001b[1;33m.\u001b[0m\u001b[0mdisconnect\u001b[0m\u001b[1;33m(\u001b[0m\u001b[1;33m)\u001b[0m\u001b[1;33m\u001b[0m\u001b[1;33m\u001b[0m\u001b[0m\n\u001b[1;32m-> 1003\u001b[1;33m         \u001b[0mself\u001b[0m\u001b[1;33m.\u001b[0m\u001b[0m_open_connection\u001b[0m\u001b[1;33m(\u001b[0m\u001b[1;33m)\u001b[0m\u001b[1;33m\u001b[0m\u001b[1;33m\u001b[0m\u001b[0m\n\u001b[0m\u001b[0;32m   1004\u001b[0m         \u001b[1;31m# Server does not allow to run any other statement different from ALTER\u001b[0m\u001b[1;33m\u001b[0m\u001b[1;33m\u001b[0m\u001b[1;33m\u001b[0m\u001b[0m\n\u001b[0;32m   1005\u001b[0m         \u001b[1;31m# when user's password has been expired.\u001b[0m\u001b[1;33m\u001b[0m\u001b[1;33m\u001b[0m\u001b[1;33m\u001b[0m\u001b[0m\n",
      "\u001b[1;32m~\\anaconda3\\lib\\site-packages\\mysql\\connector\\connection.py\u001b[0m in \u001b[0;36m_open_connection\u001b[1;34m(self)\u001b[0m\n\u001b[0;32m    350\u001b[0m             \u001b[0mself\u001b[0m\u001b[1;33m.\u001b[0m\u001b[0m_socket\u001b[0m\u001b[1;33m.\u001b[0m\u001b[0mopen_connection\u001b[0m\u001b[1;33m(\u001b[0m\u001b[1;33m)\u001b[0m\u001b[1;33m\u001b[0m\u001b[1;33m\u001b[0m\u001b[0m\n\u001b[0;32m    351\u001b[0m             \u001b[0mself\u001b[0m\u001b[1;33m.\u001b[0m\u001b[0m_do_handshake\u001b[0m\u001b[1;33m(\u001b[0m\u001b[1;33m)\u001b[0m\u001b[1;33m\u001b[0m\u001b[1;33m\u001b[0m\u001b[0m\n\u001b[1;32m--> 352\u001b[1;33m             self._do_auth(self._user, self._password,\n\u001b[0m\u001b[0;32m    353\u001b[0m                           \u001b[0mself\u001b[0m\u001b[1;33m.\u001b[0m\u001b[0m_database\u001b[0m\u001b[1;33m,\u001b[0m \u001b[0mself\u001b[0m\u001b[1;33m.\u001b[0m\u001b[0m_client_flags\u001b[0m\u001b[1;33m,\u001b[0m \u001b[0mself\u001b[0m\u001b[1;33m.\u001b[0m\u001b[0m_charset_id\u001b[0m\u001b[1;33m,\u001b[0m\u001b[1;33m\u001b[0m\u001b[1;33m\u001b[0m\u001b[0m\n\u001b[0;32m    354\u001b[0m                           self._ssl, self._conn_attrs)\n",
      "\u001b[1;32m~\\anaconda3\\lib\\site-packages\\mysql\\connector\\connection.py\u001b[0m in \u001b[0;36m_do_auth\u001b[1;34m(self, username, password, database, client_flags, charset, ssl_options, conn_attrs)\u001b[0m\n\u001b[0;32m    217\u001b[0m             conn_attrs=conn_attrs)\n\u001b[0;32m    218\u001b[0m         \u001b[0mself\u001b[0m\u001b[1;33m.\u001b[0m\u001b[0m_socket\u001b[0m\u001b[1;33m.\u001b[0m\u001b[0msend\u001b[0m\u001b[1;33m(\u001b[0m\u001b[0mpacket\u001b[0m\u001b[1;33m)\u001b[0m\u001b[1;33m\u001b[0m\u001b[1;33m\u001b[0m\u001b[0m\n\u001b[1;32m--> 219\u001b[1;33m         \u001b[0mself\u001b[0m\u001b[1;33m.\u001b[0m\u001b[0m_auth_switch_request\u001b[0m\u001b[1;33m(\u001b[0m\u001b[0musername\u001b[0m\u001b[1;33m,\u001b[0m \u001b[0mpassword\u001b[0m\u001b[1;33m)\u001b[0m\u001b[1;33m\u001b[0m\u001b[1;33m\u001b[0m\u001b[0m\n\u001b[0m\u001b[0;32m    220\u001b[0m \u001b[1;33m\u001b[0m\u001b[0m\n\u001b[0;32m    221\u001b[0m         \u001b[1;32mif\u001b[0m \u001b[1;32mnot\u001b[0m \u001b[1;33m(\u001b[0m\u001b[0mclient_flags\u001b[0m \u001b[1;33m&\u001b[0m \u001b[0mClientFlag\u001b[0m\u001b[1;33m.\u001b[0m\u001b[0mCONNECT_WITH_DB\u001b[0m\u001b[1;33m)\u001b[0m \u001b[1;32mand\u001b[0m \u001b[0mdatabase\u001b[0m\u001b[1;33m:\u001b[0m\u001b[1;33m\u001b[0m\u001b[1;33m\u001b[0m\u001b[0m\n",
      "\u001b[1;32m~\\anaconda3\\lib\\site-packages\\mysql\\connector\\connection.py\u001b[0m in \u001b[0;36m_auth_switch_request\u001b[1;34m(self, username, password)\u001b[0m\n\u001b[0;32m    316\u001b[0m             \u001b[1;32mreturn\u001b[0m \u001b[0mself\u001b[0m\u001b[1;33m.\u001b[0m\u001b[0m_handle_ok\u001b[0m\u001b[1;33m(\u001b[0m\u001b[0mpacket\u001b[0m\u001b[1;33m)\u001b[0m\u001b[1;33m\u001b[0m\u001b[1;33m\u001b[0m\u001b[0m\n\u001b[0;32m    317\u001b[0m         \u001b[1;32melif\u001b[0m \u001b[0mpacket\u001b[0m\u001b[1;33m[\u001b[0m\u001b[1;36m4\u001b[0m\u001b[1;33m]\u001b[0m \u001b[1;33m==\u001b[0m \u001b[1;36m255\u001b[0m\u001b[1;33m:\u001b[0m\u001b[1;33m\u001b[0m\u001b[1;33m\u001b[0m\u001b[0m\n\u001b[1;32m--> 318\u001b[1;33m             \u001b[1;32mraise\u001b[0m \u001b[0merrors\u001b[0m\u001b[1;33m.\u001b[0m\u001b[0mget_exception\u001b[0m\u001b[1;33m(\u001b[0m\u001b[0mpacket\u001b[0m\u001b[1;33m)\u001b[0m\u001b[1;33m\u001b[0m\u001b[1;33m\u001b[0m\u001b[0m\n\u001b[0m\u001b[0;32m    319\u001b[0m         \u001b[1;32mreturn\u001b[0m \u001b[1;32mNone\u001b[0m\u001b[1;33m\u001b[0m\u001b[1;33m\u001b[0m\u001b[0m\n\u001b[0;32m    320\u001b[0m \u001b[1;33m\u001b[0m\u001b[0m\n",
      "\u001b[1;31mProgrammingError\u001b[0m: 1049 (42000): Unknown database 'college'"
     ]
    }
   ],
   "source": [
    "db = mysql.connector.connect(host=\"localhost\",database=\"college\", user=\"root\",passwd=\"MySQL@2021\")\n",
    "c=db.cursor()\n",
    "valdation()\n",
    "c.execute(\"select * from college.students\")\n",
    "rec = c.fetchall()[1][0]\n",
    "print(rec)\n",
    "c.execute('insert into college.students() values(\"Nikita\",90)')\n",
    "db.commit()"
   ]
  },
  {
   "cell_type": "code",
   "execution_count": null,
   "metadata": {},
   "outputs": [],
   "source": [
    "###  update table_name set col_name = 'new_val' where col_name ='cur_val'"
   ]
  },
  {
   "cell_type": "code",
   "execution_count": 12,
   "metadata": {},
   "outputs": [],
   "source": [
    "c.execute(\"update sakila.actor set first_name = 'NIKHIL' where first_name = 'NICK' and actor_id = 2 \")\n",
    "mydb.commit()"
   ]
  },
  {
   "cell_type": "code",
   "execution_count": 11,
   "metadata": {},
   "outputs": [
    {
     "data": {
      "text/plain": [
       "()"
      ]
     },
     "execution_count": 11,
     "metadata": {},
     "output_type": "execute_result"
    }
   ],
   "source": [
    "c.column_names"
   ]
  },
  {
   "cell_type": "code",
   "execution_count": 12,
   "metadata": {},
   "outputs": [],
   "source": [
    "c.description"
   ]
  },
  {
   "cell_type": "code",
   "execution_count": 15,
   "metadata": {},
   "outputs": [],
   "source": [
    "from mysql.connector import Error"
   ]
  },
  {
   "cell_type": "code",
   "execution_count": 13,
   "metadata": {},
   "outputs": [
    {
     "name": "stdout",
     "output_type": "stream",
     "text": [
      "Total number of Students is:  4\n",
      "\n",
      "Printing Student's record\n",
      "ID =  2\n",
      "First Name =  NIKHIL\n",
      "tuple index out of range\n",
      "MySQL connection is closed\n"
     ]
    }
   ],
   "source": [
    "import sys\n",
    "import mysql.connector\n",
    "from mysql.connector import Error\n",
    "\n",
    "try:\n",
    "    connection = mysql.connector.connect(host='localhost',\n",
    "                                         database='sakila',\n",
    "                                         user='root',\n",
    "                                         password='MySQL@2021')\n",
    "\n",
    "    sql_select_Query = \"select * from actor where first_name like 'N%'\"\n",
    "    cursor = connection.cursor()\n",
    "    cursor.execute(sql_select_Query)\n",
    "    records = cursor.fetchall()\n",
    "    print(\"Total number of Students is: \", cursor.rowcount)\n",
    "\n",
    "    print(\"\\nPrinting Student's record\")\n",
    "    for row in records:\n",
    "        #try:\n",
    "            print(\"ID = \", row[0], )\n",
    "            print(\"First Name = \", row[1])\n",
    "            print(\"Last name  = \", row[5])\n",
    "            print(\"Last update  = \", row[3], \"\\n\")\n",
    "        #except IndexError:\n",
    "            #print(sys.exc_info()[1])\n",
    "\n",
    "except IndexError:\n",
    "    print(sys.exc_info()[1])\n",
    "except Error as e:\n",
    "    print(\"Error reading data from MySQL table\", e)\n",
    "    print(sys.exc_info()[1])\n",
    "finally:\n",
    "    if (connection.is_connected()):\n",
    "        connection.close()\n",
    "        cursor.close()\n",
    "        print(\"MySQL connection is closed\")"
   ]
  },
  {
   "cell_type": "code",
   "execution_count": 20,
   "metadata": {},
   "outputs": [],
   "source": [
    "import pandas as pd"
   ]
  },
  {
   "cell_type": "code",
   "execution_count": 23,
   "metadata": {},
   "outputs": [],
   "source": [
    "df = pd.read_sql(\"select * from actor\",mydb)"
   ]
  },
  {
   "cell_type": "code",
   "execution_count": 24,
   "metadata": {},
   "outputs": [
    {
     "data": {
      "text/html": [
       "<div>\n",
       "<style scoped>\n",
       "    .dataframe tbody tr th:only-of-type {\n",
       "        vertical-align: middle;\n",
       "    }\n",
       "\n",
       "    .dataframe tbody tr th {\n",
       "        vertical-align: top;\n",
       "    }\n",
       "\n",
       "    .dataframe thead th {\n",
       "        text-align: right;\n",
       "    }\n",
       "</style>\n",
       "<table border=\"1\" class=\"dataframe\">\n",
       "  <thead>\n",
       "    <tr style=\"text-align: right;\">\n",
       "      <th></th>\n",
       "      <th>actor_id</th>\n",
       "      <th>first_name</th>\n",
       "      <th>last_name</th>\n",
       "      <th>last_update</th>\n",
       "    </tr>\n",
       "  </thead>\n",
       "  <tbody>\n",
       "    <tr>\n",
       "      <th>0</th>\n",
       "      <td>1</td>\n",
       "      <td>PENELOPE</td>\n",
       "      <td>GUINESS</td>\n",
       "      <td>2006-02-15 04:34:33</td>\n",
       "    </tr>\n",
       "    <tr>\n",
       "      <th>1</th>\n",
       "      <td>2</td>\n",
       "      <td>NICK</td>\n",
       "      <td>WAHLBERG</td>\n",
       "      <td>2006-02-15 04:34:33</td>\n",
       "    </tr>\n",
       "    <tr>\n",
       "      <th>2</th>\n",
       "      <td>3</td>\n",
       "      <td>ED</td>\n",
       "      <td>CHASE</td>\n",
       "      <td>2006-02-15 04:34:33</td>\n",
       "    </tr>\n",
       "    <tr>\n",
       "      <th>3</th>\n",
       "      <td>4</td>\n",
       "      <td>JENNIFER</td>\n",
       "      <td>DAVIS</td>\n",
       "      <td>2006-02-15 04:34:33</td>\n",
       "    </tr>\n",
       "    <tr>\n",
       "      <th>4</th>\n",
       "      <td>5</td>\n",
       "      <td>JOHNNY</td>\n",
       "      <td>LOLLOBRIGIDA</td>\n",
       "      <td>2006-02-15 04:34:33</td>\n",
       "    </tr>\n",
       "    <tr>\n",
       "      <th>...</th>\n",
       "      <td>...</td>\n",
       "      <td>...</td>\n",
       "      <td>...</td>\n",
       "      <td>...</td>\n",
       "    </tr>\n",
       "    <tr>\n",
       "      <th>197</th>\n",
       "      <td>198</td>\n",
       "      <td>MARY</td>\n",
       "      <td>KEITEL</td>\n",
       "      <td>2006-02-15 04:34:33</td>\n",
       "    </tr>\n",
       "    <tr>\n",
       "      <th>198</th>\n",
       "      <td>199</td>\n",
       "      <td>JULIA</td>\n",
       "      <td>FAWCETT</td>\n",
       "      <td>2006-02-15 04:34:33</td>\n",
       "    </tr>\n",
       "    <tr>\n",
       "      <th>199</th>\n",
       "      <td>200</td>\n",
       "      <td>THORA</td>\n",
       "      <td>TEMPLE</td>\n",
       "      <td>2006-02-15 04:34:33</td>\n",
       "    </tr>\n",
       "    <tr>\n",
       "      <th>200</th>\n",
       "      <td>201</td>\n",
       "      <td>Sonam</td>\n",
       "      <td>Kapoor</td>\n",
       "      <td>2009-02-14 00:00:00</td>\n",
       "    </tr>\n",
       "    <tr>\n",
       "      <th>201</th>\n",
       "      <td>202</td>\n",
       "      <td>Sonam</td>\n",
       "      <td>Kapoor</td>\n",
       "      <td>2009-02-14 00:00:00</td>\n",
       "    </tr>\n",
       "  </tbody>\n",
       "</table>\n",
       "<p>202 rows × 4 columns</p>\n",
       "</div>"
      ],
      "text/plain": [
       "     actor_id first_name     last_name         last_update\n",
       "0           1   PENELOPE       GUINESS 2006-02-15 04:34:33\n",
       "1           2       NICK      WAHLBERG 2006-02-15 04:34:33\n",
       "2           3         ED         CHASE 2006-02-15 04:34:33\n",
       "3           4   JENNIFER         DAVIS 2006-02-15 04:34:33\n",
       "4           5     JOHNNY  LOLLOBRIGIDA 2006-02-15 04:34:33\n",
       "..        ...        ...           ...                 ...\n",
       "197       198       MARY        KEITEL 2006-02-15 04:34:33\n",
       "198       199      JULIA       FAWCETT 2006-02-15 04:34:33\n",
       "199       200      THORA        TEMPLE 2006-02-15 04:34:33\n",
       "200       201      Sonam        Kapoor 2009-02-14 00:00:00\n",
       "201       202      Sonam        Kapoor 2009-02-14 00:00:00\n",
       "\n",
       "[202 rows x 4 columns]"
      ]
     },
     "execution_count": 24,
     "metadata": {},
     "output_type": "execute_result"
    }
   ],
   "source": [
    "df"
   ]
  },
  {
   "cell_type": "code",
   "execution_count": 9,
   "metadata": {},
   "outputs": [
    {
     "data": {
      "text/html": [
       "<div>\n",
       "<style scoped>\n",
       "    .dataframe tbody tr th:only-of-type {\n",
       "        vertical-align: middle;\n",
       "    }\n",
       "\n",
       "    .dataframe tbody tr th {\n",
       "        vertical-align: top;\n",
       "    }\n",
       "\n",
       "    .dataframe thead th {\n",
       "        text-align: right;\n",
       "    }\n",
       "</style>\n",
       "<table border=\"1\" class=\"dataframe\">\n",
       "  <thead>\n",
       "    <tr style=\"text-align: right;\">\n",
       "      <th></th>\n",
       "      <th>student_id</th>\n",
       "      <th>admission_date</th>\n",
       "    </tr>\n",
       "  </thead>\n",
       "  <tbody>\n",
       "    <tr>\n",
       "      <th>0</th>\n",
       "      <td>1</td>\n",
       "      <td>2020-01-01</td>\n",
       "    </tr>\n",
       "    <tr>\n",
       "      <th>1</th>\n",
       "      <td>2</td>\n",
       "      <td>2020-01-01</td>\n",
       "    </tr>\n",
       "    <tr>\n",
       "      <th>2</th>\n",
       "      <td>3</td>\n",
       "      <td>2019-01-01</td>\n",
       "    </tr>\n",
       "    <tr>\n",
       "      <th>3</th>\n",
       "      <td>5</td>\n",
       "      <td>2005-03-20</td>\n",
       "    </tr>\n",
       "    <tr>\n",
       "      <th>4</th>\n",
       "      <td>6</td>\n",
       "      <td>2005-03-20</td>\n",
       "    </tr>\n",
       "  </tbody>\n",
       "</table>\n",
       "</div>"
      ],
      "text/plain": [
       "   student_id admission_date\n",
       "0           1     2020-01-01\n",
       "1           2     2020-01-01\n",
       "2           3     2019-01-01\n",
       "3           5     2005-03-20\n",
       "4           6     2005-03-20"
      ]
     },
     "execution_count": 9,
     "metadata": {},
     "output_type": "execute_result"
    }
   ],
   "source": [
    "df[[\"student_id\",\"admission_date\"]]"
   ]
  },
  {
   "cell_type": "markdown",
   "metadata": {},
   "source": [
    "## SQL -SERVER"
   ]
  },
  {
   "cell_type": "code",
   "execution_count": 1,
   "metadata": {},
   "outputs": [
    {
     "name": "stdout",
     "output_type": "stream",
     "text": [
      "Requirement already satisfied: pyodbc in c:\\users\\amrita\\anaconda3\\lib\\site-packages (4.0.0-unsupported)\n"
     ]
    }
   ],
   "source": [
    "!pip install pyodbc"
   ]
  },
  {
   "cell_type": "code",
   "execution_count": 2,
   "metadata": {},
   "outputs": [
    {
     "ename": "OperationalError",
     "evalue": "('08001', '[08001] [Microsoft][ODBC SQL Server Driver][DBNETLIB]SQL Server does not exist or access denied. (17) (SQLDriverConnect); [08001] [Microsoft][ODBC SQL Server Driver][DBNETLIB]ConnectionOpen (Connect()). (53)')",
     "output_type": "error",
     "traceback": [
      "\u001b[1;31m---------------------------------------------------------------------------\u001b[0m",
      "\u001b[1;31mOperationalError\u001b[0m                          Traceback (most recent call last)",
      "\u001b[1;32m<ipython-input-2-5237379b3c88>\u001b[0m in \u001b[0;36m<module>\u001b[1;34m\u001b[0m\n\u001b[0;32m      1\u001b[0m \u001b[1;32mimport\u001b[0m \u001b[0mpyodbc\u001b[0m\u001b[1;33m\u001b[0m\u001b[1;33m\u001b[0m\u001b[0m\n\u001b[1;32m----> 2\u001b[1;33m conn = pyodbc.connect('Driver={SQL Server};'\n\u001b[0m\u001b[0;32m      3\u001b[0m                       \u001b[1;34m'Server=server_name;'\u001b[0m\u001b[1;33m\u001b[0m\u001b[1;33m\u001b[0m\u001b[0m\n\u001b[0;32m      4\u001b[0m                       \u001b[1;34m'Database=database_name;'\u001b[0m\u001b[1;33m\u001b[0m\u001b[1;33m\u001b[0m\u001b[0m\n\u001b[0;32m      5\u001b[0m                       'Trusted_Connection=yes;')\n",
      "\u001b[1;31mOperationalError\u001b[0m: ('08001', '[08001] [Microsoft][ODBC SQL Server Driver][DBNETLIB]SQL Server does not exist or access denied. (17) (SQLDriverConnect); [08001] [Microsoft][ODBC SQL Server Driver][DBNETLIB]ConnectionOpen (Connect()). (53)')"
     ]
    }
   ],
   "source": [
    "import pyodbc \n",
    "conn = pyodbc.connect('Driver={SQL Server};'\n",
    "                      'Server=server_name;'\n",
    "                      'Database=database_name;'\n",
    "                      'Trusted_Connection=yes;')\n",
    "\n",
    "cursor = conn.cursor()\n",
    "cursor.execute('SELECT * FROM database_name.table')\n",
    "\n",
    "for row in cursor:\n",
    "    print(row)"
   ]
  }
 ],
 "metadata": {
  "kernelspec": {
   "display_name": "Python 3",
   "language": "python",
   "name": "python3"
  },
  "language_info": {
   "codemirror_mode": {
    "name": "ipython",
    "version": 3
   },
   "file_extension": ".py",
   "mimetype": "text/x-python",
   "name": "python",
   "nbconvert_exporter": "python",
   "pygments_lexer": "ipython3",
   "version": "3.8.5"
  }
 },
 "nbformat": 4,
 "nbformat_minor": 2
}

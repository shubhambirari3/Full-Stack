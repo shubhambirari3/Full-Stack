{
 "cells": [
  {
   "cell_type": "markdown",
   "metadata": {},
   "source": [
    "## Regular Expression\n",
    "\n",
    "#### Finding out patterns in the given string ."
   ]
  },
  {
   "cell_type": "code",
   "execution_count": 1,
   "metadata": {},
   "outputs": [],
   "source": [
    "import re\n",
    "from re import match"
   ]
  },
  {
   "cell_type": "code",
   "execution_count": 2,
   "metadata": {},
   "outputs": [],
   "source": [
    "from re import *"
   ]
  },
  {
   "cell_type": "code",
   "execution_count": 5,
   "metadata": {},
   "outputs": [],
   "source": [
    "import re\n"
   ]
  },
  {
   "cell_type": "markdown",
   "metadata": {},
   "source": [
    "# Finding out string starting with a "
   ]
  },
  {
   "cell_type": "code",
   "execution_count": 16,
   "metadata": {},
   "outputs": [
    {
     "name": "stdout",
     "output_type": "stream",
     "text": [
      "enter a stringfan\n"
     ]
    },
    {
     "data": {
      "text/plain": [
       "<re.Match object; span=(0, 1), match='f'>"
      ]
     },
     "execution_count": 16,
     "metadata": {},
     "output_type": "execute_result"
    }
   ],
   "source": [
    "import re\n",
    "pattern=\"^f\"\n",
    "from_string=input(\"enter a string\")\n",
    "\n",
    "re.match(pattern,from_string)\n"
   ]
  },
  {
   "cell_type": "code",
   "execution_count": 15,
   "metadata": {},
   "outputs": [
    {
     "name": "stdout",
     "output_type": "stream",
     "text": [
      "Enter the string dsa\n"
     ]
    },
    {
     "data": {
      "text/plain": [
       "<re.Match object; span=(0, 3), match='dsa'>"
      ]
     },
     "execution_count": 15,
     "metadata": {},
     "output_type": "execute_result"
    }
   ],
   "source": [
    "import re\n",
    "from re import match\n",
    "\n",
    "starting=\".*a$\"\n",
    "from_string = input(\"Enter the string \")\n",
    "re.match(starting, from_string)"
   ]
  },
  {
   "cell_type": "code",
   "execution_count": 10,
   "metadata": {},
   "outputs": [],
   "source": [
    "re.match(starting, from_string)"
   ]
  },
  {
   "cell_type": "code",
   "execution_count": 17,
   "metadata": {},
   "outputs": [
    {
     "data": {
      "text/plain": [
       "<re.Match object; span=(0, 7), match='cat@234'>"
      ]
     },
     "execution_count": 17,
     "metadata": {},
     "output_type": "execute_result"
    }
   ],
   "source": [
    "re.match(\"^c.*\",\"cat@234\")"
   ]
  },
  {
   "cell_type": "code",
   "execution_count": 21,
   "metadata": {},
   "outputs": [
    {
     "data": {
      "text/plain": [
       "<re.Match object; span=(0, 4), match='cjHF'>"
      ]
     },
     "execution_count": 21,
     "metadata": {},
     "output_type": "execute_result"
    }
   ],
   "source": [
    "re.match(\"^c...\",\"cjHFuih\")"
   ]
  },
  {
   "cell_type": "markdown",
   "metadata": {},
   "source": [
    "### Finding out string ending with a \n",
    "##### here . represents a letter for particular position\n",
    "\n",
    " three letter word ending with \"e\"\n",
    " \n",
    "Examples: 1) sse \n",
    "\n",
    "          2) New AWS swe\n",
    "          \n",
    "          3) ABCDG ane SAFE NWEO ASDS\n",
    "          \n",
    "          4) The book show"
   ]
  },
  {
   "cell_type": "code",
   "execution_count": 25,
   "metadata": {},
   "outputs": [
    {
     "ename": "error",
     "evalue": "nothing to repeat at position 0",
     "output_type": "error",
     "traceback": [
      "\u001b[1;31m---------------------------------------------------------------------------\u001b[0m",
      "\u001b[1;31merror\u001b[0m                                     Traceback (most recent call last)",
      "\u001b[1;32m<ipython-input-25-8e47ff46433e>\u001b[0m in \u001b[0;36m<module>\u001b[1;34m\u001b[0m\n\u001b[1;32m----> 1\u001b[1;33m \u001b[0mre\u001b[0m\u001b[1;33m.\u001b[0m\u001b[0mmatch\u001b[0m\u001b[1;33m(\u001b[0m\u001b[0mending\u001b[0m\u001b[1;33m,\u001b[0m \u001b[0mfrom_string\u001b[0m\u001b[1;33m)\u001b[0m\u001b[1;33m\u001b[0m\u001b[1;33m\u001b[0m\u001b[0m\n\u001b[0m",
      "\u001b[1;32m~\\Anaconda3\\lib\\re.py\u001b[0m in \u001b[0;36mmatch\u001b[1;34m(pattern, string, flags)\u001b[0m\n\u001b[0;32m    171\u001b[0m     \"\"\"Try to apply the pattern at the start of the string, returning\n\u001b[0;32m    172\u001b[0m     a Match object, or None if no match was found.\"\"\"\n\u001b[1;32m--> 173\u001b[1;33m     \u001b[1;32mreturn\u001b[0m \u001b[0m_compile\u001b[0m\u001b[1;33m(\u001b[0m\u001b[0mpattern\u001b[0m\u001b[1;33m,\u001b[0m \u001b[0mflags\u001b[0m\u001b[1;33m)\u001b[0m\u001b[1;33m.\u001b[0m\u001b[0mmatch\u001b[0m\u001b[1;33m(\u001b[0m\u001b[0mstring\u001b[0m\u001b[1;33m)\u001b[0m\u001b[1;33m\u001b[0m\u001b[1;33m\u001b[0m\u001b[0m\n\u001b[0m\u001b[0;32m    174\u001b[0m \u001b[1;33m\u001b[0m\u001b[0m\n\u001b[0;32m    175\u001b[0m \u001b[1;32mdef\u001b[0m \u001b[0mfullmatch\u001b[0m\u001b[1;33m(\u001b[0m\u001b[0mpattern\u001b[0m\u001b[1;33m,\u001b[0m \u001b[0mstring\u001b[0m\u001b[1;33m,\u001b[0m \u001b[0mflags\u001b[0m\u001b[1;33m=\u001b[0m\u001b[1;36m0\u001b[0m\u001b[1;33m)\u001b[0m\u001b[1;33m:\u001b[0m\u001b[1;33m\u001b[0m\u001b[1;33m\u001b[0m\u001b[0m\n",
      "\u001b[1;32m~\\Anaconda3\\lib\\re.py\u001b[0m in \u001b[0;36m_compile\u001b[1;34m(pattern, flags)\u001b[0m\n\u001b[0;32m    284\u001b[0m     \u001b[1;32mif\u001b[0m \u001b[1;32mnot\u001b[0m \u001b[0msre_compile\u001b[0m\u001b[1;33m.\u001b[0m\u001b[0misstring\u001b[0m\u001b[1;33m(\u001b[0m\u001b[0mpattern\u001b[0m\u001b[1;33m)\u001b[0m\u001b[1;33m:\u001b[0m\u001b[1;33m\u001b[0m\u001b[1;33m\u001b[0m\u001b[0m\n\u001b[0;32m    285\u001b[0m         \u001b[1;32mraise\u001b[0m \u001b[0mTypeError\u001b[0m\u001b[1;33m(\u001b[0m\u001b[1;34m\"first argument must be string or compiled pattern\"\u001b[0m\u001b[1;33m)\u001b[0m\u001b[1;33m\u001b[0m\u001b[1;33m\u001b[0m\u001b[0m\n\u001b[1;32m--> 286\u001b[1;33m     \u001b[0mp\u001b[0m \u001b[1;33m=\u001b[0m \u001b[0msre_compile\u001b[0m\u001b[1;33m.\u001b[0m\u001b[0mcompile\u001b[0m\u001b[1;33m(\u001b[0m\u001b[0mpattern\u001b[0m\u001b[1;33m,\u001b[0m \u001b[0mflags\u001b[0m\u001b[1;33m)\u001b[0m\u001b[1;33m\u001b[0m\u001b[1;33m\u001b[0m\u001b[0m\n\u001b[0m\u001b[0;32m    287\u001b[0m     \u001b[1;32mif\u001b[0m \u001b[1;32mnot\u001b[0m \u001b[1;33m(\u001b[0m\u001b[0mflags\u001b[0m \u001b[1;33m&\u001b[0m \u001b[0mDEBUG\u001b[0m\u001b[1;33m)\u001b[0m\u001b[1;33m:\u001b[0m\u001b[1;33m\u001b[0m\u001b[1;33m\u001b[0m\u001b[0m\n\u001b[0;32m    288\u001b[0m         \u001b[1;32mif\u001b[0m \u001b[0mlen\u001b[0m\u001b[1;33m(\u001b[0m\u001b[0m_cache\u001b[0m\u001b[1;33m)\u001b[0m \u001b[1;33m>=\u001b[0m \u001b[0m_MAXCACHE\u001b[0m\u001b[1;33m:\u001b[0m\u001b[1;33m\u001b[0m\u001b[1;33m\u001b[0m\u001b[0m\n",
      "\u001b[1;32m~\\Anaconda3\\lib\\sre_compile.py\u001b[0m in \u001b[0;36mcompile\u001b[1;34m(p, flags)\u001b[0m\n\u001b[0;32m    762\u001b[0m     \u001b[1;32mif\u001b[0m \u001b[0misstring\u001b[0m\u001b[1;33m(\u001b[0m\u001b[0mp\u001b[0m\u001b[1;33m)\u001b[0m\u001b[1;33m:\u001b[0m\u001b[1;33m\u001b[0m\u001b[1;33m\u001b[0m\u001b[0m\n\u001b[0;32m    763\u001b[0m         \u001b[0mpattern\u001b[0m \u001b[1;33m=\u001b[0m \u001b[0mp\u001b[0m\u001b[1;33m\u001b[0m\u001b[1;33m\u001b[0m\u001b[0m\n\u001b[1;32m--> 764\u001b[1;33m         \u001b[0mp\u001b[0m \u001b[1;33m=\u001b[0m \u001b[0msre_parse\u001b[0m\u001b[1;33m.\u001b[0m\u001b[0mparse\u001b[0m\u001b[1;33m(\u001b[0m\u001b[0mp\u001b[0m\u001b[1;33m,\u001b[0m \u001b[0mflags\u001b[0m\u001b[1;33m)\u001b[0m\u001b[1;33m\u001b[0m\u001b[1;33m\u001b[0m\u001b[0m\n\u001b[0m\u001b[0;32m    765\u001b[0m     \u001b[1;32melse\u001b[0m\u001b[1;33m:\u001b[0m\u001b[1;33m\u001b[0m\u001b[1;33m\u001b[0m\u001b[0m\n\u001b[0;32m    766\u001b[0m         \u001b[0mpattern\u001b[0m \u001b[1;33m=\u001b[0m \u001b[1;32mNone\u001b[0m\u001b[1;33m\u001b[0m\u001b[1;33m\u001b[0m\u001b[0m\n",
      "\u001b[1;32m~\\Anaconda3\\lib\\sre_parse.py\u001b[0m in \u001b[0;36mparse\u001b[1;34m(str, flags, pattern)\u001b[0m\n\u001b[0;32m    928\u001b[0m \u001b[1;33m\u001b[0m\u001b[0m\n\u001b[0;32m    929\u001b[0m     \u001b[1;32mtry\u001b[0m\u001b[1;33m:\u001b[0m\u001b[1;33m\u001b[0m\u001b[1;33m\u001b[0m\u001b[0m\n\u001b[1;32m--> 930\u001b[1;33m         \u001b[0mp\u001b[0m \u001b[1;33m=\u001b[0m \u001b[0m_parse_sub\u001b[0m\u001b[1;33m(\u001b[0m\u001b[0msource\u001b[0m\u001b[1;33m,\u001b[0m \u001b[0mpattern\u001b[0m\u001b[1;33m,\u001b[0m \u001b[0mflags\u001b[0m \u001b[1;33m&\u001b[0m \u001b[0mSRE_FLAG_VERBOSE\u001b[0m\u001b[1;33m,\u001b[0m \u001b[1;36m0\u001b[0m\u001b[1;33m)\u001b[0m\u001b[1;33m\u001b[0m\u001b[1;33m\u001b[0m\u001b[0m\n\u001b[0m\u001b[0;32m    931\u001b[0m     \u001b[1;32mexcept\u001b[0m \u001b[0mVerbose\u001b[0m\u001b[1;33m:\u001b[0m\u001b[1;33m\u001b[0m\u001b[1;33m\u001b[0m\u001b[0m\n\u001b[0;32m    932\u001b[0m         \u001b[1;31m# the VERBOSE flag was switched on inside the pattern.  to be\u001b[0m\u001b[1;33m\u001b[0m\u001b[1;33m\u001b[0m\u001b[1;33m\u001b[0m\u001b[0m\n",
      "\u001b[1;32m~\\Anaconda3\\lib\\sre_parse.py\u001b[0m in \u001b[0;36m_parse_sub\u001b[1;34m(source, state, verbose, nested)\u001b[0m\n\u001b[0;32m    424\u001b[0m     \u001b[1;32mwhile\u001b[0m \u001b[1;32mTrue\u001b[0m\u001b[1;33m:\u001b[0m\u001b[1;33m\u001b[0m\u001b[1;33m\u001b[0m\u001b[0m\n\u001b[0;32m    425\u001b[0m         itemsappend(_parse(source, state, verbose, nested + 1,\n\u001b[1;32m--> 426\u001b[1;33m                            not nested and not items))\n\u001b[0m\u001b[0;32m    427\u001b[0m         \u001b[1;32mif\u001b[0m \u001b[1;32mnot\u001b[0m \u001b[0msourcematch\u001b[0m\u001b[1;33m(\u001b[0m\u001b[1;34m\"|\"\u001b[0m\u001b[1;33m)\u001b[0m\u001b[1;33m:\u001b[0m\u001b[1;33m\u001b[0m\u001b[1;33m\u001b[0m\u001b[0m\n\u001b[0;32m    428\u001b[0m             \u001b[1;32mbreak\u001b[0m\u001b[1;33m\u001b[0m\u001b[1;33m\u001b[0m\u001b[0m\n",
      "\u001b[1;32m~\\Anaconda3\\lib\\sre_parse.py\u001b[0m in \u001b[0;36m_parse\u001b[1;34m(source, state, verbose, nested, first)\u001b[0m\n\u001b[0;32m    649\u001b[0m             \u001b[1;32mif\u001b[0m \u001b[1;32mnot\u001b[0m \u001b[0mitem\u001b[0m \u001b[1;32mor\u001b[0m \u001b[0mitem\u001b[0m\u001b[1;33m[\u001b[0m\u001b[1;36m0\u001b[0m\u001b[1;33m]\u001b[0m\u001b[1;33m[\u001b[0m\u001b[1;36m0\u001b[0m\u001b[1;33m]\u001b[0m \u001b[1;32mis\u001b[0m \u001b[0mAT\u001b[0m\u001b[1;33m:\u001b[0m\u001b[1;33m\u001b[0m\u001b[1;33m\u001b[0m\u001b[0m\n\u001b[0;32m    650\u001b[0m                 raise source.error(\"nothing to repeat\",\n\u001b[1;32m--> 651\u001b[1;33m                                    source.tell() - here + len(this))\n\u001b[0m\u001b[0;32m    652\u001b[0m             \u001b[1;32mif\u001b[0m \u001b[0mitem\u001b[0m\u001b[1;33m[\u001b[0m\u001b[1;36m0\u001b[0m\u001b[1;33m]\u001b[0m\u001b[1;33m[\u001b[0m\u001b[1;36m0\u001b[0m\u001b[1;33m]\u001b[0m \u001b[1;32min\u001b[0m \u001b[0m_REPEATCODES\u001b[0m\u001b[1;33m:\u001b[0m\u001b[1;33m\u001b[0m\u001b[1;33m\u001b[0m\u001b[0m\n\u001b[0;32m    653\u001b[0m                 raise source.error(\"multiple repeat\",\n",
      "\u001b[1;31merror\u001b[0m: nothing to repeat at position 0"
     ]
    }
   ],
   "source": [
    "re.match(ending, from_string)"
   ]
  },
  {
   "cell_type": "code",
   "execution_count": 25,
   "metadata": {},
   "outputs": [
    {
     "name": "stdout",
     "output_type": "stream",
     "text": [
      "enter string asdfe\n"
     ]
    }
   ],
   "source": [
    "pattern = \"[A-Z]*e$\"\n",
    "\n",
    "re.match(pattern,input(\"enter string \"))"
   ]
  },
  {
   "cell_type": "code",
   "execution_count": 30,
   "metadata": {},
   "outputs": [
    {
     "name": "stdout",
     "output_type": "stream",
     "text": [
      "enter string De\n"
     ]
    },
    {
     "data": {
      "text/plain": [
       "<re.Match object; span=(0, 2), match='De'>"
      ]
     },
     "execution_count": 30,
     "metadata": {},
     "output_type": "execute_result"
    }
   ],
   "source": [
    "pattern = \"[A-F]*e$\"\n",
    "re.match(pattern,input(\"enter string \"))"
   ]
  },
  {
   "cell_type": "code",
   "execution_count": 32,
   "metadata": {},
   "outputs": [
    {
     "name": "stdout",
     "output_type": "stream",
     "text": [
      "enter string As123e\n"
     ]
    }
   ],
   "source": [
    "pattern = \"[0-9]*e$\"\n",
    "re.match(pattern,input(\"enter string \"))"
   ]
  },
  {
   "cell_type": "code",
   "execution_count": null,
   "metadata": {},
   "outputs": [],
   "source": []
  },
  {
   "cell_type": "code",
   "execution_count": 39,
   "metadata": {},
   "outputs": [
    {
     "name": "stdout",
     "output_type": "stream",
     "text": [
      "Enter the string gfj\n"
     ]
    }
   ],
   "source": [
    "import re\n",
    "ending=\"[A-Z]*e$\"\n",
    "from_string = input(\"Enter the string \")\n",
    "re.match(ending, from_string)"
   ]
  },
  {
   "cell_type": "code",
   "execution_count": 38,
   "metadata": {},
   "outputs": [
    {
     "name": "stdout",
     "output_type": "stream",
     "text": [
      "Enter the string AeAAsse\n"
     ]
    },
    {
     "data": {
      "text/plain": [
       "<re.Match object; span=(0, 7), match='AeAAsse'>"
      ]
     },
     "execution_count": 38,
     "metadata": {},
     "output_type": "execute_result"
    }
   ],
   "source": [
    "ending=\"[A-z]*e$\"\n",
    "from_string = input(\"Enter the string \")\n",
    "re.match(ending, from_string)"
   ]
  },
  {
   "cell_type": "code",
   "execution_count": 19,
   "metadata": {},
   "outputs": [
    {
     "name": "stdout",
     "output_type": "stream",
     "text": [
      "String AABBccddee\n"
     ]
    },
    {
     "data": {
      "text/plain": [
       "<re.Match object; span=(0, 10), match='AABBccddee'>"
      ]
     },
     "execution_count": 19,
     "metadata": {},
     "output_type": "execute_result"
    }
   ],
   "source": [
    "pt = \"^[A-Z]*[a-z]*e$\"\n",
    "re.match(pt,input(\"String \"))"
   ]
  },
  {
   "cell_type": "code",
   "execution_count": 41,
   "metadata": {},
   "outputs": [
    {
     "name": "stdout",
     "output_type": "stream",
     "text": [
      "String Asde\n",
      "<re.Match object; span=(0, 4), match='Asde'>\n",
      "Valid\n"
     ]
    }
   ],
   "source": [
    "import sys\n",
    "pt = \"^[A-Z][a-z]*[e,E,a]$\"\n",
    "var =input(\"String \")\n",
    "#re.match(pt,)\n",
    "try:\n",
    "    if re.match(pt,var):\n",
    "        print(re.match(pt,var))\n",
    "        print(\"Valid\")\n",
    "    else:\n",
    "        print(\"Invalid\")\n",
    "        raise Exception(\"Enter proper value\")\n",
    "except:\n",
    "    print(sys.exc_info())"
   ]
  },
  {
   "cell_type": "code",
   "execution_count": 42,
   "metadata": {},
   "outputs": [
    {
     "data": {
      "text/plain": [
       "<re.Match object; span=(0, 5), match='cat@2'>"
      ]
     },
     "execution_count": 42,
     "metadata": {},
     "output_type": "execute_result"
    }
   ],
   "source": [
    "re.match(\"^c....\",\"cat@234\")"
   ]
  },
  {
   "cell_type": "code",
   "execution_count": 43,
   "metadata": {},
   "outputs": [],
   "source": [
    "re.match(\"^c....\",\"cat\")"
   ]
  },
  {
   "cell_type": "code",
   "execution_count": 42,
   "metadata": {},
   "outputs": [
    {
     "name": "stdout",
     "output_type": "stream",
     "text": [
      "Enter the string ADe\n"
     ]
    },
    {
     "data": {
      "text/plain": [
       "<re.Match object; span=(0, 3), match='ADe'>"
      ]
     },
     "execution_count": 42,
     "metadata": {},
     "output_type": "execute_result"
    }
   ],
   "source": [
    "ending=\"[A-F]*e$\"\n",
    "from_string = input(\"Enter the string \")\n",
    "re.match(ending, from_string)"
   ]
  },
  {
   "cell_type": "code",
   "execution_count": 45,
   "metadata": {},
   "outputs": [
    {
     "name": "stdout",
     "output_type": "stream",
     "text": [
      "Enter the string AAAFFFe\n"
     ]
    },
    {
     "data": {
      "text/plain": [
       "<re.Match object; span=(0, 7), match='AAAFFFe'>"
      ]
     },
     "execution_count": 45,
     "metadata": {},
     "output_type": "execute_result"
    }
   ],
   "source": [
    "ending=\"[A,F]*e$\"\n",
    "from_string = input(\"Enter the string \")\n",
    "re.match(ending, from_string)"
   ]
  },
  {
   "cell_type": "code",
   "execution_count": 44,
   "metadata": {},
   "outputs": [],
   "source": [
    "st=\"^[R,S,Y][a-z]*[R,A]$\""
   ]
  },
  {
   "cell_type": "code",
   "execution_count": 31,
   "metadata": {},
   "outputs": [],
   "source": []
  },
  {
   "cell_type": "code",
   "execution_count": 46,
   "metadata": {},
   "outputs": [
    {
     "name": "stdout",
     "output_type": "stream",
     "text": [
      "string  : RsdgA\n"
     ]
    },
    {
     "data": {
      "text/plain": [
       "<re.Match object; span=(0, 5), match='RsdgA'>"
      ]
     },
     "execution_count": 46,
     "metadata": {},
     "output_type": "execute_result"
    }
   ],
   "source": [
    "re.match(st,input(\"string  : \"))"
   ]
  },
  {
   "cell_type": "markdown",
   "metadata": {},
   "source": [
    "## starting and ending with particular letter and having fix length"
   ]
  },
  {
   "cell_type": "code",
   "execution_count": 53,
   "metadata": {},
   "outputs": [
    {
     "name": "stdout",
     "output_type": "stream",
     "text": [
      "Enter the string ads\n"
     ]
    }
   ],
   "source": [
    "pattern = \"^a...s$\"\n",
    "from_string = input(\"Enter the string \")\n",
    "re.match(pattern, from_string)"
   ]
  },
  {
   "cell_type": "code",
   "execution_count": 76,
   "metadata": {},
   "outputs": [
    {
     "name": "stdout",
     "output_type": "stream",
     "text": [
      "Enter the string asdfghjks\n"
     ]
    }
   ],
   "source": [
    "pattern = \"^a*.s$\"\n",
    "from_string = input(\"Enter the string \")\n",
    "re.match(pattern, from_string)"
   ]
  },
  {
   "cell_type": "code",
   "execution_count": 60,
   "metadata": {},
   "outputs": [
    {
     "name": "stdout",
     "output_type": "stream",
     "text": [
      "Enter the string awsxs\n"
     ]
    },
    {
     "data": {
      "text/plain": [
       "<re.Match object; span=(0, 5), match='awsxs'>"
      ]
     },
     "execution_count": 60,
     "metadata": {},
     "output_type": "execute_result"
    }
   ],
   "source": [
    "pattern = \"^a.*s$\"\n",
    "from_string = input(\"Enter the string \")\n",
    "re.match(pattern, from_string)"
   ]
  },
  {
   "cell_type": "code",
   "execution_count": 62,
   "metadata": {},
   "outputs": [
    {
     "name": "stdout",
     "output_type": "stream",
     "text": [
      "Enter the string a12345s\n"
     ]
    },
    {
     "data": {
      "text/plain": [
       "<re.Match object; span=(0, 7), match='a12345s'>"
      ]
     },
     "execution_count": 62,
     "metadata": {},
     "output_type": "execute_result"
    }
   ],
   "source": [
    "pattern = \"^a.{5}s$\"\n",
    "from_string = input(\"Enter the string \")\n",
    "re.match(pattern, from_string)"
   ]
  },
  {
   "cell_type": "code",
   "execution_count": 66,
   "metadata": {},
   "outputs": [
    {
     "name": "stdout",
     "output_type": "stream",
     "text": [
      "Enter the string axxxxxxxxxs\n"
     ]
    },
    {
     "data": {
      "text/plain": [
       "<re.Match object; span=(0, 11), match='axxxxxxxxxs'>"
      ]
     },
     "execution_count": 66,
     "metadata": {},
     "output_type": "execute_result"
    }
   ],
   "source": [
    "pattern = \"^a.*x{3}.*s$\"\n",
    "from_string = input(\"Enter the string \")\n",
    "re.match(pattern, from_string)"
   ]
  },
  {
   "cell_type": "code",
   "execution_count": 74,
   "metadata": {},
   "outputs": [
    {
     "name": "stdout",
     "output_type": "stream",
     "text": [
      "Enter the string asdffggs\n"
     ]
    },
    {
     "data": {
      "text/plain": [
       "<re.Match object; span=(0, 2), match='as'>"
      ]
     },
     "execution_count": 74,
     "metadata": {},
     "output_type": "execute_result"
    }
   ],
   "source": [
    "pattern = \"^a*.\"\n",
    "from_string = input(\"Enter the string \")\n",
    "re.match(pattern, from_string)"
   ]
  },
  {
   "cell_type": "code",
   "execution_count": null,
   "metadata": {},
   "outputs": [],
   "source": [
    "p=\"\""
   ]
  },
  {
   "cell_type": "code",
   "execution_count": 77,
   "metadata": {},
   "outputs": [
    {
     "name": "stdout",
     "output_type": "stream",
     "text": [
      "awsdfgs\n"
     ]
    },
    {
     "data": {
      "text/plain": [
       "<re.Match object; span=(0, 7), match='awsdfgs'>"
      ]
     },
     "execution_count": 77,
     "metadata": {},
     "output_type": "execute_result"
    }
   ],
   "source": [
    "pattern = \"^a[a-z]*s$\"\n",
    "from_str = input()\n",
    "re.match(pattern, from_str)"
   ]
  },
  {
   "cell_type": "code",
   "execution_count": 79,
   "metadata": {},
   "outputs": [
    {
     "name": "stdout",
     "output_type": "stream",
     "text": [
      "asdfgs\n"
     ]
    }
   ],
   "source": [
    "pattern = \"^a[0-9]*s$\"\n",
    "from_str = input()\n",
    "re.match(pattern, from_str)"
   ]
  },
  {
   "cell_type": "code",
   "execution_count": 59,
   "metadata": {},
   "outputs": [
    {
     "name": "stdout",
     "output_type": "stream",
     "text": [
      "a12345s\n"
     ]
    }
   ],
   "source": [
    "pattern = \"^a[0-9]{3}s$\"\n",
    "from_str = input()\n",
    "re.match(pattern, from_str)"
   ]
  },
  {
   "cell_type": "code",
   "execution_count": 81,
   "metadata": {},
   "outputs": [
    {
     "name": "stdout",
     "output_type": "stream",
     "text": [
      "1s\n"
     ]
    },
    {
     "data": {
      "text/plain": [
       "<re.Match object; span=(0, 2), match='1s'>"
      ]
     },
     "execution_count": 81,
     "metadata": {},
     "output_type": "execute_result"
    }
   ],
   "source": [
    "pattern = \"^[0-9]s$\"\n",
    "from_str = input()\n",
    "re.match(pattern, from_str)"
   ]
  },
  {
   "cell_type": "code",
   "execution_count": 86,
   "metadata": {},
   "outputs": [
    {
     "name": "stdout",
     "output_type": "stream",
     "text": [
      "a11s\n"
     ]
    },
    {
     "data": {
      "text/plain": [
       "<re.Match object; span=(0, 4), match='a11s'>"
      ]
     },
     "execution_count": 86,
     "metadata": {},
     "output_type": "execute_result"
    }
   ],
   "source": [
    "pattern = \"^a[11,20]{2}s$\"\n",
    "from_str = input()\n",
    "re.match(pattern, from_str)"
   ]
  },
  {
   "cell_type": "code",
   "execution_count": 91,
   "metadata": {},
   "outputs": [
    {
     "name": "stdout",
     "output_type": "stream",
     "text": [
      "a1234s\n"
     ]
    }
   ],
   "source": [
    "pattern = \"a[0-9]{1,3}s\"\n",
    "from_str = input()\n",
    "re.match(pattern, from_str)"
   ]
  },
  {
   "cell_type": "code",
   "execution_count": null,
   "metadata": {},
   "outputs": [],
   "source": [
    "as,  ats, anrs, aws, "
   ]
  },
  {
   "cell_type": "markdown",
   "metadata": {},
   "source": [
    "# Metacharacter\n",
    "\n",
    "[] - specifies the set of characters\n",
    "\n",
    "e.g.  \n",
    "      [a-j]  is used to create set of a,b,c,d,f,g,h,i,j\n",
    "\n",
    "      [1-20] is retuening set of 1,2,3,4,5,6,7,8,9,10,11,12,13,15,14,16,17,18,19,20"
   ]
  },
  {
   "cell_type": "code",
   "execution_count": 36,
   "metadata": {},
   "outputs": [
    {
     "name": "stdout",
     "output_type": "stream",
     "text": [
      "Enter the string Anup\n"
     ]
    },
    {
     "data": {
      "text/plain": [
       "<re.Match object; span=(0, 1), match='A'>"
      ]
     },
     "execution_count": 36,
     "metadata": {},
     "output_type": "execute_result"
    }
   ],
   "source": [
    "pattern = \"^[A-B]\"\n",
    "from_string = input(\"Enter the string \")\n",
    "re.match(pattern, from_string)"
   ]
  },
  {
   "cell_type": "code",
   "execution_count": 7,
   "metadata": {},
   "outputs": [
    {
     "data": {
      "text/plain": [
       "['Janice', 'Theon', 'Gabriel', 'Joey']"
      ]
     },
     "execution_count": 7,
     "metadata": {},
     "output_type": "execute_result"
    }
   ],
   "source": [
    "import re\n",
    "pattern = \"[A-Z][a-z]*\"\n",
    "re.findall(pattern,Nameage)"
   ]
  },
  {
   "cell_type": "code",
   "execution_count": 5,
   "metadata": {},
   "outputs": [
    {
     "data": {
      "text/plain": [
       "'\\nJanice is 22. \\nand Theon is 12 \\nGabriel is 49 and \\nJoey is 21 \\n'"
      ]
     },
     "execution_count": 5,
     "metadata": {},
     "output_type": "execute_result"
    }
   ],
   "source": [
    "Nameage"
   ]
  },
  {
   "cell_type": "code",
   "execution_count": 31,
   "metadata": {},
   "outputs": [
    {
     "data": {
      "text/plain": [
       "<re.Match object; span=(0, 7), match='kljnkio'>"
      ]
     },
     "execution_count": 31,
     "metadata": {},
     "output_type": "execute_result"
    }
   ],
   "source": [
    "{\"Janice\":22, \"Theon\":12, \"Gabriel\":49, \"Joey\":21}"
   ]
  },
  {
   "cell_type": "code",
   "execution_count": 3,
   "metadata": {},
   "outputs": [],
   "source": [
    "Nameage = '''\n",
    "Janice is 22. \n",
    "and  Theon is 12 \n",
    "Gabriel is 49 and \n",
    "Joey is 21012156679 \n",
    "'''"
   ]
  },
  {
   "cell_type": "code",
   "execution_count": 24,
   "metadata": {},
   "outputs": [
    {
     "data": {
      "text/plain": [
       "['49', '79']"
      ]
     },
     "execution_count": 24,
     "metadata": {},
     "output_type": "execute_result"
    }
   ],
   "source": [
    "re.findall('\\d[9]',Nameage)"
   ]
  },
  {
   "cell_type": "code",
   "execution_count": 8,
   "metadata": {},
   "outputs": [
    {
     "data": {
      "text/plain": [
       "['22', '12', '49', '21012156679']"
      ]
     },
     "execution_count": 8,
     "metadata": {},
     "output_type": "execute_result"
    }
   ],
   "source": [
    "re.findall('[0-9]{1,11}', Nameage)"
   ]
  },
  {
   "cell_type": "code",
   "execution_count": 13,
   "metadata": {},
   "outputs": [
    {
     "data": {
      "text/plain": [
       "['Janice', 'Theon', 'Gabriel', 'Joey']"
      ]
     },
     "execution_count": 13,
     "metadata": {},
     "output_type": "execute_result"
    }
   ],
   "source": [
    "re.findall('[A-Z][a-z]*',Nameage)"
   ]
  },
  {
   "cell_type": "code",
   "execution_count": 9,
   "metadata": {},
   "outputs": [
    {
     "data": {
      "text/plain": [
       "['Janice', 'Theon', 'Gabriel', 'Joey']"
      ]
     },
     "execution_count": 9,
     "metadata": {},
     "output_type": "execute_result"
    }
   ],
   "source": [
    "re.findall('[A-Z][a-z]*',Nameage)"
   ]
  },
  {
   "cell_type": "code",
   "execution_count": 14,
   "metadata": {},
   "outputs": [
    {
     "data": {
      "text/plain": [
       "['Ja', 'T', 'Gab', 'J']"
      ]
     },
     "execution_count": 14,
     "metadata": {},
     "output_type": "execute_result"
    }
   ],
   "source": [
    "re.findall('[A-Z][a,b]*',Nameage)"
   ]
  },
  {
   "cell_type": "code",
   "execution_count": 10,
   "metadata": {},
   "outputs": [],
   "source": [
    "ages = re.findall('\\d{1,11}', Nameage)\n",
    "names = re.findall('[A-Z][a-z]*',Nameage)"
   ]
  },
  {
   "cell_type": "code",
   "execution_count": 38,
   "metadata": {},
   "outputs": [
    {
     "data": {
      "text/plain": [
       "['Janice', 'Theon', 'Gabriel', 'Joey']"
      ]
     },
     "execution_count": 38,
     "metadata": {},
     "output_type": "execute_result"
    }
   ],
   "source": [
    "names"
   ]
  },
  {
   "cell_type": "code",
   "execution_count": 39,
   "metadata": {},
   "outputs": [
    {
     "data": {
      "text/plain": [
       "['22', '12', '49', '21012156679']"
      ]
     },
     "execution_count": 39,
     "metadata": {},
     "output_type": "execute_result"
    }
   ],
   "source": [
    "ages"
   ]
  },
  {
   "cell_type": "code",
   "execution_count": 11,
   "metadata": {},
   "outputs": [
    {
     "data": {
      "text/plain": [
       "[('Janice', '22'), ('Theon', '12'), ('Gabriel', '49'), ('Joey', '21012156679')]"
      ]
     },
     "execution_count": 11,
     "metadata": {},
     "output_type": "execute_result"
    }
   ],
   "source": [
    "list(zip(names,ages))"
   ]
  },
  {
   "cell_type": "code",
   "execution_count": 12,
   "metadata": {},
   "outputs": [
    {
     "data": {
      "text/plain": [
       "{'Janice': '22', 'Theon': '12', 'Gabriel': '49', 'Joey': '21012156679'}"
      ]
     },
     "execution_count": 12,
     "metadata": {},
     "output_type": "execute_result"
    }
   ],
   "source": [
    "dict(zip(names, ages))"
   ]
  },
  {
   "cell_type": "code",
   "execution_count": 42,
   "metadata": {},
   "outputs": [],
   "source": [
    "ageDict = {}"
   ]
  },
  {
   "cell_type": "code",
   "execution_count": 39,
   "metadata": {},
   "outputs": [
    {
     "name": "stdout",
     "output_type": "stream",
     "text": [
      "{'Janice': '22', 'Theon': '12', 'Gabriel': '49', 'Joey': '21'}\n"
     ]
    }
   ],
   "source": [
    "x = 0\n",
    "for eachname in names:\n",
    "    ageDict[eachname] = ages[x]\n",
    "    x+=1\n",
    "print(ageDict)"
   ]
  },
  {
   "cell_type": "code",
   "execution_count": 40,
   "metadata": {},
   "outputs": [
    {
     "data": {
      "text/plain": [
       "Janice     22\n",
       "Theon      12\n",
       "Gabriel    49\n",
       "Joey       21\n",
       "dtype: object"
      ]
     },
     "execution_count": 40,
     "metadata": {},
     "output_type": "execute_result"
    }
   ],
   "source": [
    "import pandas as pd\n",
    "pd.Series(ageDict)"
   ]
  },
  {
   "cell_type": "code",
   "execution_count": null,
   "metadata": {},
   "outputs": [],
   "source": []
  },
  {
   "cell_type": "code",
   "execution_count": 43,
   "metadata": {},
   "outputs": [
    {
     "name": "stdout",
     "output_type": "stream",
     "text": [
      "['inform', 'inform']\n",
      "inform\n",
      "inform\n"
     ]
    }
   ],
   "source": [
    "string= \"We need to inform him with the latest information!\"\n",
    "\n",
    "allinform = re.findall(\"inform\",string) \n",
    "#allinform = re.findall(\"inform\",string)\n",
    "print(allinform) \n",
    "for i in allinform:\n",
    "    print(i)"
   ]
  },
  {
   "cell_type": "code",
   "execution_count": null,
   "metadata": {},
   "outputs": [],
   "source": [
    "###1-5 letter 4 digits 1 letter"
   ]
  },
  {
   "cell_type": "code",
   "execution_count": 27,
   "metadata": {},
   "outputs": [],
   "source": [
    "a= \"ZEAAAS234N\"\n",
    "#re.fullmatch(a,\"ZZAAA1234B\")\n",
    "re.fullmatch(\"[A-Z]{5}[0-9]{4}[A-Z]{1}\",a)\n"
   ]
  },
  {
   "cell_type": "code",
   "execution_count": 33,
   "metadata": {},
   "outputs": [
    {
     "name": "stdout",
     "output_type": "stream",
     "text": [
      "Enter pan carddAAAAA1234V\n",
      "OK\n"
     ]
    }
   ],
   "source": [
    "if re.fullmatch(\"[A-Z]{5}[0-9]{4}[A-Z]{1}\",input(\"Enter pan cardd\")):\n",
    "    print(\"OK\")\n",
    "else:\n",
    "    print('Wrong PAN')"
   ]
  },
  {
   "cell_type": "code",
   "execution_count": 30,
   "metadata": {},
   "outputs": [
    {
     "name": "stdout",
     "output_type": "stream",
     "text": [
      "Not \n"
     ]
    }
   ],
   "source": [
    "if re.search(\"uniform\",\"we need to inform him with the latest information\"):\n",
    "    print(\"exist\")\n",
    "else:\n",
    "    print(\"Not \")"
   ]
  },
  {
   "cell_type": "code",
   "execution_count": 56,
   "metadata": {},
   "outputs": [
    {
     "name": "stdout",
     "output_type": "stream",
     "text": [
      "There is inform\n"
     ]
    }
   ],
   "source": [
    "if re.search(\"inform\",\"we need to inform him with the latest information\"):\n",
    "    print(\"There is inform\")\n",
    "else:\n",
    "    print(\"NO inform\")"
   ]
  },
  {
   "cell_type": "code",
   "execution_count": 74,
   "metadata": {},
   "outputs": [],
   "source": [
    "re.search(\"frform\",\"we needed to inform him with the latest need information\")"
   ]
  },
  {
   "cell_type": "code",
   "execution_count": 7,
   "metadata": {},
   "outputs": [],
   "source": [
    "import re\n",
    "Str = \"\"\"we need to inform him with the latest information. \n",
    "    The information is about CHATGPT, informer itself is AI machine.\"\"\"\n",
    "#Str.split()"
   ]
  },
  {
   "cell_type": "code",
   "execution_count": 5,
   "metadata": {},
   "outputs": [
    {
     "data": {
      "text/plain": [
       "[<re.Match object; span=(11, 17), match='inform'>,\n",
       " <re.Match object; span=(38, 44), match='inform'>,\n",
       " <re.Match object; span=(55, 61), match='inform'>,\n",
       " <re.Match object; span=(85, 91), match='inform'>]"
      ]
     },
     "execution_count": 5,
     "metadata": {},
     "output_type": "execute_result"
    }
   ],
   "source": [
    "list(re.finditer(\"inform\", Str))"
   ]
  },
  {
   "cell_type": "code",
   "execution_count": 22,
   "metadata": {},
   "outputs": [
    {
     "name": "stdout",
     "output_type": "stream",
     "text": [
      "<re.Match object; span=(11, 17), match='inform'>\n",
      "(11, 17)\n",
      "<re.Match object; span=(38, 44), match='inform'>\n",
      "(38, 44)\n"
     ]
    }
   ],
   "source": [
    "Str = \"we need to inform him with the latest information\"\n",
    "#pa=list(re.finditer(\"inform\", Str))\n",
    "#print(pa)\n",
    "\n",
    "for i in re.finditer(\"inform\", Str):\n",
    "    print(i)\n",
    "    locTuple = i.span()\n",
    "    print(locTuple)\n"
   ]
  },
  {
   "cell_type": "code",
   "execution_count": 47,
   "metadata": {},
   "outputs": [
    {
     "name": "stdout",
     "output_type": "stream",
     "text": [
      "['Sat', 'Aat', 'hat', '12at', 'mat', 'pat', 'fat', 'at', 'at']\n"
     ]
    }
   ],
   "source": [
    "Str = \"Sat, Aat, KAapa hat 12at mat pat lot socket fat, at, atlas\"\n",
    " \n",
    "allStr = re.findall(\"[A-Z,a-z,0-9]*at\", Str)\n",
    "##,a-z,0-9\n",
    "#allStr = re.findall(\"at*\", Str)\n",
    "print(allStr) \n",
    "#for i in allStr:\n",
    " #   print(i)"
   ]
  },
  {
   "cell_type": "code",
   "execution_count": 50,
   "metadata": {},
   "outputs": [
    {
     "data": {
      "text/plain": [
       "'a'"
      ]
     },
     "execution_count": 50,
     "metadata": {},
     "output_type": "execute_result"
    }
   ],
   "source": [
    "Str[1]"
   ]
  },
  {
   "cell_type": "code",
   "execution_count": 44,
   "metadata": {},
   "outputs": [
    {
     "name": "stdout",
     "output_type": "stream",
     "text": [
      "(1, 3)\n",
      "<class 'int'> <class 'int'>\n",
      "Sat\n",
      "(6, 8)\n",
      "<class 'int'> <class 'int'>\n",
      "Sat, Aat\n",
      "(17, 19)\n",
      "<class 'int'> <class 'int'>\n",
      "Sat, Aat, KAapa hat\n",
      "(22, 24)\n",
      "<class 'int'> <class 'int'>\n",
      "Sat, Aat, KAapa hat 12at\n",
      "(26, 28)\n",
      "<class 'int'> <class 'int'>\n",
      "Sat, Aat, KAapa hat 12at mat\n",
      "(30, 32)\n",
      "<class 'int'> <class 'int'>\n",
      "Sat, Aat, KAapa hat 12at mat pat\n",
      "(45, 47)\n",
      "<class 'int'> <class 'int'>\n",
      "Sat, Aat, KAapa hat 12at mat pat lot socket fat\n",
      "(49, 51)\n",
      "<class 'int'> <class 'int'>\n",
      "Sat, Aat, KAapa hat 12at mat pat lot socket fat, at\n",
      "(53, 55)\n",
      "<class 'int'> <class 'int'>\n",
      "Sat, Aat, KAapa hat 12at mat pat lot socket fat, at, at\n"
     ]
    }
   ],
   "source": [
    "for i in list(re.finditer(\"at\",Str)):\n",
    "    #print(i.span())\n",
    "    #print(type(i.span()[0]), type(i.span()[1]))\n",
    "    #ll, ul =i.span()[0], i.span()[1]\n",
    "    print(Str[: i.span()[1]])"
   ]
  },
  {
   "cell_type": "code",
   "execution_count": 27,
   "metadata": {
    "scrolled": true
   },
   "outputs": [
    {
     "name": "stdout",
     "output_type": "stream",
     "text": [
      "Sat ['Sat']\n",
      "Aat ['Aat']\n",
      "hat ['hat']\n",
      "12at ['12at']\n",
      "mat ['mat']\n",
      "pat ['pat']\n",
      "fat ['fat']\n",
      "at ['at']\n",
      "at ['at']\n"
     ]
    }
   ],
   "source": [
    "for i in allStr:\n",
    "    val = re.findall(\"[A-Z, a-z,0-9]*at$\",i)\n",
    "    print(i, val)"
   ]
  },
  {
   "cell_type": "code",
   "execution_count": 65,
   "metadata": {},
   "outputs": [
    {
     "name": "stdout",
     "output_type": "stream",
     "text": [
      "Sat\n",
      "Aat\n",
      "hat\n",
      "12at\n",
      "mat\n",
      "pat\n",
      "fat\n",
      "at\n",
      "at\n"
     ]
    }
   ],
   "source": [
    "Str = \"Sat, Aat, KAapa hat 12at mat pat lot socket fat, at, atlas\"\n",
    " \n",
    "allStr = re.finditer(\"^[A-Z,a-z,0-9]*at\", Str)\n",
    "##,a-z,0-9\n",
    "#allStr = re.findall(\"at*\", Str)\n",
    "for all_val in re.finditer(\"[A-Z,a-z,0-9]*at\", Str):\n",
    "    val = all_val.span()\n",
    "    #print(val[0], val[1])\n",
    "    print(Str[val[0]:val[1]])\n",
    "#for i in allStr:\n",
    " #   print(i)"
   ]
  },
  {
   "cell_type": "code",
   "execution_count": 56,
   "metadata": {},
   "outputs": [
    {
     "data": {
      "text/plain": [
       "'C'"
      ]
     },
     "execution_count": 56,
     "metadata": {},
     "output_type": "execute_result"
    }
   ],
   "source": [
    "a= \"ABCD\"\n",
    "a[2]"
   ]
  },
  {
   "cell_type": "code",
   "execution_count": 50,
   "metadata": {},
   "outputs": [
    {
     "name": "stdout",
     "output_type": "stream",
     "text": [
      "['Sat']\n",
      "['hat', 'mat', 'pat']\n",
      "['Sat', 'hat', 'mat', 'pat']\n"
     ]
    }
   ],
   "source": [
    "Str = \"Sat, hat, mat, pat, at,Kafka, atleast, atlas\"\n",
    " \n",
    "#someStr = re.findall(\"[a-z]at\", Str)\n",
    "someStr = re.findall(\"[A-Z]at\", Str)\n",
    "some2 = re.findall(\"[a-z]at\", Str)\n",
    "print(someStr)\n",
    "print(some2)\n",
    "final=someStr+some2\n",
    "print(final)\n"
   ]
  },
  {
   "cell_type": "code",
   "execution_count": 51,
   "metadata": {},
   "outputs": [
    {
     "data": {
      "text/plain": [
       "['Sat', 'hat', 'mat', 'pat']"
      ]
     },
     "execution_count": 51,
     "metadata": {},
     "output_type": "execute_result"
    }
   ],
   "source": [
    "someStr = re.findall(\"[A-z]at\", Str)\n",
    "someStr"
   ]
  },
  {
   "cell_type": "code",
   "execution_count": 93,
   "metadata": {},
   "outputs": [
    {
     "name": "stdout",
     "output_type": "stream",
     "text": [
      "['sat', 'mat']\n"
     ]
    }
   ],
   "source": [
    "Str = \"sat, hat, mat, pat, new\"\n",
    " \n",
    "someStr = re.findall(\"[^h, p]at\", Str)\n",
    "print(someStr)\n",
    "#for i in someStr:\n",
    "#    print(i)"
   ]
  },
  {
   "cell_type": "code",
   "execution_count": 44,
   "metadata": {},
   "outputs": [
    {
     "name": "stdout",
     "output_type": "stream",
     "text": [
      "<re.Match object; span=(13, 17), match='prog'>\n"
     ]
    }
   ],
   "source": [
    "randstr = \"Enjoying the programming with python\"\n",
    " \n",
    "print(re.search(r\"prog\", randstr))"
   ]
  },
  {
   "cell_type": "code",
   "execution_count": null,
   "metadata": {},
   "outputs": [],
   "source": []
  }
 ],
 "metadata": {
  "kernelspec": {
   "display_name": "Python 3",
   "language": "python",
   "name": "python3"
  },
  "language_info": {
   "codemirror_mode": {
    "name": "ipython",
    "version": 3
   },
   "file_extension": ".py",
   "mimetype": "text/x-python",
   "name": "python",
   "nbconvert_exporter": "python",
   "pygments_lexer": "ipython3",
   "version": "3.8.5"
  }
 },
 "nbformat": 4,
 "nbformat_minor": 2
}

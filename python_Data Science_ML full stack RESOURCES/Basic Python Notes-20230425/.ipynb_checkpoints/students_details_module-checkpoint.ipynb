{
 "cells": [
  {
   "cell_type": "code",
   "execution_count": 1,
   "metadata": {},
   "outputs": [],
   "source": [
    "stud_details={}"
   ]
  },
  {
   "cell_type": "code",
   "execution_count": 8,
   "metadata": {},
   "outputs": [
    {
     "data": {
      "text/plain": [
       "3"
      ]
     },
     "execution_count": 8,
     "metadata": {},
     "output_type": "execute_result"
    }
   ],
   "source": [
    "len(stud_details)"
   ]
  },
  {
   "cell_type": "code",
   "execution_count": 9,
   "metadata": {},
   "outputs": [
    {
     "name": "stdout",
     "output_type": "stream",
     "text": [
      "Enter number for students2\n",
      "Enter the namedavid\n",
      "Enter the marks89\n",
      "Enter mobile number8906785674\n",
      "Valid\n",
      "valid\n",
      "valid\n",
      "1\n",
      "{'name': 'david', 'marks': '89', 'ph': '8906785674'}\n",
      "Enter the nameruby\n",
      "Enter the marks67\n",
      "Enter mobile number6787896785\n",
      "Valid\n",
      "valid\n",
      "valid\n",
      "1\n",
      "{'name': 'ruby', 'marks': '67', 'ph': '6787896785'}\n"
     ]
    }
   ],
   "source": [
    "for i in range(int(input(\"Enter number for students\"))):\n",
    "    if len(stud_details) == 0:\n",
    "         cnt =i+1\n",
    "    else:\n",
    "        cnt=len(stud_details)+1\n",
    "        \n",
    "    name = input(\"Enter the name\")\n",
    "    marks = input(\"Enter the marks\")\n",
    "    ph = input(\"Enter mobile number\")\n",
    "    flag = 1\n",
    "\n",
    "    if name.isalpha():\n",
    "        print(\"Valid\")\n",
    "    else:\n",
    "        print(\"INVALID\")\n",
    "        flag =0\n",
    "\n",
    "    if  marks.isdigit() and float(marks) <=100:\n",
    "        print('valid')\n",
    "    else:\n",
    "        print(\"invalid\")\n",
    "        flag =0\n",
    "\n",
    "    if ph.isdigit() and len(ph)==10:\n",
    "        print('valid')\n",
    "    else:\n",
    "        print('invalid')\n",
    "        flag =0\n",
    "\n",
    "    print(flag)\n",
    "\n",
    "    if flag ==1:\n",
    "        details = {'name':name,'marks':marks,'ph':ph}\n",
    "        print(details)\n",
    "        stud_details.update({cnt: details})\n"
   ]
  },
  {
   "cell_type": "code",
   "execution_count": 6,
   "metadata": {},
   "outputs": [
    {
     "data": {
      "text/plain": [
       "{0: {'name': 'tyug', 'marks': '67', 'ph': '0989878765'},\n",
       " 1: {'name': 'salim', 'marks': '78', 'ph': '7896785670'},\n",
       " 2: {'name': 'yuooj', 'marks': '67', 'ph': '7890678976'}}"
      ]
     },
     "execution_count": 6,
     "metadata": {},
     "output_type": "execute_result"
    }
   ],
   "source": [
    "stud_details"
   ]
  },
  {
   "cell_type": "code",
   "execution_count": 10,
   "metadata": {},
   "outputs": [
    {
     "data": {
      "text/plain": [
       "{0: {'name': 'tyug', 'marks': '67', 'ph': '0989878765'},\n",
       " 1: {'name': 'salim', 'marks': '78', 'ph': '7896785670'},\n",
       " 2: {'name': 'yuooj', 'marks': '67', 'ph': '7890678976'},\n",
       " 4: {'name': 'david', 'marks': '89', 'ph': '8906785674'},\n",
       " 5: {'name': 'ruby', 'marks': '67', 'ph': '6787896785'}}"
      ]
     },
     "execution_count": 10,
     "metadata": {},
     "output_type": "execute_result"
    }
   ],
   "source": [
    "stud_details"
   ]
  },
  {
   "cell_type": "code",
   "execution_count": null,
   "metadata": {},
   "outputs": [],
   "source": []
  }
 ],
 "metadata": {
  "kernelspec": {
   "display_name": "Python 3 (ipykernel)",
   "language": "python",
   "name": "python3"
  },
  "language_info": {
   "codemirror_mode": {
    "name": "ipython",
    "version": 3
   },
   "file_extension": ".py",
   "mimetype": "text/x-python",
   "name": "python",
   "nbconvert_exporter": "python",
   "pygments_lexer": "ipython3",
   "version": "3.9.7"
  }
 },
 "nbformat": 4,
 "nbformat_minor": 4
}

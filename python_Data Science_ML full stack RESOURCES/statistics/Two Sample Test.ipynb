{
 "cells": [
  {
   "cell_type": "markdown",
   "metadata": {
    "id": "xIqPtJJypjyh"
   },
   "source": [
    "# Two Sample Tests"
   ]
  },
  {
   "cell_type": "code",
   "execution_count": null,
   "metadata": {},
   "outputs": [],
   "source": []
  },
  {
   "cell_type": "code",
   "execution_count": null,
   "metadata": {
    "colab": {
     "base_uri": "https://localhost:8080/"
    },
    "executionInfo": {
     "elapsed": 1167,
     "status": "ok",
     "timestamp": 1609969573053,
     "user": {
      "displayName": "Abhin Chhabra",
      "photoUrl": "https://lh3.googleusercontent.com/a-/AOh14GjOGE-MjVQICUqHOhmn9An4XAOdPrH34Qi7fgPcBw=s64",
      "userId": "04603708761047759740"
     },
     "user_tz": 300
    },
    "id": "RfaQouLspjyq",
    "outputId": "f1a418a5-3604-401f-a374-110024186407"
   },
   "outputs": [],
   "source": [
    "import numpy as np\n",
    "import pandas as pd\n",
    "import matplotlib.pyplot as plt\n",
    "import seaborn as sns\n",
    "from statsmodels.stats import weightstats \n",
    "import scipy.stats as stats"
   ]
  },
  {
   "cell_type": "code",
   "execution_count": null,
   "metadata": {
    "id": "2B0UDHqMpjyr"
   },
   "outputs": [],
   "source": [
    "df = pd.read_csv('E:\\\\Python\\\\STATISTICS\\\\Two Machines.csv')\n",
    "df"
   ]
  },
  {
   "cell_type": "code",
   "execution_count": null,
   "metadata": {},
   "outputs": [],
   "source": [
    "df.info()"
   ]
  },
  {
   "cell_type": "code",
   "execution_count": null,
   "metadata": {
    "scrolled": true
   },
   "outputs": [],
   "source": [
    "df.describe(include='all')"
   ]
  },
  {
   "cell_type": "code",
   "execution_count": null,
   "metadata": {
    "id": "17ilp3Shpjyr",
    "outputId": "6851bf9e-7a07-47f3-a63d-f94a93dad96f"
   },
   "outputs": [],
   "source": [
    "df['Machine'].describe()"
   ]
  },
  {
   "cell_type": "code",
   "execution_count": null,
   "metadata": {
    "id": "QtgktkBvpjyt",
    "outputId": "d94f6b3a-9da9-4de0-f633-56511e577457"
   },
   "outputs": [],
   "source": [
    "sns.catplot(data=df, x='Machine', y='Volume', kind='box')"
   ]
  },
  {
   "cell_type": "markdown",
   "metadata": {
    "id": "r-oeIRIhpjyu"
   },
   "source": [
    "# Two Sample Z Test"
   ]
  },
  {
   "cell_type": "markdown",
   "metadata": {},
   "source": [
    "SciPy.stats does not have a z test (one or two sample). "
   ]
  },
  {
   "cell_type": "code",
   "execution_count": null,
   "metadata": {},
   "outputs": [],
   "source": [
    "df[df[\"Machine\"]==\"Machine 1\"][\"Volume\"]"
   ]
  },
  {
   "cell_type": "code",
   "execution_count": null,
   "metadata": {
    "id": "q9VPEs_Dpjyv",
    "outputId": "8fd1167b-5239-4fa9-811a-5c0866d09c77"
   },
   "outputs": [],
   "source": [
    "m1 = df[df['Machine'] == 'Machine 1']['Volume']\n",
    "m2 = df[df['Machine'] == 'Machine 2']['Volume']"
   ]
  },
  {
   "cell_type": "code",
   "execution_count": null,
   "metadata": {},
   "outputs": [],
   "source": [
    "m2"
   ]
  },
  {
   "cell_type": "code",
   "execution_count": null,
   "metadata": {},
   "outputs": [],
   "source": [
    "weightstats.ztest(m1, m2)"
   ]
  },
  {
   "cell_type": "code",
   "execution_count": null,
   "metadata": {},
   "outputs": [],
   "source": [
    "if weightstats.ztest(m1, m2)[1] <0.05:\n",
    "    print(\"reject null hypothesis\")\n",
    "else:\n",
    "    print(\"accept null hypo\")"
   ]
  },
  {
   "cell_type": "code",
   "execution_count": null,
   "metadata": {},
   "outputs": [],
   "source": [
    "## NULL:  m1 is smaller or equal to m2 \n",
    "## ALTER: m1 is larger to m2\n",
    "weightstats.ztest(m1, m2, alternative= 'larger')"
   ]
  },
  {
   "cell_type": "code",
   "execution_count": null,
   "metadata": {},
   "outputs": [],
   "source": [
    "if weightstats.ztest(m1, m2, alternative= 'larger')[1] < 0.05:\n",
    "    print(\"Reject NULL\")\n",
    "else:\n",
    "    print(\"Accept NULL\")"
   ]
  },
  {
   "cell_type": "code",
   "execution_count": null,
   "metadata": {},
   "outputs": [],
   "source": [
    "## NULL:  m1 is larger to m2 \n",
    "## ALTER: m1 smaller to m2\n",
    "weightstats.ztest(m1, m2, alternative= 'smaller')"
   ]
  },
  {
   "cell_type": "code",
   "execution_count": null,
   "metadata": {},
   "outputs": [],
   "source": [
    "if weightstats.ztest(m1, m2, alternative= 'smaller')[1] < 0.05:\n",
    "    print(\"reject NULL\")\n",
    "else:\n",
    "    print(\"Accept NULL\")"
   ]
  },
  {
   "cell_type": "code",
   "execution_count": null,
   "metadata": {
    "id": "l3yWOxn7pjyv",
    "outputId": "39bdd30c-1e8d-4e55-c6d5-bd7615c34820"
   },
   "outputs": [],
   "source": [
    "stats.ttest_ind(m1, m2, equal_var=True)"
   ]
  },
  {
   "cell_type": "markdown",
   "metadata": {
    "id": "x0zPaRn1pjyv"
   },
   "source": [
    "### Two Sample Z Test - Male vs Female Tips"
   ]
  },
  {
   "cell_type": "code",
   "execution_count": null,
   "metadata": {
    "id": "k0xeBJ2Epjyw",
    "outputId": "d8c3a9f7-c675-41ca-fc0f-261ab6c329ef"
   },
   "outputs": [],
   "source": [
    "sns.get_dataset_names()"
   ]
  },
  {
   "cell_type": "code",
   "execution_count": null,
   "metadata": {
    "id": "T8nl65U2pjyw"
   },
   "outputs": [],
   "source": [
    "tips = sns.load_dataset(\"tips\")"
   ]
  },
  {
   "cell_type": "code",
   "execution_count": null,
   "metadata": {},
   "outputs": [],
   "source": [
    "tips.shape"
   ]
  },
  {
   "cell_type": "code",
   "execution_count": null,
   "metadata": {},
   "outputs": [],
   "source": [
    "tips.to_"
   ]
  },
  {
   "cell_type": "code",
   "execution_count": null,
   "metadata": {},
   "outputs": [],
   "source": [
    "tips.to_csv(r\"E:\\Python\\STATISTICS\\tips.csv\")"
   ]
  },
  {
   "cell_type": "code",
   "execution_count": null,
   "metadata": {
    "id": "UoZUbQoApjyw",
    "outputId": "5682c983-1b05-4148-da49-51180ccb6feb"
   },
   "outputs": [],
   "source": [
    "tips.head()"
   ]
  },
  {
   "cell_type": "code",
   "execution_count": null,
   "metadata": {
    "id": "feqqeBv9pjyw",
    "outputId": "7d39dab4-4885-45b3-b1ad-3f4701ad3625"
   },
   "outputs": [],
   "source": [
    "tips.describe()"
   ]
  },
  {
   "cell_type": "code",
   "execution_count": null,
   "metadata": {
    "id": "DezsOtRgpjyx",
    "outputId": "fa86163b-d009-47f2-b0b3-f8d4c85e07ff"
   },
   "outputs": [],
   "source": [
    "sns.catplot(data=tips, x='sex', y='tip', kind='box')"
   ]
  },
  {
   "cell_type": "code",
   "execution_count": null,
   "metadata": {},
   "outputs": [],
   "source": []
  },
  {
   "cell_type": "code",
   "execution_count": null,
   "metadata": {
    "id": "aFyfkaDtpjyx",
    "outputId": "f602173f-db46-4d07-807d-f028ae0578ad",
    "scrolled": true
   },
   "outputs": [],
   "source": [
    "tm = tips[tips['sex']=='Male']['tip']\n",
    "tm.mean(), tm.var()"
   ]
  },
  {
   "cell_type": "code",
   "execution_count": null,
   "metadata": {},
   "outputs": [],
   "source": [
    "3.08 ,  2.83"
   ]
  },
  {
   "cell_type": "code",
   "execution_count": null,
   "metadata": {
    "id": "UQRN75yOpjyx",
    "outputId": "04721bc0-eb4f-4b62-bec6-a833c502c7eb"
   },
   "outputs": [],
   "source": [
    "tf = tips[tips['sex']=='Female']['tip']\n",
    "tf.mean(), tf.var()"
   ]
  },
  {
   "cell_type": "code",
   "execution_count": null,
   "metadata": {},
   "outputs": [],
   "source": [
    "weightstats.ztest(tm, tf)"
   ]
  },
  {
   "cell_type": "code",
   "execution_count": null,
   "metadata": {
    "id": "B5iStGZQpjyy",
    "outputId": "7711eee0-02d1-4f27-eb0c-e939a9bb4919"
   },
   "outputs": [],
   "source": [
    "#Alternatively you can perform 2 sample t test using stats library\n",
    "stats.ttest_ind(tm, tf, equal_var=True)"
   ]
  },
  {
   "cell_type": "markdown",
   "metadata": {
    "id": "-8g685N7pjyy"
   },
   "source": [
    "### Two Sample Z Test - Lunch vs Dinner Tips"
   ]
  },
  {
   "cell_type": "code",
   "execution_count": null,
   "metadata": {
    "id": "1ADQrrJxpjyy",
    "outputId": "341371f2-ce82-41cc-ea1e-0911164b7832",
    "scrolled": true
   },
   "outputs": [],
   "source": [
    "sns.catplot(data=tips, x='time', y='tip', kind='box')"
   ]
  },
  {
   "cell_type": "code",
   "execution_count": null,
   "metadata": {
    "scrolled": true
   },
   "outputs": [],
   "source": [
    "#Tip during lunch\n",
    "tl = tips[tips['time']=='Lunch']['tip']\n",
    "tl.mean(), tl.var()"
   ]
  },
  {
   "cell_type": "code",
   "execution_count": null,
   "metadata": {},
   "outputs": [],
   "source": [
    "#tip during dinner\n",
    "td = tips[tips['time']=='Dinner']['tip']\n",
    "td.mean(), td.var()"
   ]
  },
  {
   "cell_type": "code",
   "execution_count": null,
   "metadata": {},
   "outputs": [],
   "source": [
    "weightstats.ztest(tl, td)"
   ]
  },
  {
   "cell_type": "code",
   "execution_count": null,
   "metadata": {
    "id": "DEh9mP5Opjyz",
    "outputId": "f71e4f39-96d4-4435-ea00-3c70817a2a4c"
   },
   "outputs": [],
   "source": [
    "stats.ttest_ind(tl, td, equal_var=True)[1]"
   ]
  },
  {
   "cell_type": "code",
   "execution_count": null,
   "metadata": {},
   "outputs": [],
   "source": [
    "if stats.ttest_ind(tl, td, equal_var=True)[1] < 0.05:\n",
    "    print(\"reject null\")\n",
    "else:\n",
    "    print(\"accept null\")"
   ]
  },
  {
   "cell_type": "markdown",
   "metadata": {
    "id": "iu9nlNoHpjy0"
   },
   "source": [
    "# Two Sample t Test (Equal Variances)"
   ]
  },
  {
   "cell_type": "code",
   "execution_count": null,
   "metadata": {},
   "outputs": [],
   "source": [
    "import numpy as np\n",
    "import pandas as pd\n",
    "import matplotlib.pyplot as plt\n",
    "import seaborn as sns\n",
    "from statsmodels.stats import weightstats \n",
    "import scipy.stats as stats"
   ]
  },
  {
   "cell_type": "code",
   "execution_count": null,
   "metadata": {
    "id": "kVjlyKR7pjy1",
    "outputId": "cc7246a1-f216-47c5-8409-d41b3e37a1b0"
   },
   "outputs": [],
   "source": [
    "m1 = [150, 152, 154, 152, 151]\n",
    "m2 = [156, 155, 158, 155, 154]"
   ]
  },
  {
   "cell_type": "code",
   "execution_count": null,
   "metadata": {},
   "outputs": [],
   "source": [
    "sum(m1)/5,  sum(m2)/5 "
   ]
  },
  {
   "cell_type": "code",
   "execution_count": null,
   "metadata": {},
   "outputs": [],
   "source": [
    "stats.variation(m1),  stats.variation(m2)  # stats.variation(m3),"
   ]
  },
  {
   "cell_type": "code",
   "execution_count": null,
   "metadata": {
    "id": "1WbDXZtTpjy1",
    "outputId": "b22cc3f4-3caf-4a12-b79c-c538aaa0bf4e",
    "scrolled": true
   },
   "outputs": [],
   "source": [
    "stats.ttest_ind(m1, m2)"
   ]
  },
  {
   "cell_type": "markdown",
   "metadata": {
    "id": "9GDfseAmpjy1"
   },
   "source": [
    "# Two Sample t Test (Unequal Variance)"
   ]
  },
  {
   "cell_type": "markdown",
   "metadata": {},
   "source": [
    "\n",
    "This is a two-sided test for the null hypothesis that 2 independent samples\n",
    "have identical average (expected) values. This test assumes that the\n",
    "populations have identical variances by default."
   ]
  },
  {
   "cell_type": "code",
   "execution_count": null,
   "metadata": {
    "id": "lz7oCBkGpjy2",
    "outputId": "fa5286c3-dd8d-40bd-a6e7-18897fd36794"
   },
   "outputs": [],
   "source": [
    "\n",
    "m1 = [150, 152, 154, 152, 151]\n",
    "m3 = [144, 162, 177, 150, 140]\n"
   ]
  },
  {
   "cell_type": "code",
   "execution_count": null,
   "metadata": {},
   "outputs": [],
   "source": [
    "sum(m1)/5, sum(m3)/5,"
   ]
  },
  {
   "cell_type": "code",
   "execution_count": null,
   "metadata": {},
   "outputs": [],
   "source": [
    "stats.variation(m1),  stats.variation(m3)"
   ]
  },
  {
   "cell_type": "code",
   "execution_count": null,
   "metadata": {
    "id": "J3U8e76lpjy2",
    "outputId": "6359883d-970c-49a4-a1ca-31ac81d91a3d"
   },
   "outputs": [],
   "source": [
    "stats.ttest_ind(m1, m3, equal_var=False)"
   ]
  },
  {
   "attachments": {
    "image.png": {
     "image/png": "[encoded data removed]"
    }
   },
   "cell_type": "markdown",
   "metadata": {
    "id": "G6bhQkOvpjy5"
   },
   "source": [
    "# Paired t Test\n",
    "\n",
    "When two samples are paired. That means effect of one sample is dependant on working of other\n",
    "\n",
    "H0 = mean(before) = mean(after)\n",
    "\n",
    "Ha= mean(before) != mean(after)\n",
    "\n",
    "![image.png](attachment:image.png)"
   ]
  },
  {
   "cell_type": "markdown",
   "metadata": {},
   "source": [
    "the null hypothesis that 2 related or\n",
    "repeated samples have identical average (expected) values."
   ]
  },
  {
   "cell_type": "code",
   "execution_count": null,
   "metadata": {},
   "outputs": [],
   "source": [
    "import numpy as np\n",
    "import pandas as pd\n",
    "import matplotlib.pyplot as plt\n",
    "import seaborn as sns\n",
    "from statsmodels.stats import weightstats \n",
    "import scipy.stats as stats"
   ]
  },
  {
   "cell_type": "code",
   "execution_count": null,
   "metadata": {
    "id": "DbHMN2uxpjy5"
   },
   "outputs": [],
   "source": [
    "bp_before = [120, 122, 143, 100, 109]\n",
    "bp_after = [122, 120, 141, 109, 109]"
   ]
  },
  {
   "cell_type": "code",
   "execution_count": null,
   "metadata": {},
   "outputs": [],
   "source": [
    "sum(bp_before)/5   ,  sum(bp_after)/5"
   ]
  },
  {
   "cell_type": "code",
   "execution_count": null,
   "metadata": {},
   "outputs": [],
   "source": [
    "###\n",
    "stats.ttest_rel(bp_before, bp_after)"
   ]
  },
  {
   "cell_type": "code",
   "execution_count": null,
   "metadata": {
    "id": "DbHMN2uxpjy5"
   },
   "outputs": [],
   "source": [
    "bp_before = [140, 142, 143, 100, 109]\n",
    "bp_after = [122, 120, 125, 90, 109]"
   ]
  },
  {
   "cell_type": "code",
   "execution_count": null,
   "metadata": {},
   "outputs": [],
   "source": [
    "sum(bp_before)/5   ,  sum(bp_after)/5"
   ]
  },
  {
   "cell_type": "code",
   "execution_count": null,
   "metadata": {
    "id": "vacz8rmwpjy6",
    "outputId": "960d51a7-ce2e-4170-a262-0a335d1e61a0"
   },
   "outputs": [],
   "source": [
    "###\n",
    "stats.ttest_rel(bp_before, bp_after)\n",
    "# related t test"
   ]
  },
  {
   "cell_type": "code",
   "execution_count": null,
   "metadata": {},
   "outputs": [],
   "source": [
    "sum(bp_before)/5   ,  sum(bp_after)/5"
   ]
  },
  {
   "attachments": {
    "image.png": {
     "image/png": "[encoded data removed]"
    }
   },
   "cell_type": "markdown",
   "metadata": {
    "id": "pbO49XmRpjy6"
   },
   "source": [
    "# Two Proportions Test\n",
    "\n",
    "\n",
    "## condition for proportion test\n",
    "\n",
    "Ramdom samples\n",
    "\n",
    "Each observation should be independant of others\n",
    "\n",
    "    sampling with replacement\n",
    "    \n",
    "    if sampling without replacement, the sample size should not be more than 10% of the population.\n",
    "    \n",
    "The data contains only two categories such as success or failure.\n",
    "\n",
    "\n",
    "For Normal approximation np>=10  and  n(1-p) >= 10\n",
    "\n",
    "##################################################################\n",
    "    \n",
    "\n",
    "![image.png](attachment:image.png)"
   ]
  },
  {
   "cell_type": "code",
   "execution_count": null,
   "metadata": {},
   "outputs": [],
   "source": []
  },
  {
   "cell_type": "code",
   "execution_count": null,
   "metadata": {},
   "outputs": [],
   "source": [
    "import numpy as np\n",
    "import pandas as pd\n",
    "import matplotlib.pyplot as plt\n",
    "import seaborn as sns\n",
    "import scipy.stats as stats\n",
    "# import statsmodels.stats.proportion as proportion\n",
    "from statsmodels.stats import proportion"
   ]
  },
  {
   "cell_type": "code",
   "execution_count": null,
   "metadata": {
    "id": "f4tTbvgupjy7",
    "outputId": "b585bee1-c27a-4742-8a1e-a3f6152932f6"
   },
   "outputs": [],
   "source": [
    "proportion.test_proportions_2indep(100, 200, 50, 100)\n",
    "# Manual calculation using pooled method returned the Z value as 1.20, while we are getting 1.14 here)\n",
    "# Various methos are there. method='score' gives approximately the same result as manual calculation."
   ]
  },
  {
   "cell_type": "code",
   "execution_count": null,
   "metadata": {
    "id": "A3xxEkRLpjy7",
    "outputId": "2b534fe2-2ba6-455e-8abf-4160a41e085f"
   },
   "outputs": [],
   "source": [
    "proportion.test_proportions_2indep(100, 200, 25, 100)"
   ]
  },
  {
   "cell_type": "markdown",
   "metadata": {
    "id": "sAvZ5jFDpjy9"
   },
   "source": [
    "# Two Variances Test\n",
    "\n",
    "Draw a Chisquare distribution for df=50 Purpose: check sample std Conditions :\n",
    "\n",
    "Random samples\n",
    "\n",
    "each obs should be independent of other\n",
    "\n",
    "sampling with replacement\n",
    "\n",
    "if sampling without replacement, the sample size should not be more than 10% of the population\n",
    "the data follows normal distribution\n",
    "\n",
    "In z-test and t test we compare mean and std\n",
    "\n",
    "here in variance test, we are comparing variance:\n",
    "\n",
    "### Chi-square test\n",
    "\n",
    "For testing population and variance against a specified value\n",
    "\n",
    "testing goodness of fit of some probability distribution\n",
    "\n",
    "testing independance of two attribute\n",
    "\n",
    "    chi_sq_cal = (n-1) s^2/ sigma^2\n",
    "### F-test:\n",
    "for testing equality of two variance from the different population\n",
    "\n",
    "for testing equality of several means with Anova.\n",
    "\n"
   ]
  },
  {
   "attachments": {
    "image.png": {
     "image/png": "[encoded data removed]"
    }
   },
   "cell_type": "markdown",
   "metadata": {},
   "source": [
    "#### Example 1\n",
    "\n",
    "\n",
    "In the production company , we selected 8 samples from machine A and the standard deviation was 1.1\n",
    "From Machine B we took 5 samples and variance is 11.  is there difference in variance  at 90% of confidence level.\n",
    "\n",
    "#### H0 : standard deviation of sample1 == standard deviation of sample2\n",
    "#### H1 : standard deviation of both samples are not equale\n",
    "\n",
    "![image.png](attachment:image.png)\n",
    "\n",
    "n1= 5 , variance = 11  , df1 = 4\n",
    "\n",
    "n2 = 8.  std1= 1.1, variance = 1.21 , df2 = 7 \n",
    "\n",
    "fcalc = 11/1.21 = 9.09"
   ]
  },
  {
   "cell_type": "code",
   "execution_count": null,
   "metadata": {
    "id": "UsyiurR-pjy9"
   },
   "outputs": [],
   "source": []
  },
  {
   "cell_type": "code",
   "execution_count": 1,
   "metadata": {},
   "outputs": [],
   "source": [
    "import numpy as np\n",
    "import pandas as pd\n",
    "import matplotlib.pyplot as plt\n",
    "import seaborn as sns\n",
    "import scipy.stats as stats\n",
    "from scipy.stats import f"
   ]
  },
  {
   "cell_type": "code",
   "execution_count": 2,
   "metadata": {
    "id": "o0xW63JNpjy9",
    "outputId": "918ceeb3-0498-4ad9-cb7f-b83e79f416ea"
   },
   "outputs": [
    {
     "data": {
      "text/plain": [
       "9.090909090909092"
      ]
     },
     "execution_count": 2,
     "metadata": {},
     "output_type": "execute_result"
    }
   ],
   "source": [
    "F_cal = 11/1.21\n",
    "F_cal"
   ]
  },
  {
   "cell_type": "code",
   "execution_count": 3,
   "metadata": {
    "id": "zNrO_iCCpjy9",
    "outputId": "2988cea6-9d48-4d47-d2a4-24a76c671d9b"
   },
   "outputs": [
    {
     "data": {
      "text/plain": [
       "4.120311726897633"
      ]
     },
     "execution_count": 3,
     "metadata": {},
     "output_type": "execute_result"
    }
   ],
   "source": [
    "F_cri_right = f.isf(0.05, 4, 7)\n",
    "F_cri_right"
   ]
  },
  {
   "cell_type": "code",
   "execution_count": 4,
   "metadata": {
    "id": "LPWvxiuJpjy-",
    "outputId": "e78ac41f-dbc0-4f4e-edb8-992a8ad78fd8"
   },
   "outputs": [
    {
     "data": {
      "text/plain": [
       "0.1640901524729093"
      ]
     },
     "execution_count": 4,
     "metadata": {},
     "output_type": "execute_result"
    }
   ],
   "source": [
    "F_cri_left = f.isf(0.95, 4, 7)\n",
    "F_cri_left"
   ]
  },
  {
   "cell_type": "markdown",
   "metadata": {
    "id": "LjWGnxYtpjy-"
   },
   "source": [
    "#### Bartlett Test"
   ]
  },
  {
   "cell_type": "code",
   "execution_count": 5,
   "metadata": {
    "id": "vlllbguopjy-",
    "outputId": "8d00d101-00ce-48c5-f7b1-481bc26efdd1"
   },
   "outputs": [
    {
     "data": {
      "text/plain": [
       "1.165922381636102"
      ]
     },
     "execution_count": 5,
     "metadata": {},
     "output_type": "execute_result"
    }
   ],
   "source": [
    "m1 = [150, 150, 151, 148, 151, 152, 149, 150]\n",
    "np.std(m1)"
   ]
  },
  {
   "cell_type": "code",
   "execution_count": 6,
   "metadata": {
    "id": "J6u7Gbropjy-",
    "outputId": "ba6f284e-c812-4853-cfef-1ecf16f6cc3d"
   },
   "outputs": [
    {
     "data": {
      "text/plain": [
       "10.9288608738514"
      ]
     },
     "execution_count": 6,
     "metadata": {},
     "output_type": "execute_result"
    }
   ],
   "source": [
    "m2 = [135, 152, 154, 169, 157]\n",
    "np.std(m2)"
   ]
  },
  {
   "cell_type": "code",
   "execution_count": 7,
   "metadata": {
    "id": "GL4Gatlzpjy-",
    "outputId": "38c7d79f-acc4-47bc-f5b4-6c6eb0c94bca"
   },
   "outputs": [
    {
     "data": {
      "text/plain": [
       "BartlettResult(statistic=19.105727631632714, pvalue=1.2367317910523616e-05)"
      ]
     },
     "execution_count": 7,
     "metadata": {},
     "output_type": "execute_result"
    }
   ],
   "source": [
    "# https://docs.scipy.org/doc/scipy/reference/generated/scipy.stats.bartlett.html\n",
    "stats.bartlett(m1,m2)"
   ]
  },
  {
   "cell_type": "markdown",
   "metadata": {},
   "source": [
    "#### Levene Test"
   ]
  },
  {
   "cell_type": "code",
   "execution_count": 8,
   "metadata": {
    "id": "KKZpA01-pjy_",
    "outputId": "386ed5f5-6507-44b1-bb6d-c98d8e169645"
   },
   "outputs": [
    {
     "data": {
      "text/plain": [
       "LeveneResult(statistic=5.416245804750017, pvalue=0.040060452607943706)"
      ]
     },
     "execution_count": 8,
     "metadata": {},
     "output_type": "execute_result"
    }
   ],
   "source": [
    "# https://docs.scipy.org/doc/scipy/reference/generated/scipy.stats.levene.html\n",
    "# Levene’s test is an alternative to Bartlett’s test bartlett \n",
    "# in the case where there are significant deviations from normality.\n",
    "stats.levene(m1, m2)"
   ]
  },
  {
   "cell_type": "markdown",
   "metadata": {
    "id": "9gClv3FRpjzA"
   },
   "source": [
    "# ANOVA"
   ]
  },
  {
   "cell_type": "markdown",
   "metadata": {},
   "source": [
    "#### null hypothesis\n",
    "\n",
    "meanA = mean B = mean C = ....... = mean N\n",
    "\n",
    "#### alternate\n",
    "at least one of these mean is different from other\n",
    "\n",
    "\n",
    "## SS  (between or treatment or column)\n",
    "    ## SS  (within or error)\n",
    "    \n",
    "        SS(between)/ df(between)\n",
    "    F= __________________________\n",
    "        SS(within) / df (within)\n",
    "        \n",
    "    \n",
    "    F= MSS (between) / MSS (within)"
   ]
  },
  {
   "cell_type": "code",
   "execution_count": 9,
   "metadata": {},
   "outputs": [],
   "source": [
    "import numpy as np\n",
    "import pandas as pd\n",
    "import matplotlib.pyplot as plt\n",
    "import seaborn as sns\n",
    "import scipy.stats as stats\n",
    "from statsmodels.stats import oneway as oneway"
   ]
  },
  {
   "cell_type": "code",
   "execution_count": 10,
   "metadata": {
    "id": "u67vTlL8pjzA"
   },
   "outputs": [],
   "source": [
    "m1 = [150, 151, 152, 152, 151, 150]\n",
    "m2 = [153, 152, 148, 151, 149, 152]\n",
    "m3 = [156, 154, 155, 156, 157, 155]"
   ]
  },
  {
   "cell_type": "code",
   "execution_count": 11,
   "metadata": {
    "id": "lVcKcMb3pjzA",
    "outputId": "20df26a9-b998-4ebf-950c-39060e0ed0fc"
   },
   "outputs": [
    {
     "data": {
      "text/plain": [
       "F_onewayResult(statistic=22.264705882352935, pvalue=3.2374085509077445e-05)"
      ]
     },
     "execution_count": 11,
     "metadata": {},
     "output_type": "execute_result"
    }
   ],
   "source": [
    "stats.f_oneway(m1, m2, m3)"
   ]
  },
  {
   "cell_type": "markdown",
   "metadata": {
    "id": "n0TlRPqIpjzA"
   },
   "source": [
    "F Calculated in manual calculation was 22.24\n",
    "Numerator df = 2\n",
    "Denominator df = 15\n",
    "We can find p-value, as the area to the right of 22.24"
   ]
  },
  {
   "cell_type": "code",
   "execution_count": null,
   "metadata": {
    "id": "z3C8dSKOpjzA",
    "outputId": "82c2a659-ab7a-4403-b32c-6fb984283ca3"
   },
   "outputs": [],
   "source": [
    "stats.f.sf(22.2645, 2, 15)"
   ]
  },
  {
   "cell_type": "code",
   "execution_count": null,
   "metadata": {
    "id": "Bn1Yb2NApjzA"
   },
   "outputs": [],
   "source": []
  },
  {
   "cell_type": "code",
   "execution_count": 12,
   "metadata": {
    "id": "GF0q3qDnpjzB",
    "outputId": "ec5ad6d8-ba4a-4dd4-f24d-cd4cdc589188"
   },
   "outputs": [
    {
     "data": {
      "text/plain": [
       "<class 'statsmodels.stats.base.HolderTuple'>\n",
       "statistic = 22.264705882352892\n",
       "pvalue = 3.237408550907782e-05\n",
       "df = (2.0, 15.0)\n",
       "df_num = 2.0\n",
       "df_denom = 15.0\n",
       "nobs_t = 18.0\n",
       "n_groups = 3\n",
       "means = [151.         150.83333333 155.5       ]\n",
       "nobs = [6. 6. 6.]\n",
       "vars_ = [0.8        3.76666667 1.1       ]\n",
       "use_var = equal\n",
       "welch_correction = True\n",
       "tuple = (22.264705882352892, 3.237408550907782e-05)"
      ]
     },
     "execution_count": 12,
     "metadata": {},
     "output_type": "execute_result"
    }
   ],
   "source": [
    "oneway.anova_oneway((m1, m2, m3), use_var = 'equal')"
   ]
  },
  {
   "cell_type": "markdown",
   "metadata": {
    "id": "zDCprSLkpjzB"
   },
   "source": [
    "### Comparing cars mpg from three countries"
   ]
  },
  {
   "cell_type": "code",
   "execution_count": 13,
   "metadata": {},
   "outputs": [],
   "source": [
    "import numpy as np\n",
    "import pandas as pd\n",
    "import matplotlib.pyplot as plt\n",
    "import seaborn as sns\n",
    "import scipy.stats as stats\n",
    "import statsmodels.stats.oneway as oneway"
   ]
  },
  {
   "cell_type": "code",
   "execution_count": null,
   "metadata": {},
   "outputs": [],
   "source": [
    "sns.get_dataset_names()"
   ]
  },
  {
   "cell_type": "code",
   "execution_count": 14,
   "metadata": {
    "id": "qYIrvElNpjzB"
   },
   "outputs": [],
   "source": [
    "mpg = sns.load_dataset(\"mpg\")"
   ]
  },
  {
   "cell_type": "code",
   "execution_count": 15,
   "metadata": {
    "id": "usW_LhtOpjzC",
    "outputId": "46159f01-8a0f-4bc3-dcbe-67a1498fbb04",
    "scrolled": true
   },
   "outputs": [
    {
     "data": {
      "text/html": [
       "<div>\n",
       "<style scoped>\n",
       "    .dataframe tbody tr th:only-of-type {\n",
       "        vertical-align: middle;\n",
       "    }\n",
       "\n",
       "    .dataframe tbody tr th {\n",
       "        vertical-align: top;\n",
       "    }\n",
       "\n",
       "    .dataframe thead th {\n",
       "        text-align: right;\n",
       "    }\n",
       "</style>\n",
       "<table border=\"1\" class=\"dataframe\">\n",
       "  <thead>\n",
       "    <tr style=\"text-align: right;\">\n",
       "      <th></th>\n",
       "      <th>mpg</th>\n",
       "      <th>cylinders</th>\n",
       "      <th>displacement</th>\n",
       "      <th>horsepower</th>\n",
       "      <th>weight</th>\n",
       "      <th>acceleration</th>\n",
       "      <th>model_year</th>\n",
       "      <th>origin</th>\n",
       "      <th>name</th>\n",
       "    </tr>\n",
       "  </thead>\n",
       "  <tbody>\n",
       "    <tr>\n",
       "      <th>0</th>\n",
       "      <td>18.0</td>\n",
       "      <td>8</td>\n",
       "      <td>307.0</td>\n",
       "      <td>130.0</td>\n",
       "      <td>3504</td>\n",
       "      <td>12.0</td>\n",
       "      <td>70</td>\n",
       "      <td>usa</td>\n",
       "      <td>chevrolet chevelle malibu</td>\n",
       "    </tr>\n",
       "    <tr>\n",
       "      <th>1</th>\n",
       "      <td>15.0</td>\n",
       "      <td>8</td>\n",
       "      <td>350.0</td>\n",
       "      <td>165.0</td>\n",
       "      <td>3693</td>\n",
       "      <td>11.5</td>\n",
       "      <td>70</td>\n",
       "      <td>usa</td>\n",
       "      <td>buick skylark 320</td>\n",
       "    </tr>\n",
       "    <tr>\n",
       "      <th>2</th>\n",
       "      <td>18.0</td>\n",
       "      <td>8</td>\n",
       "      <td>318.0</td>\n",
       "      <td>150.0</td>\n",
       "      <td>3436</td>\n",
       "      <td>11.0</td>\n",
       "      <td>70</td>\n",
       "      <td>usa</td>\n",
       "      <td>plymouth satellite</td>\n",
       "    </tr>\n",
       "    <tr>\n",
       "      <th>3</th>\n",
       "      <td>16.0</td>\n",
       "      <td>8</td>\n",
       "      <td>304.0</td>\n",
       "      <td>150.0</td>\n",
       "      <td>3433</td>\n",
       "      <td>12.0</td>\n",
       "      <td>70</td>\n",
       "      <td>usa</td>\n",
       "      <td>amc rebel sst</td>\n",
       "    </tr>\n",
       "    <tr>\n",
       "      <th>4</th>\n",
       "      <td>17.0</td>\n",
       "      <td>8</td>\n",
       "      <td>302.0</td>\n",
       "      <td>140.0</td>\n",
       "      <td>3449</td>\n",
       "      <td>10.5</td>\n",
       "      <td>70</td>\n",
       "      <td>usa</td>\n",
       "      <td>ford torino</td>\n",
       "    </tr>\n",
       "  </tbody>\n",
       "</table>\n",
       "</div>"
      ],
      "text/plain": [
       "    mpg  cylinders  displacement  horsepower  weight  acceleration  \\\n",
       "0  18.0          8         307.0       130.0    3504          12.0   \n",
       "1  15.0          8         350.0       165.0    3693          11.5   \n",
       "2  18.0          8         318.0       150.0    3436          11.0   \n",
       "3  16.0          8         304.0       150.0    3433          12.0   \n",
       "4  17.0          8         302.0       140.0    3449          10.5   \n",
       "\n",
       "   model_year origin                       name  \n",
       "0          70    usa  chevrolet chevelle malibu  \n",
       "1          70    usa          buick skylark 320  \n",
       "2          70    usa         plymouth satellite  \n",
       "3          70    usa              amc rebel sst  \n",
       "4          70    usa                ford torino  "
      ]
     },
     "execution_count": 15,
     "metadata": {},
     "output_type": "execute_result"
    }
   ],
   "source": [
    "mpg.head()"
   ]
  },
  {
   "cell_type": "code",
   "execution_count": null,
   "metadata": {},
   "outputs": [],
   "source": [
    "mpg.to_csv(r\"E:\\Python\\STATISTICS\\mpg.csv\")"
   ]
  },
  {
   "cell_type": "code",
   "execution_count": 16,
   "metadata": {},
   "outputs": [
    {
     "data": {
      "text/plain": [
       "usa       249\n",
       "japan      79\n",
       "europe     70\n",
       "Name: origin, dtype: int64"
      ]
     },
     "execution_count": 16,
     "metadata": {},
     "output_type": "execute_result"
    }
   ],
   "source": [
    "mpg.origin.value_counts()"
   ]
  },
  {
   "cell_type": "code",
   "execution_count": 18,
   "metadata": {
    "id": "l2rDyfuapjzC",
    "outputId": "6656a3ce-2e27-4699-eca9-8fee84c347a2",
    "scrolled": true
   },
   "outputs": [
    {
     "data": {
      "text/plain": [
       "origin\n",
       "europe    27.891429\n",
       "japan     30.450633\n",
       "usa       20.083534\n",
       "Name: mpg, dtype: float64"
      ]
     },
     "execution_count": 18,
     "metadata": {},
     "output_type": "execute_result"
    }
   ],
   "source": [
    "mpg.groupby('origin').mean()['mpg']"
   ]
  },
  {
   "cell_type": "code",
   "execution_count": 19,
   "metadata": {
    "id": "cmPmE2MepjzC",
    "outputId": "61833cbe-4fa3-4d68-dccf-f2f1d2c39231"
   },
   "outputs": [
    {
     "data": {
      "text/html": [
       "<div>\n",
       "<style scoped>\n",
       "    .dataframe tbody tr th:only-of-type {\n",
       "        vertical-align: middle;\n",
       "    }\n",
       "\n",
       "    .dataframe tbody tr th {\n",
       "        vertical-align: top;\n",
       "    }\n",
       "\n",
       "    .dataframe thead th {\n",
       "        text-align: right;\n",
       "    }\n",
       "</style>\n",
       "<table border=\"1\" class=\"dataframe\">\n",
       "  <thead>\n",
       "    <tr style=\"text-align: right;\">\n",
       "      <th></th>\n",
       "      <th></th>\n",
       "      <th>mpg</th>\n",
       "      <th>displacement</th>\n",
       "      <th>horsepower</th>\n",
       "      <th>weight</th>\n",
       "      <th>acceleration</th>\n",
       "      <th>model_year</th>\n",
       "    </tr>\n",
       "    <tr>\n",
       "      <th>origin</th>\n",
       "      <th>cylinders</th>\n",
       "      <th></th>\n",
       "      <th></th>\n",
       "      <th></th>\n",
       "      <th></th>\n",
       "      <th></th>\n",
       "      <th></th>\n",
       "    </tr>\n",
       "  </thead>\n",
       "  <tbody>\n",
       "    <tr>\n",
       "      <th rowspan=\"3\" valign=\"top\">europe</th>\n",
       "      <th>4</th>\n",
       "      <td>28.411111</td>\n",
       "      <td>104.222222</td>\n",
       "      <td>78.311475</td>\n",
       "      <td>2330.015873</td>\n",
       "      <td>16.722222</td>\n",
       "      <td>75.507937</td>\n",
       "    </tr>\n",
       "    <tr>\n",
       "      <th>5</th>\n",
       "      <td>27.366667</td>\n",
       "      <td>145.000000</td>\n",
       "      <td>82.333333</td>\n",
       "      <td>3103.333333</td>\n",
       "      <td>18.633333</td>\n",
       "      <td>79.000000</td>\n",
       "    </tr>\n",
       "    <tr>\n",
       "      <th>6</th>\n",
       "      <td>20.100000</td>\n",
       "      <td>159.750000</td>\n",
       "      <td>113.500000</td>\n",
       "      <td>3382.500000</td>\n",
       "      <td>16.425000</td>\n",
       "      <td>78.250000</td>\n",
       "    </tr>\n",
       "    <tr>\n",
       "      <th rowspan=\"3\" valign=\"top\">japan</th>\n",
       "      <th>3</th>\n",
       "      <td>20.550000</td>\n",
       "      <td>72.500000</td>\n",
       "      <td>99.250000</td>\n",
       "      <td>2398.500000</td>\n",
       "      <td>13.250000</td>\n",
       "      <td>75.500000</td>\n",
       "    </tr>\n",
       "    <tr>\n",
       "      <th>4</th>\n",
       "      <td>31.595652</td>\n",
       "      <td>99.768116</td>\n",
       "      <td>75.579710</td>\n",
       "      <td>2153.492754</td>\n",
       "      <td>16.569565</td>\n",
       "      <td>77.507246</td>\n",
       "    </tr>\n",
       "    <tr>\n",
       "      <th>6</th>\n",
       "      <td>23.883333</td>\n",
       "      <td>156.666667</td>\n",
       "      <td>115.833333</td>\n",
       "      <td>2882.000000</td>\n",
       "      <td>13.550000</td>\n",
       "      <td>78.000000</td>\n",
       "    </tr>\n",
       "    <tr>\n",
       "      <th rowspan=\"3\" valign=\"top\">usa</th>\n",
       "      <th>4</th>\n",
       "      <td>27.840278</td>\n",
       "      <td>124.284722</td>\n",
       "      <td>80.956522</td>\n",
       "      <td>2437.166667</td>\n",
       "      <td>16.526389</td>\n",
       "      <td>78.027778</td>\n",
       "    </tr>\n",
       "    <tr>\n",
       "      <th>6</th>\n",
       "      <td>19.663514</td>\n",
       "      <td>226.283784</td>\n",
       "      <td>99.671233</td>\n",
       "      <td>3213.905405</td>\n",
       "      <td>16.474324</td>\n",
       "      <td>75.635135</td>\n",
       "    </tr>\n",
       "    <tr>\n",
       "      <th>8</th>\n",
       "      <td>14.963107</td>\n",
       "      <td>345.009709</td>\n",
       "      <td>158.300971</td>\n",
       "      <td>4114.718447</td>\n",
       "      <td>12.955340</td>\n",
       "      <td>73.902913</td>\n",
       "    </tr>\n",
       "  </tbody>\n",
       "</table>\n",
       "</div>"
      ],
      "text/plain": [
       "                        mpg  displacement  horsepower       weight  \\\n",
       "origin cylinders                                                     \n",
       "europe 4          28.411111    104.222222   78.311475  2330.015873   \n",
       "       5          27.366667    145.000000   82.333333  3103.333333   \n",
       "       6          20.100000    159.750000  113.500000  3382.500000   \n",
       "japan  3          20.550000     72.500000   99.250000  2398.500000   \n",
       "       4          31.595652     99.768116   75.579710  2153.492754   \n",
       "       6          23.883333    156.666667  115.833333  2882.000000   \n",
       "usa    4          27.840278    124.284722   80.956522  2437.166667   \n",
       "       6          19.663514    226.283784   99.671233  3213.905405   \n",
       "       8          14.963107    345.009709  158.300971  4114.718447   \n",
       "\n",
       "                  acceleration  model_year  \n",
       "origin cylinders                            \n",
       "europe 4             16.722222   75.507937  \n",
       "       5             18.633333   79.000000  \n",
       "       6             16.425000   78.250000  \n",
       "japan  3             13.250000   75.500000  \n",
       "       4             16.569565   77.507246  \n",
       "       6             13.550000   78.000000  \n",
       "usa    4             16.526389   78.027778  \n",
       "       6             16.474324   75.635135  \n",
       "       8             12.955340   73.902913  "
      ]
     },
     "execution_count": 19,
     "metadata": {},
     "output_type": "execute_result"
    }
   ],
   "source": [
    "mpg.groupby(by=['origin', 'cylinders']).mean()"
   ]
  },
  {
   "cell_type": "code",
   "execution_count": 20,
   "metadata": {
    "id": "NMR3F8jJpjzC",
    "outputId": "22f4be04-32d3-47a4-9304-46505636c2d5",
    "scrolled": true
   },
   "outputs": [
    {
     "data": {
      "text/plain": [
       "<seaborn.axisgrid.FacetGrid at 0x10dc3593b80>"
      ]
     },
     "execution_count": 20,
     "metadata": {},
     "output_type": "execute_result"
    },
    {
     "data": {
      "image/png": "[encoded data removed]",
      "text/plain": [
       "<Figure size 360x360 with 1 Axes>"
      ]
     },
     "metadata": {
      "needs_background": "light"
     },
     "output_type": "display_data"
    }
   ],
   "source": [
    "sns.catplot(data=mpg, x='origin', y=mpg[mpg['cylinders'] == 4]['mpg'])"
   ]
  },
  {
   "cell_type": "code",
   "execution_count": null,
   "metadata": {
    "id": "1dl69YQBpjzD",
    "outputId": "c1c5098c-3cd8-4f90-bd75-9d196580f18f"
   },
   "outputs": [],
   "source": [
    "sns.catplot(data=mpg, x='origin', y=mpg[mpg['cylinders'] == 4]['mpg'], kind='box')"
   ]
  },
  {
   "cell_type": "code",
   "execution_count": 21,
   "metadata": {
    "id": "y5T_XjU6pjzD"
   },
   "outputs": [],
   "source": [
    "eu = mpg[(mpg['cylinders'] == 4) & (mpg['origin'] == 'europe')]['mpg']\n",
    "jp = mpg[(mpg['cylinders'] == 4) & (mpg['origin'] == 'japan')]['mpg']\n",
    "us = mpg[(mpg['cylinders'] == 4) & (mpg['origin'] == 'usa')]['mpg']"
   ]
  },
  {
   "cell_type": "code",
   "execution_count": 22,
   "metadata": {
    "id": "5AZj8vUQpjzD",
    "outputId": "99fd5a66-194b-4cf6-cd54-183f50f5c757"
   },
   "outputs": [
    {
     "data": {
      "text/plain": [
       "F_onewayResult(statistic=9.411845545485601, pvalue=0.00012379894210177303)"
      ]
     },
     "execution_count": 22,
     "metadata": {},
     "output_type": "execute_result"
    }
   ],
   "source": [
    "stats.f_oneway(eu, jp, us)"
   ]
  },
  {
   "cell_type": "markdown",
   "metadata": {},
   "source": [
    "### Post hoc tests:\n",
    "    Tukey's test : to check which sample is different."
   ]
  },
  {
   "cell_type": "code",
   "execution_count": 23,
   "metadata": {},
   "outputs": [],
   "source": [
    "import statsmodels.stats.oneway as oneway\n",
    "from statsmodels.stats.multicomp import pairwise_tukeyhsd"
   ]
  },
  {
   "cell_type": "code",
   "execution_count": 24,
   "metadata": {},
   "outputs": [],
   "source": [
    "df = mpg[mpg.cylinders ==4][['mpg','origin']]"
   ]
  },
  {
   "cell_type": "code",
   "execution_count": 25,
   "metadata": {},
   "outputs": [],
   "source": [
    "re=pairwise_tukeyhsd(df['mpg'], df['origin'])"
   ]
  },
  {
   "cell_type": "code",
   "execution_count": 26,
   "metadata": {},
   "outputs": [
    {
     "name": "stdout",
     "output_type": "stream",
     "text": [
      "Multiple Comparison of Means - Tukey HSD, FWER=0.05 \n",
      "====================================================\n",
      "group1 group2 meandiff p-adj   lower   upper  reject\n",
      "----------------------------------------------------\n",
      "europe  japan   3.1845  0.003  0.9266  5.4425   True\n",
      "europe    usa  -0.5708 0.7995 -2.8062  1.6646  False\n",
      " japan    usa  -3.7554  0.001 -5.9383 -1.5724   True\n",
      "----------------------------------------------------\n"
     ]
    }
   ],
   "source": [
    "print(re)"
   ]
  },
  {
   "cell_type": "markdown",
   "metadata": {
    "id": "mJ3Smb2PpjzE"
   },
   "source": [
    "# Goodness of Fit Test"
   ]
  },
  {
   "cell_type": "code",
   "execution_count": null,
   "metadata": {},
   "outputs": [],
   "source": [
    "import numpy as np\n",
    "import pandas as pd\n",
    "import matplotlib.pyplot as plt\n",
    "import seaborn as sns\n",
    "import scipy.stats as stats"
   ]
  },
  {
   "cell_type": "code",
   "execution_count": null,
   "metadata": {
    "id": "-4UxRaUdpjzE"
   },
   "outputs": [],
   "source": [
    "# Flipping a coin\n",
    "exp = [50, 50]\n",
    "obs = [40, 60]"
   ]
  },
  {
   "cell_type": "code",
   "execution_count": null,
   "metadata": {
    "id": "F-5AO48gpjzE",
    "outputId": "e82ca928-9866-41fa-8bb9-71adffe8191f"
   },
   "outputs": [],
   "source": [
    "stats.chisquare(obs, exp)"
   ]
  },
  {
   "cell_type": "code",
   "execution_count": null,
   "metadata": {
    "id": "EwihYhwEpjzF",
    "outputId": "8baf7e56-4306-415e-9e3c-f55acd87828f",
    "scrolled": true
   },
   "outputs": [],
   "source": [
    "# By default expected is equally likely\n",
    "stats.chisquare(obs)"
   ]
  },
  {
   "cell_type": "markdown",
   "metadata": {
    "id": "GVA5REfGpjzF"
   },
   "source": [
    "### Die Roll"
   ]
  },
  {
   "cell_type": "code",
   "execution_count": null,
   "metadata": {
    "id": "R55txynmpjzF"
   },
   "outputs": [],
   "source": [
    "obs = [10, 6, 8, 22, 11, 8]"
   ]
  },
  {
   "cell_type": "code",
   "execution_count": null,
   "metadata": {
    "id": "p4ovjyycpjzF",
    "outputId": "e6148d5d-04e4-4339-94b9-fb8e91b09c7f"
   },
   "outputs": [],
   "source": [
    "stats.chisquare(obs)"
   ]
  },
  {
   "cell_type": "markdown",
   "metadata": {
    "id": "nM99z6ygpjzG"
   },
   "source": [
    "### Shirt Sale"
   ]
  },
  {
   "cell_type": "code",
   "execution_count": null,
   "metadata": {
    "id": "p9zeZcvTpjzG",
    "outputId": "d588e8fd-5aa0-4920-ef9d-fea7a81dbe5c"
   },
   "outputs": [],
   "source": [
    "#Shirt Sale\n",
    "exp_r = pd.Series([0.1, 0.2, 0.4, 0.3])\n",
    "obs = pd.Series([25, 41, 91, 68])\n",
    "exp = exp_r * sum(obs)\n",
    "exp"
   ]
  },
  {
   "cell_type": "code",
   "execution_count": null,
   "metadata": {
    "id": "VjcPbG7NpjzG",
    "outputId": "f7b73716-4718-44c5-fcab-c5f5d975d5a4"
   },
   "outputs": [],
   "source": [
    "stats.chisquare(obs, exp)"
   ]
  },
  {
   "cell_type": "markdown",
   "metadata": {
    "id": "cNN-J51npjzH"
   },
   "source": [
    "# Contingency Tables"
   ]
  },
  {
   "cell_type": "code",
   "execution_count": null,
   "metadata": {},
   "outputs": [],
   "source": [
    "import numpy as np\n",
    "import pandas as pd\n",
    "import matplotlib.pyplot as plt\n",
    "import seaborn as sns\n",
    "import scipy.stats as stats"
   ]
  },
  {
   "cell_type": "code",
   "execution_count": null,
   "metadata": {
    "executionInfo": {
     "elapsed": 359,
     "status": "ok",
     "timestamp": 1609972158373,
     "user": {
      "displayName": "Abhin Chhabra",
      "photoUrl": "https://lh3.googleusercontent.com/a-/AOh14GjOGE-MjVQICUqHOhmn9An4XAOdPrH34Qi7fgPcBw=s64",
      "userId": "04603708761047759740"
     },
     "user_tz": 300
    },
    "id": "7SjIg1mopjzH"
   },
   "outputs": [],
   "source": [
    "sh_op = np.array([[22, 26, 23], [28, 62, 26], [72, 22, 66]])"
   ]
  },
  {
   "cell_type": "code",
   "execution_count": null,
   "metadata": {
    "id": "DpVZBEvHpjzH",
    "outputId": "01413860-a72f-4a20-dfb4-edc656c52f5d"
   },
   "outputs": [],
   "source": [
    "sh_op"
   ]
  },
  {
   "cell_type": "code",
   "execution_count": null,
   "metadata": {
    "id": "0h6EJMKbpjzI",
    "outputId": "4884f7af-f63d-4c15-9fe0-390d5f240a9a"
   },
   "outputs": [],
   "source": [
    "stats.chi2_contingency(sh_op)"
   ]
  },
  {
   "cell_type": "code",
   "execution_count": null,
   "metadata": {
    "colab": {
     "base_uri": "https://localhost:8080/",
     "height": 137
    },
    "executionInfo": {
     "elapsed": 231,
     "status": "ok",
     "timestamp": 1609972221530,
     "user": {
      "displayName": "Abhin Chhabra",
      "photoUrl": "https://lh3.googleusercontent.com/a-/AOh14GjOGE-MjVQICUqHOhmn9An4XAOdPrH34Qi7fgPcBw=s64",
      "userId": "04603708761047759740"
     },
     "user_tz": 300
    },
    "id": "7NqYUZo3pjzI",
    "outputId": "f9890537-3cf7-4cf0-b974-a699c72a2551"
   },
   "outputs": [],
   "source": [
    "sh_op_df = pd.DataFrame(sh_op, columns=['Shift1', 'Shift2', 'Shift3'], index=['Worker1', 'Worker2', 'Worker3'])\n",
    "sh_op_df"
   ]
  },
  {
   "cell_type": "code",
   "execution_count": null,
   "metadata": {
    "colab": {
     "base_uri": "https://localhost:8080/"
    },
    "executionInfo": {
     "elapsed": 424,
     "status": "ok",
     "timestamp": 1609972199157,
     "user": {
      "displayName": "Abhin Chhabra",
      "photoUrl": "https://lh3.googleusercontent.com/a-/AOh14GjOGE-MjVQICUqHOhmn9An4XAOdPrH34Qi7fgPcBw=s64",
      "userId": "04603708761047759740"
     },
     "user_tz": 300
    },
    "id": "9G9uYVBBpjzI",
    "outputId": "ef6e1ba3-ebe6-49d3-a226-322044eac049"
   },
   "outputs": [],
   "source": [
    "stats.chi2_contingency(sh_op_df)"
   ]
  },
  {
   "cell_type": "markdown",
   "metadata": {
    "id": "0xyAZ4V1pjzI"
   },
   "source": [
    "### Day vs Smokers"
   ]
  },
  {
   "cell_type": "code",
   "execution_count": null,
   "metadata": {},
   "outputs": [],
   "source": [
    "tips = sns.load_dataset('tips')"
   ]
  },
  {
   "cell_type": "code",
   "execution_count": null,
   "metadata": {},
   "outputs": [],
   "source": [
    "tips.head()"
   ]
  },
  {
   "cell_type": "code",
   "execution_count": null,
   "metadata": {
    "id": "xFQ73SY3pjzJ",
    "outputId": "ee2f5260-1347-4f91-c688-07ef89d341cf"
   },
   "outputs": [],
   "source": [
    "tips.groupby(by = ['day', 'smoker']).count()"
   ]
  },
  {
   "cell_type": "code",
   "execution_count": null,
   "metadata": {
    "id": "78p3v7wZpjzK",
    "outputId": "7abd99ac-09aa-43f1-e8ef-f79a6b9a95a4"
   },
   "outputs": [],
   "source": [
    "day_smoker = tips.pivot_table(index='day', columns='smoker', aggfunc='count')['tip']\n",
    "day_smoker"
   ]
  },
  {
   "cell_type": "code",
   "execution_count": null,
   "metadata": {
    "id": "newZfcSXpjzK",
    "outputId": "c66d06c9-0a07-4d3e-eb6d-212e941a7ad1"
   },
   "outputs": [],
   "source": [
    "stats.chi2_contingency(day_smoker)"
   ]
  },
  {
   "cell_type": "markdown",
   "metadata": {
    "id": "tY9FOmy8pjzM"
   },
   "source": [
    "### End of Section 8"
   ]
  }
 ],
 "metadata": {
  "colab": {
   "name": "7.ipynb",
   "provenance": []
  },
  "kernelspec": {
   "display_name": "Python 3",
   "language": "python",
   "name": "python3"
  },
  "language_info": {
   "codemirror_mode": {
    "name": "ipython",
    "version": 3
   },
   "file_extension": ".py",
   "mimetype": "text/x-python",
   "name": "python",
   "nbconvert_exporter": "python",
   "pygments_lexer": "ipython3",
   "version": "3.8.5"
  }
 },
 "nbformat": 4,
 "nbformat_minor": 1
}

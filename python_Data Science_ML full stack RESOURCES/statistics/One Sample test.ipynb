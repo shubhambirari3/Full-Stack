{
 "cells": [
  {
   "cell_type": "code",
   "execution_count": 1,
   "metadata": {
    "id": "F0_ih5c6iaCf"
   },
   "outputs": [],
   "source": [
    "import numpy as np\n",
    "import pandas as pd\n",
    "import matplotlib.pyplot as plt\n",
    "import seaborn as sns\n",
    "from statsmodels.stats import weightstats\n",
    "import scipy.stats as stats"
   ]
  },
  {
   "cell_type": "code",
   "execution_count": null,
   "metadata": {},
   "outputs": [],
   "source": []
  },
  {
   "cell_type": "code",
   "execution_count": null,
   "metadata": {},
   "outputs": [],
   "source": []
  },
  {
   "cell_type": "markdown",
   "metadata": {},
   "source": [
    "## condition for Z-test\n",
    "Random samples\n",
    "\n",
    "Each obsesrvation should be independant of other\n",
    "\n",
    "    sampling with replacement\n",
    "    \n",
    "    If the sampling without replacement, sample size should not be more than 10%\n",
    "\n",
    "Sampling distribution approximates normal distribution\n",
    "    \n",
    "    Population is normally distributed and population standard deviation is known or sample size >= 30"
   ]
  },
  {
   "cell_type": "markdown",
   "metadata": {
    "id": "XCeHnBiKiaCm"
   },
   "source": [
    "# One Sample Z Test\n",
    "\n",
    "Has the mean chnged\n",
    "\n",
    "H0  mean=150\n",
    "\n",
    "H1  mean != 150\n",
    "\n",
    "0.3 < 0.05\n",
    "\n",
    "if (p <0.05) then\n",
    "\n",
    "        reject null\n",
    "else:\n",
    "\n",
    "        accept null\n",
    "        \n",
    "#####################\n",
    "\n",
    "mean higher\n",
    "0.6515 > 1.645\n",
    "\n",
    "\n",
    "if test > 1.645:\n",
    "        \n",
    "         reject null\n",
    "else:\n",
    "\n",
    "        accept null\n",
    "\n",
    "#####################\n",
    "\n",
    "mean lower\n",
    "\n",
    "if test < -1.645:\n",
    "        \n",
    "         reject null\n",
    "else:\n",
    "\n",
    "        accept null\n",
    "\n",
    "#####################\n",
    "\n",
    "Two tail test\n",
    "\n",
    "if test < -1.96 or test > 1.96:\n",
    "        \n",
    "         reject null\n",
    "else:\n",
    "\n",
    "        accept null"
   ]
  },
  {
   "cell_type": "code",
   "execution_count": 2,
   "metadata": {
    "id": "ihS9aAIgiaCm"
   },
   "outputs": [],
   "source": [
    "df = pd.read_csv(r\"C:\\Users\\shubh\\symbiosis ml16\\statistics\\Machine1.csv\")"
   ]
  },
  {
   "cell_type": "code",
   "execution_count": 5,
   "metadata": {},
   "outputs": [
    {
     "data": {
      "text/plain": [
       "(100, 1)"
      ]
     },
     "execution_count": 5,
     "metadata": {},
     "output_type": "execute_result"
    }
   ],
   "source": [
    "df.shape"
   ]
  },
  {
   "cell_type": "code",
   "execution_count": 6,
   "metadata": {},
   "outputs": [
    {
     "data": {
      "text/html": [
       "<div>\n",
       "<style scoped>\n",
       "    .dataframe tbody tr th:only-of-type {\n",
       "        vertical-align: middle;\n",
       "    }\n",
       "\n",
       "    .dataframe tbody tr th {\n",
       "        vertical-align: top;\n",
       "    }\n",
       "\n",
       "    .dataframe thead th {\n",
       "        text-align: right;\n",
       "    }\n",
       "</style>\n",
       "<table border=\"1\" class=\"dataframe\">\n",
       "  <thead>\n",
       "    <tr style=\"text-align: right;\">\n",
       "      <th></th>\n",
       "      <th>Machine 1</th>\n",
       "    </tr>\n",
       "  </thead>\n",
       "  <tbody>\n",
       "    <tr>\n",
       "      <th>0</th>\n",
       "      <td>152.63</td>\n",
       "    </tr>\n",
       "    <tr>\n",
       "      <th>1</th>\n",
       "      <td>152.94</td>\n",
       "    </tr>\n",
       "    <tr>\n",
       "      <th>2</th>\n",
       "      <td>151.29</td>\n",
       "    </tr>\n",
       "    <tr>\n",
       "      <th>3</th>\n",
       "      <td>153.44</td>\n",
       "    </tr>\n",
       "    <tr>\n",
       "      <th>4</th>\n",
       "      <td>148.58</td>\n",
       "    </tr>\n",
       "  </tbody>\n",
       "</table>\n",
       "</div>"
      ],
      "text/plain": [
       "   Machine 1\n",
       "0     152.63\n",
       "1     152.94\n",
       "2     151.29\n",
       "3     153.44\n",
       "4     148.58"
      ]
     },
     "execution_count": 6,
     "metadata": {},
     "output_type": "execute_result"
    }
   ],
   "source": [
    "df.head()"
   ]
  },
  {
   "cell_type": "code",
   "execution_count": 7,
   "metadata": {
    "id": "pP8CGJ15iaCn",
    "outputId": "ff42db25-8176-47b3-9450-ac74d931abb3",
    "scrolled": true
   },
   "outputs": [
    {
     "data": {
      "text/html": [
       "<div>\n",
       "<style scoped>\n",
       "    .dataframe tbody tr th:only-of-type {\n",
       "        vertical-align: middle;\n",
       "    }\n",
       "\n",
       "    .dataframe tbody tr th {\n",
       "        vertical-align: top;\n",
       "    }\n",
       "\n",
       "    .dataframe thead th {\n",
       "        text-align: right;\n",
       "    }\n",
       "</style>\n",
       "<table border=\"1\" class=\"dataframe\">\n",
       "  <thead>\n",
       "    <tr style=\"text-align: right;\">\n",
       "      <th></th>\n",
       "      <th>Machine 1</th>\n",
       "    </tr>\n",
       "  </thead>\n",
       "  <tbody>\n",
       "    <tr>\n",
       "      <th>count</th>\n",
       "      <td>100.000000</td>\n",
       "    </tr>\n",
       "    <tr>\n",
       "      <th>mean</th>\n",
       "      <td>150.203100</td>\n",
       "    </tr>\n",
       "    <tr>\n",
       "      <th>std</th>\n",
       "      <td>2.018812</td>\n",
       "    </tr>\n",
       "    <tr>\n",
       "      <th>min</th>\n",
       "      <td>145.550000</td>\n",
       "    </tr>\n",
       "    <tr>\n",
       "      <th>25%</th>\n",
       "      <td>148.717500</td>\n",
       "    </tr>\n",
       "    <tr>\n",
       "      <th>50%</th>\n",
       "      <td>150.285000</td>\n",
       "    </tr>\n",
       "    <tr>\n",
       "      <th>75%</th>\n",
       "      <td>151.502500</td>\n",
       "    </tr>\n",
       "    <tr>\n",
       "      <th>max</th>\n",
       "      <td>154.550000</td>\n",
       "    </tr>\n",
       "  </tbody>\n",
       "</table>\n",
       "</div>"
      ],
      "text/plain": [
       "        Machine 1\n",
       "count  100.000000\n",
       "mean   150.203100\n",
       "std      2.018812\n",
       "min    145.550000\n",
       "25%    148.717500\n",
       "50%    150.285000\n",
       "75%    151.502500\n",
       "max    154.550000"
      ]
     },
     "execution_count": 7,
     "metadata": {},
     "output_type": "execute_result"
    }
   ],
   "source": [
    "df.describe()"
   ]
  },
  {
   "cell_type": "code",
   "execution_count": 42,
   "metadata": {},
   "outputs": [
    {
     "data": {
      "text/plain": [
       "280.2986111111111"
      ]
     },
     "execution_count": 42,
     "metadata": {},
     "output_type": "execute_result"
    }
   ],
   "source": [
    "df['#Passengers'].mean()"
   ]
  },
  {
   "cell_type": "code",
   "execution_count": 43,
   "metadata": {
    "id": "glTDIt2kiaCo",
    "outputId": "a786d86a-d2f1-4b48-b8ba-b3f2a9ba4de9"
   },
   "outputs": [
    {
     "name": "stderr",
     "output_type": "stream",
     "text": [
      "C:\\Users\\shubh\\anaconda3\\lib\\site-packages\\seaborn\\distributions.py:2619: FutureWarning: `distplot` is a deprecated function and will be removed in a future version. Please adapt your code to use either `displot` (a figure-level function with similar flexibility) or `histplot` (an axes-level function for histograms).\n",
      "  warnings.warn(msg, FutureWarning)\n"
     ]
    },
    {
     "data": {
      "text/plain": [
       "<AxesSubplot:ylabel='Density'>"
      ]
     },
     "execution_count": 43,
     "metadata": {},
     "output_type": "execute_result"
    },
    {
     "data": {
      "image/png": "[encoded data removed]",
      "text/plain": [
       "<Figure size 432x288 with 1 Axes>"
      ]
     },
     "metadata": {
      "needs_background": "light"
     },
     "output_type": "display_data"
    }
   ],
   "source": [
    "sns.distplot(df)\n",
    "#The sns.distplot() function is a part of the Seaborn library in Python and is used to plot a histogram and a probability density curve for a given dataset. When sns.distplot(df) is called, it creates a visualization showing the distribution of the values in the DataFrame df. It automatically calculates the frequency distribution of the data and plots it as a histogram. Additionally, it also plots a kernel density estimation (KDE) curve over the histogram, which provides a smooth representation of the distribution. The KDE curve is an estimate of the probability density function of the data. This function is useful for exploring the distribution of a variable and gaining insights into its shape, central tendency, and variability. It can also help in identifying potential outliers or unusual data points in the dataset."
   ]
  },
  {
   "cell_type": "code",
   "execution_count": 41,
   "metadata": {
    "id": "27k4OFYgiaCo",
    "outputId": "8621dce8-1baf-4d14-f7d0-48237cb07310",
    "scrolled": false
   },
   "outputs": [
    {
     "data": {
      "text/plain": [
       "<seaborn.axisgrid.FacetGrid at 0x2c2974eafd0>"
      ]
     },
     "execution_count": 41,
     "metadata": {},
     "output_type": "execute_result"
    },
    {
     "data": {
      "image/png": "[encoded data removed]",
      "text/plain": [
       "<Figure size 360x360 with 1 Axes>"
      ]
     },
     "metadata": {
      "needs_background": "light"
     },
     "output_type": "display_data"
    }
   ],
   "source": [
    "sns.catplot(data=df, y='#Passengers', kind='box')"
   ]
  },
  {
   "cell_type": "code",
   "execution_count": 3,
   "metadata": {},
   "outputs": [
    {
     "data": {
      "text/html": [
       "<div>\n",
       "<style scoped>\n",
       "    .dataframe tbody tr th:only-of-type {\n",
       "        vertical-align: middle;\n",
       "    }\n",
       "\n",
       "    .dataframe tbody tr th {\n",
       "        vertical-align: top;\n",
       "    }\n",
       "\n",
       "    .dataframe thead th {\n",
       "        text-align: right;\n",
       "    }\n",
       "</style>\n",
       "<table border=\"1\" class=\"dataframe\">\n",
       "  <thead>\n",
       "    <tr style=\"text-align: right;\">\n",
       "      <th></th>\n",
       "      <th>#Passengers</th>\n",
       "    </tr>\n",
       "  </thead>\n",
       "  <tbody>\n",
       "    <tr>\n",
       "      <th>0</th>\n",
       "      <td>112</td>\n",
       "    </tr>\n",
       "    <tr>\n",
       "      <th>1</th>\n",
       "      <td>118</td>\n",
       "    </tr>\n",
       "    <tr>\n",
       "      <th>2</th>\n",
       "      <td>132</td>\n",
       "    </tr>\n",
       "    <tr>\n",
       "      <th>3</th>\n",
       "      <td>129</td>\n",
       "    </tr>\n",
       "    <tr>\n",
       "      <th>4</th>\n",
       "      <td>121</td>\n",
       "    </tr>\n",
       "    <tr>\n",
       "      <th>...</th>\n",
       "      <td>...</td>\n",
       "    </tr>\n",
       "    <tr>\n",
       "      <th>139</th>\n",
       "      <td>606</td>\n",
       "    </tr>\n",
       "    <tr>\n",
       "      <th>140</th>\n",
       "      <td>508</td>\n",
       "    </tr>\n",
       "    <tr>\n",
       "      <th>141</th>\n",
       "      <td>461</td>\n",
       "    </tr>\n",
       "    <tr>\n",
       "      <th>142</th>\n",
       "      <td>390</td>\n",
       "    </tr>\n",
       "    <tr>\n",
       "      <th>143</th>\n",
       "      <td>432</td>\n",
       "    </tr>\n",
       "  </tbody>\n",
       "</table>\n",
       "<p>144 rows × 1 columns</p>\n",
       "</div>"
      ],
      "text/plain": [
       "     #Passengers\n",
       "0            112\n",
       "1            118\n",
       "2            132\n",
       "3            129\n",
       "4            121\n",
       "..           ...\n",
       "139          606\n",
       "140          508\n",
       "141          461\n",
       "142          390\n",
       "143          432\n",
       "\n",
       "[144 rows x 1 columns]"
      ]
     },
     "execution_count": 3,
     "metadata": {},
     "output_type": "execute_result"
    }
   ],
   "source": [
    "df = pd.read_csv(r\"C:\\Users\\shubh\\Downloads\\AirPassengers.csv\")\n",
    "df = df.drop('Month',axis=1)\n",
    "df"
   ]
  },
  {
   "cell_type": "code",
   "execution_count": 4,
   "metadata": {},
   "outputs": [],
   "source": [
    "from statsmodels.stats import weightstats\n",
    "import scipy.stats as stats"
   ]
  },
  {
   "cell_type": "code",
   "execution_count": 5,
   "metadata": {
    "id": "Bo7-wwYIiaCp",
    "outputId": "60005304-bc60-4b54-e34f-ea3e620b4e5f"
   },
   "outputs": [
    {
     "data": {
      "text/plain": [
       "(3.0307118081007336, 0.002439779971425143)"
      ]
     },
     "execution_count": 5,
     "metadata": {},
     "output_type": "execute_result"
    }
   ],
   "source": [
    "# Here I am using the statsmodels package. If I have a choice I prefer SciPy.\n",
    "weightstats.ztest(df['#Passengers'], value=250 )"
   ]
  },
  {
   "cell_type": "code",
   "execution_count": 6,
   "metadata": {},
   "outputs": [
    {
     "name": "stdout",
     "output_type": "stream",
     "text": [
      "reject NULLMean of sample and mean of population is not same\n"
     ]
    }
   ],
   "source": [
    "if weightstats.ztest(df['#Passengers'], value=250 )[1] < 0.05:    \n",
    "    print(\"reject NULL\" \"Mean of sample and mean of population is not same\")\n",
    "else:\n",
    "    print(\"accept NULL\")"
   ]
  },
  {
   "cell_type": "code",
   "execution_count": 7,
   "metadata": {},
   "outputs": [],
   "source": [
    "pval = weightstats.ztest(df['#Passengers'], value=250 )[1]"
   ]
  },
  {
   "cell_type": "code",
   "execution_count": 8,
   "metadata": {},
   "outputs": [
    {
     "name": "stdout",
     "output_type": "stream",
     "text": [
      "Reject\n"
     ]
    }
   ],
   "source": [
    "if  pval < 0.05:\n",
    "    print(\"Reject\")\n",
    "else:\n",
    "    print(\"accept\")"
   ]
  },
  {
   "cell_type": "code",
   "execution_count": 22,
   "metadata": {},
   "outputs": [
    {
     "name": "stdout",
     "output_type": "stream",
     "text": [
      "accept null\n"
     ]
    }
   ],
   "source": [
    "if 1.00603 < -1.96 or 1.00603 > 1.96:\n",
    "         print('reject null')\n",
    "else:\n",
    "        print('accept null')"
   ]
  },
  {
   "cell_type": "code",
   "execution_count": 23,
   "metadata": {
    "id": "Bo7-wwYIiaCp",
    "outputId": "60005304-bc60-4b54-e34f-ea3e620b4e5f"
   },
   "outputs": [
    {
     "data": {
      "text/plain": [
       "(1.0060370247722599, 0.8428011199610201)"
      ]
     },
     "execution_count": 23,
     "metadata": {},
     "output_type": "execute_result"
    }
   ],
   "source": [
    "# Here I am using the statsmodels package. If I have a choice I prefer SciPy.\n",
    "weightstats.ztest(df['Machine 1'], value=150, alternative='smaller' )"
   ]
  },
  {
   "cell_type": "code",
   "execution_count": 25,
   "metadata": {},
   "outputs": [
    {
     "name": "stdout",
     "output_type": "stream",
     "text": [
      "accept\n"
     ]
    }
   ],
   "source": [
    "if 0.8428< 0.05:\n",
    "    print(\"reject\")\n",
    "else:\n",
    "    print(\"accept\")"
   ]
  },
  {
   "cell_type": "code",
   "execution_count": 26,
   "metadata": {},
   "outputs": [
    {
     "data": {
      "text/plain": [
       "(1.0060370247722599, 0.15719888003897986)"
      ]
     },
     "execution_count": 26,
     "metadata": {},
     "output_type": "execute_result"
    }
   ],
   "source": [
    "weightstats.ztest(df['Machine 1'], value=150, alternative='larger' )"
   ]
  },
  {
   "cell_type": "code",
   "execution_count": null,
   "metadata": {},
   "outputs": [],
   "source": [
    "weightstats.ztest(df['Machine 1'], value=150, alternative='two-sided' )"
   ]
  },
  {
   "cell_type": "code",
   "execution_count": null,
   "metadata": {},
   "outputs": [],
   "source": [
    "weightstats.ztest(df['Machine 1'], value=160 )"
   ]
  },
  {
   "cell_type": "code",
   "execution_count": null,
   "metadata": {},
   "outputs": [],
   "source": [
    "if 0.0 < 0.05:\n",
    "    print(\"reject null\")\n",
    "else:\n",
    "    print(\"accept null\")"
   ]
  },
  {
   "cell_type": "code",
   "execution_count": null,
   "metadata": {},
   "outputs": [],
   "source": [
    "weightstats.ztest(df['Machine 1'], value=160, alternative='smaller' )"
   ]
  },
  {
   "cell_type": "code",
   "execution_count": null,
   "metadata": {},
   "outputs": [],
   "source": [
    "if 0.0 <0.05:\n",
    "    print(\"Reject NULL\")\n",
    "else:\n",
    "    print('Accept null')"
   ]
  },
  {
   "cell_type": "code",
   "execution_count": null,
   "metadata": {},
   "outputs": [],
   "source": [
    "weightstats.ztest(df['Machine 1'], value=160, alternative='larger' )"
   ]
  },
  {
   "cell_type": "code",
   "execution_count": null,
   "metadata": {},
   "outputs": [],
   "source": [
    "if 1 <0.05:\n",
    "    print(\"Reject NULL\")\n",
    "else:\n",
    "    print('Accept null')"
   ]
  },
  {
   "cell_type": "markdown",
   "metadata": {
    "id": "WcRO9h7SiaCp"
   },
   "source": [
    "Z calculated = 1.00 and \n",
    "p-value = 0.3143"
   ]
  },
  {
   "cell_type": "code",
   "execution_count": null,
   "metadata": {
    "id": "6DihkRPgiaCp"
   },
   "outputs": [],
   "source": [
    "# Show 7c One Sample Z test video"
   ]
  },
  {
   "cell_type": "markdown",
   "metadata": {
    "id": "AGxcnDmsiaCq"
   },
   "source": [
    "xxxxxxx SciPy does not have a Z test. You can use t-test instead."
   ]
  },
  {
   "cell_type": "code",
   "execution_count": 9,
   "metadata": {
    "id": "yGkgbYQgiaCq",
    "outputId": "a4c17c5d-6211-40d4-f97b-b1396ba5b893"
   },
   "outputs": [
    {
     "data": {
      "text/plain": [
       "Ttest_1sampResult(statistic=13.033519517624136, pvalue=4.3791891122735797e-26)"
      ]
     },
     "execution_count": 9,
     "metadata": {},
     "output_type": "execute_result"
    }
   ],
   "source": [
    "stats.ttest_1samp(df['#Passengers'], 150)"
   ]
  },
  {
   "cell_type": "code",
   "execution_count": null,
   "metadata": {},
   "outputs": [],
   "source": []
  },
  {
   "cell_type": "markdown",
   "metadata": {},
   "source": [
    "#### Mean has increased?\n",
    "H0  mean <= 145\n",
    "\n",
    "Ha: mean > 145 \n",
    "\n",
    "\n",
    "if (p<0.05):\n",
    "\n",
    "    reject NULL\n",
    "else :\n",
    "\n",
    "    Accept NULL"
   ]
  },
  {
   "cell_type": "code",
   "execution_count": 11,
   "metadata": {
    "id": "yjP0NTkeiaCq"
   },
   "outputs": [
    {
     "data": {
      "text/plain": [
       "(3.0307118081007336, 0.0012198899857125715)"
      ]
     },
     "execution_count": 11,
     "metadata": {},
     "output_type": "execute_result"
    }
   ],
   "source": [
    "### by looking at the p value,  p-value is not less than 0.05 hence accept the null hypothesis\n",
    "### mean of the sample is still 150.  \n",
    "### volume of the bottle is still 150 and not changed.\n",
    "\n",
    "weightstats.ztest(df['#Passengers'], value=250, alternative='larger')"
   ]
  },
  {
   "cell_type": "markdown",
   "metadata": {
    "id": "bveewC8biaCq"
   },
   "source": [
    "# One Sample t test\n",
    "\n",
    "Conditions for performing t-test\n",
    "\n",
    "Random samples\n",
    "\n",
    "Each observation should be independent of other\n",
    "    \n",
    "    sampling with replacement\n",
    "    \n",
    "    if sampling without replacement, the sample size should not be more than 10% of the population\n",
    "    \n",
    "Sampling distribution approximates Normal distribution\n",
    "\n",
    "    Population is normally distributed and the standard deviation is unknown and sample size <30\n",
    "    \n",
    "\n",
    "### Problem statement: Perfume bottle producing 150cc, 4 bottles are randomly picked and average volume found 151 cc  and sd of the sample bottles was 2 cc. Has mean volumn changed? (95% confidence)\n",
    "\n",
    "tcal = (x — μ) / (s / √n)"
   ]
  },
  {
   "cell_type": "code",
   "execution_count": null,
   "metadata": {},
   "outputs": [],
   "source": [
    "import numpy as np\n",
    "t_test_val =153-150/(2/np.sqrt(4))\n",
    "t_test_val"
   ]
  },
  {
   "cell_type": "markdown",
   "metadata": {},
   "source": [
    "### Critical value\n",
    "\n",
    "alpha = 0.05\n",
    "\n",
    "DF(degree of freedom) = number of sample -1 = 4-1\n",
    "\n",
    "check the critical value in t-table\n",
    "\n",
    "if it is one tail test : critical value is 3 (DF) against 0.05 = 2.353\n",
    "\n",
    "if it is two tail test : critical value is 3 (DF) against 0.025 = 3.182\n"
   ]
  },
  {
   "cell_type": "code",
   "execution_count": 12,
   "metadata": {
    "id": "GWpZjh1OiaCr"
   },
   "outputs": [],
   "source": [
    "import numpy as np\n",
    "import pandas as pd\n",
    "import matplotlib.pyplot as plt\n",
    "import seaborn as sns\n",
    "import scipy.stats as stats\n",
    "import scipy\n",
    "from statsmodels.stats import weightstats"
   ]
  },
  {
   "cell_type": "code",
   "execution_count": 13,
   "metadata": {},
   "outputs": [
    {
     "data": {
      "text/html": [
       "<div>\n",
       "<style scoped>\n",
       "    .dataframe tbody tr th:only-of-type {\n",
       "        vertical-align: middle;\n",
       "    }\n",
       "\n",
       "    .dataframe tbody tr th {\n",
       "        vertical-align: top;\n",
       "    }\n",
       "\n",
       "    .dataframe thead th {\n",
       "        text-align: right;\n",
       "    }\n",
       "</style>\n",
       "<table border=\"1\" class=\"dataframe\">\n",
       "  <thead>\n",
       "    <tr style=\"text-align: right;\">\n",
       "      <th></th>\n",
       "      <th>#Passengers</th>\n",
       "    </tr>\n",
       "  </thead>\n",
       "  <tbody>\n",
       "    <tr>\n",
       "      <th>0</th>\n",
       "      <td>112</td>\n",
       "    </tr>\n",
       "    <tr>\n",
       "      <th>1</th>\n",
       "      <td>118</td>\n",
       "    </tr>\n",
       "    <tr>\n",
       "      <th>2</th>\n",
       "      <td>132</td>\n",
       "    </tr>\n",
       "    <tr>\n",
       "      <th>3</th>\n",
       "      <td>129</td>\n",
       "    </tr>\n",
       "    <tr>\n",
       "      <th>4</th>\n",
       "      <td>121</td>\n",
       "    </tr>\n",
       "    <tr>\n",
       "      <th>...</th>\n",
       "      <td>...</td>\n",
       "    </tr>\n",
       "    <tr>\n",
       "      <th>139</th>\n",
       "      <td>606</td>\n",
       "    </tr>\n",
       "    <tr>\n",
       "      <th>140</th>\n",
       "      <td>508</td>\n",
       "    </tr>\n",
       "    <tr>\n",
       "      <th>141</th>\n",
       "      <td>461</td>\n",
       "    </tr>\n",
       "    <tr>\n",
       "      <th>142</th>\n",
       "      <td>390</td>\n",
       "    </tr>\n",
       "    <tr>\n",
       "      <th>143</th>\n",
       "      <td>432</td>\n",
       "    </tr>\n",
       "  </tbody>\n",
       "</table>\n",
       "<p>144 rows × 1 columns</p>\n",
       "</div>"
      ],
      "text/plain": [
       "     #Passengers\n",
       "0            112\n",
       "1            118\n",
       "2            132\n",
       "3            129\n",
       "4            121\n",
       "..           ...\n",
       "139          606\n",
       "140          508\n",
       "141          461\n",
       "142          390\n",
       "143          432\n",
       "\n",
       "[144 rows x 1 columns]"
      ]
     },
     "execution_count": 13,
     "metadata": {},
     "output_type": "execute_result"
    }
   ],
   "source": [
    "df"
   ]
  },
  {
   "cell_type": "code",
   "execution_count": 14,
   "metadata": {},
   "outputs": [],
   "source": [
    "index = np.random.randint(1,101,4)"
   ]
  },
  {
   "cell_type": "code",
   "execution_count": 15,
   "metadata": {},
   "outputs": [],
   "source": [
    "volume = df.iloc[index,]"
   ]
  },
  {
   "cell_type": "code",
   "execution_count": 16,
   "metadata": {},
   "outputs": [
    {
     "data": {
      "text/html": [
       "<div>\n",
       "<style scoped>\n",
       "    .dataframe tbody tr th:only-of-type {\n",
       "        vertical-align: middle;\n",
       "    }\n",
       "\n",
       "    .dataframe tbody tr th {\n",
       "        vertical-align: top;\n",
       "    }\n",
       "\n",
       "    .dataframe thead th {\n",
       "        text-align: right;\n",
       "    }\n",
       "</style>\n",
       "<table border=\"1\" class=\"dataframe\">\n",
       "  <thead>\n",
       "    <tr style=\"text-align: right;\">\n",
       "      <th></th>\n",
       "      <th>#Passengers</th>\n",
       "    </tr>\n",
       "  </thead>\n",
       "  <tbody>\n",
       "    <tr>\n",
       "      <th>11</th>\n",
       "      <td>118</td>\n",
       "    </tr>\n",
       "    <tr>\n",
       "      <th>98</th>\n",
       "      <td>356</td>\n",
       "    </tr>\n",
       "    <tr>\n",
       "      <th>68</th>\n",
       "      <td>259</td>\n",
       "    </tr>\n",
       "    <tr>\n",
       "      <th>89</th>\n",
       "      <td>374</td>\n",
       "    </tr>\n",
       "  </tbody>\n",
       "</table>\n",
       "</div>"
      ],
      "text/plain": [
       "    #Passengers\n",
       "11          118\n",
       "98          356\n",
       "68          259\n",
       "89          374"
      ]
     },
     "execution_count": 16,
     "metadata": {},
     "output_type": "execute_result"
    }
   ],
   "source": [
    "volume"
   ]
  },
  {
   "cell_type": "code",
   "execution_count": 17,
   "metadata": {
    "id": "Gbi12dieiaCr",
    "outputId": "cdb017d9-82f0-4cf0-bafd-04bc4afe12cf",
    "scrolled": true
   },
   "outputs": [
    {
     "data": {
      "text/plain": [
       "count      4.000000\n",
       "mean     151.000000\n",
       "std        2.004994\n",
       "min      148.500000\n",
       "25%      150.300000\n",
       "50%      151.050000\n",
       "75%      151.750000\n",
       "max      153.400000\n",
       "dtype: float64"
      ]
     },
     "execution_count": 17,
     "metadata": {},
     "output_type": "execute_result"
    }
   ],
   "source": [
    "volume = pd.Series([148.5, 153.4, 150.9, 151.2])\n",
    "volume.describe()"
   ]
  },
  {
   "cell_type": "code",
   "execution_count": 18,
   "metadata": {
    "id": "hUMXIQ3eiaCr",
    "outputId": "a12e7ab4-7c93-4e75-a675-ff09fc4e48d7"
   },
   "outputs": [
    {
     "data": {
      "text/plain": [
       "Ttest_1sampResult(statistic=0.997509336107632, pvalue=0.3920333832606524)"
      ]
     },
     "execution_count": 18,
     "metadata": {},
     "output_type": "execute_result"
    }
   ],
   "source": [
    "stats.ttest_1samp(volume, 150)"
   ]
  },
  {
   "cell_type": "code",
   "execution_count": 19,
   "metadata": {},
   "outputs": [
    {
     "data": {
      "text/plain": [
       "(2.3533634348018264, 0.3920333832606524)"
      ]
     },
     "execution_count": 19,
     "metadata": {},
     "output_type": "execute_result"
    }
   ],
   "source": [
    "test_statistic_val=stats.ttest_1samp(volume, 150)[0]\n",
    "p_val=stats.ttest_1samp(volume, 150)[1]\n",
    "test_critical_val=scipy.stats.t.ppf(q=1-.05,df=3)\n",
    "test_critical_val , p_val"
   ]
  },
  {
   "cell_type": "code",
   "execution_count": 22,
   "metadata": {},
   "outputs": [
    {
     "data": {
      "text/plain": [
       "-2.3533634348018273"
      ]
     },
     "execution_count": 22,
     "metadata": {},
     "output_type": "execute_result"
    }
   ],
   "source": [
    "import scipy\n",
    "### left tail test\n",
    "scipy.stats.t.ppf(q=.05,df=3)"
   ]
  },
  {
   "cell_type": "code",
   "execution_count": 23,
   "metadata": {},
   "outputs": [
    {
     "data": {
      "text/plain": [
       "2.3533634348018264"
      ]
     },
     "execution_count": 23,
     "metadata": {},
     "output_type": "execute_result"
    }
   ],
   "source": [
    "### right tail test\n",
    "scipy.stats.t.ppf(q=(1-.05),df=3)"
   ]
  },
  {
   "cell_type": "code",
   "execution_count": 24,
   "metadata": {},
   "outputs": [
    {
     "data": {
      "text/plain": [
       "3.182446305284263"
      ]
     },
     "execution_count": 24,
     "metadata": {},
     "output_type": "execute_result"
    }
   ],
   "source": [
    "### two tail test\n",
    "scipy.stats.t.ppf(q=1-.05/2,df=3)"
   ]
  },
  {
   "cell_type": "code",
   "execution_count": 25,
   "metadata": {},
   "outputs": [
    {
     "data": {
      "text/plain": [
       "3.182446305284263"
      ]
     },
     "execution_count": 25,
     "metadata": {},
     "output_type": "execute_result"
    }
   ],
   "source": [
    "scipy.stats.t.ppf(q=1-.025,df=3)"
   ]
  },
  {
   "cell_type": "code",
   "execution_count": 26,
   "metadata": {},
   "outputs": [
    {
     "data": {
      "text/plain": [
       "0.997509336107632"
      ]
     },
     "execution_count": 26,
     "metadata": {},
     "output_type": "execute_result"
    }
   ],
   "source": [
    "test_statistic_val"
   ]
  },
  {
   "cell_type": "code",
   "execution_count": 27,
   "metadata": {},
   "outputs": [
    {
     "data": {
      "text/html": [
       "<div>\n",
       "<style scoped>\n",
       "    .dataframe tbody tr th:only-of-type {\n",
       "        vertical-align: middle;\n",
       "    }\n",
       "\n",
       "    .dataframe tbody tr th {\n",
       "        vertical-align: top;\n",
       "    }\n",
       "\n",
       "    .dataframe thead th {\n",
       "        text-align: right;\n",
       "    }\n",
       "</style>\n",
       "<table border=\"1\" class=\"dataframe\">\n",
       "  <thead>\n",
       "    <tr style=\"text-align: right;\">\n",
       "      <th></th>\n",
       "      <th>#Passengers</th>\n",
       "    </tr>\n",
       "  </thead>\n",
       "  <tbody>\n",
       "    <tr>\n",
       "      <th>0</th>\n",
       "      <td>112</td>\n",
       "    </tr>\n",
       "    <tr>\n",
       "      <th>1</th>\n",
       "      <td>118</td>\n",
       "    </tr>\n",
       "    <tr>\n",
       "      <th>2</th>\n",
       "      <td>132</td>\n",
       "    </tr>\n",
       "    <tr>\n",
       "      <th>3</th>\n",
       "      <td>129</td>\n",
       "    </tr>\n",
       "    <tr>\n",
       "      <th>4</th>\n",
       "      <td>121</td>\n",
       "    </tr>\n",
       "    <tr>\n",
       "      <th>...</th>\n",
       "      <td>...</td>\n",
       "    </tr>\n",
       "    <tr>\n",
       "      <th>139</th>\n",
       "      <td>606</td>\n",
       "    </tr>\n",
       "    <tr>\n",
       "      <th>140</th>\n",
       "      <td>508</td>\n",
       "    </tr>\n",
       "    <tr>\n",
       "      <th>141</th>\n",
       "      <td>461</td>\n",
       "    </tr>\n",
       "    <tr>\n",
       "      <th>142</th>\n",
       "      <td>390</td>\n",
       "    </tr>\n",
       "    <tr>\n",
       "      <th>143</th>\n",
       "      <td>432</td>\n",
       "    </tr>\n",
       "  </tbody>\n",
       "</table>\n",
       "<p>144 rows × 1 columns</p>\n",
       "</div>"
      ],
      "text/plain": [
       "     #Passengers\n",
       "0            112\n",
       "1            118\n",
       "2            132\n",
       "3            129\n",
       "4            121\n",
       "..           ...\n",
       "139          606\n",
       "140          508\n",
       "141          461\n",
       "142          390\n",
       "143          432\n",
       "\n",
       "[144 rows x 1 columns]"
      ]
     },
     "execution_count": 27,
     "metadata": {},
     "output_type": "execute_result"
    }
   ],
   "source": [
    "df"
   ]
  },
  {
   "cell_type": "code",
   "execution_count": null,
   "metadata": {},
   "outputs": [],
   "source": [
    "if (test_statistic_val > test_critical_val):\n",
    "    print(\"reject null\")\n",
    "else:\n",
    "    print(\"Accept null\")"
   ]
  },
  {
   "cell_type": "code",
   "execution_count": null,
   "metadata": {},
   "outputs": [],
   "source": [
    "if p_val < 0.05 :\n",
    "    print(\"reject null\")\n",
    "else:\n",
    "    print(\"Accept null\")"
   ]
  },
  {
   "cell_type": "markdown",
   "metadata": {
    "id": "h3UOJkC9iaCr"
   },
   "source": [
    "## with this p-value 0.3920 we fail to reject the null hypothesis. that mean no volume has changes."
   ]
  },
  {
   "cell_type": "markdown",
   "metadata": {
    "id": "V24ay6b8iaCs"
   },
   "source": [
    "# One Proportion Test\n",
    "\n",
    "Random Samples\n",
    "\n",
    "Each observations are independent of other\n",
    "\n",
    "    sampling with replacement\n",
    "    \n",
    "    if sampling without replacement, the sample size should not be more than 10% of the population\n",
    "    \n",
    "##### The data contains only two categories such as pass/fail  or yes/no\n",
    "\n",
    "For normal approximation:\n",
    "\n",
    "    both np>10 and n(1-p) (data should have at least 10 success and at least 10 failure\n",
    "    \n",
    "    \n",
    "\n",
    "##### Problem statement: smoking rate in the town is  21%, 100 samples were picked and found 14% smokers. Has smoking habit changed...?\n",
    "\n",
    "Hypothysied praportion = p0= 0.21\n",
    "\n",
    "p0=0.21 and p = 0.14\n",
    "\n",
    "np0=0.21*100 = 21\n",
    "\n",
    "n(1-p0)= (1-0.21)100 = 79\n",
    "\n",
    "##### >=10% that mean sample size is sufficient\n",
    "\n",
    "Here the H0:  p=p0\n",
    "\n",
    "         Ha:  p!=p0\n",
    "         \n",
    "## z=(p-p0)/sqrt(p0(1-p0)/n)\n",
    "\n",
    "here for the same Zcal= -1.719\n",
    "\n",
    "Zcrit =1.96\n",
    "\n",
    "hence we "
   ]
  },
  {
   "cell_type": "code",
   "execution_count": 28,
   "metadata": {
    "id": "Hs9EiFF1iaCt"
   },
   "outputs": [],
   "source": [
    "import numpy as np\n",
    "import pandas as pd\n",
    "import matplotlib.pyplot as plt\n",
    "import seaborn as sns\n",
    "import scipy.stats as stats"
   ]
  },
  {
   "cell_type": "markdown",
   "metadata": {},
   "source": [
    "## Two tailed test\n",
    "## H0 : habit has not changed\n",
    "## H1 : habit has changed"
   ]
  },
  {
   "cell_type": "code",
   "execution_count": 29,
   "metadata": {
    "id": "5UsBpFMziaCu",
    "outputId": "3362c165-49eb-4367-9352-e726214cde77"
   },
   "outputs": [
    {
     "name": "stdout",
     "output_type": "stream",
     "text": [
      "0.10920815720825927\n",
      "accept\n"
     ]
    }
   ],
   "source": [
    "# Case 1: Has smoking habit changed\n",
    "test_out = stats.binom_test(14, 100 ,p=0.21, alternative='two-sided')\n",
    "print(test_out)\n",
    "### Smoking habits has not changed. observetions are due to randome selection of the data.\n",
    "if test_out < 0.05:\n",
    "    print(\"reject\")\n",
    "else:\n",
    "    print(\"accept\")"
   ]
  },
  {
   "cell_type": "code",
   "execution_count": 33,
   "metadata": {
    "id": "oTWl8lh_iaCu",
    "outputId": "af516787-80a4-4906-ad88-1c5877549f92"
   },
   "outputs": [
    {
     "name": "stdout",
     "output_type": "stream",
     "text": [
      "0.05042460221552124\n",
      "accept\n"
     ]
    }
   ],
   "source": [
    "#Case 2: Has smoking reduced? Left tail test\n",
    "#Here the H0:  p>=p0 No change in habit\n",
    "#         Ha:  p<p0  habit reduced\n",
    "## Z crit = 1.645\n",
    "# Using Normal Approximation we rejected the Null, but using Binomial we failed to reject.\n",
    "test_less = stats.binom_test(14, 100, p=0.21, alternative='less')\n",
    "print(test_less)\n",
    "if test_less < 0.05:\n",
    "    print(\"reject\")\n",
    "else:\n",
    "    print(\"accept\")"
   ]
  },
  {
   "cell_type": "code",
   "execution_count": 34,
   "metadata": {
    "id": "oTWl8lh_iaCu",
    "outputId": "af516787-80a4-4906-ad88-1c5877549f92"
   },
   "outputs": [
    {
     "name": "stdout",
     "output_type": "stream",
     "text": [
      "0.972081170608883\n",
      "accept\n"
     ]
    }
   ],
   "source": [
    "#Case 3: Has smoking increased? Left tail test\n",
    "#Here the H0:  p<=p0\n",
    "#         Ha:  p>p0\n",
    "## Z crit = 1.645\n",
    "# using Binomial we failed to reject.\n",
    "test_large = stats.binom_test(14, 100, p=0.21, alternative='greater')\n",
    "print(test_large)\n",
    "if test_large < 0.05:\n",
    "    print(\"reject\")\n",
    "else:\n",
    "    print(\"accept\")"
   ]
  },
  {
   "cell_type": "code",
   "execution_count": null,
   "metadata": {},
   "outputs": [],
   "source": [
    "test_out = stats.binom_test(64, 678 ,p=0.50\n",
    "                            , alternative='two-sided')\n",
    "print(test_out)\n",
    "###NULL: Smoking habits has not changed. observetions are due to randome selection of the data.\n",
    "if test_out < 0.05:\n",
    "    print(\"reject\")\n",
    "else:\n",
    "    print(\"accept\")"
   ]
  },
  {
   "cell_type": "code",
   "execution_count": null,
   "metadata": {},
   "outputs": [],
   "source": [
    "test_out = stats.binom_test(64, 678 ,p=0.50\n",
    "                            , alternative='less')\n",
    "print(test_out)\n",
    "###NULL: Smoking habits has not changed. observetions are due to randome selection of the data.\n",
    "if test_out < 0.05:\n",
    "    print(\"reject\")\n",
    "else:\n",
    "    print(\"accept\")"
   ]
  },
  {
   "cell_type": "code",
   "execution_count": null,
   "metadata": {},
   "outputs": [],
   "source": [
    "test_out = stats.binom_test(64, 678 ,p=0.50\n",
    "                            , alternative='greater')\n",
    "print(test_out)\n",
    "###NULL: Smoking habits has not changed. observetions are due to randome selection of the data.\n",
    "if test_out < 0.05:\n",
    "    print(\"reject\")\n",
    "else:\n",
    "    print(\"accept\")"
   ]
  },
  {
   "cell_type": "code",
   "execution_count": null,
   "metadata": {
    "id": "oTWl8lh_iaCu",
    "outputId": "af516787-80a4-4906-ad88-1c5877549f92"
   },
   "outputs": [],
   "source": [
    "#Case 2: Has smoking reduced? Left tail test\n",
    "#Here the H0:  p>=p0\n",
    "#         Ha:  p<p0\n",
    "## Z crit = 1.645\n",
    "# Using Normal Approximation we rejected the Null, but using Binomial we failed to reject.\n",
    "test_less = stats.binom_test(14, 100, p=0.21, alternative='less')\n",
    "print(test_less)\n",
    "if test_less < 0.05:\n",
    "    print(\"reject\")\n",
    "else:\n",
    "    print(\"accept\")"
   ]
  },
  {
   "cell_type": "code",
   "execution_count": null,
   "metadata": {},
   "outputs": [],
   "source": [
    "1-stats.binom_test(80, n=100, p=0.21, alternative='greater')"
   ]
  },
  {
   "cell_type": "code",
   "execution_count": 30,
   "metadata": {
    "id": "dQoVwWo_iaCu"
   },
   "outputs": [],
   "source": [
    "df = pd.read_csv(r\"C:\\Users\\shubh\\symbiosis ml16\\statistics\\Smokers.csv\")"
   ]
  },
  {
   "cell_type": "code",
   "execution_count": 31,
   "metadata": {},
   "outputs": [
    {
     "data": {
      "text/html": [
       "<div>\n",
       "<style scoped>\n",
       "    .dataframe tbody tr th:only-of-type {\n",
       "        vertical-align: middle;\n",
       "    }\n",
       "\n",
       "    .dataframe tbody tr th {\n",
       "        vertical-align: top;\n",
       "    }\n",
       "\n",
       "    .dataframe thead th {\n",
       "        text-align: right;\n",
       "    }\n",
       "</style>\n",
       "<table border=\"1\" class=\"dataframe\">\n",
       "  <thead>\n",
       "    <tr style=\"text-align: right;\">\n",
       "      <th></th>\n",
       "      <th>Name</th>\n",
       "      <th>Smokers</th>\n",
       "    </tr>\n",
       "  </thead>\n",
       "  <tbody>\n",
       "    <tr>\n",
       "      <th>0</th>\n",
       "      <td>Person 1</td>\n",
       "      <td>No</td>\n",
       "    </tr>\n",
       "    <tr>\n",
       "      <th>1</th>\n",
       "      <td>Person 2</td>\n",
       "      <td>No</td>\n",
       "    </tr>\n",
       "    <tr>\n",
       "      <th>2</th>\n",
       "      <td>Person 3</td>\n",
       "      <td>No</td>\n",
       "    </tr>\n",
       "    <tr>\n",
       "      <th>3</th>\n",
       "      <td>Person 4</td>\n",
       "      <td>Yes</td>\n",
       "    </tr>\n",
       "    <tr>\n",
       "      <th>4</th>\n",
       "      <td>Person 5</td>\n",
       "      <td>No</td>\n",
       "    </tr>\n",
       "    <tr>\n",
       "      <th>...</th>\n",
       "      <td>...</td>\n",
       "      <td>...</td>\n",
       "    </tr>\n",
       "    <tr>\n",
       "      <th>95</th>\n",
       "      <td>Person 96</td>\n",
       "      <td>No</td>\n",
       "    </tr>\n",
       "    <tr>\n",
       "      <th>96</th>\n",
       "      <td>Person 97</td>\n",
       "      <td>No</td>\n",
       "    </tr>\n",
       "    <tr>\n",
       "      <th>97</th>\n",
       "      <td>Person 98</td>\n",
       "      <td>No</td>\n",
       "    </tr>\n",
       "    <tr>\n",
       "      <th>98</th>\n",
       "      <td>Person 99</td>\n",
       "      <td>No</td>\n",
       "    </tr>\n",
       "    <tr>\n",
       "      <th>99</th>\n",
       "      <td>Person 100</td>\n",
       "      <td>No</td>\n",
       "    </tr>\n",
       "  </tbody>\n",
       "</table>\n",
       "<p>100 rows × 2 columns</p>\n",
       "</div>"
      ],
      "text/plain": [
       "          Name Smokers\n",
       "0     Person 1      No\n",
       "1     Person 2      No\n",
       "2     Person 3      No\n",
       "3     Person 4     Yes\n",
       "4     Person 5      No\n",
       "..         ...     ...\n",
       "95   Person 96      No\n",
       "96   Person 97      No\n",
       "97   Person 98      No\n",
       "98   Person 99      No\n",
       "99  Person 100      No\n",
       "\n",
       "[100 rows x 2 columns]"
      ]
     },
     "execution_count": 31,
     "metadata": {},
     "output_type": "execute_result"
    }
   ],
   "source": [
    "df"
   ]
  },
  {
   "cell_type": "code",
   "execution_count": 32,
   "metadata": {
    "id": "FZrT69sRiaCu",
    "outputId": "9dc8d1df-a551-47fd-a55c-26d31d6bab01",
    "scrolled": true
   },
   "outputs": [
    {
     "data": {
      "text/html": [
       "<div>\n",
       "<style scoped>\n",
       "    .dataframe tbody tr th:only-of-type {\n",
       "        vertical-align: middle;\n",
       "    }\n",
       "\n",
       "    .dataframe tbody tr th {\n",
       "        vertical-align: top;\n",
       "    }\n",
       "\n",
       "    .dataframe thead th {\n",
       "        text-align: right;\n",
       "    }\n",
       "</style>\n",
       "<table border=\"1\" class=\"dataframe\">\n",
       "  <thead>\n",
       "    <tr style=\"text-align: right;\">\n",
       "      <th></th>\n",
       "      <th>Name</th>\n",
       "      <th>Smokers</th>\n",
       "    </tr>\n",
       "  </thead>\n",
       "  <tbody>\n",
       "    <tr>\n",
       "      <th>count</th>\n",
       "      <td>100</td>\n",
       "      <td>100</td>\n",
       "    </tr>\n",
       "    <tr>\n",
       "      <th>unique</th>\n",
       "      <td>100</td>\n",
       "      <td>2</td>\n",
       "    </tr>\n",
       "    <tr>\n",
       "      <th>top</th>\n",
       "      <td>Person 1</td>\n",
       "      <td>No</td>\n",
       "    </tr>\n",
       "    <tr>\n",
       "      <th>freq</th>\n",
       "      <td>1</td>\n",
       "      <td>86</td>\n",
       "    </tr>\n",
       "  </tbody>\n",
       "</table>\n",
       "</div>"
      ],
      "text/plain": [
       "            Name Smokers\n",
       "count        100     100\n",
       "unique       100       2\n",
       "top     Person 1      No\n",
       "freq           1      86"
      ]
     },
     "execution_count": 32,
     "metadata": {},
     "output_type": "execute_result"
    }
   ],
   "source": [
    "df.describe()"
   ]
  },
  {
   "cell_type": "code",
   "execution_count": 35,
   "metadata": {},
   "outputs": [],
   "source": [
    "#help(df.groupby)"
   ]
  },
  {
   "cell_type": "code",
   "execution_count": 37,
   "metadata": {
    "id": "yAAj6jxAmgZH",
    "scrolled": true
   },
   "outputs": [
    {
     "data": {
      "text/html": [
       "<div>\n",
       "<style scoped>\n",
       "    .dataframe tbody tr th:only-of-type {\n",
       "        vertical-align: middle;\n",
       "    }\n",
       "\n",
       "    .dataframe tbody tr th {\n",
       "        vertical-align: top;\n",
       "    }\n",
       "\n",
       "    .dataframe thead th {\n",
       "        text-align: right;\n",
       "    }\n",
       "</style>\n",
       "<table border=\"1\" class=\"dataframe\">\n",
       "  <thead>\n",
       "    <tr style=\"text-align: right;\">\n",
       "      <th></th>\n",
       "      <th>Name</th>\n",
       "    </tr>\n",
       "    <tr>\n",
       "      <th>Smokers</th>\n",
       "      <th></th>\n",
       "    </tr>\n",
       "  </thead>\n",
       "  <tbody>\n",
       "    <tr>\n",
       "      <th>No</th>\n",
       "      <td>86</td>\n",
       "    </tr>\n",
       "    <tr>\n",
       "      <th>Yes</th>\n",
       "      <td>14</td>\n",
       "    </tr>\n",
       "  </tbody>\n",
       "</table>\n",
       "</div>"
      ],
      "text/plain": [
       "         Name\n",
       "Smokers      \n",
       "No         86\n",
       "Yes        14"
      ]
     },
     "execution_count": 37,
     "metadata": {},
     "output_type": "execute_result"
    }
   ],
   "source": [
    "# If you want yes/no in tabular form, use group_by\n",
    "smk = df.groupby('Smokers').count()\n",
    "smk"
   ]
  },
  {
   "cell_type": "code",
   "execution_count": 38,
   "metadata": {},
   "outputs": [
    {
     "data": {
      "text/plain": [
       "0.10920815720825927"
      ]
     },
     "execution_count": 38,
     "metadata": {},
     "output_type": "execute_result"
    }
   ],
   "source": [
    "stats.binom_test(14, 100, 0.21)"
   ]
  },
  {
   "cell_type": "code",
   "execution_count": 39,
   "metadata": {},
   "outputs": [
    {
     "name": "stdout",
     "output_type": "stream",
     "text": [
      "Accept\n"
     ]
    }
   ],
   "source": [
    "if  0.10920 < 0.05:\n",
    "    print(\"reject\")\n",
    "else:\n",
    "    print(\"Accept\")"
   ]
  },
  {
   "cell_type": "code",
   "execution_count": 40,
   "metadata": {},
   "outputs": [
    {
     "data": {
      "text/html": [
       "<div>\n",
       "<style scoped>\n",
       "    .dataframe tbody tr th:only-of-type {\n",
       "        vertical-align: middle;\n",
       "    }\n",
       "\n",
       "    .dataframe tbody tr th {\n",
       "        vertical-align: top;\n",
       "    }\n",
       "\n",
       "    .dataframe thead th {\n",
       "        text-align: right;\n",
       "    }\n",
       "</style>\n",
       "<table border=\"1\" class=\"dataframe\">\n",
       "  <thead>\n",
       "    <tr style=\"text-align: right;\">\n",
       "      <th></th>\n",
       "      <th>Name</th>\n",
       "    </tr>\n",
       "    <tr>\n",
       "      <th>Smokers</th>\n",
       "      <th></th>\n",
       "    </tr>\n",
       "  </thead>\n",
       "  <tbody>\n",
       "    <tr>\n",
       "      <th>Yes</th>\n",
       "      <td>14</td>\n",
       "    </tr>\n",
       "    <tr>\n",
       "      <th>No</th>\n",
       "      <td>86</td>\n",
       "    </tr>\n",
       "  </tbody>\n",
       "</table>\n",
       "</div>"
      ],
      "text/plain": [
       "         Name\n",
       "Smokers      \n",
       "Yes        14\n",
       "No         86"
      ]
     },
     "execution_count": 40,
     "metadata": {},
     "output_type": "execute_result"
    }
   ],
   "source": [
    "smk = smk.reindex(['Yes', 'No'])\n",
    "smk"
   ]
  },
  {
   "cell_type": "code",
   "execution_count": 41,
   "metadata": {},
   "outputs": [
    {
     "data": {
      "text/html": [
       "<div>\n",
       "<style scoped>\n",
       "    .dataframe tbody tr th:only-of-type {\n",
       "        vertical-align: middle;\n",
       "    }\n",
       "\n",
       "    .dataframe tbody tr th {\n",
       "        vertical-align: top;\n",
       "    }\n",
       "\n",
       "    .dataframe thead th {\n",
       "        text-align: right;\n",
       "    }\n",
       "</style>\n",
       "<table border=\"1\" class=\"dataframe\">\n",
       "  <thead>\n",
       "    <tr style=\"text-align: right;\">\n",
       "      <th></th>\n",
       "      <th>Name</th>\n",
       "    </tr>\n",
       "    <tr>\n",
       "      <th>Smokers</th>\n",
       "      <th></th>\n",
       "    </tr>\n",
       "  </thead>\n",
       "  <tbody>\n",
       "    <tr>\n",
       "      <th>Yes</th>\n",
       "      <td>14</td>\n",
       "    </tr>\n",
       "    <tr>\n",
       "      <th>No</th>\n",
       "      <td>86</td>\n",
       "    </tr>\n",
       "  </tbody>\n",
       "</table>\n",
       "</div>"
      ],
      "text/plain": [
       "         Name\n",
       "Smokers      \n",
       "Yes        14\n",
       "No         86"
      ]
     },
     "execution_count": 41,
     "metadata": {},
     "output_type": "execute_result"
    }
   ],
   "source": [
    "smk"
   ]
  },
  {
   "cell_type": "code",
   "execution_count": 42,
   "metadata": {},
   "outputs": [
    {
     "data": {
      "text/plain": [
       "array([0.10920816])"
      ]
     },
     "execution_count": 42,
     "metadata": {},
     "output_type": "execute_result"
    }
   ],
   "source": [
    "stats.binom_test(smk, p=0.21, alternative='two-sided')"
   ]
  },
  {
   "cell_type": "code",
   "execution_count": 43,
   "metadata": {},
   "outputs": [],
   "source": [
    "## H0 : p <= p0\n",
    "## H1 : p > p0"
   ]
  },
  {
   "cell_type": "code",
   "execution_count": 44,
   "metadata": {},
   "outputs": [
    {
     "data": {
      "text/plain": [
       "0.02160786711018987"
      ]
     },
     "execution_count": 44,
     "metadata": {},
     "output_type": "execute_result"
    }
   ],
   "source": [
    "stats.binom_test(30,100, p=0.21, alternative='greater')"
   ]
  },
  {
   "cell_type": "code",
   "execution_count": 45,
   "metadata": {},
   "outputs": [
    {
     "name": "stdout",
     "output_type": "stream",
     "text": [
      "reject\n"
     ]
    }
   ],
   "source": [
    "if 0.02160 < 0.05:\n",
    "    print('reject')\n",
    "else:\n",
    "    print('accept')"
   ]
  },
  {
   "cell_type": "code",
   "execution_count": 47,
   "metadata": {},
   "outputs": [],
   "source": [
    "#H0 : p <= p0\n",
    "#H1 : p > p0"
   ]
  },
  {
   "cell_type": "code",
   "execution_count": null,
   "metadata": {},
   "outputs": [],
   "source": [
    "np.random.normal(100,20,10)"
   ]
  },
  {
   "cell_type": "code",
   "execution_count": null,
   "metadata": {},
   "outputs": [],
   "source": [
    "np.random.normal(100,5,10)"
   ]
  },
  {
   "cell_type": "code",
   "execution_count": null,
   "metadata": {},
   "outputs": [],
   "source": [
    "1-stats.binom_test(30,100, p=0.21, alternative='less')"
   ]
  },
  {
   "cell_type": "code",
   "execution_count": null,
   "metadata": {},
   "outputs": [],
   "source": [
    "if 0.9876 < 0.05:\n",
    "    print('reject')\n",
    "else:\n",
    "    print('accept')"
   ]
  },
  {
   "cell_type": "markdown",
   "metadata": {
    "id": "M06zxQOUiaCx"
   },
   "source": [
    "# One Variance Test"
   ]
  },
  {
   "cell_type": "markdown",
   "metadata": {},
   "source": [
    "##### Problem statement:  \n",
    "A sample of 51 bottles was selected. The standard deviation of these\n",
    "51 bottles was 2.35 cc. Has it increased from the established 2cc?\n",
    "90% confidence level.\n",
    "\n",
    "H0 = variance <= sigma ** 2\n",
    "\n",
    "Ha = variance > sigma ** 2"
   ]
  },
  {
   "cell_type": "markdown",
   "metadata": {},
   "source": [
    "Chi_sq_cal = (n-1)s^2 / sigma^2\n",
    "\n",
    "alpha = 0.10  for one tail test\n",
    "DF = 50\n",
    "\n",
    "\n",
    "\n"
   ]
  },
  {
   "cell_type": "markdown",
   "metadata": {
    "id": "6Vh1nMAniaCy"
   },
   "source": [
    "Draw a Chisquare distribution for df=50\n",
    "Purpose: check sample std \n",
    "Conditions :\n",
    "\n",
    "    Random samples\n",
    "    \n",
    "    each obs should be independent of other\n",
    "    \n",
    "    sampling with replacement\n",
    "    \n",
    "    if sampling withoout replacement, the sample size should not be more than 10% of the population\n",
    "    \n",
    "the data follows normal distribution\n",
    "\n",
    "In z-test and t test we compare mean and std\n",
    "\n",
    "here in variance test, we are comparing variance:\n",
    "\n",
    "### Chi-square test \n",
    "\n",
    "    For testing population and variance against a specified value\n",
    "\n",
    "    testing goodness of fit of some probability distribution\n",
    "\n",
    "    testing independance of two attribute\n",
    "    \n",
    "        chi_sq_cal = (n-1) s^2/ sigma^2\n",
    "\n",
    "### F-test\n",
    "\n",
    "    for testing equality of two variance from the different population\n",
    "    \n",
    "    for testing equality of several means with Anova.\n"
   ]
  },
  {
   "cell_type": "code",
   "execution_count": 1,
   "metadata": {},
   "outputs": [],
   "source": [
    "import numpy as np\n",
    "import pandas as pd\n",
    "import matplotlib.pyplot as plt\n",
    "import seaborn as sns\n",
    "import scipy.stats as stats"
   ]
  },
  {
   "cell_type": "code",
   "execution_count": null,
   "metadata": {},
   "outputs": [],
   "source": [
    "## Chi square statistics... refere chi square table to check critical values\n",
    "(50*2.35*2.35)/4"
   ]
  },
  {
   "cell_type": "code",
   "execution_count": 2,
   "metadata": {
    "scrolled": true
   },
   "outputs": [
    {
     "data": {
      "text/plain": [
       "array([  0.,   1.,   2.,   3.,   4.,   5.,   6.,   7.,   8.,   9.,  10.,\n",
       "        11.,  12.,  13.,  14.,  15.,  16.,  17.,  18.,  19.,  20.,  21.,\n",
       "        22.,  23.,  24.,  25.,  26.,  27.,  28.,  29.,  30.,  31.,  32.,\n",
       "        33.,  34.,  35.,  36.,  37.,  38.,  39.,  40.,  41.,  42.,  43.,\n",
       "        44.,  45.,  46.,  47.,  48.,  49.,  50.,  51.,  52.,  53.,  54.,\n",
       "        55.,  56.,  57.,  58.,  59.,  60.,  61.,  62.,  63.,  64.,  65.,\n",
       "        66.,  67.,  68.,  69.,  70.,  71.,  72.,  73.,  74.,  75.,  76.,\n",
       "        77.,  78.,  79.,  80.,  81.,  82.,  83.,  84.,  85.,  86.,  87.,\n",
       "        88.,  89.,  90.,  91.,  92.,  93.,  94.,  95.,  96.,  97.,  98.,\n",
       "        99., 100.])"
      ]
     },
     "execution_count": 2,
     "metadata": {},
     "output_type": "execute_result"
    }
   ],
   "source": [
    "x_ax = np.linspace(0, 100, 101)\n",
    "x_ax"
   ]
  },
  {
   "cell_type": "code",
   "execution_count": 3,
   "metadata": {
    "scrolled": true
   },
   "outputs": [
    {
     "data": {
      "image/png": "[encoded data removed]",
      "text/plain": [
       "<Figure size 360x360 with 1 Axes>"
      ]
     },
     "metadata": {
      "needs_background": "light"
     },
     "output_type": "display_data"
    }
   ],
   "source": [
    "x_ax = np.linspace(0, 100, 101)\n",
    "y_ax = stats.chi2.pdf(x_ax, df=50)\n",
    "sns.relplot(x=x_ax, y = y_ax, kind='line');"
   ]
  },
  {
   "cell_type": "code",
   "execution_count": null,
   "metadata": {},
   "outputs": [],
   "source": []
  },
  {
   "cell_type": "code",
   "execution_count": 5,
   "metadata": {},
   "outputs": [
    {
     "data": {
      "image/png": "[encoded data removed]",
      "text/plain": [
       "<Figure size 360x360 with 1 Axes>"
      ]
     },
     "metadata": {
      "needs_background": "light"
     },
     "output_type": "display_data"
    }
   ],
   "source": [
    "x_ax = np.linspace(0, 100, 101)\n",
    "y_ax = stats.chi2.pdf(x_ax, df=20) # for 3 degrees of freedom\n",
    "sns.relplot(x=x_ax, y = y_ax, kind='line');"
   ]
  },
  {
   "cell_type": "code",
   "execution_count": 6,
   "metadata": {},
   "outputs": [
    {
     "data": {
      "text/plain": [
       "69.03125000000001"
      ]
     },
     "execution_count": 6,
     "metadata": {},
     "output_type": "execute_result"
    }
   ],
   "source": [
    "Chi_sq_cal = (51-1)*(2.35**2)/ (2**2)\n",
    "Chi_sq_cal"
   ]
  },
  {
   "cell_type": "code",
   "execution_count": 7,
   "metadata": {
    "id": "CEnvghGaiaCy",
    "outputId": "100e179a-f28a-444a-a7d7-b0af6c0d625d"
   },
   "outputs": [
    {
     "data": {
      "text/plain": [
       "63.167121005726315"
      ]
     },
     "execution_count": 7,
     "metadata": {},
     "output_type": "execute_result"
    }
   ],
   "source": [
    "# Chi Square Critical\n",
    "# 10% area on the right for df=50 at chi-sqr\n",
    "stats.chi2.isf(0.1, 50)"
   ]
  },
  {
   "cell_type": "code",
   "execution_count": null,
   "metadata": {},
   "outputs": [],
   "source": [
    "Chi_sq_cal = (21-1)*(2.05**2)/ (2**2)\n",
    "Chi_sq_cal"
   ]
  },
  {
   "cell_type": "code",
   "execution_count": null,
   "metadata": {},
   "outputs": [],
   "source": [
    "stats.chi2.isf(0.10, 20)"
   ]
  },
  {
   "cell_type": "code",
   "execution_count": 8,
   "metadata": {},
   "outputs": [
    {
     "name": "stdout",
     "output_type": "stream",
     "text": [
      "reject\n"
     ]
    }
   ],
   "source": [
    "### test statisitcs  >  critical value\n",
    "if  69.031 > 63.167:\n",
    "    print(\"reject\")\n",
    "else:\n",
    "    print(\"Accept\")"
   ]
  },
  {
   "cell_type": "markdown",
   "metadata": {},
   "source": [
    "#### Conclusion: Reject the Null Hypothesis"
   ]
  },
  {
   "cell_type": "markdown",
   "metadata": {},
   "source": [
    "### End of Section 7"
   ]
  }
 ],
 "metadata": {
  "colab": {
   "name": "6.ipynb",
   "provenance": []
  },
  "kernelspec": {
   "display_name": "Python 3 (ipykernel)",
   "language": "python",
   "name": "python3"
  },
  "language_info": {
   "codemirror_mode": {
    "name": "ipython",
    "version": 3
   },
   "file_extension": ".py",
   "mimetype": "text/x-python",
   "name": "python",
   "nbconvert_exporter": "python",
   "pygments_lexer": "ipython3",
   "version": "3.9.7"
  }
 },
 "nbformat": 4,
 "nbformat_minor": 1
}

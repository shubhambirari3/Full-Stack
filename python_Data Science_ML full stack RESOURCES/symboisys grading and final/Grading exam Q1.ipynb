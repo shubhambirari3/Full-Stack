{
 "cells": [
  {
   "cell_type": "markdown",
   "id": "fbf7bc86",
   "metadata": {},
   "source": [
    "### shubham birari (ml16)"
   ]
  },
  {
   "cell_type": "markdown",
   "id": "1fc06c6c",
   "metadata": {},
   "source": [
    "### Q1 \n",
    "\n",
    "Create a module based on given logic:\n",
    "\n",
    "functions to accept menu details from customer\n",
    "\n",
    "function to generate bill for the customer\n",
    "\n",
    "function to download bill "
   ]
  },
  {
   "cell_type": "markdown",
   "id": "e6cfa8c9",
   "metadata": {},
   "source": [
    "### # Function to accept menu details from customer"
   ]
  },
  {
   "cell_type": "code",
   "execution_count": 40,
   "id": "cf3d20a2",
   "metadata": {},
   "outputs": [],
   "source": [
    "\n",
    "def get_menu_details():\n",
    "    menu = {}\n",
    "    while True:\n",
    "        item = input(\"Enter item name or 'done' to finish: \")\n",
    "        if item.lower() == 'done':\n",
    "            break\n",
    "        price = float(input(\"Enter item price: \"))\n",
    "        menu[item] = price\n",
    "    return menu"
   ]
  },
  {
   "cell_type": "markdown",
   "id": "2ed363e3",
   "metadata": {},
   "source": [
    "###  Function to generate bill for customer and download bill"
   ]
  },
  {
   "cell_type": "code",
   "execution_count": 41,
   "id": "507607e6",
   "metadata": {},
   "outputs": [
    {
     "name": "stdout",
     "output_type": "stream",
     "text": [
      "Enter item name or 'done' to finish: pizza \n",
      "Enter item price: 99\n",
      "Enter item name or 'done' to finish: dosa\n",
      "Enter item price: 40\n",
      "Enter item name or 'done' to finish: dabeli\n",
      "Enter item price: 30\n",
      "Enter item name or 'done' to finish: done\n",
      "Menu:\n",
      "pizza : Rs.99.00\n",
      "dosa: Rs.40.00\n",
      "dabeli: Rs.30.00\n",
      "Total bill: Rs.169.00\n",
      "Bill saved to bill.txt\n"
     ]
    }
   ],
   "source": [
    "# Get the menu details from the user\n",
    "menu = get_menu_details()\n",
    "\n",
    "# Calculate the total bill\n",
    "total = sum(menu.values())\n",
    "\n",
    "# Print the bill to the console\n",
    "print(\"Menu:\")\n",
    "for item, price in menu.items():\n",
    "    print(f\"{item}: Rs.{price:.2f}\")\n",
    "print(f\"Total bill: Rs.{total:.2f}\")\n",
    "\n",
    "# Save the bill to a file\n",
    "filename = \"bill.txt\"\n",
    "with open(filename, \"w\") as f:\n",
    "    f.write(\"Menu:\\n\")\n",
    "    for item, price in menu.items():\n",
    "        f.write(f\"{item}: Rs.{price:.2f}\\n\")\n",
    "    f.write(f\"Total bill: Rs.{total:.2f}\\n\")\n",
    "print(f\"Bill saved to {filename}\")\n"
   ]
  },
  {
   "cell_type": "code",
   "execution_count": 37,
   "id": "619169f7",
   "metadata": {},
   "outputs": [
    {
     "name": "stdout",
     "output_type": "stream",
     "text": [
      " Volume in drive C is Windows\n",
      " Volume Serial Number is 7293-F0DC\n",
      "\n",
      " Directory of C:\\Users\\shubh\\symbiosis ml16\n",
      "\n",
      "26-04-2023  10:58 AM    <DIR>          .\n",
      "19-03-2023  02:51 PM    <DIR>          ..\n",
      "26-04-2023  09:37 AM    <DIR>          .ipynb_checkpoints\n",
      "25-04-2023  06:25 PM    <DIR>          assignment\n",
      "26-04-2023  09:47 AM    <DIR>          Basic Python Notes-20230425\n",
      "26-04-2023  10:58 AM                65 bill.txt\n",
      "19-03-2023  02:51 PM    <DIR>          datasets\n",
      "19-03-2023  02:51 PM    <DIR>          Graphs-20230310\n",
      "20-04-2023  02:08 PM    <DIR>          ML\n",
      "19-03-2023  02:51 PM    <DIR>          numpy\n",
      "19-03-2023  02:51 PM    <DIR>          pandas\n",
      "19-03-2023  02:51 PM    <DIR>          statistics\n",
      "26-04-2023  10:57 AM             9,668 Untitled.ipynb\n",
      "               2 File(s)          9,733 bytes\n",
      "              11 Dir(s)  63,025,770,496 bytes free\n"
     ]
    }
   ],
   "source": [
    "ls"
   ]
  },
  {
   "cell_type": "code",
   "execution_count": null,
   "id": "4f2ee890",
   "metadata": {},
   "outputs": [],
   "source": [
    "# the file will save in  Directory of this notebook"
   ]
  }
 ],
 "metadata": {
  "kernelspec": {
   "display_name": "Python 3 (ipykernel)",
   "language": "python",
   "name": "python3"
  },
  "language_info": {
   "codemirror_mode": {
    "name": "ipython",
    "version": 3
   },
   "file_extension": ".py",
   "mimetype": "text/x-python",
   "name": "python",
   "nbconvert_exporter": "python",
   "pygments_lexer": "ipython3",
   "version": "3.9.7"
  }
 },
 "nbformat": 4,
 "nbformat_minor": 5
}

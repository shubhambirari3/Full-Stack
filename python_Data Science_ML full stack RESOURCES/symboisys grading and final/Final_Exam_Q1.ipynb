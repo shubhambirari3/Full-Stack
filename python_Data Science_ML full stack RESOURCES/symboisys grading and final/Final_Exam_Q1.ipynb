{
 "cells": [
  {
   "cell_type": "code",
   "execution_count": 9,
   "id": "9b06809b",
   "metadata": {},
   "outputs": [],
   "source": [
    "import numpy as np\n",
    "import pandas as pd"
   ]
  },
  {
   "cell_type": "code",
   "execution_count": 12,
   "id": "73766335",
   "metadata": {},
   "outputs": [],
   "source": [
    "# A)\n",
    "user_usage = pd.read_csv(r'user_usage.csv')\n",
    "user_device = pd.read_csv(r'user_device.csv')"
   ]
  },
  {
   "cell_type": "code",
   "execution_count": 16,
   "id": "94b3af8a",
   "metadata": {},
   "outputs": [
    {
     "data": {
      "text/html": [
       "<div>\n",
       "<style scoped>\n",
       "    .dataframe tbody tr th:only-of-type {\n",
       "        vertical-align: middle;\n",
       "    }\n",
       "\n",
       "    .dataframe tbody tr th {\n",
       "        vertical-align: top;\n",
       "    }\n",
       "\n",
       "    .dataframe thead th {\n",
       "        text-align: right;\n",
       "    }\n",
       "</style>\n",
       "<table border=\"1\" class=\"dataframe\">\n",
       "  <thead>\n",
       "    <tr style=\"text-align: right;\">\n",
       "      <th></th>\n",
       "      <th>outgoing_mins_per_month</th>\n",
       "      <th>outgoing_sms_per_month</th>\n",
       "      <th>monthly_mb</th>\n",
       "      <th>use_id</th>\n",
       "    </tr>\n",
       "  </thead>\n",
       "  <tbody>\n",
       "    <tr>\n",
       "      <th>0</th>\n",
       "      <td>21.97</td>\n",
       "      <td>4.82</td>\n",
       "      <td>1557.33</td>\n",
       "      <td>22787</td>\n",
       "    </tr>\n",
       "    <tr>\n",
       "      <th>1</th>\n",
       "      <td>1710.08</td>\n",
       "      <td>136.88</td>\n",
       "      <td>7267.55</td>\n",
       "      <td>22788</td>\n",
       "    </tr>\n",
       "    <tr>\n",
       "      <th>2</th>\n",
       "      <td>1710.08</td>\n",
       "      <td>136.88</td>\n",
       "      <td>7267.55</td>\n",
       "      <td>22789</td>\n",
       "    </tr>\n",
       "    <tr>\n",
       "      <th>3</th>\n",
       "      <td>94.46</td>\n",
       "      <td>35.17</td>\n",
       "      <td>519.12</td>\n",
       "      <td>22790</td>\n",
       "    </tr>\n",
       "    <tr>\n",
       "      <th>4</th>\n",
       "      <td>71.59</td>\n",
       "      <td>79.26</td>\n",
       "      <td>1557.33</td>\n",
       "      <td>22792</td>\n",
       "    </tr>\n",
       "    <tr>\n",
       "      <th>...</th>\n",
       "      <td>...</td>\n",
       "      <td>...</td>\n",
       "      <td>...</td>\n",
       "      <td>...</td>\n",
       "    </tr>\n",
       "    <tr>\n",
       "      <th>235</th>\n",
       "      <td>260.66</td>\n",
       "      <td>68.44</td>\n",
       "      <td>896.96</td>\n",
       "      <td>25008</td>\n",
       "    </tr>\n",
       "    <tr>\n",
       "      <th>236</th>\n",
       "      <td>97.12</td>\n",
       "      <td>36.50</td>\n",
       "      <td>2815.00</td>\n",
       "      <td>25040</td>\n",
       "    </tr>\n",
       "    <tr>\n",
       "      <th>237</th>\n",
       "      <td>355.93</td>\n",
       "      <td>12.37</td>\n",
       "      <td>6828.09</td>\n",
       "      <td>25046</td>\n",
       "    </tr>\n",
       "    <tr>\n",
       "      <th>238</th>\n",
       "      <td>632.06</td>\n",
       "      <td>120.46</td>\n",
       "      <td>1453.16</td>\n",
       "      <td>25058</td>\n",
       "    </tr>\n",
       "    <tr>\n",
       "      <th>239</th>\n",
       "      <td>488.70</td>\n",
       "      <td>906.92</td>\n",
       "      <td>3089.85</td>\n",
       "      <td>25220</td>\n",
       "    </tr>\n",
       "  </tbody>\n",
       "</table>\n",
       "<p>240 rows × 4 columns</p>\n",
       "</div>"
      ],
      "text/plain": [
       "     outgoing_mins_per_month  outgoing_sms_per_month  monthly_mb  use_id\n",
       "0                      21.97                    4.82     1557.33   22787\n",
       "1                    1710.08                  136.88     7267.55   22788\n",
       "2                    1710.08                  136.88     7267.55   22789\n",
       "3                      94.46                   35.17      519.12   22790\n",
       "4                      71.59                   79.26     1557.33   22792\n",
       "..                       ...                     ...         ...     ...\n",
       "235                   260.66                   68.44      896.96   25008\n",
       "236                    97.12                   36.50     2815.00   25040\n",
       "237                   355.93                   12.37     6828.09   25046\n",
       "238                   632.06                  120.46     1453.16   25058\n",
       "239                   488.70                  906.92     3089.85   25220\n",
       "\n",
       "[240 rows x 4 columns]"
      ]
     },
     "execution_count": 16,
     "metadata": {},
     "output_type": "execute_result"
    }
   ],
   "source": [
    "user_usage"
   ]
  },
  {
   "cell_type": "code",
   "execution_count": 17,
   "id": "65615767",
   "metadata": {},
   "outputs": [
    {
     "data": {
      "text/html": [
       "<div>\n",
       "<style scoped>\n",
       "    .dataframe tbody tr th:only-of-type {\n",
       "        vertical-align: middle;\n",
       "    }\n",
       "\n",
       "    .dataframe tbody tr th {\n",
       "        vertical-align: top;\n",
       "    }\n",
       "\n",
       "    .dataframe thead th {\n",
       "        text-align: right;\n",
       "    }\n",
       "</style>\n",
       "<table border=\"1\" class=\"dataframe\">\n",
       "  <thead>\n",
       "    <tr style=\"text-align: right;\">\n",
       "      <th></th>\n",
       "      <th>use_id</th>\n",
       "      <th>user_id</th>\n",
       "      <th>platform</th>\n",
       "      <th>platform_version</th>\n",
       "      <th>device</th>\n",
       "      <th>use_type_id</th>\n",
       "    </tr>\n",
       "  </thead>\n",
       "  <tbody>\n",
       "    <tr>\n",
       "      <th>0</th>\n",
       "      <td>22782</td>\n",
       "      <td>26980</td>\n",
       "      <td>ios</td>\n",
       "      <td>10.2</td>\n",
       "      <td>iPhone7,2</td>\n",
       "      <td>2</td>\n",
       "    </tr>\n",
       "    <tr>\n",
       "      <th>1</th>\n",
       "      <td>22783</td>\n",
       "      <td>29628</td>\n",
       "      <td>android</td>\n",
       "      <td>6.0</td>\n",
       "      <td>Nexus 5</td>\n",
       "      <td>3</td>\n",
       "    </tr>\n",
       "    <tr>\n",
       "      <th>2</th>\n",
       "      <td>22784</td>\n",
       "      <td>28473</td>\n",
       "      <td>android</td>\n",
       "      <td>5.1</td>\n",
       "      <td>SM-G903F</td>\n",
       "      <td>1</td>\n",
       "    </tr>\n",
       "    <tr>\n",
       "      <th>3</th>\n",
       "      <td>22785</td>\n",
       "      <td>15200</td>\n",
       "      <td>ios</td>\n",
       "      <td>10.2</td>\n",
       "      <td>iPhone7,2</td>\n",
       "      <td>3</td>\n",
       "    </tr>\n",
       "    <tr>\n",
       "      <th>4</th>\n",
       "      <td>22786</td>\n",
       "      <td>28239</td>\n",
       "      <td>android</td>\n",
       "      <td>6.0</td>\n",
       "      <td>ONE E1003</td>\n",
       "      <td>1</td>\n",
       "    </tr>\n",
       "    <tr>\n",
       "      <th>...</th>\n",
       "      <td>...</td>\n",
       "      <td>...</td>\n",
       "      <td>...</td>\n",
       "      <td>...</td>\n",
       "      <td>...</td>\n",
       "      <td>...</td>\n",
       "    </tr>\n",
       "    <tr>\n",
       "      <th>267</th>\n",
       "      <td>23049</td>\n",
       "      <td>29725</td>\n",
       "      <td>android</td>\n",
       "      <td>6.0</td>\n",
       "      <td>SM-G900F</td>\n",
       "      <td>1</td>\n",
       "    </tr>\n",
       "    <tr>\n",
       "      <th>268</th>\n",
       "      <td>23050</td>\n",
       "      <td>29726</td>\n",
       "      <td>ios</td>\n",
       "      <td>10.2</td>\n",
       "      <td>iPhone7,2</td>\n",
       "      <td>3</td>\n",
       "    </tr>\n",
       "    <tr>\n",
       "      <th>269</th>\n",
       "      <td>23051</td>\n",
       "      <td>29726</td>\n",
       "      <td>ios</td>\n",
       "      <td>10.2</td>\n",
       "      <td>iPhone7,2</td>\n",
       "      <td>3</td>\n",
       "    </tr>\n",
       "    <tr>\n",
       "      <th>270</th>\n",
       "      <td>23052</td>\n",
       "      <td>29727</td>\n",
       "      <td>ios</td>\n",
       "      <td>10.1</td>\n",
       "      <td>iPhone8,4</td>\n",
       "      <td>3</td>\n",
       "    </tr>\n",
       "    <tr>\n",
       "      <th>271</th>\n",
       "      <td>23053</td>\n",
       "      <td>20257</td>\n",
       "      <td>android</td>\n",
       "      <td>5.1</td>\n",
       "      <td>Vodafone Smart ultra 6</td>\n",
       "      <td>1</td>\n",
       "    </tr>\n",
       "  </tbody>\n",
       "</table>\n",
       "<p>272 rows × 6 columns</p>\n",
       "</div>"
      ],
      "text/plain": [
       "     use_id  user_id platform  platform_version                  device  \\\n",
       "0     22782    26980      ios              10.2               iPhone7,2   \n",
       "1     22783    29628  android               6.0                 Nexus 5   \n",
       "2     22784    28473  android               5.1                SM-G903F   \n",
       "3     22785    15200      ios              10.2               iPhone7,2   \n",
       "4     22786    28239  android               6.0               ONE E1003   \n",
       "..      ...      ...      ...               ...                     ...   \n",
       "267   23049    29725  android               6.0                SM-G900F   \n",
       "268   23050    29726      ios              10.2               iPhone7,2   \n",
       "269   23051    29726      ios              10.2               iPhone7,2   \n",
       "270   23052    29727      ios              10.1               iPhone8,4   \n",
       "271   23053    20257  android               5.1  Vodafone Smart ultra 6   \n",
       "\n",
       "     use_type_id  \n",
       "0              2  \n",
       "1              3  \n",
       "2              1  \n",
       "3              3  \n",
       "4              1  \n",
       "..           ...  \n",
       "267            1  \n",
       "268            3  \n",
       "269            3  \n",
       "270            3  \n",
       "271            1  \n",
       "\n",
       "[272 rows x 6 columns]"
      ]
     },
     "execution_count": 17,
     "metadata": {},
     "output_type": "execute_result"
    }
   ],
   "source": [
    "user_device"
   ]
  },
  {
   "cell_type": "code",
   "execution_count": 13,
   "id": "d7501135",
   "metadata": {},
   "outputs": [
    {
     "name": "stdout",
     "output_type": "stream",
     "text": [
      "outgoing_mins_per_month    0\n",
      "outgoing_sms_per_month     0\n",
      "monthly_mb                 0\n",
      "use_id                     0\n",
      "dtype: int64\n",
      "use_id              0\n",
      "user_id             0\n",
      "platform            0\n",
      "platform_version    0\n",
      "device              0\n",
      "use_type_id         0\n",
      "dtype: int64\n"
     ]
    }
   ],
   "source": [
    "print(user_usage.isna().sum())\n",
    "print(user_device.isna().sum())"
   ]
  },
  {
   "cell_type": "code",
   "execution_count": 14,
   "id": "12725cff",
   "metadata": {},
   "outputs": [
    {
     "name": "stdout",
     "output_type": "stream",
     "text": [
      "0\n",
      "0\n"
     ]
    }
   ],
   "source": [
    "print(user_usage.duplicated().sum())\n",
    "print(user_device.duplicated().sum())"
   ]
  },
  {
   "cell_type": "code",
   "execution_count": 15,
   "id": "39345dcc",
   "metadata": {},
   "outputs": [
    {
     "name": "stdout",
     "output_type": "stream",
     "text": [
      "outgoing_mins_per_month    float64\n",
      "outgoing_sms_per_month     float64\n",
      "monthly_mb                 float64\n",
      "use_id                       int64\n",
      "dtype: object\n",
      "use_id                int64\n",
      "user_id               int64\n",
      "platform             object\n",
      "platform_version    float64\n",
      "device               object\n",
      "use_type_id           int64\n",
      "dtype: object\n"
     ]
    }
   ],
   "source": [
    "print(user_usage.dtypes)\n",
    "print(user_device.dtypes)"
   ]
  },
  {
   "cell_type": "code",
   "execution_count": 21,
   "id": "3d89c5f4",
   "metadata": {},
   "outputs": [],
   "source": [
    "merged_df = pd.merge(user_usage, user_device)"
   ]
  },
  {
   "cell_type": "code",
   "execution_count": 22,
   "id": "4bc36beb",
   "metadata": {},
   "outputs": [
    {
     "data": {
      "text/html": [
       "<div>\n",
       "<style scoped>\n",
       "    .dataframe tbody tr th:only-of-type {\n",
       "        vertical-align: middle;\n",
       "    }\n",
       "\n",
       "    .dataframe tbody tr th {\n",
       "        vertical-align: top;\n",
       "    }\n",
       "\n",
       "    .dataframe thead th {\n",
       "        text-align: right;\n",
       "    }\n",
       "</style>\n",
       "<table border=\"1\" class=\"dataframe\">\n",
       "  <thead>\n",
       "    <tr style=\"text-align: right;\">\n",
       "      <th></th>\n",
       "      <th>outgoing_mins_per_month</th>\n",
       "      <th>outgoing_sms_per_month</th>\n",
       "      <th>monthly_mb</th>\n",
       "      <th>use_id</th>\n",
       "      <th>user_id</th>\n",
       "      <th>platform</th>\n",
       "      <th>platform_version</th>\n",
       "      <th>device</th>\n",
       "      <th>use_type_id</th>\n",
       "    </tr>\n",
       "  </thead>\n",
       "  <tbody>\n",
       "    <tr>\n",
       "      <th>0</th>\n",
       "      <td>21.97</td>\n",
       "      <td>4.82</td>\n",
       "      <td>1557.33</td>\n",
       "      <td>22787</td>\n",
       "      <td>12921</td>\n",
       "      <td>android</td>\n",
       "      <td>4.3</td>\n",
       "      <td>GT-I9505</td>\n",
       "      <td>1</td>\n",
       "    </tr>\n",
       "    <tr>\n",
       "      <th>1</th>\n",
       "      <td>1710.08</td>\n",
       "      <td>136.88</td>\n",
       "      <td>7267.55</td>\n",
       "      <td>22788</td>\n",
       "      <td>28714</td>\n",
       "      <td>android</td>\n",
       "      <td>6.0</td>\n",
       "      <td>SM-G930F</td>\n",
       "      <td>1</td>\n",
       "    </tr>\n",
       "    <tr>\n",
       "      <th>2</th>\n",
       "      <td>1710.08</td>\n",
       "      <td>136.88</td>\n",
       "      <td>7267.55</td>\n",
       "      <td>22789</td>\n",
       "      <td>28714</td>\n",
       "      <td>android</td>\n",
       "      <td>6.0</td>\n",
       "      <td>SM-G930F</td>\n",
       "      <td>1</td>\n",
       "    </tr>\n",
       "    <tr>\n",
       "      <th>3</th>\n",
       "      <td>94.46</td>\n",
       "      <td>35.17</td>\n",
       "      <td>519.12</td>\n",
       "      <td>22790</td>\n",
       "      <td>29592</td>\n",
       "      <td>android</td>\n",
       "      <td>5.1</td>\n",
       "      <td>D2303</td>\n",
       "      <td>1</td>\n",
       "    </tr>\n",
       "    <tr>\n",
       "      <th>4</th>\n",
       "      <td>71.59</td>\n",
       "      <td>79.26</td>\n",
       "      <td>1557.33</td>\n",
       "      <td>22792</td>\n",
       "      <td>28217</td>\n",
       "      <td>android</td>\n",
       "      <td>5.1</td>\n",
       "      <td>SM-G361F</td>\n",
       "      <td>1</td>\n",
       "    </tr>\n",
       "    <tr>\n",
       "      <th>...</th>\n",
       "      <td>...</td>\n",
       "      <td>...</td>\n",
       "      <td>...</td>\n",
       "      <td>...</td>\n",
       "      <td>...</td>\n",
       "      <td>...</td>\n",
       "      <td>...</td>\n",
       "      <td>...</td>\n",
       "      <td>...</td>\n",
       "    </tr>\n",
       "    <tr>\n",
       "      <th>154</th>\n",
       "      <td>198.59</td>\n",
       "      <td>90.49</td>\n",
       "      <td>5191.12</td>\n",
       "      <td>23043</td>\n",
       "      <td>28953</td>\n",
       "      <td>android</td>\n",
       "      <td>6.0</td>\n",
       "      <td>SM-G900F</td>\n",
       "      <td>1</td>\n",
       "    </tr>\n",
       "    <tr>\n",
       "      <th>155</th>\n",
       "      <td>198.59</td>\n",
       "      <td>90.49</td>\n",
       "      <td>3114.67</td>\n",
       "      <td>23044</td>\n",
       "      <td>28953</td>\n",
       "      <td>android</td>\n",
       "      <td>6.0</td>\n",
       "      <td>SM-G900F</td>\n",
       "      <td>1</td>\n",
       "    </tr>\n",
       "    <tr>\n",
       "      <th>156</th>\n",
       "      <td>106.65</td>\n",
       "      <td>82.13</td>\n",
       "      <td>5191.12</td>\n",
       "      <td>23046</td>\n",
       "      <td>29454</td>\n",
       "      <td>android</td>\n",
       "      <td>6.0</td>\n",
       "      <td>Moto G (4)</td>\n",
       "      <td>1</td>\n",
       "    </tr>\n",
       "    <tr>\n",
       "      <th>157</th>\n",
       "      <td>344.53</td>\n",
       "      <td>20.53</td>\n",
       "      <td>519.12</td>\n",
       "      <td>23049</td>\n",
       "      <td>29725</td>\n",
       "      <td>android</td>\n",
       "      <td>6.0</td>\n",
       "      <td>SM-G900F</td>\n",
       "      <td>1</td>\n",
       "    </tr>\n",
       "    <tr>\n",
       "      <th>158</th>\n",
       "      <td>42.75</td>\n",
       "      <td>46.83</td>\n",
       "      <td>5191.12</td>\n",
       "      <td>23053</td>\n",
       "      <td>20257</td>\n",
       "      <td>android</td>\n",
       "      <td>5.1</td>\n",
       "      <td>Vodafone Smart ultra 6</td>\n",
       "      <td>1</td>\n",
       "    </tr>\n",
       "  </tbody>\n",
       "</table>\n",
       "<p>159 rows × 9 columns</p>\n",
       "</div>"
      ],
      "text/plain": [
       "     outgoing_mins_per_month  outgoing_sms_per_month  monthly_mb  use_id  \\\n",
       "0                      21.97                    4.82     1557.33   22787   \n",
       "1                    1710.08                  136.88     7267.55   22788   \n",
       "2                    1710.08                  136.88     7267.55   22789   \n",
       "3                      94.46                   35.17      519.12   22790   \n",
       "4                      71.59                   79.26     1557.33   22792   \n",
       "..                       ...                     ...         ...     ...   \n",
       "154                   198.59                   90.49     5191.12   23043   \n",
       "155                   198.59                   90.49     3114.67   23044   \n",
       "156                   106.65                   82.13     5191.12   23046   \n",
       "157                   344.53                   20.53      519.12   23049   \n",
       "158                    42.75                   46.83     5191.12   23053   \n",
       "\n",
       "     user_id platform  platform_version                  device  use_type_id  \n",
       "0      12921  android               4.3                GT-I9505            1  \n",
       "1      28714  android               6.0                SM-G930F            1  \n",
       "2      28714  android               6.0                SM-G930F            1  \n",
       "3      29592  android               5.1                   D2303            1  \n",
       "4      28217  android               5.1                SM-G361F            1  \n",
       "..       ...      ...               ...                     ...          ...  \n",
       "154    28953  android               6.0                SM-G900F            1  \n",
       "155    28953  android               6.0                SM-G900F            1  \n",
       "156    29454  android               6.0              Moto G (4)            1  \n",
       "157    29725  android               6.0                SM-G900F            1  \n",
       "158    20257  android               5.1  Vodafone Smart ultra 6            1  \n",
       "\n",
       "[159 rows x 9 columns]"
      ]
     },
     "execution_count": 22,
     "metadata": {},
     "output_type": "execute_result"
    }
   ],
   "source": [
    "merged_df"
   ]
  },
  {
   "cell_type": "code",
   "execution_count": 23,
   "id": "efa7fb7f",
   "metadata": {},
   "outputs": [
    {
     "name": "stdout",
     "output_type": "stream",
     "text": [
      "outgoing_mins_per_month    0\n",
      "outgoing_sms_per_month     0\n",
      "monthly_mb                 0\n",
      "use_id                     0\n",
      "user_id                    0\n",
      "platform                   0\n",
      "platform_version           0\n",
      "device                     0\n",
      "use_type_id                0\n",
      "dtype: int64\n"
     ]
    }
   ],
   "source": [
    "print(merged_df.isnull().sum())"
   ]
  },
  {
   "cell_type": "code",
   "execution_count": 24,
   "id": "56a7d462",
   "metadata": {},
   "outputs": [
    {
     "name": "stdout",
     "output_type": "stream",
     "text": [
      "0\n"
     ]
    }
   ],
   "source": [
    "print(merged_df.duplicated().sum())"
   ]
  },
  {
   "cell_type": "code",
   "execution_count": 25,
   "id": "735b9be1",
   "metadata": {},
   "outputs": [
    {
     "name": "stdout",
     "output_type": "stream",
     "text": [
      "       outgoing_mins_per_month  outgoing_sms_per_month    monthly_mb  \\\n",
      "count               159.000000              159.000000    159.000000   \n",
      "mean                203.331509               87.978742   4180.378616   \n",
      "std                 248.660581               92.386434   5216.463795   \n",
      "min                   0.500000                0.250000      0.000000   \n",
      "25%                  70.070000               22.855000   1557.330000   \n",
      "50%                 137.060000               62.850000   2076.450000   \n",
      "75%                 241.035000              119.675000   5191.120000   \n",
      "max                1710.080000              540.600000  31146.670000   \n",
      "\n",
      "             use_id       user_id  platform_version  use_type_id  \n",
      "count    159.000000    159.000000        159.000000   159.000000  \n",
      "mean   22922.327044  25960.918239          5.554717     1.012579  \n",
      "std       76.511974   6275.640431          0.828656     0.111799  \n",
      "min    22787.000000   2873.000000          4.100000     1.000000  \n",
      "25%    22861.500000  24683.500000          5.000000     1.000000  \n",
      "50%    22931.000000  29366.000000          6.000000     1.000000  \n",
      "75%    22986.500000  29673.000000          6.000000     1.000000  \n",
      "max    23053.000000  29725.000000         10.100000     2.000000  \n"
     ]
    }
   ],
   "source": [
    "print(merged_df.describe())"
   ]
  },
  {
   "cell_type": "code",
   "execution_count": 26,
   "id": "7c527433",
   "metadata": {},
   "outputs": [
    {
     "name": "stdout",
     "output_type": "stream",
     "text": [
      "outgoing_mins_per_month    float64\n",
      "outgoing_sms_per_month     float64\n",
      "monthly_mb                 float64\n",
      "use_id                       int64\n",
      "user_id                      int64\n",
      "platform                    object\n",
      "platform_version           float64\n",
      "device                      object\n",
      "use_type_id                  int64\n",
      "dtype: object\n"
     ]
    }
   ],
   "source": [
    "print(merged_df.dtypes)"
   ]
  },
  {
   "cell_type": "code",
   "execution_count": 27,
   "id": "412e7b4f",
   "metadata": {},
   "outputs": [
    {
     "name": "stdout",
     "output_type": "stream",
     "text": [
      "       outgoing_mins_per_month  outgoing_sms_per_month    monthly_mb  \\\n",
      "count               159.000000              159.000000    159.000000   \n",
      "mean                203.331509               87.978742   4180.378616   \n",
      "std                 248.660581               92.386434   5216.463795   \n",
      "min                   0.500000                0.250000      0.000000   \n",
      "25%                  70.070000               22.855000   1557.330000   \n",
      "50%                 137.060000               62.850000   2076.450000   \n",
      "75%                 241.035000              119.675000   5191.120000   \n",
      "max                1710.080000              540.600000  31146.670000   \n",
      "\n",
      "             use_id       user_id  platform_version  use_type_id  \n",
      "count    159.000000    159.000000        159.000000   159.000000  \n",
      "mean   22922.327044  25960.918239          5.554717     1.012579  \n",
      "std       76.511974   6275.640431          0.828656     0.111799  \n",
      "min    22787.000000   2873.000000          4.100000     1.000000  \n",
      "25%    22861.500000  24683.500000          5.000000     1.000000  \n",
      "50%    22931.000000  29366.000000          6.000000     1.000000  \n",
      "75%    22986.500000  29673.000000          6.000000     1.000000  \n",
      "max    23053.000000  29725.000000         10.100000     2.000000  \n"
     ]
    }
   ],
   "source": [
    "# B)\n",
    "print(merged_df.describe())"
   ]
  },
  {
   "cell_type": "code",
   "execution_count": 32,
   "id": "a721009b",
   "metadata": {},
   "outputs": [
    {
     "data": {
      "image/png": "[encoded data removed]",
      "text/plain": [
       "<Figure size 432x288 with 1 Axes>"
      ]
     },
     "metadata": {
      "needs_background": "light"
     },
     "output_type": "display_data"
    }
   ],
   "source": [
    "import matplotlib.pyplot as plt\n",
    "\n",
    "merged_df['outgoing_sms_per_month'].hist(bins=20)\n",
    "plt.show()"
   ]
  },
  {
   "cell_type": "code",
   "execution_count": 35,
   "id": "f957fe93",
   "metadata": {},
   "outputs": [
    {
     "data": {
      "image/png": "[encoded data removed]",
      "text/plain": [
       "<Figure size 432x288 with 1 Axes>"
      ]
     },
     "metadata": {
      "needs_background": "light"
     },
     "output_type": "display_data"
    }
   ],
   "source": [
    "merged_df.plot.scatter(x='use_id', y='outgoing_sms_per_month')\n",
    "plt.show()"
   ]
  },
  {
   "cell_type": "code",
   "execution_count": null,
   "id": "fc06dc15",
   "metadata": {},
   "outputs": [],
   "source": []
  }
 ],
 "metadata": {
  "kernelspec": {
   "display_name": "Python 3 (ipykernel)",
   "language": "python",
   "name": "python3"
  },
  "language_info": {
   "codemirror_mode": {
    "name": "ipython",
    "version": 3
   },
   "file_extension": ".py",
   "mimetype": "text/x-python",
   "name": "python",
   "nbconvert_exporter": "python",
   "pygments_lexer": "ipython3",
   "version": "3.9.7"
  }
 },
 "nbformat": 4,
 "nbformat_minor": 5
}

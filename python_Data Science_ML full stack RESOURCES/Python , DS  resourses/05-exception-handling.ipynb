{
 "cells": [
  {
   "cell_type": "code",
   "execution_count": 1,
   "metadata": {},
   "outputs": [],
   "source": [
    "import sys\n",
    "import platform\n",
    "import operator\n",
    "from math import *\n",
    "import string"
   ]
  },
  {
   "cell_type": "code",
   "execution_count": null,
   "metadata": {
    "collapsed": true
   },
   "outputs": [],
   "source": [
    "# An exception is an error that happens during execution of a program. \n",
    "# When that error occurs, Python generate an exception that can be handled, \n",
    "# which avoids your program to crash."
   ]
  },
  {
   "cell_type": "code",
   "execution_count": null,
   "metadata": {
    "collapsed": true
   },
   "outputs": [],
   "source": [
    "# Exception Errors\n",
    "\n",
    "# IOError\n",
    "# If the file cannot be opened.\n",
    "\n",
    "# ImportError\n",
    "# If python cannot find the module\n",
    "\n",
    "# ValueError\n",
    "# Raised when a built-in operation or function receives an argument that \n",
    "# has the right type but an inappropriate value\n",
    "\n",
    "# KeyboardInterrupt\n",
    "# Raised when the user hits the interrupt key (normally Control-C or Delete)\n",
    "\n",
    "# EOFError\n",
    "# Raised when one of the built-in functions (input() or raw_input()) hits \n",
    "# an end-of-file condition (EOF) without reading any data"
   ]
  },
  {
   "cell_type": "code",
   "execution_count": 9,
   "metadata": {},
   "outputs": [],
   "source": [
    "# The try and except Block: Handling Exceptions\n",
    "\n",
    "try:\n",
    "    pass\n",
    "except:\n",
    "    print(\"exception handling\")"
   ]
  },
  {
   "cell_type": "code",
   "execution_count": 1,
   "metadata": {},
   "outputs": [
    {
     "ename": "NameError",
     "evalue": "name 's' is not defined",
     "output_type": "error",
     "traceback": [
      "\u001b[1;31m---------------------------------------------------------------------------\u001b[0m",
      "\u001b[1;31mNameError\u001b[0m                                 Traceback (most recent call last)",
      "\u001b[1;32m<ipython-input-1-a0dac97f6246>\u001b[0m in \u001b[0;36m<module>\u001b[1;34m\u001b[0m\n\u001b[0;32m      1\u001b[0m \u001b[0ma\u001b[0m\u001b[1;33m=\u001b[0m\u001b[1;36m10\u001b[0m\u001b[1;33m\u001b[0m\u001b[1;33m\u001b[0m\u001b[0m\n\u001b[1;32m----> 2\u001b[1;33m \u001b[0mc\u001b[0m\u001b[1;33m=\u001b[0m\u001b[0ms\u001b[0m\u001b[1;33m+\u001b[0m\u001b[1;36m1\u001b[0m\u001b[1;33m\u001b[0m\u001b[1;33m\u001b[0m\u001b[0m\n\u001b[0m\u001b[0;32m      3\u001b[0m \u001b[0mc\u001b[0m\u001b[1;33m\u001b[0m\u001b[1;33m\u001b[0m\u001b[0m\n",
      "\u001b[1;31mNameError\u001b[0m: name 's' is not defined"
     ]
    }
   ],
   "source": [
    "a=10\n",
    "c=s+1\n",
    "c"
   ]
  },
  {
   "cell_type": "code",
   "execution_count": 7,
   "metadata": {},
   "outputs": [
    {
     "name": "stdout",
     "output_type": "stream",
     "text": [
      "Error\n"
     ]
    }
   ],
   "source": [
    "try :\n",
    "    c=s+1\n",
    "    print(c)\n",
    "except:\n",
    "    #s=10\n",
    "    #c=s+1\n",
    "    print(\"Error\")\n"
   ]
  },
  {
   "cell_type": "code",
   "execution_count": 5,
   "metadata": {},
   "outputs": [],
   "source": [
    "# How does it work?\n",
    "\n",
    "# The error handling is done through the use of exceptions that are caught \n",
    "# in try blocks and handled in except blocks. If an error is encountered, \n",
    "# a try block code execution is stopped and transferred down to the except \n",
    "# block. \n",
    "\n",
    "# In addition to using an except block after the try block, you can also \n",
    "# use the finally block. \n",
    "\n",
    "# The code in the finally block will be executed regardless of whether an \n",
    "# exception occurs."
   ]
  },
  {
   "cell_type": "code",
   "execution_count": null,
   "metadata": {
    "collapsed": true
   },
   "outputs": [],
   "source": [
    "# Ex 1"
   ]
  },
  {
   "cell_type": "code",
   "execution_count": 9,
   "metadata": {},
   "outputs": [
    {
     "name": "stdout",
     "output_type": "stream",
     "text": [
      "Enter a number between 1 - 10 w12\n",
      "you entered number w12 <class 'str'>\n"
     ]
    }
   ],
   "source": [
    "# This program works perfectly fine as long as the user enters a number, \n",
    "# but what happens if the user puts in something else (like a string)?\n",
    "\n",
    "# program throws us an error when we enter a string.\n",
    "\n",
    "number = input(\"Enter a number between 1 - 10 \")\n",
    "\n",
    "print (\"you entered number\", number, type(number))"
   ]
  },
  {
   "cell_type": "code",
   "execution_count": 11,
   "metadata": {},
   "outputs": [
    {
     "name": "stdout",
     "output_type": "stream",
     "text": [
      "Enter a number : q12\n"
     ]
    },
    {
     "ename": "ValueError",
     "evalue": "invalid literal for int() with base 10: 'q12'",
     "output_type": "error",
     "traceback": [
      "\u001b[1;31m---------------------------------------------------------------------------\u001b[0m",
      "\u001b[1;31mValueError\u001b[0m                                Traceback (most recent call last)",
      "\u001b[1;32m<ipython-input-11-40fa68031568>\u001b[0m in \u001b[0;36m<module>\u001b[1;34m\u001b[0m\n\u001b[1;32m----> 1\u001b[1;33m \u001b[0mnumber\u001b[0m \u001b[1;33m=\u001b[0m \u001b[0mint\u001b[0m\u001b[1;33m(\u001b[0m\u001b[0minput\u001b[0m\u001b[1;33m(\u001b[0m\u001b[1;34m\"Enter a number : \"\u001b[0m\u001b[1;33m)\u001b[0m\u001b[1;33m)\u001b[0m\u001b[1;33m\u001b[0m\u001b[1;33m\u001b[0m\u001b[0m\n\u001b[0m",
      "\u001b[1;31mValueError\u001b[0m: invalid literal for int() with base 10: 'q12'"
     ]
    }
   ],
   "source": [
    "number = int(input(\"Enter a number : \"))"
   ]
  },
  {
   "cell_type": "code",
   "execution_count": 5,
   "metadata": {},
   "outputs": [
    {
     "ename": "ValueError",
     "evalue": "invalid literal for int() with base 10: 'a12'",
     "output_type": "error",
     "traceback": [
      "\u001b[1;31m---------------------------------------------------------------------------\u001b[0m",
      "\u001b[1;31mValueError\u001b[0m                                Traceback (most recent call last)",
      "\u001b[1;32m<ipython-input-5-614aaa1f2054>\u001b[0m in \u001b[0;36m<module>\u001b[1;34m\u001b[0m\n\u001b[1;32m----> 1\u001b[1;33m \u001b[0mint\u001b[0m\u001b[1;33m(\u001b[0m\u001b[1;34m'a12'\u001b[0m\u001b[1;33m)\u001b[0m\u001b[1;33m\u001b[0m\u001b[1;33m\u001b[0m\u001b[0m\n\u001b[0m",
      "\u001b[1;31mValueError\u001b[0m: invalid literal for int() with base 10: 'a12'"
     ]
    }
   ],
   "source": [
    "int('a12')"
   ]
  },
  {
   "cell_type": "code",
   "execution_count": 7,
   "metadata": {},
   "outputs": [
    {
     "name": "stdout",
     "output_type": "stream",
     "text": [
      " enter numbera12\n"
     ]
    },
    {
     "ename": "ValueError",
     "evalue": "invalid literal for int() with base 10: 'a12'",
     "output_type": "error",
     "traceback": [
      "\u001b[1;31m---------------------------------------------------------------------------\u001b[0m",
      "\u001b[1;31mValueError\u001b[0m                                Traceback (most recent call last)",
      "\u001b[1;32m<ipython-input-7-93de6aae4c92>\u001b[0m in \u001b[0;36m<module>\u001b[1;34m\u001b[0m\n\u001b[1;32m----> 1\u001b[1;33m \u001b[0mnew_val\u001b[0m\u001b[1;33m=\u001b[0m \u001b[0mint\u001b[0m\u001b[1;33m(\u001b[0m\u001b[0minput\u001b[0m\u001b[1;33m(\u001b[0m\u001b[1;34m\" enter number\"\u001b[0m\u001b[1;33m)\u001b[0m\u001b[1;33m)\u001b[0m\u001b[1;33m\u001b[0m\u001b[1;33m\u001b[0m\u001b[0m\n\u001b[0m",
      "\u001b[1;31mValueError\u001b[0m: invalid literal for int() with base 10: 'a12'"
     ]
    }
   ],
   "source": [
    "new_val= int(input(\" enter number\"))"
   ]
  },
  {
   "cell_type": "code",
   "execution_count": 4,
   "metadata": {},
   "outputs": [
    {
     "data": {
      "text/plain": [
       "12"
      ]
     },
     "execution_count": 4,
     "metadata": {},
     "output_type": "execute_result"
    }
   ],
   "source": []
  },
  {
   "cell_type": "code",
   "execution_count": 3,
   "metadata": {},
   "outputs": [
    {
     "name": "stdout",
     "output_type": "stream",
     "text": [
      "Hello ...\n",
      "Enter a number : a\n",
      "Err.. numbers only\n"
     ]
    }
   ],
   "source": [
    "import sys\n",
    "\n",
    "print (\"Hello ...\")\n",
    "\n",
    "try:\n",
    "    number = int(input(\"Enter a number : \"))\n",
    "    print(\"you entered number\", number)\n",
    "except ValueError:\n",
    "    print (\"Err.. numbers only\")\n",
    "    #for i in number:\n",
    "        #if ascii(i) in [85,] :\n",
    "            #b= b.append(i)\n",
    "#    raise SystemExit\n",
    "#    sys.exit(0)\n",
    "\n"
   ]
  },
  {
   "cell_type": "code",
   "execution_count": 6,
   "metadata": {},
   "outputs": [
    {
     "ename": "ZeroDivisionError",
     "evalue": "division by zero",
     "output_type": "error",
     "traceback": [
      "\u001b[1;31m---------------------------------------------------------------------------\u001b[0m",
      "\u001b[1;31mZeroDivisionError\u001b[0m                         Traceback (most recent call last)",
      "\u001b[1;32m<ipython-input-6-82cadaf7bd74>\u001b[0m in \u001b[0;36m<module>\u001b[1;34m()\u001b[0m\n\u001b[0;32m      1\u001b[0m \u001b[1;31m# Ex 2\u001b[0m\u001b[1;33m\u001b[0m\u001b[1;33m\u001b[0m\u001b[0m\n\u001b[0;32m      2\u001b[0m \u001b[1;33m\u001b[0m\u001b[0m\n\u001b[1;32m----> 3\u001b[1;33m \u001b[0mprint\u001b[0m\u001b[1;33m(\u001b[0m \u001b[1;36m0\u001b[0m \u001b[1;33m/\u001b[0m \u001b[1;36m0\u001b[0m \u001b[1;33m)\u001b[0m\u001b[1;33m\u001b[0m\u001b[0m\n\u001b[0m",
      "\u001b[1;31mZeroDivisionError\u001b[0m: division by zero"
     ]
    }
   ],
   "source": [
    "# Ex 2\n",
    "\n",
    "print( 0 / 0 )"
   ]
  },
  {
   "cell_type": "code",
   "execution_count": null,
   "metadata": {
    "collapsed": true
   },
   "outputs": [],
   "source": [
    "# Ex 3\n",
    "\n",
    "# Raising an Exception"
   ]
  },
  {
   "cell_type": "code",
   "execution_count": 18,
   "metadata": {},
   "outputs": [
    {
     "name": "stdout",
     "output_type": "stream",
     "text": [
      "Please enter number below 5\n"
     ]
    }
   ],
   "source": [
    "x=7\n",
    "\n",
    "if x >5:\n",
    "    print(\"Please enter number below 5\")\n"
   ]
  },
  {
   "cell_type": "code",
   "execution_count": 11,
   "metadata": {},
   "outputs": [
    {
     "data": {
      "text/plain": [
       "7"
      ]
     },
     "execution_count": 11,
     "metadata": {},
     "output_type": "execute_result"
    }
   ],
   "source": [
    "\n",
    "depo_amt=10000*(x/100)\n",
    "mat_amt=10000+depo_amt\n",
    "x, depo_amt, mat_amt"
   ]
  },
  {
   "cell_type": "code",
   "execution_count": 9,
   "metadata": {},
   "outputs": [
    {
     "name": "stdout",
     "output_type": "stream",
     "text": [
      "Enter nubmer6\n",
      "6\n"
     ]
    },
    {
     "ename": "Exception",
     "evalue": "x should not exceed 5. The value of x was: 6",
     "output_type": "error",
     "traceback": [
      "\u001b[1;31m---------------------------------------------------------------------------\u001b[0m",
      "\u001b[1;31mException\u001b[0m                                 Traceback (most recent call last)",
      "\u001b[1;32m<ipython-input-9-0e2e32c142a8>\u001b[0m in \u001b[0;36m<module>\u001b[1;34m\u001b[0m\n\u001b[0;32m      4\u001b[0m \u001b[1;32mif\u001b[0m \u001b[0mint\u001b[0m\u001b[1;33m(\u001b[0m\u001b[0mx\u001b[0m\u001b[1;33m)\u001b[0m \u001b[1;33m>\u001b[0m \u001b[1;36m5\u001b[0m\u001b[1;33m:\u001b[0m\u001b[1;33m\u001b[0m\u001b[1;33m\u001b[0m\u001b[0m\n\u001b[0;32m      5\u001b[0m     \u001b[0mprint\u001b[0m\u001b[1;33m(\u001b[0m\u001b[0mx\u001b[0m\u001b[1;33m)\u001b[0m\u001b[1;33m\u001b[0m\u001b[1;33m\u001b[0m\u001b[0m\n\u001b[1;32m----> 6\u001b[1;33m     \u001b[1;32mraise\u001b[0m \u001b[0mException\u001b[0m\u001b[1;33m(\u001b[0m\u001b[1;34m'x should not exceed 5. The value of x was: {}'\u001b[0m\u001b[1;33m.\u001b[0m\u001b[0mformat\u001b[0m\u001b[1;33m(\u001b[0m\u001b[0mx\u001b[0m\u001b[1;33m)\u001b[0m\u001b[1;33m)\u001b[0m\u001b[1;33m\u001b[0m\u001b[1;33m\u001b[0m\u001b[0m\n\u001b[0m\u001b[0;32m      7\u001b[0m \u001b[1;33m\u001b[0m\u001b[0m\n",
      "\u001b[1;31mException\u001b[0m: x should not exceed 5. The value of x was: 6"
     ]
    }
   ],
   "source": [
    "x = input(\"Enter nubmer\")\n",
    "\n",
    "\n",
    "if int(x) > 5:\n",
    "    print(x)\n",
    "    raise Exception('x should not exceed 5. The value of x was: {}'.format(x))\n",
    "    "
   ]
  },
  {
   "cell_type": "code",
   "execution_count": 19,
   "metadata": {},
   "outputs": [
    {
     "name": "stdout",
     "output_type": "stream",
     "text": [
      "12\n",
      "Should not be greater than 5\n"
     ]
    }
   ],
   "source": [
    "x = 12\n",
    "if x > 5:\n",
    "    print(x)\n",
    "    try:\n",
    "        raise Exception('x should not exceed 5. The value of x was: {}'.format(x))\n",
    "    except Exception:\n",
    "        print(\"Should not be greater than 5\")"
   ]
  },
  {
   "cell_type": "code",
   "execution_count": 9,
   "metadata": {},
   "outputs": [
    {
     "name": "stdout",
     "output_type": "stream",
     "text": [
      "An exception occured ... \n"
     ]
    }
   ],
   "source": [
    "# Program to depict Raising Exception \n",
    "  \n",
    "try:  \n",
    "    raise NameError(\"Hi there\")  # Raise Error \n",
    "except NameError: \n",
    "    print (\"An exception occured ... \")\n",
    "    #raise  # To determine whether the exception was raised or not "
   ]
  },
  {
   "cell_type": "code",
   "execution_count": 1,
   "metadata": {},
   "outputs": [
    {
     "name": "stdout",
     "output_type": "stream",
     "text": [
      "Please enter an integer: 1\n",
      "1\n",
      "1.0\n",
      "Great, you successfully entered an integer!\n"
     ]
    }
   ],
   "source": [
    "# Ex\n",
    "while True:\n",
    "    try:\n",
    "        n = input(\"Please enter an integer: \")\n",
    "        print(n)\n",
    "        n = float(n)\n",
    "        print(n)\n",
    "        \n",
    "        if(n>9):\n",
    "            raise Exception(\"Enter upto 9\")   \n",
    "        break\n",
    "    except Exception:\n",
    "        print(\"enter number between 0 to 10\")\n",
    "    except :\n",
    "        print(\"No valid integer! Please try again ...\")\n",
    "        \n",
    " \n",
    "        \n",
    "print(\"Great, you successfully entered an integer!\")"
   ]
  },
  {
   "cell_type": "code",
   "execution_count": 4,
   "metadata": {},
   "outputs": [
    {
     "data": {
      "text/plain": [
       "1"
      ]
     },
     "execution_count": 4,
     "metadata": {},
     "output_type": "execute_result"
    }
   ],
   "source": [
    "int(1.6)"
   ]
  },
  {
   "cell_type": "code",
   "execution_count": 14,
   "metadata": {},
   "outputs": [
    {
     "ename": "ValueError",
     "evalue": "invalid literal for int() with base 10: 'abc'",
     "output_type": "error",
     "traceback": [
      "\u001b[1;31m---------------------------------------------------------------------------\u001b[0m",
      "\u001b[1;31mValueError\u001b[0m                                Traceback (most recent call last)",
      "\u001b[1;32m<ipython-input-14-2dda1cc00c48>\u001b[0m in \u001b[0;36m<module>\u001b[1;34m()\u001b[0m\n\u001b[1;32m----> 1\u001b[1;33m \u001b[0mint\u001b[0m\u001b[1;33m(\u001b[0m\u001b[1;34m\"abc\"\u001b[0m\u001b[1;33m)\u001b[0m\u001b[1;33m\u001b[0m\u001b[0m\n\u001b[0m",
      "\u001b[1;31mValueError\u001b[0m: invalid literal for int() with base 10: 'abc'"
     ]
    }
   ],
   "source": [
    "int(\"abc\")"
   ]
  },
  {
   "cell_type": "code",
   "execution_count": 1,
   "metadata": {},
   "outputs": [
    {
     "name": "stdout",
     "output_type": "stream",
     "text": [
      "Second element = 2\n",
      "An error occurred\n"
     ]
    }
   ],
   "source": [
    "# Python program to handle simple runtime error \n",
    "  \n",
    "a = [1, 2, 3] \n",
    "try:  \n",
    "    print( \"Second element = %d\" %(a[1]) )\n",
    "  \n",
    "    # Throws error since there are only 3 elements in array \n",
    "    print( \"Fourth element = %d\" %(a[3]) )\n",
    "  \n",
    "except IndexError: \n",
    "    print (\"An error occurred\")"
   ]
  },
  {
   "cell_type": "code",
   "execution_count": 21,
   "metadata": {},
   "outputs": [
    {
     "name": "stdout",
     "output_type": "stream",
     "text": [
      "The entry is a\n",
      "Oops! <class 'ValueError'> occured.\n",
      "Next entry.\n",
      "\n",
      "The entry is 0\n",
      "0\n",
      "Oops! <class 'ZeroDivisionError'> occured.\n",
      "Next entry.\n",
      "\n",
      "The entry is 2\n",
      "2\n",
      "0.5\n",
      "The entry is 2.4\n",
      "2\n",
      "0.5\n"
     ]
    }
   ],
   "source": [
    "import sys\n",
    "\n",
    "randomList = ['a', 0, 2,2.4]\n",
    "\n",
    "for entry in randomList:\n",
    "    try:\n",
    "        print(\"The entry is\", entry)\n",
    "        print(int(entry))\n",
    "        r = 1/int(entry)\n",
    "        print(r)\n",
    "        #break\n",
    "    except:\n",
    "        print(\"Oops!\",sys.exc_info()[0],\"occured.\")\n",
    "        print(\"Next entry.\")\n",
    "        print()"
   ]
  },
  {
   "cell_type": "code",
   "execution_count": null,
   "metadata": {
    "collapsed": true
   },
   "outputs": [],
   "source": [
    "# Multiple Except Clauses\n",
    "\n",
    "# A try statement may have more than one except clause for different \n",
    "# exceptions. But at most one except clause will be executed.\n",
    "\n",
    "# Our next example shows a try clause, in which we open a file for reading, \n",
    "# read a line from this file and convert this line into an integer. \n",
    "# There are at least two possible exceptions:\n",
    "\n",
    "# an IOError\n",
    "# ValueError\n",
    "\n",
    "# Just in case we have an additional unnamed except clause for an \n",
    "# unexpected error"
   ]
  },
  {
   "cell_type": "code",
   "execution_count": 30,
   "metadata": {},
   "outputs": [
    {
     "ename": "FileNotFoundError",
     "evalue": "[Errno 2] No such file or directory: 'C:\\\\Users\\\\home\\\\Desktop\\\\Basics of Python with Numpy Panda\\\\numbers1.txt'",
     "output_type": "error",
     "traceback": [
      "\u001b[1;31m---------------------------------------------------------------------------\u001b[0m",
      "\u001b[1;31mFileNotFoundError\u001b[0m                         Traceback (most recent call last)",
      "\u001b[1;32m<ipython-input-30-342ff4fd9e2e>\u001b[0m in \u001b[0;36m<module>\u001b[1;34m\u001b[0m\n\u001b[1;32m----> 1\u001b[1;33m \u001b[0mf\u001b[0m\u001b[1;33m=\u001b[0m\u001b[0mopen\u001b[0m\u001b[1;33m(\u001b[0m\u001b[1;34mr\"C:\\Users\\home\\Desktop\\Basics of Python with Numpy Panda\\numbers1.txt\"\u001b[0m\u001b[1;33m)\u001b[0m\u001b[1;33m\u001b[0m\u001b[1;33m\u001b[0m\u001b[0m\n\u001b[0m\u001b[0;32m      2\u001b[0m \u001b[1;32mfor\u001b[0m \u001b[0ml\u001b[0m \u001b[1;32min\u001b[0m  \u001b[0mf\u001b[0m\u001b[1;33m.\u001b[0m\u001b[0mreadlines\u001b[0m\u001b[1;33m(\u001b[0m\u001b[1;33m)\u001b[0m\u001b[1;33m:\u001b[0m\u001b[1;33m\u001b[0m\u001b[1;33m\u001b[0m\u001b[0m\n\u001b[0;32m      3\u001b[0m     \u001b[0mprint\u001b[0m\u001b[1;33m(\u001b[0m\u001b[0mtype\u001b[0m\u001b[1;33m(\u001b[0m\u001b[0ml\u001b[0m\u001b[1;33m)\u001b[0m\u001b[1;33m)\u001b[0m\u001b[1;33m\u001b[0m\u001b[1;33m\u001b[0m\u001b[0m\n\u001b[0;32m      4\u001b[0m     \u001b[0ma\u001b[0m\u001b[1;33m=\u001b[0m\u001b[0mint\u001b[0m\u001b[1;33m(\u001b[0m\u001b[0ml\u001b[0m\u001b[1;33m)\u001b[0m\u001b[1;33m+\u001b[0m\u001b[1;36m10\u001b[0m\u001b[1;33m\u001b[0m\u001b[1;33m\u001b[0m\u001b[0m\n\u001b[0;32m      5\u001b[0m     \u001b[0mprint\u001b[0m\u001b[1;33m(\u001b[0m\u001b[0ma\u001b[0m\u001b[1;33m)\u001b[0m\u001b[1;33m\u001b[0m\u001b[1;33m\u001b[0m\u001b[0m\n",
      "\u001b[1;31mFileNotFoundError\u001b[0m: [Errno 2] No such file or directory: 'C:\\\\Users\\\\home\\\\Desktop\\\\Basics of Python with Numpy Panda\\\\numbers1.txt'"
     ]
    }
   ],
   "source": [
    "f=open(r\"C:\\Users\\home\\Desktop\\Basics of Python with Numpy Panda\\numbers1.txt\")\n",
    "for l in  f.readlines():\n",
    "    print(type(l))\n",
    "    a=int(l)+10\n",
    "    print(a)\n"
   ]
  },
  {
   "cell_type": "code",
   "execution_count": 33,
   "metadata": {},
   "outputs": [
    {
     "name": "stdout",
     "output_type": "stream",
     "text": [
      "(2, 'No such file or directory')\n",
      "I/O error 2 : No such file or directory\n"
     ]
    }
   ],
   "source": [
    "import sys\n",
    "\n",
    "try:\n",
    "    f = open(r\"C:\\Users\\home\\Desktop\\Basics of Python with Numpy Panda\\integers1.txt\")\n",
    "    for l in  f.readlines():\n",
    "        print(l)\n",
    "        c=int(l)+10\n",
    "        #print(c)\n",
    "        #i = int(s.strip())\n",
    "        #print(i)\n",
    "except IOError as e:\n",
    "    print(e.args)\n",
    "    errno, strerror = e.args    \n",
    "    print (\"I/O error {0} : {1}\".format(errno, strerror))\n",
    "except ValueError:\n",
    "    c=10+10\n",
    "    print(c)\n",
    "    print (\"No valid integer in line.\")\n",
    "except:\n",
    "    print (\"Unexpected error:\", sys.exc_info()[0])\n",
    "    raise"
   ]
  },
  {
   "cell_type": "code",
   "execution_count": null,
   "metadata": {
    "collapsed": true
   },
   "outputs": [],
   "source": []
  },
  {
   "cell_type": "code",
   "execution_count": null,
   "metadata": {
    "collapsed": true
   },
   "outputs": [],
   "source": [
    "# AssertionError\tRaised when assert statement fails.\n",
    "# AttributeError\tRaised when attribute assignment or reference fails.\n",
    "# EOFError\tRaised when the input() functions hits end-of-file condition.\n",
    "# FloatingPointError\tRaised when a floating point operation fails.\n",
    "# GeneratorExit\tRaise when a generator's close() method is called.\n",
    "# ImportError\tRaised when the imported module is not found.\n",
    "# IndexError\tRaised when index of a sequence is out of range.\n",
    "# KeyError\tRaised when a key is not found in a dictionary.\n",
    "# KeyboardInterrupt\tRaised when the user hits interrupt key (Ctrl+c or delete).\n",
    "# MemoryError\tRaised when an operation runs out of memory.\n",
    "# NameError\tRaised when a variable is not found in local or global scope.\n",
    "# NotImplementedError\tRaised by abstract methods.\n",
    "# OSError\tRaised when system operation causes system related error.\n",
    "# OverflowError\tRaised when result of an arithmetic operation is too large to be represented.\n",
    "# ReferenceError\tRaised when a weak reference proxy is used to access a garbage collected referent.\n",
    "# RuntimeError\tRaised when an error does not fall under any other category.\n",
    "# StopIteration\tRaised by next() function to indicate that there is no further item to be returned by iterator.\n",
    "# SyntaxError\tRaised by parser when syntax error is encountered.\n",
    "# IndentationError\tRaised when there is incorrect indentation.\n",
    "# TabError\tRaised when indentation consists of inconsistent tabs and spaces.\n",
    "# SystemError\tRaised when interpreter detects internal error.\n",
    "# SystemExit\tRaised by sys.exit() function.\n",
    "# TypeError\tRaised when a function or operation is applied to an object of incorrect type.\n",
    "# UnboundLocalError\tRaised when a reference is made to a local variable in a function or method, but no value has been bound to that variable.\n",
    "# UnicodeError\tRaised when a Unicode-related encoding or decoding error occurs.\n",
    "# UnicodeEncodeError\tRaised when a Unicode-related error occurs during encoding.\n",
    "# UnicodeDecodeError\tRaised when a Unicode-related error occurs during decoding.\n",
    "# UnicodeTranslateError\tRaised when a Unicode-related error occurs during translating.\n",
    "# ValueError\tRaised when a function gets argument of correct type but improper value.\n",
    "# ZeroDivisionError\tRaised when second operand of division or modulo operation is zero.                                                                                                                                                                                                      "
   ]
  }
 ],
 "metadata": {
  "kernelspec": {
   "display_name": "Python 3",
   "language": "python",
   "name": "python3"
  },
  "language_info": {
   "codemirror_mode": {
    "name": "ipython",
    "version": 3
   },
   "file_extension": ".py",
   "mimetype": "text/x-python",
   "name": "python",
   "nbconvert_exporter": "python",
   "pygments_lexer": "ipython3",
   "version": "3.7.3"
  }
 },
 "nbformat": 4,
 "nbformat_minor": 2
}

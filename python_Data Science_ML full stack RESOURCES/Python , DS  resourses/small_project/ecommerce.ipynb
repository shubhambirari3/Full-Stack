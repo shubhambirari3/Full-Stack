{
 "cells": [
  {
   "cell_type": "code",
   "execution_count": 1,
   "metadata": {},
   "outputs": [],
   "source": [
    "from datetime import datetime \n",
    "import abc"
   ]
  },
  {
   "cell_type": "code",
   "execution_count": 2,
   "metadata": {},
   "outputs": [],
   "source": [
    "class user(metaclass=abc.ABCMeta):\n",
    "    dt =datetime.now().strftime(\"%d-%m-%Y\")    \n",
    "    @abc.abstractmethod\n",
    "    def register(self):\n",
    "        pass\n",
    "      \n",
    "    def click_for_help(self):\n",
    "        print(\"Loading page for customer care\")"
   ]
  },
  {
   "cell_type": "code",
   "execution_count": 3,
   "metadata": {},
   "outputs": [],
   "source": [
    "class product:\n",
    "    #def __init__(self, category, name):\n",
    "     #   self.category = category\n",
    "      #  self.name = name\n",
    "       # print(\"inserting into databese\")\n",
    "        \n",
    "    def setPrice(s,name):\n",
    "        s.price = input(\"Price is :\")\n",
    "        \n",
    "    def disPrice(s):\n",
    "        print('Price = ', s.price)"
   ]
  },
  {
   "cell_type": "code",
   "execution_count": 20,
   "metadata": {},
   "outputs": [],
   "source": [
    "class customer(user , product): \n",
    "    def __init__(self, cname):\n",
    "        self.cname = input(\"User name\")\n",
    "        print(\"login page for customer\", self.cname)  \n",
    "        \n",
    "    def register():\n",
    "        print(\"Registration for customer\")  \n",
    "    \n",
    "    def add_to_cart(s):\n",
    "        print(\"Additing to cart\", s.name )\n",
    "    \n",
    "    def proceed_to_pay(p):\n",
    "        print(\"payment for price\",p.price)\n",
    "        \n",
    "    @classmethod\n",
    "    def searching(s, p_name):\n",
    "        print('searching for', p_name)\n",
    "        print('add to cart is enabled')\n",
    "        return p_name\n"
   ]
  },
  {
   "cell_type": "code",
   "execution_count": 17,
   "metadata": {},
   "outputs": [],
   "source": [
    "def purchase(cust_object):\n",
    "    cust_object.add_to_cart()\n",
    "    cust_object.proceed_to_pay()\n",
    "    "
   ]
  },
  {
   "cell_type": "code",
   "execution_count": 6,
   "metadata": {},
   "outputs": [],
   "source": [
    "class dealer(user):\n",
    "    \n",
    "    def register():\n",
    "        print(\"Registration for dealer\")\n",
    "        \n",
    "    def login():\n",
    "        print(\"login page for dealer\")\n",
    "    \n",
    "    @classmethod\n",
    "    def searching(s, p_name):\n",
    "        print(s.cname, 'searching for', p_name)\n",
    "        print(\"Add to cart is disable\")"
   ]
  },
  {
   "cell_type": "code",
   "execution_count": 8,
   "metadata": {},
   "outputs": [],
   "source": [
    "def search(obj, prod_name):\n",
    "    print(obj.cname, \"is searching for \",obj.searching(prod_name))"
   ]
  },
  {
   "cell_type": "code",
   "execution_count": 7,
   "metadata": {},
   "outputs": [
    {
     "name": "stdout",
     "output_type": "stream",
     "text": [
      "searching for ABCD\n",
      "add to cart is enabled\n"
     ]
    },
    {
     "data": {
      "text/plain": [
       "'ABCD'"
      ]
     },
     "execution_count": 7,
     "metadata": {},
     "output_type": "execute_result"
    }
   ],
   "source": [
    "customer.searching(\"ABCD\")"
   ]
  },
  {
   "cell_type": "code",
   "execution_count": 10,
   "metadata": {},
   "outputs": [
    {
     "name": "stdout",
     "output_type": "stream",
     "text": [
      "User namesita\n",
      "login page for customer sita\n"
     ]
    }
   ],
   "source": [
    "c=customer(\"sita\")"
   ]
  },
  {
   "cell_type": "code",
   "execution_count": 12,
   "metadata": {},
   "outputs": [
    {
     "name": "stdout",
     "output_type": "stream",
     "text": [
      "searching for mobile\n",
      "add to cart is enabled\n",
      "sita is searching for  mobile\n"
     ]
    }
   ],
   "source": [
    "search(c,\"mobile\")"
   ]
  },
  {
   "cell_type": "code",
   "execution_count": 14,
   "metadata": {},
   "outputs": [
    {
     "name": "stdout",
     "output_type": "stream",
     "text": [
      "User namerm\n",
      "login page for customer rm\n"
     ]
    }
   ],
   "source": [
    "ct=customer(\"ram\")"
   ]
  },
  {
   "cell_type": "code",
   "execution_count": null,
   "metadata": {},
   "outputs": [],
   "source": []
  },
  {
   "cell_type": "code",
   "execution_count": 16,
   "metadata": {},
   "outputs": [
    {
     "name": "stdout",
     "output_type": "stream",
     "text": [
      "searching for ipod\n",
      "add to cart is enabled\n",
      "rm is searching for  ipod\n"
     ]
    }
   ],
   "source": [
    "search(ct,\"ipod\")"
   ]
  },
  {
   "cell_type": "code",
   "execution_count": 18,
   "metadata": {},
   "outputs": [
    {
     "ename": "AttributeError",
     "evalue": "'customer' object has no attribute 'add_to_cart'",
     "output_type": "error",
     "traceback": [
      "\u001b[1;31m---------------------------------------------------------------------------\u001b[0m",
      "\u001b[1;31mAttributeError\u001b[0m                            Traceback (most recent call last)",
      "\u001b[1;32m<ipython-input-18-bb0ffb84b7ab>\u001b[0m in \u001b[0;36m<module>\u001b[1;34m\u001b[0m\n\u001b[1;32m----> 1\u001b[1;33m \u001b[0mpurchase\u001b[0m\u001b[1;33m(\u001b[0m\u001b[0mct\u001b[0m\u001b[1;33m)\u001b[0m\u001b[1;33m\u001b[0m\u001b[1;33m\u001b[0m\u001b[0m\n\u001b[0m",
      "\u001b[1;32m<ipython-input-17-0e6575833ce0>\u001b[0m in \u001b[0;36mpurchase\u001b[1;34m(cust_object)\u001b[0m\n\u001b[0;32m      1\u001b[0m \u001b[1;32mdef\u001b[0m \u001b[0mpurchase\u001b[0m\u001b[1;33m(\u001b[0m\u001b[0mcust_object\u001b[0m\u001b[1;33m)\u001b[0m\u001b[1;33m:\u001b[0m\u001b[1;33m\u001b[0m\u001b[1;33m\u001b[0m\u001b[0m\n\u001b[1;32m----> 2\u001b[1;33m     \u001b[0mcust_object\u001b[0m\u001b[1;33m.\u001b[0m\u001b[0madd_to_cart\u001b[0m\u001b[1;33m(\u001b[0m\u001b[1;33m)\u001b[0m\u001b[1;33m\u001b[0m\u001b[1;33m\u001b[0m\u001b[0m\n\u001b[0m\u001b[0;32m      3\u001b[0m     \u001b[0mcust_object\u001b[0m\u001b[1;33m.\u001b[0m\u001b[0mproceed_to_pay\u001b[0m\u001b[1;33m(\u001b[0m\u001b[1;33m)\u001b[0m\u001b[1;33m\u001b[0m\u001b[1;33m\u001b[0m\u001b[0m\n\u001b[0;32m      4\u001b[0m \u001b[1;33m\u001b[0m\u001b[0m\n",
      "\u001b[1;31mAttributeError\u001b[0m: 'customer' object has no attribute 'add_to_cart'"
     ]
    }
   ],
   "source": [
    "purchase(ct)"
   ]
  },
  {
   "cell_type": "code",
   "execution_count": 55,
   "metadata": {},
   "outputs": [
    {
     "name": "stdout",
     "output_type": "stream",
     "text": [
      "Additing to cart mobile\n"
     ]
    }
   ],
   "source": [
    "p.add_to_cart()"
   ]
  }
 ],
 "metadata": {
  "kernelspec": {
   "display_name": "Python 3",
   "language": "python",
   "name": "python3"
  },
  "language_info": {
   "codemirror_mode": {
    "name": "ipython",
    "version": 3
   },
   "file_extension": ".py",
   "mimetype": "text/x-python",
   "name": "python",
   "nbconvert_exporter": "python",
   "pygments_lexer": "ipython3",
   "version": "3.8.5"
  }
 },
 "nbformat": 4,
 "nbformat_minor": 4
}

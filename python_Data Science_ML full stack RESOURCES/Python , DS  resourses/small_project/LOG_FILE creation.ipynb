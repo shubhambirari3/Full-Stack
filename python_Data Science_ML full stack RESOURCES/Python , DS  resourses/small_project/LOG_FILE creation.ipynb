{
 "cells": [
  {
   "cell_type": "code",
   "execution_count": 7,
   "metadata": {},
   "outputs": [
    {
     "name": "stdout",
     "output_type": "stream",
     "text": [
      "0\n",
      "1\n",
      "2\n",
      "3\n",
      "4\n",
      "5\n",
      "6\n",
      "7\n",
      "8\n",
      "9\n"
     ]
    }
   ],
   "source": [
    "for s in range(10):\n",
    "    print(s)"
   ]
  },
  {
   "cell_type": "code",
   "execution_count": 10,
   "metadata": {},
   "outputs": [],
   "source": [
    "s1 = {10,10,20,20}"
   ]
  },
  {
   "cell_type": "code",
   "execution_count": 11,
   "metadata": {},
   "outputs": [
    {
     "name": "stdout",
     "output_type": "stream",
     "text": [
      "10\n",
      "20\n"
     ]
    }
   ],
   "source": [
    "for  i in s1:\n",
    "    print(i)"
   ]
  },
  {
   "cell_type": "code",
   "execution_count": 12,
   "metadata": {},
   "outputs": [],
   "source": [
    "d1={'ML1':100, 'ML2':30,'ML5':40}"
   ]
  },
  {
   "cell_type": "code",
   "execution_count": 14,
   "metadata": {},
   "outputs": [
    {
     "name": "stdout",
     "output_type": "stream",
     "text": [
      "ML1 100\n",
      "ML2 30\n",
      "ML5 40\n"
     ]
    }
   ],
   "source": [
    "for i in d1:\n",
    "    print(i, d1[i])"
   ]
  },
  {
   "cell_type": "code",
   "execution_count": 60,
   "metadata": {},
   "outputs": [],
   "source": [
    "ratio = \"5\"+'/'+'10'"
   ]
  },
  {
   "cell_type": "code",
   "execution_count": 61,
   "metadata": {},
   "outputs": [
    {
     "data": {
      "text/plain": [
       "0.5"
      ]
     },
     "execution_count": 61,
     "metadata": {},
     "output_type": "execute_result"
    }
   ],
   "source": [
    "eval(ratio)"
   ]
  },
  {
   "cell_type": "code",
   "execution_count": 56,
   "metadata": {},
   "outputs": [],
   "source": []
  },
  {
   "cell_type": "code",
   "execution_count": 57,
   "metadata": {},
   "outputs": [],
   "source": [
    "sub_details={}"
   ]
  },
  {
   "cell_type": "code",
   "execution_count": 54,
   "metadata": {},
   "outputs": [
    {
     "name": "stdout",
     "output_type": "stream",
     "text": [
      "Enter roll number7\n",
      "Number of subjects2\n",
      "Enter Subhindi\n",
      "Out of50\n",
      "marks 30\n",
      "Enter Subeng\n",
      "Out of100\n",
      "marks 78\n"
     ]
    }
   ],
   "source": [
    "roll=input(\"Enter roll number\")\n",
    "sub_no = int(input('Number of subjects'))\n",
    "\n",
    "sub_details = {}\n",
    "for i in range(sub_no):\n",
    "    \n",
    "    sub = input(\"Enter Sub\")\n",
    "    out_of = input(\"Out of\")\n",
    "    marks = input(\"marks \")\n",
    "\n",
    "    ratio= marks+'/'+out_of\n",
    "    ratio\n",
    "\n",
    "    sub_details.update({sub:ratio})\n",
    "st.update({roll:sub_details})"
   ]
  },
  {
   "cell_type": "code",
   "execution_count": 1,
   "metadata": {},
   "outputs": [],
   "source": [
    "st={}"
   ]
  },
  {
   "cell_type": "code",
   "execution_count": 5,
   "metadata": {},
   "outputs": [
    {
     "name": "stdout",
     "output_type": "stream",
     "text": [
      "Enter roll number2\n",
      "Number of subjects5\n",
      "The roll number is 2 and number of subjects are 5\n"
     ]
    }
   ],
   "source": [
    "file = open(r'C:\\Users\\Amrita\\Log.txt','a')\n",
    "\n",
    "roll=input(\"Enter roll number\")\n",
    "sub_no = int(input('Number of subjects'))\n",
    "details = \"\"\"The roll number is {} and number of subjects are {}\"\"\".format(roll,sub_no)\n",
    "print(details)\n",
    "file.write(details)\n",
    "file.close()"
   ]
  },
  {
   "cell_type": "code",
   "execution_count": 12,
   "metadata": {},
   "outputs": [
    {
     "name": "stdout",
     "output_type": "stream",
     "text": [
      "Enter roll number2\n",
      "Number of subjects2\n",
      "\n",
      " The roll number is 2 and number of subjects are 2\n",
      "Enter Submath\n",
      "Out of100\n",
      "marks 120\n",
      "not ok\n",
      "Enter Submarathi\n",
      "Out of100\n",
      "marks 89\n",
      "OK\n"
     ]
    }
   ],
   "source": [
    "file = open(r'C:\\Users\\Amrita\\Log.txt','x')\n",
    "\n",
    "roll=input(\"Enter roll number\")\n",
    "sub_no = int(input('Number of subjects'))\n",
    "details = \"\"\"\\n The roll number is {} and number of subjects are {}\"\"\".format(roll,sub_no)\n",
    "print(details)\n",
    "\n",
    "sub_details = {}\n",
    "cnt = 0\n",
    "while cnt < sub_no:\n",
    "    flag = 0\n",
    "    cnt=cnt+1\n",
    "    \n",
    "    sub = input(\"Enter Sub\")\n",
    "    out_of = input(\"Out of\")\n",
    "    marks = input(\"marks \")\n",
    "    \n",
    "    details = details+\"\\n sub{} = {}\".format(cnt,sub)\n",
    "    \n",
    "    if float(out_of) < float(marks):\n",
    "        details = details+\"\\n invalid marks based on out of marks\"\n",
    "        print(\"not ok\")\n",
    "        flag = 1\n",
    "    else:\n",
    "        details = details+\" \\n Makrs is correctly given\"\n",
    "        print(\"OK\")\n",
    "        flag = 0\n",
    "    \n",
    "    if flag == 0:\n",
    "        ratio= marks+'/'+out_of\n",
    "        ratio\n",
    "        details = details + \"\\n marks : {}\".format(ratio)\n",
    "\n",
    "        sub_details.update({sub:ratio})\n",
    "st.update({roll:sub_details})\n",
    "details = details+\"\\n Roll num {} details are {}\".format(roll, st)\n",
    "file.write(details)\n",
    "file.close()\n"
   ]
  },
  {
   "cell_type": "code",
   "execution_count": 5,
   "metadata": {},
   "outputs": [],
   "source": [
    "import mysql.connector"
   ]
  },
  {
   "cell_type": "code",
   "execution_count": 6,
   "metadata": {},
   "outputs": [],
   "source": [
    "conn = mysql.connector.connect(host = 'localhost', database = 'student', \n",
    "                               user = 'root', passwd = 'MySQL@2021')"
   ]
  },
  {
   "cell_type": "code",
   "execution_count": 7,
   "metadata": {},
   "outputs": [],
   "source": [
    "c = conn.cursor()"
   ]
  },
  {
   "cell_type": "code",
   "execution_count": null,
   "metadata": {},
   "outputs": [],
   "source": []
  },
  {
   "cell_type": "code",
   "execution_count": null,
   "metadata": {},
   "outputs": [],
   "source": [
    "stmt = \"insert into sub_details(roll_number,subject,out_of,marks,per,del_flag,last_date)\"\n",
    "stmt = stmt+\" values ({},'{}',{},{},NULL,'N',sysdate())\".format(roll,sub,out_of,marks)"
   ]
  },
  {
   "cell_type": "code",
   "execution_count": 25,
   "metadata": {},
   "outputs": [
    {
     "name": "stdout",
     "output_type": "stream",
     "text": [
      "Enter roll number1\n",
      "Number of subjects2\n",
      "\n",
      " The roll number is 1 and number of subjects are 2\n",
      "Enter Submath\n",
      "Out of100\n",
      "marks 89\n",
      "OK\n",
      "insert into sub_details(roll_number,subject,out_of,marks,del_flag,last_date) values (1,'math',100,89,'N',sysdate())\n",
      "Enter Subsanskrit\n",
      "Out of50\n",
      "marks 40\n",
      "OK\n",
      "insert into sub_details(roll_number,subject,out_of,marks,del_flag,last_date) values (1,'sanskrit',50,40,'N',sysdate())\n"
     ]
    }
   ],
   "source": [
    "file = open(r'C:\\Users\\Amrita\\Log.txt','w')\n",
    "\n",
    "roll=input(\"Enter roll number\")\n",
    "sub_no = int(input('Number of subjects'))\n",
    "details = \"\"\"\\n The roll number is {} and number of subjects are {}\"\"\".format(roll,sub_no)\n",
    "print(details)\n",
    "\n",
    "sub_details = {}\n",
    "cnt = 0\n",
    "while cnt < sub_no:\n",
    "    flag = 0\n",
    "    cnt=cnt+1\n",
    "    \n",
    "    sub = input(\"Enter Sub\")\n",
    "    out_of = input(\"Out of\")\n",
    "    marks = input(\"marks \")\n",
    "    \n",
    "    details = details+\"\\n sub{} = {}\".format(cnt,sub)\n",
    "    \n",
    "    if float(out_of) < float(marks):\n",
    "        details = details+\"\\n invalid marks based on out of marks\"\n",
    "        print(\"not ok\")\n",
    "        flag = 1\n",
    "    else:\n",
    "        details = details+\" \\n Makrs is correctly given\"\n",
    "        print(\"OK\")\n",
    "        flag = 0\n",
    "    \n",
    "    if flag == 0:\n",
    "        ratio= marks+'/'+out_of\n",
    "        ratio\n",
    "        details = details + \"\\n marks : {}\".format(ratio)\n",
    "\n",
    "        #sub_details.update({sub:ratio})\n",
    "#st.update({roll:sub_details})\n",
    "    stmt = \"insert into sub_details(roll_number,subject,out_of,marks,del_flag,last_date)\"\n",
    "    stmt = stmt+\" values ({},'{}',{},{},'N',sysdate())\".format(roll,sub,out_of,marks)\n",
    "\n",
    "    print(stmt)\n",
    "    c.execute(stmt)\n",
    "    conn.commit()\n",
    "c.close()\n",
    "conn.close()\n",
    "        \n",
    "#details = details+\"\\n Roll num {} details are {}\".format(roll, st)\n",
    "file.write(details)\n",
    "file.close()\n"
   ]
  },
  {
   "cell_type": "code",
   "execution_count": 12,
   "metadata": {},
   "outputs": [],
   "source": [
    "c.close()\n",
    "conn.close()"
   ]
  },
  {
   "cell_type": "code",
   "execution_count": null,
   "metadata": {},
   "outputs": [],
   "source": [
    "from datetime import datetime\n",
    "import shutil"
   ]
  },
  {
   "cell_type": "code",
   "execution_count": null,
   "metadata": {},
   "outputs": [],
   "source": [
    "('source' , 'dest\\\\'+\"LOG_\"+str(datetime.timestamp(datetime.now()))+\".txt\")"
   ]
  },
  {
   "cell_type": "code",
   "execution_count": null,
   "metadata": {},
   "outputs": [],
   "source": []
  },
  {
   "cell_type": "code",
   "execution_count": 74,
   "metadata": {},
   "outputs": [
    {
     "name": "stdout",
     "output_type": "stream",
     "text": [
      "Enter roll number3\n",
      "Number of subjects2\n",
      "Enter Subhindi\n",
      "Out of100\n",
      "marks 67\n",
      "OK\n",
      "Enter Subhist\n",
      "Out of100\n",
      "marks 190\n",
      "not ok\n"
     ]
    }
   ],
   "source": [
    "roll=input(\"Enter roll number\")\n",
    "sub_no = int(input('Number of subjects'))\n",
    "\n",
    "sub_details = {}\n",
    "cnt = 0\n",
    "while True:\n",
    "    flag = 0\n",
    "    cnt=cnt+1\n",
    "    \n",
    "    sub = input(\"Enter Sub\")\n",
    "    out_of = input(\"Out of\")\n",
    "    marks = input(\"marks \")\n",
    "    if float(out_of) < float(marks):\n",
    "        print(\"not ok\")\n",
    "        flag = 1\n",
    "    else:\n",
    "        print(\"OK\")\n",
    "        flag = 0\n",
    "    \n",
    "    if flag == 0:\n",
    "        ratio= marks+'/'+out_of\n",
    "        ratio\n",
    "\n",
    "        sub_details.update({sub:ratio})\n",
    "        \n",
    "    if cnt > sub_no:\n",
    "        break\n",
    "st.update({roll:sub_details})"
   ]
  },
  {
   "cell_type": "code",
   "execution_count": 75,
   "metadata": {},
   "outputs": [
    {
     "data": {
      "text/plain": [
       "{'1': {'eng': '80/100'},\n",
       " '2': {'end': '70/100', 'hist': '70/100'},\n",
       " '3': {'hindi': '67/100'}}"
      ]
     },
     "execution_count": 75,
     "metadata": {},
     "output_type": "execute_result"
    }
   ],
   "source": [
    "st"
   ]
  },
  {
   "cell_type": "code",
   "execution_count": 71,
   "metadata": {},
   "outputs": [
    {
     "data": {
      "text/plain": [
       "{'1': {'eng': '80/100'}, '2': {'end': '70/100', 'hist': '70/100'}}"
      ]
     },
     "execution_count": 71,
     "metadata": {},
     "output_type": "execute_result"
    }
   ],
   "source": [
    "st"
   ]
  },
  {
   "cell_type": "code",
   "execution_count": null,
   "metadata": {},
   "outputs": [],
   "source": []
  },
  {
   "cell_type": "code",
   "execution_count": 66,
   "metadata": {},
   "outputs": [
    {
     "name": "stdout",
     "output_type": "stream",
     "text": [
      "Out of100\n",
      "marks 80\n",
      "<class 'str'> <class 'str'>\n",
      "OK\n"
     ]
    }
   ],
   "source": [
    "out_of = input(\"Out of\")\n",
    "marks = input(\"marks \")\n",
    "\n",
    "print(type(out_of), type(marks))\n",
    "\n"
   ]
  },
  {
   "cell_type": "code",
   "execution_count": 50,
   "metadata": {},
   "outputs": [
    {
     "data": {
      "text/plain": [
       "{'hindi': '20/50', 'eng': '67/100', 'math': '89/100', 'marathi': '78/100'}"
      ]
     },
     "execution_count": 50,
     "metadata": {},
     "output_type": "execute_result"
    }
   ],
   "source": [
    "sub_details"
   ]
  },
  {
   "cell_type": "code",
   "execution_count": 67,
   "metadata": {},
   "outputs": [
    {
     "data": {
      "text/plain": [
       "{}"
      ]
     },
     "execution_count": 67,
     "metadata": {},
     "output_type": "execute_result"
    }
   ],
   "source": [
    "st"
   ]
  },
  {
   "cell_type": "code",
   "execution_count": 14,
   "metadata": {},
   "outputs": [
    {
     "name": "stdout",
     "output_type": "stream",
     "text": [
      "position in loop =  37\n",
      "Writing file is very interesting...\n",
      "\n",
      "position in loop =  55\n",
      "try with new app\n",
      "\n",
      "position in loop =  61\n",
      "END!\n",
      "\n",
      "position in loop =  68\n",
      "78910\n",
      "\n",
      "position in loop =  80\n",
      "hello ----\n",
      "\n",
      "position in loop =  93\n",
      "12345678910\n",
      "\n",
      "position in loop =  105\n",
      "hello ----\n",
      "\n",
      "position in loop =  118\n",
      "12345678910\n",
      "\n",
      "position in loop =  130\n",
      "hello ----\n",
      "\n",
      "position in loop =  153\n",
      "12345678910hello ----\n",
      "\n",
      "position in loop =  167\n",
      " 12345678910\n",
      "\n",
      "position in loop =  167\n",
      "----------------------------------------------\n",
      "Current position =  55\n",
      "END!\n",
      "78910\n",
      "hello ----\n",
      "12345678910\n",
      "hello ----\n",
      "12345678910\n",
      "hello ----\n",
      "12345678910hello ----\n",
      " 12345678910\n",
      "\n"
     ]
    }
   ],
   "source": [
    "f = open(r\"D:\\FILE_MOVE\\myfile1.txt\")   #by default read mode\n",
    "while True:\n",
    "        str1 = f.readline()\n",
    "        print (\"position in loop = \", f.tell())\n",
    "        if str1:\n",
    "                print (str1)\n",
    "        else:\n",
    "                break\n",
    "print (\"----------------------------------------------\")  #f is pointing at the end of file\n",
    "f.seek(55)   #absolute positioning from beginning of a file \n",
    "print (\"Current position = \", f.tell())   #6\n",
    "print (f.read()) "
   ]
  },
  {
   "cell_type": "code",
   "execution_count": 36,
   "metadata": {},
   "outputs": [],
   "source": [
    "import sys\n",
    "def calc_perc(roll):\n",
    "    try :\n",
    "        c = conn.cursor()\n",
    "        stmt = \"select round((sum(per1)/count(per1) )*100,2) \"\n",
    "        stmt = stmt + \"from sub_details where roll_number ={} \".format(roll)\n",
    "        #print(stmt)\n",
    "        c.execute(stmt)\n",
    "        output = c.fetchall()\n",
    "        #print(output, output[0][0])\n",
    "        \n",
    "        if output[0][0] ==None:\n",
    "            raise Exception(\"roll number does not exist\")\n",
    "    except:\n",
    "        print(sys.exc_info()[1])\n",
    "    finally:\n",
    "        c.close\n",
    "        \n",
    "    return output[0][0]\n",
    "    "
   ]
  },
  {
   "cell_type": "code",
   "execution_count": 21,
   "metadata": {},
   "outputs": [
    {
     "data": {
      "text/plain": [
       "True"
      ]
     },
     "execution_count": 21,
     "metadata": {},
     "output_type": "execute_result"
    }
   ],
   "source": [
    "c.close()"
   ]
  },
  {
   "cell_type": "code",
   "execution_count": 16,
   "metadata": {},
   "outputs": [
    {
     "name": "stdout",
     "output_type": "stream",
     "text": [
      "enter the roll number1\n",
      "select round((sum(per1)/count(per1) )*100,2) from sub_details where roll_number =1 \n",
      "[(82.33,)] 82.33\n"
     ]
    }
   ],
   "source": [
    "roll_num = input(\"enter the roll number\")\n",
    "a=calc_perc(roll_num)"
   ]
  },
  {
   "cell_type": "code",
   "execution_count": 40,
   "metadata": {},
   "outputs": [],
   "source": [
    "def dispay_marks(roll):\n",
    "    tot_marks=0\n",
    "    out_of=0\n",
    "    \n",
    "    c = conn.cursor()\n",
    "    stmt = 'select subject, marks, out_of from sub_details'\n",
    "    stmt = stmt + ' where roll_number = {}'.format(roll)\n",
    "    \n",
    "    print(stmt)\n",
    "    \n",
    "    c.execute(stmt)\n",
    "    output = c.fetchall()\n",
    "    \n",
    "    print(\" roll number : 1\")\n",
    "    print(\"#####################\")\n",
    "    print(\"Subject  : marks  : Outof\")\n",
    "    for i in output:\n",
    "        tot_marks = tot_marks+i[1]\n",
    "        out_of = out_of+ i[2]\n",
    "        \n",
    "        print(\"{} : {} : {}\".format(i[0],i[1],i[2]))\n",
    "    print(\"#####################\")\n",
    "    print(\"Total {} {}\".format(tot_marks, out_of))\n",
    "    per = calc_perc(roll)\n",
    "    print(\"Total percentage = \",per)\n",
    "    c = c.close()"
   ]
  },
  {
   "cell_type": "code",
   "execution_count": 41,
   "metadata": {},
   "outputs": [
    {
     "name": "stdout",
     "output_type": "stream",
     "text": [
      "select subject, marks, out_of from sub_details where roll_number = 1\n",
      " roll number : 1\n",
      "#####################\n",
      "Subject  : marks  : Outof\n",
      "hindi : 39.0 : 50\n",
      "math : 89.0 : 100\n",
      "sanskrit : 40.0 : 50\n",
      "#####################\n",
      "Total 168.0 200\n",
      "Total percentage =  82.33\n"
     ]
    }
   ],
   "source": [
    "dispay_marks(1)"
   ]
  },
  {
   "cell_type": "code",
   "execution_count": 45,
   "metadata": {},
   "outputs": [
    {
     "data": {
      "text/plain": [
       "82.33"
      ]
     },
     "execution_count": 45,
     "metadata": {},
     "output_type": "execute_result"
    }
   ],
   "source": [
    "a"
   ]
  },
  {
   "cell_type": "code",
   "execution_count": 37,
   "metadata": {},
   "outputs": [
    {
     "data": {
      "text/plain": [
       "82.33333333333333"
      ]
     },
     "execution_count": 37,
     "metadata": {},
     "output_type": "execute_result"
    }
   ],
   "source": [
    "a[0][0]"
   ]
  },
  {
   "cell_type": "code",
   "execution_count": null,
   "metadata": {},
   "outputs": [],
   "source": []
  }
 ],
 "metadata": {
  "kernelspec": {
   "display_name": "Python 3",
   "language": "python",
   "name": "python3"
  },
  "language_info": {
   "codemirror_mode": {
    "name": "ipython",
    "version": 3
   },
   "file_extension": ".py",
   "mimetype": "text/x-python",
   "name": "python",
   "nbconvert_exporter": "python",
   "pygments_lexer": "ipython3",
   "version": "3.8.5"
  }
 },
 "nbformat": 4,
 "nbformat_minor": 4
}

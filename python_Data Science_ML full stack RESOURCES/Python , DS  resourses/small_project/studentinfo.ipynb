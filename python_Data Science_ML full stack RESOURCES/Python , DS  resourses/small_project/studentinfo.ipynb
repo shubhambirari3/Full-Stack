{
 "cells": [
  {
   "cell_type": "code",
   "execution_count": 26,
   "metadata": {},
   "outputs": [
    {
     "name": "stdout",
     "output_type": "stream",
     "text": [
      "Checking for values\n",
      "ameee 9807654321 78\n"
     ]
    },
    {
     "data": {
      "text/plain": [
       "(0, None)"
      ]
     },
     "execution_count": 26,
     "metadata": {},
     "output_type": "execute_result"
    }
   ],
   "source": [
    "validate(\"ameee\",'9807654321',78)"
   ]
  },
  {
   "cell_type": "code",
   "execution_count": 29,
   "metadata": {},
   "outputs": [
    {
     "name": "stdout",
     "output_type": "stream",
     "text": [
      "values are: 9iou\n",
      "Checking for values\n",
      "inside the name\n",
      "name  not entered correctly\n"
     ]
    }
   ],
   "source": [
    "import sys\n",
    "name = input(\"values are: \")\n",
    "print(\"Checking for values\")\n",
    "val =0\n"
   ]
  },
  {
   "cell_type": "code",
   "execution_count": 11,
   "metadata": {},
   "outputs": [],
   "source": [
    "def Val_name(name):\n",
    "    val=0\n",
    "    err_info=None\n",
    "    try:\n",
    "        ##print(name, mobile, marks_10)\n",
    "        if name.isalpha()==False:\n",
    "                val=1\n",
    "                print(\"inside the name\")\n",
    "                raise Exception(\"name  not entered correctly\")\n",
    "    except:\n",
    "        err_info = sys.exc_info()[1]\n",
    "    return val, err_info\n"
   ]
  },
  {
   "cell_type": "code",
   "execution_count": 13,
   "metadata": {},
   "outputs": [
    {
     "name": "stdout",
     "output_type": "stream",
     "text": [
      "inside the name\n"
     ]
    },
    {
     "data": {
      "text/plain": [
       "(1, Exception('name  not entered correctly'))"
      ]
     },
     "execution_count": 13,
     "metadata": {},
     "output_type": "execute_result"
    }
   ],
   "source": [
    "Val_name(\"ABCD123\")"
   ]
  },
  {
   "cell_type": "code",
   "execution_count": 2,
   "metadata": {},
   "outputs": [],
   "source": [
    "import mysql.connector\n",
    "mydb = mysql.connector.connect(host=\"localhost\",database=\"student\", user=\"root\",passwd=\"MySQL@2021\")\n",
    "c=mydb.cursor()\n",
    "\n",
    "from datetime import datetime\n",
    "import re"
   ]
  },
  {
   "cell_type": "code",
   "execution_count": 1,
   "metadata": {},
   "outputs": [],
   "source": [
    "import sys\n",
    "def validate(name,mobile,marks_10,marks_12, pan):\n",
    "    #print(\"Checking for values\")\n",
    "    val =0\n",
    "    err_info = ''\n",
    "    \n",
    "    try:\n",
    "        #print(name, mobile, marks_10)\n",
    "        if name.isalpha()==False:\n",
    "            val=1\n",
    "            print(\"inside the name\")\n",
    "            raise Exception(\"name  not entered correctly\")\n",
    "\n",
    "        if mobile.isdigit() == False:\n",
    "            print(\"inside mobile\")\n",
    "            val=1\n",
    "            raise Exception(\" mobile number\")\n",
    "\n",
    "        if len(mobile)!=10:\n",
    "            print(\"length is not matching\")\n",
    "            val=1\n",
    "            raise Exception('10 characters in mobile')\n",
    "\n",
    "        if mobile[:3]== '123':\n",
    "            print(\"mobile should not start with 123\")\n",
    "            val=1\n",
    "            raise Exception('123 start of mobile')\n",
    "        if marks_10 >100 or marks_10 < 35:\n",
    "            val =1\n",
    "            print(\"inside marks\")\n",
    "            raise Exception('marks should be between 35 to 100')\n",
    "        if marks_12 >100 or marks_12 < 35:\n",
    "            val =1\n",
    "            print(\"inside marks_12\")\n",
    "            raise Exception('marks should be between 35 to 100')\n",
    "        if re.match('[A-Z]{5}[0-9]{4}[A-Z]{1}', pan ):\n",
    "            print('validating pan card')\n",
    "        else:\n",
    "            print(\"Error in pan card\")\n",
    "            val=1\n",
    "            raise Exception('pancard is ont proper')\n",
    "        \n",
    "            \n",
    "    except:\n",
    "         err_info = sys.exc_info()[1]\n",
    "        \n",
    "    return val, err_info\n"
   ]
  },
  {
   "cell_type": "code",
   "execution_count": 4,
   "metadata": {},
   "outputs": [
    {
     "name": "stdout",
     "output_type": "stream",
     "text": [
      "Enter name: asd123\n",
      "Enter mobile number :0964311567\n",
      "Enter marks :29\n",
      "Enter 12 th marks29\n",
      "Enter pan card numberaaaa1234v\n",
      "enter year2000\n",
      "enter month09\n",
      "Enter date09\n",
      "inside the name\n",
      "Error occured here is :---->  name  not entered correctly\n",
      "Inside the else part \n",
      " enter the correct values\n",
      "Enter name: ASDF\n",
      "Enter mobile number :1234567890\n",
      "Enter marks :90\n",
      "Enter 12 th marks90\n",
      "Enter pan card numberAAAAA1234A\n",
      "enter year2000\n",
      "enter month09\n",
      "Enter date09\n",
      "mobile should not start with 123\n",
      "Error occured here is :---->  123 start of mobile\n",
      "Inside the else part \n",
      " enter the correct values\n",
      "Enter name: ASDFG\n",
      "Enter mobile number :9876543210\n",
      "Enter marks :70\n",
      "Enter 12 th marks70\n",
      "Enter pan card numberAAAAA1234X\n",
      "enter year2000\n",
      "enter month09\n",
      "Enter date09\n",
      "validating pan card\n",
      "Entered values are :  ASDFG 9876543210 70.0\n",
      "#########inserting data############\n",
      "insert into info(st_name,pan_card, mobile, marks_10, marks_12) values(\"ASDFG\",\"AAAAA1234X\",\"9876543210\",70.0,70.0)\n"
     ]
    }
   ],
   "source": [
    "#val=0\n",
    "while True:\n",
    "    name = input(\"Enter name: \")\n",
    "    mobile = input(\"Enter mobile number :\")\n",
    "    marks_10 = float(input(\"Enter marks :\"))\n",
    "    marks_12 = float(input(\"Enter 12 th marks\"))\n",
    "    pan_card = input(\"Enter pan card number\")\n",
    "    dob_year = int(input(\"enter year\"))\n",
    "    dob_mon = int(input(\"enter month\"))\n",
    "    dob_date = int(input(\"Enter date\"))\n",
    "    \n",
    "    DOB = datetime(dob_year, dob_mon, dob_date) \n",
    "    val , error= validate(name,mobile,marks_10,marks_12, pan_card)\n",
    "    #print(\"after validating\", val)\n",
    "    \n",
    "    if val==0:\n",
    "        print(\"Entered values are : \",name, mobile, marks_10)\n",
    "        print('#########inserting data############')\n",
    "        ins_stmt = 'insert into info(st_name,pan_card, mobile, marks_10, marks_12) values(\"'\n",
    "        ins_stmt = ins_stmt + name + '\",\"'+pan_card + '\",\"'+ mobile + '\",'+ str(marks_10)+ ','+str(marks_12)+ ')'\n",
    "        print(ins_stmt)\n",
    "        c.execute(ins_stmt)\n",
    "        mydb.commit()\n",
    "        break\n",
    "    else:\n",
    "        print(\"Error occured here is :----> \", error)\n",
    "        print('Inside the else part \\n enter the correct values')"
   ]
  },
  {
   "cell_type": "code",
   "execution_count": 8,
   "metadata": {},
   "outputs": [
    {
     "name": "stdout",
     "output_type": "stream",
     "text": [
      "enter year2028\n",
      "enter month13\n",
      "Enter date89\n"
     ]
    },
    {
     "ename": "ValueError",
     "evalue": "month must be in 1..12",
     "output_type": "error",
     "traceback": [
      "\u001b[1;31m---------------------------------------------------------------------------\u001b[0m",
      "\u001b[1;31mValueError\u001b[0m                                Traceback (most recent call last)",
      "\u001b[1;32m<ipython-input-8-f67e44086d53>\u001b[0m in \u001b[0;36m<module>\u001b[1;34m\u001b[0m\n\u001b[0;32m      3\u001b[0m \u001b[0mdob_date\u001b[0m \u001b[1;33m=\u001b[0m \u001b[0mint\u001b[0m\u001b[1;33m(\u001b[0m\u001b[0minput\u001b[0m\u001b[1;33m(\u001b[0m\u001b[1;34m\"Enter date\"\u001b[0m\u001b[1;33m)\u001b[0m\u001b[1;33m)\u001b[0m\u001b[1;33m\u001b[0m\u001b[1;33m\u001b[0m\u001b[0m\n\u001b[0;32m      4\u001b[0m \u001b[1;33m\u001b[0m\u001b[0m\n\u001b[1;32m----> 5\u001b[1;33m \u001b[0mDOB\u001b[0m \u001b[1;33m=\u001b[0m \u001b[0mdatetime\u001b[0m\u001b[1;33m(\u001b[0m\u001b[0mdob_year\u001b[0m\u001b[1;33m,\u001b[0m \u001b[0mdob_mon\u001b[0m\u001b[1;33m,\u001b[0m \u001b[0mdob_date\u001b[0m\u001b[1;33m)\u001b[0m\u001b[1;33m\u001b[0m\u001b[1;33m\u001b[0m\u001b[0m\n\u001b[0m",
      "\u001b[1;31mValueError\u001b[0m: month must be in 1..12"
     ]
    }
   ],
   "source": [
    "dob_year = int(input(\"enter year\"))\n",
    "dob_mon = int(input(\"enter month\"))\n",
    "dob_date = int(input(\"Enter date\"))\n",
    "    \n",
    "DOB = datetime(dob_year, dob_mon, dob_date)"
   ]
  },
  {
   "cell_type": "code",
   "execution_count": 7,
   "metadata": {},
   "outputs": [
    {
     "data": {
      "text/plain": [
       "datetime.datetime(2000, 9, 9, 0, 0)"
      ]
     },
     "execution_count": 7,
     "metadata": {},
     "output_type": "execute_result"
    }
   ],
   "source": [
    "DOB"
   ]
  },
  {
   "cell_type": "code",
   "execution_count": 4,
   "metadata": {},
   "outputs": [
    {
     "data": {
      "text/plain": [
       "False"
      ]
     },
     "execution_count": 4,
     "metadata": {},
     "output_type": "execute_result"
    }
   ],
   "source": [
    "'0987asd'.isdigit()"
   ]
  },
  {
   "cell_type": "code",
   "execution_count": null,
   "metadata": {},
   "outputs": [],
   "source": []
  }
 ],
 "metadata": {
  "kernelspec": {
   "display_name": "Python 3",
   "language": "python",
   "name": "python3"
  },
  "language_info": {
   "codemirror_mode": {
    "name": "ipython",
    "version": 3
   },
   "file_extension": ".py",
   "mimetype": "text/x-python",
   "name": "python",
   "nbconvert_exporter": "python",
   "pygments_lexer": "ipython3",
   "version": "3.8.5"
  }
 },
 "nbformat": 4,
 "nbformat_minor": 4
}

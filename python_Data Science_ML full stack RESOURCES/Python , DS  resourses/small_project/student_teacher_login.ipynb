{
 "cells": [
  {
   "cell_type": "code",
   "execution_count": 4,
   "metadata": {},
   "outputs": [],
   "source": [
    "import mysql.connector\n",
    "def db_connection():\n",
    "    global db\n",
    "    global c\n",
    "    db = mysql.connector.connect(host = 'localhost', database = 'student', \n",
    "                               user = 'root', passwd = 'MySQL@2021')\n",
    "    c = db.cursor()"
   ]
  },
  {
   "cell_type": "code",
   "execution_count": 14,
   "metadata": {},
   "outputs": [],
   "source": [
    "def conn_close():\n",
    "    db.commit()\n",
    "    c.close()\n",
    "    db.close()"
   ]
  },
  {
   "cell_type": "code",
   "execution_count": 15,
   "metadata": {},
   "outputs": [],
   "source": [
    "\n",
    "def registration():\n",
    "    "
   ]
  },
  {
   "cell_type": "code",
   "execution_count": 16,
   "metadata": {},
   "outputs": [
    {
     "name": "stdout",
     "output_type": "stream",
     "text": [
      "enter user_nameanil3456\n",
      "Enter Keywordthjk1234\n",
      "T/ST\n",
      "insert into login(user_name, password,flag) values (\"anil3456\",\"thjk1234\",\"T\")\n"
     ]
    }
   ],
   "source": [
    "registration()"
   ]
  },
  {
   "cell_type": "code",
   "execution_count": null,
   "metadata": {},
   "outputs": [],
   "source": [
    "import abc\n",
    "class user(metaclass=abc.ABCMeta): \n",
    "    def __init__(s,uname,p):\n",
    "        select count(*) from login where user_name = uname and password = p\n",
    "        cnt = c.fetchall()\n",
    "        if cnt =0:\n",
    "            print(\"go registration\")\n",
    "        else:\n",
    "            print(\"go for login\")\n",
    "            \n",
    "    @classmethod    \n",
    "    def registration():\n",
    "        user_name = input(\"enter user_name\")\n",
    "        keyword = input(\"Enter Keyword\")\n",
    "        flag =input(\"T/S\")\n",
    "        stmt = 'insert into login(user_name, password,flag) values (\"{}\",\"{}\",\"{}\")'.format(user_name,keyword,flag)\n",
    "        print(stmt)\n",
    "        db_connection()\n",
    "        c.execute(stmt)\n",
    "        conn_close()\n",
    "    \n",
    "    \n",
    "    def logout():\n",
    "        conn_close()\n",
    "    \n",
    "    @classmethod\n",
    "    def login(s,uname,key):\n",
    "        db_connection()        \n",
    "    \n",
    "    @abc.abstractmethod\n",
    "    def view():\n",
    "        pass\n",
    "    \n",
    "    def change_password():\n",
    "        pass\n",
    "    \n",
    "     @abc.abstractmethod\n",
    "    def update_info():\n",
    "        pass\n",
    "        \n",
    "        "
   ]
  },
  {
   "cell_type": "code",
   "execution_count": null,
   "metadata": {},
   "outputs": [],
   "source": [
    "class student(user):\n",
    "    \n",
    "    \n",
    "    def download():\n",
    "        print(\"Downloading the file\")\n",
    "        \n",
    "    def view(s, roll_number):\n",
    "        print(\"Fetch information from user\")\n",
    "    \n",
    "    "
   ]
  },
  {
   "cell_type": "code",
   "execution_count": null,
   "metadata": {},
   "outputs": [],
   "source": [
    "class teacher(user):\n",
    "    def enter_makrs(s, roll_num, add):\n",
    "        print(\"Enter marks\")\n",
    "        \n",
    "    def view()"
   ]
  },
  {
   "cell_type": "code",
   "execution_count": null,
   "metadata": {},
   "outputs": [],
   "source": [
    "class admin(user):\n",
    "    "
   ]
  }
 ],
 "metadata": {
  "kernelspec": {
   "display_name": "Python 3",
   "language": "python",
   "name": "python3"
  },
  "language_info": {
   "codemirror_mode": {
    "name": "ipython",
    "version": 3
   },
   "file_extension": ".py",
   "mimetype": "text/x-python",
   "name": "python",
   "nbconvert_exporter": "python",
   "pygments_lexer": "ipython3",
   "version": "3.8.5"
  }
 },
 "nbformat": 4,
 "nbformat_minor": 4
}

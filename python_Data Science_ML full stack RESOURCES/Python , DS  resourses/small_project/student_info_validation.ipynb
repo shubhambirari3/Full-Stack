{
 "cells": [
  {
   "cell_type": "code",
   "execution_count": 19,
   "metadata": {},
   "outputs": [],
   "source": [
    "import sys\n",
    "from datetime import datetime\n",
    "import re"
   ]
  },
  {
   "cell_type": "code",
   "execution_count": 2,
   "metadata": {},
   "outputs": [],
   "source": [
    "def Val_name(name):\n",
    "    val=0\n",
    "    err_info=None\n",
    "    try:\n",
    "        ##print(name, mobile, marks_10)\n",
    "        if name.isalpha()==False:\n",
    "                val=1\n",
    "                print(\"inside the name\")\n",
    "                raise Exception(\"name  not entered correctly\")\n",
    "    except:\n",
    "        err_info = sys.exc_info()[1]\n",
    "    return val, err_info"
   ]
  },
  {
   "cell_type": "code",
   "execution_count": 3,
   "metadata": {},
   "outputs": [],
   "source": [
    "def Val_pan(pan):\n",
    "    val=0\n",
    "    err_info=None\n",
    "    try:\n",
    "        if re.match('[A-Z]{5}[0-9]{4}[A-Z]{1}', pan ):\n",
    "            print('validating pan card')\n",
    "        else:\n",
    "            print(\"Error in pan card\")\n",
    "            \n",
    "            raise Exception('pancard is not proper')\n",
    "    except:\n",
    "        val=1\n",
    "        err_info = sys.exc_info()[1]\n",
    "    return val, err_info"
   ]
  },
  {
   "cell_type": "code",
   "execution_count": 15,
   "metadata": {},
   "outputs": [],
   "source": [
    "def Val_marks(marks):\n",
    "    val=0\n",
    "    err_info=None\n",
    "    try:\n",
    "        if marks >100 or marks <35:\n",
    "            val =1\n",
    "            print(\"inside marks\")\n",
    "            raise Exception('marks should be between 35 to 100')\n",
    "    except:\n",
    "        err_info = sys.exc_info()[1]\n",
    "    return val, err_info"
   ]
  },
  {
   "cell_type": "code",
   "execution_count": 14,
   "metadata": {},
   "outputs": [
    {
     "data": {
      "text/plain": [
       "False"
      ]
     },
     "execution_count": 14,
     "metadata": {},
     "output_type": "execute_result"
    }
   ],
   "source": [
    "(85>100) or  (85<35)"
   ]
  },
  {
   "cell_type": "code",
   "execution_count": 13,
   "metadata": {},
   "outputs": [
    {
     "data": {
      "text/plain": [
       "False"
      ]
     },
     "execution_count": 13,
     "metadata": {},
     "output_type": "execute_result"
    }
   ],
   "source": [
    "85<35"
   ]
  },
  {
   "cell_type": "code",
   "execution_count": 5,
   "metadata": {},
   "outputs": [],
   "source": [
    "def Val_mobile(mobile):\n",
    "    val=0\n",
    "    err_info=None\n",
    "    try:\n",
    "        if mobile.isdigit() == False:\n",
    "            print(\"inside mobile\")\n",
    "            val=1\n",
    "            raise Exception(\" mobile number\")\n",
    "\n",
    "        if len(mobile)!=10:\n",
    "            print(\"length is not matching\")\n",
    "            val=1\n",
    "            raise Exception('10 characters in mobile')\n",
    "\n",
    "        if mobile[:3]== '123':\n",
    "            print(\"mobile should not start with 123\")\n",
    "            val=1\n",
    "            raise Exception('123 start of mobile')\n",
    "    except:\n",
    "        err_info = sys.exc_info()[1]\n",
    "    return val, err_info"
   ]
  },
  {
   "cell_type": "code",
   "execution_count": 6,
   "metadata": {},
   "outputs": [
    {
     "name": "stdout",
     "output_type": "stream",
     "text": [
      "length is not matching\n"
     ]
    },
    {
     "data": {
      "text/plain": [
       "(1, Exception('10 characters in mobile'))"
      ]
     },
     "execution_count": 6,
     "metadata": {},
     "output_type": "execute_result"
    }
   ],
   "source": [
    "Val_mobile('1234')"
   ]
  },
  {
   "cell_type": "code",
   "execution_count": 20,
   "metadata": {},
   "outputs": [],
   "source": [
    "def Val_DOB(dob_year,dob_mon, dob_date):\n",
    "    val=0\n",
    "    err_info=None\n",
    "    \n",
    "    try:\n",
    "        DOB = datetime(dob_year, dob_mon, dob_date)\n",
    "    except:\n",
    "        err_info = sys.exc_info()[1]\n",
    "    return val, err_info, DOB\n",
    "    "
   ]
  },
  {
   "cell_type": "code",
   "execution_count": 21,
   "metadata": {},
   "outputs": [],
   "source": [
    "\n",
    "stud_info={}"
   ]
  },
  {
   "cell_type": "code",
   "execution_count": 22,
   "metadata": {},
   "outputs": [
    {
     "data": {
      "text/plain": [
       "0"
      ]
     },
     "execution_count": 22,
     "metadata": {},
     "output_type": "execute_result"
    }
   ],
   "source": [
    "len(stud_info)"
   ]
  },
  {
   "cell_type": "markdown",
   "metadata": {},
   "source": [
    "## method 1"
   ]
  },
  {
   "cell_type": "code",
   "execution_count": 18,
   "metadata": {},
   "outputs": [
    {
     "name": "stdout",
     "output_type": "stream",
     "text": [
      "Enter name: AAAAA\n",
      "Enter mobile number :0192837465\n",
      "Enter 10th marks :90\n",
      "0 None\n",
      "Enter 12 th marks80\n",
      "Enter pan card numberAAAAA1234C\n",
      "enter year2000\n",
      "enter month09\n",
      "Enter date09\n"
     ]
    }
   ],
   "source": [
    "name = input(\"Enter name: \")\n",
    "err_num,err_msg =Val_name(name)\n",
    "\n",
    "if err_num ==0:\n",
    "\n",
    "    mobile = input(\"Enter mobile number :\")\n",
    "    err_num,err_msg =Val_mobile(mobile)\n",
    "\n",
    "    if err_num ==0:\n",
    "        marks_10 = float(input(\"Enter 10th marks :\"))\n",
    "        err_num,err_msg =Val_marks(marks_10)\n",
    "        print(err_num, err_msg)\n",
    "\n",
    "        if err_num ==0:\n",
    "            marks_12 = float(input(\"Enter 12 th marks\"))\n",
    "            err_num,err_msg =Val_marks(marks_12)\n",
    "\n",
    "            if err_num ==0:\n",
    "                pan_card = input(\"Enter pan card number\")\n",
    "                err_num,err_msg =Val_pan(pan_card)\n",
    "\n",
    "                if err_num==0:\n",
    "                    dob_year = int(input(\"enter year\"))\n",
    "                    dob_mon = int(input(\"enter month\"))\n",
    "                    dob_date = int(input(\"Enter date\"))\n",
    "                    err_num,err_msg, DOB =Val_DOB(dob_year,dob_mon,dob_date)\n",
    "                    if err_num==0:\n",
    "                        print(err_num, err_msg)\n",
    "                        roll_num=len(stud_info)+1\n",
    "                        stud_info[roll_num]={'name': name,\n",
    "                                            'mobile':mobile,\n",
    "                                            'marks_10':marks_10,\n",
    "                                            'marks_12':marks_12,\n",
    "                                            'pan_card':pan_card\n",
    "                                            'DOB':DOB}\n",
    "                    else:\n",
    "                        print(err_num, err_msg)\n",
    "                else:\n",
    "                    print(\"Enter valid pan card\")\n",
    "            else:\n",
    "                print(\"Enter proper marks for 12th\")\n",
    "        else:\n",
    "            print(\"enter proper marks for 10th\")\n",
    "    else:\n",
    "        print(\"enter proper mobile number\")\n",
    "else:\n",
    "    print(\"enter proper name\")\n",
    "\n",
    "#if err_num==0:\n",
    " #   break"
   ]
  },
  {
   "cell_type": "markdown",
   "metadata": {},
   "source": [
    "## Method 2"
   ]
  },
  {
   "cell_type": "code",
   "execution_count": 26,
   "metadata": {},
   "outputs": [
    {
     "name": "stdout",
     "output_type": "stream",
     "text": [
      "Enter name: a1k3\n",
      "inside the name\n",
      "Enter name: xmc\n",
      "Enter mobile number :0964367\n",
      "length is not matching\n",
      "Enter mobile number :09877654321\n",
      "length is not matching\n",
      "Enter mobile number :0192837465\n"
     ]
    }
   ],
   "source": [
    "\n",
    "while True:\n",
    "    name = input(\"Enter name: \")\n",
    "    err_num,err_msg =Val_name(name)\n",
    "    if err_num == 0:\n",
    "        break\n",
    "    \n",
    "\n",
    "while True:\n",
    "    mobile = input(\"Enter mobile number :\")\n",
    "    err_num,err_msg =Val_mobile(mobile)\n",
    "\n",
    "    if err_num==0:\n",
    "        break\n",
    "        \n",
    "        \n",
    "while True:\n",
    "    marks_10 = float(input(\"Enter 10th marks :\"))\n",
    "    err_num,err_msg =Val_marks(marks_10)\n",
    "    print(err_num, err_msg)\n",
    "    \n",
    "    if err_num==0:\n",
    "        break\n",
    "    \n",
    "while True:\n",
    "    marks_12 = float(input(\"Enter 12 th marks\"))\n",
    "    err_num,err_msg =Val_marks(marks_12)\n",
    "    if err_num ==0:\n",
    "        break\n",
    "            \n",
    "while True:\n",
    "    pan_card = input(\"Enter pan card number\")\n",
    "    err_num,err_msg =Val_pan(pan_card)\n",
    "    if err_num==0:\n",
    "        break\n",
    "    "
   ]
  },
  {
   "cell_type": "code",
   "execution_count": null,
   "metadata": {},
   "outputs": [],
   "source": []
  }
 ],
 "metadata": {
  "kernelspec": {
   "display_name": "Python 3",
   "language": "python",
   "name": "python3"
  },
  "language_info": {
   "codemirror_mode": {
    "name": "ipython",
    "version": 3
   },
   "file_extension": ".py",
   "mimetype": "text/x-python",
   "name": "python",
   "nbconvert_exporter": "python",
   "pygments_lexer": "ipython3",
   "version": "3.8.5"
  }
 },
 "nbformat": 4,
 "nbformat_minor": 4
}

{
 "cells": [
  {
   "cell_type": "markdown",
   "metadata": {},
   "source": [
    "#### zip"
   ]
  },
  {
   "cell_type": "code",
   "execution_count": 1,
   "metadata": {},
   "outputs": [
    {
     "name": "stdout",
     "output_type": "stream",
     "text": [
      "The type of an empty zip :  <class 'zip'>\n",
      "<zip object at 0x0000025FE63C1048>\n"
     ]
    }
   ],
   "source": [
    "test = zip()\n",
    "\n",
    "# referring a zip class\n",
    "print('The type of an empty zip : ', type(test))\n",
    "\n",
    "list1 = ['Alpha', 'Beta', 'Gamma', 'Sigma']\n",
    "list2 = ['one', 'two', 'three', 'six']\n",
    "\n",
    "test = zip(list1, list2)  # zip the values\n",
    "print(test)\n"
   ]
  },
  {
   "cell_type": "code",
   "execution_count": 2,
   "metadata": {},
   "outputs": [
    {
     "name": "stdout",
     "output_type": "stream",
     "text": [
      "\n",
      "Printing the values of zip\n",
      "('Alpha', 'one')\n",
      "('Beta', 'two')\n",
      "('Gamma', 'three')\n",
      "('Sigma', 'six')\n"
     ]
    }
   ],
   "source": [
    "print('\\nPrinting the values of zip')\n",
    "for values in test:\n",
    "    print(values)  # print each tuples"
   ]
  },
  {
   "cell_type": "markdown",
   "metadata": {},
   "source": [
    "#### Python zip example with iterable elements of different lengths\n",
    "\n",
    "In this case, the Python zip function will add items up to the lowest possible index of those given iterable elements.\n",
    "\n",
    "That means the count of tuples will be same as the lowest length of the given iterable element. "
   ]
  },
  {
   "cell_type": "code",
   "execution_count": 4,
   "metadata": {},
   "outputs": [
    {
     "name": "stdout",
     "output_type": "stream",
     "text": [
      "\n",
      "Printing the values of zip\n",
      "('Alpha', 'one', 'Delhi')\n",
      "('Beta', 'two', 'Kolkata')\n",
      "('Gamma', 'three', 'Bangalore')\n",
      "Zip file contains  3 elements.\n"
     ]
    }
   ],
   "source": [
    "# list of 4 elements\n",
    "list1 = ['Alpha', 'Beta', 'Gamma', 'Sigma']\n",
    "\n",
    "# list of 5 elements\n",
    "list2 = ['one', 'two', 'three', 'six', 'five']\n",
    "\n",
    "# list of 3 elments\n",
    "list3 = ['Delhi', 'Kolkata', 'Bangalore']\n",
    "\n",
    "# zip the values\n",
    "test = zip(list1, list2, list3)  \n",
    "cnt  = 0\n",
    "\n",
    "print('\\nPrinting the values of zip')\n",
    "for values in test:\n",
    "    print(values)  \n",
    "    cnt+=1\n",
    "\n",
    "print('Zip file contains ', cnt, 'elements.');"
   ]
  },
  {
   "cell_type": "markdown",
   "metadata": {},
   "source": [
    "#### \\*args and **kwargs in Python\n",
    "\n",
    "- The syntax is to use the symbol * to take in a variable number of arguments; by convention, it is often used with the word args.\n",
    "- What *args allows you to do is take in more arguments than the number of formal arguments that you previously defined. With *args, any number of extra arguments can be tacked on to your current formal parameters (including zero extra arguments)."
   ]
  },
  {
   "cell_type": "code",
   "execution_count": 6,
   "metadata": {},
   "outputs": [
    {
     "name": "stdout",
     "output_type": "stream",
     "text": [
      "AI\n",
      "ML\n",
      "DL\n",
      "DS\n",
      "abcd\n"
     ]
    }
   ],
   "source": [
    "# Python program to illustrate   \n",
    "# *args for variable number of arguments \n",
    "def myFun(*argv):  \n",
    "    \n",
    "    for arg in argv:  \n",
    "        print (arg) \n",
    "    \n",
    "myFun('AI', 'ML', 'DL', \"DS\", 'abcd')  \n"
   ]
  },
  {
   "cell_type": "code",
   "execution_count": 7,
   "metadata": {},
   "outputs": [
    {
     "name": "stdout",
     "output_type": "stream",
     "text": [
      "All Combined\n",
      "AI\n",
      "ML\n",
      "DL\n"
     ]
    }
   ],
   "source": [
    "def myFun(first, *argv):  \n",
    "    \n",
    "    print(first)\n",
    "    for arg in argv:  \n",
    "        print (arg) \n",
    "    \n",
    "myFun('All Combined', 'AI', 'ML', 'DL')  "
   ]
  },
  {
   "cell_type": "code",
   "execution_count": 8,
   "metadata": {},
   "outputs": [
    {
     "name": "stdout",
     "output_type": "stream",
     "text": [
      "level1 == Python\n",
      "level2 == Data Science\n",
      "level3 == Machine learning\n"
     ]
    }
   ],
   "source": [
    "# Python program to illustrate   \n",
    "# *kargs for variable number of keyword arguments \n",
    "  \n",
    "def myFun(**kwargs):  \n",
    "    for key, value in kwargs.items(): \n",
    "        print (\"%s == %s\" %(key, value)) \n",
    "  \n",
    "myFun(level1 ='Python', level2 ='Data Science', level3='Machine learning') "
   ]
  },
  {
   "cell_type": "code",
   "execution_count": 9,
   "metadata": {},
   "outputs": [
    {
     "name": "stdout",
     "output_type": "stream",
     "text": [
      "techxdb\n",
      "Data nuts\n",
      "level1 == Python\n",
      "level2 == Data Science\n",
      "level3 == Machine learning\n"
     ]
    }
   ],
   "source": [
    "def myFun(first, second, **kwargs):  \n",
    "    \n",
    "    print(first)\n",
    "    print(second)\n",
    "    \n",
    "    for key, value in kwargs.items(): \n",
    "        print (\"%s == %s\" %(key, value)) \n",
    "  \n",
    "myFun('techxdb', 'Data nuts', level1 ='Python', level2 ='Data Science', level3='Machine learning') "
   ]
  },
  {
   "cell_type": "code",
   "execution_count": null,
   "metadata": {
    "collapsed": true
   },
   "outputs": [],
   "source": []
  }
 ],
 "metadata": {
  "kernelspec": {
   "display_name": "Python 3",
   "language": "python",
   "name": "python3"
  },
  "language_info": {
   "codemirror_mode": {
    "name": "ipython",
    "version": 3
   },
   "file_extension": ".py",
   "mimetype": "text/x-python",
   "name": "python",
   "nbconvert_exporter": "python",
   "pygments_lexer": "ipython3",
   "version": "3.7.0"
  }
 },
 "nbformat": 4,
 "nbformat_minor": 2
}

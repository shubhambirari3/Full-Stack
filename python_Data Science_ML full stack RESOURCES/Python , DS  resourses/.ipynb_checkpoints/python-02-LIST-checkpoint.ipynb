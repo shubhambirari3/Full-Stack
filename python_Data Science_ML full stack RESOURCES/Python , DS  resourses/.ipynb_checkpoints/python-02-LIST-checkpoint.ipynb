{
 "cells": [
  {
   "cell_type": "code",
   "execution_count": 2,
   "metadata": {},
   "outputs": [],
   "source": [
    "# empty list\n",
    "my_list = []\n",
    "\n",
    "# list of integers\n",
    "my_list = [1, 2, 3]\n",
    "\n",
    "# list with mixed datatypes\n",
    "my_list = [1, \"Hello\", 3.4]\n",
    "\n",
    "# nested list\n",
    "n_list = [\"Happy\", [2,0,1,5]]"
   ]
  },
  {
   "cell_type": "code",
   "execution_count": 3,
   "metadata": {},
   "outputs": [
    {
     "name": "stdout",
     "output_type": "stream",
     "text": [
      "I have 4 items to purchase.\n",
      "apple  mango  carrot  banana  "
     ]
    }
   ],
   "source": [
    "shoplist = ['apple', 'mango', 'carrot', 'banana']\n",
    "print('I have', len(shoplist), 'items to purchase.')\n",
    "\n",
    "##print('These items are:', end=' :ML-CLASS: ')\n",
    "# print('These items are:')\n",
    "\n",
    "for item in shoplist:\n",
    "    print(item, end ='  ')\n",
    "#print(item)\n"
   ]
  },
  {
   "cell_type": "code",
   "execution_count": 4,
   "metadata": {},
   "outputs": [
    {
     "data": {
      "text/plain": [
       "['apple', 'mango', 'carrot', 'banana']"
      ]
     },
     "execution_count": 4,
     "metadata": {},
     "output_type": "execute_result"
    }
   ],
   "source": [
    "shoplist"
   ]
  },
  {
   "cell_type": "code",
   "execution_count": 41,
   "metadata": {},
   "outputs": [
    {
     "name": "stdout",
     "output_type": "stream",
     "text": [
      "Welcome to DS  GeeksforGeeks\n"
     ]
    }
   ],
   "source": [
    "# By default python’s print() function ends with a newline. \n",
    "# how to print without newline.\n",
    "\n",
    "# Python’s print() function comes with a parameter called ‘end’. \n",
    "# By default, the value of this parameter is ‘\\n’, i.e. the new line character. \n",
    "# You can end a print statement with any character/string using this parameter.\n",
    "# ends the output with a <space> \n",
    "print(\"Welcome to\", end = ' DS ' ) \n",
    "print(\" GeeksforGeeks\")"
   ]
  },
  {
   "cell_type": "code",
   "execution_count": 6,
   "metadata": {},
   "outputs": [
    {
     "name": "stdout",
     "output_type": "stream",
     "text": [
      "Welcome to GeeksforGeeks\n"
     ]
    }
   ],
   "source": [
    "print(\"Welcome to\", end = \" \" ) \n",
    "print(\"GeeksforGeeks\")"
   ]
  },
  {
   "cell_type": "code",
   "execution_count": 4,
   "metadata": {},
   "outputs": [
    {
     "name": "stdout",
     "output_type": "stream",
     "text": [
      "\n",
      "I also have to buy rice.\n",
      "My shopping list is now ['apple', 'mango', 'carrot', 'banana', 'rice']\n",
      "My shopping list is now ['apple', 'mango', 'carrot', 'banana', 'rice', 'table', 'chair', 'pen']\n",
      "My shopping list is now ['apple', 'mango', 'carrot', 'banana', 'rice', 'table', 'chair', 'pen', 'a', 'b', 'c']\n"
     ]
    }
   ],
   "source": [
    "# append to list\n",
    "# add one item to a list using append() method or \n",
    "# add several items using extend()\n",
    "print('\\nI also have to buy rice.')\n",
    "\n",
    "shoplist.append('rice')\n",
    "print('My shopping list is now', shoplist)\n",
    "\n",
    "shoplist.extend(['table', 'chair', 'pen'])\n",
    "print('My shopping list is now', shoplist)\n",
    "\n",
    "# use + operator to combine two lists. This is also called concatenation.\n",
    "shoplist1 = ['a', 'b', 'c']\n",
    "\n",
    "shoplist = shoplist + shoplist1\n",
    "print('My shopping list is now', shoplist)"
   ]
  },
  {
   "cell_type": "code",
   "execution_count": 6,
   "metadata": {},
   "outputs": [
    {
     "data": {
      "text/plain": [
       "['apple',\n",
       " 'mango',\n",
       " 'carrot',\n",
       " 'banana',\n",
       " 'rice',\n",
       " 'table',\n",
       " 'chair',\n",
       " 'pen',\n",
       " 'a',\n",
       " 'b',\n",
       " 'c']"
      ]
     },
     "execution_count": 6,
     "metadata": {},
     "output_type": "execute_result"
    }
   ],
   "source": [
    "shoplist"
   ]
  },
  {
   "cell_type": "code",
   "execution_count": 7,
   "metadata": {},
   "outputs": [
    {
     "name": "stdout",
     "output_type": "stream",
     "text": [
      "['apple', 'mango', 'carrot', 'banana', 'rice', 'table', 'chair', 'pen', 'a', 'b', 'c']\n"
     ]
    }
   ],
   "source": [
    "print(shoplist)"
   ]
  },
  {
   "cell_type": "code",
   "execution_count": 8,
   "metadata": {},
   "outputs": [
    {
     "name": "stdout",
     "output_type": "stream",
     "text": [
      "apple\n",
      "mango\n",
      "g\n"
     ]
    }
   ],
   "source": [
    "\n",
    "# accessing a list\n",
    "print(shoplist[0])\n",
    "print(shoplist[1])\n",
    "\n",
    "print(shoplist[1][3])"
   ]
  },
  {
   "cell_type": "code",
   "execution_count": 25,
   "metadata": {},
   "outputs": [
    {
     "name": "stdout",
     "output_type": "stream",
     "text": [
      "g\n"
     ]
    }
   ],
   "source": [
    "print(shoplist[1][3])"
   ]
  },
  {
   "cell_type": "code",
   "execution_count": 10,
   "metadata": {},
   "outputs": [
    {
     "name": "stdout",
     "output_type": "stream",
     "text": [
      "p\n"
     ]
    }
   ],
   "source": [
    "print(shoplist[0][1])  "
   ]
  },
  {
   "cell_type": "code",
   "execution_count": 10,
   "metadata": {},
   "outputs": [
    {
     "name": "stdout",
     "output_type": "stream",
     "text": [
      "c\n",
      "chair\n"
     ]
    }
   ],
   "source": [
    "# Negative indexing\n",
    "# Python allows negative indexing for its sequences. \n",
    "# The index of -1 refers to the last item, -2 to the second last item and so on.\n",
    "print(shoplist[-1])\n",
    "print(shoplist[-5])"
   ]
  },
  {
   "cell_type": "code",
   "execution_count": 12,
   "metadata": {},
   "outputs": [
    {
     "name": "stdout",
     "output_type": "stream",
     "text": [
      "['apple', 'mango', 'carrot', 'banana', 'rice', 'table', 'chair', 'pen', 'a', 'b', 'c']\n"
     ]
    }
   ],
   "source": [
    "print(shoplist)"
   ]
  },
  {
   "cell_type": "code",
   "execution_count": 13,
   "metadata": {},
   "outputs": [
    {
     "name": "stdout",
     "output_type": "stream",
     "text": [
      "['apple', 'mango', 'carrot']\n",
      "['carrot', 'banana', 'rice', 'table']\n",
      "['apple', 'mango', 'carrot', 'banana', 'rice', 'table', 'chair', 'pen', 'a', 'b', 'c']\n"
     ]
    }
   ],
   "source": [
    "# slice lists \n",
    "# elements beginning to 3rd\n",
    "print(shoplist[:3])\n",
    "\n",
    "# elements 2nd to end\n",
    "print(shoplist[2:6])\n",
    "\n",
    "# elements beginning to end\n",
    "print(shoplist[:])"
   ]
  },
  {
   "cell_type": "code",
   "execution_count": 12,
   "metadata": {},
   "outputs": [
    {
     "name": "stdout",
     "output_type": "stream",
     "text": [
      "I will sort my list now\n",
      "Sorted shopping list is ['12', '2', 'a', 'apple', 'b', 'c', 'carrot', 'chair', 'mango', 'pen', 'table']\n"
     ]
    }
   ],
   "source": [
    "# sort the list\n",
    "print('I will sort my list now')\n",
    "shoplist.sort()\n",
    "\n",
    "print('Sorted shopping list is', shoplist)\n"
   ]
  },
  {
   "cell_type": "code",
   "execution_count": 11,
   "metadata": {},
   "outputs": [
    {
     "name": "stdout",
     "output_type": "stream",
     "text": [
      "['12', 'a', 'apple', 'b', '2', 'c', 'carrot', 'chair', 'mango', 'pen', 'table']\n"
     ]
    }
   ],
   "source": [
    "# make changes to list\n",
    "shoplist[4] =\"2\"\n",
    "print(shoplist[:])"
   ]
  },
  {
   "cell_type": "code",
   "execution_count": 16,
   "metadata": {
    "scrolled": true
   },
   "outputs": [
    {
     "name": "stdout",
     "output_type": "stream",
     "text": [
      "The first item I will buy is 2\n",
      "I bought the 2\n",
      "My shopping list is now ['2', 'a', 'apple', 'b', 'c', 'carrot', 'chair', 'mango', 'pen', 'table']\n"
     ]
    }
   ],
   "source": [
    "# delete a list item\n",
    "print('The first item I will buy is', shoplist[0])\n",
    "olditem = shoplist[0]\n",
    "\n",
    "#del shoplist[0]\n",
    "print('I bought the', olditem)\n",
    "print('My shopping list is now', shoplist)"
   ]
  },
  {
   "cell_type": "code",
   "execution_count": 17,
   "metadata": {},
   "outputs": [],
   "source": [
    "del olditem"
   ]
  },
  {
   "cell_type": "code",
   "execution_count": 18,
   "metadata": {},
   "outputs": [
    {
     "data": {
      "text/plain": [
       "['2', 'a', 'apple', 'b', 'c', 'carrot', 'chair', 'mango', 'pen', 'table']"
      ]
     },
     "execution_count": 18,
     "metadata": {},
     "output_type": "execute_result"
    }
   ],
   "source": [
    "shoplist"
   ]
  },
  {
   "cell_type": "code",
   "execution_count": null,
   "metadata": {
    "collapsed": true
   },
   "outputs": [],
   "source": [
    "# Remove method: takes a value as input, searches for it, \n",
    "# removes the first match. If the item is not found it errors out\n",
    "\n",
    "# del function: removes an item at a specific index, can delete all elements or a slice\n",
    "# pop method: by default, it removes and returns the last element but you \n",
    "# can pop any element by providing an index"
   ]
  },
  {
   "cell_type": "code",
   "execution_count": 19,
   "metadata": {},
   "outputs": [
    {
     "name": "stdout",
     "output_type": "stream",
     "text": [
      "Example 1 : A = [1, 2, 3, 4]\n"
     ]
    },
    {
     "data": {
      "text/plain": [
       "[1, 2, 3, 4]"
      ]
     },
     "execution_count": 19,
     "metadata": {},
     "output_type": "execute_result"
    }
   ],
   "source": [
    "A = [1, 2, 4, 3, 4]\n",
    "A.remove(4)\n",
    "\n",
    "# This will print [1, 2, 3, 4]\n",
    "print(\"Example 1 : A = {}\".format(A))\n",
    "A"
   ]
  },
  {
   "cell_type": "code",
   "execution_count": 20,
   "metadata": {},
   "outputs": [
    {
     "name": "stdout",
     "output_type": "stream",
     "text": [
      "Example 2 : A = [1, 2, 3, 4]\n"
     ]
    }
   ],
   "source": [
    "# (2) Delete an item with index\n",
    "A = [1, 2, 4, 3, 4]\n",
    "del A[2]\n",
    "\n",
    "# This will print [1, 2, 3, 4]\n",
    "print(\"Example 2 : A = {}\".format(A))"
   ]
  },
  {
   "cell_type": "code",
   "execution_count": 22,
   "metadata": {},
   "outputs": [
    {
     "name": "stdout",
     "output_type": "stream",
     "text": [
      "Enter1 ,2,3\n",
      "Example 3 : A =  []\n",
      "WELCOME 1 ,2,3 to defour\n",
      "WELCOME 1 ,2,3 to defour\n"
     ]
    }
   ],
   "source": [
    "# (3) Delete all items\n",
    "A = [1, 2, 4, 3, 4]\n",
    "del A[:]\n",
    "##################################\n",
    "\n",
    "name = input(\"Enter\")\n",
    "# This will print []\n",
    "#print(\"Example 3 : A = \",A)\n",
    "#print(\"WELCOME\", name , \"to defour\")\n",
    "#print(\"WELCOME {} to defour\".format(name))"
   ]
  },
  {
   "cell_type": "code",
   "execution_count": 21,
   "metadata": {},
   "outputs": [
    {
     "name": "stdout",
     "output_type": "stream",
     "text": [
      "Example 4 : A = [1, 3, 4]\n"
     ]
    }
   ],
   "source": [
    "# (4) Delete a slice 2, 4\n",
    "A = [1, 2, 4, 3, 4]\n",
    "del A[1:3]\n",
    "\n",
    "# This will print [1, 3, 4]\n",
    "print(\"Example 4 : A = {}\".format(A))"
   ]
  },
  {
   "cell_type": "code",
   "execution_count": 22,
   "metadata": {},
   "outputs": [
    {
     "name": "stdout",
     "output_type": "stream",
     "text": [
      "Example 5 : A = [1, 2, 4, 3]\n",
      "Example 5 : x = 4\n"
     ]
    }
   ],
   "source": [
    "# (5) pop: remove and get the last item\n",
    "A = [1, 2, 4, 3, 4]\n",
    "x = A.pop()\n",
    "\n",
    "# This will print [1, 2, 4, 3]\n",
    "print(\"Example 5 : A = {}\".format(A))\n",
    "\n",
    "# This will print 4\n",
    "print(\"Example 5 : x = {}\".format(x))"
   ]
  },
  {
   "cell_type": "code",
   "execution_count": 23,
   "metadata": {},
   "outputs": [
    {
     "name": "stdout",
     "output_type": "stream",
     "text": [
      "Example 6 : A = [1, 4, 3, 4]\n",
      "Example 6 : x = 2\n"
     ]
    }
   ],
   "source": [
    "# (6) pop with index: remove and get the second item\n",
    "A = [1, 2, 4, 3, 4]\n",
    "x = A.pop(1)\n",
    "\n",
    "# This will print [1, 4, 3, 4]\n",
    "print(\"Example 6 : A = {}\".format(A))\n",
    "# This will print 2\n",
    "print(\"Example 6 : x = {}\".format(x))"
   ]
  },
  {
   "cell_type": "code",
   "execution_count": null,
   "metadata": {
    "collapsed": true
   },
   "outputs": [],
   "source": [
    "# Python List Methods\n",
    "# Methods that are available with list object \n",
    "\n",
    "# Are accessed as list.method(). \n",
    "'''\n",
    "append() - Add an element to the end of the list\n",
    "extend() - Add all elements of a list to the another list\n",
    "insert() - Insert an item at the defined index\n",
    "remove() - Removes an item from the list\n",
    "pop() - Removes and returns an element at the given index\n",
    "clear() - Removes all items from the list\n",
    "index() - Returns the index of the first matched item\n",
    "count() - Returns the count of number of items passed as an argument\n",
    "sort() - Sort items in a list in ascending order\n",
    "reverse() - Reverse the order of items in the list\n",
    "copy() - Returns a shallow copy of the list\n",
    "'''"
   ]
  },
  {
   "cell_type": "code",
   "execution_count": null,
   "metadata": {
    "collapsed": true
   },
   "outputs": [],
   "source": []
  },
  {
   "cell_type": "code",
   "execution_count": 24,
   "metadata": {},
   "outputs": [
    {
     "name": "stdout",
     "output_type": "stream",
     "text": [
      "['apple', 'b', 'banana', '12', 'carrot', 'chair', 'mango', 'pen', 'rice', 'table']\n"
     ]
    }
   ],
   "source": [
    "print(shoplist)"
   ]
  },
  {
   "cell_type": "code",
   "execution_count": 25,
   "metadata": {},
   "outputs": [
    {
     "name": "stdout",
     "output_type": "stream",
     "text": [
      "My shopping list is now ['apple', 'b', 'INSERTED ITEM', 'banana', '12', 'carrot', 'chair', 'mango', 'pen', 'rice', 'table']\n"
     ]
    }
   ],
   "source": [
    "# insert() \t\t- Insert an item at the defined index\n",
    "\n",
    "shoplist.insert(2, \"INSERTED ITEM\")\n",
    "print('My shopping list is now', shoplist)"
   ]
  },
  {
   "cell_type": "code",
   "execution_count": 32,
   "metadata": {},
   "outputs": [
    {
     "name": "stdout",
     "output_type": "stream",
     "text": [
      "My shopping list is now ['12', 'a', 'b', 'banana', 'carrot', 'chair', 'mango', 'pen', 'rice', 'table']\n"
     ]
    }
   ],
   "source": [
    "# remove() - Removes an item from the list\n",
    "shoplist.remove(\"INSERTED ITEM\")\n",
    "print('My shopping list is now', shoplist)"
   ]
  },
  {
   "cell_type": "code",
   "execution_count": 29,
   "metadata": {},
   "outputs": [
    {
     "name": "stdout",
     "output_type": "stream",
     "text": [
      "['apple', 'b', 'INSERTED ITEM', 'banana', '12', 'carrot', 'chair', 'mango', 'pen', 'rice', 'b', 'b']\n"
     ]
    }
   ],
   "source": [
    "shoplist.append('b')\n",
    "print(shoplist)"
   ]
  },
  {
   "cell_type": "code",
   "execution_count": 27,
   "metadata": {},
   "outputs": [
    {
     "name": "stdout",
     "output_type": "stream",
     "text": [
      "My shopping list is now ['apple', 'b', 'INSERTED ITEM', 'banana', '12', 'carrot', 'chair', 'mango', 'pen', 'rice']\n"
     ]
    }
   ],
   "source": [
    "# pop() - Removes and returns an element at the given index\n",
    "shoplist.pop()\n",
    "print('My shopping list is now', shoplist)"
   ]
  },
  {
   "cell_type": "code",
   "execution_count": 30,
   "metadata": {},
   "outputs": [
    {
     "name": "stdout",
     "output_type": "stream",
     "text": [
      "position of matched item is :  1\n"
     ]
    }
   ],
   "source": [
    "# index() - Returns the index of the first matched item\n",
    "pos = shoplist.index('b')\n",
    "print('position of matched item is : ', pos)"
   ]
  },
  {
   "cell_type": "code",
   "execution_count": 31,
   "metadata": {},
   "outputs": [],
   "source": [
    "p= shoplist.clear()"
   ]
  },
  {
   "cell_type": "code",
   "execution_count": 32,
   "metadata": {},
   "outputs": [
    {
     "data": {
      "text/plain": [
       "[]"
      ]
     },
     "execution_count": 32,
     "metadata": {},
     "output_type": "execute_result"
    }
   ],
   "source": [
    "shoplist"
   ]
  },
  {
   "cell_type": "code",
   "execution_count": 34,
   "metadata": {},
   "outputs": [
    {
     "name": "stdout",
     "output_type": "stream",
     "text": [
      "count of matched item is :  0\n"
     ]
    }
   ],
   "source": [
    "# count() - Returns the number of occurances of the matched item\n",
    "cnt = shoplist.count('b')\n",
    "print('count of matched item is : ', cnt)"
   ]
  },
  {
   "cell_type": "code",
   "execution_count": 35,
   "metadata": {},
   "outputs": [
    {
     "data": {
      "text/plain": [
       "range(0, 10)"
      ]
     },
     "execution_count": 35,
     "metadata": {},
     "output_type": "execute_result"
    }
   ],
   "source": [
    "x=range(10)\n",
    "x"
   ]
  },
  {
   "cell_type": "code",
   "execution_count": 49,
   "metadata": {},
   "outputs": [
    {
     "name": "stdout",
     "output_type": "stream",
     "text": [
      "9 ---> [1, 2, 4, 8, 16, 32, 64, 128, 256, 512]\n"
     ]
    }
   ],
   "source": [
    "# creating list of \n",
    "powerList = []\n",
    "for x in range(10):\n",
    "    #print(x)\n",
    "    powerList.append(2 ** x)\n",
    "\n",
    "print(x ,\"--->\" ,powerList)\n"
   ]
  },
  {
   "cell_type": "code",
   "execution_count": 55,
   "metadata": {},
   "outputs": [],
   "source": [
    "# list comprehension\n",
    "# List comprehension consists of an expression followed by for statement \n",
    "# inside squar ** x for x in range(10)e brackets.\n",
    "powerList = [2]"
   ]
  },
  {
   "cell_type": "code",
   "execution_count": 36,
   "metadata": {},
   "outputs": [
    {
     "name": "stdout",
     "output_type": "stream",
     "text": [
      "[1, 2, 4, 8, 16, 32, 64, 128, 256, 512]\n"
     ]
    }
   ],
   "source": [
    "# list comprehension with if \n",
    "powerList = [2 ** x for x in range(10) ]\n",
    "\n",
    "print(powerList)"
   ]
  },
  {
   "cell_type": "code",
   "execution_count": 37,
   "metadata": {},
   "outputs": [
    {
     "name": "stdout",
     "output_type": "stream",
     "text": [
      "[2, 8, 32, 128, 512, 2048, 8192, 32768, 131072, 524288]\n"
     ]
    }
   ],
   "source": [
    "# build powerList of odd numbers\n",
    "oddpowerList = [2 ** x for x in range(20) if x % 2 == 1]\n",
    "print(oddpowerList)"
   ]
  },
  {
   "cell_type": "code",
   "execution_count": 38,
   "metadata": {},
   "outputs": [
    {
     "name": "stdout",
     "output_type": "stream",
     "text": [
      "[1, 4, 16, 64, 256, 1024, 4096, 16384, 65536, 262144]\n"
     ]
    }
   ],
   "source": [
    "# build powerList of even numbers\n",
    "evenpowerList = [2 ** x for x in range(20) if x % 2 == 0]\n",
    "print(evenpowerList)"
   ]
  },
  {
   "cell_type": "code",
   "execution_count": 44,
   "metadata": {},
   "outputs": [
    {
     "name": "stdout",
     "output_type": "stream",
     "text": [
      "I like -  apple\n",
      "I like -  mango\n",
      "I like -  carrot\n",
      "I like -  banana\n",
      "I like -  rice\n",
      "I like -  table\n",
      "I like -  chair\n",
      "I like -  pen\n",
      "I like -  a\n",
      "I like -  b\n",
      "I like -  c\n"
     ]
    }
   ],
   "source": [
    "# Iterating Through a List\n",
    "for listItem in shoplist:\n",
    "    print(\"I like - \", listItem)"
   ]
  },
  {
   "cell_type": "code",
   "execution_count": null,
   "metadata": {
    "collapsed": true
   },
   "outputs": [],
   "source": [
    "'''\n",
    "Built-in Functions with List\n",
    "all()\tReturn True if all elements of the list are true \n",
    "        (or if the list is empty).\n",
    "any()\tReturn True if any element of the list is true. \n",
    "        If the list is empty, return False.\n",
    "enumerate()\tReturn an enumerate object. It contains the index \n",
    "            and value of all the items of list as a tuple.\n",
    "len()\tReturn the length (the number of items) in the list.\n",
    "list()\tConvert an iterable (tuple, string, set, dictionary) to a list.\n",
    "max()\tReturn the largest item in the list.\n",
    "min()\tReturn the smallest item in the list\n",
    "sorted()\tReturn a new sorted list (does not sort the list itself).\n",
    "sum()\tReturn the sum of all elements in the list.\n",
    "'''"
   ]
  },
  {
   "cell_type": "code",
   "execution_count": 45,
   "metadata": {},
   "outputs": [
    {
     "data": {
      "text/plain": [
       "False"
      ]
     },
     "execution_count": 45,
     "metadata": {},
     "output_type": "execute_result"
    }
   ],
   "source": [
    "lst = [1, 2, 3, False, 1, 3, 2]\n",
    "all(lst)"
   ]
  },
  {
   "cell_type": "code",
   "execution_count": 47,
   "metadata": {},
   "outputs": [
    {
     "name": "stdout",
     "output_type": "stream",
     "text": [
      "['bread', 'milk', 'butter']\n",
      "<enumerate object at 0x000001CFF7466120>\n",
      "[(0, 'bread'), (1, 'milk'), (2, 'butter')]\n"
     ]
    }
   ],
   "source": [
    "# enumerate()\n",
    "grocery = ['bread', 'milk', 'butter']\n",
    "print(grocery)\n",
    "enumerateGrocery = enumerate(grocery)\n",
    "print(enumerateGrocery )\n",
    "print(list(enumerateGrocery))"
   ]
  },
  {
   "cell_type": "code",
   "execution_count": 48,
   "metadata": {},
   "outputs": [
    {
     "name": "stdout",
     "output_type": "stream",
     "text": [
      "[(100, 'bread'), (101, 'milk'), (102, 'butter')]\n"
     ]
    }
   ],
   "source": [
    "enumerateGrocery = enumerate(grocery,100)\n",
    "\n",
    "print(list(enumerateGrocery))"
   ]
  },
  {
   "cell_type": "code",
   "execution_count": 50,
   "metadata": {},
   "outputs": [],
   "source": [
    "# Looping Over an Enumerate object\n",
    "for item in (list(enumerateGrocery)):\n",
    "    print(item)"
   ]
  },
  {
   "cell_type": "markdown",
   "metadata": {},
   "source": [
    "Please check the code excecution ..."
   ]
  },
  {
   "cell_type": "code",
   "execution_count": 57,
   "metadata": {},
   "outputs": [
    {
     "data": {
      "text/plain": [
       "3"
      ]
     },
     "execution_count": 57,
     "metadata": {},
     "output_type": "execute_result"
    }
   ],
   "source": [
    "# len()\n",
    "grocery = ['bread', 'milk', 'butter']\n",
    "len(grocery)\n"
   ]
  },
  {
   "cell_type": "code",
   "execution_count": 11,
   "metadata": {},
   "outputs": [
    {
     "data": {
      "text/plain": [
       "'milk'"
      ]
     },
     "execution_count": 11,
     "metadata": {},
     "output_type": "execute_result"
    }
   ],
   "source": [
    "max(grocery)\n"
   ]
  },
  {
   "cell_type": "code",
   "execution_count": 51,
   "metadata": {},
   "outputs": [
    {
     "data": {
      "text/plain": [
       "'bread'"
      ]
     },
     "execution_count": 51,
     "metadata": {},
     "output_type": "execute_result"
    }
   ],
   "source": [
    "min(grocery)"
   ]
  },
  {
   "cell_type": "code",
   "execution_count": 55,
   "metadata": {},
   "outputs": [
    {
     "data": {
      "text/plain": [
       "59"
      ]
     },
     "execution_count": 55,
     "metadata": {},
     "output_type": "execute_result"
    }
   ],
   "source": [
    "list1= [1,2,5,10,41]\n",
    "sum(list1)"
   ]
  }
 ],
 "metadata": {
  "kernelspec": {
   "display_name": "Python 3",
   "language": "python",
   "name": "python3"
  },
  "language_info": {
   "codemirror_mode": {
    "name": "ipython",
    "version": 3
   },
   "file_extension": ".py",
   "mimetype": "text/x-python",
   "name": "python",
   "nbconvert_exporter": "python",
   "pygments_lexer": "ipython3",
   "version": "3.7.0"
  }
 },
 "nbformat": 4,
 "nbformat_minor": 2
}

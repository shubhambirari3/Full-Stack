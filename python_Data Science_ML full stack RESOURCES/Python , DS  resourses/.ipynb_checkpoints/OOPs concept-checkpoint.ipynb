{
 "cells": [
  {
   "cell_type": "markdown",
   "metadata": {},
   "source": [
    "# OOPs concept : Object Oriented Programming\n",
    "### Object is the instance \n",
    "#### An object has \n",
    "     a. attributes: Data describing the object\n",
    "     b. Behaviour: Methods on the attributes \n",
    "     \n",
    "#### Class : Similar group of objects:\n",
    "    \n",
    "    "
   ]
  },
  {
   "cell_type": "code",
   "execution_count": 1,
   "metadata": {},
   "outputs": [],
   "source": [
    "## self refefres to the \n",
    "class car:\n",
    "    def getSpeed(self):\n",
    "        print(\"avarage speed calculation\")"
   ]
  },
  {
   "cell_type": "code",
   "execution_count": 3,
   "metadata": {},
   "outputs": [],
   "source": [
    "BMW = car()\n",
    "FORD = car()"
   ]
  },
  {
   "cell_type": "code",
   "execution_count": 4,
   "metadata": {},
   "outputs": [
    {
     "name": "stdout",
     "output_type": "stream",
     "text": [
      "avarage speed calculation\n"
     ]
    }
   ],
   "source": [
    "car.getSpeed(BMW)"
   ]
  },
  {
   "cell_type": "code",
   "execution_count": 5,
   "metadata": {},
   "outputs": [
    {
     "name": "stdout",
     "output_type": "stream",
     "text": [
      "avarage speed calculation\n"
     ]
    }
   ],
   "source": [
    "car.getSpeed(BMW)"
   ]
  },
  {
   "cell_type": "code",
   "execution_count": 6,
   "metadata": {},
   "outputs": [
    {
     "name": "stdout",
     "output_type": "stream",
     "text": [
      "avarage speed calculation\n"
     ]
    }
   ],
   "source": [
    "BMW.getSpeed()"
   ]
  },
  {
   "cell_type": "code",
   "execution_count": 7,
   "metadata": {},
   "outputs": [
    {
     "name": "stdout",
     "output_type": "stream",
     "text": [
      "avarage speed calculation\n"
     ]
    }
   ],
   "source": [
    "FORD.getSpeed()"
   ]
  },
  {
   "cell_type": "code",
   "execution_count": 18,
   "metadata": {},
   "outputs": [],
   "source": [
    "class car():\n",
    "    def __init__ (self, year, speed): \n",
    "        self.year = year\n",
    "        self.speed = speed\n",
    "    def getSpeed(self):\n",
    "        print(\"MAX SPEED\", self.speed)\n",
    "        \n"
   ]
  },
  {
   "cell_type": "code",
   "execution_count": 19,
   "metadata": {},
   "outputs": [],
   "source": [
    "BMW = car(2018,155)"
   ]
  },
  {
   "cell_type": "code",
   "execution_count": 21,
   "metadata": {},
   "outputs": [
    {
     "name": "stdout",
     "output_type": "stream",
     "text": [
      "MAX SPEED 155\n"
     ]
    }
   ],
   "source": [
    "BMW.getSpeed()"
   ]
  },
  {
   "cell_type": "markdown",
   "metadata": {},
   "source": [
    "# Inheritance\n",
    "### Inheritance is the mechanism for new class to use the features of another class"
   ]
  },
  {
   "cell_type": "code",
   "execution_count": 22,
   "metadata": {},
   "outputs": [],
   "source": [
    "## Child class for car\n",
    "class Sedan(car):\n",
    "    def acceleration(self):\n",
    "        print(\"SUDAN 137\")\n",
    "    def openTrunk(self):\n",
    "        print(\"Trunk open\")\n",
    "        \n",
    "class SUV(car):\n",
    "    def acceleration(self):\n",
    "        print(\"SUV 127\")"
   ]
  },
  {
   "cell_type": "code",
   "execution_count": 24,
   "metadata": {},
   "outputs": [],
   "source": [
    "Honda = Sedan(1998,123)"
   ]
  },
  {
   "cell_type": "code",
   "execution_count": 25,
   "metadata": {},
   "outputs": [
    {
     "name": "stdout",
     "output_type": "stream",
     "text": [
      "MAX SPEED 155\n"
     ]
    }
   ],
   "source": [
    "BMW.getSpeed()"
   ]
  },
  {
   "cell_type": "code",
   "execution_count": 26,
   "metadata": {},
   "outputs": [
    {
     "name": "stdout",
     "output_type": "stream",
     "text": [
      "MAX SPEED 123\n"
     ]
    }
   ],
   "source": [
    "Honda.getSpeed()"
   ]
  },
  {
   "cell_type": "code",
   "execution_count": 27,
   "metadata": {},
   "outputs": [
    {
     "name": "stdout",
     "output_type": "stream",
     "text": [
      "Trunk open\n"
     ]
    }
   ],
   "source": [
    "Honda.openTrunk()"
   ]
  },
  {
   "cell_type": "code",
   "execution_count": 28,
   "metadata": {},
   "outputs": [
    {
     "ename": "AttributeError",
     "evalue": "'car' object has no attribute 'openTrunk'",
     "output_type": "error",
     "traceback": [
      "\u001b[1;31m---------------------------------------------------------------------------\u001b[0m",
      "\u001b[1;31mAttributeError\u001b[0m                            Traceback (most recent call last)",
      "\u001b[1;32m<ipython-input-28-8e56c15a813b>\u001b[0m in \u001b[0;36m<module>\u001b[1;34m()\u001b[0m\n\u001b[1;32m----> 1\u001b[1;33m \u001b[0mBMW\u001b[0m\u001b[1;33m.\u001b[0m\u001b[0mopenTrunk\u001b[0m\u001b[1;33m(\u001b[0m\u001b[1;33m)\u001b[0m\u001b[1;33m\u001b[0m\u001b[0m\n\u001b[0m",
      "\u001b[1;31mAttributeError\u001b[0m: 'car' object has no attribute 'openTrunk'"
     ]
    }
   ],
   "source": [
    "BMW.openTrunk()"
   ]
  },
  {
   "cell_type": "code",
   "execution_count": 29,
   "metadata": {},
   "outputs": [
    {
     "name": "stdout",
     "output_type": "stream",
     "text": [
      "SUDAN 137\n"
     ]
    }
   ],
   "source": [
    "Honda.acceleration()"
   ]
  },
  {
   "cell_type": "markdown",
   "metadata": {},
   "source": [
    "# Encapsulation \n",
    "### The feature of preventing the data from direct access is called encapsulation"
   ]
  },
  {
   "cell_type": "code",
   "execution_count": 30,
   "metadata": {},
   "outputs": [],
   "source": [
    "class car():\n",
    "    def __init__ (self, year, speed): \n",
    "        self.year = year\n",
    "        self.speed = speed\n",
    "    def getSpeed(self):\n",
    "        print(\"MAX SPEED\", self.speed)\n",
    "        \n",
    "    def setSpeed(self,speed):\n",
    "            self.speed = speed"
   ]
  },
  {
   "cell_type": "code",
   "execution_count": 32,
   "metadata": {},
   "outputs": [],
   "source": [
    "## Whatever objects created will not make any changes in class which is declared.\n",
    "\n",
    "BMW= car(2018, 155) "
   ]
  },
  {
   "cell_type": "markdown",
   "metadata": {},
   "source": [
    "# Polymorphism\n",
    "### Using the same function in multiple ways"
   ]
  },
  {
   "cell_type": "code",
   "execution_count": 34,
   "metadata": {},
   "outputs": [],
   "source": [
    "class car():\n",
    "    def __init__ (self, name): \n",
    "        self.name = name\n",
    "\n",
    "class Sedan(car):\n",
    "    def acceleration(self):\n",
    "        print(\"SUDAN 137\")\n",
    "    def openTrunk(self):\n",
    "        print(\"Trunk open\")\n",
    "        \n",
    "class SUV(car):\n",
    "    def acceleration(self):\n",
    "        print(\"SUV 127\")"
   ]
  },
  {
   "cell_type": "code",
   "execution_count": 35,
   "metadata": {},
   "outputs": [],
   "source": [
    "obj = [Sedan(\"Camry\"),SUV(\"Scorpio\")]"
   ]
  },
  {
   "cell_type": "code",
   "execution_count": 36,
   "metadata": {},
   "outputs": [
    {
     "name": "stdout",
     "output_type": "stream",
     "text": [
      "Car name Camry\n",
      "SUDAN 137\n",
      "Car name Scorpio\n",
      "SUV 127\n"
     ]
    }
   ],
   "source": [
    "for o in obj:\n",
    "    print (\"Car name\", o.name )\n",
    "    o.acceleration()"
   ]
  },
  {
   "cell_type": "code",
   "execution_count": null,
   "metadata": {},
   "outputs": [],
   "source": []
  }
 ],
 "metadata": {
  "kernelspec": {
   "display_name": "Python 3",
   "language": "python",
   "name": "python3"
  },
  "language_info": {
   "codemirror_mode": {
    "name": "ipython",
    "version": 3
   },
   "file_extension": ".py",
   "mimetype": "text/x-python",
   "name": "python",
   "nbconvert_exporter": "python",
   "pygments_lexer": "ipython3",
   "version": "3.7.0"
  }
 },
 "nbformat": 4,
 "nbformat_minor": 2
}

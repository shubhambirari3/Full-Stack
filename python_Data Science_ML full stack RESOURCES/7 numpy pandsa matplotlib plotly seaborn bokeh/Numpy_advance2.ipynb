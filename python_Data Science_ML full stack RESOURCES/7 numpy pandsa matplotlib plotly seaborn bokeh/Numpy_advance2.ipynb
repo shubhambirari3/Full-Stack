{
 "cells": [
  {
   "cell_type": "code",
   "execution_count": 1,
   "id": "8dfedac3-5f51-4275-819c-507f2d27b30e",
   "metadata": {},
   "outputs": [],
   "source": [
    "import numpy as np"
   ]
  },
  {
   "cell_type": "code",
   "execution_count": 2,
   "id": "23d4c995-e74f-4978-97f9-cc36b2fa39c3",
   "metadata": {},
   "outputs": [],
   "source": [
    "arr1 = np.random.randint(1, 3, (3,3))\n",
    "arr2 = np.random.randint(1, 3, (3,3))"
   ]
  },
  {
   "cell_type": "markdown",
   "id": "f86f87fe",
   "metadata": {},
   "source": [
    "<!-- This code generates two 3x3 NumPy arrays (arr1 and arr2) with random integers between 1 and 2 (inclusive). The purpose of this code is to create sample arrays for demonstrating various NumPy operations and functionalities. -->"
   ]
  },
  {
   "cell_type": "code",
   "execution_count": 3,
   "id": "981bf6cc-e58e-464b-a669-5d572ab0d2d9",
   "metadata": {},
   "outputs": [
    {
     "data": {
      "text/plain": [
       "array([[1, 1, 2],\n",
       "       [1, 1, 1],\n",
       "       [2, 1, 2]])"
      ]
     },
     "execution_count": 3,
     "metadata": {},
     "output_type": "execute_result"
    }
   ],
   "source": [
    "arr1"
   ]
  },
  {
   "cell_type": "code",
   "execution_count": 4,
   "id": "118da4f4-0ece-4809-af02-3fe576c9a956",
   "metadata": {},
   "outputs": [
    {
     "data": {
      "text/plain": [
       "array([1, 1, 2, 1, 1, 1, 2, 1, 2])"
      ]
     },
     "execution_count": 4,
     "metadata": {},
     "output_type": "execute_result"
    }
   ],
   "source": [
    "arr1.flatten() #Return a copy of the array collapsed into one dimension."
   ]
  },
  {
   "cell_type": "code",
   "execution_count": 5,
   "id": "c42c72e2-8c22-4fdc-bfb8-a7b9cf842cf3",
   "metadata": {},
   "outputs": [
    {
     "data": {
      "text/plain": [
       "array([1, 2, 3, 4])"
      ]
     },
     "execution_count": 5,
     "metadata": {},
     "output_type": "execute_result"
    }
   ],
   "source": [
    "#expand dimesnion\n",
    "arr = np.array([1, 2, 3, 4])\n",
    "arr"
   ]
  },
  {
   "cell_type": "markdown",
   "id": "ed5fe0f1",
   "metadata": {},
   "source": []
  },
  {
   "cell_type": "code",
   "execution_count": 6,
   "id": "1ecd7b62-0e97-451b-8912-1cc66a2ecd8c",
   "metadata": {},
   "outputs": [
    {
     "data": {
      "text/plain": [
       "1"
      ]
     },
     "execution_count": 6,
     "metadata": {},
     "output_type": "execute_result"
    }
   ],
   "source": [
    "arr.ndim"
   ]
  },
  {
   "cell_type": "code",
   "execution_count": 7,
   "id": "4175939a-e272-46de-8008-86df88360641",
   "metadata": {},
   "outputs": [
    {
     "data": {
      "text/plain": [
       "array([[1, 2, 3, 4]])"
      ]
     },
     "execution_count": 7,
     "metadata": {},
     "output_type": "execute_result"
    }
   ],
   "source": [
    "np.expand_dims(arr, axis = 0) #increases the dimension by 1 at provoided axis"
   ]
  },
  {
   "cell_type": "markdown",
   "id": "b1f9804f",
   "metadata": {},
   "source": [
    "The np.expand_dims(arr, axis=0) function increases the number of dimensions of the NumPy array arr by inserting a new axis at the specified position axis=0. This means that a new dimension of length 1 is added at the beginning of the array's shape.\n",
    "The purpose of this operation is to allow certain operations that require arrays with a specific number of dimensions. For example, some operations in NumPy require the input arrays to have the same number of dimensions, so np.expand_dims can be used to add a new axis to one of the arrays, making their shapes compatible."
   ]
  },
  {
   "cell_type": "code",
   "execution_count": 18,
   "id": "2f541fcb-205a-43c6-8aca-89421d13a504",
   "metadata": {},
   "outputs": [
    {
     "data": {
      "text/plain": [
       "array([[1],\n",
       "       [2],\n",
       "       [3],\n",
       "       [4]])"
      ]
     },
     "execution_count": 18,
     "metadata": {},
     "output_type": "execute_result"
    }
   ],
   "source": [
    "np.expand_dims(arr, axis = 1)"
   ]
  },
  {
   "cell_type": "code",
   "execution_count": 23,
   "id": "c2d02b88",
   "metadata": {},
   "outputs": [
    {
     "data": {
      "text/plain": [
       "2"
      ]
     },
     "execution_count": 23,
     "metadata": {},
     "output_type": "execute_result"
    }
   ],
   "source": [
    "np.expand_dims(arr, axis = 1)"
   ]
  },
  {
   "cell_type": "markdown",
   "id": "49fbcbd1",
   "metadata": {},
   "source": [
    "The np.expand_dims(arr, axis=1) function also increases the number of dimensions of the NumPy array arr, but in this case, it inserts a new axis at the position axis=1. This means that a new dimension of length 1 is added after the first dimension of the array's shape.\n",
    "The purpose of this operation is similar to np.expand_dims(arr, axis=0), but it adds the new dimension in a different position. This can be useful when you need to perform operations that require arrays with a specific shape or number of dimensions, and you need to modify the shape of your array accordingly."
   ]
  },
  {
   "cell_type": "code",
   "execution_count": 22,
   "id": "fe2b741e-0fc6-4001-b287-d856fcfa0f41",
   "metadata": {},
   "outputs": [
    {
     "data": {
      "text/plain": [
       "3"
      ]
     },
     "execution_count": 22,
     "metadata": {},
     "output_type": "execute_result"
    }
   ],
   "source": [
    "np.expand_dims(arr, axis = 1).ndim"
   ]
  },
  {
   "cell_type": "markdown",
   "id": "6db24b96",
   "metadata": {},
   "source": [
    "The code np.expand_dims(arr, axis=1).ndim returns the number of dimensions (axes) in the resulting array after applying the np.expand_dims operation with axis=1.\n",
    "The purpose of this code is to check the dimensionality of the new array created by np.expand_dims(arr, axis=1). By adding a new axis at position 1, the dimensionality of the original array is increased by 1."
   ]
  },
  {
   "cell_type": "code",
   "execution_count": 24,
   "id": "e43db0ab-3cc7-4758-bcd5-d7cd135f3aaf",
   "metadata": {},
   "outputs": [
    {
     "data": {
      "text/plain": [
       "array([1, 2, 3, 4])"
      ]
     },
     "execution_count": 24,
     "metadata": {},
     "output_type": "execute_result"
    }
   ],
   "source": [
    "arr"
   ]
  },
  {
   "cell_type": "code",
   "execution_count": 25,
   "id": "af84a63b-59e3-475b-abb6-c55ebd810b26",
   "metadata": {},
   "outputs": [
    {
     "data": {
      "text/plain": [
       "array([[0., 0., 0., 0.],\n",
       "       [0., 0., 0., 0.],\n",
       "       [0., 0., 0., 0.]])"
      ]
     },
     "execution_count": 25,
     "metadata": {},
     "output_type": "execute_result"
    }
   ],
   "source": [
    "arr = np.zeros((3, 4))\n",
    "arr"
   ]
  },
  {
   "cell_type": "code",
   "execution_count": 26,
   "id": "d936633c-f689-444c-b9fb-0a172fd83b67",
   "metadata": {},
   "outputs": [
    {
     "data": {
      "text/plain": [
       "2"
      ]
     },
     "execution_count": 26,
     "metadata": {},
     "output_type": "execute_result"
    }
   ],
   "source": [
    "arr.ndim"
   ]
  },
  {
   "cell_type": "code",
   "execution_count": 27,
   "id": "b1257bf0-1b21-4d53-b7b4-331897d5ce05",
   "metadata": {},
   "outputs": [
    {
     "data": {
      "text/plain": [
       "array([[[0., 0., 0., 0.],\n",
       "        [0., 0., 0., 0.],\n",
       "        [0., 0., 0., 0.]]])"
      ]
     },
     "execution_count": 27,
     "metadata": {},
     "output_type": "execute_result"
    }
   ],
   "source": [
    "np.expand_dims(arr, axis=0)"
   ]
  },
  {
   "cell_type": "code",
   "execution_count": 28,
   "id": "97ca0026-ba95-49b4-b628-6c612d392e55",
   "metadata": {},
   "outputs": [
    {
     "data": {
      "text/plain": [
       "array([[[0., 0., 0., 0.]],\n",
       "\n",
       "       [[0., 0., 0., 0.]],\n",
       "\n",
       "       [[0., 0., 0., 0.]]])"
      ]
     },
     "execution_count": 28,
     "metadata": {},
     "output_type": "execute_result"
    }
   ],
   "source": [
    "np.expand_dims(arr, axis=1)"
   ]
  },
  {
   "cell_type": "code",
   "execution_count": 32,
   "id": "523a7cec-0074-4888-af1f-393fbe764e9b",
   "metadata": {},
   "outputs": [
    {
     "data": {
      "text/plain": [
       "3"
      ]
     },
     "execution_count": 32,
     "metadata": {},
     "output_type": "execute_result"
    }
   ],
   "source": [
    "np.expand_dims(arr, axis=0).ndim"
   ]
  },
  {
   "cell_type": "code",
   "execution_count": 33,
   "id": "e785b491-4ce8-4b45-a1fa-889f642b2b88",
   "metadata": {},
   "outputs": [],
   "source": [
    "a = np.array([[1], [2], [3]])"
   ]
  },
  {
   "cell_type": "code",
   "execution_count": 34,
   "id": "6ff2af90-1042-4055-bc7c-835f07fcb73a",
   "metadata": {},
   "outputs": [
    {
     "data": {
      "text/plain": [
       "array([[1],\n",
       "       [2],\n",
       "       [3]])"
      ]
     },
     "execution_count": 34,
     "metadata": {},
     "output_type": "execute_result"
    }
   ],
   "source": [
    "a"
   ]
  },
  {
   "cell_type": "code",
   "execution_count": 35,
   "id": "69c54e9e-2d6f-4825-8a5d-ae136c653454",
   "metadata": {},
   "outputs": [
    {
     "data": {
      "text/plain": [
       "2"
      ]
     },
     "execution_count": 35,
     "metadata": {},
     "output_type": "execute_result"
    }
   ],
   "source": [
    "a.ndim"
   ]
  },
  {
   "cell_type": "code",
   "execution_count": 36,
   "id": "b6773d5c-a999-420e-ab69-ea547b5cea0f",
   "metadata": {},
   "outputs": [
    {
     "data": {
      "text/plain": [
       "array([1, 2, 3])"
      ]
     },
     "execution_count": 36,
     "metadata": {},
     "output_type": "execute_result"
    }
   ],
   "source": [
    "np.squeeze(a) #Remove axes of length one from `a`"
   ]
  },
  {
   "cell_type": "code",
   "execution_count": 38,
   "id": "3f7fe457-2c2f-468e-a0b1-ae06b103a3f0",
   "metadata": {},
   "outputs": [
    {
     "data": {
      "text/plain": [
       "array([[1],\n",
       "       [2],\n",
       "       [3]])"
      ]
     },
     "execution_count": 38,
     "metadata": {},
     "output_type": "execute_result"
    }
   ],
   "source": [
    "a"
   ]
  },
  {
   "cell_type": "code",
   "execution_count": 39,
   "id": "3c15c46e-8cb3-48d8-9c3b-5e9548a96c61",
   "metadata": {},
   "outputs": [
    {
     "data": {
      "text/plain": [
       "array([1, 1, 1, 1, 2, 2, 2, 2, 3, 3, 3, 3])"
      ]
     },
     "execution_count": 39,
     "metadata": {},
     "output_type": "execute_result"
    }
   ],
   "source": [
    "np.repeat(a, 4)"
   ]
  },
  {
   "cell_type": "code",
   "execution_count": 40,
   "id": "51d7f2ce-804d-4e5f-afed-7427a54171fa",
   "metadata": {},
   "outputs": [
    {
     "data": {
      "text/plain": [
       "array([[1, 1, 2],\n",
       "       [1, 1, 1],\n",
       "       [2, 1, 2]])"
      ]
     },
     "execution_count": 40,
     "metadata": {},
     "output_type": "execute_result"
    }
   ],
   "source": [
    "arr1"
   ]
  },
  {
   "cell_type": "code",
   "execution_count": 41,
   "id": "f689b4f7-e292-40a7-b58d-49a56efcfd06",
   "metadata": {},
   "outputs": [
    {
     "data": {
      "text/plain": [
       "array([1, 1, 1, 1, 2, 2, 1, 1, 1, 1, 1, 1, 2, 2, 1, 1, 2, 2])"
      ]
     },
     "execution_count": 41,
     "metadata": {},
     "output_type": "execute_result"
    }
   ],
   "source": [
    "np.repeat(arr1, 2)"
   ]
  },
  {
   "cell_type": "code",
   "execution_count": 46,
   "id": "6bb037ef-b656-4563-aae3-0edfc1e56fad",
   "metadata": {},
   "outputs": [
    {
     "data": {
      "text/plain": [
       "array([[1, 1, 2],\n",
       "       [1, 1, 2],\n",
       "       [1, 1, 1],\n",
       "       [1, 1, 1],\n",
       "       [2, 1, 2],\n",
       "       [2, 1, 2]])"
      ]
     },
     "execution_count": 46,
     "metadata": {},
     "output_type": "execute_result"
    }
   ],
   "source": [
    "np.repeat(arr1, 2, axis=0)"
   ]
  },
  {
   "cell_type": "code",
   "execution_count": 48,
   "id": "8d5cd59d-19fe-4a4a-a024-4f670513cf68",
   "metadata": {},
   "outputs": [
    {
     "data": {
      "text/plain": [
       "array([[1, 1, 2],\n",
       "       [1, 1, 2],\n",
       "       [1, 1, 2],\n",
       "       [1, 1, 1],\n",
       "       [1, 1, 1],\n",
       "       [1, 1, 1],\n",
       "       [2, 1, 2],\n",
       "       [2, 1, 2],\n",
       "       [2, 1, 2]])"
      ]
     },
     "execution_count": 48,
     "metadata": {},
     "output_type": "execute_result"
    }
   ],
   "source": [
    "np.repeat(arr1, 3, axis=0)"
   ]
  },
  {
   "cell_type": "code",
   "execution_count": 53,
   "id": "b23a905e-b779-4132-b44d-4f41be26bc9b",
   "metadata": {},
   "outputs": [
    {
     "data": {
      "text/plain": [
       "array([[1, 1, 1, 1, 1, 1, 2, 2, 2],\n",
       "       [1, 1, 1, 1, 1, 1, 1, 1, 1],\n",
       "       [2, 2, 2, 1, 1, 1, 2, 2, 2]])"
      ]
     },
     "execution_count": 53,
     "metadata": {},
     "output_type": "execute_result"
    }
   ],
   "source": [
    "np.repeat(arr1, 3, axis=1)"
   ]
  },
  {
   "cell_type": "code",
   "execution_count": 54,
   "id": "7324d3a4-fcec-421b-81fb-85914b93be89",
   "metadata": {},
   "outputs": [
    {
     "data": {
      "text/plain": [
       "array([[1],\n",
       "       [2],\n",
       "       [3]])"
      ]
     },
     "execution_count": 54,
     "metadata": {},
     "output_type": "execute_result"
    }
   ],
   "source": [
    "a"
   ]
  },
  {
   "cell_type": "code",
   "execution_count": 55,
   "id": "06b9bd76-b31a-49ad-92fc-feb5bd97ef73",
   "metadata": {},
   "outputs": [
    {
     "data": {
      "text/plain": [
       "array([[2],\n",
       "       [3],\n",
       "       [1]])"
      ]
     },
     "execution_count": 55,
     "metadata": {},
     "output_type": "execute_result"
    }
   ],
   "source": [
    "np.roll(a, -1)"
   ]
  },
  {
   "cell_type": "code",
   "execution_count": 56,
   "id": "c6b36ccc-ad13-49eb-b37c-475464bb62d7",
   "metadata": {},
   "outputs": [
    {
     "data": {
      "text/plain": [
       "array([[3],\n",
       "       [1],\n",
       "       [2]])"
      ]
     },
     "execution_count": 56,
     "metadata": {},
     "output_type": "execute_result"
    }
   ],
   "source": [
    "np.roll(a, -2)"
   ]
  },
  {
   "cell_type": "code",
   "execution_count": 57,
   "id": "7fedfde5-93ee-4ab4-8333-c5096b9f7cbc",
   "metadata": {},
   "outputs": [],
   "source": [
    "c = np.array([[1,2], [3, 4], [5,6], [7,8]])"
   ]
  },
  {
   "cell_type": "code",
   "execution_count": 58,
   "id": "a89a7cda-4667-451c-a6ff-316babfb3cf8",
   "metadata": {},
   "outputs": [
    {
     "data": {
      "text/plain": [
       "array([[1, 2],\n",
       "       [3, 4],\n",
       "       [5, 6],\n",
       "       [7, 8]])"
      ]
     },
     "execution_count": 58,
     "metadata": {},
     "output_type": "execute_result"
    }
   ],
   "source": [
    "c"
   ]
  },
  {
   "cell_type": "code",
   "execution_count": 59,
   "id": "a0d855d8-8b27-44cd-af27-87b33b99ddf0",
   "metadata": {},
   "outputs": [
    {
     "data": {
      "text/plain": [
       "array([[7, 8],\n",
       "       [1, 2],\n",
       "       [3, 4],\n",
       "       [5, 6]])"
      ]
     },
     "execution_count": 59,
     "metadata": {},
     "output_type": "execute_result"
    }
   ],
   "source": [
    "np.roll(c, 2)"
   ]
  },
  {
   "cell_type": "code",
   "execution_count": 63,
   "id": "fe905514-d159-45f9-a6fa-e3beedda36a9",
   "metadata": {},
   "outputs": [
    {
     "data": {
      "text/plain": [
       "array([[5, 6],\n",
       "       [7, 8],\n",
       "       [1, 2],\n",
       "       [3, 4]])"
      ]
     },
     "execution_count": 63,
     "metadata": {},
     "output_type": "execute_result"
    }
   ],
   "source": [
    "np.roll(c, 2, axis=0)"
   ]
  },
  {
   "cell_type": "code",
   "execution_count": 64,
   "id": "79aeaa5c-1386-4eef-82c8-c736f93e2547",
   "metadata": {},
   "outputs": [
    {
     "data": {
      "text/plain": [
       "array([[1, 1, 2],\n",
       "       [1, 1, 1],\n",
       "       [2, 1, 2]])"
      ]
     },
     "execution_count": 64,
     "metadata": {},
     "output_type": "execute_result"
    }
   ],
   "source": [
    "arr1"
   ]
  },
  {
   "cell_type": "code",
   "execution_count": 65,
   "id": "e88352ec-5dbd-4c02-83a7-1ec76df9372e",
   "metadata": {},
   "outputs": [
    {
     "data": {
      "text/plain": [
       "array([[2, 1, 2],\n",
       "       [2, 1, 2],\n",
       "       [1, 1, 2]])"
      ]
     },
     "execution_count": 65,
     "metadata": {},
     "output_type": "execute_result"
    }
   ],
   "source": [
    "arr2"
   ]
  },
  {
   "cell_type": "code",
   "execution_count": 66,
   "id": "7f16ebff-019b-4b09-a702-0b1170c118d7",
   "metadata": {},
   "outputs": [
    {
     "data": {
      "text/plain": [
       "array([[3, 2, 4],\n",
       "       [3, 2, 3],\n",
       "       [3, 2, 4]])"
      ]
     },
     "execution_count": 66,
     "metadata": {},
     "output_type": "execute_result"
    }
   ],
   "source": [
    "arr1 + arr2"
   ]
  },
  {
   "cell_type": "code",
   "execution_count": 67,
   "id": "4a6fb1a5-a9d6-48b0-af24-d6c531669c68",
   "metadata": {},
   "outputs": [
    {
     "data": {
      "text/plain": [
       "array([[-1,  0,  0],\n",
       "       [-1,  0, -1],\n",
       "       [ 1,  0,  0]])"
      ]
     },
     "execution_count": 67,
     "metadata": {},
     "output_type": "execute_result"
    }
   ],
   "source": [
    "arr1-arr2"
   ]
  },
  {
   "cell_type": "code",
   "execution_count": 68,
   "id": "13b9cdde-9e42-4d3f-b5de-97a90f824c69",
   "metadata": {},
   "outputs": [
    {
     "data": {
      "text/plain": [
       "array([[2, 1, 4],\n",
       "       [2, 1, 2],\n",
       "       [2, 1, 4]])"
      ]
     },
     "execution_count": 68,
     "metadata": {},
     "output_type": "execute_result"
    }
   ],
   "source": [
    "arr1 * arr2"
   ]
  },
  {
   "cell_type": "code",
   "execution_count": 69,
   "id": "8009579c-d509-4e0e-a511-306a2de4d403",
   "metadata": {},
   "outputs": [
    {
     "data": {
      "text/plain": [
       "array([[False, False, False],\n",
       "       [False, False, False],\n",
       "       [ True, False, False]])"
      ]
     },
     "execution_count": 69,
     "metadata": {},
     "output_type": "execute_result"
    }
   ],
   "source": [
    "arr1 > arr2"
   ]
  },
  {
   "cell_type": "code",
   "execution_count": 70,
   "id": "5f9c5a5b-3c07-49f8-b948-e10207c49dda",
   "metadata": {},
   "outputs": [
    {
     "data": {
      "text/plain": [
       "array([[1, 1, 2],\n",
       "       [1, 1, 1],\n",
       "       [2, 1, 2]])"
      ]
     },
     "execution_count": 70,
     "metadata": {},
     "output_type": "execute_result"
    }
   ],
   "source": [
    "arr1"
   ]
  },
  {
   "cell_type": "code",
   "execution_count": 71,
   "id": "fa33871d-feba-42f8-bc4e-d621a5bbb5a0",
   "metadata": {},
   "outputs": [
    {
     "data": {
      "text/plain": [
       "array([[-2, -2, -3],\n",
       "       [-2, -2, -2],\n",
       "       [-3, -2, -3]])"
      ]
     },
     "execution_count": 71,
     "metadata": {},
     "output_type": "execute_result"
    }
   ],
   "source": [
    "~arr1  # The tilde ~ operator in NumPy is used for bitwise NOT operation. When applied to a boolean array, it inverts the values (i.e., True becomes False and False becomes True)."
   ]
  },
  {
   "cell_type": "code",
   "execution_count": 72,
   "id": "24c3ba23-ea77-460f-87ae-8b176a9aaab6",
   "metadata": {},
   "outputs": [],
   "source": [
    "#operations on numpy string array"
   ]
  },
  {
   "cell_type": "code",
   "execution_count": 73,
   "id": "401ed862-a480-4eee-97d8-731f6ae48046",
   "metadata": {},
   "outputs": [],
   "source": [
    "d = np.array([\"azad\", \"skills\"])"
   ]
  },
  {
   "cell_type": "code",
   "execution_count": 74,
   "id": "466ddce2-c38e-419d-b452-15b37385f8e1",
   "metadata": {},
   "outputs": [
    {
     "data": {
      "text/plain": [
       "array(['azad', 'skills'], dtype='<U6')"
      ]
     },
     "execution_count": 74,
     "metadata": {},
     "output_type": "execute_result"
    }
   ],
   "source": [
    "d"
   ]
  },
  {
   "cell_type": "code",
   "execution_count": 75,
   "id": "fce57bbc-6449-45d7-a0ac-484c885b53f2",
   "metadata": {},
   "outputs": [
    {
     "data": {
      "text/plain": [
       "array(['AZAD', 'SKILLS'], dtype='<U6')"
      ]
     },
     "execution_count": 75,
     "metadata": {},
     "output_type": "execute_result"
    }
   ],
   "source": [
    "np.char.upper(d)"
   ]
  },
  {
   "cell_type": "code",
   "execution_count": 76,
   "id": "94521a80-aa1a-4d2b-8a51-e64e7ba47784",
   "metadata": {},
   "outputs": [
    {
     "data": {
      "text/plain": [
       "array(['Azad', 'Skills'], dtype='<U6')"
      ]
     },
     "execution_count": 76,
     "metadata": {},
     "output_type": "execute_result"
    }
   ],
   "source": [
    "np.char.capitalize(d)"
   ]
  },
  {
   "cell_type": "code",
   "execution_count": 77,
   "id": "6d21e451-02e7-4a8d-b933-3105795889a3",
   "metadata": {},
   "outputs": [],
   "source": [
    "#mathematical functions"
   ]
  },
  {
   "cell_type": "code",
   "execution_count": 78,
   "id": "3e7881b7-70c8-4a6a-84c7-f21ea5166589",
   "metadata": {},
   "outputs": [
    {
     "data": {
      "text/plain": [
       "array([[1, 1, 2],\n",
       "       [1, 1, 1],\n",
       "       [2, 1, 2]])"
      ]
     },
     "execution_count": 78,
     "metadata": {},
     "output_type": "execute_result"
    }
   ],
   "source": [
    "arr1"
   ]
  },
  {
   "cell_type": "code",
   "execution_count": 79,
   "id": "a4b1940d-0f6c-49a8-920c-9eee276bdc1a",
   "metadata": {},
   "outputs": [
    {
     "data": {
      "text/plain": [
       "array([[0.84147098, 0.84147098, 0.90929743],\n",
       "       [0.84147098, 0.84147098, 0.84147098],\n",
       "       [0.90929743, 0.84147098, 0.90929743]])"
      ]
     },
     "execution_count": 79,
     "metadata": {},
     "output_type": "execute_result"
    }
   ],
   "source": [
    "np.sin(arr1)  # The np.sin function in NumPy is used to compute the trigonometric sine of each element in the input array. This function expects the input to be in radians and returns the sine of each element."
   ]
  },
  {
   "cell_type": "code",
   "execution_count": 80,
   "id": "e17e8809-8371-4d6d-aec7-c97cfc885738",
   "metadata": {},
   "outputs": [
    {
     "data": {
      "text/plain": [
       "array([[ 0.54030231,  0.54030231, -0.41614684],\n",
       "       [ 0.54030231,  0.54030231,  0.54030231],\n",
       "       [-0.41614684,  0.54030231, -0.41614684]])"
      ]
     },
     "execution_count": 80,
     "metadata": {},
     "output_type": "execute_result"
    }
   ],
   "source": [
    "np.cos(arr1) #The np.cos function in NumPy is used to compute the trigonometric cosine of each element in the input array. This function expects the input to be in radians and returns the cosine of each element."
   ]
  },
  {
   "cell_type": "code",
   "execution_count": 82,
   "id": "3e03fd7f-1476-4315-a7bd-c4c36a82f5c4",
   "metadata": {},
   "outputs": [
    {
     "data": {
      "text/plain": [
       "array([[ 1.55740772,  1.55740772, -2.18503986],\n",
       "       [ 1.55740772,  1.55740772,  1.55740772],\n",
       "       [-2.18503986,  1.55740772, -2.18503986]])"
      ]
     },
     "execution_count": 82,
     "metadata": {},
     "output_type": "execute_result"
    }
   ],
   "source": [
    "np.tan(arr1) #The np.tan function in NumPy is used to compute the trigonometric tangent of each element in the input array. This function expects the input to be in radians and returns the tangent of each element."
   ]
  },
  {
   "cell_type": "code",
   "execution_count": 83,
   "id": "99197271-8e89-4d54-a751-8ff275f81a51",
   "metadata": {},
   "outputs": [
    {
     "data": {
      "text/plain": [
       "array([[0.     , 0.     , 0.30103],\n",
       "       [0.     , 0.     , 0.     ],\n",
       "       [0.30103, 0.     , 0.30103]])"
      ]
     },
     "execution_count": 83,
     "metadata": {},
     "output_type": "execute_result"
    }
   ],
   "source": [
    "np.log10(arr1) #The np.log10 function in NumPy is used to compute the base 10 logarithm of each element in the input array."
   ]
  },
  {
   "cell_type": "code",
   "execution_count": 62,
   "id": "527f4f04-85d1-421d-be46-b4ce35fd23f9",
   "metadata": {},
   "outputs": [
    {
     "data": {
      "text/plain": [
       "array([[7.3890561 , 7.3890561 , 7.3890561 ],\n",
       "       [7.3890561 , 7.3890561 , 7.3890561 ],\n",
       "       [2.71828183, 7.3890561 , 2.71828183]])"
      ]
     },
     "execution_count": 62,
     "metadata": {},
     "output_type": "execute_result"
    }
   ],
   "source": [
    "np.exp(arr1) #The np.exp function in NumPy is used to compute the exponential of each element in the input array."
   ]
  },
  {
   "cell_type": "code",
   "execution_count": 63,
   "id": "3f50286f-d379-4226-92e9-f5014f9e4b01",
   "metadata": {},
   "outputs": [
    {
     "data": {
      "text/plain": [
       "array([[8, 8, 8],\n",
       "       [8, 8, 8],\n",
       "       [1, 8, 1]], dtype=int32)"
      ]
     },
     "execution_count": 63,
     "metadata": {},
     "output_type": "execute_result"
    }
   ],
   "source": [
    "np.power(arr1, 3) #The np.power function in NumPy is used to compute the power of each element in the input array."
   ]
  },
  {
   "cell_type": "code",
   "execution_count": 64,
   "id": "46f6185f-d1e6-47ac-8aec-4aed3d70b083",
   "metadata": {},
   "outputs": [
    {
     "data": {
      "text/plain": [
       "1.7777777777777777"
      ]
     },
     "execution_count": 64,
     "metadata": {},
     "output_type": "execute_result"
    }
   ],
   "source": [
    "np.mean(arr1) #The np.mean function in NumPy is used to compute the arithmetic mean of the input array."
   ]
  },
  {
   "cell_type": "code",
   "execution_count": 65,
   "id": "e35d2778-7de4-4ee4-bcdd-724ee9d6166a",
   "metadata": {},
   "outputs": [
    {
     "data": {
      "text/plain": [
       "2"
      ]
     },
     "execution_count": 65,
     "metadata": {},
     "output_type": "execute_result"
    }
   ],
   "source": [
    "np.max(arr1) #The np.max function in NumPy is used to compute the maximum value of the input array."
   ]
  },
  {
   "cell_type": "code",
   "execution_count": 66,
   "id": "b4b959dd-ce8c-4622-a32b-63e0f558b50a",
   "metadata": {},
   "outputs": [
    {
     "data": {
      "text/plain": [
       "1"
      ]
     },
     "execution_count": 66,
     "metadata": {},
     "output_type": "execute_result"
    }
   ],
   "source": [
    "np.min(arr1) #The np.min function in NumPy is used to compute the minimum value of the input array."
   ]
  },
  {
   "cell_type": "code",
   "execution_count": 67,
   "id": "317ba50f-5fce-47eb-a596-cbbecec98214",
   "metadata": {},
   "outputs": [
    {
     "data": {
      "text/plain": [
       "0.41573970964154905"
      ]
     },
     "execution_count": 67,
     "metadata": {},
     "output_type": "execute_result"
    }
   ],
   "source": [
    "np.std(arr1) #The np.std function in NumPy is used to compute the standard deviation of the input array."
   ]
  },
  {
   "cell_type": "code",
   "execution_count": 68,
   "id": "3bcb1287-7d57-40c1-b511-bbb276553fc5",
   "metadata": {},
   "outputs": [
    {
     "data": {
      "text/plain": [
       "0.1728395061728395"
      ]
     },
     "execution_count": 68,
     "metadata": {},
     "output_type": "execute_result"
    }
   ],
   "source": [
    "np.var(arr1)    #The np.var function in NumPy is used to compute the variance of the input array."
   ]
  },
  {
   "cell_type": "code",
   "execution_count": 69,
   "id": "778d6de5-b2db-4f8f-9cf3-59cbd311d695",
   "metadata": {},
   "outputs": [
    {
     "data": {
      "text/plain": [
       "array([[1, 1, 0],\n",
       "       [1, 0, 1],\n",
       "       [0, 0, 0]])"
      ]
     },
     "execution_count": 69,
     "metadata": {},
     "output_type": "execute_result"
    }
   ],
   "source": [
    "arr1-arr2 #The np.subtract function in NumPy is used to subtract the elements of one array from another."
   ]
  },
  {
   "cell_type": "code",
   "execution_count": 70,
   "id": "2b29cb55-4a80-4918-adc9-dfbb250bf9cd",
   "metadata": {},
   "outputs": [
    {
     "data": {
      "text/plain": [
       "array([[1, 1, 0],\n",
       "       [1, 0, 1],\n",
       "       [0, 0, 0]])"
      ]
     },
     "execution_count": 70,
     "metadata": {},
     "output_type": "execute_result"
    }
   ],
   "source": [
    "np.subtract(arr1, arr2) #The np.subtract function in NumPy is used to subtract the elements of one array from another."
   ]
  },
  {
   "cell_type": "code",
   "execution_count": 71,
   "id": "0851ca08-1af3-4a56-9fa9-62890a70cf76",
   "metadata": {},
   "outputs": [
    {
     "data": {
      "text/plain": [
       "array([[2, 2, 4],\n",
       "       [2, 4, 2],\n",
       "       [1, 4, 1]])"
      ]
     },
     "execution_count": 71,
     "metadata": {},
     "output_type": "execute_result"
    }
   ],
   "source": [
    "arr1 *arr2 #The np.multiply function in NumPy is used to multiply the elements of one array with another."
   ]
  },
  {
   "cell_type": "code",
   "execution_count": 72,
   "id": "3473192e-6f49-4902-b7e3-0696e0c9b409",
   "metadata": {},
   "outputs": [
    {
     "data": {
      "text/plain": [
       "array([[2, 2, 4],\n",
       "       [2, 4, 2],\n",
       "       [1, 4, 1]])"
      ]
     },
     "execution_count": 72,
     "metadata": {},
     "output_type": "execute_result"
    }
   ],
   "source": [
    "np.multiply(arr1, arr2) #The np.multiply function in NumPy is used to multiply the elements of one array with another."
   ]
  },
  {
   "cell_type": "code",
   "execution_count": 73,
   "id": "e8eebcb9-3b66-4b5b-8a1e-a137e1cb7a38",
   "metadata": {},
   "outputs": [
    {
     "data": {
      "text/plain": [
       "array([[0, 0, 0],\n",
       "       [0, 0, 0],\n",
       "       [0, 0, 0]])"
      ]
     },
     "execution_count": 73,
     "metadata": {},
     "output_type": "execute_result"
    }
   ],
   "source": [
    "np.mod(arr1, arr2) #return elment wise remainder"
   ]
  },
  {
   "cell_type": "code",
   "execution_count": 74,
   "id": "a74820dd-b1c0-4afa-909c-3ca4d2ee8cfd",
   "metadata": {},
   "outputs": [
    {
     "data": {
      "text/plain": [
       "array([[1.41421356, 1.41421356, 1.41421356],\n",
       "       [1.41421356, 1.41421356, 1.41421356],\n",
       "       [1.        , 1.41421356, 1.        ]])"
      ]
     },
     "execution_count": 74,
     "metadata": {},
     "output_type": "execute_result"
    }
   ],
   "source": [
    "np.sqrt(arr1) #The np.sqrt function in NumPy is used to compute the square root of each element in the input array."
   ]
  },
  {
   "cell_type": "code",
   "execution_count": 86,
   "id": "aea3eb20-cc8b-4305-987b-1e75a2cafc8f",
   "metadata": {},
   "outputs": [],
   "source": [
    "#sort search\n",
    "\n",
    "e = np.array([5, 6, 1, 2])"
   ]
  },
  {
   "cell_type": "code",
   "execution_count": 87,
   "id": "a4c5c72e-d420-4dab-a8ca-db220b1a174e",
   "metadata": {},
   "outputs": [
    {
     "data": {
      "text/plain": [
       "array([5, 6, 1, 2])"
      ]
     },
     "execution_count": 87,
     "metadata": {},
     "output_type": "execute_result"
    }
   ],
   "source": [
    "e"
   ]
  },
  {
   "cell_type": "code",
   "execution_count": 88,
   "id": "c5a6ac21-ee5e-41b4-9605-c2624ad36324",
   "metadata": {},
   "outputs": [
    {
     "data": {
      "text/plain": [
       "array([1, 2, 5, 6])"
      ]
     },
     "execution_count": 88,
     "metadata": {},
     "output_type": "execute_result"
    }
   ],
   "source": [
    "np.sort(e)"
   ]
  },
  {
   "cell_type": "code",
   "execution_count": 89,
   "id": "c49e8af6-2097-4ff1-92f3-7daf92df0d25",
   "metadata": {},
   "outputs": [],
   "source": [
    "f = np.array([5, 199, 200, 6, 7, 8])"
   ]
  },
  {
   "cell_type": "code",
   "execution_count": 90,
   "id": "8ddc7d5c-ed28-480f-869a-638cb19f38e5",
   "metadata": {},
   "outputs": [
    {
     "data": {
      "text/plain": [
       "array([  5, 199, 200,   6,   7,   8])"
      ]
     },
     "execution_count": 90,
     "metadata": {},
     "output_type": "execute_result"
    }
   ],
   "source": [
    "f"
   ]
  },
  {
   "cell_type": "code",
   "execution_count": 1,
   "id": "ca1b8f54-aa96-42b6-9cd3-b767d46cf63c",
   "metadata": {},
   "outputs": [
    {
     "ename": "NameError",
     "evalue": "name 'np' is not defined",
     "output_type": "error",
     "traceback": [
      "\u001b[1;31m---------------------------------------------------------------------------\u001b[0m",
      "\u001b[1;31mNameError\u001b[0m                                 Traceback (most recent call last)",
      "Cell \u001b[1;32mIn[1], line 1\u001b[0m\n\u001b[1;32m----> 1\u001b[0m \u001b[43mnp\u001b[49m\u001b[38;5;241m.\u001b[39msort(f)\n",
      "\u001b[1;31mNameError\u001b[0m: name 'np' is not defined"
     ]
    },
    {
     "ename": "",
     "evalue": "",
     "output_type": "error",
     "traceback": [
      "\u001b[1;31mThe Kernel crashed while executing code in the current cell or a previous cell. \n",
      "\u001b[1;31mPlease review the code in the cell(s) to identify a possible cause of the failure. \n",
      "\u001b[1;31mClick <a href='https://aka.ms/vscodeJupyterKernelCrash'>here</a> for more info. \n",
      "\u001b[1;31mView Jupyter <a href='command:jupyter.viewOutput'>log</a> for further details."
     ]
    }
   ],
   "source": [
    "np.sort(f)"
   ]
  },
  {
   "cell_type": "code",
   "execution_count": 103,
   "id": "cafed3b1-93b2-4f62-9615-6182f6656b9b",
   "metadata": {},
   "outputs": [
    {
     "data": {
      "text/plain": [
       "1"
      ]
     },
     "execution_count": 103,
     "metadata": {},
     "output_type": "execute_result"
    }
   ],
   "source": [
    "np.searchsorted(f, 7) #Find indices where elements should be inserted to maintain order."
   ]
  },
  {
   "cell_type": "code",
   "execution_count": 93,
   "id": "d509adb4-0cb7-4914-8da0-f8678b277719",
   "metadata": {},
   "outputs": [],
   "source": [
    "f = np.array([5, 199, 200, 6, 7, 0, 0, 0, 8])"
   ]
  },
  {
   "cell_type": "code",
   "execution_count": 94,
   "id": "fb855a73-0c2f-4f8d-888e-938b170b3fa5",
   "metadata": {},
   "outputs": [
    {
     "data": {
      "text/plain": [
       "array([  5, 199, 200,   6,   7,   0,   0,   0,   8])"
      ]
     },
     "execution_count": 94,
     "metadata": {},
     "output_type": "execute_result"
    }
   ],
   "source": [
    "f"
   ]
  },
  {
   "cell_type": "code",
   "execution_count": 84,
   "id": "637b37ed-97df-4d52-b61f-3fc699986a43",
   "metadata": {},
   "outputs": [
    {
     "data": {
      "text/plain": [
       "6"
      ]
     },
     "execution_count": 84,
     "metadata": {},
     "output_type": "execute_result"
    }
   ],
   "source": [
    "np.count_nonzero(f)"
   ]
  },
  {
   "cell_type": "code",
   "execution_count": 85,
   "id": "b9a36257-8cd7-4dfb-922b-bef53e6b8032",
   "metadata": {},
   "outputs": [
    {
     "data": {
      "text/plain": [
       "array([  5, 199, 200,   6,   7,   8])"
      ]
     },
     "execution_count": 85,
     "metadata": {},
     "output_type": "execute_result"
    }
   ],
   "source": [
    "f[f > 0]"
   ]
  },
  {
   "cell_type": "code",
   "execution_count": 86,
   "id": "bdde1e0d-4362-45bc-85ac-fe4b95602600",
   "metadata": {},
   "outputs": [
    {
     "data": {
      "text/plain": [
       "(array([0, 1, 2, 3, 4, 8], dtype=int64),)"
      ]
     },
     "execution_count": 86,
     "metadata": {},
     "output_type": "execute_result"
    }
   ],
   "source": [
    "np.where(f>0)"
   ]
  },
  {
   "cell_type": "code",
   "execution_count": 87,
   "id": "970405b9-8264-40e1-b36e-32babfbd7c01",
   "metadata": {},
   "outputs": [
    {
     "data": {
      "text/plain": [
       "array([  5, 199, 200,   6,   7,   8])"
      ]
     },
     "execution_count": 87,
     "metadata": {},
     "output_type": "execute_result"
    }
   ],
   "source": [
    "np.extract(f>0, f)"
   ]
  },
  {
   "cell_type": "code",
   "execution_count": 88,
   "id": "6b3edb84-a952-4fb6-9bce-822db59e8c4e",
   "metadata": {},
   "outputs": [
    {
     "data": {
      "text/plain": [
       "array([  5, 199, 200,   6,   7,   0,   0,   0,   8])"
      ]
     },
     "execution_count": 88,
     "metadata": {},
     "output_type": "execute_result"
    }
   ],
   "source": [
    "f"
   ]
  },
  {
   "cell_type": "code",
   "execution_count": 89,
   "id": "41f0123b-8d1c-4efa-b9ff-e563fcd93009",
   "metadata": {},
   "outputs": [
    {
     "data": {
      "text/plain": [
       "array([  83886080, -956301312, -939524096,  100663296,  117440512,\n",
       "                0,          0,          0,  134217728])"
      ]
     },
     "execution_count": 89,
     "metadata": {},
     "output_type": "execute_result"
    }
   ],
   "source": [
    "f.byteswap()"
   ]
  },
  {
   "cell_type": "code",
   "execution_count": 90,
   "id": "bb9324d8-d72b-4f8a-98a4-7752a7130ff6",
   "metadata": {},
   "outputs": [],
   "source": [
    "#matrix>> 2d array\n",
    "\n",
    "import numpy.matlib as nm"
   ]
  },
  {
   "cell_type": "code",
   "execution_count": 91,
   "id": "fdc54650-a2d1-40c0-9445-1c895551184f",
   "metadata": {},
   "outputs": [
    {
     "data": {
      "text/plain": [
       "matrix([[0., 0., 0., 0., 0.]])"
      ]
     },
     "execution_count": 91,
     "metadata": {},
     "output_type": "execute_result"
    }
   ],
   "source": [
    "nm.zeros(5)"
   ]
  },
  {
   "cell_type": "code",
   "execution_count": 92,
   "id": "617444a0-d867-4588-a27a-42d559777851",
   "metadata": {},
   "outputs": [
    {
     "data": {
      "text/plain": [
       "matrix([[1., 1., 1., 1.],\n",
       "        [1., 1., 1., 1.],\n",
       "        [1., 1., 1., 1.]])"
      ]
     },
     "execution_count": 92,
     "metadata": {},
     "output_type": "execute_result"
    }
   ],
   "source": [
    "nm.ones((3, 4))"
   ]
  },
  {
   "cell_type": "code",
   "execution_count": 93,
   "id": "42e8b523-6bfd-41b9-92d0-aba09a7e11fc",
   "metadata": {},
   "outputs": [],
   "source": [
    "#numpy linear algebra\n",
    "\n",
    "arr1 = np.random.randint(1, 10, (3, 3))\n",
    "arr2 = np.random.randint(1, 10, (3, 3))"
   ]
  },
  {
   "cell_type": "code",
   "execution_count": 94,
   "id": "1993c748-cb76-41f9-8853-fb1ba3f5184f",
   "metadata": {},
   "outputs": [
    {
     "data": {
      "text/plain": [
       "array([[6, 4, 9],\n",
       "       [7, 6, 2],\n",
       "       [8, 6, 1]])"
      ]
     },
     "execution_count": 94,
     "metadata": {},
     "output_type": "execute_result"
    }
   ],
   "source": [
    "arr1"
   ]
  },
  {
   "cell_type": "code",
   "execution_count": 95,
   "id": "2be907c6-0fbf-4d0f-8d80-f4f1568f24d1",
   "metadata": {},
   "outputs": [
    {
     "data": {
      "text/plain": [
       "array([[9, 1, 7],\n",
       "       [2, 8, 9],\n",
       "       [6, 5, 3]])"
      ]
     },
     "execution_count": 95,
     "metadata": {},
     "output_type": "execute_result"
    }
   ],
   "source": [
    "arr2"
   ]
  },
  {
   "cell_type": "code",
   "execution_count": 96,
   "id": "9df1a858-effc-4f93-9a8d-a59a3c2b4cf4",
   "metadata": {},
   "outputs": [
    {
     "data": {
      "text/plain": [
       "array([[116,  83, 105],\n",
       "       [ 87,  65, 109],\n",
       "       [ 90,  61, 113]])"
      ]
     },
     "execution_count": 96,
     "metadata": {},
     "output_type": "execute_result"
    }
   ],
   "source": [
    "arr1 @ arr2"
   ]
  },
  {
   "cell_type": "code",
   "execution_count": 97,
   "id": "ff011e7e-2c20-4df8-9dae-e6078fe4ede5",
   "metadata": {},
   "outputs": [
    {
     "data": {
      "text/plain": [
       "array([[6, 4, 9],\n",
       "       [7, 6, 2],\n",
       "       [8, 6, 1]])"
      ]
     },
     "execution_count": 97,
     "metadata": {},
     "output_type": "execute_result"
    }
   ],
   "source": [
    "arr1"
   ]
  },
  {
   "cell_type": "code",
   "execution_count": 98,
   "id": "f5eeb924-b10f-4f6e-83fd-d02cc6cdc448",
   "metadata": {},
   "outputs": [
    {
     "data": {
      "text/plain": [
       "-54.00000000000001"
      ]
     },
     "execution_count": 98,
     "metadata": {},
     "output_type": "execute_result"
    }
   ],
   "source": [
    "np.linalg.det(arr1)"
   ]
  },
  {
   "cell_type": "code",
   "execution_count": 99,
   "id": "cf1e939e-fe52-4a11-9b73-96a36fdb076a",
   "metadata": {},
   "outputs": [
    {
     "data": {
      "text/plain": [
       "array([[ 0.11111111, -0.92592593,  0.85185185],\n",
       "       [-0.16666667,  1.22222222, -0.94444444],\n",
       "       [ 0.11111111,  0.07407407, -0.14814815]])"
      ]
     },
     "execution_count": 99,
     "metadata": {},
     "output_type": "execute_result"
    }
   ],
   "source": [
    "np.linalg.inv(arr1)"
   ]
  },
  {
   "cell_type": "code",
   "execution_count": 100,
   "id": "aaa52858-c6dd-425c-8337-463d976fd709",
   "metadata": {},
   "outputs": [],
   "source": [
    "a = np.array([[7, 5.3, -3], [3, -5, 2], [5, 3, -7]])"
   ]
  },
  {
   "cell_type": "code",
   "execution_count": 101,
   "id": "c9c8f37a-7b3d-4d8e-b1b8-89e1fcd498e9",
   "metadata": {},
   "outputs": [
    {
     "data": {
      "text/plain": [
       "array([[ 7. ,  5.3, -3. ],\n",
       "       [ 3. , -5. ,  2. ],\n",
       "       [ 5. ,  3. , -7. ]])"
      ]
     },
     "execution_count": 101,
     "metadata": {},
     "output_type": "execute_result"
    }
   ],
   "source": [
    "a"
   ]
  },
  {
   "cell_type": "code",
   "execution_count": 102,
   "id": "7a7c7715-1b12-45cd-b7f0-3d1a7d8862cc",
   "metadata": {},
   "outputs": [],
   "source": [
    "b = np.array([16, 8, 0])"
   ]
  },
  {
   "cell_type": "code",
   "execution_count": 103,
   "id": "abfbfbe2-666e-4628-b900-da17a4187151",
   "metadata": {},
   "outputs": [
    {
     "data": {
      "text/plain": [
       "array([16,  8,  0])"
      ]
     },
     "execution_count": 103,
     "metadata": {},
     "output_type": "execute_result"
    }
   ],
   "source": [
    "b"
   ]
  },
  {
   "cell_type": "code",
   "execution_count": 104,
   "id": "107d0189-f0bc-4f21-8023-bb74afa3042d",
   "metadata": {},
   "outputs": [
    {
     "data": {
      "text/plain": [
       "array([2.59630607, 0.84432718, 2.21635884])"
      ]
     },
     "execution_count": 104,
     "metadata": {},
     "output_type": "execute_result"
    }
   ],
   "source": [
    "np.linalg.solve(a, b)"
   ]
  },
  {
   "cell_type": "code",
   "execution_count": null,
   "id": "6be97b57-fce6-4c04-aba2-62d12cc61039",
   "metadata": {},
   "outputs": [],
   "source": []
  },
  {
   "cell_type": "code",
   "execution_count": null,
   "id": "4f4003f8",
   "metadata": {},
   "outputs": [],
   "source": []
  },
  {
   "cell_type": "code",
   "execution_count": null,
   "id": "2e745da5",
   "metadata": {},
   "outputs": [],
   "source": []
  }
 ],
 "metadata": {
  "kernelspec": {
   "display_name": "Python 3 (ipykernel)",
   "language": "python",
   "name": "python3"
  },
  "language_info": {
   "codemirror_mode": {
    "name": "ipython",
    "version": 3
   },
   "file_extension": ".py",
   "mimetype": "text/x-python",
   "name": "python",
   "nbconvert_exporter": "python",
   "pygments_lexer": "ipython3",
   "version": "3.11.5"
  }
 },
 "nbformat": 4,
 "nbformat_minor": 5
}

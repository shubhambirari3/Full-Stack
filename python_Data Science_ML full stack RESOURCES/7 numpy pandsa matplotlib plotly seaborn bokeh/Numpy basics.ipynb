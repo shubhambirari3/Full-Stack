{
 "cells": [
  {
   "cell_type": "code",
   "execution_count": null,
   "id": "e5816f86-016e-493e-a1f1-9467e664342f",
   "metadata": {},
   "outputs": [],
   "source": [
    "#numpy >> numerical python \n",
    "#2005 by Travis Oliphant"
   ]
  },
  {
   "cell_type": "code",
   "execution_count": null,
   "id": "affb4ad9-77ef-4c97-84fa-78e771a5dff8",
   "metadata": {},
   "outputs": [],
   "source": [
    "import numpy as np"
   ]
  },
  {
   "cell_type": "code",
   "execution_count": null,
   "id": "729d4684-f5bf-4211-8bdd-a8f6621d42e4",
   "metadata": {},
   "outputs": [],
   "source": [
    "np.__version__"
   ]
  },
  {
   "cell_type": "code",
   "execution_count": null,
   "id": "6f700fa6-d90b-4fda-ab5a-6e20a8baedbc",
   "metadata": {},
   "outputs": [],
   "source": [
    "print(np.__doc__)"
   ]
  },
  {
   "cell_type": "code",
   "execution_count": null,
   "id": "7cf463d4-04e9-44b0-bef4-cd06c33032bc",
   "metadata": {},
   "outputs": [],
   "source": [
    "lis = [1, 2, 3, \"azad\", 3+5j, True, 1.2]"
   ]
  },
  {
   "cell_type": "code",
   "execution_count": null,
   "id": "9f22d7a1-e9f5-4c10-9282-d2fd72fd5ae1",
   "metadata": {},
   "outputs": [],
   "source": [
    "type(lis)"
   ]
  },
  {
   "cell_type": "code",
   "execution_count": null,
   "id": "460e8c12-d692-40c1-bd82-e2455cc76bb7",
   "metadata": {},
   "outputs": [],
   "source": [
    "lis"
   ]
  },
  {
   "cell_type": "code",
   "execution_count": null,
   "id": "5a1ae8e9-6655-4dd7-ae29-7965789dcaed",
   "metadata": {},
   "outputs": [],
   "source": [
    "#Numpy stores the data in an array\n",
    "#An array is a container used to store the data of same data type\n"
   ]
  },
  {
   "cell_type": "code",
   "execution_count": null,
   "id": "f60fe7a7-2501-46ed-8f61-88ab2ee923f2",
   "metadata": {},
   "outputs": [],
   "source": [
    "#why numpy\n",
    "#Computation is fast>> due to array>>>continous memory location\n",
    "#mathematical computation"
   ]
  },
  {
   "cell_type": "markdown",
   "id": "7deed48a",
   "metadata": {},
   "source": [
    "<!-- The line `arr = np.array(l)` creates a NumPy array from the list `l`. This means it converts the list `l` into an array format that NumPy can work with for numerical operations. -->"
   ]
  },
  {
   "cell_type": "code",
   "execution_count": null,
   "id": "e6b1af38-324c-4bfa-8705-2a9f7bba7b15",
   "metadata": {},
   "outputs": [],
   "source": [
    "l = [1, 2, 3, 4, 5]"
   ]
  },
  {
   "cell_type": "code",
   "execution_count": null,
   "id": "e34f3df4-eb92-4258-9b31-253ffea49976",
   "metadata": {},
   "outputs": [],
   "source": [
    "arr = np.array(l)"
   ]
  },
  {
   "cell_type": "code",
   "execution_count": null,
   "id": "0949f09f-ec2a-4f59-ae61-133fc81ff448",
   "metadata": {},
   "outputs": [],
   "source": [
    "arr"
   ]
  },
  {
   "cell_type": "code",
   "execution_count": null,
   "id": "ba27940b-7ff5-4244-99bd-4ef94eefd959",
   "metadata": {},
   "outputs": [],
   "source": [
    "l = [1, 2, 3, 4, 5.1]\n",
    "arr = np.array(l)"
   ]
  },
  {
   "cell_type": "code",
   "execution_count": null,
   "id": "79753459-3dcd-400d-8ed9-7f2e57444635",
   "metadata": {},
   "outputs": [],
   "source": [
    "arr"
   ]
  },
  {
   "cell_type": "code",
   "execution_count": null,
   "id": "d8ffbf0a-8a03-4d90-9b4c-ae64fa46d033",
   "metadata": {},
   "outputs": [],
   "source": [
    "l = [1, 2, 3, 4, 5.1, \"azad\"]\n",
    "arr = np.array(l)"
   ]
  },
  {
   "cell_type": "markdown",
   "id": "83a33f54",
   "metadata": {},
   "source": [
    "<!-- When you run `arr = np.array(l)` with `l` defined as `[1, 2, 3, 4, 5.1, \"azad\"]`, NumPy converts the list into an array. Since the list contains both numbers and a string, NumPy converts all elements to the same data type, which will be strings in this case. So the resulting array `arr` will be:\n",
    "\n",
    "```python\n",
    "array(['1', '2', '3', '4', '5.1', 'azad'], dtype='<U32')\n",
    "```\n",
    "\n",
    "Here, `<U32` indicates that the data type of the array elements is Unicode strings of up to 32 characters. -->"
   ]
  },
  {
   "cell_type": "code",
   "execution_count": null,
   "id": "6ab86e10-8237-4280-8e62-fce4c81768ca",
   "metadata": {},
   "outputs": [],
   "source": [
    "arr"
   ]
  },
  {
   "cell_type": "code",
   "execution_count": null,
   "id": "735d5fc3-b2ae-4a8a-afcc-0cdc2d8bae92",
   "metadata": {},
   "outputs": [],
   "source": [
    "#arr stores homogenous data\n",
    "# NumPy arrays are designed to store homogeneous data, meaning all elements in a NumPy array must be of the same type. In your example, the list l contains both numbers and a string. When you convert this list to a NumPy array using np.array(l), NumPy automatically converts all elements to the same type to maintain this homogeneity. In this case, it converts all elements to strings.\n",
    "\n",
    "# So, even though your original list had integers, a float, and a string, the resulting NumPy array arr will have all elements as strings to ensure they are of the same type"
   ]
  },
  {
   "cell_type": "code",
   "execution_count": null,
   "id": "4c114345-6898-440b-b9ce-0a114148cdeb",
   "metadata": {},
   "outputs": [],
   "source": [
    "type(arr)"
   ]
  },
  {
   "cell_type": "code",
   "execution_count": null,
   "id": "b3de46ca-1e17-492e-a9e3-3ff9358a5191",
   "metadata": {},
   "outputs": [],
   "source": [
    "arr.ndim"
   ]
  },
  {
   "cell_type": "code",
   "execution_count": null,
   "id": "ead16e89-414b-469e-98de-b6bea6eb45c9",
   "metadata": {},
   "outputs": [],
   "source": [
    "arr1 = np.array([[1, 2, 3], [4, 5, 6]])"
   ]
  },
  {
   "cell_type": "code",
   "execution_count": null,
   "id": "b11265c0-3a0b-49a0-b589-7dd3bf0bd4f3",
   "metadata": {},
   "outputs": [],
   "source": [
    "arr1"
   ]
  },
  {
   "cell_type": "code",
   "execution_count": null,
   "id": "7fe6792c-b6e4-4081-9c76-7a724f535299",
   "metadata": {},
   "outputs": [],
   "source": [
    "arr1.ndim"
   ]
  },
  {
   "cell_type": "markdown",
   "id": "ac6d5837",
   "metadata": {},
   "source": [
    "<!--  the `np.matrix` function creates a specialized 2-dimensional array, also known as a matrix. When you define `mat = np.matrix([1, 2, 3, 4])`, it creates a 1x4 matrix, which is a 2-dimensional array with one row and four columns.\n",
    "\n",
    "Here's the matrix:\n",
    "\n",
    "```python\n",
    "matrix([[1, 2, 3, 4]])\n",
    "```\n",
    "\n",
    "Matrices in NumPy are always 2-dimensional, and they provide some additional operations specifically for matrix algebra, like matrix multiplication using the `*` operator. However, it is generally recommended to use `np.array` for most purposes because it is more versatile and the use of `np.matrix` is somewhat discouraged in favor of using 2D `np.array` objects. -->"
   ]
  },
  {
   "cell_type": "code",
   "execution_count": null,
   "id": "6ea449f3-3151-407e-87e0-a1a0b532e70f",
   "metadata": {},
   "outputs": [],
   "source": [
    "mat = np.matrix([1, 2, 3, 4]) #matrix is a specialised array, 2 dimensional"
   ]
  },
  {
   "cell_type": "code",
   "execution_count": null,
   "id": "b7ff7c45-f0f9-4eaf-93fa-5ff1f17ba6c1",
   "metadata": {},
   "outputs": [],
   "source": [
    "type(mat)"
   ]
  },
  {
   "cell_type": "code",
   "execution_count": null,
   "id": "061f5f5e-299c-4868-ac9c-503be10a6223",
   "metadata": {},
   "outputs": [],
   "source": [
    "np.matrix([[[1, 2], [3,4], [5,6]]])"
   ]
  },
  {
   "cell_type": "code",
   "execution_count": null,
   "id": "915f3068-66df-42a3-aa1f-4e38c2764772",
   "metadata": {},
   "outputs": [],
   "source": [
    "# np.asarray(l) converts the list l to a NumPy array. It is similar to np.array(l) but does not make a copy if the input is already an array, making it more efficient in such cases.\n",
    "l = [1, 2, 3]\n",
    "np.asarray(l)"
   ]
  },
  {
   "cell_type": "code",
   "execution_count": null,
   "id": "2276c5f2-b03d-4edc-8ddf-971a20effd42",
   "metadata": {},
   "outputs": [],
   "source": [
    "mat"
   ]
  },
  {
   "cell_type": "code",
   "execution_count": null,
   "id": "708ca56f-a68f-482b-b46b-ec1d40556dda",
   "metadata": {},
   "outputs": [],
   "source": [
    "# np.asarray(mat) converts a matrix to a NumPy array, ensuring it becomes a regular ndarray, not a matrix object.\n",
    "np.asarray(mat)"
   ]
  },
  {
   "cell_type": "code",
   "execution_count": null,
   "id": "1490bf16-535a-41ba-b7bd-45a3e349f6fd",
   "metadata": {},
   "outputs": [],
   "source": [
    "# np.asanyarray([1, 2, 3]) converts the list to an array, similar to np.asarray, but retains the array subclass if the input is already an array subclass.\n",
    "np.asanyarray([1, 2, 3])"
   ]
  },
  {
   "cell_type": "code",
   "execution_count": null,
   "id": "8fe0f030-a188-4f10-a62a-2548f415b5d4",
   "metadata": {},
   "outputs": [],
   "source": [
    "mat"
   ]
  },
  {
   "cell_type": "code",
   "execution_count": null,
   "id": "9b13a9ac-85a0-4e49-8db8-64132d7cd0b9",
   "metadata": {},
   "outputs": [],
   "source": [
    "# `np.asanyarray(mat)` converts a matrix to an array, retaining subclass if it's already an array subclass.\n",
    "np.asanyarray(mat) "
   ]
  },
  {
   "cell_type": "code",
   "execution_count": null,
   "id": "975c3b99-0d9a-49b0-a2cc-c7d35ff2e5e3",
   "metadata": {},
   "outputs": [],
   "source": [
    "t = ([1, 2, 3], [4, 5, 6]) #tuple to array"
   ]
  },
  {
   "cell_type": "code",
   "execution_count": null,
   "id": "a1b2ab57-6408-49d1-95f7-df804318d60a",
   "metadata": {},
   "outputs": [],
   "source": [
    "type(t)"
   ]
  },
  {
   "cell_type": "code",
   "execution_count": null,
   "id": "1f7fa278-00b4-4a01-a14a-4ebad7e66836",
   "metadata": {},
   "outputs": [],
   "source": [
    "np.array(t)"
   ]
  },
  {
   "cell_type": "code",
   "execution_count": null,
   "id": "6fe9183c-59e9-4c22-9cef-4d9525e2abf4",
   "metadata": {},
   "outputs": [],
   "source": [
    "l = [1, 2, 3, 4, 5]\n",
    "arr = np.array(l)"
   ]
  },
  {
   "cell_type": "code",
   "execution_count": null,
   "id": "7769fa0c-07e3-418b-a682-200fe1a37186",
   "metadata": {},
   "outputs": [],
   "source": [
    "arr"
   ]
  },
  {
   "cell_type": "code",
   "execution_count": null,
   "id": "182fa521-663e-438b-8ac4-40aad06a4a83",
   "metadata": {},
   "outputs": [],
   "source": [
    "arr[0] = 500"
   ]
  },
  {
   "cell_type": "code",
   "execution_count": null,
   "id": "3fcc63e6-be14-470e-829d-f58812dca2db",
   "metadata": {},
   "outputs": [],
   "source": [
    "arr"
   ]
  },
  {
   "cell_type": "code",
   "execution_count": null,
   "id": "143596cf-5521-4c7a-be1d-d8931eeaee70",
   "metadata": {},
   "outputs": [],
   "source": [
    "arr"
   ]
  },
  {
   "cell_type": "code",
   "execution_count": null,
   "id": "ec5472fc-553b-41a8-8625-634490d65a37",
   "metadata": {},
   "outputs": [],
   "source": [
    "a = arr"
   ]
  },
  {
   "cell_type": "code",
   "execution_count": null,
   "id": "bfa17deb-4eb2-43d7-9c34-25df51e255cb",
   "metadata": {},
   "outputs": [],
   "source": [
    "a"
   ]
  },
  {
   "cell_type": "code",
   "execution_count": null,
   "id": "9f9ae4c3-6019-480a-873e-3f11bb09598f",
   "metadata": {},
   "outputs": [],
   "source": [
    "arr[0] = 1000 "
   ]
  },
  {
   "cell_type": "code",
   "execution_count": null,
   "id": "bd6dd699-92ae-4f91-8546-43e9328f9df3",
   "metadata": {},
   "outputs": [],
   "source": [
    "a #change in array also lead to change in a >> shallow copy"
   ]
  },
  {
   "cell_type": "code",
   "execution_count": null,
   "id": "277bb771-1e32-474e-acc4-5bf90067c0b0",
   "metadata": {},
   "outputs": [],
   "source": [
    "# `a = arr.copy()` creates a copy of the array `arr`, ensuring `a` is a separate object with the same data.\n",
    "a = arr.copy()"
   ]
  },
  {
   "cell_type": "code",
   "execution_count": null,
   "id": "329b67fd-19b0-46b2-9e8f-c9deb5e34c4a",
   "metadata": {},
   "outputs": [],
   "source": [
    "a"
   ]
  },
  {
   "cell_type": "code",
   "execution_count": null,
   "id": "383a8cea-475f-4585-a453-7d5343b7c873",
   "metadata": {},
   "outputs": [],
   "source": [
    "arr"
   ]
  },
  {
   "cell_type": "code",
   "execution_count": null,
   "id": "b954514b-4edf-4e61-931d-1b2bea747d68",
   "metadata": {},
   "outputs": [],
   "source": [
    "arr[0] = 2000"
   ]
  },
  {
   "cell_type": "code",
   "execution_count": null,
   "id": "a1e8e533-3f79-48e0-8fa0-528d325e72ca",
   "metadata": {},
   "outputs": [],
   "source": [
    "arr"
   ]
  },
  {
   "cell_type": "code",
   "execution_count": null,
   "id": "723fa6ed-6daa-4d3b-a83c-a41b155ea15c",
   "metadata": {},
   "outputs": [],
   "source": [
    "a"
   ]
  },
  {
   "cell_type": "code",
   "execution_count": null,
   "id": "a80b905c-5cd9-45ca-b639-56f65e6a5a10",
   "metadata": {},
   "outputs": [],
   "source": [
    "#To create an array >> np.array, np.asarray, np.asanyarray, deep copy and shallow copy"
   ]
  },
  {
   "cell_type": "code",
   "execution_count": null,
   "id": "c84722fa-7492-4fa9-8789-560b60a3819d",
   "metadata": {},
   "outputs": [],
   "source": [
    "#multiple ways to generate array"
   ]
  },
  {
   "cell_type": "code",
   "execution_count": null,
   "id": "a4602730-f60c-4a67-ab4f-e1a270b942cd",
   "metadata": {},
   "outputs": [],
   "source": [
    "# `arr1 = np.fromfunction(lambda i, j: i == j, (3, 3))` creates a 3x3 array where elements are True (1) when row index equals column index, otherwise False (0).\n",
    "arr1 = np.fromfunction(lambda i, j : i==j, (3,3)) #Construct an array by executing a function over each coordinate."
   ]
  },
  {
   "cell_type": "code",
   "execution_count": null,
   "id": "18dc5a07-5ea9-4d2d-86cb-8068de9630d9",
   "metadata": {},
   "outputs": [],
   "source": [
    "arr1"
   ]
  },
  {
   "cell_type": "code",
   "execution_count": null,
   "id": "a18d43e3-674c-481e-aef3-3f0f1debd78a",
   "metadata": {},
   "outputs": [],
   "source": [
    "arr1.ndim"
   ]
  },
  {
   "cell_type": "code",
   "execution_count": null,
   "id": "a2df1742-3210-4f92-a3cb-410e39979472",
   "metadata": {},
   "outputs": [],
   "source": [
    "# `arr1.shape` returns the shape of the array `arr1`, which is `(3, 3)` for a 3x3 array.\n",
    "arr1.shape #shape of array"
   ]
  },
  {
   "cell_type": "code",
   "execution_count": null,
   "id": "16714a46-9a11-4aa8-b335-4f2b803e5b20",
   "metadata": {},
   "outputs": [],
   "source": [
    "# `arr1.size` returns the total number of elements in the array `arr1`, which is 9 for a 3x3 array.\n",
    "arr1.size #no of elements in array"
   ]
  },
  {
   "cell_type": "code",
   "execution_count": null,
   "id": "b0c30cae-6fb4-449d-a1d9-61846c3b8bb7",
   "metadata": {},
   "outputs": [],
   "source": [
    "arr2 = np.fromfunction(lambda i, j : i*j, (3,3)) "
   ]
  },
  {
   "cell_type": "code",
   "execution_count": null,
   "id": "01fc9866-7cac-443f-8c0c-af2ec1cfe1af",
   "metadata": {},
   "outputs": [],
   "source": [
    "arr2"
   ]
  },
  {
   "cell_type": "code",
   "execution_count": null,
   "id": "2b5e02fb-5839-47f1-946b-57dfc4f86fc7",
   "metadata": {},
   "outputs": [],
   "source": [
    "for i in range(5):\n",
    "    print(i)"
   ]
  },
  {
   "cell_type": "code",
   "execution_count": null,
   "id": "b3188585-c51d-4ee1-a687-41bf06d62c10",
   "metadata": {},
   "outputs": [],
   "source": [
    "[i for i in range(5)]"
   ]
  },
  {
   "cell_type": "code",
   "execution_count": null,
   "id": "c9da79d5-11a8-4dd1-b24c-1865518257ea",
   "metadata": {},
   "outputs": [],
   "source": [
    "list((i for i in range(5)))"
   ]
  },
  {
   "cell_type": "code",
   "execution_count": null,
   "id": "8e8cd2f2-c34f-40ab-9589-bcab817d261d",
   "metadata": {},
   "outputs": [],
   "source": [
    "iterable = (i for i in range(5))"
   ]
  },
  {
   "cell_type": "code",
   "execution_count": null,
   "id": "0fcff9c8-369d-4ac5-ad4e-e51fb250d804",
   "metadata": {},
   "outputs": [],
   "source": [
    "# `np.fromiter(iterable, int)` creates a NumPy array from any iterable, with the specified data type `int`.\n",
    "np.fromiter(iterable, int) #Create a new 1-dimensional array from an iterable object."
   ]
  },
  {
   "cell_type": "code",
   "execution_count": null,
   "id": "856ed151-eb1d-44eb-8d31-f804e5e4a93c",
   "metadata": {},
   "outputs": [],
   "source": [
    "np.fromstring('22 23 24', sep = \" \") #values should be numerical"
   ]
  },
  {
   "cell_type": "code",
   "execution_count": null,
   "id": "cff53ef4-f252-465f-9662-df4afbccd087",
   "metadata": {},
   "outputs": [],
   "source": [
    "np.fromstring('22,23,24', sep = \",\")"
   ]
  },
  {
   "cell_type": "code",
   "execution_count": null,
   "id": "8fdc8e44-1b3c-4c59-b7b7-29a2873313ae",
   "metadata": {},
   "outputs": [],
   "source": [
    "#for string character you have  to use split\n",
    "string = 'azad,jai,Sanjay'\n",
    "string1 = string.split(',')\n",
    "np.array(string1)"
   ]
  },
  {
   "cell_type": "code",
   "execution_count": null,
   "id": "c910de39-0057-45cf-952f-0034308e2b10",
   "metadata": {},
   "outputs": [],
   "source": [
    "list(range(10))"
   ]
  },
  {
   "cell_type": "code",
   "execution_count": null,
   "id": "3216d2b6-e6d7-41c9-a438-b9c19b459361",
   "metadata": {},
   "outputs": [],
   "source": [
    "range(10)"
   ]
  },
  {
   "cell_type": "code",
   "execution_count": null,
   "id": "d46f95cb-24d5-4b01-8c62-ac3158b04562",
   "metadata": {},
   "outputs": [],
   "source": [
    "#other methods of numpy>> to generate sequnce of nos\n",
    "np.arange(1, 10, 0.1) #Return evenly spaced values within a given interval."
   ]
  },
  {
   "cell_type": "code",
   "execution_count": null,
   "id": "d9969f19-d8be-4390-808f-88035dcef008",
   "metadata": {},
   "outputs": [],
   "source": [
    "np.linspace(1, 5, 10)#Return evenly spaced numbers over a specified interval.\n",
    "#give me 10 numbers between 1 and 5 evenly spaced"
   ]
  },
  {
   "cell_type": "code",
   "execution_count": null,
   "id": "5f3bc8e5-1696-4f7e-b51c-7ca636f6db6e",
   "metadata": {},
   "outputs": [],
   "source": []
  },
  {
   "cell_type": "code",
   "execution_count": null,
   "id": "87982db3",
   "metadata": {},
   "outputs": [],
   "source": []
  },
  {
   "cell_type": "code",
   "execution_count": null,
   "id": "4d855a82",
   "metadata": {},
   "outputs": [],
   "source": []
  }
 ],
 "metadata": {
  "kernelspec": {
   "display_name": "Python 3 (ipykernel)",
   "language": "python",
   "name": "python3"
  },
  "language_info": {
   "codemirror_mode": {
    "name": "ipython",
    "version": 3
   },
   "file_extension": ".py",
   "mimetype": "text/x-python",
   "name": "python",
   "nbconvert_exporter": "python",
   "pygments_lexer": "ipython3",
   "version": "3.11.5"
  }
 },
 "nbformat": 4,
 "nbformat_minor": 5
}

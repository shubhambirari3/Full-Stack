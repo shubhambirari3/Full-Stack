{
 "cells": [
  {
   "cell_type": "code",
   "execution_count": 1,
   "metadata": {},
   "outputs": [
    {
     "data": {
      "text/plain": [
       "'0.19.2'"
      ]
     },
     "execution_count": 1,
     "metadata": {},
     "output_type": "execute_result"
    }
   ],
   "source": [
    "import sklearn\n",
    "sklearn.__version__"
   ]
  },
  {
   "cell_type": "code",
   "execution_count": 12,
   "metadata": {
    "collapsed": true
   },
   "outputs": [],
   "source": [
    "# Generate sample data\n",
    "import numpy as np\n",
    "import matplotlib.pyplot as plt\n",
    "from sklearn import neighbors"
   ]
  },
  {
   "cell_type": "code",
   "execution_count": 15,
   "metadata": {},
   "outputs": [
    {
     "data": {
      "text/plain": [
       "array([[0.093949  ],\n",
       "       [0.10109199],\n",
       "       [0.35518029],\n",
       "       [0.4356465 ],\n",
       "       [0.59137213]])"
      ]
     },
     "execution_count": 15,
     "metadata": {},
     "output_type": "execute_result"
    }
   ],
   "source": [
    "np.random.seed(0)\n",
    "\n",
    "# an array of the given shape and populate it with random samples from a \n",
    "# uniform distribution over [0, 1)\n",
    "X = np.sort(5 * np.random.rand(40, 1), axis=0)\n",
    "X[:5]"
   ]
  },
  {
   "cell_type": "code",
   "execution_count": 16,
   "metadata": {},
   "outputs": [
    {
     "data": {
      "text/plain": [
       "array([ 0.09381086,  0.10091989,  0.34775941,  0.4219966 ,  0.55750066,\n",
       "        0.65695022,  0.96940081,  0.94059723,  0.87637482,  0.8538402 ,\n",
       "        0.81553704,  0.75839099,  0.74075654,  0.50756044,  0.47689441,\n",
       "        0.40518094,  0.38713765,  0.29682859,  0.29496884,  0.12742837,\n",
       "        0.08102512,  0.05689193,  0.05338977, -0.05797992, -0.08776485,\n",
       "       -0.26432971, -0.42082464, -0.66655347, -0.68104667, -0.68968448,\n",
       "       -0.72911815, -0.75404581, -0.85289554, -0.93507411, -0.96803456,\n",
       "       -0.99643995, -0.99997983, -0.99993999, -0.99439521, -0.98371764])"
      ]
     },
     "execution_count": 16,
     "metadata": {},
     "output_type": "execute_result"
    }
   ],
   "source": [
    "y = np.sin(X).ravel()\n",
    "y"
   ]
  },
  {
   "cell_type": "code",
   "execution_count": 18,
   "metadata": {},
   "outputs": [
    {
     "data": {
      "text/plain": [
       "array([ 0.09381086,  0.81553704,  0.08102512, -0.72911815])"
      ]
     },
     "execution_count": 18,
     "metadata": {},
     "output_type": "execute_result"
    }
   ],
   "source": [
    "# pick every jth element starting from ith element\n",
    "# y[i::j]\n",
    "y[::10]"
   ]
  },
  {
   "cell_type": "code",
   "execution_count": 7,
   "metadata": {},
   "outputs": [
    {
     "data": {
      "text/plain": [
       "array([0.3595079 , 0.43703195, 0.6976312 , 0.06022547, 0.66676672,\n",
       "       0.67063787, 0.21038256, 0.1289263 ])"
      ]
     },
     "execution_count": 7,
     "metadata": {},
     "output_type": "execute_result"
    }
   ],
   "source": [
    "np.random.rand(8)"
   ]
  },
  {
   "cell_type": "code",
   "execution_count": 19,
   "metadata": {
    "collapsed": true
   },
   "outputs": [],
   "source": [
    "# Add noise to targets\n",
    "y[::5] += 1 * (0.5 - np.random.rand(8))"
   ]
  },
  {
   "cell_type": "markdown",
   "metadata": {},
   "source": [
    "#### newaxis of numpy"
   ]
  },
  {
   "cell_type": "code",
   "execution_count": 22,
   "metadata": {},
   "outputs": [
    {
     "name": "stdout",
     "output_type": "stream",
     "text": [
      "(4,)\n"
     ]
    },
    {
     "data": {
      "text/plain": [
       "array([0, 1, 2, 3])"
      ]
     },
     "execution_count": 22,
     "metadata": {},
     "output_type": "execute_result"
    }
   ],
   "source": [
    "# 1D array\n",
    "arr = np.arange(4)\n",
    "print(arr.shape)\n",
    "arr"
   ]
  },
  {
   "cell_type": "code",
   "execution_count": 23,
   "metadata": {},
   "outputs": [
    {
     "name": "stdout",
     "output_type": "stream",
     "text": [
      "(1, 4)\n"
     ]
    },
    {
     "data": {
      "text/plain": [
       "array([[0, 1, 2, 3]])"
      ]
     },
     "execution_count": 23,
     "metadata": {},
     "output_type": "execute_result"
    }
   ],
   "source": [
    "# make it as row vector by inserting an axis along first dimension\n",
    "row_vec = arr[np.newaxis, :]\n",
    "print(row_vec.shape)\n",
    "row_vec"
   ]
  },
  {
   "cell_type": "code",
   "execution_count": 24,
   "metadata": {},
   "outputs": [
    {
     "name": "stdout",
     "output_type": "stream",
     "text": [
      "(4, 1)\n"
     ]
    },
    {
     "data": {
      "text/plain": [
       "array([[0],\n",
       "       [1],\n",
       "       [2],\n",
       "       [3]])"
      ]
     },
     "execution_count": 24,
     "metadata": {},
     "output_type": "execute_result"
    }
   ],
   "source": [
    "# make it as column vector by inserting an axis along second dimension\n",
    "col_vec = arr[:, np.newaxis]\n",
    "print(col_vec.shape)\n",
    "col_vec"
   ]
  },
  {
   "cell_type": "markdown",
   "metadata": {},
   "source": [
    "back to the code ..."
   ]
  },
  {
   "cell_type": "code",
   "execution_count": 25,
   "metadata": {
    "collapsed": true
   },
   "outputs": [],
   "source": [
    "# random test point\n",
    "test = np.linspace(0, 5, 500)[:, np.newaxis]\n"
   ]
  },
  {
   "cell_type": "code",
   "execution_count": 26,
   "metadata": {},
   "outputs": [
    {
     "data": {
      "image/png": "[encoded data removed]",
      "text/plain": [
       "<matplotlib.figure.Figure at 0x1c417ecfe10>"
      ]
     },
     "metadata": {},
     "output_type": "display_data"
    }
   ],
   "source": [
    "# Fit regression model\n",
    "plt.figure(figsize=(9,6))\n",
    "n_neighbors = 5\n",
    "\n",
    "for i, weights in enumerate(['uniform', 'distance']):\n",
    "    knn = neighbors.KNeighborsRegressor(n_neighbors, weights=weights)\n",
    "    \n",
    "    y_ = knn.fit(X, y).predict(test)\n",
    "\n",
    "    plt.subplot(2, 1, i + 1)\n",
    "    \n",
    "    plt.scatter(X, \n",
    "                y, \n",
    "                c='k', \n",
    "                label='data')\n",
    "    \n",
    "    plt.plot(test, \n",
    "             y_, \n",
    "             c='g', \n",
    "             label='prediction')\n",
    "    \n",
    "    plt.axis('tight')\n",
    "    plt.legend()\n",
    "    plt.title(\"KNeighborsRegressor (k = %i, weights = '%s')\" % (n_neighbors, weights))\n",
    "\n",
    "plt.tight_layout()\n",
    "plt.show()"
   ]
  },
  {
   "cell_type": "code",
   "execution_count": null,
   "metadata": {
    "collapsed": true
   },
   "outputs": [],
   "source": []
  }
 ],
 "metadata": {
  "kernelspec": {
   "display_name": "Python 3",
   "language": "python",
   "name": "python3"
  },
  "language_info": {
   "codemirror_mode": {
    "name": "ipython",
    "version": 3
   },
   "file_extension": ".py",
   "mimetype": "text/x-python",
   "name": "python",
   "nbconvert_exporter": "python",
   "pygments_lexer": "ipython3",
   "version": "3.8.5"
  }
 },
 "nbformat": 4,
 "nbformat_minor": 2
}

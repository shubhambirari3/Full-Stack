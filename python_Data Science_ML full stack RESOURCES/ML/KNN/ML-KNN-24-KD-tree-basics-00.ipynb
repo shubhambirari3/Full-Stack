{
 "cells": [
  {
   "cell_type": "code",
   "execution_count": 1,
   "metadata": {},
   "outputs": [
    {
     "data": {
      "text/plain": [
       "'0.21.3'"
      ]
     },
     "execution_count": 1,
     "metadata": {},
     "output_type": "execute_result"
    }
   ],
   "source": [
    "import sklearn\n",
    "sklearn.__version__"
   ]
  },
  {
   "cell_type": "code",
   "execution_count": 1,
   "metadata": {},
   "outputs": [],
   "source": [
    "from sklearn.neighbors import KDTree\n",
    "import numpy as np\n",
    "import matplotlib\n",
    "import matplotlib.pyplot as plt\n",
    "%matplotlib inline \n",
    "\n",
    "import seaborn as sns\n",
    "sns.set(style=\"white\", color_codes=True) "
   ]
  },
  {
   "cell_type": "code",
   "execution_count": 2,
   "metadata": {},
   "outputs": [],
   "source": [
    "X = np.array([ [-1, -1], \n",
    "               [-2, -1], \n",
    "               [-3, -2], \n",
    "               [ 1,  1], \n",
    "               [ 2,  1], \n",
    "               [ 3,  2]]\n",
    "            )\n",
    "     "
   ]
  },
  {
   "cell_type": "code",
   "execution_count": 3,
   "metadata": {},
   "outputs": [],
   "source": [
    "# get columns  \n",
    "X1, X2 = zip(*X)"
   ]
  },
  {
   "cell_type": "code",
   "execution_count": 4,
   "metadata": {},
   "outputs": [
    {
     "data": {
      "image/png": "[encoded data removed]",
      "text/plain": [
       "<Figure size 648x288 with 1 Axes>"
      ]
     },
     "metadata": {},
     "output_type": "display_data"
    }
   ],
   "source": [
    "plt.figure(figsize=(9,4))\n",
    "plt.grid()\n",
    "plt.axis([-8, 8, -8, 8])\n",
    "plt.axhline(y=0, color='k')\n",
    "plt.axvline(x=0, color='k')\n",
    "\n",
    "plt.scatter(X1, X2, color='c')\n",
    "#plt.annotate('', xy=(X1, X2), xytext=(6, 7), arrowprops=dict(facecolor='black', shrink=0.05));\n",
    "\n",
    "# test point\n",
    "X_test = [[1, 3]]\n",
    "X_test1, X_test2 = zip(*X_test)\n",
    "\n",
    "plt.scatter(X_test1, X_test2, color='r')\n",
    "plt.annotate('Test point', xy=(1, 3), xytext=(2, 5), arrowprops=dict(facecolor='black', shrink=0.05));"
   ]
  },
  {
   "cell_type": "code",
   "execution_count": 5,
   "metadata": {},
   "outputs": [
    {
     "name": "stdout",
     "output_type": "stream",
     "text": [
      "(1, 3, 5)\n",
      "(2, 4, 6)\n"
     ]
    }
   ],
   "source": [
    "x1 = [[1,2], [3,4], [5,6]]\n",
    "\n",
    "# get columns    \n",
    "a, b = zip(*x1)   # zip(*foo())\n",
    "\n",
    "# a, b = map(list, zip(*x))  # if you prefer lists over tuples\n",
    "print(a)\n",
    "# (1, 3, 5)\n",
    "print(b)"
   ]
  },
  {
   "cell_type": "markdown",
   "metadata": {},
   "source": [
    "__Parameters:\t__\n",
    "- __X__ : array-like, shape = [n_samples, n_features]\n",
    "n_samples is the number of points in the data set, and n_features is the dimension of the parameter space.\n",
    "\n",
    "- __leaf_size__ : positive integer (default = 40)\n",
    "Number of points at which to switch to brute-force. \n",
    "Changing leaf_size will not affect the results of a query, but can significantly impact the speed of a query and the memory required to store the constructed tree. \n",
    "\n",
    "- __metric__ : string or DistanceMetric object\n",
    "the distance metric to use for the tree. Default=’minkowski’ with p=2 (that is, a euclidean metric). "
   ]
  },
  {
   "cell_type": "code",
   "execution_count": 6,
   "metadata": {},
   "outputs": [],
   "source": [
    "# instatiate the KDTree\n",
    "kdt = KDTree(X, leaf_size=30, metric='euclidean')\n"
   ]
  },
  {
   "cell_type": "markdown",
   "metadata": {},
   "source": [
    "__Parameters:\t__\n",
    "- X : An array of points to query\n",
    "\n",
    "- k : integer (default = 1)\n",
    "The number of nearest neighbors to return\n",
    "\n",
    "- return_distance : boolean (default = True)\n",
    "if True, return a tuple (d, i) of distances and indices if False, return array i\n",
    "\n",
    "- sort_results : boolean (default = True)\n",
    "if True, then distances and indices of each point are sorted on return, so that the first column contains the closest points. Otherwise, neighbors are returned in an arbitrary order.\n",
    "\n",
    "__ returns __\n",
    "- i     : if return_distance == False\n",
    "- (d,i) : if return_distance == True\n",
    "\n",
    "- d : array of doubles - shape: x.shape[:-1] + (k,)\n",
    "each entry gives the list of distances to the neighbors of the corresponding point\n",
    "\n",
    "- i : array of integers - shape: x.shape[:-1] + (k,)\n",
    "each entry gives the list of indices of neighbors of the corresponding point"
   ]
  },
  {
   "cell_type": "code",
   "execution_count": 7,
   "metadata": {},
   "outputs": [
    {
     "data": {
      "text/plain": [
       "(array([[2.        , 2.23606798]]), array([[3, 4]], dtype=int64))"
      ]
     },
     "execution_count": 7,
     "metadata": {},
     "output_type": "execute_result"
    }
   ],
   "source": [
    " kdt.query(X_test, k=2, return_distance = True) "
   ]
  },
  {
   "cell_type": "code",
   "execution_count": null,
   "metadata": {},
   "outputs": [],
   "source": []
  },
  {
   "cell_type": "code",
   "execution_count": null,
   "metadata": {
    "collapsed": true
   },
   "outputs": [],
   "source": []
  }
 ],
 "metadata": {
  "kernelspec": {
   "display_name": "Python 3",
   "language": "python",
   "name": "python3"
  },
  "language_info": {
   "codemirror_mode": {
    "name": "ipython",
    "version": 3
   },
   "file_extension": ".py",
   "mimetype": "text/x-python",
   "name": "python",
   "nbconvert_exporter": "python",
   "pygments_lexer": "ipython3",
   "version": "3.8.5"
  }
 },
 "nbformat": 4,
 "nbformat_minor": 2
}

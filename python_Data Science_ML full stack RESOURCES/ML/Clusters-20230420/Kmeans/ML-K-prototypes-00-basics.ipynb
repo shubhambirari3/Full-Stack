{
 "cells": [
  {
   "cell_type": "code",
   "execution_count": 19,
   "metadata": {},
   "outputs": [
    {
     "name": "stdout",
     "output_type": "stream",
     "text": [
      "Collecting kprototypes\n",
      "  Downloading kprototypes-0.1.1-py3-none-any.whl (3.5 kB)\n",
      "Requirement already satisfied: numpy in c:\\users\\amrita\\anaconda3\\lib\\site-packages (from kprototypes) (1.19.2)\n",
      "Installing collected packages: kprototypes\n",
      "Successfully installed kprototypes-0.1.1\n"
     ]
    }
   ],
   "source": [
    "!pip install kprototypes"
   ]
  },
  {
   "cell_type": "code",
   "execution_count": 2,
   "metadata": {},
   "outputs": [
    {
     "name": "stdout",
     "output_type": "stream",
     "text": [
      "Collecting kmodes\n",
      "  Downloading kmodes-0.12.1-py2.py3-none-any.whl (20 kB)\n",
      "Requirement already satisfied, skipping upgrade: scipy>=0.13.3 in c:\\users\\amrita\\anaconda3\\lib\\site-packages (from kmodes) (1.5.2)\n",
      "Requirement already satisfied, skipping upgrade: numpy>=1.10.4 in c:\\users\\amrita\\anaconda3\\lib\\site-packages (from kmodes) (1.19.2)\n",
      "Requirement already satisfied, skipping upgrade: joblib>=0.11 in c:\\users\\amrita\\anaconda3\\lib\\site-packages (from kmodes) (0.17.0)\n",
      "Requirement already satisfied, skipping upgrade: scikit-learn>=0.22.0 in c:\\users\\amrita\\anaconda3\\lib\\site-packages (from kmodes) (0.23.2)\n",
      "Requirement already satisfied, skipping upgrade: threadpoolctl>=2.0.0 in c:\\users\\amrita\\anaconda3\\lib\\site-packages (from scikit-learn>=0.22.0->kmodes) (2.1.0)\n",
      "Installing collected packages: kmodes\n",
      "  Attempting uninstall: kmodes\n",
      "    Found existing installation: kmodes 0.11.0\n",
      "    Uninstalling kmodes-0.11.0:\n",
      "      Successfully uninstalled kmodes-0.11.0\n",
      "Successfully installed kmodes-0.12.1\n"
     ]
    }
   ],
   "source": [
    "!pip install --upgrade kmodes"
   ]
  },
  {
   "cell_type": "code",
   "execution_count": 10,
   "metadata": {},
   "outputs": [],
   "source": [
    "import numpy as np\n",
    "from kmodes import  kmodes\n"
   ]
  },
  {
   "cell_type": "code",
   "execution_count": 11,
   "metadata": {},
   "outputs": [],
   "source": [
    "# stocks with their market caps, sectors and countries\n",
    "symbols = np.genfromtxt(r'E:\\Python\\Machine Learning\\datasets\\stocks-k-prototypes.csv', \n",
    "                     dtype=str, \n",
    "                     delimiter=',')[:, 0]\n"
   ]
  },
  {
   "cell_type": "code",
   "execution_count": 12,
   "metadata": {},
   "outputs": [
    {
     "data": {
      "text/plain": [
       "array(['AAPL', 'XOM', 'GOOGL', 'MSFT', 'BRK-A', 'WFC', 'CHL', 'JNJ',\n",
       "       'WMT', 'VZ', 'ORCL', 'RDS-A'], dtype='<U5')"
      ]
     },
     "execution_count": 12,
     "metadata": {},
     "output_type": "execute_result"
    }
   ],
   "source": [
    "symbols"
   ]
  },
  {
   "cell_type": "code",
   "execution_count": 13,
   "metadata": {},
   "outputs": [],
   "source": [
    "X = np.genfromtxt(r'E:\\Python\\Machine Learning\\datasets\\stocks-k-prototypes.csv',\n",
    "                  dtype=object, \n",
    "                  delimiter=',')[:, 1:]\n"
   ]
  },
  {
   "cell_type": "code",
   "execution_count": 14,
   "metadata": {},
   "outputs": [
    {
     "data": {
      "text/plain": [
       "array([[b'738.5', b'tech', b'USA'],\n",
       "       [b'369.5', b'nrg', b'USA'],\n",
       "       [b'368.2', b'tech', b'USA'],\n",
       "       [b'346.7', b'tech', b'USA'],\n",
       "       [b'343.5', b'fin', b'USA'],\n",
       "       [b'282.4', b'fin', b'USA'],\n",
       "       [b'282.1', b'tel', b'CN'],\n",
       "       [b'279.7', b'cons', b'USA'],\n",
       "       [b'257.2', b'cons', b'USA'],\n",
       "       [b'205.2', b'tel', b'USA'],\n",
       "       [b'192.1', b'tech', b'USA'],\n",
       "       [b'195.7', b'nrg', b'NL']], dtype=object)"
      ]
     },
     "execution_count": 14,
     "metadata": {},
     "output_type": "execute_result"
    }
   ],
   "source": [
    "X"
   ]
  },
  {
   "cell_type": "code",
   "execution_count": 15,
   "metadata": {},
   "outputs": [
    {
     "data": {
      "text/plain": [
       "array([[738.5, b'tech', b'USA'],\n",
       "       [369.5, b'nrg', b'USA'],\n",
       "       [368.2, b'tech', b'USA'],\n",
       "       [346.7, b'tech', b'USA'],\n",
       "       [343.5, b'fin', b'USA'],\n",
       "       [282.4, b'fin', b'USA'],\n",
       "       [282.1, b'tel', b'CN'],\n",
       "       [279.7, b'cons', b'USA'],\n",
       "       [257.2, b'cons', b'USA'],\n",
       "       [205.2, b'tel', b'USA'],\n",
       "       [192.1, b'tech', b'USA'],\n",
       "       [195.7, b'nrg', b'NL']], dtype=object)"
      ]
     },
     "execution_count": 15,
     "metadata": {},
     "output_type": "execute_result"
    }
   ],
   "source": [
    "X[:, 0] = X[:, 0].astype(float)\n",
    "X"
   ]
  },
  {
   "cell_type": "code",
   "execution_count": 30,
   "metadata": {},
   "outputs": [
    {
     "data": {
      "text/plain": [
       "array([['738.5', b'tech', b'USA'],\n",
       "       ['369.5', b'nrg', b'USA'],\n",
       "       ['368.2', b'tech', b'USA'],\n",
       "       ['346.7', b'tech', b'USA'],\n",
       "       ['343.5', b'fin', b'USA'],\n",
       "       ['282.4', b'fin', b'USA'],\n",
       "       ['282.1', b'tel', b'CN'],\n",
       "       ['279.7', b'cons', b'USA'],\n",
       "       ['257.2', b'cons', b'USA'],\n",
       "       ['205.2', b'tel', b'USA'],\n",
       "       ['192.1', b'tech', b'USA'],\n",
       "       ['195.7', b'nrg', b'NL']], dtype=object)"
      ]
     },
     "execution_count": 30,
     "metadata": {},
     "output_type": "execute_result"
    }
   ],
   "source": [
    "X[:, 0] = X[:, 0].astype(str)\n",
    "X"
   ]
  },
  {
   "cell_type": "code",
   "execution_count": 22,
   "metadata": {},
   "outputs": [],
   "source": [
    "import kprototypes as kp"
   ]
  },
  {
   "cell_type": "code",
   "execution_count": 31,
   "metadata": {},
   "outputs": [
    {
     "ename": "AttributeError",
     "evalue": "'numpy.ndarray' object has no attribute 'select'",
     "output_type": "error",
     "traceback": [
      "\u001b[1;31m---------------------------------------------------------------------------\u001b[0m",
      "\u001b[1;31mAttributeError\u001b[0m                            Traceback (most recent call last)",
      "\u001b[1;32m<ipython-input-31-f6a6a992290d>\u001b[0m in \u001b[0;36m<module>\u001b[1;34m\u001b[0m\n\u001b[0;32m      2\u001b[0m \u001b[1;31m#kproto   = kp.KPrototypes(n_clusters=4, init='Cao', verbose=2)\u001b[0m\u001b[1;33m\u001b[0m\u001b[1;33m\u001b[0m\u001b[1;33m\u001b[0m\u001b[0m\n\u001b[0;32m      3\u001b[0m \u001b[1;33m\u001b[0m\u001b[0m\n\u001b[1;32m----> 4\u001b[1;33m \u001b[0mclusters\u001b[0m \u001b[1;33m=\u001b[0m \u001b[0mkproto\u001b[0m\u001b[1;33m.\u001b[0m\u001b[0mfit\u001b[0m\u001b[1;33m(\u001b[0m\u001b[0mX\u001b[0m\u001b[1;33m)\u001b[0m\u001b[1;33m\u001b[0m\u001b[1;33m\u001b[0m\u001b[0m\n\u001b[0m",
      "\u001b[1;32m~\\anaconda3\\lib\\site-packages\\pyspark\\ml\\base.py\u001b[0m in \u001b[0;36mfit\u001b[1;34m(self, dataset, params)\u001b[0m\n\u001b[0;32m    159\u001b[0m                 \u001b[1;32mreturn\u001b[0m \u001b[0mself\u001b[0m\u001b[1;33m.\u001b[0m\u001b[0mcopy\u001b[0m\u001b[1;33m(\u001b[0m\u001b[0mparams\u001b[0m\u001b[1;33m)\u001b[0m\u001b[1;33m.\u001b[0m\u001b[0m_fit\u001b[0m\u001b[1;33m(\u001b[0m\u001b[0mdataset\u001b[0m\u001b[1;33m)\u001b[0m\u001b[1;33m\u001b[0m\u001b[1;33m\u001b[0m\u001b[0m\n\u001b[0;32m    160\u001b[0m             \u001b[1;32melse\u001b[0m\u001b[1;33m:\u001b[0m\u001b[1;33m\u001b[0m\u001b[1;33m\u001b[0m\u001b[0m\n\u001b[1;32m--> 161\u001b[1;33m                 \u001b[1;32mreturn\u001b[0m \u001b[0mself\u001b[0m\u001b[1;33m.\u001b[0m\u001b[0m_fit\u001b[0m\u001b[1;33m(\u001b[0m\u001b[0mdataset\u001b[0m\u001b[1;33m)\u001b[0m\u001b[1;33m\u001b[0m\u001b[1;33m\u001b[0m\u001b[0m\n\u001b[0m\u001b[0;32m    162\u001b[0m         \u001b[1;32melse\u001b[0m\u001b[1;33m:\u001b[0m\u001b[1;33m\u001b[0m\u001b[1;33m\u001b[0m\u001b[0m\n\u001b[0;32m    163\u001b[0m             raise TypeError(\"Params must be either a param map or a list/tuple of param maps, \"\n",
      "\u001b[1;32m~\\anaconda3\\lib\\site-packages\\kprototypes\\kprototypes.py\u001b[0m in \u001b[0;36m_fit\u001b[1;34m(self, dataset)\u001b[0m\n\u001b[0;32m    230\u001b[0m \u001b[1;33m\u001b[0m\u001b[0m\n\u001b[0;32m    231\u001b[0m     \u001b[1;32mdef\u001b[0m \u001b[0m_fit\u001b[0m\u001b[1;33m(\u001b[0m\u001b[0mself\u001b[0m\u001b[1;33m,\u001b[0m \u001b[0mdataset\u001b[0m\u001b[1;33m)\u001b[0m\u001b[1;33m:\u001b[0m\u001b[1;33m\u001b[0m\u001b[1;33m\u001b[0m\u001b[0m\n\u001b[1;32m--> 232\u001b[1;33m         \u001b[0mnumRDD\u001b[0m \u001b[1;33m=\u001b[0m \u001b[0mdataset\u001b[0m\u001b[1;33m.\u001b[0m\u001b[0mselect\u001b[0m\u001b[1;33m(\u001b[0m\u001b[0mself\u001b[0m\u001b[1;33m.\u001b[0m\u001b[0mgetNumCol\u001b[0m\u001b[1;33m(\u001b[0m\u001b[1;33m)\u001b[0m\u001b[1;33m)\u001b[0m\u001b[1;33m.\u001b[0m\u001b[0mrdd\u001b[0m\u001b[1;33m.\u001b[0m\u001b[0mflatMap\u001b[0m\u001b[1;33m(\u001b[0m\u001b[0mlist\u001b[0m\u001b[1;33m)\u001b[0m\u001b[1;33m\u001b[0m\u001b[1;33m\u001b[0m\u001b[0m\n\u001b[0m\u001b[0;32m    233\u001b[0m         catRDD = (\n\u001b[0;32m    234\u001b[0m             \u001b[0mdataset\u001b[0m\u001b[1;33m.\u001b[0m\u001b[0mselect\u001b[0m\u001b[1;33m(\u001b[0m\u001b[0mself\u001b[0m\u001b[1;33m.\u001b[0m\u001b[0mgetCatCol\u001b[0m\u001b[1;33m(\u001b[0m\u001b[1;33m)\u001b[0m\u001b[1;33m)\u001b[0m\u001b[1;33m\u001b[0m\u001b[1;33m\u001b[0m\u001b[0m\n",
      "\u001b[1;31mAttributeError\u001b[0m: 'numpy.ndarray' object has no attribute 'select'"
     ]
    }
   ],
   "source": [
    "kproto   = kp.KPrototypes()\n",
    "#kproto   = kp.KPrototypes(n_clusters=4, init='Cao', verbose=2)\n",
    "\n",
    "clusters = kproto.fit(X)\n"
   ]
  },
  {
   "cell_type": "code",
   "execution_count": 15,
   "metadata": {},
   "outputs": [
    {
     "name": "stdout",
     "output_type": "stream",
     "text": [
      "[array([[738.5       ],\n",
      "       [275.35      ],\n",
      "       [197.66666667],\n",
      "       [356.975     ]]), array([[b'tech', b'USA'],\n",
      "       [b'cons', b'USA'],\n",
      "       [b'nrg', b'USA'],\n",
      "       [b'tech', b'USA']], dtype='|S4')]\n",
      "1664.4708549504871\n",
      "2\n",
      "Symbol: AAPL, cluster:0\n",
      "Symbol: XOM, cluster:3\n",
      "Symbol: GOOGL, cluster:3\n",
      "Symbol: MSFT, cluster:3\n",
      "Symbol: BRK-A, cluster:3\n",
      "Symbol: WFC, cluster:1\n",
      "Symbol: CHL, cluster:1\n",
      "Symbol: JNJ, cluster:1\n",
      "Symbol: WMT, cluster:1\n",
      "Symbol: VZ, cluster:2\n",
      "Symbol: ORCL, cluster:2\n",
      "Symbol: RDS-A, cluster:2\n"
     ]
    }
   ],
   "source": [
    "# Print cluster centroids of the trained model.\n",
    "print(kproto.cluster_centroids_)\n",
    "\n",
    "# Print training statistics\n",
    "print(kproto.cost_)\n",
    "print(kproto.n_iter_)\n",
    "\n",
    "for s, c in zip(syms, clusters):\n",
    "    print(\"Symbol: {}, cluster:{}\".format(s, c))"
   ]
  },
  {
   "cell_type": "code",
   "execution_count": null,
   "metadata": {
    "collapsed": true
   },
   "outputs": [],
   "source": []
  }
 ],
 "metadata": {
  "kernelspec": {
   "display_name": "Python 3",
   "language": "python",
   "name": "python3"
  },
  "language_info": {
   "codemirror_mode": {
    "name": "ipython",
    "version": 3
   },
   "file_extension": ".py",
   "mimetype": "text/x-python",
   "name": "python",
   "nbconvert_exporter": "python",
   "pygments_lexer": "ipython3",
   "version": "3.8.5"
  }
 },
 "nbformat": 4,
 "nbformat_minor": 2
}

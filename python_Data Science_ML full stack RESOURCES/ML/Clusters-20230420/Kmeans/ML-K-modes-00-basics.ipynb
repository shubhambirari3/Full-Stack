{
 "cells": [
  {
   "cell_type": "markdown",
   "metadata": {},
   "source": [
    "Python implementations of the k-modes and k-prototypes clustering algorithms.\n",
    "\n",
    "__k-modes__ is used for clustering categorical variables. It defines clusters based on the number of matching categories between data points. \n",
    "\n",
    "__k-prototypes__ algorithm combines k-modes and k-means and is able to cluster mixed numerical / categorical data.\n",
    "\n",
    "pip install kmodes"
   ]
  },
  {
   "cell_type": "code",
   "execution_count": 1,
   "metadata": {},
   "outputs": [
    {
     "ename": "ModuleNotFoundError",
     "evalue": "No module named 'Kmodes'",
     "output_type": "error",
     "traceback": [
      "\u001b[1;31m---------------------------------------------------------------------------\u001b[0m",
      "\u001b[1;31mModuleNotFoundError\u001b[0m                       Traceback (most recent call last)",
      "\u001b[1;32m<ipython-input-1-5e00063f935d>\u001b[0m in \u001b[0;36m<module>\u001b[1;34m\u001b[0m\n\u001b[1;32m----> 1\u001b[1;33m \u001b[1;32mimport\u001b[0m \u001b[0mKmodes\u001b[0m\u001b[1;33m\u001b[0m\u001b[1;33m\u001b[0m\u001b[0m\n\u001b[0m",
      "\u001b[1;31mModuleNotFoundError\u001b[0m: No module named 'Kmodes'"
     ]
    }
   ],
   "source": [
    "!pip install kmodes\n",
    "import Kmodes"
   ]
  },
  {
   "cell_type": "code",
   "execution_count": 2,
   "metadata": {},
   "outputs": [],
   "source": [
    "import numpy as np\n",
    "from kmodes.kmodes import KModes"
   ]
  },
  {
   "cell_type": "code",
   "execution_count": 3,
   "metadata": {},
   "outputs": [],
   "source": [
    "# random categorical data\n",
    "data = np.random.choice(20, (100, 10))"
   ]
  },
  {
   "cell_type": "code",
   "execution_count": 4,
   "metadata": {},
   "outputs": [
    {
     "data": {
      "text/plain": [
       "array([[ 1,  4,  7,  3, 11,  8,  8, 19, 10,  4],\n",
       "       [10,  3, 18, 17,  1, 10, 17, 11,  5, 16],\n",
       "       [ 1, 16,  5,  7,  4, 13,  7,  5,  6,  2],\n",
       "       [16, 14,  1, 12, 15, 18,  1, 11, 16,  7],\n",
       "       [14, 14,  4, 11,  1, 19,  3,  7,  4, 15]])"
      ]
     },
     "execution_count": 4,
     "metadata": {},
     "output_type": "execute_result"
    }
   ],
   "source": [
    "data[:5]"
   ]
  },
  {
   "cell_type": "code",
   "execution_count": 5,
   "metadata": {},
   "outputs": [],
   "source": [
    "km = KModes(n_clusters=3, init='Huang', n_init=5, verbose=1)"
   ]
  },
  {
   "cell_type": "code",
   "execution_count": 6,
   "metadata": {},
   "outputs": [
    {
     "name": "stdout",
     "output_type": "stream",
     "text": [
      "Init: initializing centroids\n",
      "Init: initializing clusters\n",
      "Starting iterations...\n",
      "Run 1, iteration: 1/100, moves: 21, cost: 826.0\n",
      "Run 1, iteration: 2/100, moves: 3, cost: 826.0\n",
      "Init: initializing centroids\n",
      "Init: initializing clusters\n",
      "Starting iterations...\n",
      "Run 2, iteration: 1/100, moves: 17, cost: 825.0\n",
      "Run 2, iteration: 2/100, moves: 3, cost: 825.0\n",
      "Init: initializing centroids\n",
      "Init: initializing clusters\n",
      "Starting iterations...\n",
      "Run 3, iteration: 1/100, moves: 13, cost: 831.0\n",
      "Run 3, iteration: 2/100, moves: 2, cost: 831.0\n",
      "Init: initializing centroids\n",
      "Init: initializing clusters\n",
      "Starting iterations...\n",
      "Run 4, iteration: 1/100, moves: 21, cost: 829.0\n",
      "Run 4, iteration: 2/100, moves: 6, cost: 829.0\n",
      "Init: initializing centroids\n",
      "Init: initializing clusters\n",
      "Starting iterations...\n",
      "Run 5, iteration: 1/100, moves: 20, cost: 814.0\n",
      "Run 5, iteration: 2/100, moves: 3, cost: 813.0\n",
      "Run 5, iteration: 3/100, moves: 0, cost: 813.0\n",
      "Best run was number 5\n",
      "\n",
      "clusters centers : \n",
      " [[ 9 16 12  6  7  4 17  3 19  2]\n",
      " [ 1  7  6  3  0 10 14  4  3 17]\n",
      " [13 14  4 12  1  6 19 13 16 10]]\n"
     ]
    }
   ],
   "source": [
    "clusters = km.fit_predict(data)\n",
    "\n",
    "# Print the cluster centroids\n",
    "print('\\nclusters centers : \\n', km.cluster_centroids_)"
   ]
  },
  {
   "cell_type": "code",
   "execution_count": null,
   "metadata": {
    "collapsed": true
   },
   "outputs": [],
   "source": []
  }
 ],
 "metadata": {
  "kernelspec": {
   "display_name": "Python 3",
   "language": "python",
   "name": "python3"
  },
  "language_info": {
   "codemirror_mode": {
    "name": "ipython",
    "version": 3
   },
   "file_extension": ".py",
   "mimetype": "text/x-python",
   "name": "python",
   "nbconvert_exporter": "python",
   "pygments_lexer": "ipython3",
   "version": "3.8.5"
  }
 },
 "nbformat": 4,
 "nbformat_minor": 2
}

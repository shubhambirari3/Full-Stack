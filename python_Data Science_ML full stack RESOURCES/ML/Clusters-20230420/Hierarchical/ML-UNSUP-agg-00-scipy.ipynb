{
 "cells": [
  {
   "cell_type": "code",
   "execution_count": 5,
   "metadata": {},
   "outputs": [],
   "source": [
    "from scipy.cluster.hierarchy import dendrogram, linkage\n",
    "from scipy.cluster.hierarchy import inconsistent\n",
    "import numpy as np"
   ]
  },
  {
   "cell_type": "code",
   "execution_count": 6,
   "metadata": {},
   "outputs": [
    {
     "name": "stdout",
     "output_type": "stream",
     "text": [
      "Number of samples =  8\n"
     ]
    }
   ],
   "source": [
    "X = [[2], [8], [0], [4], [1], [9], [9], [0]]\n",
    "print('Number of samples = ', len(X))"
   ]
  },
  {
   "cell_type": "code",
   "execution_count": 8,
   "metadata": {},
   "outputs": [
    {
     "data": {
      "text/plain": [
       "array([[ 5.        ,  6.        ,  0.        ,  2.        ],\n",
       "       [ 2.        ,  7.        ,  0.        ,  2.        ],\n",
       "       [ 0.        ,  4.        ,  1.        ,  2.        ],\n",
       "       [ 1.        ,  8.        ,  1.15470054,  3.        ],\n",
       "       [ 9.        , 10.        ,  2.12132034,  4.        ],\n",
       "       [ 3.        , 12.        ,  4.11096096,  5.        ],\n",
       "       [11.        , 13.        , 14.07183949,  8.        ]])"
      ]
     },
     "execution_count": 8,
     "metadata": {},
     "output_type": "execute_result"
    }
   ],
   "source": [
    "Z = linkage(X, 'ward')\n",
    "Z"
   ]
  },
  {
   "cell_type": "markdown",
   "metadata": {},
   "source": [
    "#### Understand Z marix"
   ]
  },
  {
   "cell_type": "code",
   "execution_count": 4,
   "metadata": {},
   "outputs": [
    {
     "data": {
      "text/plain": [
       "'\\n[[  2.   7.   0.   2.] <== x[2] is linked with x[7], forming cluster x[8] = {x[2], x[7]}\\n [  5.   6.   0.   2.] <== x[9]  = {x[5], x[6]}\\n [  0.   4.   1.   2.] <== x[10] = {x[0], x[4]}\\n [  8.  10.   1.   4.] <== x[11] = {x[8], x[10]} = {x[2], x[7], x[0], x[4]}\\n [  1.   9.   1.   3.]\\n [  3.  11.   2.   5.]\\n [ 12.  13.   4.   8.]]\\n '"
      ]
     },
     "execution_count": 4,
     "metadata": {},
     "output_type": "execute_result"
    }
   ],
   "source": [
    "'''\n",
    "[[  2.   7.   0.   2.] <== x[2] is linked with x[7], forming cluster x[8] = {x[2], x[7]}\n",
    " [  5.   6.   0.   2.] <== x[9]  = {x[5], x[6]}\n",
    " [  0.   4.   1.   2.] <== x[10] = {x[0], x[4]}\n",
    " [  8.  10.   1.   4.] <== x[11] = {x[8], x[10]} = {x[2], x[7], x[0], x[4]}\n",
    " [  1.   9.   1.   3.]\n",
    " [  3.  11.   2.   5.]\n",
    " [ 12.  13.   4.   8.]]\n",
    " '''"
   ]
  },
  {
   "cell_type": "code",
   "execution_count": 9,
   "metadata": {},
   "outputs": [
    {
     "data": {
      "text/plain": [
       "array([[0.        , 0.        , 1.        , 0.        ],\n",
       "       [0.        , 0.        , 1.        , 0.        ],\n",
       "       [1.        , 0.        , 1.        , 0.        ],\n",
       "       [0.57735027, 0.81649658, 2.        , 0.70710678],\n",
       "       [1.04044011, 1.06123822, 3.        , 1.01850858],\n",
       "       [3.11614065, 1.40688837, 2.        , 0.70710678],\n",
       "       [6.44583366, 6.76770586, 3.        , 1.12682288]])"
      ]
     },
     "execution_count": 9,
     "metadata": {},
     "output_type": "execute_result"
    }
   ],
   "source": [
    "# compute statistics\n",
    "inconsistent(Z)"
   ]
  },
  {
   "cell_type": "markdown",
   "metadata": {},
   "source": [
    "A (n-1) X 4 matrix where the i’th row contains the link statistics for the non-singleton cluster i. \n",
    "- The link statistics are computed over the link heights for links  levels below the cluster i. \n",
    "- R[i,0] and R[i,1] are the mean and standard deviation of the link heights, respectively; \n",
    "- R[i,2] is the number of links included in the calculation; and \n",
    "- R[i,3] is the inconsistency coefficient,"
   ]
  },
  {
   "cell_type": "markdown",
   "metadata": {},
   "source": [
    "here are 3 links included in the calculation of the fourth row:\n",
    "\n",
    "|     Link       | Height/Distance |\n",
    "| x[2] - x[7]    |   Z[0,2] = 0    |\n",
    "| x[0] - x[4]    |   Z[2,2] = 1    |\n",
    "| x[8] - x[10]   |   Z[3,2] = 1    |\n"
   ]
  },
  {
   "cell_type": "markdown",
   "metadata": {},
   "source": [
    "The mean value of (1,1,0) is R[3,0] = 0.66667, and the standard deviation is R[3,1] = 0.57735 (normalized by N-1, not N). The inconsistent value is computed as:"
   ]
  },
  {
   "cell_type": "markdown",
   "metadata": {},
   "source": []
  },
  {
   "cell_type": "code",
   "execution_count": null,
   "metadata": {
    "collapsed": true
   },
   "outputs": [],
   "source": []
  }
 ],
 "metadata": {
  "kernelspec": {
   "display_name": "Python 3",
   "language": "python",
   "name": "python3"
  },
  "language_info": {
   "codemirror_mode": {
    "name": "ipython",
    "version": 3
   },
   "file_extension": ".py",
   "mimetype": "text/x-python",
   "name": "python",
   "nbconvert_exporter": "python",
   "pygments_lexer": "ipython3",
   "version": "3.8.5"
  }
 },
 "nbformat": 4,
 "nbformat_minor": 2
}

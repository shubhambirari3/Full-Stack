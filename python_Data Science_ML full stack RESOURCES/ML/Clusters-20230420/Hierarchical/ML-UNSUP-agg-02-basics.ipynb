{
 "cells": [
  {
   "cell_type": "code",
   "execution_count": 1,
   "metadata": {},
   "outputs": [],
   "source": [
    "# needed imports\n",
    "from matplotlib import pyplot as plt\n",
    "from scipy.cluster.hierarchy import dendrogram, linkage\n",
    "from scipy.cluster.hierarchy import fcluster\n",
    "import numpy as np\n",
    "\n",
    "from scipy.cluster.hierarchy import cophenet\n",
    "from scipy.cluster.hierarchy import inconsistent\n",
    "from scipy.spatial.distance import pdist"
   ]
  },
  {
   "cell_type": "code",
   "execution_count": 2,
   "metadata": {},
   "outputs": [],
   "source": [
    "# some setting for this notebook to actually show the graphs inline\n",
    "# you probably won't need this\n",
    "%matplotlib inline\n",
    "np.set_printoptions(precision=5, suppress=True)  # suppress scientific float notation"
   ]
  },
  {
   "cell_type": "markdown",
   "metadata": {},
   "source": [
    "#### Generating Sample Data"
   ]
  },
  {
   "cell_type": "code",
   "execution_count": 3,
   "metadata": {},
   "outputs": [],
   "source": [
    "# make sure is that you convert your data into a matrix X with n samples and m features, \n",
    "# so that X.shape == (n, m)."
   ]
  },
  {
   "cell_type": "code",
   "execution_count": null,
   "metadata": {},
   "outputs": [],
   "source": []
  },
  {
   "cell_type": "code",
   "execution_count": 4,
   "metadata": {},
   "outputs": [
    {
     "name": "stdout",
     "output_type": "stream",
     "text": [
      "[[ 4.36485  6.50997]\n",
      " [ 2.88649  3.83508]\n",
      " [ 2.87644  5.28302]\n",
      " [ 4.59626  5.07911]\n",
      " [ 5.18376  6.80683]\n",
      " [ 4.59605  5.17705]\n",
      " [ 5.44527  7.0719 ]\n",
      " [ 1.44217  4.64601]\n",
      " [ 2.40065  4.45087]\n",
      " [ 7.528    4.68474]\n",
      " [ 5.91487  6.87584]\n",
      " [ 3.00836  3.38961]\n",
      " [11.52865  7.74429]\n",
      " [ 7.83794  6.2834 ]\n",
      " [ 4.57718  5.4317 ]\n",
      " [ 1.90328  4.21725]\n",
      " [ 4.00919  5.18516]\n",
      " [ 3.46333  4.33572]\n",
      " [ 7.08708  7.00809]\n",
      " [ 3.22435  4.90172]]\n"
     ]
    },
    {
     "name": "stderr",
     "output_type": "stream",
     "text": [
      "<ipython-input-4-3fa877cc3dc6>:1: RuntimeWarning: covariance is not positive-semidefinite.\n",
      "  a = np.random.multivariate_normal([5, 6], [[0.5, 1], [8, 4]], size=[20,])\n"
     ]
    }
   ],
   "source": [
    "a = np.random.multivariate_normal([5, 6], [[0.5, 1], [8, 4]], size=[20,])\n",
    "print(a)"
   ]
  },
  {
   "cell_type": "code",
   "execution_count": 5,
   "metadata": {},
   "outputs": [
    {
     "name": "stdout",
     "output_type": "stream",
     "text": [
      "(150, 2)\n"
     ]
    },
    {
     "data": {
      "image/png": "[encoded data removed]",
      "text/plain": [
       "<Figure size 432x288 with 1 Axes>"
      ]
     },
     "metadata": {
      "needs_background": "light"
     },
     "output_type": "display_data"
    }
   ],
   "source": [
    "# generate two clusters: a with 100 points, b with 50:\n",
    "\n",
    "np.random.seed(4711)\n",
    "a = np.random.multivariate_normal([10, 0], [[3, 1], [1, 4]], size=[100,])\n",
    "#print(a)\n",
    "  # for repeatability \n",
    "\n",
    "b = np.random.multivariate_normal([0, 20], [[3, 1], [1, 4]], size=[50,])\n",
    "#print(\"b= #########\\n\",b)\n",
    "\n",
    "X = np.concatenate((a, b),)\n",
    "#print(\"X=####### \\n\",X)\n",
    "print (X.shape)  # 150 samples with 2 dimensions\n",
    "\n",
    "plt.scatter(X[:,0], X[:,1])\n",
    "plt.show()"
   ]
  },
  {
   "cell_type": "code",
   "execution_count": 6,
   "metadata": {},
   "outputs": [
    {
     "data": {
      "text/plain": [
       "array([[ 0.79934, 19.28762],\n",
       "       [-0.84336, 19.14768],\n",
       "       [ 2.68289, 20.28232],\n",
       "       [-1.92578, 16.28116],\n",
       "       [ 0.06693, 23.13071],\n",
       "       [ 1.42543, 20.57584],\n",
       "       [ 0.89064, 20.85059],\n",
       "       [ 0.46998, 19.45692],\n",
       "       [ 0.64147, 21.89409],\n",
       "       [ 0.83048, 17.3592 ],\n",
       "       [-0.18723, 18.88187],\n",
       "       [-2.84504, 18.30168],\n",
       "       [-0.07865, 21.50771],\n",
       "       [ 0.62828, 17.45787],\n",
       "       [ 2.02318, 22.44787],\n",
       "       [ 0.50775, 19.34125],\n",
       "       [-1.55474, 19.69585],\n",
       "       [-2.54958, 20.01232],\n",
       "       [ 0.2621 , 22.16455],\n",
       "       [ 1.43291, 17.48622],\n",
       "       [ 0.47085, 24.08457],\n",
       "       [ 1.47295, 21.63667],\n",
       "       [-2.01973, 17.0863 ],\n",
       "       [ 0.30695, 18.56967],\n",
       "       [-0.17538, 19.50071],\n",
       "       [-1.04773, 14.76553],\n",
       "       [-3.1254 , 18.89846],\n",
       "       [-2.0059 , 22.5818 ],\n",
       "       [ 2.82514, 22.7972 ],\n",
       "       [ 2.93005, 17.32672],\n",
       "       [ 1.37737, 20.96611],\n",
       "       [ 0.60224, 21.99693],\n",
       "       [-0.37393, 20.77203],\n",
       "       [ 0.0071 , 22.47931],\n",
       "       [-0.76543, 19.61954],\n",
       "       [ 0.37375, 20.18765],\n",
       "       [-1.55002, 20.28733],\n",
       "       [ 1.68351, 20.5509 ],\n",
       "       [-0.81116, 18.10299],\n",
       "       [ 1.82078, 22.4209 ],\n",
       "       [-0.97993, 16.10622],\n",
       "       [ 3.83842, 18.73497],\n",
       "       [ 0.35858, 21.10633],\n",
       "       [ 0.16514, 19.55743],\n",
       "       [ 0.87923, 21.66081],\n",
       "       [ 0.13719, 18.78208],\n",
       "       [ 0.88147, 18.27187],\n",
       "       [ 2.71952, 20.75219],\n",
       "       [ 2.02869, 20.20869],\n",
       "       [ 1.82184, 21.0003 ]])"
      ]
     },
     "execution_count": 6,
     "metadata": {},
     "output_type": "execute_result"
    }
   ],
   "source": [
    "b"
   ]
  },
  {
   "cell_type": "markdown",
   "metadata": {},
   "source": [
    "#### Perform the Hierarchical Clustering\n",
    "\n",
    "- As the scipy linkage docs tell, 'ward' is one of the methods that can be used to calculate the distance between newly formed clusters. \n",
    "\n",
    "- 'ward' causes linkage() to use the Ward variance minimization algorithm.\n",
    "-  good default choice\n",
    "-  other common linkage methods like \n",
    "\n",
    "> 1. 'single', \n",
    "> 2. 'complete', \n",
    "> 3. 'average', \n",
    "\n",
    "... \n",
    "and the different distance metrics like \n",
    "\n",
    "> 1. 'euclidean' (default), \n",
    "> 2. 'cityblock' aka Manhattan, \n",
    "> 3. 'hamming', \n",
    "> 4. 'cosine'..."
   ]
  },
  {
   "cell_type": "code",
   "execution_count": 7,
   "metadata": {},
   "outputs": [],
   "source": [
    "# generate the linkage matrix\n",
    "Z = linkage(X, 'ward')"
   ]
  },
  {
   "cell_type": "code",
   "execution_count": 8,
   "metadata": {},
   "outputs": [
    {
     "data": {
      "text/plain": [
       "149"
      ]
     },
     "execution_count": 8,
     "metadata": {},
     "output_type": "execute_result"
    }
   ],
   "source": [
    "len(Z)"
   ]
  },
  {
   "cell_type": "code",
   "execution_count": 9,
   "metadata": {},
   "outputs": [
    {
     "data": {
      "text/plain": [
       "array([[ 52.     ,  53.     ,   0.04151,   2.     ],\n",
       "       [ 14.     ,  79.     ,   0.05914,   2.     ],\n",
       "       [ 33.     ,  68.     ,   0.07107,   2.     ],\n",
       "       [ 17.     ,  73.     ,   0.07137,   2.     ],\n",
       "       [  1.     ,   8.     ,   0.07543,   2.     ],\n",
       "       [ 85.     ,  95.     ,   0.10928,   2.     ],\n",
       "       [108.     , 131.     ,   0.11007,   2.     ],\n",
       "       [  9.     ,  66.     ,   0.11302,   2.     ],\n",
       "       [ 15.     ,  69.     ,   0.11429,   2.     ],\n",
       "       [ 63.     ,  98.     ,   0.1212 ,   2.     ],\n",
       "       [107.     , 115.     ,   0.12167,   2.     ],\n",
       "       [ 65.     ,  74.     ,   0.1249 ,   2.     ],\n",
       "       [ 58.     ,  61.     ,   0.14028,   2.     ],\n",
       "       [ 62.     , 152.     ,   0.1726 ,   3.     ],\n",
       "       [ 41.     , 158.     ,   0.1779 ,   3.     ],\n",
       "       [ 10.     ,  83.     ,   0.18635,   2.     ],\n",
       "       [114.     , 139.     ,   0.20419,   2.     ],\n",
       "       [ 39.     ,  88.     ,   0.20628,   2.     ],\n",
       "       [ 70.     ,  96.     ,   0.21931,   2.     ],\n",
       "       [ 46.     ,  50.     ,   0.22049,   2.     ],\n",
       "       [109.     , 113.     ,   0.22499,   2.     ],\n",
       "       [ 31.     ,  80.     ,   0.23286,   2.     ],\n",
       "       [ 22.     , 150.     ,   0.23608,   3.     ],\n",
       "       [ 28.     ,  35.     ,   0.24282,   2.     ],\n",
       "       [ 18.     ,  34.     ,   0.24839,   2.     ],\n",
       "       [105.     , 137.     ,   0.25928,   2.     ],\n",
       "       [ 21.     ,  71.     ,   0.262  ,   2.     ],\n",
       "       [  3.     ,  32.     ,   0.26651,   2.     ],\n",
       "       [123.     , 145.     ,   0.27191,   2.     ],\n",
       "       [ 11.     ,  44.     ,   0.2914 ,   2.     ],\n",
       "       [ 76.     ,  99.     ,   0.29709,   2.     ],\n",
       "       [ 47.     ,  59.     ,   0.29906,   2.     ],\n",
       "       [  5.     ,  91.     ,   0.3392 ,   2.     ],\n",
       "       [ 90.     , 181.     ,   0.33976,   3.     ],\n",
       "       [124.     , 143.     ,   0.34521,   2.     ],\n",
       "       [ 43.     ,  55.     ,   0.34593,   2.     ],\n",
       "       [ 51.     ,  64.     ,   0.34655,   2.     ],\n",
       "       [ 54.     ,  97.     ,   0.35581,   2.     ],\n",
       "       [  2.     ,  93.     ,   0.37556,   2.     ],\n",
       "       [100.     , 160.     ,   0.38091,   3.     ],\n",
       "       [ 12.     ,  78.     ,   0.40147,   2.     ],\n",
       "       [118.     , 133.     ,   0.4051 ,   2.     ],\n",
       "       [ 26.     , 167.     ,   0.41213,   3.     ],\n",
       "       [ 82.     , 163.     ,   0.41898,   4.     ],\n",
       "       [  0.     , 168.     ,   0.42536,   3.     ],\n",
       "       [144.     , 156.     ,   0.44317,   3.     ],\n",
       "       [130.     , 149.     ,   0.44579,   2.     ],\n",
       "       [154.     , 164.     ,   0.4601 ,   5.     ],\n",
       "       [ 29.     ,  89.     ,   0.47034,   2.     ],\n",
       "       [102.     , 147.     ,   0.4713 ,   2.     ],\n",
       "       [ 86.     , 155.     ,   0.47217,   3.     ],\n",
       "       [101.     , 134.     ,   0.47825,   2.     ],\n",
       "       [ 19.     , 177.     ,   0.48948,   3.     ],\n",
       "       [  6.     ,  84.     ,   0.49974,   2.     ],\n",
       "       [151.     , 173.     ,   0.5052 ,   4.     ],\n",
       "       [ 45.     ,  92.     ,   0.52446,   2.     ],\n",
       "       [ 13.     , 165.     ,   0.52623,   3.     ],\n",
       "       [110.     , 178.     ,   0.5291 ,   3.     ],\n",
       "       [ 42.     , 202.     ,   0.53388,   4.     ],\n",
       "       [153.     , 174.     ,   0.53756,   4.     ],\n",
       "       [ 49.     ,  75.     ,   0.5812 ,   2.     ],\n",
       "       [106.     , 142.     ,   0.59033,   2.     ],\n",
       "       [116.     , 136.     ,   0.59151,   2.     ],\n",
       "       [175.     , 196.     ,   0.59716,   4.     ],\n",
       "       [169.     , 176.     ,   0.62949,   4.     ],\n",
       "       [ 56.     , 190.     ,   0.64014,   3.     ],\n",
       "       [171.     , 198.     ,   0.64371,   4.     ],\n",
       "       [111.     , 126.     ,   0.65935,   2.     ],\n",
       "       [159.     , 193.     ,   0.67665,   6.     ],\n",
       "       [157.     , 188.     ,   0.71004,   4.     ],\n",
       "       [ 72.     ,  94.     ,   0.72996,   2.     ],\n",
       "       [ 81.     , 206.     ,   0.748  ,   4.     ],\n",
       "       [ 16.     ,  77.     ,   0.75378,   2.     ],\n",
       "       [ 67.     , 192.     ,   0.77247,   4.     ],\n",
       "       [112.     , 132.     ,   0.79273,   2.     ],\n",
       "       [103.     , 122.     ,   0.8106 ,   2.     ],\n",
       "       [119.     , 170.     ,   0.81731,   3.     ],\n",
       "       [186.     , 205.     ,   0.83284,   4.     ],\n",
       "       [148.     , 199.     ,   0.85439,   3.     ],\n",
       "       [ 24.     , 162.     ,   0.86511,   3.     ],\n",
       "       [135.     , 184.     ,   0.87732,   3.     ],\n",
       "       [ 23.     , 179.     ,   0.90927,   3.     ],\n",
       "       [ 30.     , 203.     ,   0.912  ,   3.     ],\n",
       "       [ 87.     , 187.     ,   0.92306,   3.     ],\n",
       "       [104.     , 191.     ,   0.93716,   3.     ],\n",
       "       [121.     , 195.     ,   0.97324,   4.     ],\n",
       "       [ 20.     , 210.     ,   1.01209,   3.     ],\n",
       "       [ 37.     ,  57.     ,   1.01374,   2.     ],\n",
       "       [146.     , 226.     ,   1.0306 ,   4.     ],\n",
       "       [172.     , 214.     ,   1.03456,   7.     ],\n",
       "       [ 48.     , 209.     ,   1.04092,   5.     ],\n",
       "       [189.     , 230.     ,   1.05574,   6.     ],\n",
       "       [  7.     ,  38.     ,   1.08173,   2.     ],\n",
       "       [128.     , 166.     ,   1.12389,   3.     ],\n",
       "       [117.     , 212.     ,   1.15172,   3.     ],\n",
       "       [183.     , 200.     ,   1.15312,   6.     ],\n",
       "       [ 25.     , 223.     ,   1.17325,   5.     ],\n",
       "       [ 36.     , 180.     ,   1.18423,   3.     ],\n",
       "       [185.     , 216.     ,   1.19546,   6.     ],\n",
       "       [211.     , 224.     ,   1.22482,   4.     ],\n",
       "       [140.     , 225.     ,   1.32626,   3.     ],\n",
       "       [138.     , 207.     ,   1.35046,   4.     ],\n",
       "       [161.     , 222.     ,   1.49318,   4.     ],\n",
       "       [194.     , 197.     ,   1.49619,   8.     ],\n",
       "       [220.     , 239.     ,   1.59175,   9.     ],\n",
       "       [215.     , 231.     ,   1.6701 ,   6.     ],\n",
       "       [129.     , 141.     ,   1.6758 ,   2.     ],\n",
       "       [201.     , 251.     ,   1.699  ,   6.     ],\n",
       "       [204.     , 240.     ,   1.70929,   9.     ],\n",
       "       [ 27.     ,  60.     ,   1.75073,   2.     ],\n",
       "       [213.     , 228.     ,   1.79407,   7.     ],\n",
       "       [227.     , 233.     ,   1.84758,   7.     ],\n",
       "       [120.     , 234.     ,   1.88067,   4.     ],\n",
       "       [208.     , 255.     ,   1.92114,  10.     ],\n",
       "       [235.     , 249.     ,   2.03403,   8.     ],\n",
       "       [219.     , 237.     ,   2.15902,   6.     ],\n",
       "       [125.     , 250.     ,   2.23528,   4.     ],\n",
       "       [232.     , 246.     ,   2.26166,   8.     ],\n",
       "       [221.     , 245.     ,   2.42437,  10.     ],\n",
       "       [241.     , 257.     ,   2.46289,  12.     ],\n",
       "       [218.     , 253.     ,   2.48409,  14.     ],\n",
       "       [229.     , 248.     ,   2.61009,   9.     ],\n",
       "       [217.     , 244.     ,   2.75678,   5.     ],\n",
       "       [127.     , 262.     ,   2.83419,   5.     ],\n",
       "       [  4.     , 259.     ,   3.10981,   3.     ],\n",
       "       [242.     , 261.     ,   3.32706,   9.     ],\n",
       "       [236.     , 271.     ,   3.48016,  12.     ],\n",
       "       [182.     , 267.     ,   3.72097,  10.     ],\n",
       "       [247.     , 268.     ,   3.83145,  13.     ],\n",
       "       [243.     , 260.     ,   4.003  ,  10.     ],\n",
       "       [238.     , 256.     ,   4.03585,   6.     ],\n",
       "       [264.     , 273.     ,   4.11676,  13.     ],\n",
       "       [252.     , 265.     ,   4.17761,  10.     ],\n",
       "       [254.     , 263.     ,   5.05391,  19.     ],\n",
       "       [258.     , 276.     ,   5.31023,  21.     ],\n",
       "       [269.     , 272.     ,   6.20388,  17.     ],\n",
       "       [270.     , 283.     ,   6.44512,  33.     ],\n",
       "       [279.     , 281.     ,   6.5936 ,  23.     ],\n",
       "       [274.     , 275.     ,   6.65622,  12.     ],\n",
       "       [ 40.     , 278.     ,   7.11106,  14.     ],\n",
       "       [277.     , 288.     ,   7.86879,  22.     ],\n",
       "       [266.     , 280.     ,   8.04935,  10.     ],\n",
       "       [285.     , 291.     ,   8.74822,  27.     ],\n",
       "       [282.     , 289.     ,   9.84428,  24.     ],\n",
       "       [284.     , 286.     ,  12.42735,  54.     ],\n",
       "       [290.     , 294.     ,  15.11533,  76.     ],\n",
       "       [287.     , 292.     ,  17.11527,  50.     ],\n",
       "       [293.     , 295.     ,  23.12199, 100.     ],\n",
       "       [296.     , 297.     , 180.27043, 150.     ]])"
      ]
     },
     "execution_count": 9,
     "metadata": {},
     "output_type": "execute_result"
    }
   ],
   "source": [
    "Z"
   ]
  },
  {
   "cell_type": "markdown",
   "metadata": {},
   "source": [
    "> check the __Cophenetic Correlation Coefficient__ with help of the cophenet() function. This  compares (correlates) the actual pairwise distances of the samples to those implied by the hierarchical clustering. \n",
    "- The closer the value is to 1, the better the clustering preserves the original distances"
   ]
  },
  {
   "cell_type": "code",
   "execution_count": 10,
   "metadata": {},
   "outputs": [
    {
     "data": {
      "text/plain": [
       "(150, 2)"
      ]
     },
     "execution_count": 10,
     "metadata": {},
     "output_type": "execute_result"
    }
   ],
   "source": [
    "X.shape"
   ]
  },
  {
   "cell_type": "code",
   "execution_count": 11,
   "metadata": {},
   "outputs": [
    {
     "data": {
      "text/plain": [
       "11175"
      ]
     },
     "execution_count": 11,
     "metadata": {},
     "output_type": "execute_result"
    }
   ],
   "source": [
    "len(pdist(X))"
   ]
  },
  {
   "cell_type": "code",
   "execution_count": 12,
   "metadata": {},
   "outputs": [
    {
     "name": "stdout",
     "output_type": "stream",
     "text": [
      "Cophonetic coeff:  0.9800148387574268\n"
     ]
    }
   ],
   "source": [
    "c, coph_dists = cophenet(Z, pdist(X))\n",
    "print('Cophonetic coeff: ', c)"
   ]
  },
  {
   "cell_type": "code",
   "execution_count": 13,
   "metadata": {},
   "outputs": [
    {
     "data": {
      "text/plain": [
       "(11175,)"
      ]
     },
     "execution_count": 13,
     "metadata": {},
     "output_type": "execute_result"
    }
   ],
   "source": [
    "coph_dists.shape"
   ]
  },
  {
   "cell_type": "markdown",
   "metadata": {},
   "source": [
    "#### array has the format [idx1, idx2, dist, sample_count]."
   ]
  },
  {
   "cell_type": "code",
   "execution_count": 14,
   "metadata": {},
   "outputs": [
    {
     "data": {
      "text/plain": [
       "numpy.ndarray"
      ]
     },
     "execution_count": 14,
     "metadata": {},
     "output_type": "execute_result"
    }
   ],
   "source": [
    "type(Z)"
   ]
  },
  {
   "cell_type": "code",
   "execution_count": 15,
   "metadata": {},
   "outputs": [
    {
     "data": {
      "text/plain": [
       "(149, 4)"
      ]
     },
     "execution_count": 15,
     "metadata": {},
     "output_type": "execute_result"
    }
   ],
   "source": [
    "Z.shape"
   ]
  },
  {
   "cell_type": "markdown",
   "metadata": {},
   "source": [
    "- In its first iteration the linkage algorithm decided to merge the two clusters (original samples here) with indices 52 and 53, as they only had a distance of 0.04151. \n",
    "- This created a cluster with a total of 2 samples."
   ]
  },
  {
   "cell_type": "code",
   "execution_count": 16,
   "metadata": {},
   "outputs": [
    {
     "data": {
      "text/plain": [
       "array([52.     , 53.     ,  0.04151,  2.     ])"
      ]
     },
     "execution_count": 16,
     "metadata": {},
     "output_type": "execute_result"
    }
   ],
   "source": [
    "Z[0]"
   ]
  },
  {
   "cell_type": "markdown",
   "metadata": {},
   "source": [
    "In the second iteration the algorithm decided to merge the clusters (original samples here as well) with indices 14 and 79, which had a distance of 0.04914. This again formed another cluster with a total of 2 samples."
   ]
  },
  {
   "cell_type": "code",
   "execution_count": 17,
   "metadata": {},
   "outputs": [
    {
     "data": {
      "text/plain": [
       "array([14.     , 79.     ,  0.05914,  2.     ])"
      ]
     },
     "execution_count": 17,
     "metadata": {},
     "output_type": "execute_result"
    }
   ],
   "source": [
    "Z[1]"
   ]
  },
  {
   "cell_type": "markdown",
   "metadata": {},
   "source": [
    "The indices of the clusters until now correspond to our samples. Remember that we had a total of 150 samples, so indices 0 to 149."
   ]
  },
  {
   "cell_type": "code",
   "execution_count": 18,
   "metadata": {},
   "outputs": [],
   "source": [
    "# Let's have a look at the first 20 iterations:"
   ]
  },
  {
   "cell_type": "code",
   "execution_count": 19,
   "metadata": {},
   "outputs": [
    {
     "data": {
      "text/plain": [
       "array([[ 52.     ,  53.     ,   0.04151,   2.     ],\n",
       "       [ 14.     ,  79.     ,   0.05914,   2.     ],\n",
       "       [ 33.     ,  68.     ,   0.07107,   2.     ],\n",
       "       [ 17.     ,  73.     ,   0.07137,   2.     ],\n",
       "       [  1.     ,   8.     ,   0.07543,   2.     ],\n",
       "       [ 85.     ,  95.     ,   0.10928,   2.     ],\n",
       "       [108.     , 131.     ,   0.11007,   2.     ],\n",
       "       [  9.     ,  66.     ,   0.11302,   2.     ],\n",
       "       [ 15.     ,  69.     ,   0.11429,   2.     ],\n",
       "       [ 63.     ,  98.     ,   0.1212 ,   2.     ],\n",
       "       [107.     , 115.     ,   0.12167,   2.     ],\n",
       "       [ 65.     ,  74.     ,   0.1249 ,   2.     ],\n",
       "       [ 58.     ,  61.     ,   0.14028,   2.     ],\n",
       "       [ 62.     , 152.     ,   0.1726 ,   3.     ],\n",
       "       [ 41.     , 158.     ,   0.1779 ,   3.     ],\n",
       "       [ 10.     ,  83.     ,   0.18635,   2.     ],\n",
       "       [114.     , 139.     ,   0.20419,   2.     ],\n",
       "       [ 39.     ,  88.     ,   0.20628,   2.     ],\n",
       "       [ 70.     ,  96.     ,   0.21931,   2.     ],\n",
       "       [ 46.     ,  50.     ,   0.22049,   2.     ]])"
      ]
     },
     "execution_count": 19,
     "metadata": {},
     "output_type": "execute_result"
    }
   ],
   "source": [
    "Z[:20]"
   ]
  },
  {
   "cell_type": "markdown",
   "metadata": {},
   "source": [
    "- observe that until iteration 13 the algorithm only directly merged original samples. \n",
    "- observe the monotonic increase of the distance.\n",
    "\n",
    "- In iteration 13 the algorithm decided to merge cluster indices 62 with 152.  \n",
    "- All indices idx >= len(X) actually refer to the cluster formed in Z[idx - len(X)].\n",
    "\n",
    "This means that while idx 149 corresponds to X[149] \n",
    "> - idx 150 corresponds to the cluster formed in Z[0], \n",
    "> - idx 151 corresponds to the cluster formed in Z[1], \n",
    "> - idx 152 corresponds to the cluster formed in Z[2], ..."
   ]
  },
  {
   "cell_type": "markdown",
   "metadata": {},
   "source": [
    "> So, the merge iteration 13 merged sample 62 to our samples 33 and 68 that were previously merged in iteration 2 (152 > 2).\n",
    "\n",
    "Check the samples with indices 33, 68, 62"
   ]
  },
  {
   "cell_type": "code",
   "execution_count": 20,
   "metadata": {},
   "outputs": [
    {
     "data": {
      "text/plain": [
       "array([[ 9.83913, -0.4873 ],\n",
       "       [ 9.89349, -0.44152],\n",
       "       [ 9.97793, -0.56383]])"
      ]
     },
     "execution_count": 20,
     "metadata": {},
     "output_type": "execute_result"
    }
   ],
   "source": [
    "X[[33, 68, 62]]"
   ]
  },
  {
   "cell_type": "markdown",
   "metadata": {},
   "source": [
    "Seems pretty close, but let's plot the points "
   ]
  },
  {
   "cell_type": "code",
   "execution_count": 21,
   "metadata": {},
   "outputs": [
    {
     "data": {
      "image/png": "[encoded data removed]",
      "text/plain": [
       "<Figure size 720x576 with 1 Axes>"
      ]
     },
     "metadata": {
      "needs_background": "light"
     },
     "output_type": "display_data"
    }
   ],
   "source": [
    "idxs = [33, 68, 62]\n",
    "\n",
    "plt.figure(figsize=(10, 8))\n",
    "\n",
    "# plot all points\n",
    "plt.scatter(X[:,0], X[:,1])  \n",
    "\n",
    "# plot interesting points in red again\n",
    "plt.scatter(X[idxs, 0], X[idxs, 1], c='r')  \n",
    "plt.show()"
   ]
  },
  {
   "cell_type": "markdown",
   "metadata": {},
   "source": [
    "> see that the 3 red dots are pretty close to each other, which is a good thing\n",
    "\n",
    "> The same happened in iteration 14 where the alrogithm merged indices 41 to 15 and 69:"
   ]
  },
  {
   "cell_type": "code",
   "execution_count": 22,
   "metadata": {},
   "outputs": [
    {
     "data": {
      "image/png": "[encoded data removed]",
      "text/plain": [
       "<Figure size 720x576 with 1 Axes>"
      ]
     },
     "metadata": {
      "needs_background": "light"
     },
     "output_type": "display_data"
    }
   ],
   "source": [
    "idxs = [33, 68, 62]\n",
    "\n",
    "plt.figure(figsize=(10, 8))\n",
    "\n",
    "plt.scatter(X[:,0], X[:,1])\n",
    "\n",
    "plt.scatter(X[idxs,0], X[idxs,1], c='r')\n",
    "\n",
    "idxs = [15, 69, 41]\n",
    "plt.scatter(X[idxs,0], X[idxs,1], c='y')\n",
    "plt.show()"
   ]
  },
  {
   "cell_type": "markdown",
   "metadata": {},
   "source": [
    "Showing that the 3 yellow dots are also quite close."
   ]
  },
  {
   "cell_type": "markdown",
   "metadata": {},
   "source": [
    "#### Plotting a Dendrogram\n",
    "\n",
    "> A dendrogram is a visualization in form of a tree showing the order and distances of merges during the hierarchical clustering."
   ]
  },
  {
   "cell_type": "code",
   "execution_count": 23,
   "metadata": {},
   "outputs": [
    {
     "data": {
      "image/png": "[encoded data removed]",
      "text/plain": [
       "<Figure size 1800x1080 with 1 Axes>"
      ]
     },
     "metadata": {
      "needs_background": "light"
     },
     "output_type": "display_data"
    }
   ],
   "source": [
    "# calculate full dendrogram\n",
    "plt.figure(figsize=(25, 15))\n",
    "plt.title('Hierarchical Clustering Dendrogram')\n",
    "plt.xlabel('sample index')\n",
    "plt.ylabel('distance')\n",
    "\n",
    "dendrogram(\n",
    "    Z,\n",
    "    leaf_rotation=90.,  # rotates the x axis labels\n",
    "    leaf_font_size=8.,  # font size for the x axis labels\n",
    ")\n",
    "plt.show()\n",
    "#plt.savefig('C:\\\\Users\\\\user\\\\Desktop\\\\dend.png')"
   ]
  },
  {
   "cell_type": "markdown",
   "metadata": {},
   "source": [
    "- On the x axis we see labels. The indices of our samples in X.\n",
    "- On the y axis we see the distances (of the 'ward' method in our case)."
   ]
  },
  {
   "cell_type": "markdown",
   "metadata": {},
   "source": [
    "- Starting from each label at the bottom, we can see a vertical line up to a horizontal line. \n",
    "\n",
    "- The height of that horizontal line tells about the distance at which this label was merged into another label or cluster. \n",
    "\n",
    "- We can find that other cluster by following the other vertical line down again. If you don't encounter another horizontal line, it was just merged with the other label you reach, otherwise it was merged into another cluster that was formed earlier."
   ]
  },
  {
   "cell_type": "markdown",
   "metadata": {},
   "source": [
    "__Summarizing:__\n",
    "\n",
    "- horizontal lines are cluster merges\n",
    "- vertical lines tell which clusters/labels were part of merge forming that new cluster\n",
    "- heights of the horizontal lines tell you about the distance that needed to be \"bridged\" to form the new cluster"
   ]
  },
  {
   "cell_type": "markdown",
   "metadata": {},
   "source": [
    "You can also see that from distances > 25 up there's a huge jump of the distance to the final merge at a distance of approx. 180. \n",
    "\n",
    "- Let's have a look at the distances of the last 4 merges:"
   ]
  },
  {
   "cell_type": "code",
   "execution_count": 24,
   "metadata": {},
   "outputs": [
    {
     "data": {
      "text/plain": [
       "array([[290.     , 294.     ,  15.11533,  76.     ],\n",
       "       [287.     , 292.     ,  17.11527,  50.     ],\n",
       "       [293.     , 295.     ,  23.12199, 100.     ],\n",
       "       [296.     , 297.     , 180.27043, 150.     ]])"
      ]
     },
     "execution_count": 24,
     "metadata": {},
     "output_type": "execute_result"
    }
   ],
   "source": [
    "# last 4 merges in Z\n",
    "Z[-4:]"
   ]
  },
  {
   "cell_type": "code",
   "execution_count": 25,
   "metadata": {},
   "outputs": [],
   "source": [
    "# last 4 merges, show the distance column of Z"
   ]
  },
  {
   "cell_type": "code",
   "execution_count": 26,
   "metadata": {},
   "outputs": [
    {
     "data": {
      "text/plain": [
       "array([ 15.11533,  17.11527,  23.12199, 180.27043])"
      ]
     },
     "execution_count": 26,
     "metadata": {},
     "output_type": "execute_result"
    }
   ],
   "source": [
    "Z[-4:, 2]"
   ]
  },
  {
   "cell_type": "markdown",
   "metadata": {},
   "source": [
    "__IMP__: Such distance jumps / gaps in the dendrogram are pretty interesting for us. They indicate that something is merged here, that maybe just shouldn't be merged. \n",
    "\n",
    "In other words: maybe the things that were merged here really don't belong to the same cluster, telling us that maybe there's just 2 clusters here.\n",
    "\n",
    "> green cluster only has indices >= 100, while the red one only has such < 100.\n",
    "> shows that the algorithm re-discovered the two classes "
   ]
  },
  {
   "cell_type": "markdown",
   "metadata": {},
   "source": [
    "#### Dendrogram Truncation\n",
    "\n",
    "> the plot is pretty big for 150 samples already, probably we need to have a better way for real scenarios,"
   ]
  },
  {
   "cell_type": "code",
   "execution_count": 27,
   "metadata": {},
   "outputs": [
    {
     "data": {
      "image/png": "[encoded data removed]",
      "text/plain": [
       "<Figure size 864x576 with 1 Axes>"
      ]
     },
     "metadata": {
      "needs_background": "light"
     },
     "output_type": "display_data"
    }
   ],
   "source": [
    "plt.figure(figsize=(12, 8))\n",
    "plt.title('Hierarchical Clustering Dendrogram (truncated)')\n",
    "plt.xlabel('sample index')\n",
    "plt.ylabel('distance')\n",
    "dendrogram(\n",
    "    Z,\n",
    "    truncate_mode='lastp',   # show only the last p merged clusters\n",
    "    p=12,                    # show only the last p merged clusters\n",
    "    show_leaf_counts=False,  # otherwise numbers in brackets are counts\n",
    "    leaf_rotation=80.,\n",
    "    leaf_font_size=12.,\n",
    "    show_contracted=True,    # to get a distribution impression in truncated branches\n",
    ")\n",
    "plt.show()"
   ]
  },
  {
   "cell_type": "markdown",
   "metadata": {},
   "source": [
    "The above shows a truncated dendrogram, which only shows the last p=12 out of our 149 merges."
   ]
  },
  {
   "cell_type": "markdown",
   "metadata": {},
   "source": [
    "First thing you should notice are that most labels are missing. This is because except for X[40] all other samples were already merged into clusters before the last 12 merges.\n",
    "\n",
    "> try with different values of  p= , start with 2, 3, 4, 8, 9, 10, ... notice when the sample indices start to show"
   ]
  },
  {
   "cell_type": "markdown",
   "metadata": {},
   "source": [
    "> The parameter __show_contracted__ allows us to draw black dots at the heights of those previous cluster merges, dots are all at pretty small distances when compared to the huge last merge at a distance of 180,"
   ]
  },
  {
   "cell_type": "code",
   "execution_count": 28,
   "metadata": {},
   "outputs": [
    {
     "data": {
      "image/png": "[encoded data removed]",
      "text/plain": [
       "<Figure size 864x576 with 1 Axes>"
      ]
     },
     "metadata": {
      "needs_background": "light"
     },
     "output_type": "display_data"
    }
   ],
   "source": [
    "plt.figure(figsize=(12, 8))\n",
    "plt.title('Hierarchical Clustering Dendrogram (truncated)')\n",
    "plt.xlabel('sample index or (cluster size)')\n",
    "plt.ylabel('distance')\n",
    "a = dendrogram(\n",
    "    Z,\n",
    "    truncate_mode='lastp',  # show only the last p merged clusters\n",
    "    p=30,                   # show only the last p merged clusters\n",
    "    show_leaf_counts=True,  # numbers in brackets are counts\n",
    "    leaf_rotation=90.,\n",
    "    leaf_font_size=12.,\n",
    "    show_contracted=True,  # to get a distribution impression in truncated branches\n",
    ")\n",
    "plt.show()"
   ]
  },
  {
   "cell_type": "markdown",
   "metadata": {},
   "source": [
    "> We can now see that the right most cluster already consisted of 33 samples before the last 12 merges."
   ]
  },
  {
   "cell_type": "code",
   "execution_count": 48,
   "metadata": {},
   "outputs": [],
   "source": [
    "#a"
   ]
  },
  {
   "cell_type": "code",
   "execution_count": 29,
   "metadata": {},
   "outputs": [],
   "source": [
    "rt=a['icoord']"
   ]
  },
  {
   "cell_type": "code",
   "execution_count": 34,
   "metadata": {},
   "outputs": [
    {
     "data": {
      "text/plain": [
       "10.0"
      ]
     },
     "execution_count": 34,
     "metadata": {},
     "output_type": "execute_result"
    }
   ],
   "source": [
    "sum(rt[0][1:3])*0.5"
   ]
  },
  {
   "cell_type": "code",
   "execution_count": 36,
   "metadata": {},
   "outputs": [],
   "source": [
    "dcord = a['dcoord']"
   ]
  },
  {
   "cell_type": "code",
   "execution_count": 38,
   "metadata": {},
   "outputs": [
    {
     "data": {
      "text/plain": [
       "4.003004094192886"
      ]
     },
     "execution_count": 38,
     "metadata": {},
     "output_type": "execute_result"
    }
   ],
   "source": [
    "dcord[0][1]"
   ]
  },
  {
   "cell_type": "markdown",
   "metadata": {},
   "source": [
    "#### Selecting a Distance Cut-Off ... Determining the Number of Clusters\n",
    "\n",
    "- a huge jump in distance is typically what we're interested in if we want to argue for a certain number of clusters."
   ]
  },
  {
   "cell_type": "code",
   "execution_count": 45,
   "metadata": {},
   "outputs": [],
   "source": [
    "def fancy_dendrogram(*args, **kwargs):\n",
    "    max_d = kwargs.pop('max_d', None)\n",
    "    if max_d and 'color_threshold' not in kwargs:\n",
    "        kwargs['color_threshold'] = max_d\n",
    "    annotate_above = kwargs.pop('annotate_above', 0)\n",
    "\n",
    "    ddata = dendrogram(*args, **kwargs)\n",
    "\n",
    "    if not kwargs.get('no_plot', False):\n",
    "        plt.title('Hierarchical Clustering Dendrogram (truncated)')\n",
    "        plt.xlabel('sample index or (cluster size)')\n",
    "        plt.ylabel('distance')\n",
    "        for i, d, c in zip(ddata['icoord'], ddata['dcoord'], ddata['color_list']):\n",
    "            x = 0.5 * sum(i[1:3])\n",
    "            y = d[1]\n",
    "            print(x,y)\n",
    "            if y > annotate_above:\n",
    "                plt.plot(x, y, '^', c=c)\n",
    "                plt.annotate(\"%.3g\" % y, (x, y), xytext=(0, 15),\n",
    "                             textcoords='offset points',\n",
    "                             va='top', ha='center')\n",
    "        if max_d:\n",
    "            plt.axhline(y=max_d, c='k')\n",
    "    return ddata"
   ]
  },
  {
   "cell_type": "code",
   "execution_count": 46,
   "metadata": {},
   "outputs": [
    {
     "name": "stdout",
     "output_type": "stream",
     "text": [
      "30.0 8.049352823485103\n",
      "22.5 8.748222747739588\n",
      "13.75 17.11527361712349\n",
      "60.0 7.11106083424195\n",
      "52.5 9.844278294486319\n",
      "90.0 6.65621608856717\n",
      "82.5 7.868785423127422\n",
      "110.0 12.42734657224792\n",
      "96.25 15.115331182663091\n",
      "74.375 23.121989355286757\n",
      "44.0625 180.27043021047612\n"
     ]
    },
    {
     "data": {
      "image/png": "[encoded data removed]",
      "text/plain": [
       "<Figure size 864x576 with 1 Axes>"
      ]
     },
     "metadata": {
      "needs_background": "light"
     },
     "output_type": "display_data"
    }
   ],
   "source": [
    "plt.figure(figsize=(12, 8))\n",
    "fancy_dendrogram(\n",
    "    Z,\n",
    "    truncate_mode='lastp',\n",
    "    p=12,\n",
    "    leaf_rotation=90.,\n",
    "    leaf_font_size=12.,\n",
    "    show_contracted=True,\n",
    "    annotate_above=10,  # useful in small plots so annotations don't overlap\n",
    ")\n",
    "plt.show()"
   ]
  },
  {
   "cell_type": "code",
   "execution_count": 50,
   "metadata": {},
   "outputs": [],
   "source": [
    "# set cut-off to 50\n",
    "max_d = 50  # max_d as in max_distance"
   ]
  },
  {
   "cell_type": "code",
   "execution_count": 56,
   "metadata": {},
   "outputs": [
    {
     "name": "stdout",
     "output_type": "stream",
     "text": [
      "30.0 8.049352823485103\n",
      "22.5 8.748222747739588\n",
      "13.75 17.11527361712349\n",
      "60.0 7.11106083424195\n",
      "52.5 9.844278294486319\n",
      "90.0 6.65621608856717\n",
      "82.5 7.868785423127422\n",
      "110.0 12.42734657224792\n",
      "96.25 15.115331182663091\n",
      "74.375 23.121989355286757\n",
      "44.0625 180.27043021047612\n"
     ]
    },
    {
     "data": {
      "image/png": "[encoded data removed]",
      "text/plain": [
       "<Figure size 864x576 with 1 Axes>"
      ]
     },
     "metadata": {
      "needs_background": "light"
     },
     "output_type": "display_data"
    }
   ],
   "source": [
    "plt.figure(figsize=(12, 8))\n",
    "\n",
    "fancy_dendrogram(\n",
    "    Z,\n",
    "    truncate_mode='lastp',\n",
    "    p=12,\n",
    "    leaf_rotation=90.,\n",
    "    leaf_font_size=12.,\n",
    "    show_contracted=True,\n",
    "    annotate_above=10,\n",
    "    max_d=max_d,  # plot a horizontal cut-off line\n",
    ")\n",
    "plt.show()"
   ]
  },
  {
   "cell_type": "markdown",
   "metadata": {},
   "source": [
    "> Number of vertical lines cut by the max_d parameter =2, so the number of clusters is = 2\n",
    "\n",
    "> choose a cut-off of max_d = 16, we'd get 4 final clusters\n",
    "\n"
   ]
  },
  {
   "cell_type": "code",
   "execution_count": 83,
   "metadata": {
    "collapsed": true
   },
   "outputs": [],
   "source": [
    "max_d = 16"
   ]
  },
  {
   "cell_type": "code",
   "execution_count": 84,
   "metadata": {},
   "outputs": [
    {
     "data": {
      "image/png": "[encoded data removed]",
      "text/plain": [
       "<matplotlib.figure.Figure at 0x249c3e42208>"
      ]
     },
     "metadata": {},
     "output_type": "display_data"
    }
   ],
   "source": [
    "plt.figure(figsize=(12, 8))\n",
    "\n",
    "fancy_dendrogram(\n",
    "    Z,\n",
    "    truncate_mode='lastp',\n",
    "    p=12,\n",
    "    leaf_rotation=90.,\n",
    "    leaf_font_size=12.,\n",
    "    show_contracted=True,\n",
    "    annotate_above=10,\n",
    "    max_d=max_d,  # plot a horizontal cut-off line\n",
    ")\n",
    "plt.show()"
   ]
  },
  {
   "cell_type": "markdown",
   "metadata": {},
   "source": [
    "#### Automated Cut-Off Selection\n",
    "\n",
    "> there is __no golden method__ to pick the number of clusters for all cases (the investigative & backtesting manual method is preferable)\n",
    "\n",
    "- The elbow method\n",
    "- X-means clustering\n",
    "- Information criterion approach\n",
    "- An information–theoretic approach\n",
    "- The silhouette method\n",
    "- Cross-validation\n",
    "\n",
    "__KNOW YOUR DATA REALLY, REALLY WELL__ \n",
    "\n",
    "They can give you some indication, but you should always go back in and check if the results make sense, for example with a dendrogram which is a great tool for that (especially if you have higher dimensional data that you can't simply visualize anymore).\n"
   ]
  },
  {
   "cell_type": "markdown",
   "metadata": {},
   "source": [
    "#### compute statistics - Inconsistency Method\n",
    "\n",
    "$ inconsistency = \\frac{h−avg}{std} $\n",
    "\n",
    "> - h - each cluster merge's height \n",
    "> - avg - average height over the depth previous levels\n",
    "> - std - standard deviation over the depth previous levels:"
   ]
  },
  {
   "cell_type": "code",
   "execution_count": 87,
   "metadata": {},
   "outputs": [],
   "source": [
    "depth = 5\n",
    "incons = inconsistent(Z, depth)"
   ]
  },
  {
   "cell_type": "code",
   "execution_count": 89,
   "metadata": {},
   "outputs": [
    {
     "data": {
      "text/plain": [
       "(149, 4)"
      ]
     },
     "execution_count": 89,
     "metadata": {},
     "output_type": "execute_result"
    }
   ],
   "source": [
    "incons.shape"
   ]
  },
  {
   "cell_type": "code",
   "execution_count": 97,
   "metadata": {},
   "outputs": [
    {
     "data": {
      "text/plain": [
       "array([[0.04151, 0.     , 1.     , 0.     ],\n",
       "       [0.05914, 0.     , 1.     , 0.     ],\n",
       "       [0.07107, 0.     , 1.     , 0.     ],\n",
       "       [0.07137, 0.     , 1.     , 0.     ],\n",
       "       [0.07543, 0.     , 1.     , 0.     ],\n",
       "       [0.10928, 0.     , 1.     , 0.     ],\n",
       "       [0.11007, 0.     , 1.     , 0.     ],\n",
       "       [0.11302, 0.     , 1.     , 0.     ],\n",
       "       [0.11429, 0.     , 1.     , 0.     ],\n",
       "       [0.1212 , 0.     , 1.     , 0.     ],\n",
       "       [0.12167, 0.     , 1.     , 0.     ],\n",
       "       [0.1249 , 0.     , 1.     , 0.     ],\n",
       "       [0.14028, 0.     , 1.     , 0.     ],\n",
       "       [0.12183, 0.07179, 2.     , 0.70711],\n",
       "       [0.1461 , 0.04498, 2.     , 0.70711],\n",
       "       [0.18635, 0.     , 1.     , 0.     ],\n",
       "       [0.20419, 0.     , 1.     , 0.     ],\n",
       "       [0.20628, 0.     , 1.     , 0.     ]])"
      ]
     },
     "execution_count": 97,
     "metadata": {},
     "output_type": "execute_result"
    }
   ],
   "source": [
    "incons[:18]"
   ]
  },
  {
   "cell_type": "code",
   "execution_count": 98,
   "metadata": {},
   "outputs": [
    {
     "data": {
      "text/plain": [
       "array([[ 1.80875,  2.17062, 10.     ,  2.44277],\n",
       "       [ 2.31732,  2.19649, 16.     ,  2.52742],\n",
       "       [ 2.24512,  2.44225,  9.     ,  2.37659],\n",
       "       [ 2.30462,  2.44191, 21.     ,  2.63875],\n",
       "       [ 2.20673,  2.68378, 17.     ,  2.84582],\n",
       "       [ 1.95309,  2.581  , 29.     ,  4.05821],\n",
       "       [ 3.46173,  3.53736, 28.     ,  3.29444],\n",
       "       [ 3.15857,  3.54836, 28.     ,  3.93328],\n",
       "       [ 4.9021 ,  5.10302, 28.     ,  3.57042],\n",
       "       [12.122  , 32.15468, 30.     ,  5.22936]])"
      ]
     },
     "execution_count": 98,
     "metadata": {},
     "output_type": "execute_result"
    }
   ],
   "source": [
    "incons[-10:]"
   ]
  },
  {
   "cell_type": "code",
   "execution_count": 101,
   "metadata": {
    "collapsed": true
   },
   "outputs": [],
   "source": [
    "depth = 3\n",
    "incons = inconsistent(Z, depth)"
   ]
  },
  {
   "cell_type": "code",
   "execution_count": 102,
   "metadata": {},
   "outputs": [
    {
     "data": {
      "text/plain": [
       "array([[ 3.63778,  2.55561,  4.     ,  1.35908],\n",
       "       [ 3.89767,  2.57216,  7.     ,  1.54388],\n",
       "       [ 3.05886,  2.66707,  6.     ,  1.87115],\n",
       "       [ 4.92746,  2.7326 ,  7.     ,  1.39822],\n",
       "       [ 4.76943,  3.16277,  6.     ,  1.60456],\n",
       "       [ 5.27288,  3.56605,  7.     ,  2.00627],\n",
       "       [ 8.22057,  4.07583,  7.     ,  1.69162],\n",
       "       [ 7.83287,  4.46681,  7.     ,  2.07808],\n",
       "       [11.38091,  6.2943 ,  7.     ,  1.86535],\n",
       "       [37.25845, 63.31539,  7.     ,  2.25872]])"
      ]
     },
     "execution_count": 102,
     "metadata": {},
     "output_type": "execute_result"
    }
   ],
   "source": [
    "incons[-10:]"
   ]
  },
  {
   "cell_type": "markdown",
   "metadata": {},
   "source": [
    "> inconsistency values heavily depend on the depth of the tree "
   ]
  },
  {
   "cell_type": "markdown",
   "metadata": {},
   "source": [
    "#### Elbow Method"
   ]
  },
  {
   "cell_type": "code",
   "execution_count": 100,
   "metadata": {},
   "outputs": [
    {
     "data": {
      "image/png": "[encoded data removed]",
      "text/plain": [
       "<matplotlib.figure.Figure at 0x249c40f1cf8>"
      ]
     },
     "metadata": {},
     "output_type": "display_data"
    },
    {
     "name": "stdout",
     "output_type": "stream",
     "text": [
      "clusters: 2\n"
     ]
    }
   ],
   "source": [
    "last     = Z[-10:, 2]\n",
    "last_rev = last[::-1]\n",
    "idxs     = np.arange(1, len(last) + 1)\n",
    "\n",
    "plt.plot(idxs, last_rev)\n",
    "\n",
    "acceleration     = np.diff(last, 2)  # 2nd derivative of the distances\n",
    "acceleration_rev = acceleration[::-1]\n",
    "plt.plot(idxs[:-2] + 1, acceleration_rev)\n",
    "plt.show()\n",
    "\n",
    "k = acceleration_rev.argmax() + 2  # if idx 0 is the max of this we want 2 clusters\n",
    "print (\"clusters:\", k)"
   ]
  },
  {
   "cell_type": "markdown",
   "metadata": {},
   "source": [
    "#### Retrieve the Clusters\n",
    "\n",
    "We can use the __fcluster__ function."
   ]
  },
  {
   "cell_type": "markdown",
   "metadata": {},
   "source": [
    "##### Knowing max_d:\n",
    "Let's say we determined the max distance with help of a dendrogram, then we can do the following to get the cluster id for each of our samples:"
   ]
  },
  {
   "cell_type": "code",
   "execution_count": 60,
   "metadata": {},
   "outputs": [],
   "source": [
    "max_d = 10"
   ]
  },
  {
   "cell_type": "code",
   "execution_count": 61,
   "metadata": {},
   "outputs": [
    {
     "data": {
      "text/plain": [
       "array([6, 6, 3, 6, 4, 4, 4, 4, 6, 3, 3, 6, 6, 3, 5, 6, 3, 5, 5, 6, 5, 6,\n",
       "       6, 6, 5, 4, 4, 4, 5, 5, 4, 5, 6, 6, 5, 5, 3, 3, 4, 4, 3, 6, 6, 5,\n",
       "       6, 4, 6, 3, 5, 5, 6, 4, 6, 6, 4, 5, 6, 3, 5, 3, 4, 5, 6, 6, 4, 3,\n",
       "       3, 4, 6, 6, 6, 6, 6, 5, 3, 5, 3, 3, 6, 5, 5, 3, 6, 3, 4, 3, 3, 4,\n",
       "       4, 5, 3, 4, 4, 3, 6, 3, 6, 4, 6, 3, 2, 2, 1, 2, 1, 1, 1, 2, 1, 2,\n",
       "       2, 2, 1, 2, 1, 2, 2, 2, 1, 2, 1, 1, 2, 2, 2, 2, 2, 1, 1, 2, 1, 1,\n",
       "       1, 1, 2, 2, 2, 1, 2, 1, 2, 2, 1, 2, 1, 2, 2, 1, 1, 1], dtype=int32)"
      ]
     },
     "execution_count": 61,
     "metadata": {},
     "output_type": "execute_result"
    }
   ],
   "source": [
    "clusters = fcluster(Z, max_d, criterion='distance')\n",
    "clusters"
   ]
  },
  {
   "cell_type": "code",
   "execution_count": 106,
   "metadata": {
    "collapsed": true
   },
   "outputs": [],
   "source": [
    "# Or equivalently,\n",
    "# k=2\n",
    "# fcluster(Z, k, criterion='maxclust')"
   ]
  },
  {
   "cell_type": "markdown",
   "metadata": {},
   "source": [
    "#### Visualizing Your Clusters"
   ]
  },
  {
   "cell_type": "code",
   "execution_count": 107,
   "metadata": {},
   "outputs": [
    {
     "data": {
      "image/png": "[encoded data removed]",
      "text/plain": [
       "<matplotlib.figure.Figure at 0x249c42d78d0>"
      ]
     },
     "metadata": {},
     "output_type": "display_data"
    }
   ],
   "source": [
    "plt.figure(figsize=(10, 8))\n",
    "plt.scatter(X[:,0], X[:,1], c=clusters, cmap='prism')  # plot points with cluster dependent colors\n",
    "plt.show()"
   ]
  },
  {
   "cell_type": "code",
   "execution_count": null,
   "metadata": {
    "collapsed": true
   },
   "outputs": [],
   "source": []
  }
 ],
 "metadata": {
  "kernelspec": {
   "display_name": "Python 3",
   "language": "python",
   "name": "python3"
  },
  "language_info": {
   "codemirror_mode": {
    "name": "ipython",
    "version": 3
   },
   "file_extension": ".py",
   "mimetype": "text/x-python",
   "name": "python",
   "nbconvert_exporter": "python",
   "pygments_lexer": "ipython3",
   "version": "3.8.5"
  }
 },
 "nbformat": 4,
 "nbformat_minor": 2
}

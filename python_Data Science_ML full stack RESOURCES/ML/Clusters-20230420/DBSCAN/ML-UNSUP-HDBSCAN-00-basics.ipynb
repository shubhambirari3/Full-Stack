{
 "cells": [
  {
   "cell_type": "markdown",
   "metadata": {},
   "source": [
    "#### Regular DBScan is amazing at clustering data of varying shapes, but falls short of clustering data of varying density.\n"
   ]
  },
  {
   "cell_type": "code",
   "execution_count": null,
   "metadata": {
    "collapsed": true
   },
   "outputs": [],
   "source": [
    "\n",
    "import numpy as np\n",
    "import matplotlib.pyplot as plt\n",
    "import seaborn as sns\n",
    "import sklearn.datasets as data\n",
    "%matplotlib inline\n",
    "\n",
    "import hdbscan"
   ]
  },
  {
   "cell_type": "code",
   "execution_count": 6,
   "metadata": {
    "collapsed": true
   },
   "outputs": [],
   "source": [
    "sns.set_context('poster')\n",
    "sns.set_style('white')\n",
    "sns.set_color_codes()\n",
    "plot_kwds = {'alpha' : 0.5, 's' : 80, 'linewidths':0}"
   ]
  },
  {
   "cell_type": "markdown",
   "metadata": {},
   "source": [
    "#### sklearn.datasets.make_moons\n",
    "- Make two interleaving half circles\n",
    "\n",
    "Parameters:\t\n",
    "n_samples : int, optional (default=100)\n",
    "The total number of points generated.\n",
    "\n",
    "shuffle : bool, optional (default=True)\n",
    "Whether to shuffle the samples.\n",
    "\n",
    "noise : double or None (default=None)\n",
    "Standard deviation of Gaussian noise added to the data."
   ]
  },
  {
   "cell_type": "code",
   "execution_count": 7,
   "metadata": {},
   "outputs": [
    {
     "data": {
      "text/plain": [
       "<matplotlib.collections.PathCollection at 0x16737ef98d0>"
      ]
     },
     "execution_count": 7,
     "metadata": {},
     "output_type": "execute_result"
    },
    {
     "data": {
      "image/png": "[encoded data removed]",
      "text/plain": [
       "<matplotlib.figure.Figure at 0x16737cba438>"
      ]
     },
     "metadata": {},
     "output_type": "display_data"
    }
   ],
   "source": [
    "# generate data\n",
    "moons, _ = data.make_moons(n_samples=50, \n",
    "                           noise=0.05)\n",
    "\n",
    "blobs, _ = data.make_blobs(n_samples=50, \n",
    "                           centers=[(-0.75,2.25), (1.0, 2.0)], \n",
    "                           cluster_std=0.25)\n",
    "\n",
    "test_data = np.vstack([moons, blobs])\n",
    "\n",
    "plt.scatter(test_data.T[0], \n",
    "            test_data.T[1], \n",
    "            color='b', \n",
    "            **plot_kwds)"
   ]
  },
  {
   "cell_type": "code",
   "execution_count": 9,
   "metadata": {},
   "outputs": [
    {
     "data": {
      "text/plain": [
       "HDBSCAN(algorithm='best', allow_single_cluster=False, alpha=1.0,\n",
       "    approx_min_span_tree=True, cluster_selection_method='eom',\n",
       "    core_dist_n_jobs=4, gen_min_span_tree=True, leaf_size=40,\n",
       "    match_reference_implementation=False, memory=Memory(location=None),\n",
       "    metric='euclidean', min_cluster_size=5, min_samples=None, p=None,\n",
       "    prediction_data=False)"
      ]
     },
     "execution_count": 9,
     "metadata": {},
     "output_type": "execute_result"
    }
   ],
   "source": [
    "clusterer = hdbscan.HDBSCAN(min_cluster_size=5, gen_min_span_tree=True)\n",
    "clusterer.fit(test_data)"
   ]
  },
  {
   "cell_type": "markdown",
   "metadata": {},
   "source": [
    "- Transform the space according to the density/sparsity.\n",
    "- Build the minimum spanning tree of the distance weighted graph.\n",
    "- Construct a cluster hierarchy of connected components.\n",
    "- Condense the cluster hierarchy based on minimum cluster size.\n",
    "- Extract the stable clusters from the condensed tree."
   ]
  },
  {
   "cell_type": "markdown",
   "metadata": {},
   "source": [
    "#### Transform the space \n",
    "To find clusters we want to find the islands of higher density amid a sea of sparser noise – \n",
    "- and the assumption of noise is important\n",
    "- real data is messy and has outliers, corrupt data, and noise. \n",
    "\n",
    "The core of the clustering algorithm is __single linkage__ clustering, and it can be quite sensitive to noise: a single noise data point in the wrong place can act as a bridge between islands, gluing them together. \n",
    "\n",
    "Obviously we want our algorithm to be robust against noise so we need to find a way to help ‘lower the sea level’ before running a single linkage algorithm."
   ]
  },
  {
   "cell_type": "markdown",
   "metadata": {},
   "source": [
    "#### How can we characterize ‘sea’ and ‘land’ without doing a clustering?\n",
    "\n",
    "- As long as we can get an estimate of density we can consider lower density points as the ‘sea’. \n",
    "\n",
    "- The goal here is __not to perfectly distinguish__ ‘sea’ from ‘land’ – this is an initial step in clustering, not the ouput – just to make our clustering core a little more robust to noise. \n",
    "\n",
    "- So given an identification of ‘sea’ we want to lower the sea level. For practical purposes that means making ‘sea’ points more distant from each other and from the ‘land’."
   ]
  },
  {
   "cell_type": "code",
   "execution_count": null,
   "metadata": {
    "collapsed": true
   },
   "outputs": [],
   "source": []
  }
 ],
 "metadata": {
  "kernelspec": {
   "display_name": "Python 3",
   "language": "python",
   "name": "python3"
  },
  "language_info": {
   "codemirror_mode": {
    "name": "ipython",
    "version": 3
   },
   "file_extension": ".py",
   "mimetype": "text/x-python",
   "name": "python",
   "nbconvert_exporter": "python",
   "pygments_lexer": "ipython3",
   "version": "3.8.5"
  }
 },
 "nbformat": 4,
 "nbformat_minor": 2
}

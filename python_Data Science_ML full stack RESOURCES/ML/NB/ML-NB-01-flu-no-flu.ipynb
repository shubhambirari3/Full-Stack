{
 "cells": [
  {
   "cell_type": "code",
   "execution_count": 1,
   "metadata": {},
   "outputs": [],
   "source": [
    "import pandas as pd"
   ]
  },
  {
   "cell_type": "code",
   "execution_count": 2,
   "metadata": {},
   "outputs": [
    {
     "data": {
      "text/plain": [
       "(8, 5)"
      ]
     },
     "execution_count": 2,
     "metadata": {},
     "output_type": "execute_result"
    }
   ],
   "source": [
    "# Loading dataset and view a few records.\n",
    "train_df = pd.read_excel(r'E:\\Python\\Machine Learning\\datasets\\flu.xlsx')\n",
    "train_df.shape"
   ]
  },
  {
   "cell_type": "code",
   "execution_count": null,
   "metadata": {},
   "outputs": [],
   "source": []
  },
  {
   "cell_type": "code",
   "execution_count": 3,
   "metadata": {},
   "outputs": [
    {
     "data": {
      "text/plain": [
       "Index(['chills', 'runny_nose', 'headache', 'fever', 'flu'], dtype='object')"
      ]
     },
     "execution_count": 3,
     "metadata": {},
     "output_type": "execute_result"
    }
   ],
   "source": [
    "train_df.columns"
   ]
  },
  {
   "cell_type": "code",
   "execution_count": 4,
   "metadata": {},
   "outputs": [
    {
     "data": {
      "text/html": [
       "<div>\n",
       "<style scoped>\n",
       "    .dataframe tbody tr th:only-of-type {\n",
       "        vertical-align: middle;\n",
       "    }\n",
       "\n",
       "    .dataframe tbody tr th {\n",
       "        vertical-align: top;\n",
       "    }\n",
       "\n",
       "    .dataframe thead th {\n",
       "        text-align: right;\n",
       "    }\n",
       "</style>\n",
       "<table border=\"1\" class=\"dataframe\">\n",
       "  <thead>\n",
       "    <tr style=\"text-align: right;\">\n",
       "      <th></th>\n",
       "      <th>chills</th>\n",
       "      <th>runny_nose</th>\n",
       "      <th>headache</th>\n",
       "      <th>fever</th>\n",
       "      <th>flu</th>\n",
       "    </tr>\n",
       "  </thead>\n",
       "  <tbody>\n",
       "    <tr>\n",
       "      <th>0</th>\n",
       "      <td>Y</td>\n",
       "      <td>N</td>\n",
       "      <td>Mild</td>\n",
       "      <td>Y</td>\n",
       "      <td>N</td>\n",
       "    </tr>\n",
       "    <tr>\n",
       "      <th>1</th>\n",
       "      <td>Y</td>\n",
       "      <td>Y</td>\n",
       "      <td>No</td>\n",
       "      <td>N</td>\n",
       "      <td>Y</td>\n",
       "    </tr>\n",
       "    <tr>\n",
       "      <th>2</th>\n",
       "      <td>Y</td>\n",
       "      <td>N</td>\n",
       "      <td>Strong</td>\n",
       "      <td>Y</td>\n",
       "      <td>Y</td>\n",
       "    </tr>\n",
       "    <tr>\n",
       "      <th>3</th>\n",
       "      <td>N</td>\n",
       "      <td>Y</td>\n",
       "      <td>Mild</td>\n",
       "      <td>Y</td>\n",
       "      <td>Y</td>\n",
       "    </tr>\n",
       "    <tr>\n",
       "      <th>4</th>\n",
       "      <td>N</td>\n",
       "      <td>N</td>\n",
       "      <td>No</td>\n",
       "      <td>N</td>\n",
       "      <td>N</td>\n",
       "    </tr>\n",
       "    <tr>\n",
       "      <th>5</th>\n",
       "      <td>N</td>\n",
       "      <td>Y</td>\n",
       "      <td>Strong</td>\n",
       "      <td>Y</td>\n",
       "      <td>Y</td>\n",
       "    </tr>\n",
       "    <tr>\n",
       "      <th>6</th>\n",
       "      <td>N</td>\n",
       "      <td>Y</td>\n",
       "      <td>Strong</td>\n",
       "      <td>N</td>\n",
       "      <td>N</td>\n",
       "    </tr>\n",
       "    <tr>\n",
       "      <th>7</th>\n",
       "      <td>Y</td>\n",
       "      <td>Y</td>\n",
       "      <td>Mild</td>\n",
       "      <td>Y</td>\n",
       "      <td>Y</td>\n",
       "    </tr>\n",
       "  </tbody>\n",
       "</table>\n",
       "</div>"
      ],
      "text/plain": [
       "  chills runny_nose headache fever flu\n",
       "0      Y          N     Mild     Y   N\n",
       "1      Y          Y       No     N   Y\n",
       "2      Y          N   Strong     Y   Y\n",
       "3      N          Y     Mild     Y   Y\n",
       "4      N          N       No     N   N\n",
       "5      N          Y   Strong     Y   Y\n",
       "6      N          Y   Strong     N   N\n",
       "7      Y          Y     Mild     Y   Y"
      ]
     },
     "execution_count": 4,
     "metadata": {},
     "output_type": "execute_result"
    }
   ],
   "source": [
    "train_df"
   ]
  },
  {
   "cell_type": "code",
   "execution_count": 5,
   "metadata": {},
   "outputs": [
    {
     "data": {
      "text/plain": [
       "2"
      ]
     },
     "execution_count": 5,
     "metadata": {},
     "output_type": "execute_result"
    }
   ],
   "source": [
    "len(train_df.flu.unique())"
   ]
  },
  {
   "cell_type": "code",
   "execution_count": 6,
   "metadata": {},
   "outputs": [],
   "source": [
    "# test pattern\n",
    "# E1, chills = Y, \n",
    "# E2, runny_nose = N, \n",
    "# E3, headache = Mild, \n",
    "# E4, fever = N\n",
    "\n",
    "# outome to test, flu=Y (O)\n",
    "\n",
    "# Calculate P(E1|O), P(E2|O), P(E3|O) & P(E4|O)\n",
    "# Calculate P(O)\n",
    "# Calculate P(E1), P(E2), P(E3) & P(E4)\n",
    "\n",
    "# To find out : P(O | E1, E2, E3, E4) \n",
    "# = [P(E1|O) * P(E2|O) * P(E3|O) * P(E4|O) / (P(E1), P(E2), P(E3) & P(E4))] * P(O)"
   ]
  },
  {
   "cell_type": "code",
   "execution_count": 24,
   "metadata": {},
   "outputs": [],
   "source": [
    "test_data = [['Y', 'N', 'Strong', 'N']]\n",
    "columns = ['chills', 'runny_nose', 'headache', 'fever']"
   ]
  },
  {
   "cell_type": "code",
   "execution_count": 25,
   "metadata": {},
   "outputs": [
    {
     "data": {
      "text/html": [
       "<div>\n",
       "<style scoped>\n",
       "    .dataframe tbody tr th:only-of-type {\n",
       "        vertical-align: middle;\n",
       "    }\n",
       "\n",
       "    .dataframe tbody tr th {\n",
       "        vertical-align: top;\n",
       "    }\n",
       "\n",
       "    .dataframe thead th {\n",
       "        text-align: right;\n",
       "    }\n",
       "</style>\n",
       "<table border=\"1\" class=\"dataframe\">\n",
       "  <thead>\n",
       "    <tr style=\"text-align: right;\">\n",
       "      <th></th>\n",
       "      <th>chills</th>\n",
       "      <th>runny_nose</th>\n",
       "      <th>headache</th>\n",
       "      <th>fever</th>\n",
       "    </tr>\n",
       "  </thead>\n",
       "  <tbody>\n",
       "    <tr>\n",
       "      <th>0</th>\n",
       "      <td>Y</td>\n",
       "      <td>N</td>\n",
       "      <td>Strong</td>\n",
       "      <td>N</td>\n",
       "    </tr>\n",
       "  </tbody>\n",
       "</table>\n",
       "</div>"
      ],
      "text/plain": [
       "  chills runny_nose headache fever\n",
       "0      Y          N   Strong     N"
      ]
     },
     "execution_count": 25,
     "metadata": {},
     "output_type": "execute_result"
    }
   ],
   "source": [
    "test_df = pd.DataFrame(data=test_data, columns=columns)\n",
    "test_df"
   ]
  },
  {
   "cell_type": "code",
   "execution_count": 8,
   "metadata": {},
   "outputs": [
    {
     "data": {
      "text/plain": [
       "range(0, 2)"
      ]
     },
     "execution_count": 8,
     "metadata": {},
     "output_type": "execute_result"
    }
   ],
   "source": [
    "# the list of distinct values of the outcome (flu column)\n",
    "range(len(train_df.flu.unique()))"
   ]
  },
  {
   "cell_type": "code",
   "execution_count": 9,
   "metadata": {},
   "outputs": [
    {
     "data": {
      "text/plain": [
       "range(0, 2)"
      ]
     },
     "execution_count": 9,
     "metadata": {},
     "output_type": "execute_result"
    }
   ],
   "source": [
    "range(2)"
   ]
  },
  {
   "cell_type": "code",
   "execution_count": 10,
   "metadata": {},
   "outputs": [],
   "source": [
    "# number of distinct values of the outcome (flu column)train_df.flu.unique())"
   ]
  },
  {
   "cell_type": "code",
   "execution_count": 11,
   "metadata": {},
   "outputs": [
    {
     "data": {
      "text/plain": [
       "(8, 5)"
      ]
     },
     "execution_count": 11,
     "metadata": {},
     "output_type": "execute_result"
    }
   ],
   "source": [
    "train_df.shape"
   ]
  },
  {
   "cell_type": "code",
   "execution_count": 12,
   "metadata": {},
   "outputs": [
    {
     "name": "stdout",
     "output_type": "stream",
     "text": [
      "8 5\n"
     ]
    }
   ],
   "source": [
    "Count_Row=train_df.shape[0] #gives number of row count in the training df\n",
    "Count_Col=train_df.shape[1] #gives number of col count in the training df\n",
    "print(Count_Row,Count_Col)"
   ]
  },
  {
   "cell_type": "code",
   "execution_count": null,
   "metadata": {},
   "outputs": [],
   "source": [
    "len(train_df.flu.unique())"
   ]
  },
  {
   "cell_type": "code",
   "execution_count": 13,
   "metadata": {},
   "outputs": [
    {
     "data": {
      "text/html": [
       "<div>\n",
       "<style scoped>\n",
       "    .dataframe tbody tr th:only-of-type {\n",
       "        vertical-align: middle;\n",
       "    }\n",
       "\n",
       "    .dataframe tbody tr th {\n",
       "        vertical-align: top;\n",
       "    }\n",
       "\n",
       "    .dataframe thead th {\n",
       "        text-align: right;\n",
       "    }\n",
       "</style>\n",
       "<table border=\"1\" class=\"dataframe\">\n",
       "  <thead>\n",
       "    <tr style=\"text-align: right;\">\n",
       "      <th></th>\n",
       "      <th>class_name</th>\n",
       "      <th>probability</th>\n",
       "    </tr>\n",
       "  </thead>\n",
       "  <tbody>\n",
       "    <tr>\n",
       "      <th>0</th>\n",
       "      <td>NaN</td>\n",
       "      <td>NaN</td>\n",
       "    </tr>\n",
       "    <tr>\n",
       "      <th>1</th>\n",
       "      <td>NaN</td>\n",
       "      <td>NaN</td>\n",
       "    </tr>\n",
       "  </tbody>\n",
       "</table>\n",
       "</div>"
      ],
      "text/plain": [
       "  class_name probability\n",
       "0        NaN         NaN\n",
       "1        NaN         NaN"
      ]
     },
     "execution_count": 13,
     "metadata": {},
     "output_type": "execute_result"
    }
   ],
   "source": [
    "# create an empty df to store propbailities\n",
    "class_prob_df = pd.DataFrame(columns=['class_name', 'probability'],\n",
    "                             index=range(len(train_df.flu.unique())))\n",
    "class_prob_df"
   ]
  },
  {
   "cell_type": "code",
   "execution_count": 14,
   "metadata": {},
   "outputs": [
    {
     "data": {
      "text/plain": [
       "Y    5\n",
       "N    3\n",
       "Name: flu, dtype: int64"
      ]
     },
     "execution_count": 14,
     "metadata": {},
     "output_type": "execute_result"
    }
   ],
   "source": [
    "train_df['flu'].value_counts()   "
   ]
  },
  {
   "cell_type": "code",
   "execution_count": 15,
   "metadata": {},
   "outputs": [
    {
     "data": {
      "text/plain": [
       "Y    5\n",
       "N    3\n",
       "Name: flu, dtype: int64"
      ]
     },
     "execution_count": 15,
     "metadata": {},
     "output_type": "execute_result"
    }
   ],
   "source": [
    "train_df['flu'].value_counts()"
   ]
  },
  {
   "cell_type": "code",
   "execution_count": 16,
   "metadata": {},
   "outputs": [
    {
     "name": "stdout",
     "output_type": "stream",
     "text": [
      "('Y', 5)\n",
      "('N', 3)\n"
     ]
    }
   ],
   "source": [
    "for i in train_df['flu'].value_counts().iteritems():\n",
    "    print(i)"
   ]
  },
  {
   "cell_type": "code",
   "execution_count": null,
   "metadata": {},
   "outputs": [],
   "source": []
  },
  {
   "cell_type": "code",
   "execution_count": 17,
   "metadata": {},
   "outputs": [
    {
     "name": "stdout",
     "output_type": "stream",
     "text": [
      "iter --> 0 Y 5\n",
      "iter --> 1 N 3\n"
     ]
    }
   ],
   "source": [
    "c= 0\n",
    "for ind, cnt in train_df['flu'].value_counts().iteritems():\n",
    "    print(\"iter -->\", c,ind , cnt)\n",
    "    class_prob_df.loc[c].class_name = ind\n",
    "    class_prob_df.loc[c].probability = cnt/Count_Row\n",
    "    #print(class_prob_df.loc[c])\n",
    "    c=c+1"
   ]
  },
  {
   "cell_type": "code",
   "execution_count": 18,
   "metadata": {},
   "outputs": [
    {
     "data": {
      "text/html": [
       "<div>\n",
       "<style scoped>\n",
       "    .dataframe tbody tr th:only-of-type {\n",
       "        vertical-align: middle;\n",
       "    }\n",
       "\n",
       "    .dataframe tbody tr th {\n",
       "        vertical-align: top;\n",
       "    }\n",
       "\n",
       "    .dataframe thead th {\n",
       "        text-align: right;\n",
       "    }\n",
       "</style>\n",
       "<table border=\"1\" class=\"dataframe\">\n",
       "  <thead>\n",
       "    <tr style=\"text-align: right;\">\n",
       "      <th></th>\n",
       "      <th>class_name</th>\n",
       "      <th>probability</th>\n",
       "    </tr>\n",
       "  </thead>\n",
       "  <tbody>\n",
       "    <tr>\n",
       "      <th>0</th>\n",
       "      <td>Y</td>\n",
       "      <td>0.625</td>\n",
       "    </tr>\n",
       "    <tr>\n",
       "      <th>1</th>\n",
       "      <td>N</td>\n",
       "      <td>0.375</td>\n",
       "    </tr>\n",
       "  </tbody>\n",
       "</table>\n",
       "</div>"
      ],
      "text/plain": [
       "  class_name probability\n",
       "0          Y       0.625\n",
       "1          N       0.375"
      ]
     },
     "execution_count": 18,
     "metadata": {},
     "output_type": "execute_result"
    }
   ],
   "source": [
    "class_prob_df"
   ]
  },
  {
   "cell_type": "code",
   "execution_count": 19,
   "metadata": {},
   "outputs": [
    {
     "name": "stdout",
     "output_type": "stream",
     "text": [
      "value Y was found 5 times\n",
      "value N was found 3 times\n"
     ]
    }
   ],
   "source": [
    "i=0\n",
    "for val, cnt in train_df['flu'].value_counts().iteritems():\n",
    "    print ('value', val, 'was found', cnt, 'times')\n",
    "    class_prob_df.loc[i].class_name = val\n",
    "    class_prob_df.loc[i].probability = cnt/Count_Row\n",
    "    i = i +1\n",
    "    \n",
    "#class_prob_df"
   ]
  },
  {
   "cell_type": "code",
   "execution_count": 20,
   "metadata": {},
   "outputs": [
    {
     "data": {
      "text/html": [
       "<div>\n",
       "<style scoped>\n",
       "    .dataframe tbody tr th:only-of-type {\n",
       "        vertical-align: middle;\n",
       "    }\n",
       "\n",
       "    .dataframe tbody tr th {\n",
       "        vertical-align: top;\n",
       "    }\n",
       "\n",
       "    .dataframe thead th {\n",
       "        text-align: right;\n",
       "    }\n",
       "</style>\n",
       "<table border=\"1\" class=\"dataframe\">\n",
       "  <thead>\n",
       "    <tr style=\"text-align: right;\">\n",
       "      <th></th>\n",
       "      <th>class_name</th>\n",
       "      <th>probability</th>\n",
       "    </tr>\n",
       "  </thead>\n",
       "  <tbody>\n",
       "    <tr>\n",
       "      <th>0</th>\n",
       "      <td>Y</td>\n",
       "      <td>0.625</td>\n",
       "    </tr>\n",
       "    <tr>\n",
       "      <th>1</th>\n",
       "      <td>N</td>\n",
       "      <td>0.375</td>\n",
       "    </tr>\n",
       "  </tbody>\n",
       "</table>\n",
       "</div>"
      ],
      "text/plain": [
       "  class_name probability\n",
       "0          Y       0.625\n",
       "1          N       0.375"
      ]
     },
     "execution_count": 20,
     "metadata": {},
     "output_type": "execute_result"
    }
   ],
   "source": [
    "class_prob_df"
   ]
  },
  {
   "cell_type": "code",
   "execution_count": 21,
   "metadata": {},
   "outputs": [
    {
     "data": {
      "text/html": [
       "<div>\n",
       "<style scoped>\n",
       "    .dataframe tbody tr th:only-of-type {\n",
       "        vertical-align: middle;\n",
       "    }\n",
       "\n",
       "    .dataframe tbody tr th {\n",
       "        vertical-align: top;\n",
       "    }\n",
       "\n",
       "    .dataframe thead th {\n",
       "        text-align: right;\n",
       "    }\n",
       "</style>\n",
       "<table border=\"1\" class=\"dataframe\">\n",
       "  <thead>\n",
       "    <tr style=\"text-align: right;\">\n",
       "      <th></th>\n",
       "      <th>flu</th>\n",
       "    </tr>\n",
       "  </thead>\n",
       "  <tbody>\n",
       "    <tr>\n",
       "      <th>Y</th>\n",
       "      <td>5</td>\n",
       "    </tr>\n",
       "    <tr>\n",
       "      <th>N</th>\n",
       "      <td>3</td>\n",
       "    </tr>\n",
       "  </tbody>\n",
       "</table>\n",
       "</div>"
      ],
      "text/plain": [
       "   flu\n",
       "Y    5\n",
       "N    3"
      ]
     },
     "execution_count": 21,
     "metadata": {},
     "output_type": "execute_result"
    }
   ],
   "source": [
    "pd.DataFrame(train_df['flu'].value_counts())"
   ]
  },
  {
   "cell_type": "code",
   "execution_count": 21,
   "metadata": {},
   "outputs": [
    {
     "data": {
      "text/html": [
       "<div>\n",
       "<style scoped>\n",
       "    .dataframe tbody tr th:only-of-type {\n",
       "        vertical-align: middle;\n",
       "    }\n",
       "\n",
       "    .dataframe tbody tr th {\n",
       "        vertical-align: top;\n",
       "    }\n",
       "\n",
       "    .dataframe thead th {\n",
       "        text-align: right;\n",
       "    }\n",
       "</style>\n",
       "<table border=\"1\" class=\"dataframe\">\n",
       "  <thead>\n",
       "    <tr style=\"text-align: right;\">\n",
       "      <th></th>\n",
       "      <th>class_name</th>\n",
       "      <th>probability</th>\n",
       "    </tr>\n",
       "  </thead>\n",
       "  <tbody>\n",
       "    <tr>\n",
       "      <th>0</th>\n",
       "      <td>Y</td>\n",
       "      <td>0.625</td>\n",
       "    </tr>\n",
       "    <tr>\n",
       "      <th>1</th>\n",
       "      <td>N</td>\n",
       "      <td>0.375</td>\n",
       "    </tr>\n",
       "  </tbody>\n",
       "</table>\n",
       "</div>"
      ],
      "text/plain": [
       "  class_name probability\n",
       "0          Y       0.625\n",
       "1          N       0.375"
      ]
     },
     "execution_count": 21,
     "metadata": {},
     "output_type": "execute_result"
    }
   ],
   "source": [
    "proc_class_prob_df = class_prob_df\n",
    "proc_class_prob_df"
   ]
  },
  {
   "cell_type": "code",
   "execution_count": null,
   "metadata": {},
   "outputs": [],
   "source": []
  },
  {
   "cell_type": "code",
   "execution_count": 22,
   "metadata": {
    "scrolled": true
   },
   "outputs": [
    {
     "data": {
      "text/plain": [
       "['chills', 'runny_nose', 'headache', 'fever']"
      ]
     },
     "execution_count": 22,
     "metadata": {},
     "output_type": "execute_result"
    }
   ],
   "source": [
    "columns"
   ]
  },
  {
   "cell_type": "code",
   "execution_count": 9,
   "metadata": {},
   "outputs": [
    {
     "data": {
      "text/plain": [
       "'priori_runny_nose|out'"
      ]
     },
     "execution_count": 9,
     "metadata": {},
     "output_type": "execute_result"
    }
   ],
   "source": [
    " \"priori_\"+columns[1]+\"|out\""
   ]
  },
  {
   "cell_type": "code",
   "execution_count": 25,
   "metadata": {},
   "outputs": [
    {
     "name": "stdout",
     "output_type": "stream",
     "text": [
      "0\n",
      "1\n",
      "2\n",
      "3\n"
     ]
    }
   ],
   "source": [
    "for col in range(len(columns)):\n",
    "    print(col)\n",
    "    #proc_class_prob_df['priori_'+columns[col]]"
   ]
  },
  {
   "cell_type": "code",
   "execution_count": 26,
   "metadata": {},
   "outputs": [
    {
     "data": {
      "text/html": [
       "<div>\n",
       "<style scoped>\n",
       "    .dataframe tbody tr th:only-of-type {\n",
       "        vertical-align: middle;\n",
       "    }\n",
       "\n",
       "    .dataframe tbody tr th {\n",
       "        vertical-align: top;\n",
       "    }\n",
       "\n",
       "    .dataframe thead th {\n",
       "        text-align: right;\n",
       "    }\n",
       "</style>\n",
       "<table border=\"1\" class=\"dataframe\">\n",
       "  <thead>\n",
       "    <tr style=\"text-align: right;\">\n",
       "      <th></th>\n",
       "      <th>chills</th>\n",
       "      <th>runny_nose</th>\n",
       "      <th>headache</th>\n",
       "      <th>fever</th>\n",
       "    </tr>\n",
       "  </thead>\n",
       "  <tbody>\n",
       "    <tr>\n",
       "      <th>0</th>\n",
       "      <td>Y</td>\n",
       "      <td>N</td>\n",
       "      <td>Strong</td>\n",
       "      <td>N</td>\n",
       "    </tr>\n",
       "  </tbody>\n",
       "</table>\n",
       "</div>"
      ],
      "text/plain": [
       "  chills runny_nose headache fever\n",
       "0      Y          N   Strong     N"
      ]
     },
     "execution_count": 26,
     "metadata": {},
     "output_type": "execute_result"
    }
   ],
   "source": [
    "test_df"
   ]
  },
  {
   "cell_type": "code",
   "execution_count": 26,
   "metadata": {},
   "outputs": [],
   "source": [
    "# Calculate P(E1|O), P(E2|O), P(E3|O) & P(E4|O)\n",
    "# Calculate P(O)\n",
    "# Calculate P(E1), P(E2), P(E3) & P(E4)\n",
    "\n",
    "# To find out : P(O | E1, E2, E3, E4) \n",
    "# = [P(E1|O) * P(E2|O) * P(E3|O) * P(E4|O) / (P(E1), P(E2), P(E3) & P(E4))] * P(O)"
   ]
  },
  {
   "cell_type": "code",
   "execution_count": 27,
   "metadata": {},
   "outputs": [],
   "source": [
    "# build the class_prob_df with columns necessary for priori probabilities\n",
    "proc_class_prob_df = class_prob_df\n",
    "for col in range(len(columns)):\n",
    "    #print(col)\n",
    "    proc_class_prob_df['priori_'+columns[col]+'|outcome'] = ''\n",
    "    proc_class_prob_df['priori_'+columns[col]] = ''\n"
   ]
  },
  {
   "cell_type": "code",
   "execution_count": 28,
   "metadata": {},
   "outputs": [
    {
     "data": {
      "text/html": [
       "<div>\n",
       "<style scoped>\n",
       "    .dataframe tbody tr th:only-of-type {\n",
       "        vertical-align: middle;\n",
       "    }\n",
       "\n",
       "    .dataframe tbody tr th {\n",
       "        vertical-align: top;\n",
       "    }\n",
       "\n",
       "    .dataframe thead th {\n",
       "        text-align: right;\n",
       "    }\n",
       "</style>\n",
       "<table border=\"1\" class=\"dataframe\">\n",
       "  <thead>\n",
       "    <tr style=\"text-align: right;\">\n",
       "      <th></th>\n",
       "      <th>class_name</th>\n",
       "      <th>probability</th>\n",
       "      <th>priori_chills|outcome</th>\n",
       "      <th>priori_chills</th>\n",
       "      <th>priori_runny_nose|outcome</th>\n",
       "      <th>priori_runny_nose</th>\n",
       "      <th>priori_headache|outcome</th>\n",
       "      <th>priori_headache</th>\n",
       "      <th>priori_fever|outcome</th>\n",
       "      <th>priori_fever</th>\n",
       "    </tr>\n",
       "  </thead>\n",
       "  <tbody>\n",
       "    <tr>\n",
       "      <th>0</th>\n",
       "      <td>Y</td>\n",
       "      <td>0.625</td>\n",
       "      <td></td>\n",
       "      <td></td>\n",
       "      <td></td>\n",
       "      <td></td>\n",
       "      <td></td>\n",
       "      <td></td>\n",
       "      <td></td>\n",
       "      <td></td>\n",
       "    </tr>\n",
       "    <tr>\n",
       "      <th>1</th>\n",
       "      <td>N</td>\n",
       "      <td>0.375</td>\n",
       "      <td></td>\n",
       "      <td></td>\n",
       "      <td></td>\n",
       "      <td></td>\n",
       "      <td></td>\n",
       "      <td></td>\n",
       "      <td></td>\n",
       "      <td></td>\n",
       "    </tr>\n",
       "  </tbody>\n",
       "</table>\n",
       "</div>"
      ],
      "text/plain": [
       "  class_name probability priori_chills|outcome priori_chills  \\\n",
       "0          Y       0.625                                       \n",
       "1          N       0.375                                       \n",
       "\n",
       "  priori_runny_nose|outcome priori_runny_nose priori_headache|outcome  \\\n",
       "0                                                                       \n",
       "1                                                                       \n",
       "\n",
       "  priori_headache priori_fever|outcome priori_fever  \n",
       "0                                                    \n",
       "1                                                    "
      ]
     },
     "execution_count": 28,
     "metadata": {},
     "output_type": "execute_result"
    }
   ],
   "source": [
    "proc_class_prob_df"
   ]
  },
  {
   "cell_type": "code",
   "execution_count": 29,
   "metadata": {},
   "outputs": [
    {
     "data": {
      "text/plain": [
       "(2, 10)"
      ]
     },
     "execution_count": 29,
     "metadata": {},
     "output_type": "execute_result"
    }
   ],
   "source": [
    "proc_class_prob_df.shape"
   ]
  },
  {
   "cell_type": "code",
   "execution_count": 30,
   "metadata": {},
   "outputs": [
    {
     "data": {
      "text/plain": [
       "Index(['chills', 'runny_nose', 'headache', 'fever', 'flu'], dtype='object')"
      ]
     },
     "execution_count": 30,
     "metadata": {},
     "output_type": "execute_result"
    }
   ],
   "source": [
    "train_df.columns"
   ]
  },
  {
   "cell_type": "code",
   "execution_count": 31,
   "metadata": {},
   "outputs": [
    {
     "data": {
      "text/plain": [
       "Index(['class_name', 'probability', 'priori_chills|outcome', 'priori_chills',\n",
       "       'priori_runny_nose|outcome', 'priori_runny_nose',\n",
       "       'priori_headache|outcome', 'priori_headache', 'priori_fever|outcome',\n",
       "       'priori_fever'],\n",
       "      dtype='object')"
      ]
     },
     "execution_count": 31,
     "metadata": {},
     "output_type": "execute_result"
    }
   ],
   "source": [
    "proc_class_prob_df.columns"
   ]
  },
  {
   "cell_type": "code",
   "execution_count": 32,
   "metadata": {},
   "outputs": [
    {
     "name": "stdout",
     "output_type": "stream",
     "text": [
      "chills\n",
      "runny_nose\n",
      "headache\n",
      "fever\n"
     ]
    }
   ],
   "source": [
    "for i in columns:\n",
    "    print(i)"
   ]
  },
  {
   "cell_type": "code",
   "execution_count": 32,
   "metadata": {},
   "outputs": [
    {
     "name": "stdout",
     "output_type": "stream",
     "text": [
      "(0, class_name                       Y\n",
      "probability                  0.625\n",
      "priori_chills|outcome             \n",
      "priori_chills                     \n",
      "priori_runny_nose|outcome         \n",
      "priori_runny_nose                 \n",
      "priori_headache|outcome           \n",
      "priori_headache                   \n",
      "priori_fever|outcome              \n",
      "priori_fever                      \n",
      "Name: 0, dtype: object)\n",
      "(0, chills             Y\n",
      "runny_nose         N\n",
      "headache      Strong\n",
      "fever              N\n",
      "Name: 0, dtype: object)\n",
      "(1, class_name                       N\n",
      "probability                  0.375\n",
      "priori_chills|outcome             \n",
      "priori_chills                     \n",
      "priori_runny_nose|outcome         \n",
      "priori_runny_nose                 \n",
      "priori_headache|outcome           \n",
      "priori_headache                   \n",
      "priori_fever|outcome              \n",
      "priori_fever                      \n",
      "Name: 1, dtype: object)\n",
      "(0, chills             Y\n",
      "runny_nose         N\n",
      "headache      Strong\n",
      "fever              N\n",
      "Name: 0, dtype: object)\n"
     ]
    }
   ],
   "source": [
    "for i in proc_class_prob_df.iterrows():\n",
    "    print(i)\n",
    "    for j in test_df.iterrows():\n",
    "        print(j)"
   ]
  },
  {
   "cell_type": "code",
   "execution_count": 34,
   "metadata": {},
   "outputs": [
    {
     "name": "stdout",
     "output_type": "stream",
     "text": [
      "chills 4\n",
      "runny_nose 3\n",
      "headache 3\n",
      "fever 3\n",
      "chills 4\n",
      "runny_nose 3\n",
      "headache 3\n",
      "fever 3\n"
     ]
    }
   ],
   "source": [
    "for i , row in proc_class_prob_df.iterrows():\n",
    "    #print(i,row)\n",
    "    for j , row1 in test_df.iterrows():\n",
    "        #print(\"##############\")\n",
    "        #print(\"in second loop\",j,test_row)\n",
    "        for col in range(len(columns)):\n",
    "            #print(\"###########\")\n",
    "            #print(\"in 3rd loop\",col)\n",
    "            event_samples = train_df[(train_df[columns[col]]==row1[columns[col]])].shape[0]\n",
    "            print(columns[col], event_samples)\n",
    "\n",
    "            \n",
    "    "
   ]
  },
  {
   "cell_type": "code",
   "execution_count": 35,
   "metadata": {},
   "outputs": [
    {
     "data": {
      "text/plain": [
       "0    Y\n",
       "Name: chills, dtype: object"
      ]
     },
     "execution_count": 35,
     "metadata": {},
     "output_type": "execute_result"
    }
   ],
   "source": [
    "test_df[columns[0]]"
   ]
  },
  {
   "cell_type": "code",
   "execution_count": 36,
   "metadata": {},
   "outputs": [
    {
     "data": {
      "text/html": [
       "<div>\n",
       "<style scoped>\n",
       "    .dataframe tbody tr th:only-of-type {\n",
       "        vertical-align: middle;\n",
       "    }\n",
       "\n",
       "    .dataframe tbody tr th {\n",
       "        vertical-align: top;\n",
       "    }\n",
       "\n",
       "    .dataframe thead th {\n",
       "        text-align: right;\n",
       "    }\n",
       "</style>\n",
       "<table border=\"1\" class=\"dataframe\">\n",
       "  <thead>\n",
       "    <tr style=\"text-align: right;\">\n",
       "      <th></th>\n",
       "      <th>chills</th>\n",
       "      <th>runny_nose</th>\n",
       "      <th>headache</th>\n",
       "      <th>fever</th>\n",
       "      <th>flu</th>\n",
       "    </tr>\n",
       "  </thead>\n",
       "  <tbody>\n",
       "    <tr>\n",
       "      <th>0</th>\n",
       "      <td>Y</td>\n",
       "      <td>N</td>\n",
       "      <td>Mild</td>\n",
       "      <td>Y</td>\n",
       "      <td>N</td>\n",
       "    </tr>\n",
       "    <tr>\n",
       "      <th>1</th>\n",
       "      <td>Y</td>\n",
       "      <td>Y</td>\n",
       "      <td>No</td>\n",
       "      <td>N</td>\n",
       "      <td>Y</td>\n",
       "    </tr>\n",
       "    <tr>\n",
       "      <th>2</th>\n",
       "      <td>Y</td>\n",
       "      <td>N</td>\n",
       "      <td>Strong</td>\n",
       "      <td>Y</td>\n",
       "      <td>Y</td>\n",
       "    </tr>\n",
       "    <tr>\n",
       "      <th>3</th>\n",
       "      <td>N</td>\n",
       "      <td>Y</td>\n",
       "      <td>Mild</td>\n",
       "      <td>Y</td>\n",
       "      <td>Y</td>\n",
       "    </tr>\n",
       "    <tr>\n",
       "      <th>4</th>\n",
       "      <td>N</td>\n",
       "      <td>N</td>\n",
       "      <td>No</td>\n",
       "      <td>N</td>\n",
       "      <td>N</td>\n",
       "    </tr>\n",
       "    <tr>\n",
       "      <th>5</th>\n",
       "      <td>N</td>\n",
       "      <td>Y</td>\n",
       "      <td>Strong</td>\n",
       "      <td>Y</td>\n",
       "      <td>Y</td>\n",
       "    </tr>\n",
       "    <tr>\n",
       "      <th>6</th>\n",
       "      <td>N</td>\n",
       "      <td>Y</td>\n",
       "      <td>Strong</td>\n",
       "      <td>N</td>\n",
       "      <td>N</td>\n",
       "    </tr>\n",
       "    <tr>\n",
       "      <th>7</th>\n",
       "      <td>Y</td>\n",
       "      <td>Y</td>\n",
       "      <td>Mild</td>\n",
       "      <td>Y</td>\n",
       "      <td>Y</td>\n",
       "    </tr>\n",
       "  </tbody>\n",
       "</table>\n",
       "</div>"
      ],
      "text/plain": [
       "  chills runny_nose headache fever flu\n",
       "0      Y          N     Mild     Y   N\n",
       "1      Y          Y       No     N   Y\n",
       "2      Y          N   Strong     Y   Y\n",
       "3      N          Y     Mild     Y   Y\n",
       "4      N          N       No     N   N\n",
       "5      N          Y   Strong     Y   Y\n",
       "6      N          Y   Strong     N   N\n",
       "7      Y          Y     Mild     Y   Y"
      ]
     },
     "execution_count": 36,
     "metadata": {},
     "output_type": "execute_result"
    }
   ],
   "source": [
    "train_df"
   ]
  },
  {
   "cell_type": "code",
   "execution_count": 37,
   "metadata": {},
   "outputs": [
    {
     "data": {
      "text/html": [
       "<div>\n",
       "<style scoped>\n",
       "    .dataframe tbody tr th:only-of-type {\n",
       "        vertical-align: middle;\n",
       "    }\n",
       "\n",
       "    .dataframe tbody tr th {\n",
       "        vertical-align: top;\n",
       "    }\n",
       "\n",
       "    .dataframe thead th {\n",
       "        text-align: right;\n",
       "    }\n",
       "</style>\n",
       "<table border=\"1\" class=\"dataframe\">\n",
       "  <thead>\n",
       "    <tr style=\"text-align: right;\">\n",
       "      <th></th>\n",
       "      <th>chills</th>\n",
       "      <th>runny_nose</th>\n",
       "      <th>headache</th>\n",
       "      <th>fever</th>\n",
       "    </tr>\n",
       "  </thead>\n",
       "  <tbody>\n",
       "    <tr>\n",
       "      <th>0</th>\n",
       "      <td>Y</td>\n",
       "      <td>N</td>\n",
       "      <td>Strong</td>\n",
       "      <td>N</td>\n",
       "    </tr>\n",
       "  </tbody>\n",
       "</table>\n",
       "</div>"
      ],
      "text/plain": [
       "  chills runny_nose headache fever\n",
       "0      Y          N   Strong     N"
      ]
     },
     "execution_count": 37,
     "metadata": {},
     "output_type": "execute_result"
    }
   ],
   "source": [
    "test_df"
   ]
  },
  {
   "cell_type": "code",
   "execution_count": 38,
   "metadata": {},
   "outputs": [
    {
     "data": {
      "text/html": [
       "<div>\n",
       "<style scoped>\n",
       "    .dataframe tbody tr th:only-of-type {\n",
       "        vertical-align: middle;\n",
       "    }\n",
       "\n",
       "    .dataframe tbody tr th {\n",
       "        vertical-align: top;\n",
       "    }\n",
       "\n",
       "    .dataframe thead th {\n",
       "        text-align: right;\n",
       "    }\n",
       "</style>\n",
       "<table border=\"1\" class=\"dataframe\">\n",
       "  <thead>\n",
       "    <tr style=\"text-align: right;\">\n",
       "      <th></th>\n",
       "      <th>class_name</th>\n",
       "      <th>probability</th>\n",
       "      <th>priori_chills|outcome</th>\n",
       "      <th>priori_chills</th>\n",
       "      <th>priori_runny_nose|outcome</th>\n",
       "      <th>priori_runny_nose</th>\n",
       "      <th>priori_headache|outcome</th>\n",
       "      <th>priori_headache</th>\n",
       "      <th>priori_fever|outcome</th>\n",
       "      <th>priori_fever</th>\n",
       "    </tr>\n",
       "  </thead>\n",
       "  <tbody>\n",
       "    <tr>\n",
       "      <th>0</th>\n",
       "      <td>Y</td>\n",
       "      <td>0.625</td>\n",
       "      <td></td>\n",
       "      <td></td>\n",
       "      <td></td>\n",
       "      <td></td>\n",
       "      <td></td>\n",
       "      <td></td>\n",
       "      <td></td>\n",
       "      <td></td>\n",
       "    </tr>\n",
       "    <tr>\n",
       "      <th>1</th>\n",
       "      <td>N</td>\n",
       "      <td>0.375</td>\n",
       "      <td></td>\n",
       "      <td></td>\n",
       "      <td></td>\n",
       "      <td></td>\n",
       "      <td></td>\n",
       "      <td></td>\n",
       "      <td></td>\n",
       "      <td></td>\n",
       "    </tr>\n",
       "  </tbody>\n",
       "</table>\n",
       "</div>"
      ],
      "text/plain": [
       "  class_name probability priori_chills|outcome priori_chills  \\\n",
       "0          Y       0.625                                       \n",
       "1          N       0.375                                       \n",
       "\n",
       "  priori_runny_nose|outcome priori_runny_nose priori_headache|outcome  \\\n",
       "0                                                                       \n",
       "1                                                                       \n",
       "\n",
       "  priori_headache priori_fever|outcome priori_fever  \n",
       "0                                                    \n",
       "1                                                    "
      ]
     },
     "execution_count": 38,
     "metadata": {},
     "output_type": "execute_result"
    }
   ],
   "source": [
    "proc_class_prob_df"
   ]
  },
  {
   "cell_type": "code",
   "execution_count": 26,
   "metadata": {},
   "outputs": [],
   "source": [
    "# calculate the priori probality of events\n",
    "\n",
    "for idx, row in proc_class_prob_df.iterrows():   \n",
    "    \n",
    "    for idx1, row1 in test_df.iterrows():\n",
    "\n",
    "        for col in range(len(columns)):\n",
    "            # get the number of samples for the event\n",
    "            \n",
    "            event_samples = train_df[(train_df[columns[col]]==row1[columns[col]])].shape[0]\n",
    "            event_outcome_samples = train_df[(train_df[columns[col]]==row1[columns[col]]) & (train_df['flu']==row.class_name)].shape[0]\n",
    "            outcome_samples = train_df[train_df['flu']== row.class_name].shape[0]\n",
    "            #print(columns[col], event_smaple,event_outcome_samples,outcome_samples )\n",
    "            \n",
    "                        \n",
    "            col_to_update = 'priori_'+columns[col]+'|outcome'\n",
    "            proc_class_prob_df.at[idx, col_to_update] = event_outcome_samples/outcome_samples\n",
    "            \n",
    "            col_to_update = 'priori_'+columns[col]\n",
    "            proc_class_prob_df.at[idx, col_to_update] = event_samples/Count_Row\n",
    "            "
   ]
  },
  {
   "cell_type": "code",
   "execution_count": 40,
   "metadata": {},
   "outputs": [
    {
     "name": "stdout",
     "output_type": "stream",
     "text": [
      "chills 4\n",
      "Y 3 5\n",
      "runny_nose 3\n",
      "Y 1 5\n",
      "headache 3\n",
      "Y 2 5\n",
      "fever 3\n",
      "Y 1 5\n",
      "chills 4\n",
      "N 1 3\n",
      "runny_nose 3\n",
      "N 2 3\n",
      "headache 3\n",
      "N 1 3\n",
      "fever 3\n",
      "N 2 3\n"
     ]
    }
   ],
   "source": [
    "# calculate the priori probality of events\n",
    "\n",
    "for idx, row in proc_class_prob_df.iterrows():   \n",
    "    \n",
    "    for idx1, row1 in test_df.iterrows():\n",
    "\n",
    "        for col in range(len(columns)):\n",
    "            # get the number of samples for the event\n",
    "            \n",
    "            event_samples = train_df[(train_df[columns[col]]==row1[columns[col]])].shape[0]\n",
    "            \n",
    "            print(columns[col], event_samples)\n",
    "            event_outcome_samples = train_df[(train_df[columns[col]]==row1[columns[col]]) & (train_df['flu']==row.class_name)].shape[0]\n",
    "                       \n",
    "            outcome_samples = train_df[train_df['flu']== row.class_name].shape[0]\n",
    "            \n",
    "            print(row.class_name , event_outcome_samples, outcome_samples)\n",
    "            ####print(columns[col], event_smaple,event_outcome_samples,outcome_samples )\n",
    "            \n",
    "                        \n",
    "            col_to_update = 'priori_'+columns[col]+'|outcome'\n",
    "            proc_class_prob_df.at[idx, col_to_update] = event_outcome_samples/outcome_samples\n",
    "            \n",
    "            col_to_update = 'priori_'+columns[col]\n",
    "            proc_class_prob_df.at[idx, col_to_update] = event_samples/Count_Row\n",
    "            "
   ]
  },
  {
   "cell_type": "code",
   "execution_count": 41,
   "metadata": {},
   "outputs": [],
   "source": [
    "# Calculate P(E1|O), P(E2|O), P(E3|O) & P(E4|O)\n",
    "# Calculate P(O)\n",
    "# Calculate P(E1), P(E2), P(E3) & P(E4)\n",
    "\n",
    "# To find out : P(O | E1, E2, E3, E4) \n",
    "# = [P(E1|O) * P(E2|O) * P(E3|O) * P(E4|O) / (P(E1), P(E2), P(E3) & P(E4))] * P(O)"
   ]
  },
  {
   "cell_type": "code",
   "execution_count": 27,
   "metadata": {},
   "outputs": [
    {
     "data": {
      "text/html": [
       "<div>\n",
       "<style scoped>\n",
       "    .dataframe tbody tr th:only-of-type {\n",
       "        vertical-align: middle;\n",
       "    }\n",
       "\n",
       "    .dataframe tbody tr th {\n",
       "        vertical-align: top;\n",
       "    }\n",
       "\n",
       "    .dataframe thead th {\n",
       "        text-align: right;\n",
       "    }\n",
       "</style>\n",
       "<table border=\"1\" class=\"dataframe\">\n",
       "  <thead>\n",
       "    <tr style=\"text-align: right;\">\n",
       "      <th></th>\n",
       "      <th>class_name</th>\n",
       "      <th>probability</th>\n",
       "      <th>priori_chills|outcome</th>\n",
       "      <th>priori_chills</th>\n",
       "      <th>priori_runny_nose|outcome</th>\n",
       "      <th>priori_runny_nose</th>\n",
       "      <th>priori_headache|outcome</th>\n",
       "      <th>priori_headache</th>\n",
       "      <th>priori_fever|outcome</th>\n",
       "      <th>priori_fever</th>\n",
       "    </tr>\n",
       "  </thead>\n",
       "  <tbody>\n",
       "    <tr>\n",
       "      <th>0</th>\n",
       "      <td>Y</td>\n",
       "      <td>0.625</td>\n",
       "      <td>0.600000</td>\n",
       "      <td>0.5</td>\n",
       "      <td>0.200000</td>\n",
       "      <td>0.375</td>\n",
       "      <td>0.400000</td>\n",
       "      <td>0.375</td>\n",
       "      <td>0.200000</td>\n",
       "      <td>0.375</td>\n",
       "    </tr>\n",
       "    <tr>\n",
       "      <th>1</th>\n",
       "      <td>N</td>\n",
       "      <td>0.375</td>\n",
       "      <td>0.333333</td>\n",
       "      <td>0.5</td>\n",
       "      <td>0.666667</td>\n",
       "      <td>0.375</td>\n",
       "      <td>0.333333</td>\n",
       "      <td>0.375</td>\n",
       "      <td>0.666667</td>\n",
       "      <td>0.375</td>\n",
       "    </tr>\n",
       "  </tbody>\n",
       "</table>\n",
       "</div>"
      ],
      "text/plain": [
       "  class_name probability  priori_chills|outcome  priori_chills  \\\n",
       "0          Y       0.625               0.600000            0.5   \n",
       "1          N       0.375               0.333333            0.5   \n",
       "\n",
       "   priori_runny_nose|outcome  priori_runny_nose  priori_headache|outcome  \\\n",
       "0                   0.200000              0.375                 0.400000   \n",
       "1                   0.666667              0.375                 0.333333   \n",
       "\n",
       "   priori_headache  priori_fever|outcome  priori_fever  \n",
       "0            0.375              0.200000         0.375  \n",
       "1            0.375              0.666667         0.375  "
      ]
     },
     "execution_count": 27,
     "metadata": {},
     "output_type": "execute_result"
    }
   ],
   "source": [
    "proc_class_prob_df"
   ]
  },
  {
   "cell_type": "code",
   "execution_count": 28,
   "metadata": {},
   "outputs": [],
   "source": [
    "proc_class_prob_df['mul_event|outcome'] = (proc_class_prob_df['priori_chills|outcome']*\n",
    "                                        proc_class_prob_df['priori_runny_nose|outcome']*\n",
    "                                        proc_class_prob_df['priori_fever|outcome']*\n",
    "                                        proc_class_prob_df['priori_headache|outcome'])"
   ]
  },
  {
   "cell_type": "code",
   "execution_count": 41,
   "metadata": {},
   "outputs": [],
   "source": [
    "proc_class_prob_df['mul_event']=(proc_class_prob_df['priori_chills']*\n",
    "                                 proc_class_prob_df['priori_runny_nose']*\n",
    "                                 proc_class_prob_df['priori_headache']*\n",
    "                                 proc_class_prob_df['priori_fever'])"
   ]
  },
  {
   "cell_type": "code",
   "execution_count": 42,
   "metadata": {},
   "outputs": [],
   "source": [
    "proc_class_prob_df['final_posterior_prob'] = (proc_class_prob_df['probability']*\n",
    "                                            (proc_class_prob_df['mul_event|outcome']/\n",
    "                                              proc_class_prob_df['mul_event']))"
   ]
  },
  {
   "cell_type": "code",
   "execution_count": 39,
   "metadata": {},
   "outputs": [
    {
     "data": {
      "text/plain": [
       "0.9298879999999999"
      ]
     },
     "execution_count": 39,
     "metadata": {},
     "output_type": "execute_result"
    }
   ],
   "source": [
    "0.227556+0.702332"
   ]
  },
  {
   "cell_type": "code",
   "execution_count": 43,
   "metadata": {},
   "outputs": [
    {
     "data": {
      "text/html": [
       "<div>\n",
       "<style scoped>\n",
       "    .dataframe tbody tr th:only-of-type {\n",
       "        vertical-align: middle;\n",
       "    }\n",
       "\n",
       "    .dataframe tbody tr th {\n",
       "        vertical-align: top;\n",
       "    }\n",
       "\n",
       "    .dataframe thead th {\n",
       "        text-align: right;\n",
       "    }\n",
       "</style>\n",
       "<table border=\"1\" class=\"dataframe\">\n",
       "  <thead>\n",
       "    <tr style=\"text-align: right;\">\n",
       "      <th></th>\n",
       "      <th>class_name</th>\n",
       "      <th>probability</th>\n",
       "      <th>priori_chills|outcome</th>\n",
       "      <th>priori_chills</th>\n",
       "      <th>priori_runny_nose|outcome</th>\n",
       "      <th>priori_runny_nose</th>\n",
       "      <th>priori_headache|outcome</th>\n",
       "      <th>priori_headache</th>\n",
       "      <th>priori_fever|outcome</th>\n",
       "      <th>priori_fever</th>\n",
       "      <th>mul_event|outcome</th>\n",
       "      <th>mul_event</th>\n",
       "      <th>final_posterior_prob</th>\n",
       "    </tr>\n",
       "  </thead>\n",
       "  <tbody>\n",
       "    <tr>\n",
       "      <th>0</th>\n",
       "      <td>Y</td>\n",
       "      <td>0.625</td>\n",
       "      <td>0.600000</td>\n",
       "      <td>0.5</td>\n",
       "      <td>0.200000</td>\n",
       "      <td>0.375</td>\n",
       "      <td>0.400000</td>\n",
       "      <td>0.375</td>\n",
       "      <td>0.200000</td>\n",
       "      <td>0.375</td>\n",
       "      <td>0.009600</td>\n",
       "      <td>0.026367</td>\n",
       "      <td>0.227556</td>\n",
       "    </tr>\n",
       "    <tr>\n",
       "      <th>1</th>\n",
       "      <td>N</td>\n",
       "      <td>0.375</td>\n",
       "      <td>0.333333</td>\n",
       "      <td>0.5</td>\n",
       "      <td>0.666667</td>\n",
       "      <td>0.375</td>\n",
       "      <td>0.333333</td>\n",
       "      <td>0.375</td>\n",
       "      <td>0.666667</td>\n",
       "      <td>0.375</td>\n",
       "      <td>0.049383</td>\n",
       "      <td>0.026367</td>\n",
       "      <td>0.702332</td>\n",
       "    </tr>\n",
       "  </tbody>\n",
       "</table>\n",
       "</div>"
      ],
      "text/plain": [
       "  class_name probability  priori_chills|outcome  priori_chills  \\\n",
       "0          Y       0.625               0.600000            0.5   \n",
       "1          N       0.375               0.333333            0.5   \n",
       "\n",
       "   priori_runny_nose|outcome  priori_runny_nose  priori_headache|outcome  \\\n",
       "0                   0.200000              0.375                 0.400000   \n",
       "1                   0.666667              0.375                 0.333333   \n",
       "\n",
       "   priori_headache  priori_fever|outcome  priori_fever  mul_event|outcome  \\\n",
       "0            0.375              0.200000         0.375           0.009600   \n",
       "1            0.375              0.666667         0.375           0.049383   \n",
       "\n",
       "   mul_event final_posterior_prob  \n",
       "0   0.026367             0.227556  \n",
       "1   0.026367             0.702332  "
      ]
     },
     "execution_count": 43,
     "metadata": {},
     "output_type": "execute_result"
    }
   ],
   "source": [
    "proc_class_prob_df"
   ]
  },
  {
   "cell_type": "code",
   "execution_count": 33,
   "metadata": {},
   "outputs": [],
   "source": [
    "# calculate posterior probabilties for each outcome\n",
    "for idx, row in proc_class_prob_df.iterrows():   \n",
    "    col_to_update = 'posterior_prob'\n",
    "    posterior_prob = 1\n",
    "    for col in range(len(columns)):\n",
    "        \n",
    "        col_prior_outcome = 'priori_'+columns[col]+'|outcome'\n",
    "        \n",
    "        col_prior = 'priori_'+columns[col]\n",
    "        \n",
    "        posterior_prob = posterior_prob * proc_class_prob_df.iloc[idx][col_prior_outcome]/proc_class_prob_df.iloc[idx][col_prior]\n",
    "        \n",
    "        posterior_prob = posterior_prob * proc_class_prob_df.iloc[idx]['probability']\n",
    "        \n",
    "        \n",
    "    proc_class_prob_df.at[idx, col_to_update] = posterior_prob\n",
    "    \n"
   ]
  },
  {
   "cell_type": "code",
   "execution_count": 47,
   "metadata": {},
   "outputs": [
    {
     "data": {
      "text/plain": [
       "0.9298879999999999"
      ]
     },
     "execution_count": 47,
     "metadata": {},
     "output_type": "execute_result"
    }
   ],
   "source": [
    "0.227556+0.702332"
   ]
  },
  {
   "cell_type": "code",
   "execution_count": 34,
   "metadata": {},
   "outputs": [
    {
     "data": {
      "text/html": [
       "<div>\n",
       "<style scoped>\n",
       "    .dataframe tbody tr th:only-of-type {\n",
       "        vertical-align: middle;\n",
       "    }\n",
       "\n",
       "    .dataframe tbody tr th {\n",
       "        vertical-align: top;\n",
       "    }\n",
       "\n",
       "    .dataframe thead th {\n",
       "        text-align: right;\n",
       "    }\n",
       "</style>\n",
       "<table border=\"1\" class=\"dataframe\">\n",
       "  <thead>\n",
       "    <tr style=\"text-align: right;\">\n",
       "      <th></th>\n",
       "      <th>class_name</th>\n",
       "      <th>probability</th>\n",
       "      <th>priori_chills|outcome</th>\n",
       "      <th>priori_chills</th>\n",
       "      <th>priori_runny_nose|outcome</th>\n",
       "      <th>priori_runny_nose</th>\n",
       "      <th>priori_headache|outcome</th>\n",
       "      <th>priori_headache</th>\n",
       "      <th>priori_fever|outcome</th>\n",
       "      <th>priori_fever</th>\n",
       "      <th>posterior_prob</th>\n",
       "    </tr>\n",
       "  </thead>\n",
       "  <tbody>\n",
       "    <tr>\n",
       "      <th>0</th>\n",
       "      <td>Y</td>\n",
       "      <td>0.625</td>\n",
       "      <td>0.6</td>\n",
       "      <td>0.5</td>\n",
       "      <td>0.2</td>\n",
       "      <td>0.375</td>\n",
       "      <td>0.4</td>\n",
       "      <td>0.375</td>\n",
       "      <td>0.2</td>\n",
       "      <td>0.375</td>\n",
       "      <td>0.055556</td>\n",
       "    </tr>\n",
       "    <tr>\n",
       "      <th>1</th>\n",
       "      <td>N</td>\n",
       "      <td>0.375</td>\n",
       "      <td>0.333333</td>\n",
       "      <td>0.5</td>\n",
       "      <td>0.666667</td>\n",
       "      <td>0.375</td>\n",
       "      <td>0.333333</td>\n",
       "      <td>0.375</td>\n",
       "      <td>0.666667</td>\n",
       "      <td>0.375</td>\n",
       "      <td>0.037037</td>\n",
       "    </tr>\n",
       "  </tbody>\n",
       "</table>\n",
       "</div>"
      ],
      "text/plain": [
       "  class_name probability priori_chills|outcome priori_chills  \\\n",
       "0          Y       0.625                   0.6           0.5   \n",
       "1          N       0.375              0.333333           0.5   \n",
       "\n",
       "  priori_runny_nose|outcome priori_runny_nose priori_headache|outcome  \\\n",
       "0                       0.2             0.375                     0.4   \n",
       "1                  0.666667             0.375                0.333333   \n",
       "\n",
       "  priori_headache priori_fever|outcome priori_fever  posterior_prob  \n",
       "0           0.375                  0.2        0.375        0.055556  \n",
       "1           0.375             0.666667        0.375        0.037037  "
      ]
     },
     "execution_count": 34,
     "metadata": {},
     "output_type": "execute_result"
    }
   ],
   "source": [
    "proc_class_prob_df"
   ]
  },
  {
   "cell_type": "code",
   "execution_count": null,
   "metadata": {},
   "outputs": [],
   "source": []
  }
 ],
 "metadata": {
  "kernelspec": {
   "display_name": "Python 3 (ipykernel)",
   "language": "python",
   "name": "python3"
  },
  "language_info": {
   "codemirror_mode": {
    "name": "ipython",
    "version": 3
   },
   "file_extension": ".py",
   "mimetype": "text/x-python",
   "name": "python",
   "nbconvert_exporter": "python",
   "pygments_lexer": "ipython3",
   "version": "3.9.7"
  }
 },
 "nbformat": 4,
 "nbformat_minor": 2
}

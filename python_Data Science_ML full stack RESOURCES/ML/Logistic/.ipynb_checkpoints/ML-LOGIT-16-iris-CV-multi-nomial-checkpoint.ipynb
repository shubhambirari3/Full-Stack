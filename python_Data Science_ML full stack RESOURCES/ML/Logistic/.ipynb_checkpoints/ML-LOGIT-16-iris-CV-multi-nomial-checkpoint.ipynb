{
 "cells": [
  {
   "cell_type": "code",
   "execution_count": 1,
   "metadata": {},
   "outputs": [
    {
     "name": "stderr",
     "output_type": "stream",
     "text": [
      "C:\\Users\\Amrita\\anaconda3\\lib\\site-packages\\sklearn\\utils\\deprecation.py:143: FutureWarning: The sklearn.preprocessing.data module is  deprecated in version 0.22 and will be removed in version 0.24. The corresponding classes / functions should instead be imported from sklearn.preprocessing. Anything that cannot be imported from sklearn.preprocessing is now part of the private API.\n",
      "  warnings.warn(message, FutureWarning)\n"
     ]
    }
   ],
   "source": [
    "import time\n",
    "import random\n",
    "from math import *\n",
    "import operator\n",
    "import pandas as pd\n",
    "import numpy as np\n",
    "pd.set_option(\"display.max_columns\", 10000)\n",
    "import string\n",
    "from pprint import pprint\n",
    "\n",
    "# import plotting libraries\n",
    "import matplotlib\n",
    "import matplotlib.pyplot as plt\n",
    "from pandas.plotting import scatter_matrix\n",
    "from matplotlib import style\n",
    "%matplotlib inline \n",
    "\n",
    "import seaborn as sns\n",
    "sns.set(style=\"white\", color_codes=True)\n",
    "sns.set(font_scale=1.5)\n",
    "\n",
    "# load make_blobs to simulate data\n",
    "from sklearn.datasets import make_blobs\n",
    "from sklearn.datasets import make_classification\n",
    "from sklearn.datasets import make_regression\n",
    "\n",
    "# import the ML algorithm\n",
    "from sklearn.neighbors import KNeighborsClassifier\n",
    "from sklearn.linear_model import LinearRegression\n",
    "from sklearn.linear_model import LogisticRegression\n",
    "from sklearn.linear_model import LogisticRegressionCV\n",
    "from statsmodels.tools.eval_measures import rmse\n",
    "from sklearn.naive_bayes import GaussianNB\n",
    "from sklearn.naive_bayes import MultinomialNB\n",
    "from sklearn.tree import DecisionTreeClassifier\n",
    "from sklearn.ensemble import RandomForestClassifier\n",
    "from sklearn.ensemble import RandomForestRegressor\n",
    "from sklearn.cluster import KMeans\n",
    "\n",
    "# For text processing\n",
    "import re\n",
    "import nltk\n",
    "from nltk.corpus import stopwords\n",
    "from nltk.tokenize import regexp_tokenize\n",
    "from nltk.tokenize import word_tokenize  \n",
    "from nltk.tokenize import sent_tokenize \n",
    "from nltk.stem import WordNetLemmatizer\n",
    "from nltk.stem import PorterStemmer\n",
    "from sklearn.feature_extraction.text import CountVectorizer\n",
    "from sklearn.feature_extraction.text import TfidfVectorizer\n",
    "\n",
    "import spacy\n",
    "from spacy.lang.en import English\n",
    "\n",
    "from nltk.corpus import wordnet as wn\n",
    "from nltk.stem.wordnet import WordNetLemmatizer\n",
    "\n",
    "# Text - visualization\n",
    "#from wordcloud import WordCloud, STOPWORDS \n",
    "\n",
    "\n",
    "# pre-processing\n",
    "from sklearn import preprocessing\n",
    "from sklearn.preprocessing import MinMaxScaler\n",
    "from sklearn.preprocessing import StandardScaler\n",
    "from sklearn.preprocessing import scale\n",
    "from sklearn.preprocessing import minmax_scale\n",
    "from sklearn.preprocessing import MaxAbsScaler\n",
    "from sklearn.preprocessing import RobustScaler\n",
    "from sklearn.preprocessing import Normalizer\n",
    "from sklearn.preprocessing.data import QuantileTransformer\n",
    "#from sklearn.preprocessing import Imputer\n",
    "from sklearn.decomposition import PCA\n",
    "from sklearn.feature_selection import SelectKBest\n",
    "from sklearn.feature_selection import chi2\n",
    "from sklearn.feature_selection import RFE\n",
    "from sklearn.feature_selection import RFECV\n",
    "\n",
    "# import libraries for model validation\n",
    "from sklearn.model_selection import StratifiedKFold\n",
    "from sklearn.model_selection import KFold\n",
    "from sklearn.model_selection import cross_val_score\n",
    "from sklearn.model_selection import train_test_split\n",
    "from sklearn.model_selection import LeaveOneOut \n",
    "\n",
    "# import libraries for metrics and reporting\n",
    "from sklearn.metrics import confusion_matrix\n",
    "from sklearn.metrics import classification_report\n",
    "from sklearn.metrics import accuracy_score\n",
    "from sklearn.metrics import precision_score\n",
    "from sklearn.metrics import recall_score\n",
    "from sklearn.metrics import f1_score\n",
    "from sklearn import metrics\n",
    "from sklearn.metrics import classification_report\n",
    "from sklearn.metrics import roc_curve, auc\n",
    "from sklearn.metrics import adjusted_rand_score\n",
    "\n",
    "from sklearn.model_selection import GridSearchCV"
   ]
  },
  {
   "cell_type": "code",
   "execution_count": 2,
   "metadata": {},
   "outputs": [],
   "source": [
    "location = r\"E:\\Python\\Machine Learning\\datasets\\iris.csv\""
   ]
  },
  {
   "cell_type": "code",
   "execution_count": 3,
   "metadata": {},
   "outputs": [],
   "source": [
    "# load the training data from glass data set\n",
    "df = pd.read_csv(location)"
   ]
  },
  {
   "cell_type": "code",
   "execution_count": 4,
   "metadata": {
    "scrolled": true
   },
   "outputs": [
    {
     "data": {
      "text/html": [
       "<div>\n",
       "<style scoped>\n",
       "    .dataframe tbody tr th:only-of-type {\n",
       "        vertical-align: middle;\n",
       "    }\n",
       "\n",
       "    .dataframe tbody tr th {\n",
       "        vertical-align: top;\n",
       "    }\n",
       "\n",
       "    .dataframe thead th {\n",
       "        text-align: right;\n",
       "    }\n",
       "</style>\n",
       "<table border=\"1\" class=\"dataframe\">\n",
       "  <thead>\n",
       "    <tr style=\"text-align: right;\">\n",
       "      <th></th>\n",
       "      <th>sepal_length</th>\n",
       "      <th>sepal_width</th>\n",
       "      <th>petal_length</th>\n",
       "      <th>petal_width</th>\n",
       "      <th>class</th>\n",
       "    </tr>\n",
       "  </thead>\n",
       "  <tbody>\n",
       "    <tr>\n",
       "      <th>0</th>\n",
       "      <td>5.1</td>\n",
       "      <td>3.5</td>\n",
       "      <td>1.4</td>\n",
       "      <td>0.2</td>\n",
       "      <td>Iris-setosa</td>\n",
       "    </tr>\n",
       "    <tr>\n",
       "      <th>1</th>\n",
       "      <td>4.9</td>\n",
       "      <td>3.0</td>\n",
       "      <td>1.4</td>\n",
       "      <td>0.2</td>\n",
       "      <td>Iris-setosa</td>\n",
       "    </tr>\n",
       "    <tr>\n",
       "      <th>2</th>\n",
       "      <td>4.7</td>\n",
       "      <td>3.2</td>\n",
       "      <td>1.3</td>\n",
       "      <td>0.2</td>\n",
       "      <td>Iris-setosa</td>\n",
       "    </tr>\n",
       "    <tr>\n",
       "      <th>3</th>\n",
       "      <td>4.6</td>\n",
       "      <td>3.1</td>\n",
       "      <td>1.5</td>\n",
       "      <td>0.2</td>\n",
       "      <td>Iris-setosa</td>\n",
       "    </tr>\n",
       "    <tr>\n",
       "      <th>4</th>\n",
       "      <td>5.0</td>\n",
       "      <td>3.6</td>\n",
       "      <td>1.4</td>\n",
       "      <td>0.2</td>\n",
       "      <td>Iris-setosa</td>\n",
       "    </tr>\n",
       "  </tbody>\n",
       "</table>\n",
       "</div>"
      ],
      "text/plain": [
       "   sepal_length  sepal_width  petal_length  petal_width        class\n",
       "0           5.1          3.5           1.4          0.2  Iris-setosa\n",
       "1           4.9          3.0           1.4          0.2  Iris-setosa\n",
       "2           4.7          3.2           1.3          0.2  Iris-setosa\n",
       "3           4.6          3.1           1.5          0.2  Iris-setosa\n",
       "4           5.0          3.6           1.4          0.2  Iris-setosa"
      ]
     },
     "execution_count": 4,
     "metadata": {},
     "output_type": "execute_result"
    }
   ],
   "source": [
    "df.head()"
   ]
  },
  {
   "cell_type": "code",
   "execution_count": 7,
   "metadata": {},
   "outputs": [
    {
     "data": {
      "text/plain": [
       "Iris-virginica     50\n",
       "Iris-setosa        50\n",
       "Iris-versicolor    50\n",
       "Name: class, dtype: int64"
      ]
     },
     "execution_count": 7,
     "metadata": {},
     "output_type": "execute_result"
    }
   ],
   "source": [
    "df['class'].value_counts()"
   ]
  },
  {
   "cell_type": "code",
   "execution_count": 8,
   "metadata": {},
   "outputs": [],
   "source": [
    "# Label Encoding\n",
    "df['class'].replace([\"Iris-setosa\",\"Iris-versicolor\", \"Iris-virginica\"], [1,2,0], inplace=True)"
   ]
  },
  {
   "cell_type": "code",
   "execution_count": 10,
   "metadata": {},
   "outputs": [
    {
     "data": {
      "text/html": [
       "<div>\n",
       "<style scoped>\n",
       "    .dataframe tbody tr th:only-of-type {\n",
       "        vertical-align: middle;\n",
       "    }\n",
       "\n",
       "    .dataframe tbody tr th {\n",
       "        vertical-align: top;\n",
       "    }\n",
       "\n",
       "    .dataframe thead th {\n",
       "        text-align: right;\n",
       "    }\n",
       "</style>\n",
       "<table border=\"1\" class=\"dataframe\">\n",
       "  <thead>\n",
       "    <tr style=\"text-align: right;\">\n",
       "      <th></th>\n",
       "      <th>sepal_length</th>\n",
       "      <th>sepal_width</th>\n",
       "      <th>petal_length</th>\n",
       "      <th>petal_width</th>\n",
       "      <th>class</th>\n",
       "    </tr>\n",
       "  </thead>\n",
       "  <tbody>\n",
       "    <tr>\n",
       "      <th>0</th>\n",
       "      <td>5.1</td>\n",
       "      <td>3.5</td>\n",
       "      <td>1.4</td>\n",
       "      <td>0.2</td>\n",
       "      <td>2</td>\n",
       "    </tr>\n",
       "    <tr>\n",
       "      <th>1</th>\n",
       "      <td>4.9</td>\n",
       "      <td>3.0</td>\n",
       "      <td>1.4</td>\n",
       "      <td>0.2</td>\n",
       "      <td>2</td>\n",
       "    </tr>\n",
       "    <tr>\n",
       "      <th>2</th>\n",
       "      <td>4.7</td>\n",
       "      <td>3.2</td>\n",
       "      <td>1.3</td>\n",
       "      <td>0.2</td>\n",
       "      <td>2</td>\n",
       "    </tr>\n",
       "    <tr>\n",
       "      <th>3</th>\n",
       "      <td>4.6</td>\n",
       "      <td>3.1</td>\n",
       "      <td>1.5</td>\n",
       "      <td>0.2</td>\n",
       "      <td>2</td>\n",
       "    </tr>\n",
       "    <tr>\n",
       "      <th>4</th>\n",
       "      <td>5.0</td>\n",
       "      <td>3.6</td>\n",
       "      <td>1.4</td>\n",
       "      <td>0.2</td>\n",
       "      <td>2</td>\n",
       "    </tr>\n",
       "  </tbody>\n",
       "</table>\n",
       "</div>"
      ],
      "text/plain": [
       "   sepal_length  sepal_width  petal_length  petal_width  class\n",
       "0           5.1          3.5           1.4          0.2      2\n",
       "1           4.9          3.0           1.4          0.2      2\n",
       "2           4.7          3.2           1.3          0.2      2\n",
       "3           4.6          3.1           1.5          0.2      2\n",
       "4           5.0          3.6           1.4          0.2      2"
      ]
     },
     "execution_count": 10,
     "metadata": {},
     "output_type": "execute_result"
    }
   ],
   "source": [
    "df.head()"
   ]
  },
  {
   "cell_type": "code",
   "execution_count": 7,
   "metadata": {},
   "outputs": [],
   "source": [
    "X = df.drop(['class'], axis=1).values\n",
    "y = df['class'].values"
   ]
  },
  {
   "cell_type": "code",
   "execution_count": 11,
   "metadata": {},
   "outputs": [],
   "source": [
    "# Create logistic regression\n",
    "# logistic = LogisticRegression()\n",
    "clf = LogisticRegressionCV(random_state=0, multi_class='multinomial')"
   ]
  },
  {
   "cell_type": "code",
   "execution_count": 12,
   "metadata": {},
   "outputs": [
    {
     "name": "stderr",
     "output_type": "stream",
     "text": [
      "C:\\Users\\Amrita\\anaconda3\\lib\\site-packages\\sklearn\\linear_model\\_logistic.py:762: ConvergenceWarning: lbfgs failed to converge (status=1):\n",
      "STOP: TOTAL NO. of ITERATIONS REACHED LIMIT.\n",
      "\n",
      "Increase the number of iterations (max_iter) or scale the data as shown in:\n",
      "    https://scikit-learn.org/stable/modules/preprocessing.html\n",
      "Please also refer to the documentation for alternative solver options:\n",
      "    https://scikit-learn.org/stable/modules/linear_model.html#logistic-regression\n",
      "  n_iter_i = _check_optimize_result(\n",
      "C:\\Users\\Amrita\\anaconda3\\lib\\site-packages\\sklearn\\linear_model\\_logistic.py:762: ConvergenceWarning: lbfgs failed to converge (status=1):\n",
      "STOP: TOTAL NO. of ITERATIONS REACHED LIMIT.\n",
      "\n",
      "Increase the number of iterations (max_iter) or scale the data as shown in:\n",
      "    https://scikit-learn.org/stable/modules/preprocessing.html\n",
      "Please also refer to the documentation for alternative solver options:\n",
      "    https://scikit-learn.org/stable/modules/linear_model.html#logistic-regression\n",
      "  n_iter_i = _check_optimize_result(\n",
      "C:\\Users\\Amrita\\anaconda3\\lib\\site-packages\\sklearn\\linear_model\\_logistic.py:762: ConvergenceWarning: lbfgs failed to converge (status=1):\n",
      "STOP: TOTAL NO. of ITERATIONS REACHED LIMIT.\n",
      "\n",
      "Increase the number of iterations (max_iter) or scale the data as shown in:\n",
      "    https://scikit-learn.org/stable/modules/preprocessing.html\n",
      "Please also refer to the documentation for alternative solver options:\n",
      "    https://scikit-learn.org/stable/modules/linear_model.html#logistic-regression\n",
      "  n_iter_i = _check_optimize_result(\n",
      "C:\\Users\\Amrita\\anaconda3\\lib\\site-packages\\sklearn\\linear_model\\_logistic.py:762: ConvergenceWarning: lbfgs failed to converge (status=1):\n",
      "STOP: TOTAL NO. of ITERATIONS REACHED LIMIT.\n",
      "\n",
      "Increase the number of iterations (max_iter) or scale the data as shown in:\n",
      "    https://scikit-learn.org/stable/modules/preprocessing.html\n",
      "Please also refer to the documentation for alternative solver options:\n",
      "    https://scikit-learn.org/stable/modules/linear_model.html#logistic-regression\n",
      "  n_iter_i = _check_optimize_result(\n",
      "C:\\Users\\Amrita\\anaconda3\\lib\\site-packages\\sklearn\\linear_model\\_logistic.py:762: ConvergenceWarning: lbfgs failed to converge (status=1):\n",
      "STOP: TOTAL NO. of ITERATIONS REACHED LIMIT.\n",
      "\n",
      "Increase the number of iterations (max_iter) or scale the data as shown in:\n",
      "    https://scikit-learn.org/stable/modules/preprocessing.html\n",
      "Please also refer to the documentation for alternative solver options:\n",
      "    https://scikit-learn.org/stable/modules/linear_model.html#logistic-regression\n",
      "  n_iter_i = _check_optimize_result(\n"
     ]
    },
    {
     "data": {
      "text/plain": [
       "LogisticRegressionCV(cv=5, multi_class='multinomial', random_state=0)"
      ]
     },
     "execution_count": 12,
     "metadata": {},
     "output_type": "execute_result"
    }
   ],
   "source": [
    "# Train the model\n",
    "clf.fit(X, y)"
   ]
  },
  {
   "cell_type": "code",
   "execution_count": 13,
   "metadata": {},
   "outputs": [],
   "source": [
    "y_pred = clf.predict(X)"
   ]
  },
  {
   "cell_type": "code",
   "execution_count": 14,
   "metadata": {},
   "outputs": [
    {
     "data": {
      "text/plain": [
       "0.98"
      ]
     },
     "execution_count": 14,
     "metadata": {},
     "output_type": "execute_result"
    }
   ],
   "source": [
    "metrics.accuracy_score(y_pred, y)"
   ]
  },
  {
   "cell_type": "code",
   "execution_count": 15,
   "metadata": {},
   "outputs": [
    {
     "data": {
      "text/plain": [
       "0.98"
      ]
     },
     "execution_count": 15,
     "metadata": {},
     "output_type": "execute_result"
    }
   ],
   "source": [
    "clf.score(X, y) "
   ]
  },
  {
   "cell_type": "code",
   "execution_count": 16,
   "metadata": {},
   "outputs": [
    {
     "data": {
      "text/plain": [
       "array([[-3.92221312e+01, -6.59605548e+00, -1.36667811e-03],\n",
       "       [-3.66220447e+01, -5.72152652e+00, -3.28008177e-03],\n",
       "       [-3.85745483e+01, -6.93812760e+00, -9.70555124e-04],\n",
       "       [-3.59465353e+01, -5.96633156e+00, -2.56692042e-03],\n",
       "       [-3.96785996e+01, -6.98283904e+00, -9.28096329e-04],\n",
       "       [-3.66590459e+01, -5.83226114e+00, -2.93574617e-03],\n",
       "       [-3.76991503e+01, -7.15594200e+00, -7.80518776e-04],\n",
       "       [-3.76344725e+01, -6.06808102e+00, -2.31829774e-03],\n",
       "       [-3.58916942e+01, -6.24126074e+00, -1.94929745e-03],\n",
       "       [-3.68776012e+01, -5.47441490e+00, -4.20149492e-03],\n",
       "       [-3.93224338e+01, -6.16985454e+00, -2.09373055e-03],\n",
       "       [-3.65031216e+01, -5.92672954e+00, -2.67075397e-03],\n",
       "       [-3.73697207e+01, -5.83315309e+00, -2.93312496e-03],\n",
       "       [-4.02633873e+01, -7.92088803e+00, -3.63145687e-04],\n",
       "       [-4.41320220e+01, -7.60365660e+00, -4.98749181e-04],\n",
       "       [-4.13860455e+01, -7.44390438e+00, -5.85167863e-04],\n",
       "       [-4.08206032e+01, -7.60768742e+00, -4.96742360e-04],\n",
       "       [-3.84287034e+01, -6.63541037e+00, -1.31390260e-03],\n",
       "       [-3.70893610e+01, -5.10601185e+00, -6.07864138e-03],\n",
       "       [-3.88941780e+01, -6.89816314e+00, -1.01014831e-03],\n",
       "       [-3.57418558e+01, -4.58159663e+00, -1.02913105e-02],\n",
       "       [-3.75987629e+01, -6.70194898e+00, -1.22927046e-03],\n",
       "       [-4.36603450e+01, -9.36538663e+00, -8.56412231e-05],\n",
       "       [-3.27204853e+01, -4.91519227e+00, -7.36133583e-03],\n",
       "       [-3.33875487e+01, -4.60075486e+00, -1.00950347e-02],\n",
       "       [-3.45913739e+01, -4.68718786e+00, -9.25525481e-03],\n",
       "       [-3.50077451e+01, -5.70345174e+00, -3.34000758e-03],\n",
       "       [-3.82275961e+01, -6.00131984e+00, -2.47855185e-03],\n",
       "       [-3.87658699e+01, -6.20947897e+00, -2.01230795e-03],\n",
       "       [-3.54542577e+01, -5.60743530e+00, -3.67722365e-03],\n",
       "       [-3.49990849e+01, -5.22194736e+00, -5.41142472e-03],\n",
       "       [-3.62307352e+01, -5.54297583e+00, -3.92254265e-03],\n",
       "       [-4.20326742e+01, -7.37510618e+00, -6.26856590e-04],\n",
       "       [-4.29184676e+01, -7.64053137e+00, -4.80688534e-04],\n",
       "       [-3.68776012e+01, -5.47441490e+00, -4.20149492e-03],\n",
       "       [-3.97516132e+01, -6.92845977e+00, -9.79988404e-04],\n",
       "       [-4.04447774e+01, -6.43523567e+00, -1.60531847e-03],\n",
       "       [-3.68776012e+01, -5.47441490e+00, -4.20149492e-03],\n",
       "       [-3.74339908e+01, -6.92060644e+00, -9.87718701e-04],\n",
       "       [-3.76802030e+01, -5.91707822e+00, -2.69669001e-03],\n",
       "       [-3.94237608e+01, -7.23066828e+00, -7.24299085e-04],\n",
       "       [-3.31749102e+01, -5.16250236e+00, -5.74381404e-03],\n",
       "       [-3.84381378e+01, -7.39191702e+00, -6.16403465e-04],\n",
       "       [-3.39223536e+01, -6.01720745e+00, -2.43943706e-03],\n",
       "       [-3.39415292e+01, -5.16442811e+00, -5.73273175e-03],\n",
       "       [-3.57827486e+01, -5.91174642e+00, -2.71112619e-03],\n",
       "       [-3.86471821e+01, -6.41491731e+00, -1.63829654e-03],\n",
       "       [-3.74885274e+01, -6.64537278e+00, -1.30086947e-03],\n",
       "       [-3.92767878e+01, -6.32094187e+00, -1.79986779e-03],\n",
       "       [-3.81727763e+01, -6.27627027e+00, -1.88217110e-03],\n",
       "       [-5.88856941e+00, -2.78868466e-03, -1.11863620e+01],\n",
       "       [-5.07204025e+00, -6.37657969e-03, -9.35332240e+00],\n",
       "       [-3.42971890e+00, -3.29378768e-02, -1.21504959e+01],\n",
       "       [-5.54977320e+00, -4.24376752e-03, -7.96781113e+00],\n",
       "       [-3.62716173e+00, -2.69702174e-02, -1.09131273e+01],\n",
       "       [-4.30214566e+00, -1.37225309e-02, -9.32317913e+00],\n",
       "       [-3.15320920e+00, -4.37088843e-02, -9.85295753e+00],\n",
       "       [-1.13271912e+01, -2.15660302e-02, -3.84796405e+00],\n",
       "       [-5.73217250e+00, -3.26411217e-03, -1.08837768e+01],\n",
       "       [-5.79009522e+00, -5.34295294e-03, -6.08752896e+00],\n",
       "       [-9.24670937e+00, -3.08915375e-03, -5.81316481e+00],\n",
       "       [-5.34398735e+00, -5.22831621e-03, -7.73355111e+00],\n",
       "       [-8.76139712e+00, -2.71216921e-04, -9.07480849e+00],\n",
       "       [-3.35160924e+00, -3.56828896e-02, -1.05643483e+01],\n",
       "       [-9.73421997e+00, -7.31709485e-03, -4.92935467e+00],\n",
       "       [-6.81991891e+00, -1.15800791e-03, -9.63302969e+00],\n",
       "       [-3.00970667e+00, -5.07458808e-02, -8.65832406e+00],\n",
       "       [-9.10365187e+00, -4.34478256e-04, -8.03747094e+00],\n",
       "       [-2.13400105e+00, -1.25985778e-01, -1.15285787e+01],\n",
       "       [-8.53808372e+00, -8.86476674e-04, -7.27850215e+00],\n",
       "       [-5.95489842e-01, -8.01439109e-01, -1.06066549e+01],\n",
       "       [-8.05879264e+00, -7.72422326e-04, -7.69342219e+00],\n",
       "       [-1.04906577e+00, -4.31193711e-01, -1.30555103e+01],\n",
       "       [-4.72401223e+00, -8.93867245e-03, -1.08522603e+01],\n",
       "       [-7.12594100e+00, -9.00950893e-04, -9.24525231e+00],\n",
       "       [-6.35740506e+00, -1.79565398e-03, -9.71812710e+00],\n",
       "       [-3.85158823e+00, -2.14796069e-02, -1.22901206e+01],\n",
       "       [-9.58467086e-01, -4.83669018e-01, -1.28999566e+01],\n",
       "       [-3.50991035e+00, -3.04344720e-02, -9.47937837e+00],\n",
       "       [-1.22235344e+01, -4.27196336e-03, -5.45897026e+00],\n",
       "       [-8.67173960e+00, -1.16108007e-03, -6.91877019e+00],\n",
       "       [-1.01014186e+01, -1.52460937e-03, -6.51407506e+00],\n",
       "       [-8.63174639e+00, -1.02884532e-03, -7.07031733e+00],\n",
       "       [-2.07827104e-01, -1.67316686e+00, -1.42211829e+01],\n",
       "       [-2.63979287e+00, -7.42987072e-02, -8.37911450e+00],\n",
       "       [-3.99758112e+00, -1.87970449e-02, -8.24912853e+00],\n",
       "       [-4.21133547e+00, -1.49555535e-02, -1.09408185e+01],\n",
       "       [-4.74204149e+00, -8.77658775e-03, -1.09612588e+01],\n",
       "       [-7.01255686e+00, -1.89963733e-03, -6.91042787e+00],\n",
       "       [-6.08121125e+00, -2.84545757e-03, -7.49473092e+00],\n",
       "       [-4.79981560e+00, -8.38000750e-03, -9.08169747e+00],\n",
       "       [-4.19412892e+00, -1.52516272e-02, -9.86360975e+00],\n",
       "       [-7.76862031e+00, -8.53709477e-04, -7.75044947e+00],\n",
       "       [-1.12506376e+01, -1.46973732e-02, -4.22831754e+00],\n",
       "       [-5.61882116e+00, -3.95123053e-03, -8.06446863e+00],\n",
       "       [-7.44475439e+00, -1.11392138e-03, -7.54489733e+00],\n",
       "       [-6.34662867e+00, -2.18906636e-03, -7.74240576e+00],\n",
       "       [-6.73289603e+00, -1.32261289e-03, -8.94291158e+00],\n",
       "       [-1.29996761e+01, -7.73505932e-02, -2.59786342e+00],\n",
       "       [-6.67635109e+00, -1.79690477e-03, -7.53338823e+00],\n",
       "       [-5.33899969e-06, -1.21404752e+01, -2.73731170e+01],\n",
       "       [-1.27334547e-02, -4.36988790e+00, -1.64969186e+01],\n",
       "       [-5.88173635e-04, -7.43878248e+00, -2.43031610e+01],\n",
       "       [-6.77901379e-03, -4.99731166e+00, -1.96713057e+01],\n",
       "       [-1.42678705e-04, -8.85498680e+00, -2.43272042e+01],\n",
       "       [-2.41731231e-05, -1.06302812e+01, -3.13628300e+01],\n",
       "       [-2.17340319e-01, -1.63316900e+00, -1.02814683e+01],\n",
       "       [-7.47106801e-04, -7.19967594e+00, -2.64987461e+01],\n",
       "       [-1.55992483e-03, -6.46389755e+00, -2.35757127e+01],\n",
       "       [-3.84109749e-05, -1.01671866e+01, -2.64992026e+01],\n",
       "       [-8.03664079e-02, -2.56107945e+00, -1.45291661e+01],\n",
       "       [-1.25741414e-02, -4.38239422e+00, -1.83066447e+01],\n",
       "       [-3.53857011e-03, -5.64580176e+00, -2.02781715e+01],\n",
       "       [-4.86639503e-03, -5.32784044e+00, -1.72912978e+01],\n",
       "       [-2.60014961e-04, -8.25490973e+00, -1.99490611e+01],\n",
       "       [-1.71265071e-03, -6.37057260e+00, -1.89579877e+01],\n",
       "       [-2.36133193e-02, -3.75772839e+00, -1.80541775e+01],\n",
       "       [-5.93817581e-05, -9.73155318e+00, -2.91338142e+01],\n",
       "       [-3.20187110e-07, -1.49543605e+01, -3.80362378e+01],\n",
       "       [-2.26806254e-01, -1.59492144e+00, -1.49170836e+01],\n",
       "       [-4.21565688e-04, -7.77174600e+00, -2.28939323e+01],\n",
       "       [-1.60518167e-02, -4.13997188e+00, -1.48000589e+01],\n",
       "       [-2.18759845e-05, -1.07301321e+01, -3.25696179e+01],\n",
       "       [-2.30996177e-01, -1.57863583e+00, -1.36130475e+01],\n",
       "       [-1.96200525e-03, -6.23476951e+00, -2.08971678e+01],\n",
       "       [-8.14067327e-03, -4.81495000e+00, -2.19217172e+01],\n",
       "       [-4.09393369e-01, -1.09081540e+00, -1.22935386e+01],\n",
       "       [-3.29240087e-01, -1.27109184e+00, -1.22952183e+01],\n",
       "       [-5.21487107e-04, -7.55908706e+00, -2.25020802e+01],\n",
       "       [-8.03426248e-02, -2.56135740e+00, -1.93296891e+01],\n",
       "       [-9.98925501e-04, -6.90932978e+00, -2.56672818e+01],\n",
       "       [-2.78291799e-03, -5.88564641e+00, -2.43360862e+01],\n",
       "       [-2.26795613e-04, -8.39157506e+00, -2.32951605e+01],\n",
       "       [-8.11441574e-01, -5.87380512e-01, -1.33931069e+01],\n",
       "       [-5.61172160e-02, -2.90824027e+00, -1.81446254e+01],\n",
       "       [-1.09840612e-04, -9.11653515e+00, -2.76993182e+01],\n",
       "       [-1.74214500e-04, -8.65531211e+00, -2.19136554e+01],\n",
       "       [-2.52961257e-02, -3.68972634e+00, -1.75989533e+01],\n",
       "       [-4.58418471e-01, -1.00047078e+00, -1.14287497e+01],\n",
       "       [-1.01765343e-02, -4.59275547e+00, -1.86961991e+01],\n",
       "       [-1.72081091e-04, -8.66763124e+00, -2.32390221e+01],\n",
       "       [-1.15126965e-02, -4.47005872e+00, -1.71612880e+01],\n",
       "       [-1.27334547e-02, -4.36988790e+00, -1.64969186e+01],\n",
       "       [-1.05039334e-04, -9.16122831e+00, -2.50209661e+01],\n",
       "       [-7.02132957e-05, -9.56400848e+00, -2.40687761e+01],\n",
       "       [-3.29085667e-03, -5.71825445e+00, -1.87870287e+01],\n",
       "       [-3.58726916e-02, -3.34566415e+00, -1.62568164e+01],\n",
       "       [-2.66903164e-02, -3.63677248e+00, -1.65210073e+01],\n",
       "       [-1.08458204e-03, -6.82710758e+00, -1.90845447e+01],\n",
       "       [-7.67652664e-02, -2.60514918e+00, -1.42154459e+01]])"
      ]
     },
     "execution_count": 16,
     "metadata": {},
     "output_type": "execute_result"
    }
   ],
   "source": [
    "clf.predict_log_proba(X)"
   ]
  },
  {
   "cell_type": "code",
   "execution_count": null,
   "metadata": {
    "collapsed": true
   },
   "outputs": [],
   "source": []
  },
  {
   "cell_type": "markdown",
   "metadata": {
    "collapsed": true
   },
   "source": [
    "# practice\n"
   ]
  },
  {
   "cell_type": "code",
   "execution_count": null,
   "metadata": {},
   "outputs": [],
   "source": [
    "import pandas as pd\n",
    "import  numpy "
   ]
  }
 ],
 "metadata": {
  "kernelspec": {
   "display_name": "Python 3 (ipykernel)",
   "language": "python",
   "name": "python3"
  },
  "language_info": {
   "codemirror_mode": {
    "name": "ipython",
    "version": 3
   },
   "file_extension": ".py",
   "mimetype": "text/x-python",
   "name": "python",
   "nbconvert_exporter": "python",
   "pygments_lexer": "ipython3",
   "version": "3.9.7"
  }
 },
 "nbformat": 4,
 "nbformat_minor": 2
}

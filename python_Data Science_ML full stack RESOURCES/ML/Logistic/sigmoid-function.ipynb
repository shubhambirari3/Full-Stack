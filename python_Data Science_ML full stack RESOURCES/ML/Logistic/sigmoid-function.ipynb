{
 "cells": [
  {
   "cell_type": "markdown",
   "metadata": {},
   "source": [
    "# Sigmoid function\n",
    "\n",
    "- In mathematical definition way of saying the sigmoid function take any range real number and returns the output value which falls in the range of 0 to 1.\n",
    "\n",
    "$$ f(x) = \\frac{1}{1 + e^{-x}}$$"
   ]
  },
  {
   "cell_type": "code",
   "execution_count": 1,
   "metadata": {},
   "outputs": [],
   "source": [
    "import numpy as np\n",
    "import matplotlib.pyplot as plt\n",
    "%matplotlib inline"
   ]
  },
  {
   "cell_type": "code",
   "execution_count": 2,
   "metadata": {},
   "outputs": [],
   "source": [
    "def sigmoid(input):\n",
    "    \"\"\"\n",
    "    Calculate the sigmoid for the given inputs x\n",
    "    :param inputs:\n",
    "    :return:\n",
    "    \"\"\"\n",
    "    sigmoid_scores = 1 / float(1 + np.exp(- input)) \n",
    "    return sigmoid_scores"
   ]
  },
  {
   "cell_type": "code",
   "execution_count": 3,
   "metadata": {},
   "outputs": [
    {
     "name": "stdout",
     "output_type": "stream",
     "text": [
      "Help on function sigmoid in module __main__:\n",
      "\n",
      "sigmoid(input)\n",
      "    Calculate the sigmoid for the give inputs (array)\n",
      "    :param inputs:\n",
      "    :return:\n",
      "\n"
     ]
    }
   ],
   "source": [
    "help(sigmoid)"
   ]
  },
  {
   "cell_type": "code",
   "execution_count": 5,
   "metadata": {},
   "outputs": [
    {
     "name": "stdout",
     "output_type": "stream",
     "text": [
      "Sigmoid Function Output of : -600000.0 is : 0.0\n",
      "Sigmoid Function Output of : -5000000.0 is : 0.0\n",
      "Sigmoid Function Output of : -2.0 is : 0.11920292202211755\n",
      "Sigmoid Function Output of : -3.0 is : 0.04742587317756678\n",
      "Sigmoid Function Output of : -5.0 is : 0.0066928509242848554\n",
      "Sigmoid Function Output of : -6.0 is : 0.0024726231566347743\n",
      "Sigmoid Function Output of : 0.0 is : 0.5\n",
      "Sigmoid Function Output of : 1e-07 is : 0.500000025\n",
      "Sigmoid Function Output of : 0.01 is : 0.5024999791668749\n",
      "Sigmoid Function Output of : 0.1 is : 0.52497918747894\n",
      "Sigmoid Function Output of : 0.5 is : 0.6224593312018546\n",
      "Sigmoid Function Output of : 1.0 is : 0.7310585786300049\n",
      "Sigmoid Function Output of : 10.0 is : 0.9999546021312976\n",
      "Sigmoid Function Output of : 60.0 is : 1.0\n",
      "Sigmoid Function Output of : 600000.0 is : 1.0\n"
     ]
    },
    {
     "name": "stderr",
     "output_type": "stream",
     "text": [
      "<ipython-input-2-5ddbd5857dd2>:7: RuntimeWarning: overflow encountered in exp\n",
      "  sigmoid_scores = 1 / float(1 + np.exp(- input))\n"
     ]
    }
   ],
   "source": [
    "inputs = np.array([-600000,-5000000, -2, -3, -5, -6, 0, .0000001, .01, .1, .5, 1, 10, 60, 600000])\n",
    "\n",
    "for inp in inputs:\n",
    "    print (\"Sigmoid Function Output of : {} is : {}\".format(inp, sigmoid(inp)))"
   ]
  },
  {
   "cell_type": "code",
   "execution_count": 6,
   "metadata": {
    "collapsed": true
   },
   "outputs": [],
   "source": [
    "# Creating Sigmoid Function Graph\n",
    "# Now let’s use the above function to create the graph to understand the nature of the sigmoid function.\n",
    "\n",
    "# We are going to pass a list which contains numbers in the range 0 to 21.\n",
    "# Will compute the sigmoid scores for the list we passed.\n",
    "# Then we will use the outputs values to visualize the graph."
   ]
  },
  {
   "cell_type": "code",
   "execution_count": 3,
   "metadata": {},
   "outputs": [],
   "source": [
    "def sigmoid_array(inputs):\n",
    "    \"\"\"\n",
    "    Calculate the sigmoid for the give inputs (array)\n",
    "    :param inputs:\n",
    "    :return:\n",
    "    \"\"\"\n",
    "    sigmoid_scores = [1 / float(1 + np.exp(- x)) for x in inputs]\n",
    "    return sigmoid_scores"
   ]
  },
  {
   "cell_type": "code",
   "execution_count": 19,
   "metadata": {},
   "outputs": [],
   "source": [
    "input_x = range(-10, 10)\n",
    "\n",
    "output_y = sigmoid_array(input_x)"
   ]
  },
  {
   "cell_type": "code",
   "execution_count": 20,
   "metadata": {},
   "outputs": [
    {
     "name": "stdout",
     "output_type": "stream",
     "text": [
      "Graph X readings: range(-10, 10)\n",
      "Graph Y readings: [4.5397868702434395e-05, 0.00012339457598623172, 0.0003353501304664781, 0.0009110511944006454, 0.0024726231566347743, 0.0066928509242848554, 0.01798620996209156, 0.04742587317756678, 0.11920292202211755, 0.2689414213699951, 0.5, 0.7310585786300049, 0.8807970779778823, 0.9525741268224334, 0.9820137900379085, 0.9933071490757153, 0.9975273768433653, 0.9990889488055994, 0.9996646498695336, 0.9998766054240137]\n"
     ]
    }
   ],
   "source": [
    "print (\"Graph X readings: {}\".format(input_x))\n",
    "print (\"Graph Y readings: {}\".format(output_y))"
   ]
  },
  {
   "cell_type": "code",
   "execution_count": 21,
   "metadata": {},
   "outputs": [
    {
     "name": "stderr",
     "output_type": "stream",
     "text": [
      "<ipython-input-3-eeb872b1d05b>:7: RuntimeWarning: overflow encountered in exp\n",
      "  sigmoid_scores = [1 / float(1 + np.exp(- x)) for x in inputs]\n"
     ]
    },
    {
     "data": {
      "text/plain": [
       "list"
      ]
     },
     "execution_count": 21,
     "metadata": {},
     "output_type": "execute_result"
    }
   ],
   "source": [
    "type(sigmoid_array(inputs))"
   ]
  },
  {
   "cell_type": "code",
   "execution_count": 23,
   "metadata": {},
   "outputs": [
    {
     "data": {
      "text/plain": [
       "Text(0, 0.5, 'Sigmoid Scores')"
      ]
     },
     "execution_count": 23,
     "metadata": {},
     "output_type": "execute_result"
    },
    {
     "data": {
      "image/png": "[encoded data removed]",
      "text/plain": [
       "<Figure size 864x432 with 1 Axes>"
      ]
     },
     "metadata": {
      "needs_background": "light"
     },
     "output_type": "display_data"
    }
   ],
   "source": [
    "plt.figure(figsize=(12,6))\n",
    "plt.plot(input_x, output_y)\n",
    "\n",
    "plt.axhline(y=0.5, color='r')\n",
    "plt.axvline(x=0,   color='r')\n",
    "plt.grid()\n",
    "plt.xlabel('Inputs')\n",
    "plt.ylabel('Sigmoid Scores')"
   ]
  },
  {
   "cell_type": "markdown",
   "metadata": {
    "collapsed": true
   },
   "source": [
    "# Summary\n",
    "\n",
    "- Predict 1, if f(x) $\\ge$ 0.5. This happens only when x $\\ge$ 0\n",
    "\n",
    "\n",
    "- predict 0, if f(x) $\\lt$ 0.5. This happens only when x $\\lt$ 0"
   ]
  },
  {
   "cell_type": "code",
   "execution_count": null,
   "metadata": {
    "collapsed": true
   },
   "outputs": [],
   "source": []
  }
 ],
 "metadata": {
  "kernelspec": {
   "display_name": "Python 3",
   "language": "python",
   "name": "python3"
  },
  "language_info": {
   "codemirror_mode": {
    "name": "ipython",
    "version": 3
   },
   "file_extension": ".py",
   "mimetype": "text/x-python",
   "name": "python",
   "nbconvert_exporter": "python",
   "pygments_lexer": "ipython3",
   "version": "3.8.5"
  }
 },
 "nbformat": 4,
 "nbformat_minor": 2
}

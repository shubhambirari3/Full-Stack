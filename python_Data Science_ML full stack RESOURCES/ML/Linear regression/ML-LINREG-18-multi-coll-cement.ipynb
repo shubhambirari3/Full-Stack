{
 "cells": [
  {
   "cell_type": "code",
   "execution_count": 1,
   "metadata": {},
   "outputs": [],
   "source": [
    "import numpy as np\n",
    "import pandas as pd\n",
    "import matplotlib.pyplot as plt\n",
    "\n",
    "from sklearn.linear_model import LinearRegression\n",
    "from sklearn.metrics import r2_score\n",
    "\n",
    "from statsmodels.stats.outliers_influence import variance_inflation_factor\n",
    "\n",
    "from sklearn.model_selection import train_test_split"
   ]
  },
  {
   "cell_type": "code",
   "execution_count": 3,
   "metadata": {},
   "outputs": [],
   "source": [
    "data = pd.read_excel(r\"E:\\Python\\Machine Learning\\datasets\\Concrete_Data.xls\")"
   ]
  },
  {
   "cell_type": "code",
   "execution_count": 4,
   "metadata": {},
   "outputs": [
    {
     "data": {
      "text/html": [
       "<div>\n",
       "<style scoped>\n",
       "    .dataframe tbody tr th:only-of-type {\n",
       "        vertical-align: middle;\n",
       "    }\n",
       "\n",
       "    .dataframe tbody tr th {\n",
       "        vertical-align: top;\n",
       "    }\n",
       "\n",
       "    .dataframe thead th {\n",
       "        text-align: right;\n",
       "    }\n",
       "</style>\n",
       "<table border=\"1\" class=\"dataframe\">\n",
       "  <thead>\n",
       "    <tr style=\"text-align: right;\">\n",
       "      <th></th>\n",
       "      <th>Cement</th>\n",
       "      <th>Blast</th>\n",
       "      <th>Fly_Ash</th>\n",
       "      <th>Water</th>\n",
       "      <th>Superplasticizer</th>\n",
       "      <th>Coarse_Aggregate</th>\n",
       "      <th>Fine_Aggregate</th>\n",
       "      <th>Age</th>\n",
       "      <th>Strength</th>\n",
       "    </tr>\n",
       "  </thead>\n",
       "  <tbody>\n",
       "    <tr>\n",
       "      <th>0</th>\n",
       "      <td>540.0</td>\n",
       "      <td>0.0</td>\n",
       "      <td>0.0</td>\n",
       "      <td>162.0</td>\n",
       "      <td>2.5</td>\n",
       "      <td>1040.0</td>\n",
       "      <td>676.0</td>\n",
       "      <td>28</td>\n",
       "      <td>79.986111</td>\n",
       "    </tr>\n",
       "    <tr>\n",
       "      <th>1</th>\n",
       "      <td>540.0</td>\n",
       "      <td>0.0</td>\n",
       "      <td>0.0</td>\n",
       "      <td>162.0</td>\n",
       "      <td>2.5</td>\n",
       "      <td>1055.0</td>\n",
       "      <td>676.0</td>\n",
       "      <td>28</td>\n",
       "      <td>61.887366</td>\n",
       "    </tr>\n",
       "    <tr>\n",
       "      <th>2</th>\n",
       "      <td>332.5</td>\n",
       "      <td>142.5</td>\n",
       "      <td>0.0</td>\n",
       "      <td>228.0</td>\n",
       "      <td>0.0</td>\n",
       "      <td>932.0</td>\n",
       "      <td>594.0</td>\n",
       "      <td>270</td>\n",
       "      <td>40.269535</td>\n",
       "    </tr>\n",
       "    <tr>\n",
       "      <th>3</th>\n",
       "      <td>332.5</td>\n",
       "      <td>142.5</td>\n",
       "      <td>0.0</td>\n",
       "      <td>228.0</td>\n",
       "      <td>0.0</td>\n",
       "      <td>932.0</td>\n",
       "      <td>594.0</td>\n",
       "      <td>365</td>\n",
       "      <td>41.052780</td>\n",
       "    </tr>\n",
       "    <tr>\n",
       "      <th>4</th>\n",
       "      <td>198.6</td>\n",
       "      <td>132.4</td>\n",
       "      <td>0.0</td>\n",
       "      <td>192.0</td>\n",
       "      <td>0.0</td>\n",
       "      <td>978.4</td>\n",
       "      <td>825.5</td>\n",
       "      <td>360</td>\n",
       "      <td>44.296075</td>\n",
       "    </tr>\n",
       "  </tbody>\n",
       "</table>\n",
       "</div>"
      ],
      "text/plain": [
       "   Cement   Blast   Fly_Ash   Water    Superplasticizer   Coarse_Aggregate    \\\n",
       "0    540.0     0.0       0.0    162.0                2.5              1040.0   \n",
       "1    540.0     0.0       0.0    162.0                2.5              1055.0   \n",
       "2    332.5   142.5       0.0    228.0                0.0               932.0   \n",
       "3    332.5   142.5       0.0    228.0                0.0               932.0   \n",
       "4    198.6   132.4       0.0    192.0                0.0               978.4   \n",
       "\n",
       "   Fine_Aggregate   Age   Strength  \n",
       "0            676.0   28  79.986111  \n",
       "1            676.0   28  61.887366  \n",
       "2            594.0  270  40.269535  \n",
       "3            594.0  365  41.052780  \n",
       "4            825.5  360  44.296075  "
      ]
     },
     "execution_count": 4,
     "metadata": {},
     "output_type": "execute_result"
    }
   ],
   "source": [
    "data.head()"
   ]
  },
  {
   "cell_type": "code",
   "execution_count": 5,
   "metadata": {},
   "outputs": [
    {
     "data": {
      "text/plain": [
       "(1030, 9)"
      ]
     },
     "execution_count": 5,
     "metadata": {},
     "output_type": "execute_result"
    }
   ],
   "source": [
    "data.shape"
   ]
  },
  {
   "cell_type": "code",
   "execution_count": 6,
   "metadata": {},
   "outputs": [
    {
     "data": {
      "text/html": [
       "<div>\n",
       "<style scoped>\n",
       "    .dataframe tbody tr th:only-of-type {\n",
       "        vertical-align: middle;\n",
       "    }\n",
       "\n",
       "    .dataframe tbody tr th {\n",
       "        vertical-align: top;\n",
       "    }\n",
       "\n",
       "    .dataframe thead th {\n",
       "        text-align: right;\n",
       "    }\n",
       "</style>\n",
       "<table border=\"1\" class=\"dataframe\">\n",
       "  <thead>\n",
       "    <tr style=\"text-align: right;\">\n",
       "      <th></th>\n",
       "      <th>Cement</th>\n",
       "      <th>Blast</th>\n",
       "      <th>Fly_Ash</th>\n",
       "      <th>Water</th>\n",
       "      <th>Superplasticizer</th>\n",
       "      <th>Coarse_Aggregate</th>\n",
       "      <th>Fine_Aggregate</th>\n",
       "      <th>Age</th>\n",
       "      <th>Strength</th>\n",
       "    </tr>\n",
       "  </thead>\n",
       "  <tbody>\n",
       "    <tr>\n",
       "      <th>Cement</th>\n",
       "      <td>1.000000</td>\n",
       "      <td>-0.275193</td>\n",
       "      <td>-0.397475</td>\n",
       "      <td>-0.081544</td>\n",
       "      <td>0.092771</td>\n",
       "      <td>-0.109356</td>\n",
       "      <td>-0.222720</td>\n",
       "      <td>0.081947</td>\n",
       "      <td>0.497833</td>\n",
       "    </tr>\n",
       "    <tr>\n",
       "      <th>Blast</th>\n",
       "      <td>-0.275193</td>\n",
       "      <td>1.000000</td>\n",
       "      <td>-0.323569</td>\n",
       "      <td>0.107286</td>\n",
       "      <td>0.043376</td>\n",
       "      <td>-0.283998</td>\n",
       "      <td>-0.281593</td>\n",
       "      <td>-0.044246</td>\n",
       "      <td>0.134824</td>\n",
       "    </tr>\n",
       "    <tr>\n",
       "      <th>Fly_Ash</th>\n",
       "      <td>-0.397475</td>\n",
       "      <td>-0.323569</td>\n",
       "      <td>1.000000</td>\n",
       "      <td>-0.257044</td>\n",
       "      <td>0.377340</td>\n",
       "      <td>-0.009977</td>\n",
       "      <td>0.079076</td>\n",
       "      <td>-0.154370</td>\n",
       "      <td>-0.105753</td>\n",
       "    </tr>\n",
       "    <tr>\n",
       "      <th>Water</th>\n",
       "      <td>-0.081544</td>\n",
       "      <td>0.107286</td>\n",
       "      <td>-0.257044</td>\n",
       "      <td>1.000000</td>\n",
       "      <td>-0.657464</td>\n",
       "      <td>-0.182312</td>\n",
       "      <td>-0.450635</td>\n",
       "      <td>0.277604</td>\n",
       "      <td>-0.289613</td>\n",
       "    </tr>\n",
       "    <tr>\n",
       "      <th>Superplasticizer</th>\n",
       "      <td>0.092771</td>\n",
       "      <td>0.043376</td>\n",
       "      <td>0.377340</td>\n",
       "      <td>-0.657464</td>\n",
       "      <td>1.000000</td>\n",
       "      <td>-0.266303</td>\n",
       "      <td>0.222501</td>\n",
       "      <td>-0.192717</td>\n",
       "      <td>0.366102</td>\n",
       "    </tr>\n",
       "    <tr>\n",
       "      <th>Coarse_Aggregate</th>\n",
       "      <td>-0.109356</td>\n",
       "      <td>-0.283998</td>\n",
       "      <td>-0.009977</td>\n",
       "      <td>-0.182312</td>\n",
       "      <td>-0.266303</td>\n",
       "      <td>1.000000</td>\n",
       "      <td>-0.178506</td>\n",
       "      <td>-0.003016</td>\n",
       "      <td>-0.164928</td>\n",
       "    </tr>\n",
       "    <tr>\n",
       "      <th>Fine_Aggregate</th>\n",
       "      <td>-0.222720</td>\n",
       "      <td>-0.281593</td>\n",
       "      <td>0.079076</td>\n",
       "      <td>-0.450635</td>\n",
       "      <td>0.222501</td>\n",
       "      <td>-0.178506</td>\n",
       "      <td>1.000000</td>\n",
       "      <td>-0.156094</td>\n",
       "      <td>-0.167249</td>\n",
       "    </tr>\n",
       "    <tr>\n",
       "      <th>Age</th>\n",
       "      <td>0.081947</td>\n",
       "      <td>-0.044246</td>\n",
       "      <td>-0.154370</td>\n",
       "      <td>0.277604</td>\n",
       "      <td>-0.192717</td>\n",
       "      <td>-0.003016</td>\n",
       "      <td>-0.156094</td>\n",
       "      <td>1.000000</td>\n",
       "      <td>0.328877</td>\n",
       "    </tr>\n",
       "    <tr>\n",
       "      <th>Strength</th>\n",
       "      <td>0.497833</td>\n",
       "      <td>0.134824</td>\n",
       "      <td>-0.105753</td>\n",
       "      <td>-0.289613</td>\n",
       "      <td>0.366102</td>\n",
       "      <td>-0.164928</td>\n",
       "      <td>-0.167249</td>\n",
       "      <td>0.328877</td>\n",
       "      <td>1.000000</td>\n",
       "    </tr>\n",
       "  </tbody>\n",
       "</table>\n",
       "</div>"
      ],
      "text/plain": [
       "                     Cement     Blast   Fly_Ash    Water    Superplasticizer   \\\n",
       "Cement              1.000000 -0.275193 -0.397475 -0.081544           0.092771   \n",
       "Blast              -0.275193  1.000000 -0.323569  0.107286           0.043376   \n",
       "Fly_Ash            -0.397475 -0.323569  1.000000 -0.257044           0.377340   \n",
       "Water              -0.081544  0.107286 -0.257044  1.000000          -0.657464   \n",
       "Superplasticizer    0.092771  0.043376  0.377340 -0.657464           1.000000   \n",
       "Coarse_Aggregate   -0.109356 -0.283998 -0.009977 -0.182312          -0.266303   \n",
       "Fine_Aggregate     -0.222720 -0.281593  0.079076 -0.450635           0.222501   \n",
       "Age                 0.081947 -0.044246 -0.154370  0.277604          -0.192717   \n",
       "Strength            0.497833  0.134824 -0.105753 -0.289613           0.366102   \n",
       "\n",
       "                    Coarse_Aggregate    Fine_Aggregate        Age  Strength  \n",
       "Cement                       -0.109356        -0.222720  0.081947  0.497833  \n",
       "Blast                        -0.283998        -0.281593 -0.044246  0.134824  \n",
       "Fly_Ash                      -0.009977         0.079076 -0.154370 -0.105753  \n",
       "Water                        -0.182312        -0.450635  0.277604 -0.289613  \n",
       "Superplasticizer             -0.266303         0.222501 -0.192717  0.366102  \n",
       "Coarse_Aggregate              1.000000        -0.178506 -0.003016 -0.164928  \n",
       "Fine_Aggregate               -0.178506         1.000000 -0.156094 -0.167249  \n",
       "Age                          -0.003016        -0.156094  1.000000  0.328877  \n",
       "Strength                     -0.164928        -0.167249  0.328877  1.000000  "
      ]
     },
     "execution_count": 6,
     "metadata": {},
     "output_type": "execute_result"
    }
   ],
   "source": [
    "data.corr()"
   ]
  },
  {
   "cell_type": "code",
   "execution_count": 8,
   "metadata": {},
   "outputs": [
    {
     "data": {
      "text/plain": [
       "Index(['Cement ', 'Blast ', 'Fly_Ash ', 'Water  ', 'Superplasticizer ',\n",
       "       'Coarse_Aggregate  ', 'Fine_Aggregate ', 'Age', 'Strength'],\n",
       "      dtype='object')"
      ]
     },
     "execution_count": 8,
     "metadata": {},
     "output_type": "execute_result"
    }
   ],
   "source": [
    "data.columns"
   ]
  },
  {
   "cell_type": "code",
   "execution_count": 9,
   "metadata": {},
   "outputs": [],
   "source": [
    "data.columns = [i.replace(\" \", 'd') for i in data.columns]"
   ]
  },
  {
   "cell_type": "code",
   "execution_count": 10,
   "metadata": {},
   "outputs": [
    {
     "data": {
      "text/plain": [
       "Index(['Cement', 'Blast', 'Fly_Ash', 'Water', 'Superplasticizer',\n",
       "       'Coarse_Aggregate', 'Fine_Aggregate', 'Age', 'Strength'],\n",
       "      dtype='object')"
      ]
     },
     "execution_count": 10,
     "metadata": {},
     "output_type": "execute_result"
    }
   ],
   "source": [
    "data.columns"
   ]
  },
  {
   "cell_type": "code",
   "execution_count": 12,
   "metadata": {},
   "outputs": [],
   "source": [
    "X = data.iloc[:,0:8]\n",
    "y = data.iloc[:,8]"
   ]
  },
  {
   "cell_type": "code",
   "execution_count": 13,
   "metadata": {},
   "outputs": [],
   "source": [
    "X_train, X_test, y_train, y_test = train_test_split(X, y, test_size = 0.2, random_state = 100) "
   ]
  },
  {
   "cell_type": "code",
   "execution_count": 14,
   "metadata": {},
   "outputs": [
    {
     "data": {
      "text/plain": [
       "Index(['Cement', 'Blast', 'Fly_Ash', 'Water', 'Superplasticizer',\n",
       "       'Coarse_Aggregate', 'Fine_Aggregate', 'Age'],\n",
       "      dtype='object')"
      ]
     },
     "execution_count": 14,
     "metadata": {},
     "output_type": "execute_result"
    }
   ],
   "source": [
    "X_train.columns"
   ]
  },
  {
   "cell_type": "code",
   "execution_count": 15,
   "metadata": {},
   "outputs": [],
   "source": [
    "from sklearn.linear_model import LinearRegression"
   ]
  },
  {
   "cell_type": "code",
   "execution_count": 16,
   "metadata": {},
   "outputs": [],
   "source": [
    "lm = LinearRegression()\n",
    "lm = lm.fit(X_train, y_train)   "
   ]
  },
  {
   "cell_type": "code",
   "execution_count": 17,
   "metadata": {},
   "outputs": [
    {
     "data": {
      "text/plain": [
       "array([ 0.12412584,  0.10364144,  0.09337278, -0.13472684,  0.28645156,\n",
       "        0.02059513,  0.02558215,  0.11462178])"
      ]
     },
     "execution_count": 17,
     "metadata": {},
     "output_type": "execute_result"
    }
   ],
   "source": [
    "lm.coef_"
   ]
  },
  {
   "cell_type": "code",
   "execution_count": 19,
   "metadata": {},
   "outputs": [
    {
     "data": {
      "text/plain": [
       "(8,)"
      ]
     },
     "execution_count": 19,
     "metadata": {},
     "output_type": "execute_result"
    }
   ],
   "source": [
    "np.transpose(lm.coef_).shape"
   ]
  },
  {
   "cell_type": "code",
   "execution_count": 27,
   "metadata": {},
   "outputs": [
    {
     "data": {
      "text/plain": [
       "Int64Index([ 337,  384,  805,  682,  329,  270,  729,   98,  152,   73,\n",
       "            ...\n",
       "             228,  655,  280,  752, 1009,  802,   53,  350,   79,  792],\n",
       "           dtype='int64', length=824)"
      ]
     },
     "execution_count": 27,
     "metadata": {},
     "output_type": "execute_result"
    }
   ],
   "source": [
    "y_train.index"
   ]
  },
  {
   "cell_type": "code",
   "execution_count": 25,
   "metadata": {},
   "outputs": [
    {
     "data": {
      "text/plain": [
       "Index(['Cement', 'Blast', 'Fly_Ash', 'Water', 'Superplasticizer',\n",
       "       'Coarse_Aggregate', 'Fine_Aggregate', 'Age'],\n",
       "      dtype='object')"
      ]
     },
     "execution_count": 25,
     "metadata": {},
     "output_type": "execute_result"
    }
   ],
   "source": [
    "X_train.columns"
   ]
  },
  {
   "cell_type": "code",
   "execution_count": 21,
   "metadata": {},
   "outputs": [
    {
     "data": {
      "text/html": [
       "<div>\n",
       "<style scoped>\n",
       "    .dataframe tbody tr th:only-of-type {\n",
       "        vertical-align: middle;\n",
       "    }\n",
       "\n",
       "    .dataframe tbody tr th {\n",
       "        vertical-align: top;\n",
       "    }\n",
       "\n",
       "    .dataframe thead th {\n",
       "        text-align: right;\n",
       "    }\n",
       "</style>\n",
       "<table border=\"1\" class=\"dataframe\">\n",
       "  <thead>\n",
       "    <tr style=\"text-align: right;\">\n",
       "      <th></th>\n",
       "      <th>0</th>\n",
       "      <th>0</th>\n",
       "    </tr>\n",
       "  </thead>\n",
       "  <tbody>\n",
       "    <tr>\n",
       "      <th>0</th>\n",
       "      <td>Cement</td>\n",
       "      <td>0.124126</td>\n",
       "    </tr>\n",
       "    <tr>\n",
       "      <th>1</th>\n",
       "      <td>Blast</td>\n",
       "      <td>0.103641</td>\n",
       "    </tr>\n",
       "    <tr>\n",
       "      <th>2</th>\n",
       "      <td>Fly_Ash</td>\n",
       "      <td>0.093373</td>\n",
       "    </tr>\n",
       "    <tr>\n",
       "      <th>3</th>\n",
       "      <td>Water</td>\n",
       "      <td>-0.134727</td>\n",
       "    </tr>\n",
       "    <tr>\n",
       "      <th>4</th>\n",
       "      <td>Superplasticizer</td>\n",
       "      <td>0.286452</td>\n",
       "    </tr>\n",
       "    <tr>\n",
       "      <th>5</th>\n",
       "      <td>Coarse_Aggregate</td>\n",
       "      <td>0.020595</td>\n",
       "    </tr>\n",
       "    <tr>\n",
       "      <th>6</th>\n",
       "      <td>Fine_Aggregate</td>\n",
       "      <td>0.025582</td>\n",
       "    </tr>\n",
       "    <tr>\n",
       "      <th>7</th>\n",
       "      <td>Age</td>\n",
       "      <td>0.114622</td>\n",
       "    </tr>\n",
       "  </tbody>\n",
       "</table>\n",
       "</div>"
      ],
      "text/plain": [
       "                  0         0\n",
       "0            Cement  0.124126\n",
       "1             Blast  0.103641\n",
       "2           Fly_Ash  0.093373\n",
       "3             Water -0.134727\n",
       "4  Superplasticizer  0.286452\n",
       "5  Coarse_Aggregate  0.020595\n",
       "6    Fine_Aggregate  0.025582\n",
       "7               Age  0.114622"
      ]
     },
     "execution_count": 21,
     "metadata": {},
     "output_type": "execute_result"
    }
   ],
   "source": [
    "coefficients = pd.concat([pd.DataFrame(X_train.columns),pd.DataFrame(lm.coef_)], axis = 1)\n",
    "coefficients"
   ]
  },
  {
   "cell_type": "code",
   "execution_count": 22,
   "metadata": {},
   "outputs": [
    {
     "data": {
      "text/plain": [
       "pandas.core.frame.DataFrame"
      ]
     },
     "execution_count": 22,
     "metadata": {},
     "output_type": "execute_result"
    }
   ],
   "source": [
    "type(coefficients)"
   ]
  },
  {
   "cell_type": "code",
   "execution_count": 14,
   "metadata": {},
   "outputs": [
    {
     "data": {
      "text/plain": [
       "-34.07671967499375"
      ]
     },
     "execution_count": 14,
     "metadata": {},
     "output_type": "execute_result"
    }
   ],
   "source": [
    "lm.intercept_"
   ]
  },
  {
   "cell_type": "code",
   "execution_count": 15,
   "metadata": {},
   "outputs": [],
   "source": [
    "# To predict the values of y on the test set we use lm.predict( )\n",
    "y_pred = lm.predict(X_test)"
   ]
  },
  {
   "cell_type": "code",
   "execution_count": 16,
   "metadata": {},
   "outputs": [
    {
     "data": {
      "text/plain": [
       "-102.69433261787876"
      ]
     },
     "execution_count": 16,
     "metadata": {},
     "output_type": "execute_result"
    }
   ],
   "source": [
    "# Errors are the difference between observed and predicted values.\n",
    "y_error = y_test - y_pred\n",
    "sum(y_error)"
   ]
  },
  {
   "cell_type": "code",
   "execution_count": 17,
   "metadata": {},
   "outputs": [
    {
     "data": {
      "text/plain": [
       "0.6224930131827437"
      ]
     },
     "execution_count": 17,
     "metadata": {},
     "output_type": "execute_result"
    }
   ],
   "source": [
    "from sklearn.metrics import r2_score\n",
    "r2_score(y_test, y_pred)"
   ]
  },
  {
   "cell_type": "code",
   "execution_count": 29,
   "metadata": {},
   "outputs": [
    {
     "data": {
      "text/html": [
       "<div>\n",
       "<style scoped>\n",
       "    .dataframe tbody tr th:only-of-type {\n",
       "        vertical-align: middle;\n",
       "    }\n",
       "\n",
       "    .dataframe tbody tr th {\n",
       "        vertical-align: top;\n",
       "    }\n",
       "\n",
       "    .dataframe thead th {\n",
       "        text-align: right;\n",
       "    }\n",
       "</style>\n",
       "<table border=\"1\" class=\"dataframe\">\n",
       "  <thead>\n",
       "    <tr style=\"text-align: right;\">\n",
       "      <th></th>\n",
       "      <th>Cement</th>\n",
       "      <th>Blast</th>\n",
       "      <th>Fly_Ash</th>\n",
       "      <th>Water</th>\n",
       "      <th>Superplasticizer</th>\n",
       "      <th>Coarse_Aggregate</th>\n",
       "      <th>Fine_Aggregate</th>\n",
       "      <th>Age</th>\n",
       "    </tr>\n",
       "  </thead>\n",
       "  <tbody>\n",
       "    <tr>\n",
       "      <th>337</th>\n",
       "      <td>275.07</td>\n",
       "      <td>0.0</td>\n",
       "      <td>121.35</td>\n",
       "      <td>159.48</td>\n",
       "      <td>9.90</td>\n",
       "      <td>1053.6</td>\n",
       "      <td>777.50</td>\n",
       "      <td>56</td>\n",
       "    </tr>\n",
       "    <tr>\n",
       "      <th>384</th>\n",
       "      <td>516.00</td>\n",
       "      <td>0.0</td>\n",
       "      <td>0.00</td>\n",
       "      <td>162.00</td>\n",
       "      <td>8.20</td>\n",
       "      <td>801.0</td>\n",
       "      <td>802.00</td>\n",
       "      <td>28</td>\n",
       "    </tr>\n",
       "    <tr>\n",
       "      <th>805</th>\n",
       "      <td>393.00</td>\n",
       "      <td>0.0</td>\n",
       "      <td>0.00</td>\n",
       "      <td>192.00</td>\n",
       "      <td>0.00</td>\n",
       "      <td>940.0</td>\n",
       "      <td>758.00</td>\n",
       "      <td>90</td>\n",
       "    </tr>\n",
       "    <tr>\n",
       "      <th>682</th>\n",
       "      <td>183.90</td>\n",
       "      <td>122.6</td>\n",
       "      <td>0.00</td>\n",
       "      <td>203.50</td>\n",
       "      <td>0.00</td>\n",
       "      <td>959.2</td>\n",
       "      <td>800.00</td>\n",
       "      <td>28</td>\n",
       "    </tr>\n",
       "    <tr>\n",
       "      <th>329</th>\n",
       "      <td>246.83</td>\n",
       "      <td>0.0</td>\n",
       "      <td>125.08</td>\n",
       "      <td>143.30</td>\n",
       "      <td>11.99</td>\n",
       "      <td>1086.8</td>\n",
       "      <td>800.89</td>\n",
       "      <td>3</td>\n",
       "    </tr>\n",
       "  </tbody>\n",
       "</table>\n",
       "</div>"
      ],
      "text/plain": [
       "     Cement  Blast  Fly_Ash   Water  Superplasticizer  Coarse_Aggregate  \\\n",
       "337  275.07    0.0   121.35  159.48              9.90            1053.6   \n",
       "384  516.00    0.0     0.00  162.00              8.20             801.0   \n",
       "805  393.00    0.0     0.00  192.00              0.00             940.0   \n",
       "682  183.90  122.6     0.00  203.50              0.00             959.2   \n",
       "329  246.83    0.0   125.08  143.30             11.99            1086.8   \n",
       "\n",
       "     Fine_Aggregate  Age  \n",
       "337          777.50   56  \n",
       "384          802.00   28  \n",
       "805          758.00   90  \n",
       "682          800.00   28  \n",
       "329          800.89    3  "
      ]
     },
     "execution_count": 29,
     "metadata": {},
     "output_type": "execute_result"
    }
   ],
   "source": [
    "X_train.head()"
   ]
  },
  {
   "cell_type": "markdown",
   "metadata": {},
   "source": [
    "#### Running linear regression using statsmodels"
   ]
  },
  {
   "cell_type": "code",
   "execution_count": 30,
   "metadata": {},
   "outputs": [],
   "source": [
    "import statsmodels.api as sa\n",
    "import statsmodels.formula.api as sfm"
   ]
  },
  {
   "cell_type": "code",
   "execution_count": 31,
   "metadata": {},
   "outputs": [],
   "source": [
    "X_train = sa.add_constant(X_train) ## let's add an intercept (beta_0) to our model\n",
    "X_test  = sa.add_constant(X_test) "
   ]
  },
  {
   "cell_type": "code",
   "execution_count": 32,
   "metadata": {},
   "outputs": [
    {
     "data": {
      "text/html": [
       "<div>\n",
       "<style scoped>\n",
       "    .dataframe tbody tr th:only-of-type {\n",
       "        vertical-align: middle;\n",
       "    }\n",
       "\n",
       "    .dataframe tbody tr th {\n",
       "        vertical-align: top;\n",
       "    }\n",
       "\n",
       "    .dataframe thead th {\n",
       "        text-align: right;\n",
       "    }\n",
       "</style>\n",
       "<table border=\"1\" class=\"dataframe\">\n",
       "  <thead>\n",
       "    <tr style=\"text-align: right;\">\n",
       "      <th></th>\n",
       "      <th>const</th>\n",
       "      <th>Cement</th>\n",
       "      <th>Blast</th>\n",
       "      <th>Fly_Ash</th>\n",
       "      <th>Water</th>\n",
       "      <th>Superplasticizer</th>\n",
       "      <th>Coarse_Aggregate</th>\n",
       "      <th>Fine_Aggregate</th>\n",
       "      <th>Age</th>\n",
       "    </tr>\n",
       "  </thead>\n",
       "  <tbody>\n",
       "    <tr>\n",
       "      <th>337</th>\n",
       "      <td>1.0</td>\n",
       "      <td>275.07</td>\n",
       "      <td>0.0</td>\n",
       "      <td>121.35</td>\n",
       "      <td>159.48</td>\n",
       "      <td>9.90</td>\n",
       "      <td>1053.6</td>\n",
       "      <td>777.50</td>\n",
       "      <td>56</td>\n",
       "    </tr>\n",
       "    <tr>\n",
       "      <th>384</th>\n",
       "      <td>1.0</td>\n",
       "      <td>516.00</td>\n",
       "      <td>0.0</td>\n",
       "      <td>0.00</td>\n",
       "      <td>162.00</td>\n",
       "      <td>8.20</td>\n",
       "      <td>801.0</td>\n",
       "      <td>802.00</td>\n",
       "      <td>28</td>\n",
       "    </tr>\n",
       "    <tr>\n",
       "      <th>805</th>\n",
       "      <td>1.0</td>\n",
       "      <td>393.00</td>\n",
       "      <td>0.0</td>\n",
       "      <td>0.00</td>\n",
       "      <td>192.00</td>\n",
       "      <td>0.00</td>\n",
       "      <td>940.0</td>\n",
       "      <td>758.00</td>\n",
       "      <td>90</td>\n",
       "    </tr>\n",
       "    <tr>\n",
       "      <th>682</th>\n",
       "      <td>1.0</td>\n",
       "      <td>183.90</td>\n",
       "      <td>122.6</td>\n",
       "      <td>0.00</td>\n",
       "      <td>203.50</td>\n",
       "      <td>0.00</td>\n",
       "      <td>959.2</td>\n",
       "      <td>800.00</td>\n",
       "      <td>28</td>\n",
       "    </tr>\n",
       "    <tr>\n",
       "      <th>329</th>\n",
       "      <td>1.0</td>\n",
       "      <td>246.83</td>\n",
       "      <td>0.0</td>\n",
       "      <td>125.08</td>\n",
       "      <td>143.30</td>\n",
       "      <td>11.99</td>\n",
       "      <td>1086.8</td>\n",
       "      <td>800.89</td>\n",
       "      <td>3</td>\n",
       "    </tr>\n",
       "  </tbody>\n",
       "</table>\n",
       "</div>"
      ],
      "text/plain": [
       "     const  Cement  Blast  Fly_Ash   Water  Superplasticizer  \\\n",
       "337    1.0  275.07    0.0   121.35  159.48              9.90   \n",
       "384    1.0  516.00    0.0     0.00  162.00              8.20   \n",
       "805    1.0  393.00    0.0     0.00  192.00              0.00   \n",
       "682    1.0  183.90  122.6     0.00  203.50              0.00   \n",
       "329    1.0  246.83    0.0   125.08  143.30             11.99   \n",
       "\n",
       "     Coarse_Aggregate  Fine_Aggregate  Age  \n",
       "337            1053.6          777.50   56  \n",
       "384             801.0          802.00   28  \n",
       "805             940.0          758.00   90  \n",
       "682             959.2          800.00   28  \n",
       "329            1086.8          800.89    3  "
      ]
     },
     "execution_count": 32,
     "metadata": {},
     "output_type": "execute_result"
    }
   ],
   "source": [
    "X_train.head()"
   ]
  },
  {
   "cell_type": "code",
   "execution_count": 20,
   "metadata": {},
   "outputs": [
    {
     "data": {
      "text/plain": [
       "Index(['const', 'Cement', 'Blast', 'Fly_Ash', 'Water', 'Superplasticizer',\n",
       "       'Coarse_Aggregate', 'Fine_Aggregate', 'Age'],\n",
       "      dtype='object')"
      ]
     },
     "execution_count": 20,
     "metadata": {},
     "output_type": "execute_result"
    }
   ],
   "source": [
    "X_train.columns"
   ]
  },
  {
   "cell_type": "code",
   "execution_count": 21,
   "metadata": {},
   "outputs": [
    {
     "data": {
      "text/html": [
       "<div>\n",
       "<style scoped>\n",
       "    .dataframe tbody tr th:only-of-type {\n",
       "        vertical-align: middle;\n",
       "    }\n",
       "\n",
       "    .dataframe tbody tr th {\n",
       "        vertical-align: top;\n",
       "    }\n",
       "\n",
       "    .dataframe thead th {\n",
       "        text-align: right;\n",
       "    }\n",
       "</style>\n",
       "<table border=\"1\" class=\"dataframe\">\n",
       "  <thead>\n",
       "    <tr style=\"text-align: right;\">\n",
       "      <th></th>\n",
       "      <th>const</th>\n",
       "      <th>Cement</th>\n",
       "      <th>Blast</th>\n",
       "      <th>Fly_Ash</th>\n",
       "      <th>Water</th>\n",
       "      <th>Superplasticizer</th>\n",
       "      <th>Coarse_Aggregate</th>\n",
       "      <th>Fine_Aggregate</th>\n",
       "      <th>Age</th>\n",
       "    </tr>\n",
       "  </thead>\n",
       "  <tbody>\n",
       "    <tr>\n",
       "      <th>337</th>\n",
       "      <td>1.0</td>\n",
       "      <td>275.07</td>\n",
       "      <td>0.0</td>\n",
       "      <td>121.35</td>\n",
       "      <td>159.48</td>\n",
       "      <td>9.90</td>\n",
       "      <td>1053.6</td>\n",
       "      <td>777.50</td>\n",
       "      <td>56</td>\n",
       "    </tr>\n",
       "    <tr>\n",
       "      <th>384</th>\n",
       "      <td>1.0</td>\n",
       "      <td>516.00</td>\n",
       "      <td>0.0</td>\n",
       "      <td>0.00</td>\n",
       "      <td>162.00</td>\n",
       "      <td>8.20</td>\n",
       "      <td>801.0</td>\n",
       "      <td>802.00</td>\n",
       "      <td>28</td>\n",
       "    </tr>\n",
       "    <tr>\n",
       "      <th>805</th>\n",
       "      <td>1.0</td>\n",
       "      <td>393.00</td>\n",
       "      <td>0.0</td>\n",
       "      <td>0.00</td>\n",
       "      <td>192.00</td>\n",
       "      <td>0.00</td>\n",
       "      <td>940.0</td>\n",
       "      <td>758.00</td>\n",
       "      <td>90</td>\n",
       "    </tr>\n",
       "    <tr>\n",
       "      <th>682</th>\n",
       "      <td>1.0</td>\n",
       "      <td>183.90</td>\n",
       "      <td>122.6</td>\n",
       "      <td>0.00</td>\n",
       "      <td>203.50</td>\n",
       "      <td>0.00</td>\n",
       "      <td>959.2</td>\n",
       "      <td>800.00</td>\n",
       "      <td>28</td>\n",
       "    </tr>\n",
       "    <tr>\n",
       "      <th>329</th>\n",
       "      <td>1.0</td>\n",
       "      <td>246.83</td>\n",
       "      <td>0.0</td>\n",
       "      <td>125.08</td>\n",
       "      <td>143.30</td>\n",
       "      <td>11.99</td>\n",
       "      <td>1086.8</td>\n",
       "      <td>800.89</td>\n",
       "      <td>3</td>\n",
       "    </tr>\n",
       "  </tbody>\n",
       "</table>\n",
       "</div>"
      ],
      "text/plain": [
       "     const  Cement  Blast  Fly_Ash   Water  Superplasticizer  \\\n",
       "337    1.0  275.07    0.0   121.35  159.48              9.90   \n",
       "384    1.0  516.00    0.0     0.00  162.00              8.20   \n",
       "805    1.0  393.00    0.0     0.00  192.00              0.00   \n",
       "682    1.0  183.90  122.6     0.00  203.50              0.00   \n",
       "329    1.0  246.83    0.0   125.08  143.30             11.99   \n",
       "\n",
       "     Coarse_Aggregate  Fine_Aggregate  Age  \n",
       "337            1053.6          777.50   56  \n",
       "384             801.0          802.00   28  \n",
       "805             940.0          758.00   90  \n",
       "682             959.2          800.00   28  \n",
       "329            1086.8          800.89    3  "
      ]
     },
     "execution_count": 21,
     "metadata": {},
     "output_type": "execute_result"
    }
   ],
   "source": [
    "X_train.head()"
   ]
  },
  {
   "cell_type": "code",
   "execution_count": 22,
   "metadata": {},
   "outputs": [
    {
     "data": {
      "text/html": [
       "<div>\n",
       "<style scoped>\n",
       "    .dataframe tbody tr th:only-of-type {\n",
       "        vertical-align: middle;\n",
       "    }\n",
       "\n",
       "    .dataframe tbody tr th {\n",
       "        vertical-align: top;\n",
       "    }\n",
       "\n",
       "    .dataframe thead th {\n",
       "        text-align: right;\n",
       "    }\n",
       "</style>\n",
       "<table border=\"1\" class=\"dataframe\">\n",
       "  <thead>\n",
       "    <tr style=\"text-align: right;\">\n",
       "      <th></th>\n",
       "      <th>const</th>\n",
       "      <th>Cement</th>\n",
       "      <th>Blast</th>\n",
       "      <th>Fly_Ash</th>\n",
       "      <th>Water</th>\n",
       "      <th>Superplasticizer</th>\n",
       "      <th>Coarse_Aggregate</th>\n",
       "      <th>Fine_Aggregate</th>\n",
       "      <th>Age</th>\n",
       "    </tr>\n",
       "  </thead>\n",
       "  <tbody>\n",
       "    <tr>\n",
       "      <th>173</th>\n",
       "      <td>1.0</td>\n",
       "      <td>318.80</td>\n",
       "      <td>212.5</td>\n",
       "      <td>0.00</td>\n",
       "      <td>155.70</td>\n",
       "      <td>14.300</td>\n",
       "      <td>852.10</td>\n",
       "      <td>880.40</td>\n",
       "      <td>91</td>\n",
       "    </tr>\n",
       "    <tr>\n",
       "      <th>134</th>\n",
       "      <td>1.0</td>\n",
       "      <td>362.60</td>\n",
       "      <td>189.0</td>\n",
       "      <td>0.00</td>\n",
       "      <td>164.90</td>\n",
       "      <td>11.600</td>\n",
       "      <td>944.70</td>\n",
       "      <td>755.80</td>\n",
       "      <td>28</td>\n",
       "    </tr>\n",
       "    <tr>\n",
       "      <th>822</th>\n",
       "      <td>1.0</td>\n",
       "      <td>322.00</td>\n",
       "      <td>0.0</td>\n",
       "      <td>0.00</td>\n",
       "      <td>203.00</td>\n",
       "      <td>0.000</td>\n",
       "      <td>974.00</td>\n",
       "      <td>800.00</td>\n",
       "      <td>28</td>\n",
       "    </tr>\n",
       "    <tr>\n",
       "      <th>264</th>\n",
       "      <td>1.0</td>\n",
       "      <td>212.00</td>\n",
       "      <td>0.0</td>\n",
       "      <td>124.78</td>\n",
       "      <td>159.00</td>\n",
       "      <td>7.840</td>\n",
       "      <td>1085.40</td>\n",
       "      <td>799.54</td>\n",
       "      <td>3</td>\n",
       "    </tr>\n",
       "    <tr>\n",
       "      <th>479</th>\n",
       "      <td>1.0</td>\n",
       "      <td>446.00</td>\n",
       "      <td>24.0</td>\n",
       "      <td>79.00</td>\n",
       "      <td>162.00</td>\n",
       "      <td>11.640</td>\n",
       "      <td>967.00</td>\n",
       "      <td>712.00</td>\n",
       "      <td>7</td>\n",
       "    </tr>\n",
       "    <tr>\n",
       "      <th>...</th>\n",
       "      <td>...</td>\n",
       "      <td>...</td>\n",
       "      <td>...</td>\n",
       "      <td>...</td>\n",
       "      <td>...</td>\n",
       "      <td>...</td>\n",
       "      <td>...</td>\n",
       "      <td>...</td>\n",
       "      <td>...</td>\n",
       "    </tr>\n",
       "    <tr>\n",
       "      <th>247</th>\n",
       "      <td>1.0</td>\n",
       "      <td>238.05</td>\n",
       "      <td>0.0</td>\n",
       "      <td>94.11</td>\n",
       "      <td>186.66</td>\n",
       "      <td>7.000</td>\n",
       "      <td>949.91</td>\n",
       "      <td>847.01</td>\n",
       "      <td>56</td>\n",
       "    </tr>\n",
       "    <tr>\n",
       "      <th>207</th>\n",
       "      <td>1.0</td>\n",
       "      <td>212.07</td>\n",
       "      <td>0.0</td>\n",
       "      <td>121.62</td>\n",
       "      <td>180.31</td>\n",
       "      <td>5.690</td>\n",
       "      <td>1057.60</td>\n",
       "      <td>779.32</td>\n",
       "      <td>56</td>\n",
       "    </tr>\n",
       "    <tr>\n",
       "      <th>672</th>\n",
       "      <td>1.0</td>\n",
       "      <td>173.00</td>\n",
       "      <td>116.0</td>\n",
       "      <td>0.00</td>\n",
       "      <td>192.00</td>\n",
       "      <td>0.000</td>\n",
       "      <td>946.80</td>\n",
       "      <td>856.80</td>\n",
       "      <td>3</td>\n",
       "    </tr>\n",
       "    <tr>\n",
       "      <th>191</th>\n",
       "      <td>1.0</td>\n",
       "      <td>233.81</td>\n",
       "      <td>0.0</td>\n",
       "      <td>94.58</td>\n",
       "      <td>197.89</td>\n",
       "      <td>4.567</td>\n",
       "      <td>947.04</td>\n",
       "      <td>852.16</td>\n",
       "      <td>28</td>\n",
       "    </tr>\n",
       "    <tr>\n",
       "      <th>378</th>\n",
       "      <td>1.0</td>\n",
       "      <td>376.00</td>\n",
       "      <td>0.0</td>\n",
       "      <td>0.00</td>\n",
       "      <td>214.60</td>\n",
       "      <td>0.000</td>\n",
       "      <td>1003.50</td>\n",
       "      <td>762.36</td>\n",
       "      <td>100</td>\n",
       "    </tr>\n",
       "  </tbody>\n",
       "</table>\n",
       "<p>206 rows × 9 columns</p>\n",
       "</div>"
      ],
      "text/plain": [
       "     const  Cement  Blast  Fly_Ash   Water  Superplasticizer  \\\n",
       "173    1.0  318.80  212.5     0.00  155.70            14.300   \n",
       "134    1.0  362.60  189.0     0.00  164.90            11.600   \n",
       "822    1.0  322.00    0.0     0.00  203.00             0.000   \n",
       "264    1.0  212.00    0.0   124.78  159.00             7.840   \n",
       "479    1.0  446.00   24.0    79.00  162.00            11.640   \n",
       "..     ...     ...    ...      ...     ...               ...   \n",
       "247    1.0  238.05    0.0    94.11  186.66             7.000   \n",
       "207    1.0  212.07    0.0   121.62  180.31             5.690   \n",
       "672    1.0  173.00  116.0     0.00  192.00             0.000   \n",
       "191    1.0  233.81    0.0    94.58  197.89             4.567   \n",
       "378    1.0  376.00    0.0     0.00  214.60             0.000   \n",
       "\n",
       "     Coarse_Aggregate  Fine_Aggregate  Age  \n",
       "173            852.10          880.40   91  \n",
       "134            944.70          755.80   28  \n",
       "822            974.00          800.00   28  \n",
       "264           1085.40          799.54    3  \n",
       "479            967.00          712.00    7  \n",
       "..                ...             ...  ...  \n",
       "247            949.91          847.01   56  \n",
       "207           1057.60          779.32   56  \n",
       "672            946.80          856.80    3  \n",
       "191            947.04          852.16   28  \n",
       "378           1003.50          762.36  100  \n",
       "\n",
       "[206 rows x 9 columns]"
      ]
     },
     "execution_count": 22,
     "metadata": {},
     "output_type": "execute_result"
    }
   ],
   "source": [
    "X_test"
   ]
  },
  {
   "cell_type": "code",
   "execution_count": 23,
   "metadata": {},
   "outputs": [
    {
     "data": {
      "text/plain": [
       "(824,)"
      ]
     },
     "execution_count": 23,
     "metadata": {},
     "output_type": "execute_result"
    }
   ],
   "source": [
    "y_train.shape"
   ]
  },
  {
   "cell_type": "code",
   "execution_count": 24,
   "metadata": {},
   "outputs": [
    {
     "data": {
      "text/plain": [
       "(824, 9)"
      ]
     },
     "execution_count": 24,
     "metadata": {},
     "output_type": "execute_result"
    }
   ],
   "source": [
    "X_train.shape"
   ]
  },
  {
   "cell_type": "code",
   "execution_count": 26,
   "metadata": {},
   "outputs": [
    {
     "data": {
      "text/plain": [
       "pandas.core.indexes.base.Index"
      ]
     },
     "execution_count": 26,
     "metadata": {},
     "output_type": "execute_result"
    }
   ],
   "source": [
    "type(data.columns)"
   ]
  },
  {
   "cell_type": "code",
   "execution_count": 25,
   "metadata": {},
   "outputs": [
    {
     "data": {
      "text/plain": [
       "Index(['Cement', 'Blast', 'Fly_Ash', 'Water', 'Superplasticizer',\n",
       "       'Coarse_Aggregate', 'Fine_Aggregate', 'Age', 'Strength'],\n",
       "      dtype='object')"
      ]
     },
     "execution_count": 25,
     "metadata": {},
     "output_type": "execute_result"
    }
   ],
   "source": [
    "data.columns"
   ]
  },
  {
   "cell_type": "code",
   "execution_count": 26,
   "metadata": {},
   "outputs": [
    {
     "data": {
      "text/html": [
       "<div>\n",
       "<style scoped>\n",
       "    .dataframe tbody tr th:only-of-type {\n",
       "        vertical-align: middle;\n",
       "    }\n",
       "\n",
       "    .dataframe tbody tr th {\n",
       "        vertical-align: top;\n",
       "    }\n",
       "\n",
       "    .dataframe thead th {\n",
       "        text-align: right;\n",
       "    }\n",
       "</style>\n",
       "<table border=\"1\" class=\"dataframe\">\n",
       "  <thead>\n",
       "    <tr style=\"text-align: right;\">\n",
       "      <th></th>\n",
       "      <th>Cement</th>\n",
       "      <th>Blast</th>\n",
       "      <th>Fly_Ash</th>\n",
       "      <th>Water</th>\n",
       "      <th>Superplasticizer</th>\n",
       "      <th>Coarse_Aggregate</th>\n",
       "      <th>Fine_Aggregate</th>\n",
       "      <th>Age</th>\n",
       "      <th>Strength</th>\n",
       "    </tr>\n",
       "  </thead>\n",
       "  <tbody>\n",
       "    <tr>\n",
       "      <th>Cement</th>\n",
       "      <td>1.000000</td>\n",
       "      <td>-0.275193</td>\n",
       "      <td>-0.397475</td>\n",
       "      <td>-0.081544</td>\n",
       "      <td>0.092771</td>\n",
       "      <td>-0.109356</td>\n",
       "      <td>-0.222720</td>\n",
       "      <td>0.081947</td>\n",
       "      <td>0.497833</td>\n",
       "    </tr>\n",
       "    <tr>\n",
       "      <th>Blast</th>\n",
       "      <td>-0.275193</td>\n",
       "      <td>1.000000</td>\n",
       "      <td>-0.323569</td>\n",
       "      <td>0.107286</td>\n",
       "      <td>0.043376</td>\n",
       "      <td>-0.283998</td>\n",
       "      <td>-0.281593</td>\n",
       "      <td>-0.044246</td>\n",
       "      <td>0.134824</td>\n",
       "    </tr>\n",
       "    <tr>\n",
       "      <th>Fly_Ash</th>\n",
       "      <td>-0.397475</td>\n",
       "      <td>-0.323569</td>\n",
       "      <td>1.000000</td>\n",
       "      <td>-0.257044</td>\n",
       "      <td>0.377340</td>\n",
       "      <td>-0.009977</td>\n",
       "      <td>0.079076</td>\n",
       "      <td>-0.154370</td>\n",
       "      <td>-0.105753</td>\n",
       "    </tr>\n",
       "    <tr>\n",
       "      <th>Water</th>\n",
       "      <td>-0.081544</td>\n",
       "      <td>0.107286</td>\n",
       "      <td>-0.257044</td>\n",
       "      <td>1.000000</td>\n",
       "      <td>-0.657464</td>\n",
       "      <td>-0.182312</td>\n",
       "      <td>-0.450635</td>\n",
       "      <td>0.277604</td>\n",
       "      <td>-0.289613</td>\n",
       "    </tr>\n",
       "    <tr>\n",
       "      <th>Superplasticizer</th>\n",
       "      <td>0.092771</td>\n",
       "      <td>0.043376</td>\n",
       "      <td>0.377340</td>\n",
       "      <td>-0.657464</td>\n",
       "      <td>1.000000</td>\n",
       "      <td>-0.266303</td>\n",
       "      <td>0.222501</td>\n",
       "      <td>-0.192717</td>\n",
       "      <td>0.366102</td>\n",
       "    </tr>\n",
       "    <tr>\n",
       "      <th>Coarse_Aggregate</th>\n",
       "      <td>-0.109356</td>\n",
       "      <td>-0.283998</td>\n",
       "      <td>-0.009977</td>\n",
       "      <td>-0.182312</td>\n",
       "      <td>-0.266303</td>\n",
       "      <td>1.000000</td>\n",
       "      <td>-0.178506</td>\n",
       "      <td>-0.003016</td>\n",
       "      <td>-0.164928</td>\n",
       "    </tr>\n",
       "    <tr>\n",
       "      <th>Fine_Aggregate</th>\n",
       "      <td>-0.222720</td>\n",
       "      <td>-0.281593</td>\n",
       "      <td>0.079076</td>\n",
       "      <td>-0.450635</td>\n",
       "      <td>0.222501</td>\n",
       "      <td>-0.178506</td>\n",
       "      <td>1.000000</td>\n",
       "      <td>-0.156094</td>\n",
       "      <td>-0.167249</td>\n",
       "    </tr>\n",
       "    <tr>\n",
       "      <th>Age</th>\n",
       "      <td>0.081947</td>\n",
       "      <td>-0.044246</td>\n",
       "      <td>-0.154370</td>\n",
       "      <td>0.277604</td>\n",
       "      <td>-0.192717</td>\n",
       "      <td>-0.003016</td>\n",
       "      <td>-0.156094</td>\n",
       "      <td>1.000000</td>\n",
       "      <td>0.328877</td>\n",
       "    </tr>\n",
       "    <tr>\n",
       "      <th>Strength</th>\n",
       "      <td>0.497833</td>\n",
       "      <td>0.134824</td>\n",
       "      <td>-0.105753</td>\n",
       "      <td>-0.289613</td>\n",
       "      <td>0.366102</td>\n",
       "      <td>-0.164928</td>\n",
       "      <td>-0.167249</td>\n",
       "      <td>0.328877</td>\n",
       "      <td>1.000000</td>\n",
       "    </tr>\n",
       "  </tbody>\n",
       "</table>\n",
       "</div>"
      ],
      "text/plain": [
       "                    Cement     Blast   Fly_Ash     Water  Superplasticizer  \\\n",
       "Cement            1.000000 -0.275193 -0.397475 -0.081544          0.092771   \n",
       "Blast            -0.275193  1.000000 -0.323569  0.107286          0.043376   \n",
       "Fly_Ash          -0.397475 -0.323569  1.000000 -0.257044          0.377340   \n",
       "Water            -0.081544  0.107286 -0.257044  1.000000         -0.657464   \n",
       "Superplasticizer  0.092771  0.043376  0.377340 -0.657464          1.000000   \n",
       "Coarse_Aggregate -0.109356 -0.283998 -0.009977 -0.182312         -0.266303   \n",
       "Fine_Aggregate   -0.222720 -0.281593  0.079076 -0.450635          0.222501   \n",
       "Age               0.081947 -0.044246 -0.154370  0.277604         -0.192717   \n",
       "Strength          0.497833  0.134824 -0.105753 -0.289613          0.366102   \n",
       "\n",
       "                  Coarse_Aggregate  Fine_Aggregate       Age  Strength  \n",
       "Cement                   -0.109356       -0.222720  0.081947  0.497833  \n",
       "Blast                    -0.283998       -0.281593 -0.044246  0.134824  \n",
       "Fly_Ash                  -0.009977        0.079076 -0.154370 -0.105753  \n",
       "Water                    -0.182312       -0.450635  0.277604 -0.289613  \n",
       "Superplasticizer         -0.266303        0.222501 -0.192717  0.366102  \n",
       "Coarse_Aggregate          1.000000       -0.178506 -0.003016 -0.164928  \n",
       "Fine_Aggregate           -0.178506        1.000000 -0.156094 -0.167249  \n",
       "Age                      -0.003016       -0.156094  1.000000  0.328877  \n",
       "Strength                 -0.164928       -0.167249  0.328877  1.000000  "
      ]
     },
     "execution_count": 26,
     "metadata": {},
     "output_type": "execute_result"
    }
   ],
   "source": [
    "data.corr()"
   ]
  },
  {
   "cell_type": "code",
   "execution_count": 29,
   "metadata": {},
   "outputs": [],
   "source": [
    "data.columns=['Cement', 'Blast', 'Fly_Ash', 'Water', 'Superplasticizer',\n",
    "       'Coarse_Aggregate', 'Fine_Aggregate', 'Age', 'Strength']"
   ]
  },
  {
   "cell_type": "code",
   "execution_count": 30,
   "metadata": {},
   "outputs": [
    {
     "name": "stdout",
     "output_type": "stream",
     "text": [
      "Cement\n",
      "Blast\n",
      "Fly_Ash\n",
      "Water\n",
      "Superplasticizer\n",
      "Coarse_Aggregate\n",
      "Fine_Aggregate\n",
      "Age\n",
      "Strength\n"
     ]
    }
   ],
   "source": [
    "for i in data.columns:\n",
    "    print(i)"
   ]
  },
  {
   "cell_type": "code",
   "execution_count": 31,
   "metadata": {},
   "outputs": [
    {
     "data": {
      "text/html": [
       "<div>\n",
       "<style scoped>\n",
       "    .dataframe tbody tr th:only-of-type {\n",
       "        vertical-align: middle;\n",
       "    }\n",
       "\n",
       "    .dataframe tbody tr th {\n",
       "        vertical-align: top;\n",
       "    }\n",
       "\n",
       "    .dataframe thead th {\n",
       "        text-align: right;\n",
       "    }\n",
       "</style>\n",
       "<table border=\"1\" class=\"dataframe\">\n",
       "  <thead>\n",
       "    <tr style=\"text-align: right;\">\n",
       "      <th></th>\n",
       "      <th>const</th>\n",
       "      <th>Cement</th>\n",
       "      <th>Blast</th>\n",
       "      <th>Fly_Ash</th>\n",
       "      <th>Water</th>\n",
       "      <th>Superplasticizer</th>\n",
       "      <th>Coarse_Aggregate</th>\n",
       "      <th>Fine_Aggregate</th>\n",
       "      <th>Age</th>\n",
       "    </tr>\n",
       "  </thead>\n",
       "  <tbody>\n",
       "    <tr>\n",
       "      <th>337</th>\n",
       "      <td>1.0</td>\n",
       "      <td>275.07</td>\n",
       "      <td>0.0</td>\n",
       "      <td>121.35</td>\n",
       "      <td>159.48</td>\n",
       "      <td>9.90</td>\n",
       "      <td>1053.6</td>\n",
       "      <td>777.50</td>\n",
       "      <td>56</td>\n",
       "    </tr>\n",
       "    <tr>\n",
       "      <th>384</th>\n",
       "      <td>1.0</td>\n",
       "      <td>516.00</td>\n",
       "      <td>0.0</td>\n",
       "      <td>0.00</td>\n",
       "      <td>162.00</td>\n",
       "      <td>8.20</td>\n",
       "      <td>801.0</td>\n",
       "      <td>802.00</td>\n",
       "      <td>28</td>\n",
       "    </tr>\n",
       "    <tr>\n",
       "      <th>805</th>\n",
       "      <td>1.0</td>\n",
       "      <td>393.00</td>\n",
       "      <td>0.0</td>\n",
       "      <td>0.00</td>\n",
       "      <td>192.00</td>\n",
       "      <td>0.00</td>\n",
       "      <td>940.0</td>\n",
       "      <td>758.00</td>\n",
       "      <td>90</td>\n",
       "    </tr>\n",
       "    <tr>\n",
       "      <th>682</th>\n",
       "      <td>1.0</td>\n",
       "      <td>183.90</td>\n",
       "      <td>122.6</td>\n",
       "      <td>0.00</td>\n",
       "      <td>203.50</td>\n",
       "      <td>0.00</td>\n",
       "      <td>959.2</td>\n",
       "      <td>800.00</td>\n",
       "      <td>28</td>\n",
       "    </tr>\n",
       "    <tr>\n",
       "      <th>329</th>\n",
       "      <td>1.0</td>\n",
       "      <td>246.83</td>\n",
       "      <td>0.0</td>\n",
       "      <td>125.08</td>\n",
       "      <td>143.30</td>\n",
       "      <td>11.99</td>\n",
       "      <td>1086.8</td>\n",
       "      <td>800.89</td>\n",
       "      <td>3</td>\n",
       "    </tr>\n",
       "  </tbody>\n",
       "</table>\n",
       "</div>"
      ],
      "text/plain": [
       "     const  Cement   Blast   Fly_Ash   Water    Superplasticizer   \\\n",
       "337    1.0   275.07     0.0    121.35   159.48               9.90   \n",
       "384    1.0   516.00     0.0      0.00   162.00               8.20   \n",
       "805    1.0   393.00     0.0      0.00   192.00               0.00   \n",
       "682    1.0   183.90   122.6      0.00   203.50               0.00   \n",
       "329    1.0   246.83     0.0    125.08   143.30              11.99   \n",
       "\n",
       "     Coarse_Aggregate    Fine_Aggregate   Age  \n",
       "337              1053.6           777.50   56  \n",
       "384               801.0           802.00   28  \n",
       "805               940.0           758.00   90  \n",
       "682               959.2           800.00   28  \n",
       "329              1086.8           800.89    3  "
      ]
     },
     "execution_count": 31,
     "metadata": {},
     "output_type": "execute_result"
    }
   ],
   "source": [
    "X_train.head()"
   ]
  },
  {
   "cell_type": "code",
   "execution_count": 32,
   "metadata": {},
   "outputs": [
    {
     "data": {
      "text/html": [
       "<div>\n",
       "<style scoped>\n",
       "    .dataframe tbody tr th:only-of-type {\n",
       "        vertical-align: middle;\n",
       "    }\n",
       "\n",
       "    .dataframe tbody tr th {\n",
       "        vertical-align: top;\n",
       "    }\n",
       "\n",
       "    .dataframe thead th {\n",
       "        text-align: right;\n",
       "    }\n",
       "</style>\n",
       "<table border=\"1\" class=\"dataframe\">\n",
       "  <thead>\n",
       "    <tr style=\"text-align: right;\">\n",
       "      <th></th>\n",
       "      <th>const</th>\n",
       "      <th>Cement</th>\n",
       "      <th>Blast</th>\n",
       "      <th>Fly_Ash</th>\n",
       "      <th>Water</th>\n",
       "      <th>Superplasticizer</th>\n",
       "      <th>Coarse_Aggregate</th>\n",
       "      <th>Fine_Aggregate</th>\n",
       "      <th>Age</th>\n",
       "    </tr>\n",
       "  </thead>\n",
       "  <tbody>\n",
       "    <tr>\n",
       "      <th>337</th>\n",
       "      <td>1.0</td>\n",
       "      <td>275.07</td>\n",
       "      <td>0.0</td>\n",
       "      <td>121.35</td>\n",
       "      <td>159.48</td>\n",
       "      <td>9.90</td>\n",
       "      <td>1053.6</td>\n",
       "      <td>777.50</td>\n",
       "      <td>56</td>\n",
       "    </tr>\n",
       "    <tr>\n",
       "      <th>384</th>\n",
       "      <td>1.0</td>\n",
       "      <td>516.00</td>\n",
       "      <td>0.0</td>\n",
       "      <td>0.00</td>\n",
       "      <td>162.00</td>\n",
       "      <td>8.20</td>\n",
       "      <td>801.0</td>\n",
       "      <td>802.00</td>\n",
       "      <td>28</td>\n",
       "    </tr>\n",
       "    <tr>\n",
       "      <th>805</th>\n",
       "      <td>1.0</td>\n",
       "      <td>393.00</td>\n",
       "      <td>0.0</td>\n",
       "      <td>0.00</td>\n",
       "      <td>192.00</td>\n",
       "      <td>0.00</td>\n",
       "      <td>940.0</td>\n",
       "      <td>758.00</td>\n",
       "      <td>90</td>\n",
       "    </tr>\n",
       "    <tr>\n",
       "      <th>682</th>\n",
       "      <td>1.0</td>\n",
       "      <td>183.90</td>\n",
       "      <td>122.6</td>\n",
       "      <td>0.00</td>\n",
       "      <td>203.50</td>\n",
       "      <td>0.00</td>\n",
       "      <td>959.2</td>\n",
       "      <td>800.00</td>\n",
       "      <td>28</td>\n",
       "    </tr>\n",
       "    <tr>\n",
       "      <th>329</th>\n",
       "      <td>1.0</td>\n",
       "      <td>246.83</td>\n",
       "      <td>0.0</td>\n",
       "      <td>125.08</td>\n",
       "      <td>143.30</td>\n",
       "      <td>11.99</td>\n",
       "      <td>1086.8</td>\n",
       "      <td>800.89</td>\n",
       "      <td>3</td>\n",
       "    </tr>\n",
       "    <tr>\n",
       "      <th>...</th>\n",
       "      <td>...</td>\n",
       "      <td>...</td>\n",
       "      <td>...</td>\n",
       "      <td>...</td>\n",
       "      <td>...</td>\n",
       "      <td>...</td>\n",
       "      <td>...</td>\n",
       "      <td>...</td>\n",
       "      <td>...</td>\n",
       "    </tr>\n",
       "    <tr>\n",
       "      <th>802</th>\n",
       "      <td>1.0</td>\n",
       "      <td>339.00</td>\n",
       "      <td>0.0</td>\n",
       "      <td>0.00</td>\n",
       "      <td>185.00</td>\n",
       "      <td>0.00</td>\n",
       "      <td>1060.0</td>\n",
       "      <td>754.00</td>\n",
       "      <td>28</td>\n",
       "    </tr>\n",
       "    <tr>\n",
       "      <th>53</th>\n",
       "      <td>1.0</td>\n",
       "      <td>304.00</td>\n",
       "      <td>76.0</td>\n",
       "      <td>0.00</td>\n",
       "      <td>228.00</td>\n",
       "      <td>0.00</td>\n",
       "      <td>932.0</td>\n",
       "      <td>670.00</td>\n",
       "      <td>90</td>\n",
       "    </tr>\n",
       "    <tr>\n",
       "      <th>350</th>\n",
       "      <td>1.0</td>\n",
       "      <td>213.50</td>\n",
       "      <td>0.0</td>\n",
       "      <td>174.24</td>\n",
       "      <td>154.61</td>\n",
       "      <td>11.66</td>\n",
       "      <td>1052.3</td>\n",
       "      <td>775.48</td>\n",
       "      <td>14</td>\n",
       "    </tr>\n",
       "    <tr>\n",
       "      <th>79</th>\n",
       "      <td>1.0</td>\n",
       "      <td>531.30</td>\n",
       "      <td>0.0</td>\n",
       "      <td>0.00</td>\n",
       "      <td>141.80</td>\n",
       "      <td>28.20</td>\n",
       "      <td>852.1</td>\n",
       "      <td>893.70</td>\n",
       "      <td>3</td>\n",
       "    </tr>\n",
       "    <tr>\n",
       "      <th>792</th>\n",
       "      <td>1.0</td>\n",
       "      <td>349.00</td>\n",
       "      <td>0.0</td>\n",
       "      <td>0.00</td>\n",
       "      <td>192.00</td>\n",
       "      <td>0.00</td>\n",
       "      <td>1047.0</td>\n",
       "      <td>806.00</td>\n",
       "      <td>360</td>\n",
       "    </tr>\n",
       "  </tbody>\n",
       "</table>\n",
       "<p>824 rows × 9 columns</p>\n",
       "</div>"
      ],
      "text/plain": [
       "     const  Cement   Blast   Fly_Ash   Water    Superplasticizer   \\\n",
       "337    1.0   275.07     0.0    121.35   159.48               9.90   \n",
       "384    1.0   516.00     0.0      0.00   162.00               8.20   \n",
       "805    1.0   393.00     0.0      0.00   192.00               0.00   \n",
       "682    1.0   183.90   122.6      0.00   203.50               0.00   \n",
       "329    1.0   246.83     0.0    125.08   143.30              11.99   \n",
       "..     ...      ...     ...       ...      ...                ...   \n",
       "802    1.0   339.00     0.0      0.00   185.00               0.00   \n",
       "53     1.0   304.00    76.0      0.00   228.00               0.00   \n",
       "350    1.0   213.50     0.0    174.24   154.61              11.66   \n",
       "79     1.0   531.30     0.0      0.00   141.80              28.20   \n",
       "792    1.0   349.00     0.0      0.00   192.00               0.00   \n",
       "\n",
       "     Coarse_Aggregate    Fine_Aggregate   Age  \n",
       "337              1053.6           777.50   56  \n",
       "384               801.0           802.00   28  \n",
       "805               940.0           758.00   90  \n",
       "682               959.2           800.00   28  \n",
       "329              1086.8           800.89    3  \n",
       "..                  ...              ...  ...  \n",
       "802              1060.0           754.00   28  \n",
       "53                932.0           670.00   90  \n",
       "350              1052.3           775.48   14  \n",
       "79                852.1           893.70    3  \n",
       "792              1047.0           806.00  360  \n",
       "\n",
       "[824 rows x 9 columns]"
      ]
     },
     "execution_count": 32,
     "metadata": {},
     "output_type": "execute_result"
    }
   ],
   "source": [
    "X_train"
   ]
  },
  {
   "cell_type": "code",
   "execution_count": 33,
   "metadata": {},
   "outputs": [
    {
     "data": {
      "text/plain": [
       "337    56.847296\n",
       "384    41.368560\n",
       "805    48.794217\n",
       "682    24.046165\n",
       "329    23.524921\n",
       "         ...    \n",
       "802    31.646948\n",
       "53     49.185149\n",
       "350    33.701587\n",
       "79     41.299612\n",
       "792    42.126984\n",
       "Name: Strength, Length: 824, dtype: float64"
      ]
     },
     "execution_count": 33,
     "metadata": {},
     "output_type": "execute_result"
    }
   ],
   "source": [
    "y_train"
   ]
  },
  {
   "cell_type": "code",
   "execution_count": 34,
   "metadata": {},
   "outputs": [
    {
     "data": {
      "text/plain": [
       "Index(['Cement', 'Blast', 'Fly_Ash', 'Water', 'Superplasticizer',\n",
       "       'Coarse_Aggregate', 'Fine_Aggregate', 'Age', 'Strength'],\n",
       "      dtype='object')"
      ]
     },
     "execution_count": 34,
     "metadata": {},
     "output_type": "execute_result"
    }
   ],
   "source": [
    "data.columns"
   ]
  },
  {
   "cell_type": "code",
   "execution_count": 14,
   "metadata": {},
   "outputs": [],
   "source": [
    "data.columns  = ['Cement', 'Blast', 'Fly_Ash', 'Water', 'Superplasticizer',\n",
    "       'Coarse_Aggregate', 'Fine_Aggregate', 'Age', 'Strength']"
   ]
  },
  {
   "cell_type": "code",
   "execution_count": 4,
   "metadata": {},
   "outputs": [
    {
     "ename": "NameError",
     "evalue": "name 'X_train' is not defined",
     "output_type": "error",
     "traceback": [
      "\u001b[1;31m---------------------------------------------------------------------------\u001b[0m",
      "\u001b[1;31mNameError\u001b[0m                                 Traceback (most recent call last)",
      "\u001b[1;32m<ipython-input-4-75f4a1482533>\u001b[0m in \u001b[0;36m<module>\u001b[1;34m\u001b[0m\n\u001b[1;32m----> 1\u001b[1;33m \u001b[0mX_train\u001b[0m\u001b[1;33m.\u001b[0m\u001b[0mcolumns\u001b[0m \u001b[1;33m=\u001b[0m \u001b[1;33m[\u001b[0m\u001b[1;34m'const'\u001b[0m\u001b[1;33m,\u001b[0m\u001b[1;34m'Cement'\u001b[0m\u001b[1;33m,\u001b[0m \u001b[1;34m'Blast'\u001b[0m\u001b[1;33m,\u001b[0m \u001b[1;34m'Fly_Ash'\u001b[0m\u001b[1;33m,\u001b[0m \u001b[1;34m'Water'\u001b[0m\u001b[1;33m,\u001b[0m \u001b[1;34m'Superplasticizer'\u001b[0m\u001b[1;33m,\u001b[0m \u001b[1;34m'Coarse_Aggregate'\u001b[0m\u001b[1;33m,\u001b[0m \u001b[1;34m'Fine_Aggregate'\u001b[0m\u001b[1;33m,\u001b[0m \u001b[1;34m'Age'\u001b[0m\u001b[1;33m]\u001b[0m\u001b[1;33m\u001b[0m\u001b[1;33m\u001b[0m\u001b[0m\n\u001b[0m",
      "\u001b[1;31mNameError\u001b[0m: name 'X_train' is not defined"
     ]
    }
   ],
   "source": [
    "X_train.columns = ['const','Cement', 'Blast', 'Fly_Ash', 'Water', 'Superplasticizer', 'Coarse_Aggregate', 'Fine_Aggregate', 'Age']"
   ]
  },
  {
   "cell_type": "code",
   "execution_count": 28,
   "metadata": {},
   "outputs": [
    {
     "data": {
      "text/html": [
       "<div>\n",
       "<style scoped>\n",
       "    .dataframe tbody tr th:only-of-type {\n",
       "        vertical-align: middle;\n",
       "    }\n",
       "\n",
       "    .dataframe tbody tr th {\n",
       "        vertical-align: top;\n",
       "    }\n",
       "\n",
       "    .dataframe thead th {\n",
       "        text-align: right;\n",
       "    }\n",
       "</style>\n",
       "<table border=\"1\" class=\"dataframe\">\n",
       "  <thead>\n",
       "    <tr style=\"text-align: right;\">\n",
       "      <th></th>\n",
       "      <th>const</th>\n",
       "      <th>Cement</th>\n",
       "      <th>Blast</th>\n",
       "      <th>Fly_Ash</th>\n",
       "      <th>Water</th>\n",
       "      <th>Superplasticizer</th>\n",
       "      <th>Coarse_Aggregate</th>\n",
       "      <th>Fine_Aggregate</th>\n",
       "      <th>Age</th>\n",
       "    </tr>\n",
       "  </thead>\n",
       "  <tbody>\n",
       "    <tr>\n",
       "      <th>337</th>\n",
       "      <td>1.0</td>\n",
       "      <td>275.07</td>\n",
       "      <td>0.0</td>\n",
       "      <td>121.35</td>\n",
       "      <td>159.48</td>\n",
       "      <td>9.90</td>\n",
       "      <td>1053.6</td>\n",
       "      <td>777.50</td>\n",
       "      <td>56</td>\n",
       "    </tr>\n",
       "    <tr>\n",
       "      <th>384</th>\n",
       "      <td>1.0</td>\n",
       "      <td>516.00</td>\n",
       "      <td>0.0</td>\n",
       "      <td>0.00</td>\n",
       "      <td>162.00</td>\n",
       "      <td>8.20</td>\n",
       "      <td>801.0</td>\n",
       "      <td>802.00</td>\n",
       "      <td>28</td>\n",
       "    </tr>\n",
       "    <tr>\n",
       "      <th>805</th>\n",
       "      <td>1.0</td>\n",
       "      <td>393.00</td>\n",
       "      <td>0.0</td>\n",
       "      <td>0.00</td>\n",
       "      <td>192.00</td>\n",
       "      <td>0.00</td>\n",
       "      <td>940.0</td>\n",
       "      <td>758.00</td>\n",
       "      <td>90</td>\n",
       "    </tr>\n",
       "    <tr>\n",
       "      <th>682</th>\n",
       "      <td>1.0</td>\n",
       "      <td>183.90</td>\n",
       "      <td>122.6</td>\n",
       "      <td>0.00</td>\n",
       "      <td>203.50</td>\n",
       "      <td>0.00</td>\n",
       "      <td>959.2</td>\n",
       "      <td>800.00</td>\n",
       "      <td>28</td>\n",
       "    </tr>\n",
       "    <tr>\n",
       "      <th>329</th>\n",
       "      <td>1.0</td>\n",
       "      <td>246.83</td>\n",
       "      <td>0.0</td>\n",
       "      <td>125.08</td>\n",
       "      <td>143.30</td>\n",
       "      <td>11.99</td>\n",
       "      <td>1086.8</td>\n",
       "      <td>800.89</td>\n",
       "      <td>3</td>\n",
       "    </tr>\n",
       "  </tbody>\n",
       "</table>\n",
       "</div>"
      ],
      "text/plain": [
       "     const  Cement  Blast  Fly_Ash   Water  Superplasticizer  \\\n",
       "337    1.0  275.07    0.0   121.35  159.48              9.90   \n",
       "384    1.0  516.00    0.0     0.00  162.00              8.20   \n",
       "805    1.0  393.00    0.0     0.00  192.00              0.00   \n",
       "682    1.0  183.90  122.6     0.00  203.50              0.00   \n",
       "329    1.0  246.83    0.0   125.08  143.30             11.99   \n",
       "\n",
       "     Coarse_Aggregate  Fine_Aggregate  Age  \n",
       "337            1053.6          777.50   56  \n",
       "384             801.0          802.00   28  \n",
       "805             940.0          758.00   90  \n",
       "682             959.2          800.00   28  \n",
       "329            1086.8          800.89    3  "
      ]
     },
     "execution_count": 28,
     "metadata": {},
     "output_type": "execute_result"
    }
   ],
   "source": [
    "X_train.head()"
   ]
  },
  {
   "cell_type": "code",
   "execution_count": 34,
   "metadata": {},
   "outputs": [],
   "source": [
    "# Linear regression can be run by using sm.OLS:\n",
    "import statsmodels.api as sa\n",
    "lm2 = sa.OLS(y_train, X_train).fit()"
   ]
  },
  {
   "cell_type": "code",
   "execution_count": 35,
   "metadata": {},
   "outputs": [
    {
     "data": {
      "text/html": [
       "<table class=\"simpletable\">\n",
       "<caption>OLS Regression Results</caption>\n",
       "<tr>\n",
       "  <th>Dep. Variable:</th>        <td>Strength</td>     <th>  R-squared:         </th> <td>   0.612</td> \n",
       "</tr>\n",
       "<tr>\n",
       "  <th>Model:</th>                   <td>OLS</td>       <th>  Adj. R-squared:    </th> <td>   0.609</td> \n",
       "</tr>\n",
       "<tr>\n",
       "  <th>Method:</th>             <td>Least Squares</td>  <th>  F-statistic:       </th> <td>   161.0</td> \n",
       "</tr>\n",
       "<tr>\n",
       "  <th>Date:</th>             <td>Tue, 20 Dec 2022</td> <th>  Prob (F-statistic):</th> <td>4.66e-162</td>\n",
       "</tr>\n",
       "<tr>\n",
       "  <th>Time:</th>                 <td>15:05:14</td>     <th>  Log-Likelihood:    </th> <td> -3090.5</td> \n",
       "</tr>\n",
       "<tr>\n",
       "  <th>No. Observations:</th>      <td>   824</td>      <th>  AIC:               </th> <td>   6199.</td> \n",
       "</tr>\n",
       "<tr>\n",
       "  <th>Df Residuals:</th>          <td>   815</td>      <th>  BIC:               </th> <td>   6241.</td> \n",
       "</tr>\n",
       "<tr>\n",
       "  <th>Df Model:</th>              <td>     8</td>      <th>                     </th>     <td> </td>    \n",
       "</tr>\n",
       "<tr>\n",
       "  <th>Covariance Type:</th>      <td>nonrobust</td>    <th>                     </th>     <td> </td>    \n",
       "</tr>\n",
       "</table>\n",
       "<table class=\"simpletable\">\n",
       "<tr>\n",
       "          <td></td>            <th>coef</th>     <th>std err</th>      <th>t</th>      <th>P>|t|</th>  <th>[0.025</th>    <th>0.975]</th>  \n",
       "</tr>\n",
       "<tr>\n",
       "  <th>const</th>            <td>  -34.0767</td> <td>   29.934</td> <td>   -1.138</td> <td> 0.255</td> <td>  -92.834</td> <td>   24.681</td>\n",
       "</tr>\n",
       "<tr>\n",
       "  <th>Cement</th>           <td>    0.1241</td> <td>    0.010</td> <td>   13.050</td> <td> 0.000</td> <td>    0.105</td> <td>    0.143</td>\n",
       "</tr>\n",
       "<tr>\n",
       "  <th>Blast</th>            <td>    0.1036</td> <td>    0.011</td> <td>    9.227</td> <td> 0.000</td> <td>    0.082</td> <td>    0.126</td>\n",
       "</tr>\n",
       "<tr>\n",
       "  <th>Fly_Ash</th>          <td>    0.0934</td> <td>    0.014</td> <td>    6.686</td> <td> 0.000</td> <td>    0.066</td> <td>    0.121</td>\n",
       "</tr>\n",
       "<tr>\n",
       "  <th>Water</th>            <td>   -0.1347</td> <td>    0.046</td> <td>   -2.957</td> <td> 0.003</td> <td>   -0.224</td> <td>   -0.045</td>\n",
       "</tr>\n",
       "<tr>\n",
       "  <th>Superplasticizer</th> <td>    0.2865</td> <td>    0.103</td> <td>    2.794</td> <td> 0.005</td> <td>    0.085</td> <td>    0.488</td>\n",
       "</tr>\n",
       "<tr>\n",
       "  <th>Coarse_Aggregate</th> <td>    0.0206</td> <td>    0.011</td> <td>    1.959</td> <td> 0.050</td> <td>-3.88e-05</td> <td>    0.041</td>\n",
       "</tr>\n",
       "<tr>\n",
       "  <th>Fine_Aggregate</th>   <td>    0.0256</td> <td>    0.012</td> <td>    2.127</td> <td> 0.034</td> <td>    0.002</td> <td>    0.049</td>\n",
       "</tr>\n",
       "<tr>\n",
       "  <th>Age</th>              <td>    0.1146</td> <td>    0.006</td> <td>   19.063</td> <td> 0.000</td> <td>    0.103</td> <td>    0.126</td>\n",
       "</tr>\n",
       "</table>\n",
       "<table class=\"simpletable\">\n",
       "<tr>\n",
       "  <th>Omnibus:</th>       <td> 3.756</td> <th>  Durbin-Watson:     </th> <td>   2.033</td>\n",
       "</tr>\n",
       "<tr>\n",
       "  <th>Prob(Omnibus):</th> <td> 0.153</td> <th>  Jarque-Bera (JB):  </th> <td>   3.760</td>\n",
       "</tr>\n",
       "<tr>\n",
       "  <th>Skew:</th>          <td>-0.165</td> <th>  Prob(JB):          </th> <td>   0.153</td>\n",
       "</tr>\n",
       "<tr>\n",
       "  <th>Kurtosis:</th>      <td> 2.974</td> <th>  Cond. No.          </th> <td>1.07e+05</td>\n",
       "</tr>\n",
       "</table><br/><br/>Notes:<br/>[1] Standard Errors assume that the covariance matrix of the errors is correctly specified.<br/>[2] The condition number is large, 1.07e+05. This might indicate that there are<br/>strong multicollinearity or other numerical problems."
      ],
      "text/plain": [
       "<class 'statsmodels.iolib.summary.Summary'>\n",
       "\"\"\"\n",
       "                            OLS Regression Results                            \n",
       "==============================================================================\n",
       "Dep. Variable:               Strength   R-squared:                       0.612\n",
       "Model:                            OLS   Adj. R-squared:                  0.609\n",
       "Method:                 Least Squares   F-statistic:                     161.0\n",
       "Date:                Tue, 20 Dec 2022   Prob (F-statistic):          4.66e-162\n",
       "Time:                        15:05:14   Log-Likelihood:                -3090.5\n",
       "No. Observations:                 824   AIC:                             6199.\n",
       "Df Residuals:                     815   BIC:                             6241.\n",
       "Df Model:                           8                                         \n",
       "Covariance Type:            nonrobust                                         \n",
       "====================================================================================\n",
       "                       coef    std err          t      P>|t|      [0.025      0.975]\n",
       "------------------------------------------------------------------------------------\n",
       "const              -34.0767     29.934     -1.138      0.255     -92.834      24.681\n",
       "Cement               0.1241      0.010     13.050      0.000       0.105       0.143\n",
       "Blast                0.1036      0.011      9.227      0.000       0.082       0.126\n",
       "Fly_Ash              0.0934      0.014      6.686      0.000       0.066       0.121\n",
       "Water               -0.1347      0.046     -2.957      0.003      -0.224      -0.045\n",
       "Superplasticizer     0.2865      0.103      2.794      0.005       0.085       0.488\n",
       "Coarse_Aggregate     0.0206      0.011      1.959      0.050   -3.88e-05       0.041\n",
       "Fine_Aggregate       0.0256      0.012      2.127      0.034       0.002       0.049\n",
       "Age                  0.1146      0.006     19.063      0.000       0.103       0.126\n",
       "==============================================================================\n",
       "Omnibus:                        3.756   Durbin-Watson:                   2.033\n",
       "Prob(Omnibus):                  0.153   Jarque-Bera (JB):                3.760\n",
       "Skew:                          -0.165   Prob(JB):                        0.153\n",
       "Kurtosis:                       2.974   Cond. No.                     1.07e+05\n",
       "==============================================================================\n",
       "\n",
       "Notes:\n",
       "[1] Standard Errors assume that the covariance matrix of the errors is correctly specified.\n",
       "[2] The condition number is large, 1.07e+05. This might indicate that there are\n",
       "strong multicollinearity or other numerical problems.\n",
       "\"\"\""
      ]
     },
     "execution_count": 35,
     "metadata": {},
     "output_type": "execute_result"
    }
   ],
   "source": [
    "lm2.summary()"
   ]
  },
  {
   "cell_type": "code",
   "execution_count": 31,
   "metadata": {},
   "outputs": [
    {
     "name": "stdout",
     "output_type": "stream",
     "text": [
      "accept\n"
     ]
    }
   ],
   "source": [
    "if 1.07e+05 < 0.05:\n",
    "    print(\"reject\")\n",
    "else:\n",
    "    print('accept')"
   ]
  },
  {
   "cell_type": "code",
   "execution_count": 21,
   "metadata": {},
   "outputs": [],
   "source": [
    "#lm2 = sfm.ols(y_train, X_train).fit()"
   ]
  },
  {
   "cell_type": "code",
   "execution_count": 32,
   "metadata": {},
   "outputs": [
    {
     "data": {
      "text/html": [
       "<table class=\"simpletable\">\n",
       "<caption>OLS Regression Results</caption>\n",
       "<tr>\n",
       "  <th>Dep. Variable:</th>        <td>Strength</td>     <th>  R-squared:         </th> <td>   0.615</td> \n",
       "</tr>\n",
       "<tr>\n",
       "  <th>Model:</th>                   <td>OLS</td>       <th>  Adj. R-squared:    </th> <td>   0.612</td> \n",
       "</tr>\n",
       "<tr>\n",
       "  <th>Method:</th>             <td>Least Squares</td>  <th>  F-statistic:       </th> <td>   204.3</td> \n",
       "</tr>\n",
       "<tr>\n",
       "  <th>Date:</th>             <td>Wed, 07 Dec 2022</td> <th>  Prob (F-statistic):</th> <td>6.76e-206</td>\n",
       "</tr>\n",
       "<tr>\n",
       "  <th>Time:</th>                 <td>12:28:48</td>     <th>  Log-Likelihood:    </th> <td> -3869.0</td> \n",
       "</tr>\n",
       "<tr>\n",
       "  <th>No. Observations:</th>      <td>  1030</td>      <th>  AIC:               </th> <td>   7756.</td> \n",
       "</tr>\n",
       "<tr>\n",
       "  <th>Df Residuals:</th>          <td>  1021</td>      <th>  BIC:               </th> <td>   7800.</td> \n",
       "</tr>\n",
       "<tr>\n",
       "  <th>Df Model:</th>              <td>     8</td>      <th>                     </th>     <td> </td>    \n",
       "</tr>\n",
       "<tr>\n",
       "  <th>Covariance Type:</th>      <td>nonrobust</td>    <th>                     </th>     <td> </td>    \n",
       "</tr>\n",
       "</table>\n",
       "<table class=\"simpletable\">\n",
       "<tr>\n",
       "          <td></td>            <th>coef</th>     <th>std err</th>      <th>t</th>      <th>P>|t|</th>  <th>[0.025</th>    <th>0.975]</th>  \n",
       "</tr>\n",
       "<tr>\n",
       "  <th>Intercept</th>        <td>  -23.1638</td> <td>   26.588</td> <td>   -0.871</td> <td> 0.384</td> <td>  -75.338</td> <td>   29.010</td>\n",
       "</tr>\n",
       "<tr>\n",
       "  <th>Cement</th>           <td>    0.1198</td> <td>    0.008</td> <td>   14.110</td> <td> 0.000</td> <td>    0.103</td> <td>    0.136</td>\n",
       "</tr>\n",
       "<tr>\n",
       "  <th>Blast</th>            <td>    0.1038</td> <td>    0.010</td> <td>   10.245</td> <td> 0.000</td> <td>    0.084</td> <td>    0.124</td>\n",
       "</tr>\n",
       "<tr>\n",
       "  <th>Fly_Ash</th>          <td>    0.0879</td> <td>    0.013</td> <td>    6.988</td> <td> 0.000</td> <td>    0.063</td> <td>    0.113</td>\n",
       "</tr>\n",
       "<tr>\n",
       "  <th>Water</th>            <td>   -0.1503</td> <td>    0.040</td> <td>   -3.741</td> <td> 0.000</td> <td>   -0.229</td> <td>   -0.071</td>\n",
       "</tr>\n",
       "<tr>\n",
       "  <th>Superplasticizer</th> <td>    0.2907</td> <td>    0.093</td> <td>    3.110</td> <td> 0.002</td> <td>    0.107</td> <td>    0.474</td>\n",
       "</tr>\n",
       "<tr>\n",
       "  <th>Coarse_Aggregate</th> <td>    0.0180</td> <td>    0.009</td> <td>    1.919</td> <td> 0.055</td> <td>   -0.000</td> <td>    0.036</td>\n",
       "</tr>\n",
       "<tr>\n",
       "  <th>Fine_Aggregate</th>   <td>    0.0202</td> <td>    0.011</td> <td>    1.883</td> <td> 0.060</td> <td>   -0.001</td> <td>    0.041</td>\n",
       "</tr>\n",
       "<tr>\n",
       "  <th>Age</th>              <td>    0.1142</td> <td>    0.005</td> <td>   21.046</td> <td> 0.000</td> <td>    0.104</td> <td>    0.125</td>\n",
       "</tr>\n",
       "</table>\n",
       "<table class=\"simpletable\">\n",
       "<tr>\n",
       "  <th>Omnibus:</th>       <td> 5.379</td> <th>  Durbin-Watson:     </th> <td>   1.281</td>\n",
       "</tr>\n",
       "<tr>\n",
       "  <th>Prob(Omnibus):</th> <td> 0.068</td> <th>  Jarque-Bera (JB):  </th> <td>   5.305</td>\n",
       "</tr>\n",
       "<tr>\n",
       "  <th>Skew:</th>          <td>-0.174</td> <th>  Prob(JB):          </th> <td>  0.0705</td>\n",
       "</tr>\n",
       "<tr>\n",
       "  <th>Kurtosis:</th>      <td> 3.045</td> <th>  Cond. No.          </th> <td>1.06e+05</td>\n",
       "</tr>\n",
       "</table><br/><br/>Notes:<br/>[1] Standard Errors assume that the covariance matrix of the errors is correctly specified.<br/>[2] The condition number is large, 1.06e+05. This might indicate that there are<br/>strong multicollinearity or other numerical problems."
      ],
      "text/plain": [
       "<class 'statsmodels.iolib.summary.Summary'>\n",
       "\"\"\"\n",
       "                            OLS Regression Results                            \n",
       "==============================================================================\n",
       "Dep. Variable:               Strength   R-squared:                       0.615\n",
       "Model:                            OLS   Adj. R-squared:                  0.612\n",
       "Method:                 Least Squares   F-statistic:                     204.3\n",
       "Date:                Wed, 07 Dec 2022   Prob (F-statistic):          6.76e-206\n",
       "Time:                        12:28:48   Log-Likelihood:                -3869.0\n",
       "No. Observations:                1030   AIC:                             7756.\n",
       "Df Residuals:                    1021   BIC:                             7800.\n",
       "Df Model:                           8                                         \n",
       "Covariance Type:            nonrobust                                         \n",
       "====================================================================================\n",
       "                       coef    std err          t      P>|t|      [0.025      0.975]\n",
       "------------------------------------------------------------------------------------\n",
       "Intercept          -23.1638     26.588     -0.871      0.384     -75.338      29.010\n",
       "Cement               0.1198      0.008     14.110      0.000       0.103       0.136\n",
       "Blast                0.1038      0.010     10.245      0.000       0.084       0.124\n",
       "Fly_Ash              0.0879      0.013      6.988      0.000       0.063       0.113\n",
       "Water               -0.1503      0.040     -3.741      0.000      -0.229      -0.071\n",
       "Superplasticizer     0.2907      0.093      3.110      0.002       0.107       0.474\n",
       "Coarse_Aggregate     0.0180      0.009      1.919      0.055      -0.000       0.036\n",
       "Fine_Aggregate       0.0202      0.011      1.883      0.060      -0.001       0.041\n",
       "Age                  0.1142      0.005     21.046      0.000       0.104       0.125\n",
       "==============================================================================\n",
       "Omnibus:                        5.379   Durbin-Watson:                   1.281\n",
       "Prob(Omnibus):                  0.068   Jarque-Bera (JB):                5.305\n",
       "Skew:                          -0.174   Prob(JB):                       0.0705\n",
       "Kurtosis:                       3.045   Cond. No.                     1.06e+05\n",
       "==============================================================================\n",
       "\n",
       "Notes:\n",
       "[1] Standard Errors assume that the covariance matrix of the errors is correctly specified.\n",
       "[2] The condition number is large, 1.06e+05. This might indicate that there are\n",
       "strong multicollinearity or other numerical problems.\n",
       "\"\"\""
      ]
     },
     "execution_count": 32,
     "metadata": {},
     "output_type": "execute_result"
    }
   ],
   "source": [
    "import statsmodels.formula.api as sfm\n",
    "lm3 = sfm.ols(formula = \"Strength ~ Cement + Blast + Fly_Ash + Water + Superplasticizer + Coarse_Aggregate + Fine_Aggregate + Age \",\n",
    "              data = data).fit()\n",
    "lm3.summary()"
   ]
  },
  {
   "cell_type": "code",
   "execution_count": 28,
   "metadata": {},
   "outputs": [
    {
     "data": {
      "text/plain": [
       "Cement                1.945787e-99\n",
       "Blast                 2.890399e-50\n",
       "Fly_Ash               2.903239e-19\n",
       "Water                 4.158237e-23\n",
       "Superplasticizer      1.082411e-02\n",
       "Coarse_Aggregate      6.870618e-03\n",
       "Fine_Aggregate        1.377657e-03\n",
       "Age                   3.654015e-67\n",
       "dtype: float64"
      ]
     },
     "execution_count": 28,
     "metadata": {},
     "output_type": "execute_result"
    }
   ],
   "source": [
    "lm2.pvalues"
   ]
  },
  {
   "cell_type": "code",
   "execution_count": 23,
   "metadata": {},
   "outputs": [],
   "source": [
    "lm4 = sfm.ols(formula = \"Strength ~ Cement + Blast + Fly_Ash + Water + Superplasticizer + Coarse_Aggregate + Fine_Aggregate + Age \", \n",
    "              data = data)"
   ]
  },
  {
   "cell_type": "code",
   "execution_count": 24,
   "metadata": {},
   "outputs": [
    {
     "data": {
      "text/plain": [
       "<statsmodels.regression.linear_model.OLS at 0x2bddeaf9b50>"
      ]
     },
     "execution_count": 24,
     "metadata": {},
     "output_type": "execute_result"
    }
   ],
   "source": [
    "sfm.ols(formula = \"Strength ~ Cement + Blast + Fly_Ash + Water + Superplasticizer + Coarse_Aggregate + Fine_Aggregate + Age \", data = data)"
   ]
  },
  {
   "cell_type": "code",
   "execution_count": 25,
   "metadata": {},
   "outputs": [
    {
     "data": {
      "text/html": [
       "<table class=\"simpletable\">\n",
       "<caption>OLS Regression Results</caption>\n",
       "<tr>\n",
       "  <th>Dep. Variable:</th>        <td>Strength</td>     <th>  R-squared:         </th> <td>   0.615</td> \n",
       "</tr>\n",
       "<tr>\n",
       "  <th>Model:</th>                   <td>OLS</td>       <th>  Adj. R-squared:    </th> <td>   0.612</td> \n",
       "</tr>\n",
       "<tr>\n",
       "  <th>Method:</th>             <td>Least Squares</td>  <th>  F-statistic:       </th> <td>   204.3</td> \n",
       "</tr>\n",
       "<tr>\n",
       "  <th>Date:</th>             <td>Wed, 03 Aug 2022</td> <th>  Prob (F-statistic):</th> <td>6.76e-206</td>\n",
       "</tr>\n",
       "<tr>\n",
       "  <th>Time:</th>                 <td>10:30:41</td>     <th>  Log-Likelihood:    </th> <td> -3869.0</td> \n",
       "</tr>\n",
       "<tr>\n",
       "  <th>No. Observations:</th>      <td>  1030</td>      <th>  AIC:               </th> <td>   7756.</td> \n",
       "</tr>\n",
       "<tr>\n",
       "  <th>Df Residuals:</th>          <td>  1021</td>      <th>  BIC:               </th> <td>   7800.</td> \n",
       "</tr>\n",
       "<tr>\n",
       "  <th>Df Model:</th>              <td>     8</td>      <th>                     </th>     <td> </td>    \n",
       "</tr>\n",
       "<tr>\n",
       "  <th>Covariance Type:</th>      <td>nonrobust</td>    <th>                     </th>     <td> </td>    \n",
       "</tr>\n",
       "</table>\n",
       "<table class=\"simpletable\">\n",
       "<tr>\n",
       "          <td></td>            <th>coef</th>     <th>std err</th>      <th>t</th>      <th>P>|t|</th>  <th>[0.025</th>    <th>0.975]</th>  \n",
       "</tr>\n",
       "<tr>\n",
       "  <th>Intercept</th>        <td>  -23.1638</td> <td>   26.588</td> <td>   -0.871</td> <td> 0.384</td> <td>  -75.338</td> <td>   29.010</td>\n",
       "</tr>\n",
       "<tr>\n",
       "  <th>Cement</th>           <td>    0.1198</td> <td>    0.008</td> <td>   14.110</td> <td> 0.000</td> <td>    0.103</td> <td>    0.136</td>\n",
       "</tr>\n",
       "<tr>\n",
       "  <th>Blast</th>            <td>    0.1038</td> <td>    0.010</td> <td>   10.245</td> <td> 0.000</td> <td>    0.084</td> <td>    0.124</td>\n",
       "</tr>\n",
       "<tr>\n",
       "  <th>Fly_Ash</th>          <td>    0.0879</td> <td>    0.013</td> <td>    6.988</td> <td> 0.000</td> <td>    0.063</td> <td>    0.113</td>\n",
       "</tr>\n",
       "<tr>\n",
       "  <th>Water</th>            <td>   -0.1503</td> <td>    0.040</td> <td>   -3.741</td> <td> 0.000</td> <td>   -0.229</td> <td>   -0.071</td>\n",
       "</tr>\n",
       "<tr>\n",
       "  <th>Superplasticizer</th> <td>    0.2907</td> <td>    0.093</td> <td>    3.110</td> <td> 0.002</td> <td>    0.107</td> <td>    0.474</td>\n",
       "</tr>\n",
       "<tr>\n",
       "  <th>Coarse_Aggregate</th> <td>    0.0180</td> <td>    0.009</td> <td>    1.919</td> <td> 0.055</td> <td>   -0.000</td> <td>    0.036</td>\n",
       "</tr>\n",
       "<tr>\n",
       "  <th>Fine_Aggregate</th>   <td>    0.0202</td> <td>    0.011</td> <td>    1.883</td> <td> 0.060</td> <td>   -0.001</td> <td>    0.041</td>\n",
       "</tr>\n",
       "<tr>\n",
       "  <th>Age</th>              <td>    0.1142</td> <td>    0.005</td> <td>   21.046</td> <td> 0.000</td> <td>    0.104</td> <td>    0.125</td>\n",
       "</tr>\n",
       "</table>\n",
       "<table class=\"simpletable\">\n",
       "<tr>\n",
       "  <th>Omnibus:</th>       <td> 5.379</td> <th>  Durbin-Watson:     </th> <td>   1.281</td>\n",
       "</tr>\n",
       "<tr>\n",
       "  <th>Prob(Omnibus):</th> <td> 0.068</td> <th>  Jarque-Bera (JB):  </th> <td>   5.305</td>\n",
       "</tr>\n",
       "<tr>\n",
       "  <th>Skew:</th>          <td>-0.174</td> <th>  Prob(JB):          </th> <td>  0.0705</td>\n",
       "</tr>\n",
       "<tr>\n",
       "  <th>Kurtosis:</th>      <td> 3.045</td> <th>  Cond. No.          </th> <td>1.06e+05</td>\n",
       "</tr>\n",
       "</table><br/><br/>Notes:<br/>[1] Standard Errors assume that the covariance matrix of the errors is correctly specified.<br/>[2] The condition number is large, 1.06e+05. This might indicate that there are<br/>strong multicollinearity or other numerical problems."
      ],
      "text/plain": [
       "<class 'statsmodels.iolib.summary.Summary'>\n",
       "\"\"\"\n",
       "                            OLS Regression Results                            \n",
       "==============================================================================\n",
       "Dep. Variable:               Strength   R-squared:                       0.615\n",
       "Model:                            OLS   Adj. R-squared:                  0.612\n",
       "Method:                 Least Squares   F-statistic:                     204.3\n",
       "Date:                Wed, 03 Aug 2022   Prob (F-statistic):          6.76e-206\n",
       "Time:                        10:30:41   Log-Likelihood:                -3869.0\n",
       "No. Observations:                1030   AIC:                             7756.\n",
       "Df Residuals:                    1021   BIC:                             7800.\n",
       "Df Model:                           8                                         \n",
       "Covariance Type:            nonrobust                                         \n",
       "====================================================================================\n",
       "                       coef    std err          t      P>|t|      [0.025      0.975]\n",
       "------------------------------------------------------------------------------------\n",
       "Intercept          -23.1638     26.588     -0.871      0.384     -75.338      29.010\n",
       "Cement               0.1198      0.008     14.110      0.000       0.103       0.136\n",
       "Blast                0.1038      0.010     10.245      0.000       0.084       0.124\n",
       "Fly_Ash              0.0879      0.013      6.988      0.000       0.063       0.113\n",
       "Water               -0.1503      0.040     -3.741      0.000      -0.229      -0.071\n",
       "Superplasticizer     0.2907      0.093      3.110      0.002       0.107       0.474\n",
       "Coarse_Aggregate     0.0180      0.009      1.919      0.055      -0.000       0.036\n",
       "Fine_Aggregate       0.0202      0.011      1.883      0.060      -0.001       0.041\n",
       "Age                  0.1142      0.005     21.046      0.000       0.104       0.125\n",
       "==============================================================================\n",
       "Omnibus:                        5.379   Durbin-Watson:                   1.281\n",
       "Prob(Omnibus):                  0.068   Jarque-Bera (JB):                5.305\n",
       "Skew:                          -0.174   Prob(JB):                       0.0705\n",
       "Kurtosis:                       3.045   Cond. No.                     1.06e+05\n",
       "==============================================================================\n",
       "\n",
       "Notes:\n",
       "[1] Standard Errors assume that the covariance matrix of the errors is correctly specified.\n",
       "[2] The condition number is large, 1.06e+05. This might indicate that there are\n",
       "strong multicollinearity or other numerical problems.\n",
       "\"\"\""
      ]
     },
     "execution_count": 25,
     "metadata": {},
     "output_type": "execute_result"
    }
   ],
   "source": [
    "lm3.summary()"
   ]
  },
  {
   "cell_type": "code",
   "execution_count": 26,
   "metadata": {},
   "outputs": [
    {
     "data": {
      "text/html": [
       "<table class=\"simpletable\">\n",
       "<caption>OLS Regression Results</caption>\n",
       "<tr>\n",
       "  <th>Dep. Variable:</th>        <td>Strength</td>     <th>  R-squared (uncentered):</th>      <td>   0.932</td>\n",
       "</tr>\n",
       "<tr>\n",
       "  <th>Model:</th>                   <td>OLS</td>       <th>  Adj. R-squared (uncentered):</th> <td>   0.932</td>\n",
       "</tr>\n",
       "<tr>\n",
       "  <th>Method:</th>             <td>Least Squares</td>  <th>  F-statistic:       </th>          <td>   1403.</td>\n",
       "</tr>\n",
       "<tr>\n",
       "  <th>Date:</th>             <td>Wed, 03 Aug 2022</td> <th>  Prob (F-statistic):</th>           <td>  0.00</td> \n",
       "</tr>\n",
       "<tr>\n",
       "  <th>Time:</th>                 <td>10:30:44</td>     <th>  Log-Likelihood:    </th>          <td> -3091.1</td>\n",
       "</tr>\n",
       "<tr>\n",
       "  <th>No. Observations:</th>      <td>   824</td>      <th>  AIC:               </th>          <td>   6198.</td>\n",
       "</tr>\n",
       "<tr>\n",
       "  <th>Df Residuals:</th>          <td>   816</td>      <th>  BIC:               </th>          <td>   6236.</td>\n",
       "</tr>\n",
       "<tr>\n",
       "  <th>Df Model:</th>              <td>     8</td>      <th>                     </th>              <td> </td>   \n",
       "</tr>\n",
       "<tr>\n",
       "  <th>Covariance Type:</th>      <td>nonrobust</td>    <th>                     </th>              <td> </td>   \n",
       "</tr>\n",
       "</table>\n",
       "<table class=\"simpletable\">\n",
       "<tr>\n",
       "           <td></td>             <th>coef</th>     <th>std err</th>      <th>t</th>      <th>P>|t|</th>  <th>[0.025</th>    <th>0.975]</th>  \n",
       "</tr>\n",
       "<tr>\n",
       "  <th>Cement </th>            <td>    0.1147</td> <td>    0.005</td> <td>   24.443</td> <td> 0.000</td> <td>    0.105</td> <td>    0.124</td>\n",
       "</tr>\n",
       "<tr>\n",
       "  <th>Blast </th>             <td>    0.0927</td> <td>    0.006</td> <td>   15.990</td> <td> 0.000</td> <td>    0.081</td> <td>    0.104</td>\n",
       "</tr>\n",
       "<tr>\n",
       "  <th>Fly_Ash </th>           <td>    0.0810</td> <td>    0.009</td> <td>    9.201</td> <td> 0.000</td> <td>    0.064</td> <td>    0.098</td>\n",
       "</tr>\n",
       "<tr>\n",
       "  <th>Water  </th>            <td>   -0.1824</td> <td>    0.018</td> <td>  -10.208</td> <td> 0.000</td> <td>   -0.218</td> <td>   -0.147</td>\n",
       "</tr>\n",
       "<tr>\n",
       "  <th>Superplasticizer </th>  <td>    0.2439</td> <td>    0.095</td> <td>    2.554</td> <td> 0.011</td> <td>    0.056</td> <td>    0.431</td>\n",
       "</tr>\n",
       "<tr>\n",
       "  <th>Coarse_Aggregate  </th> <td>    0.0093</td> <td>    0.003</td> <td>    2.710</td> <td> 0.007</td> <td>    0.003</td> <td>    0.016</td>\n",
       "</tr>\n",
       "<tr>\n",
       "  <th>Fine_Aggregate </th>    <td>    0.0126</td> <td>    0.004</td> <td>    3.210</td> <td> 0.001</td> <td>    0.005</td> <td>    0.020</td>\n",
       "</tr>\n",
       "<tr>\n",
       "  <th>Age</th>                <td>    0.1145</td> <td>    0.006</td> <td>   19.040</td> <td> 0.000</td> <td>    0.103</td> <td>    0.126</td>\n",
       "</tr>\n",
       "</table>\n",
       "<table class=\"simpletable\">\n",
       "<tr>\n",
       "  <th>Omnibus:</th>       <td> 3.937</td> <th>  Durbin-Watson:     </th> <td>   2.033</td>\n",
       "</tr>\n",
       "<tr>\n",
       "  <th>Prob(Omnibus):</th> <td> 0.140</td> <th>  Jarque-Bera (JB):  </th> <td>   3.964</td>\n",
       "</tr>\n",
       "<tr>\n",
       "  <th>Skew:</th>          <td>-0.169</td> <th>  Prob(JB):          </th> <td>   0.138</td>\n",
       "</tr>\n",
       "<tr>\n",
       "  <th>Kurtosis:</th>      <td> 2.959</td> <th>  Cond. No.          </th> <td>    345.</td>\n",
       "</tr>\n",
       "</table><br/><br/>Notes:<br/>[1] R² is computed without centering (uncentered) since the model does not contain a constant.<br/>[2] Standard Errors assume that the covariance matrix of the errors is correctly specified."
      ],
      "text/plain": [
       "<class 'statsmodels.iolib.summary.Summary'>\n",
       "\"\"\"\n",
       "                                 OLS Regression Results                                \n",
       "=======================================================================================\n",
       "Dep. Variable:               Strength   R-squared (uncentered):                   0.932\n",
       "Model:                            OLS   Adj. R-squared (uncentered):              0.932\n",
       "Method:                 Least Squares   F-statistic:                              1403.\n",
       "Date:                Wed, 03 Aug 2022   Prob (F-statistic):                        0.00\n",
       "Time:                        10:30:44   Log-Likelihood:                         -3091.1\n",
       "No. Observations:                 824   AIC:                                      6198.\n",
       "Df Residuals:                     816   BIC:                                      6236.\n",
       "Df Model:                           8                                                  \n",
       "Covariance Type:            nonrobust                                                  \n",
       "======================================================================================\n",
       "                         coef    std err          t      P>|t|      [0.025      0.975]\n",
       "--------------------------------------------------------------------------------------\n",
       "Cement                 0.1147      0.005     24.443      0.000       0.105       0.124\n",
       "Blast                  0.0927      0.006     15.990      0.000       0.081       0.104\n",
       "Fly_Ash                0.0810      0.009      9.201      0.000       0.064       0.098\n",
       "Water                 -0.1824      0.018    -10.208      0.000      -0.218      -0.147\n",
       "Superplasticizer       0.2439      0.095      2.554      0.011       0.056       0.431\n",
       "Coarse_Aggregate       0.0093      0.003      2.710      0.007       0.003       0.016\n",
       "Fine_Aggregate         0.0126      0.004      3.210      0.001       0.005       0.020\n",
       "Age                    0.1145      0.006     19.040      0.000       0.103       0.126\n",
       "==============================================================================\n",
       "Omnibus:                        3.937   Durbin-Watson:                   2.033\n",
       "Prob(Omnibus):                  0.140   Jarque-Bera (JB):                3.964\n",
       "Skew:                          -0.169   Prob(JB):                        0.138\n",
       "Kurtosis:                       2.959   Cond. No.                         345.\n",
       "==============================================================================\n",
       "\n",
       "Notes:\n",
       "[1] R² is computed without centering (uncentered) since the model does not contain a constant.\n",
       "[2] Standard Errors assume that the covariance matrix of the errors is correctly specified.\n",
       "\"\"\""
      ]
     },
     "execution_count": 26,
     "metadata": {},
     "output_type": "execute_result"
    }
   ],
   "source": [
    "lm2.summary()"
   ]
  },
  {
   "cell_type": "code",
   "execution_count": 36,
   "metadata": {},
   "outputs": [],
   "source": [
    "y_pred2 = lm2.predict(X_test) "
   ]
  },
  {
   "cell_type": "markdown",
   "metadata": {},
   "source": [
    "#### Detecting and Removing Multicollinearity "
   ]
  },
  {
   "cell_type": "code",
   "execution_count": 45,
   "metadata": {},
   "outputs": [],
   "source": [
    "from statsmodels.stats.outliers_influence import variance_inflation_factor"
   ]
  },
  {
   "cell_type": "code",
   "execution_count": 32,
   "metadata": {},
   "outputs": [
    {
     "data": {
      "text/plain": [
       "8"
      ]
     },
     "execution_count": 32,
     "metadata": {},
     "output_type": "execute_result"
    }
   ],
   "source": [
    "X_train.shape[1]"
   ]
  },
  {
   "cell_type": "code",
   "execution_count": 47,
   "metadata": {},
   "outputs": [
    {
     "data": {
      "text/plain": [
       "[0, 1, 2, 3, 4, 5, 6, 7, 8]"
      ]
     },
     "execution_count": 47,
     "metadata": {},
     "output_type": "execute_result"
    }
   ],
   "source": [
    "[j for j in range(X_train.shape[1])]"
   ]
  },
  {
   "cell_type": "code",
   "execution_count": null,
   "metadata": {},
   "outputs": [],
   "source": []
  },
  {
   "cell_type": "code",
   "execution_count": 33,
   "metadata": {},
   "outputs": [
    {
     "data": {
      "text/plain": [
       "array([[ 275.07,    0.  ,  121.35, ..., 1053.6 ,  777.5 ,   56.  ],\n",
       "       [ 516.  ,    0.  ,    0.  , ...,  801.  ,  802.  ,   28.  ],\n",
       "       [ 393.  ,    0.  ,    0.  , ...,  940.  ,  758.  ,   90.  ],\n",
       "       ...,\n",
       "       [ 213.5 ,    0.  ,  174.24, ..., 1052.3 ,  775.48,   14.  ],\n",
       "       [ 531.3 ,    0.  ,    0.  , ...,  852.1 ,  893.7 ,    3.  ],\n",
       "       [ 349.  ,    0.  ,    0.  , ..., 1047.  ,  806.  ,  360.  ]])"
      ]
     },
     "execution_count": 33,
     "metadata": {},
     "output_type": "execute_result"
    }
   ],
   "source": [
    "X_train.values"
   ]
  },
  {
   "cell_type": "code",
   "execution_count": 34,
   "metadata": {},
   "outputs": [
    {
     "data": {
      "text/plain": [
       "array([[1.0000e+00, 2.7507e+02, 0.0000e+00, ..., 1.0536e+03, 7.7750e+02,\n",
       "        5.6000e+01],\n",
       "       [1.0000e+00, 5.1600e+02, 0.0000e+00, ..., 8.0100e+02, 8.0200e+02,\n",
       "        2.8000e+01],\n",
       "       [1.0000e+00, 3.9300e+02, 0.0000e+00, ..., 9.4000e+02, 7.5800e+02,\n",
       "        9.0000e+01],\n",
       "       ...,\n",
       "       [1.0000e+00, 2.1350e+02, 0.0000e+00, ..., 1.0523e+03, 7.7548e+02,\n",
       "        1.4000e+01],\n",
       "       [1.0000e+00, 5.3130e+02, 0.0000e+00, ..., 8.5210e+02, 8.9370e+02,\n",
       "        3.0000e+00],\n",
       "       [1.0000e+00, 3.4900e+02, 0.0000e+00, ..., 1.0470e+03, 8.0600e+02,\n",
       "        3.6000e+02]])"
      ]
     },
     "execution_count": 34,
     "metadata": {},
     "output_type": "execute_result"
    }
   ],
   "source": [
    "X_train.values"
   ]
  },
  {
   "cell_type": "code",
   "execution_count": 49,
   "metadata": {},
   "outputs": [
    {
     "data": {
      "text/plain": [
       "[6890.634164727126,\n",
       " 7.659587243196392,\n",
       " 7.235157552063944,\n",
       " 6.1017572008700665,\n",
       " 7.190429933187499,\n",
       " 2.9423447864400454,\n",
       " 5.047804394278203,\n",
       " 7.015296551967477,\n",
       " 1.1029661494217335]"
      ]
     },
     "execution_count": 49,
     "metadata": {},
     "output_type": "execute_result"
    }
   ],
   "source": [
    "[variance_inflation_factor(X_train.values,j) for j in range(X_train.shape[1])]"
   ]
  },
  {
   "cell_type": "code",
   "execution_count": 36,
   "metadata": {},
   "outputs": [
    {
     "data": {
      "text/plain": [
       "['const',\n",
       " 'Cement',\n",
       " 'Blast',\n",
       " 'Fly_Ash',\n",
       " 'Water',\n",
       " 'Superplasticizer',\n",
       " 'Coarse_Aggregate',\n",
       " 'Fine_Aggregate',\n",
       " 'Age']"
      ]
     },
     "execution_count": 36,
     "metadata": {},
     "output_type": "execute_result"
    }
   ],
   "source": [
    "col = X_train.columns\n",
    "col=col.to_list()\n",
    "col"
   ]
  },
  {
   "cell_type": "code",
   "execution_count": 37,
   "metadata": {},
   "outputs": [
    {
     "data": {
      "text/plain": [
       "[6890.634164727126,\n",
       " 7.659587243196392,\n",
       " 7.235157552063944,\n",
       " 6.1017572008700665,\n",
       " 7.190429933187499,\n",
       " 2.9423447864400454,\n",
       " 5.047804394278203,\n",
       " 7.015296551967477,\n",
       " 1.1029661494217335]"
      ]
     },
     "execution_count": 37,
     "metadata": {},
     "output_type": "execute_result"
    }
   ],
   "source": [
    "vif = [variance_inflation_factor(X_train.values, j) for j in range(X_train.shape[1])]\n",
    "vif"
   ]
  },
  {
   "cell_type": "code",
   "execution_count": 52,
   "metadata": {},
   "outputs": [
    {
     "data": {
      "text/plain": [
       "[('const', 6890.634164727126),\n",
       " ('Cement', 7.659587243196392),\n",
       " ('Blast', 7.235157552063944),\n",
       " ('Fly_Ash', 6.1017572008700665),\n",
       " ('Water', 7.190429933187499),\n",
       " ('Superplasticizer', 2.9423447864400454),\n",
       " ('Coarse_Aggregate', 5.047804394278203),\n",
       " ('Fine_Aggregate', 7.015296551967477),\n",
       " ('Age', 1.1029661494217335)]"
      ]
     },
     "execution_count": 52,
     "metadata": {},
     "output_type": "execute_result"
    }
   ],
   "source": [
    "list(zip(col,vif))"
   ]
  },
  {
   "cell_type": "code",
   "execution_count": 44,
   "metadata": {},
   "outputs": [
    {
     "data": {
      "text/plain": [
       "0"
      ]
     },
     "execution_count": 44,
     "metadata": {},
     "output_type": "execute_result"
    }
   ],
   "source": [
    "np.argmax(vif)"
   ]
  },
  {
   "cell_type": "code",
   "execution_count": 54,
   "metadata": {},
   "outputs": [
    {
     "data": {
      "text/plain": [
       "('Fly_Ash', 6.1017572008700665)"
      ]
     },
     "execution_count": 54,
     "metadata": {},
     "output_type": "execute_result"
    }
   ],
   "source": [
    "col.pop(3), vif.pop(3)"
   ]
  },
  {
   "cell_type": "code",
   "execution_count": 55,
   "metadata": {},
   "outputs": [
    {
     "data": {
      "text/plain": [
       "[('const', 6890.634164727126),\n",
       " ('Cement', 7.659587243196392),\n",
       " ('Blast', 7.235157552063944),\n",
       " ('Water', 7.190429933187499),\n",
       " ('Superplasticizer', 2.9423447864400454),\n",
       " ('Coarse_Aggregate', 5.047804394278203),\n",
       " ('Fine_Aggregate', 7.015296551967477),\n",
       " ('Age', 1.1029661494217335)]"
      ]
     },
     "execution_count": 55,
     "metadata": {},
     "output_type": "execute_result"
    }
   ],
   "source": [
    "list(zip(col,vif))"
   ]
  },
  {
   "cell_type": "code",
   "execution_count": 56,
   "metadata": {},
   "outputs": [
    {
     "ename": "AttributeError",
     "evalue": "'list' object has no attribute 'to_list'",
     "output_type": "error",
     "traceback": [
      "\u001b[1;31m---------------------------------------------------------------------------\u001b[0m",
      "\u001b[1;31mAttributeError\u001b[0m                            Traceback (most recent call last)",
      "\u001b[1;32m<ipython-input-56-cb804c53bae5>\u001b[0m in \u001b[0;36m<module>\u001b[1;34m\u001b[0m\n\u001b[1;32m----> 1\u001b[1;33m \u001b[0mcol\u001b[0m\u001b[1;33m.\u001b[0m\u001b[0mto_list\u001b[0m\u001b[1;33m(\u001b[0m\u001b[1;33m)\u001b[0m\u001b[1;33m\u001b[0m\u001b[1;33m\u001b[0m\u001b[0m\n\u001b[0m",
      "\u001b[1;31mAttributeError\u001b[0m: 'list' object has no attribute 'to_list'"
     ]
    }
   ],
   "source": [
    "col.to_list()"
   ]
  },
  {
   "cell_type": "code",
   "execution_count": 43,
   "metadata": {},
   "outputs": [
    {
     "data": {
      "text/plain": [
       "6.1017572008700665"
      ]
     },
     "execution_count": 43,
     "metadata": {},
     "output_type": "execute_result"
    }
   ],
   "source": [
    "vif[3]"
   ]
  },
  {
   "cell_type": "code",
   "execution_count": 38,
   "metadata": {},
   "outputs": [
    {
     "data": {
      "text/plain": [
       "False"
      ]
     },
     "execution_count": 38,
     "metadata": {},
     "output_type": "execute_result"
    }
   ],
   "source": [
    "vif[0]<=5"
   ]
  },
  {
   "cell_type": "code",
   "execution_count": 59,
   "metadata": {},
   "outputs": [
    {
     "data": {
      "text/plain": [
       "0"
      ]
     },
     "execution_count": 59,
     "metadata": {},
     "output_type": "execute_result"
    }
   ],
   "source": [
    "# Returns indices of the max element of the array in a particular axis.\n",
    "np.argmax(vif)"
   ]
  },
  {
   "cell_type": "code",
   "execution_count": 60,
   "metadata": {},
   "outputs": [
    {
     "data": {
      "text/plain": [
       "Index(['const', 'Cement', 'Blast', 'Fly_Ash', 'Water', 'Superplasticizer',\n",
       "       'Coarse_Aggregate', 'Fine_Aggregate', 'Age'],\n",
       "      dtype='object')"
      ]
     },
     "execution_count": 60,
     "metadata": {},
     "output_type": "execute_result"
    }
   ],
   "source": [
    "X_train.columns"
   ]
  },
  {
   "cell_type": "markdown",
   "metadata": {},
   "source": [
    "- create a function to remove the collinear variables. \n",
    "\n",
    "- choose a threshold of 5 which means if VIF is more than 5 for a particular variable then that variable will be removed."
   ]
  },
  {
   "cell_type": "code",
   "execution_count": 61,
   "metadata": {},
   "outputs": [
    {
     "data": {
      "text/html": [
       "<div>\n",
       "<style scoped>\n",
       "    .dataframe tbody tr th:only-of-type {\n",
       "        vertical-align: middle;\n",
       "    }\n",
       "\n",
       "    .dataframe tbody tr th {\n",
       "        vertical-align: top;\n",
       "    }\n",
       "\n",
       "    .dataframe thead th {\n",
       "        text-align: right;\n",
       "    }\n",
       "</style>\n",
       "<table border=\"1\" class=\"dataframe\">\n",
       "  <thead>\n",
       "    <tr style=\"text-align: right;\">\n",
       "      <th></th>\n",
       "    </tr>\n",
       "  </thead>\n",
       "  <tbody>\n",
       "  </tbody>\n",
       "</table>\n",
       "</div>"
      ],
      "text/plain": [
       "Empty DataFrame\n",
       "Columns: []\n",
       "Index: []"
      ]
     },
     "execution_count": 61,
     "metadata": {},
     "output_type": "execute_result"
    }
   ],
   "source": [
    "a= pd.DataFrame()\n",
    "a"
   ]
  },
  {
   "cell_type": "code",
   "execution_count": 48,
   "metadata": {},
   "outputs": [
    {
     "data": {
      "text/plain": [
       "(824, 9)"
      ]
     },
     "execution_count": 48,
     "metadata": {},
     "output_type": "execute_result"
    }
   ],
   "source": [
    "X_train.shape"
   ]
  },
  {
   "cell_type": "code",
   "execution_count": null,
   "metadata": {},
   "outputs": [],
   "source": [
    "calculate_vif(X_train)"
   ]
  },
  {
   "cell_type": "code",
   "execution_count": 62,
   "metadata": {},
   "outputs": [],
   "source": [
    "#np.argmax([10,120,150,16]"
   ]
  },
  {
   "cell_type": "code",
   "execution_count": 52,
   "metadata": {},
   "outputs": [],
   "source": [
    "from statsmodels.stats.outliers_influence import variance_inflation_factor\n",
    "def calculate_vif(x):\n",
    "    thresh = 5.0\n",
    "    output = pd.DataFrame()\n",
    "    k = x.shape[1]\n",
    "    dropped_columns = []\n",
    "    \n",
    "    vif = [variance_inflation_factor(x.values, j) for j in range(x.shape[1])]\n",
    "    \n",
    "    \n",
    "    for i in range(1,k):\n",
    "        print(vif)\n",
    "        # Returns indices of the max element of the array in a particular axis.\n",
    "        a = np.argmax(vif)\n",
    "        print(\"==>Iteration no.\", i)\n",
    "        #print(\"Max VIF is for variable no.:\", a)\n",
    "        \n",
    "        if vif[a] <= thresh :\n",
    "            break\n",
    "            \n",
    "        if i == 1 :          \n",
    "            output = x.drop(x.columns[a], axis = 1)\n",
    "            vif = [variance_inflation_factor(output.values, j) for j in range(output.shape[1])]\n",
    "            print(x.columns[a])\n",
    "            dropped_columns.append(x.columns[a]) \n",
    "            #print(output.columns, x.columns)\n",
    "        elif i > 1 :\n",
    "            print(a)\n",
    "            output.drop(output.columns[a], axis = 1, inplace = True)\n",
    "            vif = [variance_inflation_factor(output.values, j) for j in range(output.shape[1])]\n",
    "            print(output.columns[a])\n",
    "            \n",
    "            dropped_columns.append(output.columns[a]) \n",
    "        \n",
    "        #print(\"dropping columns\",dropped_columns)\n",
    "        #print(\"output columns\", output.columns)\n",
    "        #print('X-columns', x.columns)\n",
    "        \n",
    "        #print(\"#######################\\n#######################\")\n",
    "    return(output, dropped_columns)\n"
   ]
  },
  {
   "cell_type": "code",
   "execution_count": 53,
   "metadata": {},
   "outputs": [
    {
     "name": "stdout",
     "output_type": "stream",
     "text": [
      "[6890.634164727126, 7.659587243196392, 7.235157552063944, 6.1017572008700665, 7.190429933187499, 2.9423447864400454, 5.047804394278203, 7.015296551967477, 1.1029661494217335]\n",
      "==>Iteration no. 1\n",
      "const\n",
      "[15.489323657296117, 3.2841945403134463, 4.130080894939746, 82.3068345875822, 5.217852069859374, 85.95487694415172, 71.86702257797346, 1.6844183351414324]\n",
      "==>Iteration no. 2\n",
      "5\n",
      "Fine_Aggregate\n",
      "[14.528308142525988, 3.2616673939300025, 3.969045651556572, 71.62021186089818, 5.176194099020355, 48.297352134991144, 1.6843904736568205]\n",
      "==>Iteration no. 3\n",
      "3\n",
      "Superplasticizer\n",
      "[9.391493698003837, 2.0852683834405235, 3.009459473501846, 2.906064890786732, 14.431299351196236, 1.5710036295711989]\n",
      "==>Iteration no. 4\n",
      "4\n",
      "Age\n",
      "[2.6947861184699864, 1.5254903505923516, 1.903355142672513, 2.8855296572756295, 1.5370957038434814]\n",
      "==>Iteration no. 5\n"
     ]
    }
   ],
   "source": [
    "train_out, dropped_columns = calculate_vif(X_train) "
   ]
  },
  {
   "cell_type": "code",
   "execution_count": 48,
   "metadata": {},
   "outputs": [
    {
     "data": {
      "text/plain": [
       "Index(['const', 'Cement', 'Blast', 'Fly_Ash', 'Water', 'Superplasticizer',\n",
       "       'Coarse_Aggregate', 'Fine_Aggregate', 'Age'],\n",
       "      dtype='object')"
      ]
     },
     "execution_count": 48,
     "metadata": {},
     "output_type": "execute_result"
    }
   ],
   "source": [
    "X_train.columns"
   ]
  },
  {
   "cell_type": "code",
   "execution_count": 49,
   "metadata": {},
   "outputs": [
    {
     "data": {
      "text/plain": [
       "['const', 'Fine_Aggregate', 'Superplasticizer', 'Age']"
      ]
     },
     "execution_count": 49,
     "metadata": {},
     "output_type": "execute_result"
    }
   ],
   "source": [
    "dropped_columns"
   ]
  },
  {
   "cell_type": "code",
   "execution_count": 82,
   "metadata": {},
   "outputs": [
    {
     "name": "stdout",
     "output_type": "stream",
     "text": [
      "None\n"
     ]
    }
   ],
   "source": [
    "print(train_out.drop(\"Age\", axis= 1, inplace = True))"
   ]
  },
  {
   "cell_type": "code",
   "execution_count": 50,
   "metadata": {},
   "outputs": [
    {
     "data": {
      "text/html": [
       "<div>\n",
       "<style scoped>\n",
       "    .dataframe tbody tr th:only-of-type {\n",
       "        vertical-align: middle;\n",
       "    }\n",
       "\n",
       "    .dataframe tbody tr th {\n",
       "        vertical-align: top;\n",
       "    }\n",
       "\n",
       "    .dataframe thead th {\n",
       "        text-align: right;\n",
       "    }\n",
       "</style>\n",
       "<table border=\"1\" class=\"dataframe\">\n",
       "  <thead>\n",
       "    <tr style=\"text-align: right;\">\n",
       "      <th></th>\n",
       "      <th>Cement</th>\n",
       "      <th>Blast</th>\n",
       "      <th>Fly_Ash</th>\n",
       "      <th>Superplasticizer</th>\n",
       "      <th>Age</th>\n",
       "    </tr>\n",
       "  </thead>\n",
       "  <tbody>\n",
       "    <tr>\n",
       "      <th>337</th>\n",
       "      <td>275.07</td>\n",
       "      <td>0.0</td>\n",
       "      <td>121.35</td>\n",
       "      <td>9.90</td>\n",
       "      <td>56</td>\n",
       "    </tr>\n",
       "    <tr>\n",
       "      <th>384</th>\n",
       "      <td>516.00</td>\n",
       "      <td>0.0</td>\n",
       "      <td>0.00</td>\n",
       "      <td>8.20</td>\n",
       "      <td>28</td>\n",
       "    </tr>\n",
       "    <tr>\n",
       "      <th>805</th>\n",
       "      <td>393.00</td>\n",
       "      <td>0.0</td>\n",
       "      <td>0.00</td>\n",
       "      <td>0.00</td>\n",
       "      <td>90</td>\n",
       "    </tr>\n",
       "    <tr>\n",
       "      <th>682</th>\n",
       "      <td>183.90</td>\n",
       "      <td>122.6</td>\n",
       "      <td>0.00</td>\n",
       "      <td>0.00</td>\n",
       "      <td>28</td>\n",
       "    </tr>\n",
       "    <tr>\n",
       "      <th>329</th>\n",
       "      <td>246.83</td>\n",
       "      <td>0.0</td>\n",
       "      <td>125.08</td>\n",
       "      <td>11.99</td>\n",
       "      <td>3</td>\n",
       "    </tr>\n",
       "    <tr>\n",
       "      <th>...</th>\n",
       "      <td>...</td>\n",
       "      <td>...</td>\n",
       "      <td>...</td>\n",
       "      <td>...</td>\n",
       "      <td>...</td>\n",
       "    </tr>\n",
       "    <tr>\n",
       "      <th>802</th>\n",
       "      <td>339.00</td>\n",
       "      <td>0.0</td>\n",
       "      <td>0.00</td>\n",
       "      <td>0.00</td>\n",
       "      <td>28</td>\n",
       "    </tr>\n",
       "    <tr>\n",
       "      <th>53</th>\n",
       "      <td>304.00</td>\n",
       "      <td>76.0</td>\n",
       "      <td>0.00</td>\n",
       "      <td>0.00</td>\n",
       "      <td>90</td>\n",
       "    </tr>\n",
       "    <tr>\n",
       "      <th>350</th>\n",
       "      <td>213.50</td>\n",
       "      <td>0.0</td>\n",
       "      <td>174.24</td>\n",
       "      <td>11.66</td>\n",
       "      <td>14</td>\n",
       "    </tr>\n",
       "    <tr>\n",
       "      <th>79</th>\n",
       "      <td>531.30</td>\n",
       "      <td>0.0</td>\n",
       "      <td>0.00</td>\n",
       "      <td>28.20</td>\n",
       "      <td>3</td>\n",
       "    </tr>\n",
       "    <tr>\n",
       "      <th>792</th>\n",
       "      <td>349.00</td>\n",
       "      <td>0.0</td>\n",
       "      <td>0.00</td>\n",
       "      <td>0.00</td>\n",
       "      <td>360</td>\n",
       "    </tr>\n",
       "  </tbody>\n",
       "</table>\n",
       "<p>824 rows × 5 columns</p>\n",
       "</div>"
      ],
      "text/plain": [
       "     Cement  Blast  Fly_Ash  Superplasticizer  Age\n",
       "337  275.07    0.0   121.35              9.90   56\n",
       "384  516.00    0.0     0.00              8.20   28\n",
       "805  393.00    0.0     0.00              0.00   90\n",
       "682  183.90  122.6     0.00              0.00   28\n",
       "329  246.83    0.0   125.08             11.99    3\n",
       "..      ...    ...      ...               ...  ...\n",
       "802  339.00    0.0     0.00              0.00   28\n",
       "53   304.00   76.0     0.00              0.00   90\n",
       "350  213.50    0.0   174.24             11.66   14\n",
       "79   531.30    0.0     0.00             28.20    3\n",
       "792  349.00    0.0     0.00              0.00  360\n",
       "\n",
       "[824 rows x 5 columns]"
      ]
     },
     "execution_count": 50,
     "metadata": {},
     "output_type": "execute_result"
    }
   ],
   "source": [
    "train_out"
   ]
  },
  {
   "cell_type": "code",
   "execution_count": 68,
   "metadata": {},
   "outputs": [
    {
     "data": {
      "text/plain": [
       "Index(['const', 'Cement', 'Blast', 'Fly_Ash', 'Water', 'Superplasticizer',\n",
       "       'Coarse_Aggregate', 'Fine_Aggregate', 'Age'],\n",
       "      dtype='object')"
      ]
     },
     "execution_count": 68,
     "metadata": {},
     "output_type": "execute_result"
    }
   ],
   "source": [
    "X_train.columns"
   ]
  },
  {
   "cell_type": "code",
   "execution_count": 49,
   "metadata": {},
   "outputs": [
    {
     "data": {
      "text/plain": [
       "['const', 'Superplasticizer', 'Fly_Ash', 'Water']"
      ]
     },
     "execution_count": 49,
     "metadata": {},
     "output_type": "execute_result"
    }
   ],
   "source": [
    "dropped_columns"
   ]
  },
  {
   "cell_type": "code",
   "execution_count": 90,
   "metadata": {},
   "outputs": [
    {
     "data": {
      "text/html": [
       "<div>\n",
       "<style scoped>\n",
       "    .dataframe tbody tr th:only-of-type {\n",
       "        vertical-align: middle;\n",
       "    }\n",
       "\n",
       "    .dataframe tbody tr th {\n",
       "        vertical-align: top;\n",
       "    }\n",
       "\n",
       "    .dataframe thead th {\n",
       "        text-align: right;\n",
       "    }\n",
       "</style>\n",
       "<table border=\"1\" class=\"dataframe\">\n",
       "  <thead>\n",
       "    <tr style=\"text-align: right;\">\n",
       "      <th></th>\n",
       "      <th>Cement</th>\n",
       "      <th>Blast</th>\n",
       "      <th>Fly_Ash</th>\n",
       "      <th>Superplasticizer</th>\n",
       "      <th>Age</th>\n",
       "    </tr>\n",
       "  </thead>\n",
       "  <tbody>\n",
       "    <tr>\n",
       "      <th>337</th>\n",
       "      <td>275.07</td>\n",
       "      <td>0.0</td>\n",
       "      <td>121.35</td>\n",
       "      <td>9.90</td>\n",
       "      <td>56</td>\n",
       "    </tr>\n",
       "    <tr>\n",
       "      <th>384</th>\n",
       "      <td>516.00</td>\n",
       "      <td>0.0</td>\n",
       "      <td>0.00</td>\n",
       "      <td>8.20</td>\n",
       "      <td>28</td>\n",
       "    </tr>\n",
       "    <tr>\n",
       "      <th>805</th>\n",
       "      <td>393.00</td>\n",
       "      <td>0.0</td>\n",
       "      <td>0.00</td>\n",
       "      <td>0.00</td>\n",
       "      <td>90</td>\n",
       "    </tr>\n",
       "    <tr>\n",
       "      <th>682</th>\n",
       "      <td>183.90</td>\n",
       "      <td>122.6</td>\n",
       "      <td>0.00</td>\n",
       "      <td>0.00</td>\n",
       "      <td>28</td>\n",
       "    </tr>\n",
       "    <tr>\n",
       "      <th>329</th>\n",
       "      <td>246.83</td>\n",
       "      <td>0.0</td>\n",
       "      <td>125.08</td>\n",
       "      <td>11.99</td>\n",
       "      <td>3</td>\n",
       "    </tr>\n",
       "  </tbody>\n",
       "</table>\n",
       "</div>"
      ],
      "text/plain": [
       "     Cement  Blast  Fly_Ash  Superplasticizer  Age\n",
       "337  275.07    0.0   121.35              9.90   56\n",
       "384  516.00    0.0     0.00              8.20   28\n",
       "805  393.00    0.0     0.00              0.00   90\n",
       "682  183.90  122.6     0.00              0.00   28\n",
       "329  246.83    0.0   125.08             11.99    3"
      ]
     },
     "execution_count": 90,
     "metadata": {},
     "output_type": "execute_result"
    }
   ],
   "source": [
    "train_out.head()"
   ]
  },
  {
   "cell_type": "code",
   "execution_count": 50,
   "metadata": {},
   "outputs": [
    {
     "data": {
      "text/html": [
       "<div>\n",
       "<style scoped>\n",
       "    .dataframe tbody tr th:only-of-type {\n",
       "        vertical-align: middle;\n",
       "    }\n",
       "\n",
       "    .dataframe tbody tr th {\n",
       "        vertical-align: top;\n",
       "    }\n",
       "\n",
       "    .dataframe thead th {\n",
       "        text-align: right;\n",
       "    }\n",
       "</style>\n",
       "<table border=\"1\" class=\"dataframe\">\n",
       "  <thead>\n",
       "    <tr style=\"text-align: right;\">\n",
       "      <th></th>\n",
       "      <th>const</th>\n",
       "      <th>Cement</th>\n",
       "      <th>Blast</th>\n",
       "      <th>Fly_Ash</th>\n",
       "      <th>Water</th>\n",
       "      <th>Superplasticizer</th>\n",
       "      <th>Coarse_Aggregate</th>\n",
       "      <th>Fine_Aggregate</th>\n",
       "      <th>Age</th>\n",
       "    </tr>\n",
       "  </thead>\n",
       "  <tbody>\n",
       "    <tr>\n",
       "      <th>173</th>\n",
       "      <td>1.0</td>\n",
       "      <td>318.8</td>\n",
       "      <td>212.5</td>\n",
       "      <td>0.00</td>\n",
       "      <td>155.7</td>\n",
       "      <td>14.30</td>\n",
       "      <td>852.1</td>\n",
       "      <td>880.40</td>\n",
       "      <td>91</td>\n",
       "    </tr>\n",
       "    <tr>\n",
       "      <th>134</th>\n",
       "      <td>1.0</td>\n",
       "      <td>362.6</td>\n",
       "      <td>189.0</td>\n",
       "      <td>0.00</td>\n",
       "      <td>164.9</td>\n",
       "      <td>11.60</td>\n",
       "      <td>944.7</td>\n",
       "      <td>755.80</td>\n",
       "      <td>28</td>\n",
       "    </tr>\n",
       "    <tr>\n",
       "      <th>822</th>\n",
       "      <td>1.0</td>\n",
       "      <td>322.0</td>\n",
       "      <td>0.0</td>\n",
       "      <td>0.00</td>\n",
       "      <td>203.0</td>\n",
       "      <td>0.00</td>\n",
       "      <td>974.0</td>\n",
       "      <td>800.00</td>\n",
       "      <td>28</td>\n",
       "    </tr>\n",
       "    <tr>\n",
       "      <th>264</th>\n",
       "      <td>1.0</td>\n",
       "      <td>212.0</td>\n",
       "      <td>0.0</td>\n",
       "      <td>124.78</td>\n",
       "      <td>159.0</td>\n",
       "      <td>7.84</td>\n",
       "      <td>1085.4</td>\n",
       "      <td>799.54</td>\n",
       "      <td>3</td>\n",
       "    </tr>\n",
       "    <tr>\n",
       "      <th>479</th>\n",
       "      <td>1.0</td>\n",
       "      <td>446.0</td>\n",
       "      <td>24.0</td>\n",
       "      <td>79.00</td>\n",
       "      <td>162.0</td>\n",
       "      <td>11.64</td>\n",
       "      <td>967.0</td>\n",
       "      <td>712.00</td>\n",
       "      <td>7</td>\n",
       "    </tr>\n",
       "  </tbody>\n",
       "</table>\n",
       "</div>"
      ],
      "text/plain": [
       "     const  Cement   Blast   Fly_Ash   Water    Superplasticizer   \\\n",
       "173    1.0    318.8   212.5      0.00    155.7              14.30   \n",
       "134    1.0    362.6   189.0      0.00    164.9              11.60   \n",
       "822    1.0    322.0     0.0      0.00    203.0               0.00   \n",
       "264    1.0    212.0     0.0    124.78    159.0               7.84   \n",
       "479    1.0    446.0    24.0     79.00    162.0              11.64   \n",
       "\n",
       "     Coarse_Aggregate    Fine_Aggregate   Age  \n",
       "173               852.1           880.40   91  \n",
       "134               944.7           755.80   28  \n",
       "822               974.0           800.00   28  \n",
       "264              1085.4           799.54    3  \n",
       "479               967.0           712.00    7  "
      ]
     },
     "execution_count": 50,
     "metadata": {},
     "output_type": "execute_result"
    }
   ],
   "source": [
    "X_test.head()"
   ]
  },
  {
   "cell_type": "code",
   "execution_count": 51,
   "metadata": {},
   "outputs": [],
   "source": [
    "X_test.columns= ['const', 'Cement ', 'Blast ', 'Fly_Ash', 'Water',\n",
    "       'Superplasticizer', 'Coarse_Aggregate', 'Fine_Aggregate', 'Age']"
   ]
  },
  {
   "cell_type": "code",
   "execution_count": 52,
   "metadata": {},
   "outputs": [
    {
     "data": {
      "text/plain": [
       "['const', 'Superplasticizer', 'Fly_Ash', 'Water']"
      ]
     },
     "execution_count": 52,
     "metadata": {},
     "output_type": "execute_result"
    }
   ],
   "source": [
    "dropped_columns"
   ]
  },
  {
   "cell_type": "code",
   "execution_count": 53,
   "metadata": {},
   "outputs": [],
   "source": [
    "X_test.drop(dropped_columns, axis = 1, inplace = True)"
   ]
  },
  {
   "cell_type": "code",
   "execution_count": 54,
   "metadata": {},
   "outputs": [
    {
     "data": {
      "text/html": [
       "<div>\n",
       "<style scoped>\n",
       "    .dataframe tbody tr th:only-of-type {\n",
       "        vertical-align: middle;\n",
       "    }\n",
       "\n",
       "    .dataframe tbody tr th {\n",
       "        vertical-align: top;\n",
       "    }\n",
       "\n",
       "    .dataframe thead th {\n",
       "        text-align: right;\n",
       "    }\n",
       "</style>\n",
       "<table border=\"1\" class=\"dataframe\">\n",
       "  <thead>\n",
       "    <tr style=\"text-align: right;\">\n",
       "      <th></th>\n",
       "      <th>Cement</th>\n",
       "      <th>Blast</th>\n",
       "      <th>Coarse_Aggregate</th>\n",
       "      <th>Fine_Aggregate</th>\n",
       "      <th>Age</th>\n",
       "    </tr>\n",
       "  </thead>\n",
       "  <tbody>\n",
       "    <tr>\n",
       "      <th>173</th>\n",
       "      <td>318.8</td>\n",
       "      <td>212.5</td>\n",
       "      <td>852.1</td>\n",
       "      <td>880.40</td>\n",
       "      <td>91</td>\n",
       "    </tr>\n",
       "    <tr>\n",
       "      <th>134</th>\n",
       "      <td>362.6</td>\n",
       "      <td>189.0</td>\n",
       "      <td>944.7</td>\n",
       "      <td>755.80</td>\n",
       "      <td>28</td>\n",
       "    </tr>\n",
       "    <tr>\n",
       "      <th>822</th>\n",
       "      <td>322.0</td>\n",
       "      <td>0.0</td>\n",
       "      <td>974.0</td>\n",
       "      <td>800.00</td>\n",
       "      <td>28</td>\n",
       "    </tr>\n",
       "    <tr>\n",
       "      <th>264</th>\n",
       "      <td>212.0</td>\n",
       "      <td>0.0</td>\n",
       "      <td>1085.4</td>\n",
       "      <td>799.54</td>\n",
       "      <td>3</td>\n",
       "    </tr>\n",
       "    <tr>\n",
       "      <th>479</th>\n",
       "      <td>446.0</td>\n",
       "      <td>24.0</td>\n",
       "      <td>967.0</td>\n",
       "      <td>712.00</td>\n",
       "      <td>7</td>\n",
       "    </tr>\n",
       "  </tbody>\n",
       "</table>\n",
       "</div>"
      ],
      "text/plain": [
       "     Cement   Blast   Coarse_Aggregate  Fine_Aggregate  Age\n",
       "173    318.8   212.5             852.1          880.40   91\n",
       "134    362.6   189.0             944.7          755.80   28\n",
       "822    322.0     0.0             974.0          800.00   28\n",
       "264    212.0     0.0            1085.4          799.54    3\n",
       "479    446.0    24.0             967.0          712.00    7"
      ]
     },
     "execution_count": 54,
     "metadata": {},
     "output_type": "execute_result"
    }
   ],
   "source": [
    "X_test.head()"
   ]
  },
  {
   "cell_type": "code",
   "execution_count": 55,
   "metadata": {},
   "outputs": [
    {
     "data": {
      "text/plain": [
       "Index(['Cement', 'Blast', 'Fly_Ash', 'Superplasticizer', 'Age'], dtype='object')"
      ]
     },
     "execution_count": 55,
     "metadata": {},
     "output_type": "execute_result"
    }
   ],
   "source": [
    "train_out.columns"
   ]
  },
  {
   "cell_type": "code",
   "execution_count": 52,
   "metadata": {},
   "outputs": [
    {
     "data": {
      "text/html": [
       "<div>\n",
       "<style scoped>\n",
       "    .dataframe tbody tr th:only-of-type {\n",
       "        vertical-align: middle;\n",
       "    }\n",
       "\n",
       "    .dataframe tbody tr th {\n",
       "        vertical-align: top;\n",
       "    }\n",
       "\n",
       "    .dataframe thead th {\n",
       "        text-align: right;\n",
       "    }\n",
       "</style>\n",
       "<table border=\"1\" class=\"dataframe\">\n",
       "  <thead>\n",
       "    <tr style=\"text-align: right;\">\n",
       "      <th></th>\n",
       "      <th>Cement</th>\n",
       "      <th>Blast</th>\n",
       "      <th>Fly_Ash</th>\n",
       "      <th>Superplasticizer</th>\n",
       "      <th>Age</th>\n",
       "    </tr>\n",
       "  </thead>\n",
       "  <tbody>\n",
       "    <tr>\n",
       "      <th>Cement</th>\n",
       "      <td>1.000000</td>\n",
       "      <td>-0.278711</td>\n",
       "      <td>-0.399873</td>\n",
       "      <td>0.072083</td>\n",
       "      <td>0.048261</td>\n",
       "    </tr>\n",
       "    <tr>\n",
       "      <th>Blast</th>\n",
       "      <td>-0.278711</td>\n",
       "      <td>1.000000</td>\n",
       "      <td>-0.328539</td>\n",
       "      <td>0.041642</td>\n",
       "      <td>-0.018399</td>\n",
       "    </tr>\n",
       "    <tr>\n",
       "      <th>Fly_Ash</th>\n",
       "      <td>-0.399873</td>\n",
       "      <td>-0.328539</td>\n",
       "      <td>1.000000</td>\n",
       "      <td>0.389289</td>\n",
       "      <td>-0.149583</td>\n",
       "    </tr>\n",
       "    <tr>\n",
       "      <th>Superplasticizer</th>\n",
       "      <td>0.072083</td>\n",
       "      <td>0.041642</td>\n",
       "      <td>0.389289</td>\n",
       "      <td>1.000000</td>\n",
       "      <td>-0.193529</td>\n",
       "    </tr>\n",
       "    <tr>\n",
       "      <th>Age</th>\n",
       "      <td>0.048261</td>\n",
       "      <td>-0.018399</td>\n",
       "      <td>-0.149583</td>\n",
       "      <td>-0.193529</td>\n",
       "      <td>1.000000</td>\n",
       "    </tr>\n",
       "  </tbody>\n",
       "</table>\n",
       "</div>"
      ],
      "text/plain": [
       "                    Cement     Blast   Fly_Ash  Superplasticizer       Age\n",
       "Cement            1.000000 -0.278711 -0.399873          0.072083  0.048261\n",
       "Blast            -0.278711  1.000000 -0.328539          0.041642 -0.018399\n",
       "Fly_Ash          -0.399873 -0.328539  1.000000          0.389289 -0.149583\n",
       "Superplasticizer  0.072083  0.041642  0.389289          1.000000 -0.193529\n",
       "Age               0.048261 -0.018399 -0.149583         -0.193529  1.000000"
      ]
     },
     "execution_count": 52,
     "metadata": {},
     "output_type": "execute_result"
    }
   ],
   "source": [
    "train_out.corr()"
   ]
  },
  {
   "cell_type": "markdown",
   "metadata": {},
   "source": [
    "#### Running linear regression again on our new training set (without multicollinearity)"
   ]
  },
  {
   "cell_type": "code",
   "execution_count": 55,
   "metadata": {},
   "outputs": [
    {
     "data": {
      "text/html": [
       "<table class=\"simpletable\">\n",
       "<caption>OLS Regression Results</caption>\n",
       "<tr>\n",
       "  <th>Dep. Variable:</th>        <td>Strength</td>     <th>  R-squared:         </th> <td>   0.570</td> \n",
       "</tr>\n",
       "<tr>\n",
       "  <th>Model:</th>                   <td>OLS</td>       <th>  Adj. R-squared:    </th> <td>   0.567</td> \n",
       "</tr>\n",
       "<tr>\n",
       "  <th>Method:</th>             <td>Least Squares</td>  <th>  F-statistic:       </th> <td>   216.7</td> \n",
       "</tr>\n",
       "<tr>\n",
       "  <th>Date:</th>             <td>Tue, 20 Dec 2022</td> <th>  Prob (F-statistic):</th> <td>4.06e-147</td>\n",
       "</tr>\n",
       "<tr>\n",
       "  <th>Time:</th>                 <td>16:38:45</td>     <th>  Log-Likelihood:    </th> <td> -3133.5</td> \n",
       "</tr>\n",
       "<tr>\n",
       "  <th>No. Observations:</th>      <td>   824</td>      <th>  AIC:               </th> <td>   6279.</td> \n",
       "</tr>\n",
       "<tr>\n",
       "  <th>Df Residuals:</th>          <td>   818</td>      <th>  BIC:               </th> <td>   6307.</td> \n",
       "</tr>\n",
       "<tr>\n",
       "  <th>Df Model:</th>              <td>     5</td>      <th>                     </th>     <td> </td>    \n",
       "</tr>\n",
       "<tr>\n",
       "  <th>Covariance Type:</th>      <td>nonrobust</td>    <th>                     </th>     <td> </td>    \n",
       "</tr>\n",
       "</table>\n",
       "<table class=\"simpletable\">\n",
       "<tr>\n",
       "          <td></td>            <th>coef</th>     <th>std err</th>      <th>t</th>      <th>P>|t|</th>  <th>[0.025</th>    <th>0.975]</th>  \n",
       "</tr>\n",
       "<tr>\n",
       "  <th>const</th>            <td>  -11.1582</td> <td>    1.917</td> <td>   -5.821</td> <td> 0.000</td> <td>  -14.921</td> <td>   -7.395</td>\n",
       "</tr>\n",
       "<tr>\n",
       "  <th>Cement</th>           <td>    0.1032</td> <td>    0.005</td> <td>   20.931</td> <td> 0.000</td> <td>    0.094</td> <td>    0.113</td>\n",
       "</tr>\n",
       "<tr>\n",
       "  <th>Blast</th>            <td>    0.0716</td> <td>    0.006</td> <td>   12.539</td> <td> 0.000</td> <td>    0.060</td> <td>    0.083</td>\n",
       "</tr>\n",
       "<tr>\n",
       "  <th>Fly_Ash</th>          <td>    0.0614</td> <td>    0.009</td> <td>    6.745</td> <td> 0.000</td> <td>    0.044</td> <td>    0.079</td>\n",
       "</tr>\n",
       "<tr>\n",
       "  <th>Superplasticizer</th> <td>    0.7555</td> <td>    0.077</td> <td>    9.778</td> <td> 0.000</td> <td>    0.604</td> <td>    0.907</td>\n",
       "</tr>\n",
       "<tr>\n",
       "  <th>Age</th>              <td>    0.1024</td> <td>    0.006</td> <td>   16.616</td> <td> 0.000</td> <td>    0.090</td> <td>    0.115</td>\n",
       "</tr>\n",
       "</table>\n",
       "<table class=\"simpletable\">\n",
       "<tr>\n",
       "  <th>Omnibus:</th>       <td> 0.897</td> <th>  Durbin-Watson:     </th> <td>   2.092</td>\n",
       "</tr>\n",
       "<tr>\n",
       "  <th>Prob(Omnibus):</th> <td> 0.639</td> <th>  Jarque-Bera (JB):  </th> <td>   0.968</td>\n",
       "</tr>\n",
       "<tr>\n",
       "  <th>Skew:</th>          <td> 0.038</td> <th>  Prob(JB):          </th> <td>   0.616</td>\n",
       "</tr>\n",
       "<tr>\n",
       "  <th>Kurtosis:</th>      <td> 2.850</td> <th>  Cond. No.          </th> <td>1.59e+03</td>\n",
       "</tr>\n",
       "</table><br/><br/>Notes:<br/>[1] Standard Errors assume that the covariance matrix of the errors is correctly specified.<br/>[2] The condition number is large, 1.59e+03. This might indicate that there are<br/>strong multicollinearity or other numerical problems."
      ],
      "text/plain": [
       "<class 'statsmodels.iolib.summary.Summary'>\n",
       "\"\"\"\n",
       "                            OLS Regression Results                            \n",
       "==============================================================================\n",
       "Dep. Variable:               Strength   R-squared:                       0.570\n",
       "Model:                            OLS   Adj. R-squared:                  0.567\n",
       "Method:                 Least Squares   F-statistic:                     216.7\n",
       "Date:                Tue, 20 Dec 2022   Prob (F-statistic):          4.06e-147\n",
       "Time:                        16:38:45   Log-Likelihood:                -3133.5\n",
       "No. Observations:                 824   AIC:                             6279.\n",
       "Df Residuals:                     818   BIC:                             6307.\n",
       "Df Model:                           5                                         \n",
       "Covariance Type:            nonrobust                                         \n",
       "====================================================================================\n",
       "                       coef    std err          t      P>|t|      [0.025      0.975]\n",
       "------------------------------------------------------------------------------------\n",
       "const              -11.1582      1.917     -5.821      0.000     -14.921      -7.395\n",
       "Cement               0.1032      0.005     20.931      0.000       0.094       0.113\n",
       "Blast                0.0716      0.006     12.539      0.000       0.060       0.083\n",
       "Fly_Ash              0.0614      0.009      6.745      0.000       0.044       0.079\n",
       "Superplasticizer     0.7555      0.077      9.778      0.000       0.604       0.907\n",
       "Age                  0.1024      0.006     16.616      0.000       0.090       0.115\n",
       "==============================================================================\n",
       "Omnibus:                        0.897   Durbin-Watson:                   2.092\n",
       "Prob(Omnibus):                  0.639   Jarque-Bera (JB):                0.968\n",
       "Skew:                           0.038   Prob(JB):                        0.616\n",
       "Kurtosis:                       2.850   Cond. No.                     1.59e+03\n",
       "==============================================================================\n",
       "\n",
       "Notes:\n",
       "[1] Standard Errors assume that the covariance matrix of the errors is correctly specified.\n",
       "[2] The condition number is large, 1.59e+03. This might indicate that there are\n",
       "strong multicollinearity or other numerical problems.\n",
       "\"\"\""
      ]
     },
     "execution_count": 55,
     "metadata": {},
     "output_type": "execute_result"
    }
   ],
   "source": [
    "train_out = sa.add_constant(train_out) ## let's add an intercept (beta_0) to our model\n",
    "\n",
    "X_test    = sa.add_constant(X_test)\n",
    "\n",
    "lm2 = sa.OLS(y_train, train_out).fit()\n",
    "lm2.summary()"
   ]
  },
  {
   "cell_type": "code",
   "execution_count": 57,
   "metadata": {},
   "outputs": [
    {
     "data": {
      "text/plain": [
       "((206, 6), (206, 1))"
      ]
     },
     "execution_count": 57,
     "metadata": {},
     "output_type": "execute_result"
    }
   ],
   "source": [
    "X_test.shape,  y_test.shape"
   ]
  },
  {
   "cell_type": "code",
   "execution_count": 58,
   "metadata": {},
   "outputs": [],
   "source": [
    "#lm2 = sa.OLS(y_train, X_test).fit()\n",
    "#lm2.summary()"
   ]
  },
  {
   "cell_type": "code",
   "execution_count": 59,
   "metadata": {},
   "outputs": [
    {
     "data": {
      "text/html": [
       "<div>\n",
       "<style scoped>\n",
       "    .dataframe tbody tr th:only-of-type {\n",
       "        vertical-align: middle;\n",
       "    }\n",
       "\n",
       "    .dataframe tbody tr th {\n",
       "        vertical-align: top;\n",
       "    }\n",
       "\n",
       "    .dataframe thead th {\n",
       "        text-align: right;\n",
       "    }\n",
       "</style>\n",
       "<table border=\"1\" class=\"dataframe\">\n",
       "  <thead>\n",
       "    <tr style=\"text-align: right;\">\n",
       "      <th></th>\n",
       "      <th>const</th>\n",
       "      <th>Cement</th>\n",
       "      <th>Blast</th>\n",
       "      <th>Fly_Ash</th>\n",
       "      <th>Superplasticizer</th>\n",
       "      <th>Age</th>\n",
       "    </tr>\n",
       "  </thead>\n",
       "  <tbody>\n",
       "    <tr>\n",
       "      <th>337</th>\n",
       "      <td>1.0</td>\n",
       "      <td>275.07</td>\n",
       "      <td>0.0</td>\n",
       "      <td>121.35</td>\n",
       "      <td>9.90</td>\n",
       "      <td>56</td>\n",
       "    </tr>\n",
       "    <tr>\n",
       "      <th>384</th>\n",
       "      <td>1.0</td>\n",
       "      <td>516.00</td>\n",
       "      <td>0.0</td>\n",
       "      <td>0.00</td>\n",
       "      <td>8.20</td>\n",
       "      <td>28</td>\n",
       "    </tr>\n",
       "    <tr>\n",
       "      <th>805</th>\n",
       "      <td>1.0</td>\n",
       "      <td>393.00</td>\n",
       "      <td>0.0</td>\n",
       "      <td>0.00</td>\n",
       "      <td>0.00</td>\n",
       "      <td>90</td>\n",
       "    </tr>\n",
       "    <tr>\n",
       "      <th>682</th>\n",
       "      <td>1.0</td>\n",
       "      <td>183.90</td>\n",
       "      <td>122.6</td>\n",
       "      <td>0.00</td>\n",
       "      <td>0.00</td>\n",
       "      <td>28</td>\n",
       "    </tr>\n",
       "    <tr>\n",
       "      <th>329</th>\n",
       "      <td>1.0</td>\n",
       "      <td>246.83</td>\n",
       "      <td>0.0</td>\n",
       "      <td>125.08</td>\n",
       "      <td>11.99</td>\n",
       "      <td>3</td>\n",
       "    </tr>\n",
       "    <tr>\n",
       "      <th>...</th>\n",
       "      <td>...</td>\n",
       "      <td>...</td>\n",
       "      <td>...</td>\n",
       "      <td>...</td>\n",
       "      <td>...</td>\n",
       "      <td>...</td>\n",
       "    </tr>\n",
       "    <tr>\n",
       "      <th>802</th>\n",
       "      <td>1.0</td>\n",
       "      <td>339.00</td>\n",
       "      <td>0.0</td>\n",
       "      <td>0.00</td>\n",
       "      <td>0.00</td>\n",
       "      <td>28</td>\n",
       "    </tr>\n",
       "    <tr>\n",
       "      <th>53</th>\n",
       "      <td>1.0</td>\n",
       "      <td>304.00</td>\n",
       "      <td>76.0</td>\n",
       "      <td>0.00</td>\n",
       "      <td>0.00</td>\n",
       "      <td>90</td>\n",
       "    </tr>\n",
       "    <tr>\n",
       "      <th>350</th>\n",
       "      <td>1.0</td>\n",
       "      <td>213.50</td>\n",
       "      <td>0.0</td>\n",
       "      <td>174.24</td>\n",
       "      <td>11.66</td>\n",
       "      <td>14</td>\n",
       "    </tr>\n",
       "    <tr>\n",
       "      <th>79</th>\n",
       "      <td>1.0</td>\n",
       "      <td>531.30</td>\n",
       "      <td>0.0</td>\n",
       "      <td>0.00</td>\n",
       "      <td>28.20</td>\n",
       "      <td>3</td>\n",
       "    </tr>\n",
       "    <tr>\n",
       "      <th>792</th>\n",
       "      <td>1.0</td>\n",
       "      <td>349.00</td>\n",
       "      <td>0.0</td>\n",
       "      <td>0.00</td>\n",
       "      <td>0.00</td>\n",
       "      <td>360</td>\n",
       "    </tr>\n",
       "  </tbody>\n",
       "</table>\n",
       "<p>824 rows × 6 columns</p>\n",
       "</div>"
      ],
      "text/plain": [
       "     const  Cement  Blast  Fly_Ash  Superplasticizer  Age\n",
       "337    1.0  275.07    0.0   121.35              9.90   56\n",
       "384    1.0  516.00    0.0     0.00              8.20   28\n",
       "805    1.0  393.00    0.0     0.00              0.00   90\n",
       "682    1.0  183.90  122.6     0.00              0.00   28\n",
       "329    1.0  246.83    0.0   125.08             11.99    3\n",
       "..     ...     ...    ...      ...               ...  ...\n",
       "802    1.0  339.00    0.0     0.00              0.00   28\n",
       "53     1.0  304.00   76.0     0.00              0.00   90\n",
       "350    1.0  213.50    0.0   174.24             11.66   14\n",
       "79     1.0  531.30    0.0     0.00             28.20    3\n",
       "792    1.0  349.00    0.0     0.00              0.00  360\n",
       "\n",
       "[824 rows x 6 columns]"
      ]
     },
     "execution_count": 59,
     "metadata": {},
     "output_type": "execute_result"
    }
   ],
   "source": [
    "train_out"
   ]
  },
  {
   "cell_type": "markdown",
   "metadata": {},
   "source": [
    "#### Checking normality of residuals \n",
    "\n",
    "We use Shapiro Wilk test  from scipy library to check the normality of residuals.\n",
    "\n",
    "Null Hypothesis: The residuals are normally distributed.\n",
    "\n",
    "Alternative Hypothesis: The residuals are not normally distributed."
   ]
  },
  {
   "cell_type": "code",
   "execution_count": 60,
   "metadata": {},
   "outputs": [
    {
     "data": {
      "text/plain": [
       "ShapiroResult(statistic=0.9983593225479126, pvalue=0.6363931894302368)"
      ]
     },
     "execution_count": 60,
     "metadata": {},
     "output_type": "execute_result"
    }
   ],
   "source": [
    "from scipy import stats\n",
    "stats.shapiro(lm2.resid)"
   ]
  },
  {
   "cell_type": "markdown",
   "metadata": {},
   "source": [
    "Since the pvalue is 0.6269 thus at 5% level of significance we can say that the residuals are normally distributed."
   ]
  },
  {
   "cell_type": "code",
   "execution_count": 61,
   "metadata": {},
   "outputs": [
    {
     "data": {
      "text/plain": [
       "<AxesSubplot:ylabel='Density'>"
      ]
     },
     "execution_count": 61,
     "metadata": {},
     "output_type": "execute_result"
    },
    {
     "data": {
      "image/png": "[encoded data removed]",
      "text/plain": [
       "<Figure size 432x288 with 1 Axes>"
      ]
     },
     "metadata": {
      "needs_background": "light"
     },
     "output_type": "display_data"
    }
   ],
   "source": [
    "lm2.resid.plot(kind = 'density')"
   ]
  },
  {
   "cell_type": "code",
   "execution_count": 63,
   "metadata": {},
   "outputs": [
    {
     "data": {
      "image/png": "[encoded data removed]",
      "text/plain": [
       "<Figure size 432x288 with 1 Axes>"
      ]
     },
     "metadata": {
      "needs_background": "light"
     },
     "output_type": "display_data"
    }
   ],
   "source": [
    "stats.probplot(lm2.resid, plot= plt)\n",
    "plt.title(\"Model1 Residuals Probability Plot\");"
   ]
  },
  {
   "cell_type": "code",
   "execution_count": 66,
   "metadata": {},
   "outputs": [
    {
     "data": {
      "text/plain": [
       "3.359211268977442e-136"
      ]
     },
     "execution_count": 66,
     "metadata": {},
     "output_type": "execute_result"
    }
   ],
   "source": [
    "stats.kstest(lm2.resid, 'norm')[1]"
   ]
  },
  {
   "cell_type": "code",
   "execution_count": 68,
   "metadata": {},
   "outputs": [
    {
     "ename": "TypeError",
     "evalue": "kstest() missing 1 required positional argument: 'cdf'",
     "output_type": "error",
     "traceback": [
      "\u001b[1;31m---------------------------------------------------------------------------\u001b[0m",
      "\u001b[1;31mTypeError\u001b[0m                                 Traceback (most recent call last)",
      "\u001b[1;32m<ipython-input-68-ae478c416ea8>\u001b[0m in \u001b[0;36m<module>\u001b[1;34m\u001b[0m\n\u001b[1;32m----> 1\u001b[1;33m \u001b[1;32mif\u001b[0m \u001b[0mstats\u001b[0m\u001b[1;33m.\u001b[0m\u001b[0mkstest\u001b[0m\u001b[1;33m(\u001b[0m\u001b[0mlm2\u001b[0m\u001b[1;33m.\u001b[0m\u001b[0mresid\u001b[0m\u001b[1;33m)\u001b[0m\u001b[1;33m[\u001b[0m\u001b[1;36m1\u001b[0m\u001b[1;33m]\u001b[0m \u001b[1;33m<\u001b[0m \u001b[1;36m0.05\u001b[0m\u001b[1;33m:\u001b[0m\u001b[1;33m\u001b[0m\u001b[1;33m\u001b[0m\u001b[0m\n\u001b[0m\u001b[0;32m      2\u001b[0m     \u001b[0mprint\u001b[0m\u001b[1;33m(\u001b[0m\u001b[1;34m\"reject null\"\u001b[0m\u001b[1;33m)\u001b[0m\u001b[1;33m\u001b[0m\u001b[1;33m\u001b[0m\u001b[0m\n",
      "\u001b[1;31mTypeError\u001b[0m: kstest() missing 1 required positional argument: 'cdf'"
     ]
    }
   ],
   "source": [
    "if stats.kstest(lm2.resid)[1] < 0.05:\n",
    "    print(\"reject null\")"
   ]
  }
 ],
 "metadata": {
  "kernelspec": {
   "display_name": "Python 3 (ipykernel)",
   "language": "python",
   "name": "python3"
  },
  "language_info": {
   "codemirror_mode": {
    "name": "ipython",
    "version": 3
   },
   "file_extension": ".py",
   "mimetype": "text/x-python",
   "name": "python",
   "nbconvert_exporter": "python",
   "pygments_lexer": "ipython3",
   "version": "3.9.7"
  }
 },
 "nbformat": 4,
 "nbformat_minor": 2
}

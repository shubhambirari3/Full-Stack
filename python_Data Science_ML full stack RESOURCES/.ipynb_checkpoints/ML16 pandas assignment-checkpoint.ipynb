{
 "cells": [
  {
   "cell_type": "code",
   "execution_count": null,
   "id": "66492cc2",
   "metadata": {},
   "outputs": [],
   "source": []
  },
  {
   "cell_type": "code",
   "execution_count": null,
   "id": "0d262388",
   "metadata": {},
   "outputs": [],
   "source": []
  },
  {
   "cell_type": "code",
   "execution_count": null,
   "id": "9aec31fb",
   "metadata": {},
   "outputs": [],
   "source": [
    "import pandas as pd\n",
    "\n",
    "# 1. Read the data set Superstore.xlsx\n",
    "df = pd.read_excel(\"Superstore.xlsx\")\n",
    "\n",
    "# 2. Check the data type of columns\n",
    "print(df.dtypes)\n",
    "\n",
    "# 3. Convert date column from object to date time object if required\n",
    "df[\"Order Date\"] = pd.to_datetime(df[\"Order Date\"])\n",
    "\n",
    "# 4. Find out the record for the month of jun-2014\n",
    "jun_2014 = df[(df[\"Order Date\"].dt.month == 6) & (df[\"Order Date\"].dt.year == 2014)]\n",
    "print(jun_2014)\n",
    "\n",
    "# 5. Calculate month wise average of profit.\n",
    "profit_monthly = df.groupby(df[\"Order Date\"].dt.to_period(\"M\"))[\"Profit\"].mean()\n",
    "print(profit_monthly)\n",
    "\n",
    "# 6. Create the new data frame for California\n",
    "california_df = df[df[\"State\"] == \"California\"]\n",
    "\n",
    "# 7. Find sum of sales\n",
    "total_sales = df[\"Sales\"].sum()\n",
    "print(total_sales)\n",
    "\n",
    "# 8. Find state wise sum of sales\n",
    "sales_statewise = df.groupby(\"State\")[\"Sales\"].sum()\n",
    "print(sales_statewise)\n",
    "\n",
    "# 9. Find month wise sum of sales\n",
    "sales_monthly = df.groupby(df[\"Order Date\"].dt.to_period(\"M\"))[\"Sales\"].sum()\n",
    "print(sales_monthly)\n",
    "\n",
    "# 10. Find country wise and city wise average profit\n",
    "profit_country_city = df.groupby([\"Country\", \"City\"])[\"Profit\"].mean()\n",
    "print(profit_country_city)\n",
    "\n",
    "# 11. Calculate region wise average profit\n",
    "profit_regionwise = df.groupby(\"Region\")[\"Profit\"].mean()\n",
    "print(profit_regionwise)\n",
    "\n",
    "# 12. Find the ship mode which is more profitable\n",
    "profit_shipmode = df.groupby(\"Ship Mode\")[\"Profit\"].sum()\n",
    "print(profit_shipmode.idxmax())\n",
    "\n",
    "# 13. Create a new data frame where loss is recorded\n",
    "loss_df = df[df[\"Profit\"] < 0]\n",
    "\n",
    "# 14. Find category wise sub category wise sales\n",
    "sales_category_subcategory = df.groupby([\"Category\", \"Sub-Category\"])[\"Sales\"].sum()\n",
    "print(sales_category_subcategory)\n",
    "\n",
    "# 15. Create a data frame for record where discount is 0\n",
    "no_discount_df = df[df[\"Discount\"] == 0]\n"
   ]
  }
 ],
 "metadata": {
  "kernelspec": {
   "display_name": "Python 3 (ipykernel)",
   "language": "python",
   "name": "python3"
  },
  "language_info": {
   "codemirror_mode": {
    "name": "ipython",
    "version": 3
   },
   "file_extension": ".py",
   "mimetype": "text/x-python",
   "name": "python",
   "nbconvert_exporter": "python",
   "pygments_lexer": "ipython3",
   "version": "3.9.7"
  }
 },
 "nbformat": 4,
 "nbformat_minor": 5
}

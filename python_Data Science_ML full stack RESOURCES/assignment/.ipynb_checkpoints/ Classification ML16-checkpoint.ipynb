{
 "cells": [
  {
   "cell_type": "code",
   "execution_count": null,
   "id": "d971757b",
   "metadata": {},
   "outputs": [],
   "source": []
  },
  {
   "cell_type": "code",
   "execution_count": 1,
   "id": "eb4d08e0",
   "metadata": {},
   "outputs": [],
   "source": [
    "import numpy as np\n",
    "import pandas as pd\n",
    "from sklearn.naive_bayes import GaussianNB\n",
    "from sklearn.naive_bayes import MultinomialNB\n",
    "from sklearn.model_selection import train_test_split\n",
    "from sklearn.metrics import accuracy_score\n",
    "from sklearn.metrics import confusion_matrix\n",
    "from sklearn.metrics import classification_report\n",
    "from sklearn import metrics"
   ]
  },
  {
   "cell_type": "code",
   "execution_count": 2,
   "id": "42848ccb",
   "metadata": {},
   "outputs": [],
   "source": [
    "db = pd.read_csv(r\"C:\\Users\\shubh\\symbiosis ml16\\datasets\\kidney_disease.csv\")"
   ]
  },
  {
   "cell_type": "markdown",
   "id": "5abd470b",
   "metadata": {},
   "source": [
    "###  cleaning   "
   ]
  },
  {
   "cell_type": "code",
   "execution_count": 3,
   "id": "056fdfc7",
   "metadata": {},
   "outputs": [
    {
     "data": {
      "text/html": [
       "<div>\n",
       "<style scoped>\n",
       "    .dataframe tbody tr th:only-of-type {\n",
       "        vertical-align: middle;\n",
       "    }\n",
       "\n",
       "    .dataframe tbody tr th {\n",
       "        vertical-align: top;\n",
       "    }\n",
       "\n",
       "    .dataframe thead th {\n",
       "        text-align: right;\n",
       "    }\n",
       "</style>\n",
       "<table border=\"1\" class=\"dataframe\">\n",
       "  <thead>\n",
       "    <tr style=\"text-align: right;\">\n",
       "      <th></th>\n",
       "      <th>id</th>\n",
       "      <th>age</th>\n",
       "      <th>bp</th>\n",
       "      <th>sg</th>\n",
       "      <th>al</th>\n",
       "      <th>su</th>\n",
       "      <th>rbc</th>\n",
       "      <th>pc</th>\n",
       "      <th>pcc</th>\n",
       "      <th>ba</th>\n",
       "      <th>...</th>\n",
       "      <th>pcv</th>\n",
       "      <th>wc</th>\n",
       "      <th>rc</th>\n",
       "      <th>htn</th>\n",
       "      <th>dm</th>\n",
       "      <th>cad</th>\n",
       "      <th>appet</th>\n",
       "      <th>pe</th>\n",
       "      <th>ane</th>\n",
       "      <th>classification</th>\n",
       "    </tr>\n",
       "  </thead>\n",
       "  <tbody>\n",
       "    <tr>\n",
       "      <th>0</th>\n",
       "      <td>0</td>\n",
       "      <td>48.0</td>\n",
       "      <td>80.0</td>\n",
       "      <td>1.020</td>\n",
       "      <td>1.0</td>\n",
       "      <td>0.0</td>\n",
       "      <td>NaN</td>\n",
       "      <td>normal</td>\n",
       "      <td>notpresent</td>\n",
       "      <td>notpresent</td>\n",
       "      <td>...</td>\n",
       "      <td>44</td>\n",
       "      <td>7800</td>\n",
       "      <td>5.2</td>\n",
       "      <td>yes</td>\n",
       "      <td>yes</td>\n",
       "      <td>no</td>\n",
       "      <td>good</td>\n",
       "      <td>no</td>\n",
       "      <td>no</td>\n",
       "      <td>ckd</td>\n",
       "    </tr>\n",
       "    <tr>\n",
       "      <th>1</th>\n",
       "      <td>1</td>\n",
       "      <td>7.0</td>\n",
       "      <td>50.0</td>\n",
       "      <td>1.020</td>\n",
       "      <td>4.0</td>\n",
       "      <td>0.0</td>\n",
       "      <td>NaN</td>\n",
       "      <td>normal</td>\n",
       "      <td>notpresent</td>\n",
       "      <td>notpresent</td>\n",
       "      <td>...</td>\n",
       "      <td>38</td>\n",
       "      <td>6000</td>\n",
       "      <td>NaN</td>\n",
       "      <td>no</td>\n",
       "      <td>no</td>\n",
       "      <td>no</td>\n",
       "      <td>good</td>\n",
       "      <td>no</td>\n",
       "      <td>no</td>\n",
       "      <td>ckd</td>\n",
       "    </tr>\n",
       "    <tr>\n",
       "      <th>2</th>\n",
       "      <td>2</td>\n",
       "      <td>62.0</td>\n",
       "      <td>80.0</td>\n",
       "      <td>1.010</td>\n",
       "      <td>2.0</td>\n",
       "      <td>3.0</td>\n",
       "      <td>normal</td>\n",
       "      <td>normal</td>\n",
       "      <td>notpresent</td>\n",
       "      <td>notpresent</td>\n",
       "      <td>...</td>\n",
       "      <td>31</td>\n",
       "      <td>7500</td>\n",
       "      <td>NaN</td>\n",
       "      <td>no</td>\n",
       "      <td>yes</td>\n",
       "      <td>no</td>\n",
       "      <td>poor</td>\n",
       "      <td>no</td>\n",
       "      <td>yes</td>\n",
       "      <td>ckd</td>\n",
       "    </tr>\n",
       "    <tr>\n",
       "      <th>3</th>\n",
       "      <td>3</td>\n",
       "      <td>48.0</td>\n",
       "      <td>70.0</td>\n",
       "      <td>1.005</td>\n",
       "      <td>4.0</td>\n",
       "      <td>0.0</td>\n",
       "      <td>normal</td>\n",
       "      <td>abnormal</td>\n",
       "      <td>present</td>\n",
       "      <td>notpresent</td>\n",
       "      <td>...</td>\n",
       "      <td>32</td>\n",
       "      <td>6700</td>\n",
       "      <td>3.9</td>\n",
       "      <td>yes</td>\n",
       "      <td>no</td>\n",
       "      <td>no</td>\n",
       "      <td>poor</td>\n",
       "      <td>yes</td>\n",
       "      <td>yes</td>\n",
       "      <td>ckd</td>\n",
       "    </tr>\n",
       "    <tr>\n",
       "      <th>4</th>\n",
       "      <td>4</td>\n",
       "      <td>51.0</td>\n",
       "      <td>80.0</td>\n",
       "      <td>1.010</td>\n",
       "      <td>2.0</td>\n",
       "      <td>0.0</td>\n",
       "      <td>normal</td>\n",
       "      <td>normal</td>\n",
       "      <td>notpresent</td>\n",
       "      <td>notpresent</td>\n",
       "      <td>...</td>\n",
       "      <td>35</td>\n",
       "      <td>7300</td>\n",
       "      <td>4.6</td>\n",
       "      <td>no</td>\n",
       "      <td>no</td>\n",
       "      <td>no</td>\n",
       "      <td>good</td>\n",
       "      <td>no</td>\n",
       "      <td>no</td>\n",
       "      <td>ckd</td>\n",
       "    </tr>\n",
       "  </tbody>\n",
       "</table>\n",
       "<p>5 rows × 26 columns</p>\n",
       "</div>"
      ],
      "text/plain": [
       "   id   age    bp     sg   al   su     rbc        pc         pcc          ba  \\\n",
       "0   0  48.0  80.0  1.020  1.0  0.0     NaN    normal  notpresent  notpresent   \n",
       "1   1   7.0  50.0  1.020  4.0  0.0     NaN    normal  notpresent  notpresent   \n",
       "2   2  62.0  80.0  1.010  2.0  3.0  normal    normal  notpresent  notpresent   \n",
       "3   3  48.0  70.0  1.005  4.0  0.0  normal  abnormal     present  notpresent   \n",
       "4   4  51.0  80.0  1.010  2.0  0.0  normal    normal  notpresent  notpresent   \n",
       "\n",
       "   ...  pcv    wc   rc  htn   dm  cad appet   pe  ane classification  \n",
       "0  ...   44  7800  5.2  yes  yes   no  good   no   no            ckd  \n",
       "1  ...   38  6000  NaN   no   no   no  good   no   no            ckd  \n",
       "2  ...   31  7500  NaN   no  yes   no  poor   no  yes            ckd  \n",
       "3  ...   32  6700  3.9  yes   no   no  poor  yes  yes            ckd  \n",
       "4  ...   35  7300  4.6   no   no   no  good   no   no            ckd  \n",
       "\n",
       "[5 rows x 26 columns]"
      ]
     },
     "execution_count": 3,
     "metadata": {},
     "output_type": "execute_result"
    }
   ],
   "source": [
    "db.head()"
   ]
  },
  {
   "cell_type": "code",
   "execution_count": 4,
   "id": "ed36948e",
   "metadata": {},
   "outputs": [
    {
     "data": {
      "text/plain": [
       "id                  int64\n",
       "age               float64\n",
       "bp                float64\n",
       "sg                float64\n",
       "al                float64\n",
       "su                float64\n",
       "rbc                object\n",
       "pc                 object\n",
       "pcc                object\n",
       "ba                 object\n",
       "bgr               float64\n",
       "bu                float64\n",
       "sc                float64\n",
       "sod               float64\n",
       "pot               float64\n",
       "hemo              float64\n",
       "pcv                object\n",
       "wc                 object\n",
       "rc                 object\n",
       "htn                object\n",
       "dm                 object\n",
       "cad                object\n",
       "appet              object\n",
       "pe                 object\n",
       "ane                object\n",
       "classification     object\n",
       "dtype: object"
      ]
     },
     "execution_count": 4,
     "metadata": {},
     "output_type": "execute_result"
    }
   ],
   "source": [
    "db.dtypes"
   ]
  },
  {
   "cell_type": "code",
   "execution_count": 5,
   "id": "90fd2178",
   "metadata": {},
   "outputs": [],
   "source": [
    "db.drop(\"id\",axis=1,inplace=True)"
   ]
  },
  {
   "cell_type": "code",
   "execution_count": 6,
   "id": "f4ed7114",
   "metadata": {},
   "outputs": [],
   "source": [
    "db['pcv']=pd.to_numeric(db['pcv'],errors='coerce')\n",
    "db['wc']=pd.to_numeric(db['wc'],errors='coerce')\n",
    "db['rc']=pd.to_numeric(db['rc'],errors='coerce')"
   ]
  },
  {
   "cell_type": "code",
   "execution_count": 7,
   "id": "351f90c9",
   "metadata": {},
   "outputs": [],
   "source": [
    "cat_cols = db.select_dtypes(include=['object']).columns"
   ]
  },
  {
   "cell_type": "code",
   "execution_count": 8,
   "id": "80860174",
   "metadata": {},
   "outputs": [
    {
     "name": "stdout",
     "output_type": "stream",
     "text": [
      "Column: rbc\n",
      "[nan 'normal' 'abnormal']\n",
      "\n",
      "\n",
      "Column: pc\n",
      "['normal' 'abnormal' nan]\n",
      "\n",
      "\n",
      "Column: pcc\n",
      "['notpresent' 'present' nan]\n",
      "\n",
      "\n",
      "Column: ba\n",
      "['notpresent' 'present' nan]\n",
      "\n",
      "\n",
      "Column: htn\n",
      "['yes' 'no' nan]\n",
      "\n",
      "\n",
      "Column: dm\n",
      "['yes' 'no' ' yes' '\\tno' '\\tyes' nan]\n",
      "\n",
      "\n",
      "Column: cad\n",
      "['no' 'yes' '\\tno' nan]\n",
      "\n",
      "\n",
      "Column: appet\n",
      "['good' 'poor' nan]\n",
      "\n",
      "\n",
      "Column: pe\n",
      "['no' 'yes' nan]\n",
      "\n",
      "\n",
      "Column: ane\n",
      "['no' 'yes' nan]\n",
      "\n",
      "\n",
      "Column: classification\n",
      "['ckd' 'ckd\\t' 'notckd']\n",
      "\n",
      "\n"
     ]
    }
   ],
   "source": [
    "for col in cat_cols:\n",
    "    print(f\"Column: {col}\")\n",
    "    print(db[col].unique())\n",
    "    print(\"\\n\")    "
   ]
  },
  {
   "cell_type": "code",
   "execution_count": 9,
   "id": "f4185ce5",
   "metadata": {},
   "outputs": [],
   "source": [
    "db.dm.replace(to_replace={'\\tno':\"no\",'\\tyes':\"yes\",' yes':\"yes\"},inplace=True)\n",
    "db.cad.replace(to_replace='\\tno',value=\"no\",inplace=True)\n",
    "db.classification.replace(to_replace='ckd\\t',value=\"ckd\",inplace=True)"
   ]
  },
  {
   "cell_type": "code",
   "execution_count": 10,
   "id": "a6a97e77",
   "metadata": {},
   "outputs": [
    {
     "name": "stdout",
     "output_type": "stream",
     "text": [
      "rbc has unique value [nan 'normal' 'abnormal']\n",
      "\n",
      "\n",
      "pc has unique value ['normal' 'abnormal' nan]\n",
      "\n",
      "\n",
      "pcc has unique value ['notpresent' 'present' nan]\n",
      "\n",
      "\n",
      "ba has unique value ['notpresent' 'present' nan]\n",
      "\n",
      "\n",
      "htn has unique value ['yes' 'no' nan]\n",
      "\n",
      "\n",
      "dm has unique value ['yes' 'no' nan]\n",
      "\n",
      "\n",
      "cad has unique value ['no' 'yes' nan]\n",
      "\n",
      "\n",
      "appet has unique value ['good' 'poor' nan]\n",
      "\n",
      "\n",
      "pe has unique value ['no' 'yes' nan]\n",
      "\n",
      "\n",
      "ane has unique value ['no' 'yes' nan]\n",
      "\n",
      "\n",
      "classification has unique value ['ckd' 'notckd']\n",
      "\n",
      "\n"
     ]
    }
   ],
   "source": [
    "cat_cols=[col for col in db.columns if db[col].dtype==\"object\"]\n",
    "for col in cat_cols:\n",
    "    print(\"{} has unique value {}\".format(col,db[col].unique()))\n",
    "    print(\"\\n\")"
   ]
  },
  {
   "cell_type": "code",
   "execution_count": 11,
   "id": "436ff400",
   "metadata": {},
   "outputs": [],
   "source": [
    "for i in cat_cols:\n",
    "    if i==\"rbc\":\n",
    "        db[i].replace(db[i].unique()[1],value=0,inplace=True)\n",
    "        db[i].replace(db[i].unique()[2],value=1,inplace=True)\n",
    "    else:\n",
    "        db[i].replace(db[i].unique()[0],value=0,inplace=True)\n",
    "        db[i].replace(db[i].unique()[1],value=1,inplace=True)"
   ]
  },
  {
   "cell_type": "code",
   "execution_count": 12,
   "id": "e215d664",
   "metadata": {},
   "outputs": [
    {
     "data": {
      "text/plain": [
       "array([nan,  0.,  1.])"
      ]
     },
     "execution_count": 12,
     "metadata": {},
     "output_type": "execute_result"
    }
   ],
   "source": [
    "db.rbc.unique()"
   ]
  },
  {
   "cell_type": "code",
   "execution_count": 13,
   "id": "30e52f67",
   "metadata": {},
   "outputs": [],
   "source": [
    "cat_cols=[col for col in db.columns if db[col].dtype==\"object\"]\n",
    "num_cols=[col for col in db.columns if db[col].dtype==\"float64\"]"
   ]
  },
  {
   "cell_type": "code",
   "execution_count": 14,
   "id": "eba28b65",
   "metadata": {},
   "outputs": [],
   "source": [
    "def impute_mode(feature):\n",
    "    mode=db[feature].mode()[0]\n",
    "    db[feature]=db[feature].fillna(mode)\n",
    "for col in cat_cols:\n",
    "    impute_mode(col)"
   ]
  },
  {
   "cell_type": "code",
   "execution_count": 15,
   "id": "568430ae",
   "metadata": {},
   "outputs": [],
   "source": [
    "def impute_mean(feature):\n",
    "    mean=db[feature].mean()\n",
    "    db[feature]=db[feature].fillna(mean)\n",
    "for col in num_cols:\n",
    "    impute_mean(col)"
   ]
  },
  {
   "cell_type": "code",
   "execution_count": 16,
   "id": "d3582870",
   "metadata": {},
   "outputs": [
    {
     "name": "stdout",
     "output_type": "stream",
     "text": [
      "<class 'pandas.core.frame.DataFrame'>\n",
      "RangeIndex: 400 entries, 0 to 399\n",
      "Data columns (total 25 columns):\n",
      " #   Column          Non-Null Count  Dtype  \n",
      "---  ------          --------------  -----  \n",
      " 0   age             400 non-null    float64\n",
      " 1   bp              400 non-null    float64\n",
      " 2   sg              400 non-null    float64\n",
      " 3   al              400 non-null    float64\n",
      " 4   su              400 non-null    float64\n",
      " 5   rbc             400 non-null    float64\n",
      " 6   pc              400 non-null    float64\n",
      " 7   pcc             400 non-null    float64\n",
      " 8   ba              400 non-null    float64\n",
      " 9   bgr             400 non-null    float64\n",
      " 10  bu              400 non-null    float64\n",
      " 11  sc              400 non-null    float64\n",
      " 12  sod             400 non-null    float64\n",
      " 13  pot             400 non-null    float64\n",
      " 14  hemo            400 non-null    float64\n",
      " 15  pcv             400 non-null    float64\n",
      " 16  wc              400 non-null    float64\n",
      " 17  rc              400 non-null    float64\n",
      " 18  htn             400 non-null    float64\n",
      " 19  dm              400 non-null    float64\n",
      " 20  cad             400 non-null    float64\n",
      " 21  appet           400 non-null    float64\n",
      " 22  pe              400 non-null    float64\n",
      " 23  ane             400 non-null    float64\n",
      " 24  classification  400 non-null    int64  \n",
      "dtypes: float64(24), int64(1)\n",
      "memory usage: 78.2 KB\n"
     ]
    }
   ],
   "source": [
    "db.info()"
   ]
  },
  {
   "cell_type": "code",
   "execution_count": 17,
   "id": "be870099",
   "metadata": {},
   "outputs": [],
   "source": [
    "x= db.drop(['classification'], axis=1).values\n",
    "y = db['classification'].values"
   ]
  },
  {
   "cell_type": "markdown",
   "id": "f714726e",
   "metadata": {},
   "source": [
    "#### NavesBayes"
   ]
  },
  {
   "cell_type": "code",
   "execution_count": 18,
   "id": "df521829",
   "metadata": {},
   "outputs": [],
   "source": [
    "gnb=GaussianNB()\n",
    "mnb=MultinomialNB()"
   ]
  },
  {
   "cell_type": "code",
   "execution_count": 19,
   "id": "400ae967",
   "metadata": {},
   "outputs": [],
   "source": [
    "X_train , X_test , y_train , y_test = train_test_split(x,y,random_state=42,test_size=0.3)"
   ]
  },
  {
   "cell_type": "code",
   "execution_count": 20,
   "id": "c5a61f32",
   "metadata": {},
   "outputs": [
    {
     "name": "stdout",
     "output_type": "stream",
     "text": [
      "[[62.         70.          1.025      ...  0.          0.\n",
      "   0.        ]\n",
      " [54.         70.          1.01740793 ...  0.          0.\n",
      "   0.        ]\n",
      " [47.         80.          1.01740793 ...  1.          0.\n",
      "   0.        ]\n",
      " ...\n",
      " [23.         80.          1.025      ...  0.          0.\n",
      "   0.        ]\n",
      " [38.         80.          1.02       ...  0.          0.\n",
      "   0.        ]\n",
      " [17.         60.          1.01       ...  0.          0.\n",
      "   0.        ]]\n",
      "[[ 19.          70.           1.02       ...   0.           0.\n",
      "    0.        ]\n",
      " [ 47.          80.           1.01740793 ...   0.           0.\n",
      "    0.        ]\n",
      " [ 60.         100.           1.02       ...   1.           0.\n",
      "    0.        ]\n",
      " ...\n",
      " [ 66.          70.           1.02       ...   0.           0.\n",
      "    0.        ]\n",
      " [ 41.          80.           1.02       ...   0.           0.\n",
      "    0.        ]\n",
      " [ 55.          80.           1.025      ...   0.           0.\n",
      "    0.        ]]\n",
      "[0 0 0 1 0 0 1 1 0 0 1 0 1 0 0 0 0 1 0 1 0 0 1 0 0 1 0 0 0 1 0 1 1 0 0 0 0\n",
      " 0 1 1 1 0 1 0 1 0 1 0 0 0 0 0 0 0 0 1 0 0 0 0 0 0 0 0 0 0 1 0 1 0 0 0 1 0\n",
      " 1 1 1 1 1 1 0 0 1 0 1 0 0 0 1 0 0 0 0 1 1 0 1 1 1 1 1 0 1 0 0 0 0 1 0 0 0\n",
      " 0 0 0 0 1 0 1 1 1 1 0 0 1 0 0 1 0 0 1 0 0 0 1 0 1 0 0 0 0 0 0 0 0 0 0 1 1\n",
      " 0 0 0 0 1 1 0 0 1 0 1 1 0 1 1 0 0 1 0 0 0 0 0 0 0 1 0 1 0 1 0 1 1 0 1 0 0\n",
      " 0 0 0 0 1 0 0 0 1 1 0 1 1 0 0 0 1 1 1 1 1 1 1 0 0 0 0 0 1 1 0 0 0 0 0 0 0\n",
      " 1 0 1 0 1 1 0 0 1 0 1 0 1 1 0 1 1 1 0 0 0 0 0 1 0 0 0 0 1 0 1 0 1 0 1 0 1\n",
      " 1 1 1 0 0 0 1 0 1 0 1 0 0 1 0 0 0 0 1 1 0]\n",
      "[0 1 0 0 0 0 1 0 1 0 0 1 0 0 0 0 1 1 0 1 0 0 1 1 0 1 0 0 1 0 1 0 1 0 0 0 0\n",
      " 1 0 0 1 0 0 0 0 1 0 0 0 0 0 1 1 0 1 0 0 0 0 0 0 1 1 0 0 0 1 1 1 0 1 0 0 0\n",
      " 1 0 0 1 0 1 0 0 0 1 1 0 0 1 0 0 0 1 0 0 0 1 1 1 0 0 0 0 0 0 0 0 0 0 1 1 0\n",
      " 1 1 1 1 0 0 1 1 1]\n"
     ]
    }
   ],
   "source": [
    "print(X_train)\n",
    "print(X_test) \n",
    "print(y_train) \n",
    "print(y_test)"
   ]
  },
  {
   "cell_type": "code",
   "execution_count": 21,
   "id": "8c3e4f6f",
   "metadata": {},
   "outputs": [],
   "source": [
    "fit_gnb = gnb.fit(X_train , y_train)\n"
   ]
  },
  {
   "cell_type": "code",
   "execution_count": 22,
   "id": "66e18abf",
   "metadata": {},
   "outputs": [],
   "source": [
    "y_pred_gnb = fit_gnb.predict(X_test)"
   ]
  },
  {
   "cell_type": "code",
   "execution_count": 23,
   "id": "124debe4",
   "metadata": {},
   "outputs": [
    {
     "data": {
      "text/plain": [
       "array([1, 1, 0, 0, 0, 0, 1, 0, 1, 0, 0, 1, 0, 0, 0, 0, 1, 1, 0, 1, 0, 0,\n",
       "       1, 1, 0, 1, 0, 0, 1, 0, 1, 0, 1, 0, 0, 0, 0, 1, 0, 0, 1, 0, 0, 0,\n",
       "       0, 1, 0, 0, 0, 0, 0, 1, 1, 0, 1, 0, 0, 0, 0, 0, 0, 1, 1, 0, 0, 0,\n",
       "       1, 1, 1, 0, 1, 0, 0, 0, 1, 0, 0, 1, 0, 1, 0, 0, 0, 1, 1, 0, 0, 1,\n",
       "       0, 0, 0, 1, 0, 1, 0, 1, 1, 1, 0, 0, 0, 1, 0, 0, 0, 0, 0, 0, 1, 1,\n",
       "       1, 1, 1, 1, 1, 0, 0, 1, 1, 1], dtype=int64)"
      ]
     },
     "execution_count": 23,
     "metadata": {},
     "output_type": "execute_result"
    }
   ],
   "source": [
    "y_pred_gnb"
   ]
  },
  {
   "cell_type": "code",
   "execution_count": 24,
   "id": "ed8d381b",
   "metadata": {},
   "outputs": [
    {
     "data": {
      "text/plain": [
       "array([[72,  4],\n",
       "       [ 0, 44]], dtype=int64)"
      ]
     },
     "execution_count": 24,
     "metadata": {},
     "output_type": "execute_result"
    }
   ],
   "source": [
    "from sklearn.metrics import confusion_matrix\n",
    "cnf_matrix_gnb=confusion_matrix(y_test,y_pred_gnb)\n",
    "cnf_matrix_gnb"
   ]
  },
  {
   "cell_type": "code",
   "execution_count": 25,
   "id": "a4101f3b",
   "metadata": {},
   "outputs": [
    {
     "name": "stdout",
     "output_type": "stream",
     "text": [
      "model accuracy: 0.9666666666666667\n"
     ]
    }
   ],
   "source": [
    "print(\"model accuracy:\",metrics.accuracy_score(y_test,y_pred_gnb))"
   ]
  },
  {
   "cell_type": "code",
   "execution_count": 26,
   "id": "4a90bb04",
   "metadata": {},
   "outputs": [
    {
     "data": {
      "text/plain": [
       "0.9666666666666667"
      ]
     },
     "execution_count": 26,
     "metadata": {},
     "output_type": "execute_result"
    }
   ],
   "source": [
    "NBA=metrics.accuracy_score(y_test,y_pred_gnb)\n",
    "NBA"
   ]
  },
  {
   "cell_type": "code",
   "execution_count": 27,
   "id": "c76ecabf",
   "metadata": {},
   "outputs": [
    {
     "name": "stdout",
     "output_type": "stream",
     "text": [
      "Report :               precision    recall  f1-score   support\n",
      "\n",
      "           0       1.00      0.95      0.97        76\n",
      "           1       0.92      1.00      0.96        44\n",
      "\n",
      "    accuracy                           0.97       120\n",
      "   macro avg       0.96      0.97      0.96       120\n",
      "weighted avg       0.97      0.97      0.97       120\n",
      "\n"
     ]
    }
   ],
   "source": [
    "print('Report :',classification_report(y_test,y_pred_gnb))"
   ]
  },
  {
   "cell_type": "code",
   "execution_count": 28,
   "id": "b08f9558",
   "metadata": {
    "scrolled": true
   },
   "outputs": [
    {
     "data": {
      "text/plain": [
       "array([[9.38060245e-008, 9.99999906e-001],\n",
       "       [8.71021333e-005, 9.99912898e-001],\n",
       "       [1.00000000e+000, 3.75830450e-126],\n",
       "       [1.00000000e+000, 0.00000000e+000],\n",
       "       [1.00000000e+000, 0.00000000e+000],\n",
       "       [1.00000000e+000, 0.00000000e+000],\n",
       "       [2.74976482e-016, 1.00000000e+000],\n",
       "       [1.00000000e+000, 9.88362211e-021],\n",
       "       [2.83551268e-014, 1.00000000e+000],\n",
       "       [1.00000000e+000, 6.93333826e-126],\n",
       "       [1.00000000e+000, 2.89980822e-254],\n",
       "       [9.30846787e-016, 1.00000000e+000],\n",
       "       [1.00000000e+000, 0.00000000e+000],\n",
       "       [1.00000000e+000, 0.00000000e+000],\n",
       "       [1.00000000e+000, 1.99368977e-258],\n",
       "       [1.00000000e+000, 1.19759712e-056],\n",
       "       [6.69048174e-017, 1.00000000e+000],\n",
       "       [8.49472605e-017, 1.00000000e+000],\n",
       "       [1.00000000e+000, 7.09325515e-133],\n",
       "       [1.65268406e-017, 1.00000000e+000],\n",
       "       [1.00000000e+000, 2.66374017e-086],\n",
       "       [1.00000000e+000, 5.17413834e-193],\n",
       "       [3.24246284e-017, 1.00000000e+000],\n",
       "       [4.66950026e-015, 1.00000000e+000],\n",
       "       [1.00000000e+000, 3.31268587e-045],\n",
       "       [7.33061554e-018, 1.00000000e+000],\n",
       "       [1.00000000e+000, 7.63502384e-119],\n",
       "       [1.00000000e+000, 0.00000000e+000],\n",
       "       [6.93631516e-016, 1.00000000e+000],\n",
       "       [1.00000000e+000, 1.96092380e-121],\n",
       "       [1.52320924e-015, 1.00000000e+000],\n",
       "       [1.00000000e+000, 0.00000000e+000],\n",
       "       [2.97669096e-016, 1.00000000e+000],\n",
       "       [1.00000000e+000, 1.16808288e-165],\n",
       "       [1.00000000e+000, 3.82232196e-077],\n",
       "       [1.00000000e+000, 2.86861285e-139],\n",
       "       [1.00000000e+000, 6.64672138e-152],\n",
       "       [1.06963006e-017, 1.00000000e+000],\n",
       "       [1.00000000e+000, 1.59854003e-278],\n",
       "       [1.00000000e+000, 4.35429967e-093],\n",
       "       [6.32312286e-014, 1.00000000e+000],\n",
       "       [1.00000000e+000, 6.69441374e-108],\n",
       "       [1.00000000e+000, 4.68303899e-281],\n",
       "       [1.00000000e+000, 1.11657740e-082],\n",
       "       [1.00000000e+000, 9.46730988e-091],\n",
       "       [1.86219919e-017, 1.00000000e+000],\n",
       "       [1.00000000e+000, 0.00000000e+000],\n",
       "       [1.00000000e+000, 7.82427335e-076],\n",
       "       [1.00000000e+000, 4.24789961e-228],\n",
       "       [1.00000000e+000, 1.96003034e-053],\n",
       "       [1.00000000e+000, 1.10409082e-015],\n",
       "       [1.21047945e-015, 1.00000000e+000],\n",
       "       [1.65154109e-015, 1.00000000e+000],\n",
       "       [1.00000000e+000, 0.00000000e+000],\n",
       "       [5.24565642e-016, 1.00000000e+000],\n",
       "       [1.00000000e+000, 8.60724602e-143],\n",
       "       [1.00000000e+000, 1.63937114e-217],\n",
       "       [1.00000000e+000, 1.19841771e-104],\n",
       "       [1.00000000e+000, 1.15501019e-104],\n",
       "       [1.00000000e+000, 1.58542392e-019],\n",
       "       [1.00000000e+000, 4.55749182e-033],\n",
       "       [1.94997666e-011, 1.00000000e+000],\n",
       "       [3.53591483e-017, 1.00000000e+000],\n",
       "       [1.00000000e+000, 4.84197486e-071],\n",
       "       [1.00000000e+000, 1.05890912e-110],\n",
       "       [1.00000000e+000, 2.24527844e-131],\n",
       "       [3.28468884e-017, 1.00000000e+000],\n",
       "       [5.45159522e-005, 9.99945484e-001],\n",
       "       [9.70868371e-015, 1.00000000e+000],\n",
       "       [1.00000000e+000, 2.16387298e-201],\n",
       "       [1.67150048e-016, 1.00000000e+000],\n",
       "       [1.00000000e+000, 1.77186476e-275],\n",
       "       [1.00000000e+000, 5.31390380e-131],\n",
       "       [1.00000000e+000, 5.92199295e-213],\n",
       "       [6.92567077e-017, 1.00000000e+000],\n",
       "       [1.00000000e+000, 0.00000000e+000],\n",
       "       [1.00000000e+000, 1.58460639e-045],\n",
       "       [8.99413493e-015, 1.00000000e+000],\n",
       "       [1.00000000e+000, 1.91110701e-209],\n",
       "       [1.39842598e-017, 1.00000000e+000],\n",
       "       [1.00000000e+000, 9.60227609e-274],\n",
       "       [1.00000000e+000, 2.69516021e-242],\n",
       "       [1.00000000e+000, 4.77830135e-074],\n",
       "       [2.61026329e-014, 1.00000000e+000],\n",
       "       [2.83539533e-016, 1.00000000e+000],\n",
       "       [1.00000000e+000, 1.82946887e-087],\n",
       "       [1.00000000e+000, 0.00000000e+000],\n",
       "       [7.36993490e-017, 1.00000000e+000],\n",
       "       [1.00000000e+000, 3.47134739e-013],\n",
       "       [1.00000000e+000, 6.84722231e-187],\n",
       "       [1.00000000e+000, 6.83279492e-074],\n",
       "       [7.77322486e-016, 1.00000000e+000],\n",
       "       [1.00000000e+000, 1.48343357e-105],\n",
       "       [1.18422885e-007, 9.99999882e-001],\n",
       "       [1.00000000e+000, 0.00000000e+000],\n",
       "       [1.86928574e-015, 1.00000000e+000],\n",
       "       [1.33470978e-015, 1.00000000e+000],\n",
       "       [1.11217049e-016, 1.00000000e+000],\n",
       "       [1.00000000e+000, 1.79602153e-013],\n",
       "       [1.00000000e+000, 3.74510377e-031],\n",
       "       [1.00000000e+000, 7.96623909e-111],\n",
       "       [2.98942707e-008, 9.99999970e-001],\n",
       "       [1.00000000e+000, 1.07626752e-013],\n",
       "       [1.00000000e+000, 4.71118821e-123],\n",
       "       [1.00000000e+000, 0.00000000e+000],\n",
       "       [1.00000000e+000, 0.00000000e+000],\n",
       "       [1.00000000e+000, 1.07869104e-107],\n",
       "       [1.00000000e+000, 4.19431092e-146],\n",
       "       [5.98517268e-017, 1.00000000e+000],\n",
       "       [8.52916572e-015, 1.00000000e+000],\n",
       "       [1.36377118e-009, 9.99999999e-001],\n",
       "       [2.15388448e-017, 1.00000000e+000],\n",
       "       [7.24559231e-017, 1.00000000e+000],\n",
       "       [3.22513603e-017, 1.00000000e+000],\n",
       "       [1.13533368e-009, 9.99999999e-001],\n",
       "       [1.00000000e+000, 3.93491975e-082],\n",
       "       [1.00000000e+000, 9.59905362e-113],\n",
       "       [3.21047212e-016, 1.00000000e+000],\n",
       "       [2.91876624e-016, 1.00000000e+000],\n",
       "       [1.00339407e-015, 1.00000000e+000]])"
      ]
     },
     "execution_count": 28,
     "metadata": {},
     "output_type": "execute_result"
    }
   ],
   "source": [
    "nb_probs = gnb.predict_proba(X_test)\n",
    "nb_probs\n"
   ]
  },
  {
   "cell_type": "markdown",
   "id": "c3a8adc7",
   "metadata": {},
   "source": [
    "####  logistic regression"
   ]
  },
  {
   "cell_type": "code",
   "execution_count": 29,
   "id": "44132d9a",
   "metadata": {},
   "outputs": [],
   "source": [
    "from sklearn.linear_model import LogisticRegression\n",
    "from sklearn.linear_model import LogisticRegressionCV\n",
    "from sklearn.model_selection import GridSearchCV"
   ]
  },
  {
   "cell_type": "code",
   "execution_count": 30,
   "id": "12229143",
   "metadata": {},
   "outputs": [],
   "source": [
    "x = db.drop(['classification'], axis= 1).values\n",
    "y = db['classification'].values"
   ]
  },
  {
   "cell_type": "code",
   "execution_count": 31,
   "id": "de696bc9",
   "metadata": {},
   "outputs": [],
   "source": [
    "X_train,X_test,y_train,y_test=train_test_split(x,y,test_size=0.3,random_state=12)"
   ]
  },
  {
   "cell_type": "code",
   "execution_count": 32,
   "id": "26691712",
   "metadata": {},
   "outputs": [
    {
     "name": "stderr",
     "output_type": "stream",
     "text": [
      "C:\\Users\\shubh\\anaconda3\\lib\\site-packages\\sklearn\\linear_model\\_logistic.py:763: ConvergenceWarning: lbfgs failed to converge (status=1):\n",
      "STOP: TOTAL NO. of ITERATIONS REACHED LIMIT.\n",
      "\n",
      "Increase the number of iterations (max_iter) or scale the data as shown in:\n",
      "    https://scikit-learn.org/stable/modules/preprocessing.html\n",
      "Please also refer to the documentation for alternative solver options:\n",
      "    https://scikit-learn.org/stable/modules/linear_model.html#logistic-regression\n",
      "  n_iter_i = _check_optimize_result(\n"
     ]
    },
    {
     "data": {
      "text/plain": [
       "LogisticRegression()"
      ]
     },
     "execution_count": 32,
     "metadata": {},
     "output_type": "execute_result"
    }
   ],
   "source": [
    "logreg = LogisticRegression()\n",
    "logreg.fit(X_train, y_train)"
   ]
  },
  {
   "cell_type": "code",
   "execution_count": 33,
   "id": "f6164d7b",
   "metadata": {},
   "outputs": [],
   "source": [
    "y_pred = logreg.predict(X_test)"
   ]
  },
  {
   "cell_type": "code",
   "execution_count": 34,
   "id": "3fbb757b",
   "metadata": {},
   "outputs": [
    {
     "data": {
      "text/plain": [
       "array([1, 1, 1, 0, 0, 0, 0, 0, 1, 0, 0, 0, 0, 0, 1, 1, 0, 1, 0, 0, 1, 1,\n",
       "       1, 0, 0, 1, 1, 0, 1, 0, 0, 0, 0, 1, 1, 1, 1, 1, 1, 0, 0, 1, 1, 0,\n",
       "       0, 0, 0, 0, 0, 1, 1, 1, 0, 1, 1, 1, 0, 1, 1, 0, 0, 1, 1, 1, 0, 1,\n",
       "       0, 0, 0, 1, 1, 0, 1, 0, 0, 0, 1, 0, 0, 0, 0, 0, 1, 1, 0, 1, 0, 0,\n",
       "       1, 1, 0, 0, 1, 0, 1, 0, 0, 0, 1, 0, 0, 1, 0, 1, 1, 1, 1, 1, 0, 1,\n",
       "       0, 0, 1, 1, 0, 1, 1, 0, 0, 0], dtype=int64)"
      ]
     },
     "execution_count": 34,
     "metadata": {},
     "output_type": "execute_result"
    }
   ],
   "source": [
    "y_pred"
   ]
  },
  {
   "cell_type": "code",
   "execution_count": 35,
   "id": "a6f8c69f",
   "metadata": {},
   "outputs": [
    {
     "data": {
      "text/plain": [
       "array([[63,  7],\n",
       "       [ 1, 49]], dtype=int64)"
      ]
     },
     "execution_count": 35,
     "metadata": {},
     "output_type": "execute_result"
    }
   ],
   "source": [
    "metrics.confusion_matrix(y_test , y_pred)"
   ]
  },
  {
   "cell_type": "code",
   "execution_count": 36,
   "id": "6f28a0da",
   "metadata": {},
   "outputs": [
    {
     "data": {
      "text/plain": [
       "0.9333333333333333"
      ]
     },
     "execution_count": 36,
     "metadata": {},
     "output_type": "execute_result"
    }
   ],
   "source": [
    "metrics.accuracy_score(y_test , y_pred)"
   ]
  },
  {
   "cell_type": "code",
   "execution_count": 37,
   "id": "d4101cac",
   "metadata": {},
   "outputs": [
    {
     "data": {
      "text/plain": [
       "0.9333333333333333"
      ]
     },
     "execution_count": 37,
     "metadata": {},
     "output_type": "execute_result"
    }
   ],
   "source": [
    "LRA=metrics.accuracy_score(y_test,y_pred)\n",
    "LRA"
   ]
  },
  {
   "cell_type": "code",
   "execution_count": 38,
   "id": "0f040088",
   "metadata": {},
   "outputs": [
    {
     "name": "stdout",
     "output_type": "stream",
     "text": [
      "              precision    recall  f1-score   support\n",
      "\n",
      "           0       0.98      0.90      0.94        70\n",
      "           1       0.88      0.98      0.92        50\n",
      "\n",
      "    accuracy                           0.93       120\n",
      "   macro avg       0.93      0.94      0.93       120\n",
      "weighted avg       0.94      0.93      0.93       120\n",
      "\n"
     ]
    }
   ],
   "source": [
    "    print(classification_report(y_test,y_pred))"
   ]
  },
  {
   "cell_type": "code",
   "execution_count": 40,
   "id": "562982a2",
   "metadata": {},
   "outputs": [
    {
     "data": {
      "text/plain": [
       "array([[4.67376027e-03, 9.95326240e-01],\n",
       "       [1.21205780e-03, 9.98787942e-01],\n",
       "       [2.32374673e-03, 9.97676253e-01],\n",
       "       [6.16155110e-01, 3.83844890e-01],\n",
       "       [9.99972334e-01, 2.76655021e-05],\n",
       "       [1.00000000e+00, 3.47430806e-10],\n",
       "       [9.61715869e-01, 3.82841313e-02],\n",
       "       [9.92156556e-01, 7.84344353e-03],\n",
       "       [9.83350923e-02, 9.01664908e-01],\n",
       "       [9.99978563e-01, 2.14371990e-05],\n",
       "       [9.99955381e-01, 4.46193600e-05],\n",
       "       [9.99982503e-01, 1.74967724e-05],\n",
       "       [9.99988293e-01, 1.17066746e-05],\n",
       "       [9.94574730e-01, 5.42527001e-03],\n",
       "       [8.37656898e-02, 9.16234310e-01],\n",
       "       [1.71320789e-01, 8.28679211e-01],\n",
       "       [5.77876123e-01, 4.22123877e-01],\n",
       "       [4.39691881e-03, 9.95603081e-01],\n",
       "       [9.94612897e-01, 5.38710259e-03],\n",
       "       [9.25020524e-01, 7.49794764e-02],\n",
       "       [4.15447605e-01, 5.84552395e-01],\n",
       "       [2.67340292e-02, 9.73265971e-01],\n",
       "       [1.06568088e-01, 8.93431912e-01],\n",
       "       [9.99998139e-01, 1.86123289e-06],\n",
       "       [9.99999886e-01, 1.13933848e-07],\n",
       "       [1.76314398e-02, 9.82368560e-01],\n",
       "       [1.15803079e-03, 9.98841969e-01],\n",
       "       [9.99998634e-01, 1.36566189e-06],\n",
       "       [2.65959843e-01, 7.34040157e-01],\n",
       "       [9.99614950e-01, 3.85050261e-04],\n",
       "       [9.99788772e-01, 2.11227860e-04],\n",
       "       [9.40928964e-01, 5.90710356e-02],\n",
       "       [9.96659837e-01, 3.34016297e-03],\n",
       "       [1.98863630e-04, 9.99801136e-01],\n",
       "       [1.10772072e-03, 9.98892279e-01],\n",
       "       [2.22445635e-03, 9.97775544e-01],\n",
       "       [1.87099885e-01, 8.12900115e-01],\n",
       "       [1.40642140e-04, 9.99859358e-01],\n",
       "       [1.25409887e-01, 8.74590113e-01],\n",
       "       [9.99999942e-01, 5.79336773e-08],\n",
       "       [9.99994447e-01, 5.55312044e-06],\n",
       "       [4.61123589e-01, 5.38876411e-01],\n",
       "       [9.17597123e-04, 9.99082403e-01],\n",
       "       [9.99999950e-01, 4.97812536e-08],\n",
       "       [9.71523989e-01, 2.84760111e-02],\n",
       "       [9.99896012e-01, 1.03988138e-04],\n",
       "       [9.99997999e-01, 2.00142130e-06],\n",
       "       [9.99999907e-01, 9.30092107e-08],\n",
       "       [9.93261632e-01, 6.73836764e-03],\n",
       "       [6.93739081e-04, 9.99306261e-01],\n",
       "       [1.20959432e-02, 9.87904057e-01],\n",
       "       [1.66387691e-01, 8.33612309e-01],\n",
       "       [5.84403613e-01, 4.15596387e-01],\n",
       "       [3.10913585e-02, 9.68908641e-01],\n",
       "       [3.89658034e-02, 9.61034197e-01],\n",
       "       [2.13118204e-03, 9.97868818e-01],\n",
       "       [9.98240728e-01, 1.75927195e-03],\n",
       "       [2.23161569e-01, 7.76838431e-01],\n",
       "       [2.47315350e-03, 9.97526846e-01],\n",
       "       [9.99224646e-01, 7.75353933e-04],\n",
       "       [9.99273093e-01, 7.26907269e-04],\n",
       "       [4.06861648e-04, 9.99593138e-01],\n",
       "       [2.86246823e-03, 9.97137532e-01],\n",
       "       [1.53202128e-01, 8.46797872e-01],\n",
       "       [9.98582821e-01, 1.41717882e-03],\n",
       "       [3.17173765e-03, 9.96828262e-01],\n",
       "       [9.99931473e-01, 6.85274267e-05],\n",
       "       [9.52266283e-01, 4.77337173e-02],\n",
       "       [9.50098820e-01, 4.99011803e-02],\n",
       "       [2.08142668e-01, 7.91857332e-01],\n",
       "       [7.59099277e-04, 9.99240901e-01],\n",
       "       [8.86766131e-01, 1.13233869e-01],\n",
       "       [2.05789742e-01, 7.94210258e-01],\n",
       "       [9.99987519e-01, 1.24806818e-05],\n",
       "       [9.99693715e-01, 3.06284946e-04],\n",
       "       [9.93781246e-01, 6.21875423e-03],\n",
       "       [5.61505240e-02, 9.43849476e-01],\n",
       "       [9.99854933e-01, 1.45066823e-04],\n",
       "       [9.99970045e-01, 2.99547577e-05],\n",
       "       [6.92351846e-01, 3.07648154e-01],\n",
       "       [9.99739766e-01, 2.60234368e-04],\n",
       "       [9.99983855e-01, 1.61450489e-05],\n",
       "       [1.56009853e-01, 8.43990147e-01],\n",
       "       [1.45044863e-01, 8.54955137e-01],\n",
       "       [9.73256652e-01, 2.67433484e-02],\n",
       "       [4.65002920e-03, 9.95349971e-01],\n",
       "       [9.99995523e-01, 4.47676031e-06],\n",
       "       [9.99252920e-01, 7.47080152e-04],\n",
       "       [2.87240020e-02, 9.71275998e-01],\n",
       "       [2.87438956e-01, 7.12561044e-01],\n",
       "       [9.99940869e-01, 5.91310967e-05],\n",
       "       [9.99494835e-01, 5.05165443e-04],\n",
       "       [1.03802670e-02, 9.89619733e-01],\n",
       "       [5.57230919e-01, 4.42769081e-01],\n",
       "       [1.15107670e-01, 8.84892330e-01],\n",
       "       [9.95662257e-01, 4.33774276e-03],\n",
       "       [9.99997017e-01, 2.98261471e-06],\n",
       "       [8.15038265e-01, 1.84961735e-01],\n",
       "       [1.55311157e-03, 9.98446888e-01],\n",
       "       [5.99662071e-01, 4.00337929e-01],\n",
       "       [9.99761119e-01, 2.38880637e-04],\n",
       "       [1.81980546e-01, 8.18019454e-01],\n",
       "       [9.99999557e-01, 4.42849305e-07],\n",
       "       [3.27796064e-03, 9.96722039e-01],\n",
       "       [1.74926223e-02, 9.82507378e-01],\n",
       "       [6.27633689e-03, 9.93723663e-01],\n",
       "       [3.69787154e-01, 6.30212846e-01],\n",
       "       [2.06858056e-03, 9.97931419e-01],\n",
       "       [9.99998336e-01, 1.66380839e-06],\n",
       "       [3.30662351e-02, 9.66933765e-01],\n",
       "       [9.97429031e-01, 2.57096908e-03],\n",
       "       [9.06137002e-01, 9.38629983e-02],\n",
       "       [3.22676012e-02, 9.67732399e-01],\n",
       "       [1.92927115e-03, 9.98070729e-01],\n",
       "       [9.97348022e-01, 2.65197817e-03],\n",
       "       [1.45396779e-03, 9.98546032e-01],\n",
       "       [4.76581307e-01, 5.23418693e-01],\n",
       "       [9.98556254e-01, 1.44374579e-03],\n",
       "       [9.99975734e-01, 2.42656163e-05],\n",
       "       [9.45752393e-01, 5.42476066e-02]])"
      ]
     },
     "execution_count": 40,
     "metadata": {},
     "output_type": "execute_result"
    }
   ],
   "source": [
    "lr_prob=logreg.predict_proba(X_test)\n",
    "lr_prob"
   ]
  },
  {
   "cell_type": "markdown",
   "id": "af506eee",
   "metadata": {},
   "source": [
    "#### SVM"
   ]
  },
  {
   "cell_type": "code",
   "execution_count": 41,
   "id": "1d4b4634",
   "metadata": {},
   "outputs": [],
   "source": [
    "from sklearn.svm import SVC"
   ]
  },
  {
   "cell_type": "code",
   "execution_count": 42,
   "id": "04387cd1",
   "metadata": {},
   "outputs": [],
   "source": [
    "svc_model = SVC(kernel= 'linear' , probability=True)"
   ]
  },
  {
   "cell_type": "code",
   "execution_count": 43,
   "id": "96deefde",
   "metadata": {},
   "outputs": [
    {
     "data": {
      "text/plain": [
       "SVC(kernel='linear', probability=True)"
      ]
     },
     "execution_count": 43,
     "metadata": {},
     "output_type": "execute_result"
    }
   ],
   "source": [
    "svc_model.fit(X_train , y_train)"
   ]
  },
  {
   "cell_type": "code",
   "execution_count": 44,
   "id": "767b1970",
   "metadata": {},
   "outputs": [],
   "source": [
    "y_pred = svc_model.predict(X_test)"
   ]
  },
  {
   "cell_type": "code",
   "execution_count": 45,
   "id": "1eb7c63a",
   "metadata": {},
   "outputs": [
    {
     "data": {
      "text/plain": [
       "array([1, 1, 1, 0, 0, 0, 0, 0, 1, 0, 0, 0, 0, 0, 1, 1, 1, 1, 0, 0, 1, 1,\n",
       "       0, 0, 0, 1, 1, 0, 1, 0, 0, 0, 0, 1, 1, 1, 1, 1, 1, 0, 0, 0, 1, 0,\n",
       "       0, 0, 0, 0, 0, 1, 1, 1, 0, 1, 1, 1, 0, 0, 1, 0, 0, 1, 1, 0, 0, 1,\n",
       "       0, 0, 0, 1, 1, 0, 1, 0, 0, 0, 1, 0, 0, 0, 0, 0, 1, 0, 0, 1, 0, 0,\n",
       "       1, 1, 0, 0, 1, 1, 1, 0, 0, 1, 1, 0, 0, 1, 0, 1, 1, 1, 1, 1, 0, 1,\n",
       "       0, 0, 1, 1, 0, 1, 1, 0, 0, 0], dtype=int64)"
      ]
     },
     "execution_count": 45,
     "metadata": {},
     "output_type": "execute_result"
    }
   ],
   "source": [
    "y_pred"
   ]
  },
  {
   "cell_type": "code",
   "execution_count": 46,
   "id": "4d9d0a25",
   "metadata": {},
   "outputs": [
    {
     "data": {
      "text/plain": [
       "array([[64,  2],\n",
       "       [ 6, 48]], dtype=int64)"
      ]
     },
     "execution_count": 46,
     "metadata": {},
     "output_type": "execute_result"
    }
   ],
   "source": [
    "confusion_matrix(y_pred , y_test)"
   ]
  },
  {
   "cell_type": "code",
   "execution_count": 47,
   "id": "878a61a3",
   "metadata": {},
   "outputs": [
    {
     "data": {
      "text/plain": [
       "0.9333333333333333"
      ]
     },
     "execution_count": 47,
     "metadata": {},
     "output_type": "execute_result"
    }
   ],
   "source": [
    "metrics.accuracy_score(y_test , y_pred)"
   ]
  },
  {
   "cell_type": "code",
   "execution_count": 48,
   "id": "ac2427cf",
   "metadata": {},
   "outputs": [],
   "source": [
    "SVMA = metrics.accuracy_score(y_test , y_pred)"
   ]
  },
  {
   "cell_type": "code",
   "execution_count": 49,
   "id": "b183e5a6",
   "metadata": {},
   "outputs": [
    {
     "name": "stdout",
     "output_type": "stream",
     "text": [
      "              precision    recall  f1-score   support\n",
      "\n",
      "           0       0.97      0.91      0.94        70\n",
      "           1       0.89      0.96      0.92        50\n",
      "\n",
      "    accuracy                           0.93       120\n",
      "   macro avg       0.93      0.94      0.93       120\n",
      "weighted avg       0.94      0.93      0.93       120\n",
      "\n"
     ]
    }
   ],
   "source": [
    "print(classification_report(y_test , y_pred))"
   ]
  },
  {
   "cell_type": "code",
   "execution_count": 51,
   "id": "ae1976a2",
   "metadata": {},
   "outputs": [
    {
     "data": {
      "text/plain": [
       "array([[4.55127569e-02, 9.54487243e-01],\n",
       "       [2.46473215e-06, 9.99997535e-01],\n",
       "       [2.90093649e-07, 9.99999710e-01],\n",
       "       [9.97256518e-01, 2.74348162e-03],\n",
       "       [9.99983530e-01, 1.64698493e-05],\n",
       "       [9.99999900e-01, 1.00000010e-07],\n",
       "       [9.99816136e-01, 1.83863840e-04],\n",
       "       [9.95446499e-01, 4.55350093e-03],\n",
       "       [1.71202058e-05, 9.99982880e-01],\n",
       "       [9.99969089e-01, 3.09114144e-05],\n",
       "       [9.99952270e-01, 4.77300817e-05],\n",
       "       [9.99993107e-01, 6.89281709e-06],\n",
       "       [9.99999900e-01, 1.00000010e-07],\n",
       "       [9.89006004e-01, 1.09939961e-02],\n",
       "       [3.57094150e-02, 9.64290585e-01],\n",
       "       [5.35284059e-02, 9.46471594e-01],\n",
       "       [1.86480543e-01, 8.13519457e-01],\n",
       "       [2.38330871e-02, 9.76166913e-01],\n",
       "       [9.99729432e-01, 2.70567626e-04],\n",
       "       [7.20948269e-01, 2.79051731e-01],\n",
       "       [1.94623823e-01, 8.05376177e-01],\n",
       "       [3.10877457e-06, 9.99996891e-01],\n",
       "       [4.79785154e-01, 5.20214846e-01],\n",
       "       [9.99999900e-01, 1.00000010e-07],\n",
       "       [9.99999900e-01, 1.00000010e-07],\n",
       "       [8.93283702e-03, 9.91067163e-01],\n",
       "       [2.67712536e-06, 9.99997323e-01],\n",
       "       [9.99793801e-01, 2.06198559e-04],\n",
       "       [4.22274341e-02, 9.57772566e-01],\n",
       "       [9.99999900e-01, 1.00000010e-07],\n",
       "       [9.99993904e-01, 6.09637336e-06],\n",
       "       [9.99999900e-01, 1.00000010e-07],\n",
       "       [9.99959574e-01, 4.04255621e-05],\n",
       "       [2.27359442e-09, 9.99999998e-01],\n",
       "       [1.80621008e-06, 9.99998194e-01],\n",
       "       [5.89683908e-06, 9.99994103e-01],\n",
       "       [2.88656586e-01, 7.11343414e-01],\n",
       "       [6.05093005e-08, 9.99999939e-01],\n",
       "       [3.61765306e-03, 9.96382347e-01],\n",
       "       [9.99999900e-01, 1.00000010e-07],\n",
       "       [9.99999879e-01, 1.20809564e-07],\n",
       "       [6.10142679e-01, 3.89857321e-01],\n",
       "       [1.45519362e-05, 9.99985448e-01],\n",
       "       [9.99999900e-01, 1.00000010e-07],\n",
       "       [9.65603813e-01, 3.43961867e-02],\n",
       "       [9.99999900e-01, 1.00000010e-07],\n",
       "       [9.99999900e-01, 1.00000010e-07],\n",
       "       [9.99999900e-01, 1.00000010e-07],\n",
       "       [9.15144869e-01, 8.48551310e-02],\n",
       "       [6.95437814e-07, 9.99999305e-01],\n",
       "       [2.14932728e-06, 9.99997851e-01],\n",
       "       [3.23767786e-03, 9.96762322e-01],\n",
       "       [9.95469858e-01, 4.53014169e-03],\n",
       "       [2.62734601e-03, 9.97372654e-01],\n",
       "       [3.91801110e-03, 9.96081989e-01],\n",
       "       [3.97467702e-08, 9.99999960e-01],\n",
       "       [9.99999900e-01, 1.00000010e-07],\n",
       "       [5.16107061e-01, 4.83892939e-01],\n",
       "       [1.08523675e-02, 9.89147632e-01],\n",
       "       [9.99999900e-01, 1.00000010e-07],\n",
       "       [9.99997770e-01, 2.22970073e-06],\n",
       "       [8.81422805e-08, 9.99999912e-01],\n",
       "       [7.99762275e-06, 9.99992002e-01],\n",
       "       [8.44821535e-01, 1.55178465e-01],\n",
       "       [9.37446860e-01, 6.25531398e-02],\n",
       "       [1.28324302e-06, 9.99998717e-01],\n",
       "       [9.99415270e-01, 5.84729664e-04],\n",
       "       [9.99374884e-01, 6.25115985e-04],\n",
       "       [9.96309509e-01, 3.69049098e-03],\n",
       "       [3.17075473e-02, 9.68292453e-01],\n",
       "       [3.65529479e-07, 9.99999634e-01],\n",
       "       [9.84952486e-01, 1.50475135e-02],\n",
       "       [4.68595494e-02, 9.53140451e-01],\n",
       "       [9.99999900e-01, 1.00000010e-07],\n",
       "       [9.99937529e-01, 6.24709398e-05],\n",
       "       [9.97014380e-01, 2.98562041e-03],\n",
       "       [2.01285233e-06, 9.99997987e-01],\n",
       "       [9.99985199e-01, 1.48013081e-05],\n",
       "       [9.99997883e-01, 2.11692564e-06],\n",
       "       [9.98740295e-01, 1.25970527e-03],\n",
       "       [9.99736805e-01, 2.63195306e-04],\n",
       "       [9.99999900e-01, 1.00000010e-07],\n",
       "       [5.11711083e-03, 9.94882889e-01],\n",
       "       [9.95805293e-01, 4.19470676e-03],\n",
       "       [9.98052046e-01, 1.94795352e-03],\n",
       "       [1.60562214e-07, 9.99999839e-01],\n",
       "       [9.99999826e-01, 1.73820876e-07],\n",
       "       [9.99978019e-01, 2.19808630e-05],\n",
       "       [4.33369034e-06, 9.99995666e-01],\n",
       "       [6.96840884e-02, 9.30315912e-01],\n",
       "       [9.99896299e-01, 1.03700977e-04],\n",
       "       [9.99977847e-01, 2.21526708e-05],\n",
       "       [5.71931963e-03, 9.94280680e-01],\n",
       "       [2.31059245e-02, 9.76894075e-01],\n",
       "       [1.40470897e-01, 8.59529103e-01],\n",
       "       [9.99973622e-01, 2.63783268e-05],\n",
       "       [9.99996895e-01, 3.10497107e-06],\n",
       "       [4.18268029e-01, 5.81731971e-01],\n",
       "       [2.65525576e-07, 9.99999734e-01],\n",
       "       [9.87893304e-01, 1.21066957e-02],\n",
       "       [9.99999586e-01, 4.13918074e-07],\n",
       "       [3.24124918e-02, 9.67587508e-01],\n",
       "       [9.99998897e-01, 1.10321467e-06],\n",
       "       [1.69885437e-02, 9.83011456e-01],\n",
       "       [6.76484365e-03, 9.93235156e-01],\n",
       "       [2.55909892e-02, 9.74409011e-01],\n",
       "       [1.12863938e-02, 9.88713606e-01],\n",
       "       [1.52896698e-05, 9.99984710e-01],\n",
       "       [9.99999900e-01, 1.00000010e-07],\n",
       "       [5.74369189e-06, 9.99994256e-01],\n",
       "       [9.99994011e-01, 5.98922858e-06],\n",
       "       [9.19281468e-01, 8.07185322e-02],\n",
       "       [8.42924704e-03, 9.91570753e-01],\n",
       "       [5.61645768e-03, 9.94383542e-01],\n",
       "       [9.99692828e-01, 3.07172275e-04],\n",
       "       [7.03756422e-07, 9.99999296e-01],\n",
       "       [2.38093377e-01, 7.61906623e-01],\n",
       "       [9.99999362e-01, 6.38297931e-07],\n",
       "       [9.99999900e-01, 1.00000010e-07],\n",
       "       [9.97093284e-01, 2.90671573e-03]])"
      ]
     },
     "execution_count": 51,
     "metadata": {},
     "output_type": "execute_result"
    }
   ],
   "source": [
    "svm_prob = svc_model.predict_proba(X_test)\n",
    "svm_prob"
   ]
  },
  {
   "cell_type": "markdown",
   "id": "3d5624e2",
   "metadata": {},
   "source": [
    "###  Decision tree"
   ]
  },
  {
   "cell_type": "code",
   "execution_count": 52,
   "id": "b8caabba",
   "metadata": {},
   "outputs": [
    {
     "name": "stdout",
     "output_type": "stream",
     "text": [
      "Requirement already satisfied: graphviz in c:\\users\\shubh\\anaconda3\\lib\\site-packages (0.20.1)\n"
     ]
    }
   ],
   "source": [
    "!pip install graphviz"
   ]
  },
  {
   "cell_type": "code",
   "execution_count": 53,
   "id": "087a8bab",
   "metadata": {},
   "outputs": [
    {
     "data": {
      "text/plain": [
       "Index(['age', 'bp', 'sg', 'al', 'su', 'rbc', 'pc', 'pcc', 'ba', 'bgr', 'bu',\n",
       "       'sc', 'sod', 'pot', 'hemo', 'pcv', 'wc', 'rc', 'htn', 'dm', 'cad',\n",
       "       'appet', 'pe', 'ane', 'classification'],\n",
       "      dtype='object')"
      ]
     },
     "execution_count": 53,
     "metadata": {},
     "output_type": "execute_result"
    }
   ],
   "source": [
    "db.columns"
   ]
  },
  {
   "cell_type": "code",
   "execution_count": 54,
   "id": "81cded75",
   "metadata": {},
   "outputs": [],
   "source": [
    "X=db[[ 'age', 'bp', 'sg', 'al', 'su', 'rbc', 'pc', 'pcc', 'ba', 'bgr',\n",
    "       'bu', 'sc', 'sod', 'pot', 'hemo', 'pcv', 'wc', 'rc', 'htn', 'dm', 'cad',\n",
    "       'appet', 'pe', 'ane']]\n",
    "Y=db[\"classification\"]"
   ]
  },
  {
   "cell_type": "code",
   "execution_count": 55,
   "id": "ca4cfc34",
   "metadata": {},
   "outputs": [],
   "source": [
    "X_train, X_test, Y_train, Y_test = train_test_split(X,Y, test_size=0.3, random_state=32)"
   ]
  },
  {
   "cell_type": "code",
   "execution_count": 56,
   "id": "7696616f",
   "metadata": {},
   "outputs": [],
   "source": [
    "from sklearn import tree\n",
    "clf = tree.DecisionTreeClassifier(criterion=\"entropy\")\n",
    "clf.fit(X_train , Y_train)\n",
    "y_pred = clf.predict(X_test)"
   ]
  },
  {
   "cell_type": "code",
   "execution_count": 57,
   "id": "da083219",
   "metadata": {},
   "outputs": [],
   "source": [
    "import graphviz"
   ]
  },
  {
   "cell_type": "code",
   "execution_count": 58,
   "id": "905b546e",
   "metadata": {},
   "outputs": [],
   "source": [
    "from sklearn.tree import export_graphviz"
   ]
  },
  {
   "cell_type": "code",
   "execution_count": 59,
   "id": "61007f0b",
   "metadata": {},
   "outputs": [
    {
     "name": "stdout",
     "output_type": "stream",
     "text": [
      "              precision    recall  f1-score   support\n",
      "\n",
      "           0       0.62      0.60      0.61        70\n",
      "           1       0.46      0.48      0.47        50\n",
      "\n",
      "    accuracy                           0.55       120\n",
      "   macro avg       0.54      0.54      0.54       120\n",
      "weighted avg       0.55      0.55      0.55       120\n",
      "\n"
     ]
    }
   ],
   "source": [
    "print(classification_report(y_test , y_pred))"
   ]
  },
  {
   "cell_type": "code",
   "execution_count": 60,
   "id": "28c888a4",
   "metadata": {},
   "outputs": [
    {
     "data": {
      "text/plain": [
       "0.55"
      ]
     },
     "execution_count": 60,
     "metadata": {},
     "output_type": "execute_result"
    }
   ],
   "source": [
    "metrics.accuracy_score(y_test , y_pred)"
   ]
  },
  {
   "cell_type": "code",
   "execution_count": 61,
   "id": "c03b7a41",
   "metadata": {},
   "outputs": [
    {
     "data": {
      "text/plain": [
       "0.55"
      ]
     },
     "execution_count": 61,
     "metadata": {},
     "output_type": "execute_result"
    }
   ],
   "source": [
    "DTA=metrics.accuracy_score(y_test,y_pred)\n",
    "DTA"
   ]
  },
  {
   "cell_type": "code",
   "execution_count": 62,
   "id": "dc33fc6c",
   "metadata": {},
   "outputs": [
    {
     "data": {
      "image/svg+xml": [
       "<?xml version=\"1.0\" encoding=\"UTF-8\" standalone=\"no\"?>\n",
       "<!DOCTYPE svg PUBLIC \"-//W3C//DTD SVG 1.1//EN\"\n",
       " \"http://www.w3.org/Graphics/SVG/1.1/DTD/svg11.dtd\">\n",
       "<!-- Generated by graphviz version 2.50.0 (0)\n",
       " -->\n",
       "<!-- Title: Tree Pages: 1 -->\n",
       "<svg width=\"608pt\" height=\"671pt\"\n",
       " viewBox=\"0.00 0.00 607.50 671.00\" xmlns=\"http://www.w3.org/2000/svg\" xmlns:xlink=\"http://www.w3.org/1999/xlink\">\n",
       "<g id=\"graph0\" class=\"graph\" transform=\"scale(1 1) rotate(0) translate(4 667)\">\n",
       "<title>Tree</title>\n",
       "<polygon fill=\"white\" stroke=\"transparent\" points=\"-4,4 -4,-667 603.5,-667 603.5,4 -4,4\"/>\n",
       "<!-- 0 -->\n",
       "<g id=\"node1\" class=\"node\">\n",
       "<title>0</title>\n",
       "<path fill=\"#f3c6a5\" stroke=\"black\" d=\"M346.5,-663C346.5,-663 253.5,-663 253.5,-663 247.5,-663 241.5,-657 241.5,-651 241.5,-651 241.5,-592 241.5,-592 241.5,-586 247.5,-580 253.5,-580 253.5,-580 346.5,-580 346.5,-580 352.5,-580 358.5,-586 358.5,-592 358.5,-592 358.5,-651 358.5,-651 358.5,-657 352.5,-663 346.5,-663\"/>\n",
       "<text text-anchor=\"start\" x=\"258\" y=\"-647.8\" font-family=\"Helvetica,sans-Serif\" font-size=\"14.00\">hemo ≤ 12.95</text>\n",
       "<text text-anchor=\"start\" x=\"252.5\" y=\"-632.8\" font-family=\"Helvetica,sans-Serif\" font-size=\"14.00\">entropy = 0.937</text>\n",
       "<text text-anchor=\"start\" x=\"255\" y=\"-617.8\" font-family=\"Helvetica,sans-Serif\" font-size=\"14.00\">samples = 280</text>\n",
       "<text text-anchor=\"start\" x=\"249.5\" y=\"-602.8\" font-family=\"Helvetica,sans-Serif\" font-size=\"14.00\">value = [181, 99]</text>\n",
       "<text text-anchor=\"start\" x=\"266\" y=\"-587.8\" font-family=\"Helvetica,sans-Serif\" font-size=\"14.00\">class = cdk</text>\n",
       "</g>\n",
       "<!-- 1 -->\n",
       "<g id=\"node2\" class=\"node\">\n",
       "<title>1</title>\n",
       "<path fill=\"#e6843e\" stroke=\"black\" d=\"M279.5,-544C279.5,-544 192.5,-544 192.5,-544 186.5,-544 180.5,-538 180.5,-532 180.5,-532 180.5,-473 180.5,-473 180.5,-467 186.5,-461 192.5,-461 192.5,-461 279.5,-461 279.5,-461 285.5,-461 291.5,-467 291.5,-473 291.5,-473 291.5,-532 291.5,-532 291.5,-538 285.5,-544 279.5,-544\"/>\n",
       "<text text-anchor=\"start\" x=\"208.5\" y=\"-528.8\" font-family=\"Helvetica,sans-Serif\" font-size=\"14.00\">sc ≤ 1.15</text>\n",
       "<text text-anchor=\"start\" x=\"188.5\" y=\"-513.8\" font-family=\"Helvetica,sans-Serif\" font-size=\"14.00\">entropy = 0.162</text>\n",
       "<text text-anchor=\"start\" x=\"191\" y=\"-498.8\" font-family=\"Helvetica,sans-Serif\" font-size=\"14.00\">samples = 169</text>\n",
       "<text text-anchor=\"start\" x=\"189\" y=\"-483.8\" font-family=\"Helvetica,sans-Serif\" font-size=\"14.00\">value = [165, 4]</text>\n",
       "<text text-anchor=\"start\" x=\"202\" y=\"-468.8\" font-family=\"Helvetica,sans-Serif\" font-size=\"14.00\">class = cdk</text>\n",
       "</g>\n",
       "<!-- 0&#45;&gt;1 -->\n",
       "<g id=\"edge1\" class=\"edge\">\n",
       "<title>0&#45;&gt;1</title>\n",
       "<path fill=\"none\" stroke=\"black\" d=\"M277.8,-579.91C273.03,-571.2 267.94,-561.9 263.02,-552.89\"/>\n",
       "<polygon fill=\"black\" stroke=\"black\" points=\"266.03,-551.11 258.17,-544.02 259.89,-554.47 266.03,-551.11\"/>\n",
       "<text text-anchor=\"middle\" x=\"251.14\" y=\"-564.31\" font-family=\"Helvetica,sans-Serif\" font-size=\"14.00\">True</text>\n",
       "</g>\n",
       "<!-- 10 -->\n",
       "<g id=\"node11\" class=\"node\">\n",
       "<title>10</title>\n",
       "<path fill=\"#5aaee9\" stroke=\"black\" d=\"M408.5,-544C408.5,-544 321.5,-544 321.5,-544 315.5,-544 309.5,-538 309.5,-532 309.5,-532 309.5,-473 309.5,-473 309.5,-467 315.5,-461 321.5,-461 321.5,-461 408.5,-461 408.5,-461 414.5,-461 420.5,-467 420.5,-473 420.5,-473 420.5,-532 420.5,-532 420.5,-538 414.5,-544 408.5,-544\"/>\n",
       "<text text-anchor=\"start\" x=\"333\" y=\"-528.8\" font-family=\"Helvetica,sans-Serif\" font-size=\"14.00\">sg ≤ 1.016</text>\n",
       "<text text-anchor=\"start\" x=\"317.5\" y=\"-513.8\" font-family=\"Helvetica,sans-Serif\" font-size=\"14.00\">entropy = 0.595</text>\n",
       "<text text-anchor=\"start\" x=\"321\" y=\"-498.8\" font-family=\"Helvetica,sans-Serif\" font-size=\"14.00\">samples = 111</text>\n",
       "<text text-anchor=\"start\" x=\"318\" y=\"-483.8\" font-family=\"Helvetica,sans-Serif\" font-size=\"14.00\">value = [16, 95]</text>\n",
       "<text text-anchor=\"start\" x=\"321.5\" y=\"-468.8\" font-family=\"Helvetica,sans-Serif\" font-size=\"14.00\">class = notcdk</text>\n",
       "</g>\n",
       "<!-- 0&#45;&gt;10 -->\n",
       "<g id=\"edge10\" class=\"edge\">\n",
       "<title>0&#45;&gt;10</title>\n",
       "<path fill=\"none\" stroke=\"black\" d=\"M322.55,-579.91C327.39,-571.2 332.56,-561.9 337.56,-552.89\"/>\n",
       "<polygon fill=\"black\" stroke=\"black\" points=\"340.69,-554.46 342.49,-544.02 334.57,-551.06 340.69,-554.46\"/>\n",
       "<text text-anchor=\"middle\" x=\"349.36\" y=\"-564.36\" font-family=\"Helvetica,sans-Serif\" font-size=\"14.00\">False</text>\n",
       "</g>\n",
       "<!-- 2 -->\n",
       "<g id=\"node3\" class=\"node\">\n",
       "<title>2</title>\n",
       "<path fill=\"#ea9a61\" stroke=\"black\" d=\"M153,-425C153,-425 73,-425 73,-425 67,-425 61,-419 61,-413 61,-413 61,-354 61,-354 61,-348 67,-342 73,-342 73,-342 153,-342 153,-342 159,-342 165,-348 165,-354 165,-354 165,-413 165,-413 165,-419 159,-425 153,-425\"/>\n",
       "<text text-anchor=\"start\" x=\"81\" y=\"-409.8\" font-family=\"Helvetica,sans-Serif\" font-size=\"14.00\">sg ≤ 1.017</text>\n",
       "<text text-anchor=\"start\" x=\"69\" y=\"-394.8\" font-family=\"Helvetica,sans-Serif\" font-size=\"14.00\">entropy = 0.65</text>\n",
       "<text text-anchor=\"start\" x=\"72\" y=\"-379.8\" font-family=\"Helvetica,sans-Serif\" font-size=\"14.00\">samples = 24</text>\n",
       "<text text-anchor=\"start\" x=\"70\" y=\"-364.8\" font-family=\"Helvetica,sans-Serif\" font-size=\"14.00\">value = [20, 4]</text>\n",
       "<text text-anchor=\"start\" x=\"79\" y=\"-349.8\" font-family=\"Helvetica,sans-Serif\" font-size=\"14.00\">class = cdk</text>\n",
       "</g>\n",
       "<!-- 1&#45;&gt;2 -->\n",
       "<g id=\"edge2\" class=\"edge\">\n",
       "<title>1&#45;&gt;2</title>\n",
       "<path fill=\"none\" stroke=\"black\" d=\"M193.33,-460.91C183.5,-451.56 172.96,-441.54 162.86,-431.93\"/>\n",
       "<polygon fill=\"black\" stroke=\"black\" points=\"165.26,-429.38 155.6,-425.02 160.43,-434.45 165.26,-429.38\"/>\n",
       "</g>\n",
       "<!-- 9 -->\n",
       "<g id=\"node10\" class=\"node\">\n",
       "<title>9</title>\n",
       "<path fill=\"#e58139\" stroke=\"black\" d=\"M281,-417.5C281,-417.5 195,-417.5 195,-417.5 189,-417.5 183,-411.5 183,-405.5 183,-405.5 183,-361.5 183,-361.5 183,-355.5 189,-349.5 195,-349.5 195,-349.5 281,-349.5 281,-349.5 287,-349.5 293,-355.5 293,-361.5 293,-361.5 293,-405.5 293,-405.5 293,-411.5 287,-417.5 281,-417.5\"/>\n",
       "<text text-anchor=\"start\" x=\"198\" y=\"-402.3\" font-family=\"Helvetica,sans-Serif\" font-size=\"14.00\">entropy = 0.0</text>\n",
       "<text text-anchor=\"start\" x=\"193\" y=\"-387.3\" font-family=\"Helvetica,sans-Serif\" font-size=\"14.00\">samples = 145</text>\n",
       "<text text-anchor=\"start\" x=\"191\" y=\"-372.3\" font-family=\"Helvetica,sans-Serif\" font-size=\"14.00\">value = [145, 0]</text>\n",
       "<text text-anchor=\"start\" x=\"204\" y=\"-357.3\" font-family=\"Helvetica,sans-Serif\" font-size=\"14.00\">class = cdk</text>\n",
       "</g>\n",
       "<!-- 1&#45;&gt;9 -->\n",
       "<g id=\"edge9\" class=\"edge\">\n",
       "<title>1&#45;&gt;9</title>\n",
       "<path fill=\"none\" stroke=\"black\" d=\"M236.69,-460.91C236.88,-450.2 237.07,-438.62 237.26,-427.78\"/>\n",
       "<polygon fill=\"black\" stroke=\"black\" points=\"240.76,-427.73 237.43,-417.67 233.76,-427.61 240.76,-427.73\"/>\n",
       "</g>\n",
       "<!-- 3 -->\n",
       "<g id=\"node4\" class=\"node\">\n",
       "<title>3</title>\n",
       "<path fill=\"#e58139\" stroke=\"black\" d=\"M90,-298.5C90,-298.5 12,-298.5 12,-298.5 6,-298.5 0,-292.5 0,-286.5 0,-286.5 0,-242.5 0,-242.5 0,-236.5 6,-230.5 12,-230.5 12,-230.5 90,-230.5 90,-230.5 96,-230.5 102,-236.5 102,-242.5 102,-242.5 102,-286.5 102,-286.5 102,-292.5 96,-298.5 90,-298.5\"/>\n",
       "<text text-anchor=\"start\" x=\"11\" y=\"-283.3\" font-family=\"Helvetica,sans-Serif\" font-size=\"14.00\">entropy = 0.0</text>\n",
       "<text text-anchor=\"start\" x=\"10\" y=\"-268.3\" font-family=\"Helvetica,sans-Serif\" font-size=\"14.00\">samples = 15</text>\n",
       "<text text-anchor=\"start\" x=\"8\" y=\"-253.3\" font-family=\"Helvetica,sans-Serif\" font-size=\"14.00\">value = [15, 0]</text>\n",
       "<text text-anchor=\"start\" x=\"17\" y=\"-238.3\" font-family=\"Helvetica,sans-Serif\" font-size=\"14.00\">class = cdk</text>\n",
       "</g>\n",
       "<!-- 2&#45;&gt;3 -->\n",
       "<g id=\"edge3\" class=\"edge\">\n",
       "<title>2&#45;&gt;3</title>\n",
       "<path fill=\"none\" stroke=\"black\" d=\"M91.49,-341.91C85.64,-330.87 79.3,-318.9 73.4,-307.77\"/>\n",
       "<polygon fill=\"black\" stroke=\"black\" points=\"76.35,-305.86 68.58,-298.67 70.17,-309.14 76.35,-305.86\"/>\n",
       "</g>\n",
       "<!-- 4 -->\n",
       "<g id=\"node5\" class=\"node\">\n",
       "<title>4</title>\n",
       "<path fill=\"#fae6d7\" stroke=\"black\" d=\"M219.5,-306C219.5,-306 132.5,-306 132.5,-306 126.5,-306 120.5,-300 120.5,-294 120.5,-294 120.5,-235 120.5,-235 120.5,-229 126.5,-223 132.5,-223 132.5,-223 219.5,-223 219.5,-223 225.5,-223 231.5,-229 231.5,-235 231.5,-235 231.5,-294 231.5,-294 231.5,-300 225.5,-306 219.5,-306\"/>\n",
       "<text text-anchor=\"start\" x=\"142\" y=\"-290.8\" font-family=\"Helvetica,sans-Serif\" font-size=\"14.00\">rbc ≤ 0.095</text>\n",
       "<text text-anchor=\"start\" x=\"128.5\" y=\"-275.8\" font-family=\"Helvetica,sans-Serif\" font-size=\"14.00\">entropy = 0.991</text>\n",
       "<text text-anchor=\"start\" x=\"138.5\" y=\"-260.8\" font-family=\"Helvetica,sans-Serif\" font-size=\"14.00\">samples = 9</text>\n",
       "<text text-anchor=\"start\" x=\"136.5\" y=\"-245.8\" font-family=\"Helvetica,sans-Serif\" font-size=\"14.00\">value = [5, 4]</text>\n",
       "<text text-anchor=\"start\" x=\"142\" y=\"-230.8\" font-family=\"Helvetica,sans-Serif\" font-size=\"14.00\">class = cdk</text>\n",
       "</g>\n",
       "<!-- 2&#45;&gt;4 -->\n",
       "<g id=\"edge4\" class=\"edge\">\n",
       "<title>2&#45;&gt;4</title>\n",
       "<path fill=\"none\" stroke=\"black\" d=\"M134.86,-341.91C139.55,-333.2 144.56,-323.9 149.4,-314.89\"/>\n",
       "<polygon fill=\"black\" stroke=\"black\" points=\"152.52,-316.48 154.18,-306.02 146.36,-313.17 152.52,-316.48\"/>\n",
       "</g>\n",
       "<!-- 5 -->\n",
       "<g id=\"node6\" class=\"node\">\n",
       "<title>5</title>\n",
       "<path fill=\"#6ab6ec\" stroke=\"black\" d=\"M158.5,-187C158.5,-187 71.5,-187 71.5,-187 65.5,-187 59.5,-181 59.5,-175 59.5,-175 59.5,-116 59.5,-116 59.5,-110 65.5,-104 71.5,-104 71.5,-104 158.5,-104 158.5,-104 164.5,-104 170.5,-110 170.5,-116 170.5,-116 170.5,-175 170.5,-175 170.5,-181 164.5,-187 158.5,-187\"/>\n",
       "<text text-anchor=\"start\" x=\"71\" y=\"-171.8\" font-family=\"Helvetica,sans-Serif\" font-size=\"14.00\">wc ≤ 7553.061</text>\n",
       "<text text-anchor=\"start\" x=\"67.5\" y=\"-156.8\" font-family=\"Helvetica,sans-Serif\" font-size=\"14.00\">entropy = 0.722</text>\n",
       "<text text-anchor=\"start\" x=\"77.5\" y=\"-141.8\" font-family=\"Helvetica,sans-Serif\" font-size=\"14.00\">samples = 5</text>\n",
       "<text text-anchor=\"start\" x=\"75.5\" y=\"-126.8\" font-family=\"Helvetica,sans-Serif\" font-size=\"14.00\">value = [1, 4]</text>\n",
       "<text text-anchor=\"start\" x=\"71.5\" y=\"-111.8\" font-family=\"Helvetica,sans-Serif\" font-size=\"14.00\">class = notcdk</text>\n",
       "</g>\n",
       "<!-- 4&#45;&gt;5 -->\n",
       "<g id=\"edge5\" class=\"edge\">\n",
       "<title>4&#45;&gt;5</title>\n",
       "<path fill=\"none\" stroke=\"black\" d=\"M154.84,-222.91C150.29,-214.2 145.45,-204.9 140.75,-195.89\"/>\n",
       "<polygon fill=\"black\" stroke=\"black\" points=\"143.85,-194.27 136.13,-187.02 137.65,-197.51 143.85,-194.27\"/>\n",
       "</g>\n",
       "<!-- 8 -->\n",
       "<g id=\"node9\" class=\"node\">\n",
       "<title>8</title>\n",
       "<path fill=\"#e58139\" stroke=\"black\" d=\"M273,-179.5C273,-179.5 201,-179.5 201,-179.5 195,-179.5 189,-173.5 189,-167.5 189,-167.5 189,-123.5 189,-123.5 189,-117.5 195,-111.5 201,-111.5 201,-111.5 273,-111.5 273,-111.5 279,-111.5 285,-117.5 285,-123.5 285,-123.5 285,-167.5 285,-167.5 285,-173.5 279,-179.5 273,-179.5\"/>\n",
       "<text text-anchor=\"start\" x=\"197\" y=\"-164.3\" font-family=\"Helvetica,sans-Serif\" font-size=\"14.00\">entropy = 0.0</text>\n",
       "<text text-anchor=\"start\" x=\"199.5\" y=\"-149.3\" font-family=\"Helvetica,sans-Serif\" font-size=\"14.00\">samples = 4</text>\n",
       "<text text-anchor=\"start\" x=\"197.5\" y=\"-134.3\" font-family=\"Helvetica,sans-Serif\" font-size=\"14.00\">value = [4, 0]</text>\n",
       "<text text-anchor=\"start\" x=\"203\" y=\"-119.3\" font-family=\"Helvetica,sans-Serif\" font-size=\"14.00\">class = cdk</text>\n",
       "</g>\n",
       "<!-- 4&#45;&gt;8 -->\n",
       "<g id=\"edge8\" class=\"edge\">\n",
       "<title>4&#45;&gt;8</title>\n",
       "<path fill=\"none\" stroke=\"black\" d=\"M197.16,-222.91C202.92,-211.87 209.16,-199.9 214.96,-188.77\"/>\n",
       "<polygon fill=\"black\" stroke=\"black\" points=\"218.19,-190.15 219.71,-179.67 211.98,-186.92 218.19,-190.15\"/>\n",
       "</g>\n",
       "<!-- 6 -->\n",
       "<g id=\"node7\" class=\"node\">\n",
       "<title>6</title>\n",
       "<path fill=\"#e58139\" stroke=\"black\" d=\"M92,-68C92,-68 20,-68 20,-68 14,-68 8,-62 8,-56 8,-56 8,-12 8,-12 8,-6 14,0 20,0 20,0 92,0 92,0 98,0 104,-6 104,-12 104,-12 104,-56 104,-56 104,-62 98,-68 92,-68\"/>\n",
       "<text text-anchor=\"start\" x=\"16\" y=\"-52.8\" font-family=\"Helvetica,sans-Serif\" font-size=\"14.00\">entropy = 0.0</text>\n",
       "<text text-anchor=\"start\" x=\"18.5\" y=\"-37.8\" font-family=\"Helvetica,sans-Serif\" font-size=\"14.00\">samples = 1</text>\n",
       "<text text-anchor=\"start\" x=\"16.5\" y=\"-22.8\" font-family=\"Helvetica,sans-Serif\" font-size=\"14.00\">value = [1, 0]</text>\n",
       "<text text-anchor=\"start\" x=\"22\" y=\"-7.8\" font-family=\"Helvetica,sans-Serif\" font-size=\"14.00\">class = cdk</text>\n",
       "</g>\n",
       "<!-- 5&#45;&gt;6 -->\n",
       "<g id=\"edge6\" class=\"edge\">\n",
       "<title>5&#45;&gt;6</title>\n",
       "<path fill=\"none\" stroke=\"black\" d=\"M93.03,-103.73C88.36,-95.06 83.42,-85.9 78.73,-77.18\"/>\n",
       "<polygon fill=\"black\" stroke=\"black\" points=\"81.77,-75.44 73.94,-68.3 75.6,-78.76 81.77,-75.44\"/>\n",
       "</g>\n",
       "<!-- 7 -->\n",
       "<g id=\"node8\" class=\"node\">\n",
       "<title>7</title>\n",
       "<path fill=\"#399de5\" stroke=\"black\" d=\"M213.5,-68C213.5,-68 134.5,-68 134.5,-68 128.5,-68 122.5,-62 122.5,-56 122.5,-56 122.5,-12 122.5,-12 122.5,-6 128.5,0 134.5,0 134.5,0 213.5,0 213.5,0 219.5,0 225.5,-6 225.5,-12 225.5,-12 225.5,-56 225.5,-56 225.5,-62 219.5,-68 213.5,-68\"/>\n",
       "<text text-anchor=\"start\" x=\"134\" y=\"-52.8\" font-family=\"Helvetica,sans-Serif\" font-size=\"14.00\">entropy = 0.0</text>\n",
       "<text text-anchor=\"start\" x=\"136.5\" y=\"-37.8\" font-family=\"Helvetica,sans-Serif\" font-size=\"14.00\">samples = 4</text>\n",
       "<text text-anchor=\"start\" x=\"134.5\" y=\"-22.8\" font-family=\"Helvetica,sans-Serif\" font-size=\"14.00\">value = [0, 4]</text>\n",
       "<text text-anchor=\"start\" x=\"130.5\" y=\"-7.8\" font-family=\"Helvetica,sans-Serif\" font-size=\"14.00\">class = notcdk</text>\n",
       "</g>\n",
       "<!-- 5&#45;&gt;7 -->\n",
       "<g id=\"edge7\" class=\"edge\">\n",
       "<title>5&#45;&gt;7</title>\n",
       "<path fill=\"none\" stroke=\"black\" d=\"M136.97,-103.73C141.64,-95.06 146.58,-85.9 151.27,-77.18\"/>\n",
       "<polygon fill=\"black\" stroke=\"black\" points=\"154.4,-78.76 156.06,-68.3 148.23,-75.44 154.4,-78.76\"/>\n",
       "</g>\n",
       "<!-- 11 -->\n",
       "<g id=\"node12\" class=\"node\">\n",
       "<title>11</title>\n",
       "<path fill=\"#e58139\" stroke=\"black\" d=\"M403,-417.5C403,-417.5 325,-417.5 325,-417.5 319,-417.5 313,-411.5 313,-405.5 313,-405.5 313,-361.5 313,-361.5 313,-355.5 319,-349.5 325,-349.5 325,-349.5 403,-349.5 403,-349.5 409,-349.5 415,-355.5 415,-361.5 415,-361.5 415,-405.5 415,-405.5 415,-411.5 409,-417.5 403,-417.5\"/>\n",
       "<text text-anchor=\"start\" x=\"324\" y=\"-402.3\" font-family=\"Helvetica,sans-Serif\" font-size=\"14.00\">entropy = 0.0</text>\n",
       "<text text-anchor=\"start\" x=\"323\" y=\"-387.3\" font-family=\"Helvetica,sans-Serif\" font-size=\"14.00\">samples = 14</text>\n",
       "<text text-anchor=\"start\" x=\"321\" y=\"-372.3\" font-family=\"Helvetica,sans-Serif\" font-size=\"14.00\">value = [14, 0]</text>\n",
       "<text text-anchor=\"start\" x=\"330\" y=\"-357.3\" font-family=\"Helvetica,sans-Serif\" font-size=\"14.00\">class = cdk</text>\n",
       "</g>\n",
       "<!-- 10&#45;&gt;11 -->\n",
       "<g id=\"edge11\" class=\"edge\">\n",
       "<title>10&#45;&gt;11</title>\n",
       "<path fill=\"none\" stroke=\"black\" d=\"M364.65,-460.91C364.56,-450.2 364.46,-438.62 364.37,-427.78\"/>\n",
       "<polygon fill=\"black\" stroke=\"black\" points=\"367.87,-427.64 364.28,-417.67 360.87,-427.7 367.87,-427.64\"/>\n",
       "</g>\n",
       "<!-- 12 -->\n",
       "<g id=\"node13\" class=\"node\">\n",
       "<title>12</title>\n",
       "<path fill=\"#3d9fe6\" stroke=\"black\" d=\"M532.5,-425C532.5,-425 445.5,-425 445.5,-425 439.5,-425 433.5,-419 433.5,-413 433.5,-413 433.5,-354 433.5,-354 433.5,-348 439.5,-342 445.5,-342 445.5,-342 532.5,-342 532.5,-342 538.5,-342 544.5,-348 544.5,-354 544.5,-354 544.5,-413 544.5,-413 544.5,-419 538.5,-425 532.5,-425\"/>\n",
       "<text text-anchor=\"start\" x=\"455\" y=\"-409.8\" font-family=\"Helvetica,sans-Serif\" font-size=\"14.00\">htn ≤ 0.315</text>\n",
       "<text text-anchor=\"start\" x=\"441.5\" y=\"-394.8\" font-family=\"Helvetica,sans-Serif\" font-size=\"14.00\">entropy = 0.145</text>\n",
       "<text text-anchor=\"start\" x=\"448\" y=\"-379.8\" font-family=\"Helvetica,sans-Serif\" font-size=\"14.00\">samples = 97</text>\n",
       "<text text-anchor=\"start\" x=\"446\" y=\"-364.8\" font-family=\"Helvetica,sans-Serif\" font-size=\"14.00\">value = [2, 95]</text>\n",
       "<text text-anchor=\"start\" x=\"445.5\" y=\"-349.8\" font-family=\"Helvetica,sans-Serif\" font-size=\"14.00\">class = notcdk</text>\n",
       "</g>\n",
       "<!-- 10&#45;&gt;12 -->\n",
       "<g id=\"edge12\" class=\"edge\">\n",
       "<title>10&#45;&gt;12</title>\n",
       "<path fill=\"none\" stroke=\"black\" d=\"M408.02,-460.91C417.93,-451.56 428.55,-441.54 438.73,-431.93\"/>\n",
       "<polygon fill=\"black\" stroke=\"black\" points=\"441.18,-434.43 446.05,-425.02 436.38,-429.34 441.18,-434.43\"/>\n",
       "</g>\n",
       "<!-- 13 -->\n",
       "<g id=\"node14\" class=\"node\">\n",
       "<title>13</title>\n",
       "<path fill=\"#e58139\" stroke=\"black\" d=\"M466,-298.5C466,-298.5 394,-298.5 394,-298.5 388,-298.5 382,-292.5 382,-286.5 382,-286.5 382,-242.5 382,-242.5 382,-236.5 388,-230.5 394,-230.5 394,-230.5 466,-230.5 466,-230.5 472,-230.5 478,-236.5 478,-242.5 478,-242.5 478,-286.5 478,-286.5 478,-292.5 472,-298.5 466,-298.5\"/>\n",
       "<text text-anchor=\"start\" x=\"390\" y=\"-283.3\" font-family=\"Helvetica,sans-Serif\" font-size=\"14.00\">entropy = 0.0</text>\n",
       "<text text-anchor=\"start\" x=\"392.5\" y=\"-268.3\" font-family=\"Helvetica,sans-Serif\" font-size=\"14.00\">samples = 2</text>\n",
       "<text text-anchor=\"start\" x=\"390.5\" y=\"-253.3\" font-family=\"Helvetica,sans-Serif\" font-size=\"14.00\">value = [2, 0]</text>\n",
       "<text text-anchor=\"start\" x=\"396\" y=\"-238.3\" font-family=\"Helvetica,sans-Serif\" font-size=\"14.00\">class = cdk</text>\n",
       "</g>\n",
       "<!-- 12&#45;&gt;13 -->\n",
       "<g id=\"edge13\" class=\"edge\">\n",
       "<title>12&#45;&gt;13</title>\n",
       "<path fill=\"none\" stroke=\"black\" d=\"M468.53,-341.91C462.97,-330.87 456.93,-318.9 451.32,-307.77\"/>\n",
       "<polygon fill=\"black\" stroke=\"black\" points=\"454.35,-306.02 446.73,-298.67 448.1,-309.17 454.35,-306.02\"/>\n",
       "</g>\n",
       "<!-- 14 -->\n",
       "<g id=\"node15\" class=\"node\">\n",
       "<title>14</title>\n",
       "<path fill=\"#399de5\" stroke=\"black\" d=\"M587.5,-298.5C587.5,-298.5 508.5,-298.5 508.5,-298.5 502.5,-298.5 496.5,-292.5 496.5,-286.5 496.5,-286.5 496.5,-242.5 496.5,-242.5 496.5,-236.5 502.5,-230.5 508.5,-230.5 508.5,-230.5 587.5,-230.5 587.5,-230.5 593.5,-230.5 599.5,-236.5 599.5,-242.5 599.5,-242.5 599.5,-286.5 599.5,-286.5 599.5,-292.5 593.5,-298.5 587.5,-298.5\"/>\n",
       "<text text-anchor=\"start\" x=\"508\" y=\"-283.3\" font-family=\"Helvetica,sans-Serif\" font-size=\"14.00\">entropy = 0.0</text>\n",
       "<text text-anchor=\"start\" x=\"507\" y=\"-268.3\" font-family=\"Helvetica,sans-Serif\" font-size=\"14.00\">samples = 95</text>\n",
       "<text text-anchor=\"start\" x=\"505\" y=\"-253.3\" font-family=\"Helvetica,sans-Serif\" font-size=\"14.00\">value = [0, 95]</text>\n",
       "<text text-anchor=\"start\" x=\"504.5\" y=\"-238.3\" font-family=\"Helvetica,sans-Serif\" font-size=\"14.00\">class = notcdk</text>\n",
       "</g>\n",
       "<!-- 12&#45;&gt;14 -->\n",
       "<g id=\"edge14\" class=\"edge\">\n",
       "<title>12&#45;&gt;14</title>\n",
       "<path fill=\"none\" stroke=\"black\" d=\"M509.47,-341.91C515.03,-330.87 521.07,-318.9 526.68,-307.77\"/>\n",
       "<polygon fill=\"black\" stroke=\"black\" points=\"529.9,-309.17 531.27,-298.67 523.65,-306.02 529.9,-309.17\"/>\n",
       "</g>\n",
       "</g>\n",
       "</svg>\n"
      ],
      "text/plain": [
       "<graphviz.sources.Source at 0x237ac8374c0>"
      ]
     },
     "execution_count": 62,
     "metadata": {},
     "output_type": "execute_result"
    }
   ],
   "source": [
    "dot_data=export_graphviz(clf,out_file=None,feature_names=X.columns,\n",
    "                        class_names=[\"cdk\",\"notcdk\"],\n",
    "                        filled=True,rounded=True,special_characters=True)\n",
    "graph=graphviz.Source(dot_data)\n",
    "graph"
   ]
  },
  {
   "cell_type": "code",
   "execution_count": 63,
   "id": "d82f5d10",
   "metadata": {},
   "outputs": [
    {
     "data": {
      "text/plain": [
       "array([[1., 0.],\n",
       "       [1., 0.],\n",
       "       [1., 0.],\n",
       "       [0., 1.],\n",
       "       [0., 1.],\n",
       "       [1., 0.],\n",
       "       [1., 0.],\n",
       "       [0., 1.],\n",
       "       [0., 1.],\n",
       "       [1., 0.],\n",
       "       [1., 0.],\n",
       "       [1., 0.],\n",
       "       [0., 1.],\n",
       "       [1., 0.],\n",
       "       [1., 0.],\n",
       "       [1., 0.],\n",
       "       [1., 0.],\n",
       "       [0., 1.],\n",
       "       [1., 0.],\n",
       "       [1., 0.],\n",
       "       [0., 1.],\n",
       "       [1., 0.],\n",
       "       [0., 1.],\n",
       "       [1., 0.],\n",
       "       [0., 1.],\n",
       "       [1., 0.],\n",
       "       [1., 0.],\n",
       "       [1., 0.],\n",
       "       [1., 0.],\n",
       "       [1., 0.],\n",
       "       [1., 0.],\n",
       "       [0., 1.],\n",
       "       [1., 0.],\n",
       "       [0., 1.],\n",
       "       [0., 1.],\n",
       "       [0., 1.],\n",
       "       [1., 0.],\n",
       "       [0., 1.],\n",
       "       [1., 0.],\n",
       "       [1., 0.],\n",
       "       [0., 1.],\n",
       "       [1., 0.],\n",
       "       [0., 1.],\n",
       "       [1., 0.],\n",
       "       [1., 0.],\n",
       "       [0., 1.],\n",
       "       [1., 0.],\n",
       "       [1., 0.],\n",
       "       [1., 0.],\n",
       "       [1., 0.],\n",
       "       [1., 0.],\n",
       "       [0., 1.],\n",
       "       [1., 0.],\n",
       "       [0., 1.],\n",
       "       [1., 0.],\n",
       "       [1., 0.],\n",
       "       [0., 1.],\n",
       "       [1., 0.],\n",
       "       [0., 1.],\n",
       "       [0., 1.],\n",
       "       [1., 0.],\n",
       "       [0., 1.],\n",
       "       [1., 0.],\n",
       "       [1., 0.],\n",
       "       [0., 1.],\n",
       "       [1., 0.],\n",
       "       [0., 1.],\n",
       "       [0., 1.],\n",
       "       [1., 0.],\n",
       "       [1., 0.],\n",
       "       [1., 0.],\n",
       "       [1., 0.],\n",
       "       [0., 1.],\n",
       "       [0., 1.],\n",
       "       [0., 1.],\n",
       "       [0., 1.],\n",
       "       [1., 0.],\n",
       "       [1., 0.],\n",
       "       [1., 0.],\n",
       "       [0., 1.],\n",
       "       [0., 1.],\n",
       "       [0., 1.],\n",
       "       [1., 0.],\n",
       "       [1., 0.],\n",
       "       [1., 0.],\n",
       "       [0., 1.],\n",
       "       [1., 0.],\n",
       "       [0., 1.],\n",
       "       [0., 1.],\n",
       "       [0., 1.],\n",
       "       [0., 1.],\n",
       "       [1., 0.],\n",
       "       [1., 0.],\n",
       "       [1., 0.],\n",
       "       [0., 1.],\n",
       "       [1., 0.],\n",
       "       [0., 1.],\n",
       "       [1., 0.],\n",
       "       [0., 1.],\n",
       "       [1., 0.],\n",
       "       [0., 1.],\n",
       "       [1., 0.],\n",
       "       [1., 0.],\n",
       "       [1., 0.],\n",
       "       [0., 1.],\n",
       "       [0., 1.],\n",
       "       [0., 1.],\n",
       "       [0., 1.],\n",
       "       [0., 1.],\n",
       "       [0., 1.],\n",
       "       [0., 1.],\n",
       "       [1., 0.],\n",
       "       [0., 1.],\n",
       "       [1., 0.],\n",
       "       [1., 0.],\n",
       "       [0., 1.],\n",
       "       [1., 0.],\n",
       "       [0., 1.],\n",
       "       [1., 0.],\n",
       "       [1., 0.]])"
      ]
     },
     "execution_count": 63,
     "metadata": {},
     "output_type": "execute_result"
    }
   ],
   "source": [
    "dt_prob=clf.predict_proba(X_test)\n",
    "dt_prob"
   ]
  },
  {
   "cell_type": "markdown",
   "id": "36fa72c1",
   "metadata": {},
   "source": [
    "#### Random Forest"
   ]
  },
  {
   "cell_type": "code",
   "execution_count": 64,
   "id": "d6b22587",
   "metadata": {},
   "outputs": [],
   "source": [
    "from sklearn.ensemble import RandomForestClassifier"
   ]
  },
  {
   "cell_type": "code",
   "execution_count": 65,
   "id": "24debbdf",
   "metadata": {},
   "outputs": [],
   "source": [
    "clf = RandomForestClassifier(n_estimators=100 , oob_score=True)"
   ]
  },
  {
   "cell_type": "code",
   "execution_count": 66,
   "id": "111af78c",
   "metadata": {},
   "outputs": [
    {
     "data": {
      "text/plain": [
       "RandomForestClassifier(oob_score=True)"
      ]
     },
     "execution_count": 66,
     "metadata": {},
     "output_type": "execute_result"
    }
   ],
   "source": [
    "clf"
   ]
  },
  {
   "cell_type": "code",
   "execution_count": 67,
   "id": "6de4c87c",
   "metadata": {},
   "outputs": [
    {
     "data": {
      "text/plain": [
       "RandomForestClassifier(oob_score=True)"
      ]
     },
     "execution_count": 67,
     "metadata": {},
     "output_type": "execute_result"
    }
   ],
   "source": [
    "clf.fit(x,y)"
   ]
  },
  {
   "cell_type": "code",
   "execution_count": 68,
   "id": "f566f4bd",
   "metadata": {},
   "outputs": [
    {
     "data": {
      "text/plain": [
       "0.995"
      ]
     },
     "execution_count": 68,
     "metadata": {},
     "output_type": "execute_result"
    }
   ],
   "source": [
    "clf.oob_score_"
   ]
  },
  {
   "cell_type": "code",
   "execution_count": 69,
   "id": "19e69836",
   "metadata": {},
   "outputs": [],
   "source": [
    "y_pred = clf.predict(x)"
   ]
  },
  {
   "cell_type": "code",
   "execution_count": 70,
   "id": "6225cf5e",
   "metadata": {},
   "outputs": [
    {
     "name": "stdout",
     "output_type": "stream",
     "text": [
      "1.0\n"
     ]
    }
   ],
   "source": [
    "print(metrics.accuracy_score(y,y_pred))"
   ]
  },
  {
   "cell_type": "code",
   "execution_count": 75,
   "id": "745e0a1c",
   "metadata": {},
   "outputs": [
    {
     "data": {
      "text/plain": [
       "1.0"
      ]
     },
     "execution_count": 75,
     "metadata": {},
     "output_type": "execute_result"
    }
   ],
   "source": [
    "RFA = metrics.accuracy_score(y,y_pred)\n",
    "RFA"
   ]
  },
  {
   "cell_type": "code",
   "execution_count": 71,
   "id": "8bf6bb9d",
   "metadata": {},
   "outputs": [
    {
     "data": {
      "text/plain": [
       "array([[0.8 , 0.2 ],\n",
       "       [0.98, 0.02],\n",
       "       [1.  , 0.  ],\n",
       "       [1.  , 0.  ],\n",
       "       [0.99, 0.01],\n",
       "       [0.97, 0.03],\n",
       "       [1.  , 0.  ],\n",
       "       [0.94, 0.06],\n",
       "       [1.  , 0.  ],\n",
       "       [0.99, 0.01],\n",
       "       [1.  , 0.  ],\n",
       "       [1.  , 0.  ],\n",
       "       [1.  , 0.  ],\n",
       "       [1.  , 0.  ],\n",
       "       [1.  , 0.  ],\n",
       "       [1.  , 0.  ],\n",
       "       [1.  , 0.  ],\n",
       "       [1.  , 0.  ],\n",
       "       [0.98, 0.02],\n",
       "       [1.  , 0.  ],\n",
       "       [1.  , 0.  ],\n",
       "       [1.  , 0.  ],\n",
       "       [1.  , 0.  ],\n",
       "       [0.98, 0.02],\n",
       "       [1.  , 0.  ],\n",
       "       [0.99, 0.01],\n",
       "       [0.99, 0.01],\n",
       "       [1.  , 0.  ],\n",
       "       [1.  , 0.  ],\n",
       "       [1.  , 0.  ],\n",
       "       [1.  , 0.  ],\n",
       "       [1.  , 0.  ],\n",
       "       [1.  , 0.  ],\n",
       "       [1.  , 0.  ],\n",
       "       [1.  , 0.  ],\n",
       "       [1.  , 0.  ],\n",
       "       [1.  , 0.  ],\n",
       "       [1.  , 0.  ],\n",
       "       [0.99, 0.01],\n",
       "       [0.98, 0.02],\n",
       "       [1.  , 0.  ],\n",
       "       [0.99, 0.01],\n",
       "       [1.  , 0.  ],\n",
       "       [1.  , 0.  ],\n",
       "       [1.  , 0.  ],\n",
       "       [1.  , 0.  ],\n",
       "       [1.  , 0.  ],\n",
       "       [0.99, 0.01],\n",
       "       [0.93, 0.07],\n",
       "       [1.  , 0.  ],\n",
       "       [1.  , 0.  ],\n",
       "       [1.  , 0.  ],\n",
       "       [1.  , 0.  ],\n",
       "       [0.98, 0.02],\n",
       "       [0.96, 0.04],\n",
       "       [1.  , 0.  ],\n",
       "       [1.  , 0.  ],\n",
       "       [1.  , 0.  ],\n",
       "       [1.  , 0.  ],\n",
       "       [1.  , 0.  ],\n",
       "       [0.99, 0.01],\n",
       "       [0.95, 0.05],\n",
       "       [0.97, 0.03],\n",
       "       [1.  , 0.  ],\n",
       "       [1.  , 0.  ],\n",
       "       [0.97, 0.03],\n",
       "       [1.  , 0.  ],\n",
       "       [0.98, 0.02],\n",
       "       [1.  , 0.  ],\n",
       "       [0.94, 0.06],\n",
       "       [0.98, 0.02],\n",
       "       [1.  , 0.  ],\n",
       "       [1.  , 0.  ],\n",
       "       [0.99, 0.01],\n",
       "       [1.  , 0.  ],\n",
       "       [1.  , 0.  ],\n",
       "       [1.  , 0.  ],\n",
       "       [1.  , 0.  ],\n",
       "       [1.  , 0.  ],\n",
       "       [1.  , 0.  ],\n",
       "       [0.98, 0.02],\n",
       "       [1.  , 0.  ],\n",
       "       [0.99, 0.01],\n",
       "       [0.94, 0.06],\n",
       "       [1.  , 0.  ],\n",
       "       [1.  , 0.  ],\n",
       "       [1.  , 0.  ],\n",
       "       [1.  , 0.  ],\n",
       "       [1.  , 0.  ],\n",
       "       [0.94, 0.06],\n",
       "       [0.96, 0.04],\n",
       "       [0.9 , 0.1 ],\n",
       "       [1.  , 0.  ],\n",
       "       [1.  , 0.  ],\n",
       "       [1.  , 0.  ],\n",
       "       [0.98, 0.02],\n",
       "       [1.  , 0.  ],\n",
       "       [1.  , 0.  ],\n",
       "       [1.  , 0.  ],\n",
       "       [0.99, 0.01],\n",
       "       [0.98, 0.02],\n",
       "       [1.  , 0.  ],\n",
       "       [0.89, 0.11],\n",
       "       [1.  , 0.  ],\n",
       "       [1.  , 0.  ],\n",
       "       [0.95, 0.05],\n",
       "       [1.  , 0.  ],\n",
       "       [1.  , 0.  ],\n",
       "       [0.96, 0.04],\n",
       "       [1.  , 0.  ],\n",
       "       [1.  , 0.  ],\n",
       "       [1.  , 0.  ],\n",
       "       [1.  , 0.  ],\n",
       "       [1.  , 0.  ],\n",
       "       [1.  , 0.  ],\n",
       "       [0.97, 0.03],\n",
       "       [0.98, 0.02],\n",
       "       [0.97, 0.03],\n",
       "       [0.99, 0.01],\n",
       "       [0.99, 0.01],\n",
       "       [0.99, 0.01],\n",
       "       [0.96, 0.04],\n",
       "       [1.  , 0.  ],\n",
       "       [0.98, 0.02],\n",
       "       [0.99, 0.01],\n",
       "       [1.  , 0.  ],\n",
       "       [1.  , 0.  ],\n",
       "       [1.  , 0.  ],\n",
       "       [1.  , 0.  ],\n",
       "       [1.  , 0.  ],\n",
       "       [1.  , 0.  ],\n",
       "       [1.  , 0.  ],\n",
       "       [1.  , 0.  ],\n",
       "       [0.94, 0.06],\n",
       "       [1.  , 0.  ],\n",
       "       [0.99, 0.01],\n",
       "       [1.  , 0.  ],\n",
       "       [1.  , 0.  ],\n",
       "       [0.98, 0.02],\n",
       "       [1.  , 0.  ],\n",
       "       [0.98, 0.02],\n",
       "       [0.99, 0.01],\n",
       "       [1.  , 0.  ],\n",
       "       [1.  , 0.  ],\n",
       "       [1.  , 0.  ],\n",
       "       [1.  , 0.  ],\n",
       "       [1.  , 0.  ],\n",
       "       [1.  , 0.  ],\n",
       "       [1.  , 0.  ],\n",
       "       [1.  , 0.  ],\n",
       "       [0.89, 0.11],\n",
       "       [1.  , 0.  ],\n",
       "       [0.99, 0.01],\n",
       "       [1.  , 0.  ],\n",
       "       [1.  , 0.  ],\n",
       "       [1.  , 0.  ],\n",
       "       [1.  , 0.  ],\n",
       "       [0.98, 0.02],\n",
       "       [1.  , 0.  ],\n",
       "       [1.  , 0.  ],\n",
       "       [0.99, 0.01],\n",
       "       [1.  , 0.  ],\n",
       "       [1.  , 0.  ],\n",
       "       [1.  , 0.  ],\n",
       "       [0.98, 0.02],\n",
       "       [0.99, 0.01],\n",
       "       [0.99, 0.01],\n",
       "       [0.84, 0.16],\n",
       "       [1.  , 0.  ],\n",
       "       [1.  , 0.  ],\n",
       "       [1.  , 0.  ],\n",
       "       [1.  , 0.  ],\n",
       "       [1.  , 0.  ],\n",
       "       [0.96, 0.04],\n",
       "       [1.  , 0.  ],\n",
       "       [0.99, 0.01],\n",
       "       [0.99, 0.01],\n",
       "       [0.96, 0.04],\n",
       "       [1.  , 0.  ],\n",
       "       [1.  , 0.  ],\n",
       "       [1.  , 0.  ],\n",
       "       [0.98, 0.02],\n",
       "       [0.92, 0.08],\n",
       "       [1.  , 0.  ],\n",
       "       [1.  , 0.  ],\n",
       "       [0.97, 0.03],\n",
       "       [0.91, 0.09],\n",
       "       [0.98, 0.02],\n",
       "       [0.98, 0.02],\n",
       "       [1.  , 0.  ],\n",
       "       [0.97, 0.03],\n",
       "       [0.99, 0.01],\n",
       "       [0.98, 0.02],\n",
       "       [0.99, 0.01],\n",
       "       [1.  , 0.  ],\n",
       "       [1.  , 0.  ],\n",
       "       [1.  , 0.  ],\n",
       "       [1.  , 0.  ],\n",
       "       [1.  , 0.  ],\n",
       "       [0.98, 0.02],\n",
       "       [1.  , 0.  ],\n",
       "       [1.  , 0.  ],\n",
       "       [1.  , 0.  ],\n",
       "       [1.  , 0.  ],\n",
       "       [0.99, 0.01],\n",
       "       [0.95, 0.05],\n",
       "       [0.97, 0.03],\n",
       "       [0.99, 0.01],\n",
       "       [0.99, 0.01],\n",
       "       [0.96, 0.04],\n",
       "       [1.  , 0.  ],\n",
       "       [1.  , 0.  ],\n",
       "       [1.  , 0.  ],\n",
       "       [1.  , 0.  ],\n",
       "       [0.97, 0.03],\n",
       "       [1.  , 0.  ],\n",
       "       [0.96, 0.04],\n",
       "       [1.  , 0.  ],\n",
       "       [0.99, 0.01],\n",
       "       [1.  , 0.  ],\n",
       "       [1.  , 0.  ],\n",
       "       [0.98, 0.02],\n",
       "       [1.  , 0.  ],\n",
       "       [1.  , 0.  ],\n",
       "       [0.96, 0.04],\n",
       "       [1.  , 0.  ],\n",
       "       [1.  , 0.  ],\n",
       "       [1.  , 0.  ],\n",
       "       [1.  , 0.  ],\n",
       "       [1.  , 0.  ],\n",
       "       [1.  , 0.  ],\n",
       "       [1.  , 0.  ],\n",
       "       [1.  , 0.  ],\n",
       "       [0.97, 0.03],\n",
       "       [0.97, 0.03],\n",
       "       [0.98, 0.02],\n",
       "       [1.  , 0.  ],\n",
       "       [1.  , 0.  ],\n",
       "       [1.  , 0.  ],\n",
       "       [0.98, 0.02],\n",
       "       [1.  , 0.  ],\n",
       "       [1.  , 0.  ],\n",
       "       [1.  , 0.  ],\n",
       "       [0.89, 0.11],\n",
       "       [1.  , 0.  ],\n",
       "       [1.  , 0.  ],\n",
       "       [1.  , 0.  ],\n",
       "       [0.89, 0.11],\n",
       "       [1.  , 0.  ],\n",
       "       [1.  , 0.  ],\n",
       "       [0.02, 0.98],\n",
       "       [0.  , 1.  ],\n",
       "       [0.  , 1.  ],\n",
       "       [0.  , 1.  ],\n",
       "       [0.04, 0.96],\n",
       "       [0.  , 1.  ],\n",
       "       [0.  , 1.  ],\n",
       "       [0.  , 1.  ],\n",
       "       [0.  , 1.  ],\n",
       "       [0.  , 1.  ],\n",
       "       [0.  , 1.  ],\n",
       "       [0.  , 1.  ],\n",
       "       [0.  , 1.  ],\n",
       "       [0.  , 1.  ],\n",
       "       [0.  , 1.  ],\n",
       "       [0.  , 1.  ],\n",
       "       [0.05, 0.95],\n",
       "       [0.  , 1.  ],\n",
       "       [0.12, 0.88],\n",
       "       [0.  , 1.  ],\n",
       "       [0.  , 1.  ],\n",
       "       [0.02, 0.98],\n",
       "       [0.01, 0.99],\n",
       "       [0.13, 0.87],\n",
       "       [0.  , 1.  ],\n",
       "       [0.  , 1.  ],\n",
       "       [0.06, 0.94],\n",
       "       [0.  , 1.  ],\n",
       "       [0.  , 1.  ],\n",
       "       [0.01, 0.99],\n",
       "       [0.09, 0.91],\n",
       "       [0.  , 1.  ],\n",
       "       [0.01, 0.99],\n",
       "       [0.1 , 0.9 ],\n",
       "       [0.01, 0.99],\n",
       "       [0.03, 0.97],\n",
       "       [0.  , 1.  ],\n",
       "       [0.01, 0.99],\n",
       "       [0.  , 1.  ],\n",
       "       [0.  , 1.  ],\n",
       "       [0.01, 0.99],\n",
       "       [0.  , 1.  ],\n",
       "       [0.  , 1.  ],\n",
       "       [0.  , 1.  ],\n",
       "       [0.02, 0.98],\n",
       "       [0.1 , 0.9 ],\n",
       "       [0.  , 1.  ],\n",
       "       [0.  , 1.  ],\n",
       "       [0.  , 1.  ],\n",
       "       [0.  , 1.  ],\n",
       "       [0.  , 1.  ],\n",
       "       [0.  , 1.  ],\n",
       "       [0.  , 1.  ],\n",
       "       [0.  , 1.  ],\n",
       "       [0.04, 0.96],\n",
       "       [0.  , 1.  ],\n",
       "       [0.  , 1.  ],\n",
       "       [0.  , 1.  ],\n",
       "       [0.  , 1.  ],\n",
       "       [0.04, 0.96],\n",
       "       [0.01, 0.99],\n",
       "       [0.  , 1.  ],\n",
       "       [0.09, 0.91],\n",
       "       [0.  , 1.  ],\n",
       "       [0.01, 0.99],\n",
       "       [0.09, 0.91],\n",
       "       [0.  , 1.  ],\n",
       "       [0.  , 1.  ],\n",
       "       [0.  , 1.  ],\n",
       "       [0.25, 0.75],\n",
       "       [0.  , 1.  ],\n",
       "       [0.  , 1.  ],\n",
       "       [0.12, 0.88],\n",
       "       [0.  , 1.  ],\n",
       "       [0.14, 0.86],\n",
       "       [0.  , 1.  ],\n",
       "       [0.  , 1.  ],\n",
       "       [0.  , 1.  ],\n",
       "       [0.05, 0.95],\n",
       "       [0.  , 1.  ],\n",
       "       [0.12, 0.88],\n",
       "       [0.  , 1.  ],\n",
       "       [0.03, 0.97],\n",
       "       [0.  , 1.  ],\n",
       "       [0.09, 0.91],\n",
       "       [0.  , 1.  ],\n",
       "       [0.01, 0.99],\n",
       "       [0.  , 1.  ],\n",
       "       [0.  , 1.  ],\n",
       "       [0.  , 1.  ],\n",
       "       [0.  , 1.  ],\n",
       "       [0.01, 0.99],\n",
       "       [0.  , 1.  ],\n",
       "       [0.  , 1.  ],\n",
       "       [0.01, 0.99],\n",
       "       [0.01, 0.99],\n",
       "       [0.08, 0.92],\n",
       "       [0.  , 1.  ],\n",
       "       [0.  , 1.  ],\n",
       "       [0.  , 1.  ],\n",
       "       [0.06, 0.94],\n",
       "       [0.01, 0.99],\n",
       "       [0.  , 1.  ],\n",
       "       [0.  , 1.  ],\n",
       "       [0.  , 1.  ],\n",
       "       [0.01, 0.99],\n",
       "       [0.  , 1.  ],\n",
       "       [0.  , 1.  ],\n",
       "       [0.07, 0.93],\n",
       "       [0.  , 1.  ],\n",
       "       [0.  , 1.  ],\n",
       "       [0.02, 0.98],\n",
       "       [0.  , 1.  ],\n",
       "       [0.  , 1.  ],\n",
       "       [0.01, 0.99],\n",
       "       [0.08, 0.92],\n",
       "       [0.  , 1.  ],\n",
       "       [0.  , 1.  ],\n",
       "       [0.  , 1.  ],\n",
       "       [0.  , 1.  ],\n",
       "       [0.  , 1.  ],\n",
       "       [0.  , 1.  ],\n",
       "       [0.  , 1.  ],\n",
       "       [0.  , 1.  ],\n",
       "       [0.  , 1.  ],\n",
       "       [0.  , 1.  ],\n",
       "       [0.  , 1.  ],\n",
       "       [0.  , 1.  ],\n",
       "       [0.03, 0.97],\n",
       "       [0.  , 1.  ],\n",
       "       [0.  , 1.  ],\n",
       "       [0.  , 1.  ],\n",
       "       [0.01, 0.99],\n",
       "       [0.  , 1.  ],\n",
       "       [0.01, 0.99],\n",
       "       [0.  , 1.  ],\n",
       "       [0.  , 1.  ],\n",
       "       [0.  , 1.  ],\n",
       "       [0.  , 1.  ],\n",
       "       [0.  , 1.  ],\n",
       "       [0.  , 1.  ],\n",
       "       [0.  , 1.  ],\n",
       "       [0.  , 1.  ],\n",
       "       [0.02, 0.98],\n",
       "       [0.  , 1.  ],\n",
       "       [0.01, 0.99],\n",
       "       [0.  , 1.  ],\n",
       "       [0.  , 1.  ],\n",
       "       [0.  , 1.  ],\n",
       "       [0.  , 1.  ]])"
      ]
     },
     "execution_count": 71,
     "metadata": {},
     "output_type": "execute_result"
    }
   ],
   "source": [
    "rf_prob=clf.predict_proba(x)\n",
    "rf_prob"
   ]
  },
  {
   "cell_type": "code",
   "execution_count": 72,
   "id": "03abda4b",
   "metadata": {},
   "outputs": [],
   "source": [
    "import matplotlib.pyplot as plt"
   ]
  },
  {
   "cell_type": "code",
   "execution_count": 76,
   "id": "502999f7",
   "metadata": {
    "scrolled": true
   },
   "outputs": [
    {
     "data": {
      "text/plain": [
       "(0.4, 1.003)"
      ]
     },
     "execution_count": 76,
     "metadata": {},
     "output_type": "execute_result"
    },
    {
     "data": {
      "image/png": "[encoded data removed]",
      "text/plain": [
       "<Figure size 432x288 with 1 Axes>"
      ]
     },
     "metadata": {
      "needs_background": "light"
     },
     "output_type": "display_data"
    }
   ],
   "source": [
    "plt.bar(x=[\"Logistic Regression\",\"SVM\",\"NB\",\"DT\",\"RF\"],height=[LRA,SVMA,NBA,DTA,RFA])\n",
    "plt.title(\"best classification model\")\n",
    "plt.xlabel(\"model\")\n",
    "plt.ylabel(\"Accuracy score\")\n",
    "plt.ylim(0.4,1.003)"
   ]
  },
  {
   "cell_type": "markdown",
   "id": "488ce237",
   "metadata": {},
   "source": [
    "#### AUROC"
   ]
  },
  {
   "cell_type": "code",
   "execution_count": 81,
   "id": "66192916",
   "metadata": {},
   "outputs": [],
   "source": [
    "from sklearn.metrics import roc_curve, roc_auc_score"
   ]
  },
  {
   "cell_type": "code",
   "execution_count": null,
   "id": "41658cb6",
   "metadata": {},
   "outputs": [],
   "source": []
  }
 ],
 "metadata": {
  "kernelspec": {
   "display_name": "Python 3 (ipykernel)",
   "language": "python",
   "name": "python3"
  },
  "language_info": {
   "codemirror_mode": {
    "name": "ipython",
    "version": 3
   },
   "file_extension": ".py",
   "mimetype": "text/x-python",
   "name": "python",
   "nbconvert_exporter": "python",
   "pygments_lexer": "ipython3",
   "version": "3.9.7"
  }
 },
 "nbformat": 4,
 "nbformat_minor": 5
}

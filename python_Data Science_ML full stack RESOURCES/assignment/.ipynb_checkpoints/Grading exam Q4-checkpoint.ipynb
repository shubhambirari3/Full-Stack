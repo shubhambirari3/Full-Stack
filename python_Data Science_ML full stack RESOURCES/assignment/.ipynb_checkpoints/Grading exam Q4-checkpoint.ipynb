{
 "cells": [
  {
   "cell_type": "markdown",
   "id": "5c3ee1c4",
   "metadata": {},
   "source": [
    "#### Shubham Birari ML16"
   ]
  },
  {
   "cell_type": "code",
   "execution_count": 24,
   "id": "3fbfd5e1",
   "metadata": {},
   "outputs": [],
   "source": [
    "import pandas as pd\n",
    "import numpy as np"
   ]
  },
  {
   "cell_type": "markdown",
   "id": "63eaff8a",
   "metadata": {},
   "source": [
    "#### Predict the house price for boston data , Perform scaling , cleaning\n"
   ]
  },
  {
   "cell_type": "code",
   "execution_count": 25,
   "id": "4b063f14",
   "metadata": {},
   "outputs": [],
   "source": [
    "db  = pd.read_csv(r\"C:\\Users\\shubh\\symbiosis ml16\\datasets\\boston.csv\")"
   ]
  },
  {
   "cell_type": "code",
   "execution_count": 26,
   "id": "5381a519",
   "metadata": {},
   "outputs": [
    {
     "data": {
      "text/html": [
       "<div>\n",
       "<style scoped>\n",
       "    .dataframe tbody tr th:only-of-type {\n",
       "        vertical-align: middle;\n",
       "    }\n",
       "\n",
       "    .dataframe tbody tr th {\n",
       "        vertical-align: top;\n",
       "    }\n",
       "\n",
       "    .dataframe thead th {\n",
       "        text-align: right;\n",
       "    }\n",
       "</style>\n",
       "<table border=\"1\" class=\"dataframe\">\n",
       "  <thead>\n",
       "    <tr style=\"text-align: right;\">\n",
       "      <th></th>\n",
       "      <th>crime_rate</th>\n",
       "      <th>proportion_res_land</th>\n",
       "      <th>proportion_business</th>\n",
       "      <th>river\"</th>\n",
       "      <th>NO</th>\n",
       "      <th>avg_rooms</th>\n",
       "      <th>proportion_units</th>\n",
       "      <th>distance</th>\n",
       "      <th>accessibility</th>\n",
       "      <th>property_tax</th>\n",
       "      <th>pupil_teacher_ratio</th>\n",
       "      <th>proportion_blacks</th>\n",
       "      <th>lower_status</th>\n",
       "      <th>value</th>\n",
       "    </tr>\n",
       "  </thead>\n",
       "  <tbody>\n",
       "    <tr>\n",
       "      <th>0</th>\n",
       "      <td>0.00632</td>\n",
       "      <td>18.0</td>\n",
       "      <td>2.31</td>\n",
       "      <td>0</td>\n",
       "      <td>0.538</td>\n",
       "      <td>6.575</td>\n",
       "      <td>65.2</td>\n",
       "      <td>4.0900</td>\n",
       "      <td>1</td>\n",
       "      <td>296.0</td>\n",
       "      <td>15.3</td>\n",
       "      <td>396.90</td>\n",
       "      <td>4.98</td>\n",
       "      <td>24.0</td>\n",
       "    </tr>\n",
       "    <tr>\n",
       "      <th>1</th>\n",
       "      <td>0.02731</td>\n",
       "      <td>0.0</td>\n",
       "      <td>7.07</td>\n",
       "      <td>0</td>\n",
       "      <td>0.469</td>\n",
       "      <td>6.421</td>\n",
       "      <td>78.9</td>\n",
       "      <td>4.9671</td>\n",
       "      <td>2</td>\n",
       "      <td>242.0</td>\n",
       "      <td>17.8</td>\n",
       "      <td>396.90</td>\n",
       "      <td>9.14</td>\n",
       "      <td>21.6</td>\n",
       "    </tr>\n",
       "    <tr>\n",
       "      <th>2</th>\n",
       "      <td>0.02729</td>\n",
       "      <td>0.0</td>\n",
       "      <td>7.07</td>\n",
       "      <td>0</td>\n",
       "      <td>0.469</td>\n",
       "      <td>7.185</td>\n",
       "      <td>61.1</td>\n",
       "      <td>4.9671</td>\n",
       "      <td>2</td>\n",
       "      <td>242.0</td>\n",
       "      <td>17.8</td>\n",
       "      <td>392.83</td>\n",
       "      <td>4.03</td>\n",
       "      <td>34.7</td>\n",
       "    </tr>\n",
       "    <tr>\n",
       "      <th>3</th>\n",
       "      <td>0.03237</td>\n",
       "      <td>0.0</td>\n",
       "      <td>2.18</td>\n",
       "      <td>0</td>\n",
       "      <td>0.458</td>\n",
       "      <td>6.998</td>\n",
       "      <td>45.8</td>\n",
       "      <td>6.0622</td>\n",
       "      <td>3</td>\n",
       "      <td>222.0</td>\n",
       "      <td>18.7</td>\n",
       "      <td>394.63</td>\n",
       "      <td>2.94</td>\n",
       "      <td>33.4</td>\n",
       "    </tr>\n",
       "    <tr>\n",
       "      <th>4</th>\n",
       "      <td>0.06905</td>\n",
       "      <td>0.0</td>\n",
       "      <td>2.18</td>\n",
       "      <td>0</td>\n",
       "      <td>0.458</td>\n",
       "      <td>7.147</td>\n",
       "      <td>54.2</td>\n",
       "      <td>6.0622</td>\n",
       "      <td>3</td>\n",
       "      <td>222.0</td>\n",
       "      <td>18.7</td>\n",
       "      <td>396.90</td>\n",
       "      <td>5.33</td>\n",
       "      <td>36.2</td>\n",
       "    </tr>\n",
       "  </tbody>\n",
       "</table>\n",
       "</div>"
      ],
      "text/plain": [
       "   crime_rate  proportion_res_land  proportion_business  river\"     NO  \\\n",
       "0     0.00632                 18.0                 2.31       0  0.538   \n",
       "1     0.02731                  0.0                 7.07       0  0.469   \n",
       "2     0.02729                  0.0                 7.07       0  0.469   \n",
       "3     0.03237                  0.0                 2.18       0  0.458   \n",
       "4     0.06905                  0.0                 2.18       0  0.458   \n",
       "\n",
       "   avg_rooms  proportion_units  distance  accessibility  property_tax  \\\n",
       "0      6.575              65.2    4.0900              1         296.0   \n",
       "1      6.421              78.9    4.9671              2         242.0   \n",
       "2      7.185              61.1    4.9671              2         242.0   \n",
       "3      6.998              45.8    6.0622              3         222.0   \n",
       "4      7.147              54.2    6.0622              3         222.0   \n",
       "\n",
       "   pupil_teacher_ratio  proportion_blacks  lower_status  value  \n",
       "0                 15.3             396.90          4.98   24.0  \n",
       "1                 17.8             396.90          9.14   21.6  \n",
       "2                 17.8             392.83          4.03   34.7  \n",
       "3                 18.7             394.63          2.94   33.4  \n",
       "4                 18.7             396.90          5.33   36.2  "
      ]
     },
     "execution_count": 26,
     "metadata": {},
     "output_type": "execute_result"
    }
   ],
   "source": [
    "db.head()"
   ]
  },
  {
   "cell_type": "code",
   "execution_count": 27,
   "id": "2595fbab",
   "metadata": {},
   "outputs": [
    {
     "data": {
      "text/plain": [
       "crime_rate             0\n",
       "proportion_res_land    0\n",
       "proportion_business    0\n",
       "river\"                 0\n",
       "NO                     0\n",
       "avg_rooms              0\n",
       "proportion_units       0\n",
       "distance               0\n",
       "accessibility          0\n",
       "property_tax           0\n",
       "pupil_teacher_ratio    0\n",
       "proportion_blacks      0\n",
       "lower_status           0\n",
       "value                  0\n",
       "dtype: int64"
      ]
     },
     "execution_count": 27,
     "metadata": {},
     "output_type": "execute_result"
    }
   ],
   "source": [
    "db.isnull().sum()"
   ]
  },
  {
   "cell_type": "code",
   "execution_count": 28,
   "id": "39a63bb8",
   "metadata": {},
   "outputs": [
    {
     "data": {
      "text/plain": [
       "crime_rate             float64\n",
       "proportion_res_land    float64\n",
       "proportion_business    float64\n",
       "river\"                   int64\n",
       "NO                     float64\n",
       "avg_rooms              float64\n",
       "proportion_units       float64\n",
       "distance               float64\n",
       "accessibility            int64\n",
       "property_tax           float64\n",
       "pupil_teacher_ratio    float64\n",
       "proportion_blacks      float64\n",
       "lower_status           float64\n",
       "value                  float64\n",
       "dtype: object"
      ]
     },
     "execution_count": 28,
     "metadata": {},
     "output_type": "execute_result"
    }
   ],
   "source": [
    "db.dtypes"
   ]
  },
  {
   "cell_type": "code",
   "execution_count": 29,
   "id": "9b26d423",
   "metadata": {},
   "outputs": [],
   "source": [
    "from sklearn.preprocessing import StandardScaler\n",
    "std=StandardScaler()"
   ]
  },
  {
   "cell_type": "code",
   "execution_count": 30,
   "id": "bb0f54fc",
   "metadata": {},
   "outputs": [],
   "source": [
    "x=db.drop(\"value\",axis=1)\n",
    "y=db[\"value\"]"
   ]
  },
  {
   "cell_type": "code",
   "execution_count": 31,
   "id": "da4d51a5",
   "metadata": {},
   "outputs": [
    {
     "data": {
      "text/plain": [
       "array([[-0.41978194,  0.28482986, -1.2879095 , ..., -1.45900038,\n",
       "         0.44105193, -1.0755623 ],\n",
       "       [-0.41733926, -0.48772236, -0.59338101, ..., -0.30309415,\n",
       "         0.44105193, -0.49243937],\n",
       "       [-0.41734159, -0.48772236, -0.59338101, ..., -0.30309415,\n",
       "         0.39642699, -1.2087274 ],\n",
       "       ...,\n",
       "       [-0.41344658, -0.48772236,  0.11573841, ...,  1.17646583,\n",
       "         0.44105193, -0.98304761],\n",
       "       [-0.40776407, -0.48772236,  0.11573841, ...,  1.17646583,\n",
       "         0.4032249 , -0.86530163],\n",
       "       [-0.41500016, -0.48772236,  0.11573841, ...,  1.17646583,\n",
       "         0.44105193, -0.66905833]])"
      ]
     },
     "execution_count": 31,
     "metadata": {},
     "output_type": "execute_result"
    }
   ],
   "source": [
    "X_val=std.fit_transform(x)\n",
    "X_val"
   ]
  },
  {
   "cell_type": "code",
   "execution_count": 32,
   "id": "9a24299d",
   "metadata": {},
   "outputs": [],
   "source": [
    "from sklearn.model_selection import train_test_split\n",
    "X_train , X_test , y_train , y_test  = train_test_split(x,y , test_size=0.2 , random_state=42)"
   ]
  },
  {
   "cell_type": "code",
   "execution_count": 33,
   "id": "0fb1d4cf",
   "metadata": {},
   "outputs": [
    {
     "name": "stdout",
     "output_type": "stream",
     "text": [
      "(404, 13)\n",
      "(102, 13)\n",
      "(404,)\n",
      "(102,)\n"
     ]
    }
   ],
   "source": [
    "print(X_train.shape)\n",
    "print(X_test.shape)\n",
    "print(y_train.shape)\n",
    "print(y_test.shape)"
   ]
  },
  {
   "cell_type": "code",
   "execution_count": 39,
   "id": "755eb19f",
   "metadata": {},
   "outputs": [
    {
     "data": {
      "text/plain": [
       "LinearRegression()"
      ]
     },
     "execution_count": 39,
     "metadata": {},
     "output_type": "execute_result"
    }
   ],
   "source": [
    "from sklearn.linear_model import LinearRegression\n",
    "linreg = LinearRegression()\n",
    "linreg.fit(X_train , y_train)"
   ]
  },
  {
   "cell_type": "code",
   "execution_count": 41,
   "id": "0102eff0",
   "metadata": {},
   "outputs": [
    {
     "data": {
      "text/plain": [
       "array([28.99672362, 36.02556534, 14.81694405, 25.03197915, 18.76987992,\n",
       "       23.25442929, 17.66253818, 14.34119   , 23.01320703, 20.63245597,\n",
       "       24.90850512, 18.63883645, -6.08842184, 21.75834668, 19.23922576,\n",
       "       26.19319733, 20.64773313,  5.79472718, 40.50033966, 17.61289074,\n",
       "       27.24909479, 30.06625441, 11.34179277, 24.16077616, 17.86058499,\n",
       "       15.83609765, 22.78148106, 14.57704449, 22.43626052, 19.19631835,\n",
       "       22.43383455, 25.21979081, 25.93909562, 17.70162434, 16.76911711,\n",
       "       16.95125411, 31.23340153, 20.13246729, 23.76579011, 24.6322925 ,\n",
       "       13.94204955, 32.25576301, 42.67251161, 17.32745046, 27.27618614,\n",
       "       16.99310991, 14.07009109, 25.90341861, 20.29485982, 29.95339638,\n",
       "       21.28860173, 34.34451856, 16.04739105, 26.22562412, 39.53939798,\n",
       "       22.57950697, 18.84531367, 32.72531661, 25.0673037 , 12.88628956,\n",
       "       22.68221908, 30.48287757, 31.52626806, 15.90148607, 20.22094826,\n",
       "       16.71089812, 20.52384893, 25.96356264, 30.61607978, 11.59783023,\n",
       "       20.51232627, 27.48111878, 11.01962332, 15.68096344, 23.79316251,\n",
       "        6.19929359, 21.6039073 , 41.41377225, 18.76548695,  8.87931901,\n",
       "       20.83076916, 13.25620627, 20.73963699,  9.36482222, 23.22444271,\n",
       "       31.9155003 , 19.10228271, 25.51579303, 29.04256769, 20.14358566,\n",
       "       25.5859787 ,  5.70159447, 20.09474756, 14.95069156, 12.50395648,\n",
       "       20.72635294, 24.73957161, -0.164237  , 13.68486682, 16.18359697,\n",
       "       22.27621999, 24.47902364])"
      ]
     },
     "execution_count": 41,
     "metadata": {},
     "output_type": "execute_result"
    }
   ],
   "source": [
    "y_pred = linreg.predict(X_test)\n",
    "y_pred"
   ]
  },
  {
   "cell_type": "markdown",
   "id": "d258fd0f",
   "metadata": {},
   "source": [
    "##### calculate MAE, r2, adj r2"
   ]
  },
  {
   "cell_type": "code",
   "execution_count": 43,
   "id": "a0ebf522",
   "metadata": {},
   "outputs": [],
   "source": [
    "from sklearn.metrics import mean_absolute_error\n",
    "from sklearn.metrics import mean_squared_error\n",
    "from sklearn.metrics import r2_score"
   ]
  },
  {
   "cell_type": "code",
   "execution_count": 45,
   "id": "3e84c35c",
   "metadata": {},
   "outputs": [
    {
     "data": {
      "text/plain": [
       "24.291119474973428"
      ]
     },
     "execution_count": 45,
     "metadata": {},
     "output_type": "execute_result"
    }
   ],
   "source": [
    "MSE = mean_squared_error(y_test, y_pred)\n",
    "MSE"
   ]
  },
  {
   "cell_type": "code",
   "execution_count": 46,
   "id": "b78e9e85",
   "metadata": {},
   "outputs": [
    {
     "data": {
      "text/plain": [
       "3.1890919658878354"
      ]
     },
     "execution_count": 46,
     "metadata": {},
     "output_type": "execute_result"
    }
   ],
   "source": [
    "MAE =mean_absolute_error(y_test,y_pred)\n",
    "MAE"
   ]
  },
  {
   "cell_type": "code",
   "execution_count": 47,
   "id": "149ecc16",
   "metadata": {},
   "outputs": [
    {
     "data": {
      "text/plain": [
       "0.6687594935356332"
      ]
     },
     "execution_count": 47,
     "metadata": {},
     "output_type": "execute_result"
    }
   ],
   "source": [
    "R2 = r2_score(y_test, y_pred)\n",
    "R2\n"
   ]
  },
  {
   "cell_type": "markdown",
   "id": "c4fe6e6c",
   "metadata": {},
   "source": [
    "##### Adjusted R2 = 1 – [(1-R2)*(n-1)/(n-k-1)]\n",
    "R2: The R2 of the model\n",
    "\n",
    "n : The number of observations\n",
    "\n",
    "k : The number of predictor variable"
   ]
  },
  {
   "cell_type": "code",
   "execution_count": 49,
   "id": "cb9dd7fc",
   "metadata": {},
   "outputs": [
    {
     "data": {
      "text/plain": [
       "0.6878279923329833"
      ]
     },
     "execution_count": 49,
     "metadata": {},
     "output_type": "execute_result"
    }
   ],
   "source": [
    "1 - (1-R2*(len(y)-1)/(len(y)-len(db.columns)-1))"
   ]
  },
  {
   "cell_type": "code",
   "execution_count": 50,
   "id": "1e0a602c",
   "metadata": {},
   "outputs": [],
   "source": [
    "import os\n",
    "import statsmodels\n",
    "import statsmodels.api as sm"
   ]
  },
  {
   "cell_type": "code",
   "execution_count": 52,
   "id": "f173812d",
   "metadata": {},
   "outputs": [
    {
     "data": {
      "text/html": [
       "<div>\n",
       "<style scoped>\n",
       "    .dataframe tbody tr th:only-of-type {\n",
       "        vertical-align: middle;\n",
       "    }\n",
       "\n",
       "    .dataframe tbody tr th {\n",
       "        vertical-align: top;\n",
       "    }\n",
       "\n",
       "    .dataframe thead th {\n",
       "        text-align: right;\n",
       "    }\n",
       "</style>\n",
       "<table border=\"1\" class=\"dataframe\">\n",
       "  <thead>\n",
       "    <tr style=\"text-align: right;\">\n",
       "      <th></th>\n",
       "      <th>crime_rate</th>\n",
       "      <th>proportion_res_land</th>\n",
       "      <th>proportion_business</th>\n",
       "      <th>river\"</th>\n",
       "      <th>NO</th>\n",
       "      <th>avg_rooms</th>\n",
       "      <th>proportion_units</th>\n",
       "      <th>distance</th>\n",
       "      <th>accessibility</th>\n",
       "      <th>property_tax</th>\n",
       "      <th>pupil_teacher_ratio</th>\n",
       "      <th>proportion_blacks</th>\n",
       "      <th>lower_status</th>\n",
       "      <th>value</th>\n",
       "    </tr>\n",
       "  </thead>\n",
       "  <tbody>\n",
       "    <tr>\n",
       "      <th>0</th>\n",
       "      <td>0.00632</td>\n",
       "      <td>18.0</td>\n",
       "      <td>2.31</td>\n",
       "      <td>0</td>\n",
       "      <td>0.538</td>\n",
       "      <td>6.575</td>\n",
       "      <td>65.2</td>\n",
       "      <td>4.0900</td>\n",
       "      <td>1</td>\n",
       "      <td>296.0</td>\n",
       "      <td>15.3</td>\n",
       "      <td>396.90</td>\n",
       "      <td>4.98</td>\n",
       "      <td>24.0</td>\n",
       "    </tr>\n",
       "    <tr>\n",
       "      <th>1</th>\n",
       "      <td>0.02731</td>\n",
       "      <td>0.0</td>\n",
       "      <td>7.07</td>\n",
       "      <td>0</td>\n",
       "      <td>0.469</td>\n",
       "      <td>6.421</td>\n",
       "      <td>78.9</td>\n",
       "      <td>4.9671</td>\n",
       "      <td>2</td>\n",
       "      <td>242.0</td>\n",
       "      <td>17.8</td>\n",
       "      <td>396.90</td>\n",
       "      <td>9.14</td>\n",
       "      <td>21.6</td>\n",
       "    </tr>\n",
       "    <tr>\n",
       "      <th>2</th>\n",
       "      <td>0.02729</td>\n",
       "      <td>0.0</td>\n",
       "      <td>7.07</td>\n",
       "      <td>0</td>\n",
       "      <td>0.469</td>\n",
       "      <td>7.185</td>\n",
       "      <td>61.1</td>\n",
       "      <td>4.9671</td>\n",
       "      <td>2</td>\n",
       "      <td>242.0</td>\n",
       "      <td>17.8</td>\n",
       "      <td>392.83</td>\n",
       "      <td>4.03</td>\n",
       "      <td>34.7</td>\n",
       "    </tr>\n",
       "    <tr>\n",
       "      <th>3</th>\n",
       "      <td>0.03237</td>\n",
       "      <td>0.0</td>\n",
       "      <td>2.18</td>\n",
       "      <td>0</td>\n",
       "      <td>0.458</td>\n",
       "      <td>6.998</td>\n",
       "      <td>45.8</td>\n",
       "      <td>6.0622</td>\n",
       "      <td>3</td>\n",
       "      <td>222.0</td>\n",
       "      <td>18.7</td>\n",
       "      <td>394.63</td>\n",
       "      <td>2.94</td>\n",
       "      <td>33.4</td>\n",
       "    </tr>\n",
       "    <tr>\n",
       "      <th>4</th>\n",
       "      <td>0.06905</td>\n",
       "      <td>0.0</td>\n",
       "      <td>2.18</td>\n",
       "      <td>0</td>\n",
       "      <td>0.458</td>\n",
       "      <td>7.147</td>\n",
       "      <td>54.2</td>\n",
       "      <td>6.0622</td>\n",
       "      <td>3</td>\n",
       "      <td>222.0</td>\n",
       "      <td>18.7</td>\n",
       "      <td>396.90</td>\n",
       "      <td>5.33</td>\n",
       "      <td>36.2</td>\n",
       "    </tr>\n",
       "  </tbody>\n",
       "</table>\n",
       "</div>"
      ],
      "text/plain": [
       "   crime_rate  proportion_res_land  proportion_business  river\"     NO  \\\n",
       "0     0.00632                 18.0                 2.31       0  0.538   \n",
       "1     0.02731                  0.0                 7.07       0  0.469   \n",
       "2     0.02729                  0.0                 7.07       0  0.469   \n",
       "3     0.03237                  0.0                 2.18       0  0.458   \n",
       "4     0.06905                  0.0                 2.18       0  0.458   \n",
       "\n",
       "   avg_rooms  proportion_units  distance  accessibility  property_tax  \\\n",
       "0      6.575              65.2    4.0900              1         296.0   \n",
       "1      6.421              78.9    4.9671              2         242.0   \n",
       "2      7.185              61.1    4.9671              2         242.0   \n",
       "3      6.998              45.8    6.0622              3         222.0   \n",
       "4      7.147              54.2    6.0622              3         222.0   \n",
       "\n",
       "   pupil_teacher_ratio  proportion_blacks  lower_status  value  \n",
       "0                 15.3             396.90          4.98   24.0  \n",
       "1                 17.8             396.90          9.14   21.6  \n",
       "2                 17.8             392.83          4.03   34.7  \n",
       "3                 18.7             394.63          2.94   33.4  \n",
       "4                 18.7             396.90          5.33   36.2  "
      ]
     },
     "execution_count": 52,
     "metadata": {},
     "output_type": "execute_result"
    }
   ],
   "source": [
    "db.head()"
   ]
  },
  {
   "cell_type": "code",
   "execution_count": 53,
   "id": "1a35d932",
   "metadata": {},
   "outputs": [
    {
     "data": {
      "text/plain": [
       "Index(['crime_rate', 'proportion_res_land', 'proportion_business', 'river\"',\n",
       "       'NO', 'avg_rooms', 'proportion_units', 'distance', 'accessibility',\n",
       "       'property_tax', 'pupil_teacher_ratio', 'proportion_blacks',\n",
       "       'lower_status', 'value'],\n",
       "      dtype='object')"
      ]
     },
     "execution_count": 53,
     "metadata": {},
     "output_type": "execute_result"
    }
   ],
   "source": [
    "db.columns"
   ]
  },
  {
   "cell_type": "markdown",
   "id": "de7ecdf0",
   "metadata": {},
   "source": [
    "##### check multicollinearity and heteroscadasticity. "
   ]
  },
  {
   "cell_type": "code",
   "execution_count": 54,
   "id": "391f1e0f",
   "metadata": {},
   "outputs": [
    {
     "name": "stderr",
     "output_type": "stream",
     "text": [
      "C:\\Users\\shubh\\anaconda3\\lib\\site-packages\\statsmodels\\tsa\\tsatools.py:142: FutureWarning: In a future version of pandas all arguments of concat except for the argument 'objs' will be keyword-only\n",
      "  x = pd.concat(x[::order], 1)\n"
     ]
    },
    {
     "data": {
      "text/html": [
       "<div>\n",
       "<style scoped>\n",
       "    .dataframe tbody tr th:only-of-type {\n",
       "        vertical-align: middle;\n",
       "    }\n",
       "\n",
       "    .dataframe tbody tr th {\n",
       "        vertical-align: top;\n",
       "    }\n",
       "\n",
       "    .dataframe thead th {\n",
       "        text-align: right;\n",
       "    }\n",
       "</style>\n",
       "<table border=\"1\" class=\"dataframe\">\n",
       "  <thead>\n",
       "    <tr style=\"text-align: right;\">\n",
       "      <th></th>\n",
       "      <th>const</th>\n",
       "      <th>crime_rate</th>\n",
       "      <th>proportion_res_land</th>\n",
       "      <th>proportion_business</th>\n",
       "      <th>river\"</th>\n",
       "      <th>NO</th>\n",
       "      <th>avg_rooms</th>\n",
       "      <th>proportion_units</th>\n",
       "      <th>distance</th>\n",
       "      <th>accessibility</th>\n",
       "      <th>property_tax</th>\n",
       "      <th>pupil_teacher_ratio</th>\n",
       "      <th>proportion_blacks</th>\n",
       "      <th>lower_status</th>\n",
       "    </tr>\n",
       "  </thead>\n",
       "  <tbody>\n",
       "    <tr>\n",
       "      <th>0</th>\n",
       "      <td>1.0</td>\n",
       "      <td>0.00632</td>\n",
       "      <td>18.0</td>\n",
       "      <td>2.31</td>\n",
       "      <td>0</td>\n",
       "      <td>0.538</td>\n",
       "      <td>6.575</td>\n",
       "      <td>65.2</td>\n",
       "      <td>4.0900</td>\n",
       "      <td>1</td>\n",
       "      <td>296.0</td>\n",
       "      <td>15.3</td>\n",
       "      <td>396.90</td>\n",
       "      <td>4.98</td>\n",
       "    </tr>\n",
       "    <tr>\n",
       "      <th>1</th>\n",
       "      <td>1.0</td>\n",
       "      <td>0.02731</td>\n",
       "      <td>0.0</td>\n",
       "      <td>7.07</td>\n",
       "      <td>0</td>\n",
       "      <td>0.469</td>\n",
       "      <td>6.421</td>\n",
       "      <td>78.9</td>\n",
       "      <td>4.9671</td>\n",
       "      <td>2</td>\n",
       "      <td>242.0</td>\n",
       "      <td>17.8</td>\n",
       "      <td>396.90</td>\n",
       "      <td>9.14</td>\n",
       "    </tr>\n",
       "    <tr>\n",
       "      <th>2</th>\n",
       "      <td>1.0</td>\n",
       "      <td>0.02729</td>\n",
       "      <td>0.0</td>\n",
       "      <td>7.07</td>\n",
       "      <td>0</td>\n",
       "      <td>0.469</td>\n",
       "      <td>7.185</td>\n",
       "      <td>61.1</td>\n",
       "      <td>4.9671</td>\n",
       "      <td>2</td>\n",
       "      <td>242.0</td>\n",
       "      <td>17.8</td>\n",
       "      <td>392.83</td>\n",
       "      <td>4.03</td>\n",
       "    </tr>\n",
       "    <tr>\n",
       "      <th>3</th>\n",
       "      <td>1.0</td>\n",
       "      <td>0.03237</td>\n",
       "      <td>0.0</td>\n",
       "      <td>2.18</td>\n",
       "      <td>0</td>\n",
       "      <td>0.458</td>\n",
       "      <td>6.998</td>\n",
       "      <td>45.8</td>\n",
       "      <td>6.0622</td>\n",
       "      <td>3</td>\n",
       "      <td>222.0</td>\n",
       "      <td>18.7</td>\n",
       "      <td>394.63</td>\n",
       "      <td>2.94</td>\n",
       "    </tr>\n",
       "    <tr>\n",
       "      <th>4</th>\n",
       "      <td>1.0</td>\n",
       "      <td>0.06905</td>\n",
       "      <td>0.0</td>\n",
       "      <td>2.18</td>\n",
       "      <td>0</td>\n",
       "      <td>0.458</td>\n",
       "      <td>7.147</td>\n",
       "      <td>54.2</td>\n",
       "      <td>6.0622</td>\n",
       "      <td>3</td>\n",
       "      <td>222.0</td>\n",
       "      <td>18.7</td>\n",
       "      <td>396.90</td>\n",
       "      <td>5.33</td>\n",
       "    </tr>\n",
       "    <tr>\n",
       "      <th>...</th>\n",
       "      <td>...</td>\n",
       "      <td>...</td>\n",
       "      <td>...</td>\n",
       "      <td>...</td>\n",
       "      <td>...</td>\n",
       "      <td>...</td>\n",
       "      <td>...</td>\n",
       "      <td>...</td>\n",
       "      <td>...</td>\n",
       "      <td>...</td>\n",
       "      <td>...</td>\n",
       "      <td>...</td>\n",
       "      <td>...</td>\n",
       "      <td>...</td>\n",
       "    </tr>\n",
       "    <tr>\n",
       "      <th>501</th>\n",
       "      <td>1.0</td>\n",
       "      <td>0.06263</td>\n",
       "      <td>0.0</td>\n",
       "      <td>11.93</td>\n",
       "      <td>0</td>\n",
       "      <td>0.573</td>\n",
       "      <td>6.593</td>\n",
       "      <td>69.1</td>\n",
       "      <td>2.4786</td>\n",
       "      <td>1</td>\n",
       "      <td>273.0</td>\n",
       "      <td>21.0</td>\n",
       "      <td>391.99</td>\n",
       "      <td>9.67</td>\n",
       "    </tr>\n",
       "    <tr>\n",
       "      <th>502</th>\n",
       "      <td>1.0</td>\n",
       "      <td>0.04527</td>\n",
       "      <td>0.0</td>\n",
       "      <td>11.93</td>\n",
       "      <td>0</td>\n",
       "      <td>0.573</td>\n",
       "      <td>6.120</td>\n",
       "      <td>76.7</td>\n",
       "      <td>2.2875</td>\n",
       "      <td>1</td>\n",
       "      <td>273.0</td>\n",
       "      <td>21.0</td>\n",
       "      <td>396.90</td>\n",
       "      <td>9.08</td>\n",
       "    </tr>\n",
       "    <tr>\n",
       "      <th>503</th>\n",
       "      <td>1.0</td>\n",
       "      <td>0.06076</td>\n",
       "      <td>0.0</td>\n",
       "      <td>11.93</td>\n",
       "      <td>0</td>\n",
       "      <td>0.573</td>\n",
       "      <td>6.976</td>\n",
       "      <td>91.0</td>\n",
       "      <td>2.1675</td>\n",
       "      <td>1</td>\n",
       "      <td>273.0</td>\n",
       "      <td>21.0</td>\n",
       "      <td>396.90</td>\n",
       "      <td>5.64</td>\n",
       "    </tr>\n",
       "    <tr>\n",
       "      <th>504</th>\n",
       "      <td>1.0</td>\n",
       "      <td>0.10959</td>\n",
       "      <td>0.0</td>\n",
       "      <td>11.93</td>\n",
       "      <td>0</td>\n",
       "      <td>0.573</td>\n",
       "      <td>6.794</td>\n",
       "      <td>89.3</td>\n",
       "      <td>2.3889</td>\n",
       "      <td>1</td>\n",
       "      <td>273.0</td>\n",
       "      <td>21.0</td>\n",
       "      <td>393.45</td>\n",
       "      <td>6.48</td>\n",
       "    </tr>\n",
       "    <tr>\n",
       "      <th>505</th>\n",
       "      <td>1.0</td>\n",
       "      <td>0.04741</td>\n",
       "      <td>0.0</td>\n",
       "      <td>11.93</td>\n",
       "      <td>0</td>\n",
       "      <td>0.573</td>\n",
       "      <td>6.030</td>\n",
       "      <td>80.8</td>\n",
       "      <td>2.5050</td>\n",
       "      <td>1</td>\n",
       "      <td>273.0</td>\n",
       "      <td>21.0</td>\n",
       "      <td>396.90</td>\n",
       "      <td>7.88</td>\n",
       "    </tr>\n",
       "  </tbody>\n",
       "</table>\n",
       "<p>506 rows × 14 columns</p>\n",
       "</div>"
      ],
      "text/plain": [
       "     const  crime_rate  proportion_res_land  proportion_business  river\"  \\\n",
       "0      1.0     0.00632                 18.0                 2.31       0   \n",
       "1      1.0     0.02731                  0.0                 7.07       0   \n",
       "2      1.0     0.02729                  0.0                 7.07       0   \n",
       "3      1.0     0.03237                  0.0                 2.18       0   \n",
       "4      1.0     0.06905                  0.0                 2.18       0   \n",
       "..     ...         ...                  ...                  ...     ...   \n",
       "501    1.0     0.06263                  0.0                11.93       0   \n",
       "502    1.0     0.04527                  0.0                11.93       0   \n",
       "503    1.0     0.06076                  0.0                11.93       0   \n",
       "504    1.0     0.10959                  0.0                11.93       0   \n",
       "505    1.0     0.04741                  0.0                11.93       0   \n",
       "\n",
       "        NO  avg_rooms  proportion_units  distance  accessibility  \\\n",
       "0    0.538      6.575              65.2    4.0900              1   \n",
       "1    0.469      6.421              78.9    4.9671              2   \n",
       "2    0.469      7.185              61.1    4.9671              2   \n",
       "3    0.458      6.998              45.8    6.0622              3   \n",
       "4    0.458      7.147              54.2    6.0622              3   \n",
       "..     ...        ...               ...       ...            ...   \n",
       "501  0.573      6.593              69.1    2.4786              1   \n",
       "502  0.573      6.120              76.7    2.2875              1   \n",
       "503  0.573      6.976              91.0    2.1675              1   \n",
       "504  0.573      6.794              89.3    2.3889              1   \n",
       "505  0.573      6.030              80.8    2.5050              1   \n",
       "\n",
       "     property_tax  pupil_teacher_ratio  proportion_blacks  lower_status  \n",
       "0           296.0                 15.3             396.90          4.98  \n",
       "1           242.0                 17.8             396.90          9.14  \n",
       "2           242.0                 17.8             392.83          4.03  \n",
       "3           222.0                 18.7             394.63          2.94  \n",
       "4           222.0                 18.7             396.90          5.33  \n",
       "..            ...                  ...                ...           ...  \n",
       "501         273.0                 21.0             391.99          9.67  \n",
       "502         273.0                 21.0             396.90          9.08  \n",
       "503         273.0                 21.0             396.90          5.64  \n",
       "504         273.0                 21.0             393.45          6.48  \n",
       "505         273.0                 21.0             396.90          7.88  \n",
       "\n",
       "[506 rows x 14 columns]"
      ]
     },
     "execution_count": 54,
     "metadata": {},
     "output_type": "execute_result"
    }
   ],
   "source": [
    "x = sm.add_constant(x, prepend=True)\n",
    "x"
   ]
  },
  {
   "cell_type": "code",
   "execution_count": 55,
   "id": "33e90060",
   "metadata": {},
   "outputs": [],
   "source": [
    "X_train , X_test , y_train , y_test = train_test_split(x , y , random_state=42)"
   ]
  },
  {
   "cell_type": "code",
   "execution_count": 59,
   "id": "6427d89c",
   "metadata": {},
   "outputs": [],
   "source": [
    "import statsmodels.api as sm\n",
    "result = sm.OLS(y_train , X_train).fit()"
   ]
  },
  {
   "cell_type": "code",
   "execution_count": 60,
   "id": "e2df6e64",
   "metadata": {},
   "outputs": [
    {
     "name": "stdout",
     "output_type": "stream",
     "text": [
      "                            OLS Regression Results                            \n",
      "==============================================================================\n",
      "Dep. Variable:                  value   R-squared:                       0.748\n",
      "Model:                            OLS   Adj. R-squared:                  0.739\n",
      "Method:                 Least Squares   F-statistic:                     83.38\n",
      "Date:                Tue, 11 Apr 2023   Prob (F-statistic):          1.15e-100\n",
      "Time:                        13:37:57   Log-Likelihood:                -1126.4\n",
      "No. Observations:                 379   AIC:                             2281.\n",
      "Df Residuals:                     365   BIC:                             2336.\n",
      "Df Model:                          13                                         \n",
      "Covariance Type:            nonrobust                                         \n",
      "=======================================================================================\n",
      "                          coef    std err          t      P>|t|      [0.025      0.975]\n",
      "---------------------------------------------------------------------------------------\n",
      "const                  29.8364      5.861      5.090      0.000      18.310      41.363\n",
      "crime_rate             -0.1283      0.039     -3.262      0.001      -0.206      -0.051\n",
      "proportion_res_land     0.0296      0.017      1.772      0.077      -0.003       0.062\n",
      "proportion_business     0.0489      0.069      0.706      0.481      -0.087       0.185\n",
      "river\"                  2.7735      0.974      2.848      0.005       0.859       4.688\n",
      "NO                    -16.2388      4.432     -3.664      0.000     -24.955      -7.523\n",
      "avg_rooms               4.3688      0.481      9.091      0.000       3.424       5.314\n",
      "proportion_units       -0.0092      0.015     -0.599      0.550      -0.040       0.021\n",
      "distance               -1.4009      0.237     -5.915      0.000      -1.867      -0.935\n",
      "accessibility           0.2578      0.079      3.279      0.001       0.103       0.412\n",
      "property_tax           -0.0100      0.004     -2.277      0.023      -0.019      -0.001\n",
      "pupil_teacher_ratio    -0.9231      0.150     -6.164      0.000      -1.218      -0.629\n",
      "proportion_blacks       0.0132      0.003      4.143      0.000       0.007       0.019\n",
      "lower_status           -0.5176      0.058     -8.995      0.000      -0.631      -0.404\n",
      "==============================================================================\n",
      "Omnibus:                      125.754   Durbin-Watson:                   2.093\n",
      "Prob(Omnibus):                  0.000   Jarque-Bera (JB):              529.968\n",
      "Skew:                           1.392   Prob(JB):                    8.30e-116\n",
      "Kurtosis:                       8.081   Cond. No.                     1.48e+04\n",
      "==============================================================================\n",
      "\n",
      "Notes:\n",
      "[1] Standard Errors assume that the covariance matrix of the errors is correctly specified.\n",
      "[2] The condition number is large, 1.48e+04. This might indicate that there are\n",
      "strong multicollinearity or other numerical problems.\n"
     ]
    }
   ],
   "source": [
    "print(result.summary())"
   ]
  },
  {
   "cell_type": "markdown",
   "id": "7105b156",
   "metadata": {},
   "source": [
    "###### H0: homoscedasticity is present. \n",
    "\n",
    "H1: heteroscedasticity is present."
   ]
  },
  {
   "cell_type": "code",
   "execution_count": 64,
   "id": "dfc0df16",
   "metadata": {},
   "outputs": [
    {
     "data": {
      "text/plain": [
       "(55.125336883365186,\n",
       " 3.8413322565940915e-07,\n",
       " 4.7788543517722895,\n",
       " 1.0904836826930735e-07)"
      ]
     },
     "execution_count": 64,
     "metadata": {},
     "output_type": "execute_result"
    }
   ],
   "source": [
    "name = ['Lagrange multiplier statistic', 'p-value', \n",
    "        'f-value', 'f p-value']\n",
    "\n",
    "bp = statsmodels.stats.diagnostic.het_breuschpagan(result.resid, result.model.exog)\n",
    "bp\n",
    "\n"
   ]
  },
  {
   "cell_type": "code",
   "execution_count": 65,
   "id": "46108bf3",
   "metadata": {},
   "outputs": [
    {
     "data": {
      "text/html": [
       "<div>\n",
       "<style scoped>\n",
       "    .dataframe tbody tr th:only-of-type {\n",
       "        vertical-align: middle;\n",
       "    }\n",
       "\n",
       "    .dataframe tbody tr th {\n",
       "        vertical-align: top;\n",
       "    }\n",
       "\n",
       "    .dataframe thead th {\n",
       "        text-align: right;\n",
       "    }\n",
       "</style>\n",
       "<table border=\"1\" class=\"dataframe\">\n",
       "  <thead>\n",
       "    <tr style=\"text-align: right;\">\n",
       "      <th></th>\n",
       "      <th>0</th>\n",
       "    </tr>\n",
       "  </thead>\n",
       "  <tbody>\n",
       "    <tr>\n",
       "      <th>5.512534e+01</th>\n",
       "      <td>Lagrange multiplier statistic</td>\n",
       "    </tr>\n",
       "    <tr>\n",
       "      <th>3.841332e-07</th>\n",
       "      <td>p-value</td>\n",
       "    </tr>\n",
       "    <tr>\n",
       "      <th>4.778854e+00</th>\n",
       "      <td>f-value</td>\n",
       "    </tr>\n",
       "    <tr>\n",
       "      <th>1.090484e-07</th>\n",
       "      <td>f p-value</td>\n",
       "    </tr>\n",
       "  </tbody>\n",
       "</table>\n",
       "</div>"
      ],
      "text/plain": [
       "                                          0\n",
       "5.512534e+01  Lagrange multiplier statistic\n",
       "3.841332e-07                        p-value\n",
       "4.778854e+00                        f-value\n",
       "1.090484e-07                      f p-value"
      ]
     },
     "execution_count": 65,
     "metadata": {},
     "output_type": "execute_result"
    }
   ],
   "source": [
    "pd.DataFrame(name, bp)\n"
   ]
  },
  {
   "cell_type": "markdown",
   "id": "261c62c4",
   "metadata": {},
   "source": [
    "##### Since our p-value is less than 0.05, this indicates that heteroscedasticity is present, and we cannot accept the null hypothesis of homoscedasticity."
   ]
  },
  {
   "cell_type": "code",
   "execution_count": 68,
   "id": "bbd050e1",
   "metadata": {},
   "outputs": [],
   "source": [
    "from statsmodels.stats.outliers_influence import variance_inflation_factor\n",
    "def cal_vif(x):\n",
    "    threshhold=5.0\n",
    "    output_df=pd.DataFrame()\n",
    "    output_coll=[]\n",
    "    k=x.shape[1]\n",
    "    \n",
    "    vif=[variance_inflation_factor(x.values,j) for j in range(x.shape[1])]\n",
    "    for i in range(1,k):\n",
    "        print(vif)\n",
    "        a=np.argmax(vif)\n",
    "        \n",
    "        print(\"iteration no. -->\",i)\n",
    "        if vif[a]<= threshhold:\n",
    "            break\n",
    "        \n",
    "        if i==1:\n",
    "            output_df=x.drop(x.columns[a],axis=1)\n",
    "            vif=[variance_inflation_factor(output_df.values,j) for j in range(output_df.shape[1])]\n",
    "            print(x.columns[a])\n",
    "            output_coll.append(x.columns[a])\n",
    "        elif i > 1 :\n",
    "            print(a)\n",
    "            output_df.drop(output_df.columns[a], axis = 1, inplace = True)\n",
    "            vif = [variance_inflation_factor(output_df.values, j) for j in range(output_df.shape[1])]\n",
    "            print(output_df.columns[a])\n",
    "            \n",
    "            output_coll.append(output_df.columns[a])\n",
    "        \n",
    "    return output_coll,output_df"
   ]
  },
  {
   "cell_type": "code",
   "execution_count": 69,
   "id": "2f3cf651",
   "metadata": {},
   "outputs": [
    {
     "name": "stdout",
     "output_type": "stream",
     "text": [
      "[561.3162460726304, 1.7429479391076448, 2.416495621525559, 3.778051033593372, 1.09476951244893, 4.542009007965208, 1.951333077353406, 2.9813842424854133, 4.079698040744896, 7.4515892149344385, 8.588920951678675, 1.8729816879642858, 1.2639614666519208, 2.75693141156054]\n",
      "iteration no. --> 1\n",
      "const\n",
      "[2.0402327894507675, 3.0182881340561014, 13.46254179825434, 1.1853936138363328, 74.45671170881401, 78.47811493203054, 21.52972958806837, 14.874151168069305, 14.831857970511265, 59.05527343488573, 79.26512667559021, 20.821298462630228, 10.432201533275906]\n",
      "iteration no. --> 2\n",
      "10\n",
      "proportion_blacks\n",
      "[2.040215702368692, 2.604090029322499, 13.26690640680197, 1.1760872632968726, 74.13048832533646, 61.87925991846811, 21.395698698008157, 12.430604088606934, 14.817344433960864, 56.70343170624233, 19.297159392872622, 9.491506356409669]\n",
      "iteration no. --> 3\n",
      "4\n",
      "avg_rooms\n",
      "[2.0351699553682767, 2.6036971787390746, 12.051072102488746, 1.165106237330585, 43.39089402426176, 19.98923532527593, 12.159893751627838, 14.771738994244973, 54.53232394816922, 19.104985287134266, 8.378649023886918]\n",
      "iteration no. --> 4\n",
      "8\n",
      "proportion_blacks\n",
      "[2.0350758249258227, 2.4867776514733886, 8.905571390754172, 1.1504788027222892, 40.17420872957976, 19.949359401176917, 12.095805859457137, 4.807680174169493, 19.000634762104223, 8.198004536454647]\n",
      "iteration no. --> 5\n",
      "4\n",
      "proportion_units\n",
      "[2.0344668141080877, 2.453647598582125, 8.701386839240552, 1.1473200357106992, 13.552812987520843, 8.632608930587788, 4.571958373814513, 14.246032496183133, 7.5100152678230945]\n",
      "iteration no. --> 6\n",
      "7\n",
      "lower_status\n",
      "[2.031725118273912, 2.4529105125172013, 8.536648880274145, 1.1394157010069395, 9.807513869112384, 4.53346249492067, 4.515983482265374, 7.482257392548994]\n",
      "iteration no. --> 7\n",
      "4\n",
      "distance\n",
      "[2.030359346018557, 2.3978672134236234, 6.619536605061081, 1.1141526104568251, 4.022598898754692, 4.4989381923632985, 6.2992284377505925]\n",
      "iteration no. --> 8\n",
      "2\n",
      "river\"\n",
      "[2.019049627876142, 2.322489552621014, 1.071026300460477, 3.990654579313208, 3.719844935681161, 3.8932648604427578]\n",
      "iteration no. --> 9\n"
     ]
    }
   ],
   "source": [
    "train_out, dropped_columns = cal_vif(X_train)"
   ]
  },
  {
   "cell_type": "code",
   "execution_count": 70,
   "id": "88c1d2ca",
   "metadata": {},
   "outputs": [
    {
     "data": {
      "text/plain": [
       "['const',\n",
       " 'proportion_blacks',\n",
       " 'avg_rooms',\n",
       " 'proportion_blacks',\n",
       " 'proportion_units',\n",
       " 'lower_status',\n",
       " 'distance',\n",
       " 'river\"']"
      ]
     },
     "execution_count": 70,
     "metadata": {},
     "output_type": "execute_result"
    }
   ],
   "source": [
    "train_out"
   ]
  },
  {
   "cell_type": "code",
   "execution_count": null,
   "id": "8be215ac",
   "metadata": {},
   "outputs": [],
   "source": []
  }
 ],
 "metadata": {
  "kernelspec": {
   "display_name": "Python 3 (ipykernel)",
   "language": "python",
   "name": "python3"
  },
  "language_info": {
   "codemirror_mode": {
    "name": "ipython",
    "version": 3
   },
   "file_extension": ".py",
   "mimetype": "text/x-python",
   "name": "python",
   "nbconvert_exporter": "python",
   "pygments_lexer": "ipython3",
   "version": "3.9.7"
  }
 },
 "nbformat": 4,
 "nbformat_minor": 5
}

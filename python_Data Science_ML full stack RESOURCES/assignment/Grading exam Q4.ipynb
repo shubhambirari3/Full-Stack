{
 "cells": [
  {
   "cell_type": "markdown",
   "id": "5c3ee1c4",
   "metadata": {},
   "source": [
    "#### Shubham Birari ML16"
   ]
  },
  {
   "cell_type": "code",
   "execution_count": 24,
   "id": "3fbfd5e1",
   "metadata": {},
   "outputs": [],
   "source": [
    "import pandas as pd\n",
    "import numpy as np"
   ]
  },
  {
   "cell_type": "markdown",
   "id": "63eaff8a",
   "metadata": {},
   "source": [
    "#### Predict the house price for boston data , Perform scaling , cleaning\n"
   ]
  },
  {
   "cell_type": "code",
   "execution_count": 25,
   "id": "4b063f14",
   "metadata": {},
   "outputs": [],
   "source": [
    "db  = pd.read_csv(r\"C:\\Users\\shubh\\symbiosis ml16\\datasets\\boston.csv\")"
   ]
  },
  {
   "cell_type": "code",
   "execution_count": 26,
   "id": "5381a519",
   "metadata": {},
   "outputs": [
    {
     "data": {
      "text/html": [
       "<div>\n",
       "<style scoped>\n",
       "    .dataframe tbody tr th:only-of-type {\n",
       "        vertical-align: middle;\n",
       "    }\n",
       "\n",
       "    .dataframe tbody tr th {\n",
       "        vertical-align: top;\n",
       "    }\n",
       "\n",
       "    .dataframe thead th {\n",
       "        text-align: right;\n",
       "    }\n",
       "</style>\n",
       "<table border=\"1\" class=\"dataframe\">\n",
       "  <thead>\n",
       "    <tr style=\"text-align: right;\">\n",
       "      <th></th>\n",
       "      <th>crime_rate</th>\n",
       "      <th>proportion_res_land</th>\n",
       "      <th>proportion_business</th>\n",
       "      <th>river\"</th>\n",
       "      <th>NO</th>\n",
       "      <th>avg_rooms</th>\n",
       "      <th>proportion_units</th>\n",
       "      <th>distance</th>\n",
       "      <th>accessibility</th>\n",
       "      <th>property_tax</th>\n",
       "      <th>pupil_teacher_ratio</th>\n",
       "      <th>proportion_blacks</th>\n",
       "      <th>lower_status</th>\n",
       "      <th>value</th>\n",
       "    </tr>\n",
       "  </thead>\n",
       "  <tbody>\n",
       "    <tr>\n",
       "      <th>0</th>\n",
       "      <td>0.00632</td>\n",
       "      <td>18.0</td>\n",
       "      <td>2.31</td>\n",
       "      <td>0</td>\n",
       "      <td>0.538</td>\n",
       "      <td>6.575</td>\n",
       "      <td>65.2</td>\n",
       "      <td>4.0900</td>\n",
       "      <td>1</td>\n",
       "      <td>296.0</td>\n",
       "      <td>15.3</td>\n",
       "      <td>396.90</td>\n",
       "      <td>4.98</td>\n",
       "      <td>24.0</td>\n",
       "    </tr>\n",
       "    <tr>\n",
       "      <th>1</th>\n",
       "      <td>0.02731</td>\n",
       "      <td>0.0</td>\n",
       "      <td>7.07</td>\n",
       "      <td>0</td>\n",
       "      <td>0.469</td>\n",
       "      <td>6.421</td>\n",
       "      <td>78.9</td>\n",
       "      <td>4.9671</td>\n",
       "      <td>2</td>\n",
       "      <td>242.0</td>\n",
       "      <td>17.8</td>\n",
       "      <td>396.90</td>\n",
       "      <td>9.14</td>\n",
       "      <td>21.6</td>\n",
       "    </tr>\n",
       "    <tr>\n",
       "      <th>2</th>\n",
       "      <td>0.02729</td>\n",
       "      <td>0.0</td>\n",
       "      <td>7.07</td>\n",
       "      <td>0</td>\n",
       "      <td>0.469</td>\n",
       "      <td>7.185</td>\n",
       "      <td>61.1</td>\n",
       "      <td>4.9671</td>\n",
       "      <td>2</td>\n",
       "      <td>242.0</td>\n",
       "      <td>17.8</td>\n",
       "      <td>392.83</td>\n",
       "      <td>4.03</td>\n",
       "      <td>34.7</td>\n",
       "    </tr>\n",
       "    <tr>\n",
       "      <th>3</th>\n",
       "      <td>0.03237</td>\n",
       "      <td>0.0</td>\n",
       "      <td>2.18</td>\n",
       "      <td>0</td>\n",
       "      <td>0.458</td>\n",
       "      <td>6.998</td>\n",
       "      <td>45.8</td>\n",
       "      <td>6.0622</td>\n",
       "      <td>3</td>\n",
       "      <td>222.0</td>\n",
       "      <td>18.7</td>\n",
       "      <td>394.63</td>\n",
       "      <td>2.94</td>\n",
       "      <td>33.4</td>\n",
       "    </tr>\n",
       "    <tr>\n",
       "      <th>4</th>\n",
       "      <td>0.06905</td>\n",
       "      <td>0.0</td>\n",
       "      <td>2.18</td>\n",
       "      <td>0</td>\n",
       "      <td>0.458</td>\n",
       "      <td>7.147</td>\n",
       "      <td>54.2</td>\n",
       "      <td>6.0622</td>\n",
       "      <td>3</td>\n",
       "      <td>222.0</td>\n",
       "      <td>18.7</td>\n",
       "      <td>396.90</td>\n",
       "      <td>5.33</td>\n",
       "      <td>36.2</td>\n",
       "    </tr>\n",
       "  </tbody>\n",
       "</table>\n",
       "</div>"
      ],
      "text/plain": [
       "   crime_rate  proportion_res_land  proportion_business  river\"     NO  \\\n",
       "0     0.00632                 18.0                 2.31       0  0.538   \n",
       "1     0.02731                  0.0                 7.07       0  0.469   \n",
       "2     0.02729                  0.0                 7.07       0  0.469   \n",
       "3     0.03237                  0.0                 2.18       0  0.458   \n",
       "4     0.06905                  0.0                 2.18       0  0.458   \n",
       "\n",
       "   avg_rooms  proportion_units  distance  accessibility  property_tax  \\\n",
       "0      6.575              65.2    4.0900              1         296.0   \n",
       "1      6.421              78.9    4.9671              2         242.0   \n",
       "2      7.185              61.1    4.9671              2         242.0   \n",
       "3      6.998              45.8    6.0622              3         222.0   \n",
       "4      7.147              54.2    6.0622              3         222.0   \n",
       "\n",
       "   pupil_teacher_ratio  proportion_blacks  lower_status  value  \n",
       "0                 15.3             396.90          4.98   24.0  \n",
       "1                 17.8             396.90          9.14   21.6  \n",
       "2                 17.8             392.83          4.03   34.7  \n",
       "3                 18.7             394.63          2.94   33.4  \n",
       "4                 18.7             396.90          5.33   36.2  "
      ]
     },
     "execution_count": 26,
     "metadata": {},
     "output_type": "execute_result"
    }
   ],
   "source": [
    "db.head()"
   ]
  },
  {
   "cell_type": "code",
   "execution_count": 27,
   "id": "2595fbab",
   "metadata": {},
   "outputs": [
    {
     "data": {
      "text/plain": [
       "crime_rate             0\n",
       "proportion_res_land    0\n",
       "proportion_business    0\n",
       "river\"                 0\n",
       "NO                     0\n",
       "avg_rooms              0\n",
       "proportion_units       0\n",
       "distance               0\n",
       "accessibility          0\n",
       "property_tax           0\n",
       "pupil_teacher_ratio    0\n",
       "proportion_blacks      0\n",
       "lower_status           0\n",
       "value                  0\n",
       "dtype: int64"
      ]
     },
     "execution_count": 27,
     "metadata": {},
     "output_type": "execute_result"
    }
   ],
   "source": [
    "db.isnull().sum()"
   ]
  },
  {
   "cell_type": "code",
   "execution_count": 28,
   "id": "39a63bb8",
   "metadata": {},
   "outputs": [
    {
     "data": {
      "text/plain": [
       "crime_rate             float64\n",
       "proportion_res_land    float64\n",
       "proportion_business    float64\n",
       "river\"                   int64\n",
       "NO                     float64\n",
       "avg_rooms              float64\n",
       "proportion_units       float64\n",
       "distance               float64\n",
       "accessibility            int64\n",
       "property_tax           float64\n",
       "pupil_teacher_ratio    float64\n",
       "proportion_blacks      float64\n",
       "lower_status           float64\n",
       "value                  float64\n",
       "dtype: object"
      ]
     },
     "execution_count": 28,
     "metadata": {},
     "output_type": "execute_result"
    }
   ],
   "source": [
    "db.dtypes"
   ]
  },
  {
   "cell_type": "code",
   "execution_count": 29,
   "id": "9b26d423",
   "metadata": {},
   "outputs": [],
   "source": [
    "from sklearn.preprocessing import StandardScaler\n",
    "std=StandardScaler()"
   ]
  },
  {
   "cell_type": "code",
   "execution_count": 30,
   "id": "bb0f54fc",
   "metadata": {},
   "outputs": [],
   "source": [
    "x=db.drop(\"value\",axis=1)\n",
    "y=db[\"value\"]"
   ]
  },
  {
   "cell_type": "code",
   "execution_count": 31,
   "id": "da4d51a5",
   "metadata": {},
   "outputs": [
    {
     "data": {
      "text/plain": [
       "array([[-0.41978194,  0.28482986, -1.2879095 , ..., -1.45900038,\n",
       "         0.44105193, -1.0755623 ],\n",
       "       [-0.41733926, -0.48772236, -0.59338101, ..., -0.30309415,\n",
       "         0.44105193, -0.49243937],\n",
       "       [-0.41734159, -0.48772236, -0.59338101, ..., -0.30309415,\n",
       "         0.39642699, -1.2087274 ],\n",
       "       ...,\n",
       "       [-0.41344658, -0.48772236,  0.11573841, ...,  1.17646583,\n",
       "         0.44105193, -0.98304761],\n",
       "       [-0.40776407, -0.48772236,  0.11573841, ...,  1.17646583,\n",
       "         0.4032249 , -0.86530163],\n",
       "       [-0.41500016, -0.48772236,  0.11573841, ...,  1.17646583,\n",
       "         0.44105193, -0.66905833]])"
      ]
     },
     "execution_count": 31,
     "metadata": {},
     "output_type": "execute_result"
    }
   ],
   "source": [
    "X_val=std.fit_transform(x)\n",
    "X_val"
   ]
  },
  {
   "cell_type": "code",
   "execution_count": 32,
   "id": "9a24299d",
   "metadata": {},
   "outputs": [],
   "source": [
    "from sklearn.model_selection import train_test_split\n",
    "X_train , X_test , y_train , y_test  = train_test_split(x,y , test_size=0.2 , random_state=42)"
   ]
  },
  {
   "cell_type": "code",
   "execution_count": 33,
   "id": "0fb1d4cf",
   "metadata": {},
   "outputs": [
    {
     "name": "stdout",
     "output_type": "stream",
     "text": [
      "(404, 13)\n",
      "(102, 13)\n",
      "(404,)\n",
      "(102,)\n"
     ]
    }
   ],
   "source": [
    "print(X_train.shape)\n",
    "print(X_test.shape)\n",
    "print(y_train.shape)\n",
    "print(y_test.shape)"
   ]
  },
  {
   "cell_type": "code",
   "execution_count": 39,
   "id": "755eb19f",
   "metadata": {},
   "outputs": [
    {
     "data": {
      "text/plain": [
       "LinearRegression()"
      ]
     },
     "execution_count": 39,
     "metadata": {},
     "output_type": "execute_result"
    }
   ],
   "source": [
    "from sklearn.linear_model import LinearRegression\n",
    "linreg = LinearRegression()\n",
    "linreg.fit(X_train , y_train)"
   ]
  }
 ],
 "metadata": {
  "kernelspec": {
   "display_name": "Python 3 (ipykernel)",
   "language": "python",
   "name": "python3"
  },
  "language_info": {
   "codemirror_mode": {
    "name": "ipython",
    "version": 3
   },
   "file_extension": ".py",
   "mimetype": "text/x-python",
   "name": "python",
   "nbconvert_exporter": "python",
   "pygments_lexer": "ipython3",
   "version": "3.9.7"
  }
 },
 "nbformat": 4,
 "nbformat_minor": 5
}

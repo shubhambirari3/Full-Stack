{
 "cells": [
  {
   "cell_type": "markdown",
   "id": "e4e74c65",
   "metadata": {},
   "source": [
    "### python basic assignment using exception handling "
   ]
  },
  {
   "cell_type": "code",
   "execution_count": 9,
   "id": "79fd9de3",
   "metadata": {},
   "outputs": [
    {
     "ename": "KeyboardInterrupt",
     "evalue": "Interrupted by user",
     "output_type": "error",
     "traceback": [
      "\u001b[1;31m---------------------------------------------------------------------------\u001b[0m",
      "\u001b[1;31mKeyboardInterrupt\u001b[0m                         Traceback (most recent call last)",
      "\u001b[1;32m~\\AppData\\Local\\Temp/ipykernel_8152/1546588821.py\u001b[0m in \u001b[0;36m<module>\u001b[1;34m\u001b[0m\n\u001b[0;32m     44\u001b[0m \u001b[1;33m\u001b[0m\u001b[0m\n\u001b[0;32m     45\u001b[0m \u001b[1;31m# Get user input\u001b[0m\u001b[1;33m\u001b[0m\u001b[1;33m\u001b[0m\u001b[0m\n\u001b[1;32m---> 46\u001b[1;33m \u001b[0mroll_number\u001b[0m \u001b[1;33m=\u001b[0m \u001b[0mint\u001b[0m\u001b[1;33m(\u001b[0m\u001b[0minput\u001b[0m\u001b[1;33m(\u001b[0m\u001b[1;34m\"Enter roll number: \"\u001b[0m\u001b[1;33m)\u001b[0m\u001b[1;33m)\u001b[0m\u001b[1;33m\u001b[0m\u001b[1;33m\u001b[0m\u001b[0m\n\u001b[0m\u001b[0;32m     47\u001b[0m \u001b[0msubject_names\u001b[0m \u001b[1;33m=\u001b[0m \u001b[0minput\u001b[0m\u001b[1;33m(\u001b[0m\u001b[1;34m\"Enter subject names (comma-separated): \"\u001b[0m\u001b[1;33m)\u001b[0m\u001b[1;33m.\u001b[0m\u001b[0msplit\u001b[0m\u001b[1;33m(\u001b[0m\u001b[1;34m\",\"\u001b[0m\u001b[1;33m)\u001b[0m\u001b[1;33m\u001b[0m\u001b[1;33m\u001b[0m\u001b[0m\n\u001b[0;32m     48\u001b[0m \u001b[0msubject_marks\u001b[0m \u001b[1;33m=\u001b[0m \u001b[1;33m[\u001b[0m\u001b[0mint\u001b[0m\u001b[1;33m(\u001b[0m\u001b[0mm\u001b[0m\u001b[1;33m)\u001b[0m \u001b[1;32mfor\u001b[0m \u001b[0mm\u001b[0m \u001b[1;32min\u001b[0m \u001b[0minput\u001b[0m\u001b[1;33m(\u001b[0m\u001b[1;34m\"Enter subject marks (comma-separated): \"\u001b[0m\u001b[1;33m)\u001b[0m\u001b[1;33m.\u001b[0m\u001b[0msplit\u001b[0m\u001b[1;33m(\u001b[0m\u001b[1;34m\",\"\u001b[0m\u001b[1;33m)\u001b[0m\u001b[1;33m]\u001b[0m\u001b[1;33m\u001b[0m\u001b[1;33m\u001b[0m\u001b[0m\n",
      "\u001b[1;32m~\\anaconda3\\lib\\site-packages\\ipykernel\\kernelbase.py\u001b[0m in \u001b[0;36mraw_input\u001b[1;34m(self, prompt)\u001b[0m\n\u001b[0;32m   1004\u001b[0m                 \u001b[1;34m\"raw_input was called, but this frontend does not support input requests.\"\u001b[0m\u001b[1;33m\u001b[0m\u001b[1;33m\u001b[0m\u001b[0m\n\u001b[0;32m   1005\u001b[0m             )\n\u001b[1;32m-> 1006\u001b[1;33m         return self._input_request(\n\u001b[0m\u001b[0;32m   1007\u001b[0m             \u001b[0mstr\u001b[0m\u001b[1;33m(\u001b[0m\u001b[0mprompt\u001b[0m\u001b[1;33m)\u001b[0m\u001b[1;33m,\u001b[0m\u001b[1;33m\u001b[0m\u001b[1;33m\u001b[0m\u001b[0m\n\u001b[0;32m   1008\u001b[0m             \u001b[0mself\u001b[0m\u001b[1;33m.\u001b[0m\u001b[0m_parent_ident\u001b[0m\u001b[1;33m[\u001b[0m\u001b[1;34m\"shell\"\u001b[0m\u001b[1;33m]\u001b[0m\u001b[1;33m,\u001b[0m\u001b[1;33m\u001b[0m\u001b[1;33m\u001b[0m\u001b[0m\n",
      "\u001b[1;32m~\\anaconda3\\lib\\site-packages\\ipykernel\\kernelbase.py\u001b[0m in \u001b[0;36m_input_request\u001b[1;34m(self, prompt, ident, parent, password)\u001b[0m\n\u001b[0;32m   1049\u001b[0m             \u001b[1;32mexcept\u001b[0m \u001b[0mKeyboardInterrupt\u001b[0m\u001b[1;33m:\u001b[0m\u001b[1;33m\u001b[0m\u001b[1;33m\u001b[0m\u001b[0m\n\u001b[0;32m   1050\u001b[0m                 \u001b[1;31m# re-raise KeyboardInterrupt, to truncate traceback\u001b[0m\u001b[1;33m\u001b[0m\u001b[1;33m\u001b[0m\u001b[0m\n\u001b[1;32m-> 1051\u001b[1;33m                 \u001b[1;32mraise\u001b[0m \u001b[0mKeyboardInterrupt\u001b[0m\u001b[1;33m(\u001b[0m\u001b[1;34m\"Interrupted by user\"\u001b[0m\u001b[1;33m)\u001b[0m \u001b[1;32mfrom\u001b[0m \u001b[1;32mNone\u001b[0m\u001b[1;33m\u001b[0m\u001b[1;33m\u001b[0m\u001b[0m\n\u001b[0m\u001b[0;32m   1052\u001b[0m             \u001b[1;32mexcept\u001b[0m \u001b[0mException\u001b[0m\u001b[1;33m:\u001b[0m\u001b[1;33m\u001b[0m\u001b[1;33m\u001b[0m\u001b[0m\n\u001b[0;32m   1053\u001b[0m                 \u001b[0mself\u001b[0m\u001b[1;33m.\u001b[0m\u001b[0mlog\u001b[0m\u001b[1;33m.\u001b[0m\u001b[0mwarning\u001b[0m\u001b[1;33m(\u001b[0m\u001b[1;34m\"Invalid Message:\"\u001b[0m\u001b[1;33m,\u001b[0m \u001b[0mexc_info\u001b[0m\u001b[1;33m=\u001b[0m\u001b[1;32mTrue\u001b[0m\u001b[1;33m)\u001b[0m\u001b[1;33m\u001b[0m\u001b[1;33m\u001b[0m\u001b[0m\n",
      "\u001b[1;31mKeyboardInterrupt\u001b[0m: Interrupted by user"
     ]
    }
   ],
   "source": [
    "class InvalidRollNumber(Exception):\n",
    "    pass\n",
    "\n",
    "class InvalidMarks(Exception):\n",
    "    pass\n",
    "\n",
    "def validate_roll_number(roll_number):\n",
    "    # Check if roll number is valid (e.g. it's an integer between 1 and 1000)\n",
    "    if not isinstance(roll_number, int) or roll_number < 1 or roll_number > 1000:\n",
    "        raise InvalidRollNumber(f\"Invalid roll number: {roll_number}\")\n",
    "\n",
    "def validate_marks(subject_marks, out_of_marks):\n",
    "    # Check if all subject marks are valid (e.g. they're integers between 0 and out_of_marks)\n",
    "    if not all(isinstance(m, int) and 0 <= m <= out_of_marks for m in subject_marks):\n",
    "        raise InvalidMarks(f\"Invalid subject marks: {subject_marks}\")\n",
    "\n",
    "def calculate_total_and_percentage(subject_marks, out_of_marks):\n",
    "    total_marks = sum(subject_marks)\n",
    "    total_out_of_marks = len(subject_marks) * out_of_marks\n",
    "    percentage = (total_marks / total_out_of_marks) * 100\n",
    "    return total_marks, total_out_of_marks, percentage\n",
    "\n",
    "def create_marks_dict(roll_number, subject_names, subject_marks, out_of_marks):\n",
    "    # Validate inputs\n",
    "    validate_roll_number(roll_number)\n",
    "    validate_marks(subject_marks, out_of_marks)\n",
    "\n",
    "    # Calculate total marks and percentage\n",
    "    total_marks, total_out_of_marks, percentage = calculate_total_and_percentage(subject_marks, out_of_marks)\n",
    "\n",
    "    # Create dictionary\n",
    "    marks_dict = {\n",
    "        \"roll_number\": roll_number,\n",
    "        \"subjects\": {}\n",
    "    }\n",
    "\n",
    "    for i, name in enumerate(subject_names):\n",
    "        marks_dict[\"subjects\"][i+1] = {name: f\"{subject_marks[i]}/{out_of_marks}\"}\n",
    "\n",
    "    marks_dict[\"subjects\"][\"total\"] = f\"{total_marks}/{total_out_of_marks}\"\n",
    "    marks_dict[\"subjects\"][\"percentage\"] = f\"{percentage:.2f}%\"\n",
    "\n",
    "    return marks_dict\n",
    "\n",
    "# Get user input\n",
    "roll_number = int(input(\"Enter roll number: \"))\n",
    "subject_names = input(\"Enter subject names (comma-separated): \").split(\",\")\n",
    "subject_marks = [int(m) for m in input(\"Enter subject marks (comma-separated): \").split(\",\")]\n",
    "out_of_marks = int(input(\"Enter out of marks: \"))\n",
    "\n",
    "# Create marks dictionary\n",
    "marks_dict = create_marks_dict(roll_number, subject_names, subject_marks, out_of_marks)\n",
    "\n",
    "# Print marks dictionary\n",
    "print(marks_dict)"
   ]
  },
  {
   "cell_type": "markdown",
   "id": "567c93bb",
   "metadata": {},
   "source": [
    "### assignment 2 \"opps concept with MySQL\"\n"
   ]
  },
  {
   "cell_type": "code",
   "execution_count": 8,
   "id": "edc672fe",
   "metadata": {},
   "outputs": [],
   "source": [
    "import mysql.connector as conn\n",
    "mydb = conn.connect(\n",
    "        host=\"localhost\",\n",
    "        user=\"root\",\n",
    "        passwd=\"shubham098\"\n",
    "    )\n",
    "cursor = mydb.cursor()\n",
    "\n"
   ]
  },
  {
   "cell_type": "code",
   "execution_count": 4,
   "id": "6b599bb5",
   "metadata": {},
   "outputs": [
    {
     "name": "stdout",
     "output_type": "stream",
     "text": [
      "Enter roll number: 999\n",
      "Enter subject names (comma-separated): hist,jio,eco\n",
      "Enter subject marks (comma-separated): 32,43,34\n",
      "Enter out of marks: 50\n"
     ]
    }
   ],
   "source": [
    "import mysql.connector as conn\n",
    "\n",
    "class InvalidRollNumber(Exception):\n",
    "    pass\n",
    "\n",
    "class InvalidMarks(Exception):\n",
    "    pass\n",
    "\n",
    "def add_subject_marks(roll_number, subject_names, subject_marks, out_of_marks):\n",
    "    # Connect to MySQL database\n",
    "    mydb = conn.connect(\n",
    "        host=\"localhost\",\n",
    "        user=\"root\",\n",
    "        passwd=\"shubham098\",\n",
    "        database=\"students\"\n",
    "    )\n",
    "\n",
    "    # Create table if it doesn't exist\n",
    "    cursor = mydb.cursor()\n",
    "    cursor.execute(\"CREATE TABLE IF NOT EXISTS student_marks (roll_number INT(10), subject_name VARCHAR(30), marks_obtained INT(10), out_of_marks INT(10))\")\n",
    "\n",
    "    # Validate inputs\n",
    "    validate_roll_number(roll_number)\n",
    "    validate_marks(subject_marks, out_of_marks)\n",
    "\n",
    "    # Calculate total marks and percentage\n",
    "    total_marks, total_out_of_marks, percentage = calculate_total_and_percentage(subject_marks, out_of_marks)\n",
    "\n",
    "    # Add student record to MySQL database\n",
    "    cursor = mydb.cursor()\n",
    "    sql = \"INSERT INTO student_marks (roll_number, subject_name, marks_obtained, out_of_marks) VALUES (%s, %s, %s, %s)\"\n",
    "    for i, name in enumerate(subject_names):\n",
    "        values = (roll_number, name, subject_marks[i], out_of_marks)\n",
    "        cursor.execute(sql, values)\n",
    "\n",
    "    # Add total marks and percentage to MySQL database\n",
    "    values = (roll_number, \"Total\", total_marks, total_out_of_marks)\n",
    "    cursor.execute(sql, values)\n",
    "    values = (roll_number, \"Percentage\", percentage, 100)\n",
    "    cursor.execute(sql, values)\n",
    "\n",
    "    # Commit changes and close connection\n",
    "    mydb.commit()\n",
    "    mydb.close()\n",
    "\n",
    "def validate_roll_number(roll_number):\n",
    "    # Check if roll number is valid (e.g. it's an integer between 1 and 1000)\n",
    "    if not isinstance(roll_number, int) or roll_number < 1 or roll_number > 1000:\n",
    "        raise InvalidRollNumber(f\"Invalid roll number: {roll_number}\")\n",
    "\n",
    "def validate_marks(subject_marks, out_of_marks):\n",
    "    # Check if all subject marks are valid (e.g. they're integers between 0 and out_of_marks)\n",
    "    if not all(isinstance(m, int) and 0 <= m <= out_of_marks for m in subject_marks):\n",
    "        raise InvalidMarks(f\"Invalid subject marks: {subject_marks}\")\n",
    "\n",
    "def calculate_total_and_percentage(subject_marks, out_of_marks):\n",
    "    total_marks = sum(subject_marks)\n",
    "    total_out_of_marks = len(subject_marks) * out_of_marks\n",
    "    percentage = (total_marks / total_out_of_marks) * 100\n",
    "    return total_marks, total_out_of_marks, percentage\n",
    "\n",
    "# Get user input\n",
    "roll_number = int(input(\"Enter roll number: \"))\n",
    "subject_names = input(\"Enter subject names (comma-separated): \").split(\",\")\n",
    "subject_marks = [int(m) for m in input(\"Enter subject marks (comma-separated): \").split(\",\")]\n",
    "out_of_marks = int(input(\"Enter out of marks: \"))\n",
    "\n",
    "# Add subject marks to database\n",
    "add_subject_marks(roll_number, subject_names, subject_marks, out_of_marks)\n"
   ]
  },
  {
   "cell_type": "code",
   "execution_count": 6,
   "id": "01779e40",
   "metadata": {},
   "outputs": [
    {
     "data": {
      "text/plain": [
       "[('student_marks',)]"
      ]
     },
     "execution_count": 6,
     "metadata": {},
     "output_type": "execute_result"
    }
   ],
   "source": [
    "cursor.execute(\"use students\")\n",
    "cursor.execute(\"show tables\")\n",
    "cursor.fetchall()"
   ]
  },
  {
   "cell_type": "code",
   "execution_count": 7,
   "id": "7086d59a",
   "metadata": {},
   "outputs": [
    {
     "data": {
      "text/plain": [
       "[(123, 'math', 21, 40),\n",
       " (123, 'sci', 33, 40),\n",
       " (123, 'eng', 22, 40),\n",
       " (123, 'Total', 76, 120),\n",
       " (123, 'Percentage', 63, 100),\n",
       " (232, 'asd', 12, 40),\n",
       " (232, 'ad', 23, 40),\n",
       " (232, 'asd', 31, 40),\n",
       " (232, 'Total', 66, 120),\n",
       " (232, 'Percentage', 55, 100),\n",
       " (999, 'hist', 32, 50),\n",
       " (999, 'jio', 43, 50),\n",
       " (999, 'eco', 34, 50),\n",
       " (999, 'Total', 109, 150),\n",
       " (999, 'Percentage', 73, 100)]"
      ]
     },
     "execution_count": 7,
     "metadata": {},
     "output_type": "execute_result"
    }
   ],
   "source": [
    "cursor.execute(\"select  * from students.student_marks\")\n",
    "cursor.fetchall()"
   ]
  },
  {
   "cell_type": "code",
   "execution_count": 1,
   "id": "145c316f",
   "metadata": {},
   "outputs": [
    {
     "ename": "SyntaxError",
     "evalue": "invalid syntax (Temp/ipykernel_6528/1671339508.py, line 2)",
     "output_type": "error",
     "traceback": [
      "\u001b[1;36m  File \u001b[1;32m\"C:\\Users\\shubh\\AppData\\Local\\Temp/ipykernel_6528/1671339508.py\"\u001b[1;36m, line \u001b[1;32m2\u001b[0m\n\u001b[1;33m    age 23 = print(\"%s is %s years old.\" % (name, age))\u001b[0m\n\u001b[1;37m        ^\u001b[0m\n\u001b[1;31mSyntaxError\u001b[0m\u001b[1;31m:\u001b[0m invalid syntax\n"
     ]
    }
   ],
   "source": [
    "name = \"John\"\n",
    "age 23 = print(\"%s is %s years old.\" % (name, age))"
   ]
  },
  {
   "cell_type": "code",
   "execution_count": 2,
   "id": "f3a2516d",
   "metadata": {},
   "outputs": [
    {
     "ename": "ValueError",
     "evalue": "All arrays must be of the same length",
     "output_type": "error",
     "traceback": [
      "\u001b[1;31m---------------------------------------------------------------------------\u001b[0m",
      "\u001b[1;31mValueError\u001b[0m                                Traceback (most recent call last)",
      "\u001b[1;32m~\\AppData\\Local\\Temp/ipykernel_6528/2963174693.py\u001b[0m in \u001b[0;36m<module>\u001b[1;34m\u001b[0m\n\u001b[0;32m      1\u001b[0m \u001b[1;32mimport\u001b[0m \u001b[0mpandas\u001b[0m \u001b[1;32mas\u001b[0m \u001b[0mpd\u001b[0m\u001b[1;33m\u001b[0m\u001b[1;33m\u001b[0m\u001b[0m\n\u001b[0;32m      2\u001b[0m \u001b[1;32mimport\u001b[0m \u001b[0mnumpy\u001b[0m \u001b[1;32mas\u001b[0m \u001b[0mnp\u001b[0m\u001b[1;33m\u001b[0m\u001b[1;33m\u001b[0m\u001b[0m\n\u001b[1;32m----> 3\u001b[1;33m df = pd.DataFrame({'col1':[1,2,3,4],\n\u001b[0m\u001b[0;32m      4\u001b[0m                    \u001b[1;34m'col2'\u001b[0m\u001b[1;33m:\u001b[0m\u001b[1;33m[\u001b[0m\u001b[1;36m444\u001b[0m\u001b[1;33m,\u001b[0m\u001b[1;36m666\u001b[0m\u001b[1;33m,\u001b[0m\u001b[1;36m444\u001b[0m\u001b[1;33m]\u001b[0m\u001b[1;33m,\u001b[0m\u001b[1;33m\u001b[0m\u001b[1;33m\u001b[0m\u001b[0m\n\u001b[0;32m      5\u001b[0m                    'col3': ['abcd', 'def', 'ghi', 'xyz']})\n",
      "\u001b[1;32m~\\anaconda3\\lib\\site-packages\\pandas\\core\\frame.py\u001b[0m in \u001b[0;36m__init__\u001b[1;34m(self, data, index, columns, dtype, copy)\u001b[0m\n\u001b[0;32m    612\u001b[0m         \u001b[1;32melif\u001b[0m \u001b[0misinstance\u001b[0m\u001b[1;33m(\u001b[0m\u001b[0mdata\u001b[0m\u001b[1;33m,\u001b[0m \u001b[0mdict\u001b[0m\u001b[1;33m)\u001b[0m\u001b[1;33m:\u001b[0m\u001b[1;33m\u001b[0m\u001b[1;33m\u001b[0m\u001b[0m\n\u001b[0;32m    613\u001b[0m             \u001b[1;31m# GH#38939 de facto copy defaults to False only in non-dict cases\u001b[0m\u001b[1;33m\u001b[0m\u001b[1;33m\u001b[0m\u001b[0m\n\u001b[1;32m--> 614\u001b[1;33m             \u001b[0mmgr\u001b[0m \u001b[1;33m=\u001b[0m \u001b[0mdict_to_mgr\u001b[0m\u001b[1;33m(\u001b[0m\u001b[0mdata\u001b[0m\u001b[1;33m,\u001b[0m \u001b[0mindex\u001b[0m\u001b[1;33m,\u001b[0m \u001b[0mcolumns\u001b[0m\u001b[1;33m,\u001b[0m \u001b[0mdtype\u001b[0m\u001b[1;33m=\u001b[0m\u001b[0mdtype\u001b[0m\u001b[1;33m,\u001b[0m \u001b[0mcopy\u001b[0m\u001b[1;33m=\u001b[0m\u001b[0mcopy\u001b[0m\u001b[1;33m,\u001b[0m \u001b[0mtyp\u001b[0m\u001b[1;33m=\u001b[0m\u001b[0mmanager\u001b[0m\u001b[1;33m)\u001b[0m\u001b[1;33m\u001b[0m\u001b[1;33m\u001b[0m\u001b[0m\n\u001b[0m\u001b[0;32m    615\u001b[0m         \u001b[1;32melif\u001b[0m \u001b[0misinstance\u001b[0m\u001b[1;33m(\u001b[0m\u001b[0mdata\u001b[0m\u001b[1;33m,\u001b[0m \u001b[0mma\u001b[0m\u001b[1;33m.\u001b[0m\u001b[0mMaskedArray\u001b[0m\u001b[1;33m)\u001b[0m\u001b[1;33m:\u001b[0m\u001b[1;33m\u001b[0m\u001b[1;33m\u001b[0m\u001b[0m\n\u001b[0;32m    616\u001b[0m             \u001b[1;32mimport\u001b[0m \u001b[0mnumpy\u001b[0m\u001b[1;33m.\u001b[0m\u001b[0mma\u001b[0m\u001b[1;33m.\u001b[0m\u001b[0mmrecords\u001b[0m \u001b[1;32mas\u001b[0m \u001b[0mmrecords\u001b[0m\u001b[1;33m\u001b[0m\u001b[1;33m\u001b[0m\u001b[0m\n",
      "\u001b[1;32m~\\anaconda3\\lib\\site-packages\\pandas\\core\\internals\\construction.py\u001b[0m in \u001b[0;36mdict_to_mgr\u001b[1;34m(data, index, columns, dtype, typ, copy)\u001b[0m\n\u001b[0;32m    462\u001b[0m         \u001b[1;31m# TODO: can we get rid of the dt64tz special case above?\u001b[0m\u001b[1;33m\u001b[0m\u001b[1;33m\u001b[0m\u001b[0m\n\u001b[0;32m    463\u001b[0m \u001b[1;33m\u001b[0m\u001b[0m\n\u001b[1;32m--> 464\u001b[1;33m     return arrays_to_mgr(\n\u001b[0m\u001b[0;32m    465\u001b[0m         \u001b[0marrays\u001b[0m\u001b[1;33m,\u001b[0m \u001b[0mdata_names\u001b[0m\u001b[1;33m,\u001b[0m \u001b[0mindex\u001b[0m\u001b[1;33m,\u001b[0m \u001b[0mcolumns\u001b[0m\u001b[1;33m,\u001b[0m \u001b[0mdtype\u001b[0m\u001b[1;33m=\u001b[0m\u001b[0mdtype\u001b[0m\u001b[1;33m,\u001b[0m \u001b[0mtyp\u001b[0m\u001b[1;33m=\u001b[0m\u001b[0mtyp\u001b[0m\u001b[1;33m,\u001b[0m \u001b[0mconsolidate\u001b[0m\u001b[1;33m=\u001b[0m\u001b[0mcopy\u001b[0m\u001b[1;33m\u001b[0m\u001b[1;33m\u001b[0m\u001b[0m\n\u001b[0;32m    466\u001b[0m     )\n",
      "\u001b[1;32m~\\anaconda3\\lib\\site-packages\\pandas\\core\\internals\\construction.py\u001b[0m in \u001b[0;36marrays_to_mgr\u001b[1;34m(arrays, arr_names, index, columns, dtype, verify_integrity, typ, consolidate)\u001b[0m\n\u001b[0;32m    117\u001b[0m         \u001b[1;31m# figure out the index, if necessary\u001b[0m\u001b[1;33m\u001b[0m\u001b[1;33m\u001b[0m\u001b[0m\n\u001b[0;32m    118\u001b[0m         \u001b[1;32mif\u001b[0m \u001b[0mindex\u001b[0m \u001b[1;32mis\u001b[0m \u001b[1;32mNone\u001b[0m\u001b[1;33m:\u001b[0m\u001b[1;33m\u001b[0m\u001b[1;33m\u001b[0m\u001b[0m\n\u001b[1;32m--> 119\u001b[1;33m             \u001b[0mindex\u001b[0m \u001b[1;33m=\u001b[0m \u001b[0m_extract_index\u001b[0m\u001b[1;33m(\u001b[0m\u001b[0marrays\u001b[0m\u001b[1;33m)\u001b[0m\u001b[1;33m\u001b[0m\u001b[1;33m\u001b[0m\u001b[0m\n\u001b[0m\u001b[0;32m    120\u001b[0m         \u001b[1;32melse\u001b[0m\u001b[1;33m:\u001b[0m\u001b[1;33m\u001b[0m\u001b[1;33m\u001b[0m\u001b[0m\n\u001b[0;32m    121\u001b[0m             \u001b[0mindex\u001b[0m \u001b[1;33m=\u001b[0m \u001b[0mensure_index\u001b[0m\u001b[1;33m(\u001b[0m\u001b[0mindex\u001b[0m\u001b[1;33m)\u001b[0m\u001b[1;33m\u001b[0m\u001b[1;33m\u001b[0m\u001b[0m\n",
      "\u001b[1;32m~\\anaconda3\\lib\\site-packages\\pandas\\core\\internals\\construction.py\u001b[0m in \u001b[0;36m_extract_index\u001b[1;34m(data)\u001b[0m\n\u001b[0;32m    633\u001b[0m             \u001b[0mlengths\u001b[0m \u001b[1;33m=\u001b[0m \u001b[0mlist\u001b[0m\u001b[1;33m(\u001b[0m\u001b[0mset\u001b[0m\u001b[1;33m(\u001b[0m\u001b[0mraw_lengths\u001b[0m\u001b[1;33m)\u001b[0m\u001b[1;33m)\u001b[0m\u001b[1;33m\u001b[0m\u001b[1;33m\u001b[0m\u001b[0m\n\u001b[0;32m    634\u001b[0m             \u001b[1;32mif\u001b[0m \u001b[0mlen\u001b[0m\u001b[1;33m(\u001b[0m\u001b[0mlengths\u001b[0m\u001b[1;33m)\u001b[0m \u001b[1;33m>\u001b[0m \u001b[1;36m1\u001b[0m\u001b[1;33m:\u001b[0m\u001b[1;33m\u001b[0m\u001b[1;33m\u001b[0m\u001b[0m\n\u001b[1;32m--> 635\u001b[1;33m                 \u001b[1;32mraise\u001b[0m \u001b[0mValueError\u001b[0m\u001b[1;33m(\u001b[0m\u001b[1;34m\"All arrays must be of the same length\"\u001b[0m\u001b[1;33m)\u001b[0m\u001b[1;33m\u001b[0m\u001b[1;33m\u001b[0m\u001b[0m\n\u001b[0m\u001b[0;32m    636\u001b[0m \u001b[1;33m\u001b[0m\u001b[0m\n\u001b[0;32m    637\u001b[0m             \u001b[1;32mif\u001b[0m \u001b[0mhave_dicts\u001b[0m\u001b[1;33m:\u001b[0m\u001b[1;33m\u001b[0m\u001b[1;33m\u001b[0m\u001b[0m\n",
      "\u001b[1;31mValueError\u001b[0m: All arrays must be of the same length"
     ]
    }
   ],
   "source": [
    "import pandas as pd\n",
    "import numpy as np\n",
    "df = pd.DataFrame({'col1':[1,2,3,4],\n",
    "                   'col2':[444,666,444],\n",
    "                   'col3': ['abcd', 'def', 'ghi', 'xyz']})\n",
    "df.head()"
   ]
  },
  {
   "cell_type": "code",
   "execution_count": 3,
   "id": "95c0a7aa",
   "metadata": {},
   "outputs": [
    {
     "ename": "SyntaxError",
     "evalue": "invalid syntax (Temp/ipykernel_6528/2834813364.py, line 2)",
     "output_type": "error",
     "traceback": [
      "\u001b[1;36m  File \u001b[1;32m\"C:\\Users\\shubh\\AppData\\Local\\Temp/ipykernel_6528/2834813364.py\"\u001b[1;36m, line \u001b[1;32m2\u001b[0m\n\u001b[1;33m    age = 23 print(\"%s is %s years old.\" % (name, age))\u001b[0m\n\u001b[1;37m             ^\u001b[0m\n\u001b[1;31mSyntaxError\u001b[0m\u001b[1;31m:\u001b[0m invalid syntax\n"
     ]
    }
   ],
   "source": [
    "name = \"John\"\n",
    "age = 23 print(\"%s is %s years old.\" % (name, age))"
   ]
  },
  {
   "cell_type": "code",
   "execution_count": null,
   "id": "420977ef",
   "metadata": {},
   "outputs": [],
   "source": []
  }
 ],
 "metadata": {
  "kernelspec": {
   "display_name": "Python 3 (ipykernel)",
   "language": "python",
   "name": "python3"
  },
  "language_info": {
   "codemirror_mode": {
    "name": "ipython",
    "version": 3
   },
   "file_extension": ".py",
   "mimetype": "text/x-python",
   "name": "python",
   "nbconvert_exporter": "python",
   "pygments_lexer": "ipython3",
   "version": "3.9.7"
  }
 },
 "nbformat": 4,
 "nbformat_minor": 5
}

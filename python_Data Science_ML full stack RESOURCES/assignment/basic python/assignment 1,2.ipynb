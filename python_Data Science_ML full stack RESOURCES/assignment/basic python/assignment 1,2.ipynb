{
 "cells": [
  {
   "cell_type": "markdown",
   "id": "ef672ad6",
   "metadata": {},
   "source": [
    "### python basic assignment using exception handling "
   ]
  },
  {
   "cell_type": "code",
   "execution_count": null,
   "id": "22fbbb6d",
   "metadata": {},
   "outputs": [],
   "source": [
    "class InvalidRollNumber(Exception):\n",
    "    pass\n",
    "\n",
    "class InvalidMarks(Exception):\n",
    "    pass\n",
    "\n",
    "def validate_roll_number(roll_number):\n",
    "    # Check if roll number is valid (e.g. it's an integer between 1 and 1000)\n",
    "    if not isinstance(roll_number, int) or roll_number < 1 or roll_number > 1000:\n",
    "        raise InvalidRollNumber(f\"Invalid roll number: {roll_number}\")\n",
    "\n",
    "def validate_marks(subject_marks, out_of_marks):\n",
    "    # Check if all subject marks are valid (e.g. they're integers between 0 and out_of_marks)\n",
    "    if not all(isinstance(m, int) and 0 <= m <= out_of_marks for m in subject_marks):\n",
    "        raise InvalidMarks(f\"Invalid subject marks: {subject_marks}\")\n",
    "\n",
    "def calculate_total_and_percentage(subject_marks, out_of_marks):\n",
    "    total_marks = sum(subject_marks)\n",
    "    total_out_of_marks = len(subject_marks) * out_of_marks\n",
    "    percentage = (total_marks / total_out_of_marks) * 100\n",
    "    return total_marks, total_out_of_marks, percentage\n",
    "\n",
    "def create_marks_dict(roll_number, subject_names, subject_marks, out_of_marks):\n",
    "    # Validate inputs\n",
    "    validate_roll_number(roll_number)\n",
    "    validate_marks(subject_marks, out_of_marks)\n",
    "\n",
    "    # Calculate total marks and percentage\n",
    "    total_marks, total_out_of_marks, percentage = calculate_total_and_percentage(subject_marks, out_of_marks)\n",
    "\n",
    "    # Create dictionary\n",
    "    marks_dict = {\n",
    "        \"roll_number\": roll_number,\n",
    "        \"subjects\": {}\n",
    "    }\n",
    "\n",
    "    for i, name in enumerate(subject_names):\n",
    "        marks_dict[\"subjects\"][i+1] = {name: f\"{subject_marks[i]}/{out_of_marks}\"}\n",
    "\n",
    "    marks_dict[\"subjects\"][\"total\"] = f\"{total_marks}/{total_out_of_marks}\"\n",
    "    marks_dict[\"subjects\"][\"percentage\"] = f\"{percentage:.2f}%\"\n",
    "\n",
    "    return marks_dict\n",
    "\n",
    "# Get user input\n",
    "roll_number = int(input(\"Enter roll number: \"))\n",
    "subject_names = input(\"Enter subject names (comma-separated): \").split(\",\")\n",
    "subject_marks = [int(m) for m in input(\"Enter subject marks (comma-separated): \").split(\",\")]\n",
    "out_of_marks = int(input(\"Enter out of marks: \"))\n",
    "\n",
    "# Create marks dictionary\n",
    "marks_dict = create_marks_dict(roll_number, subject_names, subject_marks, out_of_marks)\n",
    "\n",
    "# Print marks dictionary\n",
    "print(marks_dict)"
   ]
  },
  {
   "cell_type": "markdown",
   "id": "b9c5f94e",
   "metadata": {},
   "source": [
    "### assignment 2 \"opps concept with MySQL\"\n"
   ]
  },
  {
   "cell_type": "code",
   "execution_count": 8,
   "id": "6fce6f23",
   "metadata": {},
   "outputs": [],
   "source": [
    "import mysql.connector as conn\n",
    "mydb = conn.connect(\n",
    "        host=\"localhost\",\n",
    "        user=\"root\",\n",
    "        passwd=\"shubham098\"\n",
    "    )\n",
    "cursor = mydb.cursor()\n",
    "\n"
   ]
  },
  {
   "cell_type": "code",
   "execution_count": 4,
   "id": "7afd98d9",
   "metadata": {},
   "outputs": [
    {
     "name": "stdout",
     "output_type": "stream",
     "text": [
      "Enter roll number: 999\n",
      "Enter subject names (comma-separated): hist,jio,eco\n",
      "Enter subject marks (comma-separated): 32,43,34\n",
      "Enter out of marks: 50\n"
     ]
    }
   ],
   "source": [
    "import mysql.connector as conn\n",
    "\n",
    "class InvalidRollNumber(Exception):\n",
    "    pass\n",
    "\n",
    "class InvalidMarks(Exception):\n",
    "    pass\n",
    "\n",
    "def add_subject_marks(roll_number, subject_names, subject_marks, out_of_marks):\n",
    "    # Connect to MySQL database\n",
    "    mydb = conn.connect(\n",
    "        host=\"localhost\",\n",
    "        user=\"root\",\n",
    "        passwd=\"shubham098\",\n",
    "        database=\"students\"\n",
    "    )\n",
    "\n",
    "    # Create table if it doesn't exist\n",
    "    cursor = mydb.cursor()\n",
    "    cursor.execute(\"CREATE TABLE IF NOT EXISTS student_marks (roll_number INT(10), subject_name VARCHAR(30), marks_obtained INT(10), out_of_marks INT(10))\")\n",
    "\n",
    "    # Validate inputs\n",
    "    validate_roll_number(roll_number)\n",
    "    validate_marks(subject_marks, out_of_marks)\n",
    "\n",
    "    # Calculate total marks and percentage\n",
    "    total_marks, total_out_of_marks, percentage = calculate_total_and_percentage(subject_marks, out_of_marks)\n",
    "\n",
    "    # Add student record to MySQL database\n",
    "    cursor = mydb.cursor()\n",
    "    sql = \"INSERT INTO student_marks (roll_number, subject_name, marks_obtained, out_of_marks) VALUES (%s, %s, %s, %s)\"\n",
    "    for i, name in enumerate(subject_names):\n",
    "        values = (roll_number, name, subject_marks[i], out_of_marks)\n",
    "        cursor.execute(sql, values)\n",
    "\n",
    "    # Add total marks and percentage to MySQL database\n",
    "    values = (roll_number, \"Total\", total_marks, total_out_of_marks)\n",
    "    cursor.execute(sql, values)\n",
    "    values = (roll_number, \"Percentage\", percentage, 100)\n",
    "    cursor.execute(sql, values)\n",
    "\n",
    "    # Commit changes and close connection\n",
    "    mydb.commit()\n",
    "    mydb.close()\n",
    "\n",
    "def validate_roll_number(roll_number):\n",
    "    # Check if roll number is valid (e.g. it's an integer between 1 and 1000)\n",
    "    if not isinstance(roll_number, int) or roll_number < 1 or roll_number > 1000:\n",
    "        raise InvalidRollNumber(f\"Invalid roll number: {roll_number}\")\n",
    "\n",
    "def validate_marks(subject_marks, out_of_marks):\n",
    "    # Check if all subject marks are valid (e.g. they're integers between 0 and out_of_marks)\n",
    "    if not all(isinstance(m, int) and 0 <= m <= out_of_marks for m in subject_marks):\n",
    "        raise InvalidMarks(f\"Invalid subject marks: {subject_marks}\")\n",
    "\n",
    "def calculate_total_and_percentage(subject_marks, out_of_marks):\n",
    "    total_marks = sum(subject_marks)\n",
    "    total_out_of_marks = len(subject_marks) * out_of_marks\n",
    "    percentage = (total_marks / total_out_of_marks) * 100\n",
    "    return total_marks, total_out_of_marks, percentage\n",
    "\n",
    "# Get user input\n",
    "roll_number = int(input(\"Enter roll number: \"))\n",
    "subject_names = input(\"Enter subject names (comma-separated): \").split(\",\")\n",
    "subject_marks = [int(m) for m in input(\"Enter subject marks (comma-separated): \").split(\",\")]\n",
    "out_of_marks = int(input(\"Enter out of marks: \"))\n",
    "\n",
    "# Add subject marks to database\n",
    "add_subject_marks(roll_number, subject_names, subject_marks, out_of_marks)\n"
   ]
  },
  {
   "cell_type": "code",
   "execution_count": 6,
   "id": "43fc1e2e",
   "metadata": {},
   "outputs": [
    {
     "data": {
      "text/plain": [
       "[('student_marks',)]"
      ]
     },
     "execution_count": 6,
     "metadata": {},
     "output_type": "execute_result"
    }
   ],
   "source": [
    "cursor.execute(\"use students\")\n",
    "cursor.execute(\"show tables\")\n",
    "cursor.fetchall()"
   ]
  },
  {
   "cell_type": "code",
   "execution_count": 7,
   "id": "942930c9",
   "metadata": {},
   "outputs": [
    {
     "data": {
      "text/plain": [
       "[(123, 'math', 21, 40),\n",
       " (123, 'sci', 33, 40),\n",
       " (123, 'eng', 22, 40),\n",
       " (123, 'Total', 76, 120),\n",
       " (123, 'Percentage', 63, 100),\n",
       " (232, 'asd', 12, 40),\n",
       " (232, 'ad', 23, 40),\n",
       " (232, 'asd', 31, 40),\n",
       " (232, 'Total', 66, 120),\n",
       " (232, 'Percentage', 55, 100),\n",
       " (999, 'hist', 32, 50),\n",
       " (999, 'jio', 43, 50),\n",
       " (999, 'eco', 34, 50),\n",
       " (999, 'Total', 109, 150),\n",
       " (999, 'Percentage', 73, 100)]"
      ]
     },
     "execution_count": 7,
     "metadata": {},
     "output_type": "execute_result"
    }
   ],
   "source": [
    "cursor.execute(\"select  * from students.student_marks\")\n",
    "cursor.fetchall()"
   ]
  },
  {
   "cell_type": "code",
   "execution_count": null,
   "id": "17547735",
   "metadata": {},
   "outputs": [],
   "source": []
  }
 ],
 "metadata": {
  "kernelspec": {
   "display_name": "Python 3 (ipykernel)",
   "language": "python",
   "name": "python3"
  },
  "language_info": {
   "codemirror_mode": {
    "name": "ipython",
    "version": 3
   },
   "file_extension": ".py",
   "mimetype": "text/x-python",
   "name": "python",
   "nbconvert_exporter": "python",
   "pygments_lexer": "ipython3",
   "version": "3.9.7"
  }
 },
 "nbformat": 4,
 "nbformat_minor": 5
}
